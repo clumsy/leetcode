{
 "cells": [
  {
   "cell_type": "markdown",
   "id": "d4f21336-b839-4834-8886-26503d362f10",
   "metadata": {},
   "source": [
    "[Problem 486](https://leetcode.com/problems/predict-the-winner/description)"
   ]
  },
  {
   "cell_type": "code",
   "execution_count": 2,
   "id": "2b5937e1-392d-444b-88a4-01eb43d933a4",
   "metadata": {},
   "outputs": [],
   "source": [
    "from typing import List"
   ]
  },
  {
   "cell_type": "code",
   "execution_count": 19,
   "id": "617c5bd4-014e-4058-b7c5-d61dec7f8297",
   "metadata": {},
   "outputs": [],
   "source": [
    "class Solution:\n",
    "    def PredictTheWinner(self, nums: List[int]) -> bool:\n",
    "        _, dp = (n := len(nums)), [0 for _ in range(n)]\n",
    "        for s in range(n - 1, -1, -1):\n",
    "            for e in range(s, n):\n",
    "                # dp[e] === dp[s + 1][e] - from previous iteration on s (s + 1)\n",
    "                # dp[e - 1] === dp[s][e - 1] - previous iteration on e (e - 1)\n",
    "                dp[e] = nums[s] if s == e else max(nums[s] - dp[e], nums[e] - dp[e - 1])\n",
    "        return dp[n - 1] >= 0"
   ]
  },
  {
   "cell_type": "code",
   "execution_count": 20,
   "id": "57ebc392-e276-4296-99a6-8d4a9736b598",
   "metadata": {},
   "outputs": [],
   "source": [
    "sol = Solution()"
   ]
  },
  {
   "cell_type": "code",
   "execution_count": 21,
   "id": "e3c2875a-17a1-4257-ad25-6ce513b5a7e4",
   "metadata": {},
   "outputs": [],
   "source": [
    "assert not sol.PredictTheWinner([1,5,2])"
   ]
  },
  {
   "cell_type": "code",
   "execution_count": 22,
   "id": "74f078d1-c615-4de1-bae5-060796301ec1",
   "metadata": {},
   "outputs": [],
   "source": [
    "assert sol.PredictTheWinner([1,5,233,7])"
   ]
  }
 ],
 "metadata": {
  "kernelspec": {
   "display_name": "Python 3 (ipykernel)",
   "language": "python",
   "name": "python3"
  },
  "language_info": {
   "codemirror_mode": {
    "name": "ipython",
    "version": 3
   },
   "file_extension": ".py",
   "mimetype": "text/x-python",
   "name": "python",
   "nbconvert_exporter": "python",
   "pygments_lexer": "ipython3",
   "version": "3.9.7"
  }
 },
 "nbformat": 4,
 "nbformat_minor": 5
}
