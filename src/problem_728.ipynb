{
 "cells": [
  {
   "cell_type": "markdown",
   "id": "cb67f522-4fcc-4385-a47b-45fd63da8c05",
   "metadata": {},
   "source": [
    "[Problem 728](https://leetcode.com/problems/self-dividing-numbers/description)"
   ]
  },
  {
   "cell_type": "code",
   "execution_count": 1,
   "id": "536bf123-d166-4fde-9d2e-616a6be9dc3f",
   "metadata": {},
   "outputs": [],
   "source": [
    "from typing import List"
   ]
  },
  {
   "cell_type": "code",
   "execution_count": 2,
   "id": "766227b8-3981-4066-97d6-3ebd696a5423",
   "metadata": {},
   "outputs": [],
   "source": [
    "class Solution:\n",
    "    def selfDividingNumbers(self, left: int, right: int) -> List[int]:\n",
    "        res = []\n",
    "        for i in range(left, right + 1):\n",
    "            ds = set(str(i))\n",
    "            if \"0\" not in ds and all(i % int(d) == 0 for d in ds):\n",
    "                res.append(i)\n",
    "        return res"
   ]
  },
  {
   "cell_type": "code",
   "execution_count": 3,
   "id": "7f153ecf-028a-4245-ba07-c29faaaec1cc",
   "metadata": {},
   "outputs": [],
   "source": [
    "sol = Solution()"
   ]
  },
  {
   "cell_type": "code",
   "execution_count": 4,
   "id": "a0603fd1-7142-406b-a986-dcaecfa235df",
   "metadata": {},
   "outputs": [],
   "source": [
    "assert sol.selfDividingNumbers(1, 22) == [1,2,3,4,5,6,7,8,9,11,12,15,22]"
   ]
  },
  {
   "cell_type": "code",
   "execution_count": 5,
   "id": "45dbda1a-cf90-4637-ad5e-2e7717d6c68d",
   "metadata": {},
   "outputs": [],
   "source": [
    "assert sol.selfDividingNumbers(47, 85) == [48,55,66,77]"
   ]
  }
 ],
 "metadata": {
  "kernelspec": {
   "display_name": "Python 3 (ipykernel)",
   "language": "python",
   "name": "python3"
  },
  "language_info": {
   "codemirror_mode": {
    "name": "ipython",
    "version": 3
   },
   "file_extension": ".py",
   "mimetype": "text/x-python",
   "name": "python",
   "nbconvert_exporter": "python",
   "pygments_lexer": "ipython3",
   "version": "3.9.7"
  }
 },
 "nbformat": 4,
 "nbformat_minor": 5
}
