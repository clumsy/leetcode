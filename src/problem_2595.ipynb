{
 "cells": [
  {
   "cell_type": "markdown",
   "id": "2a86274a-e9b1-46e4-b272-f60cf029cb76",
   "metadata": {},
   "source": [
    "[Problem 2595](https://leetcode.com/problems/number-of-even-and-odd-bits/description)"
   ]
  },
  {
   "cell_type": "code",
   "execution_count": 1,
   "id": "af84a03f-5c77-4ce8-9d9e-f075cee1a1a1",
   "metadata": {},
   "outputs": [],
   "source": [
    "from typing import List"
   ]
  },
  {
   "cell_type": "code",
   "execution_count": 2,
   "id": "2058faa6-4aa5-4b16-9c70-5b8ace3da325",
   "metadata": {},
   "outputs": [],
   "source": [
    "class Solution:\n",
    "    def evenOddBit(self, n: int) -> List[int]:\n",
    "        even, odd = (n & 0b010101010101).bit_count(), (n & 0b101010101010).bit_count()\n",
    "        res = [even, odd]\n",
    "        return res"
   ]
  },
  {
   "cell_type": "code",
   "execution_count": 3,
   "id": "d3e0ad3c-6d95-48d4-b76d-e48ada62a7c2",
   "metadata": {},
   "outputs": [],
   "source": [
    "sol = Solution()"
   ]
  },
  {
   "cell_type": "code",
   "execution_count": 4,
   "id": "2bfc3833-bda7-47b0-86e1-ea404d95ab8e",
   "metadata": {},
   "outputs": [],
   "source": [
    "assert sol.evenOddBit(17) == [2, 0]"
   ]
  },
  {
   "cell_type": "code",
   "execution_count": 5,
   "id": "d4521e03-ca8b-4262-8c6c-177db015f65e",
   "metadata": {},
   "outputs": [],
   "source": [
    "assert sol.evenOddBit(17) == [2, 0]"
   ]
  }
 ],
 "metadata": {
  "kernelspec": {
   "display_name": "Python [conda env:leetcode]",
   "language": "python",
   "name": "conda-env-leetcode-py"
  },
  "language_info": {
   "codemirror_mode": {
    "name": "ipython",
    "version": 3
   },
   "file_extension": ".py",
   "mimetype": "text/x-python",
   "name": "python",
   "nbconvert_exporter": "python",
   "pygments_lexer": "ipython3",
   "version": "3.10.9"
  }
 },
 "nbformat": 4,
 "nbformat_minor": 5
}
