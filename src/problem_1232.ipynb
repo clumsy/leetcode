{
 "cells": [
  {
   "cell_type": "markdown",
   "id": "7672cfc0-2eef-449e-93c3-d4022c9554d7",
   "metadata": {},
   "source": [
    "[Problem 1232](https://leetcode.com/problems/check-if-it-is-a-straight-line/description)"
   ]
  },
  {
   "cell_type": "code",
   "execution_count": 1,
   "id": "e7a5bab6-8a9a-41d4-b713-e87ad7851428",
   "metadata": {},
   "outputs": [],
   "source": [
    "from typing import List"
   ]
  },
  {
   "cell_type": "code",
   "execution_count": 2,
   "id": "9c06fb8a-c343-479e-bebf-4d7095c4880f",
   "metadata": {},
   "outputs": [],
   "source": [
    "class Solution:\n",
    "    def checkStraightLine(self, c: List[List[int]]) -> bool:\n",
    "        def area(i, j, k):\n",
    "            return (c[j][0] - c[i][0])*(c[k][1] - c[j][1]) - (c[k][0] - c[j][0])*(c[j][1] - c[i][1])\n",
    "        res = all(area(0, 1, i) == 0 for i in range(2, len(c)))\n",
    "        return res"
   ]
  },
  {
   "cell_type": "code",
   "execution_count": 3,
   "id": "3d605cd0-34f5-4037-b323-faa22dbbf288",
   "metadata": {},
   "outputs": [],
   "source": [
    "sol = Solution()"
   ]
  },
  {
   "cell_type": "code",
   "execution_count": 4,
   "id": "2ada164b-def2-4d83-b86c-46a06cfca07c",
   "metadata": {},
   "outputs": [],
   "source": [
    "assert sol.checkStraightLine([[1,2],[2,3],[3,4],[4,5],[5,6],[6,7]])"
   ]
  },
  {
   "cell_type": "code",
   "execution_count": 5,
   "id": "7fc3e282-4a80-497c-aa11-8cbde24f3394",
   "metadata": {},
   "outputs": [],
   "source": [
    "assert not sol.checkStraightLine([[1,1],[2,2],[3,4],[4,5],[5,6],[7,7]])"
   ]
  }
 ],
 "metadata": {
  "kernelspec": {
   "display_name": "Python 3 (ipykernel)",
   "language": "python",
   "name": "python3"
  },
  "language_info": {
   "codemirror_mode": {
    "name": "ipython",
    "version": 3
   },
   "file_extension": ".py",
   "mimetype": "text/x-python",
   "name": "python",
   "nbconvert_exporter": "python",
   "pygments_lexer": "ipython3",
   "version": "3.9.7"
  }
 },
 "nbformat": 4,
 "nbformat_minor": 5
}
