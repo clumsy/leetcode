{
 "cells": [
  {
   "cell_type": "markdown",
   "id": "6bc97c48-c24c-443c-b4e4-9e190a54e627",
   "metadata": {},
   "source": [
    "[Problem 929](https://leetcode.com/problems/unique-email-addresses/description)"
   ]
  },
  {
   "cell_type": "code",
   "execution_count": 1,
   "id": "2d193eee-5cc2-40f7-9243-88c028e364a4",
   "metadata": {},
   "outputs": [],
   "source": [
    "from typing import List"
   ]
  },
  {
   "cell_type": "code",
   "execution_count": 2,
   "id": "aa1dc5ee-a7be-4fb2-b62d-b6cc7641405e",
   "metadata": {},
   "outputs": [],
   "source": [
    "class Solution:\n",
    "    def numUniqueEmails(self, emails: List[str]) -> int:\n",
    "        def prune(email):\n",
    "            name, domain = email.split(\"@\")\n",
    "            sep = name.find(\"+\")\n",
    "            name = (name if sep < 0 else name[:sep]).replace(\".\", \"\")\n",
    "            return name + \"@\" + domain\n",
    "        res = len(set(prune(email) for email in emails))\n",
    "        return res"
   ]
  },
  {
   "cell_type": "code",
   "execution_count": 3,
   "id": "f0c11a5b-fc72-4573-9cb8-36f52678c0c1",
   "metadata": {},
   "outputs": [],
   "source": [
    "sol = Solution()"
   ]
  },
  {
   "cell_type": "code",
   "execution_count": 4,
   "id": "3bf7f8e2-2fbc-4c0d-bf97-49964da0c3fe",
   "metadata": {},
   "outputs": [],
   "source": [
    "assert sol.numUniqueEmails([\"test.email+alex@leetcode.com\",\"test.e.mail+bob.cathy@leetcode.com\",\"testemail+david@lee.tcode.com\"]) == 2"
   ]
  },
  {
   "cell_type": "code",
   "execution_count": 5,
   "id": "ade4a157-8b05-4c34-972c-326df73375bd",
   "metadata": {},
   "outputs": [],
   "source": [
    "assert sol.numUniqueEmails([\"a@leetcode.com\",\"b@leetcode.com\",\"c@leetcode.com\"]) == 3"
   ]
  }
 ],
 "metadata": {
  "kernelspec": {
   "display_name": "Python 3 (ipykernel)",
   "language": "python",
   "name": "python3"
  },
  "language_info": {
   "codemirror_mode": {
    "name": "ipython",
    "version": 3
   },
   "file_extension": ".py",
   "mimetype": "text/x-python",
   "name": "python",
   "nbconvert_exporter": "python",
   "pygments_lexer": "ipython3",
   "version": "3.9.7"
  }
 },
 "nbformat": 4,
 "nbformat_minor": 5
}
