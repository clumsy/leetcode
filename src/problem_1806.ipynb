{
 "cells": [
  {
   "cell_type": "markdown",
   "id": "95b99077-77d3-4217-9fd9-6417c769e81e",
   "metadata": {},
   "source": [
    "[Problem 1806](https://leetcode.com/problems/minimum-number-of-operations-to-reinitialize-a-permutation/description)"
   ]
  },
  {
   "cell_type": "code",
   "execution_count": 1,
   "id": "19af5148-5d93-4a78-96ec-9f426b34dc18",
   "metadata": {},
   "outputs": [],
   "source": [
    "class Solution:\n",
    "    def reinitializePermutation(self, n: int) -> int:\n",
    "        res, one = 0, 1\n",
    "        # we simulate how a single index moves\n",
    "        # and stop when it goes back to where it started\n",
    "        while res == 0 or one > 1:\n",
    "            one = (2 * one) % (n - 1)\n",
    "            res += 1\n",
    "        return res"
   ]
  },
  {
   "cell_type": "code",
   "execution_count": 2,
   "id": "5c4735c5-74a9-4266-88e8-5c3a36ff37a6",
   "metadata": {},
   "outputs": [],
   "source": [
    "sol = Solution()"
   ]
  },
  {
   "cell_type": "code",
   "execution_count": 3,
   "id": "e0c793b3-d984-41b1-8a22-b7c299bceca8",
   "metadata": {},
   "outputs": [],
   "source": [
    "assert sol.reinitializePermutation(2) == 1"
   ]
  },
  {
   "cell_type": "code",
   "execution_count": 4,
   "id": "e31fc818-dffb-4f3a-8caa-1e33bb3d857f",
   "metadata": {},
   "outputs": [],
   "source": [
    "assert sol.reinitializePermutation(4) == 2"
   ]
  },
  {
   "cell_type": "code",
   "execution_count": 5,
   "id": "ca4d34a0-d055-4c99-87b9-c6d8978474a4",
   "metadata": {},
   "outputs": [],
   "source": [
    "assert sol.reinitializePermutation(6) == 4"
   ]
  }
 ],
 "metadata": {
  "kernelspec": {
   "display_name": "Python 3 (ipykernel)",
   "language": "python",
   "name": "python3"
  },
  "language_info": {
   "codemirror_mode": {
    "name": "ipython",
    "version": 3
   },
   "file_extension": ".py",
   "mimetype": "text/x-python",
   "name": "python",
   "nbconvert_exporter": "python",
   "pygments_lexer": "ipython3",
   "version": "3.9.7"
  }
 },
 "nbformat": 4,
 "nbformat_minor": 5
}
