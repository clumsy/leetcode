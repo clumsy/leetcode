{
 "cells": [
  {
   "cell_type": "markdown",
   "id": "b1bd9bcb-590c-4b5f-856e-7491cada7a58",
   "metadata": {},
   "source": [
    "[Problem 543](https://leetcode.com/problems/diameter-of-binary-tree/description)"
   ]
  },
  {
   "cell_type": "code",
   "execution_count": 1,
   "id": "0ada7b88-abcd-4b1e-afe2-5d001e0999e2",
   "metadata": {},
   "outputs": [],
   "source": [
    "# Definition for a binary tree node.\n",
    "class TreeNode:\n",
    "    def __init__(self, val=0, left=None, right=None):\n",
    "        self.val = val\n",
    "        self.left = left\n",
    "        self.right = right"
   ]
  },
  {
   "cell_type": "code",
   "execution_count": 2,
   "id": "d4813d65-39fe-40b9-984f-945e28a1d3c0",
   "metadata": {},
   "outputs": [],
   "source": [
    "from typing import Optional"
   ]
  },
  {
   "cell_type": "code",
   "execution_count": 3,
   "id": "fe55f4d6-62fa-4504-8baf-c5e48717a59c",
   "metadata": {},
   "outputs": [],
   "source": [
    "class Solution:\n",
    "    def diameterOfBinaryTree(self, root: Optional[TreeNode]) -> int:\n",
    "        def dfs(node, res):\n",
    "            if not node:\n",
    "                return 0, res\n",
    "            if node.left is None and node.right is None:\n",
    "                return 1, res\n",
    "            lft, lft_res = dfs(node.left, res)\n",
    "            rgt, rgt_res = dfs(node.right, res)\n",
    "            res = max(res, lft_res, rgt_res, lft + rgt)\n",
    "            return 1 + max(lft, rgt), res\n",
    "\n",
    "        _, res = dfs(root, 0)\n",
    "        return res"
   ]
  },
  {
   "cell_type": "code",
   "execution_count": 4,
   "id": "a92f060f-1664-405d-bec3-32d2df3ce741",
   "metadata": {},
   "outputs": [],
   "source": [
    "sol = Solution()"
   ]
  },
  {
   "cell_type": "code",
   "execution_count": 5,
   "id": "0c6cf16b-3f6f-46c7-9f79-0c276d9db00a",
   "metadata": {},
   "outputs": [],
   "source": [
    "from collections import deque\n",
    "\n",
    "null = None  # to use Leetcode samples as is\n",
    "\n",
    "def tree(values):\n",
    "    if not values:\n",
    "        return null\n",
    "    root = TreeNode(values[0])\n",
    "    queue = deque()\n",
    "    queue.append(root)\n",
    "    queue.append(None)\n",
    "    length = len(values)\n",
    "    i = 0\n",
    "    while queue:\n",
    "        current = queue.popleft()\n",
    "        if current:\n",
    "            i += 1\n",
    "            if i < length and values[i]:\n",
    "                current.left = TreeNode(values[i])\n",
    "                queue.append(current.left)\n",
    "            i += 1\n",
    "            if i < length and values[i]:\n",
    "                current.right = TreeNode(values[i])\n",
    "                queue.append(current.right)\n",
    "            if i == length:\n",
    "                return root\n",
    "        else:\n",
    "            if queue:\n",
    "                queue.append(None)\n",
    "    return root"
   ]
  },
  {
   "cell_type": "code",
   "execution_count": 6,
   "id": "d1b28a7c-41a4-4aa0-a251-bce2fadc2521",
   "metadata": {},
   "outputs": [],
   "source": [
    "assert sol.diameterOfBinaryTree(tree([1,2,3,4,5])) == 3"
   ]
  },
  {
   "cell_type": "code",
   "execution_count": 7,
   "id": "06d8f412-272c-48b6-90e0-6cd9b5339681",
   "metadata": {},
   "outputs": [],
   "source": [
    "assert sol.diameterOfBinaryTree(tree([1,2])) == 1"
   ]
  }
 ],
 "metadata": {
  "kernelspec": {
   "display_name": "Python 3 (ipykernel)",
   "language": "python",
   "name": "python3"
  },
  "language_info": {
   "codemirror_mode": {
    "name": "ipython",
    "version": 3
   },
   "file_extension": ".py",
   "mimetype": "text/x-python",
   "name": "python",
   "nbconvert_exporter": "python",
   "pygments_lexer": "ipython3",
   "version": "3.9.7"
  }
 },
 "nbformat": 4,
 "nbformat_minor": 5
}
