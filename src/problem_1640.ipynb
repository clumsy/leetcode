{
 "cells": [
  {
   "cell_type": "markdown",
   "id": "28952fa9-ef31-492b-96cd-13c8c93dc5f1",
   "metadata": {},
   "source": [
    "[Problem 1640](https://leetcode.com/problems/check-array-formation-through-concatenation/description)"
   ]
  },
  {
   "cell_type": "code",
   "execution_count": 1,
   "id": "cb60a52c-2b3e-4b9d-8b9a-92d0578e7353",
   "metadata": {},
   "outputs": [],
   "source": [
    "from typing import List"
   ]
  },
  {
   "cell_type": "code",
   "execution_count": 2,
   "id": "7c5a146a-addd-4dc8-a1ba-24a1fbf91d68",
   "metadata": {},
   "outputs": [],
   "source": [
    "class Solution:\n",
    "    def canFormArray(self, arr: List[int], pieces: List[List[int]]) -> bool:\n",
    "        piece_starts = {p[0]: i for i, p in enumerate(pieces)}\n",
    "        res, i = True, 0\n",
    "        while res and i < len(arr):\n",
    "            p = piece_starts.get(arr[i], None)\n",
    "            if p is None:\n",
    "                res = False\n",
    "                break\n",
    "            for piece in pieces[p]:\n",
    "                if arr[i] != piece:\n",
    "                    res = False\n",
    "                    break\n",
    "                i += 1\n",
    "        return res"
   ]
  },
  {
   "cell_type": "code",
   "execution_count": 3,
   "id": "4664a749-ec4a-4797-b65b-9050b4e16ad7",
   "metadata": {},
   "outputs": [],
   "source": [
    "sol = Solution()"
   ]
  },
  {
   "cell_type": "code",
   "execution_count": 4,
   "id": "5043465f-6f93-4738-9c8f-cf1b41915d6d",
   "metadata": {},
   "outputs": [],
   "source": [
    "assert sol.canFormArray([15,88], [[88],[15]])"
   ]
  },
  {
   "cell_type": "code",
   "execution_count": 5,
   "id": "4a81c8c0-6cf1-4ed5-9e1a-c46b62661aba",
   "metadata": {},
   "outputs": [],
   "source": [
    "assert not sol.canFormArray([49,18,16], [[16,18,49]])"
   ]
  },
  {
   "cell_type": "code",
   "execution_count": 6,
   "id": "7ecfaf2a-9d38-40a4-9091-4e1b2604e3ad",
   "metadata": {},
   "outputs": [],
   "source": [
    "assert sol.canFormArray([91,4,64,78], [[78],[4,64],[91]])"
   ]
  }
 ],
 "metadata": {
  "kernelspec": {
   "display_name": "Python 3 (ipykernel)",
   "language": "python",
   "name": "python3"
  },
  "language_info": {
   "codemirror_mode": {
    "name": "ipython",
    "version": 3
   },
   "file_extension": ".py",
   "mimetype": "text/x-python",
   "name": "python",
   "nbconvert_exporter": "python",
   "pygments_lexer": "ipython3",
   "version": "3.9.7"
  }
 },
 "nbformat": 4,
 "nbformat_minor": 5
}
