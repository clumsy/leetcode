{
 "cells": [
  {
   "cell_type": "markdown",
   "id": "4952cd60-a520-4473-9547-938f5a4e8c91",
   "metadata": {},
   "source": [
    "[Problem 1154](https://leetcode.com/problems/day-of-the-year/description)"
   ]
  },
  {
   "cell_type": "code",
   "execution_count": 1,
   "id": "bf05b045-747a-47dd-85c0-cf8269751c6e",
   "metadata": {},
   "outputs": [],
   "source": [
    "class Solution:\n",
    "    def dayOfYear(self, date: str) -> int:\n",
    "        year, month, day = (int(i.lstrip(\"0\")) for i in date.split(\"-\"))\n",
    "        days = [0, 31, 28, 31, 30, 31, 30, 31, 31, 30, 31, 30, 31]\n",
    "        is_leap = year % 4 == 0 and (year % 400 == 0 or year % 100 != 0)\n",
    "        res = day + sum(days[:month]) + (is_leap and month > 2)\n",
    "        return res"
   ]
  },
  {
   "cell_type": "code",
   "execution_count": 2,
   "id": "4a1c2130-f2bb-4e9b-8cb1-38838f2f740c",
   "metadata": {},
   "outputs": [],
   "source": [
    "sol = Solution()"
   ]
  },
  {
   "cell_type": "code",
   "execution_count": 3,
   "id": "5e1b2d88-550f-4083-9b4b-a54922395b54",
   "metadata": {},
   "outputs": [],
   "source": [
    "assert sol.dayOfYear(\"2019-01-09\") == 9"
   ]
  },
  {
   "cell_type": "code",
   "execution_count": 4,
   "id": "268ecf99-1b0d-40ff-b919-4d9992cc79c4",
   "metadata": {},
   "outputs": [],
   "source": [
    "assert sol.dayOfYear(\"2019-02-10\") == 41"
   ]
  }
 ],
 "metadata": {
  "kernelspec": {
   "display_name": "Python 3 (ipykernel)",
   "language": "python",
   "name": "python3"
  },
  "language_info": {
   "codemirror_mode": {
    "name": "ipython",
    "version": 3
   },
   "file_extension": ".py",
   "mimetype": "text/x-python",
   "name": "python",
   "nbconvert_exporter": "python",
   "pygments_lexer": "ipython3",
   "version": "3.9.7"
  }
 },
 "nbformat": 4,
 "nbformat_minor": 5
}
