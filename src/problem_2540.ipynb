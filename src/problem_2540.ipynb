{
 "cells": [
  {
   "cell_type": "markdown",
   "id": "143c7243-f7e9-4d44-b2de-e0c7ae7a38c4",
   "metadata": {},
   "source": [
    "[Problem 2540](https://leetcode.com/problems/minimum-common-value/description)"
   ]
  },
  {
   "cell_type": "code",
   "execution_count": 1,
   "id": "614c0479-2306-4c5b-858e-f2ed49f15b8e",
   "metadata": {},
   "outputs": [],
   "source": [
    "from typing import List"
   ]
  },
  {
   "cell_type": "code",
   "execution_count": 2,
   "id": "a11e8dc1-a79d-4801-b981-970705727fb1",
   "metadata": {},
   "outputs": [],
   "source": [
    "class Solution:\n",
    "    def getCommon(self, nums1: List[int], nums2: List[int]) -> int:\n",
    "        n1, n2 = len(nums1), len(nums2)\n",
    "        i1 = i2 = 0\n",
    "        res = -1\n",
    "        while i1 < n1 and i2 < n2:\n",
    "            diff = nums1[i1] - nums2[i2]\n",
    "            if diff == 0:\n",
    "                res = nums1[i1]\n",
    "                break\n",
    "            if diff < 0:\n",
    "                i1 += 1\n",
    "            else:\n",
    "                i2 += 1\n",
    "        return res"
   ]
  },
  {
   "cell_type": "code",
   "execution_count": 3,
   "id": "8b5195c0-054e-4eb8-b58d-dcd8bb2e19f1",
   "metadata": {},
   "outputs": [],
   "source": [
    "sol = Solution()"
   ]
  },
  {
   "cell_type": "code",
   "execution_count": 4,
   "id": "99972a76-eb60-4ce7-bc93-535e268e187f",
   "metadata": {},
   "outputs": [],
   "source": [
    "assert sol.getCommon([1,2,3], [2,4]) == 2"
   ]
  },
  {
   "cell_type": "code",
   "execution_count": 5,
   "id": "6f593a34-4e10-42a5-bc0a-ced590cbd727",
   "metadata": {},
   "outputs": [],
   "source": [
    "assert sol.getCommon([1,2,3,6], [2,3,4,5]) == 2"
   ]
  }
 ],
 "metadata": {
  "kernelspec": {
   "display_name": "Python 3 (ipykernel)",
   "language": "python",
   "name": "python3"
  },
  "language_info": {
   "codemirror_mode": {
    "name": "ipython",
    "version": 3
   },
   "file_extension": ".py",
   "mimetype": "text/x-python",
   "name": "python",
   "nbconvert_exporter": "python",
   "pygments_lexer": "ipython3",
   "version": "3.9.7"
  }
 },
 "nbformat": 4,
 "nbformat_minor": 5
}
