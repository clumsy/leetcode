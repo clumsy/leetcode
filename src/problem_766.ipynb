{
 "cells": [
  {
   "cell_type": "markdown",
   "id": "e3b05daf-908d-46b5-afa3-3d951cbc09e7",
   "metadata": {},
   "source": [
    "[Problem 766](https://leetcode.com/problems/toeplitz-matrix/description)"
   ]
  },
  {
   "cell_type": "code",
   "execution_count": 1,
   "id": "94982759-9150-4301-a57a-21258f9a25ce",
   "metadata": {},
   "outputs": [],
   "source": [
    "from typing import List"
   ]
  },
  {
   "cell_type": "code",
   "execution_count": 6,
   "id": "93f845de-bb13-46f0-8223-d6c6f6d33136",
   "metadata": {},
   "outputs": [],
   "source": [
    "class Solution:\n",
    "    def isToeplitzMatrix(self, mat: List[List[int]]) -> bool:\n",
    "        m, n = len(mat), len(mat[0])\n",
    "        for r in range(1, m):\n",
    "            for c in range(1, n):\n",
    "                if mat[r][c] != mat[r - 1][c - 1]:\n",
    "                    return False\n",
    "        return True"
   ]
  },
  {
   "cell_type": "code",
   "execution_count": 7,
   "id": "62c56fb5-0272-4f3a-8cf6-caaad769ef7c",
   "metadata": {},
   "outputs": [],
   "source": [
    "sol = Solution()"
   ]
  },
  {
   "cell_type": "code",
   "execution_count": 8,
   "id": "ced3c631-e0f1-4b21-852a-2d155c0f37ba",
   "metadata": {},
   "outputs": [],
   "source": [
    "assert sol.isToeplitzMatrix([[1,2,3,4],[5,1,2,3],[9,5,1,2]])"
   ]
  },
  {
   "cell_type": "code",
   "execution_count": 9,
   "id": "78fdeb71-d835-4943-a728-3e618c62c92d",
   "metadata": {},
   "outputs": [],
   "source": [
    "assert not sol.isToeplitzMatrix([[1,2],[2,2]])"
   ]
  }
 ],
 "metadata": {
  "kernelspec": {
   "display_name": "Python 3 (ipykernel)",
   "language": "python",
   "name": "python3"
  },
  "language_info": {
   "codemirror_mode": {
    "name": "ipython",
    "version": 3
   },
   "file_extension": ".py",
   "mimetype": "text/x-python",
   "name": "python",
   "nbconvert_exporter": "python",
   "pygments_lexer": "ipython3",
   "version": "3.9.7"
  }
 },
 "nbformat": 4,
 "nbformat_minor": 5
}
