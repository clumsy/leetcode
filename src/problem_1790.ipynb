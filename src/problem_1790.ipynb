{
 "cells": [
  {
   "cell_type": "markdown",
   "id": "1695ea5f-0b15-41bc-978a-97e0c3f6badd",
   "metadata": {},
   "source": [
    "[Problem 1790](https://leetcode.com/problems/check-if-one-string-swap-can-make-strings-equal/description)"
   ]
  },
  {
   "cell_type": "code",
   "execution_count": 1,
   "id": "03eacb95-7afc-4175-9322-bb64c2234f95",
   "metadata": {},
   "outputs": [],
   "source": [
    "class Solution:\n",
    "    def areAlmostEqual(self, s1: str, s2: str) -> bool:\n",
    "        misses = []\n",
    "        for c1, c2 in zip(s1, s2):\n",
    "            if c1 != c2:\n",
    "                misses.append([c1, c2])\n",
    "                if len(misses) > 2:\n",
    "                    break\n",
    "        res = not misses or (len(misses) == 2 and misses[0] == misses[1][::-1])\n",
    "        return res"
   ]
  },
  {
   "cell_type": "code",
   "execution_count": 2,
   "id": "350440a8-6f7a-4328-9fb2-2453d0cddd58",
   "metadata": {},
   "outputs": [],
   "source": [
    "sol = Solution()"
   ]
  },
  {
   "cell_type": "code",
   "execution_count": 3,
   "id": "36a1cb19-d9ac-4dd1-a1b2-486723cbf56b",
   "metadata": {},
   "outputs": [],
   "source": [
    "assert sol.areAlmostEqual(\"bank\", \"kanb\")"
   ]
  },
  {
   "cell_type": "code",
   "execution_count": 4,
   "id": "24518ca7-d441-460b-b462-3d05866f4f7f",
   "metadata": {},
   "outputs": [],
   "source": [
    "assert not sol.areAlmostEqual(\"attack\", \"defend\")"
   ]
  },
  {
   "cell_type": "code",
   "execution_count": 5,
   "id": "7823c03b-273c-4d89-a0e9-2ac4606d009d",
   "metadata": {},
   "outputs": [],
   "source": [
    "assert sol.areAlmostEqual(\"kelb\", \"kelb\")"
   ]
  }
 ],
 "metadata": {
  "kernelspec": {
   "display_name": "Python 3 (ipykernel)",
   "language": "python",
   "name": "python3"
  },
  "language_info": {
   "codemirror_mode": {
    "name": "ipython",
    "version": 3
   },
   "file_extension": ".py",
   "mimetype": "text/x-python",
   "name": "python",
   "nbconvert_exporter": "python",
   "pygments_lexer": "ipython3",
   "version": "3.9.7"
  }
 },
 "nbformat": 4,
 "nbformat_minor": 5
}
