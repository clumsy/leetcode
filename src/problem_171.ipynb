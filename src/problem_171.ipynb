{
 "cells": [
  {
   "cell_type": "markdown",
   "id": "f1555c80-193b-45eb-84f0-c0c379a577b0",
   "metadata": {},
   "source": [
    "[Problem 171](https://leetcode.com/problems/excel-sheet-column-number/description)"
   ]
  },
  {
   "cell_type": "code",
   "execution_count": 1,
   "id": "64286c07-b799-4382-819d-c628d24a39ba",
   "metadata": {},
   "outputs": [],
   "source": [
    "class Solution:\n",
    "    def titleToNumber(self, columnTitle: str) -> int:\n",
    "        res, base = 0, ord(\"A\") - 1\n",
    "        for c in columnTitle:\n",
    "            res = res * 26 + (ord(c) - base)\n",
    "        return res"
   ]
  },
  {
   "cell_type": "code",
   "execution_count": 2,
   "id": "285a1f41-5498-4b4b-9fd2-858e44bea50e",
   "metadata": {},
   "outputs": [],
   "source": [
    "sol = Solution()"
   ]
  },
  {
   "cell_type": "code",
   "execution_count": 3,
   "id": "8e825fbf-05b5-44c5-bd20-83d964e07da2",
   "metadata": {},
   "outputs": [],
   "source": [
    "assert sol.titleToNumber(\"A\") == 1"
   ]
  },
  {
   "cell_type": "code",
   "execution_count": 4,
   "id": "a5f6e43d-20dd-4ea9-be2e-723dc6fdb293",
   "metadata": {},
   "outputs": [],
   "source": [
    "assert sol.titleToNumber(\"AB\") == 28"
   ]
  },
  {
   "cell_type": "code",
   "execution_count": 5,
   "id": "8f6964ec-b6b9-4d0f-8ff2-f4b0572d8163",
   "metadata": {},
   "outputs": [],
   "source": [
    "assert sol.titleToNumber(\"ZY\") == 701"
   ]
  }
 ],
 "metadata": {
  "kernelspec": {
   "display_name": "Python 3 (ipykernel)",
   "language": "python",
   "name": "python3"
  },
  "language_info": {
   "codemirror_mode": {
    "name": "ipython",
    "version": 3
   },
   "file_extension": ".py",
   "mimetype": "text/x-python",
   "name": "python",
   "nbconvert_exporter": "python",
   "pygments_lexer": "ipython3",
   "version": "3.9.7"
  }
 },
 "nbformat": 4,
 "nbformat_minor": 5
}
