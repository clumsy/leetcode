{
 "cells": [
  {
   "cell_type": "markdown",
   "id": "5dc1f897-d204-460d-a604-9b22283aa89e",
   "metadata": {},
   "source": [
    "[Problem 951](https://leetcode.com/problems/flip-equivalent-binary-trees/description)"
   ]
  },
  {
   "cell_type": "code",
   "execution_count": 1,
   "id": "7116eb53-dc1c-48a8-9ac8-4883cb491b3b",
   "metadata": {},
   "outputs": [],
   "source": [
    "# Definition for a binary tree node.\n",
    "class TreeNode:\n",
    "    def __init__(self, val=0, left=None, right=None):\n",
    "        self.val = val\n",
    "        self.left = left\n",
    "        self.right = right\n",
    "\n",
    "    def __eq__(self, other):\n",
    "        return other and self.val == other.val and self.left == other.left and self.right == other.right"
   ]
  },
  {
   "cell_type": "code",
   "execution_count": 2,
   "id": "488deb64-bd8a-4ec5-8dfa-9d72eb1cf977",
   "metadata": {},
   "outputs": [],
   "source": [
    "from typing import Optional"
   ]
  },
  {
   "cell_type": "code",
   "execution_count": 3,
   "id": "f475c333-ab0e-49f9-83bd-ba610187420b",
   "metadata": {},
   "outputs": [],
   "source": [
    "class Solution:\n",
    "    def flipEquiv(self, root1: Optional[TreeNode], root2: Optional[TreeNode]) -> bool:\n",
    "        if root1 is None or root2 is None:\n",
    "            return root1 == root2\n",
    "        if root1.val != root2.val:\n",
    "            return False\n",
    "        res = (\n",
    "            (self.flipEquiv(root1.left, root2.left) and self.flipEquiv(root1.right, root2.right)) or # no/both flip\n",
    "            (self.flipEquiv(root1.right, root2.left) and self.flipEquiv(root1.left, root2.right)) or # flip root1\n",
    "            (self.flipEquiv(root1.left, root2.right) and self.flipEquiv(root1.right, root2.left)) # flip root2\n",
    "        )\n",
    "        return res"
   ]
  },
  {
   "cell_type": "code",
   "execution_count": 4,
   "id": "56a6ba8f-72ec-4968-8391-932b72dbe04f",
   "metadata": {},
   "outputs": [],
   "source": [
    "sol = Solution()"
   ]
  },
  {
   "cell_type": "code",
   "execution_count": 5,
   "id": "2972bae9-bb83-4e3d-9d96-cc33048efb69",
   "metadata": {},
   "outputs": [],
   "source": [
    "from collections import deque\n",
    "\n",
    "null = None  # to use Leetcode samples as is\n",
    "\n",
    "def tree(values):\n",
    "    if not values:\n",
    "        return null\n",
    "    queue = deque([(root := TreeNode(values[0])), None])\n",
    "    length, i = len(values), 0\n",
    "    while queue:\n",
    "        current = queue.popleft()\n",
    "        if current:\n",
    "            i += 1\n",
    "            if i < length and values[i] is not None:\n",
    "                current.left = TreeNode(values[i])\n",
    "                queue.append(current.left)\n",
    "            i += 1\n",
    "            if i < length and values[i] is not None:\n",
    "                current.right = TreeNode(values[i])\n",
    "                queue.append(current.right)\n",
    "            if i == length:\n",
    "                return root\n",
    "        else:\n",
    "            if queue:\n",
    "                queue.append(None)\n",
    "    return root"
   ]
  },
  {
   "cell_type": "code",
   "execution_count": 6,
   "id": "c7344143-0c4f-4f57-853d-22ac02479b8d",
   "metadata": {},
   "outputs": [],
   "source": [
    "assert sol.flipEquiv(tree([1,2,3,4,5,6,null,null,null,7,8]), tree([1,3,2,null,6,4,5,null,null,null,null,8,7]))"
   ]
  },
  {
   "cell_type": "code",
   "execution_count": 7,
   "id": "307c0de7-289c-4aa6-8b0b-fc9d9b92f1a0",
   "metadata": {},
   "outputs": [],
   "source": [
    "assert sol.flipEquiv(tree([]), tree([]))"
   ]
  },
  {
   "cell_type": "code",
   "execution_count": 8,
   "id": "6cbb8d99-ee2e-4ea8-93c1-26ee2f57698e",
   "metadata": {},
   "outputs": [],
   "source": [
    "assert not sol.flipEquiv(tree([]), tree([1]))"
   ]
  }
 ],
 "metadata": {
  "kernelspec": {
   "display_name": "Python 3 (ipykernel)",
   "language": "python",
   "name": "python3"
  },
  "language_info": {
   "codemirror_mode": {
    "name": "ipython",
    "version": 3
   },
   "file_extension": ".py",
   "mimetype": "text/x-python",
   "name": "python",
   "nbconvert_exporter": "python",
   "pygments_lexer": "ipython3",
   "version": "3.9.7"
  }
 },
 "nbformat": 4,
 "nbformat_minor": 5
}
