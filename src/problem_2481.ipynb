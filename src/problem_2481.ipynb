{
 "cells": [
  {
   "cell_type": "markdown",
   "id": "1b2d3963-aaac-4a56-83c0-b79f0c92b587",
   "metadata": {},
   "source": [
    "[Problem 2481](https://leetcode.com/problems/minimum-cuts-to-divide-a-circle/description)"
   ]
  },
  {
   "cell_type": "code",
   "execution_count": 1,
   "id": "50328076-2092-4beb-8803-71267378a768",
   "metadata": {},
   "outputs": [],
   "source": [
    "class Solution:\n",
    "    def numberOfCuts(self, n: int) -> int:\n",
    "        res = 0 if n == 1 else n if n & 1 == 1 else n // 2\n",
    "        return res"
   ]
  },
  {
   "cell_type": "code",
   "execution_count": 2,
   "id": "45321abc-426a-48c3-9c06-32dc63716af3",
   "metadata": {},
   "outputs": [],
   "source": [
    "sol = Solution()"
   ]
  },
  {
   "cell_type": "code",
   "execution_count": 3,
   "id": "0655ca57-c9e5-4e38-b76b-6943eaf948b0",
   "metadata": {},
   "outputs": [],
   "source": [
    "assert sol.numberOfCuts(4) == 2"
   ]
  },
  {
   "cell_type": "code",
   "execution_count": 4,
   "id": "8e01f275-07bd-4b1f-96f6-f6103b1e2529",
   "metadata": {},
   "outputs": [],
   "source": [
    "assert sol.numberOfCuts(3) == 3"
   ]
  }
 ],
 "metadata": {
  "kernelspec": {
   "display_name": "Python 3 (ipykernel)",
   "language": "python",
   "name": "python3"
  },
  "language_info": {
   "codemirror_mode": {
    "name": "ipython",
    "version": 3
   },
   "file_extension": ".py",
   "mimetype": "text/x-python",
   "name": "python",
   "nbconvert_exporter": "python",
   "pygments_lexer": "ipython3",
   "version": "3.9.7"
  }
 },
 "nbformat": 4,
 "nbformat_minor": 5
}
