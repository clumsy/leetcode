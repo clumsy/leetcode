{
 "cells": [
  {
   "cell_type": "markdown",
   "id": "0b807a0f-7185-4892-b9e7-8896675a56da",
   "metadata": {},
   "source": [
    "[Problem 941](https://leetcode.com/problems/valid-mountain-array/description)"
   ]
  },
  {
   "cell_type": "code",
   "execution_count": 1,
   "id": "16f8f55d-a1e1-4f64-9f6a-b62d219d394c",
   "metadata": {},
   "outputs": [],
   "source": [
    "from typing import List"
   ]
  },
  {
   "cell_type": "code",
   "execution_count": 2,
   "id": "26722af0-6fe0-49c9-8b22-d9a6c8e8b99b",
   "metadata": {},
   "outputs": [],
   "source": [
    "class Solution:\n",
    "    def validMountainArray(self, arr: List[int]) -> bool:\n",
    "        n = len(arr)\n",
    "        lo, hi = 0, n - 1\n",
    "        while lo + 1 < n and arr[lo + 1] > arr[lo]:\n",
    "            lo += 1\n",
    "        while hi - 1 < n and arr[hi - 1] > arr[hi]:\n",
    "            hi -= 1\n",
    "        res = lo > 0 and hi < n - 1 and lo == hi\n",
    "        return res"
   ]
  },
  {
   "cell_type": "code",
   "execution_count": 3,
   "id": "f16069e0-ee19-4880-9d9d-ef6d31280da4",
   "metadata": {},
   "outputs": [],
   "source": [
    "sol = Solution()"
   ]
  },
  {
   "cell_type": "code",
   "execution_count": 4,
   "id": "6ddebbbc-b816-45f7-8a97-3a8e38e15ba5",
   "metadata": {},
   "outputs": [],
   "source": [
    "assert not sol.validMountainArray([2,1])"
   ]
  },
  {
   "cell_type": "code",
   "execution_count": 5,
   "id": "5e042333-1bd9-484e-8703-37cf702124ba",
   "metadata": {},
   "outputs": [],
   "source": [
    "assert not sol.validMountainArray([3,5,5])"
   ]
  },
  {
   "cell_type": "code",
   "execution_count": 6,
   "id": "f5f34a3b-68a5-418d-bd35-b3982f88c373",
   "metadata": {},
   "outputs": [],
   "source": [
    "assert sol.validMountainArray([0,3,2,1])"
   ]
  }
 ],
 "metadata": {
  "kernelspec": {
   "display_name": "Python 3 (ipykernel)",
   "language": "python",
   "name": "python3"
  },
  "language_info": {
   "codemirror_mode": {
    "name": "ipython",
    "version": 3
   },
   "file_extension": ".py",
   "mimetype": "text/x-python",
   "name": "python",
   "nbconvert_exporter": "python",
   "pygments_lexer": "ipython3",
   "version": "3.9.7"
  }
 },
 "nbformat": 4,
 "nbformat_minor": 5
}
