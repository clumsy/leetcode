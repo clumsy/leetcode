{
 "cells": [
  {
   "cell_type": "markdown",
   "id": "8f195d5f-9105-48b4-bb70-065ec290f86a",
   "metadata": {},
   "source": [
    "[Problem 684](https://leetcode.com/problems/redundant-connection/submissions)"
   ]
  },
  {
   "cell_type": "code",
   "execution_count": 2,
   "id": "b49aa06c-4a7c-4ab9-a194-49063c004b36",
   "metadata": {},
   "outputs": [],
   "source": [
    "from typing import List"
   ]
  },
  {
   "cell_type": "code",
   "execution_count": 9,
   "id": "6c7281bb-4983-4fcb-b224-69ebcf759eec",
   "metadata": {},
   "outputs": [],
   "source": [
    "class UnionFind:\n",
    "    def __init__(self, length):\n",
    "        self.parent = [i for i in range(length)]\n",
    "        self.size = [1]*length\n",
    "\n",
    "    def union(self, x, y):\n",
    "        parent, size = self.parent, self.size\n",
    "        px, py = self.find(x), self.find(y)\n",
    "        if px == py:\n",
    "            return False\n",
    "        if size[px] < size[py]:\n",
    "            x, y = y, x\n",
    "            px, py = py, px\n",
    "        size[px] += size[py]\n",
    "        parent[py] = px\n",
    "        return True\n",
    "\n",
    "    def find(self, x):\n",
    "        parent = self.parent\n",
    "        if x != parent[x]:\n",
    "            parent[x] = self.find(parent[x])\n",
    "        return parent[x]\n",
    "\n",
    "class Solution:\n",
    "    def findRedundantConnection(self, edges: List[List[int]]) -> List[int]:\n",
    "        uf = UnionFind(len(edges) + 1)  # nodes labeled starting from 1\n",
    "        for x, y in edges:\n",
    "            if not uf.union(x, y):\n",
    "                return [x, y]"
   ]
  },
  {
   "cell_type": "code",
   "execution_count": 10,
   "id": "434310eb-f40d-49dd-afed-6ec4cc24c460",
   "metadata": {},
   "outputs": [],
   "source": [
    "sol = Solution()"
   ]
  },
  {
   "cell_type": "code",
   "execution_count": 11,
   "id": "647b3804-c872-41e9-bfc3-cc17ec31f536",
   "metadata": {},
   "outputs": [],
   "source": [
    "assert sol.findRedundantConnection([[1,2],[1,3],[2,3]]) == [2,3]"
   ]
  },
  {
   "cell_type": "code",
   "execution_count": 13,
   "id": "8911ba48-e307-4d43-830e-0eb6759b9085",
   "metadata": {},
   "outputs": [],
   "source": [
    "assert sol.findRedundantConnection([[3,4],[1,2],[2,4],[3,5],[2,5]]) == [2,5]"
   ]
  }
 ],
 "metadata": {
  "kernelspec": {
   "display_name": "Python 3 (ipykernel)",
   "language": "python",
   "name": "python3"
  },
  "language_info": {
   "codemirror_mode": {
    "name": "ipython",
    "version": 3
   },
   "file_extension": ".py",
   "mimetype": "text/x-python",
   "name": "python",
   "nbconvert_exporter": "python",
   "pygments_lexer": "ipython3",
   "version": "3.9.7"
  }
 },
 "nbformat": 4,
 "nbformat_minor": 5
}
