{
 "cells": [
  {
   "cell_type": "markdown",
   "id": "98736030-501f-4c06-9b12-435db375bf34",
   "metadata": {},
   "source": [
    "[Problem 378](https://leetcode.com/problems/kth-smallest-element-in-a-sorted-matrix/description)"
   ]
  },
  {
   "cell_type": "code",
   "execution_count": 1,
   "id": "2f75542e-3b0e-4a93-a1ec-82c090d9bbeb",
   "metadata": {},
   "outputs": [],
   "source": [
    "from typing import List"
   ]
  },
  {
   "cell_type": "code",
   "execution_count": 2,
   "id": "d3bcfe4e-e9b8-490a-b6de-027e6b3d7b16",
   "metadata": {},
   "outputs": [],
   "source": [
    "class Solution:\n",
    "    def kthSmallest(self, matrix: List[List[int]], k: int) -> int:\n",
    "        n = len(matrix)\n",
    "        pos, mi = [0] * n, -1\n",
    "        while k > 0:\n",
    "            k -= 1\n",
    "            if mi >= 0:\n",
    "                pos[mi] += 1\n",
    "                mi = -1\n",
    "            for i in range(n):\n",
    "                if pos[i] < n and (mi < 0 or matrix[i][pos[i]] < matrix[mi][pos[mi]]):\n",
    "                    mi = i\n",
    "        res = matrix[mi][pos[mi]]\n",
    "        return res"
   ]
  },
  {
   "cell_type": "code",
   "execution_count": 3,
   "id": "306b2b64-0d25-4602-a89b-58fbd46ef434",
   "metadata": {},
   "outputs": [],
   "source": [
    "class Solution:\n",
    "    def kthSmallest(self, matrix: List[List[int]], k: int) -> int:\n",
    "        n = len(matrix)\n",
    "        lo, hi = matrix[0][0], matrix[n - 1][n - 1]\n",
    "        while lo < hi:\n",
    "            mi = lo + (hi - lo) // 2\n",
    "            cnt = 0\n",
    "            for r in range(n):\n",
    "                for c in range(n):\n",
    "                    cnt += matrix[r][c] > mi\n",
    "            if cnt <= n**2 - k:\n",
    "                hi = mi\n",
    "            else:\n",
    "                lo = mi + 1\n",
    "        res = lo\n",
    "        return res"
   ]
  },
  {
   "cell_type": "code",
   "execution_count": 4,
   "id": "4d394a66-c869-4b71-a948-a1a329fad645",
   "metadata": {},
   "outputs": [],
   "source": [
    "class Solution:\n",
    "    def kthSmallest(self, matrix: List[List[int]], k: int) -> int:\n",
    "        n = len(matrix)\n",
    "\n",
    "        def to_matrix(i):\n",
    "            return divmod(i, n)\n",
    "\n",
    "        def from_matrix(r, c):\n",
    "            return r * n + c\n",
    "\n",
    "        def partition(left, pivot, right):\n",
    "            # place pivot in right\n",
    "            rr, rc = to_matrix(right)\n",
    "            pr, pc = to_matrix(pivot)\n",
    "            matrix[rr][rc], matrix[pr][pc] = matrix[pr][pc], matrix[rr][rc]\n",
    "\n",
    "            # find where elements >= pivot begin\n",
    "            for i in range(left, right):\n",
    "                ir, ic = to_matrix(i)\n",
    "                if matrix[ir][ic] < matrix[rr][rc]:\n",
    "                    pr, pc = to_matrix(left)\n",
    "                    matrix[ir][ic], matrix[pr][pc] = matrix[pr][pc], matrix[ir][ic]\n",
    "                    left += 1\n",
    "\n",
    "            # place pivot to the right spot\n",
    "            pr, pc = to_matrix(left)\n",
    "            matrix[rr][rc], matrix[pr][pc] = matrix[pr][pc], matrix[rr][rc]\n",
    "            return left\n",
    "            \n",
    "\n",
    "        def quickselect(left, right, p):\n",
    "            if left == right:\n",
    "                return left\n",
    "            pivot = left + (right - left) // 2\n",
    "            i = partition(left, pivot, right)\n",
    "            if i == p:\n",
    "                return i\n",
    "            elif i > p:\n",
    "                return quickselect(left, i - 1, p)\n",
    "            else:\n",
    "                return quickselect(i + 1, right, p)\n",
    "\n",
    "        \n",
    "        i = quickselect(0, n * n - 1, k - 1)\n",
    "        r, c = to_matrix(i)\n",
    "        res = matrix[r][c]\n",
    "        return res"
   ]
  },
  {
   "cell_type": "code",
   "execution_count": 5,
   "id": "84caa096-39e9-46d6-b775-30b269e8a484",
   "metadata": {},
   "outputs": [],
   "source": [
    "sol = Solution()"
   ]
  },
  {
   "cell_type": "code",
   "execution_count": 6,
   "id": "f7afb934-0f2f-433b-8193-bc3e80670b4a",
   "metadata": {},
   "outputs": [],
   "source": [
    "assert sol.kthSmallest([[1,5,9],[10,11,13],[12,13,15]], 8) == 13"
   ]
  },
  {
   "cell_type": "code",
   "execution_count": 7,
   "id": "754ab850-bde7-45a7-a313-2129544cb207",
   "metadata": {},
   "outputs": [],
   "source": [
    "assert sol.kthSmallest([[-5]], 1) == -5"
   ]
  }
 ],
 "metadata": {
  "kernelspec": {
   "display_name": "Python 3 (ipykernel)",
   "language": "python",
   "name": "python3"
  },
  "language_info": {
   "codemirror_mode": {
    "name": "ipython",
    "version": 3
   },
   "file_extension": ".py",
   "mimetype": "text/x-python",
   "name": "python",
   "nbconvert_exporter": "python",
   "pygments_lexer": "ipython3",
   "version": "3.9.7"
  }
 },
 "nbformat": 4,
 "nbformat_minor": 5
}
