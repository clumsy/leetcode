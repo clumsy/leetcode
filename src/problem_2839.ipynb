{
 "cells": [
  {
   "cell_type": "markdown",
   "id": "8d66538e-2499-4a09-b6d1-37b723673e86",
   "metadata": {},
   "source": [
    "[Problem 2839](https://leetcode.com/problems/check-if-strings-can-be-made-equal-with-operations-i/description)"
   ]
  },
  {
   "cell_type": "code",
   "execution_count": 1,
   "id": "7f983836-9592-4ec7-8467-ee43f93a00fa",
   "metadata": {},
   "outputs": [],
   "source": [
    "class Solution:\n",
    "    def canBeEqual(self, s1: str, s2: str) -> bool:\n",
    "        res = sorted(s1[::2]) == sorted(s2[::2]) and sorted(s1[1::2]) == sorted(s2[1::2])\n",
    "        return res"
   ]
  },
  {
   "cell_type": "code",
   "execution_count": 2,
   "id": "0cc5fce9-f1b2-4ec5-bec2-79dd63bc2670",
   "metadata": {},
   "outputs": [],
   "source": [
    "sol = Solution()"
   ]
  },
  {
   "cell_type": "code",
   "execution_count": 3,
   "id": "2d78e48e-232b-4956-b242-9dd503e8773a",
   "metadata": {},
   "outputs": [],
   "source": [
    "assert sol.canBeEqual(\"abcd\", \"cdab\")"
   ]
  },
  {
   "cell_type": "code",
   "execution_count": 4,
   "id": "2a51c16e-d779-4a05-9a28-f8a0c879efd4",
   "metadata": {},
   "outputs": [],
   "source": [
    "assert not sol.canBeEqual(\"abcd\", \"dacb\")"
   ]
  }
 ],
 "metadata": {
  "kernelspec": {
   "display_name": "Python 3 (ipykernel)",
   "language": "python",
   "name": "python3"
  },
  "language_info": {
   "codemirror_mode": {
    "name": "ipython",
    "version": 3
   },
   "file_extension": ".py",
   "mimetype": "text/x-python",
   "name": "python",
   "nbconvert_exporter": "python",
   "pygments_lexer": "ipython3",
   "version": "3.9.7"
  }
 },
 "nbformat": 4,
 "nbformat_minor": 5
}
