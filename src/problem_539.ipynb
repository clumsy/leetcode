{
 "cells": [
  {
   "cell_type": "markdown",
   "id": "4f21decc-d1e4-4a57-bb38-91d802453b56",
   "metadata": {},
   "source": [
    "[Problem 539](https://leetcode.com/problems/minimum-time-difference/description)"
   ]
  },
  {
   "cell_type": "code",
   "execution_count": 1,
   "id": "5f4ab364-9870-4344-99c4-4ffd24f343e0",
   "metadata": {},
   "outputs": [],
   "source": [
    "from typing import List"
   ]
  },
  {
   "cell_type": "code",
   "execution_count": 2,
   "id": "b83ae5d3-91ab-47dd-8db7-31567d972e7d",
   "metadata": {},
   "outputs": [],
   "source": [
    "class Solution:\n",
    "    def findMinDifference(self, timePoints: List[str]) -> int:\n",
    "        for i, e in enumerate(timePoints):\n",
    "            timePoints[i] = int(e[3:]) + 60 * int(e[:2])\n",
    "        timePoints.sort()\n",
    "        res = timePoints[0] + 24 * 60 - timePoints[-1]\n",
    "        for i in range(len(timePoints) - 1):\n",
    "            res = min(res, timePoints[i + 1] - timePoints[i])\n",
    "        return res"
   ]
  },
  {
   "cell_type": "code",
   "execution_count": 3,
   "id": "0e1d2684-7fcf-40c6-9d5d-a3ce14fa7e11",
   "metadata": {},
   "outputs": [],
   "source": [
    "class Solution:\n",
    "    def findMinDifference(self, timePoints: List[str]) -> int:\n",
    "        res = n = 1440\n",
    "        tp = [False] * n\n",
    "        for i, e in enumerate(timePoints):\n",
    "            t = int(e[3:]) + 60 * int(e[:2])\n",
    "            if tp[t]:\n",
    "                res = 0\n",
    "                break\n",
    "            tp[t] = True\n",
    "        i, n = 0, len(tp)\n",
    "        while res and i < n:\n",
    "            if tp[i]:\n",
    "                j = (i + 1) % n\n",
    "                while not tp[j]:\n",
    "                    j = (j + 1) % n\n",
    "                res = min(res, j - i if j > i else n - i + j)\n",
    "                i = max(j, i + 1)\n",
    "            else:\n",
    "                i += 1\n",
    "        return res"
   ]
  },
  {
   "cell_type": "code",
   "execution_count": 4,
   "id": "8934aa76-c4b9-449c-894c-0ca710507023",
   "metadata": {},
   "outputs": [],
   "source": [
    "sol = Solution()"
   ]
  },
  {
   "cell_type": "code",
   "execution_count": 5,
   "id": "8d61729d-a09c-451a-bc52-ff3f8d31332f",
   "metadata": {},
   "outputs": [],
   "source": [
    "assert sol.findMinDifference([\"23:59\",\"00:00\"]) == 1"
   ]
  },
  {
   "cell_type": "code",
   "execution_count": 6,
   "id": "aeccf4ff-5b4b-42b9-83aa-cc369fb0adfb",
   "metadata": {},
   "outputs": [],
   "source": [
    "assert sol.findMinDifference([\"00:00\",\"23:59\",\"00:00\"]) == 0"
   ]
  }
 ],
 "metadata": {
  "kernelspec": {
   "display_name": "Python 3 (ipykernel)",
   "language": "python",
   "name": "python3"
  },
  "language_info": {
   "codemirror_mode": {
    "name": "ipython",
    "version": 3
   },
   "file_extension": ".py",
   "mimetype": "text/x-python",
   "name": "python",
   "nbconvert_exporter": "python",
   "pygments_lexer": "ipython3",
   "version": "3.9.7"
  }
 },
 "nbformat": 4,
 "nbformat_minor": 5
}
