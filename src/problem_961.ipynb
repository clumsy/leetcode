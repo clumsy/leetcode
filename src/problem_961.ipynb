{
 "cells": [
  {
   "cell_type": "markdown",
   "id": "5815eb5e-4482-4bf2-bae2-1d63eea4efe0",
   "metadata": {},
   "source": [
    "[Problem 961](https://leetcode.com/problems/n-repeated-element-in-size-2n-array/description)"
   ]
  },
  {
   "cell_type": "code",
   "execution_count": 1,
   "id": "31c412c1-ae7e-4f1d-8793-e681fa8611e5",
   "metadata": {},
   "outputs": [],
   "source": [
    "from typing import List\n",
    "from collections import Counter"
   ]
  },
  {
   "cell_type": "code",
   "execution_count": 2,
   "id": "69fa1e73-7217-49f9-84db-ad4d79f87ad0",
   "metadata": {},
   "outputs": [],
   "source": [
    "class Solution:\n",
    "    def repeatedNTimes(self, nums: List[int]) -> int:\n",
    "        res = Counter(nums).most_common()[0][0]\n",
    "        return res"
   ]
  },
  {
   "cell_type": "code",
   "execution_count": 3,
   "id": "76a42d6d-1162-4726-b6d0-fc3dbd38501f",
   "metadata": {},
   "outputs": [],
   "source": [
    "class Solution:\n",
    "    def repeatedNTimes(self, nums: List[int]) -> int:\n",
    "        res = nums[0]\n",
    "        for i in range(2, len(nums)):\n",
    "            if nums[i] == nums[i - 1] or nums[i] == nums[i - 2]:\n",
    "                res = nums[i]\n",
    "                break\n",
    "        return res"
   ]
  },
  {
   "cell_type": "code",
   "execution_count": 4,
   "id": "8e41f983-db6d-43d2-bf39-977ffebc4426",
   "metadata": {},
   "outputs": [],
   "source": [
    "sol = Solution()"
   ]
  },
  {
   "cell_type": "code",
   "execution_count": 5,
   "id": "54db9bd4-33f1-438b-90fb-4b329c3a1842",
   "metadata": {},
   "outputs": [],
   "source": [
    "assert sol.repeatedNTimes([1,2,3,3]) == 3"
   ]
  },
  {
   "cell_type": "code",
   "execution_count": 6,
   "id": "a5b7821c-a4c0-4dab-a00e-d2a16232269f",
   "metadata": {},
   "outputs": [],
   "source": [
    "assert sol.repeatedNTimes([2,1,2,5,3,2]) == 2"
   ]
  },
  {
   "cell_type": "code",
   "execution_count": 7,
   "id": "959ef21e-5ed8-44cf-aa20-25a6591104e3",
   "metadata": {},
   "outputs": [],
   "source": [
    "assert sol.repeatedNTimes([5,1,5,2,5,3,5,4]) == 5"
   ]
  }
 ],
 "metadata": {
  "kernelspec": {
   "display_name": "Python 3 (ipykernel)",
   "language": "python",
   "name": "python3"
  },
  "language_info": {
   "codemirror_mode": {
    "name": "ipython",
    "version": 3
   },
   "file_extension": ".py",
   "mimetype": "text/x-python",
   "name": "python",
   "nbconvert_exporter": "python",
   "pygments_lexer": "ipython3",
   "version": "3.9.7"
  }
 },
 "nbformat": 4,
 "nbformat_minor": 5
}
