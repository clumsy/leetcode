{
 "cells": [
  {
   "cell_type": "markdown",
   "id": "3951edc7-354d-4f25-8f7e-89f79f337902",
   "metadata": {},
   "source": [
    "[Problem 1185](https://leetcode.com/problems/day-of-the-week/description)"
   ]
  },
  {
   "cell_type": "code",
   "execution_count": 1,
   "id": "04c667b0-73bb-4616-9af0-b525d48c2600",
   "metadata": {},
   "outputs": [],
   "source": [
    "import datetime"
   ]
  },
  {
   "cell_type": "code",
   "execution_count": 2,
   "id": "39591c19-6029-42f2-a661-bbcf56ed018f",
   "metadata": {},
   "outputs": [],
   "source": [
    "class Solution:\n",
    "    def dayOfTheWeek(self, day: int, month: int, year: int) -> str:\n",
    "        dow = datetime.date(year, month, day).isoweekday()\n",
    "        res = {\n",
    "            1: \"Monday\",\n",
    "            2: \"Tuesday\",\n",
    "            3: \"Wednesday\",\n",
    "            4: \"Thursday\",\n",
    "            5: \"Friday\",\n",
    "            6: \"Saturday\",\n",
    "            7: \"Sunday\", \n",
    "        }[dow]\n",
    "        return res"
   ]
  },
  {
   "cell_type": "code",
   "execution_count": 3,
   "id": "bd6874f4-11ba-43f2-bec4-56b114f1402d",
   "metadata": {},
   "outputs": [],
   "source": [
    "sol = Solution()"
   ]
  },
  {
   "cell_type": "code",
   "execution_count": 4,
   "id": "8119d26b-a027-4645-abc9-c863673e1b4b",
   "metadata": {},
   "outputs": [],
   "source": [
    "assert sol.dayOfTheWeek(31, 8, 2019) == \"Saturday\""
   ]
  },
  {
   "cell_type": "code",
   "execution_count": 5,
   "id": "e855258f-473c-41c1-9e5e-53e6d1f6069d",
   "metadata": {},
   "outputs": [],
   "source": [
    "assert sol.dayOfTheWeek(18, 7, 1999) == \"Sunday\""
   ]
  },
  {
   "cell_type": "code",
   "execution_count": 6,
   "id": "b0474dd0-1a10-47d8-8d74-90da63da441e",
   "metadata": {},
   "outputs": [],
   "source": [
    "assert sol.dayOfTheWeek(15, 8, 1993) == \"Sunday\""
   ]
  }
 ],
 "metadata": {
  "kernelspec": {
   "display_name": "Python 3 (ipykernel)",
   "language": "python",
   "name": "python3"
  },
  "language_info": {
   "codemirror_mode": {
    "name": "ipython",
    "version": 3
   },
   "file_extension": ".py",
   "mimetype": "text/x-python",
   "name": "python",
   "nbconvert_exporter": "python",
   "pygments_lexer": "ipython3",
   "version": "3.9.7"
  }
 },
 "nbformat": 4,
 "nbformat_minor": 5
}
