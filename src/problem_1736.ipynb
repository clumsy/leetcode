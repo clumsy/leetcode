{
 "cells": [
  {
   "cell_type": "markdown",
   "id": "bdec2382-8bda-4984-a5c8-20413e149210",
   "metadata": {},
   "source": [
    "[Problem 1736](https://leetcode.com/problems/latest-time-by-replacing-hidden-digits/description)"
   ]
  },
  {
   "cell_type": "code",
   "execution_count": 1,
   "id": "15c31852-ebd4-4787-ad75-4f465158a745",
   "metadata": {},
   "outputs": [],
   "source": [
    "class Solution:\n",
    "    def maximumTime(self, time: str) -> str:\n",
    "        time = list(time)\n",
    "        for i, e in enumerate(time):\n",
    "            if e == \"?\":\n",
    "                time[i] = (\n",
    "                    \"5\" if i == 3 else \n",
    "                    \"9\" if i == 4 else\n",
    "                    \"2\" if i == 0 and time[1] in [\"0\", \"1\", \"2\", \"3\", \"?\"] else\n",
    "                    \"1\" if i == 0 else\n",
    "                    \"9\" if i == 1 and time[0] in [\"0\", \"1\"] else \n",
    "                    \"3\"\n",
    "                )\n",
    "        res = \"\".join(time)\n",
    "        return res"
   ]
  },
  {
   "cell_type": "code",
   "execution_count": 2,
   "id": "b76f54d7-ba09-443b-abaa-fb3962b5d1f2",
   "metadata": {},
   "outputs": [],
   "source": [
    "sol = Solution()"
   ]
  },
  {
   "cell_type": "code",
   "execution_count": 3,
   "id": "a923744e-9e0d-45c6-b52f-ca7f83d6150a",
   "metadata": {},
   "outputs": [],
   "source": [
    "assert sol.maximumTime(\"2?:?0\") == \"23:50\""
   ]
  },
  {
   "cell_type": "code",
   "execution_count": 4,
   "id": "36d973c3-79f7-411a-ac36-e9c0c1bcdf43",
   "metadata": {},
   "outputs": [],
   "source": [
    "assert sol.maximumTime(\"0?:3?\") == \"09:39\""
   ]
  },
  {
   "cell_type": "code",
   "execution_count": 5,
   "id": "e1f6e55b-8f9d-40bb-957f-d61e2eaf3886",
   "metadata": {},
   "outputs": [],
   "source": [
    "assert sol.maximumTime(\"1?:22\") == \"19:22\""
   ]
  }
 ],
 "metadata": {
  "kernelspec": {
   "display_name": "Python 3 (ipykernel)",
   "language": "python",
   "name": "python3"
  },
  "language_info": {
   "codemirror_mode": {
    "name": "ipython",
    "version": 3
   },
   "file_extension": ".py",
   "mimetype": "text/x-python",
   "name": "python",
   "nbconvert_exporter": "python",
   "pygments_lexer": "ipython3",
   "version": "3.9.7"
  }
 },
 "nbformat": 4,
 "nbformat_minor": 5
}
