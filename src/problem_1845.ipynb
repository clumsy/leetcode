{
 "cells": [
  {
   "cell_type": "markdown",
   "id": "fbb1a43e-fd7f-4bae-bae3-ddde89ef5ce8",
   "metadata": {},
   "source": [
    "[Problem 1845](https://leetcode.com/problems/seat-reservation-manager/description)"
   ]
  },
  {
   "cell_type": "code",
   "execution_count": 2,
   "id": "a7921991-4155-4a2e-85ab-b6840cac2db3",
   "metadata": {},
   "outputs": [],
   "source": [
    "from heapq import heappop, heappush"
   ]
  },
  {
   "cell_type": "code",
   "execution_count": 3,
   "id": "f73376fd-dd6b-4de3-820f-ea2ee611457d",
   "metadata": {},
   "outputs": [],
   "source": [
    "class SeatManager:\n",
    "    def __init__(self, n: int):\n",
    "        self.heap = list(range(1, n + 1))\n",
    "\n",
    "    def reserve(self) -> int:\n",
    "        return heappop(self.heap)\n",
    "        \n",
    "\n",
    "    def unreserve(self, seatNumber: int) -> None:\n",
    "        heappush(self.heap, seatNumber)"
   ]
  },
  {
   "cell_type": "code",
   "execution_count": 7,
   "id": "1b1d256c-b677-4507-ba4d-754757976a16",
   "metadata": {},
   "outputs": [],
   "source": [
    "sol = SeatManager(5)\n",
    "assert sol.reserve() == 1\n",
    "assert sol.reserve() == 2\n",
    "sol.unreserve(2)\n",
    "assert sol.reserve() == 2\n",
    "assert sol.reserve() == 3\n",
    "assert sol.reserve() == 4\n",
    "assert sol.reserve() == 5\n",
    "sol.unreserve(5)"
   ]
  }
 ],
 "metadata": {
  "kernelspec": {
   "display_name": "Python 3 (ipykernel)",
   "language": "python",
   "name": "python3"
  },
  "language_info": {
   "codemirror_mode": {
    "name": "ipython",
    "version": 3
   },
   "file_extension": ".py",
   "mimetype": "text/x-python",
   "name": "python",
   "nbconvert_exporter": "python",
   "pygments_lexer": "ipython3",
   "version": "3.9.7"
  }
 },
 "nbformat": 4,
 "nbformat_minor": 5
}
