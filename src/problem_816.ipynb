{
 "cells": [
  {
   "cell_type": "markdown",
   "id": "3ed30517-1b7c-4f3e-b827-6202a02e199c",
   "metadata": {},
   "source": [
    "[Problem 816](https://leetcode.com/problems/ambiguous-coordinates/description)"
   ]
  },
  {
   "cell_type": "code",
   "execution_count": 1,
   "id": "8d73fbb6-dd55-46df-a24c-df604e44fc21",
   "metadata": {},
   "outputs": [],
   "source": [
    "from typing import List"
   ]
  },
  {
   "cell_type": "code",
   "execution_count": 2,
   "id": "14ce3e6c-770d-482c-be6d-72671e30a9f8",
   "metadata": {},
   "outputs": [],
   "source": [
    "class Solution:\n",
    "    def ambiguousCoordinates(self, s: str) -> List[str]:\n",
    "        def variants(p):\n",
    "            res, n = [], len(p)\n",
    "            for i in range(n):\n",
    "                l, r = p[:i], p[i:]\n",
    "                if i > 0:\n",
    "                    if (l == \"0\" or l[0] != \"0\") and r[-1] != \"0\":\n",
    "                        res.append(f\"{l}.{r}\")\n",
    "                elif r == \"0\" or r[0] != \"0\":\n",
    "                    res.append(r)\n",
    "            return res\n",
    "        res, s = [], s[1:-1]\n",
    "        for i in range(1, len(s)):\n",
    "            vs = (f\"({x}, {y})\" for x in variants(s[:i]) for y in variants(s[i:]))\n",
    "            res.extend(vs)\n",
    "        return res"
   ]
  },
  {
   "cell_type": "code",
   "execution_count": 3,
   "id": "e60b5eaa-02de-425c-9f62-c8dd89202534",
   "metadata": {},
   "outputs": [],
   "source": [
    "sol = Solution()"
   ]
  },
  {
   "cell_type": "code",
   "execution_count": 4,
   "id": "7702ccdf-f5e9-488b-abdc-9e6f2bea1e46",
   "metadata": {},
   "outputs": [],
   "source": [
    "assert sol.ambiguousCoordinates(\"(123)\") == ['(1, 23)', '(1, 2.3)', '(12, 3)', '(1.2, 3)']"
   ]
  },
  {
   "cell_type": "code",
   "execution_count": 5,
   "id": "178a26ed-a3fd-43b1-b839-7ddfdbe04838",
   "metadata": {},
   "outputs": [],
   "source": [
    "assert sol.ambiguousCoordinates(\"(0123)\") == ['(0, 123)', '(0, 1.23)', '(0, 12.3)', '(0.1, 23)', '(0.1, 2.3)', '(0.12, 3)']"
   ]
  },
  {
   "cell_type": "code",
   "execution_count": 6,
   "id": "a2289462-b4bd-4ecf-98a2-ef044b7cd7ac",
   "metadata": {},
   "outputs": [],
   "source": [
    "assert sol.ambiguousCoordinates(\"(00011)\") == ['(0, 0.011)', '(0.001, 1)']"
   ]
  }
 ],
 "metadata": {
  "kernelspec": {
   "display_name": "Python 3 (ipykernel)",
   "language": "python",
   "name": "python3"
  },
  "language_info": {
   "codemirror_mode": {
    "name": "ipython",
    "version": 3
   },
   "file_extension": ".py",
   "mimetype": "text/x-python",
   "name": "python",
   "nbconvert_exporter": "python",
   "pygments_lexer": "ipython3",
   "version": "3.9.7"
  }
 },
 "nbformat": 4,
 "nbformat_minor": 5
}
