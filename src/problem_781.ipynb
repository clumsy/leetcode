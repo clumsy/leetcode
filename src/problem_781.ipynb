{
 "cells": [
  {
   "cell_type": "markdown",
   "id": "a779166f-3903-473b-8b43-7ad504784266",
   "metadata": {},
   "source": [
    "[Problem 781](https://leetcode.com/problems/rabbits-in-forest/description)"
   ]
  },
  {
   "cell_type": "code",
   "execution_count": 1,
   "id": "48070f3e-e7e8-49e8-8576-0146e1fcddc9",
   "metadata": {},
   "outputs": [],
   "source": [
    "from typing import List\n",
    "from collections import Counter"
   ]
  },
  {
   "cell_type": "code",
   "execution_count": 2,
   "id": "2401eef6-ca7c-4f5b-833d-27d297773e9c",
   "metadata": {},
   "outputs": [],
   "source": [
    "class Solution:\n",
    "    def numRabbits(self, answers: List[int]) -> int:\n",
    "        res, cnt = 0, Counter(answers)\n",
    "        for k, v in cnt.items():\n",
    "            d, r = divmod(v, k + 1)\n",
    "            res += (d + (r > 0)) * (k + 1)\n",
    "        return res"
   ]
  },
  {
   "cell_type": "code",
   "execution_count": 3,
   "id": "68f44dad-d9ac-4b0e-a40a-443d794028f1",
   "metadata": {},
   "outputs": [],
   "source": [
    "sol = Solution()"
   ]
  },
  {
   "cell_type": "code",
   "execution_count": 4,
   "id": "21625129-5977-471f-bee5-8e5694524852",
   "metadata": {},
   "outputs": [],
   "source": [
    "assert sol.numRabbits([1,1,2]) == 5"
   ]
  },
  {
   "cell_type": "code",
   "execution_count": 5,
   "id": "ef38af69-d535-4d2c-8398-df860842262e",
   "metadata": {},
   "outputs": [],
   "source": [
    "assert sol.numRabbits([10,10,10]) == 11"
   ]
  }
 ],
 "metadata": {
  "kernelspec": {
   "display_name": "Python 3 (ipykernel)",
   "language": "python",
   "name": "python3"
  },
  "language_info": {
   "codemirror_mode": {
    "name": "ipython",
    "version": 3
   },
   "file_extension": ".py",
   "mimetype": "text/x-python",
   "name": "python",
   "nbconvert_exporter": "python",
   "pygments_lexer": "ipython3",
   "version": "3.9.7"
  }
 },
 "nbformat": 4,
 "nbformat_minor": 5
}
