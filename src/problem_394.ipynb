{
 "cells": [
  {
   "cell_type": "markdown",
   "id": "27f87bc0-d60d-4b4a-9ee3-3b31e59ec0ee",
   "metadata": {},
   "source": [
    "[Problem 394](https://leetcode.com/problems/decode-string/description)"
   ]
  },
  {
   "cell_type": "code",
   "execution_count": 1,
   "id": "19f84a76-6ec5-4377-98cd-31d9677b54a9",
   "metadata": {},
   "outputs": [],
   "source": [
    "class Solution:\n",
    "    def decodeString(self, s: str) -> str:\n",
    "        st, n, res = [], 0, \"\"\n",
    "        for c in s:\n",
    "            if c.isdigit():\n",
    "                n = n * 10 + int(c)\n",
    "            elif c == \"[\":\n",
    "                st.append((n, res))\n",
    "                n, res = 0, \"\"\n",
    "            elif c == \"]\":\n",
    "                n, prev = st.pop()\n",
    "                res, n = prev + res * n, 0\n",
    "            else:\n",
    "                res += c\n",
    "        return res"
   ]
  },
  {
   "cell_type": "code",
   "execution_count": 2,
   "id": "b62e1a69-8d3c-41ba-bb9b-baf8c4cb1c28",
   "metadata": {},
   "outputs": [],
   "source": [
    "sol = Solution()"
   ]
  },
  {
   "cell_type": "code",
   "execution_count": 3,
   "id": "c6366985-92f4-4523-a204-8f1c63164984",
   "metadata": {},
   "outputs": [],
   "source": [
    "assert sol.decodeString(\"3[a]2[bc]\") == \"aaabcbc\""
   ]
  },
  {
   "cell_type": "code",
   "execution_count": 4,
   "id": "0625d022-94f3-4ed4-a159-aedb359a37fe",
   "metadata": {},
   "outputs": [],
   "source": [
    "assert sol.decodeString(\"3[a2[c]]\") == \"accaccacc\""
   ]
  },
  {
   "cell_type": "code",
   "execution_count": 5,
   "id": "b3f4b8b7-277e-43ef-8cab-dcfc05dec1e7",
   "metadata": {},
   "outputs": [],
   "source": [
    "assert sol.decodeString(\"2[abc]3[cd]ef\") == \"abcabccdcdcdef\""
   ]
  }
 ],
 "metadata": {
  "kernelspec": {
   "display_name": "Python 3 (ipykernel)",
   "language": "python",
   "name": "python3"
  },
  "language_info": {
   "codemirror_mode": {
    "name": "ipython",
    "version": 3
   },
   "file_extension": ".py",
   "mimetype": "text/x-python",
   "name": "python",
   "nbconvert_exporter": "python",
   "pygments_lexer": "ipython3",
   "version": "3.9.7"
  }
 },
 "nbformat": 4,
 "nbformat_minor": 5
}
