{
 "cells": [
  {
   "cell_type": "markdown",
   "id": "3d13e833-5c99-4210-a680-01b1aa44e79f",
   "metadata": {},
   "source": [
    "[Problem 1578](https://leetcode.com/problems/minimum-time-to-make-rope-colorful/description)"
   ]
  },
  {
   "cell_type": "code",
   "execution_count": 1,
   "id": "0a68a97e-e64e-437e-a107-fe94e7a8a65f",
   "metadata": {},
   "outputs": [],
   "source": [
    "from typing import List"
   ]
  },
  {
   "cell_type": "code",
   "execution_count": 2,
   "id": "9d7e8268-7b74-463b-bbc6-bad490ba2eb8",
   "metadata": {},
   "outputs": [],
   "source": [
    "class Solution:\n",
    "    def minCost(self, colors: str, neededTime: List[int]) -> int:\n",
    "        res = s = ma = 0\n",
    "        for i, e in enumerate(colors):\n",
    "            if i > 0 and colors[i - 1] == colors[i]:\n",
    "                ma = max(ma, neededTime[i])\n",
    "                s += neededTime[i]\n",
    "            else:\n",
    "                res += s - ma\n",
    "                s = ma = neededTime[i]\n",
    "        else:\n",
    "            res += s - ma\n",
    "        return res"
   ]
  },
  {
   "cell_type": "code",
   "execution_count": 3,
   "id": "188cd45d-dbfb-4245-a8a2-7d1da0f90860",
   "metadata": {},
   "outputs": [],
   "source": [
    "sol = Solution()"
   ]
  },
  {
   "cell_type": "code",
   "execution_count": 4,
   "id": "653e0871-78e9-40e6-82b7-349b390ee0be",
   "metadata": {},
   "outputs": [],
   "source": [
    "assert sol.minCost(\"abaac\", [1,2,3,4,5]) == 3"
   ]
  },
  {
   "cell_type": "code",
   "execution_count": 5,
   "id": "b43a9fea-b9ec-41b3-a986-b7f8c45cec29",
   "metadata": {},
   "outputs": [],
   "source": [
    "assert sol.minCost(\"abc\", [1,2,3]) == 0"
   ]
  },
  {
   "cell_type": "code",
   "execution_count": 6,
   "id": "e422c483-4f5b-46ef-90e5-454b06419bf8",
   "metadata": {},
   "outputs": [],
   "source": [
    "assert sol.minCost(\"aabaa\", [1,2,3,4,1]) == 2"
   ]
  }
 ],
 "metadata": {
  "kernelspec": {
   "display_name": "Python 3 (ipykernel)",
   "language": "python",
   "name": "python3"
  },
  "language_info": {
   "codemirror_mode": {
    "name": "ipython",
    "version": 3
   },
   "file_extension": ".py",
   "mimetype": "text/x-python",
   "name": "python",
   "nbconvert_exporter": "python",
   "pygments_lexer": "ipython3",
   "version": "3.9.7"
  }
 },
 "nbformat": 4,
 "nbformat_minor": 5
}
