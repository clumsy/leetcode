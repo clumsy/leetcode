{
 "cells": [
  {
   "cell_type": "markdown",
   "id": "f27d00e4-3678-470e-9554-4c37e557cae1",
   "metadata": {},
   "source": [
    "[Problem 1743](https://leetcode.com/problems/restore-the-array-from-adjacent-pairs/description)"
   ]
  },
  {
   "cell_type": "code",
   "execution_count": 1,
   "id": "964a2cb6-6276-4934-a20e-a15497644d6f",
   "metadata": {},
   "outputs": [],
   "source": [
    "from typing import List\n",
    "from collections import defaultdict"
   ]
  },
  {
   "cell_type": "code",
   "execution_count": 2,
   "id": "0879ec3d-c1dc-45b1-8f2e-4e9a12763b8d",
   "metadata": {},
   "outputs": [],
   "source": [
    "class Solution:\n",
    "    def restoreArray(self, adjacentPairs: List[List[int]]) -> List[int]:\n",
    "        res = []\n",
    "        adj = defaultdict(list)\n",
    "        for u, v in adjacentPairs:\n",
    "            adj[u].append(v)\n",
    "            adj[v].append(u)\n",
    "        visited = {v: False for v in adj}\n",
    "        start = next(v for v in adj if len(adj[v]) == 1)\n",
    "\n",
    "        def dfs(v):\n",
    "            res.append(v)\n",
    "            visited[v] = True\n",
    "            for u in adj[v]:\n",
    "                if not visited[u]:\n",
    "                    dfs(u)\n",
    "\n",
    "        dfs(start)\n",
    "        return res"
   ]
  },
  {
   "cell_type": "code",
   "execution_count": 3,
   "id": "0dc41b0f-b6df-45f6-9489-3549c58bd116",
   "metadata": {},
   "outputs": [],
   "source": [
    "sol = Solution()"
   ]
  },
  {
   "cell_type": "code",
   "execution_count": 4,
   "id": "5000e8ea-d963-4b6f-9c43-57dc724f1d65",
   "metadata": {},
   "outputs": [],
   "source": [
    "assert sol.restoreArray([[2,1],[3,4],[3,2]]) == [1,2,3,4]"
   ]
  },
  {
   "cell_type": "code",
   "execution_count": 6,
   "id": "a2ba752d-8080-4c49-901e-a2d256fb7dc5",
   "metadata": {},
   "outputs": [],
   "source": [
    "assert sol.restoreArray([[4,-2],[1,4],[-3,1]]) == [-2,4,1,-3]"
   ]
  },
  {
   "cell_type": "code",
   "execution_count": 10,
   "id": "e596c15f-e93e-4649-8d13-4b84e3051f7f",
   "metadata": {},
   "outputs": [],
   "source": [
    "assert sol.restoreArray([[100000,-100000]]) == [100000,-100000]"
   ]
  }
 ],
 "metadata": {
  "kernelspec": {
   "display_name": "Python 3 (ipykernel)",
   "language": "python",
   "name": "python3"
  },
  "language_info": {
   "codemirror_mode": {
    "name": "ipython",
    "version": 3
   },
   "file_extension": ".py",
   "mimetype": "text/x-python",
   "name": "python",
   "nbconvert_exporter": "python",
   "pygments_lexer": "ipython3",
   "version": "3.9.7"
  }
 },
 "nbformat": 4,
 "nbformat_minor": 5
}
