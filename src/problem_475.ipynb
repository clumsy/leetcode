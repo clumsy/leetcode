{
 "cells": [
  {
   "cell_type": "markdown",
   "id": "c2349360-84fc-46d9-b338-5408d4ec27d0",
   "metadata": {},
   "source": [
    "[Problem 475](https://leetcode.com/problems/heaters)"
   ]
  },
  {
   "cell_type": "code",
   "execution_count": 6,
   "id": "b2b56c01-9512-42d0-8683-9d290a64d219",
   "metadata": {},
   "outputs": [],
   "source": [
    "from typing import List\n",
    "from bisect import bisect_left"
   ]
  },
  {
   "cell_type": "code",
   "execution_count": 11,
   "id": "cfde3c34-2103-4b01-8657-e9fe573c2c9f",
   "metadata": {},
   "outputs": [],
   "source": [
    "class Solution:\n",
    "    def findRadius(self, houses: List[int], heaters: List[int]) -> int:\n",
    "        heaters.sort()\n",
    "\n",
    "\n",
    "        def heated(ho, r):\n",
    "            h = bisect_left(heaters, ho - r)\n",
    "            return h < len(heaters) and heaters[h] - r <= ho <= heaters[h] + r\n",
    "\n",
    "\n",
    "        lo, hi = 0, max(max(houses), heaters[-1])\n",
    "        while lo < hi:\n",
    "            mi = (lo + hi) // 2\n",
    "            if all(heated(ho, mi) for ho in houses):\n",
    "                hi = mi\n",
    "            else:\n",
    "                lo = mi + 1\n",
    "\n",
    "        return lo"
   ]
  },
  {
   "cell_type": "code",
   "execution_count": 12,
   "id": "63aa299a-1a48-44d8-9af4-be0537987e71",
   "metadata": {},
   "outputs": [],
   "source": [
    "class Solution:\n",
    "    def findRadius(self, houses: List[int], heaters: List[int]) -> int:\n",
    "        heaters.sort()\n",
    "        res = max(\n",
    "                  min(abs(house - heater)\n",
    "                     for i in [bisect_left(heaters, house)]\n",
    "                         for heater in heaters[max(0, i - 1): i + 2])\n",
    "                  for house in houses)\n",
    "        return res"
   ]
  },
  {
   "cell_type": "code",
   "execution_count": 13,
   "id": "61f8fe7a-d28a-4079-b86a-4bedee01fdf2",
   "metadata": {},
   "outputs": [],
   "source": [
    "sol = Solution()"
   ]
  },
  {
   "cell_type": "code",
   "execution_count": 14,
   "id": "fcec1805-aa9c-44ef-8b6d-37e21391ed35",
   "metadata": {},
   "outputs": [],
   "source": [
    "assert sol.findRadius([1,2,3], [2]) == 1"
   ]
  },
  {
   "cell_type": "code",
   "execution_count": 15,
   "id": "da39155b-ca5b-49d9-bc6f-f879e44dbb8b",
   "metadata": {},
   "outputs": [],
   "source": [
    "assert sol.findRadius([1,2,3,4], [1,4]) == 1"
   ]
  }
 ],
 "metadata": {
  "kernelspec": {
   "display_name": "Python 3 (ipykernel)",
   "language": "python",
   "name": "python3"
  },
  "language_info": {
   "codemirror_mode": {
    "name": "ipython",
    "version": 3
   },
   "file_extension": ".py",
   "mimetype": "text/x-python",
   "name": "python",
   "nbconvert_exporter": "python",
   "pygments_lexer": "ipython3",
   "version": "3.9.7"
  }
 },
 "nbformat": 4,
 "nbformat_minor": 5
}
