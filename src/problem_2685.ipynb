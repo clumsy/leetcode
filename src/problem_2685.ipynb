{
 "cells": [
  {
   "cell_type": "markdown",
   "id": "e05b958f-225b-4a90-af02-a8e998ca97d9",
   "metadata": {},
   "source": [
    "[Problem 2685](https://leetcode.com/problems/count-the-number-of-complete-components/description)"
   ]
  },
  {
   "cell_type": "code",
   "execution_count": 1,
   "id": "970641d4-6973-48a1-bab5-d1a71836ee43",
   "metadata": {},
   "outputs": [],
   "source": [
    "from typing import List\n",
    "from collections import defaultdict, Counter"
   ]
  },
  {
   "cell_type": "code",
   "execution_count": 2,
   "id": "fbd35c6d-0293-4417-a84a-a8f806e32191",
   "metadata": {},
   "outputs": [],
   "source": [
    "class Solution:\n",
    "    def countCompleteComponents(self, n: int, edges: List[List[int]]) -> int:\n",
    "        class UnionFind:\n",
    "            def __init__(self, n):\n",
    "                self.prnt = [i for i in range(n)]\n",
    "                self.size = [1] * n\n",
    "            \n",
    "            def find(self, i):\n",
    "                p = self.prnt[i]\n",
    "                if i != p:\n",
    "                    self.prnt[i] = self.find(p)\n",
    "                return self.prnt[i]\n",
    "\n",
    "            def union(self, i, j):\n",
    "                pi, pj = self.find(i), self.find(j)\n",
    "                if pi != pj:\n",
    "                    if self.size[pi] < self.size[pj]:\n",
    "                        pi, pj = pj, pi\n",
    "                    self.prnt[pj] = pi\n",
    "                    self.size[pi] += self.size[pj]\n",
    "                return pi\n",
    "\n",
    "        cnt = defaultdict(int)\n",
    "        uf = UnionFind(n)\n",
    "        for i, j in edges:\n",
    "            cnt[i] += 1\n",
    "            cnt[j] += 1\n",
    "            uf.union(i, j)\n",
    "        valid = Counter(uf.find(i) for i in range(n) if cnt[i] == uf.size[uf.find(i)] - 1)\n",
    "        res = sum(v == uf.size[k] for k, v in valid.items())\n",
    "        return res"
   ]
  },
  {
   "cell_type": "code",
   "execution_count": 3,
   "id": "7612fab6-cd3d-4c8f-ba23-79e9a606d49c",
   "metadata": {},
   "outputs": [],
   "source": [
    "sol = Solution()"
   ]
  },
  {
   "cell_type": "code",
   "execution_count": 4,
   "id": "4a8a9b6d-9ec0-47ae-af37-aa2d5818d4ae",
   "metadata": {},
   "outputs": [],
   "source": [
    "assert sol.countCompleteComponents(6, [[0,1],[0,2],[1,2],[3,4]]) == 3"
   ]
  },
  {
   "cell_type": "code",
   "execution_count": 5,
   "id": "a26f7d0e-639d-4ba6-8d99-6d2ec49ee4d7",
   "metadata": {},
   "outputs": [],
   "source": [
    "assert sol.countCompleteComponents(6, [[0,1],[0,2],[1,2],[3,4],[3,5]]) == 1"
   ]
  }
 ],
 "metadata": {
  "kernelspec": {
   "display_name": "Python 3 (ipykernel)",
   "language": "python",
   "name": "python3"
  },
  "language_info": {
   "codemirror_mode": {
    "name": "ipython",
    "version": 3
   },
   "file_extension": ".py",
   "mimetype": "text/x-python",
   "name": "python",
   "nbconvert_exporter": "python",
   "pygments_lexer": "ipython3",
   "version": "3.9.7"
  }
 },
 "nbformat": 4,
 "nbformat_minor": 5
}
