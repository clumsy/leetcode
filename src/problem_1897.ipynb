{
 "cells": [
  {
   "cell_type": "markdown",
   "id": "f62874e0-c02a-4bd6-891b-792c44d03c90",
   "metadata": {},
   "source": [
    "[Problem 1897](https://leetcode.com/problems/redistribute-characters-to-make-all-strings-equal/description)"
   ]
  },
  {
   "cell_type": "code",
   "execution_count": 5,
   "id": "4d13a3ce-d638-433c-ac20-9287a25d99f6",
   "metadata": {},
   "outputs": [],
   "source": [
    "from typing import List\n",
    "from collections import Counter"
   ]
  },
  {
   "cell_type": "code",
   "execution_count": 6,
   "id": "8988cf4e-fcfe-4a04-94bc-05b0685df4e7",
   "metadata": {},
   "outputs": [],
   "source": [
    "class Solution:\n",
    "    def makeEqual(self, words: List[str]) -> bool:\n",
    "        n, cnt = len(words), Counter()\n",
    "        for w in words:\n",
    "            cnt.update(w)\n",
    "        res = all(v % n == 0 for v in cnt.values())\n",
    "        return res"
   ]
  },
  {
   "cell_type": "code",
   "execution_count": 7,
   "id": "416567cb-ef74-49f1-98bc-f0c7971749cb",
   "metadata": {},
   "outputs": [],
   "source": [
    "sol = Solution()"
   ]
  },
  {
   "cell_type": "code",
   "execution_count": 8,
   "id": "72bf9fb1-7be6-4ee0-b255-1a48991f7658",
   "metadata": {},
   "outputs": [],
   "source": [
    "assert sol.makeEqual([\"abc\",\"aabc\",\"bc\"])"
   ]
  },
  {
   "cell_type": "code",
   "execution_count": 10,
   "id": "38b01991-99fc-43f3-bace-81d1c175fd65",
   "metadata": {},
   "outputs": [],
   "source": [
    "assert not sol.makeEqual([\"ab\",\"a\"])"
   ]
  }
 ],
 "metadata": {
  "kernelspec": {
   "display_name": "Python 3 (ipykernel)",
   "language": "python",
   "name": "python3"
  },
  "language_info": {
   "codemirror_mode": {
    "name": "ipython",
    "version": 3
   },
   "file_extension": ".py",
   "mimetype": "text/x-python",
   "name": "python",
   "nbconvert_exporter": "python",
   "pygments_lexer": "ipython3",
   "version": "3.9.7"
  }
 },
 "nbformat": 4,
 "nbformat_minor": 5
}
