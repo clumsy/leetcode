{
 "cells": [
  {
   "cell_type": "markdown",
   "id": "0e008f1a-ed69-447e-b50b-f3cae58bc000",
   "metadata": {},
   "source": [
    "[Problem 2942](https://leetcode.com/problems/find-words-containing-character/description)"
   ]
  },
  {
   "cell_type": "code",
   "execution_count": 1,
   "id": "154c4894-9d78-46a8-aa88-b399362cbf13",
   "metadata": {},
   "outputs": [],
   "source": [
    "from typing import List"
   ]
  },
  {
   "cell_type": "code",
   "execution_count": 2,
   "id": "20c2e59a-b854-44ba-b2da-d682b699a518",
   "metadata": {},
   "outputs": [],
   "source": [
    "class Solution:\n",
    "    def findWordsContaining(self, words: List[str], x: str) -> List[int]:\n",
    "        res = [i for i, w in enumerate(words) if x in w]\n",
    "        return res"
   ]
  },
  {
   "cell_type": "code",
   "execution_count": 3,
   "id": "0bd47ff7-d3de-493b-a1c4-bf1e5ce41f12",
   "metadata": {},
   "outputs": [],
   "source": [
    "sol = Solution()"
   ]
  },
  {
   "cell_type": "code",
   "execution_count": 4,
   "id": "56654d18-329d-40cf-955b-65972314c9a6",
   "metadata": {},
   "outputs": [],
   "source": [
    "assert sol.findWordsContaining([\"leet\",\"code\"], \"e\") == [0,1]"
   ]
  },
  {
   "cell_type": "code",
   "execution_count": 5,
   "id": "567483ed-676a-4efa-a677-43d975cb031a",
   "metadata": {},
   "outputs": [],
   "source": [
    "assert sol.findWordsContaining([\"abc\",\"bcd\",\"aaaa\",\"cbc\"], \"a\") == [0,2]"
   ]
  },
  {
   "cell_type": "code",
   "execution_count": 6,
   "id": "80bd7118-d9ec-4200-a6ac-e93d1c8197c2",
   "metadata": {},
   "outputs": [],
   "source": [
    "assert sol.findWordsContaining([\"abc\",\"bcd\",\"aaaa\",\"cbc\"], \"z\") == []"
   ]
  }
 ],
 "metadata": {
  "kernelspec": {
   "display_name": "Python 3 (ipykernel)",
   "language": "python",
   "name": "python3"
  },
  "language_info": {
   "codemirror_mode": {
    "name": "ipython",
    "version": 3
   },
   "file_extension": ".py",
   "mimetype": "text/x-python",
   "name": "python",
   "nbconvert_exporter": "python",
   "pygments_lexer": "ipython3",
   "version": "3.9.7"
  }
 },
 "nbformat": 4,
 "nbformat_minor": 5
}
