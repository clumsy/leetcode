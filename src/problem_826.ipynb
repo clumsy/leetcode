{
 "cells": [
  {
   "cell_type": "markdown",
   "id": "6642bf78-5824-4140-82fd-287363e957ef",
   "metadata": {},
   "source": [
    "[Problem 826](https://leetcode.com/problems/most-profit-assigning-work/)"
   ]
  },
  {
   "cell_type": "code",
   "execution_count": 6,
   "id": "4da62207-ff01-4113-920c-cca06fbcd3a1",
   "metadata": {},
   "outputs": [],
   "source": [
    "from typing import List\n",
    "from bisect import bisect_right"
   ]
  },
  {
   "cell_type": "code",
   "execution_count": 7,
   "id": "c61b429f-526d-40ff-82d6-097d65d660b9",
   "metadata": {},
   "outputs": [],
   "source": [
    "class Solution:\n",
    "    def maxProfitAssignment(self, difficulty: List[int], profit: List[int], worker: List[int]) -> int:\n",
    "        n, res, m = len(profit), 0, 0\n",
    "        d = sorted([difficulty[i], profit[i]] for i in range(n))\n",
    "        for i in d:\n",
    "            m = max(m, i[1])\n",
    "            i[1] = m\n",
    "        for w in worker:\n",
    "            i = bisect_right(d, [w + 1]) - 1\n",
    "            res += 0 if i < 0 else d[i][1]\n",
    "        return res"
   ]
  },
  {
   "cell_type": "code",
   "execution_count": 11,
   "id": "5f317b72-892f-4b57-95ba-806a01b9541e",
   "metadata": {},
   "outputs": [],
   "source": [
    "class Solution:\n",
    "    def maxProfitAssignment(self, difficulty: List[int], profit: List[int], worker: List[int]) -> int:\n",
    "        jobs = sorted(zip(difficulty, profit))\n",
    "        res, m, i, n = 0, 0, 0, len(profit)\n",
    "        for w in sorted(worker):\n",
    "            while i < n and w >= jobs[i][0]:\n",
    "                m = max(m, jobs[i][1])\n",
    "                i += 1\n",
    "            res += m\n",
    "        return res"
   ]
  },
  {
   "cell_type": "code",
   "execution_count": 12,
   "id": "149b40b7-a1fc-46b7-aa4d-5300740b190d",
   "metadata": {},
   "outputs": [],
   "source": [
    "sol = Solution()"
   ]
  },
  {
   "cell_type": "code",
   "execution_count": 13,
   "id": "1ca39259-3a1b-4386-9630-7f15e96d452d",
   "metadata": {},
   "outputs": [],
   "source": [
    "assert sol.maxProfitAssignment(difficulty = [2,4,6,8,10], profit = [10,20,30,40,50], worker = [4,5,6,7]) == 100"
   ]
  },
  {
   "cell_type": "code",
   "execution_count": 14,
   "id": "a1200188-867f-435f-9257-6405983d6952",
   "metadata": {},
   "outputs": [],
   "source": [
    "assert sol.maxProfitAssignment(difficulty = [85,47,57], profit = [24,66,99], worker = [40,25,25]) == 0"
   ]
  }
 ],
 "metadata": {
  "kernelspec": {
   "display_name": "Python 3 (ipykernel)",
   "language": "python",
   "name": "python3"
  },
  "language_info": {
   "codemirror_mode": {
    "name": "ipython",
    "version": 3
   },
   "file_extension": ".py",
   "mimetype": "text/x-python",
   "name": "python",
   "nbconvert_exporter": "python",
   "pygments_lexer": "ipython3",
   "version": "3.9.7"
  }
 },
 "nbformat": 4,
 "nbformat_minor": 5
}
