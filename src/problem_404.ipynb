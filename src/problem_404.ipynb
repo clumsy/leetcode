{
 "cells": [
  {
   "cell_type": "markdown",
   "id": "fd9eef07-eb8d-4db3-8b4f-bf610f530341",
   "metadata": {},
   "source": [
    "[Problem 404]()"
   ]
  },
  {
   "cell_type": "code",
   "execution_count": 1,
   "id": "64e4738f-e24e-4b04-bb00-e44576d96867",
   "metadata": {},
   "outputs": [],
   "source": [
    "# Definition for a binary tree node.\n",
    "class TreeNode:\n",
    "    def __init__(self, val=0, left=None, right=None):\n",
    "        self.val = val\n",
    "        self.left = left\n",
    "        self.right = right"
   ]
  },
  {
   "cell_type": "code",
   "execution_count": 2,
   "id": "e7e82499-31da-40dc-9dff-c988a06273ac",
   "metadata": {},
   "outputs": [],
   "source": [
    "from typing import Optional"
   ]
  },
  {
   "cell_type": "code",
   "execution_count": 3,
   "id": "3bf2fb54-2ccb-44c7-9f0e-d52bc629f5f6",
   "metadata": {},
   "outputs": [],
   "source": [
    "class Solution:\n",
    "    def sumOfLeftLeaves(self, root: Optional[TreeNode]) -> int:\n",
    "        def dfs(node, parent):\n",
    "            if node is None:\n",
    "                return 0\n",
    "            if node.left is None and node.right is None:\n",
    "                return node.val if parent and parent.left == node else 0\n",
    "            return dfs(node.left, node) + dfs(node.right, node)\n",
    "        res = dfs(root, None)\n",
    "        return res"
   ]
  },
  {
   "cell_type": "code",
   "execution_count": 4,
   "id": "71f5e09a-2935-4608-a43c-58fda9f9f606",
   "metadata": {},
   "outputs": [],
   "source": [
    "sol = Solution()"
   ]
  },
  {
   "cell_type": "code",
   "execution_count": 5,
   "id": "84a4a087-f574-4136-9427-f8f92b3d1b59",
   "metadata": {},
   "outputs": [],
   "source": [
    "from collections import deque\n",
    "\n",
    "null = None  # to use Leetcode samples as is\n",
    "\n",
    "def tree(values):\n",
    "    if not values:\n",
    "        return null\n",
    "    root = TreeNode(values[0])\n",
    "    queue = deque()\n",
    "    queue.append(root)\n",
    "    queue.append(None)\n",
    "    length = len(values)\n",
    "    i = 0\n",
    "    while queue:\n",
    "        current = queue.popleft()\n",
    "        if current:\n",
    "            i += 1\n",
    "            if i < length and values[i]:\n",
    "                current.left = TreeNode(values[i])\n",
    "                queue.append(current.left)\n",
    "            i += 1\n",
    "            if i < length and values[i]:\n",
    "                current.right = TreeNode(values[i])\n",
    "                queue.append(current.right)\n",
    "            if i == length:\n",
    "                return root\n",
    "        else:\n",
    "            if queue:\n",
    "                queue.append(None)\n",
    "    return root"
   ]
  },
  {
   "cell_type": "code",
   "execution_count": 7,
   "id": "6bc403e0-6825-49bd-b5a0-ed224af64c42",
   "metadata": {},
   "outputs": [],
   "source": [
    "assert sol.sumOfLeftLeaves(tree([3,9,20,null,null,15,7])) == 24"
   ]
  },
  {
   "cell_type": "code",
   "execution_count": null,
   "id": "a1df3f60-772b-43b0-ab75-ebf6223c64bc",
   "metadata": {},
   "outputs": [],
   "source": [
    "assert sol.sumOfLeftLeaves(tree([1])) == 0"
   ]
  }
 ],
 "metadata": {
  "kernelspec": {
   "display_name": "Python 3 (ipykernel)",
   "language": "python",
   "name": "python3"
  },
  "language_info": {
   "codemirror_mode": {
    "name": "ipython",
    "version": 3
   },
   "file_extension": ".py",
   "mimetype": "text/x-python",
   "name": "python",
   "nbconvert_exporter": "python",
   "pygments_lexer": "ipython3",
   "version": "3.9.7"
  }
 },
 "nbformat": 4,
 "nbformat_minor": 5
}
