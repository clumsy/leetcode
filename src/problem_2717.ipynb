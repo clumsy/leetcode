{
 "cells": [
  {
   "cell_type": "markdown",
   "id": "e55f116a-699b-42ab-b7bb-8e6c8266c4a6",
   "metadata": {},
   "source": [
    "[Problem 2717](https://leetcode.com/problems/semi-ordered-permutation/description)"
   ]
  },
  {
   "cell_type": "code",
   "execution_count": 1,
   "id": "793ccc3b-d99e-4481-b965-061ad9f46540",
   "metadata": {},
   "outputs": [],
   "source": [
    "from typing import List"
   ]
  },
  {
   "cell_type": "code",
   "execution_count": 2,
   "id": "495ace29-68d2-42f0-ab07-ef236e64a886",
   "metadata": {},
   "outputs": [],
   "source": [
    "class Solution:\n",
    "    def semiOrderedPermutation(self, nums: List[int]) -> int:\n",
    "        n = len(nums)\n",
    "        one, nth = nums.index(1), nums.index(n)\n",
    "        res = one + (n - 1 - nth) - (1 if one > nth else 0)\n",
    "        return res"
   ]
  },
  {
   "cell_type": "code",
   "execution_count": 3,
   "id": "d00f1d55-c376-4c75-b754-2151839d1af3",
   "metadata": {},
   "outputs": [],
   "source": [
    "sol = Solution()"
   ]
  },
  {
   "cell_type": "code",
   "execution_count": 4,
   "id": "7f38a302-d936-413f-a807-d568d3628d42",
   "metadata": {},
   "outputs": [],
   "source": [
    "assert sol.semiOrderedPermutation([2,1,4,3]) == 2"
   ]
  },
  {
   "cell_type": "code",
   "execution_count": 5,
   "id": "8fa92cf3-0efd-4c40-be3f-1402c7272393",
   "metadata": {},
   "outputs": [],
   "source": [
    "assert sol.semiOrderedPermutation([2,4,1,3]) == 3"
   ]
  },
  {
   "cell_type": "code",
   "execution_count": 6,
   "id": "4e9b0f87-4124-4a8c-844f-5961c6030997",
   "metadata": {},
   "outputs": [],
   "source": [
    "assert sol.semiOrderedPermutation([1,3,4,2,5]) == 0"
   ]
  }
 ],
 "metadata": {
  "kernelspec": {
   "display_name": "Python 3 (ipykernel)",
   "language": "python",
   "name": "python3"
  },
  "language_info": {
   "codemirror_mode": {
    "name": "ipython",
    "version": 3
   },
   "file_extension": ".py",
   "mimetype": "text/x-python",
   "name": "python",
   "nbconvert_exporter": "python",
   "pygments_lexer": "ipython3",
   "version": "3.9.7"
  }
 },
 "nbformat": 4,
 "nbformat_minor": 5
}
