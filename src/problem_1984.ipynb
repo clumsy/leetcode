{
 "cells": [
  {
   "cell_type": "markdown",
   "id": "33dba128-7f59-45af-9c5c-feab31c8e160",
   "metadata": {},
   "source": [
    "[Problem 1984]()"
   ]
  },
  {
   "cell_type": "code",
   "execution_count": 1,
   "id": "089a1808-ffff-4cf8-9aa2-38b1c1375a2d",
   "metadata": {},
   "outputs": [],
   "source": [
    "from typing import List\n",
    "from math import inf"
   ]
  },
  {
   "cell_type": "code",
   "execution_count": 2,
   "id": "aaff7c3f-e8fc-4748-83b1-31c7dfeb5c47",
   "metadata": {},
   "outputs": [],
   "source": [
    "class Solution:\n",
    "    def minimumDifference(self, nums: List[int], k: int) -> int:\n",
    "        nums.sort()\n",
    "        res = inf\n",
    "        for i in range(len(nums) - k + 1):\n",
    "            res = min(res, nums[i + k - 1] - nums[i])\n",
    "        return res"
   ]
  },
  {
   "cell_type": "code",
   "execution_count": 3,
   "id": "d7fa5fa2-b6f0-4632-a293-216e48719386",
   "metadata": {},
   "outputs": [],
   "source": [
    "sol = Solution()"
   ]
  },
  {
   "cell_type": "code",
   "execution_count": 4,
   "id": "894be336-be6f-4be6-984d-b74c232161b7",
   "metadata": {},
   "outputs": [],
   "source": [
    "assert sol.minimumDifference([90], 1) == 0"
   ]
  },
  {
   "cell_type": "code",
   "execution_count": 5,
   "id": "7886dbd3-dc57-433d-bdc1-d88c52a543a9",
   "metadata": {},
   "outputs": [],
   "source": [
    "assert sol.minimumDifference([9,4,1,7], 2) == 2"
   ]
  }
 ],
 "metadata": {
  "kernelspec": {
   "display_name": "Python 3 (ipykernel)",
   "language": "python",
   "name": "python3"
  },
  "language_info": {
   "codemirror_mode": {
    "name": "ipython",
    "version": 3
   },
   "file_extension": ".py",
   "mimetype": "text/x-python",
   "name": "python",
   "nbconvert_exporter": "python",
   "pygments_lexer": "ipython3",
   "version": "3.9.7"
  }
 },
 "nbformat": 4,
 "nbformat_minor": 5
}
