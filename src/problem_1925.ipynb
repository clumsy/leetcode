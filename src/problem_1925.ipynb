{
 "cells": [
  {
   "cell_type": "markdown",
   "id": "b65ce1b0-82ca-47d4-a994-3e483283bf0b",
   "metadata": {},
   "source": [
    "[Problem 1925](https://leetcode.com/problems/count-square-sum-triples/description)"
   ]
  },
  {
   "cell_type": "code",
   "execution_count": 1,
   "id": "9b6b8259-9345-43a5-8a95-e4dce69fadbb",
   "metadata": {},
   "outputs": [],
   "source": [
    "from typing import List"
   ]
  },
  {
   "cell_type": "code",
   "execution_count": 2,
   "id": "a1638988-6881-488e-a35e-4eef44dc19d6",
   "metadata": {},
   "outputs": [],
   "source": [
    "class Solution:\n",
    "    def countTriples(self, n: int) -> int:\n",
    "        res = 0\n",
    "        squares = set(i ** 2 for i in range(1, n + 1))\n",
    "        for a_2 in squares:\n",
    "            for b_2 in squares:\n",
    "                res += (a_2 + b_2) in squares\n",
    "        return res"
   ]
  },
  {
   "cell_type": "code",
   "execution_count": 3,
   "id": "271fc3a1-f2f8-45c5-a6ff-3953e8e8379b",
   "metadata": {},
   "outputs": [],
   "source": [
    "sol = Solution()"
   ]
  },
  {
   "cell_type": "code",
   "execution_count": 4,
   "id": "c811475b-3c04-4f6b-a626-9f1d2fd5e783",
   "metadata": {},
   "outputs": [],
   "source": [
    "assert sol.countTriples(5) == 2"
   ]
  },
  {
   "cell_type": "code",
   "execution_count": 5,
   "id": "77056c9e-2698-4c10-9aae-37e6226ddffb",
   "metadata": {},
   "outputs": [],
   "source": [
    "assert sol.countTriples(10) == 4"
   ]
  }
 ],
 "metadata": {
  "kernelspec": {
   "display_name": "Python 3 (ipykernel)",
   "language": "python",
   "name": "python3"
  },
  "language_info": {
   "codemirror_mode": {
    "name": "ipython",
    "version": 3
   },
   "file_extension": ".py",
   "mimetype": "text/x-python",
   "name": "python",
   "nbconvert_exporter": "python",
   "pygments_lexer": "ipython3",
   "version": "3.9.7"
  }
 },
 "nbformat": 4,
 "nbformat_minor": 5
}
