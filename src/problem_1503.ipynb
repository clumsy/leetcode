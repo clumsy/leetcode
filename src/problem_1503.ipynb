{
 "cells": [
  {
   "cell_type": "markdown",
   "id": "60a2f6ba-ce1e-4c5f-842b-36b513d47f10",
   "metadata": {},
   "source": [
    "[Problem 1503](https://leetcode.com/problems/last-moment-before-all-ants-fall-out-of-a-plank)"
   ]
  },
  {
   "cell_type": "code",
   "execution_count": 2,
   "id": "f3489452-1e5d-46c8-af85-9b3e72edd733",
   "metadata": {},
   "outputs": [],
   "source": [
    "from typing import List"
   ]
  },
  {
   "cell_type": "code",
   "execution_count": 4,
   "id": "046b83ae-5e55-4738-bb84-52b1e2f588ef",
   "metadata": {},
   "outputs": [],
   "source": [
    "class Solution:\n",
    "    def getLastMoment(self, n: int, left: List[int], right: List[int]) -> int:\n",
    "        res = 0\n",
    "        for l in left:\n",
    "            res = max(res, l)\n",
    "        for r in right:\n",
    "            res = max(res, n - r)\n",
    "        return res"
   ]
  },
  {
   "cell_type": "code",
   "execution_count": 5,
   "id": "3792ed22-be5b-4e48-8852-b0d125609be4",
   "metadata": {},
   "outputs": [],
   "source": [
    "sol = Solution()"
   ]
  },
  {
   "cell_type": "code",
   "execution_count": 6,
   "id": "6dd4b081-d504-488f-b0ab-23310bcfaa1d",
   "metadata": {},
   "outputs": [],
   "source": [
    "assert sol.getLastMoment(4, [4,3], [0,1]) == 4"
   ]
  },
  {
   "cell_type": "code",
   "execution_count": 7,
   "id": "f3544c58-37a2-4482-bc07-8011731d19f7",
   "metadata": {},
   "outputs": [],
   "source": [
    "assert sol.getLastMoment(7, [], [0,1,2,3,4,5,6,7]) == 7"
   ]
  },
  {
   "cell_type": "code",
   "execution_count": 8,
   "id": "f52e2f4a-c579-424f-8fe6-d8737b3fcd0e",
   "metadata": {},
   "outputs": [],
   "source": [
    "assert sol.getLastMoment(7, [0,1,2,3,4,5,6,7], []) == 7"
   ]
  }
 ],
 "metadata": {
  "kernelspec": {
   "display_name": "Python 3 (ipykernel)",
   "language": "python",
   "name": "python3"
  },
  "language_info": {
   "codemirror_mode": {
    "name": "ipython",
    "version": 3
   },
   "file_extension": ".py",
   "mimetype": "text/x-python",
   "name": "python",
   "nbconvert_exporter": "python",
   "pygments_lexer": "ipython3",
   "version": "3.9.7"
  }
 },
 "nbformat": 4,
 "nbformat_minor": 5
}
