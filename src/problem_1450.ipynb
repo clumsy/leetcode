{
 "cells": [
  {
   "cell_type": "markdown",
   "id": "9dee6b5e-8d5d-4972-ace0-4f123e763b69",
   "metadata": {},
   "source": [
    "[Problem 1450](https://leetcode.com/problems/number-of-students-doing-homework-at-a-given-time/description)"
   ]
  },
  {
   "cell_type": "code",
   "execution_count": 1,
   "id": "85025aec-b566-4553-84c6-2c9660335fec",
   "metadata": {},
   "outputs": [],
   "source": [
    "from typing import List"
   ]
  },
  {
   "cell_type": "code",
   "execution_count": 2,
   "id": "925a99fc-9553-4a16-8964-200a25ca711e",
   "metadata": {},
   "outputs": [],
   "source": [
    "class Solution:\n",
    "    def busyStudent(self, s: List[int], e: List[int], q: int) -> int:\n",
    "        res = sum(s[i] <= q <= e[i] for i in range(len(s)))\n",
    "        return res"
   ]
  },
  {
   "cell_type": "code",
   "execution_count": 3,
   "id": "5653548e-bbf1-4cf5-91b5-329d152dfb24",
   "metadata": {},
   "outputs": [],
   "source": [
    "sol = Solution()"
   ]
  },
  {
   "cell_type": "code",
   "execution_count": 4,
   "id": "3a9e10e9-4e1d-425a-b259-2c2042c31d09",
   "metadata": {},
   "outputs": [],
   "source": [
    "assert sol.busyStudent([1,2,3], [3,2,7], 4) == 1"
   ]
  },
  {
   "cell_type": "code",
   "execution_count": 5,
   "id": "1eb60e81-463c-4cea-b382-e79cb8b4c95b",
   "metadata": {},
   "outputs": [],
   "source": [
    "assert sol.busyStudent([4], [4], 4) == 1"
   ]
  }
 ],
 "metadata": {
  "kernelspec": {
   "display_name": "Python 3 (ipykernel)",
   "language": "python",
   "name": "python3"
  },
  "language_info": {
   "codemirror_mode": {
    "name": "ipython",
    "version": 3
   },
   "file_extension": ".py",
   "mimetype": "text/x-python",
   "name": "python",
   "nbconvert_exporter": "python",
   "pygments_lexer": "ipython3",
   "version": "3.9.7"
  }
 },
 "nbformat": 4,
 "nbformat_minor": 5
}
