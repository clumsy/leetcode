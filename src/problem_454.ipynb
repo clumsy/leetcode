{
 "cells": [
  {
   "cell_type": "markdown",
   "id": "f831adcf-45d8-4da4-836b-96597e3ca087",
   "metadata": {},
   "source": [
    "[Problem 454](https://leetcode.com/problems/4sum-ii/description)"
   ]
  },
  {
   "cell_type": "code",
   "execution_count": 1,
   "id": "ac4a45dd-19ce-4e98-b681-c2266b3bf4d6",
   "metadata": {},
   "outputs": [],
   "source": [
    "from typing import List\n",
    "from collections import Counter"
   ]
  },
  {
   "cell_type": "code",
   "execution_count": 2,
   "id": "1cda1fcb-a698-499a-8a10-ed400dbfe921",
   "metadata": {},
   "outputs": [],
   "source": [
    "class Solution:\n",
    "    def fourSumCount(self, nums1: List[int], nums2: List[int], nums3: List[int], nums4: List[int]) -> int:\n",
    "        n, cnt12, cnt34 = len(nums1), Counter(), Counter()\n",
    "        for i in range(n):\n",
    "            for j in range(n):\n",
    "                cnt12[nums1[i] + nums2[j]] += 1\n",
    "                cnt34[nums3[i] + nums4[j]] += 1\n",
    "        res = 0\n",
    "        for c in cnt12:\n",
    "            res += cnt12[c] * cnt34[-c]\n",
    "        return res"
   ]
  },
  {
   "cell_type": "code",
   "execution_count": 3,
   "id": "9d7ae5b1-fa77-4356-b24b-11edeb553403",
   "metadata": {},
   "outputs": [],
   "source": [
    "sol = Solution()"
   ]
  },
  {
   "cell_type": "code",
   "execution_count": 4,
   "id": "1a7b8b32-3b5f-43a5-9afb-9f98db68d493",
   "metadata": {},
   "outputs": [],
   "source": [
    "assert sol.fourSumCount([1,2], [-2,-1], [-1,2], [0,2]) == 2"
   ]
  },
  {
   "cell_type": "code",
   "execution_count": 5,
   "id": "63ba2236-b3ad-49bf-b9e9-cb19a63c3ab7",
   "metadata": {},
   "outputs": [],
   "source": [
    "assert sol.fourSumCount([0], [0], [0], [0]) == 1"
   ]
  }
 ],
 "metadata": {
  "kernelspec": {
   "display_name": "Python 3 (ipykernel)",
   "language": "python",
   "name": "python3"
  },
  "language_info": {
   "codemirror_mode": {
    "name": "ipython",
    "version": 3
   },
   "file_extension": ".py",
   "mimetype": "text/x-python",
   "name": "python",
   "nbconvert_exporter": "python",
   "pygments_lexer": "ipython3",
   "version": "3.9.7"
  }
 },
 "nbformat": 4,
 "nbformat_minor": 5
}
