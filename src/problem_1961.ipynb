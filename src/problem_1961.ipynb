{
 "cells": [
  {
   "cell_type": "markdown",
   "id": "b7663f5a-1792-4c22-aeac-26100f152a90",
   "metadata": {},
   "source": [
    "[Problem 1961](https://leetcode.com/problems/check-if-string-is-a-prefix-of-array/description)"
   ]
  },
  {
   "cell_type": "code",
   "execution_count": 1,
   "id": "0c1f7e94-bae3-4488-a55b-a7279a492430",
   "metadata": {},
   "outputs": [],
   "source": [
    "from typing import List"
   ]
  },
  {
   "cell_type": "code",
   "execution_count": 2,
   "id": "9a0dc0e3-7859-4228-b23b-d29530ff133d",
   "metadata": {},
   "outputs": [],
   "source": [
    "class Solution:\n",
    "    def isPrefixString(self, s: str, words: List[str]) -> bool:\n",
    "        pos, n = 0, len(s)\n",
    "        for w in words:\n",
    "            if s.startswith(w, pos):\n",
    "                pos += len(w)\n",
    "                if pos >= n:\n",
    "                    break\n",
    "            else:\n",
    "                pos = -1\n",
    "                break\n",
    "        res = pos == n\n",
    "        return res"
   ]
  },
  {
   "cell_type": "code",
   "execution_count": 3,
   "id": "1c7a5815-7e85-453b-b341-96aef1fce59c",
   "metadata": {},
   "outputs": [],
   "source": [
    "sol = Solution()"
   ]
  },
  {
   "cell_type": "code",
   "execution_count": 4,
   "id": "77abfb2c-829a-438c-943c-61f775d35b95",
   "metadata": {},
   "outputs": [],
   "source": [
    "assert sol.isPrefixString(\"iloveleetcode\", [\"i\",\"love\",\"leetcode\",\"apples\"])"
   ]
  },
  {
   "cell_type": "code",
   "execution_count": 5,
   "id": "4da41473-26cb-4924-a2b0-87d7c3b72b5d",
   "metadata": {},
   "outputs": [],
   "source": [
    "assert not sol.isPrefixString(\"iloveleetcode\", [\"apples\",\"i\",\"love\",\"leetcode\"])"
   ]
  }
 ],
 "metadata": {
  "kernelspec": {
   "display_name": "Python 3 (ipykernel)",
   "language": "python",
   "name": "python3"
  },
  "language_info": {
   "codemirror_mode": {
    "name": "ipython",
    "version": 3
   },
   "file_extension": ".py",
   "mimetype": "text/x-python",
   "name": "python",
   "nbconvert_exporter": "python",
   "pygments_lexer": "ipython3",
   "version": "3.9.7"
  }
 },
 "nbformat": 4,
 "nbformat_minor": 5
}
