{
 "cells": [
  {
   "cell_type": "markdown",
   "id": "0a28e791-8076-4e33-b1ce-36efca037742",
   "metadata": {},
   "source": [
    "[Problem 1608](https://leetcode.com/problems/special-array-with-x-elements-greater-than-or-equal-x/)"
   ]
  },
  {
   "cell_type": "code",
   "execution_count": 2,
   "id": "19768b7b-fc5b-49c0-a1fd-232477245f9d",
   "metadata": {},
   "outputs": [],
   "source": [
    "from typing import List"
   ]
  },
  {
   "cell_type": "code",
   "execution_count": 3,
   "id": "84e40351-93a7-46bd-92fc-fde996e8acc0",
   "metadata": {},
   "outputs": [],
   "source": [
    "class Solution:\n",
    "    def specialArray(self, nums: List[int]) -> int:\n",
    "        c = [0] * 1001\n",
    "        for i in nums:\n",
    "            c[i] += 1\n",
    "        for x in range(len(c) - 2, -1, -1):\n",
    "            c[x] += c[x + 1]\n",
    "            if x == c[x]:\n",
    "                return x\n",
    "        return -1"
   ]
  },
  {
   "cell_type": "code",
   "execution_count": 4,
   "id": "7bfa24db-120f-40fb-96c2-adbf65d92dbc",
   "metadata": {},
   "outputs": [],
   "source": [
    "sol = Solution()"
   ]
  },
  {
   "cell_type": "code",
   "execution_count": 5,
   "id": "128656f9-6ff9-498d-a4cd-988db039397f",
   "metadata": {},
   "outputs": [],
   "source": [
    "assert sol.specialArray([3,5]) == 2"
   ]
  },
  {
   "cell_type": "code",
   "execution_count": 6,
   "id": "46125c78-60c0-4229-a1aa-e2b57b21446e",
   "metadata": {},
   "outputs": [],
   "source": [
    "assert sol.specialArray([0,0]) == -1"
   ]
  },
  {
   "cell_type": "code",
   "execution_count": 7,
   "id": "ae1860ed-f499-4269-a320-bc52df2d9eee",
   "metadata": {},
   "outputs": [],
   "source": [
    "assert sol.specialArray([0,4,3,0,4]) == 3"
   ]
  }
 ],
 "metadata": {
  "kernelspec": {
   "display_name": "Python 3 (ipykernel)",
   "language": "python",
   "name": "python3"
  },
  "language_info": {
   "codemirror_mode": {
    "name": "ipython",
    "version": 3
   },
   "file_extension": ".py",
   "mimetype": "text/x-python",
   "name": "python",
   "nbconvert_exporter": "python",
   "pygments_lexer": "ipython3",
   "version": "3.9.7"
  }
 },
 "nbformat": 4,
 "nbformat_minor": 5
}
