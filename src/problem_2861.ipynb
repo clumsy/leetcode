{
 "cells": [
  {
   "cell_type": "markdown",
   "id": "6328bcb6-433a-4650-a21a-d7ee8d5a23af",
   "metadata": {},
   "source": [
    "[Problem 2861](https://leetcode.com/problems/maximum-number-of-alloys/description)"
   ]
  },
  {
   "cell_type": "code",
   "execution_count": 1,
   "id": "610bf5bc-c104-40a8-bb8b-a44c1aacb8fc",
   "metadata": {},
   "outputs": [],
   "source": [
    "from typing import List"
   ]
  },
  {
   "cell_type": "code",
   "execution_count": 2,
   "id": "07bad0fe-e6f1-4b09-ab2d-472d1c8cc0fd",
   "metadata": {},
   "outputs": [],
   "source": [
    "class Solution:\n",
    "    def maxNumberOfAlloys(self, n: int, k: int, budget: int, composition: List[List[int]], stock: List[int], cost: List[int]) -> int:\n",
    "        res = 0\n",
    "        for i in range(k):\n",
    "            lo, hi = 0, 10 ** 9\n",
    "            while lo < hi:\n",
    "                mi = lo + (hi - lo) // 2\n",
    "                cur = sum(cost[j] * max(0, mi * composition[i][j] - stock[j]) for j in range(n))\n",
    "                if cur <= budget:\n",
    "                    res = max(res, mi)\n",
    "                    lo = mi + 1\n",
    "                else:\n",
    "                    hi = mi\n",
    "        return res"
   ]
  },
  {
   "cell_type": "code",
   "execution_count": 3,
   "id": "0bc39aca-947e-41f1-82ae-b43ab936a5c6",
   "metadata": {},
   "outputs": [],
   "source": [
    "sol = Solution()"
   ]
  },
  {
   "cell_type": "code",
   "execution_count": 4,
   "id": "6d9bd7e5-d2f9-44d1-9c9e-b85b07561cf2",
   "metadata": {},
   "outputs": [],
   "source": [
    "assert sol.maxNumberOfAlloys(3, 2, 15, [[1,1,1],[1,1,10]], [0,0,0], [1,2,3]) == 2"
   ]
  },
  {
   "cell_type": "code",
   "execution_count": 5,
   "id": "cb780f38-b702-4a50-b0e2-3da15eb4bc76",
   "metadata": {},
   "outputs": [],
   "source": [
    "assert sol.maxNumberOfAlloys(3, 2, 15, [[1,1,1],[1,1,10]], [0,0,100], [1,2,3]) == 5"
   ]
  },
  {
   "cell_type": "code",
   "execution_count": 6,
   "id": "185b45a5-e6e8-4197-8764-02996a1d404b",
   "metadata": {},
   "outputs": [],
   "source": [
    "assert sol.maxNumberOfAlloys(2, 3, 10, [[2,1],[1,2],[1,1]], [1,1], [5,5]) == 2"
   ]
  }
 ],
 "metadata": {
  "kernelspec": {
   "display_name": "Python 3 (ipykernel)",
   "language": "python",
   "name": "python3"
  },
  "language_info": {
   "codemirror_mode": {
    "name": "ipython",
    "version": 3
   },
   "file_extension": ".py",
   "mimetype": "text/x-python",
   "name": "python",
   "nbconvert_exporter": "python",
   "pygments_lexer": "ipython3",
   "version": "3.9.7"
  }
 },
 "nbformat": 4,
 "nbformat_minor": 5
}
