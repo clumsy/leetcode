{
 "cells": [
  {
   "cell_type": "markdown",
   "id": "12b2f172-929b-4234-8b26-1eed83394607",
   "metadata": {},
   "source": [
    "[Problem 462](https://leetcode.com/problems/minimum-moves-to-equal-array-elements-ii)"
   ]
  },
  {
   "cell_type": "code",
   "execution_count": 1,
   "id": "0c5f808b-36a7-49fc-aa0c-04bf4bcfdabf",
   "metadata": {},
   "outputs": [],
   "source": [
    "from typing import List"
   ]
  },
  {
   "cell_type": "code",
   "execution_count": 2,
   "id": "e2815f20-e2e7-4e1e-8514-e31673ce17c8",
   "metadata": {},
   "outputs": [],
   "source": [
    "class Solution:\n",
    "    def minMoves2(self, nums: List[int]) -> int:\n",
    "        nums.sort()\n",
    "        res = sum(abs(i - nums[len(nums) // 2]) for i in nums)\n",
    "        return res"
   ]
  },
  {
   "cell_type": "code",
   "execution_count": 3,
   "id": "de82630f-8b15-4c65-a629-92e096e93091",
   "metadata": {},
   "outputs": [],
   "source": [
    "sol = Solution()"
   ]
  },
  {
   "cell_type": "code",
   "execution_count": 4,
   "id": "2b12fab4-26f6-4699-b201-daabb1b525d9",
   "metadata": {},
   "outputs": [],
   "source": [
    "assert sol.minMoves2([1,2,3]) == 2"
   ]
  },
  {
   "cell_type": "code",
   "execution_count": 5,
   "id": "b46ffc61-eb8f-4269-8c3c-98b3e685dee5",
   "metadata": {},
   "outputs": [],
   "source": [
    "assert sol.minMoves2([1,10,2,9]) == 16"
   ]
  }
 ],
 "metadata": {
  "kernelspec": {
   "display_name": "Python 3 (ipykernel)",
   "language": "python",
   "name": "python3"
  },
  "language_info": {
   "codemirror_mode": {
    "name": "ipython",
    "version": 3
   },
   "file_extension": ".py",
   "mimetype": "text/x-python",
   "name": "python",
   "nbconvert_exporter": "python",
   "pygments_lexer": "ipython3",
   "version": "3.9.7"
  }
 },
 "nbformat": 4,
 "nbformat_minor": 5
}
