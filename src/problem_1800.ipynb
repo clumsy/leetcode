{
 "cells": [
  {
   "cell_type": "markdown",
   "id": "00210944-23e9-4bf7-ba68-9f88f374c0b1",
   "metadata": {},
   "source": [
    "[Problem 1800](https://leetcode.com/problems/maximum-ascending-subarray-sum/description)"
   ]
  },
  {
   "cell_type": "code",
   "execution_count": 1,
   "id": "729f3d08-8291-497a-8ecd-e515a51d6795",
   "metadata": {},
   "outputs": [],
   "source": [
    "from typing import List"
   ]
  },
  {
   "cell_type": "code",
   "execution_count": 2,
   "id": "1b4485c2-c464-4528-b487-a6d227f19562",
   "metadata": {},
   "outputs": [],
   "source": [
    "class Solution:\n",
    "    def maxAscendingSum(self, nums: List[int]) -> int:\n",
    "        res, cur, n = 0, 0, len(nums)\n",
    "        for i in range(n):\n",
    "            cur = 0 if i > 0 and nums[i] <= nums[i - 1] else cur\n",
    "            cur += nums[i]\n",
    "            res = max(res, cur)\n",
    "        return res"
   ]
  },
  {
   "cell_type": "code",
   "execution_count": 3,
   "id": "edf3146a-b54f-40d9-a44b-2d809d623948",
   "metadata": {},
   "outputs": [],
   "source": [
    "sol = Solution()"
   ]
  },
  {
   "cell_type": "code",
   "execution_count": 4,
   "id": "722f13af-275e-41cc-9b60-ee979a3dff3c",
   "metadata": {},
   "outputs": [],
   "source": [
    "assert sol.maxAscendingSum([10,20,30,5,10,50]) == 65"
   ]
  },
  {
   "cell_type": "code",
   "execution_count": 5,
   "id": "dd7ed63c-77b2-4bca-a121-1a337e240b2e",
   "metadata": {},
   "outputs": [],
   "source": [
    "assert sol.maxAscendingSum([10,20,30,40,50]) == 150"
   ]
  },
  {
   "cell_type": "code",
   "execution_count": 6,
   "id": "7e63850c-d90b-4928-9f37-9092ab20b617",
   "metadata": {},
   "outputs": [],
   "source": [
    "assert sol.maxAscendingSum([12,17,15,13,10,11,12]) == 33"
   ]
  }
 ],
 "metadata": {
  "kernelspec": {
   "display_name": "Python 3 (ipykernel)",
   "language": "python",
   "name": "python3"
  },
  "language_info": {
   "codemirror_mode": {
    "name": "ipython",
    "version": 3
   },
   "file_extension": ".py",
   "mimetype": "text/x-python",
   "name": "python",
   "nbconvert_exporter": "python",
   "pygments_lexer": "ipython3",
   "version": "3.9.7"
  }
 },
 "nbformat": 4,
 "nbformat_minor": 5
}
