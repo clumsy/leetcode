{
 "cells": [
  {
   "cell_type": "markdown",
   "id": "3ca29881-2057-444e-8ef8-b2d76dcb62b0",
   "metadata": {},
   "source": [
    "[Problem 2294](https://leetcode.com/problems/partition-array-such-that-maximum-difference-is-k/description)"
   ]
  },
  {
   "cell_type": "code",
   "execution_count": 1,
   "id": "b39aee4e-afbe-45b5-92be-768841d63f07",
   "metadata": {},
   "outputs": [],
   "source": [
    "from typing import List\n",
    "from math import inf"
   ]
  },
  {
   "cell_type": "code",
   "execution_count": 2,
   "id": "a252b9ae-5165-480e-9c31-8b1605449d42",
   "metadata": {},
   "outputs": [],
   "source": [
    "class Solution:\n",
    "    def partitionArray(self, nums: List[int], k: int) -> int:\n",
    "        nums.sort()\n",
    "        res, mi = 0, -inf\n",
    "        for i in nums:\n",
    "            if i - mi > k:\n",
    "                mi = i\n",
    "                res += 1\n",
    "        return res"
   ]
  },
  {
   "cell_type": "code",
   "execution_count": 3,
   "id": "41f52f11-9653-42cb-b6d7-14ac7ed33211",
   "metadata": {},
   "outputs": [],
   "source": [
    "sol = Solution()"
   ]
  },
  {
   "cell_type": "code",
   "execution_count": 4,
   "id": "d6d2b7a4-c775-4c47-9430-0330d06e23b9",
   "metadata": {},
   "outputs": [],
   "source": [
    "assert sol.partitionArray([3,6,1,2,5], 2) == 2"
   ]
  },
  {
   "cell_type": "code",
   "execution_count": 5,
   "id": "fe8c868e-9b35-4b58-a0f7-987e222764d1",
   "metadata": {},
   "outputs": [],
   "source": [
    "assert sol.partitionArray([1,2,3], 1) == 2"
   ]
  },
  {
   "cell_type": "code",
   "execution_count": 6,
   "id": "c1918432-f96c-42b3-a701-6b7d9ec50f45",
   "metadata": {},
   "outputs": [],
   "source": [
    "assert sol.partitionArray([2,2,4,5], 0) == 3"
   ]
  }
 ],
 "metadata": {
  "kernelspec": {
   "display_name": "Python 3 (ipykernel)",
   "language": "python",
   "name": "python3"
  },
  "language_info": {
   "codemirror_mode": {
    "name": "ipython",
    "version": 3
   },
   "file_extension": ".py",
   "mimetype": "text/x-python",
   "name": "python",
   "nbconvert_exporter": "python",
   "pygments_lexer": "ipython3",
   "version": "3.9.7"
  }
 },
 "nbformat": 4,
 "nbformat_minor": 5
}
