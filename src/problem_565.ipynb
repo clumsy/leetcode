{
 "cells": [
  {
   "cell_type": "markdown",
   "id": "1c17adaa-9d1b-4dcc-aad1-d97896d851a9",
   "metadata": {},
   "source": [
    "[Problem 565](https://leetcode.com/problems/array-nesting/description)"
   ]
  },
  {
   "cell_type": "code",
   "execution_count": 1,
   "id": "772ef692-85dc-4320-913c-807efcd0c2ab",
   "metadata": {},
   "outputs": [],
   "source": [
    "from typing import List"
   ]
  },
  {
   "cell_type": "code",
   "execution_count": 2,
   "id": "8854893a-73ac-4ac0-ab17-26133b3e5f6d",
   "metadata": {},
   "outputs": [],
   "source": [
    "class Solution:\n",
    "    def arrayNesting(self, nums: List[int]) -> int:\n",
    "        class UnionFind():\n",
    "            def __init__(self, n):\n",
    "                self.prnt = [i for i in range(n)]\n",
    "                self.size = [1] * n\n",
    "            def find(self, i):\n",
    "                p = self.prnt[i]\n",
    "                if p != i:\n",
    "                    self.prnt[i] = self.find(p)\n",
    "                return self.prnt[i]\n",
    "            def union(self, i, j):\n",
    "                pi, pj = self.find(i), self.find(j)\n",
    "                if pi != pj:\n",
    "                    if self.size[pi] < self.size[pj]:\n",
    "                        pi, pj = pj, pi\n",
    "                    self.prnt[pj] = pi\n",
    "                    self.size[pi] += self.size[pj]\n",
    "        uf = UnionFind(len(nums))\n",
    "        for i, e in enumerate(nums):\n",
    "            uf.union(i, e)\n",
    "        res = max(uf.size)\n",
    "        return res"
   ]
  },
  {
   "cell_type": "code",
   "execution_count": 3,
   "id": "728fc450-4008-40eb-83e8-bc789c0fc331",
   "metadata": {},
   "outputs": [],
   "source": [
    "class Solution:\n",
    "    def arrayNesting(self, nums: List[int]) -> int:\n",
    "        res, seen = 0, set()\n",
    "        for i in nums:\n",
    "            cur = 0\n",
    "            while i not in seen:\n",
    "                cur += 1\n",
    "                seen.add(i)\n",
    "                i = nums[i]\n",
    "            res = max(res, cur)\n",
    "        return res"
   ]
  },
  {
   "cell_type": "code",
   "execution_count": 4,
   "id": "4c91272a-f69f-47cc-95cc-730be8d92f65",
   "metadata": {},
   "outputs": [],
   "source": [
    "sol = Solution()"
   ]
  },
  {
   "cell_type": "code",
   "execution_count": 5,
   "id": "aae88387-6baf-485a-b78b-7ae42d77a902",
   "metadata": {},
   "outputs": [],
   "source": [
    "assert sol.arrayNesting([5,4,0,3,1,6,2]) == 4"
   ]
  },
  {
   "cell_type": "code",
   "execution_count": 6,
   "id": "b1487950-17ce-4ac8-ba74-0fefe26464b8",
   "metadata": {},
   "outputs": [],
   "source": [
    "assert sol.arrayNesting([0,1,2]) == 1"
   ]
  }
 ],
 "metadata": {
  "kernelspec": {
   "display_name": "Python 3 (ipykernel)",
   "language": "python",
   "name": "python3"
  },
  "language_info": {
   "codemirror_mode": {
    "name": "ipython",
    "version": 3
   },
   "file_extension": ".py",
   "mimetype": "text/x-python",
   "name": "python",
   "nbconvert_exporter": "python",
   "pygments_lexer": "ipython3",
   "version": "3.9.7"
  }
 },
 "nbformat": 4,
 "nbformat_minor": 5
}
