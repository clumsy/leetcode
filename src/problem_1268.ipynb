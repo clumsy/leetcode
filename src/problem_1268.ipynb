{
 "cells": [
  {
   "cell_type": "markdown",
   "id": "fe7a816f-42ad-4eae-b4a8-8a5059fb6798",
   "metadata": {},
   "source": [
    "[Problem 1268](https://leetcode.com/problems/search-suggestions-system/description)"
   ]
  },
  {
   "cell_type": "code",
   "execution_count": 3,
   "id": "f224bfc4-a759-49e6-8c1a-5b79fcec0ea2",
   "metadata": {},
   "outputs": [],
   "source": [
    "from typing import List\n",
    "from bisect import insort"
   ]
  },
  {
   "cell_type": "code",
   "execution_count": 4,
   "id": "2213636c-5bab-4741-b313-8fb3ed2d8b35",
   "metadata": {},
   "outputs": [],
   "source": [
    "class Solution:\n",
    "    def suggestedProducts(self, products: List[str], searchWord: str) -> List[List[str]]:\n",
    "        trie = {}\n",
    "        for product in products:\n",
    "            prev = trie\n",
    "            for c in product:\n",
    "                t = prev.get(c, {})\n",
    "                prev[c] = t\n",
    "                p = t.get(\"__products__\", [])\n",
    "                insort(p, product)\n",
    "                t[\"__products__\"] = p\n",
    "                prev = t\n",
    "        res = []\n",
    "        for c in searchWord:\n",
    "            trie = trie.get(c, {})\n",
    "            p = trie.get(\"__products__\", [])\n",
    "            res.append(p[:min(3, len(p))])\n",
    "        return res"
   ]
  },
  {
   "cell_type": "code",
   "execution_count": 5,
   "id": "28983d41-274a-434f-aac2-f87fa7534f0e",
   "metadata": {},
   "outputs": [],
   "source": [
    "sol = Solution()"
   ]
  },
  {
   "cell_type": "code",
   "execution_count": 8,
   "id": "fbcab82a-5909-4333-8348-644dff440a94",
   "metadata": {},
   "outputs": [],
   "source": [
    "assert sol.suggestedProducts([\"mobile\",\"mouse\",\"moneypot\",\"monitor\",\"mousepad\"], \"mouse\") == [[\"mobile\",\"moneypot\",\"monitor\"],[\"mobile\",\"moneypot\",\"monitor\"],[\"mouse\",\"mousepad\"],[\"mouse\",\"mousepad\"],[\"mouse\",\"mousepad\"]]"
   ]
  },
  {
   "cell_type": "code",
   "execution_count": 9,
   "id": "0428614d-99ce-4e51-96f1-9d330fd5a2d8",
   "metadata": {},
   "outputs": [],
   "source": [
    "assert sol.suggestedProducts([\"havana\"], \"havana\") == [[\"havana\"],[\"havana\"],[\"havana\"],[\"havana\"],[\"havana\"],[\"havana\"]]"
   ]
  }
 ],
 "metadata": {
  "kernelspec": {
   "display_name": "Python 3 (ipykernel)",
   "language": "python",
   "name": "python3"
  },
  "language_info": {
   "codemirror_mode": {
    "name": "ipython",
    "version": 3
   },
   "file_extension": ".py",
   "mimetype": "text/x-python",
   "name": "python",
   "nbconvert_exporter": "python",
   "pygments_lexer": "ipython3",
   "version": "3.9.7"
  }
 },
 "nbformat": 4,
 "nbformat_minor": 5
}
