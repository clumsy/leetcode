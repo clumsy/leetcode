{
 "cells": [
  {
   "cell_type": "markdown",
   "id": "578b9db1-049f-43d2-a43c-114ec4e3e17f",
   "metadata": {},
   "source": [
    "[Problem 2335](https://leetcode.com/problems/minimum-amount-of-time-to-fill-cups/description)"
   ]
  },
  {
   "cell_type": "code",
   "execution_count": 1,
   "id": "e4c2958f-5c80-4865-95fa-e71d10dc072f",
   "metadata": {},
   "outputs": [],
   "source": [
    "from typing import List"
   ]
  },
  {
   "cell_type": "code",
   "execution_count": 2,
   "id": "99f05574-ed32-4ecc-b611-f246d270d197",
   "metadata": {},
   "outputs": [],
   "source": [
    "class Solution:\n",
    "    def fillCups(self, amount: List[int]) -> int:\n",
    "        a, b, c = sorted(amount)\n",
    "        # splitting a between b and c\n",
    "        res = a\n",
    "        m = min(c - b, a)\n",
    "        c -= m\n",
    "        a -= m\n",
    "        b, c = b - a // 2, c - a // 2\n",
    "        m = min(b, c)\n",
    "        res += m + max(b, c) - m\n",
    "        return res"
   ]
  },
  {
   "cell_type": "code",
   "execution_count": 3,
   "id": "0b396ee5-4d11-4354-8d2c-76bc830305e1",
   "metadata": {},
   "outputs": [],
   "source": [
    "sol = Solution()"
   ]
  },
  {
   "cell_type": "code",
   "execution_count": 4,
   "id": "16a1545b-8446-42b4-8801-38ab5af326dd",
   "metadata": {},
   "outputs": [],
   "source": [
    "assert sol.fillCups([1,4,2]) == 4"
   ]
  },
  {
   "cell_type": "code",
   "execution_count": 5,
   "id": "a589ee19-048c-4f66-be8b-053bef401280",
   "metadata": {},
   "outputs": [],
   "source": [
    "assert sol.fillCups([5,4,4]) == 7"
   ]
  },
  {
   "cell_type": "code",
   "execution_count": 6,
   "id": "a01003b7-b2c7-454e-a83d-d4f1fac8111a",
   "metadata": {},
   "outputs": [],
   "source": [
    "assert sol.fillCups([5,0,0]) == 5"
   ]
  }
 ],
 "metadata": {
  "kernelspec": {
   "display_name": "Python 3 (ipykernel)",
   "language": "python",
   "name": "python3"
  },
  "language_info": {
   "codemirror_mode": {
    "name": "ipython",
    "version": 3
   },
   "file_extension": ".py",
   "mimetype": "text/x-python",
   "name": "python",
   "nbconvert_exporter": "python",
   "pygments_lexer": "ipython3",
   "version": "3.9.7"
  }
 },
 "nbformat": 4,
 "nbformat_minor": 5
}
