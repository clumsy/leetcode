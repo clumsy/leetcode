{
 "cells": [
  {
   "cell_type": "markdown",
   "id": "73a5fc0c-0219-404f-a408-8ff23b0e3014",
   "metadata": {},
   "source": [
    "[Problem 3001](https://leetcode.com/problems/minimum-moves-to-capture-the-queen/description)"
   ]
  },
  {
   "cell_type": "code",
   "execution_count": 1,
   "id": "8dc50201-e915-4b4f-a5dc-c2481cd16c29",
   "metadata": {},
   "outputs": [],
   "source": [
    "class Solution:\n",
    "    def minMovesToCaptureTheQueen(self, rr: int, rc: int, br: int, bc: int, qr: int, qc: int) -> int:\n",
    "        res = 2  # max\n",
    "        if rr == qr and not (br == rr and (rc < bc < qc or qc < bc < rc)):\n",
    "            res = 1\n",
    "        if rc == qc and not (bc == rc and (rr < br < qr or qr < br < rr)):\n",
    "            res = 1\n",
    "        elif qc - qr == bc - br and not (bc - br == rc - rr and (qr < rr < br or br < rr < qr)):\n",
    "            res = 1\n",
    "        elif qc + qr == bc + br and not (bc + br == rc + rr and (qr < rr < br or br < rr < qr)):\n",
    "            res = 1\n",
    "        return res"
   ]
  },
  {
   "cell_type": "code",
   "execution_count": 2,
   "id": "cc4997b3-18fe-49ff-a9e3-e3dd6c22df1a",
   "metadata": {},
   "outputs": [],
   "source": [
    "sol = Solution()"
   ]
  },
  {
   "cell_type": "code",
   "execution_count": 3,
   "id": "ac00d346-3aa5-4921-9b25-8c5b8f1605c4",
   "metadata": {},
   "outputs": [],
   "source": [
    "assert sol.minMovesToCaptureTheQueen(1, 1, 8, 8, 2, 3) == 2"
   ]
  },
  {
   "cell_type": "code",
   "execution_count": 4,
   "id": "b5c0dab6-791b-42f5-8e32-0b399751b151",
   "metadata": {},
   "outputs": [],
   "source": [
    "assert sol.minMovesToCaptureTheQueen(5, 3, 3, 4, 5, 2) == 1"
   ]
  }
 ],
 "metadata": {
  "kernelspec": {
   "display_name": "Python 3 (ipykernel)",
   "language": "python",
   "name": "python3"
  },
  "language_info": {
   "codemirror_mode": {
    "name": "ipython",
    "version": 3
   },
   "file_extension": ".py",
   "mimetype": "text/x-python",
   "name": "python",
   "nbconvert_exporter": "python",
   "pygments_lexer": "ipython3",
   "version": "3.9.7"
  }
 },
 "nbformat": 4,
 "nbformat_minor": 5
}
