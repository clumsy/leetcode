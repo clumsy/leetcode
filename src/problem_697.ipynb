{
 "cells": [
  {
   "cell_type": "markdown",
   "id": "2598ccbf-4248-403a-ba28-f73eab21823d",
   "metadata": {},
   "source": [
    "[Problem 697](https://leetcode.com/problems/degree-of-an-array/solutions)"
   ]
  },
  {
   "cell_type": "code",
   "execution_count": 1,
   "id": "66f27f94-6356-436e-8428-d82df3610fe4",
   "metadata": {},
   "outputs": [],
   "source": [
    "from typing import List\n",
    "from collections import Counter"
   ]
  },
  {
   "cell_type": "code",
   "execution_count": 2,
   "id": "5ae47969-5f95-406c-a5e5-e9ed9abd988f",
   "metadata": {},
   "outputs": [],
   "source": [
    "class Solution:\n",
    "    def findShortestSubArray(self, nums: List[int]) -> int:\n",
    "        deg, res, cnt, mi = 1, len(nums), Counter(), {}\n",
    "        for i, e in enumerate(nums):\n",
    "            cnt[e] += 1\n",
    "            m = mi.get(e, i)\n",
    "            mi[e] = m\n",
    "            if cnt[e] >= deg:\n",
    "                res = min(res, i - m + 1) if cnt[e] == deg else (i - m + 1)\n",
    "                deg = cnt[e]\n",
    "        return res"
   ]
  },
  {
   "cell_type": "code",
   "execution_count": 3,
   "id": "f8500a86-91fb-4833-8a2c-c3724e8adfa7",
   "metadata": {},
   "outputs": [],
   "source": [
    "sol = Solution()"
   ]
  },
  {
   "cell_type": "code",
   "execution_count": 4,
   "id": "43511f58-1f95-4525-9775-ae631dcbbfa2",
   "metadata": {},
   "outputs": [],
   "source": [
    "assert sol.findShortestSubArray([1,2,2,3,1]) == 2"
   ]
  },
  {
   "cell_type": "code",
   "execution_count": 5,
   "id": "2d8e1619-46f9-4730-9102-7f0f71ee3038",
   "metadata": {},
   "outputs": [],
   "source": [
    "assert sol.findShortestSubArray([1,2,2,3,1,4,2]) == 6"
   ]
  }
 ],
 "metadata": {
  "kernelspec": {
   "display_name": "Python 3 (ipykernel)",
   "language": "python",
   "name": "python3"
  },
  "language_info": {
   "codemirror_mode": {
    "name": "ipython",
    "version": 3
   },
   "file_extension": ".py",
   "mimetype": "text/x-python",
   "name": "python",
   "nbconvert_exporter": "python",
   "pygments_lexer": "ipython3",
   "version": "3.9.7"
  }
 },
 "nbformat": 4,
 "nbformat_minor": 5
}
