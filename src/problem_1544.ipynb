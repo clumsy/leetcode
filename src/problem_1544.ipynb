{
 "cells": [
  {
   "cell_type": "markdown",
   "id": "62b9193e-aa4a-4bf8-8576-4d901452e430",
   "metadata": {},
   "source": [
    "[Problem 1544](https://leetcode.com/problems/make-the-string-great/description)"
   ]
  },
  {
   "cell_type": "code",
   "execution_count": 1,
   "id": "2b9c6804-a37c-4495-87d0-aa3bf5845cef",
   "metadata": {},
   "outputs": [],
   "source": [
    "class Solution:\n",
    "    def makeGood(self, s: str) -> str:\n",
    "        s, e = list(s), 0\n",
    "        for i in range(len(s)):\n",
    "            if e > 0 and s[i] != s[e - 1] and s[i].lower() == s[e - 1].lower():\n",
    "                e -= 1\n",
    "            else:\n",
    "                s[e] = s[i]\n",
    "                e += 1\n",
    "        res = \"\".join(s[:e])\n",
    "        return res"
   ]
  },
  {
   "cell_type": "code",
   "execution_count": 2,
   "id": "204a9861-308a-4f05-ba7f-556d12d53483",
   "metadata": {},
   "outputs": [],
   "source": [
    "sol = Solution()"
   ]
  },
  {
   "cell_type": "code",
   "execution_count": 3,
   "id": "2589fe8d-5dd8-4d74-b502-67a9f74dbfa8",
   "metadata": {},
   "outputs": [],
   "source": [
    "assert sol.makeGood(\"leEeetcode\") == \"leetcode\""
   ]
  },
  {
   "cell_type": "code",
   "execution_count": 4,
   "id": "e41bc92d-ead6-46bf-b900-338fa8f91cc5",
   "metadata": {},
   "outputs": [],
   "source": [
    "assert sol.makeGood(\"abBAcC\") == \"\""
   ]
  },
  {
   "cell_type": "code",
   "execution_count": 5,
   "id": "38d66a55-20e3-400d-84a2-09ff7d265e27",
   "metadata": {},
   "outputs": [],
   "source": [
    "assert sol.makeGood(\"s\") == \"s\""
   ]
  }
 ],
 "metadata": {
  "kernelspec": {
   "display_name": "Python 3 (ipykernel)",
   "language": "python",
   "name": "python3"
  },
  "language_info": {
   "codemirror_mode": {
    "name": "ipython",
    "version": 3
   },
   "file_extension": ".py",
   "mimetype": "text/x-python",
   "name": "python",
   "nbconvert_exporter": "python",
   "pygments_lexer": "ipython3",
   "version": "3.9.7"
  }
 },
 "nbformat": 4,
 "nbformat_minor": 5
}
