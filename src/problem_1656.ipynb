{
 "cells": [
  {
   "cell_type": "markdown",
   "id": "659471d4-9bd1-4084-a6b8-732a3c2e2ca7",
   "metadata": {},
   "source": [
    "[Problem 1656](https://leetcode.com/problems/design-an-ordered-stream/description)"
   ]
  },
  {
   "cell_type": "code",
   "execution_count": 2,
   "id": "4edc075d-876c-4ae9-b0ed-7f84f622501e",
   "metadata": {},
   "outputs": [],
   "source": [
    "from typing import List"
   ]
  },
  {
   "cell_type": "code",
   "execution_count": 3,
   "id": "5e8fd792-607a-4897-96b6-b579f8325a67",
   "metadata": {},
   "outputs": [],
   "source": [
    "class OrderedStream:\n",
    "    def __init__(self, n: int):\n",
    "        self.stream = [None] * n\n",
    "        self.pos = 0\n",
    "\n",
    "    def insert(self, i: int, v: str) -> List[str]:\n",
    "        i -= 1\n",
    "        self.stream[i] = v\n",
    "        start = self.pos\n",
    "        while self.pos < len(self.stream) and self.stream[self.pos]:\n",
    "            self.pos += 1\n",
    "        return self.stream[start : self.pos]"
   ]
  },
  {
   "cell_type": "code",
   "execution_count": 6,
   "id": "cbd13053-d97b-458c-aba3-eb2c67c524a2",
   "metadata": {},
   "outputs": [],
   "source": [
    "sol = OrderedStream(5)\n",
    "assert sol.insert(3, \"ccccc\") == []\n",
    "assert sol.insert(1, \"aaaaa\") == [\"aaaaa\"]\n",
    "assert sol.insert(2, \"bbbbb\") == [\"bbbbb\", \"ccccc\"]\n",
    "assert sol.insert(5, \"eeeee\") == []\n",
    "assert sol.insert(4, \"ddddd\") == [\"ddddd\", \"eeeee\"]"
   ]
  }
 ],
 "metadata": {
  "kernelspec": {
   "display_name": "Python 3 (ipykernel)",
   "language": "python",
   "name": "python3"
  },
  "language_info": {
   "codemirror_mode": {
    "name": "ipython",
    "version": 3
   },
   "file_extension": ".py",
   "mimetype": "text/x-python",
   "name": "python",
   "nbconvert_exporter": "python",
   "pygments_lexer": "ipython3",
   "version": "3.9.7"
  }
 },
 "nbformat": 4,
 "nbformat_minor": 5
}
