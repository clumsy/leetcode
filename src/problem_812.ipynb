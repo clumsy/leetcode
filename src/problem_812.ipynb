{
 "cells": [
  {
   "cell_type": "markdown",
   "id": "2abe02a2-a426-4339-b689-d784d08eebe5",
   "metadata": {},
   "source": [
    "[Problem 812](https://leetcode.com/problems/largest-triangle-area/description)"
   ]
  },
  {
   "cell_type": "code",
   "execution_count": 1,
   "id": "0a0729cc-596f-4b00-9bf3-4c6d9a1884a6",
   "metadata": {},
   "outputs": [],
   "source": [
    "from typing import List"
   ]
  },
  {
   "cell_type": "code",
   "execution_count": 2,
   "id": "bcb04c74-4a94-45f4-90ca-21b40a193036",
   "metadata": {},
   "outputs": [],
   "source": [
    "class Solution:\n",
    "    def largestTriangleArea(self, points: List[List[int]]) -> float:\n",
    "        res = 0\n",
    "        def area(x, y, z):\n",
    "            x1, y1 = points[x]\n",
    "            x2, y2 = points[y]\n",
    "            x3, y3 = points[z]\n",
    "            #         | x1 y1 1 |\n",
    "            # A = 1/2 | x2 y2 1 |\n",
    "            #         | x3 y3 1 |\n",
    "            return 0.5 * (x1*y2 + x2*y3 + x3*y1 - x3*y2 - x2*y1 - x1*y3)\n",
    "        n = len(points)\n",
    "        for x in range(n):\n",
    "            for y in range(n):\n",
    "                for z in range(n):\n",
    "                    res = max(res, area(x, y, z))\n",
    "        return res"
   ]
  },
  {
   "cell_type": "code",
   "execution_count": 3,
   "id": "46cd6ecb-8451-45ab-8741-a5d352079352",
   "metadata": {},
   "outputs": [],
   "source": [
    "sol = Solution()"
   ]
  },
  {
   "cell_type": "code",
   "execution_count": 4,
   "id": "5dba28be-9fc6-4d21-b47f-17f4040d155d",
   "metadata": {},
   "outputs": [],
   "source": [
    "assert sol.largestTriangleArea([[0,0],[0,1],[1,0],[0,2],[2,0]]) == 2"
   ]
  },
  {
   "cell_type": "code",
   "execution_count": 5,
   "id": "c8286f8e-fbd8-40a0-8de3-190b189bc000",
   "metadata": {},
   "outputs": [],
   "source": [
    "assert sol.largestTriangleArea([[1,0],[0,0],[0,1]]) == 0.5"
   ]
  }
 ],
 "metadata": {
  "kernelspec": {
   "display_name": "Python 3 (ipykernel)",
   "language": "python",
   "name": "python3"
  },
  "language_info": {
   "codemirror_mode": {
    "name": "ipython",
    "version": 3
   },
   "file_extension": ".py",
   "mimetype": "text/x-python",
   "name": "python",
   "nbconvert_exporter": "python",
   "pygments_lexer": "ipython3",
   "version": "3.9.7"
  }
 },
 "nbformat": 4,
 "nbformat_minor": 5
}
