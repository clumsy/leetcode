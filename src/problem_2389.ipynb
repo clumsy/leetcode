{
 "cells": [
  {
   "cell_type": "markdown",
   "id": "7d85954d-0ce6-4efe-853b-a8b703beb96b",
   "metadata": {},
   "source": [
    "[Problem 2389](https://leetcode.com/problems/longest-subsequence-with-limited-sum/description)"
   ]
  },
  {
   "cell_type": "code",
   "execution_count": 5,
   "id": "caea4189-1df3-4996-8377-98f062f83134",
   "metadata": {},
   "outputs": [],
   "source": [
    "from typing import List\n",
    "from bisect import bisect_right"
   ]
  },
  {
   "cell_type": "code",
   "execution_count": 6,
   "id": "609f0090-5c27-4bef-9ed1-4279e37d5d81",
   "metadata": {},
   "outputs": [],
   "source": [
    "class Solution:\n",
    "    def answerQueries(self, nums: List[int], queries: List[int]) -> List[int]:\n",
    "        nums.sort()\n",
    "        n = len(nums)\n",
    "        for i in range(n - 1):\n",
    "            nums[i + 1] += nums[i]\n",
    "        res = [bisect_right(nums, i) for i in queries]\n",
    "        return res"
   ]
  },
  {
   "cell_type": "code",
   "execution_count": 7,
   "id": "12d91d90-b082-45a8-86b2-734821bd8733",
   "metadata": {},
   "outputs": [],
   "source": [
    "sol = Solution()"
   ]
  },
  {
   "cell_type": "code",
   "execution_count": 9,
   "id": "b51b9c27-1df1-43a2-a96f-06c3ebb27c6c",
   "metadata": {},
   "outputs": [],
   "source": [
    "assert sol.answerQueries([4,5,2,1], [3,10,21]) == [2,3,4]"
   ]
  },
  {
   "cell_type": "code",
   "execution_count": 10,
   "id": "2f0f3709-ac80-4477-bbac-849c67f1b153",
   "metadata": {},
   "outputs": [],
   "source": [
    "assert sol.answerQueries([2,3,4,5], [1]) == [0]"
   ]
  }
 ],
 "metadata": {
  "kernelspec": {
   "display_name": "Python 3 (ipykernel)",
   "language": "python",
   "name": "python3"
  },
  "language_info": {
   "codemirror_mode": {
    "name": "ipython",
    "version": 3
   },
   "file_extension": ".py",
   "mimetype": "text/x-python",
   "name": "python",
   "nbconvert_exporter": "python",
   "pygments_lexer": "ipython3",
   "version": "3.9.7"
  }
 },
 "nbformat": 4,
 "nbformat_minor": 5
}
