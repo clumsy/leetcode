{
 "cells": [
  {
   "cell_type": "markdown",
   "id": "bcd874af-1a14-4189-a792-ca0f405f4222",
   "metadata": {},
   "source": [
    "[Problem 2529](https://leetcode.com/problems/maximum-count-of-positive-integer-and-negative-integer/description)"
   ]
  },
  {
   "cell_type": "code",
   "execution_count": 1,
   "id": "24e8489c-aaae-42a2-9fef-4132b823e589",
   "metadata": {},
   "outputs": [],
   "source": [
    "from typing import List"
   ]
  },
  {
   "cell_type": "code",
   "execution_count": 2,
   "id": "e499797e-6033-4ab2-9b06-830c6f16ece3",
   "metadata": {},
   "outputs": [],
   "source": [
    "class Solution:\n",
    "    def maximumCount(self, nums: List[int]) -> int:\n",
    "        neg = zrs = 0\n",
    "        for i in nums:\n",
    "            if i > 0:\n",
    "                break\n",
    "            if i < 0:\n",
    "                neg += 1\n",
    "            else:\n",
    "                zrs += 1\n",
    "        res = max(neg, len(nums) - neg - zrs)\n",
    "        return res"
   ]
  },
  {
   "cell_type": "code",
   "execution_count": 3,
   "id": "c5a4f2bb-fde7-4700-9d9c-77df49b484cf",
   "metadata": {},
   "outputs": [],
   "source": [
    "from bisect import bisect_left"
   ]
  },
  {
   "cell_type": "code",
   "execution_count": 4,
   "id": "56a21c1a-6256-420a-a17e-7e8892105610",
   "metadata": {},
   "outputs": [],
   "source": [
    "class Solution:\n",
    "    def maximumCount(self, nums: List[int]) -> int:\n",
    "        zro, n = bisect_left(nums, 0), len(nums)\n",
    "        if zro < n and nums[zro] == 0:\n",
    "            one = bisect_left(nums, 1, zro)\n",
    "        else:\n",
    "            one = zro\n",
    "        neg, zrs = zro, one - zro\n",
    "        res = max(neg, len(nums) - neg - zrs)\n",
    "        return res"
   ]
  },
  {
   "cell_type": "code",
   "execution_count": 5,
   "id": "d6a9ae89-0841-4ac7-bd00-3061ed712cc3",
   "metadata": {},
   "outputs": [],
   "source": [
    "sol = Solution()"
   ]
  },
  {
   "cell_type": "code",
   "execution_count": 6,
   "id": "63713aa1-33eb-4e32-ad86-e342b630bf6a",
   "metadata": {},
   "outputs": [],
   "source": [
    "assert sol.maximumCount([-2,-1,-1,1,2,3]) == 3"
   ]
  },
  {
   "cell_type": "code",
   "execution_count": 7,
   "id": "efb8df5e-5ee1-454d-9d9c-0c5a839c030b",
   "metadata": {},
   "outputs": [],
   "source": [
    "assert sol.maximumCount([-3,-2,-1,0,0,1,2]) == 3"
   ]
  },
  {
   "cell_type": "code",
   "execution_count": 8,
   "id": "e312a1a0-1ec3-43c8-a412-81f0c4dc9cd4",
   "metadata": {},
   "outputs": [],
   "source": [
    "assert sol.maximumCount([5,20,66,1314]) == 4"
   ]
  }
 ],
 "metadata": {
  "kernelspec": {
   "display_name": "Python 3 (ipykernel)",
   "language": "python",
   "name": "python3"
  },
  "language_info": {
   "codemirror_mode": {
    "name": "ipython",
    "version": 3
   },
   "file_extension": ".py",
   "mimetype": "text/x-python",
   "name": "python",
   "nbconvert_exporter": "python",
   "pygments_lexer": "ipython3",
   "version": "3.9.7"
  }
 },
 "nbformat": 4,
 "nbformat_minor": 5
}
