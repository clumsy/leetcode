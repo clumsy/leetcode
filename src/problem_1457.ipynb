{
 "cells": [
  {
   "cell_type": "markdown",
   "id": "157f50aa-2bc3-45bd-bc9d-f77a431616a8",
   "metadata": {},
   "source": [
    "[Problem 1457](https://leetcode.com/problems/pseudo-palindromic-paths-in-a-binary-tree/description)"
   ]
  },
  {
   "cell_type": "code",
   "execution_count": 1,
   "id": "89755929-36a7-4f8b-a6d1-d60568ba9555",
   "metadata": {},
   "outputs": [],
   "source": [
    "# Definition for a binary tree node.\n",
    "class TreeNode:\n",
    "    def __init__(self, val=0, left=None, right=None):\n",
    "        self.val = val\n",
    "        self.left = left\n",
    "        self.right = right\n",
    "        \n",
    "    def __eq__(self, other):\n",
    "        return other and self.val == other.val and self.left == other.left and self.right == other.right"
   ]
  },
  {
   "cell_type": "code",
   "execution_count": 2,
   "id": "9c6c92ef-7112-4b22-9154-debf0a50c5d5",
   "metadata": {},
   "outputs": [],
   "source": [
    "from typing import Optional"
   ]
  },
  {
   "cell_type": "code",
   "execution_count": 3,
   "id": "c5d2c75a-e1b5-4e34-a6ae-881402607253",
   "metadata": {},
   "outputs": [],
   "source": [
    "class Solution:\n",
    "    def pseudoPalindromicPaths(self, root: Optional[TreeNode]) -> int:\n",
    "        def dfs(node, cnt=0):\n",
    "            if not node:\n",
    "                return 0\n",
    "            cnt ^= 1 << (node.val - 1)\n",
    "            res = dfs(node.left, cnt) + dfs(node.right, cnt)\n",
    "            if node.left == node.right:\n",
    "                res += cnt & (cnt - 1) == 0\n",
    "            return res\n",
    "        res = dfs(root)\n",
    "        return res"
   ]
  },
  {
   "cell_type": "code",
   "execution_count": 4,
   "id": "53089932-b1e2-4835-ac06-aefa1382a83e",
   "metadata": {},
   "outputs": [],
   "source": [
    "sol = Solution()"
   ]
  },
  {
   "cell_type": "code",
   "execution_count": 5,
   "id": "a27f2619-36b5-4cce-84d9-cf2657885696",
   "metadata": {},
   "outputs": [],
   "source": [
    "from collections import deque\n",
    "\n",
    "null = None  # to use Leetcode samples as is\n",
    "\n",
    "def tree(values):\n",
    "    if not values:\n",
    "        return null\n",
    "    root = TreeNode(values[0])\n",
    "    queue = deque()\n",
    "    queue.append(root)\n",
    "    queue.append(None)\n",
    "    length = len(values)\n",
    "    i = 0\n",
    "    while queue:\n",
    "        current = queue.popleft()\n",
    "        if current:\n",
    "            i += 1\n",
    "            if i < length and values[i]:\n",
    "                current.left = TreeNode(values[i])\n",
    "                queue.append(current.left)\n",
    "            i += 1\n",
    "            if i < length and values[i]:\n",
    "                current.right = TreeNode(values[i])\n",
    "                queue.append(current.right)\n",
    "            if i == length:\n",
    "                return root\n",
    "        else:\n",
    "            if queue:\n",
    "                queue.append(None)\n",
    "    return root"
   ]
  },
  {
   "cell_type": "code",
   "execution_count": 6,
   "id": "f54d3923-c049-41d7-89ca-7a45317d9c6a",
   "metadata": {},
   "outputs": [],
   "source": [
    "assert sol.pseudoPalindromicPaths(tree([2,3,1,3,1,null,1])) == 2"
   ]
  },
  {
   "cell_type": "code",
   "execution_count": 7,
   "id": "ca5a9097-a870-4410-848d-28fbffa6f0c6",
   "metadata": {},
   "outputs": [],
   "source": [
    "assert sol.pseudoPalindromicPaths(tree([2,1,1,1,3,null,null,null,null,null,1])) == 1"
   ]
  },
  {
   "cell_type": "code",
   "execution_count": 8,
   "id": "2eb170c4-8b47-460d-9a7f-b56e9e100642",
   "metadata": {},
   "outputs": [],
   "source": [
    "assert sol.pseudoPalindromicPaths(tree([9])) == 1"
   ]
  }
 ],
 "metadata": {
  "kernelspec": {
   "display_name": "Python 3 (ipykernel)",
   "language": "python",
   "name": "python3"
  },
  "language_info": {
   "codemirror_mode": {
    "name": "ipython",
    "version": 3
   },
   "file_extension": ".py",
   "mimetype": "text/x-python",
   "name": "python",
   "nbconvert_exporter": "python",
   "pygments_lexer": "ipython3",
   "version": "3.9.7"
  }
 },
 "nbformat": 4,
 "nbformat_minor": 5
}
