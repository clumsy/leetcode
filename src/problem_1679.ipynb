{
 "cells": [
  {
   "cell_type": "markdown",
   "id": "54f5a722-7f42-4ee5-b949-4300c3024619",
   "metadata": {},
   "source": [
    "[Problem 1679](https://leetcode.com/problems/max-number-of-k-sum-pairs/description)"
   ]
  },
  {
   "cell_type": "code",
   "execution_count": 1,
   "id": "03236ab4-a78e-4cf2-98a3-ec569d08fe1a",
   "metadata": {},
   "outputs": [],
   "source": [
    "from typing import List\n",
    "from collections import Counter"
   ]
  },
  {
   "cell_type": "code",
   "execution_count": 2,
   "id": "7e14cc50-d08d-4ae4-b95a-e101574494d1",
   "metadata": {},
   "outputs": [],
   "source": [
    "class Solution:\n",
    "    def maxOperations(self, nums: List[int], k: int) -> int:\n",
    "        cnt = Counter(nums)\n",
    "        res = sum(min(cnt[i], cnt[k - i]) for i in cnt) // 2\n",
    "        return res"
   ]
  },
  {
   "cell_type": "code",
   "execution_count": 3,
   "id": "129ebd87-e64a-49b4-a20d-99daa97410f3",
   "metadata": {},
   "outputs": [],
   "source": [
    "class Solution:\n",
    "    def maxOperations(self, nums: List[int], k: int) -> int:\n",
    "        nums.sort()\n",
    "        res = 0\n",
    "        lo, hi = 0, len(nums) - 1\n",
    "        while lo < hi:\n",
    "            d = nums[hi] + nums[lo] - k\n",
    "            if d > 0:\n",
    "                hi -= 1\n",
    "            elif d < 0:\n",
    "                lo += 1\n",
    "            else:\n",
    "                res += 1\n",
    "                lo += 1\n",
    "                hi -= 1\n",
    "        return res"
   ]
  },
  {
   "cell_type": "code",
   "execution_count": 4,
   "id": "8b2d286f-b45b-45dc-97d9-b978dd95463b",
   "metadata": {},
   "outputs": [],
   "source": [
    "sol = Solution()"
   ]
  },
  {
   "cell_type": "code",
   "execution_count": 5,
   "id": "af4060bf-b36a-42e5-90e4-c13c30e0989b",
   "metadata": {},
   "outputs": [],
   "source": [
    "assert sol.maxOperations([1,2,3,4], 5) == 2"
   ]
  },
  {
   "cell_type": "code",
   "execution_count": 6,
   "id": "9e1ddbb6-2381-4cbe-aa17-4b0409349b8c",
   "metadata": {},
   "outputs": [],
   "source": [
    "assert sol.maxOperations([3,1,3,4,3], 6) == 1"
   ]
  }
 ],
 "metadata": {
  "kernelspec": {
   "display_name": "Python 3 (ipykernel)",
   "language": "python",
   "name": "python3"
  },
  "language_info": {
   "codemirror_mode": {
    "name": "ipython",
    "version": 3
   },
   "file_extension": ".py",
   "mimetype": "text/x-python",
   "name": "python",
   "nbconvert_exporter": "python",
   "pygments_lexer": "ipython3",
   "version": "3.9.7"
  }
 },
 "nbformat": 4,
 "nbformat_minor": 5
}
