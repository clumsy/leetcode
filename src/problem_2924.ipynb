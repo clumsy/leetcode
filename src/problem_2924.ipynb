{
 "cells": [
  {
   "cell_type": "markdown",
   "id": "2cbd3f8e-248e-4f76-b8e9-a78e3b967317",
   "metadata": {},
   "source": [
    "[Problem 2924](https://leetcode.com/problems/find-champion-ii/description)"
   ]
  },
  {
   "cell_type": "code",
   "execution_count": 1,
   "id": "90a00f5c-70f3-46e6-8527-7d4158d20e43",
   "metadata": {},
   "outputs": [],
   "source": [
    "from typing import List"
   ]
  },
  {
   "cell_type": "code",
   "execution_count": 2,
   "id": "e417c6cc-ea7c-4b45-a75f-5d9a4dde88bc",
   "metadata": {},
   "outputs": [],
   "source": [
    "class Solution:\n",
    "    def findChampion(self, n: int, edges: List[List[int]]) -> int:\n",
    "        res = set(range(n))\n",
    "        for s, w in edges:\n",
    "            if w in res:\n",
    "                res.remove(w)\n",
    "        res = res.pop() if len(res) == 1 else -1\n",
    "        return res"
   ]
  },
  {
   "cell_type": "code",
   "execution_count": 3,
   "id": "cda34925-ef90-4797-9cfd-9b6e1db2f920",
   "metadata": {},
   "outputs": [],
   "source": [
    "sol = Solution()"
   ]
  },
  {
   "cell_type": "code",
   "execution_count": 4,
   "id": "d150ff88-0280-4123-85d7-b7701e74cbda",
   "metadata": {},
   "outputs": [],
   "source": [
    "assert sol.findChampion(3, [[0,1],[1,2]]) == 0"
   ]
  },
  {
   "cell_type": "code",
   "execution_count": 5,
   "id": "627ea6c3-e742-4b9f-b1f5-fc4d24b0cc97",
   "metadata": {},
   "outputs": [],
   "source": [
    "assert sol.findChampion(4, [[0,2],[1,3],[1,2]]) == -1"
   ]
  }
 ],
 "metadata": {
  "kernelspec": {
   "display_name": "Python 3 (ipykernel)",
   "language": "python",
   "name": "python3"
  },
  "language_info": {
   "codemirror_mode": {
    "name": "ipython",
    "version": 3
   },
   "file_extension": ".py",
   "mimetype": "text/x-python",
   "name": "python",
   "nbconvert_exporter": "python",
   "pygments_lexer": "ipython3",
   "version": "3.9.7"
  }
 },
 "nbformat": 4,
 "nbformat_minor": 5
}
