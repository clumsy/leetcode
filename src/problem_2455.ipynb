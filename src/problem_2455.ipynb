{
 "cells": [
  {
   "cell_type": "markdown",
   "id": "bbb2c038-14d8-4409-a9db-3d96ae5f9d07",
   "metadata": {},
   "source": [
    "[Problem 2455](https://leetcode.com/problems/average-value-of-even-numbers-that-are-divisible-by-three/description)"
   ]
  },
  {
   "cell_type": "code",
   "execution_count": 1,
   "id": "47ab27c0-89c4-49a9-a0cc-91d00d1b9bd0",
   "metadata": {},
   "outputs": [],
   "source": [
    "from typing import List"
   ]
  },
  {
   "cell_type": "code",
   "execution_count": 2,
   "id": "2594a771-3a93-48fc-9f48-207190373211",
   "metadata": {},
   "outputs": [],
   "source": [
    "class Solution:\n",
    "    def averageValue(self, nums: List[int]) -> int:\n",
    "        res = cnt = 0\n",
    "        for i in nums:\n",
    "            if i % 6 == 0:  # even only when even number of 3s, hence divisible by 6\n",
    "                res += i\n",
    "                cnt += 1\n",
    "        res = res // cnt if cnt > 0 else 0\n",
    "        return res"
   ]
  },
  {
   "cell_type": "code",
   "execution_count": 3,
   "id": "a628dfa8-4d7b-42d7-ad4f-84f832bb68ca",
   "metadata": {},
   "outputs": [],
   "source": [
    "sol = Solution()"
   ]
  },
  {
   "cell_type": "code",
   "execution_count": 4,
   "id": "e3f94c7f-45ad-4dd1-8af9-f06db2427980",
   "metadata": {},
   "outputs": [],
   "source": [
    "assert sol.averageValue([1,3,6,10,12,15]) == 9"
   ]
  },
  {
   "cell_type": "code",
   "execution_count": 5,
   "id": "16e318dc-b476-45cf-a730-467ddddb0b23",
   "metadata": {},
   "outputs": [],
   "source": [
    "assert sol.averageValue([1,2,4,7,10]) == 0"
   ]
  }
 ],
 "metadata": {
  "kernelspec": {
   "display_name": "Python 3 (ipykernel)",
   "language": "python",
   "name": "python3"
  },
  "language_info": {
   "codemirror_mode": {
    "name": "ipython",
    "version": 3
   },
   "file_extension": ".py",
   "mimetype": "text/x-python",
   "name": "python",
   "nbconvert_exporter": "python",
   "pygments_lexer": "ipython3",
   "version": "3.9.7"
  }
 },
 "nbformat": 4,
 "nbformat_minor": 5
}
