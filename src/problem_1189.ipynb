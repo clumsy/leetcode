{
 "cells": [
  {
   "cell_type": "markdown",
   "id": "cd54c96b-d38c-4c75-86a7-7aea27744969",
   "metadata": {},
   "source": [
    "[Problem 1189](https://leetcode.com/problems/maximum-number-of-balloons)"
   ]
  },
  {
   "cell_type": "code",
   "execution_count": 10,
   "id": "97ba7e9b-b27a-4a00-a208-0e2e171bbf66",
   "metadata": {},
   "outputs": [],
   "source": [
    "import collections"
   ]
  },
  {
   "cell_type": "code",
   "execution_count": 11,
   "id": "82d150a4-eb06-411a-b5b3-e7a8f062f2d3",
   "metadata": {},
   "outputs": [],
   "source": [
    "class Solution:\n",
    "    def maxNumberOfBalloons(self, text: str) -> int:\n",
    "        text_freq = collections.Counter(text)\n",
    "        balloon_freq = collections.Counter('balloon')\n",
    "        return min([text_freq[c] // balloon_freq[c] for c in balloon_freq])"
   ]
  },
  {
   "cell_type": "code",
   "execution_count": 12,
   "id": "ba889002-2c85-4dbf-a65d-18578c21373e",
   "metadata": {},
   "outputs": [],
   "source": [
    "sol = Solution()"
   ]
  },
  {
   "cell_type": "code",
   "execution_count": 13,
   "id": "0dd54c24-ce32-4a66-b743-c974a6b21885",
   "metadata": {},
   "outputs": [],
   "source": [
    "assert sol.maxNumberOfBalloons('nlaebolko') == 1"
   ]
  },
  {
   "cell_type": "code",
   "execution_count": 14,
   "id": "44eef9db-b1db-4648-91da-f8b3a56a90d4",
   "metadata": {},
   "outputs": [],
   "source": [
    "assert sol.maxNumberOfBalloons('loonbalxballpoon') == 2"
   ]
  },
  {
   "cell_type": "code",
   "execution_count": 15,
   "id": "e45cd8dd-c940-42d3-af3e-633bedc49b10",
   "metadata": {},
   "outputs": [],
   "source": [
    "assert sol.maxNumberOfBalloons('leetcode') == 0"
   ]
  }
 ],
 "metadata": {
  "kernelspec": {
   "display_name": "Python 3 (ipykernel)",
   "language": "python",
   "name": "python3"
  },
  "language_info": {
   "codemirror_mode": {
    "name": "ipython",
    "version": 3
   },
   "file_extension": ".py",
   "mimetype": "text/x-python",
   "name": "python",
   "nbconvert_exporter": "python",
   "pygments_lexer": "ipython3",
   "version": "3.9.7"
  }
 },
 "nbformat": 4,
 "nbformat_minor": 5
}
