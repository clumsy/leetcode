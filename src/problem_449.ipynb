{
 "cells": [
  {
   "cell_type": "markdown",
   "id": "298ff779-c618-49d2-afed-57aa447a76c7",
   "metadata": {},
   "source": [
    "[Problem 449](https://leetcode.com/problems/serialize-and-deserialize-bst/description)"
   ]
  },
  {
   "cell_type": "code",
   "execution_count": 1,
   "id": "28c3823e-7b24-4669-b8dd-4f3124a56bd2",
   "metadata": {},
   "outputs": [],
   "source": [
    "# Definition for a binary tree node.\n",
    "class TreeNode:\n",
    "    def __init__(self, val=0, left=None, right=None):\n",
    "        self.val = val\n",
    "        self.left = left\n",
    "        self.right = right\n",
    "        \n",
    "    def __eq__(self, other):\n",
    "        return other and self.val == other.val and self.left == other.left and self.right == other.right"
   ]
  },
  {
   "cell_type": "code",
   "execution_count": 2,
   "id": "2b251e3c-ba09-4003-81ca-dfecbe94f302",
   "metadata": {},
   "outputs": [],
   "source": [
    "from typing import Optional"
   ]
  },
  {
   "cell_type": "code",
   "execution_count": 3,
   "id": "e629557e-e1bb-4173-a557-9ed194c94fc7",
   "metadata": {},
   "outputs": [],
   "source": [
    "class Codec:\n",
    "\n",
    "    def serialize(self, root: Optional[TreeNode]) -> str:\n",
    "        \"\"\"Encodes a tree to a single string.\n",
    "        \"\"\"\n",
    "        chunks = []\n",
    "        def dfs(node):\n",
    "            if node is None:\n",
    "                chunks.append(\"\")\n",
    "            else:\n",
    "                chunks.append(str(node.val))\n",
    "                dfs(node.left)\n",
    "                dfs(node.right)\n",
    "        dfs(root)\n",
    "        return \",\".join(chunks)\n",
    "        \n",
    "\n",
    "    def deserialize(self, data: str) -> Optional[TreeNode]:\n",
    "        \"\"\"Decodes your encoded data to tree.\n",
    "        \"\"\"\n",
    "        def dfs(data):\n",
    "            val = next(data)\n",
    "            if not val:\n",
    "                return None\n",
    "            root = TreeNode(int(val))\n",
    "            root.left = dfs(data)\n",
    "            root.right = dfs(data)\n",
    "            return root\n",
    "        return dfs(iter(data.split(\",\")))"
   ]
  },
  {
   "cell_type": "code",
   "execution_count": 4,
   "id": "615f9091-b7ee-46ab-a4e2-f52fdc6dc48b",
   "metadata": {},
   "outputs": [],
   "source": [
    "from collections import deque\n",
    "\n",
    "null = None  # to use Leetcode samples as is\n",
    "\n",
    "def tree(values):\n",
    "    if not values:\n",
    "        return null\n",
    "    queue = deque([(root := TreeNode(values[0])), None])\n",
    "    length, i = len(values), 0\n",
    "    while queue:\n",
    "        current = queue.popleft()\n",
    "        if current:\n",
    "            i += 1\n",
    "            if i < length and values[i] is not None:\n",
    "                current.left = TreeNode(values[i])\n",
    "                queue.append(current.left)\n",
    "            i += 1\n",
    "            if i < length and values[i] is not None:\n",
    "                current.right = TreeNode(values[i])\n",
    "                queue.append(current.right)\n",
    "            if i == length:\n",
    "                return root\n",
    "        else:\n",
    "            if queue:\n",
    "                queue.append(None)\n",
    "    return root"
   ]
  },
  {
   "cell_type": "code",
   "execution_count": 5,
   "id": "4d56ad1e-7c75-44db-b070-b3f3a25f9e43",
   "metadata": {},
   "outputs": [],
   "source": [
    "sol = Codec()\n",
    "assert sol.deserialize(sol.serialize(tree([2,1,3]))) == tree([2,1,3])\n",
    "assert sol.deserialize(sol.serialize(tree([]))) == tree([])"
   ]
  }
 ],
 "metadata": {
  "kernelspec": {
   "display_name": "Python 3 (ipykernel)",
   "language": "python",
   "name": "python3"
  },
  "language_info": {
   "codemirror_mode": {
    "name": "ipython",
    "version": 3
   },
   "file_extension": ".py",
   "mimetype": "text/x-python",
   "name": "python",
   "nbconvert_exporter": "python",
   "pygments_lexer": "ipython3",
   "version": "3.9.7"
  }
 },
 "nbformat": 4,
 "nbformat_minor": 5
}
