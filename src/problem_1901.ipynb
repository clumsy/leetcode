{
 "cells": [
  {
   "cell_type": "markdown",
   "id": "09032204-efe4-45c6-a789-3a58dbae44fb",
   "metadata": {},
   "source": [
    "[Problem 1901](https://leetcode.com/problems/find-a-peak-element-ii/)"
   ]
  },
  {
   "cell_type": "code",
   "execution_count": 1,
   "id": "a5b98829-28a5-40f7-8177-d0a7a53a1534",
   "metadata": {},
   "outputs": [],
   "source": [
    "from typing import List"
   ]
  },
  {
   "cell_type": "code",
   "execution_count": 2,
   "id": "66837654-46f2-483c-8599-08ae84dbdbda",
   "metadata": {},
   "outputs": [],
   "source": [
    "class Solution:\n",
    "    def findPeakGrid(self, mat: List[List[int]]) -> List[int]:\n",
    "        m, n = len(mat), len(mat[0])\n",
    "        lo, hi = 0, m - 1\n",
    "        while lo < hi:\n",
    "            mi = (lo + hi) // 2\n",
    "            if max(mat[mi]) > max(mat[mi + 1]):\n",
    "                hi = mi\n",
    "            else:\n",
    "                lo = mi + 1\n",
    "        return [lo, max(range(n), key=lambda c: mat[lo][c])]"
   ]
  },
  {
   "cell_type": "code",
   "execution_count": 3,
   "id": "fc46e48d-0619-48cb-8c41-6b85ecd77299",
   "metadata": {},
   "outputs": [],
   "source": [
    "sol = Solution()"
   ]
  },
  {
   "cell_type": "code",
   "execution_count": 5,
   "id": "a5730ad6-36bd-427b-aff4-ae089f00fd15",
   "metadata": {},
   "outputs": [],
   "source": [
    "assert sol.findPeakGrid([[1,4],[3,2]]) == [0,1]"
   ]
  },
  {
   "cell_type": "code",
   "execution_count": 8,
   "id": "363e5faa-7e26-4e3d-a565-0f791c8c7e31",
   "metadata": {},
   "outputs": [],
   "source": [
    "assert sol.findPeakGrid([[10,20,15],[21,30,14],[7,16,32]]) == [2,2]"
   ]
  }
 ],
 "metadata": {
  "kernelspec": {
   "display_name": "Python 3 (ipykernel)",
   "language": "python",
   "name": "python3"
  },
  "language_info": {
   "codemirror_mode": {
    "name": "ipython",
    "version": 3
   },
   "file_extension": ".py",
   "mimetype": "text/x-python",
   "name": "python",
   "nbconvert_exporter": "python",
   "pygments_lexer": "ipython3",
   "version": "3.9.7"
  }
 },
 "nbformat": 4,
 "nbformat_minor": 5
}
