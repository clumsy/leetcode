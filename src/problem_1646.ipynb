{
 "cells": [
  {
   "cell_type": "markdown",
   "id": "04014e83-f475-4fcc-9ad4-cadee569b2ff",
   "metadata": {},
   "source": [
    "[Problem 1646](https://leetcode.com/problems/get-maximum-in-generated-array/description)"
   ]
  },
  {
   "cell_type": "code",
   "execution_count": 1,
   "id": "a739349b-c9bd-4e56-83bb-6cdbbfaa8a75",
   "metadata": {},
   "outputs": [],
   "source": [
    "class Solution:\n",
    "    def getMaximumGenerated(self, n: int) -> int:\n",
    "        nums = [i for i in range(min(n + 1, 2))]\n",
    "        res = max(nums)\n",
    "        for i in range(2, n + 1):\n",
    "            x = nums[i // 2]\n",
    "            if i & 1 == 1:\n",
    "                x += nums[i // 2 + 1]\n",
    "            res = max(res, x)\n",
    "            nums.append(x)\n",
    "        return res"
   ]
  },
  {
   "cell_type": "code",
   "execution_count": 2,
   "id": "35234198-228f-42ba-ab58-30018d1f88a4",
   "metadata": {},
   "outputs": [],
   "source": [
    "sol = Solution()"
   ]
  },
  {
   "cell_type": "code",
   "execution_count": 3,
   "id": "5abf4552-9cbb-47f3-8e5f-dbd684633211",
   "metadata": {},
   "outputs": [],
   "source": [
    "assert sol.getMaximumGenerated(7) == 3"
   ]
  },
  {
   "cell_type": "code",
   "execution_count": 4,
   "id": "62e07a57-16a5-4afc-a126-4fb95b8017de",
   "metadata": {},
   "outputs": [],
   "source": [
    "assert sol.getMaximumGenerated(2) == 1"
   ]
  },
  {
   "cell_type": "code",
   "execution_count": 5,
   "id": "922c86b1-57b7-4188-ab4d-eada2c3f1412",
   "metadata": {},
   "outputs": [],
   "source": [
    "assert sol.getMaximumGenerated(3) == 2"
   ]
  }
 ],
 "metadata": {
  "kernelspec": {
   "display_name": "Python 3 (ipykernel)",
   "language": "python",
   "name": "python3"
  },
  "language_info": {
   "codemirror_mode": {
    "name": "ipython",
    "version": 3
   },
   "file_extension": ".py",
   "mimetype": "text/x-python",
   "name": "python",
   "nbconvert_exporter": "python",
   "pygments_lexer": "ipython3",
   "version": "3.9.7"
  }
 },
 "nbformat": 4,
 "nbformat_minor": 5
}
