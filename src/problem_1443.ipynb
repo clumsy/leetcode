{
 "cells": [
  {
   "cell_type": "markdown",
   "id": "e486d62e-84b3-4f33-9f6f-6749e252598b",
   "metadata": {},
   "source": [
    "[Problem 1443](https://leetcode.com/problems/minimum-time-to-collect-all-apples-in-a-tree/description)"
   ]
  },
  {
   "cell_type": "code",
   "execution_count": 1,
   "id": "04800eac-15c9-437e-b5f5-c7e8d24b4284",
   "metadata": {},
   "outputs": [],
   "source": [
    "from typing import List"
   ]
  },
  {
   "cell_type": "code",
   "execution_count": 2,
   "id": "5e77b05f-5c1b-480f-90eb-7b06e064d0ac",
   "metadata": {},
   "outputs": [],
   "source": [
    "class Solution:\n",
    "    def minTime(self, n: int, edges: List[List[int]], hasApple: List[bool]) -> int:\n",
    "        inc = [[] for _ in range(n)]\n",
    "        for i, j in edges:\n",
    "            inc[i].append(j)\n",
    "            inc[j].append(i)\n",
    "        def dfs(k, p=None):\n",
    "            d = sum(dfs(c, k) for c in inc[k] if c != p)\n",
    "            return d + 2 * (k > 0) if d > 0 or hasApple[k] else 0\n",
    "        res = dfs(0)\n",
    "        return res"
   ]
  },
  {
   "cell_type": "code",
   "execution_count": 3,
   "id": "20d0bb38-6e8c-4aff-817c-e83b65eeda77",
   "metadata": {},
   "outputs": [],
   "source": [
    "sol = Solution()"
   ]
  },
  {
   "cell_type": "code",
   "execution_count": 4,
   "id": "b46c6dca-3017-4859-be87-deee44e9beb4",
   "metadata": {},
   "outputs": [],
   "source": [
    "assert sol.minTime(7, [[0,1],[0,2],[1,4],[1,5],[2,3],[2,6]], [False,False,True,False,True,True,False]) == 8"
   ]
  },
  {
   "cell_type": "code",
   "execution_count": 5,
   "id": "b0c76382-6e0e-48cb-8bfc-a1af90452fa6",
   "metadata": {},
   "outputs": [],
   "source": [
    "assert sol.minTime(7, [[0,1],[0,2],[1,4],[1,5],[2,3],[2,6]], [False,False,True,False,False,True,False]) == 6"
   ]
  },
  {
   "cell_type": "code",
   "execution_count": 6,
   "id": "3c0edc27-12f0-4046-8e61-fba6bff8d31a",
   "metadata": {},
   "outputs": [],
   "source": [
    "assert sol.minTime(7, [[0,1],[0,2],[1,4],[1,5],[2,3],[2,6]], [False,False,False,False,False,False,False]) == 0"
   ]
  }
 ],
 "metadata": {
  "kernelspec": {
   "display_name": "Python 3 (ipykernel)",
   "language": "python",
   "name": "python3"
  },
  "language_info": {
   "codemirror_mode": {
    "name": "ipython",
    "version": 3
   },
   "file_extension": ".py",
   "mimetype": "text/x-python",
   "name": "python",
   "nbconvert_exporter": "python",
   "pygments_lexer": "ipython3",
   "version": "3.9.7"
  }
 },
 "nbformat": 4,
 "nbformat_minor": 5
}
