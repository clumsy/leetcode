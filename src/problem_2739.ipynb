{
 "cells": [
  {
   "cell_type": "markdown",
   "id": "ca73b5b6-9520-4ef0-aa23-26c54ce029a5",
   "metadata": {},
   "source": [
    "[Problem 2739](https://leetcode.com/problems/total-distance-traveled/description)"
   ]
  },
  {
   "cell_type": "code",
   "execution_count": 1,
   "id": "5ce77f90-7c80-4155-a6e3-b98752c0dc52",
   "metadata": {},
   "outputs": [],
   "source": [
    "class Solution:\n",
    "    def distanceTraveled(self, m: int, a: int) -> int:\n",
    "        res = 0\n",
    "        while m >= 5:\n",
    "            d, r = divmod(m, 5)\n",
    "            res += 5 * d\n",
    "            d = min(d, a)\n",
    "            a -= d\n",
    "            m = r + d\n",
    "        res = (res + m) * 10\n",
    "        return res"
   ]
  },
  {
   "cell_type": "code",
   "execution_count": 2,
   "id": "0a32b45a-bae7-4a25-a34d-b93b1dbc97f7",
   "metadata": {},
   "outputs": [],
   "source": [
    "class Solution:\n",
    "    def distanceTraveled(self, m: int, a: int) -> int:\n",
    "        # x <= a\n",
    "        # m + x > 5x\n",
    "        # m > 4x\n",
    "        x = min(a, (m - 1) // 4)\n",
    "        res = (m + x) * 10\n",
    "        return res"
   ]
  },
  {
   "cell_type": "code",
   "execution_count": 3,
   "id": "01b2554d-f23a-4e03-a927-beb5e1ff5e00",
   "metadata": {},
   "outputs": [],
   "source": [
    "sol = Solution()"
   ]
  },
  {
   "cell_type": "code",
   "execution_count": 4,
   "id": "9c41a216-e8ed-41ab-87e0-c7a5fef76ca2",
   "metadata": {},
   "outputs": [],
   "source": [
    "assert sol.distanceTraveled(5, 10) == 60"
   ]
  },
  {
   "cell_type": "code",
   "execution_count": 5,
   "id": "188efd0e-11b9-4fe0-b3bc-492489c616bf",
   "metadata": {},
   "outputs": [],
   "source": [
    "assert sol.distanceTraveled(1, 2) == 10"
   ]
  }
 ],
 "metadata": {
  "kernelspec": {
   "display_name": "Python 3 (ipykernel)",
   "language": "python",
   "name": "python3"
  },
  "language_info": {
   "codemirror_mode": {
    "name": "ipython",
    "version": 3
   },
   "file_extension": ".py",
   "mimetype": "text/x-python",
   "name": "python",
   "nbconvert_exporter": "python",
   "pygments_lexer": "ipython3",
   "version": "3.9.7"
  }
 },
 "nbformat": 4,
 "nbformat_minor": 5
}
