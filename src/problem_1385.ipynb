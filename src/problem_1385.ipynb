{
 "cells": [
  {
   "cell_type": "markdown",
   "id": "ac15e7e9-2865-464d-a1c8-83f456e365ae",
   "metadata": {},
   "source": [
    "[Problem 1385](https://leetcode.com/problems/find-the-distance-value-between-two-arrays/)"
   ]
  },
  {
   "cell_type": "code",
   "execution_count": 2,
   "id": "7abf622b-be1c-4a74-9ef6-087eb70a8e8d",
   "metadata": {},
   "outputs": [],
   "source": [
    "from typing import List"
   ]
  },
  {
   "cell_type": "code",
   "execution_count": 8,
   "id": "bb9da86c-3a56-4f1c-9fa5-6fc1a51661de",
   "metadata": {},
   "outputs": [],
   "source": [
    "class Solution:\n",
    "    def findTheDistanceValue(self, arr1: List[int], arr2: List[int], d: int) -> int:\n",
    "        off = 1000\n",
    "        c, res = [0] * (2 * off + 1), 0\n",
    "        for i in arr2:\n",
    "            c[i + off] += 1\n",
    "        for i in range(1, len(c)):\n",
    "            c[i] += c[i - 1]\n",
    "        for i in arr1:\n",
    "            if c[min(i + d, off) + off] - c[max(i - d - 1, -off) + off] == 0:\n",
    "                res += 1\n",
    "        return res"
   ]
  },
  {
   "cell_type": "code",
   "execution_count": 9,
   "id": "374538e8-4d00-4cf4-8a40-25d458ddc2ce",
   "metadata": {},
   "outputs": [],
   "source": [
    "sol = Solution()"
   ]
  },
  {
   "cell_type": "code",
   "execution_count": 10,
   "id": "74533479-a7a6-4139-b222-ee57b27c5964",
   "metadata": {},
   "outputs": [],
   "source": [
    "assert sol.findTheDistanceValue([4,5,8], [10,9,1,8], 2) == 2"
   ]
  },
  {
   "cell_type": "code",
   "execution_count": 11,
   "id": "583c0c3d-ea68-42ba-8654-11a1dc92c3b6",
   "metadata": {},
   "outputs": [],
   "source": [
    "assert sol.findTheDistanceValue([1,4,2,3], [-4,-3,6,10,20,30], 3) == 2"
   ]
  },
  {
   "cell_type": "code",
   "execution_count": 12,
   "id": "f3b36694-ad58-4d5e-8434-f23b092de9ce",
   "metadata": {},
   "outputs": [],
   "source": [
    "assert sol.findTheDistanceValue([2,1,100,3], [-5,-2,10,-3,7], 6) == 1"
   ]
  }
 ],
 "metadata": {
  "kernelspec": {
   "display_name": "Python 3 (ipykernel)",
   "language": "python",
   "name": "python3"
  },
  "language_info": {
   "codemirror_mode": {
    "name": "ipython",
    "version": 3
   },
   "file_extension": ".py",
   "mimetype": "text/x-python",
   "name": "python",
   "nbconvert_exporter": "python",
   "pygments_lexer": "ipython3",
   "version": "3.9.7"
  }
 },
 "nbformat": 4,
 "nbformat_minor": 5
}
