{
 "cells": [
  {
   "cell_type": "markdown",
   "id": "cb5845a7-0f85-469c-acde-4effb73df0a9",
   "metadata": {},
   "source": [
    "[Problem 1047](https://leetcode.com/problems/remove-all-adjacent-duplicates-in-string/description)"
   ]
  },
  {
   "cell_type": "code",
   "execution_count": 1,
   "id": "2c5d3402-a3f1-426e-9581-8bfc3029a765",
   "metadata": {},
   "outputs": [],
   "source": [
    "from typing import List"
   ]
  },
  {
   "cell_type": "code",
   "execution_count": 2,
   "id": "bfddcf3d-61d4-41ae-a271-9d961fc47d03",
   "metadata": {},
   "outputs": [],
   "source": [
    "class Solution:\n",
    "    def removeDuplicates(self, s: str) -> str:\n",
    "        s, i = list(s), 0\n",
    "        for j in range(len(s)):\n",
    "            s[i] = s[j]  # remembering current character\n",
    "            if i > 0 and s[i - 1] == s[i]:\n",
    "                i -= 2  # 2 characters in a row, popping\n",
    "            i += 1  # moving to next position\n",
    "        res = \"\".join(s[:i]) # what's left unmatched\n",
    "        return res"
   ]
  },
  {
   "cell_type": "code",
   "execution_count": 3,
   "id": "29c46a35-3658-48c4-9c34-f2ccbf78f11a",
   "metadata": {},
   "outputs": [],
   "source": [
    "sol = Solution()"
   ]
  },
  {
   "cell_type": "code",
   "execution_count": 4,
   "id": "3fa45e5c-b0ed-4923-be7b-5ddc78cfbbcc",
   "metadata": {},
   "outputs": [],
   "source": [
    "assert sol.removeDuplicates(\"abbaca\") == \"ca\""
   ]
  },
  {
   "cell_type": "code",
   "execution_count": 6,
   "id": "36354700-485c-4fa6-a07d-405d725d2442",
   "metadata": {},
   "outputs": [],
   "source": [
    "assert sol.removeDuplicates(\"azxxzy\") == \"ay\""
   ]
  }
 ],
 "metadata": {
  "kernelspec": {
   "display_name": "Python 3 (ipykernel)",
   "language": "python",
   "name": "python3"
  },
  "language_info": {
   "codemirror_mode": {
    "name": "ipython",
    "version": 3
   },
   "file_extension": ".py",
   "mimetype": "text/x-python",
   "name": "python",
   "nbconvert_exporter": "python",
   "pygments_lexer": "ipython3",
   "version": "3.9.7"
  }
 },
 "nbformat": 4,
 "nbformat_minor": 5
}
