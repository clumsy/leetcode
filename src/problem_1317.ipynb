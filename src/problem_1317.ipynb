{
 "cells": [
  {
   "cell_type": "markdown",
   "id": "b1f3eccd-6825-4876-91f3-85aa84527edf",
   "metadata": {},
   "source": [
    "[Problem 1317](https://leetcode.com/problems/convert-integer-to-the-sum-of-two-no-zero-integers/description)"
   ]
  },
  {
   "cell_type": "code",
   "execution_count": 1,
   "id": "79d95f38-4235-4237-83ca-8f82e527ed9c",
   "metadata": {},
   "outputs": [],
   "source": [
    "from typing import List"
   ]
  },
  {
   "cell_type": "code",
   "execution_count": 2,
   "id": "212dde4d-5313-4095-8b1d-7b8f8478dc8f",
   "metadata": {},
   "outputs": [],
   "source": [
    "class Solution:\n",
    "    def getNoZeroIntegers(self, n: int) -> List[int]:\n",
    "        def find(*seq):\n",
    "            s = ([i, n - i] for i in range(1, n) if \"0\" not in str(i) and \"0\" not in str(n - i))\n",
    "            return next(s, None)\n",
    "        res = find(9, 99, 999, 9999) or find(1, 11, 111, 1111)\n",
    "        return res"
   ]
  },
  {
   "cell_type": "code",
   "execution_count": 3,
   "id": "cdd629c8-9b1d-46f9-b669-834e47ee2c8e",
   "metadata": {},
   "outputs": [],
   "source": [
    "sol = Solution()"
   ]
  },
  {
   "cell_type": "code",
   "execution_count": 4,
   "id": "6ef20f04-3dec-4116-be9b-78ae310926d6",
   "metadata": {},
   "outputs": [],
   "source": [
    "assert sol.getNoZeroIntegers(2) == [1,1]"
   ]
  },
  {
   "cell_type": "code",
   "execution_count": 6,
   "id": "17733749-4d04-45ff-931e-bef36f4e6810",
   "metadata": {},
   "outputs": [],
   "source": [
    "assert sol.getNoZeroIntegers(11) == [2,9]"
   ]
  }
 ],
 "metadata": {
  "kernelspec": {
   "display_name": "Python 3 (ipykernel)",
   "language": "python",
   "name": "python3"
  },
  "language_info": {
   "codemirror_mode": {
    "name": "ipython",
    "version": 3
   },
   "file_extension": ".py",
   "mimetype": "text/x-python",
   "name": "python",
   "nbconvert_exporter": "python",
   "pygments_lexer": "ipython3",
   "version": "3.9.7"
  }
 },
 "nbformat": 4,
 "nbformat_minor": 5
}
