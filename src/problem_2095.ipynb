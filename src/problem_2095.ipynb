{
 "cells": [
  {
   "cell_type": "markdown",
   "id": "57a9995c-ec51-4827-b986-02ad336886ce",
   "metadata": {},
   "source": [
    "[Problem 2095]()"
   ]
  },
  {
   "cell_type": "code",
   "execution_count": 8,
   "id": "1e4a6d38-249c-4009-b16d-9e59a2e174fe",
   "metadata": {},
   "outputs": [],
   "source": [
    "# Definition for singly-linked list.\n",
    "class ListNode:\n",
    "    def __init__(self, val=0, next=None):\n",
    "        self.val = val\n",
    "        self.next = next\n",
    "\n",
    "    def __eq__(self, other):\n",
    "        return other and self.val == other.val and self.next == other.next"
   ]
  },
  {
   "cell_type": "code",
   "execution_count": 9,
   "id": "edc74098-1c35-4c24-90b8-336c6746fffc",
   "metadata": {},
   "outputs": [],
   "source": [
    "from typing import Optional"
   ]
  },
  {
   "cell_type": "code",
   "execution_count": 10,
   "id": "9d547042-ff70-4176-b8be-b7731b16bdff",
   "metadata": {},
   "outputs": [],
   "source": [
    "class Solution:\n",
    "    def deleteMiddle(self, head: Optional[ListNode]) -> Optional[ListNode]:\n",
    "        if head.next is None:\n",
    "            return None\n",
    "        prev = slow = fast = head\n",
    "        while fast and fast.next != None:\n",
    "            prev, slow, fast = slow, slow.next, fast.next.next\n",
    "        prev.next = slow.next\n",
    "        return head"
   ]
  },
  {
   "cell_type": "code",
   "execution_count": 11,
   "id": "44440f8c-7fef-43c2-9a12-703424adfac1",
   "metadata": {},
   "outputs": [],
   "source": [
    "sol = Solution()"
   ]
  },
  {
   "cell_type": "code",
   "execution_count": 12,
   "id": "c45d2b9a-1416-4431-98b0-bcaca11b3ef1",
   "metadata": {},
   "outputs": [],
   "source": [
    "def as_list(vals):\n",
    "    head = cur = ListNode()\n",
    "    for i in vals:\n",
    "        cur.next = ListNode(i)\n",
    "        cur = cur.next\n",
    "    return head.next"
   ]
  },
  {
   "cell_type": "code",
   "execution_count": 13,
   "id": "38bd38ec-2dd5-4beb-b510-7f96fc299b03",
   "metadata": {},
   "outputs": [],
   "source": [
    "assert sol.deleteMiddle(as_list([1,3,4,7,1,2,6])) == as_list([1,3,4,1,2,6])"
   ]
  },
  {
   "cell_type": "code",
   "execution_count": 14,
   "id": "6dce023b-dbcd-490c-adbe-80540fc021b7",
   "metadata": {},
   "outputs": [],
   "source": [
    "assert sol.deleteMiddle(as_list([1,2,3,4])) == as_list([1,2,4])"
   ]
  },
  {
   "cell_type": "code",
   "execution_count": 15,
   "id": "ef7b9118-2926-4b3b-be84-7abbe565a212",
   "metadata": {},
   "outputs": [],
   "source": [
    "assert sol.deleteMiddle(as_list([2,1])) == as_list([2])"
   ]
  }
 ],
 "metadata": {
  "kernelspec": {
   "display_name": "Python 3 (ipykernel)",
   "language": "python",
   "name": "python3"
  },
  "language_info": {
   "codemirror_mode": {
    "name": "ipython",
    "version": 3
   },
   "file_extension": ".py",
   "mimetype": "text/x-python",
   "name": "python",
   "nbconvert_exporter": "python",
   "pygments_lexer": "ipython3",
   "version": "3.9.7"
  }
 },
 "nbformat": 4,
 "nbformat_minor": 5
}
