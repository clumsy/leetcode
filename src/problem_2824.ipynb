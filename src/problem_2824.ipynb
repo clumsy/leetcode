{
 "cells": [
  {
   "cell_type": "markdown",
   "id": "2370d351-3445-4c12-89d0-184b22515c59",
   "metadata": {},
   "source": [
    "[Problem 2824](https://leetcode.com/problems/count-pairs-whose-sum-is-less-than-target/description)"
   ]
  },
  {
   "cell_type": "code",
   "execution_count": 1,
   "id": "96b9123e-f303-4511-944c-968afb9135cb",
   "metadata": {},
   "outputs": [],
   "source": [
    "from typing import List"
   ]
  },
  {
   "cell_type": "code",
   "execution_count": 2,
   "id": "822103f5-44c9-444c-8757-bde1df3e349c",
   "metadata": {},
   "outputs": [],
   "source": [
    "class Solution:\n",
    "    def countPairs(self, nums: List[int], target: int) -> int:\n",
    "        offset = 51  # to accomodate for [-50;0) and unused slot\n",
    "        class FenwickTree():\n",
    "            def __init__(self, seq):\n",
    "                self.tree = [0] * 102  # to accomodate for [-50;50] and unused slot\n",
    "                for i in seq:\n",
    "                    self.update(i, +1)\n",
    "\n",
    "            def query(self, i):\n",
    "                i = min(i + offset, len(self.tree) - 1)\n",
    "                res = 0\n",
    "                while i > 0:\n",
    "                    res += self.tree[i]\n",
    "                    i -= -i & i\n",
    "                return res\n",
    "\n",
    "            def update(self, i, x):\n",
    "                i += offset\n",
    "                while i < len(self.tree):\n",
    "                    self.tree[i] += x\n",
    "                    i += -i & i\n",
    "\n",
    "        fen, res = FenwickTree(nums), 0\n",
    "        for i in nums:\n",
    "            fen.update(i, -1)\n",
    "            res += fen.query(target - i - 1)\n",
    "        return res"
   ]
  },
  {
   "cell_type": "code",
   "execution_count": 3,
   "id": "318ddc27-2e36-4c66-93eb-7cbd67bfb3b4",
   "metadata": {},
   "outputs": [],
   "source": [
    "from bisect import bisect_left"
   ]
  },
  {
   "cell_type": "code",
   "execution_count": 4,
   "id": "146e3903-cb33-45ac-aa05-c2bf7f64100d",
   "metadata": {},
   "outputs": [],
   "source": [
    "class Solution:\n",
    "    def countPairs(self, nums: List[int], target: int) -> int:\n",
    "        nums.sort()\n",
    "        res = 0\n",
    "        for i, e in enumerate(nums):\n",
    "            j = bisect_left(nums, target - e, lo=i)\n",
    "            res += max(0, j - i - 1)\n",
    "        return res"
   ]
  },
  {
   "cell_type": "code",
   "execution_count": 5,
   "id": "8f929190-b9b6-403c-93ae-1b645a63c34c",
   "metadata": {},
   "outputs": [],
   "source": [
    "sol = Solution()"
   ]
  },
  {
   "cell_type": "code",
   "execution_count": 6,
   "id": "48e44281-11cf-4687-9c01-37fa4119e3b6",
   "metadata": {},
   "outputs": [],
   "source": [
    "assert sol.countPairs([-1,1,2,3,1], 2) == 3"
   ]
  },
  {
   "cell_type": "code",
   "execution_count": 7,
   "id": "df7c6b79-f106-419b-b210-33abfe7ef5c8",
   "metadata": {},
   "outputs": [],
   "source": [
    "assert sol.countPairs([-6,2,5,-2,-7,-1,3], -2) == 10"
   ]
  }
 ],
 "metadata": {
  "kernelspec": {
   "display_name": "Python 3 (ipykernel)",
   "language": "python",
   "name": "python3"
  },
  "language_info": {
   "codemirror_mode": {
    "name": "ipython",
    "version": 3
   },
   "file_extension": ".py",
   "mimetype": "text/x-python",
   "name": "python",
   "nbconvert_exporter": "python",
   "pygments_lexer": "ipython3",
   "version": "3.9.7"
  }
 },
 "nbformat": 4,
 "nbformat_minor": 5
}
