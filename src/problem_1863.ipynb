{
 "cells": [
  {
   "cell_type": "markdown",
   "id": "708cdc50-f825-435a-824e-32e7f6f516ad",
   "metadata": {},
   "source": [
    "[Problem 1863]()"
   ]
  },
  {
   "cell_type": "code",
   "execution_count": 1,
   "id": "133a3f13-3b2b-4b8b-af8a-7c76e0c3d7bc",
   "metadata": {},
   "outputs": [],
   "source": [
    "from typing import List"
   ]
  },
  {
   "cell_type": "code",
   "execution_count": 2,
   "id": "6baf1328-e2dd-4535-b5df-13922f73fb46",
   "metadata": {},
   "outputs": [],
   "source": [
    "class Solution:\n",
    "    def subsetXORSum(self, nums: List[int]) -> int:\n",
    "        res, n = 0, len(nums)\n",
    "        for msk in range(2 ** n):\n",
    "            s = 0\n",
    "            for i in range(n):\n",
    "                if msk & (1 << i) == (1 << i):\n",
    "                    s ^= nums[i]\n",
    "            res += s\n",
    "        return res"
   ]
  },
  {
   "cell_type": "code",
   "execution_count": 3,
   "id": "8b01cd03-bebd-42a8-9174-8fe2fca61919",
   "metadata": {},
   "outputs": [],
   "source": [
    "class Solution:\n",
    "    def subsetXORSum(self, nums: List[int]) -> int:\n",
    "        res, n = 0, len(nums)\n",
    "        for i in nums:\n",
    "            res |= i\n",
    "        res *= 2 ** (n - 1)\n",
    "        return res"
   ]
  },
  {
   "cell_type": "code",
   "execution_count": 4,
   "id": "9dd2ef6a-1fd3-49ef-a5ad-f975e89e3e6f",
   "metadata": {},
   "outputs": [],
   "source": [
    "sol = Solution()"
   ]
  },
  {
   "cell_type": "code",
   "execution_count": 5,
   "id": "f6f795ad-d24d-4e87-a793-81bb714d9027",
   "metadata": {},
   "outputs": [],
   "source": [
    "assert sol.subsetXORSum([1,3]) == 6"
   ]
  },
  {
   "cell_type": "code",
   "execution_count": 6,
   "id": "d6e1935c-8446-40fb-8847-0790f8f82ca3",
   "metadata": {},
   "outputs": [],
   "source": [
    "assert sol.subsetXORSum([5,1,6]) == 28"
   ]
  },
  {
   "cell_type": "code",
   "execution_count": 7,
   "id": "e8df84b9-7b12-487f-9149-736a54132e7f",
   "metadata": {},
   "outputs": [],
   "source": [
    "assert sol.subsetXORSum([3,4,5,6,7,8]) == 480"
   ]
  }
 ],
 "metadata": {
  "kernelspec": {
   "display_name": "Python 3 (ipykernel)",
   "language": "python",
   "name": "python3"
  },
  "language_info": {
   "codemirror_mode": {
    "name": "ipython",
    "version": 3
   },
   "file_extension": ".py",
   "mimetype": "text/x-python",
   "name": "python",
   "nbconvert_exporter": "python",
   "pygments_lexer": "ipython3",
   "version": "3.9.7"
  }
 },
 "nbformat": 4,
 "nbformat_minor": 5
}
