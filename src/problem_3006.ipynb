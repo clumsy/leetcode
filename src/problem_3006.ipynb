{
 "cells": [
  {
   "cell_type": "markdown",
   "id": "e3f82bc2-f8db-4134-87ae-808afa0598a9",
   "metadata": {},
   "source": [
    "[Problem 3006](https://leetcode.com/problems/find-beautiful-indices-in-the-given-array-i/description)"
   ]
  },
  {
   "cell_type": "code",
   "execution_count": 1,
   "id": "e6605782-5c55-4417-80fe-545ab73980ee",
   "metadata": {},
   "outputs": [],
   "source": [
    "from typing import List\n",
    "from bisect import bisect_left"
   ]
  },
  {
   "cell_type": "code",
   "execution_count": 2,
   "id": "1884054b-6e12-4db7-82a0-ef71bbfe3378",
   "metadata": {},
   "outputs": [],
   "source": [
    "class Solution:\n",
    "    def beautifulIndices(self, s: str, a: str, b: str, k: int) -> List[int]:\n",
    "        p, m = 991, 997  # mutually prime at least, using 2 primes\n",
    "        def hash(x):\n",
    "            n, res = len(x), 0\n",
    "            for c in x:\n",
    "                res = (res * p + ord(c)) % m\n",
    "            return res\n",
    "        def rolling_hash(x, t):\n",
    "            res = []\n",
    "            h, n, cur = hash(t), len(t), 0\n",
    "            for i, c in enumerate(x):\n",
    "                cur = cur * p + ord(c)\n",
    "                if i >= n:\n",
    "                    cur -= ord(x[i - n]) * (p ** n)\n",
    "                cur %= m\n",
    "                if cur == h and i >= n - 1 and x[i - n + 1:i + 1] == t:\n",
    "                    res.append(i - n + 1)\n",
    "            return res\n",
    "        rh = rolling_hash(s, b)\n",
    "        res = []\n",
    "        h, n, cur = hash(a), len(a), 0\n",
    "        for i, c in enumerate(s):\n",
    "            cur = cur * p + ord(c)\n",
    "            if i >= n:\n",
    "                cur -= ord(s[i - n]) * (p ** n)\n",
    "            cur %= m\n",
    "            if cur == h and i >= n - 1 and s[i - n + 1:i + 1] == a:\n",
    "                b = i - n + 1\n",
    "                j = bisect_left(rh, max(0, b - k))\n",
    "                if j < len(rh) and abs(b - rh[j]) <= k:\n",
    "                    res.append(b)\n",
    "        return res"
   ]
  },
  {
   "cell_type": "code",
   "execution_count": 3,
   "id": "2124de71-2f82-480e-b351-5e0eec26663a",
   "metadata": {},
   "outputs": [],
   "source": [
    "class Solution:\n",
    "    def beautifulIndices(self, s: str, a: str, b: str, k: int) -> List[int]:\n",
    "        def kmp(x):\n",
    "            p = [0] * len(x)\n",
    "            for i in range(1, len(x)):\n",
    "                j = p[i - 1]\n",
    "                while j and x[i] != x[j]:\n",
    "                    j = p[j - 1]\n",
    "                p[i] = j + (x[i] == x[j])\n",
    "            return p\n",
    "        pa = kmp(a + \"#\" + s)\n",
    "        pb = kmp(b + \"#\" + s)\n",
    "        la, lb = len(a), len(b)\n",
    "        si = [i - 2 * la for i, pi in enumerate(pa) if pi >= la]\n",
    "        sj = [j - 2 * lb for j, pj in enumerate(pb) if pj >= lb]\n",
    "        res = []\n",
    "        j = 0\n",
    "        for i in si:\n",
    "            while j < len(sj) and sj[j] < i - k:\n",
    "                j += 1\n",
    "            if j < len(sj) and sj[j] <= i + k:\n",
    "                res.append(i)\n",
    "        return res"
   ]
  },
  {
   "cell_type": "code",
   "execution_count": 4,
   "id": "bc785d77-a34b-4738-b121-d66e9e8584f5",
   "metadata": {},
   "outputs": [],
   "source": [
    "sol = Solution()"
   ]
  },
  {
   "cell_type": "code",
   "execution_count": 5,
   "id": "fc7d15d2-5923-4a3c-8673-6c41733462e7",
   "metadata": {},
   "outputs": [],
   "source": [
    "assert sol.beautifulIndices(\"isawsquirrelnearmysquirrelhouseohmy\", \"my\", \"squirrel\", 15) == [16,33]"
   ]
  },
  {
   "cell_type": "code",
   "execution_count": 6,
   "id": "a2922cdc-3e47-4fca-8325-dfe4175c38bc",
   "metadata": {},
   "outputs": [],
   "source": [
    "assert sol.beautifulIndices(\"abcd\", \"a\", \"a\", 4) == [0]"
   ]
  }
 ],
 "metadata": {
  "kernelspec": {
   "display_name": "Python 3 (ipykernel)",
   "language": "python",
   "name": "python3"
  },
  "language_info": {
   "codemirror_mode": {
    "name": "ipython",
    "version": 3
   },
   "file_extension": ".py",
   "mimetype": "text/x-python",
   "name": "python",
   "nbconvert_exporter": "python",
   "pygments_lexer": "ipython3",
   "version": "3.9.7"
  }
 },
 "nbformat": 4,
 "nbformat_minor": 5
}
