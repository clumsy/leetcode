{
 "cells": [
  {
   "cell_type": "markdown",
   "id": "e3c73f5a-b631-4045-be49-3c5fd7f71c86",
   "metadata": {},
   "source": [
    "[Problem 2042](https://leetcode.com/problems/check-if-numbers-are-ascending-in-a-sentence/description)"
   ]
  },
  {
   "cell_type": "code",
   "execution_count": 1,
   "id": "a596c930-9c0e-4b04-9970-ac4dc4339d09",
   "metadata": {},
   "outputs": [],
   "source": [
    "class Solution:\n",
    "    def areNumbersAscending(self, s: str) -> bool:\n",
    "        ma, res = 0, True\n",
    "        for w in s.split():\n",
    "            if w.isnumeric():\n",
    "                nxt = int(w)\n",
    "                if nxt <= ma:\n",
    "                    res = False\n",
    "                    break\n",
    "                ma = nxt\n",
    "        return res"
   ]
  },
  {
   "cell_type": "code",
   "execution_count": 2,
   "id": "216d7d36-9289-48a0-9f03-aba7a06dd13a",
   "metadata": {},
   "outputs": [],
   "source": [
    "sol = Solution()"
   ]
  },
  {
   "cell_type": "code",
   "execution_count": 3,
   "id": "763632f1-0ae1-4767-8b41-d21916d65b22",
   "metadata": {},
   "outputs": [],
   "source": [
    "assert sol.areNumbersAscending(\"1 box has 3 blue 4 red 6 green and 12 yellow marbles\")"
   ]
  },
  {
   "cell_type": "code",
   "execution_count": 4,
   "id": "b94f5a50-522f-45b7-b50b-67555ef2a626",
   "metadata": {},
   "outputs": [],
   "source": [
    "assert not sol.areNumbersAscending(\"hello world 5 x 5\")"
   ]
  },
  {
   "cell_type": "code",
   "execution_count": 5,
   "id": "4553192e-ad76-4590-8713-4b8a7667fe65",
   "metadata": {},
   "outputs": [],
   "source": [
    "assert not sol.areNumbersAscending(\"sunset is at 7 51 pm overnight lows will be in the low 50 and 60 s\")"
   ]
  }
 ],
 "metadata": {
  "kernelspec": {
   "display_name": "Python 3 (ipykernel)",
   "language": "python",
   "name": "python3"
  },
  "language_info": {
   "codemirror_mode": {
    "name": "ipython",
    "version": 3
   },
   "file_extension": ".py",
   "mimetype": "text/x-python",
   "name": "python",
   "nbconvert_exporter": "python",
   "pygments_lexer": "ipython3",
   "version": "3.9.7"
  }
 },
 "nbformat": 4,
 "nbformat_minor": 5
}
