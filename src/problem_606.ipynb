{
 "cells": [
  {
   "cell_type": "markdown",
   "id": "b0babd05-5866-4a25-a6c0-fa04072c5415",
   "metadata": {},
   "source": [
    "[Problem 606](https://leetcode.com/problems/construct-string-from-binary-tree/description)"
   ]
  },
  {
   "cell_type": "code",
   "execution_count": 1,
   "id": "64a10852-b2b9-4f02-86c0-ecf77f9681b8",
   "metadata": {},
   "outputs": [],
   "source": [
    "# Definition for a binary tree node.\n",
    "class TreeNode:\n",
    "    def __init__(self, val=0, left=None, right=None):\n",
    "        self.val = val\n",
    "        self.left = left\n",
    "        self.right = right"
   ]
  },
  {
   "cell_type": "code",
   "execution_count": 2,
   "id": "49c2d0bb-e022-4a71-bf8f-330855404098",
   "metadata": {},
   "outputs": [],
   "source": [
    "from typing import Optional"
   ]
  },
  {
   "cell_type": "code",
   "execution_count": 3,
   "id": "a758e694-4f97-4471-a560-b2dbfa0bf291",
   "metadata": {},
   "outputs": [],
   "source": [
    "class Solution:\n",
    "    def tree2str(self, root: Optional[TreeNode]) -> str:\n",
    "        res = []\n",
    "        def dfs(node):\n",
    "            if node is None:\n",
    "                return\n",
    "            res.append(str(node.val))\n",
    "            if node.left is not None or node.right is not None:\n",
    "                res.append(\"(\")\n",
    "                dfs(node.left)\n",
    "                res.append(\")\")\n",
    "            if node.right is not None:\n",
    "                res.append(\"(\")\n",
    "                dfs(node.right)\n",
    "                res.append(\")\")\n",
    "\n",
    "        dfs(root)\n",
    "        res = \"\".join(res)\n",
    "        return res"
   ]
  },
  {
   "cell_type": "code",
   "execution_count": 4,
   "id": "2052baea-1395-4e95-9655-f8a32a3036be",
   "metadata": {},
   "outputs": [],
   "source": [
    "sol = Solution()"
   ]
  },
  {
   "cell_type": "code",
   "execution_count": 5,
   "id": "823b9a5a-789d-49a2-a86a-dca49e1fa075",
   "metadata": {},
   "outputs": [],
   "source": [
    "from collections import deque\n",
    "\n",
    "null = None  # to use Leetcode samples as is\n",
    "\n",
    "def tree(values):\n",
    "    if not values:\n",
    "        return null\n",
    "    root = TreeNode(values[0])\n",
    "    queue = deque()\n",
    "    queue.append(root)\n",
    "    queue.append(None)\n",
    "    length = len(values)\n",
    "    i = 0\n",
    "    while queue:\n",
    "        current = queue.popleft()\n",
    "        if current:\n",
    "            i += 1\n",
    "            if i < length and values[i]:\n",
    "                current.left = TreeNode(values[i])\n",
    "                queue.append(current.left)\n",
    "            i += 1\n",
    "            if i < length and values[i]:\n",
    "                current.right = TreeNode(values[i])\n",
    "                queue.append(current.right)\n",
    "            if i == length:\n",
    "                return root\n",
    "        else:\n",
    "            if queue:\n",
    "                queue.append(None)\n",
    "    return root"
   ]
  },
  {
   "cell_type": "code",
   "execution_count": 6,
   "id": "a622c555-1d78-420c-9f90-e1044b17eec6",
   "metadata": {},
   "outputs": [],
   "source": [
    "assert sol.tree2str(tree([1,2,3,4])) == \"1(2(4))(3)\""
   ]
  },
  {
   "cell_type": "code",
   "execution_count": 7,
   "id": "c7e982b3-d49f-452f-b30f-413acbd593bc",
   "metadata": {},
   "outputs": [],
   "source": [
    "assert sol.tree2str(tree([1,2,3,null,4])) == \"1(2()(4))(3)\""
   ]
  }
 ],
 "metadata": {
  "kernelspec": {
   "display_name": "Python 3 (ipykernel)",
   "language": "python",
   "name": "python3"
  },
  "language_info": {
   "codemirror_mode": {
    "name": "ipython",
    "version": 3
   },
   "file_extension": ".py",
   "mimetype": "text/x-python",
   "name": "python",
   "nbconvert_exporter": "python",
   "pygments_lexer": "ipython3",
   "version": "3.9.7"
  }
 },
 "nbformat": 4,
 "nbformat_minor": 5
}
