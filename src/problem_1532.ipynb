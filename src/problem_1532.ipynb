{
 "cells": [
  {
   "cell_type": "markdown",
   "id": "6e52711d-2f03-4953-b082-1a29c2abafdf",
   "metadata": {},
   "source": [
    "[Problem 1532](https://leetcode.com/problems/count-odd-numbers-in-an-interval-range/description)"
   ]
  },
  {
   "cell_type": "code",
   "execution_count": 1,
   "id": "4b23cb39-fa9b-4f1a-bf96-a390ccbb09e2",
   "metadata": {},
   "outputs": [],
   "source": [
    "class Solution:\n",
    "    def countOdds(self, low: int, high: int) -> int:\n",
    "        res = (high + 1) // 2 - low // 2\n",
    "        return res"
   ]
  },
  {
   "cell_type": "code",
   "execution_count": 2,
   "id": "6c4ac1ee-a9cd-40a0-bb33-73e1b1ce537e",
   "metadata": {},
   "outputs": [],
   "source": [
    "sol = Solution()"
   ]
  },
  {
   "cell_type": "code",
   "execution_count": 3,
   "id": "2236fc92-afa3-4587-ad4e-789da358c25e",
   "metadata": {},
   "outputs": [],
   "source": [
    "assert sol.countOdds(3, 7) == 3"
   ]
  },
  {
   "cell_type": "code",
   "execution_count": 4,
   "id": "7ec449cc-3bbe-48a9-b7f0-72c86fc87a1b",
   "metadata": {},
   "outputs": [],
   "source": [
    "assert sol.countOdds(8, 10) == 1"
   ]
  }
 ],
 "metadata": {
  "kernelspec": {
   "display_name": "Python 3 (ipykernel)",
   "language": "python",
   "name": "python3"
  },
  "language_info": {
   "codemirror_mode": {
    "name": "ipython",
    "version": 3
   },
   "file_extension": ".py",
   "mimetype": "text/x-python",
   "name": "python",
   "nbconvert_exporter": "python",
   "pygments_lexer": "ipython3",
   "version": "3.9.7"
  }
 },
 "nbformat": 4,
 "nbformat_minor": 5
}
