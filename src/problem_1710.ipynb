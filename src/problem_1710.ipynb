{
 "cells": [
  {
   "cell_type": "markdown",
   "id": "e7642570-c995-4a04-add2-a382c62610aa",
   "metadata": {},
   "source": [
    "[Problem 1710](https://leetcode.com/problems/maximum-units-on-a-truck/description)"
   ]
  },
  {
   "cell_type": "code",
   "execution_count": 1,
   "id": "2b6e712b-a985-49ff-925f-31c8a34a93f3",
   "metadata": {},
   "outputs": [],
   "source": [
    "from typing import List"
   ]
  },
  {
   "cell_type": "code",
   "execution_count": 2,
   "id": "6e172972-850e-43fd-88f2-12de5f1d2c9d",
   "metadata": {},
   "outputs": [],
   "source": [
    "class Solution:\n",
    "    def maximumUnits(self, boxTypes: List[List[int]], truckSize: int) -> int:\n",
    "        def order(i):\n",
    "            return -i[1]\n",
    "        boxTypes.sort(key=order)\n",
    "        res = 0\n",
    "        for c, u in boxTypes:\n",
    "            d = min(truckSize, c)\n",
    "            res += d * u\n",
    "            truckSize -= d\n",
    "            if truckSize == 0:\n",
    "                break\n",
    "        return res"
   ]
  },
  {
   "cell_type": "code",
   "execution_count": 3,
   "id": "367f4a88-baf8-474d-91be-e777339f2a04",
   "metadata": {},
   "outputs": [],
   "source": [
    "sol = Solution()"
   ]
  },
  {
   "cell_type": "code",
   "execution_count": 4,
   "id": "c9ce0561-7484-4b91-a26e-d36d0c64eab6",
   "metadata": {},
   "outputs": [],
   "source": [
    "assert sol.maximumUnits([[1,3],[2,2],[3,1]], 4) == 8"
   ]
  },
  {
   "cell_type": "code",
   "execution_count": 5,
   "id": "43041ca6-07e5-41d5-857e-390854ed05f1",
   "metadata": {},
   "outputs": [],
   "source": [
    "assert sol.maximumUnits([[5,10],[2,5],[4,7],[3,9]], 10) == 91"
   ]
  }
 ],
 "metadata": {
  "kernelspec": {
   "display_name": "Python 3 (ipykernel)",
   "language": "python",
   "name": "python3"
  },
  "language_info": {
   "codemirror_mode": {
    "name": "ipython",
    "version": 3
   },
   "file_extension": ".py",
   "mimetype": "text/x-python",
   "name": "python",
   "nbconvert_exporter": "python",
   "pygments_lexer": "ipython3",
   "version": "3.9.7"
  }
 },
 "nbformat": 4,
 "nbformat_minor": 5
}
