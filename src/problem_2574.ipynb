{
 "cells": [
  {
   "cell_type": "markdown",
   "id": "b438ea87-8768-47bc-a3fd-b51dbb611c17",
   "metadata": {},
   "source": [
    "[Problem 2574](https://leetcode.com/problems/left-and-right-sum-differences/description)"
   ]
  },
  {
   "cell_type": "code",
   "execution_count": 1,
   "id": "61acd3b2-f38d-4a9f-ab70-c1397bda1e69",
   "metadata": {},
   "outputs": [],
   "source": [
    "from typing import List"
   ]
  },
  {
   "cell_type": "code",
   "execution_count": 2,
   "id": "1f1db0ae-3399-4e18-ba4e-d8474e99369d",
   "metadata": {},
   "outputs": [],
   "source": [
    "class Solution:\n",
    "    def leftRightDifference(self, nums: List[int]) -> List[int]:\n",
    "        lft, rgt, n = 0, sum(nums), len(nums)\n",
    "        res = [0] * n\n",
    "        for i in range(n):\n",
    "            rgt -= nums[i]\n",
    "            res[i] = abs(rgt - lft)\n",
    "            lft += nums[i]\n",
    "        return res"
   ]
  },
  {
   "cell_type": "code",
   "execution_count": 3,
   "id": "ce10e13d-61eb-43e0-8ac5-5df00a684308",
   "metadata": {},
   "outputs": [],
   "source": [
    "sol = Solution()"
   ]
  },
  {
   "cell_type": "code",
   "execution_count": 4,
   "id": "f4ffc8fe-2273-488c-af47-56c4cab667be",
   "metadata": {},
   "outputs": [],
   "source": [
    "assert sol.leftRightDifference([10,4,8,3]) == [15,1,11,22]"
   ]
  },
  {
   "cell_type": "code",
   "execution_count": 5,
   "id": "34150c75-c6d0-4722-9b07-e0e7e048fbfb",
   "metadata": {},
   "outputs": [],
   "source": [
    "assert sol.leftRightDifference([1]) == [0]"
   ]
  }
 ],
 "metadata": {
  "kernelspec": {
   "display_name": "Python 3 (ipykernel)",
   "language": "python",
   "name": "python3"
  },
  "language_info": {
   "codemirror_mode": {
    "name": "ipython",
    "version": 3
   },
   "file_extension": ".py",
   "mimetype": "text/x-python",
   "name": "python",
   "nbconvert_exporter": "python",
   "pygments_lexer": "ipython3",
   "version": "3.9.7"
  }
 },
 "nbformat": 4,
 "nbformat_minor": 5
}
