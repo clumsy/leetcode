{
 "cells": [
  {
   "cell_type": "markdown",
   "id": "ced7bc57-ed1d-43d6-ba73-a70489fe580f",
   "metadata": {},
   "source": [
    "[Problem 530](https://leetcode.com/problems/minimum-absolute-difference-in-bst/description)"
   ]
  },
  {
   "cell_type": "code",
   "execution_count": 1,
   "id": "c3a20110-2679-40b7-84fe-50e9ce85720b",
   "metadata": {},
   "outputs": [],
   "source": [
    "# Definition for a binary tree node.\n",
    "class TreeNode:\n",
    "    def __init__(self, val=0, left=None, right=None):\n",
    "        self.val = val\n",
    "        self.left = left\n",
    "        self.right = right"
   ]
  },
  {
   "cell_type": "code",
   "execution_count": 2,
   "id": "c46c8f02-8550-4858-9a60-30a567f8503b",
   "metadata": {},
   "outputs": [],
   "source": [
    "from typing import Optional\n",
    "from math import inf"
   ]
  },
  {
   "cell_type": "code",
   "execution_count": 3,
   "id": "f4caf4e0-f0bf-4922-910c-d1579ba96cc9",
   "metadata": {},
   "outputs": [],
   "source": [
    "class Solution:\n",
    "    def getMinimumDifference(self, root: Optional[TreeNode]) -> int:\n",
    "        inorder, res = [], inf\n",
    "        cur, lst = root, None\n",
    "        while True:\n",
    "            if cur is not None:\n",
    "                inorder.append(cur)\n",
    "                cur = cur.left\n",
    "            else:\n",
    "                if not inorder:\n",
    "                    break\n",
    "                cur = inorder.pop()\n",
    "                if lst is None:\n",
    "                    lst = cur\n",
    "                else:\n",
    "                    res = min(res, cur.val - lst.val)\n",
    "                    lst = cur\n",
    "                cur = cur.right\n",
    "        return res"
   ]
  },
  {
   "cell_type": "code",
   "execution_count": 4,
   "id": "46538743-837b-41a8-8aba-29cfac17c8a0",
   "metadata": {},
   "outputs": [],
   "source": [
    "sol = Solution()"
   ]
  },
  {
   "cell_type": "code",
   "execution_count": 5,
   "id": "10dc065c-91f1-4cf5-b51a-ab51eb7a5e7a",
   "metadata": {},
   "outputs": [],
   "source": [
    "from collections import deque\n",
    "\n",
    "null = None  # to use Leetcode samples as is\n",
    "\n",
    "def tree(values):\n",
    "    if not values:\n",
    "        return null\n",
    "    root = TreeNode(values[0])\n",
    "    queue = deque()\n",
    "    queue.append(root)\n",
    "    queue.append(None)\n",
    "    length = len(values)\n",
    "    i = 0\n",
    "    while queue:\n",
    "        current = queue.popleft()\n",
    "        if current:\n",
    "            i += 1\n",
    "            if i < length and values[i]:\n",
    "                current.left = TreeNode(values[i])\n",
    "                queue.append(current.left)\n",
    "            i += 1\n",
    "            if i < length and values[i]:\n",
    "                current.right = TreeNode(values[i])\n",
    "                queue.append(current.right)\n",
    "            if i == length:\n",
    "                return root\n",
    "        else:\n",
    "            if queue:\n",
    "                queue.append(None)\n",
    "    return root"
   ]
  },
  {
   "cell_type": "code",
   "execution_count": 6,
   "id": "cb969905-9f41-49bb-839d-f5f351dc7b9e",
   "metadata": {},
   "outputs": [],
   "source": [
    "assert sol.getMinimumDifference(tree([4,2,6,1,3])) == 1"
   ]
  },
  {
   "cell_type": "code",
   "execution_count": null,
   "id": "c9fd9689-3a8c-41fc-aeff-bcc8441502bb",
   "metadata": {},
   "outputs": [],
   "source": [
    "assert sol.getMinimumDifference(tree([1,0,48,null,null,12,49])) == 1"
   ]
  }
 ],
 "metadata": {
  "kernelspec": {
   "display_name": "Python 3 (ipykernel)",
   "language": "python",
   "name": "python3"
  },
  "language_info": {
   "codemirror_mode": {
    "name": "ipython",
    "version": 3
   },
   "file_extension": ".py",
   "mimetype": "text/x-python",
   "name": "python",
   "nbconvert_exporter": "python",
   "pygments_lexer": "ipython3",
   "version": "3.9.7"
  }
 },
 "nbformat": 4,
 "nbformat_minor": 5
}
