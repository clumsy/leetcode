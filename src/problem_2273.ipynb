{
 "cells": [
  {
   "cell_type": "markdown",
   "id": "18cfa93f-c953-416e-8a6a-9411c260db4a",
   "metadata": {},
   "source": [
    "[Problem 2273]()"
   ]
  },
  {
   "cell_type": "code",
   "execution_count": 1,
   "id": "35ad6c4e-630e-4be4-af56-dc78d101af7e",
   "metadata": {},
   "outputs": [],
   "source": [
    "from typing import List\n",
    "from collections import Counter"
   ]
  },
  {
   "cell_type": "code",
   "execution_count": 2,
   "id": "24a6e61f-85e5-4a79-b47b-341adebe5637",
   "metadata": {},
   "outputs": [],
   "source": [
    "class Solution:\n",
    "    def removeAnagrams(self, words: List[str]) -> List[str]:\n",
    "        s = []\n",
    "        for w in words:\n",
    "            if not s or Counter(w) != Counter(s[-1]):\n",
    "                s.append(w)\n",
    "        return s"
   ]
  },
  {
   "cell_type": "code",
   "execution_count": 3,
   "id": "38fbf983-eb86-4f6b-a736-d6e001568acb",
   "metadata": {},
   "outputs": [],
   "source": [
    "sol = Solution()"
   ]
  },
  {
   "cell_type": "code",
   "execution_count": 4,
   "id": "e86b373f-6276-460c-888e-af00c66a48d1",
   "metadata": {},
   "outputs": [],
   "source": [
    "assert sol.removeAnagrams([\"abba\",\"baba\",\"bbaa\",\"cd\",\"cd\"]) == [\"abba\",\"cd\"]"
   ]
  },
  {
   "cell_type": "code",
   "execution_count": 5,
   "id": "393f9832-cdf4-4b26-87a9-4dd34f3ef886",
   "metadata": {},
   "outputs": [],
   "source": [
    "assert sol.removeAnagrams([\"a\",\"b\",\"c\",\"d\",\"e\"]) == [\"a\",\"b\",\"c\",\"d\",\"e\"]"
   ]
  }
 ],
 "metadata": {
  "kernelspec": {
   "display_name": "Python 3 (ipykernel)",
   "language": "python",
   "name": "python3"
  },
  "language_info": {
   "codemirror_mode": {
    "name": "ipython",
    "version": 3
   },
   "file_extension": ".py",
   "mimetype": "text/x-python",
   "name": "python",
   "nbconvert_exporter": "python",
   "pygments_lexer": "ipython3",
   "version": "3.9.7"
  }
 },
 "nbformat": 4,
 "nbformat_minor": 5
}
