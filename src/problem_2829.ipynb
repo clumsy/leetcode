{
 "cells": [
  {
   "cell_type": "markdown",
   "id": "0491f123-ea4c-4beb-b7e8-5029aab48008",
   "metadata": {},
   "source": [
    "[Problem 2829](https://leetcode.com/problems/determine-the-minimum-sum-of-a-k-avoiding-array/description)"
   ]
  },
  {
   "cell_type": "code",
   "execution_count": 1,
   "id": "d8fbd443-ffa9-4d0b-a0c7-9835c5adf43f",
   "metadata": {},
   "outputs": [],
   "source": [
    "class Solution:\n",
    "    def minimumSum(self, n: int, k: int) -> int:\n",
    "        avoid = {k - i for i in range(1, k) if k - i > i}\n",
    "        res, i = [], 1\n",
    "        while n:\n",
    "            if i not in avoid:\n",
    "                res.append(i)\n",
    "                n -= 1\n",
    "            i += 1\n",
    "        res = sum(res)\n",
    "        return res"
   ]
  },
  {
   "cell_type": "code",
   "execution_count": 2,
   "id": "18d4f74c-843c-49ce-b7c2-9688bdcc3311",
   "metadata": {},
   "outputs": [],
   "source": [
    "class Solution:\n",
    "    def minimumSum(self, n: int, k: int) -> int:\n",
    "        h = min(k // 2, n)\n",
    "        # 1 ... h k k + 1 ... k + (n - h)\n",
    "        res = ((1 + h) * h) // 2 + (2 * k + n - h - 1)*(n - h) // 2\n",
    "        return res"
   ]
  },
  {
   "cell_type": "code",
   "execution_count": 3,
   "id": "1af6ce74-d03c-4e9c-80e8-b5853c7d3443",
   "metadata": {},
   "outputs": [],
   "source": [
    "sol = Solution()"
   ]
  },
  {
   "cell_type": "code",
   "execution_count": 4,
   "id": "225ef18c-1b58-4e71-9821-759e2082480f",
   "metadata": {},
   "outputs": [],
   "source": [
    "assert sol.minimumSum(5, 4) == 18"
   ]
  },
  {
   "cell_type": "code",
   "execution_count": 5,
   "id": "1dbd7273-e89a-4506-abf9-623b1fb30610",
   "metadata": {},
   "outputs": [],
   "source": [
    "assert sol.minimumSum(2, 6) == 3"
   ]
  }
 ],
 "metadata": {
  "kernelspec": {
   "display_name": "Python 3 (ipykernel)",
   "language": "python",
   "name": "python3"
  },
  "language_info": {
   "codemirror_mode": {
    "name": "ipython",
    "version": 3
   },
   "file_extension": ".py",
   "mimetype": "text/x-python",
   "name": "python",
   "nbconvert_exporter": "python",
   "pygments_lexer": "ipython3",
   "version": "3.9.7"
  }
 },
 "nbformat": 4,
 "nbformat_minor": 5
}
