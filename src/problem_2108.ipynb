{
 "cells": [
  {
   "cell_type": "markdown",
   "id": "a1936b4b-0453-4852-a702-4ba9870c2a95",
   "metadata": {},
   "source": [
    "[Problem 2108](https://leetcode.com/problems/find-first-palindromic-string-in-the-array/submissions/)"
   ]
  },
  {
   "cell_type": "code",
   "execution_count": 1,
   "id": "3b316d63-75bc-40e9-b3aa-2fc46aff0f42",
   "metadata": {},
   "outputs": [],
   "source": [
    "from typing import List"
   ]
  },
  {
   "cell_type": "code",
   "execution_count": 2,
   "id": "00ce1c6d-1a40-4e0a-81ab-aa5277503b1e",
   "metadata": {},
   "outputs": [],
   "source": [
    "class Solution:\n",
    "    def firstPalindrome(self, words: List[str]) -> str:\n",
    "        return next(filter(self.is_palindrome, words), '')\n",
    "        \n",
    "    def is_palindrome(self, s):\n",
    "        lo = 0\n",
    "        hi = len(s) - 1\n",
    "        while lo <= hi:\n",
    "            if s[lo] != s[hi]:\n",
    "                return False\n",
    "            lo += 1\n",
    "            hi -= 1\n",
    "        return True"
   ]
  },
  {
   "cell_type": "code",
   "execution_count": 3,
   "id": "64ec5a61-2f4f-45dc-a514-b9cc4bc46558",
   "metadata": {},
   "outputs": [],
   "source": [
    "sol = Solution()"
   ]
  },
  {
   "cell_type": "code",
   "execution_count": 4,
   "id": "3cffba59-9669-447c-9be7-8574d80efc42",
   "metadata": {},
   "outputs": [],
   "source": [
    "assert sol.firstPalindrome([\"abc\",\"car\",\"ada\",\"racecar\",\"cool\"]) == \"ada\""
   ]
  },
  {
   "cell_type": "code",
   "execution_count": 5,
   "id": "26f0689b-ad54-4581-a9b6-28c1ce4cd0cb",
   "metadata": {},
   "outputs": [],
   "source": [
    "assert sol.firstPalindrome([\"notapalindrome\",\"racecar\"]) == \"racecar\""
   ]
  },
  {
   "cell_type": "code",
   "execution_count": 6,
   "id": "ea9c62b1-e761-4d5c-a718-ca0983b322d0",
   "metadata": {},
   "outputs": [],
   "source": [
    "assert sol.firstPalindrome([\"def\",\"ghi\"]) == \"\""
   ]
  },
  {
   "cell_type": "code",
   "execution_count": 7,
   "id": "b82dd828-499f-4e71-a48b-2866931283a1",
   "metadata": {},
   "outputs": [],
   "source": [
    "assert sol.firstPalindrome([\"cqllrtyhw\",\"swwisru\",\"gpzmbders\",\"wqibjuqvs\",\"pp\",\"usewxryy\",\"ybqfuh\",\"hqwwqftgyu\",\"jggmatpk\"]) == \"pp\""
   ]
  }
 ],
 "metadata": {
  "kernelspec": {
   "display_name": "Python 3 (ipykernel)",
   "language": "python",
   "name": "python3"
  },
  "language_info": {
   "codemirror_mode": {
    "name": "ipython",
    "version": 3
   },
   "file_extension": ".py",
   "mimetype": "text/x-python",
   "name": "python",
   "nbconvert_exporter": "python",
   "pygments_lexer": "ipython3",
   "version": "3.9.7"
  }
 },
 "nbformat": 4,
 "nbformat_minor": 5
}
