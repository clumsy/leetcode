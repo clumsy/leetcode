{
 "cells": [
  {
   "cell_type": "markdown",
   "id": "4aaa7a26-1f2f-48cf-97a3-0341c119fc70",
   "metadata": {},
   "source": [
    "[Problem 1652](https://leetcode.com/problems/defuse-the-bomb/description)"
   ]
  },
  {
   "cell_type": "code",
   "execution_count": 1,
   "id": "fb8c50d4-4500-40ce-a717-ebb03c5dde1c",
   "metadata": {},
   "outputs": [],
   "source": [
    "from typing import List"
   ]
  },
  {
   "cell_type": "code",
   "execution_count": 2,
   "id": "3e9f29f9-af65-4fa3-a79d-b818c82ecc8f",
   "metadata": {},
   "outputs": [],
   "source": [
    "class Solution:\n",
    "    def decrypt(self, code: List[int], k: int) -> List[int]:\n",
    "        if k < 0:\n",
    "            return self.decrypt(code[::-1], -k)[::-1]\n",
    "        n = len(code)\n",
    "        res, s = [None] * n, sum(code[:k])\n",
    "        for i, e in enumerate(code):\n",
    "            s += code[(i + k) % n] - e\n",
    "            res[i] = s\n",
    "        return res"
   ]
  },
  {
   "cell_type": "code",
   "execution_count": 3,
   "id": "dd68d440-2dfb-49d8-96eb-1e9730c24abb",
   "metadata": {},
   "outputs": [],
   "source": [
    "sol = Solution()"
   ]
  },
  {
   "cell_type": "code",
   "execution_count": 4,
   "id": "c8d7cf9e-65f0-4143-9f26-ac0d3c630e5c",
   "metadata": {},
   "outputs": [],
   "source": [
    "assert sol.decrypt([5,7,1,4], 3) == [12,10,16,13]"
   ]
  },
  {
   "cell_type": "code",
   "execution_count": 5,
   "id": "9ff3f4c5-9d5a-4d72-b041-dd6f52199a88",
   "metadata": {},
   "outputs": [],
   "source": [
    "assert sol.decrypt([1,2,3,4], 0) == [0,0,0,0]"
   ]
  },
  {
   "cell_type": "code",
   "execution_count": 6,
   "id": "65f41ea8-9a21-4865-a0bb-9901b5f83697",
   "metadata": {},
   "outputs": [],
   "source": [
    "assert sol.decrypt([2,4,9,3], -2) == [12,5,6,13]"
   ]
  }
 ],
 "metadata": {
  "kernelspec": {
   "display_name": "Python 3 (ipykernel)",
   "language": "python",
   "name": "python3"
  },
  "language_info": {
   "codemirror_mode": {
    "name": "ipython",
    "version": 3
   },
   "file_extension": ".py",
   "mimetype": "text/x-python",
   "name": "python",
   "nbconvert_exporter": "python",
   "pygments_lexer": "ipython3",
   "version": "3.9.7"
  }
 },
 "nbformat": 4,
 "nbformat_minor": 5
}
