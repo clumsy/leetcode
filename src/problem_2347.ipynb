{
 "cells": [
  {
   "cell_type": "markdown",
   "id": "be3076f7-d1e4-46ad-91ac-1b338e82725b",
   "metadata": {},
   "source": [
    "[Problem 2347](https://leetcode.com/problems/best-poker-hand/description)"
   ]
  },
  {
   "cell_type": "code",
   "execution_count": 1,
   "id": "e3bbb653-16a4-416b-b3a0-fd13717339a3",
   "metadata": {},
   "outputs": [],
   "source": [
    "from typing import List\n",
    "from collections import Counter"
   ]
  },
  {
   "cell_type": "code",
   "execution_count": 2,
   "id": "095b8ec3-a198-4555-80fb-1a02c922fa76",
   "metadata": {},
   "outputs": [],
   "source": [
    "class Solution:\n",
    "    def bestHand(self, ranks: List[int], suits: List[str]) -> str:\n",
    "        if len(Counter(suits)) == 1:\n",
    "            res = \"Flush\"\n",
    "        else:\n",
    "            _, cnt = Counter(ranks).most_common(1)[0]\n",
    "            res = \"Three of a Kind\" if cnt >= 3 else \"Pair\" if cnt == 2 else \"High Card\"\n",
    "        return res"
   ]
  },
  {
   "cell_type": "code",
   "execution_count": 3,
   "id": "f8c9d17f-e628-4f68-a682-c70e49581ea2",
   "metadata": {},
   "outputs": [],
   "source": [
    "sol = Solution()"
   ]
  },
  {
   "cell_type": "code",
   "execution_count": 4,
   "id": "ab832c62-9c96-458b-9533-d73050ebc61f",
   "metadata": {},
   "outputs": [],
   "source": [
    "assert sol.bestHand([13,2,3,1,9], [\"a\",\"a\",\"a\",\"a\",\"a\"]) == \"Flush\""
   ]
  },
  {
   "cell_type": "code",
   "execution_count": 5,
   "id": "1b7a0d17-bdb7-4a6c-8451-35240fc312f3",
   "metadata": {},
   "outputs": [],
   "source": [
    "assert sol.bestHand([4,4,2,4,4], [\"d\",\"a\",\"a\",\"b\",\"c\"]) == \"Three of a Kind\""
   ]
  },
  {
   "cell_type": "code",
   "execution_count": 6,
   "id": "1a3e911b-bde3-4899-9c62-1155dd622d73",
   "metadata": {},
   "outputs": [],
   "source": [
    "assert sol.bestHand([10,10,2,12,9], [\"a\",\"b\",\"c\",\"a\",\"d\"]) == \"Pair\""
   ]
  }
 ],
 "metadata": {
  "kernelspec": {
   "display_name": "Python 3 (ipykernel)",
   "language": "python",
   "name": "python3"
  },
  "language_info": {
   "codemirror_mode": {
    "name": "ipython",
    "version": 3
   },
   "file_extension": ".py",
   "mimetype": "text/x-python",
   "name": "python",
   "nbconvert_exporter": "python",
   "pygments_lexer": "ipython3",
   "version": "3.9.7"
  }
 },
 "nbformat": 4,
 "nbformat_minor": 5
}
