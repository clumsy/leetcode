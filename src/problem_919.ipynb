{
 "cells": [
  {
   "cell_type": "markdown",
   "id": "6aa45b2f-01c0-4a54-a364-7c4786aa8d0f",
   "metadata": {},
   "source": [
    "[Problem 919](https://leetcode.com/problems/complete-binary-tree-inserter/description)"
   ]
  },
  {
   "cell_type": "code",
   "execution_count": 1,
   "id": "f9624460-0479-44a3-984a-7d22f9141979",
   "metadata": {},
   "outputs": [],
   "source": [
    "# Definition for a binary tree node.\n",
    "class TreeNode:\n",
    "    def __init__(self, val=0, left=None, right=None):\n",
    "        self.val = val\n",
    "        self.left = left\n",
    "        self.right = right\n",
    "        \n",
    "    def __eq__(self, other):\n",
    "        return other and self.val == other.val and self.left == other.left and self.right == other.right"
   ]
  },
  {
   "cell_type": "code",
   "execution_count": 2,
   "id": "5bb928e9-a2c3-4449-82fc-32573d743666",
   "metadata": {},
   "outputs": [],
   "source": [
    "from typing import Optional"
   ]
  },
  {
   "cell_type": "code",
   "execution_count": 3,
   "id": "ef36f4e0-5204-4a9f-adc8-92e0c24e48d3",
   "metadata": {},
   "outputs": [],
   "source": [
    "class CBTInserter:\n",
    "\n",
    "    def __init__(self, root: Optional[TreeNode]):\n",
    "        self.root = root\n",
    "        self.last = [root]\n",
    "\n",
    "    def insert(self, val: int) -> int:\n",
    "        nxt = []\n",
    "        for node in self.last:\n",
    "            if node.left is None:\n",
    "                node.left = TreeNode(val)\n",
    "                return node.val\n",
    "            if node.right is None:\n",
    "                node.right = TreeNode(val)\n",
    "                return node.val\n",
    "            nxt.append(node.left)\n",
    "            nxt.append(node.right)\n",
    "        self.last = nxt\n",
    "        return self.insert(val)\n",
    "        \n",
    "\n",
    "    def get_root(self) -> Optional[TreeNode]:\n",
    "        return self.root"
   ]
  },
  {
   "cell_type": "code",
   "execution_count": 4,
   "id": "fef80d7b-16f3-4199-a3cc-8b575465b8d8",
   "metadata": {},
   "outputs": [],
   "source": [
    "class CBTInserter:\n",
    "\n",
    "    def __init__(self, root):\n",
    "        self.tree = [root]\n",
    "        for i in self.tree:\n",
    "            if i.left: self.tree.append(i.left)\n",
    "            if i.right: self.tree.append(i.right)\n",
    "\n",
    "    def insert(self, v):\n",
    "        n = len(self.tree)\n",
    "        self.tree.append(TreeNode(v))\n",
    "        parent = self.tree[(n - 1) // 2]\n",
    "        if n % 2:\n",
    "            parent.left = self.tree[-1]\n",
    "        else:\n",
    "            parent.right = self.tree[-1]\n",
    "        return parent.val\n",
    "\n",
    "    def get_root(self):\n",
    "        return self.tree[0]"
   ]
  },
  {
   "cell_type": "code",
   "execution_count": 5,
   "id": "dc04284c-8cda-4567-80ef-3df55a1ccadf",
   "metadata": {},
   "outputs": [],
   "source": [
    "from collections import deque\n",
    "\n",
    "null = None  # to use Leetcode samples as is\n",
    "\n",
    "def tree(values):\n",
    "    if not values:\n",
    "        return null\n",
    "    queue = deque([(root := TreeNode(values[0])), None])\n",
    "    length, i = len(values), 0\n",
    "    while queue:\n",
    "        current = queue.popleft()\n",
    "        if current:\n",
    "            i += 1\n",
    "            if i < length and values[i] is not None:\n",
    "                current.left = TreeNode(values[i])\n",
    "                queue.append(current.left)\n",
    "            i += 1\n",
    "            if i < length and values[i] is not None:\n",
    "                current.right = TreeNode(values[i])\n",
    "                queue.append(current.right)\n",
    "            if i == length:\n",
    "                return root\n",
    "        else:\n",
    "            if queue:\n",
    "                queue.append(None)\n",
    "    return root"
   ]
  },
  {
   "cell_type": "code",
   "execution_count": 6,
   "id": "c9a12119-7054-4314-8132-b11d81fc5f06",
   "metadata": {},
   "outputs": [],
   "source": [
    "sol = CBTInserter(tree([1, 2]))\n",
    "sol.insert(3)\n",
    "sol.insert(4)\n",
    "assert sol.get_root() == tree([1, 2, 3, 4])"
   ]
  }
 ],
 "metadata": {
  "kernelspec": {
   "display_name": "Python 3 (ipykernel)",
   "language": "python",
   "name": "python3"
  },
  "language_info": {
   "codemirror_mode": {
    "name": "ipython",
    "version": 3
   },
   "file_extension": ".py",
   "mimetype": "text/x-python",
   "name": "python",
   "nbconvert_exporter": "python",
   "pygments_lexer": "ipython3",
   "version": "3.9.7"
  }
 },
 "nbformat": 4,
 "nbformat_minor": 5
}
