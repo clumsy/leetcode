{
 "cells": [
  {
   "cell_type": "markdown",
   "id": "f9387f4c-332a-4550-948d-1f286b5e7703",
   "metadata": {},
   "source": [
    "[Problem 405](https://leetcode.com/problems/convert-a-number-to-hexadecimal/description)"
   ]
  },
  {
   "cell_type": "code",
   "execution_count": 1,
   "id": "de72c657-68f2-4ab2-857e-dfd59a571c44",
   "metadata": {},
   "outputs": [],
   "source": [
    "class Solution:\n",
    "    def toHex(self, num: int) -> str:\n",
    "        res = []\n",
    "        while (num or not res) and len(res) < 8:\n",
    "            num, r = divmod(num, 16)\n",
    "            res.append(str(r) if r < 10 else \"abcdef\"[r - 10])\n",
    "        res = \"\".join(res[::-1])\n",
    "        return res"
   ]
  },
  {
   "cell_type": "code",
   "execution_count": 2,
   "id": "031e91ce-8041-40b2-a16f-6fe2e56252df",
   "metadata": {},
   "outputs": [],
   "source": [
    "sol = Solution()"
   ]
  },
  {
   "cell_type": "code",
   "execution_count": 3,
   "id": "a8d0ed07-53a1-4807-abf7-86566f3604fc",
   "metadata": {},
   "outputs": [],
   "source": [
    "assert sol.toHex(26) == \"1a\""
   ]
  },
  {
   "cell_type": "code",
   "execution_count": 4,
   "id": "104673be-8c67-4ee9-bdf1-6e1eb27266ad",
   "metadata": {},
   "outputs": [],
   "source": [
    "assert sol.toHex(-1) == \"ffffffff\""
   ]
  }
 ],
 "metadata": {
  "kernelspec": {
   "display_name": "Python 3 (ipykernel)",
   "language": "python",
   "name": "python3"
  },
  "language_info": {
   "codemirror_mode": {
    "name": "ipython",
    "version": 3
   },
   "file_extension": ".py",
   "mimetype": "text/x-python",
   "name": "python",
   "nbconvert_exporter": "python",
   "pygments_lexer": "ipython3",
   "version": "3.9.7"
  }
 },
 "nbformat": 4,
 "nbformat_minor": 5
}
