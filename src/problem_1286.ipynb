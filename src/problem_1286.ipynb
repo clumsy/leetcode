{
 "cells": [
  {
   "cell_type": "markdown",
   "id": "f40ffcbe-140e-4e45-96e1-d8a086c9ce98",
   "metadata": {},
   "source": [
    "[Problem 1286](https://leetcode.com/problems/iterator-for-combination/description)"
   ]
  },
  {
   "cell_type": "code",
   "execution_count": 9,
   "id": "bfd0b069-72f7-4038-8058-551b6c585c1b",
   "metadata": {},
   "outputs": [],
   "source": [
    "from collections import deque"
   ]
  },
  {
   "cell_type": "code",
   "execution_count": 10,
   "id": "f7851b48-d5c8-4311-b882-7fb3332e087e",
   "metadata": {},
   "outputs": [],
   "source": [
    "class CombinationIterator:\n",
    "    def __init__(self, characters: str, combinationLength: int):\n",
    "        self.q = deque()\n",
    "        self.q.appendleft(([], characters))\n",
    "        self.length = combinationLength\n",
    "\n",
    "    def next(self) -> str:\n",
    "        while True:\n",
    "            e = self.q.pop()\n",
    "            if len(e[0]) == self.length:\n",
    "                return \"\".join(e[0])\n",
    "            for i, c in enumerate(e[1]):\n",
    "                self.q.appendleft((e[0] + [c], e[1][i + 1:]))\n",
    "\n",
    "    def hasNext(self) -> bool:\n",
    "        return len(self.q) > 0"
   ]
  },
  {
   "cell_type": "code",
   "execution_count": 11,
   "id": "08dca2ad-a890-4dae-9a17-da39d6a275c8",
   "metadata": {},
   "outputs": [],
   "source": [
    "sol = CombinationIterator(\"abc\", 2)\n",
    "assert sol.next() == \"ab\"\n",
    "assert sol.hasNext()\n",
    "assert sol.next() == \"ac\"\n",
    "assert sol.hasNext()\n",
    "assert sol.next() == \"bc\"\n",
    "assert not sol.hasNext()"
   ]
  }
 ],
 "metadata": {
  "kernelspec": {
   "display_name": "Python 3 (ipykernel)",
   "language": "python",
   "name": "python3"
  },
  "language_info": {
   "codemirror_mode": {
    "name": "ipython",
    "version": 3
   },
   "file_extension": ".py",
   "mimetype": "text/x-python",
   "name": "python",
   "nbconvert_exporter": "python",
   "pygments_lexer": "ipython3",
   "version": "3.9.7"
  }
 },
 "nbformat": 4,
 "nbformat_minor": 5
}
