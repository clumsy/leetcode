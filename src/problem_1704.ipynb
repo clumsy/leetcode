{
 "cells": [
  {
   "cell_type": "markdown",
   "id": "9b75e351-51d0-4d40-8e6c-b6e819c36440",
   "metadata": {},
   "source": [
    "[Problem 1704](https://leetcode.com/problems/determine-if-string-halves-are-alike/)"
   ]
  },
  {
   "cell_type": "code",
   "execution_count": 1,
   "id": "ca3e16ef-df82-49bd-aed0-a8c2d5116aaa",
   "metadata": {},
   "outputs": [],
   "source": [
    "from typing import List"
   ]
  },
  {
   "cell_type": "code",
   "execution_count": 2,
   "id": "ec6bf3b2-0e5f-4ecc-bcfa-58173efe2a1f",
   "metadata": {},
   "outputs": [],
   "source": [
    "class Solution:\n",
    "    def halvesAreAlike(self, s: str) -> bool:\n",
    "        vowels = {\"a\", \"e\", \"i\", \"o\", \"u\", \"A\", \"E\", \"I\", \"O\", \"U\"}\n",
    "        count = lambda x: sum(1 for c in x if c in vowels)\n",
    "        return count(s[:len(s) // 2]) == count(s[len(s) // 2:])"
   ]
  },
  {
   "cell_type": "code",
   "execution_count": 3,
   "id": "e850672d-7f3f-49bc-a783-14ae8773099b",
   "metadata": {},
   "outputs": [],
   "source": [
    "sol = Solution()"
   ]
  },
  {
   "cell_type": "code",
   "execution_count": 4,
   "id": "a8fd6f0a-11a8-48ce-9130-eecc83db5182",
   "metadata": {},
   "outputs": [],
   "source": [
    "assert sol.halvesAreAlike(\"book\")"
   ]
  },
  {
   "cell_type": "code",
   "execution_count": 5,
   "id": "0941f70d-6000-42a7-bfcd-951964b33e64",
   "metadata": {},
   "outputs": [],
   "source": [
    "assert not sol.halvesAreAlike(\"textbook\")"
   ]
  }
 ],
 "metadata": {
  "kernelspec": {
   "display_name": "Python 3 (ipykernel)",
   "language": "python",
   "name": "python3"
  },
  "language_info": {
   "codemirror_mode": {
    "name": "ipython",
    "version": 3
   },
   "file_extension": ".py",
   "mimetype": "text/x-python",
   "name": "python",
   "nbconvert_exporter": "python",
   "pygments_lexer": "ipython3",
   "version": "3.9.7"
  }
 },
 "nbformat": 4,
 "nbformat_minor": 5
}
