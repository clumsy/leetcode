{
 "cells": [
  {
   "cell_type": "markdown",
   "id": "d23ee4a4-0e0d-4a12-845e-819ab94dd57c",
   "metadata": {},
   "source": [
    "[Problem 2363](https://leetcode.com/problems/merge-similar-items/description)"
   ]
  },
  {
   "cell_type": "code",
   "execution_count": 1,
   "id": "aa433c90-f8a8-4592-9f6c-dd44c498adf0",
   "metadata": {},
   "outputs": [],
   "source": [
    "from typing import List"
   ]
  },
  {
   "cell_type": "code",
   "execution_count": 2,
   "id": "2abb52e4-1e78-4524-8f27-9adbe465d051",
   "metadata": {},
   "outputs": [],
   "source": [
    "class Solution:\n",
    "    def mergeSimilarItems(self, items1: List[List[int]], items2: List[List[int]]) -> List[List[int]]:\n",
    "        vs = {}\n",
    "        for v, w in items1:\n",
    "            vs[v] = w + vs.get(v, 0)\n",
    "        for v, w in items2:\n",
    "            vs[v] = w + vs.get(v, 0)\n",
    "        res = [[v, vs[v]] for v in sorted(vs.keys())]\n",
    "        return res"
   ]
  },
  {
   "cell_type": "code",
   "execution_count": 3,
   "id": "2015ec73-fc0c-41fc-8c0c-30cd5b5b1c19",
   "metadata": {},
   "outputs": [],
   "source": [
    "sol = Solution()"
   ]
  },
  {
   "cell_type": "code",
   "execution_count": 4,
   "id": "05255106-638d-4bc9-8dbb-a583a2c31e86",
   "metadata": {},
   "outputs": [],
   "source": [
    "assert sol.mergeSimilarItems([[1,1],[4,5],[3,8]], [[3,1],[1,5]]) == [[1,6],[3,9],[4,5]]"
   ]
  },
  {
   "cell_type": "code",
   "execution_count": 5,
   "id": "1e14b4f3-49c6-4d1c-b4c2-aa860c97f2c2",
   "metadata": {},
   "outputs": [],
   "source": [
    "assert sol.mergeSimilarItems([[1,1],[3,2],[2,3]], [[2,1],[3,2],[1,3]]) == [[1,4],[2,4],[3,4]]"
   ]
  },
  {
   "cell_type": "code",
   "execution_count": 6,
   "id": "93c5f546-3727-47bc-b53b-e32752dd35e5",
   "metadata": {},
   "outputs": [],
   "source": [
    "assert sol.mergeSimilarItems([[1,3],[2,2]], [[7,1],[2,2],[1,4]]) == [[1,7],[2,4],[7,1]]"
   ]
  }
 ],
 "metadata": {
  "kernelspec": {
   "display_name": "Python 3 (ipykernel)",
   "language": "python",
   "name": "python3"
  },
  "language_info": {
   "codemirror_mode": {
    "name": "ipython",
    "version": 3
   },
   "file_extension": ".py",
   "mimetype": "text/x-python",
   "name": "python",
   "nbconvert_exporter": "python",
   "pygments_lexer": "ipython3",
   "version": "3.9.7"
  }
 },
 "nbformat": 4,
 "nbformat_minor": 5
}
