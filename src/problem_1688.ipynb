{
 "cells": [
  {
   "cell_type": "markdown",
   "id": "8f1ce175-2562-4739-ac6e-059657bcda28",
   "metadata": {},
   "source": [
    "[Problem 1688](https://leetcode.com/problems/count-of-matches-in-tournament)"
   ]
  },
  {
   "cell_type": "code",
   "execution_count": 13,
   "id": "122ba8d2-b3a1-4947-b034-b3c7ede1402a",
   "metadata": {},
   "outputs": [],
   "source": [
    "class Solution:\n",
    "    def numberOfMatches(self, n: int) -> int:\n",
    "        return n - 1"
   ]
  },
  {
   "cell_type": "code",
   "execution_count": 14,
   "id": "98cddca0-e63b-417c-b394-d313d5fcacfa",
   "metadata": {},
   "outputs": [],
   "source": [
    "sol = Solution()"
   ]
  },
  {
   "cell_type": "code",
   "execution_count": 15,
   "id": "61379214-96b4-4996-9366-09e862329f3b",
   "metadata": {},
   "outputs": [],
   "source": [
    "assert sol.numberOfMatches(7) == 6"
   ]
  },
  {
   "cell_type": "code",
   "execution_count": 16,
   "id": "4c89f836-122e-496b-b3a3-64e8a27adb1a",
   "metadata": {},
   "outputs": [],
   "source": [
    "assert sol.numberOfMatches(14) == 13"
   ]
  }
 ],
 "metadata": {
  "kernelspec": {
   "display_name": "Python 3 (ipykernel)",
   "language": "python",
   "name": "python3"
  },
  "language_info": {
   "codemirror_mode": {
    "name": "ipython",
    "version": 3
   },
   "file_extension": ".py",
   "mimetype": "text/x-python",
   "name": "python",
   "nbconvert_exporter": "python",
   "pygments_lexer": "ipython3",
   "version": "3.9.7"
  }
 },
 "nbformat": 4,
 "nbformat_minor": 5
}
