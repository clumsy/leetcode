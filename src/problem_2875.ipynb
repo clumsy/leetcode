{
 "cells": [
  {
   "cell_type": "markdown",
   "id": "d7eb34a7-e9bb-47e3-a06a-fb42f8fc32c9",
   "metadata": {},
   "source": [
    "[Problem 2875](https://leetcode.com/problems/minimum-size-subarray-in-infinite-array/description)"
   ]
  },
  {
   "cell_type": "code",
   "execution_count": 1,
   "id": "16ca7363-7bc4-4b19-b828-dad230fd4485",
   "metadata": {},
   "outputs": [],
   "source": [
    "from typing import List\n",
    "from math import inf"
   ]
  },
  {
   "cell_type": "code",
   "execution_count": 2,
   "id": "f403313b-9d5c-4811-a433-abf05d9ed16d",
   "metadata": {},
   "outputs": [],
   "source": [
    "class Solution:\n",
    "    def minSizeSubarray(self, nums: List[int], target: int) -> int:\n",
    "        lft, rgt = {}, {}\n",
    "        res, s, n = inf, sum(nums), len(nums)\n",
    "        lo, hi = 0, s\n",
    "        for i, e in enumerate(nums):\n",
    "            lft[hi] = n - i\n",
    "            hi -= e\n",
    "            lo += e\n",
    "            rgt[lo] = i + 1\n",
    "        for rv, r in rgt.items():\n",
    "            if (rem := rv - target) > 0 and rem in rgt:\n",
    "                # contained within nums\n",
    "                res = min(res, r - rgt[rem])\n",
    "            # spans multiple nums\n",
    "            d, rem = divmod(target - rv, s)\n",
    "            if rem == 0 or rem in lft:\n",
    "                res = min(res, r + (lft[rem] if rem != 0 else 0) + d * n)\n",
    "        res = res if res is not inf else -1\n",
    "        return res"
   ]
  },
  {
   "cell_type": "code",
   "execution_count": 3,
   "id": "d43be789-2995-4d99-a46a-23bb52198297",
   "metadata": {},
   "outputs": [],
   "source": [
    "class Solution:\n",
    "    def minSizeSubarray(self, nums: List[int], target: int) -> int:\n",
    "        s, n = sum(nums), len(nums)\n",
    "        d, target = divmod(target, s)\n",
    "        if target == 0:\n",
    "            res = d * n\n",
    "        else:\n",
    "            res, s, dp = inf, 0, {0: -1}\n",
    "            # by concatenating with itself we can consider left and right chunks in a single iteration\n",
    "            for i, e in enumerate(nums + nums):\n",
    "                s += e\n",
    "                if s - target in dp:\n",
    "                    res = min(res, i - dp[s - target])\n",
    "                dp[s] = i\n",
    "            res = res + d * n if res is not inf else -1\n",
    "        return res"
   ]
  },
  {
   "cell_type": "code",
   "execution_count": 4,
   "id": "7ea9cdb6-cec5-4fc4-a819-feb2bd2fe033",
   "metadata": {},
   "outputs": [],
   "source": [
    "sol = Solution()"
   ]
  },
  {
   "cell_type": "code",
   "execution_count": 5,
   "id": "3883692c-a38e-4634-bcae-df3346c157f6",
   "metadata": {},
   "outputs": [],
   "source": [
    "assert sol.minSizeSubarray([1,2,3], 5) == 2"
   ]
  },
  {
   "cell_type": "code",
   "execution_count": 6,
   "id": "602581e7-4759-4a16-a607-fcd2785ed2a8",
   "metadata": {},
   "outputs": [],
   "source": [
    "assert sol.minSizeSubarray([1,1,1,2,3], 4) == 2"
   ]
  },
  {
   "cell_type": "code",
   "execution_count": 7,
   "id": "e3dbd8e0-5ef3-4de7-9e71-b2e51477967c",
   "metadata": {},
   "outputs": [],
   "source": [
    "assert sol.minSizeSubarray([2,4,6,8], 3) == -1"
   ]
  }
 ],
 "metadata": {
  "kernelspec": {
   "display_name": "Python 3 (ipykernel)",
   "language": "python",
   "name": "python3"
  },
  "language_info": {
   "codemirror_mode": {
    "name": "ipython",
    "version": 3
   },
   "file_extension": ".py",
   "mimetype": "text/x-python",
   "name": "python",
   "nbconvert_exporter": "python",
   "pygments_lexer": "ipython3",
   "version": "3.9.7"
  }
 },
 "nbformat": 4,
 "nbformat_minor": 5
}
