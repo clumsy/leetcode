{
 "cells": [
  {
   "cell_type": "markdown",
   "id": "8a62e489-10f9-436e-aaf5-bcdbde5d2b45",
   "metadata": {},
   "source": [
    "[Problem 1299](https://leetcode.com/problems/replace-elements-with-greatest-element-on-right-side/description)"
   ]
  },
  {
   "cell_type": "code",
   "execution_count": 1,
   "id": "676ee970-61d7-48f3-9eb2-21860ef84413",
   "metadata": {},
   "outputs": [],
   "source": [
    "from typing import List"
   ]
  },
  {
   "cell_type": "code",
   "execution_count": 2,
   "id": "2b4057fa-f65b-4e35-96fc-2283db11dac0",
   "metadata": {},
   "outputs": [],
   "source": [
    "class Solution:\n",
    "    def replaceElements(self, arr: List[int]) -> List[int]:\n",
    "        ma = -1\n",
    "        for i in range(len(arr))[::-1]:\n",
    "            arr[i], ma = ma, max(ma, arr[i])\n",
    "        return arr"
   ]
  },
  {
   "cell_type": "code",
   "execution_count": 3,
   "id": "6c50c933-000c-44cf-b9e0-21da7bbbf3ce",
   "metadata": {},
   "outputs": [],
   "source": [
    "sol = Solution()"
   ]
  },
  {
   "cell_type": "code",
   "execution_count": 4,
   "id": "abf0c959-bdd6-4cb6-9b44-545d9abf1a90",
   "metadata": {},
   "outputs": [],
   "source": [
    "assert sol.replaceElements([17,18,5,4,6,1]) == [18,6,6,6,1,-1]"
   ]
  },
  {
   "cell_type": "code",
   "execution_count": 5,
   "id": "de7d67e0-5a43-473f-9d6f-3eb5f5f255b5",
   "metadata": {},
   "outputs": [],
   "source": [
    "assert sol.replaceElements([400]) == [-1]"
   ]
  }
 ],
 "metadata": {
  "kernelspec": {
   "display_name": "Python 3 (ipykernel)",
   "language": "python",
   "name": "python3"
  },
  "language_info": {
   "codemirror_mode": {
    "name": "ipython",
    "version": 3
   },
   "file_extension": ".py",
   "mimetype": "text/x-python",
   "name": "python",
   "nbconvert_exporter": "python",
   "pygments_lexer": "ipython3",
   "version": "3.9.7"
  }
 },
 "nbformat": 4,
 "nbformat_minor": 5
}
