{
 "cells": [
  {
   "cell_type": "markdown",
   "id": "8cb0278e-c3a5-41e9-b54b-81bbb6836af0",
   "metadata": {},
   "source": [
    "[Problem 2427](https://leetcode.com/problems/number-of-common-factors/description)"
   ]
  },
  {
   "cell_type": "code",
   "execution_count": 1,
   "id": "26a80bf5-25c3-4751-bac9-3224eb04df1a",
   "metadata": {},
   "outputs": [],
   "source": [
    "class Solution:\n",
    "    def commonFactors(self, a: int, b: int) -> int:\n",
    "        def gcd(a, b):\n",
    "            return a if b == 0 else gcd(b, a % b)\n",
    "        res, i, g = 0, 1, gcd(a, b)\n",
    "        while i * i <= g:\n",
    "            j = g // i\n",
    "            if i * j == g:\n",
    "                res += 1 + (j != i)\n",
    "            i += 1\n",
    "        return res"
   ]
  },
  {
   "cell_type": "code",
   "execution_count": 2,
   "id": "ff4b0b1f-ba6b-48ea-bd0d-eae2634b5fdc",
   "metadata": {},
   "outputs": [],
   "source": [
    "sol = Solution()"
   ]
  },
  {
   "cell_type": "code",
   "execution_count": 3,
   "id": "8c370152-6a70-45c4-8c58-1defd1088784",
   "metadata": {},
   "outputs": [],
   "source": [
    "assert sol.commonFactors(12, 6) == 4"
   ]
  },
  {
   "cell_type": "code",
   "execution_count": 4,
   "id": "d2e80f48-dc91-4c36-933e-cfe337448061",
   "metadata": {},
   "outputs": [],
   "source": [
    "assert sol.commonFactors(25, 30) == 2"
   ]
  }
 ],
 "metadata": {
  "kernelspec": {
   "display_name": "Python 3 (ipykernel)",
   "language": "python",
   "name": "python3"
  },
  "language_info": {
   "codemirror_mode": {
    "name": "ipython",
    "version": 3
   },
   "file_extension": ".py",
   "mimetype": "text/x-python",
   "name": "python",
   "nbconvert_exporter": "python",
   "pygments_lexer": "ipython3",
   "version": "3.9.7"
  }
 },
 "nbformat": 4,
 "nbformat_minor": 5
}
