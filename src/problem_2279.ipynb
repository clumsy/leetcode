{
 "cells": [
  {
   "cell_type": "markdown",
   "id": "f34c6e9a-3c4f-418b-88ba-dfe457b11735",
   "metadata": {},
   "source": [
    "[Problem 2279](https://leetcode.com/problems/maximum-bags-with-full-capacity-of-rocks/description)"
   ]
  },
  {
   "cell_type": "code",
   "execution_count": 1,
   "id": "defcb50b-6fb6-4fa1-9952-c76321ee65ec",
   "metadata": {},
   "outputs": [],
   "source": [
    "from typing import List\n",
    "from heapq import heappush, heappop"
   ]
  },
  {
   "cell_type": "code",
   "execution_count": 2,
   "id": "e77bdab1-2f56-4835-a3b3-f59bdc1e0b0e",
   "metadata": {},
   "outputs": [],
   "source": [
    "class Solution:\n",
    "    def maximumBags(self, capacity: List[int], rocks: List[int], k: int) -> int:\n",
    "        h, n = [], len(rocks)\n",
    "        for i in range(n):\n",
    "            heappush(h, (capacity[i] - rocks[i], i))\n",
    "        res = 0\n",
    "        while h and k >= 0:\n",
    "            diff, i = heappop(h)\n",
    "            res += k >= diff\n",
    "            k -= diff\n",
    "        return res"
   ]
  },
  {
   "cell_type": "code",
   "execution_count": 3,
   "id": "67352a4d-dad6-42c5-a518-fd1b6d9d42b5",
   "metadata": {},
   "outputs": [],
   "source": [
    "sol = Solution()"
   ]
  },
  {
   "cell_type": "code",
   "execution_count": 4,
   "id": "ad8111ad-9bbb-4179-b304-005b7636ab41",
   "metadata": {},
   "outputs": [],
   "source": [
    "assert sol.maximumBags([2,3,4,5], [1,2,4,4], 2) == 3"
   ]
  },
  {
   "cell_type": "code",
   "execution_count": 5,
   "id": "fda1a830-7dc5-4a3e-ba5b-e36ff12b188f",
   "metadata": {},
   "outputs": [],
   "source": [
    "assert sol.maximumBags([10,2,2], [2,2,0], 100) == 3"
   ]
  }
 ],
 "metadata": {
  "kernelspec": {
   "display_name": "Python 3 (ipykernel)",
   "language": "python",
   "name": "python3"
  },
  "language_info": {
   "codemirror_mode": {
    "name": "ipython",
    "version": 3
   },
   "file_extension": ".py",
   "mimetype": "text/x-python",
   "name": "python",
   "nbconvert_exporter": "python",
   "pygments_lexer": "ipython3",
   "version": "3.9.7"
  }
 },
 "nbformat": 4,
 "nbformat_minor": 5
}
