{
 "cells": [
  {
   "cell_type": "markdown",
   "id": "2d348238-82d0-4b08-8a4d-772afcee1eba",
   "metadata": {},
   "source": [
    "[Problem 980](https://leetcode.com/problems/unique-paths-iii/description)"
   ]
  },
  {
   "cell_type": "code",
   "execution_count": 1,
   "id": "a140c221-57f7-4555-bf79-82c21585a64c",
   "metadata": {},
   "outputs": [],
   "source": [
    "from typing import List\n",
    "from collections import Counter, defaultdict"
   ]
  },
  {
   "cell_type": "code",
   "execution_count": 2,
   "id": "e39d1e7c-81f6-4b7b-baee-a08ddda0901e",
   "metadata": {},
   "outputs": [],
   "source": [
    "class Solution:\n",
    "    def uniquePathsIII(self, grid: List[List[int]]) -> int:\n",
    "        rs, cs, mp = len(grid), len(grid[0]), {}\n",
    "        for r in range(rs):\n",
    "            for c in range(cs):\n",
    "                if grid[r][c] == 1:\n",
    "                    x0, y0 = r, c\n",
    "                elif grid[r][c] == 2:\n",
    "                    x1, y1 = r, c\n",
    "                elif grid[r][c] == 0:\n",
    "                    mp[(r, c)] = len(mp)\n",
    "\n",
    "        def count(xs, ys, n):\n",
    "            ps = defaultdict(Counter)\n",
    "            ps[(xs, ys)][0] = 1\n",
    "            while n:\n",
    "                nxt = defaultdict(Counter)\n",
    "                for (x, y), cnt in ps.items():\n",
    "                    for dx, dy in [(-1, 0), (+1, 0), (0, -1), (0, +1)]:\n",
    "                        if 0 <= x + dx < rs and 0 <= y + dy < cs:\n",
    "                            pnt = (x + dx, y + dy)\n",
    "                            if pnt in mp:\n",
    "                                for m, c in cnt.items():\n",
    "                                    if m & (1 << mp[pnt]) == 0:\n",
    "                                        nxt[pnt][m | (1 << mp[pnt])] += c\n",
    "                ps = nxt\n",
    "                n -= 1\n",
    "            return ps\n",
    "\n",
    "        gd = len(mp)\n",
    "        lft, rgt = count(x0, y0, gd // 2), count(x1, y1, (gd + 1) // 2)\n",
    "        res, msk = 0, (1 << gd) - 1\n",
    "        for (x, y), pl in lft.items():\n",
    "            for dx, dy in [(-1, 0), (+1, 0), (0, -1), (0, +1)]:\n",
    "                if 0 <= x + dx < rs and 0 <= y + dy < cs:\n",
    "                    res += sum(rgt[(x + dx, y + dy)][msk ^ p] * c for p, c in pl.items())\n",
    "        return res"
   ]
  },
  {
   "cell_type": "code",
   "execution_count": 3,
   "id": "bc71531f-e8ce-4cf1-afd7-b1c004180e97",
   "metadata": {},
   "outputs": [],
   "source": [
    "sol = Solution()"
   ]
  },
  {
   "cell_type": "code",
   "execution_count": 4,
   "id": "e8367b70-e9ea-411f-85a5-1644331d3b32",
   "metadata": {},
   "outputs": [],
   "source": [
    "assert sol.uniquePathsIII([[1,0,0,0],[0,0,0,0],[0,0,2,-1]]) == 2"
   ]
  },
  {
   "cell_type": "code",
   "execution_count": 5,
   "id": "15772409-be91-4f27-b332-c37147cbb3c4",
   "metadata": {},
   "outputs": [],
   "source": [
    "assert sol.uniquePathsIII([[1,0,0,0],[0,0,0,0],[0,0,0,2]]) == 4"
   ]
  },
  {
   "cell_type": "code",
   "execution_count": 6,
   "id": "43eb2d4e-f93c-435e-be73-ab73acc45bdf",
   "metadata": {},
   "outputs": [],
   "source": [
    "assert sol.uniquePathsIII([[0,1],[2,0]]) == 0"
   ]
  }
 ],
 "metadata": {
  "kernelspec": {
   "display_name": "Python 3 (ipykernel)",
   "language": "python",
   "name": "python3"
  },
  "language_info": {
   "codemirror_mode": {
    "name": "ipython",
    "version": 3
   },
   "file_extension": ".py",
   "mimetype": "text/x-python",
   "name": "python",
   "nbconvert_exporter": "python",
   "pygments_lexer": "ipython3",
   "version": "3.9.7"
  }
 },
 "nbformat": 4,
 "nbformat_minor": 5
}
