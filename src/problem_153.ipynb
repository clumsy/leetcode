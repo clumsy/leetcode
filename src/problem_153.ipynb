{
 "cells": [
  {
   "cell_type": "markdown",
   "id": "32e7a2af-c265-4e43-ab1f-3d83912c9718",
   "metadata": {},
   "source": [
    "[Problem 153](https://leetcode.com/problems/find-minimum-in-rotated-sorted-array/)"
   ]
  },
  {
   "cell_type": "code",
   "execution_count": 2,
   "id": "73d9d2ad-6257-4d4e-98a7-cb98d36f34e8",
   "metadata": {},
   "outputs": [],
   "source": [
    "from typing import List"
   ]
  },
  {
   "cell_type": "code",
   "execution_count": 3,
   "id": "99ea792d-08be-4880-8c96-4f1085fff6cc",
   "metadata": {},
   "outputs": [],
   "source": [
    "class Solution:\n",
    "    def findMin(self, nums: List[int]) -> int:\n",
    "        lo, hi = 0, len(nums) - 1\n",
    "        while lo < hi:\n",
    "            if nums[lo] < nums[hi]:  # sorted\n",
    "                return nums[lo]\n",
    "            mi = lo + (hi - lo) // 2\n",
    "            if nums[mi] > nums[hi]:  # interjection is on the right\n",
    "                lo = mi + 1\n",
    "            else:\n",
    "                hi = mi\n",
    "        return nums[lo]"
   ]
  },
  {
   "cell_type": "code",
   "execution_count": 4,
   "id": "22d9ff25-60bd-49cf-94ca-97c2f939b60f",
   "metadata": {},
   "outputs": [],
   "source": [
    "sol = Solution()"
   ]
  },
  {
   "cell_type": "code",
   "execution_count": 5,
   "id": "33114a4e-e4f0-478e-af0e-46be74f7cc05",
   "metadata": {},
   "outputs": [],
   "source": [
    "assert sol.findMin([3,4,5,1,2]) == 1"
   ]
  },
  {
   "cell_type": "code",
   "execution_count": 6,
   "id": "06d67328-581f-46b4-8003-dd830a90abef",
   "metadata": {},
   "outputs": [],
   "source": [
    "assert sol.findMin([4,5,6,7,0,1,2]) == 0"
   ]
  },
  {
   "cell_type": "code",
   "execution_count": 8,
   "id": "af357111-3fc1-44fe-a206-276a5fc4709f",
   "metadata": {},
   "outputs": [],
   "source": [
    "assert sol.findMin([11,13,15,17]) == 11"
   ]
  }
 ],
 "metadata": {
  "kernelspec": {
   "display_name": "Python 3 (ipykernel)",
   "language": "python",
   "name": "python3"
  },
  "language_info": {
   "codemirror_mode": {
    "name": "ipython",
    "version": 3
   },
   "file_extension": ".py",
   "mimetype": "text/x-python",
   "name": "python",
   "nbconvert_exporter": "python",
   "pygments_lexer": "ipython3",
   "version": "3.9.7"
  }
 },
 "nbformat": 4,
 "nbformat_minor": 5
}
