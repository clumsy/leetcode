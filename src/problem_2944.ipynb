{
 "cells": [
  {
   "cell_type": "markdown",
   "id": "5b43b03c-7329-4e97-af63-8e5f2a3daced",
   "metadata": {},
   "source": [
    "[Problem 2944](https://leetcode.com/problems/minimum-number-of-coins-for-fruits/description)"
   ]
  },
  {
   "cell_type": "code",
   "execution_count": 1,
   "id": "c5c70baa-126c-4937-aeea-72c0e115d5f0",
   "metadata": {},
   "outputs": [],
   "source": [
    "from typing import List\n",
    "from math import inf"
   ]
  },
  {
   "cell_type": "code",
   "execution_count": 2,
   "id": "757e7436-457c-486e-bb70-d26b1374fd3d",
   "metadata": {},
   "outputs": [],
   "source": [
    "class Solution:\n",
    "    def minimumCoins(self, prices: List[int]) -> int:\n",
    "        n = len(prices)\n",
    "        dp = [inf] * n\n",
    "        for i in range(min(n, 2)):\n",
    "            dp[i] = prices[0]\n",
    "        for i in range(1, n):\n",
    "            for j in range(i, min(n, i + 1 + i + 1)):\n",
    "                dp[j] = min(dp[j], dp[i - 1] + prices[i])\n",
    "        res = dp[-1]\n",
    "        return res"
   ]
  },
  {
   "cell_type": "code",
   "execution_count": 3,
   "id": "f7bdeca1-e396-4daa-b437-a82f3a150fe9",
   "metadata": {},
   "outputs": [],
   "source": [
    "sol = Solution()"
   ]
  },
  {
   "cell_type": "code",
   "execution_count": 4,
   "id": "e88ee161-6bbd-4935-999c-13c6ab7cd985",
   "metadata": {},
   "outputs": [],
   "source": [
    "assert sol.minimumCoins([3,1,2]) == 4"
   ]
  },
  {
   "cell_type": "code",
   "execution_count": 5,
   "id": "a4d8e6e1-4af1-4835-a0f2-d10e27a39e42",
   "metadata": {},
   "outputs": [],
   "source": [
    "assert sol.minimumCoins([1,10,1,1]) == 2"
   ]
  }
 ],
 "metadata": {
  "kernelspec": {
   "display_name": "Python 3 (ipykernel)",
   "language": "python",
   "name": "python3"
  },
  "language_info": {
   "codemirror_mode": {
    "name": "ipython",
    "version": 3
   },
   "file_extension": ".py",
   "mimetype": "text/x-python",
   "name": "python",
   "nbconvert_exporter": "python",
   "pygments_lexer": "ipython3",
   "version": "3.9.7"
  }
 },
 "nbformat": 4,
 "nbformat_minor": 5
}
