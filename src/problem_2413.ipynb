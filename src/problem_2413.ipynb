{
 "cells": [
  {
   "cell_type": "markdown",
   "id": "ba87b5a5-9a32-4e93-9c1c-fbb099d661bb",
   "metadata": {},
   "source": [
    "[Problem 2413](https://leetcode.com/problems/smallest-even-multiple/description)"
   ]
  },
  {
   "cell_type": "code",
   "execution_count": 1,
   "id": "d6908911-6ee3-4d0d-8ddf-be9a36840a5e",
   "metadata": {},
   "outputs": [],
   "source": [
    "class Solution:\n",
    "    def smallestEvenMultiple(self, n: int) -> int:\n",
    "        res = (n * 2) // (2 if n & 1 == 0 else 1) # lcm = a * b / gcd(a, b)\n",
    "        return res"
   ]
  },
  {
   "cell_type": "code",
   "execution_count": 2,
   "id": "383ba126-bb0b-4c20-802f-122cbb76a206",
   "metadata": {},
   "outputs": [],
   "source": [
    "sol = Solution()"
   ]
  },
  {
   "cell_type": "code",
   "execution_count": 3,
   "id": "8a814861-5922-4e63-afb9-14901f3e1042",
   "metadata": {},
   "outputs": [],
   "source": [
    "assert sol.smallestEvenMultiple(5) == 10"
   ]
  },
  {
   "cell_type": "code",
   "execution_count": 4,
   "id": "bbcfd72b-4568-465d-a463-7f351338a548",
   "metadata": {},
   "outputs": [],
   "source": [
    "assert sol.smallestEvenMultiple(6) == 6"
   ]
  }
 ],
 "metadata": {
  "kernelspec": {
   "display_name": "Python 3 (ipykernel)",
   "language": "python",
   "name": "python3"
  },
  "language_info": {
   "codemirror_mode": {
    "name": "ipython",
    "version": 3
   },
   "file_extension": ".py",
   "mimetype": "text/x-python",
   "name": "python",
   "nbconvert_exporter": "python",
   "pygments_lexer": "ipython3",
   "version": "3.9.7"
  }
 },
 "nbformat": 4,
 "nbformat_minor": 5
}
