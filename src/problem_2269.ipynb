{
 "cells": [
  {
   "cell_type": "markdown",
   "id": "89df8413-a073-421b-a602-2eb390d4d016",
   "metadata": {},
   "source": [
    "[Problem 2269](https://leetcode.com/problems/find-the-k-beauty-of-a-number/description)"
   ]
  },
  {
   "cell_type": "code",
   "execution_count": 1,
   "id": "b411d075-7246-4594-8524-5e28e2b02b0c",
   "metadata": {},
   "outputs": [],
   "source": [
    "class Solution:\n",
    "    def divisorSubstrings(self, num: int, k: int) -> int:\n",
    "        res, cur, s = 0, \"\", str(num)\n",
    "        for i in range(len(s)):\n",
    "            cur += s[i]\n",
    "            if len(cur) > k:\n",
    "                cur = cur[1:]\n",
    "            if len(cur) == k:\n",
    "                c = int(cur)\n",
    "                res += num % c == 0 if c > 0 else 0\n",
    "        return res"
   ]
  },
  {
   "cell_type": "code",
   "execution_count": 2,
   "id": "7f075825-5ec8-4a8e-a038-84c587e31b45",
   "metadata": {},
   "outputs": [],
   "source": [
    "sol = Solution()"
   ]
  },
  {
   "cell_type": "code",
   "execution_count": 3,
   "id": "92a080a7-3f6c-44fd-9a52-4372bd6f5651",
   "metadata": {},
   "outputs": [],
   "source": [
    "assert sol.divisorSubstrings(240, 2) == 2"
   ]
  },
  {
   "cell_type": "code",
   "execution_count": 4,
   "id": "4734f682-2bc7-41c2-b016-8f8e6be4d506",
   "metadata": {},
   "outputs": [],
   "source": [
    "assert sol.divisorSubstrings(430043, 2) == 2"
   ]
  }
 ],
 "metadata": {
  "kernelspec": {
   "display_name": "Python 3 (ipykernel)",
   "language": "python",
   "name": "python3"
  },
  "language_info": {
   "codemirror_mode": {
    "name": "ipython",
    "version": 3
   },
   "file_extension": ".py",
   "mimetype": "text/x-python",
   "name": "python",
   "nbconvert_exporter": "python",
   "pygments_lexer": "ipython3",
   "version": "3.9.7"
  }
 },
 "nbformat": 4,
 "nbformat_minor": 5
}
