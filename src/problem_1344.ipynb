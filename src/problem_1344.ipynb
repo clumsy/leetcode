{
 "cells": [
  {
   "cell_type": "markdown",
   "id": "1ae83644-9ae2-4654-bf17-e7219d96df39",
   "metadata": {},
   "source": [
    "[Problem 1344](https://leetcode.com/problems/angle-between-hands-of-a-clock/description)"
   ]
  },
  {
   "cell_type": "code",
   "execution_count": 1,
   "id": "c725fc63-01ec-49a5-8c96-f5d4416731f1",
   "metadata": {},
   "outputs": [],
   "source": [
    "class Solution:\n",
    "    def angleClock(self, hour: int, minutes: int) -> float:\n",
    "        hour_degrees = (hour + minutes / 60) * (360 / 12)\n",
    "        minutes_degrees = minutes * (360 / 60)\n",
    "        diff = abs(hour_degrees - minutes_degrees)\n",
    "        res = min(diff, 360 - diff)\n",
    "        return res"
   ]
  },
  {
   "cell_type": "code",
   "execution_count": 2,
   "id": "ce4117b4-abad-489b-b35b-fbd2dd336f59",
   "metadata": {},
   "outputs": [],
   "source": [
    "sol = Solution()"
   ]
  },
  {
   "cell_type": "code",
   "execution_count": 3,
   "id": "d1a9e623-212f-4a2b-b85b-66123a32f3cd",
   "metadata": {},
   "outputs": [],
   "source": [
    "assert sol.angleClock(12, 30) == 165"
   ]
  },
  {
   "cell_type": "code",
   "execution_count": 4,
   "id": "65e47c8a-e651-4f97-9519-dce2992fba66",
   "metadata": {},
   "outputs": [],
   "source": [
    "assert sol.angleClock(3, 30) == 75"
   ]
  },
  {
   "cell_type": "code",
   "execution_count": 5,
   "id": "7cda6968-98e5-4af7-8a27-ed29c0b0ae3f",
   "metadata": {},
   "outputs": [],
   "source": [
    "assert sol.angleClock(3, 15) == 7.5"
   ]
  }
 ],
 "metadata": {
  "kernelspec": {
   "display_name": "Python 3 (ipykernel)",
   "language": "python",
   "name": "python3"
  },
  "language_info": {
   "codemirror_mode": {
    "name": "ipython",
    "version": 3
   },
   "file_extension": ".py",
   "mimetype": "text/x-python",
   "name": "python",
   "nbconvert_exporter": "python",
   "pygments_lexer": "ipython3",
   "version": "3.9.7"
  }
 },
 "nbformat": 4,
 "nbformat_minor": 5
}
