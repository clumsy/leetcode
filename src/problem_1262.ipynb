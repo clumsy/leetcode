{
 "cells": [
  {
   "cell_type": "markdown",
   "id": "751ce4ed-f546-488b-9648-0a341fe9ea49",
   "metadata": {},
   "source": [
    "[Problem 1262](https://leetcode.com/problems/greatest-sum-divisible-by-three/description)"
   ]
  },
  {
   "cell_type": "code",
   "execution_count": 1,
   "id": "a9f51003-8a92-4258-873c-13c4dda6e88a",
   "metadata": {},
   "outputs": [],
   "source": [
    "from typing import List\n",
    "from itertools import accumulate\n",
    "from bisect import insort\n",
    "from collections import defaultdict"
   ]
  },
  {
   "cell_type": "code",
   "execution_count": 2,
   "id": "534928b1-1dc5-45e1-8895-0b5039f4871a",
   "metadata": {},
   "outputs": [],
   "source": [
    "class Solution:\n",
    "    def maxSumDivThree(self, nums: List[int]) -> int:\n",
    "        cnt = defaultdict(list)\n",
    "        for i in nums:\n",
    "            insort(cnt[i % 3], i)\n",
    "        res = 0\n",
    "        def count_sum(cur, i):\n",
    "            n = len(cur)\n",
    "            if n < 1:\n",
    "                return 0\n",
    "            matching = cur[n - 1] - (cur[n - 1 - i] if n - 1 - i >= 0 else 0)\n",
    "            group_of_3 = cur[n - 1 - i] - (cur[(n - i)%3 - 1] if (n - i)%3 > 0 else 0) if n - 1 - i > 1 else 0\n",
    "            return matching + group_of_3\n",
    "        cnt[1], cnt[2] = list(accumulate(cnt[1])), list(accumulate(cnt[2]))\n",
    "        for i in range(min(len(cnt[1]), len(cnt[2])) + 1):\n",
    "            res = max(res, count_sum(cnt[1], i) + count_sum(cnt[2], i))\n",
    "        res += sum(cnt[0])\n",
    "        return res"
   ]
  },
  {
   "cell_type": "code",
   "execution_count": 3,
   "id": "81755d2e-fb8a-47a7-bb36-ccd6671d7994",
   "metadata": {},
   "outputs": [],
   "source": [
    "class Solution:\n",
    "    def maxSumDivThree(self, A):\n",
    "        dp = [0, 0, 0]\n",
    "        for a in A:\n",
    "            for i in dp[:]:\n",
    "                dp[(i + a) % 3] = max(dp[(i + a) % 3], i + a)\n",
    "        return dp[0]"
   ]
  },
  {
   "cell_type": "code",
   "execution_count": 4,
   "id": "2a650aa7-2269-4fd6-aaa4-57fb6306fb90",
   "metadata": {},
   "outputs": [],
   "source": [
    "sol = Solution()"
   ]
  },
  {
   "cell_type": "code",
   "execution_count": 5,
   "id": "065e3171-6649-46a0-8bad-ad9079bab3e2",
   "metadata": {},
   "outputs": [],
   "source": [
    "assert sol.maxSumDivThree([3,6,5,1,8]) == 18"
   ]
  },
  {
   "cell_type": "code",
   "execution_count": 6,
   "id": "ab851f5e-ec0b-4675-97f2-f66a00c0ebb7",
   "metadata": {},
   "outputs": [],
   "source": [
    "assert sol.maxSumDivThree([4]) == 0"
   ]
  },
  {
   "cell_type": "code",
   "execution_count": 7,
   "id": "33fefec9-d235-40ed-86fc-36eabe0ba7aa",
   "metadata": {},
   "outputs": [],
   "source": [
    "assert sol.maxSumDivThree([1,2,3,4,4]) == 12"
   ]
  }
 ],
 "metadata": {
  "kernelspec": {
   "display_name": "Python 3 (ipykernel)",
   "language": "python",
   "name": "python3"
  },
  "language_info": {
   "codemirror_mode": {
    "name": "ipython",
    "version": 3
   },
   "file_extension": ".py",
   "mimetype": "text/x-python",
   "name": "python",
   "nbconvert_exporter": "python",
   "pygments_lexer": "ipython3",
   "version": "3.9.7"
  }
 },
 "nbformat": 4,
 "nbformat_minor": 5
}
