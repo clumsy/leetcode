{
 "cells": [
  {
   "cell_type": "markdown",
   "id": "b2ef319c-079a-43d9-a212-e3ad785ab6ff",
   "metadata": {},
   "source": [
    "[Problem 1844](https://leetcode.com/problems/replace-all-digits-with-characters/description)"
   ]
  },
  {
   "cell_type": "code",
   "execution_count": 1,
   "id": "d9cbd086-44e9-48b4-a773-f35e52aa54da",
   "metadata": {},
   "outputs": [],
   "source": [
    "class Solution:\n",
    "    def replaceDigits(self, s: str) -> str:\n",
    "        res = [c if i & 1 == 0 else chr(ord(s[i - 1]) + int(c)) for i, c in enumerate(s)]\n",
    "        res = \"\".join(res)\n",
    "        return res"
   ]
  },
  {
   "cell_type": "code",
   "execution_count": 2,
   "id": "7c1da1e1-032b-412c-8fb9-e6ebe6f45d0b",
   "metadata": {},
   "outputs": [],
   "source": [
    "sol = Solution()"
   ]
  },
  {
   "cell_type": "code",
   "execution_count": 3,
   "id": "796e7823-8f55-46d4-af2b-bb35db522e62",
   "metadata": {},
   "outputs": [],
   "source": [
    "assert sol.replaceDigits(\"a1c1e1\") == \"abcdef\""
   ]
  },
  {
   "cell_type": "code",
   "execution_count": 4,
   "id": "9315fda7-bbbb-4ae0-879b-20887f5fd3df",
   "metadata": {},
   "outputs": [],
   "source": [
    "assert sol.replaceDigits(\"a1b2c3d4e\") == \"abbdcfdhe\""
   ]
  }
 ],
 "metadata": {
  "kernelspec": {
   "display_name": "Python 3 (ipykernel)",
   "language": "python",
   "name": "python3"
  },
  "language_info": {
   "codemirror_mode": {
    "name": "ipython",
    "version": 3
   },
   "file_extension": ".py",
   "mimetype": "text/x-python",
   "name": "python",
   "nbconvert_exporter": "python",
   "pygments_lexer": "ipython3",
   "version": "3.9.7"
  }
 },
 "nbformat": 4,
 "nbformat_minor": 5
}
