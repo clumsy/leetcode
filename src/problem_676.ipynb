{
 "cells": [
  {
   "cell_type": "markdown",
   "id": "66d188e3-ec51-4792-a077-df4dad6d0ac6",
   "metadata": {},
   "source": [
    "[Problem 676](https://leetcode.com/problems/implement-magic-dictionary/description)"
   ]
  },
  {
   "cell_type": "code",
   "execution_count": 1,
   "id": "5655ac1a-15d2-4d5c-b955-840c08ad76f8",
   "metadata": {},
   "outputs": [],
   "source": [
    "from typing import List\n",
    "from collections import defaultdict"
   ]
  },
  {
   "cell_type": "code",
   "execution_count": 2,
   "id": "829c872b-fdb1-42da-a368-56e41ef898fc",
   "metadata": {},
   "outputs": [],
   "source": [
    "class MagicDictionary:\n",
    "\n",
    "    def __init__(self):\n",
    "        self.words = defaultdict(set)\n",
    "        \n",
    "\n",
    "    def buildDict(self, dictionary: List[str]) -> None:\n",
    "        for w in dictionary:\n",
    "            for i in range(len(w)):\n",
    "                self.words[w[:i] + \"$\" + w[i + 1:]].add(w)\n",
    "        \n",
    "\n",
    "    def search(self, sw: str) -> bool:\n",
    "        for i in range(len(sw)):\n",
    "            matches = self.words.get(sw[:i] + \"$\" + sw[i + 1:])\n",
    "            if matches:\n",
    "                for m in matches:\n",
    "                    if sw[i] != m[i]:\n",
    "                        return True\n",
    "        return False"
   ]
  },
  {
   "cell_type": "code",
   "execution_count": 3,
   "id": "9efee4b2-9d1c-471f-8699-f6bbc33caa09",
   "metadata": {},
   "outputs": [],
   "source": [
    "sol = MagicDictionary()\n",
    "sol.buildDict([\"hello\", \"leetcode\"])\n",
    "assert not sol.search(\"hello\")\n",
    "assert sol.search(\"hhllo\")\n",
    "assert not sol.search(\"hell\")\n",
    "assert not sol.search(\"leetcode\")"
   ]
  }
 ],
 "metadata": {
  "kernelspec": {
   "display_name": "Python 3 (ipykernel)",
   "language": "python",
   "name": "python3"
  },
  "language_info": {
   "codemirror_mode": {
    "name": "ipython",
    "version": 3
   },
   "file_extension": ".py",
   "mimetype": "text/x-python",
   "name": "python",
   "nbconvert_exporter": "python",
   "pygments_lexer": "ipython3",
   "version": "3.9.7"
  }
 },
 "nbformat": 4,
 "nbformat_minor": 5
}
