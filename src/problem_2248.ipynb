{
 "cells": [
  {
   "cell_type": "markdown",
   "id": "b3ef9b99-33d6-497e-9ac4-fab174a5c912",
   "metadata": {},
   "source": [
    "[Problem 2248](https://leetcode.com/problems/intersection-of-multiple-arrays/description)"
   ]
  },
  {
   "cell_type": "code",
   "execution_count": 1,
   "id": "3510ce8d-5c1d-4427-acd1-24b390038f2e",
   "metadata": {},
   "outputs": [],
   "source": [
    "from typing import List"
   ]
  },
  {
   "cell_type": "code",
   "execution_count": 2,
   "id": "179c2c14-b8db-48e9-9243-ad0d3845a8e6",
   "metadata": {},
   "outputs": [],
   "source": [
    "class Solution:\n",
    "    def intersection(self, nums: List[List[int]]) -> List[int]:\n",
    "        MAX = 1001\n",
    "        n, arr = len(nums), [0] * MAX\n",
    "        for num in nums:\n",
    "            for i in num:\n",
    "                arr[i] += 1\n",
    "        res = [i for i in range(1, MAX) if arr[i] == n]\n",
    "        return res"
   ]
  },
  {
   "cell_type": "code",
   "execution_count": 3,
   "id": "ad87bb09-73e2-4452-a593-b8c99fb775f6",
   "metadata": {},
   "outputs": [],
   "source": [
    "sol = Solution()"
   ]
  },
  {
   "cell_type": "code",
   "execution_count": 4,
   "id": "d00a0f9f-a8e4-4718-afd0-4317332af9d6",
   "metadata": {},
   "outputs": [],
   "source": [
    "assert sol.intersection([[3,1,2,4,5],[1,2,3,4],[3,4,5,6]]) == [3,4]"
   ]
  },
  {
   "cell_type": "code",
   "execution_count": 5,
   "id": "848a4fb7-6047-4b56-97cf-80be98ed5bb9",
   "metadata": {},
   "outputs": [],
   "source": [
    "assert sol.intersection([[1,2,3],[4,5,6]]) == []"
   ]
  }
 ],
 "metadata": {
  "kernelspec": {
   "display_name": "Python 3 (ipykernel)",
   "language": "python",
   "name": "python3"
  },
  "language_info": {
   "codemirror_mode": {
    "name": "ipython",
    "version": 3
   },
   "file_extension": ".py",
   "mimetype": "text/x-python",
   "name": "python",
   "nbconvert_exporter": "python",
   "pygments_lexer": "ipython3",
   "version": "3.9.7"
  }
 },
 "nbformat": 4,
 "nbformat_minor": 5
}
