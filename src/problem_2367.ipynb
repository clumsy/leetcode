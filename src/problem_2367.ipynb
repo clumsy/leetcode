{
 "cells": [
  {
   "cell_type": "markdown",
   "id": "d10a4048-c33f-4a16-adfd-65dcc19846af",
   "metadata": {},
   "source": [
    "[Problem 2367](https://leetcode.com/problems/number-of-arithmetic-triplets/description)"
   ]
  },
  {
   "cell_type": "code",
   "execution_count": 1,
   "id": "7762f4e1-913f-438d-9800-dd15b847f2be",
   "metadata": {},
   "outputs": [],
   "source": [
    "from typing import List"
   ]
  },
  {
   "cell_type": "code",
   "execution_count": 2,
   "id": "5984341b-8d18-4b27-86e9-3733be9ba422",
   "metadata": {},
   "outputs": [],
   "source": [
    "class Solution:\n",
    "    def arithmeticTriplets(self, nums: List[int], diff: int) -> int:\n",
    "        n, res, j, k = len(nums), 0, 1, 2\n",
    "        for i in range(n - 2):\n",
    "            while k < n and nums[k] < nums[i] + diff * 2:\n",
    "                k += 1\n",
    "            while j < k and nums[j] < nums[i] + diff:\n",
    "                j += 1\n",
    "            res += j < k < n and nums[k] - nums[j] == nums[j] - nums[i] == diff\n",
    "        return res"
   ]
  },
  {
   "cell_type": "code",
   "execution_count": 3,
   "id": "934c0266-ef6d-42f9-8a93-14f7e37707ee",
   "metadata": {},
   "outputs": [],
   "source": [
    "sol = Solution()"
   ]
  },
  {
   "cell_type": "code",
   "execution_count": 4,
   "id": "d452b5c8-ba60-4858-a083-397042b6eb9b",
   "metadata": {},
   "outputs": [],
   "source": [
    "assert sol.arithmeticTriplets([0,1,4,6,7,10], 3) == 2"
   ]
  },
  {
   "cell_type": "code",
   "execution_count": 5,
   "id": "cde999cb-4003-4f84-9fe1-87ccbbe6233b",
   "metadata": {},
   "outputs": [],
   "source": [
    "assert sol.arithmeticTriplets([4,5,6,7,8,9], 2) == 2"
   ]
  }
 ],
 "metadata": {
  "kernelspec": {
   "display_name": "Python 3 (ipykernel)",
   "language": "python",
   "name": "python3"
  },
  "language_info": {
   "codemirror_mode": {
    "name": "ipython",
    "version": 3
   },
   "file_extension": ".py",
   "mimetype": "text/x-python",
   "name": "python",
   "nbconvert_exporter": "python",
   "pygments_lexer": "ipython3",
   "version": "3.9.7"
  }
 },
 "nbformat": 4,
 "nbformat_minor": 5
}
