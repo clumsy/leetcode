{
 "cells": [
  {
   "cell_type": "markdown",
   "id": "3dc7896a-2da6-4916-accc-c7c51fbcdb99",
   "metadata": {},
   "source": [
    "[Problem 846](https://leetcode.com/problems/hand-of-straights/description)"
   ]
  },
  {
   "cell_type": "code",
   "execution_count": 1,
   "id": "1a915c16-3678-4de0-b1ec-a9f513734825",
   "metadata": {},
   "outputs": [],
   "source": [
    "from typing import List\n",
    "from collections import Counter"
   ]
  },
  {
   "cell_type": "code",
   "execution_count": 2,
   "id": "adfa57d9-29aa-4367-87ff-e9897c54025c",
   "metadata": {},
   "outputs": [],
   "source": [
    "class Solution:\n",
    "    def isNStraightHand(self, hand: List[int], groupSize: int) -> bool:\n",
    "        hand.sort()\n",
    "        res, cnt = True, Counter(hand)\n",
    "        for h in hand:\n",
    "            if not res:\n",
    "                break\n",
    "            if cnt[h] > 0:\n",
    "                for i in range(groupSize):\n",
    "                    if cnt[h + i] == 0:\n",
    "                        res = False\n",
    "                        break\n",
    "                    cnt[h + i] -= 1\n",
    "        return res"
   ]
  },
  {
   "cell_type": "code",
   "execution_count": 3,
   "id": "31b750c4-ab32-421c-bad6-d11aa3df4342",
   "metadata": {},
   "outputs": [],
   "source": [
    "sol = Solution()"
   ]
  },
  {
   "cell_type": "code",
   "execution_count": 4,
   "id": "748c56e9-5e5e-4dab-b332-f9a90f0f1b98",
   "metadata": {},
   "outputs": [],
   "source": [
    "assert sol.isNStraightHand([1,2,3,6,2,3,4,7,8], 3)"
   ]
  },
  {
   "cell_type": "code",
   "execution_count": 5,
   "id": "63f0a103-52e6-49e3-9c42-ef79aefa1eca",
   "metadata": {},
   "outputs": [],
   "source": [
    "assert not sol.isNStraightHand([1,2,3,4,5], 4)"
   ]
  }
 ],
 "metadata": {
  "kernelspec": {
   "display_name": "Python 3 (ipykernel)",
   "language": "python",
   "name": "python3"
  },
  "language_info": {
   "codemirror_mode": {
    "name": "ipython",
    "version": 3
   },
   "file_extension": ".py",
   "mimetype": "text/x-python",
   "name": "python",
   "nbconvert_exporter": "python",
   "pygments_lexer": "ipython3",
   "version": "3.9.7"
  }
 },
 "nbformat": 4,
 "nbformat_minor": 5
}
