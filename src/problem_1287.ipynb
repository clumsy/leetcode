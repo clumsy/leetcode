{
 "cells": [
  {
   "cell_type": "markdown",
   "id": "45ec5cd5-d254-4a60-9eef-c7ee7ee1a394",
   "metadata": {},
   "source": [
    "[Problem 1287](https://leetcode.com/problems/element-appearing-more-than-25-in-sorted-array/description)"
   ]
  },
  {
   "cell_type": "code",
   "execution_count": 10,
   "id": "cf1306e2-8ab2-4f26-9935-eb9980c39ec6",
   "metadata": {},
   "outputs": [],
   "source": [
    "from typing import List\n",
    "from bisect import bisect_left, bisect_right"
   ]
  },
  {
   "cell_type": "code",
   "execution_count": 15,
   "id": "e7b7339e-df39-441e-a202-ec8b902b69aa",
   "metadata": {},
   "outputs": [],
   "source": [
    "class Solution:\n",
    "    def findSpecialInteger(self, arr: List[int]) -> int:\n",
    "        n = len(arr)\n",
    "        def count(i):\n",
    "            return bisect_right(arr, i) - bisect_left(arr, i)\n",
    "        res = (\n",
    "            arr[n // 4] if count(arr[n // 4]) > n / 4 else\n",
    "            arr[n // 2] if count(arr[n // 2]) > n / 4 else\n",
    "            arr[3 * n // 4]\n",
    "        )\n",
    "        return res"
   ]
  },
  {
   "cell_type": "code",
   "execution_count": 16,
   "id": "4082de46-f201-44ce-874a-ccefceb76baf",
   "metadata": {},
   "outputs": [],
   "source": [
    "sol = Solution()"
   ]
  },
  {
   "cell_type": "code",
   "execution_count": 17,
   "id": "1a310e99-d213-452d-940f-49047ac6de37",
   "metadata": {},
   "outputs": [],
   "source": [
    "assert sol.findSpecialInteger([1,2,2,6,6,6,6,7,10]) == 6"
   ]
  },
  {
   "cell_type": "code",
   "execution_count": 18,
   "id": "5057ff7c-9f2e-451e-ae49-4abc7393eb82",
   "metadata": {},
   "outputs": [],
   "source": [
    "assert sol.findSpecialInteger([1,1]) == 1"
   ]
  }
 ],
 "metadata": {
  "kernelspec": {
   "display_name": "Python 3 (ipykernel)",
   "language": "python",
   "name": "python3"
  },
  "language_info": {
   "codemirror_mode": {
    "name": "ipython",
    "version": 3
   },
   "file_extension": ".py",
   "mimetype": "text/x-python",
   "name": "python",
   "nbconvert_exporter": "python",
   "pygments_lexer": "ipython3",
   "version": "3.9.7"
  }
 },
 "nbformat": 4,
 "nbformat_minor": 5
}
