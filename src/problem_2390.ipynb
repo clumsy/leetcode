{
 "cells": [
  {
   "cell_type": "markdown",
   "id": "d2ca0a4e-7918-4f19-beb0-8dc2c9f3f8ef",
   "metadata": {},
   "source": [
    "[Problem 2390](https://leetcode.com/problems/removing-stars-from-a-string/description)"
   ]
  },
  {
   "cell_type": "code",
   "execution_count": 1,
   "id": "e9747ad5-15e8-47c5-87be-f76880f0c2ad",
   "metadata": {},
   "outputs": [],
   "source": [
    "class Solution:\n",
    "    def removeStars(self, s: str) -> str:\n",
    "        s, j = list(s), 0\n",
    "        for i in range(len(s)):\n",
    "            if s[i] == \"*\":\n",
    "                j -= 1\n",
    "            else:\n",
    "                s[j] = s[i]\n",
    "                j += 1\n",
    "        res = \"\".join(s[:j])\n",
    "        return res"
   ]
  },
  {
   "cell_type": "code",
   "execution_count": 2,
   "id": "2ac516a0-c500-4ee0-b893-f41ff4ce58d5",
   "metadata": {},
   "outputs": [],
   "source": [
    "sol = Solution()"
   ]
  },
  {
   "cell_type": "code",
   "execution_count": 3,
   "id": "87d3c9f4-df2f-40ad-b3e1-b0020a6fa4b7",
   "metadata": {},
   "outputs": [],
   "source": [
    "assert sol.removeStars(\"leet**cod*e\") == \"lecoe\""
   ]
  },
  {
   "cell_type": "code",
   "execution_count": 4,
   "id": "1b668d88-699b-45c1-a0c1-5bbdac2cda15",
   "metadata": {},
   "outputs": [],
   "source": [
    "assert sol.removeStars(\"erase*****\") == \"\""
   ]
  }
 ],
 "metadata": {
  "kernelspec": {
   "display_name": "Python 3 (ipykernel)",
   "language": "python",
   "name": "python3"
  },
  "language_info": {
   "codemirror_mode": {
    "name": "ipython",
    "version": 3
   },
   "file_extension": ".py",
   "mimetype": "text/x-python",
   "name": "python",
   "nbconvert_exporter": "python",
   "pygments_lexer": "ipython3",
   "version": "3.9.7"
  }
 },
 "nbformat": 4,
 "nbformat_minor": 5
}
