{
 "cells": [
  {
   "cell_type": "markdown",
   "id": "ecf54fcc-d1bd-43a9-bef3-3df8aff92ce9",
   "metadata": {},
   "source": [
    "[Problem 2275](https://leetcode.com/problems/largest-combination-with-bitwise-and-greater-than-zero/description)"
   ]
  },
  {
   "cell_type": "code",
   "execution_count": 1,
   "id": "ba965aee-baa1-49a8-8c30-1d5a2dee6f46",
   "metadata": {},
   "outputs": [],
   "source": [
    "from typing import List"
   ]
  },
  {
   "cell_type": "code",
   "execution_count": 2,
   "id": "4ad0dce0-d602-4928-b490-1cb3fe714b73",
   "metadata": {},
   "outputs": [],
   "source": [
    "class Solution:\n",
    "    def largestCombination(self, candidates: List[int]) -> int:\n",
    "        res = max(sum(i & 1 << b != 0 for i in candidates) for b in range(30))\n",
    "        return res"
   ]
  },
  {
   "cell_type": "code",
   "execution_count": 3,
   "id": "199ccceb-10ae-4b7b-90bd-6647b295ad63",
   "metadata": {},
   "outputs": [],
   "source": [
    "sol = Solution()"
   ]
  },
  {
   "cell_type": "code",
   "execution_count": 4,
   "id": "e3fc0179-e520-4682-8e9a-d573813bcf35",
   "metadata": {},
   "outputs": [],
   "source": [
    "assert sol.largestCombination([16,17,71,62,12,24,14]) == 4"
   ]
  },
  {
   "cell_type": "code",
   "execution_count": 5,
   "id": "9a6c6839-2d67-4f55-ad78-2b541b267611",
   "metadata": {},
   "outputs": [],
   "source": [
    "assert sol.largestCombination([8,8]) == 2"
   ]
  }
 ],
 "metadata": {
  "kernelspec": {
   "display_name": "Python 3 (ipykernel)",
   "language": "python",
   "name": "python3"
  },
  "language_info": {
   "codemirror_mode": {
    "name": "ipython",
    "version": 3
   },
   "file_extension": ".py",
   "mimetype": "text/x-python",
   "name": "python",
   "nbconvert_exporter": "python",
   "pygments_lexer": "ipython3",
   "version": "3.9.7"
  }
 },
 "nbformat": 4,
 "nbformat_minor": 5
}
