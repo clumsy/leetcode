{
 "cells": [
  {
   "cell_type": "markdown",
   "id": "2a9d9242-596e-4599-bee2-d8f293520091",
   "metadata": {},
   "source": [
    "[Problem 2180](https://leetcode.com/problems/count-integers-with-even-digit-sum/description)"
   ]
  },
  {
   "cell_type": "code",
   "execution_count": 2,
   "id": "d11284cd-09ee-431e-b57a-8e2d5ef30fb4",
   "metadata": {},
   "outputs": [],
   "source": [
    "class Solution:\n",
    "    def countEven(self, num: int) -> int:\n",
    "        res = num // 2 if sum(int(d) for d in str(num)) & 1 == 0 else (num - 1) // 2\n",
    "        return res"
   ]
  },
  {
   "cell_type": "code",
   "execution_count": 3,
   "id": "73197eb2-b7a0-49ca-8e05-d1a49c768e55",
   "metadata": {},
   "outputs": [],
   "source": [
    "sol = Solution()"
   ]
  },
  {
   "cell_type": "code",
   "execution_count": 4,
   "id": "c83a09a0-1c7c-44e2-8a0b-589d4285c56f",
   "metadata": {},
   "outputs": [],
   "source": [
    "assert sol.countEven(4) == 2"
   ]
  },
  {
   "cell_type": "code",
   "execution_count": 5,
   "id": "2ef6c5e9-bb90-4998-bc64-2a2cea42b850",
   "metadata": {},
   "outputs": [],
   "source": [
    "assert sol.countEven(30) == 14"
   ]
  }
 ],
 "metadata": {
  "kernelspec": {
   "display_name": "Python 3 (ipykernel)",
   "language": "python",
   "name": "python3"
  },
  "language_info": {
   "codemirror_mode": {
    "name": "ipython",
    "version": 3
   },
   "file_extension": ".py",
   "mimetype": "text/x-python",
   "name": "python",
   "nbconvert_exporter": "python",
   "pygments_lexer": "ipython3",
   "version": "3.9.7"
  }
 },
 "nbformat": 4,
 "nbformat_minor": 5
}
