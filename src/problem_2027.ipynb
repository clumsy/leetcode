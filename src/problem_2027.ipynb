{
 "cells": [
  {
   "cell_type": "markdown",
   "id": "ce60962e-0d90-4799-a384-464213a7fc2c",
   "metadata": {},
   "source": [
    "[Problem 2027](https://leetcode.com/problems/minimum-moves-to-convert-string/description)"
   ]
  },
  {
   "cell_type": "code",
   "execution_count": 1,
   "id": "e02b2102-902b-44ec-9cc6-fbf3c724b46c",
   "metadata": {},
   "outputs": [],
   "source": [
    "class Solution:\n",
    "    def minimumMoves(self, s: str) -> int:\n",
    "        res = i = 0\n",
    "        while i < len(s):\n",
    "            if s[i] == \"X\":\n",
    "                res += 1\n",
    "                i += 3\n",
    "            else:\n",
    "                i += 1\n",
    "        return res"
   ]
  },
  {
   "cell_type": "code",
   "execution_count": 2,
   "id": "9f24de63-afaf-4b4f-a64e-85cf4c2103ed",
   "metadata": {},
   "outputs": [],
   "source": [
    "sol = Solution()"
   ]
  },
  {
   "cell_type": "code",
   "execution_count": 3,
   "id": "4f096c27-dffa-44a2-b5f8-dc0087062121",
   "metadata": {},
   "outputs": [],
   "source": [
    "assert sol.minimumMoves(\"XXX\") == 1"
   ]
  },
  {
   "cell_type": "code",
   "execution_count": 4,
   "id": "da12a4cc-799c-4d0b-9395-cfe8ebb499d3",
   "metadata": {},
   "outputs": [],
   "source": [
    "assert sol.minimumMoves(\"XXOX\") == 2"
   ]
  },
  {
   "cell_type": "code",
   "execution_count": 5,
   "id": "b5edad36-1af2-44c9-93e8-b68673962dd7",
   "metadata": {},
   "outputs": [],
   "source": [
    "assert sol.minimumMoves(\"OOOO\") == 0"
   ]
  }
 ],
 "metadata": {
  "kernelspec": {
   "display_name": "Python 3 (ipykernel)",
   "language": "python",
   "name": "python3"
  },
  "language_info": {
   "codemirror_mode": {
    "name": "ipython",
    "version": 3
   },
   "file_extension": ".py",
   "mimetype": "text/x-python",
   "name": "python",
   "nbconvert_exporter": "python",
   "pygments_lexer": "ipython3",
   "version": "3.9.7"
  }
 },
 "nbformat": 4,
 "nbformat_minor": 5
}
