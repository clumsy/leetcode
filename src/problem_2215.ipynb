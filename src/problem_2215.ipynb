{
 "cells": [
  {
   "cell_type": "markdown",
   "id": "4c37faa1-a8c5-4312-aaf4-fd14b3dfdcf6",
   "metadata": {},
   "source": [
    "[Problem 2215](https://leetcode.com/problems/find-the-difference-of-two-arrays/description)"
   ]
  },
  {
   "cell_type": "code",
   "execution_count": 1,
   "id": "2fd45a05-8dc4-42d5-95e6-bd2db63d0c36",
   "metadata": {},
   "outputs": [],
   "source": [
    "from typing import List"
   ]
  },
  {
   "cell_type": "code",
   "execution_count": 2,
   "id": "36cb1bdd-9f97-4a60-a55c-5917ef1adcb9",
   "metadata": {},
   "outputs": [],
   "source": [
    "class Solution:\n",
    "    def findDifference(self, nums1: List[int], nums2: List[int]) -> List[List[int]]:\n",
    "        s1, s2 = set(nums1), set(nums2)\n",
    "        return [s1 - s2, s2 - s1]"
   ]
  },
  {
   "cell_type": "code",
   "execution_count": 3,
   "id": "df2137e2-5f69-48c5-9778-ebb5556fede2",
   "metadata": {},
   "outputs": [],
   "source": [
    "sol = Solution()"
   ]
  },
  {
   "cell_type": "code",
   "execution_count": 10,
   "id": "19de0bc1-c3aa-4cfe-9cbe-9105c7f86b21",
   "metadata": {},
   "outputs": [],
   "source": [
    "assert sol.findDifference([1,2,3], [2,4,6]) == [{1,3}, {4,6}]"
   ]
  },
  {
   "cell_type": "code",
   "execution_count": 15,
   "id": "9288c6e3-23e7-499d-b731-4ee53b05e7a3",
   "metadata": {},
   "outputs": [],
   "source": [
    "assert sol.findDifference([1,2,3,3], [1,1,2,2]) == [{3}, set()]"
   ]
  }
 ],
 "metadata": {
  "kernelspec": {
   "display_name": "Python 3 (ipykernel)",
   "language": "python",
   "name": "python3"
  },
  "language_info": {
   "codemirror_mode": {
    "name": "ipython",
    "version": 3
   },
   "file_extension": ".py",
   "mimetype": "text/x-python",
   "name": "python",
   "nbconvert_exporter": "python",
   "pygments_lexer": "ipython3",
   "version": "3.9.7"
  }
 },
 "nbformat": 4,
 "nbformat_minor": 5
}
