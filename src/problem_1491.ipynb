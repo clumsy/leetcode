{
 "cells": [
  {
   "cell_type": "markdown",
   "id": "cae9d8da-641f-48d6-8846-b692c2160afa",
   "metadata": {},
   "source": [
    "[Problem 1491](https://leetcode.com/problems/average-salary-excluding-the-minimum-and-maximum-salary/description)"
   ]
  },
  {
   "cell_type": "code",
   "execution_count": 5,
   "id": "fd95da2d-9380-44e6-a2e8-b5b230828cad",
   "metadata": {},
   "outputs": [],
   "source": [
    "from typing import List\n",
    "from math import inf"
   ]
  },
  {
   "cell_type": "code",
   "execution_count": 6,
   "id": "4667570a-3e7f-4ca1-b4cb-e1f916548fa0",
   "metadata": {},
   "outputs": [],
   "source": [
    "class Solution:\n",
    "    def average(self, salary: List[int]) -> float:\n",
    "        s, mi, ma = 0, inf, 0\n",
    "        for i in salary:\n",
    "            s += i\n",
    "            mi = min(mi, i)\n",
    "            ma = max(ma, i)\n",
    "        res = (s - mi - ma) / (len(salary) - 2)\n",
    "        return res"
   ]
  },
  {
   "cell_type": "code",
   "execution_count": 7,
   "id": "0e20e383-1d5e-4513-84da-8d0a100cb0d6",
   "metadata": {},
   "outputs": [],
   "source": [
    "sol = Solution()"
   ]
  },
  {
   "cell_type": "code",
   "execution_count": 8,
   "id": "50d25dbc-76d7-48ce-b6ff-c9ae1034699f",
   "metadata": {},
   "outputs": [],
   "source": [
    "assert sol.average([4000,3000,1000,2000]) == 2500"
   ]
  },
  {
   "cell_type": "code",
   "execution_count": 9,
   "id": "1a9e0658-2a7b-4790-80e5-a99186defa1c",
   "metadata": {},
   "outputs": [],
   "source": [
    "assert sol.average([1000,2000,3000]) == 2000"
   ]
  }
 ],
 "metadata": {
  "kernelspec": {
   "display_name": "Python 3 (ipykernel)",
   "language": "python",
   "name": "python3"
  },
  "language_info": {
   "codemirror_mode": {
    "name": "ipython",
    "version": 3
   },
   "file_extension": ".py",
   "mimetype": "text/x-python",
   "name": "python",
   "nbconvert_exporter": "python",
   "pygments_lexer": "ipython3",
   "version": "3.9.7"
  }
 },
 "nbformat": 4,
 "nbformat_minor": 5
}
