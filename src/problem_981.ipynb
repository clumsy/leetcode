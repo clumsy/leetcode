{
 "cells": [
  {
   "cell_type": "markdown",
   "id": "6147c74d-fc06-40cb-b333-4062967fc799",
   "metadata": {},
   "source": [
    "[Problem 981](https://leetcode.com/problems/time-based-key-value-store/)"
   ]
  },
  {
   "cell_type": "code",
   "execution_count": 3,
   "id": "8c0211d0-19ea-4e59-9980-291138bd9e19",
   "metadata": {},
   "outputs": [],
   "source": [
    "from collections import defaultdict"
   ]
  },
  {
   "cell_type": "code",
   "execution_count": 4,
   "id": "645b1554-03b9-4731-ba56-6b1d16939088",
   "metadata": {},
   "outputs": [],
   "source": [
    "class TimeMap:\n",
    "\n",
    "    def __init__(self):\n",
    "        self.map = defaultdict(list)\n",
    "\n",
    "    def set(self, key: str, value: str, timestamp: int) -> None:\n",
    "        self.map[key].append((timestamp, value))\n",
    "\n",
    "    def get(self, key: str, timestamp: int) -> str:\n",
    "        cur = self.map[key]\n",
    "        lo, hi = 0, len(cur) - 1\n",
    "        while lo < hi:\n",
    "            mi = hi - (hi - lo) // 2\n",
    "            if cur[mi][0] > timestamp:\n",
    "                hi = mi - 1\n",
    "            else:\n",
    "                lo = mi\n",
    "        return cur[lo][1] if cur and cur[lo][0] <= timestamp else \"\""
   ]
  },
  {
   "cell_type": "code",
   "execution_count": 6,
   "id": "64a4312d-507c-4cb9-9e8e-8f45883c68cc",
   "metadata": {},
   "outputs": [],
   "source": [
    "sol = TimeMap()\n",
    "assert sol.set(\"foo\", \"bar\", 1) == None\n",
    "assert sol.get(\"foo\", 1) == \"bar\"\n",
    "assert sol.get(\"foo\", 3) == \"bar\"\n",
    "assert sol.set(\"foo\", \"bar2\", 4) == None\n",
    "assert sol.get(\"foo\", 4) == \"bar2\"\n",
    "assert sol.get(\"foo\", 4) == \"bar2\""
   ]
  }
 ],
 "metadata": {
  "kernelspec": {
   "display_name": "Python 3 (ipykernel)",
   "language": "python",
   "name": "python3"
  },
  "language_info": {
   "codemirror_mode": {
    "name": "ipython",
    "version": 3
   },
   "file_extension": ".py",
   "mimetype": "text/x-python",
   "name": "python",
   "nbconvert_exporter": "python",
   "pygments_lexer": "ipython3",
   "version": "3.9.7"
  }
 },
 "nbformat": 4,
 "nbformat_minor": 5
}
