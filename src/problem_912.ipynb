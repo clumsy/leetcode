{
 "cells": [
  {
   "cell_type": "markdown",
   "id": "dd8257b5-fb86-482c-9b06-e70fa488a15e",
   "metadata": {},
   "source": [
    "[Problem 912](https://leetcode.com/problems/sort-an-array/description)"
   ]
  },
  {
   "cell_type": "code",
   "execution_count": 2,
   "id": "c51bd936-6aff-483a-9fee-3afb949d1d1a",
   "metadata": {},
   "outputs": [],
   "source": [
    "from typing import List"
   ]
  },
  {
   "cell_type": "code",
   "execution_count": 3,
   "id": "e43c0fdf-a208-4824-a772-1154cfb6506d",
   "metadata": {},
   "outputs": [],
   "source": [
    "class Solution:\n",
    "    def sortArray(self, nums: List[int]) -> List[int]:\n",
    "        def partition(arr, lo, hi):\n",
    "            p = randint(lo, hi)\n",
    "            arr[p], arr[hi], p = arr[hi], arr[p], hi\n",
    "            while lo < hi:\n",
    "                while lo < hi and arr[lo] < arr[p]:\n",
    "                    lo += 1\n",
    "                while lo < hi and arr[hi] >= arr[p]:\n",
    "                    hi -= 1\n",
    "                if lo < hi:\n",
    "                    arr[lo], arr[hi] = arr[hi], arr[lo]\n",
    "            arr[p], arr[hi] = arr[hi], arr[p]\n",
    "            return hi\n",
    "\n",
    "        def insertionsort(arr, lo, hi):\n",
    "            for i in range(lo, hi):\n",
    "                for j in range(i + 1, hi + 1):\n",
    "                    if arr[i] > arr[j]:\n",
    "                        arr[i], arr[j] = arr[j], arr[i]\n",
    "            return arr\n",
    "\n",
    "        def quicksort(arr, lo, hi):\n",
    "            if lo >= hi:\n",
    "                return\n",
    "            if hi - lo < 7:\n",
    "                return insertionsort(arr, lo, hi)\n",
    "            p = partition(arr, lo, hi)\n",
    "            quicksort(arr, lo, p - 1)\n",
    "            quicksort(arr, p + 1, hi)\n",
    "\n",
    "        quicksort(nums, 0, len(nums) - 1)\n",
    "        return nums"
   ]
  },
  {
   "cell_type": "code",
   "execution_count": 4,
   "id": "3ae924f4-9373-4abb-a8a9-bd95ebbb3777",
   "metadata": {},
   "outputs": [],
   "source": [
    "class Solution:\n",
    "    def sortArray(self, nums: List[int]) -> List[int]:\n",
    "        def sink(arr, i, n):\n",
    "            while 2 * i + 1 < n:\n",
    "                c = 2 * i + 1\n",
    "                if c + 1 < n and arr[c + 1] > arr[c]:\n",
    "                    c += 1\n",
    "                if arr[i] >= arr[c]:\n",
    "                    break\n",
    "                arr[c], arr[i] = arr[i], arr[c]\n",
    "                i = c\n",
    "\n",
    "        def heapify(arr):\n",
    "            n = len(arr)\n",
    "            for i in reversed(range(n // 2)):\n",
    "                sink(arr, i, n)\n",
    "\n",
    "        def heapsort(arr):\n",
    "            heapify(arr)\n",
    "            n = len(arr)\n",
    "            for i in reversed(range(1, n)):\n",
    "                arr[i], arr[0] = arr[0], arr[i]\n",
    "                sink(arr, 0, i)\n",
    "\n",
    "        heapsort(nums)\n",
    "        return nums"
   ]
  },
  {
   "cell_type": "code",
   "execution_count": 5,
   "id": "530242fc-a18c-4ff8-b83c-ab6ac8a3476a",
   "metadata": {},
   "outputs": [],
   "source": [
    "sol = Solution()"
   ]
  },
  {
   "cell_type": "code",
   "execution_count": 6,
   "id": "b0caaae0-db4d-407e-a442-acc2ecd20219",
   "metadata": {},
   "outputs": [],
   "source": [
    "assert sol.sortArray([5,2,3,1]) == [1,2,3,5]"
   ]
  },
  {
   "cell_type": "code",
   "execution_count": 7,
   "id": "19b47e74-1fc6-4cca-9a14-d20969310ea3",
   "metadata": {},
   "outputs": [],
   "source": [
    "assert sol.sortArray([5,1,1,2,0,0]) == [0,0,1,1,2,5]"
   ]
  }
 ],
 "metadata": {
  "kernelspec": {
   "display_name": "Python 3 (ipykernel)",
   "language": "python",
   "name": "python3"
  },
  "language_info": {
   "codemirror_mode": {
    "name": "ipython",
    "version": 3
   },
   "file_extension": ".py",
   "mimetype": "text/x-python",
   "name": "python",
   "nbconvert_exporter": "python",
   "pygments_lexer": "ipython3",
   "version": "3.9.7"
  }
 },
 "nbformat": 4,
 "nbformat_minor": 5
}
