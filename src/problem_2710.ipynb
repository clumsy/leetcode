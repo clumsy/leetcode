{
 "cells": [
  {
   "cell_type": "markdown",
   "id": "c9bd81e1-d639-4da8-8e3e-0be91173ad5e",
   "metadata": {},
   "source": [
    "[Problem 2710](https://leetcode.com/problems/remove-trailing-zeros-from-a-string/description)"
   ]
  },
  {
   "cell_type": "code",
   "execution_count": 1,
   "id": "62976358-5f68-462f-924c-974b2f8298d2",
   "metadata": {},
   "outputs": [],
   "source": [
    "class Solution:\n",
    "    def removeTrailingZeros(self, num: str) -> str:\n",
    "        res = num.rstrip(\"0\")\n",
    "        return res"
   ]
  },
  {
   "cell_type": "code",
   "execution_count": 2,
   "id": "26efaa2f-15f8-4cba-beac-33fd9fe4d6d2",
   "metadata": {},
   "outputs": [],
   "source": [
    "sol = Solution()"
   ]
  },
  {
   "cell_type": "code",
   "execution_count": 3,
   "id": "3db35739-1de2-469f-a1ed-2ac15f08ebc0",
   "metadata": {},
   "outputs": [],
   "source": [
    "assert sol.removeTrailingZeros(\"51230100\") == \"512301\""
   ]
  },
  {
   "cell_type": "code",
   "execution_count": 4,
   "id": "f13c81e4-ae91-4c10-be34-647bead5bf2d",
   "metadata": {},
   "outputs": [],
   "source": [
    "assert sol.removeTrailingZeros(\"123\") == \"123\""
   ]
  }
 ],
 "metadata": {
  "kernelspec": {
   "display_name": "Python 3 (ipykernel)",
   "language": "python",
   "name": "python3"
  },
  "language_info": {
   "codemirror_mode": {
    "name": "ipython",
    "version": 3
   },
   "file_extension": ".py",
   "mimetype": "text/x-python",
   "name": "python",
   "nbconvert_exporter": "python",
   "pygments_lexer": "ipython3",
   "version": "3.9.7"
  }
 },
 "nbformat": 4,
 "nbformat_minor": 5
}
