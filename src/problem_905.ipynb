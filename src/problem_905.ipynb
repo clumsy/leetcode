{
 "cells": [
  {
   "cell_type": "markdown",
   "id": "acb04e69-d230-4f71-bfdb-7dde3407debb",
   "metadata": {},
   "source": [
    "[Problem 905](https://leetcode.com/problems/sort-array-by-parity/description)"
   ]
  },
  {
   "cell_type": "code",
   "execution_count": 1,
   "id": "430765c5-d150-4b06-92c2-6b6434ff6178",
   "metadata": {},
   "outputs": [],
   "source": [
    "from typing import List"
   ]
  },
  {
   "cell_type": "code",
   "execution_count": 2,
   "id": "e7806445-7e0a-4866-ba71-911c11f0abdd",
   "metadata": {},
   "outputs": [],
   "source": [
    "class Solution:\n",
    "    def sortArrayByParity(self, nums: List[int]) -> List[int]:\n",
    "        lo, hi = 0, len(nums) - 1\n",
    "        while lo < hi:\n",
    "            while lo < hi and nums[lo] & 1 == 0:\n",
    "                lo += 1\n",
    "            while lo < hi and nums[hi] & 1 == 1:\n",
    "                hi -= 1\n",
    "            nums[lo], nums[hi] = nums[hi], nums[lo]\n",
    "        res = nums\n",
    "        return nums"
   ]
  },
  {
   "cell_type": "code",
   "execution_count": 3,
   "id": "e15387a3-90a6-4231-989f-eaea1ca7f5d8",
   "metadata": {},
   "outputs": [],
   "source": [
    "sol = Solution()"
   ]
  },
  {
   "cell_type": "code",
   "execution_count": 4,
   "id": "98b5f8bc-8d66-4467-96af-944dca67a7f5",
   "metadata": {},
   "outputs": [],
   "source": [
    "assert sol.sortArrayByParity([3,1,2,4]) == [4,2,1,3]"
   ]
  },
  {
   "cell_type": "code",
   "execution_count": 5,
   "id": "1c7dc408-8640-4b42-b2b0-e6bee87fae05",
   "metadata": {},
   "outputs": [],
   "source": [
    "assert sol.sortArrayByParity([0]) == [0]"
   ]
  }
 ],
 "metadata": {
  "kernelspec": {
   "display_name": "Python 3 (ipykernel)",
   "language": "python",
   "name": "python3"
  },
  "language_info": {
   "codemirror_mode": {
    "name": "ipython",
    "version": 3
   },
   "file_extension": ".py",
   "mimetype": "text/x-python",
   "name": "python",
   "nbconvert_exporter": "python",
   "pygments_lexer": "ipython3",
   "version": "3.9.7"
  }
 },
 "nbformat": 4,
 "nbformat_minor": 5
}
