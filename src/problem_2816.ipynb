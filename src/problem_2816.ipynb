{
 "cells": [
  {
   "cell_type": "markdown",
   "id": "24a1c331-e729-4d43-8a89-3638049e7e1c",
   "metadata": {},
   "source": [
    "[Problem 2816]()"
   ]
  },
  {
   "cell_type": "code",
   "execution_count": 1,
   "id": "a119db46-336e-4168-ab82-ebbe59315b60",
   "metadata": {},
   "outputs": [],
   "source": [
    "# Definition for singly-linked list.\n",
    "class ListNode:\n",
    "    def __init__(self, val=0, next=None):\n",
    "        self.val = val\n",
    "        self.next = next\n",
    "\n",
    "    def __eq__(self, other):\n",
    "        return other and self.val == other.val and self.next == other.next"
   ]
  },
  {
   "cell_type": "code",
   "execution_count": 2,
   "id": "251f6462-de26-4d7f-889c-a6c3c041a025",
   "metadata": {},
   "outputs": [],
   "source": [
    "from typing import Optional"
   ]
  },
  {
   "cell_type": "code",
   "execution_count": 3,
   "id": "1230c825-34b2-4a9f-a415-dfe40a8358f0",
   "metadata": {},
   "outputs": [],
   "source": [
    "class Solution:\n",
    "    def doubleIt(self, head: Optional[ListNode]) -> Optional[ListNode]:\n",
    "        cur = res = ListNode(0, next=head)\n",
    "        prv = None\n",
    "        while cur:\n",
    "            nxt, cur.next = cur.next, prv\n",
    "            prv, cur = cur, nxt\n",
    "        carry, cur, prv = 0, prv, None\n",
    "        while cur:\n",
    "            carry, cur.val = divmod(cur.val * 2 + carry, 10)\n",
    "            nxt, cur.next = cur.next, prv\n",
    "            prv, cur = cur, nxt\n",
    "        res = res if res.val else res.next\n",
    "        return res"
   ]
  },
  {
   "cell_type": "code",
   "execution_count": 4,
   "id": "323432b3-2e06-4f84-bee0-a0726f38541c",
   "metadata": {},
   "outputs": [],
   "source": [
    "class Solution:\n",
    "    def doubleIt(self, head: Optional[ListNode]) -> Optional[ListNode]:\n",
    "        cur = res = ListNode(0, next=head)\n",
    "        while cur:\n",
    "            cur.val = (2 * cur.val + (cur.next.val > 4 if cur.next else 0)) % 10\n",
    "            cur = cur.next\n",
    "        res = res if res.val else res.next\n",
    "        return res"
   ]
  },
  {
   "cell_type": "code",
   "execution_count": 5,
   "id": "700b1c73-448b-4b06-a330-d2ba04e5ce4e",
   "metadata": {},
   "outputs": [],
   "source": [
    "sol = Solution()"
   ]
  },
  {
   "cell_type": "code",
   "execution_count": 6,
   "id": "66fba1fd-5dff-46d3-9a75-d878b3cad36a",
   "metadata": {},
   "outputs": [],
   "source": [
    "def as_list(vals):\n",
    "    head = cur = ListNode()\n",
    "    for i in vals:\n",
    "        cur.next = ListNode(i)\n",
    "        cur = cur.next\n",
    "    return head.next"
   ]
  },
  {
   "cell_type": "code",
   "execution_count": 7,
   "id": "0ac88709-9ee6-4b08-91ec-8bc8a3d278f0",
   "metadata": {},
   "outputs": [],
   "source": [
    "assert sol.doubleIt(as_list([1,8,9])) == as_list([3,7,8])"
   ]
  },
  {
   "cell_type": "code",
   "execution_count": 8,
   "id": "b52249e1-e304-473a-9edd-f87e3cc906e9",
   "metadata": {},
   "outputs": [],
   "source": [
    "assert sol.doubleIt(as_list([9,9,9])) == as_list([1,9,9,8])"
   ]
  }
 ],
 "metadata": {
  "kernelspec": {
   "display_name": "Python 3 (ipykernel)",
   "language": "python",
   "name": "python3"
  },
  "language_info": {
   "codemirror_mode": {
    "name": "ipython",
    "version": 3
   },
   "file_extension": ".py",
   "mimetype": "text/x-python",
   "name": "python",
   "nbconvert_exporter": "python",
   "pygments_lexer": "ipython3",
   "version": "3.9.7"
  }
 },
 "nbformat": 4,
 "nbformat_minor": 5
}
