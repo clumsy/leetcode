{
 "cells": [
  {
   "cell_type": "markdown",
   "id": "cba83c2a-d7e9-484a-b7e3-c3a6b2edd751",
   "metadata": {},
   "source": [
    "[Problem 1463](https://leetcode.com/problems/cherry-pickup-ii/description)"
   ]
  },
  {
   "cell_type": "code",
   "execution_count": 1,
   "id": "9ec4dbc7-1c19-45a1-9ca5-07564313ebdb",
   "metadata": {},
   "outputs": [],
   "source": [
    "from typing import List"
   ]
  },
  {
   "cell_type": "code",
   "execution_count": 2,
   "id": "72cfb9b4-08b4-4050-992d-51aed03c109d",
   "metadata": {},
   "outputs": [],
   "source": [
    "class Solution:\n",
    "    def cherryPickup(self, grid: List[List[int]]) -> int:\n",
    "        rows, cols = len(grid), len(grid[0])\n",
    "        dp = [[[-1 for _ in range(cols)] for _ in range(cols)] for _ in range(rows)]\n",
    "        dp[0][0][cols - 1] = grid[0][0] + grid[0][cols - 1]\n",
    "        for r in range(1, rows):\n",
    "            for f in range(cols):\n",
    "                for s in range(cols):\n",
    "                    best = max((dp[r - 1][fp][sp] for fp in range(f - 1, f + 2) for sp in range(s - 1, s + 2) if 0 <= fp < cols and 0 <= sp < cols and dp[r - 1][fp][sp] >= 0), default=-1)\n",
    "                    if best >= 0:\n",
    "                        gain = grid[r][f] + grid[r][s] * int(f != s)\n",
    "                        dp[r][f][s] = max(dp[r][f][s], best + gain)\n",
    "        res = max(dp[rows - 1][f][s] for f in range(cols) for s in range(cols))\n",
    "        return res"
   ]
  },
  {
   "cell_type": "code",
   "execution_count": 3,
   "id": "13224bd8-351d-4885-a5e9-d2ede55a89a4",
   "metadata": {},
   "outputs": [],
   "source": [
    "sol = Solution()"
   ]
  },
  {
   "cell_type": "code",
   "execution_count": 4,
   "id": "9c7d7baa-bd45-4772-a3fc-b690185e1167",
   "metadata": {},
   "outputs": [],
   "source": [
    "assert sol.cherryPickup([[3,1,1],[2,5,1],[1,5,5],[2,1,1]]) == 24"
   ]
  },
  {
   "cell_type": "code",
   "execution_count": 5,
   "id": "19671fda-ce93-4cc8-a421-4d776be9c07d",
   "metadata": {},
   "outputs": [],
   "source": [
    "assert sol.cherryPickup([[1,0,0,0,0,0,1],[2,0,0,0,0,3,0],[2,0,9,0,0,0,0],[0,3,0,5,4,0,0],[1,0,2,3,0,0,6]]) == 28"
   ]
  }
 ],
 "metadata": {
  "kernelspec": {
   "display_name": "Python 3 (ipykernel)",
   "language": "python",
   "name": "python3"
  },
  "language_info": {
   "codemirror_mode": {
    "name": "ipython",
    "version": 3
   },
   "file_extension": ".py",
   "mimetype": "text/x-python",
   "name": "python",
   "nbconvert_exporter": "python",
   "pygments_lexer": "ipython3",
   "version": "3.9.7"
  }
 },
 "nbformat": 4,
 "nbformat_minor": 5
}
