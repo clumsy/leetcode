{
 "cells": [
  {
   "cell_type": "markdown",
   "id": "2d8424f1-b630-435a-8c65-63b83e711c14",
   "metadata": {},
   "source": [
    "[Problem 3000](https://leetcode.com/problems/maximum-area-of-longest-diagonal-rectangle/description)"
   ]
  },
  {
   "cell_type": "code",
   "execution_count": 1,
   "id": "13575917-d5b4-4640-9b64-8b7b90d832d7",
   "metadata": {},
   "outputs": [],
   "source": [
    "from typing import List"
   ]
  },
  {
   "cell_type": "code",
   "execution_count": 2,
   "id": "1fcf56b6-8d1c-4012-8963-9e4f9f7a7591",
   "metadata": {},
   "outputs": [],
   "source": [
    "class Solution:\n",
    "    def areaOfMaxDiagonal(self, dimensions: List[List[int]]) -> int:\n",
    "        dimensions.sort(key=lambda d: (d[0] ** 2 + d[1] ** 2, d[0] * d[1]))\n",
    "        res = dimensions[-1][0] * dimensions[-1][1]\n",
    "        return res"
   ]
  },
  {
   "cell_type": "code",
   "execution_count": 3,
   "id": "46d5b1d9-8833-4974-962f-a0f6ad39a0b0",
   "metadata": {},
   "outputs": [],
   "source": [
    "class Solution:\n",
    "    def areaOfMaxDiagonal(self, dimensions: List[List[int]]) -> int:\n",
    "        res = ma = 0\n",
    "        for d1, d2 in dimensions:\n",
    "            cur = d1 ** 2 + d2 ** 2\n",
    "            if cur >= ma:\n",
    "                res = d1 * d2 if cur > ma else max(res, d1 * d2)\n",
    "                ma = cur\n",
    "        return res"
   ]
  },
  {
   "cell_type": "code",
   "execution_count": 4,
   "id": "97355c70-a1bf-4bf6-8cb4-f3395dca3e3a",
   "metadata": {},
   "outputs": [],
   "source": [
    "sol = Solution()"
   ]
  },
  {
   "cell_type": "code",
   "execution_count": 5,
   "id": "cb7253d0-4a46-4946-8464-b1e51fee3f0d",
   "metadata": {},
   "outputs": [],
   "source": [
    "assert sol.areaOfMaxDiagonal([[9,3],[8,6]]) == 48"
   ]
  },
  {
   "cell_type": "code",
   "execution_count": 6,
   "id": "1b18702f-2825-4439-861e-48c6134fefe5",
   "metadata": {},
   "outputs": [],
   "source": [
    "assert sol.areaOfMaxDiagonal([[3,4],[4,3]]) == 12"
   ]
  }
 ],
 "metadata": {
  "kernelspec": {
   "display_name": "Python 3 (ipykernel)",
   "language": "python",
   "name": "python3"
  },
  "language_info": {
   "codemirror_mode": {
    "name": "ipython",
    "version": 3
   },
   "file_extension": ".py",
   "mimetype": "text/x-python",
   "name": "python",
   "nbconvert_exporter": "python",
   "pygments_lexer": "ipython3",
   "version": "3.9.7"
  }
 },
 "nbformat": 4,
 "nbformat_minor": 5
}
