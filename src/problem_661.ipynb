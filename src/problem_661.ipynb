{
 "cells": [
  {
   "cell_type": "markdown",
   "id": "7855b403-f0b0-4521-aecd-958d7b05461e",
   "metadata": {},
   "source": [
    "[Problem 661](https://leetcode.com/problems/image-smoother/description)"
   ]
  },
  {
   "cell_type": "code",
   "execution_count": 1,
   "id": "d161182f-24f2-4119-b6cc-18101fc036d5",
   "metadata": {},
   "outputs": [],
   "source": [
    "from typing import List"
   ]
  },
  {
   "cell_type": "code",
   "execution_count": 2,
   "id": "16fd81fd-8bee-4acd-adca-1fb2c92c549e",
   "metadata": {},
   "outputs": [],
   "source": [
    "class Solution:\n",
    "    def imageSmoother(self, img: List[List[int]]) -> List[List[int]]:\n",
    "        rows, cols = len(img), len(img[0])\n",
    "        for r in range(rows):\n",
    "            for c in range(cols):\n",
    "                img[r][c] += img[r - 1][c] if r > 0 else 0\n",
    "                img[r][c] += img[r][c - 1] if c > 0 else 0\n",
    "                img[r][c] -= img[r - 1][c - 1] if r > 0 and c > 0 else 0\n",
    "        res = [[0] * cols for _ in range(rows)]\n",
    "        for r in range(rows):\n",
    "            for c in range(cols):\n",
    "                r_, c_ = min(r + 1, rows - 1), min(c + 1, cols - 1)\n",
    "                res[r][c] = img[r_][c_]\n",
    "                dr = 3 - (r_ == rows - 1)\n",
    "                dc = 3 - (c_ == cols - 1)\n",
    "                res[r][c] -= img[r - 2][c_] if r > 1 else 0\n",
    "                res[r][c] -= img[r_][c - 2] if c > 1 else 0\n",
    "                res[r][c] += img[r - 2][c - 2] if r > 1 and c > 1 else 0\n",
    "                cnt = (r_ - max(-1, r - 2)) * (c_ - max(-1, c - 2))\n",
    "                res[r][c] //= cnt\n",
    "        return res"
   ]
  },
  {
   "cell_type": "code",
   "execution_count": 3,
   "id": "3d61c2c0-70df-461a-82c7-c46741f0ee4a",
   "metadata": {},
   "outputs": [],
   "source": [
    "sol = Solution()"
   ]
  },
  {
   "cell_type": "code",
   "execution_count": 4,
   "id": "8121d613-c581-4659-983a-6dbcf4a4bbb7",
   "metadata": {},
   "outputs": [],
   "source": [
    "assert sol.imageSmoother([[1,1,1],[1,0,1],[1,1,1]]) == [[0,0,0],[0,0,0],[0,0,0]]"
   ]
  },
  {
   "cell_type": "code",
   "execution_count": 6,
   "id": "b8596e05-02c8-436f-9395-6846933d2bc4",
   "metadata": {},
   "outputs": [],
   "source": [
    "assert sol.imageSmoother([[100,200,100],[200,50,200],[100,200,100]]) == [[137,141,137],[141,138,141],[137,141,137]]"
   ]
  }
 ],
 "metadata": {
  "kernelspec": {
   "display_name": "Python 3 (ipykernel)",
   "language": "python",
   "name": "python3"
  },
  "language_info": {
   "codemirror_mode": {
    "name": "ipython",
    "version": 3
   },
   "file_extension": ".py",
   "mimetype": "text/x-python",
   "name": "python",
   "nbconvert_exporter": "python",
   "pygments_lexer": "ipython3",
   "version": "3.9.7"
  }
 },
 "nbformat": 4,
 "nbformat_minor": 5
}
