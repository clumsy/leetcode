{
 "cells": [
  {
   "cell_type": "markdown",
   "id": "3889819d-57f5-4120-bf9f-46eaf9d23ad3",
   "metadata": {},
   "source": [
    "[Problem 1447](https://leetcode.com/problems/simplified-fractions/description)"
   ]
  },
  {
   "cell_type": "code",
   "execution_count": 1,
   "id": "0ce8f168-227e-4aaf-9e5f-bf9e579ee247",
   "metadata": {},
   "outputs": [],
   "source": [
    "from typing import List\n",
    "from math import gcd"
   ]
  },
  {
   "cell_type": "code",
   "execution_count": 2,
   "id": "687a8dcc-c872-483e-8be0-73b40ed41229",
   "metadata": {},
   "outputs": [],
   "source": [
    "class Solution:\n",
    "    def simplifiedFractions(self, n: int) -> List[str]:\n",
    "        res = [f\"{n_}/{d_}\" for d_ in range(2, n + 1) for n_ in range(1, d_) if gcd(n_, d_) == 1]\n",
    "        return res"
   ]
  },
  {
   "cell_type": "code",
   "execution_count": 3,
   "id": "17479652-a8de-4b5e-a0a9-8e3204a5709a",
   "metadata": {},
   "outputs": [],
   "source": [
    "sol = Solution()"
   ]
  },
  {
   "cell_type": "code",
   "execution_count": 4,
   "id": "84984279-e669-4075-8e8e-64e6736aaf73",
   "metadata": {},
   "outputs": [],
   "source": [
    "assert sol.simplifiedFractions(2) == [\"1/2\"]"
   ]
  },
  {
   "cell_type": "code",
   "execution_count": 5,
   "id": "aace1db3-aace-4934-ad00-579aa9ec3567",
   "metadata": {},
   "outputs": [],
   "source": [
    "assert sol.simplifiedFractions(3) == [\"1/2\",\"1/3\",\"2/3\"]"
   ]
  },
  {
   "cell_type": "code",
   "execution_count": 6,
   "id": "880a3d89-a3bf-4802-8976-453e56579317",
   "metadata": {},
   "outputs": [],
   "source": [
    "assert sol.simplifiedFractions(4) == [\"1/2\",\"1/3\",\"2/3\",\"1/4\",\"3/4\"]"
   ]
  }
 ],
 "metadata": {
  "kernelspec": {
   "display_name": "Python 3 (ipykernel)",
   "language": "python",
   "name": "python3"
  },
  "language_info": {
   "codemirror_mode": {
    "name": "ipython",
    "version": 3
   },
   "file_extension": ".py",
   "mimetype": "text/x-python",
   "name": "python",
   "nbconvert_exporter": "python",
   "pygments_lexer": "ipython3",
   "version": "3.9.7"
  }
 },
 "nbformat": 4,
 "nbformat_minor": 5
}
