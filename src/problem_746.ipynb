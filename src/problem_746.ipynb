{
 "cells": [
  {
   "cell_type": "markdown",
   "id": "625a5b58-9496-4049-af9e-94b8f8b8f1ac",
   "metadata": {},
   "source": [
    "[Problem 746](https://leetcode.com/problems/min-cost-climbing-stairs/description)"
   ]
  },
  {
   "cell_type": "code",
   "execution_count": 1,
   "id": "bfe0ad5f-63bf-469c-8cfc-f4de558fe71d",
   "metadata": {},
   "outputs": [],
   "source": [
    "from typing import List"
   ]
  },
  {
   "cell_type": "code",
   "execution_count": 2,
   "id": "6d23174e-58ba-463b-b500-1099e140bc39",
   "metadata": {},
   "outputs": [],
   "source": [
    "class Solution:\n",
    "    def minCostClimbingStairs(self, cost: List[int]) -> int:\n",
    "        n = len(cost)\n",
    "        dp = [0] * n\n",
    "        dp[:2] = cost[:2]\n",
    "        for i in range(2, n):\n",
    "            dp[i] = cost[i] + min(dp[i - 1], dp[i - 2])\n",
    "        return min(dp[n - 1], dp[n - 2])"
   ]
  },
  {
   "cell_type": "code",
   "execution_count": 3,
   "id": "06b9d9fe-cc65-49bd-ba92-c0f8ab8aeb0e",
   "metadata": {},
   "outputs": [],
   "source": [
    "sol = Solution()"
   ]
  },
  {
   "cell_type": "code",
   "execution_count": 4,
   "id": "eb7e48f9-b9ac-4583-9ba6-af9edf8cb848",
   "metadata": {},
   "outputs": [],
   "source": [
    "assert sol.minCostClimbingStairs([10,15,20]) == 15"
   ]
  },
  {
   "cell_type": "code",
   "execution_count": 5,
   "id": "f4c5e869-c019-4703-b533-9e9e498fc020",
   "metadata": {},
   "outputs": [],
   "source": [
    "assert sol.minCostClimbingStairs([1,100,1,1,1,100,1,1,100,1]) == 6"
   ]
  }
 ],
 "metadata": {
  "kernelspec": {
   "display_name": "Python 3 (ipykernel)",
   "language": "python",
   "name": "python3"
  },
  "language_info": {
   "codemirror_mode": {
    "name": "ipython",
    "version": 3
   },
   "file_extension": ".py",
   "mimetype": "text/x-python",
   "name": "python",
   "nbconvert_exporter": "python",
   "pygments_lexer": "ipython3",
   "version": "3.9.7"
  }
 },
 "nbformat": 4,
 "nbformat_minor": 5
}
