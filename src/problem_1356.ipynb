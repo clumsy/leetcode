{
 "cells": [
  {
   "cell_type": "markdown",
   "id": "a7028480-a637-406e-81de-66f18f5e55fb",
   "metadata": {},
   "source": [
    "[Problem 1356](https://leetcode.com/problems/sort-integers-by-the-number-of-1-bits/description)"
   ]
  },
  {
   "cell_type": "code",
   "execution_count": 1,
   "id": "45fd4dd3-3f09-49bb-8517-dd22a12d4adc",
   "metadata": {},
   "outputs": [],
   "source": [
    "from typing import List"
   ]
  },
  {
   "cell_type": "code",
   "execution_count": 2,
   "id": "e69f2988-96ee-4bf0-99f5-a752d1fdebca",
   "metadata": {},
   "outputs": [],
   "source": [
    "class Solution:\n",
    "    def sortByBits(self, arr: List[int]) -> List[int]:\n",
    "        arr.sort(key=lambda x: (bin(x).count(\"1\"), x))\n",
    "        return arr"
   ]
  },
  {
   "cell_type": "code",
   "execution_count": 3,
   "id": "39197bb6-3e59-425e-9df4-27bd75456fb4",
   "metadata": {},
   "outputs": [],
   "source": [
    "sol = Solution()"
   ]
  },
  {
   "cell_type": "code",
   "execution_count": 4,
   "id": "fb82b366-5e73-4537-8d64-da834b2fb824",
   "metadata": {},
   "outputs": [],
   "source": [
    "assert sol.sortByBits([0,1,2,3,4,5,6,7,8]) == [0,1,2,4,8,3,5,6,7]"
   ]
  },
  {
   "cell_type": "code",
   "execution_count": 5,
   "id": "d4bc57a2-ea0d-4662-9793-458d651d2416",
   "metadata": {},
   "outputs": [],
   "source": [
    "assert sol.sortByBits([1024,512,256,128,64,32,16,8,4,2,1]) == [1,2,4,8,16,32,64,128,256,512,1024]"
   ]
  }
 ],
 "metadata": {
  "kernelspec": {
   "display_name": "Python 3 (ipykernel)",
   "language": "python",
   "name": "python3"
  },
  "language_info": {
   "codemirror_mode": {
    "name": "ipython",
    "version": 3
   },
   "file_extension": ".py",
   "mimetype": "text/x-python",
   "name": "python",
   "nbconvert_exporter": "python",
   "pygments_lexer": "ipython3",
   "version": "3.9.7"
  }
 },
 "nbformat": 4,
 "nbformat_minor": 5
}
