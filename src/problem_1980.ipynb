{
 "cells": [
  {
   "cell_type": "markdown",
   "id": "e331efa0-41a3-4af5-921b-7f1b3b24dddd",
   "metadata": {},
   "source": [
    "[Problem 1980](https://leetcode.com/problems/find-unique-binary-string/description)"
   ]
  },
  {
   "cell_type": "code",
   "execution_count": 1,
   "id": "c0eded4b-894b-4213-8ce4-a47402b1b638",
   "metadata": {},
   "outputs": [],
   "source": [
    "from typing import List"
   ]
  },
  {
   "cell_type": "code",
   "execution_count": 2,
   "id": "afc2f628-1f4c-4448-a624-968c073dffe2",
   "metadata": {},
   "outputs": [],
   "source": [
    "class Solution:\n",
    "    def findDifferentBinaryString(self, nums: List[str]) -> str:\n",
    "        s = set(int(i, 2) for i in nums)\n",
    "        n = len(nums)\n",
    "        for i in range(0, 2 ** n + 1):\n",
    "            if i not in s:\n",
    "                res = f\"{i:b}\".zfill(n)\n",
    "                break\n",
    "        return res"
   ]
  },
  {
   "cell_type": "code",
   "execution_count": 3,
   "id": "1cf7d7df-4a82-4f5d-a5b2-71208dc7969e",
   "metadata": {},
   "outputs": [],
   "source": [
    "class Solution:\n",
    "    def findDifferentBinaryString(self, nums: List[str]) -> str:\n",
    "        res = \"\".join(\"0\" if c[i] == \"1\" else \"1\" for i, c in enumerate(nums))\n",
    "        return res"
   ]
  },
  {
   "cell_type": "code",
   "execution_count": 4,
   "id": "172b0337-a1a0-447c-9ec8-ec0295a68c54",
   "metadata": {},
   "outputs": [],
   "source": [
    "sol = Solution()"
   ]
  },
  {
   "cell_type": "code",
   "execution_count": 5,
   "id": "f7b4d4f5-e58f-4353-b339-0b87c0c9a8aa",
   "metadata": {},
   "outputs": [],
   "source": [
    "assert sol.findDifferentBinaryString([\"01\",\"10\"]) == \"11\""
   ]
  },
  {
   "cell_type": "code",
   "execution_count": 6,
   "id": "053f5aa2-51ff-4405-baf6-b212cf079046",
   "metadata": {},
   "outputs": [],
   "source": [
    "assert sol.findDifferentBinaryString([\"00\",\"01\"]) == \"10\""
   ]
  },
  {
   "cell_type": "code",
   "execution_count": 7,
   "id": "3b672126-b977-4748-98e4-a4d4631c4f2b",
   "metadata": {},
   "outputs": [],
   "source": [
    "assert sol.findDifferentBinaryString([\"111\",\"011\",\"001\"]) == \"000\""
   ]
  }
 ],
 "metadata": {
  "kernelspec": {
   "display_name": "Python 3 (ipykernel)",
   "language": "python",
   "name": "python3"
  },
  "language_info": {
   "codemirror_mode": {
    "name": "ipython",
    "version": 3
   },
   "file_extension": ".py",
   "mimetype": "text/x-python",
   "name": "python",
   "nbconvert_exporter": "python",
   "pygments_lexer": "ipython3",
   "version": "3.9.7"
  }
 },
 "nbformat": 4,
 "nbformat_minor": 5
}
