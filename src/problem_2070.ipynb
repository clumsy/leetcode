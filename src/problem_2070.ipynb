{
 "cells": [
  {
   "cell_type": "markdown",
   "id": "487984e5-2515-476f-b921-a6ee01ebf710",
   "metadata": {},
   "source": [
    "[Problem 2070](https://leetcode.com/problems/most-beautiful-item-for-each-query/description)"
   ]
  },
  {
   "cell_type": "code",
   "execution_count": 1,
   "id": "feb67905-a2b1-4034-b74c-ca175511fea1",
   "metadata": {},
   "outputs": [],
   "source": [
    "from typing import List\n",
    "from bisect import bisect_right"
   ]
  },
  {
   "cell_type": "code",
   "execution_count": 2,
   "id": "c826e7e8-0045-463f-99f8-656406eac0a8",
   "metadata": {},
   "outputs": [],
   "source": [
    "class Solution:\n",
    "    def maximumBeauty(self, items: List[List[int]], queries: List[int]) -> List[int]:\n",
    "        items.sort()\n",
    "        res, n = [], len(items)\n",
    "        cur = 0\n",
    "        for i in range(1, n):\n",
    "            items[i][1] = max(items[i][1], items[i - 1][1])\n",
    "        for q in queries:\n",
    "            i = bisect_right(items, [q + 1, 0])\n",
    "            i = min(n - 1, i - 1)\n",
    "            res.append(items[i][1] if items[i][0] <= q else 0)\n",
    "        return res"
   ]
  },
  {
   "cell_type": "code",
   "execution_count": 3,
   "id": "94cd6314-84bb-49a4-b526-a0ddabcb3452",
   "metadata": {},
   "outputs": [],
   "source": [
    "sol = Solution()"
   ]
  },
  {
   "cell_type": "code",
   "execution_count": 4,
   "id": "0b8444ad-8b20-4f9d-ad39-ee2cbd91f2f0",
   "metadata": {},
   "outputs": [],
   "source": [
    "assert sol.maximumBeauty([[1,2],[3,2],[2,4],[5,6],[3,5]], [1,2,3,4,5,6]) == [2,4,5,5,6,6]"
   ]
  },
  {
   "cell_type": "code",
   "execution_count": 5,
   "id": "bb1e130d-f3b9-4937-9910-90d1de8e8327",
   "metadata": {},
   "outputs": [],
   "source": [
    "assert sol.maximumBeauty([[1,2],[1,2],[1,3],[1,4]], [1]) == [4]"
   ]
  },
  {
   "cell_type": "code",
   "execution_count": 6,
   "id": "42a04bdf-0650-4d2f-8d2b-2634da01a3aa",
   "metadata": {},
   "outputs": [],
   "source": [
    "assert sol.maximumBeauty([[10,1000]], [5]) == [0]"
   ]
  }
 ],
 "metadata": {
  "kernelspec": {
   "display_name": "Python 3 (ipykernel)",
   "language": "python",
   "name": "python3"
  },
  "language_info": {
   "codemirror_mode": {
    "name": "ipython",
    "version": 3
   },
   "file_extension": ".py",
   "mimetype": "text/x-python",
   "name": "python",
   "nbconvert_exporter": "python",
   "pygments_lexer": "ipython3",
   "version": "3.9.7"
  }
 },
 "nbformat": 4,
 "nbformat_minor": 5
}
