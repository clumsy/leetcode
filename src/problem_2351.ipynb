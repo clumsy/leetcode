{
 "cells": [
  {
   "cell_type": "markdown",
   "id": "6f26eab3-2602-4ed0-93c5-8a388c83a461",
   "metadata": {},
   "source": [
    "[Problem 2351](https://leetcode.com/problems/first-letter-to-appear-twice/description)"
   ]
  },
  {
   "cell_type": "code",
   "execution_count": 1,
   "id": "cc9a8555-545f-484f-89fc-8348c946ff88",
   "metadata": {},
   "outputs": [],
   "source": [
    "class Solution:\n",
    "    def repeatedCharacter(self, s: str) -> str:\n",
    "        seen = set()\n",
    "        for c in s:\n",
    "            if c in seen:\n",
    "                res = c\n",
    "                break\n",
    "            seen.add(c)\n",
    "        return res"
   ]
  },
  {
   "cell_type": "code",
   "execution_count": 2,
   "id": "1dfed20a-4faa-42fb-b950-bde7aac494eb",
   "metadata": {},
   "outputs": [],
   "source": [
    "sol = Solution()"
   ]
  },
  {
   "cell_type": "code",
   "execution_count": 3,
   "id": "92c0880a-cb4f-4a94-8af3-8efe47e65de8",
   "metadata": {},
   "outputs": [],
   "source": [
    "assert sol.repeatedCharacter(\"abccbaacz\") == \"c\""
   ]
  },
  {
   "cell_type": "code",
   "execution_count": 4,
   "id": "02fc9e60-11c9-4662-a7f7-ed15acbe51dc",
   "metadata": {},
   "outputs": [],
   "source": [
    "assert sol.repeatedCharacter(\"abcdd\") == \"d\""
   ]
  }
 ],
 "metadata": {
  "kernelspec": {
   "display_name": "Python 3 (ipykernel)",
   "language": "python",
   "name": "python3"
  },
  "language_info": {
   "codemirror_mode": {
    "name": "ipython",
    "version": 3
   },
   "file_extension": ".py",
   "mimetype": "text/x-python",
   "name": "python",
   "nbconvert_exporter": "python",
   "pygments_lexer": "ipython3",
   "version": "3.9.7"
  }
 },
 "nbformat": 4,
 "nbformat_minor": 5
}
