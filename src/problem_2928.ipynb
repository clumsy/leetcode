{
 "cells": [
  {
   "cell_type": "markdown",
   "id": "79761615-739d-4382-9e12-0ef3cd4b02b6",
   "metadata": {},
   "source": [
    "[Problem 2928](https://leetcode.com/problems/distribute-candies-among-children-i/description)"
   ]
  },
  {
   "cell_type": "code",
   "execution_count": 1,
   "id": "7777731f-be7a-4716-adb6-2bceee735933",
   "metadata": {},
   "outputs": [],
   "source": [
    "class Solution:\n",
    "    def distributeCandies(self, n: int, limit: int) -> int:\n",
    "        res = 0\n",
    "        for i in range(min(limit, n) + 1):\n",
    "            for j in range(min(limit, n - i) + 1):\n",
    "                res += n - i - j <= limit\n",
    "        return res"
   ]
  },
  {
   "cell_type": "code",
   "execution_count": 2,
   "id": "f801d017-5fb5-4501-ba27-a8e4fe4129b9",
   "metadata": {},
   "outputs": [],
   "source": [
    "sol = Solution()"
   ]
  },
  {
   "cell_type": "code",
   "execution_count": 3,
   "id": "6eb3be11-488b-4f93-b0f6-33b05b7c9333",
   "metadata": {},
   "outputs": [],
   "source": [
    "assert sol.distributeCandies(5, 2) == 3"
   ]
  },
  {
   "cell_type": "code",
   "execution_count": null,
   "id": "1cbc080f-6e11-4b95-b9da-4c77caa5f89c",
   "metadata": {},
   "outputs": [],
   "source": [
    "assert sol.distributeCandies(3, 3) == 10"
   ]
  }
 ],
 "metadata": {
  "kernelspec": {
   "display_name": "Python 3 (ipykernel)",
   "language": "python",
   "name": "python3"
  },
  "language_info": {
   "codemirror_mode": {
    "name": "ipython",
    "version": 3
   },
   "file_extension": ".py",
   "mimetype": "text/x-python",
   "name": "python",
   "nbconvert_exporter": "python",
   "pygments_lexer": "ipython3",
   "version": "3.9.7"
  }
 },
 "nbformat": 4,
 "nbformat_minor": 5
}
