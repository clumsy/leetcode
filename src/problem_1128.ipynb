{
 "cells": [
  {
   "cell_type": "markdown",
   "id": "e7aa26fa-ea4a-4d9c-a814-ff1f5a9911f5",
   "metadata": {},
   "source": [
    "[Problem 1128](https://leetcode.com/problems/number-of-equivalent-domino-pairs/)"
   ]
  },
  {
   "cell_type": "code",
   "execution_count": 28,
   "id": "93f09f5d-a615-45b5-a622-b7391169d5f3",
   "metadata": {},
   "outputs": [],
   "source": [
    "from typing import List\n",
    "from collections import defaultdict"
   ]
  },
  {
   "cell_type": "code",
   "execution_count": 29,
   "id": "8494d9c0-b654-4414-bbc8-4e2505a44f9c",
   "metadata": {},
   "outputs": [],
   "source": [
    "class Solution:\n",
    "    def numEquivDominoPairs(self, dominoes: List[List[int]]) -> int:\n",
    "        count = 0\n",
    "        equiv = defaultdict(lambda: defaultdict(int))\n",
    "        for a, b in dominoes:  # it does not matter from which side to iterate\n",
    "            a, b = min(a, b), max(a, b)\n",
    "            count += equiv[a][b]\n",
    "            equiv[a][b] += 1\n",
    "        return count"
   ]
  },
  {
   "cell_type": "code",
   "execution_count": 30,
   "id": "32678f0e-799d-4737-9f10-6fe8be9213b8",
   "metadata": {},
   "outputs": [],
   "source": [
    "sol = Solution()"
   ]
  },
  {
   "cell_type": "code",
   "execution_count": 31,
   "id": "c4c4c1b9-ca1c-4c7d-ac7e-b03aaa1f68aa",
   "metadata": {},
   "outputs": [],
   "source": [
    "assert sol.numEquivDominoPairs([[1,2],[2,1],[3,4],[5,6]]) == 1"
   ]
  },
  {
   "cell_type": "code",
   "execution_count": 32,
   "id": "55cdc8b5-8e9f-412e-9809-08d51ad01339",
   "metadata": {},
   "outputs": [],
   "source": [
    "assert sol.numEquivDominoPairs([[1,2],[1,2],[1,1],[1,2],[2,2]]) == 3"
   ]
  },
  {
   "cell_type": "code",
   "execution_count": 33,
   "id": "716b446e-9868-4d85-9cb2-1dac1fe5d0f7",
   "metadata": {},
   "outputs": [],
   "source": [
    "assert sol.numEquivDominoPairs([[1,1],[2,2],[1,1],[1,2],[1,2],[1,1]]) == 4"
   ]
  }
 ],
 "metadata": {
  "kernelspec": {
   "display_name": "Python 3 (ipykernel)",
   "language": "python",
   "name": "python3"
  },
  "language_info": {
   "codemirror_mode": {
    "name": "ipython",
    "version": 3
   },
   "file_extension": ".py",
   "mimetype": "text/x-python",
   "name": "python",
   "nbconvert_exporter": "python",
   "pygments_lexer": "ipython3",
   "version": "3.9.7"
  }
 },
 "nbformat": 4,
 "nbformat_minor": 5
}
