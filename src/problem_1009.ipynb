{
 "cells": [
  {
   "cell_type": "markdown",
   "id": "314c5832-d97a-44a7-b649-67c95849e31b",
   "metadata": {},
   "source": [
    "[Problem 1009](https://leetcode.com/problems/complement-of-base-10-integer/description)"
   ]
  },
  {
   "cell_type": "code",
   "execution_count": 1,
   "id": "7df1ed09-4401-4fe1-9beb-e23b7b44b4a1",
   "metadata": {},
   "outputs": [],
   "source": [
    "class Solution:\n",
    "    def bitwiseComplement(self, n: int) -> int:\n",
    "        mask = 1\n",
    "        while mask < n:\n",
    "            mask = (mask << 1) + 1\n",
    "        # mask is now the smallest 111..111 >= n\n",
    "        res = mask - n\n",
    "        return res"
   ]
  },
  {
   "cell_type": "code",
   "execution_count": 2,
   "id": "09b32747-a59a-45f6-9379-9e77e06b2c65",
   "metadata": {},
   "outputs": [],
   "source": [
    "sol = Solution()"
   ]
  },
  {
   "cell_type": "code",
   "execution_count": 3,
   "id": "6b1a952f-ef19-4746-8f9a-1cf1056a0c7f",
   "metadata": {},
   "outputs": [],
   "source": [
    "assert sol.bitwiseComplement(5) == 2"
   ]
  },
  {
   "cell_type": "code",
   "execution_count": 4,
   "id": "37fdd7e5-c684-4e2c-83fb-0a45e8e5598f",
   "metadata": {},
   "outputs": [],
   "source": [
    "assert sol.bitwiseComplement(7) == 0"
   ]
  },
  {
   "cell_type": "code",
   "execution_count": 5,
   "id": "d1244f67-081e-4c4d-b2da-d16a742b23a7",
   "metadata": {},
   "outputs": [],
   "source": [
    "assert sol.bitwiseComplement(10) == 5"
   ]
  }
 ],
 "metadata": {
  "kernelspec": {
   "display_name": "Python 3 (ipykernel)",
   "language": "python",
   "name": "python3"
  },
  "language_info": {
   "codemirror_mode": {
    "name": "ipython",
    "version": 3
   },
   "file_extension": ".py",
   "mimetype": "text/x-python",
   "name": "python",
   "nbconvert_exporter": "python",
   "pygments_lexer": "ipython3",
   "version": "3.9.7"
  }
 },
 "nbformat": 4,
 "nbformat_minor": 5
}
