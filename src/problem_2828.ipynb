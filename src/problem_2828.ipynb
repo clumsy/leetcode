{
 "cells": [
  {
   "cell_type": "markdown",
   "id": "759035b3-1f46-4b59-b48e-4880842e5797",
   "metadata": {},
   "source": [
    "[Problem 2828](https://leetcode.com/problems/check-if-a-string-is-an-acronym-of-words/description)"
   ]
  },
  {
   "cell_type": "code",
   "execution_count": 1,
   "id": "0c696ba2-93c8-4566-bd1f-bf281ea17d5c",
   "metadata": {},
   "outputs": [],
   "source": [
    "from typing import List"
   ]
  },
  {
   "cell_type": "code",
   "execution_count": 2,
   "id": "b1cfdde0-35fe-468b-9c73-37fbe5c8d2a4",
   "metadata": {},
   "outputs": [],
   "source": [
    "class Solution:\n",
    "    def isAcronym(self, words: List[str], s: str) -> bool:\n",
    "        res = s == \"\".join(w[0] for w in words)\n",
    "        return res"
   ]
  },
  {
   "cell_type": "code",
   "execution_count": 3,
   "id": "b66885c6-753f-4f50-b83e-1c3a5a0e603d",
   "metadata": {},
   "outputs": [],
   "source": [
    "sol = Solution()"
   ]
  },
  {
   "cell_type": "code",
   "execution_count": 4,
   "id": "08d5dcd5-700f-46d4-b305-7585a7f81bfe",
   "metadata": {},
   "outputs": [],
   "source": [
    "assert sol.isAcronym([\"alice\",\"bob\",\"charlie\"], \"abc\")"
   ]
  },
  {
   "cell_type": "code",
   "execution_count": 5,
   "id": "70e901d1-24b0-43c5-b36b-b1ecf6d38531",
   "metadata": {},
   "outputs": [],
   "source": [
    "assert not sol.isAcronym([\"an\",\"apple\"], \"a\")"
   ]
  },
  {
   "cell_type": "code",
   "execution_count": 6,
   "id": "25dcf832-7e9f-444d-b540-fd46a7187834",
   "metadata": {},
   "outputs": [],
   "source": [
    "assert sol.isAcronym([\"never\",\"gonna\",\"give\",\"up\",\"on\",\"you\"], \"ngguoy\")"
   ]
  }
 ],
 "metadata": {
  "kernelspec": {
   "display_name": "Python 3 (ipykernel)",
   "language": "python",
   "name": "python3"
  },
  "language_info": {
   "codemirror_mode": {
    "name": "ipython",
    "version": 3
   },
   "file_extension": ".py",
   "mimetype": "text/x-python",
   "name": "python",
   "nbconvert_exporter": "python",
   "pygments_lexer": "ipython3",
   "version": "3.9.7"
  }
 },
 "nbformat": 4,
 "nbformat_minor": 5
}
