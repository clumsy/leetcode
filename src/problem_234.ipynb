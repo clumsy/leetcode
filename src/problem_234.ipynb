{
 "cells": [
  {
   "cell_type": "markdown",
   "id": "6421a16f-90f5-4803-b629-b1fa21eb4bcf",
   "metadata": {},
   "source": [
    "[Problem 234]()"
   ]
  },
  {
   "cell_type": "code",
   "execution_count": 1,
   "id": "3b8b5258-f7b1-4dd1-9b77-637292192ae7",
   "metadata": {},
   "outputs": [],
   "source": [
    "# Definition for singly-linked list.\n",
    "class ListNode:\n",
    "    def __init__(self, val=0, next=None):\n",
    "        self.val = val\n",
    "        self.next = next"
   ]
  },
  {
   "cell_type": "code",
   "execution_count": 2,
   "id": "f9af6456-340b-424f-a905-d50e0cf2663c",
   "metadata": {},
   "outputs": [],
   "source": [
    "from typing import Optional"
   ]
  },
  {
   "cell_type": "code",
   "execution_count": 3,
   "id": "d065b92b-cda8-4426-a412-6eb77b5e1753",
   "metadata": {},
   "outputs": [],
   "source": [
    "class Solution:\n",
    "    def isPalindrome(self, head: Optional[ListNode]) -> bool:\n",
    "        slow = fast = head\n",
    "        nxt = prv = None\n",
    "        while fast and fast.next:\n",
    "            fast = fast.next.next\n",
    "            prv, prv.next, slow = slow, prv, slow.next\n",
    "        slow = slow.next if fast else slow\n",
    "        while prv and prv.val == slow.val:\n",
    "            slow, prv = slow.next, prv.next\n",
    "        res = not prv\n",
    "        return res    "
   ]
  },
  {
   "cell_type": "code",
   "execution_count": 4,
   "id": "23744af4-16ca-45c6-a333-bba442c63892",
   "metadata": {},
   "outputs": [],
   "source": [
    "sol = Solution()"
   ]
  },
  {
   "cell_type": "code",
   "execution_count": 5,
   "id": "6e032228-8507-4617-b60c-376a4963291e",
   "metadata": {},
   "outputs": [],
   "source": [
    "def as_list(vals):\n",
    "    head = cur = ListNode()\n",
    "    for i in vals:\n",
    "        cur.next = ListNode(i)\n",
    "        cur = cur.next\n",
    "    return head.next"
   ]
  },
  {
   "cell_type": "code",
   "execution_count": 6,
   "id": "c5500a97-5461-4076-987a-f486d66c5563",
   "metadata": {},
   "outputs": [],
   "source": [
    "assert sol.isPalindrome(as_list([1,2,2,1]))"
   ]
  },
  {
   "cell_type": "code",
   "execution_count": 7,
   "id": "23c5be4f-6f21-47cf-99a2-bb38d95e3a51",
   "metadata": {},
   "outputs": [],
   "source": [
    "assert not sol.isPalindrome(as_list([1,2]))"
   ]
  }
 ],
 "metadata": {
  "kernelspec": {
   "display_name": "Python 3 (ipykernel)",
   "language": "python",
   "name": "python3"
  },
  "language_info": {
   "codemirror_mode": {
    "name": "ipython",
    "version": 3
   },
   "file_extension": ".py",
   "mimetype": "text/x-python",
   "name": "python",
   "nbconvert_exporter": "python",
   "pygments_lexer": "ipython3",
   "version": "3.9.7"
  }
 },
 "nbformat": 4,
 "nbformat_minor": 5
}
