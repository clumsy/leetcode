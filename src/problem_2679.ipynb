{
 "cells": [
  {
   "cell_type": "markdown",
   "id": "cb8c89bf-c9b3-4eb9-8218-061666210c6e",
   "metadata": {},
   "source": [
    "[Problem 2679](https://leetcode.com/problems/sum-in-a-matrix/description)"
   ]
  },
  {
   "cell_type": "code",
   "execution_count": 1,
   "id": "d2517299-a6d4-4a7c-8710-8761b7ac06ab",
   "metadata": {},
   "outputs": [],
   "source": [
    "from typing import List"
   ]
  },
  {
   "cell_type": "code",
   "execution_count": 2,
   "id": "f12f68be-9f3a-4b4a-8146-2548c0d093d0",
   "metadata": {},
   "outputs": [],
   "source": [
    "class Solution:\n",
    "    def matrixSum(self, nums: List[List[int]]) -> int:\n",
    "        for r in nums:\n",
    "            r.sort()\n",
    "        res = 0\n",
    "        for c in range(len(nums[0])):\n",
    "            res += max(nums[r][c] for r in range(len(nums)))\n",
    "        return res"
   ]
  },
  {
   "cell_type": "code",
   "execution_count": 3,
   "id": "2d5cbe62-1098-47f2-8319-674d747880f8",
   "metadata": {},
   "outputs": [],
   "source": [
    "sol = Solution()"
   ]
  },
  {
   "cell_type": "code",
   "execution_count": 4,
   "id": "c334f840-92a3-43b8-86ce-ef3bff9e406c",
   "metadata": {},
   "outputs": [],
   "source": [
    "assert sol.matrixSum([[7,2,1],[6,4,2],[6,5,3],[3,2,1]]) == 15"
   ]
  },
  {
   "cell_type": "code",
   "execution_count": 5,
   "id": "bd9ec293-7428-4b3a-b341-b59fb034d92d",
   "metadata": {},
   "outputs": [],
   "source": [
    "assert sol.matrixSum([[1]]) == 1"
   ]
  }
 ],
 "metadata": {
  "kernelspec": {
   "display_name": "Python 3 (ipykernel)",
   "language": "python",
   "name": "python3"
  },
  "language_info": {
   "codemirror_mode": {
    "name": "ipython",
    "version": 3
   },
   "file_extension": ".py",
   "mimetype": "text/x-python",
   "name": "python",
   "nbconvert_exporter": "python",
   "pygments_lexer": "ipython3",
   "version": "3.9.7"
  }
 },
 "nbformat": 4,
 "nbformat_minor": 5
}
