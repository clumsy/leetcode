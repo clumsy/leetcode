{
 "cells": [
  {
   "cell_type": "markdown",
   "id": "a0b9b959-51ce-4258-bec2-fdb19752f059",
   "metadata": {},
   "source": [
    "[Problem 2326](https://leetcode.com/problems/spiral-matrix-iv/description)"
   ]
  },
  {
   "cell_type": "code",
   "execution_count": 1,
   "id": "4bd9c8a8-38c9-4b8d-bcbf-71ca7cb9362e",
   "metadata": {},
   "outputs": [],
   "source": [
    "# Definition for singly-linked list.\n",
    "class ListNode:\n",
    "    def __init__(self, val=0, next=None):\n",
    "        self.val = val\n",
    "        self.next = next"
   ]
  },
  {
   "cell_type": "code",
   "execution_count": 2,
   "id": "6620796c-509f-44b3-946a-c3b927075038",
   "metadata": {},
   "outputs": [],
   "source": [
    "from typing import Optional, List"
   ]
  },
  {
   "cell_type": "code",
   "execution_count": 3,
   "id": "7841516a-6001-428e-8fce-503791f192a7",
   "metadata": {},
   "outputs": [],
   "source": [
    "class Solution:\n",
    "    def spiralMatrix(self, m: int, n: int, head: Optional[ListNode]) -> List[List[int]]:\n",
    "        res, stop = [[-1] * n for _ in range(m)], head is None\n",
    "        for d in range(0, (m + 1) // 2):\n",
    "            if stop: break\n",
    "            for c in range(d, n - d - (m - d - 1 > d)):\n",
    "                if stop: break\n",
    "                res[d][c] = head.val\n",
    "                head = head.next\n",
    "                stop = head is None\n",
    "            for r in range(d, m - d - 1):\n",
    "                if stop: break\n",
    "                res[r][n - d - 1] = head.val\n",
    "                head = head.next\n",
    "                stop = head is None\n",
    "            for c in range(d + 1, n - d)[::-1]:\n",
    "                if stop: break\n",
    "                res[m - d - 1][c] = head.val\n",
    "                head = head.next\n",
    "                stop = head is None\n",
    "            for r in range(d + 1, m - d)[::-1]:\n",
    "                if stop: break\n",
    "                res[r][d] = head.val\n",
    "                head = head.next\n",
    "                stop = head is None\n",
    "        return res"
   ]
  },
  {
   "cell_type": "code",
   "execution_count": 4,
   "id": "93566157-ac1c-462c-92ae-7c640e7369c6",
   "metadata": {},
   "outputs": [],
   "source": [
    "sol = Solution()"
   ]
  },
  {
   "cell_type": "code",
   "execution_count": 5,
   "id": "c7f8fb2c-981b-41cd-a5ce-b67a316e3aee",
   "metadata": {},
   "outputs": [],
   "source": [
    "def as_list(vals):\n",
    "    head = cur = ListNode()\n",
    "    for i in vals:\n",
    "        cur.next = ListNode(i)\n",
    "        cur = cur.next\n",
    "    return head.next"
   ]
  },
  {
   "cell_type": "code",
   "execution_count": 6,
   "id": "c0acf9b9-282a-44e1-9a1b-ed041de507f4",
   "metadata": {},
   "outputs": [],
   "source": [
    "assert sol.spiralMatrix(3, 5, as_list([3,0,2,6,8,1,7,9,4,2,5,5,0])) == [[3,0,2,6,8],[5,0,-1,-1,1],[5,2,4,9,7]]"
   ]
  },
  {
   "cell_type": "code",
   "execution_count": 7,
   "id": "54414907-489c-4ff5-a7c6-884f171a3a21",
   "metadata": {},
   "outputs": [],
   "source": [
    "assert sol.spiralMatrix(1, 4, as_list([0,1,2])) == [[0,1,2,-1]]"
   ]
  }
 ],
 "metadata": {
  "kernelspec": {
   "display_name": "Python 3 (ipykernel)",
   "language": "python",
   "name": "python3"
  },
  "language_info": {
   "codemirror_mode": {
    "name": "ipython",
    "version": 3
   },
   "file_extension": ".py",
   "mimetype": "text/x-python",
   "name": "python",
   "nbconvert_exporter": "python",
   "pygments_lexer": "ipython3",
   "version": "3.9.7"
  }
 },
 "nbformat": 4,
 "nbformat_minor": 5
}
