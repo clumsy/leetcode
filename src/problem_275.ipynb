{
 "cells": [
  {
   "cell_type": "markdown",
   "id": "aee07113-4160-4130-8d3e-e2accca5acab",
   "metadata": {},
   "source": [
    "[Problem 275](https://leetcode.com/problems/h-index-ii/)"
   ]
  },
  {
   "cell_type": "code",
   "execution_count": 2,
   "id": "97e7f344-408d-4d2f-b73d-e29b06d6ecfb",
   "metadata": {},
   "outputs": [],
   "source": [
    "from typing import List"
   ]
  },
  {
   "cell_type": "code",
   "execution_count": 3,
   "id": "ec23fc86-0b9f-4a95-8736-a33e659551e9",
   "metadata": {},
   "outputs": [],
   "source": [
    "class Solution:\n",
    "    def hIndex(self, citations: List[int]) -> int:\n",
    "        n = len(citations)\n",
    "        lo, hi = 0, n - 1\n",
    "        while lo <= hi:\n",
    "            mi = lo + (hi - lo) // 2\n",
    "            if citations[mi] >= n - mi:\n",
    "                hi = mi - 1\n",
    "            else:\n",
    "                lo = mi + 1\n",
    "        return n - lo"
   ]
  },
  {
   "cell_type": "code",
   "execution_count": 4,
   "id": "39c48b3f-2189-4626-b769-b20b4feb34a3",
   "metadata": {},
   "outputs": [],
   "source": [
    "sol = Solution()"
   ]
  },
  {
   "cell_type": "code",
   "execution_count": 5,
   "id": "82edba6e-7752-4ab7-bc84-975b16bc3d55",
   "metadata": {},
   "outputs": [],
   "source": [
    "assert sol.hIndex([0,1,3,5,6]) == 3"
   ]
  },
  {
   "cell_type": "code",
   "execution_count": 6,
   "id": "ea0ddc66-8a75-4e42-890d-48db14f3d60d",
   "metadata": {},
   "outputs": [],
   "source": [
    "assert sol.hIndex([1,2,100]) == 2"
   ]
  }
 ],
 "metadata": {
  "kernelspec": {
   "display_name": "Python 3 (ipykernel)",
   "language": "python",
   "name": "python3"
  },
  "language_info": {
   "codemirror_mode": {
    "name": "ipython",
    "version": 3
   },
   "file_extension": ".py",
   "mimetype": "text/x-python",
   "name": "python",
   "nbconvert_exporter": "python",
   "pygments_lexer": "ipython3",
   "version": "3.9.7"
  }
 },
 "nbformat": 4,
 "nbformat_minor": 5
}
