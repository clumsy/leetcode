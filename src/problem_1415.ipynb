{
 "cells": [
  {
   "cell_type": "markdown",
   "id": "77002141-8485-47ec-b55c-501aff531864",
   "metadata": {},
   "source": [
    "[Problem 1415](https://leetcode.com/problems/the-k-th-lexicographical-string-of-all-happy-strings-of-length-n/description)"
   ]
  },
  {
   "cell_type": "code",
   "execution_count": 1,
   "id": "1296be45-9d11-4d48-80f4-89b864ccc515",
   "metadata": {},
   "outputs": [],
   "source": [
    "class Solution:\n",
    "    def getHappyString(self, n: int, k: int) -> str:\n",
    "        st, res = [\"\"], \"\"\n",
    "        while st:\n",
    "            res = \"\"\n",
    "            s = st.pop()\n",
    "            if len(s) < n:\n",
    "                for c in [\"c\", \"b\", \"a\"]:\n",
    "                    if not s or s[-1] != c:\n",
    "                        st.append(s + c)\n",
    "            else:\n",
    "                k -= 1\n",
    "                if k == 0:\n",
    "                    res = s\n",
    "                    break\n",
    "        return res"
   ]
  },
  {
   "cell_type": "code",
   "execution_count": 2,
   "id": "70ef751e-3791-4b96-9d67-65b26c59d96b",
   "metadata": {},
   "outputs": [],
   "source": [
    "class Solution:\n",
    "    def getHappyString(self, n: int, k: int) -> str:\n",
    "        perms, res = 2 ** (n - 1), \"\"\n",
    "        if k <= 3 * perms:\n",
    "            res = [chr(ord(\"a\") + (k - 1) // perms)]\n",
    "            while perms > 1:\n",
    "                k = (k - 1) % perms + 1\n",
    "                perms //= 2\n",
    "                c = chr(ord(\"a\") + (len(res) > 0 and res[-1] == \"a\")) if (k - 1) // perms == 0 else chr(ord(\"b\") + (len(res) == 0 or res[-1] != \"c\"))\n",
    "                res.append(c)\n",
    "            res = \"\".join(res)\n",
    "        return res"
   ]
  },
  {
   "cell_type": "code",
   "execution_count": 3,
   "id": "3235cc97-3b21-497a-9e3c-a4a2d39613e5",
   "metadata": {},
   "outputs": [],
   "source": [
    "sol = Solution()"
   ]
  },
  {
   "cell_type": "code",
   "execution_count": 4,
   "id": "04d7649a-f7a8-4f73-b6b7-3a6738171b56",
   "metadata": {},
   "outputs": [],
   "source": [
    "assert sol.getHappyString(1, 3) == \"c\""
   ]
  },
  {
   "cell_type": "code",
   "execution_count": 5,
   "id": "e282246e-a112-4820-b183-4f765433eb5a",
   "metadata": {},
   "outputs": [],
   "source": [
    "assert sol.getHappyString(1, 4) == \"\""
   ]
  },
  {
   "cell_type": "code",
   "execution_count": 6,
   "id": "2133a0ba-da75-4169-9035-9a61851035c4",
   "metadata": {},
   "outputs": [],
   "source": [
    "assert sol.getHappyString(3, 9) == \"cab\""
   ]
  }
 ],
 "metadata": {
  "kernelspec": {
   "display_name": "Python 3 (ipykernel)",
   "language": "python",
   "name": "python3"
  },
  "language_info": {
   "codemirror_mode": {
    "name": "ipython",
    "version": 3
   },
   "file_extension": ".py",
   "mimetype": "text/x-python",
   "name": "python",
   "nbconvert_exporter": "python",
   "pygments_lexer": "ipython3",
   "version": "3.9.7"
  }
 },
 "nbformat": 4,
 "nbformat_minor": 5
}
