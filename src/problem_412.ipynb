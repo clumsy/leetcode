{
 "cells": [
  {
   "cell_type": "markdown",
   "id": "049ead4a-2bc8-4ed1-be85-8fa6051b2287",
   "metadata": {},
   "source": [
    "[Problem 412](https://leetcode.com/problems/fizz-buzz/description)"
   ]
  },
  {
   "cell_type": "code",
   "execution_count": 1,
   "id": "9672ff49-2bbc-4a9f-a279-cb45739a3f95",
   "metadata": {},
   "outputs": [],
   "source": [
    "from typing import List"
   ]
  },
  {
   "cell_type": "code",
   "execution_count": 2,
   "id": "7b901b1c-257c-4dd9-adfe-0832d0f26155",
   "metadata": {},
   "outputs": [],
   "source": [
    "class Solution:\n",
    "    def fizzBuzz(self, n: int) -> List[str]:\n",
    "        res = [\"Fizz\" * (i % 3 == 0) + \"Buzz\" * (i % 5 == 0) + str(i) * (i % 3 != 0 and i % 5 != 0) for i in range(1, n + 1)]\n",
    "        return res"
   ]
  },
  {
   "cell_type": "code",
   "execution_count": 3,
   "id": "788bf465-41d3-42b0-be35-11b9a4e5879d",
   "metadata": {},
   "outputs": [],
   "source": [
    "sol = Solution()"
   ]
  },
  {
   "cell_type": "code",
   "execution_count": 4,
   "id": "222096be-bc29-4f05-bb95-e8009208c016",
   "metadata": {},
   "outputs": [],
   "source": [
    "assert sol.fizzBuzz(3) == [\"1\",\"2\",\"Fizz\"]"
   ]
  },
  {
   "cell_type": "code",
   "execution_count": 5,
   "id": "264503f5-2480-4e67-b5cb-a079c154475d",
   "metadata": {},
   "outputs": [],
   "source": [
    "assert sol.fizzBuzz(5) == [\"1\",\"2\",\"Fizz\",\"4\",\"Buzz\"]"
   ]
  },
  {
   "cell_type": "code",
   "execution_count": 6,
   "id": "42d20aea-6174-472c-a594-c502f87cda4e",
   "metadata": {},
   "outputs": [],
   "source": [
    "assert sol.fizzBuzz(15) == [\"1\",\"2\",\"Fizz\",\"4\",\"Buzz\",\"Fizz\",\"7\",\"8\",\"Fizz\",\"Buzz\",\"11\",\"Fizz\",\"13\",\"14\",\"FizzBuzz\"]"
   ]
  }
 ],
 "metadata": {
  "kernelspec": {
   "display_name": "Python 3 (ipykernel)",
   "language": "python",
   "name": "python3"
  },
  "language_info": {
   "codemirror_mode": {
    "name": "ipython",
    "version": 3
   },
   "file_extension": ".py",
   "mimetype": "text/x-python",
   "name": "python",
   "nbconvert_exporter": "python",
   "pygments_lexer": "ipython3",
   "version": "3.9.7"
  }
 },
 "nbformat": 4,
 "nbformat_minor": 5
}
