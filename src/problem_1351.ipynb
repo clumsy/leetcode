{
 "cells": [
  {
   "cell_type": "markdown",
   "id": "3aac5d26-27fb-40b3-a35b-1fb861f4b45c",
   "metadata": {},
   "source": [
    "[Problem 1351](https://leetcode.com/problems/count-negative-numbers-in-a-sorted-matrix/)"
   ]
  },
  {
   "cell_type": "code",
   "execution_count": 2,
   "id": "8fb9d001-bc46-4c98-9c46-9e8790384eb4",
   "metadata": {},
   "outputs": [],
   "source": [
    "from typing import List"
   ]
  },
  {
   "cell_type": "code",
   "execution_count": 3,
   "id": "39d78e6e-5f9b-4878-a72d-9eeb11a70868",
   "metadata": {},
   "outputs": [],
   "source": [
    "class Solution:\n",
    "    def countNegatives(self, grid: List[List[int]]) -> int:\n",
    "        h = m = len(grid[0])\n",
    "        res = 0\n",
    "        for r in range(len(grid)):\n",
    "            lo, hi = 0, h\n",
    "            while lo < hi:\n",
    "                mi = lo + (hi - lo) // 2\n",
    "                if grid[r][mi] < 0:\n",
    "                    hi = mi\n",
    "                else:\n",
    "                    lo = mi + 1\n",
    "            res += m - lo\n",
    "            h = lo\n",
    "        return res"
   ]
  },
  {
   "cell_type": "code",
   "execution_count": 4,
   "id": "d89adaef-9578-49e6-84ea-041993f66634",
   "metadata": {},
   "outputs": [],
   "source": [
    "sol = Solution()"
   ]
  },
  {
   "cell_type": "code",
   "execution_count": 5,
   "id": "f5aa5a07-bb95-47d6-a1ca-ae525ecddcdb",
   "metadata": {},
   "outputs": [],
   "source": [
    "assert sol.countNegatives([[4,3,2,-1],[3,2,1,-1],[1,1,-1,-2],[-1,-1,-2,-3]]) == 8"
   ]
  },
  {
   "cell_type": "code",
   "execution_count": 6,
   "id": "a22b2f22-6f25-4746-a6c1-56053422dadb",
   "metadata": {},
   "outputs": [],
   "source": [
    "assert sol.countNegatives([[3,2],[1,0]]) == 0"
   ]
  }
 ],
 "metadata": {
  "kernelspec": {
   "display_name": "Python 3 (ipykernel)",
   "language": "python",
   "name": "python3"
  },
  "language_info": {
   "codemirror_mode": {
    "name": "ipython",
    "version": 3
   },
   "file_extension": ".py",
   "mimetype": "text/x-python",
   "name": "python",
   "nbconvert_exporter": "python",
   "pygments_lexer": "ipython3",
   "version": "3.9.7"
  }
 },
 "nbformat": 4,
 "nbformat_minor": 5
}
