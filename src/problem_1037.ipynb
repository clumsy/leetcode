{
 "cells": [
  {
   "cell_type": "markdown",
   "id": "50245496-61f1-496c-91b1-ccc1d46edda2",
   "metadata": {},
   "source": [
    "[Problem 1037](https://leetcode.com/problems/valid-boomerang/description)"
   ]
  },
  {
   "cell_type": "code",
   "execution_count": 1,
   "id": "9380d2f5-53e3-4dc5-867e-afc37b5035fa",
   "metadata": {},
   "outputs": [],
   "source": [
    "from typing import List"
   ]
  },
  {
   "cell_type": "code",
   "execution_count": 2,
   "id": "d9c45887-ed52-486d-8c9c-c9c04a25355b",
   "metadata": {},
   "outputs": [],
   "source": [
    "class Solution:\n",
    "    def isBoomerang(self, points: List[List[int]]) -> bool:\n",
    "        def area(a, b, c):\n",
    "            return (b[0] - a[0])*(c[1] - b[1]) - (c[0] - b[0])*(b[1] - a[1])\n",
    "        res = area(*points) != 0\n",
    "        return res"
   ]
  },
  {
   "cell_type": "code",
   "execution_count": 3,
   "id": "a7cdb612-d461-4e75-827c-caab128712d5",
   "metadata": {},
   "outputs": [],
   "source": [
    "sol = Solution()"
   ]
  },
  {
   "cell_type": "code",
   "execution_count": 4,
   "id": "ebd59832-a662-49ac-8e7f-d9f666155ef3",
   "metadata": {},
   "outputs": [],
   "source": [
    "assert sol.isBoomerang([[1,1],[2,3],[2,2]])"
   ]
  },
  {
   "cell_type": "code",
   "execution_count": 5,
   "id": "53dc0eb4-1198-40db-9345-35ee7fae18a1",
   "metadata": {},
   "outputs": [],
   "source": [
    "assert not sol.isBoomerang([[1,1],[2,2],[3,3]])"
   ]
  }
 ],
 "metadata": {
  "kernelspec": {
   "display_name": "Python 3 (ipykernel)",
   "language": "python",
   "name": "python3"
  },
  "language_info": {
   "codemirror_mode": {
    "name": "ipython",
    "version": 3
   },
   "file_extension": ".py",
   "mimetype": "text/x-python",
   "name": "python",
   "nbconvert_exporter": "python",
   "pygments_lexer": "ipython3",
   "version": "3.9.7"
  }
 },
 "nbformat": 4,
 "nbformat_minor": 5
}
