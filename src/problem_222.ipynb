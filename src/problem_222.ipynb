{
 "cells": [
  {
   "cell_type": "markdown",
   "id": "e344b049-ef77-4369-95a3-40560b5f02b3",
   "metadata": {},
   "source": [
    "[Problem 222](https://leetcode.com/problems/count-complete-tree-nodes/)"
   ]
  },
  {
   "cell_type": "code",
   "execution_count": 1,
   "id": "c73b90c3-1a9a-444d-8413-0c4e86deea34",
   "metadata": {},
   "outputs": [],
   "source": [
    "# Definition for a binary tree node.\n",
    "class TreeNode:\n",
    "    def __init__(self, val=0, left=None, right=None):\n",
    "        self.val = val\n",
    "        self.left = left\n",
    "        self.right = right"
   ]
  },
  {
   "cell_type": "code",
   "execution_count": 2,
   "id": "0668e040-48a0-4c6b-8d15-28341cd8860c",
   "metadata": {},
   "outputs": [],
   "source": [
    "from typing import Optional"
   ]
  },
  {
   "cell_type": "code",
   "execution_count": 3,
   "id": "00af537c-db9c-450b-8140-c55e42fd84d1",
   "metadata": {},
   "outputs": [],
   "source": [
    "class Solution:\n",
    "    def countNodes(self, root: Optional[TreeNode]) -> int:\n",
    "        if root is None:\n",
    "            return 0\n",
    "        dl, dr = 0, 0\n",
    "        c = root\n",
    "        while c:\n",
    "            c = c.left\n",
    "            dl += 1\n",
    "        c = root\n",
    "        while c:\n",
    "            c = c.right\n",
    "            dr += 1\n",
    "        if dl == dr:\n",
    "            return 2 ** dl - 1\n",
    "        return 1 + self.countNodes(root.left) + self.countNodes(root.right)"
   ]
  },
  {
   "cell_type": "code",
   "execution_count": 8,
   "id": "56252fee-fd13-4079-8e60-655c89ab80ab",
   "metadata": {},
   "outputs": [],
   "source": [
    "sol = Solution()"
   ]
  },
  {
   "cell_type": "code",
   "execution_count": 19,
   "id": "5e424b6b-e8ba-4dd0-a675-033fb9143627",
   "metadata": {},
   "outputs": [],
   "source": [
    "from collections import deque\n",
    "\n",
    "null = None  # to use Leetcode samples as is\n",
    "\n",
    "def tree(values):\n",
    "    if not values:\n",
    "        return null\n",
    "    root = TreeNode(values[0])\n",
    "    queue = deque()\n",
    "    queue.append(root)\n",
    "    queue.append(None)\n",
    "    length = len(values)\n",
    "    i = 0\n",
    "    while queue:\n",
    "        current = queue.popleft()\n",
    "        if current:\n",
    "            i += 1\n",
    "            if i < length and values[i]:\n",
    "                current.left = TreeNode(values[i])\n",
    "                queue.append(current.left)\n",
    "            i += 1\n",
    "            if i < length and values[i]:\n",
    "                current.right = TreeNode(values[i])\n",
    "                queue.append(current.right)\n",
    "            if i == length:\n",
    "                return root\n",
    "        else:\n",
    "            if queue:\n",
    "                queue.append(None)\n",
    "    return root"
   ]
  },
  {
   "cell_type": "code",
   "execution_count": 20,
   "id": "2620ba6c-70f9-4db0-a995-771d366b733b",
   "metadata": {},
   "outputs": [],
   "source": [
    "assert sol.countNodes(tree([1,2,3,4,5,6])) == 6"
   ]
  },
  {
   "cell_type": "code",
   "execution_count": 21,
   "id": "3fb3cccf-9456-4353-ad5d-a03c85565fe7",
   "metadata": {},
   "outputs": [],
   "source": [
    "assert sol.countNodes(tree([])) == 0"
   ]
  },
  {
   "cell_type": "code",
   "execution_count": 22,
   "id": "4b18cc3b-03f0-4e99-9537-5b3a76fc9e91",
   "metadata": {},
   "outputs": [],
   "source": [
    "assert sol.countNodes(tree([1])) == 1"
   ]
  }
 ],
 "metadata": {
  "kernelspec": {
   "display_name": "Python 3 (ipykernel)",
   "language": "python",
   "name": "python3"
  },
  "language_info": {
   "codemirror_mode": {
    "name": "ipython",
    "version": 3
   },
   "file_extension": ".py",
   "mimetype": "text/x-python",
   "name": "python",
   "nbconvert_exporter": "python",
   "pygments_lexer": "ipython3",
   "version": "3.9.7"
  }
 },
 "nbformat": 4,
 "nbformat_minor": 5
}
