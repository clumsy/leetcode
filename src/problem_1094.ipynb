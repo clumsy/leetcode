{
 "cells": [
  {
   "cell_type": "markdown",
   "id": "7b88c2c3-377d-42cf-ba69-09b39ff474d4",
   "metadata": {},
   "source": [
    "[Problem 1094](https://leetcode.com/problems/car-pooling/description)"
   ]
  },
  {
   "cell_type": "code",
   "execution_count": 1,
   "id": "3006b146-afc5-4d50-95e8-379a2d5cbb7c",
   "metadata": {},
   "outputs": [],
   "source": [
    "from typing import List"
   ]
  },
  {
   "cell_type": "code",
   "execution_count": 2,
   "id": "dade17c3-7912-4f1f-ad4e-9a8150eaa2d7",
   "metadata": {},
   "outputs": [],
   "source": [
    "class Solution:\n",
    "    def carPooling(self, trips: List[List[int]], capacity: int) -> bool:\n",
    "        trips = sorted([t for trip in trips for t in [(trip[1], trip[0]), (trip[2], -trip[0])]])\n",
    "        res = True\n",
    "        for t in trips:\n",
    "            capacity -= t[1]\n",
    "            if capacity < 0:\n",
    "                res = False\n",
    "                break\n",
    "        return res"
   ]
  },
  {
   "cell_type": "code",
   "execution_count": 4,
   "id": "15731721-0bad-4fd7-ac93-1d9750cec725",
   "metadata": {},
   "outputs": [],
   "source": [
    "class Solution:\n",
    "    def carPooling(self, trips: List[List[int]], capacity: int) -> bool:\n",
    "        res, stops = True, {}\n",
    "        for t in trips:\n",
    "            stops[t[1]] = stops.get(t[1], 0) + t[0]\n",
    "            stops[t[2]] = stops.get(t[2], 0) - t[0]\n",
    "        for i in range(1001):\n",
    "            capacity -= stops.get(i, 0)\n",
    "            if capacity < 0:\n",
    "                res = False\n",
    "                break\n",
    "        return res"
   ]
  },
  {
   "cell_type": "code",
   "execution_count": 5,
   "id": "c0746155-ac2f-4166-ac3c-cf610b2fdb09",
   "metadata": {},
   "outputs": [],
   "source": [
    "sol = Solution()"
   ]
  },
  {
   "cell_type": "code",
   "execution_count": 8,
   "id": "acf20bd2-55e9-44a7-bc2d-e30f468d46e1",
   "metadata": {},
   "outputs": [],
   "source": [
    "assert not sol.carPooling([[2,1,5],[3,3,7]], 4)"
   ]
  },
  {
   "cell_type": "code",
   "execution_count": 9,
   "id": "1149ae4e-2613-46f1-968b-907f7d450b64",
   "metadata": {},
   "outputs": [],
   "source": [
    "assert sol.carPooling([[2,1,5],[3,3,7]], 5)"
   ]
  }
 ],
 "metadata": {
  "kernelspec": {
   "display_name": "Python 3 (ipykernel)",
   "language": "python",
   "name": "python3"
  },
  "language_info": {
   "codemirror_mode": {
    "name": "ipython",
    "version": 3
   },
   "file_extension": ".py",
   "mimetype": "text/x-python",
   "name": "python",
   "nbconvert_exporter": "python",
   "pygments_lexer": "ipython3",
   "version": "3.9.7"
  }
 },
 "nbformat": 4,
 "nbformat_minor": 5
}
