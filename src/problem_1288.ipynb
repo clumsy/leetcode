{
 "cells": [
  {
   "cell_type": "markdown",
   "id": "2c29167c-9fe2-4863-b759-01cb82f0c2f4",
   "metadata": {},
   "source": [
    "[Problem 1288](https://leetcode.com/problems/remove-covered-intervals/description)"
   ]
  },
  {
   "cell_type": "code",
   "execution_count": 1,
   "id": "1f67bad8-713e-46de-bd49-8b6ff7e94d37",
   "metadata": {},
   "outputs": [],
   "source": [
    "from typing import List"
   ]
  },
  {
   "cell_type": "code",
   "execution_count": 2,
   "id": "4fb3c7ea-46eb-418a-bd7a-78642cbd3543",
   "metadata": {},
   "outputs": [],
   "source": [
    "class Solution:\n",
    "    def removeCoveredIntervals(self, intervals: List[List[int]]) -> int:\n",
    "        intervals.sort(key=lambda x: (x[0], -x[1]))\n",
    "        res, top = len(intervals), 0\n",
    "        for _, ri in intervals:\n",
    "            if ri <= top:\n",
    "                res -= 1\n",
    "            else:\n",
    "                top = ri\n",
    "        return res"
   ]
  },
  {
   "cell_type": "code",
   "execution_count": 3,
   "id": "02095b48-4134-4683-b4e9-4f7f83679c20",
   "metadata": {},
   "outputs": [],
   "source": [
    "sol = Solution()"
   ]
  },
  {
   "cell_type": "code",
   "execution_count": 4,
   "id": "182ef9d0-171c-472f-9323-ff1e92f5950f",
   "metadata": {},
   "outputs": [],
   "source": [
    "assert sol.removeCoveredIntervals([[1,4],[3,6],[2,8]]) == 2"
   ]
  },
  {
   "cell_type": "code",
   "execution_count": 5,
   "id": "86c1d220-d645-4e87-9946-7c8efe2a06e4",
   "metadata": {},
   "outputs": [],
   "source": [
    "assert sol.removeCoveredIntervals([[1,4],[2,3]]) == 1"
   ]
  }
 ],
 "metadata": {
  "kernelspec": {
   "display_name": "Python 3 (ipykernel)",
   "language": "python",
   "name": "python3"
  },
  "language_info": {
   "codemirror_mode": {
    "name": "ipython",
    "version": 3
   },
   "file_extension": ".py",
   "mimetype": "text/x-python",
   "name": "python",
   "nbconvert_exporter": "python",
   "pygments_lexer": "ipython3",
   "version": "3.9.7"
  }
 },
 "nbformat": 4,
 "nbformat_minor": 5
}
