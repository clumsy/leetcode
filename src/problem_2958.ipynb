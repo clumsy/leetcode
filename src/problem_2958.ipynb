{
 "cells": [
  {
   "cell_type": "markdown",
   "id": "d00264c1-6758-4194-8e0e-c8eca1ce71a5",
   "metadata": {},
   "source": [
    "[Problem 2958](https://leetcode.com/problems/length-of-longest-subarray-with-at-most-k-frequency/description)"
   ]
  },
  {
   "cell_type": "code",
   "execution_count": 1,
   "id": "bb1be0cf-73bc-4e3f-b0fa-145e05bb75cd",
   "metadata": {},
   "outputs": [],
   "source": [
    "from typing import List\n",
    "from collections import Counter"
   ]
  },
  {
   "cell_type": "code",
   "execution_count": 2,
   "id": "1795b4f1-98f6-4a2f-ae70-848a4395a56c",
   "metadata": {},
   "outputs": [],
   "source": [
    "class Solution:\n",
    "    def maxSubarrayLength(self, nums: List[int], k: int) -> int:\n",
    "        res = cur = 0\n",
    "        cnt = Counter()\n",
    "        for i, e in enumerate(nums):\n",
    "            cnt[e] += 1\n",
    "            cur += 1\n",
    "            while cnt[e] > k:\n",
    "                cnt[nums[i - cur + 1]] -= 1\n",
    "                cur -= 1\n",
    "            res = max(res, cur)\n",
    "        return res"
   ]
  },
  {
   "cell_type": "code",
   "execution_count": 3,
   "id": "3bbb767c-a5c0-4228-9180-55b04286eb5b",
   "metadata": {},
   "outputs": [],
   "source": [
    "sol = Solution()"
   ]
  },
  {
   "cell_type": "code",
   "execution_count": 4,
   "id": "dae9e59f-3346-47eb-893e-6c430e979ef6",
   "metadata": {},
   "outputs": [],
   "source": [
    "assert sol.maxSubarrayLength([1,2,3,1,2,3,1,2], 2) == 6"
   ]
  },
  {
   "cell_type": "code",
   "execution_count": 5,
   "id": "e84855d3-840e-40b4-8ddf-f2db9894dbfc",
   "metadata": {},
   "outputs": [],
   "source": [
    "assert sol.maxSubarrayLength([1,2,1,2,1,2,1,2], 1) == 2"
   ]
  },
  {
   "cell_type": "code",
   "execution_count": 6,
   "id": "ff6f3540-32b9-41ea-86b3-a6b0270f90b7",
   "metadata": {},
   "outputs": [],
   "source": [
    "assert sol.maxSubarrayLength([5,5,5,5,5,5,5], 4) == 4"
   ]
  }
 ],
 "metadata": {
  "kernelspec": {
   "display_name": "Python 3 (ipykernel)",
   "language": "python",
   "name": "python3"
  },
  "language_info": {
   "codemirror_mode": {
    "name": "ipython",
    "version": 3
   },
   "file_extension": ".py",
   "mimetype": "text/x-python",
   "name": "python",
   "nbconvert_exporter": "python",
   "pygments_lexer": "ipython3",
   "version": "3.9.7"
  }
 },
 "nbformat": 4,
 "nbformat_minor": 5
}
