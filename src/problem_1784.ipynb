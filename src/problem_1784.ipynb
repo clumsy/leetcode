{
 "cells": [
  {
   "cell_type": "markdown",
   "id": "58b5b408-e785-4805-941a-20d9881e5b54",
   "metadata": {},
   "source": [
    "[Problem 1784](https://leetcode.com/problems/check-if-binary-string-has-at-most-one-segment-of-ones/description)"
   ]
  },
  {
   "cell_type": "code",
   "execution_count": 1,
   "id": "0ae59e49-6c54-4b86-84ac-9bca332d78a1",
   "metadata": {},
   "outputs": [],
   "source": [
    "class Solution:\n",
    "    def checkOnesSegment(self, s: str) -> bool:\n",
    "        res = \"01\" not in s\n",
    "        return res"
   ]
  },
  {
   "cell_type": "code",
   "execution_count": 2,
   "id": "3ceea256-60ab-4fe9-b586-22f50c48fbe5",
   "metadata": {},
   "outputs": [],
   "source": [
    "sol = Solution()"
   ]
  },
  {
   "cell_type": "code",
   "execution_count": 3,
   "id": "8576eb0d-3e31-4ceb-94f7-2734d12161eb",
   "metadata": {},
   "outputs": [],
   "source": [
    "assert not sol.checkOnesSegment(\"1001\")"
   ]
  },
  {
   "cell_type": "code",
   "execution_count": 4,
   "id": "5851ca5d-eb86-4579-8b1a-fda7227661e8",
   "metadata": {},
   "outputs": [],
   "source": [
    "assert sol.checkOnesSegment(\"110\")"
   ]
  }
 ],
 "metadata": {
  "kernelspec": {
   "display_name": "Python 3 (ipykernel)",
   "language": "python",
   "name": "python3"
  },
  "language_info": {
   "codemirror_mode": {
    "name": "ipython",
    "version": 3
   },
   "file_extension": ".py",
   "mimetype": "text/x-python",
   "name": "python",
   "nbconvert_exporter": "python",
   "pygments_lexer": "ipython3",
   "version": "3.9.7"
  }
 },
 "nbformat": 4,
 "nbformat_minor": 5
}
