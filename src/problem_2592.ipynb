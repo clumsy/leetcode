{
 "cells": [
  {
   "cell_type": "markdown",
   "id": "775cf4db-769e-4686-b479-ee8b59418f9a",
   "metadata": {},
   "source": [
    "[Problem 2592](https://leetcode.com/problems/maximize-greatness-of-an-array/description)"
   ]
  },
  {
   "cell_type": "code",
   "execution_count": 1,
   "id": "da2e4b80-8bb8-480d-bbc2-57907d705276",
   "metadata": {},
   "outputs": [],
   "source": [
    "from typing import List"
   ]
  },
  {
   "cell_type": "code",
   "execution_count": 2,
   "id": "27b63301-f46e-41c9-8c89-0672c5931b92",
   "metadata": {},
   "outputs": [],
   "source": [
    "class Solution:\n",
    "    def maximizeGreatness(self, nums: List[int]) -> int:\n",
    "        nums.sort()\n",
    "        res = 0\n",
    "        for i in nums:\n",
    "            if i > nums[res]:\n",
    "                res += 1\n",
    "        return res"
   ]
  },
  {
   "cell_type": "code",
   "execution_count": 3,
   "id": "a33dd6ea-0b23-4de9-b29a-2728c0c0d55f",
   "metadata": {},
   "outputs": [],
   "source": [
    "sol = Solution()"
   ]
  },
  {
   "cell_type": "code",
   "execution_count": 4,
   "id": "cdc35371-d726-4023-af92-43bb744af7d3",
   "metadata": {},
   "outputs": [],
   "source": [
    "assert sol.maximizeGreatness([1,3,5,2,1,3,1]) == 4"
   ]
  },
  {
   "cell_type": "code",
   "execution_count": 5,
   "id": "92df9c66-04da-4a34-8917-1826d0592d40",
   "metadata": {},
   "outputs": [],
   "source": [
    "assert sol.maximizeGreatness([1,2,3,4]) == 3"
   ]
  }
 ],
 "metadata": {
  "kernelspec": {
   "display_name": "Python 3 (ipykernel)",
   "language": "python",
   "name": "python3"
  },
  "language_info": {
   "codemirror_mode": {
    "name": "ipython",
    "version": 3
   },
   "file_extension": ".py",
   "mimetype": "text/x-python",
   "name": "python",
   "nbconvert_exporter": "python",
   "pygments_lexer": "ipython3",
   "version": "3.9.7"
  }
 },
 "nbformat": 4,
 "nbformat_minor": 5
}
