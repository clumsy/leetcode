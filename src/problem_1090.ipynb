{
 "cells": [
  {
   "cell_type": "markdown",
   "id": "01d26af9-4d1f-4df0-8bea-d108de9b368d",
   "metadata": {},
   "source": [
    "[Problem 1090](https://leetcode.com/problems/largest-values-from-labels/description)"
   ]
  },
  {
   "cell_type": "code",
   "execution_count": 1,
   "id": "14698547-5a62-4e34-8f4b-e2879a4e9b58",
   "metadata": {},
   "outputs": [],
   "source": [
    "from typing import List\n",
    "from collections import Counter"
   ]
  },
  {
   "cell_type": "code",
   "execution_count": 2,
   "id": "e8e1ae04-8375-4506-9054-350941b10a3c",
   "metadata": {},
   "outputs": [],
   "source": [
    "class Solution:\n",
    "    def largestValsFromLabels(self, values: List[int], labels: List[int], numWanted: int, useLimit: int) -> int:\n",
    "        pairs = sorted(zip(values, labels), reverse=True)\n",
    "        res, cnt = 0, Counter()\n",
    "        for v, l in pairs:\n",
    "            if not numWanted:\n",
    "                break\n",
    "            if cnt[l] < useLimit:\n",
    "                cnt[l] += 1\n",
    "                res += v\n",
    "                numWanted -= 1\n",
    "        return res"
   ]
  },
  {
   "cell_type": "code",
   "execution_count": 3,
   "id": "423806b1-7811-4586-b41f-bb0f8ac2a6b4",
   "metadata": {},
   "outputs": [],
   "source": [
    "sol = Solution()"
   ]
  },
  {
   "cell_type": "code",
   "execution_count": 4,
   "id": "98cd3b66-5a47-4f01-b2f4-11fe64aa8994",
   "metadata": {},
   "outputs": [],
   "source": [
    "assert sol.largestValsFromLabels([5,4,3,2,1], [1,1,2,2,3], 3, 1) == 9"
   ]
  },
  {
   "cell_type": "code",
   "execution_count": 5,
   "id": "96970478-5f92-4ce7-8831-811e77a46b16",
   "metadata": {},
   "outputs": [],
   "source": [
    "assert sol.largestValsFromLabels([5,4,3,2,1], [1,3,3,3,2], 3, 2) == 12"
   ]
  },
  {
   "cell_type": "code",
   "execution_count": 6,
   "id": "4ae13d9a-2f28-42e5-9f16-a5f8422bef59",
   "metadata": {},
   "outputs": [],
   "source": [
    "assert sol.largestValsFromLabels([9,8,8,7,6], [0,0,0,1,1], 3, 1) == 16"
   ]
  }
 ],
 "metadata": {
  "kernelspec": {
   "display_name": "Python 3 (ipykernel)",
   "language": "python",
   "name": "python3"
  },
  "language_info": {
   "codemirror_mode": {
    "name": "ipython",
    "version": 3
   },
   "file_extension": ".py",
   "mimetype": "text/x-python",
   "name": "python",
   "nbconvert_exporter": "python",
   "pygments_lexer": "ipython3",
   "version": "3.9.7"
  }
 },
 "nbformat": 4,
 "nbformat_minor": 5
}
