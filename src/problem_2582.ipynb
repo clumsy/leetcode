{
 "cells": [
  {
   "cell_type": "markdown",
   "id": "1e9441c1-5386-4008-bf7a-ddb6365cda9a",
   "metadata": {},
   "source": [
    "[Problem 2582](https://leetcode.com/problems/pass-the-pillow/description)"
   ]
  },
  {
   "cell_type": "code",
   "execution_count": 1,
   "id": "b2a232a0-9f8e-470c-9803-649577ef5ec6",
   "metadata": {},
   "outputs": [],
   "source": [
    "class Solution:\n",
    "    def passThePillow(self, n: int, time: int) -> int:\n",
    "        d, r = divmod(time, n - 1)\n",
    "        res = r + 1 if d & 1 == 0 else n - r\n",
    "        return res"
   ]
  },
  {
   "cell_type": "code",
   "execution_count": 2,
   "id": "17dc7d38-2570-4943-ac54-a0058339d574",
   "metadata": {},
   "outputs": [],
   "source": [
    "sol = Solution()"
   ]
  },
  {
   "cell_type": "code",
   "execution_count": 3,
   "id": "56735801-9e6b-41b2-a36c-ee02399f646c",
   "metadata": {},
   "outputs": [],
   "source": [
    "assert sol.passThePillow(4, 5) == 2"
   ]
  },
  {
   "cell_type": "code",
   "execution_count": 4,
   "id": "e83e1c47-1a34-4756-954f-436bbfa50eb6",
   "metadata": {},
   "outputs": [],
   "source": [
    "assert sol.passThePillow(3, 2) == 3"
   ]
  }
 ],
 "metadata": {
  "kernelspec": {
   "display_name": "Python 3 (ipykernel)",
   "language": "python",
   "name": "python3"
  },
  "language_info": {
   "codemirror_mode": {
    "name": "ipython",
    "version": 3
   },
   "file_extension": ".py",
   "mimetype": "text/x-python",
   "name": "python",
   "nbconvert_exporter": "python",
   "pygments_lexer": "ipython3",
   "version": "3.9.7"
  }
 },
 "nbformat": 4,
 "nbformat_minor": 5
}
