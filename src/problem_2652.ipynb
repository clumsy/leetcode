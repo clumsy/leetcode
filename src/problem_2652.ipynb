{
 "cells": [
  {
   "cell_type": "markdown",
   "id": "1d64fafe-a7c7-4b3d-b016-4a066c2b0cd1",
   "metadata": {},
   "source": [
    "[Problem 2652](https://leetcode.com/problems/sum-multiples/description)"
   ]
  },
  {
   "cell_type": "code",
   "execution_count": 1,
   "id": "a1e5d499-77de-44a7-973f-29b86c0adb25",
   "metadata": {},
   "outputs": [],
   "source": [
    "class Solution:\n",
    "    def sumOfMultiples(self, n: int) -> int:\n",
    "        res = 0\n",
    "        for i in range(1, n + 1):\n",
    "            if i % 3 == 0 or i % 5 == 0 or i % 7 == 0:\n",
    "                res += i\n",
    "        return res"
   ]
  },
  {
   "cell_type": "code",
   "execution_count": 2,
   "id": "27edbaa3-0dfd-48b5-884d-4ce499732699",
   "metadata": {},
   "outputs": [],
   "source": [
    "class Solution:\n",
    "    def sumOfMultiples(self, n: int) -> int:\n",
    "        res = 0\n",
    "        res += 3 * ((1 + (n // 3)) * (n // 3)) // 2 if n >= 3 else 0  # 3s\n",
    "        res += 5 * ((1 + (n // 5)) * (n // 5)) // 2 if n >= 5 else 0  # 5s\n",
    "        res += 7 * ((1 + (n // 7)) * (n // 7)) // 2 if n >= 7 else 0  # 7s\n",
    "        res -= 5 * 3 * ((1 + (n // (5 * 3))) * (n // (5 * 3))) // 2 if n >= 5 * 3 else 0  # double counted (5 * 3)s\n",
    "        \n",
    "        res -= 7 * 5 * ((1 + (n // (7 * 5))) * (n // (7 * 5))) // 2 if n >= 7 * 5 else 0  # double-counted (7 * 5)s\n",
    "        res -= 7 * 3 * ((1 + (n // (7 * 3))) * (n // (7 * 3))) // 2 if n >= 7 * 3 else 0  # double-counted (7 * 3)s\n",
    "        res += 7 * 5 * 3 * ((1 + (n // (7 * 5 * 3))) * (n // (7 * 5 * 3))) // 2 if n >= 7 * 5 * 3 else 0  # triple-counted (7 * 5 * 3)s\n",
    "        return res"
   ]
  },
  {
   "cell_type": "code",
   "execution_count": 3,
   "id": "d1634983-d83d-45a8-9145-33cd691ea0ba",
   "metadata": {},
   "outputs": [],
   "source": [
    "sol = Solution()"
   ]
  },
  {
   "cell_type": "code",
   "execution_count": 4,
   "id": "ba9c7547-a604-430f-ac88-547bbfbed7e7",
   "metadata": {},
   "outputs": [],
   "source": [
    "assert sol.sumOfMultiples(7) == 21"
   ]
  },
  {
   "cell_type": "code",
   "execution_count": 5,
   "id": "00a1377c-58a0-4ebb-8ad3-e5f18b6a3c43",
   "metadata": {},
   "outputs": [],
   "source": [
    "assert sol.sumOfMultiples(10) == 40"
   ]
  },
  {
   "cell_type": "code",
   "execution_count": 6,
   "id": "9f0b429e-0106-42f9-adc6-6b9e0ccd73ed",
   "metadata": {},
   "outputs": [],
   "source": [
    "assert sol.sumOfMultiples(9) == 30"
   ]
  }
 ],
 "metadata": {
  "kernelspec": {
   "display_name": "Python 3 (ipykernel)",
   "language": "python",
   "name": "python3"
  },
  "language_info": {
   "codemirror_mode": {
    "name": "ipython",
    "version": 3
   },
   "file_extension": ".py",
   "mimetype": "text/x-python",
   "name": "python",
   "nbconvert_exporter": "python",
   "pygments_lexer": "ipython3",
   "version": "3.9.7"
  }
 },
 "nbformat": 4,
 "nbformat_minor": 5
}
