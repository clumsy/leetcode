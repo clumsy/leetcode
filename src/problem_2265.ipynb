{
 "cells": [
  {
   "cell_type": "markdown",
   "id": "df77349b-6545-4a09-9521-720a8c7c8894",
   "metadata": {},
   "source": [
    "[Problem 2265](https://leetcode.com/problems/count-nodes-equal-to-average-of-subtree)"
   ]
  },
  {
   "cell_type": "code",
   "execution_count": 7,
   "id": "56728fc9-9ba4-4c6b-ac82-6f4e3d1e15d4",
   "metadata": {},
   "outputs": [],
   "source": [
    "from typing import Optional"
   ]
  },
  {
   "cell_type": "code",
   "execution_count": 8,
   "id": "c2be4048-d507-412b-8db1-176785081ad6",
   "metadata": {},
   "outputs": [],
   "source": [
    "# Definition for a binary tree node.\n",
    "class TreeNode:\n",
    "    def __init__(self, val=0, left=None, right=None):\n",
    "        self.val = val\n",
    "        self.left = left\n",
    "        self.right = right"
   ]
  },
  {
   "cell_type": "code",
   "execution_count": 9,
   "id": "93a5b859-0603-4d21-a2fa-ad00f3b7c113",
   "metadata": {},
   "outputs": [],
   "source": [
    "class Solution:\n",
    "    def averageOfSubtree(self, root: Optional[TreeNode]) -> int:\n",
    "        _, _, count = self._averageOfSubtree(root)\n",
    "        return count\n",
    "    \n",
    "    def _averageOfSubtree(self, root: Optional[TreeNode]) -> int:\n",
    "        if not root:\n",
    "            return 0, 0, 0\n",
    "        le, cnt_le, res_le = self._averageOfSubtree(root.left)\n",
    "        ri, cnt_ri, res_ri = self._averageOfSubtree(root.right)\n",
    "        ttl, cnt, res = root.val + le + ri, cnt_le + cnt_ri + 1, res_le + res_ri\n",
    "        if cnt > 0 and root.val == ttl//cnt:\n",
    "            res += 1\n",
    "        return ttl, cnt, res"
   ]
  },
  {
   "cell_type": "code",
   "execution_count": 10,
   "id": "29faebb4-dccb-435b-9f08-dbdafd2ff629",
   "metadata": {},
   "outputs": [],
   "source": [
    "sol = Solution()"
   ]
  }
 ],
 "metadata": {
  "kernelspec": {
   "display_name": "Python 3 (ipykernel)",
   "language": "python",
   "name": "python3"
  },
  "language_info": {
   "codemirror_mode": {
    "name": "ipython",
    "version": 3
   },
   "file_extension": ".py",
   "mimetype": "text/x-python",
   "name": "python",
   "nbconvert_exporter": "python",
   "pygments_lexer": "ipython3",
   "version": "3.9.7"
  }
 },
 "nbformat": 4,
 "nbformat_minor": 5
}
