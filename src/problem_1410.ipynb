{
 "cells": [
  {
   "cell_type": "markdown",
   "id": "072265e0-7ea0-4246-8129-0530484ac6a9",
   "metadata": {},
   "source": [
    "[Problem 1410](https://leetcode.com/problems/html-entity-parser/description)"
   ]
  },
  {
   "cell_type": "code",
   "execution_count": 1,
   "id": "64c0afb9-18f9-463e-91ca-a18dabd6178b",
   "metadata": {},
   "outputs": [],
   "source": [
    "class Solution:\n",
    "    def entityParser(self, text: str) -> str:\n",
    "        o, e, chunks = 0, -1, []\n",
    "        m = {\n",
    "            \"&quot;\": \"\\\"\",\n",
    "            \"&apos;\": \"'\",\n",
    "            \"&amp;\": \"&\",\n",
    "            \"&gt;\": \">\",\n",
    "            \"&lt;\": \"<\",\n",
    "            \"&frasl;\": \"/\",\n",
    "        }\n",
    "        while True:\n",
    "            e = text.find(\";\", e + 1)\n",
    "            if e == -1:\n",
    "                chunks.append(text[o:])\n",
    "                break\n",
    "            s = e\n",
    "            while s >= o and text[s] != \"&\":\n",
    "                s -= 1\n",
    "            chunks.append(text[o:s])\n",
    "            if s >= o:\n",
    "                chunk = text[s:e + 1]\n",
    "                chunks.append(m.get(chunk, chunk))\n",
    "            else:\n",
    "                chunks.append(text[o:e + 1])\n",
    "            o = e = e + 1\n",
    "        res = \"\".join(chunks)\n",
    "        return res"
   ]
  },
  {
   "cell_type": "code",
   "execution_count": 2,
   "id": "4e231abc-a626-44f1-922f-afedc93e9aef",
   "metadata": {},
   "outputs": [],
   "source": [
    "sol = Solution()"
   ]
  },
  {
   "cell_type": "code",
   "execution_count": 3,
   "id": "268b246e-54a2-4e57-a948-c06f06e90f25",
   "metadata": {},
   "outputs": [],
   "source": [
    "assert sol.entityParser(\"&amp; is an HTML entity but &ambassador; is not.\") == \"& is an HTML entity but &ambassador; is not.\""
   ]
  },
  {
   "cell_type": "code",
   "execution_count": 4,
   "id": "b6d4779a-9fc0-4239-bd1c-a3420b07eb61",
   "metadata": {},
   "outputs": [],
   "source": [
    "assert sol.entityParser(\"and I quote: &quot;...&quot;\") == \"and I quote: \\\"...\\\"\""
   ]
  }
 ],
 "metadata": {
  "kernelspec": {
   "display_name": "Python 3 (ipykernel)",
   "language": "python",
   "name": "python3"
  },
  "language_info": {
   "codemirror_mode": {
    "name": "ipython",
    "version": 3
   },
   "file_extension": ".py",
   "mimetype": "text/x-python",
   "name": "python",
   "nbconvert_exporter": "python",
   "pygments_lexer": "ipython3",
   "version": "3.9.7"
  }
 },
 "nbformat": 4,
 "nbformat_minor": 5
}
