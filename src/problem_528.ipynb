{
 "cells": [
  {
   "cell_type": "markdown",
   "id": "b8697ab9-2425-487e-8fe4-d19c4d628f09",
   "metadata": {},
   "source": [
    "[Problem 528](https://leetcode.com/problems/random-pick-with-weight/)"
   ]
  },
  {
   "cell_type": "code",
   "execution_count": 5,
   "id": "60210ebb-f8b8-4ff0-943c-1fc0209bf923",
   "metadata": {},
   "outputs": [],
   "source": [
    "from typing import List\n",
    "from bisect import bisect_left\n",
    "from random import Random"
   ]
  },
  {
   "cell_type": "code",
   "execution_count": 6,
   "id": "7b3b5126-fccd-453f-9a11-af5c243ede23",
   "metadata": {},
   "outputs": [],
   "source": [
    "class Solution:\n",
    "    def __init__(self, w: List[int]):\n",
    "        for i in range(1, len(w)):\n",
    "            w[i] += w[i - 1]\n",
    "        self.w = w\n",
    "        self.r = Random()\n",
    "\n",
    "    def pickIndex(self) -> int:\n",
    "        i = self.r.randint(1, self.w[-1])\n",
    "        return bisect_left(self.w, i)"
   ]
  },
  {
   "cell_type": "code",
   "execution_count": 7,
   "id": "4d3e37f2-a593-4849-84ad-d5343d0b6437",
   "metadata": {},
   "outputs": [],
   "source": [
    "sol = Solution([1])\n",
    "assert sol.pickIndex() == 0"
   ]
  },
  {
   "cell_type": "code",
   "execution_count": 23,
   "id": "b4cb1a3b-614f-4553-b7ae-55cc6129818c",
   "metadata": {},
   "outputs": [],
   "source": [
    "sol = Solution([1,3])\n",
    "assert sorted(sol.pickIndex() for _ in range(4)) == [0,1,1,1]"
   ]
  }
 ],
 "metadata": {
  "kernelspec": {
   "display_name": "Python 3 (ipykernel)",
   "language": "python",
   "name": "python3"
  },
  "language_info": {
   "codemirror_mode": {
    "name": "ipython",
    "version": 3
   },
   "file_extension": ".py",
   "mimetype": "text/x-python",
   "name": "python",
   "nbconvert_exporter": "python",
   "pygments_lexer": "ipython3",
   "version": "3.9.7"
  }
 },
 "nbformat": 4,
 "nbformat_minor": 5
}
