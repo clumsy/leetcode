{
 "cells": [
  {
   "cell_type": "markdown",
   "id": "96eace6f-78ba-43aa-849c-80bb23e75088",
   "metadata": {},
   "source": [
    "[Problem 2224](https://leetcode.com/problems/minimum-number-of-operations-to-convert-time/description)"
   ]
  },
  {
   "cell_type": "code",
   "execution_count": 1,
   "id": "73643d0e-c049-4dfb-9988-1e0f78dcf937",
   "metadata": {},
   "outputs": [],
   "source": [
    "class Solution:\n",
    "    def convertTime(self, current: str, correct: str) -> int:\n",
    "        def to_mins(s):\n",
    "            h, m = (int(c[c[0] == \"0\":]) for c in s.split(\":\"))\n",
    "            return 60 * h + m\n",
    "\n",
    "        cur_mins, cor_mins = sorted((to_mins(current), to_mins(correct)))\n",
    "        day = 23 * 60 + 59\n",
    "        delta = cor_mins - cur_mins\n",
    "        op60, delta = divmod(delta, 60)\n",
    "        op15, delta = divmod(delta, 15)\n",
    "        op5, delta = divmod(delta, 5)\n",
    "        res = op60 + op15 + op5 + delta\n",
    "        return res"
   ]
  },
  {
   "cell_type": "code",
   "execution_count": 2,
   "id": "c0b8b68c-d73b-48f3-bd7c-919d2d837e65",
   "metadata": {},
   "outputs": [],
   "source": [
    "sol = Solution()"
   ]
  },
  {
   "cell_type": "code",
   "execution_count": 3,
   "id": "3d84f5a3-665b-4e92-b4a0-8cea26e79422",
   "metadata": {},
   "outputs": [],
   "source": [
    "assert sol.convertTime(\"02:30\", \"04:35\") == 3"
   ]
  },
  {
   "cell_type": "code",
   "execution_count": 4,
   "id": "21d52659-1e23-4ef2-ace1-138a7563d71a",
   "metadata": {},
   "outputs": [],
   "source": [
    "assert sol.convertTime(\"11:00\", \"11:01\") == 1"
   ]
  }
 ],
 "metadata": {
  "kernelspec": {
   "display_name": "Python 3 (ipykernel)",
   "language": "python",
   "name": "python3"
  },
  "language_info": {
   "codemirror_mode": {
    "name": "ipython",
    "version": 3
   },
   "file_extension": ".py",
   "mimetype": "text/x-python",
   "name": "python",
   "nbconvert_exporter": "python",
   "pygments_lexer": "ipython3",
   "version": "3.9.7"
  }
 },
 "nbformat": 4,
 "nbformat_minor": 5
}
