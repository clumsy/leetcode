{
 "cells": [
  {
   "cell_type": "markdown",
   "id": "e1cae196-988b-4e66-b00f-ab10a129de49",
   "metadata": {},
   "source": [
    "[Problem 3005](https://leetcode.com/problems/count-elements-with-maximum-frequency/description)"
   ]
  },
  {
   "cell_type": "code",
   "execution_count": 2,
   "id": "0a05c36d-61b5-4ee5-a145-f78382ff4101",
   "metadata": {},
   "outputs": [],
   "source": [
    "from typing import List\n",
    "from collections import Counter"
   ]
  },
  {
   "cell_type": "code",
   "execution_count": 3,
   "id": "70222ed6-568b-410d-9aa3-f3b009b3ddf7",
   "metadata": {},
   "outputs": [],
   "source": [
    "class Solution:\n",
    "    def maxFrequencyElements(self, nums: List[int]) -> int:\n",
    "        cnt = Counter(nums)\n",
    "        ma = num = 0\n",
    "        for v in cnt.values():\n",
    "            if v > ma:\n",
    "                ma, num = v, 0\n",
    "            num += v == ma\n",
    "        res = ma * num\n",
    "        return res"
   ]
  },
  {
   "cell_type": "code",
   "execution_count": 4,
   "id": "058661ad-49b4-46d3-9763-1c56c1018841",
   "metadata": {},
   "outputs": [],
   "source": [
    "sol = Solution()"
   ]
  },
  {
   "cell_type": "code",
   "execution_count": 5,
   "id": "6363db77-d651-474d-ae92-4c251c614cd1",
   "metadata": {},
   "outputs": [],
   "source": [
    "assert sol.maxFrequencyElements([1,2,2,3,1,4]) == 4"
   ]
  },
  {
   "cell_type": "code",
   "execution_count": 6,
   "id": "166012af-6c0a-49a7-95d9-a15e17f0f52b",
   "metadata": {},
   "outputs": [],
   "source": [
    "assert sol.maxFrequencyElements([1,2,3,4,5]) == 5"
   ]
  }
 ],
 "metadata": {
  "kernelspec": {
   "display_name": "Python 3 (ipykernel)",
   "language": "python",
   "name": "python3"
  },
  "language_info": {
   "codemirror_mode": {
    "name": "ipython",
    "version": 3
   },
   "file_extension": ".py",
   "mimetype": "text/x-python",
   "name": "python",
   "nbconvert_exporter": "python",
   "pygments_lexer": "ipython3",
   "version": "3.9.7"
  }
 },
 "nbformat": 4,
 "nbformat_minor": 5
}
