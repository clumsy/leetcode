{
 "cells": [
  {
   "cell_type": "markdown",
   "id": "362ef635-bb1e-424a-a8b9-0748b918db25",
   "metadata": {},
   "source": [
    "[Problem 2316]()"
   ]
  },
  {
   "cell_type": "code",
   "execution_count": null,
   "id": "769ed8bf-a66d-4be1-91de-a66bebcede3c",
   "metadata": {},
   "outputs": [],
   "source": [
    "from typing import List"
   ]
  },
  {
   "cell_type": "code",
   "execution_count": null,
   "id": "047148bf-ecec-49ef-a17f-f988fc2ff5a1",
   "metadata": {},
   "outputs": [],
   "source": [
    "class Solution:\n",
    "    def countPairs(self, n: int, edges: List[List[int]]) -> int:\n",
    "        class UnionFind:\n",
    "            def __init__(self, n):\n",
    "                self.prnt = list(range(n))\n",
    "                self.size = [1] * n\n",
    "            \n",
    "            def find(self, i):\n",
    "                if i != self.prnt[i]:\n",
    "                    self.prnt[i] = self.find(self.prnt[i])\n",
    "                return self.prnt[i]\n",
    "            \n",
    "            def union(self, i, j):\n",
    "                pi, pj = self.find(i), self.find(j)\n",
    "                if pi != pj:\n",
    "                    if self.size[pi] < self.size[pj]:\n",
    "                        pi, pj = pj, pi\n",
    "                    self.prnt[pj] = pi\n",
    "                    self.size[pi] += self.size[pj]\n",
    "\n",
    "        uf = UnionFind(n)\n",
    "        for f, t in edges:\n",
    "            uf.union(f, t)\n",
    "\n",
    "        res = sum(n - uf.size[uf.find(i)] for i in range(n)) // 2  # we counted each pair twice\n",
    "        return res"
   ]
  },
  {
   "cell_type": "code",
   "execution_count": null,
   "id": "fb2b53c6-c2f9-4585-8cfb-5fb900915e34",
   "metadata": {},
   "outputs": [],
   "source": [
    "sol = Solution()"
   ]
  },
  {
   "cell_type": "code",
   "execution_count": null,
   "id": "0653cb3f-1470-48ca-a7f6-b1d7fdf9f947",
   "metadata": {},
   "outputs": [],
   "source": [
    "assert sol.countPairs(3, [[0,1],[0,2],[1,2]]) == 0"
   ]
  },
  {
   "cell_type": "code",
   "execution_count": null,
   "id": "0bc9fe09-b0fa-456b-b3c7-b61d9d58f600",
   "metadata": {},
   "outputs": [],
   "source": [
    "assert sol.countPairs(7, [[0,2],[0,5],[2,4],[1,6],[5,4]]) == 14"
   ]
  }
 ],
 "metadata": {
  "kernelspec": {
   "display_name": "Python 3 (ipykernel)",
   "language": "python",
   "name": "python3"
  },
  "language_info": {
   "codemirror_mode": {
    "name": "ipython",
    "version": 3
   },
   "file_extension": ".py",
   "mimetype": "text/x-python",
   "name": "python",
   "nbconvert_exporter": "python",
   "pygments_lexer": "ipython3",
   "version": "3.9.7"
  }
 },
 "nbformat": 4,
 "nbformat_minor": 5
}
