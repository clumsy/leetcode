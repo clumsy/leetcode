{
 "cells": [
  {
   "cell_type": "markdown",
   "id": "53cb0cc4-ec3b-43c7-b133-cee178cbb46a",
   "metadata": {},
   "source": [
    "[Problem 1854](https://leetcode.com/problems/maximum-population-year/description)"
   ]
  },
  {
   "cell_type": "code",
   "execution_count": 1,
   "id": "9ff0e0a4-dbb8-4a3e-a884-07a053f6463f",
   "metadata": {},
   "outputs": [],
   "source": [
    "from typing import List"
   ]
  },
  {
   "cell_type": "code",
   "execution_count": 2,
   "id": "12c63225-5e52-47b7-bae6-5561fa6f9ddf",
   "metadata": {},
   "outputs": [],
   "source": [
    "class Solution:\n",
    "    def maximumPopulation(self, logs: List[List[int]]) -> int:\n",
    "        year, offset = [0] * 101, 1950\n",
    "        for b, d in logs:\n",
    "            year[b - offset] += 1\n",
    "            year[d - offset] -= 1\n",
    "        res = 0\n",
    "        for i in range(1, len(year)):\n",
    "            year[i] += year[i - 1]\n",
    "            if year[i] > year[res]:\n",
    "                res = i\n",
    "        res += offset\n",
    "        return res"
   ]
  },
  {
   "cell_type": "code",
   "execution_count": 3,
   "id": "97c8d9de-1a72-48cf-83bc-5af39f3649dd",
   "metadata": {},
   "outputs": [],
   "source": [
    "sol = Solution()"
   ]
  },
  {
   "cell_type": "code",
   "execution_count": 4,
   "id": "ac6b8192-e776-440a-bc63-0039211cc2ab",
   "metadata": {},
   "outputs": [],
   "source": [
    "assert sol.maximumPopulation([[1993,1999],[2000,2010]]) == 1993"
   ]
  },
  {
   "cell_type": "code",
   "execution_count": 5,
   "id": "9d006460-4606-4527-be28-41579a0f0326",
   "metadata": {},
   "outputs": [],
   "source": [
    "assert sol.maximumPopulation([[1950,1961],[1960,1971],[1970,1981]]) == 1960"
   ]
  }
 ],
 "metadata": {
  "kernelspec": {
   "display_name": "Python 3 (ipykernel)",
   "language": "python",
   "name": "python3"
  },
  "language_info": {
   "codemirror_mode": {
    "name": "ipython",
    "version": 3
   },
   "file_extension": ".py",
   "mimetype": "text/x-python",
   "name": "python",
   "nbconvert_exporter": "python",
   "pygments_lexer": "ipython3",
   "version": "3.9.7"
  }
 },
 "nbformat": 4,
 "nbformat_minor": 5
}
