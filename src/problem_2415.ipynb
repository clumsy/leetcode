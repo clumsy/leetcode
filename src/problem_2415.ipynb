{
 "cells": [
  {
   "cell_type": "markdown",
   "id": "3126d12f-f44d-4efc-b62e-8cdd646d2436",
   "metadata": {},
   "source": [
    "[Problem 2415](https://leetcode.com/problems/reverse-odd-levels-of-binary-tree/description)"
   ]
  },
  {
   "cell_type": "code",
   "execution_count": 1,
   "id": "36723fc9-2b99-4847-9805-31af9d0db3c2",
   "metadata": {},
   "outputs": [],
   "source": [
    "# Definition for a binary tree node.\n",
    "class TreeNode:\n",
    "    def __init__(self, val=0, left=None, right=None):\n",
    "        self.val = val\n",
    "        self.left = left\n",
    "        self.right = right\n",
    "\n",
    "    def __eq__(self, other):\n",
    "        return other and self.val == other.val and self.left == other.left and self.right == other.right"
   ]
  },
  {
   "cell_type": "code",
   "execution_count": 2,
   "id": "5ec4ec6f-d27d-4e3f-a9a3-887a4d03d900",
   "metadata": {},
   "outputs": [],
   "source": [
    "from typing import Optional"
   ]
  },
  {
   "cell_type": "code",
   "execution_count": 3,
   "id": "a299faf4-fd59-4875-9ddc-f4d7ea165997",
   "metadata": {},
   "outputs": [],
   "source": [
    "class Solution:\n",
    "    def reverseOddLevels(self, root: Optional[TreeNode]) -> Optional[TreeNode]:\n",
    "        res, l, st = root, 0, deque([root])\n",
    "        while st:\n",
    "            n = len(st)\n",
    "            if l & 1 == 1:\n",
    "                for i in range(n // 2):\n",
    "                    st[i].val, st[n - 1 - i].val = st[n - 1 - i].val, st[i].val\n",
    "            for i in range(n):\n",
    "                node = st.pop()\n",
    "                if node.left:\n",
    "                    st.appendleft(node.left)\n",
    "                    st.appendleft(node.right)\n",
    "            l += 1\n",
    "        return res"
   ]
  },
  {
   "cell_type": "code",
   "execution_count": 4,
   "id": "b36283a2-84d6-4b67-b428-0258917f837d",
   "metadata": {},
   "outputs": [],
   "source": [
    "sol = Solution()"
   ]
  },
  {
   "cell_type": "code",
   "execution_count": 5,
   "id": "9d7a2946-e30a-407c-b16b-2211ff451ad6",
   "metadata": {},
   "outputs": [],
   "source": [
    "from collections import deque\n",
    "\n",
    "null = None  # to use Leetcode samples as is\n",
    "\n",
    "def tree(values):\n",
    "    if not values:\n",
    "        return null\n",
    "    root = TreeNode(values[0])\n",
    "    queue = deque()\n",
    "    queue.append(root)\n",
    "    queue.append(None)\n",
    "    length = len(values)\n",
    "    i = 0\n",
    "    while queue:\n",
    "        current = queue.popleft()\n",
    "        if current:\n",
    "            i += 1\n",
    "            if i < length and values[i]:\n",
    "                current.left = TreeNode(values[i])\n",
    "                queue.append(current.left)\n",
    "            i += 1\n",
    "            if i < length and values[i]:\n",
    "                current.right = TreeNode(values[i])\n",
    "                queue.append(current.right)\n",
    "            if i == length:\n",
    "                return root\n",
    "        else:\n",
    "            if queue:\n",
    "                queue.append(None)\n",
    "    return root"
   ]
  },
  {
   "cell_type": "code",
   "execution_count": 6,
   "id": "b68ca60a-68f2-40ea-ac61-67201a04a283",
   "metadata": {},
   "outputs": [],
   "source": [
    "assert sol.reverseOddLevels(tree([2,3,5,8,13,21,34])) == tree([2,5,3,8,13,21,34])"
   ]
  },
  {
   "cell_type": "code",
   "execution_count": 7,
   "id": "9c9b10b8-63f5-4b98-b127-00992fbe6349",
   "metadata": {},
   "outputs": [],
   "source": [
    "assert sol.reverseOddLevels(tree([7,13,11])) == tree([7,11,13])"
   ]
  },
  {
   "cell_type": "code",
   "execution_count": 8,
   "id": "c565dcad-1948-4da3-91cb-9fea1311ea31",
   "metadata": {},
   "outputs": [],
   "source": [
    "assert sol.reverseOddLevels(tree([0,1,2,0,0,0,0,1,1,1,1,2,2,2,2])) == tree([0,2,1,0,0,0,0,2,2,2,2,1,1,1,1])"
   ]
  }
 ],
 "metadata": {
  "kernelspec": {
   "display_name": "Python 3 (ipykernel)",
   "language": "python",
   "name": "python3"
  },
  "language_info": {
   "codemirror_mode": {
    "name": "ipython",
    "version": 3
   },
   "file_extension": ".py",
   "mimetype": "text/x-python",
   "name": "python",
   "nbconvert_exporter": "python",
   "pygments_lexer": "ipython3",
   "version": "3.9.7"
  }
 },
 "nbformat": 4,
 "nbformat_minor": 5
}
