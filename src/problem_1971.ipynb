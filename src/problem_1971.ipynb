{
 "cells": [
  {
   "cell_type": "markdown",
   "id": "68b7c32b-908c-4bf4-b90d-5909377dc89b",
   "metadata": {},
   "source": [
    "[Problem 1971](https://leetcode.com/problems/find-if-path-exists-in-graph/description)"
   ]
  },
  {
   "cell_type": "code",
   "execution_count": 1,
   "id": "e0d7cc41-ded0-4924-abb8-ce37554ff2a1",
   "metadata": {},
   "outputs": [],
   "source": [
    "from typing import List\n",
    "from collections import defaultdict, deque"
   ]
  },
  {
   "cell_type": "code",
   "execution_count": 2,
   "id": "7df953a1-5af6-476c-b8c9-2b367c1ac93b",
   "metadata": {},
   "outputs": [],
   "source": [
    "class Solution:\n",
    "    def validPath(self, n: int, edges: List[List[int]], source: int, destination: int) -> bool:\n",
    "        inc = defaultdict(list)\n",
    "        for s, e in edges:\n",
    "            inc[e].append(s)\n",
    "            inc[s].append(e)\n",
    "        to_visit = [True] * n\n",
    "        q = deque([source])\n",
    "        res = False\n",
    "        while q:\n",
    "            cur = q.popleft()\n",
    "            if cur == destination:\n",
    "                res = True\n",
    "                break\n",
    "            for e in inc[cur]:\n",
    "                if to_visit[e]:\n",
    "                    q.append(e)\n",
    "                    to_visit[e] = False\n",
    "        return res"
   ]
  },
  {
   "cell_type": "code",
   "execution_count": 3,
   "id": "22deb4da-5066-4f12-923f-caef628fcc6d",
   "metadata": {},
   "outputs": [],
   "source": [
    "sol = Solution()"
   ]
  },
  {
   "cell_type": "code",
   "execution_count": 4,
   "id": "929b1959-cc8a-4562-9e42-daa5dc8c927b",
   "metadata": {},
   "outputs": [],
   "source": [
    "assert sol.validPath(3, [[0,1],[1,2],[2,0]], 0, 2)"
   ]
  },
  {
   "cell_type": "code",
   "execution_count": 5,
   "id": "64e5bea1-5ffa-4d68-80d1-3465eeb94b2b",
   "metadata": {},
   "outputs": [],
   "source": [
    "assert not sol.validPath(6, [[0,1],[0,2],[3,5],[5,4],[4,3]], 0, 5)"
   ]
  }
 ],
 "metadata": {
  "kernelspec": {
   "display_name": "Python 3 (ipykernel)",
   "language": "python",
   "name": "python3"
  },
  "language_info": {
   "codemirror_mode": {
    "name": "ipython",
    "version": 3
   },
   "file_extension": ".py",
   "mimetype": "text/x-python",
   "name": "python",
   "nbconvert_exporter": "python",
   "pygments_lexer": "ipython3",
   "version": "3.9.7"
  }
 },
 "nbformat": 4,
 "nbformat_minor": 5
}
