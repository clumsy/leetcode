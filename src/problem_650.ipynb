{
 "cells": [
  {
   "cell_type": "markdown",
   "id": "34069580-6af3-4128-907b-8d2e0e00f946",
   "metadata": {},
   "source": [
    "[Problem 650](https://leetcode.com/problems/2-keys-keyboard/description)"
   ]
  },
  {
   "cell_type": "code",
   "execution_count": 1,
   "id": "d5181d3a-9b1a-4f69-b605-40957a4e1791",
   "metadata": {},
   "outputs": [],
   "source": [
    "from collections import deque"
   ]
  },
  {
   "cell_type": "code",
   "execution_count": 2,
   "id": "ce81106f-dbb5-43bb-9171-5b5bad89b279",
   "metadata": {},
   "outputs": [],
   "source": [
    "class Solution:\n",
    "    def minSteps(self, n: int) -> int:\n",
    "        # 3: A -(A)-> AA -> AAA\n",
    "        # 4: A -(A)-> AA -(AA)-> AAAA\n",
    "        # 5: A -(A)-> AA -> AAA -> AAAA -> AAAA\n",
    "        res, q, stop = -1, deque([(\"A\", \"\")]), False\n",
    "        while not stop:\n",
    "            res += 1\n",
    "            for _ in range(len(q)):\n",
    "                s, op = q.pop()\n",
    "                if len(s) == n:\n",
    "                    stop = True\n",
    "                    break\n",
    "                if s != op:\n",
    "                    q.appendleft((s, s))\n",
    "                if op and len(nxt := s + op) <= n:\n",
    "                    q.appendleft((nxt, op))\n",
    "        return res"
   ]
  },
  {
   "cell_type": "code",
   "execution_count": 3,
   "id": "ad927ee6-7a7c-45a9-8e5a-6865e6e931f3",
   "metadata": {},
   "outputs": [],
   "source": [
    "class Solution:\n",
    "    def minSteps(self, n: int) -> int:\n",
    "        if n <= 5:\n",
    "            res = n if n > 1 else 0\n",
    "        else:\n",
    "            res = n  # it may be prime, and it's the answer\n",
    "            for p in [2, 3, 5, 7, 11, 13, 17, 19, 23, 29, 31]:\n",
    "                if n % p == 0:\n",
    "                    res = p + self.minSteps(n // p)\n",
    "                    break\n",
    "        return res"
   ]
  },
  {
   "cell_type": "code",
   "execution_count": 4,
   "id": "c1d560b3-95f8-4899-8980-92785516f230",
   "metadata": {},
   "outputs": [],
   "source": [
    "class Solution:\n",
    "    def minSteps(self, n):\n",
    "        def factors(n):\n",
    "            d = 2\n",
    "            while d * d <= n:\n",
    "                while n % d == 0:\n",
    "                    n /= d\n",
    "                    yield d\n",
    "                d += 1\n",
    "            if n > 1:\n",
    "                yield n\n",
    "        return sum(factors(n))"
   ]
  },
  {
   "cell_type": "code",
   "execution_count": 5,
   "id": "5b3de119-6d4c-4a9b-9e3d-0fc38db2f2ef",
   "metadata": {},
   "outputs": [],
   "source": [
    "sol = Solution()"
   ]
  },
  {
   "cell_type": "code",
   "execution_count": 6,
   "id": "e3982d74-5f23-41fd-be2e-0a61db527f8d",
   "metadata": {},
   "outputs": [],
   "source": [
    "assert sol.minSteps(3) == 3"
   ]
  },
  {
   "cell_type": "code",
   "execution_count": 7,
   "id": "b886f374-afc5-441c-9762-d41b9c1afd81",
   "metadata": {},
   "outputs": [],
   "source": [
    "assert sol.minSteps(1) == 0"
   ]
  }
 ],
 "metadata": {
  "kernelspec": {
   "display_name": "Python 3 (ipykernel)",
   "language": "python",
   "name": "python3"
  },
  "language_info": {
   "codemirror_mode": {
    "name": "ipython",
    "version": 3
   },
   "file_extension": ".py",
   "mimetype": "text/x-python",
   "name": "python",
   "nbconvert_exporter": "python",
   "pygments_lexer": "ipython3",
   "version": "3.9.7"
  }
 },
 "nbformat": 4,
 "nbformat_minor": 5
}
