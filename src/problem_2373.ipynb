{
 "cells": [
  {
   "cell_type": "markdown",
   "id": "2bfa5acb-bb18-448f-a0df-278f11c98f68",
   "metadata": {},
   "source": [
    "[Problem 2373](https://leetcode.com/problems/largest-local-values-in-a-matrix/description)"
   ]
  },
  {
   "cell_type": "code",
   "execution_count": 5,
   "id": "36804419-7110-409a-9b77-c26c1eeadfe3",
   "metadata": {},
   "outputs": [],
   "source": [
    "from typing import List\n",
    "from collections import Counter\n",
    "from heapq import heapify, heappush, heappop"
   ]
  },
  {
   "cell_type": "code",
   "execution_count": 6,
   "id": "6c7b96fd-462f-4cd0-a54b-fe810a6d7a28",
   "metadata": {},
   "outputs": [],
   "source": [
    "class Solution:\n",
    "    def largestLocal(self, grid: List[List[int]]) -> List[List[int]]:\n",
    "        n = len(grid)\n",
    "        res = [[0 for _ in range(n - 2)] for _ in range(n - 2)]\n",
    "        for r in range(n - 2):\n",
    "            h = [-grid[i][j] for i in range(r, r + 3) for j in range(3)]\n",
    "            heapify(h)\n",
    "            cnt = Counter(h)\n",
    "            res[r][0] = -h[0]\n",
    "            for c in range(1, n - 2):\n",
    "                for k in range(3):\n",
    "                    cnt[-grid[r + k][c - 1]] -= 1\n",
    "                for k in range(3):\n",
    "                    v = -grid[r + k][c + 2]\n",
    "                    cnt[v] += 1\n",
    "                    if cnt[v] == 1:\n",
    "                        heappush(h, v)\n",
    "                while cnt[h[0]] == 0:\n",
    "                    heappop(h)\n",
    "                res[r][c] = -h[0]\n",
    "        return res"
   ]
  },
  {
   "cell_type": "code",
   "execution_count": 7,
   "id": "9164242a-eca5-420e-8acb-6d8fc9b83f9a",
   "metadata": {},
   "outputs": [],
   "source": [
    "sol = Solution()"
   ]
  },
  {
   "cell_type": "code",
   "execution_count": 8,
   "id": "212e9d57-446a-45b1-9b8d-b15626e67af2",
   "metadata": {},
   "outputs": [],
   "source": [
    "assert sol.largestLocal([[9,9,8,1],[5,6,2,6],[8,2,6,4],[6,2,2,2]]) == [[9,9],[8,6]]"
   ]
  },
  {
   "cell_type": "code",
   "execution_count": 9,
   "id": "778487aa-219f-4344-82e2-3ea152c342e0",
   "metadata": {},
   "outputs": [],
   "source": [
    "assert sol.largestLocal([[1,1,1,1,1],[1,1,1,1,1],[1,1,2,1,1],[1,1,1,1,1],[1,1,1,1,1]]) == [[2,2,2],[2,2,2],[2,2,2]]"
   ]
  }
 ],
 "metadata": {
  "kernelspec": {
   "display_name": "Python 3 (ipykernel)",
   "language": "python",
   "name": "python3"
  },
  "language_info": {
   "codemirror_mode": {
    "name": "ipython",
    "version": 3
   },
   "file_extension": ".py",
   "mimetype": "text/x-python",
   "name": "python",
   "nbconvert_exporter": "python",
   "pygments_lexer": "ipython3",
   "version": "3.9.7"
  }
 },
 "nbformat": 4,
 "nbformat_minor": 5
}
