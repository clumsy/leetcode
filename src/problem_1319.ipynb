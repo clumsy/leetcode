{
 "cells": [
  {
   "cell_type": "markdown",
   "id": "295f602b-3066-4d03-8440-33fb6bdc2704",
   "metadata": {},
   "source": [
    "[Problem 1319](https://leetcode.com/problems/number-of-operations-to-make-network-connected/description)"
   ]
  },
  {
   "cell_type": "code",
   "execution_count": 1,
   "id": "12b67828-2b83-477e-9d44-bf260f339459",
   "metadata": {},
   "outputs": [],
   "source": [
    "from typing import List"
   ]
  },
  {
   "cell_type": "code",
   "execution_count": 2,
   "id": "70dd9a22-800c-414e-9cc2-c8a4ca9e7611",
   "metadata": {},
   "outputs": [],
   "source": [
    "class Solution:\n",
    "    def makeConnected(self, n: int, connections: List[List[int]]) -> int:\n",
    "        class UnionFind:\n",
    "            def __init__(self, n):\n",
    "                self.prnt = [i for i in range(n)]\n",
    "                self.size = [1] * n\n",
    "\n",
    "            def find(self, i):\n",
    "                p = self.prnt[i]\n",
    "                if i != p:\n",
    "                    self.prnt[i] = self.find(p)\n",
    "                return self.prnt[i]\n",
    "\n",
    "            def union(self, i, j):\n",
    "                pi, pj = self.find(i), self.find(j)\n",
    "                if pi != pj:\n",
    "                    if self.size[pi] > self.size[pj]:\n",
    "                        pi, pj = pj, pi\n",
    "                    self.prnt[pi] = pj\n",
    "                    self.size[pj] += self.size[pi]\n",
    "\n",
    "        if len(connections) < n - 1:\n",
    "            res = -1\n",
    "        else:\n",
    "            uf = UnionFind(n)\n",
    "            for i, j in connections:\n",
    "                uf.union(i, j)\n",
    "            # need to compact all trees\n",
    "            for i in range(n):\n",
    "                uf.find(i)\n",
    "            res = len(set(uf.prnt)) - 1\n",
    "            print(uf.prnt)\n",
    "        return res        "
   ]
  },
  {
   "cell_type": "code",
   "execution_count": 3,
   "id": "174e913f-cf68-40b0-a448-a4c97e9adbfe",
   "metadata": {},
   "outputs": [],
   "source": [
    "class Solution:\n",
    "    def makeConnected(self, n: int, connections: List[List[int]]) -> int:\n",
    "        g = [set() for _ in range(n)]\n",
    "        for i, j in connections:\n",
    "            g[i].add(j)\n",
    "            g[j].add(i)\n",
    "        seen = [0] * n\n",
    "        def dfs(i):\n",
    "            if seen[i]:\n",
    "                return 0\n",
    "            seen[i] = 1\n",
    "            for j in g[i]:\n",
    "                dfs(j)\n",
    "            return 1\n",
    "        res = sum(dfs(i) for i in range(n)) - 1 if len(connections) >= n - 1 else -1\n",
    "        return res"
   ]
  },
  {
   "cell_type": "code",
   "execution_count": 4,
   "id": "309f6d86-1fa7-4375-a083-3a5d64169bbf",
   "metadata": {},
   "outputs": [],
   "source": [
    "sol = Solution()"
   ]
  },
  {
   "cell_type": "code",
   "execution_count": 5,
   "id": "993a4b28-81a2-4c8e-bc3a-6ebbbfa4bedc",
   "metadata": {},
   "outputs": [],
   "source": [
    "assert sol.makeConnected(4, [[0,1],[0,2],[1,2]]) == 1"
   ]
  },
  {
   "cell_type": "code",
   "execution_count": 6,
   "id": "3d9efb94-2f56-4cd9-8c8d-c09e6dfbe0fb",
   "metadata": {},
   "outputs": [],
   "source": [
    "assert sol.makeConnected(6, [[0,1],[0,2],[0,3],[1,2],[1,3]]) == 2"
   ]
  },
  {
   "cell_type": "code",
   "execution_count": 7,
   "id": "d278b89c-e8af-4201-bc43-f5841af90e47",
   "metadata": {},
   "outputs": [],
   "source": [
    "assert sol.makeConnected(6, [[0,1],[0,2],[0,3],[1,2]]) == -1"
   ]
  }
 ],
 "metadata": {
  "kernelspec": {
   "display_name": "Python 3 (ipykernel)",
   "language": "python",
   "name": "python3"
  },
  "language_info": {
   "codemirror_mode": {
    "name": "ipython",
    "version": 3
   },
   "file_extension": ".py",
   "mimetype": "text/x-python",
   "name": "python",
   "nbconvert_exporter": "python",
   "pygments_lexer": "ipython3",
   "version": "3.9.7"
  }
 },
 "nbformat": 4,
 "nbformat_minor": 5
}
