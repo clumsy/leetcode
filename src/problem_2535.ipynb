{
 "cells": [
  {
   "cell_type": "markdown",
   "id": "4b16424d-187e-4217-b025-8375e6172cd5",
   "metadata": {},
   "source": [
    "[Problem 2535](https://leetcode.com/problems/difference-between-element-sum-and-digit-sum-of-an-array/description)"
   ]
  },
  {
   "cell_type": "code",
   "execution_count": 1,
   "id": "66d41aab-96b6-442f-a178-ea2f4e09b1ad",
   "metadata": {},
   "outputs": [],
   "source": [
    "from typing import List"
   ]
  },
  {
   "cell_type": "code",
   "execution_count": 2,
   "id": "da2e2d7b-3678-4ebb-b3e5-75e7e69ac553",
   "metadata": {},
   "outputs": [],
   "source": [
    "class Solution:\n",
    "    def differenceOfSum(self, nums: List[int]) -> int:\n",
    "        res = abs(sum(nums) - sum(sum(int(d) for d in str(i)) for i in nums))\n",
    "        return res"
   ]
  },
  {
   "cell_type": "code",
   "execution_count": 3,
   "id": "b16151c3-9497-4594-b695-de75ab25b80c",
   "metadata": {},
   "outputs": [],
   "source": [
    "sol = Solution()"
   ]
  },
  {
   "cell_type": "code",
   "execution_count": 4,
   "id": "fe7a43b6-2063-4670-91a5-d3fd42f54e87",
   "metadata": {},
   "outputs": [],
   "source": [
    "assert sol.differenceOfSum([1,15,6,3]) == 9"
   ]
  },
  {
   "cell_type": "code",
   "execution_count": 5,
   "id": "97a2e6be-932d-4c74-929f-25033a776ec4",
   "metadata": {},
   "outputs": [],
   "source": [
    "assert sol.differenceOfSum([1,2,3,4]) == 0"
   ]
  }
 ],
 "metadata": {
  "kernelspec": {
   "display_name": "Python 3 (ipykernel)",
   "language": "python",
   "name": "python3"
  },
  "language_info": {
   "codemirror_mode": {
    "name": "ipython",
    "version": 3
   },
   "file_extension": ".py",
   "mimetype": "text/x-python",
   "name": "python",
   "nbconvert_exporter": "python",
   "pygments_lexer": "ipython3",
   "version": "3.9.7"
  }
 },
 "nbformat": 4,
 "nbformat_minor": 5
}
