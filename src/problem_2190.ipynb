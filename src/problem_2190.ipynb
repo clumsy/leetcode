{
 "cells": [
  {
   "cell_type": "markdown",
   "id": "0ba9bac7-890b-4c41-87cd-b46fb866ccda",
   "metadata": {},
   "source": [
    "[Problem 2190](https://leetcode.com/problems/most-frequent-number-following-key-in-an-array/description)"
   ]
  },
  {
   "cell_type": "code",
   "execution_count": 1,
   "id": "313abbcc-b4b8-4947-a68a-bfa2e44f5f93",
   "metadata": {},
   "outputs": [],
   "source": [
    "from typing import List\n",
    "from collections import Counter"
   ]
  },
  {
   "cell_type": "code",
   "execution_count": 2,
   "id": "e2790897-83de-4d00-8692-822de25e135f",
   "metadata": {},
   "outputs": [],
   "source": [
    "class Solution:\n",
    "    def mostFrequent(self, nums: List[int], key: int) -> int:\n",
    "        cnt = Counter()\n",
    "        for i in range(len(nums) - 1):\n",
    "            if nums[i] == key:\n",
    "                cnt[nums[i + 1]] += 1\n",
    "        res = cnt.most_common(1)[0][0]\n",
    "        return res"
   ]
  },
  {
   "cell_type": "code",
   "execution_count": 3,
   "id": "e5e57074-1e13-469c-a331-d195a64a9933",
   "metadata": {},
   "outputs": [],
   "source": [
    "sol = Solution()"
   ]
  },
  {
   "cell_type": "code",
   "execution_count": 4,
   "id": "3f9cb627-84b9-416a-aa5e-6162bb25597f",
   "metadata": {},
   "outputs": [],
   "source": [
    "assert sol.mostFrequent([1,100,200,1,100], 1) == 100"
   ]
  },
  {
   "cell_type": "code",
   "execution_count": 5,
   "id": "c213fbeb-57ce-410e-9a9b-4bb8021f335a",
   "metadata": {},
   "outputs": [],
   "source": [
    "assert sol.mostFrequent([2,2,2,2,3], 2) == 2"
   ]
  }
 ],
 "metadata": {
  "kernelspec": {
   "display_name": "Python 3 (ipykernel)",
   "language": "python",
   "name": "python3"
  },
  "language_info": {
   "codemirror_mode": {
    "name": "ipython",
    "version": 3
   },
   "file_extension": ".py",
   "mimetype": "text/x-python",
   "name": "python",
   "nbconvert_exporter": "python",
   "pygments_lexer": "ipython3",
   "version": "3.9.7"
  }
 },
 "nbformat": 4,
 "nbformat_minor": 5
}
