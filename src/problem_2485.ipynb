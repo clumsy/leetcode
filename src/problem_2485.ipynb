{
 "cells": [
  {
   "cell_type": "markdown",
   "id": "32313c62-7f75-439b-bd5e-5a23f0a46127",
   "metadata": {},
   "source": [
    "[Problem 2485](https://leetcode.com/problems/find-the-pivot-integer/description)"
   ]
  },
  {
   "cell_type": "code",
   "execution_count": 1,
   "id": "1a25df63-8165-4642-a287-fc49a0ad0c8f",
   "metadata": {},
   "outputs": [],
   "source": [
    "from math import sqrt"
   ]
  },
  {
   "cell_type": "code",
   "execution_count": 2,
   "id": "ceefafd9-4f2d-44e6-a861-405d46f8f2e9",
   "metadata": {},
   "outputs": [],
   "source": [
    "class Solution:\n",
    "    def pivotInteger(self, n: int) -> int:\n",
    "        # (1 + x) * x / 2 == (x + n) * (n + 1 - x) / 2\n",
    "        # x^2 + x == n^2 + n + x - x^2\n",
    "        # 2x^2 = n^2 + n\n",
    "        x = int(sqrt((n + n**2) // 2))\n",
    "        res = x if 2 * x**2 == n ** 2 + n else -1\n",
    "        return res"
   ]
  },
  {
   "cell_type": "code",
   "execution_count": 3,
   "id": "309c48b5-82a5-4cc2-84dc-503b08288f07",
   "metadata": {},
   "outputs": [],
   "source": [
    "sol = Solution()"
   ]
  },
  {
   "cell_type": "code",
   "execution_count": 4,
   "id": "27c411ac-57d5-44c1-a56e-f7849ed194a6",
   "metadata": {},
   "outputs": [],
   "source": [
    "assert sol.pivotInteger(8) == 6"
   ]
  },
  {
   "cell_type": "code",
   "execution_count": 5,
   "id": "16d6a338-c7ea-40f0-9e0e-6224623bfe99",
   "metadata": {},
   "outputs": [],
   "source": [
    "assert sol.pivotInteger(1) == 1"
   ]
  },
  {
   "cell_type": "code",
   "execution_count": 6,
   "id": "77126510-dddb-4754-8f73-0206c9c6a7eb",
   "metadata": {},
   "outputs": [],
   "source": [
    "assert sol.pivotInteger(4) == -1"
   ]
  }
 ],
 "metadata": {
  "kernelspec": {
   "display_name": "Python 3 (ipykernel)",
   "language": "python",
   "name": "python3"
  },
  "language_info": {
   "codemirror_mode": {
    "name": "ipython",
    "version": 3
   },
   "file_extension": ".py",
   "mimetype": "text/x-python",
   "name": "python",
   "nbconvert_exporter": "python",
   "pygments_lexer": "ipython3",
   "version": "3.9.7"
  }
 },
 "nbformat": 4,
 "nbformat_minor": 5
}
