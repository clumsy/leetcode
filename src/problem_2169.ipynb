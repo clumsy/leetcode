{
 "cells": [
  {
   "cell_type": "markdown",
   "id": "662230eb-56e2-4765-a1c1-1594adbcaf9b",
   "metadata": {},
   "source": [
    "[Problem 2169](https://leetcode.com/problems/count-operations-to-obtain-zero/description)"
   ]
  },
  {
   "cell_type": "code",
   "execution_count": 1,
   "id": "8bd8bc2d-3fff-45a3-8065-a719e9f6d097",
   "metadata": {},
   "outputs": [],
   "source": [
    "class Solution:\n",
    "    def countOperations(self, num1: int, num2: int) -> int:\n",
    "        num1, num2 = sorted([num1, num2])\n",
    "        res = 0\n",
    "        while num1 > 0:\n",
    "            d, r = divmod(num2, num1)\n",
    "            res += d\n",
    "            num1, num2 = r, num1\n",
    "        return res"
   ]
  },
  {
   "cell_type": "code",
   "execution_count": 2,
   "id": "482679b4-b1e8-41ff-81d1-01568c102976",
   "metadata": {},
   "outputs": [],
   "source": [
    "sol = Solution()"
   ]
  },
  {
   "cell_type": "code",
   "execution_count": 3,
   "id": "e0ad58f6-bd49-4f16-a2e5-c90c489543c4",
   "metadata": {},
   "outputs": [],
   "source": [
    "assert sol.countOperations(2, 3) == 3"
   ]
  },
  {
   "cell_type": "code",
   "execution_count": 4,
   "id": "264dc0e7-b571-4a6e-b505-0d969c3d2313",
   "metadata": {},
   "outputs": [],
   "source": [
    "assert sol.countOperations(10, 10) == 1"
   ]
  }
 ],
 "metadata": {
  "kernelspec": {
   "display_name": "Python 3 (ipykernel)",
   "language": "python",
   "name": "python3"
  },
  "language_info": {
   "codemirror_mode": {
    "name": "ipython",
    "version": 3
   },
   "file_extension": ".py",
   "mimetype": "text/x-python",
   "name": "python",
   "nbconvert_exporter": "python",
   "pygments_lexer": "ipython3",
   "version": "3.9.7"
  }
 },
 "nbformat": 4,
 "nbformat_minor": 5
}
