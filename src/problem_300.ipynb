{
 "cells": [
  {
   "cell_type": "markdown",
   "id": "5bd21a44-0471-4909-a15a-2b51b411afb7",
   "metadata": {},
   "source": [
    "[Problem 300](https://leetcode.com/problems/longest-increasing-subsequence/)"
   ]
  },
  {
   "cell_type": "code",
   "execution_count": 1,
   "id": "54e91143-5973-49be-bac7-4bce73c40c01",
   "metadata": {},
   "outputs": [],
   "source": [
    "from typing import List\n",
    "from bisect import bisect_left"
   ]
  },
  {
   "cell_type": "code",
   "execution_count": 2,
   "id": "06517a52-24f2-4d78-9870-45d7f3e15fcd",
   "metadata": {},
   "outputs": [],
   "source": [
    "class Solution:\n",
    "    def lengthOfLIS(self, nums: List[int]) -> int:\n",
    "        min_for_length, n = [], len(nums)\n",
    "        for num in nums:\n",
    "            if not min_for_length or num > min_for_length[-1]:\n",
    "                min_for_length.append(num)\n",
    "            else:\n",
    "                lo = bisect_left(min_for_length, num)\n",
    "                min_for_length[lo] = num\n",
    "        return len(min_for_length)"
   ]
  },
  {
   "cell_type": "code",
   "execution_count": 3,
   "id": "d52ed1f9-22e8-4d6a-9b53-1c5c62ebf717",
   "metadata": {},
   "outputs": [],
   "source": [
    "sol = Solution()"
   ]
  },
  {
   "cell_type": "code",
   "execution_count": 4,
   "id": "a2d03a2c-7191-4d40-8bb2-7a9f3d1fe580",
   "metadata": {},
   "outputs": [],
   "source": [
    "assert sol.lengthOfLIS([10,9,2,5,3,7,101,18]) == 4"
   ]
  },
  {
   "cell_type": "code",
   "execution_count": 5,
   "id": "b65ea982-fae1-4b98-bcf8-e9bd7b049eb6",
   "metadata": {},
   "outputs": [],
   "source": [
    "assert sol.lengthOfLIS([0,1,0,3,2,3]) == 4"
   ]
  },
  {
   "cell_type": "code",
   "execution_count": 6,
   "id": "9dae0acf-8cae-47af-af87-fd90e18e76c1",
   "metadata": {},
   "outputs": [],
   "source": [
    "assert sol.lengthOfLIS([7,7,7,7,7,7,7]) == 1"
   ]
  }
 ],
 "metadata": {
  "kernelspec": {
   "display_name": "Python 3 (ipykernel)",
   "language": "python",
   "name": "python3"
  },
  "language_info": {
   "codemirror_mode": {
    "name": "ipython",
    "version": 3
   },
   "file_extension": ".py",
   "mimetype": "text/x-python",
   "name": "python",
   "nbconvert_exporter": "python",
   "pygments_lexer": "ipython3",
   "version": "3.9.7"
  }
 },
 "nbformat": 4,
 "nbformat_minor": 5
}
