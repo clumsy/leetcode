{
 "cells": [
  {
   "cell_type": "markdown",
   "id": "b5670abf-4df8-4e93-a384-e9aaf573c8c8",
   "metadata": {},
   "source": [
    "[Problem 2943](https://leetcode.com/problems/maximize-area-of-square-hole-in-grid/description)"
   ]
  },
  {
   "cell_type": "code",
   "execution_count": 1,
   "id": "d3691e69-ae9f-4d09-85b2-4621b6cf2bb1",
   "metadata": {},
   "outputs": [],
   "source": [
    "from typing import List"
   ]
  },
  {
   "cell_type": "code",
   "execution_count": 2,
   "id": "a64f1a3e-e317-47c6-9626-84f14b53fb05",
   "metadata": {},
   "outputs": [],
   "source": [
    "class Solution:\n",
    "    def maximizeSquareHoleArea(self, n: int, m: int, h: List[int], v: List[int]) -> int:\n",
    "        def max_hole(x):\n",
    "            x.sort()\n",
    "            cur = ma = 1\n",
    "            for i in range(1, len(x)):\n",
    "                if x[i] - x[i - 1] == 1:\n",
    "                    cur += 1\n",
    "                else:\n",
    "                    cur = 1\n",
    "                ma = max(ma, cur)\n",
    "            return ma + 1\n",
    "        res = min(max_hole(v), max_hole(h)) ** 2\n",
    "        return res"
   ]
  },
  {
   "cell_type": "code",
   "execution_count": 3,
   "id": "c0758fdc-1c04-4d88-80c8-749019b2597d",
   "metadata": {},
   "outputs": [],
   "source": [
    "sol = Solution()"
   ]
  },
  {
   "cell_type": "code",
   "execution_count": 4,
   "id": "ffbf0a81-abbf-41b4-8038-2b0562aaa87f",
   "metadata": {},
   "outputs": [],
   "source": [
    "assert sol.maximizeSquareHoleArea(2, 1, [2,3], [2]) == 4"
   ]
  },
  {
   "cell_type": "code",
   "execution_count": 5,
   "id": "8b43b976-ad5e-473d-b35f-ae5812a42080",
   "metadata": {},
   "outputs": [],
   "source": [
    "assert sol.maximizeSquareHoleArea(1, 1, [2], [2]) == 4"
   ]
  },
  {
   "cell_type": "code",
   "execution_count": 6,
   "id": "8b6d112c-e8c6-4d62-9434-3cb9a3e20fcf",
   "metadata": {},
   "outputs": [],
   "source": [
    "assert sol.maximizeSquareHoleArea(2, 3, [2,3], [2,3,4]) == 9"
   ]
  }
 ],
 "metadata": {
  "kernelspec": {
   "display_name": "Python 3 (ipykernel)",
   "language": "python",
   "name": "python3"
  },
  "language_info": {
   "codemirror_mode": {
    "name": "ipython",
    "version": 3
   },
   "file_extension": ".py",
   "mimetype": "text/x-python",
   "name": "python",
   "nbconvert_exporter": "python",
   "pygments_lexer": "ipython3",
   "version": "3.9.7"
  }
 },
 "nbformat": 4,
 "nbformat_minor": 5
}
