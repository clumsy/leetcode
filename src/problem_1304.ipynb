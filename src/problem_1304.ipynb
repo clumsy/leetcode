{
 "cells": [
  {
   "cell_type": "markdown",
   "id": "252e5e4c-3aee-41bd-a4eb-349ab312bc2e",
   "metadata": {},
   "source": [
    "[Problem 1304](https://leetcode.com/problems/find-n-unique-integers-sum-up-to-zero/description)"
   ]
  },
  {
   "cell_type": "code",
   "execution_count": 1,
   "id": "bad7faa0-e4e9-43d4-ab3d-aff7731e59ff",
   "metadata": {},
   "outputs": [],
   "source": [
    "from typing import List"
   ]
  },
  {
   "cell_type": "code",
   "execution_count": 2,
   "id": "3b0d92dc-8a29-48ea-af29-9fd4c71f9830",
   "metadata": {},
   "outputs": [],
   "source": [
    "class Solution:\n",
    "    def sumZero(self, n: int) -> List[int]:\n",
    "        half = [i for i in range(1, n // 2 + 1)]\n",
    "        res = [-i for i in half] + ([0] if n & 1 == 1 else []) + half\n",
    "        return res"
   ]
  },
  {
   "cell_type": "code",
   "execution_count": 3,
   "id": "668cfd92-7eae-41e5-ba54-926c1ceba70e",
   "metadata": {},
   "outputs": [],
   "source": [
    "sol = Solution()"
   ]
  },
  {
   "cell_type": "code",
   "execution_count": 4,
   "id": "a930bd51-12a6-489a-9171-5e36bffd1e77",
   "metadata": {},
   "outputs": [],
   "source": [
    "assert sol.sumZero(5) == [-1, -2, 0, 1, 2]"
   ]
  },
  {
   "cell_type": "code",
   "execution_count": 5,
   "id": "fce66a2b-e77e-4be1-ab9d-9c5675135237",
   "metadata": {},
   "outputs": [],
   "source": [
    "assert sol.sumZero(3) == [-1, 0, 1]"
   ]
  },
  {
   "cell_type": "code",
   "execution_count": 6,
   "id": "69d04cda-7e5f-4755-bc6a-e9f786cb3f61",
   "metadata": {},
   "outputs": [],
   "source": [
    "assert sol.sumZero(1) == [0]"
   ]
  }
 ],
 "metadata": {
  "kernelspec": {
   "display_name": "Python 3 (ipykernel)",
   "language": "python",
   "name": "python3"
  },
  "language_info": {
   "codemirror_mode": {
    "name": "ipython",
    "version": 3
   },
   "file_extension": ".py",
   "mimetype": "text/x-python",
   "name": "python",
   "nbconvert_exporter": "python",
   "pygments_lexer": "ipython3",
   "version": "3.9.7"
  }
 },
 "nbformat": 4,
 "nbformat_minor": 5
}
