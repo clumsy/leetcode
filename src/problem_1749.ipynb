{
 "cells": [
  {
   "cell_type": "markdown",
   "id": "1900aac4-4ffd-43cc-9d6a-47ba174ec2f7",
   "metadata": {},
   "source": [
    "[Problem 1749](https://leetcode.com/problems/maximum-absolute-sum-of-any-subarray/description)"
   ]
  },
  {
   "cell_type": "code",
   "execution_count": 1,
   "id": "a9af1032-7a08-493f-bd58-097bd03db926",
   "metadata": {},
   "outputs": [],
   "source": [
    "from typing import List"
   ]
  },
  {
   "cell_type": "code",
   "execution_count": 2,
   "id": "447afcf6-fc6c-4a16-b2e3-143cb40cc9b3",
   "metadata": {},
   "outputs": [],
   "source": [
    "class Solution:\n",
    "    def maxAbsoluteSum(self, nums: List[int]) -> int:\n",
    "        pos = neg = s = 0\n",
    "        for i in nums:\n",
    "            s += i\n",
    "            pos = max(pos, s)\n",
    "            neg = min(neg, s)\n",
    "        res = pos - neg\n",
    "        return res"
   ]
  },
  {
   "cell_type": "code",
   "execution_count": 3,
   "id": "24722f37-00f8-4141-ae6d-761074f1194b",
   "metadata": {},
   "outputs": [],
   "source": [
    "sol = Solution()"
   ]
  },
  {
   "cell_type": "code",
   "execution_count": 4,
   "id": "5b01aa04-6c33-4d31-aec4-dee36361848b",
   "metadata": {},
   "outputs": [],
   "source": [
    "assert sol.maxAbsoluteSum([1,-3,2,3,-4]) == 5"
   ]
  },
  {
   "cell_type": "code",
   "execution_count": 5,
   "id": "6afdcc51-7f49-428d-bb3f-f7306a93c1b2",
   "metadata": {},
   "outputs": [],
   "source": [
    "assert sol.maxAbsoluteSum([2,-5,1,-4,3,-2]) == 8"
   ]
  }
 ],
 "metadata": {
  "kernelspec": {
   "display_name": "Python 3 (ipykernel)",
   "language": "python",
   "name": "python3"
  },
  "language_info": {
   "codemirror_mode": {
    "name": "ipython",
    "version": 3
   },
   "file_extension": ".py",
   "mimetype": "text/x-python",
   "name": "python",
   "nbconvert_exporter": "python",
   "pygments_lexer": "ipython3",
   "version": "3.9.7"
  }
 },
 "nbformat": 4,
 "nbformat_minor": 5
}
