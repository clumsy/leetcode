{
 "cells": [
  {
   "cell_type": "markdown",
   "id": "f754c03c-081a-4e0a-a5c1-e67aae3153a4",
   "metadata": {},
   "source": [
    "[Problem 2908](https://leetcode.com/problems/minimum-sum-of-mountain-triplets-i/description)"
   ]
  },
  {
   "cell_type": "code",
   "execution_count": 1,
   "id": "3c410ac3-3d30-4af8-9d57-53d4f2f079d3",
   "metadata": {},
   "outputs": [],
   "source": [
    "from typing import List\n",
    "from math import inf"
   ]
  },
  {
   "cell_type": "code",
   "execution_count": 2,
   "id": "977f73d0-757a-4fff-be3d-b49b1c9c9a91",
   "metadata": {},
   "outputs": [],
   "source": [
    "class Solution:\n",
    "    def minimumSum(self, nums: List[int]) -> int:\n",
    "        n = len(nums)\n",
    "        rgt = [nums[-1]] * n\n",
    "        for i in range(n - 1)[::-1]:\n",
    "            rgt[i] = min(rgt[i + 1], nums[i])\n",
    "        res, lft = inf, nums[0]\n",
    "        for i in range(1, n - 1):\n",
    "            if nums[i] > max(lft, rgt[i + 1]):\n",
    "                res = min(res, lft + nums[i] + rgt[i + 1])\n",
    "            lft = min(lft, nums[i])\n",
    "        res = -1 if res is inf else res\n",
    "        return res"
   ]
  },
  {
   "cell_type": "code",
   "execution_count": 3,
   "id": "f7b53229-31ce-4069-9f43-56476dab6706",
   "metadata": {},
   "outputs": [],
   "source": [
    "sol = Solution()"
   ]
  },
  {
   "cell_type": "code",
   "execution_count": 4,
   "id": "27bcb804-3612-436b-9d90-b670c839c5cf",
   "metadata": {},
   "outputs": [],
   "source": [
    "assert sol.minimumSum([8,6,1,5,3]) == 9"
   ]
  },
  {
   "cell_type": "code",
   "execution_count": 5,
   "id": "6c2c9045-534c-447c-90bd-f9a237799e80",
   "metadata": {},
   "outputs": [],
   "source": [
    "assert sol.minimumSum([5,4,8,7,10,2]) == 13"
   ]
  },
  {
   "cell_type": "code",
   "execution_count": 6,
   "id": "686ddb45-03b5-4b0f-b694-72503e57e23e",
   "metadata": {},
   "outputs": [],
   "source": [
    "assert sol.minimumSum([6,5,4,3,4,5]) == -1"
   ]
  }
 ],
 "metadata": {
  "kernelspec": {
   "display_name": "Python 3 (ipykernel)",
   "language": "python",
   "name": "python3"
  },
  "language_info": {
   "codemirror_mode": {
    "name": "ipython",
    "version": 3
   },
   "file_extension": ".py",
   "mimetype": "text/x-python",
   "name": "python",
   "nbconvert_exporter": "python",
   "pygments_lexer": "ipython3",
   "version": "3.9.7"
  }
 },
 "nbformat": 4,
 "nbformat_minor": 5
}
