{
 "cells": [
  {
   "cell_type": "markdown",
   "id": "3262c490-4139-4c32-8717-9491a58e1d16",
   "metadata": {},
   "source": [
    "[Problem 1576](https://leetcode.com/problems/replace-all-s-to-avoid-consecutive-repeating-characters/description)"
   ]
  },
  {
   "cell_type": "code",
   "execution_count": 1,
   "id": "04e2738c-a5ca-4e11-94fd-5ddbcd357297",
   "metadata": {},
   "outputs": [],
   "source": [
    "from string import ascii_lowercase"
   ]
  },
  {
   "cell_type": "code",
   "execution_count": 2,
   "id": "cf93757f-3dff-47c6-8bd6-3f50a89f78bc",
   "metadata": {},
   "outputs": [],
   "source": [
    "class Solution:\n",
    "    def modifyString(self, s: str) -> str:\n",
    "        s, n = list(s), len(s)\n",
    "        for i, c in enumerate(s):\n",
    "            if c == \"?\":\n",
    "                for f in ascii_lowercase:\n",
    "                    if (i == 0 or f != s[i - 1]) and (i == n - 1 or f != s[i + 1]):\n",
    "                        s[i] = f\n",
    "                        break\n",
    "        res = \"\".join(s)\n",
    "        return res"
   ]
  },
  {
   "cell_type": "code",
   "execution_count": 3,
   "id": "be0eb2b4-77c8-4fe4-a1e4-57abc96fe48d",
   "metadata": {},
   "outputs": [],
   "source": [
    "sol = Solution()"
   ]
  },
  {
   "cell_type": "code",
   "execution_count": 4,
   "id": "77a70497-31f5-48ed-af20-0c1910798789",
   "metadata": {},
   "outputs": [],
   "source": [
    "assert sol.modifyString(\"?zs\") == \"azs\""
   ]
  },
  {
   "cell_type": "code",
   "execution_count": 5,
   "id": "2da05841-b722-4d40-b769-51c8b6737b8d",
   "metadata": {},
   "outputs": [],
   "source": [
    "assert sol.modifyString(\"ubv?w\") == \"ubvaw\""
   ]
  }
 ],
 "metadata": {
  "kernelspec": {
   "display_name": "Python 3 (ipykernel)",
   "language": "python",
   "name": "python3"
  },
  "language_info": {
   "codemirror_mode": {
    "name": "ipython",
    "version": 3
   },
   "file_extension": ".py",
   "mimetype": "text/x-python",
   "name": "python",
   "nbconvert_exporter": "python",
   "pygments_lexer": "ipython3",
   "version": "3.9.7"
  }
 },
 "nbformat": 4,
 "nbformat_minor": 5
}
