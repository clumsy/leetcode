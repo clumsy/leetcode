{
 "cells": [
  {
   "cell_type": "markdown",
   "id": "16bacbed-c66b-4997-9ccb-6bc7a0a0993e",
   "metadata": {},
   "source": [
    "[Problem 2553](https://leetcode.com/problems/separate-the-digits-in-an-array/description)"
   ]
  },
  {
   "cell_type": "code",
   "execution_count": 1,
   "id": "e0be9372-f2a1-4741-aa73-435ffabf2f4b",
   "metadata": {},
   "outputs": [],
   "source": [
    "from typing import List"
   ]
  },
  {
   "cell_type": "code",
   "execution_count": 2,
   "id": "25cfdb5a-cfbe-4a0b-9e12-f4a36ea8e8e5",
   "metadata": {},
   "outputs": [],
   "source": [
    "class Solution:\n",
    "    def separateDigits(self, nums: List[int]) -> List[int]:\n",
    "        res = [int(d) for num in nums for d in str(num)]\n",
    "        return res"
   ]
  },
  {
   "cell_type": "code",
   "execution_count": 3,
   "id": "4bb5b01a-3573-4002-9093-5eef2b97b4d9",
   "metadata": {},
   "outputs": [],
   "source": [
    "sol = Solution()"
   ]
  },
  {
   "cell_type": "code",
   "execution_count": 4,
   "id": "905b22d2-5686-47d6-87b7-53154e0d6b88",
   "metadata": {},
   "outputs": [],
   "source": [
    "assert sol.separateDigits([13,25,83,77]) == [1,3,2,5,8,3,7,7]"
   ]
  },
  {
   "cell_type": "code",
   "execution_count": 5,
   "id": "61846fd4-9763-40e3-a8be-9c62026c85be",
   "metadata": {},
   "outputs": [],
   "source": [
    "assert sol.separateDigits([7,1,3,9]) == [7,1,3,9]"
   ]
  }
 ],
 "metadata": {
  "kernelspec": {
   "display_name": "Python 3 (ipykernel)",
   "language": "python",
   "name": "python3"
  },
  "language_info": {
   "codemirror_mode": {
    "name": "ipython",
    "version": 3
   },
   "file_extension": ".py",
   "mimetype": "text/x-python",
   "name": "python",
   "nbconvert_exporter": "python",
   "pygments_lexer": "ipython3",
   "version": "3.9.7"
  }
 },
 "nbformat": 4,
 "nbformat_minor": 5
}
