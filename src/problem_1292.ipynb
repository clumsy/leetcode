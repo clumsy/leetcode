{
 "cells": [
  {
   "cell_type": "markdown",
   "id": "5eb0f8c3-4e39-4bf5-bb79-59fe6d35a254",
   "metadata": {},
   "source": [
    "[Problem 1292](https://leetcode.com/problems/maximum-side-length-of-a-square-with-sum-less-than-or-equal-to-threshold/)"
   ]
  },
  {
   "cell_type": "code",
   "execution_count": 1,
   "id": "e73a8399-fcd1-4f24-b699-9d64406e39d6",
   "metadata": {},
   "outputs": [],
   "source": [
    "from typing import List"
   ]
  },
  {
   "cell_type": "code",
   "execution_count": 2,
   "id": "40443e98-53f6-4c88-9acf-8203727d1a20",
   "metadata": {},
   "outputs": [],
   "source": [
    "class Solution:\n",
    "    def maxSideLength(self, mat: List[List[int]], threshold: int) -> int:\n",
    "        rs, cs = len(mat), len(mat[0])\n",
    "        for r in range(rs):\n",
    "            for c in range(cs):\n",
    "                mat[r][c] += mat[r - 1][c] if r > 0 else 0\n",
    "                mat[r][c] += mat[r][c - 1] if c > 0 else 0\n",
    "                mat[r][c] -= mat[r - 1][c - 1] if r > 0 and c > 0 else 0\n",
    "        res = 0\n",
    "        def acc(r, c, s):\n",
    "            s -= 1\n",
    "            v = mat[r + s][c + s]\n",
    "            v -= mat[r + s][c - 1] if c > 0 else 0\n",
    "            v -= mat[r - 1][c + s] if r > 0 else 0\n",
    "            v += mat[r - 1][c - 1] if r > 0 and c > 0 else 0\n",
    "            return v\n",
    "        for r in range(rs):\n",
    "            for c in range(cs):\n",
    "                lo, hi = res, min(rs - r, cs - c)\n",
    "                while lo < hi:\n",
    "                    mi = hi - (hi - lo) // 2\n",
    "                    if acc(r, c, mi) > threshold:\n",
    "                        hi = mi - 1\n",
    "                    else:\n",
    "                        lo = mi\n",
    "                res = max(res, hi) if acc(r, c, hi) <= threshold else res\n",
    "        return res"
   ]
  },
  {
   "cell_type": "code",
   "execution_count": null,
   "id": "db0ecdfe-0266-492f-8da8-6f203960fa5e",
   "metadata": {},
   "outputs": [],
   "source": [
    "class Solution:\n",
    "    def maxSideLength(self, mat: List[List[int]], threshold: int) -> int:\n",
    "        rs, cs = len(mat), len(mat[0])\n",
    "        for r in range(rs):\n",
    "            for c in range(cs):\n",
    "                mat[r][c] += mat[r - 1][c] if r > 0 else 0\n",
    "                mat[r][c] += mat[r][c - 1] if c > 0 else 0\n",
    "                mat[r][c] -= mat[r - 1][c - 1] if r > 0 and c > 0 else 0\n",
    "        res = 0\n",
    "        def acc(r, c, s):\n",
    "            if r < 0 or c < 0:\n",
    "                return threshold + 1\n",
    "            s -= 1\n",
    "            v = mat[r + s][c + s]\n",
    "            v -= mat[r + s][c - 1] if c > 0 else 0\n",
    "            v -= mat[r - 1][c + s] if r > 0 else 0\n",
    "            v += mat[r - 1][c - 1] if r > 0 and c > 0 else 0\n",
    "            return v\n",
    "        for r in range(rs):\n",
    "            for c in range(cs):\n",
    "                if acc(r - res, c - res, res + 1) <= threshold:\n",
    "                    res += 1\n",
    "        return res"
   ]
  },
  {
   "cell_type": "code",
   "execution_count": 3,
   "id": "b8c93def-f12f-4f9a-9f8c-14d26c611e6b",
   "metadata": {},
   "outputs": [],
   "source": [
    "sol = Solution()"
   ]
  },
  {
   "cell_type": "code",
   "execution_count": 4,
   "id": "04f24b57-70bf-472f-a345-b5e3e6299473",
   "metadata": {},
   "outputs": [],
   "source": [
    "assert sol.maxSideLength([[1,1,3,2,4,3,2],[1,1,3,2,4,3,2],[1,1,3,2,4,3,2]], 4) == 2"
   ]
  },
  {
   "cell_type": "code",
   "execution_count": 5,
   "id": "c1830c36-e779-43bd-ba13-4e0d55e6ba06",
   "metadata": {},
   "outputs": [],
   "source": [
    "assert sol.maxSideLength([[2,2,2,2,2],[2,2,2,2,2],[2,2,2,2,2],[2,2,2,2,2],[2,2,2,2,2]], 1) == 0"
   ]
  }
 ],
 "metadata": {
  "kernelspec": {
   "display_name": "Python 3 (ipykernel)",
   "language": "python",
   "name": "python3"
  },
  "language_info": {
   "codemirror_mode": {
    "name": "ipython",
    "version": 3
   },
   "file_extension": ".py",
   "mimetype": "text/x-python",
   "name": "python",
   "nbconvert_exporter": "python",
   "pygments_lexer": "ipython3",
   "version": "3.9.7"
  }
 },
 "nbformat": 4,
 "nbformat_minor": 5
}
