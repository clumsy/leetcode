{
 "cells": [
  {
   "cell_type": "markdown",
   "id": "96b061d8-c529-441b-ae2a-9db6cf217f64",
   "metadata": {},
   "source": [
    "[Problem 916](https://leetcode.com/problems/word-subsets/description)"
   ]
  },
  {
   "cell_type": "code",
   "execution_count": 1,
   "id": "74212ef2-47b6-47c2-900b-b80baef4a699",
   "metadata": {},
   "outputs": [],
   "source": [
    "from typing import List\n",
    "from collections import Counter"
   ]
  },
  {
   "cell_type": "code",
   "execution_count": 2,
   "id": "3ef340c0-0db3-4c51-bb3a-739a050ab136",
   "metadata": {},
   "outputs": [],
   "source": [
    "class Solution:\n",
    "    def wordSubsets(self, words1: List[str], words2: List[str]) -> List[str]:\n",
    "        mask = Counter()\n",
    "        for w2 in words2:\n",
    "            mask |= Counter(w2)\n",
    "        res = [w1 for w1 in words1 if Counter(w1) & mask == mask]\n",
    "        return res"
   ]
  },
  {
   "cell_type": "code",
   "execution_count": 3,
   "id": "6869bab2-de9a-4337-a629-cfc11e0ff896",
   "metadata": {},
   "outputs": [],
   "source": [
    "sol = Solution()"
   ]
  },
  {
   "cell_type": "code",
   "execution_count": 4,
   "id": "e9c918c9-7c5a-494a-bf8f-e7eb7b25fa5d",
   "metadata": {},
   "outputs": [],
   "source": [
    "assert sol.wordSubsets([\"amazon\",\"apple\",\"facebook\",\"google\",\"leetcode\"], [\"e\",\"o\"]) == [\"facebook\",\"google\",\"leetcode\"]"
   ]
  },
  {
   "cell_type": "code",
   "execution_count": 5,
   "id": "3d11315e-635a-4c8c-89cd-baaa2d7e9d2e",
   "metadata": {},
   "outputs": [],
   "source": [
    "assert sol.wordSubsets([\"amazon\",\"apple\",\"facebook\",\"google\",\"leetcode\"], [\"l\",\"e\"]) == [\"apple\",\"google\",\"leetcode\"]"
   ]
  }
 ],
 "metadata": {
  "kernelspec": {
   "display_name": "Python 3 (ipykernel)",
   "language": "python",
   "name": "python3"
  },
  "language_info": {
   "codemirror_mode": {
    "name": "ipython",
    "version": 3
   },
   "file_extension": ".py",
   "mimetype": "text/x-python",
   "name": "python",
   "nbconvert_exporter": "python",
   "pygments_lexer": "ipython3",
   "version": "3.9.7"
  }
 },
 "nbformat": 4,
 "nbformat_minor": 5
}
