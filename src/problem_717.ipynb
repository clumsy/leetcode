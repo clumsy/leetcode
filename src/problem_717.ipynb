{
 "cells": [
  {
   "cell_type": "markdown",
   "id": "390d833f-e54c-4275-9311-8c5cb1415239",
   "metadata": {},
   "source": [
    "[Problem 717](https://leetcode.com/problems/1-bit-and-2-bit-characters/description)"
   ]
  },
  {
   "cell_type": "code",
   "execution_count": 1,
   "id": "e3e1e310-d687-4f45-86fc-85a5acde6d6b",
   "metadata": {},
   "outputs": [],
   "source": [
    "from typing import List"
   ]
  },
  {
   "cell_type": "code",
   "execution_count": 2,
   "id": "3840e33f-8006-416f-bcbe-85b73f87726c",
   "metadata": {},
   "outputs": [],
   "source": [
    "class Solution:\n",
    "    def isOneBitCharacter(self, bits: List[int]) -> bool:\n",
    "        ones, i = 0, len(bits) - 2\n",
    "        while i >= 0 and bits[i] == 1:\n",
    "            i -= 1\n",
    "            ones += 1\n",
    "        res = ones & 1 == 0\n",
    "        return res"
   ]
  },
  {
   "cell_type": "code",
   "execution_count": 3,
   "id": "122bf2fc-d5d9-4a01-b0bc-6526b0a70870",
   "metadata": {},
   "outputs": [],
   "source": [
    "sol = Solution()"
   ]
  },
  {
   "cell_type": "code",
   "execution_count": 4,
   "id": "c22e1ee0-47a5-4f5b-9c8a-da599e73265b",
   "metadata": {},
   "outputs": [],
   "source": [
    "assert sol.isOneBitCharacter([1,0,0])"
   ]
  },
  {
   "cell_type": "code",
   "execution_count": 5,
   "id": "0849cecc-218b-46f3-ab28-770b3ecd09c1",
   "metadata": {},
   "outputs": [],
   "source": [
    "assert not sol.isOneBitCharacter([1,1,1,0])"
   ]
  }
 ],
 "metadata": {
  "kernelspec": {
   "display_name": "Python 3 (ipykernel)",
   "language": "python",
   "name": "python3"
  },
  "language_info": {
   "codemirror_mode": {
    "name": "ipython",
    "version": 3
   },
   "file_extension": ".py",
   "mimetype": "text/x-python",
   "name": "python",
   "nbconvert_exporter": "python",
   "pygments_lexer": "ipython3",
   "version": "3.9.7"
  }
 },
 "nbformat": 4,
 "nbformat_minor": 5
}
