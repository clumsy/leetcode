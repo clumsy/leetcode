{
 "cells": [
  {
   "cell_type": "markdown",
   "id": "c86d8f79-8b2e-4837-9144-505dd3cb7f5a",
   "metadata": {},
   "source": [
    "[Problem 655](https://leetcode.com/problems/print-binary-tree/description)"
   ]
  },
  {
   "cell_type": "code",
   "execution_count": 1,
   "id": "76cd4e1a-5e1d-4e29-826b-d78a7aab2bab",
   "metadata": {},
   "outputs": [],
   "source": [
    "class TreeNode:\n",
    "    def __init__(self, val=0, left=None, right=None):\n",
    "        self.val = val\n",
    "        self.left = left\n",
    "        self.right = right"
   ]
  },
  {
   "cell_type": "code",
   "execution_count": 2,
   "id": "693be9ef-a1d9-44b4-bb17-55dc22f8597f",
   "metadata": {},
   "outputs": [],
   "source": [
    "from typing import List, Optional"
   ]
  },
  {
   "cell_type": "code",
   "execution_count": 3,
   "id": "d6d6fb1d-a191-4ceb-a430-57535236e98a",
   "metadata": {},
   "outputs": [],
   "source": [
    "class Solution:\n",
    "    def printTree(self, root: Optional[TreeNode]) -> List[List[str]]:\n",
    "        def dfs_height(node):\n",
    "            if node is None:\n",
    "                return 0\n",
    "            return 1 + max(dfs_height(node.left), dfs_height(node.right))\n",
    "        height = dfs_height(root)\n",
    "        n = 2**height - 1\n",
    "        res = [[\"\"] * n for _ in range(height)]\n",
    "        def dfs_fill(node, r, c):\n",
    "            if node is None:\n",
    "                return\n",
    "            res[r][c] = str(node.val)\n",
    "            dfs_fill(node.left, r + 1, c - 2**(height - 1 - r - 1))\n",
    "            dfs_fill(node.right, r + 1, c + 2**(height - 1 - r - 1))\n",
    "        dfs_fill(root, 0, (n - 1) // 2)\n",
    "        return res"
   ]
  },
  {
   "cell_type": "code",
   "execution_count": 4,
   "id": "cfca96df-392f-4a52-9969-30df62f65e4a",
   "metadata": {},
   "outputs": [],
   "source": [
    "sol = Solution()"
   ]
  },
  {
   "cell_type": "code",
   "execution_count": 5,
   "id": "71d2cf86-3e88-4a96-a746-45bd7afb02e5",
   "metadata": {},
   "outputs": [],
   "source": [
    "from collections import deque\n",
    "\n",
    "null = None  # to use Leetcode samples as is\n",
    "\n",
    "def tree(values):\n",
    "    if not values:\n",
    "        return null\n",
    "    root = TreeNode(values[0])\n",
    "    queue = deque()\n",
    "    queue.append(root)\n",
    "    queue.append(None)\n",
    "    length = len(values)\n",
    "    i = 0\n",
    "    while queue:\n",
    "        current = queue.popleft()\n",
    "        if current:\n",
    "            i += 1\n",
    "            if i < length and values[i]:\n",
    "                current.left = TreeNode(values[i])\n",
    "                queue.append(current.left)\n",
    "            i += 1\n",
    "            if i < length and values[i]:\n",
    "                current.right = TreeNode(values[i])\n",
    "                queue.append(current.right)\n",
    "            if i == length:\n",
    "                return root\n",
    "        else:\n",
    "            if queue:\n",
    "                queue.append(None)\n",
    "    return root"
   ]
  },
  {
   "cell_type": "code",
   "execution_count": 7,
   "id": "fc66dc27-7d9f-4b15-87de-a25b7bc094f3",
   "metadata": {},
   "outputs": [],
   "source": [
    "assert sol.printTree(tree([1,2])) == [[\"\",\"1\",\"\"],[\"2\",\"\",\"\"]]"
   ]
  },
  {
   "cell_type": "code",
   "execution_count": 9,
   "id": "3e7a121c-c144-48c7-9de3-bc31f8c9b661",
   "metadata": {},
   "outputs": [],
   "source": [
    "assert sol.printTree(tree([1,2,3,null,4])) == [[\"\",\"\",\"\",\"1\",\"\",\"\",\"\"],[\"\",\"2\",\"\",\"\",\"\",\"3\",\"\"],[\"\",\"\",\"4\",\"\",\"\",\"\",\"\"]]"
   ]
  }
 ],
 "metadata": {
  "kernelspec": {
   "display_name": "Python 3 (ipykernel)",
   "language": "python",
   "name": "python3"
  },
  "language_info": {
   "codemirror_mode": {
    "name": "ipython",
    "version": 3
   },
   "file_extension": ".py",
   "mimetype": "text/x-python",
   "name": "python",
   "nbconvert_exporter": "python",
   "pygments_lexer": "ipython3",
   "version": "3.9.7"
  }
 },
 "nbformat": 4,
 "nbformat_minor": 5
}
