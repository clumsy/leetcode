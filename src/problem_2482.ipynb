{
 "cells": [
  {
   "cell_type": "markdown",
   "id": "1ea1df2d-b310-4989-a98e-fcfe5a2e14dd",
   "metadata": {},
   "source": [
    "[Problem 2482](https://leetcode.com/problems/difference-between-ones-and-zeros-in-row-and-column/description)"
   ]
  },
  {
   "cell_type": "code",
   "execution_count": 1,
   "id": "cece7c78-6e3d-44c2-b2f6-6b82f661a894",
   "metadata": {},
   "outputs": [],
   "source": [
    "from typing import List"
   ]
  },
  {
   "cell_type": "code",
   "execution_count": 2,
   "id": "434dbd03-9d3f-4c7d-9975-87a591da3765",
   "metadata": {},
   "outputs": [],
   "source": [
    "class Solution:\n",
    "    def onesMinusZeros(self, grid: List[List[int]]) -> List[List[int]]:\n",
    "        m, n = len(grid), len(grid[0])\n",
    "        ones_row, ones_col = [0] * m, [0] * n\n",
    "        for r in range(m):\n",
    "            for c in range(n):\n",
    "                ones_row[r] += grid[r][c]\n",
    "                ones_col[c] += grid[r][c]\n",
    "        for r in range(m):\n",
    "            for c in range(n):\n",
    "                # ones_row[r] + ones_col[c] - (m - ones_row[r]) - (n - ones_col[c])\n",
    "                grid[r][c] = 2 * ones_row[r] + 2 * ones_col[c] - m - n\n",
    "        return grid"
   ]
  },
  {
   "cell_type": "code",
   "execution_count": 3,
   "id": "04261e6d-fe6b-41b3-b96a-ebd1f1342ca9",
   "metadata": {},
   "outputs": [],
   "source": [
    "sol = Solution()"
   ]
  },
  {
   "cell_type": "code",
   "execution_count": 4,
   "id": "28ae53e4-9dc4-440d-87f9-0ec22ff79ce6",
   "metadata": {},
   "outputs": [],
   "source": [
    "assert sol.onesMinusZeros([[0,1,1],[1,0,1],[0,0,1]]) == [[0,0,4],[0,0,4],[-2,-2,2]]"
   ]
  },
  {
   "cell_type": "code",
   "execution_count": 5,
   "id": "f811bc65-8d65-4e37-af05-7fbaa81f6ac9",
   "metadata": {},
   "outputs": [],
   "source": [
    "assert sol.onesMinusZeros([[1,1,1],[1,1,1]]) == [[5,5,5],[5,5,5]]"
   ]
  }
 ],
 "metadata": {
  "kernelspec": {
   "display_name": "Python 3 (ipykernel)",
   "language": "python",
   "name": "python3"
  },
  "language_info": {
   "codemirror_mode": {
    "name": "ipython",
    "version": 3
   },
   "file_extension": ".py",
   "mimetype": "text/x-python",
   "name": "python",
   "nbconvert_exporter": "python",
   "pygments_lexer": "ipython3",
   "version": "3.9.7"
  }
 },
 "nbformat": 4,
 "nbformat_minor": 5
}
