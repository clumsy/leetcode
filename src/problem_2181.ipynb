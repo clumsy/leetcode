{
 "cells": [
  {
   "cell_type": "markdown",
   "id": "910f31ae-7634-4cca-bcf9-d319e8d59e19",
   "metadata": {},
   "source": [
    "[Problem 2181](https://leetcode.com/problems/merge-nodes-in-between-zeros/)"
   ]
  },
  {
   "cell_type": "code",
   "execution_count": 13,
   "id": "2b501717-e959-41aa-a370-7919a6bcf180",
   "metadata": {},
   "outputs": [],
   "source": [
    "from typing import Optional"
   ]
  },
  {
   "cell_type": "code",
   "execution_count": 14,
   "id": "7230c4db-d378-4551-af0e-b4816fb0aa61",
   "metadata": {},
   "outputs": [],
   "source": [
    "# Definition for singly-linked list.\n",
    "class ListNode:\n",
    "    def __init__(self, val=0, next=None):\n",
    "        self.val = val\n",
    "        self.next = next"
   ]
  },
  {
   "cell_type": "code",
   "execution_count": 15,
   "id": "b8f11998-474a-42e4-b1db-1bab781627bf",
   "metadata": {},
   "outputs": [],
   "source": [
    "class Solution:\n",
    "    def mergeNodes(self, head: Optional[ListNode]) -> Optional[ListNode]:\n",
    "        cur = head;\n",
    "        nxt = head.next\n",
    "        while cur:\n",
    "            while nxt and nxt.val:\n",
    "                cur.val += nxt.val\n",
    "                nxt = nxt.next\n",
    "                cur.next = nxt\n",
    "            if cur.next and not cur.next.next:\n",
    "                cur.next = None\n",
    "            cur = cur.next \n",
    "            nxt = cur.next if cur else None\n",
    "        return head"
   ]
  }
 ],
 "metadata": {
  "kernelspec": {
   "display_name": "Python 3 (ipykernel)",
   "language": "python",
   "name": "python3"
  },
  "language_info": {
   "codemirror_mode": {
    "name": "ipython",
    "version": 3
   },
   "file_extension": ".py",
   "mimetype": "text/x-python",
   "name": "python",
   "nbconvert_exporter": "python",
   "pygments_lexer": "ipython3",
   "version": "3.9.7"
  }
 },
 "nbformat": 4,
 "nbformat_minor": 5
}
