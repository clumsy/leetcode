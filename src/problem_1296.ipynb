{
 "cells": [
  {
   "cell_type": "markdown",
   "id": "e4d1f3f1-fdc3-4467-8a6e-3c59c17b59c9",
   "metadata": {},
   "source": [
    "[Problem 1296](https://leetcode.com/problems/divide-array-in-sets-of-k-consecutive-numbers/description)"
   ]
  },
  {
   "cell_type": "code",
   "execution_count": 1,
   "id": "58289362-65b9-4324-b91d-62269ee75456",
   "metadata": {},
   "outputs": [],
   "source": [
    "from typing import List\n",
    "from collections import Counter"
   ]
  },
  {
   "cell_type": "code",
   "execution_count": 2,
   "id": "3db2c0ce-f053-4b46-9d16-d952aabac356",
   "metadata": {},
   "outputs": [],
   "source": [
    "class Solution:\n",
    "    def isPossibleDivide(self, nums: List[int], k: int) -> bool:\n",
    "        res, cnt = True, Counter(nums)\n",
    "        for v in sorted(cnt.keys()):\n",
    "            if not res:\n",
    "                break\n",
    "            if not cnt[v]:\n",
    "                continue\n",
    "            for i in range(k)[::-1]:\n",
    "                if cnt[v + i]:\n",
    "                    cnt[v + i] -= cnt[v]\n",
    "                else:\n",
    "                    res = False\n",
    "                    break\n",
    "        return res"
   ]
  },
  {
   "cell_type": "code",
   "execution_count": 3,
   "id": "ade1839f-5611-4bed-9091-3e2ce342d2a1",
   "metadata": {},
   "outputs": [],
   "source": [
    "sol = Solution()"
   ]
  },
  {
   "cell_type": "code",
   "execution_count": 4,
   "id": "c9ae0ec5-9d31-473b-b62f-e99820389c85",
   "metadata": {},
   "outputs": [],
   "source": [
    "assert sol.isPossibleDivide([1,2,3,3,4,4,5,6], 4)"
   ]
  },
  {
   "cell_type": "code",
   "execution_count": 5,
   "id": "42886a2e-d1d5-483d-be9e-9dc90d41d099",
   "metadata": {},
   "outputs": [],
   "source": [
    "assert sol.isPossibleDivide([3,2,1,2,3,4,3,4,5,9,10,11], 3)"
   ]
  },
  {
   "cell_type": "code",
   "execution_count": 6,
   "id": "1a79ad52-392e-4205-a2be-77afe8901d2d",
   "metadata": {},
   "outputs": [],
   "source": [
    "assert not sol.isPossibleDivide([1,2,3,4], 3)"
   ]
  }
 ],
 "metadata": {
  "kernelspec": {
   "display_name": "Python 3 (ipykernel)",
   "language": "python",
   "name": "python3"
  },
  "language_info": {
   "codemirror_mode": {
    "name": "ipython",
    "version": 3
   },
   "file_extension": ".py",
   "mimetype": "text/x-python",
   "name": "python",
   "nbconvert_exporter": "python",
   "pygments_lexer": "ipython3",
   "version": "3.9.7"
  }
 },
 "nbformat": 4,
 "nbformat_minor": 5
}
