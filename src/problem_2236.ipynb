{
 "cells": [
  {
   "cell_type": "markdown",
   "id": "fe43b3c5-87f8-4a51-942a-c436dba8506a",
   "metadata": {},
   "source": [
    "[Problem 2236](https://leetcode.com/problems/root-equals-sum-of-children/description)"
   ]
  },
  {
   "cell_type": "code",
   "execution_count": 1,
   "id": "951a54a9-1eb0-42b6-a0be-f9e63cbb10bc",
   "metadata": {},
   "outputs": [],
   "source": [
    "class TreeNode:\n",
    "    def __init__(self, val=0, left=None, right=None):\n",
    "        self.val = val\n",
    "        self.left = left\n",
    "        self.right = right"
   ]
  },
  {
   "cell_type": "code",
   "execution_count": 3,
   "id": "1ad1bf07-e462-437c-8cb2-72bd5abea706",
   "metadata": {},
   "outputs": [],
   "source": [
    "from typing import Optional"
   ]
  },
  {
   "cell_type": "code",
   "execution_count": 4,
   "id": "4f21d4f4-b1ba-45ac-9f21-998b0165d7b5",
   "metadata": {},
   "outputs": [],
   "source": [
    "class Solution:\n",
    "    def checkTree(self, root: Optional[TreeNode]) -> bool:\n",
    "        res = root.val == (root.left.val + root.right.val)\n",
    "        return res"
   ]
  },
  {
   "cell_type": "code",
   "execution_count": 5,
   "id": "15b48765-f1ea-4e8b-90f5-c383ba28caf3",
   "metadata": {},
   "outputs": [],
   "source": [
    "sol = Solution()"
   ]
  },
  {
   "cell_type": "code",
   "execution_count": 6,
   "id": "a2bbccd2-aee7-4b2c-8a16-197a909c581b",
   "metadata": {},
   "outputs": [],
   "source": [
    "from collections import deque\n",
    "\n",
    "null = None  # to use Leetcode samples as is\n",
    "\n",
    "def tree(values):\n",
    "    if not values:\n",
    "        return null\n",
    "    root = TreeNode(values[0])\n",
    "    queue = deque()\n",
    "    queue.append(root)\n",
    "    queue.append(None)\n",
    "    length = len(values)\n",
    "    i = 0\n",
    "    while queue:\n",
    "        current = queue.popleft()\n",
    "        if current:\n",
    "            i += 1\n",
    "            if i < length and values[i]:\n",
    "                current.left = TreeNode(values[i])\n",
    "                queue.append(current.left)\n",
    "            i += 1\n",
    "            if i < length and values[i]:\n",
    "                current.right = TreeNode(values[i])\n",
    "                queue.append(current.right)\n",
    "            if i == length:\n",
    "                return root\n",
    "        else:\n",
    "            if queue:\n",
    "                queue.append(None)\n",
    "    return root"
   ]
  },
  {
   "cell_type": "code",
   "execution_count": 7,
   "id": "7c14bc43-c760-4f2a-a733-04c7dcd2ea4c",
   "metadata": {},
   "outputs": [],
   "source": [
    "assert sol.checkTree(tree([10,4,6]))"
   ]
  },
  {
   "cell_type": "code",
   "execution_count": 9,
   "id": "c080bea2-35a4-41d5-9d36-24973f454525",
   "metadata": {},
   "outputs": [],
   "source": [
    "assert not sol.checkTree(tree([5,3,1]))"
   ]
  }
 ],
 "metadata": {
  "kernelspec": {
   "display_name": "Python 3 (ipykernel)",
   "language": "python",
   "name": "python3"
  },
  "language_info": {
   "codemirror_mode": {
    "name": "ipython",
    "version": 3
   },
   "file_extension": ".py",
   "mimetype": "text/x-python",
   "name": "python",
   "nbconvert_exporter": "python",
   "pygments_lexer": "ipython3",
   "version": "3.9.7"
  }
 },
 "nbformat": 4,
 "nbformat_minor": 5
}
