{
 "cells": [
  {
   "cell_type": "markdown",
   "id": "efd80269-643d-4500-a88d-a8181eaa236c",
   "metadata": {},
   "source": [
    "[Problem 852](https://leetcode.com/problems/peak-index-in-a-mountain-array/)"
   ]
  },
  {
   "cell_type": "code",
   "execution_count": 1,
   "id": "93808779-d036-4d1b-beab-0ace5af6a58a",
   "metadata": {},
   "outputs": [],
   "source": [
    "class Solution(object):\n",
    "    def peakIndexInMountainArray(self, A):\n",
    "        lo, hi = 0, len(A) - 1\n",
    "        while lo < hi:\n",
    "            mi = (lo + hi) // 2\n",
    "            if A[mi] < A[mi + 1]:\n",
    "                lo = mi + 1\n",
    "            else:\n",
    "                hi = mi\n",
    "        return lo"
   ]
  },
  {
   "cell_type": "code",
   "execution_count": 2,
   "id": "8c56fbd5-0617-4a75-9797-920350505ec0",
   "metadata": {},
   "outputs": [],
   "source": [
    "sol = Solution()"
   ]
  },
  {
   "cell_type": "code",
   "execution_count": 3,
   "id": "08b4e9de-adbb-435d-a1da-6c174a44535a",
   "metadata": {},
   "outputs": [],
   "source": [
    "assert sol.peakIndexInMountainArray([0,1,0]) == 1"
   ]
  },
  {
   "cell_type": "code",
   "execution_count": 4,
   "id": "70c1af5f-47a3-437d-a522-864cf4bc3b68",
   "metadata": {},
   "outputs": [],
   "source": [
    "assert sol.peakIndexInMountainArray([0,2,1,0]) == 1"
   ]
  },
  {
   "cell_type": "code",
   "execution_count": 5,
   "id": "a43b3d55-cc9c-4e74-8995-9165f40e4f03",
   "metadata": {},
   "outputs": [],
   "source": [
    "assert sol.peakIndexInMountainArray([0,10,5,2]) == 1"
   ]
  }
 ],
 "metadata": {
  "kernelspec": {
   "display_name": "Python 3 (ipykernel)",
   "language": "python",
   "name": "python3"
  },
  "language_info": {
   "codemirror_mode": {
    "name": "ipython",
    "version": 3
   },
   "file_extension": ".py",
   "mimetype": "text/x-python",
   "name": "python",
   "nbconvert_exporter": "python",
   "pygments_lexer": "ipython3",
   "version": "3.9.7"
  }
 },
 "nbformat": 4,
 "nbformat_minor": 5
}
