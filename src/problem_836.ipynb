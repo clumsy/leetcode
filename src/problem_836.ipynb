{
 "cells": [
  {
   "cell_type": "markdown",
   "id": "51580844-7ee4-4c24-b46e-7b0c90c568c9",
   "metadata": {},
   "source": [
    "[Problem 836](https://leetcode.com/problems/rectangle-overlap/description)"
   ]
  },
  {
   "cell_type": "code",
   "execution_count": 1,
   "id": "cc0719eb-d859-4a6e-9d19-051cfe034194",
   "metadata": {},
   "outputs": [],
   "source": [
    "from typing import List"
   ]
  },
  {
   "cell_type": "code",
   "execution_count": 2,
   "id": "c5a01754-ae46-431a-9ab4-7e5ccb2df74c",
   "metadata": {},
   "outputs": [],
   "source": [
    "class Solution:\n",
    "    def isRectangleOverlap(self, rec1: List[int], rec2: List[int]) -> bool:\n",
    "        r1x1, r1y1, r1x2, r1y2 = rec1\n",
    "        r2x1, r2y1, r2x2, r2y2 = rec2\n",
    "        res = (r1x1 <= r2x1 < r1x2 or r2x1 <= r1x1 < r2x2) and (r1y1 <= r2y1 < r1y2 or r2y1 <= r1y1 < r2y2)\n",
    "        return res"
   ]
  },
  {
   "cell_type": "code",
   "execution_count": 3,
   "id": "f6272596-8d74-4672-bec7-21dbe001b96a",
   "metadata": {},
   "outputs": [],
   "source": [
    "sol = Solution()"
   ]
  },
  {
   "cell_type": "code",
   "execution_count": 4,
   "id": "1d7a9d41-86f1-45d7-a3db-d8d8abdd0f64",
   "metadata": {},
   "outputs": [],
   "source": [
    "assert sol.isRectangleOverlap([0,0,2,2], [1,1,3,3])"
   ]
  },
  {
   "cell_type": "code",
   "execution_count": 5,
   "id": "2e3d13ae-e238-4243-9949-23f0336a6ad9",
   "metadata": {},
   "outputs": [],
   "source": [
    "assert not sol.isRectangleOverlap([0,0,1,1], [1,0,2,1])"
   ]
  },
  {
   "cell_type": "code",
   "execution_count": 6,
   "id": "bd788a08-fbd0-4299-b758-9a088e0c1e61",
   "metadata": {},
   "outputs": [],
   "source": [
    "assert not sol.isRectangleOverlap([0,0,1,1], [2,2,3,3])"
   ]
  }
 ],
 "metadata": {
  "kernelspec": {
   "display_name": "Python 3 (ipykernel)",
   "language": "python",
   "name": "python3"
  },
  "language_info": {
   "codemirror_mode": {
    "name": "ipython",
    "version": 3
   },
   "file_extension": ".py",
   "mimetype": "text/x-python",
   "name": "python",
   "nbconvert_exporter": "python",
   "pygments_lexer": "ipython3",
   "version": "3.9.7"
  }
 },
 "nbformat": 4,
 "nbformat_minor": 5
}
