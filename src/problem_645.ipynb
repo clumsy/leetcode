{
 "cells": [
  {
   "cell_type": "markdown",
   "id": "542f486b-8f49-45c0-a02f-06b7a02339dc",
   "metadata": {},
   "source": [
    "[Problem 645](https://leetcode.com/problems/set-mismatch/description)"
   ]
  },
  {
   "cell_type": "code",
   "execution_count": null,
   "id": "9298f19c-f70e-4648-9d15-3a4e09ecb0c8",
   "metadata": {},
   "outputs": [],
   "source": [
    "from typing import List"
   ]
  },
  {
   "cell_type": "code",
   "execution_count": null,
   "id": "37bf5aa0-f205-4d6c-84d0-7801142bf654",
   "metadata": {},
   "outputs": [],
   "source": [
    "class Solution:\n",
    "    def findErrorNums(self, nums: List[int]) -> List[int]:\n",
    "        for i, num in enumerate(nums):\n",
    "            while nums[num - 1] != num:\n",
    "                nums[i], nums[num - 1] = nums[num - 1], nums[i]\n",
    "                num = nums[i]\n",
    "            if i != num - 1:\n",
    "                dupe = num\n",
    "                break\n",
    "        n = len(nums)\n",
    "        # s - x + y = sum(nums)\n",
    "        diff = ((1 + n) * n) // 2 - sum(nums)\n",
    "        res = [dupe, dupe + diff]\n",
    "        return res"
   ]
  },
  {
   "cell_type": "code",
   "execution_count": null,
   "id": "071bb4be-f0a3-4ed1-a7a3-95bcfdf6b08f",
   "metadata": {},
   "outputs": [],
   "source": [
    "class Solution:\n",
    "    def findErrorNums(self, nums: List[int]) -> List[int]:\n",
    "        n, x = len(nums), 0\n",
    "        # a = y - x\n",
    "        a = -sum(nums) + (n * (n + 1)) // 2\n",
    "        # b = y**2 - x**2\n",
    "        b = -sum(i**2 for i in nums) + (n * (n + 1) * (2*n + 1)) // 6\n",
    "        # b/a = y + x\n",
    "        # 2x = b/a - a\n",
    "        # 2y = b/a + a\n",
    "        x = (b - a**2)//(2*a)\n",
    "        y = (b + a**2)//(2*a)\n",
    "        res = [x, y]\n",
    "        return res"
   ]
  },
  {
   "cell_type": "code",
   "execution_count": null,
   "id": "c3794aea-2544-4c08-82c3-a8f8fb93f3b6",
   "metadata": {},
   "outputs": [],
   "source": [
    "sol = Solution()"
   ]
  },
  {
   "cell_type": "code",
   "execution_count": null,
   "id": "06d15948-d0aa-42c2-a271-20303faa57f2",
   "metadata": {},
   "outputs": [],
   "source": [
    "assert sol.findErrorNums([1,2,2,4]) == [2,3]"
   ]
  },
  {
   "cell_type": "code",
   "execution_count": null,
   "id": "22cb12b4-d8d6-40e1-9904-c5927cb529bd",
   "metadata": {},
   "outputs": [],
   "source": [
    "assert sol.findErrorNums([1,1]) == [1,2]"
   ]
  }
 ],
 "metadata": {
  "kernelspec": {
   "display_name": "Python 3 (ipykernel)",
   "language": "python",
   "name": "python3"
  },
  "language_info": {
   "codemirror_mode": {
    "name": "ipython",
    "version": 3
   },
   "file_extension": ".py",
   "mimetype": "text/x-python",
   "name": "python",
   "nbconvert_exporter": "python",
   "pygments_lexer": "ipython3",
   "version": "3.9.7"
  }
 },
 "nbformat": 4,
 "nbformat_minor": 5
}
