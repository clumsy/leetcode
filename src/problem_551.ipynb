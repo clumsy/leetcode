{
 "cells": [
  {
   "cell_type": "markdown",
   "id": "29174f45-b0b5-45a6-9352-4b7ac33a7071",
   "metadata": {},
   "source": [
    "[Problem 551](https://leetcode.com/problems/student-attendance-record-i/description)"
   ]
  },
  {
   "cell_type": "code",
   "execution_count": 1,
   "id": "ed9a4b61-4037-41ba-a6bc-fdd72ac8ba10",
   "metadata": {},
   "outputs": [],
   "source": [
    "class Solution:\n",
    "    def checkRecord(self, s: str) -> bool:\n",
    "        res = \"LLL\" not in s and s.count(\"A\") < 2\n",
    "        return res"
   ]
  },
  {
   "cell_type": "code",
   "execution_count": 2,
   "id": "d519cee8-792e-4c68-b6b6-fbfcdeafc823",
   "metadata": {},
   "outputs": [],
   "source": [
    "sol = Solution()"
   ]
  },
  {
   "cell_type": "code",
   "execution_count": 3,
   "id": "92221319-ed6b-43ed-893a-c42ccb4f61bf",
   "metadata": {},
   "outputs": [],
   "source": [
    "assert sol.checkRecord(\"PPALLP\")"
   ]
  },
  {
   "cell_type": "code",
   "execution_count": 4,
   "id": "7e8ce72d-2c56-40bb-a4d9-546c6a2bfc27",
   "metadata": {},
   "outputs": [],
   "source": [
    "assert not sol.checkRecord(\"PPALLL\")"
   ]
  }
 ],
 "metadata": {
  "kernelspec": {
   "display_name": "Python 3 (ipykernel)",
   "language": "python",
   "name": "python3"
  },
  "language_info": {
   "codemirror_mode": {
    "name": "ipython",
    "version": 3
   },
   "file_extension": ".py",
   "mimetype": "text/x-python",
   "name": "python",
   "nbconvert_exporter": "python",
   "pygments_lexer": "ipython3",
   "version": "3.9.7"
  }
 },
 "nbformat": 4,
 "nbformat_minor": 5
}
