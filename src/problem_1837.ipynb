{
 "cells": [
  {
   "cell_type": "markdown",
   "id": "6ed324c8-5f76-4ad6-9a5e-a97377efc57a",
   "metadata": {},
   "source": [
    "[Problem 1837](https://leetcode.com/problems/sum-of-digits-in-base-k/description)"
   ]
  },
  {
   "cell_type": "code",
   "execution_count": 1,
   "id": "1266447b-61d4-4729-9c04-ef7b782cbc25",
   "metadata": {},
   "outputs": [],
   "source": [
    "class Solution:\n",
    "    def sumBase(self, n: int, k: int) -> int:\n",
    "        res = 0\n",
    "        while n:\n",
    "            n, r = divmod(n, k)\n",
    "            res += r\n",
    "        return res"
   ]
  },
  {
   "cell_type": "code",
   "execution_count": 2,
   "id": "099a20fc-a71e-4bf0-8975-e78936d4ea5d",
   "metadata": {},
   "outputs": [],
   "source": [
    "sol = Solution()"
   ]
  },
  {
   "cell_type": "code",
   "execution_count": 3,
   "id": "66f2dffe-4db7-4211-8acd-20287ee34559",
   "metadata": {},
   "outputs": [],
   "source": [
    "assert sol.sumBase(34, 6) == 9"
   ]
  },
  {
   "cell_type": "code",
   "execution_count": 4,
   "id": "ab978a3c-dc33-4836-b6dd-37aa28acff3e",
   "metadata": {},
   "outputs": [],
   "source": [
    "assert sol.sumBase(10, 10) == 1"
   ]
  }
 ],
 "metadata": {
  "kernelspec": {
   "display_name": "Python 3 (ipykernel)",
   "language": "python",
   "name": "python3"
  },
  "language_info": {
   "codemirror_mode": {
    "name": "ipython",
    "version": 3
   },
   "file_extension": ".py",
   "mimetype": "text/x-python",
   "name": "python",
   "nbconvert_exporter": "python",
   "pygments_lexer": "ipython3",
   "version": "3.9.7"
  }
 },
 "nbformat": 4,
 "nbformat_minor": 5
}
