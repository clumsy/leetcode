{
 "cells": [
  {
   "cell_type": "markdown",
   "id": "5307387f-ef18-4964-b74d-e8f4e9d8b8bd",
   "metadata": {},
   "source": [
    "[Problem 1625](https://leetcode.com/problems/lexicographically-smallest-string-after-applying-operations/description)"
   ]
  },
  {
   "cell_type": "code",
   "execution_count": 1,
   "id": "3a709623-63ef-4109-b251-ca94b8ab40f2",
   "metadata": {},
   "outputs": [],
   "source": [
    "class Solution:\n",
    "    def findLexSmallestString(self, s: str, a: int, b: int) -> str:\n",
    "        res = s\n",
    "        seen, q = set(), [s]\n",
    "        while q:\n",
    "            cur = q.pop()\n",
    "            res = min(res, cur)\n",
    "            nxt = [int(d) for d in cur]\n",
    "            for i in range(1, len(nxt), 2):\n",
    "                nxt[i] = (nxt[i] + a) % 10\n",
    "            rot = cur[-b:] + cur[:-b]\n",
    "            for x in [rot, \"\".join(str(i) for i in nxt)]:\n",
    "                if x not in seen:\n",
    "                    seen.add(x)\n",
    "                    q.append(x)\n",
    "        return res"
   ]
  },
  {
   "cell_type": "code",
   "execution_count": 2,
   "id": "74dbc753-9c45-4581-9eab-8f86acacc750",
   "metadata": {},
   "outputs": [],
   "source": [
    "sol = Solution()"
   ]
  },
  {
   "cell_type": "code",
   "execution_count": 3,
   "id": "9bda232c-1d86-401b-ae39-a0563b918c1f",
   "metadata": {},
   "outputs": [],
   "source": [
    "assert sol.findLexSmallestString(\"5525\", 9, 2) == \"2050\""
   ]
  },
  {
   "cell_type": "code",
   "execution_count": 4,
   "id": "20ad344c-4fda-4595-a5c5-88ec815f8a38",
   "metadata": {},
   "outputs": [],
   "source": [
    "assert sol.findLexSmallestString(\"74\", 5, 1) == \"24\""
   ]
  },
  {
   "cell_type": "code",
   "execution_count": 5,
   "id": "c2439a39-7bbb-4bbc-9a2e-5db808b5eb27",
   "metadata": {},
   "outputs": [],
   "source": [
    "assert sol.findLexSmallestString(\"0011\", 4, 2) == \"0011\""
   ]
  }
 ],
 "metadata": {
  "kernelspec": {
   "display_name": "Python 3 (ipykernel)",
   "language": "python",
   "name": "python3"
  },
  "language_info": {
   "codemirror_mode": {
    "name": "ipython",
    "version": 3
   },
   "file_extension": ".py",
   "mimetype": "text/x-python",
   "name": "python",
   "nbconvert_exporter": "python",
   "pygments_lexer": "ipython3",
   "version": "3.9.7"
  }
 },
 "nbformat": 4,
 "nbformat_minor": 5
}
