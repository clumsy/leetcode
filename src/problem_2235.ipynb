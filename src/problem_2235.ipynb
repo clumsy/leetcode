{
 "cells": [
  {
   "cell_type": "markdown",
   "id": "7fa249dc-7cd5-4129-86fc-ba3dd256030c",
   "metadata": {},
   "source": [
    "[Problem 2235](https://leetcode.com/problems/add-two-integers)"
   ]
  },
  {
   "cell_type": "code",
   "execution_count": 2,
   "id": "f4ec3cd5-b4fb-42e2-adf0-1806ab45485a",
   "metadata": {},
   "outputs": [],
   "source": [
    "from typing import List"
   ]
  },
  {
   "cell_type": "code",
   "execution_count": 3,
   "id": "faba1d40-fa02-45bb-96be-3ca0945b3b4a",
   "metadata": {},
   "outputs": [],
   "source": [
    "class Solution:\n",
    "    def sum(self, num1: int, num2: int) -> int:\n",
    "        return num1 + num2"
   ]
  },
  {
   "cell_type": "code",
   "execution_count": 4,
   "id": "e28c7dba-a8c6-4915-8dc7-56bb56553237",
   "metadata": {},
   "outputs": [],
   "source": [
    "sol = Solution()"
   ]
  },
  {
   "cell_type": "code",
   "execution_count": 5,
   "id": "e461e18b-99a0-4843-ab63-5ef6070544a8",
   "metadata": {},
   "outputs": [],
   "source": [
    "assert sol.sum(12, 5) == 17"
   ]
  },
  {
   "cell_type": "code",
   "execution_count": 7,
   "id": "1eba3269-0498-469e-b880-50aac3b8d34e",
   "metadata": {},
   "outputs": [],
   "source": [
    "assert sol.sum(-10, 4) == -6"
   ]
  }
 ],
 "metadata": {
  "kernelspec": {
   "display_name": "Python 3 (ipykernel)",
   "language": "python",
   "name": "python3"
  },
  "language_info": {
   "codemirror_mode": {
    "name": "ipython",
    "version": 3
   },
   "file_extension": ".py",
   "mimetype": "text/x-python",
   "name": "python",
   "nbconvert_exporter": "python",
   "pygments_lexer": "ipython3",
   "version": "3.9.7"
  }
 },
 "nbformat": 4,
 "nbformat_minor": 5
}
