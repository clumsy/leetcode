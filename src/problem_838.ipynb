{
 "cells": [
  {
   "cell_type": "markdown",
   "id": "bdc5e7e2-1b0e-4374-a8cd-9bbe25061266",
   "metadata": {},
   "source": [
    "[Problem 838](https://leetcode.com/problems/push-dominoes/description)"
   ]
  },
  {
   "cell_type": "code",
   "execution_count": 1,
   "id": "bfe091f7-4660-4965-a53c-92e871e0388e",
   "metadata": {},
   "outputs": [],
   "source": [
    "class Solution:\n",
    "    def pushDominoes(self, dominoes: str) -> str:\n",
    "        dominoes = \"L\" + dominoes + \"R\"\n",
    "        res, prev = [], 1\n",
    "        for i, d in enumerate(dominoes):\n",
    "            n = i - prev + 1\n",
    "            if d == \"L\":\n",
    "                if dominoes[prev] != \"R\":\n",
    "                    s = \"L\" * n\n",
    "                else:  # R\n",
    "                    s = \"R\" * (n // 2) + (\".\" * (n & 1)) + \"L\" * (n // 2)\n",
    "                res.append(s)\n",
    "                prev = i + 1\n",
    "            elif d == \"R\":\n",
    "                res.append(dominoes[prev] * (n - 1))\n",
    "                prev = i\n",
    "        res = \"\".join(res)\n",
    "        return res"
   ]
  },
  {
   "cell_type": "code",
   "execution_count": 2,
   "id": "f630ce94-06b2-4a29-a2b9-0edb3d54991d",
   "metadata": {},
   "outputs": [],
   "source": [
    "sol = Solution()"
   ]
  },
  {
   "cell_type": "code",
   "execution_count": 3,
   "id": "b8ff0205-d18b-4d86-9d99-1534b5a39881",
   "metadata": {},
   "outputs": [],
   "source": [
    "assert sol.pushDominoes(\"RR.L\") == \"RR.L\""
   ]
  },
  {
   "cell_type": "code",
   "execution_count": 4,
   "id": "4e4ff775-5db1-49cd-adcb-fdb4f55f8ef6",
   "metadata": {},
   "outputs": [],
   "source": [
    "assert sol.pushDominoes(\".L.R...LR..L..\") == \"LL.RR.LLRRLL..\""
   ]
  }
 ],
 "metadata": {
  "kernelspec": {
   "display_name": "Python 3 (ipykernel)",
   "language": "python",
   "name": "python3"
  },
  "language_info": {
   "codemirror_mode": {
    "name": "ipython",
    "version": 3
   },
   "file_extension": ".py",
   "mimetype": "text/x-python",
   "name": "python",
   "nbconvert_exporter": "python",
   "pygments_lexer": "ipython3",
   "version": "3.9.7"
  }
 },
 "nbformat": 4,
 "nbformat_minor": 5
}
