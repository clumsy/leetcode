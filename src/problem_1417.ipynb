{
 "cells": [
  {
   "cell_type": "markdown",
   "id": "dd1914d3-9dee-4d12-804b-62d2fd34d469",
   "metadata": {},
   "source": [
    "[Problem 1417](https://leetcode.com/problems/reformat-the-string/description)"
   ]
  },
  {
   "cell_type": "code",
   "execution_count": 1,
   "id": "a3b35506-4b85-4b16-8be9-91b3cf5d733f",
   "metadata": {},
   "outputs": [],
   "source": [
    "from itertools import zip_longest"
   ]
  },
  {
   "cell_type": "code",
   "execution_count": 2,
   "id": "bf732bc7-85b8-435b-a650-23b0b71b6b5a",
   "metadata": {},
   "outputs": [],
   "source": [
    "class Solution:\n",
    "    def reformat(self, s: str) -> str:\n",
    "        parts = [[], []]\n",
    "        for c in s:\n",
    "            parts[c.isdigit()].append(c)\n",
    "        parts.sort(key=len, reverse=True)\n",
    "        res = \"\" if len(parts[0]) - len(parts[1]) > 1 else \"\".join(f + s for f, s in zip_longest(*parts, fillvalue=\"\"))\n",
    "        return res"
   ]
  },
  {
   "cell_type": "code",
   "execution_count": 3,
   "id": "20df5202-586f-4104-b06c-334d14a085a2",
   "metadata": {},
   "outputs": [],
   "source": [
    "sol = Solution()"
   ]
  },
  {
   "cell_type": "code",
   "execution_count": 4,
   "id": "8e5b8d81-5324-49f3-aae6-2eb90bcf92e2",
   "metadata": {},
   "outputs": [],
   "source": [
    "assert sol.reformat(\"a0b1c2\") == \"a0b1c2\""
   ]
  },
  {
   "cell_type": "code",
   "execution_count": 5,
   "id": "0d1b9273-7ee5-4ef9-9954-46fcbc74b021",
   "metadata": {},
   "outputs": [],
   "source": [
    "assert sol.reformat(\"leetcode\") == \"\""
   ]
  },
  {
   "cell_type": "code",
   "execution_count": 6,
   "id": "6587a7df-8986-4e07-9167-8b477e91937f",
   "metadata": {},
   "outputs": [],
   "source": [
    "assert sol.reformat(\"1229857369\") == \"\""
   ]
  }
 ],
 "metadata": {
  "kernelspec": {
   "display_name": "Python 3 (ipykernel)",
   "language": "python",
   "name": "python3"
  },
  "language_info": {
   "codemirror_mode": {
    "name": "ipython",
    "version": 3
   },
   "file_extension": ".py",
   "mimetype": "text/x-python",
   "name": "python",
   "nbconvert_exporter": "python",
   "pygments_lexer": "ipython3",
   "version": "3.9.7"
  }
 },
 "nbformat": 4,
 "nbformat_minor": 5
}
