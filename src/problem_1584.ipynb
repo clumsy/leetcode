{
 "cells": [
  {
   "cell_type": "markdown",
   "id": "7d43f197-d397-43b1-8836-9c6f1de85b04",
   "metadata": {},
   "source": [
    "[Problem 1584](https://leetcode.com/problems/min-cost-to-connect-all-points/description)"
   ]
  },
  {
   "cell_type": "code",
   "execution_count": 2,
   "id": "6f78ff47-e826-4e81-a933-1833ad406092",
   "metadata": {},
   "outputs": [],
   "source": [
    "from typing import List\n",
    "from heapq import heappop, heappush"
   ]
  },
  {
   "cell_type": "code",
   "execution_count": 3,
   "id": "b1c1c345-8461-4737-b05d-5ce0d3e43230",
   "metadata": {},
   "outputs": [],
   "source": [
    "class Solution:\n",
    "    def minCostConnectPoints(self, points: List[List[int]]) -> int:\n",
    "        class union_find():\n",
    "            def __init__(self, n):\n",
    "                self.n = n\n",
    "                self.pt = [i for i in range(n)]\n",
    "                self.sz = [1] * n\n",
    "            \n",
    "            def union(self, i, j):\n",
    "                pti, ptj = self.find(i), self.find(j)\n",
    "                if pti != ptj:\n",
    "                    if self.sz[pti] < self.sz[ptj]:\n",
    "                        i, j = j, i\n",
    "                        pti, ptj = ptj, pti\n",
    "                    self.pt[ptj] = i\n",
    "                    self.sz[pti] += self.sz[ptj]\n",
    "\n",
    "\n",
    "            def find(self, i):\n",
    "                if i != self.pt[i]:\n",
    "                    self.pt[i] = self.find(self.pt[i])\n",
    "                return self.pt[i]\n",
    "\n",
    "        # Kruskal\n",
    "        e, n = [], len(points)\n",
    "        for i in range(n - 1):\n",
    "            for j in range(i + 1, n):\n",
    "                p1, p2 = points[i], points[j]\n",
    "                d = abs(p1[0] - p2[0]) + abs(p1[1] - p2[1])\n",
    "                heappush(e, (d, i, j))\n",
    "        res, comp = 0, union_find(n)\n",
    "        while e:\n",
    "            d, i, j = heappop(e)\n",
    "            if comp.find(i) != comp.find(j):\n",
    "                res += d\n",
    "                comp.union(i, j)\n",
    "        return res"
   ]
  },
  {
   "cell_type": "code",
   "execution_count": 4,
   "id": "52bfae45-55b7-4937-8058-1f850671d215",
   "metadata": {},
   "outputs": [],
   "source": [
    "sol = Solution()"
   ]
  },
  {
   "cell_type": "code",
   "execution_count": 5,
   "id": "8e8ae923-6494-4e73-a4e7-5db9a4284dec",
   "metadata": {},
   "outputs": [],
   "source": [
    "assert sol.minCostConnectPoints([[0,0],[2,2],[3,10],[5,2],[7,0]]) == 20"
   ]
  },
  {
   "cell_type": "code",
   "execution_count": 6,
   "id": "725e781e-296a-4b67-9477-eb9cb68e89fb",
   "metadata": {},
   "outputs": [],
   "source": [
    "assert sol.minCostConnectPoints([[3,12],[-2,5],[-4,1]]) == 18"
   ]
  }
 ],
 "metadata": {
  "kernelspec": {
   "display_name": "Python 3 (ipykernel)",
   "language": "python",
   "name": "python3"
  },
  "language_info": {
   "codemirror_mode": {
    "name": "ipython",
    "version": 3
   },
   "file_extension": ".py",
   "mimetype": "text/x-python",
   "name": "python",
   "nbconvert_exporter": "python",
   "pygments_lexer": "ipython3",
   "version": "3.9.7"
  }
 },
 "nbformat": 4,
 "nbformat_minor": 5
}
