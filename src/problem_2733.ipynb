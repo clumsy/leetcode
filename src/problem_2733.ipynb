{
 "cells": [
  {
   "cell_type": "markdown",
   "id": "35a4febe-d233-4752-b69d-be4159efdc8f",
   "metadata": {},
   "source": [
    "[Problem 2733](https://leetcode.com/problems/neither-minimum-nor-maximum/description)"
   ]
  },
  {
   "cell_type": "code",
   "execution_count": 1,
   "id": "9c627603-df64-475c-b87f-ca59986776d8",
   "metadata": {},
   "outputs": [],
   "source": [
    "from typing import List"
   ]
  },
  {
   "cell_type": "code",
   "execution_count": 2,
   "id": "bf5e4838-4994-4c6c-baef-58ad09077f1f",
   "metadata": {},
   "outputs": [],
   "source": [
    "class Solution:\n",
    "    def findNonMinOrMax(self, nums: List[int]) -> int:\n",
    "        mi = ma = res = nums[0]\n",
    "        for i in nums:\n",
    "            if i < mi:\n",
    "                mi, res = i, mi\n",
    "            elif i > ma:\n",
    "                ma, res = i, ma\n",
    "            elif mi < i < ma:\n",
    "                res = i\n",
    "                break\n",
    "        res = res if mi < res < ma else -1\n",
    "        return res"
   ]
  },
  {
   "cell_type": "code",
   "execution_count": 3,
   "id": "48c07b1f-7db9-4c65-ba6b-af24c352d084",
   "metadata": {},
   "outputs": [],
   "source": [
    "sol = Solution()"
   ]
  },
  {
   "cell_type": "code",
   "execution_count": 4,
   "id": "74bd864a-c11c-4509-b703-da1a052a955c",
   "metadata": {},
   "outputs": [],
   "source": [
    "assert sol.findNonMinOrMax([3,2,1,4]) == 3"
   ]
  },
  {
   "cell_type": "code",
   "execution_count": 5,
   "id": "73995d2f-6ad1-4102-ab77-6972b36dd9ca",
   "metadata": {},
   "outputs": [],
   "source": [
    "assert sol.findNonMinOrMax([1,2]) == -1"
   ]
  },
  {
   "cell_type": "code",
   "execution_count": 6,
   "id": "a082b422-0fd2-47c7-a7ac-1abd81ea9bbe",
   "metadata": {},
   "outputs": [],
   "source": [
    "assert sol.findNonMinOrMax([2,1,3]) == 2"
   ]
  }
 ],
 "metadata": {
  "kernelspec": {
   "display_name": "Python 3 (ipykernel)",
   "language": "python",
   "name": "python3"
  },
  "language_info": {
   "codemirror_mode": {
    "name": "ipython",
    "version": 3
   },
   "file_extension": ".py",
   "mimetype": "text/x-python",
   "name": "python",
   "nbconvert_exporter": "python",
   "pygments_lexer": "ipython3",
   "version": "3.9.7"
  }
 },
 "nbformat": 4,
 "nbformat_minor": 5
}
