{
 "cells": [
  {
   "cell_type": "markdown",
   "id": "df0ff99b-f66a-4c8f-809c-ef40e4b90fd4",
   "metadata": {},
   "source": [
    "[Problem 917](https://leetcode.com/problems/reverse-only-letters/description)"
   ]
  },
  {
   "cell_type": "code",
   "execution_count": 1,
   "id": "755ee126-1886-4090-b672-a515c5204561",
   "metadata": {},
   "outputs": [],
   "source": [
    "class Solution:\n",
    "    def reverseOnlyLetters(self, s: str) -> str:\n",
    "        res, n = list(s), len(s)\n",
    "        lo, hi = 0, n - 1\n",
    "        while True:\n",
    "            while lo < n and not res[lo].isalpha():\n",
    "                lo += 1\n",
    "            while hi >= 0 and not res[hi].isalpha():\n",
    "                hi -= 1\n",
    "            if lo < hi:\n",
    "                res[lo], res[hi] = res[hi], res[lo]\n",
    "                lo += 1\n",
    "                hi -= 1\n",
    "            else:\n",
    "                break\n",
    "        res = \"\".join(res)\n",
    "        return res"
   ]
  },
  {
   "cell_type": "code",
   "execution_count": 2,
   "id": "fd59ec9c-2fdb-4d65-9308-d123683c6e13",
   "metadata": {},
   "outputs": [],
   "source": [
    "sol = Solution()"
   ]
  },
  {
   "cell_type": "code",
   "execution_count": 3,
   "id": "ab14ab6b-7abc-45e4-b397-768840830e7c",
   "metadata": {},
   "outputs": [],
   "source": [
    "assert sol.reverseOnlyLetters(\"ab-cd\") == \"dc-ba\""
   ]
  },
  {
   "cell_type": "code",
   "execution_count": 4,
   "id": "6eec49d3-39a5-4286-9eb5-c4384ffb4f70",
   "metadata": {},
   "outputs": [],
   "source": [
    "assert sol.reverseOnlyLetters(\"a-bC-dEf-ghIj\") == \"j-Ih-gfE-dCba\""
   ]
  },
  {
   "cell_type": "code",
   "execution_count": 5,
   "id": "bf01cf5d-149c-49e3-9f23-847a926bdd3c",
   "metadata": {},
   "outputs": [],
   "source": [
    "assert sol.reverseOnlyLetters(\"Test1ng-Leet=code-Q!\") == \"Qedo1ct-eeLg=ntse-T!\""
   ]
  }
 ],
 "metadata": {
  "kernelspec": {
   "display_name": "Python 3 (ipykernel)",
   "language": "python",
   "name": "python3"
  },
  "language_info": {
   "codemirror_mode": {
    "name": "ipython",
    "version": 3
   },
   "file_extension": ".py",
   "mimetype": "text/x-python",
   "name": "python",
   "nbconvert_exporter": "python",
   "pygments_lexer": "ipython3",
   "version": "3.9.7"
  }
 },
 "nbformat": 4,
 "nbformat_minor": 5
}
