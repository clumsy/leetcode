{
 "cells": [
  {
   "cell_type": "markdown",
   "id": "6ec5ae97-b986-4198-ba1d-eabf29c885ad",
   "metadata": {},
   "source": [
    "[Problem 1403](https://leetcode.com/problems/minimum-subsequence-in-non-increasing-order/description)"
   ]
  },
  {
   "cell_type": "code",
   "execution_count": 1,
   "id": "3d6a1446-bba9-44c7-bd6d-c3e162924412",
   "metadata": {},
   "outputs": [],
   "source": [
    "from typing import List"
   ]
  },
  {
   "cell_type": "code",
   "execution_count": 2,
   "id": "91cbd6b0-b369-4712-843b-ce8adaf434fd",
   "metadata": {},
   "outputs": [],
   "source": [
    "class Solution:\n",
    "    def minSubsequence(self, nums: List[int]) -> List[int]:\n",
    "        nums.sort(reverse=True)\n",
    "        s1, s2 = 0, sum(nums)\n",
    "        res = []\n",
    "        for i in nums:\n",
    "            res.append(i)\n",
    "            s1 += i\n",
    "            s2 -= i\n",
    "            if s1 > s2:\n",
    "                break\n",
    "        return res"
   ]
  },
  {
   "cell_type": "code",
   "execution_count": 3,
   "id": "655d614a-a329-43f8-a9a0-a7984968c1e9",
   "metadata": {},
   "outputs": [],
   "source": [
    "sol = Solution()"
   ]
  },
  {
   "cell_type": "code",
   "execution_count": 5,
   "id": "6785edc2-a31a-4922-a89c-c7eda949a837",
   "metadata": {},
   "outputs": [],
   "source": [
    "assert sol.minSubsequence([4,3,10,9,8]) == [10,9]"
   ]
  },
  {
   "cell_type": "code",
   "execution_count": 6,
   "id": "f7ccecc9-ad50-4193-a4b6-7fe48ded3ed9",
   "metadata": {},
   "outputs": [],
   "source": [
    "assert sol.minSubsequence([4,4,7,6,7]) == [7,7,6]"
   ]
  }
 ],
 "metadata": {
  "kernelspec": {
   "display_name": "Python 3 (ipykernel)",
   "language": "python",
   "name": "python3"
  },
  "language_info": {
   "codemirror_mode": {
    "name": "ipython",
    "version": 3
   },
   "file_extension": ".py",
   "mimetype": "text/x-python",
   "name": "python",
   "nbconvert_exporter": "python",
   "pygments_lexer": "ipython3",
   "version": "3.9.7"
  }
 },
 "nbformat": 4,
 "nbformat_minor": 5
}
