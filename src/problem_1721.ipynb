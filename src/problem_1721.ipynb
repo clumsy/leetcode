{
 "cells": [
  {
   "cell_type": "markdown",
   "id": "34909bed-0869-4c9e-913a-c411b0bc8270",
   "metadata": {},
   "source": [
    "[Problem 1721](https://leetcode.com/problems/swapping-nodes-in-a-linked-list/description)"
   ]
  },
  {
   "cell_type": "code",
   "execution_count": 1,
   "id": "d81f7d99-3c25-4945-8d38-7c3928ac0c6d",
   "metadata": {},
   "outputs": [],
   "source": [
    "from typing import Optional"
   ]
  },
  {
   "cell_type": "code",
   "execution_count": 7,
   "id": "8a3609ef-0691-472e-995d-0e66d3d32f55",
   "metadata": {},
   "outputs": [],
   "source": [
    "class ListNode:\n",
    "    def __init__(self, val=0, next=None):\n",
    "        self.val = val\n",
    "        self.next = next\n",
    "        \n",
    "    def __eq__(self, other):\n",
    "        return self.val == other.val"
   ]
  },
  {
   "cell_type": "code",
   "execution_count": 8,
   "id": "1f786b97-19d7-4ddc-8a37-fae60b8229b9",
   "metadata": {},
   "outputs": [],
   "source": [
    "class Solution:\n",
    "    def swapNodes(self, head: Optional[ListNode], k: int) -> Optional[ListNode]:\n",
    "        cur = head\n",
    "        while cur is not None:\n",
    "            k -= 1\n",
    "            if k == 0:\n",
    "                n1 = cur  # k-th node found\n",
    "                n2 = head  # when cur is None this will point to n-k-th node\n",
    "            elif k < 0:\n",
    "                n2 = n2.next\n",
    "            cur = cur.next\n",
    "        n1.val, n2.val = n2.val, n1.val\n",
    "        return head"
   ]
  },
  {
   "cell_type": "code",
   "execution_count": 9,
   "id": "b0c88084-2c8e-4022-a84e-08cc687ee7ad",
   "metadata": {},
   "outputs": [],
   "source": [
    "sol = Solution()"
   ]
  },
  {
   "cell_type": "code",
   "execution_count": 10,
   "id": "1b34fd89-06fd-419d-ba5a-4f7027107508",
   "metadata": {},
   "outputs": [],
   "source": [
    "def as_list(vals):\n",
    "    head = cur = ListNode()\n",
    "    for i in vals:\n",
    "        cur.next = ListNode(i)\n",
    "        cur = cur.next\n",
    "    return head.next"
   ]
  },
  {
   "cell_type": "code",
   "execution_count": 11,
   "id": "50156d61-43c5-4e03-9956-fa033d5922ce",
   "metadata": {},
   "outputs": [],
   "source": [
    "assert sol.swapNodes(as_list([1,2,3,4,5]), 2) == as_list([1,4,3,2,5])"
   ]
  },
  {
   "cell_type": "code",
   "execution_count": 12,
   "id": "ca3663db-97d1-45a4-bb6d-fb34d5f2cd39",
   "metadata": {},
   "outputs": [],
   "source": [
    "assert sol.swapNodes(as_list([7,9,6,6,7,8,3,0,9,5]), 5) == as_list([7,9,6,6,8,7,3,0,9,5])"
   ]
  }
 ],
 "metadata": {
  "kernelspec": {
   "display_name": "Python 3 (ipykernel)",
   "language": "python",
   "name": "python3"
  },
  "language_info": {
   "codemirror_mode": {
    "name": "ipython",
    "version": 3
   },
   "file_extension": ".py",
   "mimetype": "text/x-python",
   "name": "python",
   "nbconvert_exporter": "python",
   "pygments_lexer": "ipython3",
   "version": "3.9.7"
  }
 },
 "nbformat": 4,
 "nbformat_minor": 5
}
