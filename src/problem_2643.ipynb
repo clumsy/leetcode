{
 "cells": [
  {
   "cell_type": "markdown",
   "id": "5bb5dee5-0ca4-4cb7-b00c-0d2908d380fb",
   "metadata": {},
   "source": [
    "[Problem 2643](https://leetcode.com/problems/row-with-maximum-ones/description)"
   ]
  },
  {
   "cell_type": "code",
   "execution_count": 1,
   "id": "836930e0-fd46-4ca7-bd36-39838ef6264e",
   "metadata": {},
   "outputs": [],
   "source": [
    "from typing import List"
   ]
  },
  {
   "cell_type": "code",
   "execution_count": 2,
   "id": "29ee4d37-32d1-4f86-ad63-76972aa98872",
   "metadata": {},
   "outputs": [],
   "source": [
    "class Solution:\n",
    "    def rowAndMaximumOnes(self, mat: List[List[int]]) -> List[int]:\n",
    "        res = [0, 0]\n",
    "        for r, row in enumerate(mat):\n",
    "            ones = sum(i == 1 for i in row)\n",
    "            if ones > res[1]:\n",
    "                res = [r, ones]\n",
    "        return res"
   ]
  },
  {
   "cell_type": "code",
   "execution_count": 3,
   "id": "ecc8a96a-8a97-4b2a-91f5-7f5591d9854d",
   "metadata": {},
   "outputs": [],
   "source": [
    "sol = Solution()"
   ]
  },
  {
   "cell_type": "code",
   "execution_count": 4,
   "id": "d5490a4d-6935-4d2b-937a-d4c9734b3412",
   "metadata": {},
   "outputs": [],
   "source": [
    "assert sol.rowAndMaximumOnes([[0,1],[1,0]]) == [0, 1]"
   ]
  },
  {
   "cell_type": "code",
   "execution_count": 5,
   "id": "454cc65a-8f3b-47f2-a3e5-a8e010a09bf4",
   "metadata": {},
   "outputs": [],
   "source": [
    "assert sol.rowAndMaximumOnes([[0,0,0],[0,1,1]]) == [1, 2]"
   ]
  },
  {
   "cell_type": "code",
   "execution_count": 6,
   "id": "4825f46a-f365-4930-af90-51fa56232632",
   "metadata": {},
   "outputs": [],
   "source": [
    "assert sol.rowAndMaximumOnes([[0,0],[1,1],[0,0]]) == [1, 2]"
   ]
  }
 ],
 "metadata": {
  "kernelspec": {
   "display_name": "Python 3 (ipykernel)",
   "language": "python",
   "name": "python3"
  },
  "language_info": {
   "codemirror_mode": {
    "name": "ipython",
    "version": 3
   },
   "file_extension": ".py",
   "mimetype": "text/x-python",
   "name": "python",
   "nbconvert_exporter": "python",
   "pygments_lexer": "ipython3",
   "version": "3.9.7"
  }
 },
 "nbformat": 4,
 "nbformat_minor": 5
}
