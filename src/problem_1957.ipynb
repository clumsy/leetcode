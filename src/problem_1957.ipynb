{
 "cells": [
  {
   "cell_type": "markdown",
   "id": "4682d1e0-8f0f-43df-a347-47674415f8d7",
   "metadata": {},
   "source": [
    "[Problem 1957](https://leetcode.com/problems/delete-characters-to-make-fancy-string/description)"
   ]
  },
  {
   "cell_type": "code",
   "execution_count": 1,
   "id": "f25486e7-7e73-483b-9af4-5a9ab094882a",
   "metadata": {},
   "outputs": [],
   "source": [
    "class Solution:\n",
    "    def makeFancyString(self, s: str) -> str:\n",
    "        res, n, size, fst = list(s), len(s), 0, 0\n",
    "        for i in range(1, n):\n",
    "            if s[i] != s[i - 1]:\n",
    "                fst = i\n",
    "            if i - fst < 2:\n",
    "                size += 1\n",
    "            res[size] = s[i]\n",
    "        res = \"\".join(res[:size + 1])\n",
    "        return res"
   ]
  },
  {
   "cell_type": "code",
   "execution_count": 2,
   "id": "3eff32a6-1498-4659-bb8c-7293bf825eb8",
   "metadata": {},
   "outputs": [],
   "source": [
    "sol = Solution()"
   ]
  },
  {
   "cell_type": "code",
   "execution_count": 3,
   "id": "bab794b1-1d94-42f5-b748-a8f6aa3b4611",
   "metadata": {},
   "outputs": [],
   "source": [
    "assert sol.makeFancyString(\"leeetcode\") == \"leetcode\""
   ]
  },
  {
   "cell_type": "code",
   "execution_count": 4,
   "id": "4c6348ba-1e8a-4c21-852d-03da49955d0c",
   "metadata": {},
   "outputs": [],
   "source": [
    "assert sol.makeFancyString(\"aaabaaaa\") == \"aabaa\""
   ]
  },
  {
   "cell_type": "code",
   "execution_count": 5,
   "id": "2bbf7754-05be-4570-a36d-9c46914a75f5",
   "metadata": {},
   "outputs": [],
   "source": [
    "assert sol.makeFancyString(\"aab\") == \"aab\""
   ]
  }
 ],
 "metadata": {
  "kernelspec": {
   "display_name": "Python 3 (ipykernel)",
   "language": "python",
   "name": "python3"
  },
  "language_info": {
   "codemirror_mode": {
    "name": "ipython",
    "version": 3
   },
   "file_extension": ".py",
   "mimetype": "text/x-python",
   "name": "python",
   "nbconvert_exporter": "python",
   "pygments_lexer": "ipython3",
   "version": "3.9.7"
  }
 },
 "nbformat": 4,
 "nbformat_minor": 5
}
