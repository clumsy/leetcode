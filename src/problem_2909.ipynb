{
 "cells": [
  {
   "cell_type": "markdown",
   "id": "66b1de78-4cbd-410f-879b-2ab163d98739",
   "metadata": {},
   "source": [
    "[Problem 2909](https://leetcode.com/problems/minimum-sum-of-mountain-triplets-ii/submissions)"
   ]
  },
  {
   "cell_type": "code",
   "execution_count": 1,
   "id": "7a9d0db9-9dfa-49a8-a163-a2266eb9da0e",
   "metadata": {},
   "outputs": [],
   "source": [
    "from typing import List\n",
    "from collections import Counter\n",
    "from heapq import heapify, heappop\n",
    "from math import inf"
   ]
  },
  {
   "cell_type": "code",
   "execution_count": 2,
   "id": "f8e90f43-011e-4979-80f7-7eae80df6bc5",
   "metadata": {},
   "outputs": [],
   "source": [
    "class Solution:\n",
    "    def minimumSum(self, nums: List[int]) -> int:\n",
    "        lo, n = nums[0], len(nums)\n",
    "        h = nums[1:]\n",
    "        heapify(h)\n",
    "        res, cnt = inf, Counter(h)\n",
    "        for i in range(1, n - 1):\n",
    "            cnt[nums[i]] -= 1\n",
    "            while cnt[h[0]] == 0:\n",
    "                heappop(h)\n",
    "            if lo < nums[i] > h[0]:\n",
    "                res = min(res, lo + nums[i] + h[0])\n",
    "            lo = min(lo, nums[i])\n",
    "        res = -1 if res is inf else res\n",
    "        return res"
   ]
  },
  {
   "cell_type": "code",
   "execution_count": 3,
   "id": "72bca0e2-b29e-44d4-84e2-953753846ed6",
   "metadata": {},
   "outputs": [],
   "source": [
    "class Solution:\n",
    "    def minimumSum(self, nums: List[int]) -> int:\n",
    "        n = len(nums)\n",
    "        lft = [nums[0]] * n\n",
    "        rgt = [nums[-1]] * n\n",
    "        for i in range(1, n):\n",
    "            lft[i] = min(nums[i], lft[i - 1])\n",
    "            rgt[n - 1 - i] = min(nums[n - 1 - i], rgt[n - i])\n",
    "        res = inf\n",
    "        for i in range(1, n - 1):\n",
    "            if lft[i - 1] < nums[i] > rgt[i + 1]:\n",
    "                res = min(res, lft[i - 1] + nums[i] + rgt[i + 1])\n",
    "        res = -1 if res is inf else res\n",
    "        return res"
   ]
  },
  {
   "cell_type": "code",
   "execution_count": 4,
   "id": "2418b18d-07ac-4631-8099-9f278b26c6b4",
   "metadata": {},
   "outputs": [],
   "source": [
    "sol = Solution()"
   ]
  },
  {
   "cell_type": "code",
   "execution_count": 5,
   "id": "71ce07f5-982f-400c-a701-a7749afff7d4",
   "metadata": {},
   "outputs": [],
   "source": [
    "assert sol.minimumSum([8,6,1,5,3]) == 9"
   ]
  },
  {
   "cell_type": "code",
   "execution_count": 6,
   "id": "b4aaf7e1-59ce-4def-a905-ffdbccb997c3",
   "metadata": {},
   "outputs": [],
   "source": [
    "assert sol.minimumSum([5,4,8,7,10,2]) == 13"
   ]
  },
  {
   "cell_type": "code",
   "execution_count": 7,
   "id": "acc2e04d-d059-4b2c-96fb-394c579012e1",
   "metadata": {},
   "outputs": [],
   "source": [
    "assert sol.minimumSum([6,5,4,3,4,5]) == -1"
   ]
  }
 ],
 "metadata": {
  "kernelspec": {
   "display_name": "Python 3 (ipykernel)",
   "language": "python",
   "name": "python3"
  },
  "language_info": {
   "codemirror_mode": {
    "name": "ipython",
    "version": 3
   },
   "file_extension": ".py",
   "mimetype": "text/x-python",
   "name": "python",
   "nbconvert_exporter": "python",
   "pygments_lexer": "ipython3",
   "version": "3.9.7"
  }
 },
 "nbformat": 4,
 "nbformat_minor": 5
}
