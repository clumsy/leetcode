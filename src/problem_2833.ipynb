{
 "cells": [
  {
   "cell_type": "markdown",
   "id": "0bdd01d9-9e9b-4a92-9a67-d771aee2ae73",
   "metadata": {},
   "source": [
    "[Problem 2833](https://leetcode.com/problems/furthest-point-from-origin/description)"
   ]
  },
  {
   "cell_type": "code",
   "execution_count": 1,
   "id": "e6ffdc88-9e1b-4fbc-bd3d-6e1aa2ba794b",
   "metadata": {},
   "outputs": [],
   "source": [
    "from collections import Counter"
   ]
  },
  {
   "cell_type": "code",
   "execution_count": 2,
   "id": "9b526dc2-4dff-499b-b8af-e128cd77145d",
   "metadata": {},
   "outputs": [],
   "source": [
    "class Solution:\n",
    "    def furthestDistanceFromOrigin(self, moves: str) -> int:\n",
    "        cnt = Counter(moves)\n",
    "        res = abs(cnt[\"L\"] - cnt[\"R\"]) + cnt[\"_\"]\n",
    "        return res"
   ]
  },
  {
   "cell_type": "code",
   "execution_count": 3,
   "id": "f89231f9-da42-4252-963a-3035dc2e1412",
   "metadata": {},
   "outputs": [],
   "source": [
    "sol = Solution()"
   ]
  },
  {
   "cell_type": "code",
   "execution_count": 4,
   "id": "65c3f78e-b056-41a2-9f28-ca2401624690",
   "metadata": {},
   "outputs": [],
   "source": [
    "assert sol.furthestDistanceFromOrigin(\"L_RL__R\") == 3"
   ]
  },
  {
   "cell_type": "code",
   "execution_count": 5,
   "id": "d99c9a67-f6ad-4880-80a5-e58167a1a21f",
   "metadata": {},
   "outputs": [],
   "source": [
    "assert sol.furthestDistanceFromOrigin(\"_R__LL_\") == 5"
   ]
  },
  {
   "cell_type": "code",
   "execution_count": 6,
   "id": "af58690f-eff2-47b7-9719-723aee0c8721",
   "metadata": {},
   "outputs": [],
   "source": [
    "assert sol.furthestDistanceFromOrigin(\"_______\") == 7"
   ]
  }
 ],
 "metadata": {
  "kernelspec": {
   "display_name": "Python 3 (ipykernel)",
   "language": "python",
   "name": "python3"
  },
  "language_info": {
   "codemirror_mode": {
    "name": "ipython",
    "version": 3
   },
   "file_extension": ".py",
   "mimetype": "text/x-python",
   "name": "python",
   "nbconvert_exporter": "python",
   "pygments_lexer": "ipython3",
   "version": "3.9.7"
  }
 },
 "nbformat": 4,
 "nbformat_minor": 5
}
