{
 "cells": [
  {
   "cell_type": "markdown",
   "id": "e3378d0f-84a8-4ecf-b6b6-fe41e45f9a14",
   "metadata": {},
   "source": [
    "[Problem 2678](https://leetcode.com/problems/number-of-senior-citizens/description)"
   ]
  },
  {
   "cell_type": "code",
   "execution_count": 1,
   "id": "b9e9815d-defd-4196-b5a0-b21f9f23215f",
   "metadata": {},
   "outputs": [],
   "source": [
    "from typing import List"
   ]
  },
  {
   "cell_type": "code",
   "execution_count": 2,
   "id": "655da1ef-f53f-44d3-ac80-80881d3059b5",
   "metadata": {},
   "outputs": [],
   "source": [
    "class Solution:\n",
    "    def countSeniors(self, details: List[str]) -> int:\n",
    "        res = sum(int(d[11:13]) > 60 for d in details)\n",
    "        return res"
   ]
  },
  {
   "cell_type": "code",
   "execution_count": 3,
   "id": "2c7fceff-0882-44e7-9cc9-8beaa6e42fe6",
   "metadata": {},
   "outputs": [],
   "source": [
    "sol = Solution()"
   ]
  },
  {
   "cell_type": "code",
   "execution_count": 4,
   "id": "d1126ff1-40ef-45e0-bcc2-a5516d0a71cb",
   "metadata": {},
   "outputs": [],
   "source": [
    "assert sol.countSeniors([\"7868190130M7522\",\"5303914400F9211\",\"9273338290F4010\"]) == 2"
   ]
  },
  {
   "cell_type": "code",
   "execution_count": 5,
   "id": "f5f07df7-54e7-4ec8-8a93-934a803ea0f0",
   "metadata": {},
   "outputs": [],
   "source": [
    "assert sol.countSeniors([\"1313579440F2036\",\"2921522980M5644\"]) == 0"
   ]
  }
 ],
 "metadata": {
  "kernelspec": {
   "display_name": "Python 3 (ipykernel)",
   "language": "python",
   "name": "python3"
  },
  "language_info": {
   "codemirror_mode": {
    "name": "ipython",
    "version": 3
   },
   "file_extension": ".py",
   "mimetype": "text/x-python",
   "name": "python",
   "nbconvert_exporter": "python",
   "pygments_lexer": "ipython3",
   "version": "3.9.7"
  }
 },
 "nbformat": 4,
 "nbformat_minor": 5
}
