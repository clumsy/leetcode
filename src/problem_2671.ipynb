{
 "cells": [
  {
   "cell_type": "markdown",
   "id": "5205b019-faf4-47b5-82a1-653124488aec",
   "metadata": {},
   "source": [
    "[Problem 2671](https://leetcode.com/problems/frequency-tracker/description)"
   ]
  },
  {
   "cell_type": "code",
   "execution_count": 1,
   "id": "c4c3715b-258f-4ed9-b143-e63cd7278b59",
   "metadata": {},
   "outputs": [],
   "source": [
    "from collections import Counter"
   ]
  },
  {
   "cell_type": "code",
   "execution_count": 2,
   "id": "e1c6cd43-3ce0-4fd5-abf9-ff707f1de98c",
   "metadata": {},
   "outputs": [],
   "source": [
    "class FrequencyTracker:\n",
    "    def __init__(self):\n",
    "        self.cnt = Counter()\n",
    "        self.frq = Counter()\n",
    "\n",
    "    def add(self, number: int) -> None:\n",
    "        self.frq[self.cnt[number]] -= 1\n",
    "        self.cnt[number] += 1\n",
    "        self.frq[self.cnt[number]] += 1\n",
    "\n",
    "    def deleteOne(self, number: int) -> None:\n",
    "        if self.cnt[number] > 0:\n",
    "            self.frq[self.cnt[number]] -= 1\n",
    "            self.cnt[number] -= 1\n",
    "            self.frq[self.cnt[number]] += 1\n",
    "\n",
    "    def hasFrequency(self, f: int) -> bool:\n",
    "        return self.frq[f] > 0"
   ]
  },
  {
   "cell_type": "code",
   "execution_count": 3,
   "id": "9ba7a2f3-1791-44da-a069-6208656e4183",
   "metadata": {},
   "outputs": [],
   "source": [
    "sol = FrequencyTracker()\n",
    "sol.add(3)\n",
    "sol.add(3)\n",
    "assert sol.hasFrequency(2)"
   ]
  },
  {
   "cell_type": "code",
   "execution_count": 4,
   "id": "7c9daba3-351e-4b2b-a01d-f1f39f117d1c",
   "metadata": {},
   "outputs": [],
   "source": [
    "sol = FrequencyTracker()\n",
    "sol.add(1)\n",
    "sol.deleteOne(1)\n",
    "assert not sol.hasFrequency(1)"
   ]
  },
  {
   "cell_type": "code",
   "execution_count": 5,
   "id": "5e5c5a8c-9c22-4a46-b163-3c49f92c2a13",
   "metadata": {},
   "outputs": [],
   "source": [
    "sol = FrequencyTracker()\n",
    "assert not sol.hasFrequency(2)\n",
    "sol.add(3)\n",
    "assert sol.hasFrequency(1)"
   ]
  }
 ],
 "metadata": {
  "kernelspec": {
   "display_name": "Python 3 (ipykernel)",
   "language": "python",
   "name": "python3"
  },
  "language_info": {
   "codemirror_mode": {
    "name": "ipython",
    "version": 3
   },
   "file_extension": ".py",
   "mimetype": "text/x-python",
   "name": "python",
   "nbconvert_exporter": "python",
   "pygments_lexer": "ipython3",
   "version": "3.9.7"
  }
 },
 "nbformat": 4,
 "nbformat_minor": 5
}
