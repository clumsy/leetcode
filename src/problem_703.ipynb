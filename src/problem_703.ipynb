{
 "cells": [
  {
   "cell_type": "markdown",
   "id": "c094bf66-8d26-462f-a120-ec0b82ab844d",
   "metadata": {},
   "source": [
    "[Problem 703](https://leetcode.com/problems/kth-largest-element-in-a-stream/description)"
   ]
  },
  {
   "cell_type": "code",
   "execution_count": 1,
   "id": "9c9adc12-f261-4223-8cc6-996834d42f69",
   "metadata": {},
   "outputs": [],
   "source": [
    "from typing import List\n",
    "from heapq import heappop, heappush"
   ]
  },
  {
   "cell_type": "code",
   "execution_count": 2,
   "id": "dd2ab7a5-bc95-4656-a7eb-9e2467ea3652",
   "metadata": {},
   "outputs": [],
   "source": [
    "class KthLargest:\n",
    "\n",
    "    def __init__(self, k: int, nums: List[int]):\n",
    "        self.k = k\n",
    "        self.q = []\n",
    "        for n in nums:\n",
    "            self.add(n)\n",
    "\n",
    "    def add(self, val: int) -> int:\n",
    "        heappush(self.q, val)\n",
    "        if len(self.q) > self.k:\n",
    "            heappop(self.q)\n",
    "        return self.q[0]"
   ]
  },
  {
   "cell_type": "code",
   "execution_count": 3,
   "id": "a601b4ed-cd7d-48c1-8865-bfae9093da8c",
   "metadata": {},
   "outputs": [],
   "source": [
    "sol = KthLargest(3, [4,5,8,2])\n",
    "assert sol.add(3) == 4\n",
    "assert sol.add(5) == 5\n",
    "assert sol.add(10) == 5\n",
    "assert sol.add(9) == 8\n",
    "assert sol.add(4) == 8"
   ]
  }
 ],
 "metadata": {
  "kernelspec": {
   "display_name": "Python 3 (ipykernel)",
   "language": "python",
   "name": "python3"
  },
  "language_info": {
   "codemirror_mode": {
    "name": "ipython",
    "version": 3
   },
   "file_extension": ".py",
   "mimetype": "text/x-python",
   "name": "python",
   "nbconvert_exporter": "python",
   "pygments_lexer": "ipython3",
   "version": "3.9.7"
  }
 },
 "nbformat": 4,
 "nbformat_minor": 5
}
