{
 "cells": [
  {
   "cell_type": "markdown",
   "id": "d99b3561-a427-4e09-9f3e-4f7c7117e33f",
   "metadata": {},
   "source": [
    "[Problem 1333](https://leetcode.com/problems/filter-restaurants-by-vegan-friendly-price-and-distance/description)"
   ]
  },
  {
   "cell_type": "code",
   "execution_count": 1,
   "id": "1caaafb8-bf05-4f63-b8e6-471e73a844ae",
   "metadata": {},
   "outputs": [],
   "source": [
    "from typing import List"
   ]
  },
  {
   "cell_type": "code",
   "execution_count": 2,
   "id": "c54d7b7f-bbd6-4bd3-b20b-c2003dcbca0e",
   "metadata": {},
   "outputs": [],
   "source": [
    "class Solution:\n",
    "    def filterRestaurants(self, restaurants: List[List[int]], veganFriendly: int, maxPrice: int, maxDistance: int) -> List[int]:\n",
    "        def order(restaurant):\n",
    "            id, rating, *_ = restaurant\n",
    "            return -rating, -id\n",
    "\n",
    "        restaurants.sort(key=order)\n",
    "        res = [id for id, _, vegan, price, distance in restaurants if vegan >= veganFriendly and price <= maxPrice and distance <= maxDistance]\n",
    "        return res"
   ]
  },
  {
   "cell_type": "code",
   "execution_count": 3,
   "id": "654e568c-eab6-4bd1-8b3c-514c1fac70e1",
   "metadata": {},
   "outputs": [],
   "source": [
    "sol = Solution()"
   ]
  },
  {
   "cell_type": "code",
   "execution_count": 4,
   "id": "e848dc36-5299-462c-bc8e-05b3d957e45e",
   "metadata": {},
   "outputs": [],
   "source": [
    "assert sol.filterRestaurants([[1,4,1,40,10],[2,8,0,50,5],[3,8,1,30,4],[4,10,0,10,3],[5,1,1,15,1]], 1, 50, 10) == [3,1,5]"
   ]
  },
  {
   "cell_type": "code",
   "execution_count": 5,
   "id": "be171434-8e0f-4d94-9ef0-c4d98e54a245",
   "metadata": {},
   "outputs": [],
   "source": [
    "assert sol.filterRestaurants([[1,4,1,40,10],[2,8,0,50,5],[3,8,1,30,4],[4,10,0,10,3],[5,1,1,15,1]], 0, 50, 10) == [4,3,2,1,5]"
   ]
  },
  {
   "cell_type": "code",
   "execution_count": 6,
   "id": "92521ff2-ec37-49a6-9ee8-1a6f6a291c13",
   "metadata": {},
   "outputs": [],
   "source": [
    "assert sol.filterRestaurants([[1,4,1,40,10],[2,8,0,50,5],[3,8,1,30,4],[4,10,0,10,3],[5,1,1,15,1]], 0, 30, 3) == [4,5]"
   ]
  }
 ],
 "metadata": {
  "kernelspec": {
   "display_name": "Python 3 (ipykernel)",
   "language": "python",
   "name": "python3"
  },
  "language_info": {
   "codemirror_mode": {
    "name": "ipython",
    "version": 3
   },
   "file_extension": ".py",
   "mimetype": "text/x-python",
   "name": "python",
   "nbconvert_exporter": "python",
   "pygments_lexer": "ipython3",
   "version": "3.9.7"
  }
 },
 "nbformat": 4,
 "nbformat_minor": 5
}
