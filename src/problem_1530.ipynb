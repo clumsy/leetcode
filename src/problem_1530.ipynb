{
 "cells": [
  {
   "cell_type": "markdown",
   "id": "d0772589-daf1-40f5-bd35-17c672b1af2c",
   "metadata": {},
   "source": [
    "[Problem 1530](https://leetcode.com/problems/number-of-good-leaf-nodes-pairs/description)"
   ]
  },
  {
   "cell_type": "code",
   "execution_count": 1,
   "id": "a5ac5cdc-a61b-4fc0-bd65-0731bb71f47c",
   "metadata": {},
   "outputs": [],
   "source": [
    "class TreeNode:\n",
    "    def __init__(self, val=0, left=None, right=None):\n",
    "        self.val = val\n",
    "        self.left = left\n",
    "        self.right = right"
   ]
  },
  {
   "cell_type": "code",
   "execution_count": 2,
   "id": "8b2227d9-dadc-4f14-b615-03c828a1670b",
   "metadata": {},
   "outputs": [],
   "source": [
    "from collections import Counter"
   ]
  },
  {
   "cell_type": "code",
   "execution_count": 3,
   "id": "c4a555bb-d161-4edb-8f47-1ed7765d7b1b",
   "metadata": {},
   "outputs": [],
   "source": [
    "class Solution:\n",
    "    def countPairs(self, root: TreeNode, distance: int) -> int:\n",
    "        def count_len(node, depth):\n",
    "            if node is None:\n",
    "                return Counter(), 0\n",
    "                \n",
    "            if node.left is None and node.right is None:\n",
    "                return Counter([1]), 0\n",
    "\n",
    "            cnt_left, res_left = count_len(node.left, depth + 1)\n",
    "            cnt_right, res_right = count_len(node.right, depth + 1)\n",
    "            res = res_left + res_right\n",
    "\n",
    "            for len_left in cnt_left:\n",
    "                for len_right in cnt_right:\n",
    "                    if len_left + len_right <= distance:\n",
    "                        res += cnt_left[len_left] * cnt_right[len_right]\n",
    "\n",
    "            cnt = Counter()\n",
    "            for len_left in cnt_left:\n",
    "                cnt[len_left + 1] += cnt_left[len_left]\n",
    "            for len_right in cnt_right:\n",
    "                cnt[len_right + 1] += cnt_right[len_right]\n",
    "\n",
    "            return cnt, res\n",
    "\n",
    "        _, res = count_len(root, 0)\n",
    "        return res"
   ]
  },
  {
   "cell_type": "code",
   "execution_count": 5,
   "id": "1dbff2cf-b087-41ad-9bbb-9c6f0ba7dbc3",
   "metadata": {},
   "outputs": [],
   "source": [
    "sol = Solution()"
   ]
  },
  {
   "cell_type": "code",
   "execution_count": 4,
   "id": "207666de-329f-48cc-ab23-a66a922e5f63",
   "metadata": {},
   "outputs": [],
   "source": [
    "from collections import deque\n",
    "\n",
    "null = None  # to use Leetcode samples as is\n",
    "\n",
    "def tree(values):\n",
    "    if not values:\n",
    "        return null\n",
    "    root = TreeNode(values[0])\n",
    "    queue = deque()\n",
    "    queue.append(root)\n",
    "    queue.append(None)\n",
    "    length = len(values)\n",
    "    i = 0\n",
    "    while queue:\n",
    "        current = queue.popleft()\n",
    "        if current:\n",
    "            i += 1\n",
    "            if i < length and values[i]:\n",
    "                current.left = TreeNode(values[i])\n",
    "                queue.append(current.left)\n",
    "            i += 1\n",
    "            if i < length and values[i]:\n",
    "                current.right = TreeNode(values[i])\n",
    "                queue.append(current.right)\n",
    "            if i == length:\n",
    "                return root\n",
    "        else:\n",
    "            if queue:\n",
    "                queue.append(None)\n",
    "    return root"
   ]
  },
  {
   "cell_type": "code",
   "execution_count": 8,
   "id": "7f80d8fc-1d65-4b59-a657-676663e6aa98",
   "metadata": {},
   "outputs": [],
   "source": [
    "assert sol.countPairs(tree([1,2,3,None,4]), 3) == 1"
   ]
  },
  {
   "cell_type": "code",
   "execution_count": 9,
   "id": "0eb3470e-88a9-4e4d-b858-01c59fc526bd",
   "metadata": {},
   "outputs": [],
   "source": [
    "assert sol.countPairs(tree([1,2,3,4,5,6,7]), 3) == 2"
   ]
  },
  {
   "cell_type": "code",
   "execution_count": 10,
   "id": "5d155dbf-74a2-489e-9be0-39ce9373c275",
   "metadata": {},
   "outputs": [],
   "source": [
    "assert sol.countPairs(tree([7,1,4,6,None,5,3,None,None,None,None,None,2]), 3) == 1"
   ]
  }
 ],
 "metadata": {
  "kernelspec": {
   "display_name": "Python 3 (ipykernel)",
   "language": "python",
   "name": "python3"
  },
  "language_info": {
   "codemirror_mode": {
    "name": "ipython",
    "version": 3
   },
   "file_extension": ".py",
   "mimetype": "text/x-python",
   "name": "python",
   "nbconvert_exporter": "python",
   "pygments_lexer": "ipython3",
   "version": "3.9.7"
  }
 },
 "nbformat": 4,
 "nbformat_minor": 5
}
