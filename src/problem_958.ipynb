{
 "cells": [
  {
   "cell_type": "markdown",
   "id": "616534e8-4026-4cd7-91bc-a827942ca20b",
   "metadata": {},
   "source": [
    "[Problem 958]()"
   ]
  },
  {
   "cell_type": "code",
   "execution_count": 1,
   "id": "56dff8f0-c748-4d6b-aeef-a7bd8b217b5a",
   "metadata": {},
   "outputs": [],
   "source": [
    "# Definition for a binary tree node.\n",
    "class TreeNode:\n",
    "    def __init__(self, val=0, left=None, right=None):\n",
    "        self.val = val\n",
    "        self.left = left\n",
    "        self.right = right\n",
    "        \n",
    "    def __eq__(self, other):\n",
    "        return other and self.val == other.val and self.left == other.left and self.right == other.right"
   ]
  },
  {
   "cell_type": "code",
   "execution_count": 2,
   "id": "4a7490c3-3f4c-4a50-a8ed-a37ecfd2af3a",
   "metadata": {},
   "outputs": [],
   "source": [
    "from typing import Optional\n",
    "from collections import deque"
   ]
  },
  {
   "cell_type": "code",
   "execution_count": 3,
   "id": "aceb2766-caf4-48e3-8d9f-19aaafe290b2",
   "metadata": {},
   "outputs": [],
   "source": [
    "class Solution:\n",
    "    def isCompleteTree(self, root: Optional[TreeNode]) -> bool:\n",
    "        q = deque([root])\n",
    "        while q[-1]:\n",
    "            cur = q.pop()\n",
    "            q.appendleft(cur.left)\n",
    "            q.appendleft(cur.right)\n",
    "        while q and not q[-1]:\n",
    "            q.pop()\n",
    "        res = not q\n",
    "        return res"
   ]
  },
  {
   "cell_type": "code",
   "execution_count": 4,
   "id": "b365134c-5b83-4e28-a4e7-fc019a11ebbf",
   "metadata": {},
   "outputs": [],
   "source": [
    "class Solution:\n",
    "    def isCompleteTree(self, root: Optional[TreeNode]) -> bool:\n",
    "        def dfs(node):\n",
    "            if node is None:\n",
    "                return 0\n",
    "            l, r = dfs(node.left), dfs(node.right)\n",
    "            if l is None or r is None:\n",
    "                return None\n",
    "            if (l & (l + 1) == 0 and l / 2 <= r <= l) or (r & (r + 1) == 0 and r <= l <= 2 * r + 1):\n",
    "                return 1 + l + r\n",
    "            return None\n",
    "        res = dfs(root)\n",
    "        return res"
   ]
  },
  {
   "cell_type": "code",
   "execution_count": 5,
   "id": "25c6344d-80b0-4110-a3d0-030c73246dd6",
   "metadata": {},
   "outputs": [],
   "source": [
    "sol = Solution()"
   ]
  },
  {
   "cell_type": "code",
   "execution_count": 6,
   "id": "3b1260cd-796f-415c-bbac-3aee72ef1102",
   "metadata": {},
   "outputs": [],
   "source": [
    "from collections import deque\n",
    "\n",
    "null = None  # to use Leetcode samples as is\n",
    "\n",
    "def tree(values):\n",
    "    if not values:\n",
    "        return null\n",
    "    queue = deque([(root := TreeNode(values[0])), None])\n",
    "    length, i = len(values), 0\n",
    "    while queue:\n",
    "        current = queue.popleft()\n",
    "        if current:\n",
    "            i += 1\n",
    "            if i < length and values[i] is not None:\n",
    "                current.left = TreeNode(values[i])\n",
    "                queue.append(current.left)\n",
    "            i += 1\n",
    "            if i < length and values[i] is not None:\n",
    "                current.right = TreeNode(values[i])\n",
    "                queue.append(current.right)\n",
    "            if i == length:\n",
    "                return root\n",
    "        else:\n",
    "            if queue:\n",
    "                queue.append(None)\n",
    "    return root"
   ]
  },
  {
   "cell_type": "code",
   "execution_count": 7,
   "id": "91d3cad5-1bf6-474c-b010-a931cb71e912",
   "metadata": {},
   "outputs": [],
   "source": [
    "assert sol.isCompleteTree(tree([1,2,3,4,5,6]))"
   ]
  },
  {
   "cell_type": "code",
   "execution_count": 8,
   "id": "2b1c5e3e-dacc-49eb-b69d-1220db015135",
   "metadata": {},
   "outputs": [],
   "source": [
    "assert not sol.isCompleteTree(tree([1,2,3,4,5,null,7]))"
   ]
  }
 ],
 "metadata": {
  "kernelspec": {
   "display_name": "Python 3 (ipykernel)",
   "language": "python",
   "name": "python3"
  },
  "language_info": {
   "codemirror_mode": {
    "name": "ipython",
    "version": 3
   },
   "file_extension": ".py",
   "mimetype": "text/x-python",
   "name": "python",
   "nbconvert_exporter": "python",
   "pygments_lexer": "ipython3",
   "version": "3.9.7"
  }
 },
 "nbformat": 4,
 "nbformat_minor": 5
}
