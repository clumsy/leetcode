{
 "cells": [
  {
   "cell_type": "markdown",
   "id": "b4467080-fa0f-4dbf-a302-8b479a81f31d",
   "metadata": {},
   "source": [
    "[Problem 278](https://leetcode.com/problems/first-bad-version/)"
   ]
  },
  {
   "cell_type": "code",
   "execution_count": 1,
   "id": "58c7c3f9-0084-4ef2-8c1a-0a0e435933f6",
   "metadata": {},
   "outputs": [],
   "source": [
    "class Solution:\n",
    "    def firstBadVersion(self, n: int) -> int:\n",
    "        lo, hi = 1, n\n",
    "        while lo < hi:\n",
    "            mi = lo + (hi - lo) // 2\n",
    "            if isBadVersion(mi):\n",
    "                hi = mi\n",
    "            else:\n",
    "                lo = mi + 1\n",
    "        return lo"
   ]
  },
  {
   "cell_type": "code",
   "execution_count": 2,
   "id": "127a107c-05dc-4ced-835b-43a65deefc62",
   "metadata": {},
   "outputs": [],
   "source": [
    "sol = Solution()"
   ]
  },
  {
   "cell_type": "code",
   "execution_count": 8,
   "id": "7901c0ed-0429-47f9-9424-479b0202e42b",
   "metadata": {},
   "outputs": [],
   "source": [
    "isBadVersion = lambda x: x >= 4\n",
    "assert sol.firstBadVersion(5) == 4"
   ]
  },
  {
   "cell_type": "code",
   "execution_count": 9,
   "id": "0a66b9b7-4ee4-429f-b4f0-f27ada256fce",
   "metadata": {},
   "outputs": [],
   "source": [
    "isBadVersion = lambda x: x >= 1\n",
    "assert sol.firstBadVersion(1) == 1"
   ]
  }
 ],
 "metadata": {
  "kernelspec": {
   "display_name": "Python 3 (ipykernel)",
   "language": "python",
   "name": "python3"
  },
  "language_info": {
   "codemirror_mode": {
    "name": "ipython",
    "version": 3
   },
   "file_extension": ".py",
   "mimetype": "text/x-python",
   "name": "python",
   "nbconvert_exporter": "python",
   "pygments_lexer": "ipython3",
   "version": "3.9.7"
  }
 },
 "nbformat": 4,
 "nbformat_minor": 5
}
