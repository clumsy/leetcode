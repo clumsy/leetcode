{
 "cells": [
  {
   "cell_type": "markdown",
   "id": "928413bf-8b4f-4dca-be16-4adb7ccb5801",
   "metadata": {},
   "source": [
    "[Problem 1360](https://leetcode.com/problems/number-of-days-between-two-dates/description)"
   ]
  },
  {
   "cell_type": "code",
   "execution_count": 1,
   "id": "9684fe1d-bfb9-49d2-b2ab-b18984bd08b3",
   "metadata": {},
   "outputs": [],
   "source": [
    "class Solution:\n",
    "    def daysBetweenDates(self, date1: str, date2: str) -> int:\n",
    "        def days(date):\n",
    "            y, m, d = (int(i.lstrip(\"0\")) for i in date.split(\"-\"))\n",
    "            num_leap = (y - 1) // 4 - (y - 1) // 100 + (y - 1) // 400 + (m > 2 and y % 4 == 0 and (y % 100 != 0 or y % 400 == 0))\n",
    "            num_days = {\n",
    "                1: 31,\n",
    "                2: 28,\n",
    "                3: 31,\n",
    "                4: 30,\n",
    "                5: 31,\n",
    "                6: 30,\n",
    "                7: 31,\n",
    "                8: 31,\n",
    "                9: 30,\n",
    "                10: 31,\n",
    "                11: 30,\n",
    "                12: 31,\n",
    "            }\n",
    "            return y * 365 + d + sum(num_days[i] for i in range(1, m)) + num_leap\n",
    "        res = abs(days(date2) - days(date1))\n",
    "        return res"
   ]
  },
  {
   "cell_type": "code",
   "execution_count": 2,
   "id": "95120af9-fda7-4237-a033-f6d90cc545ff",
   "metadata": {},
   "outputs": [],
   "source": [
    "sol = Solution()"
   ]
  },
  {
   "cell_type": "code",
   "execution_count": 3,
   "id": "e47c198e-8869-42a6-8d91-c7c62e23b2b3",
   "metadata": {},
   "outputs": [],
   "source": [
    "assert sol.daysBetweenDates(\"2019-06-29\", \"2019-06-30\") == 1"
   ]
  },
  {
   "cell_type": "code",
   "execution_count": 4,
   "id": "76037ab4-32fe-4bdd-853b-93abf0ba817e",
   "metadata": {},
   "outputs": [],
   "source": [
    "assert sol.daysBetweenDates(\"2020-01-15\", \"2019-12-31\") == 15"
   ]
  }
 ],
 "metadata": {
  "kernelspec": {
   "display_name": "Python 3 (ipykernel)",
   "language": "python",
   "name": "python3"
  },
  "language_info": {
   "codemirror_mode": {
    "name": "ipython",
    "version": 3
   },
   "file_extension": ".py",
   "mimetype": "text/x-python",
   "name": "python",
   "nbconvert_exporter": "python",
   "pygments_lexer": "ipython3",
   "version": "3.9.7"
  }
 },
 "nbformat": 4,
 "nbformat_minor": 5
}
