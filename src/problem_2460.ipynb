{
 "cells": [
  {
   "cell_type": "markdown",
   "id": "572f21e2-267a-40ea-a440-aed1fe63442d",
   "metadata": {},
   "source": [
    "[Problem 2460](https://leetcode.com/problems/apply-operations-to-an-array/description)"
   ]
  },
  {
   "cell_type": "code",
   "execution_count": 1,
   "id": "d35d61ad-509f-464a-86ac-6175c97ab7d6",
   "metadata": {},
   "outputs": [],
   "source": [
    "from typing import List"
   ]
  },
  {
   "cell_type": "code",
   "execution_count": 2,
   "id": "5997e9ae-208f-43ec-a2c2-d350420bda8e",
   "metadata": {},
   "outputs": [],
   "source": [
    "class Solution:\n",
    "    def applyOperations(self, nums: List[int]) -> List[int]:\n",
    "        n = len(nums)\n",
    "        for i in range(n):\n",
    "            if i < n - 1 and nums[i] == nums[i + 1]:\n",
    "                nums[i] *= 2\n",
    "                nums[i + 1] = 0\n",
    "        i = 0\n",
    "        for num in nums:\n",
    "            if num > 0:\n",
    "                nums[i] = num\n",
    "                i += 1\n",
    "        for j in range(i, n):\n",
    "            nums[j] = 0\n",
    "        return nums"
   ]
  },
  {
   "cell_type": "code",
   "execution_count": 3,
   "id": "351f6629-eac3-46eb-8420-50245842a727",
   "metadata": {},
   "outputs": [],
   "source": [
    "sol = Solution()"
   ]
  },
  {
   "cell_type": "code",
   "execution_count": 4,
   "id": "dc0179b2-1477-433d-bd8d-ec1ac099fd97",
   "metadata": {},
   "outputs": [],
   "source": [
    "assert sol.applyOperations([1,2,2,1,1,0]) == [1,4,2,0,0,0]"
   ]
  },
  {
   "cell_type": "code",
   "execution_count": 5,
   "id": "1634a26d-ef1a-4900-905e-0fe7e2fe7f20",
   "metadata": {},
   "outputs": [],
   "source": [
    "assert sol.applyOperations([0,1]) == [1,0]"
   ]
  }
 ],
 "metadata": {
  "kernelspec": {
   "display_name": "Python 3 (ipykernel)",
   "language": "python",
   "name": "python3"
  },
  "language_info": {
   "codemirror_mode": {
    "name": "ipython",
    "version": 3
   },
   "file_extension": ".py",
   "mimetype": "text/x-python",
   "name": "python",
   "nbconvert_exporter": "python",
   "pygments_lexer": "ipython3",
   "version": "3.9.7"
  }
 },
 "nbformat": 4,
 "nbformat_minor": 5
}
