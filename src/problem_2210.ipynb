{
 "cells": [
  {
   "cell_type": "markdown",
   "id": "ccb0b94c-0a82-462c-829f-7839f5bc0a19",
   "metadata": {},
   "source": [
    "[Problem 2210](https://leetcode.com/problems/count-hills-and-valleys-in-an-array/description)"
   ]
  },
  {
   "cell_type": "code",
   "execution_count": 1,
   "id": "f110b30c-03c0-4688-a5a6-dea1f660b753",
   "metadata": {},
   "outputs": [],
   "source": [
    "from typing import List"
   ]
  },
  {
   "cell_type": "code",
   "execution_count": 2,
   "id": "0324af3e-5d09-46d8-b083-177329ef8e7a",
   "metadata": {},
   "outputs": [],
   "source": [
    "class Solution:\n",
    "    def countHillValley(self, nums: List[int]) -> int:\n",
    "        res, n, j = 0, len(nums), 0\n",
    "        for i in range(1, n - 1):\n",
    "            if (\n",
    "                (nums[j] < nums[i] and nums[i] > nums[i + 1]) or\n",
    "                (nums[j] > nums[i] and nums[i] < nums[i + 1])\n",
    "            ):\n",
    "                res += 1\n",
    "                j = i\n",
    "        return res"
   ]
  },
  {
   "cell_type": "code",
   "execution_count": 3,
   "id": "3357bcfa-e1e2-411e-9f3d-c2c5c0fbe5e5",
   "metadata": {},
   "outputs": [],
   "source": [
    "sol = Solution()"
   ]
  },
  {
   "cell_type": "code",
   "execution_count": 4,
   "id": "9dda9969-8184-44d9-91d6-f964ee812d9a",
   "metadata": {},
   "outputs": [],
   "source": [
    "assert sol.countHillValley([2,4,1,1,6,5]) == 3"
   ]
  },
  {
   "cell_type": "code",
   "execution_count": null,
   "id": "a443a6f8-6862-4813-953b-26d8fe384443",
   "metadata": {},
   "outputs": [],
   "source": [
    "assert sol.countHillValley([6,6,5,5,4,1]) == 0"
   ]
  }
 ],
 "metadata": {
  "kernelspec": {
   "display_name": "Python 3 (ipykernel)",
   "language": "python",
   "name": "python3"
  },
  "language_info": {
   "codemirror_mode": {
    "name": "ipython",
    "version": 3
   },
   "file_extension": ".py",
   "mimetype": "text/x-python",
   "name": "python",
   "nbconvert_exporter": "python",
   "pygments_lexer": "ipython3",
   "version": "3.9.7"
  }
 },
 "nbformat": 4,
 "nbformat_minor": 5
}
