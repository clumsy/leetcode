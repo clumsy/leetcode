{
 "cells": [
  {
   "cell_type": "markdown",
   "id": "3ce16735-9e4b-4209-909a-fb55c7cb17a6",
   "metadata": {},
   "source": [
    "[Problem 1779](https://leetcode.com/problems/find-nearest-point-that-has-the-same-x-or-y-coordinate/description)"
   ]
  },
  {
   "cell_type": "code",
   "execution_count": 1,
   "id": "f2f6f06d-3070-4194-a2d8-aa1d66567316",
   "metadata": {},
   "outputs": [],
   "source": [
    "from typing import List"
   ]
  },
  {
   "cell_type": "code",
   "execution_count": 2,
   "id": "54c4318d-c5ea-433c-9beb-9c7b133b4396",
   "metadata": {},
   "outputs": [],
   "source": [
    "class Solution:\n",
    "    def nearestValidPoint(self, x: int, y: int, points: List[List[int]]) -> int:\n",
    "        def manhattan(i):\n",
    "            return abs(x - points[i][0]) + abs(y - points[i][1])\n",
    "        res = min((i for i in range(len(points)) if points[i][0] == x or points[i][1] == y), key=manhattan, default=-1)\n",
    "        return res"
   ]
  },
  {
   "cell_type": "code",
   "execution_count": 3,
   "id": "a361eb8c-ae75-46a4-806b-610d392d25b7",
   "metadata": {},
   "outputs": [],
   "source": [
    "sol = Solution()"
   ]
  },
  {
   "cell_type": "code",
   "execution_count": 4,
   "id": "7bc080bd-fb90-414f-82b2-0335109e8d24",
   "metadata": {},
   "outputs": [],
   "source": [
    "assert sol.nearestValidPoint(3, 4, [[1,2],[3,1],[2,4],[2,3],[4,4]]) == 2"
   ]
  },
  {
   "cell_type": "code",
   "execution_count": 5,
   "id": "0e30acc5-a39e-4421-8c25-ae3a94852904",
   "metadata": {},
   "outputs": [],
   "source": [
    "assert sol.nearestValidPoint(3, 4, [[3,4]]) == 0"
   ]
  },
  {
   "cell_type": "code",
   "execution_count": 6,
   "id": "10d17a71-e12a-43e4-909f-c34cd2478bc7",
   "metadata": {},
   "outputs": [],
   "source": [
    "assert sol.nearestValidPoint(3, 4, [[2,3]]) == -1"
   ]
  }
 ],
 "metadata": {
  "kernelspec": {
   "display_name": "Python 3 (ipykernel)",
   "language": "python",
   "name": "python3"
  },
  "language_info": {
   "codemirror_mode": {
    "name": "ipython",
    "version": 3
   },
   "file_extension": ".py",
   "mimetype": "text/x-python",
   "name": "python",
   "nbconvert_exporter": "python",
   "pygments_lexer": "ipython3",
   "version": "3.9.7"
  }
 },
 "nbformat": 4,
 "nbformat_minor": 5
}
