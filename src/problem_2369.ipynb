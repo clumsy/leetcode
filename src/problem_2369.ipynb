{
 "cells": [
  {
   "cell_type": "markdown",
   "id": "f4a6fbb0-7a48-4249-975e-e67ab7d7769c",
   "metadata": {},
   "source": [
    "[Problem 2369](https://leetcode.com/problems/check-if-there-is-a-valid-partition-for-the-array/description)"
   ]
  },
  {
   "cell_type": "code",
   "execution_count": 1,
   "id": "319d88de-89a6-42d0-b5bf-7bc04bb4bf5a",
   "metadata": {},
   "outputs": [],
   "source": [
    "from typing import List"
   ]
  },
  {
   "cell_type": "code",
   "execution_count": 2,
   "id": "68c089ca-52bc-4abc-ab3d-e97a8f21468f",
   "metadata": {},
   "outputs": [],
   "source": [
    "class Solution:\n",
    "    def validPartition(self, nums: List[int]) -> bool:\n",
    "        n = len(nums)\n",
    "        dp = [True, False, nums[0] == nums[1], False]\n",
    "        for i in range(2, n):\n",
    "            two = nums[i - 1] == nums[i]\n",
    "            three = two and nums[i - 2] == nums[i]\n",
    "            cons = nums[i - 2] + 2 == nums[i - 1] + 1 == nums[i]\n",
    "            dp[(i + 1) % len(dp)] = (dp[(i - 1) % len(dp)] and two) or (dp[(i - 2) % len(dp)] and (three or cons))\n",
    "        res = dp[n % len(dp)]\n",
    "        return res"
   ]
  },
  {
   "cell_type": "code",
   "execution_count": 3,
   "id": "dec564f7-4251-4b3f-9b3d-3607f5bd4a57",
   "metadata": {},
   "outputs": [],
   "source": [
    "sol = Solution()"
   ]
  },
  {
   "cell_type": "code",
   "execution_count": 4,
   "id": "6624bb35-1425-4ff0-b004-41e923aaac0f",
   "metadata": {},
   "outputs": [],
   "source": [
    "assert sol.validPartition([4,4,4,5,6])"
   ]
  },
  {
   "cell_type": "code",
   "execution_count": 5,
   "id": "236fcb93-b483-43d0-a58c-fa7ec58937e6",
   "metadata": {},
   "outputs": [],
   "source": [
    "assert not sol.validPartition([1,1,1,2])"
   ]
  }
 ],
 "metadata": {
  "kernelspec": {
   "display_name": "Python 3 (ipykernel)",
   "language": "python",
   "name": "python3"
  },
  "language_info": {
   "codemirror_mode": {
    "name": "ipython",
    "version": 3
   },
   "file_extension": ".py",
   "mimetype": "text/x-python",
   "name": "python",
   "nbconvert_exporter": "python",
   "pygments_lexer": "ipython3",
   "version": "3.9.7"
  }
 },
 "nbformat": 4,
 "nbformat_minor": 5
}
