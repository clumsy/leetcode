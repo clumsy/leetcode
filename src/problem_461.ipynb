{
 "cells": [
  {
   "cell_type": "markdown",
   "id": "054e1545-89ee-41b1-91d9-8f3f53b36a5b",
   "metadata": {},
   "source": [
    "[Problem 461](https://leetcode.com/problems/hamming-distance/description)"
   ]
  },
  {
   "cell_type": "code",
   "execution_count": 1,
   "id": "9cd728fd-e606-4b2d-92f7-c1766f7513d2",
   "metadata": {},
   "outputs": [],
   "source": [
    "class Solution:\n",
    "    def hammingDistance(self, x: int, y: int) -> int:\n",
    "        res, m = 0, 1\n",
    "        while m <= max(x, y):\n",
    "            res += x & m != y & m\n",
    "            m <<= 1\n",
    "        return res"
   ]
  },
  {
   "cell_type": "code",
   "execution_count": 2,
   "id": "083cd6eb-e4c9-448e-bf54-a9ae9116e8d2",
   "metadata": {},
   "outputs": [],
   "source": [
    "sol = Solution()"
   ]
  },
  {
   "cell_type": "code",
   "execution_count": 3,
   "id": "1869bb6f-62bd-4927-b1b8-0f7a0ec8eaf1",
   "metadata": {},
   "outputs": [],
   "source": [
    "assert sol.hammingDistance(1, 4) == 2"
   ]
  },
  {
   "cell_type": "code",
   "execution_count": 4,
   "id": "cb7c3006-d82a-4763-9514-6670cae246a3",
   "metadata": {},
   "outputs": [],
   "source": [
    "assert sol.hammingDistance(3, 1) == 1"
   ]
  }
 ],
 "metadata": {
  "kernelspec": {
   "display_name": "Python 3 (ipykernel)",
   "language": "python",
   "name": "python3"
  },
  "language_info": {
   "codemirror_mode": {
    "name": "ipython",
    "version": 3
   },
   "file_extension": ".py",
   "mimetype": "text/x-python",
   "name": "python",
   "nbconvert_exporter": "python",
   "pygments_lexer": "ipython3",
   "version": "3.9.7"
  }
 },
 "nbformat": 4,
 "nbformat_minor": 5
}
