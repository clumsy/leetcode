{
 "cells": [
  {
   "cell_type": "markdown",
   "id": "04031df6-1772-44bd-b00e-0087df4107d8",
   "metadata": {},
   "source": [
    "[Problem 575](https://leetcode.com/problems/distribute-candies/description)"
   ]
  },
  {
   "cell_type": "code",
   "execution_count": 1,
   "id": "30225a67-fc4b-4c45-93a1-783e5dd2bffd",
   "metadata": {},
   "outputs": [],
   "source": [
    "from typing import List"
   ]
  },
  {
   "cell_type": "code",
   "execution_count": 2,
   "id": "9ce3f895-3a27-4c34-bdf9-9458b60a4e30",
   "metadata": {},
   "outputs": [],
   "source": [
    "class Solution:\n",
    "    def distributeCandies(self, candyType: List[int]) -> int:\n",
    "        res = min(len(candyType) // 2, len(set(candyType)))\n",
    "        return res"
   ]
  },
  {
   "cell_type": "code",
   "execution_count": 3,
   "id": "ba613e80-1bce-442f-b733-b49faf22dede",
   "metadata": {},
   "outputs": [],
   "source": [
    "sol = Solution()"
   ]
  },
  {
   "cell_type": "code",
   "execution_count": 4,
   "id": "5a83c00b-a09b-4bc0-8bb9-47d9f7c6adbe",
   "metadata": {},
   "outputs": [],
   "source": [
    "assert sol.distributeCandies([1,1,2,2,3,3]) == 3"
   ]
  },
  {
   "cell_type": "code",
   "execution_count": 5,
   "id": "2641cde9-eca0-48de-93f6-2cc6e5b54e04",
   "metadata": {},
   "outputs": [],
   "source": [
    "assert sol.distributeCandies([1,1,2,3]) == 2"
   ]
  },
  {
   "cell_type": "code",
   "execution_count": 6,
   "id": "10ecde01-e1d6-4784-ace3-564564ac97f0",
   "metadata": {},
   "outputs": [],
   "source": [
    "assert sol.distributeCandies([6,6,6,6]) == 1"
   ]
  }
 ],
 "metadata": {
  "kernelspec": {
   "display_name": "Python 3 (ipykernel)",
   "language": "python",
   "name": "python3"
  },
  "language_info": {
   "codemirror_mode": {
    "name": "ipython",
    "version": 3
   },
   "file_extension": ".py",
   "mimetype": "text/x-python",
   "name": "python",
   "nbconvert_exporter": "python",
   "pygments_lexer": "ipython3",
   "version": "3.9.7"
  }
 },
 "nbformat": 4,
 "nbformat_minor": 5
}
