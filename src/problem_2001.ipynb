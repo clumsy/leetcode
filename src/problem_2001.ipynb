{
 "cells": [
  {
   "cell_type": "markdown",
   "id": "91313027-128e-4231-9d37-fc249b590f5e",
   "metadata": {},
   "source": [
    "[Problem 2001](https://leetcode.com/problems/number-of-pairs-of-interchangeable-rectangles/)"
   ]
  },
  {
   "cell_type": "code",
   "execution_count": 4,
   "id": "73b5889f-8940-47eb-b779-46fcc4d63d5e",
   "metadata": {},
   "outputs": [],
   "source": [
    "from typing import List\n",
    "from collections import defaultdict\n",
    "import math"
   ]
  },
  {
   "cell_type": "code",
   "execution_count": 5,
   "id": "9fa71d54-d849-41bc-b217-3d435f5ed145",
   "metadata": {},
   "outputs": [],
   "source": [
    "class Solution:\n",
    "    def interchangeableRectangles(self, rectangles: List[List[int]]) -> int:\n",
    "        ratios = defaultdict(int)\n",
    "        for w, h in rectangles:\n",
    "            ratios[w / h] += 1\n",
    "        answer = 0\n",
    "        for count in ratios.values():\n",
    "            if count > 1:\n",
    "                answer += math.factorial(count) // (2*math.factorial(count - 2))\n",
    "        return answer"
   ]
  },
  {
   "cell_type": "code",
   "execution_count": 6,
   "id": "67c0d4a7-8260-4266-89a0-06e2b90443dd",
   "metadata": {},
   "outputs": [],
   "source": [
    "sol = Solution()"
   ]
  },
  {
   "cell_type": "code",
   "execution_count": 7,
   "id": "3b757757-e5ab-4d84-84a7-ba6e767f251b",
   "metadata": {},
   "outputs": [],
   "source": [
    "example_1 = [[4,8],[3,6],[10,20],[15,30]]\n",
    "assert sol.interchangeableRectangles(example_1) == 6"
   ]
  },
  {
   "cell_type": "code",
   "execution_count": 8,
   "id": "97eff771-8505-4f9c-9b77-a92016286837",
   "metadata": {},
   "outputs": [],
   "source": [
    "example_2 = [[4,5],[7,8]]\n",
    "assert sol.interchangeableRectangles(example_2) == 0"
   ]
  },
  {
   "cell_type": "code",
   "execution_count": 9,
   "id": "467c6867-883a-4dc9-9754-299bda846fa9",
   "metadata": {},
   "outputs": [],
   "source": [
    "example_3 = [[16,1],[13,7],[20,18],[21,15],[20,3],[18,12],[23,14],[16,14],[5,25],[3,8],[6,17],[22,10],[25,17],[8,13],[8,11],[4,14],[2,17],[9,22],[3,15],[18,1],[19,13],[26,6],[26,14],[9,10],[12,6],[24,3],[21,8],[17,6],[16,7],[8,9],[20,24],[25,26],[22,23],[4,25],[23,23],[24,8],[14,4],[10,18],[13,6],[7,6],[24,15],[16,22],[17,19],[2,16],[23,21],[15,26],[7,17],[14,7],[10,26],[9,8],[7,10],[1,1],[11,17],[4,20],[19,24],[18,24],[9,21],[20,22],[21,12],[10,23],[5,9],[2,3],[6,17],[5,20],[11,15],[7,19],[5,9],[12,13],[15,19],[3,26],[19,25],[13,6],[22,13],[18,7],[4,9],[13,24],[22,21],[21,9],[25,26],[21,20],[9,13],[10,5],[11,18],[6,20],[16,8]]\n",
    "assert sol.interchangeableRectangles(example_3) == 18"
   ]
  },
  {
   "cell_type": "code",
   "execution_count": 10,
   "id": "501b2bd6-d549-4293-ae16-8f27ff656c5a",
   "metadata": {},
   "outputs": [],
   "source": [
    "example_4 = [[11,8],[20,6],[9,16],[8,10],[4,10],[7,17],[5,20],[11,9],[16,19],[9,9],[5,13],[3,18],[13,1],[2,12],[14,18],[9,13],[8,19],[7,16],[6,4],[16,16],[5,7],[13,10],[16,8],[9,17],[11,17],[2,17],[14,11],[8,3],[3,19],[10,20],[11,4],[11,20],[1,3],[9,1],[18,5],[20,17],[8,9],[2,19],[17,4],[3,3],[4,11],[5,19],[12,8],[4,12],[18,5],[2,12],[12,20],[19,10],[17,11],[11,6],[4,11],[1,1],[19,15],[20,17],[2,20],[12,5],[7,14],[6,8],[5,5],[16,10],[4,9],[9,8]]\n",
    "assert sol.interchangeableRectangles(example_4) == 19"
   ]
  }
 ],
 "metadata": {
  "kernelspec": {
   "display_name": "Python 3 (ipykernel)",
   "language": "python",
   "name": "python3"
  },
  "language_info": {
   "codemirror_mode": {
    "name": "ipython",
    "version": 3
   },
   "file_extension": ".py",
   "mimetype": "text/x-python",
   "name": "python",
   "nbconvert_exporter": "python",
   "pygments_lexer": "ipython3",
   "version": "3.9.7"
  }
 },
 "nbformat": 4,
 "nbformat_minor": 5
}
