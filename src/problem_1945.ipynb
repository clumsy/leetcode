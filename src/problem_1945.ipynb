{
 "cells": [
  {
   "cell_type": "markdown",
   "id": "dfd21279-c3d3-4bb9-ab7d-e2970ae133d7",
   "metadata": {},
   "source": [
    "[Problem 1945](https://leetcode.com/problems/sum-of-digits-of-string-after-convert/description)"
   ]
  },
  {
   "cell_type": "code",
   "execution_count": 1,
   "id": "a382290f-2740-48ba-8285-4542d161b2dd",
   "metadata": {},
   "outputs": [],
   "source": [
    "class Solution:\n",
    "    def getLucky(self, s: str, k: int) -> int:\n",
    "        res = s\n",
    "        while k:\n",
    "            res = \"\".join(c if c < \"a\" else str(ord(c) - ord(\"a\") + 1) for c in res)\n",
    "            res = str(sum(int(i) for i in res))\n",
    "            k -= 1\n",
    "        return int(res)"
   ]
  },
  {
   "cell_type": "code",
   "execution_count": 2,
   "id": "b64bf76b-7a61-40e3-bf11-88b6a17a5b0f",
   "metadata": {},
   "outputs": [],
   "source": [
    "sol = Solution()"
   ]
  },
  {
   "cell_type": "code",
   "execution_count": 3,
   "id": "42751854-c76e-4480-bec7-7695e9607727",
   "metadata": {},
   "outputs": [],
   "source": [
    "assert sol.getLucky(\"iiii\", 1) == 36"
   ]
  },
  {
   "cell_type": "code",
   "execution_count": 4,
   "id": "7f11bf8f-4149-41ec-a397-eed6a25e9b03",
   "metadata": {},
   "outputs": [],
   "source": [
    "assert sol.getLucky(\"leetcode\", 2) == 6"
   ]
  },
  {
   "cell_type": "code",
   "execution_count": 5,
   "id": "79c3d8fd-e2cf-4824-8b62-6375613bacae",
   "metadata": {},
   "outputs": [],
   "source": [
    "assert sol.getLucky(\"zbax\", 2) == 8"
   ]
  }
 ],
 "metadata": {
  "kernelspec": {
   "display_name": "Python 3 (ipykernel)",
   "language": "python",
   "name": "python3"
  },
  "language_info": {
   "codemirror_mode": {
    "name": "ipython",
    "version": 3
   },
   "file_extension": ".py",
   "mimetype": "text/x-python",
   "name": "python",
   "nbconvert_exporter": "python",
   "pygments_lexer": "ipython3",
   "version": "3.9.7"
  }
 },
 "nbformat": 4,
 "nbformat_minor": 5
}
