{
 "cells": [
  {
   "cell_type": "markdown",
   "id": "55aa02f4-0ed3-4ff7-8c50-7f338f2fed13",
   "metadata": {},
   "source": [
    "[Problem 452](https://leetcode.com/problems/minimum-number-of-arrows-to-burst-balloons/description)"
   ]
  },
  {
   "cell_type": "code",
   "execution_count": 1,
   "id": "c9208086-00f9-4f7d-8e61-4af72318d7d0",
   "metadata": {},
   "outputs": [],
   "source": [
    "from typing import List"
   ]
  },
  {
   "cell_type": "code",
   "execution_count": 2,
   "id": "591d96fc-8f1d-4170-8086-1a05fcc12357",
   "metadata": {},
   "outputs": [],
   "source": [
    "class Solution:\n",
    "    def findMinArrowShots(self, points: List[List[int]]) -> int:\n",
    "        points.sort(key=lambda p: p[1])\n",
    "        res, prv = 1, points[0][1]\n",
    "        for s, e in points:\n",
    "            if s <= prv:\n",
    "                continue\n",
    "            res += 1\n",
    "            prv = e\n",
    "        return res"
   ]
  },
  {
   "cell_type": "code",
   "execution_count": 3,
   "id": "e9858b54-4e2c-4251-9b5d-88502ad19324",
   "metadata": {},
   "outputs": [],
   "source": [
    "sol = Solution()"
   ]
  },
  {
   "cell_type": "code",
   "execution_count": 4,
   "id": "71af74d8-bab4-4dd9-a936-28b3f05bae8e",
   "metadata": {},
   "outputs": [],
   "source": [
    "assert sol.findMinArrowShots([[10,16],[2,8],[1,6],[7,12]]) == 2"
   ]
  },
  {
   "cell_type": "code",
   "execution_count": 5,
   "id": "b3e1aead-b2ea-4ad2-8a09-e940328168bf",
   "metadata": {},
   "outputs": [],
   "source": [
    "assert sol.findMinArrowShots([[1,2],[3,4],[5,6],[7,8]]) == 4"
   ]
  },
  {
   "cell_type": "code",
   "execution_count": 6,
   "id": "f778be2b-903b-4590-b758-01d613c7c350",
   "metadata": {},
   "outputs": [],
   "source": [
    "assert sol.findMinArrowShots([[1,2],[2,3],[3,4],[4,5]]) == 2"
   ]
  }
 ],
 "metadata": {
  "kernelspec": {
   "display_name": "Python 3 (ipykernel)",
   "language": "python",
   "name": "python3"
  },
  "language_info": {
   "codemirror_mode": {
    "name": "ipython",
    "version": 3
   },
   "file_extension": ".py",
   "mimetype": "text/x-python",
   "name": "python",
   "nbconvert_exporter": "python",
   "pygments_lexer": "ipython3",
   "version": "3.9.7"
  }
 },
 "nbformat": 4,
 "nbformat_minor": 5
}
