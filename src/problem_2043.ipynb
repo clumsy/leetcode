{
 "cells": [
  {
   "cell_type": "markdown",
   "id": "719a659f-9dc8-4d5f-adbb-91d59a1cd074",
   "metadata": {},
   "source": [
    "[Problem 2043](https://leetcode.com/problems/simple-bank-system/description)"
   ]
  },
  {
   "cell_type": "code",
   "execution_count": 1,
   "id": "55b12a8d-5bd5-4370-aff3-bbcdda34d0e2",
   "metadata": {},
   "outputs": [],
   "source": [
    "from typing import List"
   ]
  },
  {
   "cell_type": "code",
   "execution_count": 2,
   "id": "8768e187-d3a0-4368-a5ff-4875df184611",
   "metadata": {},
   "outputs": [],
   "source": [
    "class Bank:\n",
    "    def __init__(self, balance: List[int]):\n",
    "        self.balance = balance\n",
    "\n",
    "    def transfer(self, account1: int, account2: int, money: int) -> bool:\n",
    "        account1 -= 1\n",
    "        account2 -= 1\n",
    "        if 0 <= account1 < len(self.balance) and 0 <= account2 < len(self.balance) and self.balance[account1] >= money:\n",
    "            self.balance[account1] -= money\n",
    "            self.balance[account2] += money\n",
    "            return True\n",
    "        return False\n",
    "\n",
    "    def deposit(self, account: int, money: int) -> bool:\n",
    "        account -= 1\n",
    "        if 0 <= account < len(self.balance):\n",
    "            self.balance[account] += money\n",
    "            return True\n",
    "        return False\n",
    "\n",
    "    def withdraw(self, account: int, money: int) -> bool:\n",
    "        account -= 1\n",
    "        if 0 <= account < len(self.balance) and self.balance[account] >= money:\n",
    "            self.balance[account] -= money\n",
    "            return True\n",
    "        return False"
   ]
  },
  {
   "cell_type": "code",
   "execution_count": 6,
   "id": "523b844f-cd84-458b-8ed4-f4e8392f7a0b",
   "metadata": {},
   "outputs": [],
   "source": [
    "sol = Bank([10, 100, 20, 50, 30])\n",
    "assert sol.withdraw(3, 10)\n",
    "assert sol.transfer(5, 1, 20)\n",
    "assert sol.deposit(5, 20)\n",
    "assert not sol.transfer(3, 4, 15)\n",
    "assert not sol.withdraw(10, 50)"
   ]
  }
 ],
 "metadata": {
  "kernelspec": {
   "display_name": "Python 3 (ipykernel)",
   "language": "python",
   "name": "python3"
  },
  "language_info": {
   "codemirror_mode": {
    "name": "ipython",
    "version": 3
   },
   "file_extension": ".py",
   "mimetype": "text/x-python",
   "name": "python",
   "nbconvert_exporter": "python",
   "pygments_lexer": "ipython3",
   "version": "3.9.7"
  }
 },
 "nbformat": 4,
 "nbformat_minor": 5
}
