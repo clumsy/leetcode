{
 "cells": [
  {
   "cell_type": "markdown",
   "id": "0417097a-01b3-4aa8-868c-86caa5e778b8",
   "metadata": {},
   "source": [
    "[Problem 2900](https://leetcode.com/problems/longest-unequal-adjacent-groups-subsequence-i/description)"
   ]
  },
  {
   "cell_type": "code",
   "execution_count": 1,
   "id": "a058dcce-3b11-467b-a89c-46f6be1c246f",
   "metadata": {},
   "outputs": [],
   "source": [
    "from typing import List"
   ]
  },
  {
   "cell_type": "code",
   "execution_count": 2,
   "id": "206cc1db-f0f3-4c78-8d1f-56bb139f9c74",
   "metadata": {},
   "outputs": [],
   "source": [
    "class Solution:\n",
    "    def getWordsInLongestSubsequence(self, n: int, words: List[str], groups: List[int]) -> List[str]:\n",
    "        seq = [[], []]\n",
    "        for i in range(n):\n",
    "            for s in seq:\n",
    "                if not s or groups[s[-1]] != groups[i]:\n",
    "                    s.append(i)\n",
    "        res = [words[i] for i in max(seq)]\n",
    "        return res"
   ]
  },
  {
   "cell_type": "code",
   "execution_count": 3,
   "id": "c40f2fd6-e86b-4be1-9809-86c13417e6f5",
   "metadata": {},
   "outputs": [],
   "source": [
    "class Solution:\n",
    "    def getWordsInLongestSubsequence(self, n: int, words: List[str], groups: List[int]) -> List[str]:\n",
    "        last, res = None, []\n",
    "        for w, g in zip(words, groups):\n",
    "            if g != last:\n",
    "                res.append(w)\n",
    "                last = g\n",
    "        return res"
   ]
  },
  {
   "cell_type": "code",
   "execution_count": 4,
   "id": "d0a1742f-bb0b-4ac5-adf9-1ae6e9289ace",
   "metadata": {},
   "outputs": [],
   "source": [
    "sol = Solution()"
   ]
  },
  {
   "cell_type": "code",
   "execution_count": 5,
   "id": "e1459f34-be73-4856-a7b6-4f58b8aa24eb",
   "metadata": {},
   "outputs": [],
   "source": [
    "assert sol.getWordsInLongestSubsequence(3, [\"e\",\"a\",\"b\"], [0,0,1]) == [\"e\",\"b\"]"
   ]
  },
  {
   "cell_type": "code",
   "execution_count": 6,
   "id": "eaffe681-d3a9-4f06-a0c8-c2f4a7498d15",
   "metadata": {},
   "outputs": [],
   "source": [
    "assert sol.getWordsInLongestSubsequence(4, [\"a\",\"b\",\"c\",\"d\"], [1,0,1,1]) == [\"a\",\"b\",\"c\"]"
   ]
  }
 ],
 "metadata": {
  "kernelspec": {
   "display_name": "Python 3 (ipykernel)",
   "language": "python",
   "name": "python3"
  },
  "language_info": {
   "codemirror_mode": {
    "name": "ipython",
    "version": 3
   },
   "file_extension": ".py",
   "mimetype": "text/x-python",
   "name": "python",
   "nbconvert_exporter": "python",
   "pygments_lexer": "ipython3",
   "version": "3.9.7"
  }
 },
 "nbformat": 4,
 "nbformat_minor": 5
}
