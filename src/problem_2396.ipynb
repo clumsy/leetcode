{
 "cells": [
  {
   "cell_type": "markdown",
   "id": "e85883c9-0ffd-47bf-a7b0-8305b1564b3d",
   "metadata": {},
   "source": [
    "[Problem 2396](https://leetcode.com/problems/strictly-palindromic-number/description)"
   ]
  },
  {
   "cell_type": "code",
   "execution_count": 2,
   "id": "250c7573-fc87-496d-bc70-8993f4c05c8c",
   "metadata": {},
   "outputs": [],
   "source": [
    "class Solution:\n",
    "    def isStrictlyPalindromic(self, n: int) -> bool:\n",
    "        # n in base n - 2 is always 12\n",
    "        return False"
   ]
  },
  {
   "cell_type": "code",
   "execution_count": 3,
   "id": "0526ce71-b4b7-42c5-b780-55b62f66fcde",
   "metadata": {},
   "outputs": [],
   "source": [
    "sol = Solution()"
   ]
  },
  {
   "cell_type": "code",
   "execution_count": 4,
   "id": "0ccbd3ee-4717-4340-bbd4-e64f523f0d8f",
   "metadata": {},
   "outputs": [],
   "source": [
    "assert not sol.isStrictlyPalindromic(9)"
   ]
  },
  {
   "cell_type": "code",
   "execution_count": 5,
   "id": "b10ed139-7489-4fff-bbf4-7b79e63b03ef",
   "metadata": {},
   "outputs": [],
   "source": [
    "assert not sol.isStrictlyPalindromic(4)"
   ]
  }
 ],
 "metadata": {
  "kernelspec": {
   "display_name": "Python 3 (ipykernel)",
   "language": "python",
   "name": "python3"
  },
  "language_info": {
   "codemirror_mode": {
    "name": "ipython",
    "version": 3
   },
   "file_extension": ".py",
   "mimetype": "text/x-python",
   "name": "python",
   "nbconvert_exporter": "python",
   "pygments_lexer": "ipython3",
   "version": "3.9.7"
  }
 },
 "nbformat": 4,
 "nbformat_minor": 5
}
