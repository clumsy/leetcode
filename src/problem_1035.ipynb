{
 "cells": [
  {
   "cell_type": "markdown",
   "id": "d5ddc405-0645-4f50-bb6d-2268af40e383",
   "metadata": {},
   "source": [
    "[Problem 1035](https://leetcode.com/problems/uncrossed-lines/description)"
   ]
  },
  {
   "cell_type": "code",
   "execution_count": 1,
   "id": "b6730db4-aa78-4b39-ae4e-afa1563b3c55",
   "metadata": {},
   "outputs": [],
   "source": [
    "from typing import List"
   ]
  },
  {
   "cell_type": "code",
   "execution_count": 2,
   "id": "f6a4aaae-c6ad-42ab-a20b-d21bf676d9b3",
   "metadata": {},
   "outputs": [],
   "source": [
    "class Solution:\n",
    "    def maxUncrossedLines(self, nums1: List[int], nums2: List[int]) -> int:\n",
    "        n1, n2 = len(nums1), len(nums2)\n",
    "        dp = [[0] * (n2 + 1) for _ in range(n1 + 1)]\n",
    "        for i1 in range(n1):\n",
    "            for i2 in range(n2):\n",
    "                dp[i1 + 1][i2 + 1] = (\n",
    "                    dp[i1][i2] + 1 if nums1[i1] == nums2[i2] else\n",
    "                    max(dp[i1][i2 + 1], dp[i1 + 1][i2])\n",
    "                )\n",
    "        res = dp[-1][-1]\n",
    "        return res"
   ]
  },
  {
   "cell_type": "code",
   "execution_count": 3,
   "id": "bdec54d8-579a-4bea-9234-40575dd23636",
   "metadata": {},
   "outputs": [],
   "source": [
    "class Solution:\n",
    "    def maxUncrossedLines(self, nums1: List[int], nums2: List[int]) -> int:\n",
    "        n1, n2 = len(nums1), len(nums2)\n",
    "        dp = [0] * (n2 + 1)\n",
    "        for i1 in range(n1):\n",
    "            for i2 in range(n2)[::-1]:\n",
    "                dp[i2 + 1] = dp[i2] + 1 if nums1[i1] == nums2[i2] else dp[i2 + 1]\n",
    "            for i2 in range(n2):\n",
    "                dp[i2 + 1] = max(dp[i2 + 1], dp[i2])\n",
    "        res = dp[-1]\n",
    "        return res"
   ]
  },
  {
   "cell_type": "code",
   "execution_count": 4,
   "id": "9f6740e3-5554-4776-a30a-c9f03e86890e",
   "metadata": {},
   "outputs": [],
   "source": [
    "sol = Solution()"
   ]
  },
  {
   "cell_type": "code",
   "execution_count": 5,
   "id": "64677514-0fa0-437e-876e-93cf04a337ee",
   "metadata": {},
   "outputs": [],
   "source": [
    "assert sol.maxUncrossedLines([1,4,2], [1,2,4]) == 2"
   ]
  },
  {
   "cell_type": "code",
   "execution_count": 6,
   "id": "843c0003-1474-49fb-86bf-84f4d66065b6",
   "metadata": {},
   "outputs": [],
   "source": [
    "assert sol.maxUncrossedLines([2,5,1,2,5], [10,5,2,1,5,2]) == 3"
   ]
  },
  {
   "cell_type": "code",
   "execution_count": 7,
   "id": "e4830883-1acc-4d87-97ba-76118a4b4589",
   "metadata": {},
   "outputs": [],
   "source": [
    "assert sol.maxUncrossedLines([1,3,7,1,7,5], [1,9,2,5,1]) == 2"
   ]
  }
 ],
 "metadata": {
  "kernelspec": {
   "display_name": "Python 3 (ipykernel)",
   "language": "python",
   "name": "python3"
  },
  "language_info": {
   "codemirror_mode": {
    "name": "ipython",
    "version": 3
   },
   "file_extension": ".py",
   "mimetype": "text/x-python",
   "name": "python",
   "nbconvert_exporter": "python",
   "pygments_lexer": "ipython3",
   "version": "3.9.7"
  }
 },
 "nbformat": 4,
 "nbformat_minor": 5
}
