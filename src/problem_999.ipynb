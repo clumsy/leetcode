{
 "cells": [
  {
   "cell_type": "markdown",
   "id": "d4a8bf6d-cf08-41eb-87f1-0733904e4760",
   "metadata": {},
   "source": [
    "[Problem 999](https://leetcode.com/problems/available-captures-for-rook/description)"
   ]
  },
  {
   "cell_type": "code",
   "execution_count": 1,
   "id": "f6041bfe-6bba-437a-b2fa-aae42d978c65",
   "metadata": {},
   "outputs": [],
   "source": [
    "from typing import List"
   ]
  },
  {
   "cell_type": "code",
   "execution_count": 2,
   "id": "ab1da4be-237f-48ab-955c-b3182274731a",
   "metadata": {},
   "outputs": [],
   "source": [
    "class Solution:\n",
    "    def numRookCaptures(self, board: List[List[str]]) -> int:\n",
    "        rows, cols = len(board), len(board[0])\n",
    "\n",
    "        def count(r, c, res, prev):\n",
    "            cur = board[r][c]\n",
    "            if cur == \"R\":\n",
    "                res += prev == \"p\"\n",
    "            elif cur == \"p\":\n",
    "                res += prev == \"R\"\n",
    "            return res, cur if cur != \".\" else prev\n",
    "        \n",
    "        res = 0\n",
    "        for r in range(rows):\n",
    "            prev = \".\"\n",
    "            for c in range(cols):\n",
    "                res, prev = count(r, c, res, prev)\n",
    "\n",
    "        for c in range(cols):\n",
    "            prev = \".\"\n",
    "            for r in range(rows):\n",
    "                res, prev = count(r, c, res, prev)\n",
    "\n",
    "        return res"
   ]
  },
  {
   "cell_type": "code",
   "execution_count": 3,
   "id": "dea45428-dc41-4056-bce7-0f7fbed07e8a",
   "metadata": {},
   "outputs": [],
   "source": [
    "sol = Solution()"
   ]
  },
  {
   "cell_type": "code",
   "execution_count": 4,
   "id": "ea81425d-3370-4d95-b5df-663ced8faa61",
   "metadata": {},
   "outputs": [],
   "source": [
    "board = [[\".\",\".\",\".\",\".\",\".\",\".\",\".\",\".\"],[\".\",\".\",\".\",\"p\",\".\",\".\",\".\",\".\"],[\".\",\".\",\".\",\"R\",\".\",\".\",\".\",\"p\"],[\".\",\".\",\".\",\".\",\".\",\".\",\".\",\".\"],[\".\",\".\",\".\",\".\",\".\",\".\",\".\",\".\"],[\".\",\".\",\".\",\"p\",\".\",\".\",\".\",\".\"],[\".\",\".\",\".\",\".\",\".\",\".\",\".\",\".\"],[\".\",\".\",\".\",\".\",\".\",\".\",\".\",\".\"]]\n",
    "assert sol.numRookCaptures(board) == 3"
   ]
  },
  {
   "cell_type": "code",
   "execution_count": 5,
   "id": "00389561-a209-4a65-854d-694f272e5b47",
   "metadata": {},
   "outputs": [],
   "source": [
    "board = [[\".\",\".\",\".\",\".\",\".\",\".\",\".\",\".\"],[\".\",\"p\",\"p\",\"p\",\"p\",\"p\",\".\",\".\"],[\".\",\"p\",\"p\",\"B\",\"p\",\"p\",\".\",\".\"],[\".\",\"p\",\"B\",\"R\",\"B\",\"p\",\".\",\".\"],[\".\",\"p\",\"p\",\"B\",\"p\",\"p\",\".\",\".\"],[\".\",\"p\",\"p\",\"p\",\"p\",\"p\",\".\",\".\"],[\".\",\".\",\".\",\".\",\".\",\".\",\".\",\".\"],[\".\",\".\",\".\",\".\",\".\",\".\",\".\",\".\"]]\n",
    "assert sol.numRookCaptures(board) == 0"
   ]
  },
  {
   "cell_type": "code",
   "execution_count": 6,
   "id": "80d76851-bfef-421f-a08a-e08ae4911be3",
   "metadata": {},
   "outputs": [],
   "source": [
    "board = [[\".\",\".\",\".\",\".\",\".\",\".\",\".\",\".\"],[\".\",\".\",\".\",\"p\",\".\",\".\",\".\",\".\"],[\".\",\".\",\".\",\"p\",\".\",\".\",\".\",\".\"],[\"p\",\"p\",\".\",\"R\",\".\",\"p\",\"B\",\".\"],[\".\",\".\",\".\",\".\",\".\",\".\",\".\",\".\"],[\".\",\".\",\".\",\"B\",\".\",\".\",\".\",\".\"],[\".\",\".\",\".\",\"p\",\".\",\".\",\".\",\".\"],[\".\",\".\",\".\",\".\",\".\",\".\",\".\",\".\"]]\n",
    "assert sol.numRookCaptures(board) == 3"
   ]
  }
 ],
 "metadata": {
  "kernelspec": {
   "display_name": "Python 3 (ipykernel)",
   "language": "python",
   "name": "python3"
  },
  "language_info": {
   "codemirror_mode": {
    "name": "ipython",
    "version": 3
   },
   "file_extension": ".py",
   "mimetype": "text/x-python",
   "name": "python",
   "nbconvert_exporter": "python",
   "pygments_lexer": "ipython3",
   "version": "3.9.7"
  }
 },
 "nbformat": 4,
 "nbformat_minor": 5
}
