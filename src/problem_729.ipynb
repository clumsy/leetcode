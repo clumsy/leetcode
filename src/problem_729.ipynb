{
 "cells": [
  {
   "cell_type": "markdown",
   "id": "7fb88eeb-6775-4bb7-bf28-84ad4bb082d1",
   "metadata": {},
   "source": [
    "[Problem 729]()"
   ]
  },
  {
   "cell_type": "code",
   "execution_count": 1,
   "id": "cdae4af8-770c-4d31-b655-d818481f6bf5",
   "metadata": {},
   "outputs": [],
   "source": [
    "from bisect import bisect_right\n",
    "from bisect import insort"
   ]
  },
  {
   "cell_type": "code",
   "execution_count": 2,
   "id": "752ecf19-adf0-4e7f-a8a5-81b3bfa459ef",
   "metadata": {},
   "outputs": [],
   "source": [
    "class MyCalendar:\n",
    "\n",
    "    def __init__(self):\n",
    "        self.starts = []\n",
    "        self.ends = {}\n",
    "\n",
    "    def book(self, start: int, end: int) -> bool:\n",
    "        i = bisect_right(self.starts, end - 1)\n",
    "        if 0 < i <= len(self.starts) and start < self.ends[self.starts[i - 1]]:\n",
    "            return False\n",
    "        insort(self.starts, start)\n",
    "        self.ends[start] = end\n",
    "        return True"
   ]
  },
  {
   "cell_type": "code",
   "execution_count": 3,
   "id": "7afa864a-6e34-4702-9ca6-ae1f798d28c7",
   "metadata": {},
   "outputs": [],
   "source": [
    "sol = MyCalendar()\n",
    "assert sol.book(10, 20)\n",
    "assert not sol.book(15, 25)\n",
    "assert sol.book(20, 30)"
   ]
  }
 ],
 "metadata": {
  "kernelspec": {
   "display_name": "Python 3 (ipykernel)",
   "language": "python",
   "name": "python3"
  },
  "language_info": {
   "codemirror_mode": {
    "name": "ipython",
    "version": 3
   },
   "file_extension": ".py",
   "mimetype": "text/x-python",
   "name": "python",
   "nbconvert_exporter": "python",
   "pygments_lexer": "ipython3",
   "version": "3.9.7"
  }
 },
 "nbformat": 4,
 "nbformat_minor": 5
}
