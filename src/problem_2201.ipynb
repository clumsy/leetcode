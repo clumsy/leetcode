{
 "cells": [
  {
   "cell_type": "markdown",
   "id": "7dae1173-c084-4af1-8397-a74c3d86d4d7",
   "metadata": {},
   "source": [
    "[Problem 2201](https://leetcode.com/problems/count-artifacts-that-can-be-extracted/description)"
   ]
  },
  {
   "cell_type": "code",
   "execution_count": 1,
   "id": "54714d81-71f8-446a-8b0c-cace1de74ffe",
   "metadata": {},
   "outputs": [],
   "source": [
    "from typing import List"
   ]
  },
  {
   "cell_type": "code",
   "execution_count": 2,
   "id": "0d9d7d6d-65d2-4fd1-aafc-f2c688446060",
   "metadata": {},
   "outputs": [],
   "source": [
    "class Solution:\n",
    "    def digArtifacts(self, n: int, artifacts: List[List[int]], dig: List[List[int]]) -> int:\n",
    "        g = [[0] * n for _ in range(n)]\n",
    "        for r, c in dig:\n",
    "            g[r][c] = 1\n",
    "        for r in range(n):\n",
    "            for c in range(n):\n",
    "                g[r][c] += (g[r - 1][c] if r else 0) + (g[r][c - 1] if c else 0) - (g[r - 1][c - 1] if r and c else 0)\n",
    "        res = 0\n",
    "        for tr, tc, br, bc in artifacts:\n",
    "            cnt = g[br][bc] - (g[tr - 1][bc] if tr else 0) - (g[br][tc - 1] if tc else 0) + (g[tr - 1][tc - 1] if tr and tc else 0)\n",
    "            res += (br - tr + 1) * (bc - tc + 1) == cnt\n",
    "        return res"
   ]
  },
  {
   "cell_type": "code",
   "execution_count": 3,
   "id": "13613127-a73c-4237-bd64-72e8aff0019e",
   "metadata": {},
   "outputs": [],
   "source": [
    "sol = Solution()"
   ]
  },
  {
   "cell_type": "code",
   "execution_count": 4,
   "id": "f3246591-4a1e-4a43-9432-abc4c91ce5e5",
   "metadata": {},
   "outputs": [],
   "source": [
    "assert sol.digArtifacts(2, [[0,0,0,0],[0,1,1,1]], [[0,0],[0,1]]) == 1"
   ]
  },
  {
   "cell_type": "code",
   "execution_count": 5,
   "id": "d78940e8-1eb1-467e-bc56-625e39a2e1aa",
   "metadata": {},
   "outputs": [],
   "source": [
    "assert sol.digArtifacts(2, [[0,0,0,0],[0,1,1,1]], [[0,0],[0,1],[1,1]]) == 2"
   ]
  }
 ],
 "metadata": {
  "kernelspec": {
   "display_name": "Python 3 (ipykernel)",
   "language": "python",
   "name": "python3"
  },
  "language_info": {
   "codemirror_mode": {
    "name": "ipython",
    "version": 3
   },
   "file_extension": ".py",
   "mimetype": "text/x-python",
   "name": "python",
   "nbconvert_exporter": "python",
   "pygments_lexer": "ipython3",
   "version": "3.9.7"
  }
 },
 "nbformat": 4,
 "nbformat_minor": 5
}
