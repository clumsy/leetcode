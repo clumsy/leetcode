{
 "cells": [
  {
   "cell_type": "markdown",
   "id": "91d909bb-82ac-4a22-81f4-c3c44cba3642",
   "metadata": {},
   "source": [
    "[Problem 1436](https://leetcode.com/problems/destination-city/description)"
   ]
  },
  {
   "cell_type": "code",
   "execution_count": 1,
   "id": "c9a85e4c-706b-4d4e-bff5-1efeffba210d",
   "metadata": {},
   "outputs": [],
   "source": [
    "from typing import List"
   ]
  },
  {
   "cell_type": "code",
   "execution_count": 2,
   "id": "98c30146-01a2-4da7-9f3b-32726c49c70f",
   "metadata": {},
   "outputs": [],
   "source": [
    "class Solution:\n",
    "    def destCity(self, paths: List[List[str]]) -> str:\n",
    "        res = ({d for _, d in paths} - {s for s, _ in paths}).pop()\n",
    "        return res"
   ]
  },
  {
   "cell_type": "code",
   "execution_count": 3,
   "id": "82771a79-e9d0-49ee-a7d5-2f0c2b17b8f3",
   "metadata": {},
   "outputs": [],
   "source": [
    "sol = Solution()"
   ]
  },
  {
   "cell_type": "code",
   "execution_count": 4,
   "id": "f1f9d3f3-4eb7-4db3-aa69-18955259e996",
   "metadata": {},
   "outputs": [],
   "source": [
    "assert sol.destCity([[\"London\",\"New York\"],[\"New York\",\"Lima\"],[\"Lima\",\"Sao Paulo\"]]) == \"Sao Paulo\""
   ]
  },
  {
   "cell_type": "code",
   "execution_count": 5,
   "id": "da480d34-e172-404b-bb29-1fb45b298293",
   "metadata": {},
   "outputs": [],
   "source": [
    "assert sol.destCity([[\"B\",\"C\"],[\"D\",\"B\"],[\"C\",\"A\"]]) == \"A\""
   ]
  },
  {
   "cell_type": "code",
   "execution_count": 6,
   "id": "8f8afb34-84e9-4906-be73-c79fdaecc43c",
   "metadata": {},
   "outputs": [],
   "source": [
    "assert sol.destCity([[\"A\",\"Z\"]]) == \"Z\""
   ]
  }
 ],
 "metadata": {
  "kernelspec": {
   "display_name": "Python 3 (ipykernel)",
   "language": "python",
   "name": "python3"
  },
  "language_info": {
   "codemirror_mode": {
    "name": "ipython",
    "version": 3
   },
   "file_extension": ".py",
   "mimetype": "text/x-python",
   "name": "python",
   "nbconvert_exporter": "python",
   "pygments_lexer": "ipython3",
   "version": "3.9.7"
  }
 },
 "nbformat": 4,
 "nbformat_minor": 5
}
