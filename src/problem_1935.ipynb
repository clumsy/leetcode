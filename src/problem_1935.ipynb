{
 "cells": [
  {
   "cell_type": "markdown",
   "id": "14b23fd0-2c59-4d0a-898a-cd10e71cb9b5",
   "metadata": {},
   "source": [
    "[Problem 1935](https://leetcode.com/problems/maximum-number-of-words-you-can-type/description)"
   ]
  },
  {
   "cell_type": "code",
   "execution_count": 10,
   "id": "2d77ab1f-5441-4cd2-84c7-f27aab7efc9c",
   "metadata": {},
   "outputs": [],
   "source": [
    "class Solution:\n",
    "    def canBeTypedWords(self, text: str, brokenLetters: str) -> int:\n",
    "        def mask(s):\n",
    "            mask = 0\n",
    "            for c in s:\n",
    "                mask |= 1 << (ord(c) - ord(\"a\"))\n",
    "            return mask\n",
    "        broken = mask(brokenLetters)\n",
    "        res = sum(broken & mask(w) == 0 for w in text.split())\n",
    "        return res"
   ]
  },
  {
   "cell_type": "code",
   "execution_count": 11,
   "id": "773fc956-3d1a-4db3-88f5-b6d6ce3d4914",
   "metadata": {},
   "outputs": [],
   "source": [
    "sol = Solution()"
   ]
  },
  {
   "cell_type": "code",
   "execution_count": 12,
   "id": "e0c4f4f6-6806-452a-9253-fcf318c38bf1",
   "metadata": {},
   "outputs": [],
   "source": [
    "assert sol.canBeTypedWords(\"hello world\", \"ad\") == 1"
   ]
  },
  {
   "cell_type": "code",
   "execution_count": 13,
   "id": "0baf028c-757d-43c9-829f-bb3c9806aa89",
   "metadata": {},
   "outputs": [],
   "source": [
    "assert sol.canBeTypedWords(\"leet code\", \"lt\") == 1"
   ]
  },
  {
   "cell_type": "code",
   "execution_count": 14,
   "id": "e8c1ab86-530e-484e-8305-b896fee526b2",
   "metadata": {},
   "outputs": [],
   "source": [
    "assert sol.canBeTypedWords(\"leet code\", \"le\") == 0"
   ]
  }
 ],
 "metadata": {
  "kernelspec": {
   "display_name": "Python 3 (ipykernel)",
   "language": "python",
   "name": "python3"
  },
  "language_info": {
   "codemirror_mode": {
    "name": "ipython",
    "version": 3
   },
   "file_extension": ".py",
   "mimetype": "text/x-python",
   "name": "python",
   "nbconvert_exporter": "python",
   "pygments_lexer": "ipython3",
   "version": "3.9.7"
  }
 },
 "nbformat": 4,
 "nbformat_minor": 5
}
