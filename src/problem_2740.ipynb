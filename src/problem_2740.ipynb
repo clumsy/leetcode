{
 "cells": [
  {
   "cell_type": "markdown",
   "id": "b73fe635-eeeb-42d8-912d-6273f2544e2c",
   "metadata": {},
   "source": [
    "[Problem 2740](https://leetcode.com/problems/find-the-value-of-the-partition/description)"
   ]
  },
  {
   "cell_type": "code",
   "execution_count": 5,
   "id": "e74639fb-d20c-438a-822c-3ef07bbf8e28",
   "metadata": {},
   "outputs": [],
   "source": [
    "from typing import List\n",
    "from math import inf"
   ]
  },
  {
   "cell_type": "code",
   "execution_count": 6,
   "id": "75590200-033b-45eb-a3d6-c7faf2dbf7d8",
   "metadata": {},
   "outputs": [],
   "source": [
    "class Solution:\n",
    "    def findValueOfPartition(self, nums: List[int]) -> int:\n",
    "        nums.sort()\n",
    "        res = inf\n",
    "        for i in range(len(nums) - 1):\n",
    "            res = min(res, nums[i + 1] - nums[i])\n",
    "        return res"
   ]
  },
  {
   "cell_type": "code",
   "execution_count": 7,
   "id": "392c717e-8a7f-46a5-a3c8-a87bcb56d499",
   "metadata": {},
   "outputs": [],
   "source": [
    "sol = Solution()"
   ]
  },
  {
   "cell_type": "code",
   "execution_count": 8,
   "id": "bab586c5-adae-4241-b930-1cf3ffd33282",
   "metadata": {},
   "outputs": [],
   "source": [
    "assert sol.findValueOfPartition([1,3,2,4]) == 1"
   ]
  },
  {
   "cell_type": "code",
   "execution_count": 9,
   "id": "e1629b76-07fc-44c2-8c79-c688fa59ec84",
   "metadata": {},
   "outputs": [],
   "source": [
    "assert sol.findValueOfPartition([100,1,10]) == 9"
   ]
  }
 ],
 "metadata": {
  "kernelspec": {
   "display_name": "Python 3 (ipykernel)",
   "language": "python",
   "name": "python3"
  },
  "language_info": {
   "codemirror_mode": {
    "name": "ipython",
    "version": 3
   },
   "file_extension": ".py",
   "mimetype": "text/x-python",
   "name": "python",
   "nbconvert_exporter": "python",
   "pygments_lexer": "ipython3",
   "version": "3.9.7"
  }
 },
 "nbformat": 4,
 "nbformat_minor": 5
}
