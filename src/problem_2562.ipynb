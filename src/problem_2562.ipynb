{
 "cells": [
  {
   "cell_type": "markdown",
   "id": "61c4899c-be9a-43ab-905d-005891c38ae1",
   "metadata": {},
   "source": [
    "[Problem 2562](https://leetcode.com/problems/find-the-array-concatenation-value/description)"
   ]
  },
  {
   "cell_type": "code",
   "execution_count": 1,
   "id": "0bcc0745-1655-4676-9a08-32dafa83461f",
   "metadata": {},
   "outputs": [],
   "source": [
    "from typing import List"
   ]
  },
  {
   "cell_type": "code",
   "execution_count": 2,
   "id": "67c49fb4-e79b-40e5-b448-340c3c456935",
   "metadata": {},
   "outputs": [],
   "source": [
    "class Solution:\n",
    "    def findTheArrayConcVal(self, nums: List[int]) -> int:\n",
    "        n = len(nums)\n",
    "        lo, hi = 0, n - 1\n",
    "        res = 0 if n & 1 == 0 else nums[n // 2]\n",
    "        while lo < hi:\n",
    "            res += int(str(nums[lo]) + str(nums[hi]))\n",
    "            lo += 1\n",
    "            hi -= 1\n",
    "        return res"
   ]
  },
  {
   "cell_type": "code",
   "execution_count": 3,
   "id": "b62eb0c9-74df-470d-bf64-be13b693e446",
   "metadata": {},
   "outputs": [],
   "source": [
    "sol = Solution()"
   ]
  },
  {
   "cell_type": "code",
   "execution_count": 4,
   "id": "3eaf007a-3c37-4542-b668-e557dacdf2e8",
   "metadata": {},
   "outputs": [],
   "source": [
    "assert sol.findTheArrayConcVal([7,52,2,4]) == 596"
   ]
  },
  {
   "cell_type": "code",
   "execution_count": 5,
   "id": "813e961b-b5a7-4b9a-abc8-3e4682b956e1",
   "metadata": {},
   "outputs": [],
   "source": [
    "assert sol.findTheArrayConcVal([5,14,13,8,12]) == 673"
   ]
  }
 ],
 "metadata": {
  "kernelspec": {
   "display_name": "Python 3 (ipykernel)",
   "language": "python",
   "name": "python3"
  },
  "language_info": {
   "codemirror_mode": {
    "name": "ipython",
    "version": 3
   },
   "file_extension": ".py",
   "mimetype": "text/x-python",
   "name": "python",
   "nbconvert_exporter": "python",
   "pygments_lexer": "ipython3",
   "version": "3.9.7"
  }
 },
 "nbformat": 4,
 "nbformat_minor": 5
}
