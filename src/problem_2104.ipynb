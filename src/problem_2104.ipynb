{
 "cells": [
  {
   "cell_type": "markdown",
   "id": "ef4e6ae0-5050-4d5b-9f37-20b89a744d08",
   "metadata": {},
   "source": [
    "[Problem 2104](https://leetcode.com/problems/sum-of-subarray-ranges/description)"
   ]
  },
  {
   "cell_type": "code",
   "execution_count": 5,
   "id": "759dd441-3be0-48f3-8707-5ed7fd04cf5e",
   "metadata": {},
   "outputs": [],
   "source": [
    "from typing import List\n",
    "from math import inf"
   ]
  },
  {
   "cell_type": "code",
   "execution_count": 6,
   "id": "0a576568-e39f-4e30-8c62-ece11a4c17f5",
   "metadata": {},
   "outputs": [],
   "source": [
    "class Solution:\n",
    "    def subArrayRanges(self, nums: List[int]) -> int:\n",
    "        res, n = 0, len(nums)\n",
    "        ma = [[-inf] * n for _ in range(n)]\n",
    "        mi = [[+inf] * n for _ in range(n)]\n",
    "        for i in range(n):\n",
    "            ma[i][i] = mi[i][i] = nums[i]\n",
    "        for s in range(n):\n",
    "            for e in range(s + 1, n):\n",
    "                ma[s][e] = max(ma[s][e - 1], nums[e])\n",
    "                mi[s][e] = min(mi[s][e - 1], nums[e])\n",
    "                res += ma[s][e] - mi[s][e]\n",
    "        return res"
   ]
  },
  {
   "cell_type": "code",
   "execution_count": 11,
   "id": "8e72be5e-411d-4468-a8dc-6b9e07825a98",
   "metadata": {},
   "outputs": [],
   "source": [
    "class Solution:\n",
    "    def subArrayRanges(self, nums: List[int]) -> int:\n",
    "        res, n = 0, len(nums)\n",
    "        for s in range(n):\n",
    "            ma = mi = nums[s]\n",
    "            for e in range(s + 1, n):\n",
    "                ma = max(ma, nums[e])\n",
    "                mi = min(mi, nums[e])\n",
    "                res += ma - mi\n",
    "        return res"
   ]
  },
  {
   "cell_type": "code",
   "execution_count": 12,
   "id": "c2855366-7c05-4fb8-8814-aeb3e260ac46",
   "metadata": {},
   "outputs": [],
   "source": [
    "from math import inf"
   ]
  },
  {
   "cell_type": "code",
   "execution_count": 13,
   "id": "7978612a-d472-42c1-93aa-73a209636ca8",
   "metadata": {},
   "outputs": [],
   "source": [
    "class Solution:\n",
    "    def subArrayRanges(self, nums: List[int]) -> int:\n",
    "        res, n = 0, len(nums)\n",
    "        # res = sum(max) - sum(min) - calculate both separately\n",
    "        s, arr = [], [-inf] + nums + [-inf]\n",
    "        for i, e in enumerate(arr):\n",
    "            while s and arr[s[-1]] > e:\n",
    "                j = s.pop()\n",
    "                k = s[-1]\n",
    "                # arr[j] is the previous min\n",
    "                # i - j count how many intervals to the right it is the minimum of\n",
    "                # j - k count how many intervals to the left it is the minimum of\n",
    "                res -= arr[j] * (i - j) * (j - k)\n",
    "            s.append(i) # new minimum\n",
    "        s, arr = [], [+inf] + nums + [+inf]\n",
    "        for i, e in enumerate(arr):\n",
    "            while s and arr[s[-1]] < e:\n",
    "                j = s.pop()\n",
    "                k = s[-1]\n",
    "                # arr[j] is the previous max\n",
    "                # i - j count how many intervals to the right it is the maximum of\n",
    "                # j - k count how many intervals to the left it is the maximum of\n",
    "                res += arr[j] * (i - j) * (j - k)\n",
    "            s.append(i) # new minimum\n",
    "        return res"
   ]
  },
  {
   "cell_type": "code",
   "execution_count": 14,
   "id": "88c2e7d0-7e85-4d90-ab56-a3023d35158e",
   "metadata": {},
   "outputs": [],
   "source": [
    "sol = Solution()"
   ]
  },
  {
   "cell_type": "code",
   "execution_count": 15,
   "id": "a7e86f62-1195-4c82-95bd-f749904d559f",
   "metadata": {},
   "outputs": [],
   "source": [
    "assert sol.subArrayRanges([1,2,3]) == 4"
   ]
  },
  {
   "cell_type": "code",
   "execution_count": 16,
   "id": "e29e025c-d77c-43f4-90f8-8753edaeb1ed",
   "metadata": {},
   "outputs": [],
   "source": [
    "assert sol.subArrayRanges([1,3,3]) == 4"
   ]
  },
  {
   "cell_type": "code",
   "execution_count": 17,
   "id": "28a8ad6c-d479-4169-9fe7-adc028bd9f71",
   "metadata": {},
   "outputs": [],
   "source": [
    "assert sol.subArrayRanges([4,-2,-3,4,1]) == 59"
   ]
  }
 ],
 "metadata": {
  "kernelspec": {
   "display_name": "Python 3 (ipykernel)",
   "language": "python",
   "name": "python3"
  },
  "language_info": {
   "codemirror_mode": {
    "name": "ipython",
    "version": 3
   },
   "file_extension": ".py",
   "mimetype": "text/x-python",
   "name": "python",
   "nbconvert_exporter": "python",
   "pygments_lexer": "ipython3",
   "version": "3.9.7"
  }
 },
 "nbformat": 4,
 "nbformat_minor": 5
}
