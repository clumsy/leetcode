{
 "cells": [
  {
   "cell_type": "markdown",
   "id": "a8a63981-f01d-425f-87f3-62b198ddee79",
   "metadata": {},
   "source": [
    "[Problem 1422]()"
   ]
  },
  {
   "cell_type": "code",
   "execution_count": 1,
   "id": "a55d8792-d02e-4adb-b33e-3da82bfe5c21",
   "metadata": {},
   "outputs": [],
   "source": [
    "class Solution:\n",
    "    def maxScore(self, s: str) -> int:\n",
    "        z, o, res = 0, s.count(\"1\"), 0\n",
    "        for c in s:\n",
    "            z += c == \"0\"\n",
    "            o -= c == \"1\"\n",
    "            res = max(res, z + o)\n",
    "        return res"
   ]
  },
  {
   "cell_type": "code",
   "execution_count": 2,
   "id": "71ccf257-a3a3-47ed-9916-c5d3a6c6091b",
   "metadata": {},
   "outputs": [],
   "source": [
    "sol = Solution()"
   ]
  },
  {
   "cell_type": "code",
   "execution_count": 3,
   "id": "7ed8eede-f383-4d8f-bd6f-745eebfd2651",
   "metadata": {},
   "outputs": [],
   "source": [
    "assert sol.maxScore(\"011101\") == 5"
   ]
  },
  {
   "cell_type": "code",
   "execution_count": 4,
   "id": "7363bd5a-9fda-4d99-8529-1db90c88996b",
   "metadata": {},
   "outputs": [],
   "source": [
    "assert sol.maxScore(\"00111\") == 5"
   ]
  },
  {
   "cell_type": "code",
   "execution_count": 5,
   "id": "8fa623ec-fa75-4021-8371-a71922b09515",
   "metadata": {},
   "outputs": [],
   "source": [
    "assert sol.maxScore(\"1111\") == 3"
   ]
  }
 ],
 "metadata": {
  "kernelspec": {
   "display_name": "Python 3 (ipykernel)",
   "language": "python",
   "name": "python3"
  },
  "language_info": {
   "codemirror_mode": {
    "name": "ipython",
    "version": 3
   },
   "file_extension": ".py",
   "mimetype": "text/x-python",
   "name": "python",
   "nbconvert_exporter": "python",
   "pygments_lexer": "ipython3",
   "version": "3.9.7"
  }
 },
 "nbformat": 4,
 "nbformat_minor": 5
}
