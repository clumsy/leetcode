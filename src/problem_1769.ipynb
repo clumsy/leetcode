{
 "cells": [
  {
   "cell_type": "markdown",
   "id": "32f85edb-5e90-466e-a8c0-ecbf170eaf45",
   "metadata": {},
   "source": [
    "[Problem 1769](https://leetcode.com/problems/max-chunks-to-make-sorted/description)"
   ]
  },
  {
   "cell_type": "code",
   "execution_count": 1,
   "id": "31de5c5d-3a93-44db-8a46-8a39aa191340",
   "metadata": {},
   "outputs": [],
   "source": [
    "from typing import List"
   ]
  },
  {
   "cell_type": "code",
   "execution_count": 2,
   "id": "7ebaf914-b974-454d-9a65-4c7c45f7cf63",
   "metadata": {},
   "outputs": [],
   "source": [
    "class Solution:\n",
    "    def maxChunksToSorted(self, arr: List[int]) -> int:\n",
    "        res, ma, n = 0, arr[0], len(arr)\n",
    "        for i in range(n):\n",
    "            ma = max(ma, arr[i])\n",
    "            if ma == i:\n",
    "                res += 1\n",
    "        return res"
   ]
  },
  {
   "cell_type": "code",
   "execution_count": 3,
   "id": "160a48b1-9f46-4f87-be87-6415adf6b2c5",
   "metadata": {},
   "outputs": [],
   "source": [
    "sol = Solution()"
   ]
  },
  {
   "cell_type": "code",
   "execution_count": 4,
   "id": "ec6c5ac4-1d2f-418c-8222-156caf0f40c6",
   "metadata": {},
   "outputs": [],
   "source": [
    "assert sol.maxChunksToSorted([4,3,2,1,0]) == 1"
   ]
  },
  {
   "cell_type": "code",
   "execution_count": 5,
   "id": "82125e9f-92a2-4916-9065-fa76d0cb3109",
   "metadata": {},
   "outputs": [],
   "source": [
    "assert sol.maxChunksToSorted([1,0,2,3,4]) == 4"
   ]
  }
 ],
 "metadata": {
  "kernelspec": {
   "display_name": "Python 3 (ipykernel)",
   "language": "python",
   "name": "python3"
  },
  "language_info": {
   "codemirror_mode": {
    "name": "ipython",
    "version": 3
   },
   "file_extension": ".py",
   "mimetype": "text/x-python",
   "name": "python",
   "nbconvert_exporter": "python",
   "pygments_lexer": "ipython3",
   "version": "3.9.7"
  }
 },
 "nbformat": 4,
 "nbformat_minor": 5
}
