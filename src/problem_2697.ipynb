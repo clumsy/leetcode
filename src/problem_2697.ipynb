{
 "cells": [
  {
   "cell_type": "markdown",
   "id": "d265acfe-85f1-4d70-b56c-19a5c3ca1463",
   "metadata": {},
   "source": [
    "[Problem 2697](https://leetcode.com/problems/lexicographically-smallest-palindrome/description)"
   ]
  },
  {
   "cell_type": "code",
   "execution_count": 1,
   "id": "57ba3a22-e39e-491b-b2f7-be2538450a33",
   "metadata": {},
   "outputs": [],
   "source": [
    "class Solution:\n",
    "    def makeSmallestPalindrome(self, s: str) -> str:\n",
    "        s, n = list(s), len(s)\n",
    "        for i in range(n // 2):\n",
    "            s[i] = s[n - 1 - i] = min(s[i], s[n - 1 - i])\n",
    "        res = \"\".join(s)\n",
    "        return res"
   ]
  },
  {
   "cell_type": "code",
   "execution_count": 2,
   "id": "f58b1b7f-6388-4d13-848c-e8dc3ca45de7",
   "metadata": {},
   "outputs": [],
   "source": [
    "sol = Solution()"
   ]
  },
  {
   "cell_type": "code",
   "execution_count": 3,
   "id": "0fe6c598-83b6-48aa-b4f1-e8ef446f8b5b",
   "metadata": {},
   "outputs": [],
   "source": [
    "assert sol.makeSmallestPalindrome(\"egcfe\") == \"efcfe\""
   ]
  },
  {
   "cell_type": "code",
   "execution_count": 4,
   "id": "1b278fd5-a351-493c-af3f-d54e342dd090",
   "metadata": {},
   "outputs": [],
   "source": [
    "assert sol.makeSmallestPalindrome(\"abcd\") == \"abba\""
   ]
  },
  {
   "cell_type": "code",
   "execution_count": 5,
   "id": "16ca6894-07da-414b-964a-01c933db5f5c",
   "metadata": {},
   "outputs": [],
   "source": [
    "assert sol.makeSmallestPalindrome(\"seven\") == \"neven\""
   ]
  }
 ],
 "metadata": {
  "kernelspec": {
   "display_name": "Python 3 (ipykernel)",
   "language": "python",
   "name": "python3"
  },
  "language_info": {
   "codemirror_mode": {
    "name": "ipython",
    "version": 3
   },
   "file_extension": ".py",
   "mimetype": "text/x-python",
   "name": "python",
   "nbconvert_exporter": "python",
   "pygments_lexer": "ipython3",
   "version": "3.9.7"
  }
 },
 "nbformat": 4,
 "nbformat_minor": 5
}
