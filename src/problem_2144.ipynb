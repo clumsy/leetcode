{
 "cells": [
  {
   "cell_type": "markdown",
   "id": "ddaf08d7-e54d-4044-ad27-7c62240b8d91",
   "metadata": {},
   "source": [
    "[Problem 2144](https://leetcode.com/problems/minimum-cost-of-buying-candies-with-discount/description)"
   ]
  },
  {
   "cell_type": "code",
   "execution_count": 1,
   "id": "3c4a8c6a-d31d-4533-b5a7-7c7062196030",
   "metadata": {},
   "outputs": [],
   "source": [
    "from typing import List"
   ]
  },
  {
   "cell_type": "code",
   "execution_count": 2,
   "id": "c6f1e8be-3386-4cb7-bfee-a07204175c4f",
   "metadata": {},
   "outputs": [],
   "source": [
    "class Solution:\n",
    "    def minimumCost(self, cost: List[int]) -> int:\n",
    "        cost.sort(reverse=True)\n",
    "        res = 0\n",
    "        for i, e in enumerate(cost):\n",
    "            res += e if i % 3 != 2 else 0\n",
    "        return res"
   ]
  },
  {
   "cell_type": "code",
   "execution_count": 3,
   "id": "a431d77c-06da-4049-a4af-25ff444d40ec",
   "metadata": {},
   "outputs": [],
   "source": [
    "sol = Solution()"
   ]
  },
  {
   "cell_type": "code",
   "execution_count": 4,
   "id": "0495039f-bd26-4152-8330-f9d429aa5055",
   "metadata": {},
   "outputs": [],
   "source": [
    "assert sol.minimumCost([1,2,3]) == 5"
   ]
  },
  {
   "cell_type": "code",
   "execution_count": 5,
   "id": "60b355b0-4358-4d23-bf3d-29a440becc1a",
   "metadata": {},
   "outputs": [],
   "source": [
    "assert sol.minimumCost([6,5,7,9,2,2]) == 23"
   ]
  },
  {
   "cell_type": "code",
   "execution_count": 6,
   "id": "87632404-f8bb-4b7c-895c-8be35a85d5d8",
   "metadata": {},
   "outputs": [],
   "source": [
    "assert sol.minimumCost([5,5]) == 10"
   ]
  }
 ],
 "metadata": {
  "kernelspec": {
   "display_name": "Python 3 (ipykernel)",
   "language": "python",
   "name": "python3"
  },
  "language_info": {
   "codemirror_mode": {
    "name": "ipython",
    "version": 3
   },
   "file_extension": ".py",
   "mimetype": "text/x-python",
   "name": "python",
   "nbconvert_exporter": "python",
   "pygments_lexer": "ipython3",
   "version": "3.9.7"
  }
 },
 "nbformat": 4,
 "nbformat_minor": 5
}
