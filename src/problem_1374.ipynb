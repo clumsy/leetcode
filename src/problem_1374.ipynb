{
 "cells": [
  {
   "cell_type": "markdown",
   "id": "e837855f-b9e1-47e5-8c4e-f3580ebedea9",
   "metadata": {},
   "source": [
    "[Problem 1374](https://leetcode.com/problems/generate-a-string-with-characters-that-have-odd-counts/description)"
   ]
  },
  {
   "cell_type": "code",
   "execution_count": 1,
   "id": "87035cb5-4393-44c3-b0c8-07ecae8d2ed5",
   "metadata": {},
   "outputs": [],
   "source": [
    "class Solution:\n",
    "    def generateTheString(self, n: int) -> str:\n",
    "        res = \"a\" * n if n & 1 == 1 else \"a\" * (n - 1) + \"b\"\n",
    "        return res"
   ]
  },
  {
   "cell_type": "code",
   "execution_count": 2,
   "id": "f921ade5-79e7-4cd4-9908-7ee50b02666a",
   "metadata": {},
   "outputs": [],
   "source": [
    "sol = Solution()"
   ]
  },
  {
   "cell_type": "code",
   "execution_count": 3,
   "id": "24ac41af-73b3-4f54-834e-2f5e8465018f",
   "metadata": {},
   "outputs": [],
   "source": [
    "assert sol.generateTheString(4) == \"aaab\""
   ]
  },
  {
   "cell_type": "code",
   "execution_count": 4,
   "id": "f35ffefe-8234-4e6e-8126-7ca778615cb0",
   "metadata": {},
   "outputs": [],
   "source": [
    "assert sol.generateTheString(2) == \"ab\""
   ]
  },
  {
   "cell_type": "code",
   "execution_count": 5,
   "id": "c476d693-fc56-4047-a468-441a76b0e06a",
   "metadata": {},
   "outputs": [],
   "source": [
    "assert sol.generateTheString(7) == \"aaaaaaa\""
   ]
  }
 ],
 "metadata": {
  "kernelspec": {
   "display_name": "Python 3 (ipykernel)",
   "language": "python",
   "name": "python3"
  },
  "language_info": {
   "codemirror_mode": {
    "name": "ipython",
    "version": 3
   },
   "file_extension": ".py",
   "mimetype": "text/x-python",
   "name": "python",
   "nbconvert_exporter": "python",
   "pygments_lexer": "ipython3",
   "version": "3.9.7"
  }
 },
 "nbformat": 4,
 "nbformat_minor": 5
}
