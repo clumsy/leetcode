{
 "cells": [
  {
   "cell_type": "markdown",
   "id": "afb9d9a3-c73a-493e-a86a-3afa80186c99",
   "metadata": {},
   "source": [
    "[Problem 2785](https://leetcode.com/problems/sort-vowels-in-a-string/description)"
   ]
  },
  {
   "cell_type": "code",
   "execution_count": 1,
   "id": "c7c6fdd8-6257-4aa3-b5e7-1e0e43e3a99c",
   "metadata": {},
   "outputs": [],
   "source": [
    "class Solution:\n",
    "    def sortVowels(self, s: str) -> str:\n",
    "        vls = sorted((c for c in s if c.lower() in \"aeiou\"), key=ord, reverse=True)\n",
    "        res = \"\".join(vls.pop() if c.lower() in \"aeiou\" else c for c in s)\n",
    "        return res"
   ]
  },
  {
   "cell_type": "code",
   "execution_count": 2,
   "id": "81320353-da35-4cd7-a1ed-35716920baa0",
   "metadata": {},
   "outputs": [],
   "source": [
    "sol = Solution()"
   ]
  },
  {
   "cell_type": "code",
   "execution_count": 3,
   "id": "fa39e80f-f3f3-47f7-9b56-6166fe0baf26",
   "metadata": {},
   "outputs": [],
   "source": [
    "assert sol.sortVowels(\"lEetcOde\") == \"lEOtcede\""
   ]
  },
  {
   "cell_type": "code",
   "execution_count": 4,
   "id": "72b148d7-37a1-4a05-8a0f-6a14daa00e73",
   "metadata": {},
   "outputs": [],
   "source": [
    "assert sol.sortVowels(\"lYmpH\") == \"lYmpH\""
   ]
  }
 ],
 "metadata": {
  "kernelspec": {
   "display_name": "Python 3 (ipykernel)",
   "language": "python",
   "name": "python3"
  },
  "language_info": {
   "codemirror_mode": {
    "name": "ipython",
    "version": 3
   },
   "file_extension": ".py",
   "mimetype": "text/x-python",
   "name": "python",
   "nbconvert_exporter": "python",
   "pygments_lexer": "ipython3",
   "version": "3.9.7"
  }
 },
 "nbformat": 4,
 "nbformat_minor": 5
}
