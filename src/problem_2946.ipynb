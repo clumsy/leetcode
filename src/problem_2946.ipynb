{
 "cells": [
  {
   "cell_type": "markdown",
   "id": "f6559ef9-e1e6-4513-945b-bd51affae9cd",
   "metadata": {},
   "source": [
    "[Problem 2946](https://leetcode.com/problems/matrix-similarity-after-cyclic-shifts/description)"
   ]
  },
  {
   "cell_type": "code",
   "execution_count": 1,
   "id": "914bb631-0595-4053-b12f-9d24e8401665",
   "metadata": {},
   "outputs": [],
   "source": [
    "from typing import List"
   ]
  },
  {
   "cell_type": "code",
   "execution_count": 2,
   "id": "0fc688a2-109d-44dd-8ca8-342863446079",
   "metadata": {},
   "outputs": [],
   "source": [
    "class Solution:\n",
    "    def areSimilar(self, mat: List[List[int]], k: int) -> bool:\n",
    "        m, n = len(mat), len(mat[0])\n",
    "        k %= n\n",
    "        res = True\n",
    "        for r in range(m):\n",
    "            for c in range(n):\n",
    "                if mat[r][c] != (mat[r][(c - k) % n] if c & 1 == 0 else mat[r][(c + k) % n]):\n",
    "                    res = False\n",
    "        return res"
   ]
  },
  {
   "cell_type": "code",
   "execution_count": 3,
   "id": "ef62a63b-29ee-4278-bfac-c68f0d9fd7ce",
   "metadata": {},
   "outputs": [],
   "source": [
    "sol = Solution()"
   ]
  },
  {
   "cell_type": "code",
   "execution_count": 4,
   "id": "453257ed-69f1-4e67-b90c-f6a62a0fdf31",
   "metadata": {},
   "outputs": [],
   "source": [
    "assert sol.areSimilar([[1,2,1,2],[5,5,5,5],[6,3,6,3]], 2)"
   ]
  },
  {
   "cell_type": "code",
   "execution_count": 5,
   "id": "5f3d0755-61ef-4d14-8d1a-61911c66485e",
   "metadata": {},
   "outputs": [],
   "source": [
    "assert sol.areSimilar([[2,2],[2,2]], 3)"
   ]
  },
  {
   "cell_type": "code",
   "execution_count": 6,
   "id": "e6e77aa2-7d73-4d46-9037-8b3320087dfd",
   "metadata": {},
   "outputs": [],
   "source": [
    "assert not sol.areSimilar([[1,2]], 1)"
   ]
  }
 ],
 "metadata": {
  "kernelspec": {
   "display_name": "Python 3 (ipykernel)",
   "language": "python",
   "name": "python3"
  },
  "language_info": {
   "codemirror_mode": {
    "name": "ipython",
    "version": 3
   },
   "file_extension": ".py",
   "mimetype": "text/x-python",
   "name": "python",
   "nbconvert_exporter": "python",
   "pygments_lexer": "ipython3",
   "version": "3.9.7"
  }
 },
 "nbformat": 4,
 "nbformat_minor": 5
}
