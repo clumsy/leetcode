{
 "cells": [
  {
   "cell_type": "markdown",
   "id": "02d921d5-60e7-4910-94dc-9d9ac5146d37",
   "metadata": {},
   "source": [
    "[Problem 2401](https://leetcode.com/problems/longest-nice-subarray/description)"
   ]
  },
  {
   "cell_type": "code",
   "execution_count": 1,
   "id": "df2bb9a5-c409-4634-ab51-e43447852d16",
   "metadata": {},
   "outputs": [],
   "source": [
    "from typing import List"
   ]
  },
  {
   "cell_type": "code",
   "execution_count": 2,
   "id": "86a48255-17f9-4fed-816d-fd2a3d186402",
   "metadata": {},
   "outputs": [],
   "source": [
    "class Solution:\n",
    "    def longestNiceSubarray(self, nums: List[int]) -> int:\n",
    "        def count(e):\n",
    "            cnt, i = set(), 0\n",
    "            while e >= (1 << i):\n",
    "                if e & (1 << i) > 0:\n",
    "                    cnt.add(i)\n",
    "                i += 1\n",
    "            return cnt\n",
    "        res = cur = 0\n",
    "        cnt = set()\n",
    "        for i, e in enumerate(nums):\n",
    "            cnt_e = count(e)\n",
    "            while cnt & cnt_e:\n",
    "                cnt -= count(nums[i - cur])\n",
    "                cur -= 1\n",
    "            cnt |= cnt_e\n",
    "            cur += 1\n",
    "            res = max(res, cur)\n",
    "        return res"
   ]
  },
  {
   "cell_type": "code",
   "execution_count": null,
   "id": "be02d1c1-3624-41a3-ad4f-41da6ad00134",
   "metadata": {},
   "outputs": [],
   "source": [
    "class Solution:\n",
    "    def longestNiceSubarray(self, nums: List[int]) -> int:\n",
    "        res = cur = used = 0\n",
    "        for i, e in enumerate(nums):\n",
    "            while used & e:\n",
    "                used ^= nums[i - cur]\n",
    "                cur -= 1\n",
    "            used |= e\n",
    "            cur += 1\n",
    "            res = max(res, cur)\n",
    "        return res"
   ]
  },
  {
   "cell_type": "code",
   "execution_count": 3,
   "id": "2191e247-345c-4848-923f-f8b3c428fc72",
   "metadata": {},
   "outputs": [],
   "source": [
    "sol = Solution()"
   ]
  },
  {
   "cell_type": "code",
   "execution_count": 4,
   "id": "e1743128-6906-45f3-bc53-24bf86661449",
   "metadata": {},
   "outputs": [],
   "source": [
    "assert sol.longestNiceSubarray([1,3,8,48,10]) == 3"
   ]
  },
  {
   "cell_type": "code",
   "execution_count": 5,
   "id": "166f6050-18d5-42fe-9c18-a1e45ff0dc0a",
   "metadata": {},
   "outputs": [],
   "source": [
    "assert sol.longestNiceSubarray([3,1,5,11,13]) == 1"
   ]
  }
 ],
 "metadata": {
  "kernelspec": {
   "display_name": "Python 3 (ipykernel)",
   "language": "python",
   "name": "python3"
  },
  "language_info": {
   "codemirror_mode": {
    "name": "ipython",
    "version": 3
   },
   "file_extension": ".py",
   "mimetype": "text/x-python",
   "name": "python",
   "nbconvert_exporter": "python",
   "pygments_lexer": "ipython3",
   "version": "3.9.7"
  }
 },
 "nbformat": 4,
 "nbformat_minor": 5
}
