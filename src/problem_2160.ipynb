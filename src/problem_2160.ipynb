{
 "cells": [
  {
   "cell_type": "markdown",
   "id": "546cb17d-ca0d-45cb-b5bd-42a1f038dbe3",
   "metadata": {},
   "source": [
    "[Problem 2160](https://leetcode.com/problems/minimum-sum-of-four-digit-number-after-splitting-digits/description)"
   ]
  },
  {
   "cell_type": "code",
   "execution_count": 1,
   "id": "99dec59e-06ca-4107-812b-ab2ce4839f3a",
   "metadata": {},
   "outputs": [],
   "source": [
    "class Solution:\n",
    "    def minimumSum(self, num: int) -> int:\n",
    "        s = sorted(str(num))\n",
    "        res = int(s[0] + s[3]) + int(s[1] + s[2])\n",
    "        return res"
   ]
  },
  {
   "cell_type": "code",
   "execution_count": 2,
   "id": "e70f29de-c5e5-47a0-aa6e-73d5f88c24a1",
   "metadata": {},
   "outputs": [],
   "source": [
    "sol = Solution()"
   ]
  },
  {
   "cell_type": "code",
   "execution_count": 3,
   "id": "933087e9-ea02-42e1-9f17-f9c95eb5bdad",
   "metadata": {},
   "outputs": [],
   "source": [
    "assert sol.minimumSum(2932) == 52"
   ]
  },
  {
   "cell_type": "code",
   "execution_count": 4,
   "id": "7ab9b299-4e7e-4bc7-92b1-a19a59eca636",
   "metadata": {},
   "outputs": [],
   "source": [
    "assert sol.minimumSum(4009) == 13"
   ]
  }
 ],
 "metadata": {
  "kernelspec": {
   "display_name": "Python 3 (ipykernel)",
   "language": "python",
   "name": "python3"
  },
  "language_info": {
   "codemirror_mode": {
    "name": "ipython",
    "version": 3
   },
   "file_extension": ".py",
   "mimetype": "text/x-python",
   "name": "python",
   "nbconvert_exporter": "python",
   "pygments_lexer": "ipython3",
   "version": "3.9.7"
  }
 },
 "nbformat": 4,
 "nbformat_minor": 5
}
