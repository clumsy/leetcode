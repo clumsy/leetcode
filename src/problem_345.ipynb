{
 "cells": [
  {
   "cell_type": "markdown",
   "id": "cbb75b0c-20c5-415a-84fc-8c101363c87f",
   "metadata": {},
   "source": [
    "[Problem 345](https://leetcode.com/problems/reverse-vowels-of-a-string/description)"
   ]
  },
  {
   "cell_type": "code",
   "execution_count": 1,
   "id": "04b0bc8f-206b-48c3-a997-b15a4ff0732d",
   "metadata": {},
   "outputs": [],
   "source": [
    "class Solution:\n",
    "    def reverseVowels(self, s: str) -> str:\n",
    "        s = list(s)\n",
    "        vowels = \"aeiou\"\n",
    "        i, j = 0, len(s) - 1\n",
    "        while i < j:\n",
    "            while i < j and s[i].lower() not in vowels:\n",
    "                i += 1\n",
    "            while i < j and s[j].lower() not in vowels:\n",
    "                j -= 1\n",
    "            if i < j:\n",
    "                s[i], s[j] = s[j], s[i]\n",
    "                i += 1\n",
    "                j -= 1\n",
    "        res = \"\".join(s)\n",
    "        return res"
   ]
  },
  {
   "cell_type": "code",
   "execution_count": 2,
   "id": "a3861280-5dd5-423f-afa1-7643eef5ae7b",
   "metadata": {},
   "outputs": [],
   "source": [
    "sol = Solution()"
   ]
  },
  {
   "cell_type": "code",
   "execution_count": 3,
   "id": "5e55feb9-fb76-4b3d-b969-ac66b1e4cc71",
   "metadata": {},
   "outputs": [],
   "source": [
    "assert sol.reverseVowels(\"hello\") == \"holle\""
   ]
  },
  {
   "cell_type": "code",
   "execution_count": null,
   "id": "7b509b36-2216-4cbd-9c3e-cc9f1498857e",
   "metadata": {},
   "outputs": [],
   "source": [
    "assert sol.reverseVowels(\"leetcode\") == \"leotcede\""
   ]
  }
 ],
 "metadata": {
  "kernelspec": {
   "display_name": "Python 3 (ipykernel)",
   "language": "python",
   "name": "python3"
  },
  "language_info": {
   "codemirror_mode": {
    "name": "ipython",
    "version": 3
   },
   "file_extension": ".py",
   "mimetype": "text/x-python",
   "name": "python",
   "nbconvert_exporter": "python",
   "pygments_lexer": "ipython3",
   "version": "3.9.7"
  }
 },
 "nbformat": 4,
 "nbformat_minor": 5
}
