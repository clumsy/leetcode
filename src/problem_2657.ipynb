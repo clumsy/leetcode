{
 "cells": [
  {
   "cell_type": "markdown",
   "id": "6173407d-4e5b-4232-8ff7-2474cf6aae09",
   "metadata": {},
   "source": [
    "[Problem 2657](https://leetcode.com/problems/find-the-prefix-common-array-of-two-arrays/description)"
   ]
  },
  {
   "cell_type": "code",
   "execution_count": 1,
   "id": "f3be0b05-7440-4817-a317-b704ea0148f2",
   "metadata": {},
   "outputs": [],
   "source": [
    "from typing import List"
   ]
  },
  {
   "cell_type": "code",
   "execution_count": 2,
   "id": "27392747-0fae-479d-ba75-f0e292b58fd0",
   "metadata": {},
   "outputs": [],
   "source": [
    "class Solution:\n",
    "    def findThePrefixCommonArray(self, A: List[int], B: List[int]) -> List[int]:\n",
    "        n = len(A)\n",
    "        res, cnt = [0] * n, [0] * n\n",
    "        for i, (a, b) in enumerate(zip(A, B)):\n",
    "            a, b = a - 1, b - 1\n",
    "            res[i] = (res[i - 1] if i > 0 else 0) + (cnt[a] == 1)\n",
    "            cnt[a] += 1\n",
    "            res[i] += cnt[b] == 1\n",
    "            cnt[b] += 1\n",
    "        return res"
   ]
  },
  {
   "cell_type": "code",
   "execution_count": 3,
   "id": "1868926d-8b39-4b59-a49b-b5c825f9f5be",
   "metadata": {},
   "outputs": [],
   "source": [
    "sol = Solution()"
   ]
  },
  {
   "cell_type": "code",
   "execution_count": 4,
   "id": "68f61acf-e2e2-48b3-9427-636b42314186",
   "metadata": {},
   "outputs": [],
   "source": [
    "assert sol.findThePrefixCommonArray([1,3,2,4], [3,1,2,4]) == [0,2,3,4]"
   ]
  },
  {
   "cell_type": "code",
   "execution_count": 5,
   "id": "e5460c6c-9229-48ff-8aaf-345b9a366e36",
   "metadata": {},
   "outputs": [],
   "source": [
    "assert sol.findThePrefixCommonArray([2,3,1], [3,1,2]) == [0,1,3]"
   ]
  }
 ],
 "metadata": {
  "kernelspec": {
   "display_name": "Python 3 (ipykernel)",
   "language": "python",
   "name": "python3"
  },
  "language_info": {
   "codemirror_mode": {
    "name": "ipython",
    "version": 3
   },
   "file_extension": ".py",
   "mimetype": "text/x-python",
   "name": "python",
   "nbconvert_exporter": "python",
   "pygments_lexer": "ipython3",
   "version": "3.9.7"
  }
 },
 "nbformat": 4,
 "nbformat_minor": 5
}
