{
 "cells": [
  {
   "cell_type": "markdown",
   "id": "633e4618-32ac-4131-98f7-40593244105c",
   "metadata": {},
   "source": [
    "[Problem 392](https://leetcode.com/problems/is-subsequence/description)"
   ]
  },
  {
   "cell_type": "code",
   "execution_count": 1,
   "id": "93056ebe-605d-4f46-87d9-4ecf2acb0f30",
   "metadata": {},
   "outputs": [],
   "source": [
    "class Solution:\n",
    "    def isSubsequence(self, s: str, t: str) -> bool:\n",
    "        i = j = 0\n",
    "        while i < len(s) and j < len(t):\n",
    "            if s[i] == t[j]:\n",
    "                i += 1\n",
    "            j += 1\n",
    "        res = i == len(s)\n",
    "        return res"
   ]
  },
  {
   "cell_type": "code",
   "execution_count": 2,
   "id": "913e655c-14de-4a3d-a744-cb388b0c52b3",
   "metadata": {},
   "outputs": [],
   "source": [
    "sol = Solution()"
   ]
  },
  {
   "cell_type": "code",
   "execution_count": 3,
   "id": "4bf09789-1bab-4715-981a-23df2ba4294d",
   "metadata": {},
   "outputs": [],
   "source": [
    "assert sol.isSubsequence(\"abc\", \"ahbgdc\")"
   ]
  },
  {
   "cell_type": "code",
   "execution_count": 4,
   "id": "a9392615-1ca6-415e-947d-a4bb7f34fac1",
   "metadata": {},
   "outputs": [],
   "source": [
    "assert not sol.isSubsequence(\"axc\", \"ahbgdc\")"
   ]
  }
 ],
 "metadata": {
  "kernelspec": {
   "display_name": "Python 3 (ipykernel)",
   "language": "python",
   "name": "python3"
  },
  "language_info": {
   "codemirror_mode": {
    "name": "ipython",
    "version": 3
   },
   "file_extension": ".py",
   "mimetype": "text/x-python",
   "name": "python",
   "nbconvert_exporter": "python",
   "pygments_lexer": "ipython3",
   "version": "3.9.7"
  }
 },
 "nbformat": 4,
 "nbformat_minor": 5
}
