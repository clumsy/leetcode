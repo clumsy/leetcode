{
 "cells": [
  {
   "cell_type": "markdown",
   "id": "fd33fba1-23cd-43fa-a3e6-5ce967462ca3",
   "metadata": {},
   "source": [
    "[Problem 989](https://leetcode.com/problems/add-to-array-form-of-integer/description)"
   ]
  },
  {
   "cell_type": "code",
   "execution_count": 1,
   "id": "6428bcc9-4439-4c4c-b18b-2fdffd61d058",
   "metadata": {},
   "outputs": [],
   "source": [
    "from typing import List"
   ]
  },
  {
   "cell_type": "code",
   "execution_count": 2,
   "id": "c9ab1d57-81ca-4682-aafd-7761b6938935",
   "metadata": {},
   "outputs": [],
   "source": [
    "class Solution:\n",
    "    def addToArrayForm(self, num: List[int], k: int) -> List[int]:\n",
    "        num.reverse()\n",
    "        carry, i = k, 0\n",
    "        while carry:\n",
    "            if len(num) <= i:\n",
    "                num.append(0)\n",
    "            carry, num[i] = divmod(num[i] + carry, 10)\n",
    "            i += 1\n",
    "        res = num[::-1]\n",
    "        return res"
   ]
  },
  {
   "cell_type": "code",
   "execution_count": 3,
   "id": "751c3200-9379-4b4f-833a-e2ad9f1ae54e",
   "metadata": {},
   "outputs": [],
   "source": [
    "sol = Solution()"
   ]
  },
  {
   "cell_type": "code",
   "execution_count": 4,
   "id": "a42f8bcf-e103-445b-a0bc-3b2c8192ba48",
   "metadata": {},
   "outputs": [],
   "source": [
    "assert sol.addToArrayForm([1,2,0,0], 34) == [1,2,3,4]"
   ]
  },
  {
   "cell_type": "code",
   "execution_count": 5,
   "id": "48afbffa-282d-4aa8-9871-dfe999057864",
   "metadata": {},
   "outputs": [],
   "source": [
    "assert sol.addToArrayForm([2,7,4], 181) == [4,5,5]"
   ]
  },
  {
   "cell_type": "code",
   "execution_count": 6,
   "id": "d23b9b1a-8cb0-4507-a5e1-fca3a8a328c1",
   "metadata": {},
   "outputs": [],
   "source": [
    "assert sol.addToArrayForm([2,1,5], 806) == [1,0,2,1]"
   ]
  }
 ],
 "metadata": {
  "kernelspec": {
   "display_name": "Python 3 (ipykernel)",
   "language": "python",
   "name": "python3"
  },
  "language_info": {
   "codemirror_mode": {
    "name": "ipython",
    "version": 3
   },
   "file_extension": ".py",
   "mimetype": "text/x-python",
   "name": "python",
   "nbconvert_exporter": "python",
   "pygments_lexer": "ipython3",
   "version": "3.9.7"
  }
 },
 "nbformat": 4,
 "nbformat_minor": 5
}
