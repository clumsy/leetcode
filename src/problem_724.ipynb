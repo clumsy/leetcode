{
 "cells": [
  {
   "cell_type": "markdown",
   "id": "da0e4ce6-24ab-4ca3-a5e7-ad10d21906cd",
   "metadata": {},
   "source": [
    "[Problem 724](https://leetcode.com/problems/find-pivot-index/description)"
   ]
  },
  {
   "cell_type": "code",
   "execution_count": 1,
   "id": "909334ca-41d9-4d9b-92c2-6431ce4d7987",
   "metadata": {},
   "outputs": [],
   "source": [
    "from typing import List"
   ]
  },
  {
   "cell_type": "code",
   "execution_count": 2,
   "id": "d6aa7637-a640-4060-997f-76c94fab0bf6",
   "metadata": {},
   "outputs": [],
   "source": [
    "class Solution:\n",
    "    def pivotIndex(self, nums: List[int]) -> int:\n",
    "        left, right = 0, sum(nums)\n",
    "        res = -1\n",
    "        for i, e in enumerate(nums):\n",
    "            right -= e\n",
    "            if left == right:\n",
    "                res = i\n",
    "                break\n",
    "            left += e\n",
    "        return res"
   ]
  },
  {
   "cell_type": "code",
   "execution_count": 3,
   "id": "b3cc896e-a69c-4136-a3de-9bb3100d7ef5",
   "metadata": {},
   "outputs": [],
   "source": [
    "sol = Solution()"
   ]
  },
  {
   "cell_type": "code",
   "execution_count": 4,
   "id": "26faacf1-23dd-412a-9f3b-66ec78d27a2f",
   "metadata": {},
   "outputs": [],
   "source": [
    "assert sol.pivotIndex([1,7,3,6,5,6]) == 3"
   ]
  },
  {
   "cell_type": "code",
   "execution_count": 5,
   "id": "58b4f3d9-fe1d-4307-a2ae-73080a055f2c",
   "metadata": {},
   "outputs": [],
   "source": [
    "assert sol.pivotIndex([1,2,3]) == -1"
   ]
  }
 ],
 "metadata": {
  "kernelspec": {
   "display_name": "Python 3 (ipykernel)",
   "language": "python",
   "name": "python3"
  },
  "language_info": {
   "codemirror_mode": {
    "name": "ipython",
    "version": 3
   },
   "file_extension": ".py",
   "mimetype": "text/x-python",
   "name": "python",
   "nbconvert_exporter": "python",
   "pygments_lexer": "ipython3",
   "version": "3.9.7"
  }
 },
 "nbformat": 4,
 "nbformat_minor": 5
}
