{
 "cells": [
  {
   "cell_type": "markdown",
   "id": "239e72c0-2e26-4bc4-b0ae-d9b5065278b5",
   "metadata": {},
   "source": [
    "[Problem 1636](https://leetcode.com/problems/sort-array-by-increasing-frequency/description)"
   ]
  },
  {
   "cell_type": "code",
   "execution_count": 2,
   "id": "733b15ac-99df-4fa9-a5f4-b8e6a276e8fe",
   "metadata": {},
   "outputs": [],
   "source": [
    "from typing import List\n",
    "from collections import Counter"
   ]
  },
  {
   "cell_type": "code",
   "execution_count": 3,
   "id": "42c141cd-6bb9-4611-b718-62ec73c95742",
   "metadata": {},
   "outputs": [],
   "source": [
    "class Solution:\n",
    "    def frequencySort(self, nums: List[int]) -> List[int]:\n",
    "        cnt = Counter(nums)\n",
    "        nums.sort(key=lambda i: (cnt[i], -i))\n",
    "        return nums"
   ]
  },
  {
   "cell_type": "code",
   "execution_count": 4,
   "id": "6fbb25d6-2a66-446f-8b14-62cf75e45fe1",
   "metadata": {},
   "outputs": [],
   "source": [
    "sol = Solution()"
   ]
  },
  {
   "cell_type": "code",
   "execution_count": 5,
   "id": "96ab7f13-a521-4d61-b74f-b116afbb57ea",
   "metadata": {},
   "outputs": [],
   "source": [
    "assert sol.frequencySort([1,1,2,2,2,3]) == [3,1,1,2,2,2]"
   ]
  },
  {
   "cell_type": "code",
   "execution_count": 6,
   "id": "590b2c5b-de8e-4e7a-ad73-0aedeab6add6",
   "metadata": {},
   "outputs": [],
   "source": [
    "assert sol.frequencySort([2,3,1,3,2]) == [1,3,3,2,2]"
   ]
  },
  {
   "cell_type": "code",
   "execution_count": 7,
   "id": "eabfaf6f-02d7-4ba0-add2-739201d598b5",
   "metadata": {},
   "outputs": [],
   "source": [
    "assert sol.frequencySort([-1,1,-6,4,5,-6,1,4,1]) == [5,-1,4,4,-6,-6,1,1,1]"
   ]
  }
 ],
 "metadata": {
  "kernelspec": {
   "display_name": "Python 3 (ipykernel)",
   "language": "python",
   "name": "python3"
  },
  "language_info": {
   "codemirror_mode": {
    "name": "ipython",
    "version": 3
   },
   "file_extension": ".py",
   "mimetype": "text/x-python",
   "name": "python",
   "nbconvert_exporter": "python",
   "pygments_lexer": "ipython3",
   "version": "3.9.7"
  }
 },
 "nbformat": 4,
 "nbformat_minor": 5
}
