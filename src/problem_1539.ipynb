{
 "cells": [
  {
   "cell_type": "markdown",
   "id": "504de814-bf9d-4071-a5e8-5d7cbfd852a6",
   "metadata": {},
   "source": [
    "[Problem 1539](https://leetcode.com/problems/kth-missing-positive-number/)"
   ]
  },
  {
   "cell_type": "code",
   "execution_count": 2,
   "id": "c5f20b1b-0142-4865-beb9-2ad02f71190f",
   "metadata": {},
   "outputs": [],
   "source": [
    "from typing import List"
   ]
  },
  {
   "cell_type": "code",
   "execution_count": 3,
   "id": "fd59de42-702d-4e1a-b881-5b24404e49b2",
   "metadata": {},
   "outputs": [],
   "source": [
    "class Solution:\n",
    "    def findKthPositive(self, arr: List[int], k: int) -> int:\n",
    "        lo, hi = 0, len(arr)\n",
    "        while lo < hi:\n",
    "            mi = lo + (hi - lo) // 2\n",
    "            if arr[mi] - mi - 1 < k:\n",
    "                lo = mi + 1\n",
    "            else:\n",
    "                hi = mi\n",
    "        return lo + k"
   ]
  },
  {
   "cell_type": "code",
   "execution_count": 4,
   "id": "be002d5a-d44b-4faf-b408-822d4c0b8a41",
   "metadata": {},
   "outputs": [],
   "source": [
    "sol = Solution()"
   ]
  },
  {
   "cell_type": "code",
   "execution_count": 5,
   "id": "c1c14bbf-e033-4ad7-9852-eb1cce563745",
   "metadata": {},
   "outputs": [],
   "source": [
    "assert sol.findKthPositive([2,3,4,7,11], 5) == 9"
   ]
  },
  {
   "cell_type": "code",
   "execution_count": 6,
   "id": "23813d4b-0bbd-4256-894d-65618289ed95",
   "metadata": {},
   "outputs": [],
   "source": [
    "assert sol.findKthPositive([1,2,3,4], 2) == 6"
   ]
  }
 ],
 "metadata": {
  "kernelspec": {
   "display_name": "Python 3 (ipykernel)",
   "language": "python",
   "name": "python3"
  },
  "language_info": {
   "codemirror_mode": {
    "name": "ipython",
    "version": 3
   },
   "file_extension": ".py",
   "mimetype": "text/x-python",
   "name": "python",
   "nbconvert_exporter": "python",
   "pygments_lexer": "ipython3",
   "version": "3.9.7"
  }
 },
 "nbformat": 4,
 "nbformat_minor": 5
}
