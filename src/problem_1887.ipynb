{
 "cells": [
  {
   "cell_type": "markdown",
   "id": "7cad9fb7-b674-4f3a-b876-0e4af9f3fcc3",
   "metadata": {},
   "source": [
    "[Problem 1887](https://leetcode.com/problems/reduction-operations-to-make-the-array-elements-equal)"
   ]
  },
  {
   "cell_type": "code",
   "execution_count": 2,
   "id": "26db2c37-fb0b-4f39-8c2a-65a584954916",
   "metadata": {},
   "outputs": [],
   "source": [
    "from typing import List"
   ]
  },
  {
   "cell_type": "code",
   "execution_count": 3,
   "id": "b0d430ca-433c-4710-81d5-89d5d1e9acdc",
   "metadata": {},
   "outputs": [],
   "source": [
    "class Solution:\n",
    "    def reductionOperations(self, nums: List[int]) -> int:\n",
    "        nums.sort()\n",
    "        count = 0\n",
    "        size = len(nums)\n",
    "        prev = i = size - 1\n",
    "        while i >= 0:\n",
    "            if nums[i] != nums[prev]:\n",
    "                count += size - i - 1\n",
    "                prev = i\n",
    "            i -= 1\n",
    "        return count"
   ]
  },
  {
   "cell_type": "code",
   "execution_count": 4,
   "id": "2e196e04-14fe-4b5b-9a05-5a54b789ad9a",
   "metadata": {},
   "outputs": [],
   "source": [
    "sol = Solution()"
   ]
  },
  {
   "cell_type": "code",
   "execution_count": 6,
   "id": "cc315c49-9667-444d-a72f-dfb11c37da4f",
   "metadata": {},
   "outputs": [],
   "source": [
    "assert sol.reductionOperations([5,1,3]) == 3"
   ]
  },
  {
   "cell_type": "code",
   "execution_count": 8,
   "id": "2553f94f-e316-4d1f-86c8-0e6661464a15",
   "metadata": {},
   "outputs": [],
   "source": [
    "assert sol.reductionOperations([1,1,1]) == 0"
   ]
  },
  {
   "cell_type": "code",
   "execution_count": 9,
   "id": "c20a77bc-4a9d-4145-ae6d-a1cb4dcbe9b3",
   "metadata": {},
   "outputs": [],
   "source": [
    "assert sol.reductionOperations([1,1,2,2,3]) == 4"
   ]
  },
  {
   "cell_type": "code",
   "execution_count": 10,
   "id": "8e42027d-0697-4e11-8f84-1a348e8c4a53",
   "metadata": {},
   "outputs": [],
   "source": [
    "assert sol.reductionOperations([10,10,10,10,1,10,10,10,10,10]) == 9"
   ]
  }
 ],
 "metadata": {
  "kernelspec": {
   "display_name": "Python 3 (ipykernel)",
   "language": "python",
   "name": "python3"
  },
  "language_info": {
   "codemirror_mode": {
    "name": "ipython",
    "version": 3
   },
   "file_extension": ".py",
   "mimetype": "text/x-python",
   "name": "python",
   "nbconvert_exporter": "python",
   "pygments_lexer": "ipython3",
   "version": "3.9.7"
  }
 },
 "nbformat": 4,
 "nbformat_minor": 5
}
