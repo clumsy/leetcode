{
 "cells": [
  {
   "cell_type": "markdown",
   "id": "1bd726a0-a058-4f5c-b146-b2cdad3866eb",
   "metadata": {},
   "source": [
    "[Problem 2934]()"
   ]
  },
  {
   "cell_type": "code",
   "execution_count": 1,
   "id": "1ded6400-8035-4926-8b40-454fcc17b477",
   "metadata": {},
   "outputs": [],
   "source": [
    "from typing import List"
   ]
  },
  {
   "cell_type": "code",
   "execution_count": 2,
   "id": "36b2a1fb-5aee-4dcc-bf77-5aeb4944b6a5",
   "metadata": {},
   "outputs": [],
   "source": [
    "class Solution:\n",
    "    def minOperations(self, nums1: List[int], nums2: List[int]) -> int:\n",
    "        def solve():\n",
    "            res = 0\n",
    "            for i1, i2 in zip(nums1, nums2):\n",
    "                if i1 > nums1[-1]:  # have to swap\n",
    "                    if i2 <= nums1[-1] and i1 <= nums2[-1]:\n",
    "                        res += 1  # can swap\n",
    "                    else:\n",
    "                        return -1\n",
    "                elif i2 > nums2[-1]:  # have to swap\n",
    "                    if i1 <= nums2[-1] and i2 <= nums1[-1]:\n",
    "                        res += 1  # can swap\n",
    "                    else:\n",
    "                        return -1\n",
    "            return res\n",
    "        r1 = solve()  # last stays\n",
    "\n",
    "        nums1[-1], nums2[-1] = nums2[-1], nums1[-1]\n",
    "        r2 = solve()  # last swap\n",
    "        if r2 >= 0:\n",
    "            r2 += 1  # we swapped last\n",
    "        res = min((r for r in (r1, r2) if r >= 0), default=-1)\n",
    "        return res "
   ]
  },
  {
   "cell_type": "code",
   "execution_count": 3,
   "id": "6dbb6660-eeb4-48c1-ae65-a95a7b756a18",
   "metadata": {},
   "outputs": [],
   "source": [
    "class Solution:\n",
    "    def minOperations(self, nums1: List[int], nums2: List[int]) -> int:\n",
    "        mi, ma = sorted([nums1[-1], nums2[-1]])\n",
    "        dp_stay = dp_swap = 0\n",
    "        for i1, i2 in zip(nums1, nums2):\n",
    "            if max(i1, i2) > ma or min(i1, i2) > mi:\n",
    "                dp_swap = dp_stay = -1\n",
    "                break\n",
    "            if i1 > nums1[-1] or i2 > nums2[-1]:\n",
    "                dp_stay += 1\n",
    "            if i1 > nums2[-1] or i2 > nums1[-1]:\n",
    "                dp_swap += 1\n",
    "        res = min(dp_stay, dp_swap)\n",
    "        return res"
   ]
  },
  {
   "cell_type": "code",
   "execution_count": 4,
   "id": "fb0172ba-51ae-4f39-9076-2f98d3cd9ea8",
   "metadata": {},
   "outputs": [],
   "source": [
    "sol = Solution()"
   ]
  },
  {
   "cell_type": "code",
   "execution_count": 5,
   "id": "25dcf800-d194-4798-9eaa-a2092a68e8e1",
   "metadata": {},
   "outputs": [],
   "source": [
    "assert sol.minOperations([1,2,7], [4,5,3]) == 1"
   ]
  },
  {
   "cell_type": "code",
   "execution_count": 6,
   "id": "223778e0-ed0f-4456-9494-3538a9834d34",
   "metadata": {},
   "outputs": [],
   "source": [
    "assert sol.minOperations([2,3,4,5,9], [8,8,4,4,4]) == 2"
   ]
  },
  {
   "cell_type": "code",
   "execution_count": 7,
   "id": "2a73c69f-cd55-402b-b369-9e249f37dd2a",
   "metadata": {},
   "outputs": [],
   "source": [
    "assert sol.minOperations([1,5,4], [2,5,3]) == -1"
   ]
  }
 ],
 "metadata": {
  "kernelspec": {
   "display_name": "Python 3 (ipykernel)",
   "language": "python",
   "name": "python3"
  },
  "language_info": {
   "codemirror_mode": {
    "name": "ipython",
    "version": 3
   },
   "file_extension": ".py",
   "mimetype": "text/x-python",
   "name": "python",
   "nbconvert_exporter": "python",
   "pygments_lexer": "ipython3",
   "version": "3.9.7"
  }
 },
 "nbformat": 4,
 "nbformat_minor": 5
}
