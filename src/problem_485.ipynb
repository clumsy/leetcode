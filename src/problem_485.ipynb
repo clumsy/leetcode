{
 "cells": [
  {
   "cell_type": "markdown",
   "id": "1c715b67-5f86-42cf-a1ab-1a01a9a52ecf",
   "metadata": {},
   "source": [
    "[Problem 485](https://leetcode.com/problems/max-consecutive-ones/description)"
   ]
  },
  {
   "cell_type": "code",
   "execution_count": 1,
   "id": "242263be-78f0-45af-9c5b-403289cd9bcd",
   "metadata": {},
   "outputs": [],
   "source": [
    "from typing import List"
   ]
  },
  {
   "cell_type": "code",
   "execution_count": 2,
   "id": "5b425c17-72b4-44b7-bff0-1ce7c6d0e744",
   "metadata": {},
   "outputs": [],
   "source": [
    "class Solution:\n",
    "    def findMaxConsecutiveOnes(self, nums: List[int]) -> int:\n",
    "        res = max(len(c) for c in \"\".join(str(i) for i in nums).split(\"0\"))\n",
    "        return res"
   ]
  },
  {
   "cell_type": "code",
   "execution_count": 3,
   "id": "a0137e3d-f12b-4c6b-803c-3dcaf312a5d4",
   "metadata": {},
   "outputs": [],
   "source": [
    "sol = Solution()"
   ]
  },
  {
   "cell_type": "code",
   "execution_count": 4,
   "id": "d6399cf7-e41c-445a-badd-340af4f14fa4",
   "metadata": {},
   "outputs": [],
   "source": [
    "assert sol.findMaxConsecutiveOnes([1,1,0,1,1,1]) == 3"
   ]
  },
  {
   "cell_type": "code",
   "execution_count": 5,
   "id": "dc43f311-6c90-4df6-9abb-4149d24c4f6d",
   "metadata": {},
   "outputs": [],
   "source": [
    "assert sol.findMaxConsecutiveOnes([1,0,1,1,0,1]) == 2"
   ]
  }
 ],
 "metadata": {
  "kernelspec": {
   "display_name": "Python 3 (ipykernel)",
   "language": "python",
   "name": "python3"
  },
  "language_info": {
   "codemirror_mode": {
    "name": "ipython",
    "version": 3
   },
   "file_extension": ".py",
   "mimetype": "text/x-python",
   "name": "python",
   "nbconvert_exporter": "python",
   "pygments_lexer": "ipython3",
   "version": "3.9.7"
  }
 },
 "nbformat": 4,
 "nbformat_minor": 5
}
