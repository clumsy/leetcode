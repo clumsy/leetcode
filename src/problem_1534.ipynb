{
 "cells": [
  {
   "cell_type": "markdown",
   "id": "ca8ae521-6a41-4960-8261-78c5ada08746",
   "metadata": {},
   "source": [
    "[Problem 1534](https://leetcode.com/problems/count-good-triplets/description)"
   ]
  },
  {
   "cell_type": "code",
   "execution_count": 2,
   "id": "f00c6fe6-5f12-4205-a88e-3793ffacee5d",
   "metadata": {},
   "outputs": [],
   "source": [
    "from typing import List"
   ]
  },
  {
   "cell_type": "code",
   "execution_count": 3,
   "id": "57795ef2-89e1-4691-b7f9-28226a9e101c",
   "metadata": {},
   "outputs": [],
   "source": [
    "class Solution:\n",
    "    def countGoodTriplets(self, arr: List[int], a: int, b: int, c: int) -> int:\n",
    "        n, res = len(arr), 0\n",
    "        for j in range(1, n - 1):\n",
    "            for i in range(j):\n",
    "                for k in range(j + 1, n):\n",
    "                    res += int(\n",
    "                        abs(arr[i] - arr[j]) <= a and\n",
    "                        abs(arr[j] - arr[k]) <= b and\n",
    "                        abs(arr[i] - arr[k]) <= c\n",
    "                    )\n",
    "        return res"
   ]
  },
  {
   "cell_type": "code",
   "execution_count": 4,
   "id": "85774716-137e-4639-9b00-c962322ee3d1",
   "metadata": {},
   "outputs": [],
   "source": [
    "class Solution:\n",
    "    def countGoodTriplets(self, arr: List[int], a: int, b: int, c: int) -> int:\n",
    "        MAX, n, res = 1001, len(arr), 0\n",
    "        left, right = [0] * MAX, [0] * MAX\n",
    "        left[arr[0]] = 1\n",
    "        for i in range(2, n):\n",
    "            right[arr[i]] += 1\n",
    "        # make right a prefix sum\n",
    "        for i in range(1, MAX):\n",
    "            right[i] += right[i - 1]\n",
    "        for j in range(1, n - 1):\n",
    "            aj = arr[j]\n",
    "            min_j = max(aj - b, 0)\n",
    "            max_j = min(aj + b, MAX - 1)\n",
    "            for ai in range(max(aj - a, 0), min(aj + a + 1, MAX)):\n",
    "                if left[ai] == 0:\n",
    "                    continue\n",
    "                min_i = max(ai - c, min_j)\n",
    "                max_i = min(ai + c, max_j)\n",
    "                if min_i <= max_i:\n",
    "                    res += left[ai] * (right[max_i] - (right[min_i - 1] if min_i > 0 else 0))\n",
    "            left[aj] += 1\n",
    "            # removing next arr[j] from prefix sum on right\n",
    "            for i in range(arr[j + 1], MAX):\n",
    "                right[i] -= 1\n",
    "        return res"
   ]
  },
  {
   "cell_type": "code",
   "execution_count": 5,
   "id": "2bcdc53d-5fcd-4454-9f4a-3672636e0f23",
   "metadata": {},
   "outputs": [],
   "source": [
    "sol = Solution()"
   ]
  },
  {
   "cell_type": "code",
   "execution_count": 6,
   "id": "8fef93dc-4124-49d3-b140-dbc600ab8778",
   "metadata": {},
   "outputs": [],
   "source": [
    "assert sol.countGoodTriplets([3,0,1,1,9,7], 7, 2, 3) == 4"
   ]
  },
  {
   "cell_type": "code",
   "execution_count": 7,
   "id": "00d25b07-13fd-4875-becd-07c6b71281b9",
   "metadata": {},
   "outputs": [],
   "source": [
    "assert sol.countGoodTriplets([1,1,2,2,3], 0, 0, 1) == 0"
   ]
  }
 ],
 "metadata": {
  "kernelspec": {
   "display_name": "Python 3 (ipykernel)",
   "language": "python",
   "name": "python3"
  },
  "language_info": {
   "codemirror_mode": {
    "name": "ipython",
    "version": 3
   },
   "file_extension": ".py",
   "mimetype": "text/x-python",
   "name": "python",
   "nbconvert_exporter": "python",
   "pygments_lexer": "ipython3",
   "version": "3.9.7"
  }
 },
 "nbformat": 4,
 "nbformat_minor": 5
}
