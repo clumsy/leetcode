{
 "cells": [
  {
   "cell_type": "markdown",
   "id": "9df8cbe9-9b32-47f6-8c8e-c07ed44abb9e",
   "metadata": {},
   "source": [
    "[Problem 1103](https://leetcode.com/problems/distribute-candies-to-people/description)"
   ]
  },
  {
   "cell_type": "code",
   "execution_count": 8,
   "id": "60a3afc3-2882-4c9f-a11a-6d95383eb4a7",
   "metadata": {},
   "outputs": [],
   "source": [
    "from typing import List\n",
    "from math import floor, sqrt"
   ]
  },
  {
   "cell_type": "code",
   "execution_count": 13,
   "id": "8982416b-ea5f-4f0e-9b44-9bc6b26adf31",
   "metadata": {},
   "outputs": [],
   "source": [
    "class Solution:\n",
    "    def distributeCandies(self, candies: int, num_people: int) -> List[int]:\n",
    "        # (1 + n) * n / 2 = c\n",
    "        # n^2 + n - 2c = 0\n",
    "        # D = 1 + 8c\n",
    "        # n = (sqrt(1 + 8c) - 1) / 2\n",
    "        n = floor((sqrt(1 + 8 * candies) - 1) / 2)\n",
    "        res = [0] * num_people\n",
    "        d, r = divmod(n, num_people)\n",
    "        for i in range(num_people):\n",
    "            times = d + (i < r)\n",
    "            res[i] = min(candies, (2 * (i + 1) + (times - 1) * num_people) * times // 2)\n",
    "            candies -= res[i]\n",
    "        res[r] += candies\n",
    "        return res"
   ]
  },
  {
   "cell_type": "code",
   "execution_count": 14,
   "id": "7e0811c8-d6b3-4178-ae27-b11ac7bf2f8a",
   "metadata": {},
   "outputs": [],
   "source": [
    "sol = Solution()"
   ]
  },
  {
   "cell_type": "code",
   "execution_count": 15,
   "id": "d51af82f-d484-476a-af67-d1dda90bad74",
   "metadata": {},
   "outputs": [],
   "source": [
    "assert sol.distributeCandies(7, 4) == [1,2,3,1]"
   ]
  },
  {
   "cell_type": "code",
   "execution_count": 16,
   "id": "713f335f-7a78-4911-a8b5-a44e2b5a1da5",
   "metadata": {},
   "outputs": [],
   "source": [
    "assert sol.distributeCandies(10, 3) == [5,2,3]"
   ]
  }
 ],
 "metadata": {
  "kernelspec": {
   "display_name": "Python 3 (ipykernel)",
   "language": "python",
   "name": "python3"
  },
  "language_info": {
   "codemirror_mode": {
    "name": "ipython",
    "version": 3
   },
   "file_extension": ".py",
   "mimetype": "text/x-python",
   "name": "python",
   "nbconvert_exporter": "python",
   "pygments_lexer": "ipython3",
   "version": "3.9.7"
  }
 },
 "nbformat": 4,
 "nbformat_minor": 5
}
