{
 "cells": [
  {
   "cell_type": "markdown",
   "id": "429a300b-651f-4aff-b799-570781d9f099",
   "metadata": {},
   "source": [
    "[Problem 1111](https://leetcode.com/problems/maximum-nesting-depth-of-two-valid-parentheses-strings/submissions/1150384836)"
   ]
  },
  {
   "cell_type": "code",
   "execution_count": 1,
   "id": "80284851-9885-4020-a892-6f89ce58a441",
   "metadata": {},
   "outputs": [],
   "source": [
    "from typing import List"
   ]
  },
  {
   "cell_type": "code",
   "execution_count": 9,
   "id": "6dcbc64c-0ed9-40bf-b6f2-59f95c71ca45",
   "metadata": {},
   "outputs": [],
   "source": [
    "class Solution:\n",
    "    def maxDepthAfterSplit(self, seq: str) -> List[int]:\n",
    "        h, o, n = [], -1, len(seq)\n",
    "        for i, c in enumerate(seq):\n",
    "            if c == \"(\":\n",
    "                o += 1\n",
    "                if o >= len(h):\n",
    "                    h.append([])\n",
    "                h[o].append(i)\n",
    "            else:\n",
    "                h[o].append(i)\n",
    "                o -= 1\n",
    "        ma = len(h)\n",
    "        res = [1] * n\n",
    "        for i in range(ma // 2):\n",
    "            for j in h[i]:\n",
    "                res[j] = 0\n",
    "        return res"
   ]
  },
  {
   "cell_type": "code",
   "execution_count": 14,
   "id": "26e6f0a4-d18f-4886-b910-95a3af6ce3ea",
   "metadata": {},
   "outputs": [],
   "source": [
    "class Solution:\n",
    "    def maxDepthAfterSplit(self, seq: str) -> List[int]:\n",
    "        res = [0] * len(seq)\n",
    "        a = b = 0\n",
    "        for i, c in enumerate(seq):\n",
    "            v = 1 if c == \"(\" else -1\n",
    "            if (v > 0) == (a < b):\n",
    "                a += v\n",
    "            else:\n",
    "                res[i] = 1\n",
    "                b += v\n",
    "        return res"
   ]
  },
  {
   "cell_type": "code",
   "execution_count": 15,
   "id": "469e0a90-4db4-4369-b6e9-2d95301c029b",
   "metadata": {},
   "outputs": [],
   "source": [
    "sol = Solution()"
   ]
  },
  {
   "cell_type": "code",
   "execution_count": 18,
   "id": "f3e8eef9-08a6-4077-93cc-50ff1e2834f5",
   "metadata": {},
   "outputs": [],
   "source": [
    "assert sol.maxDepthAfterSplit(\"(()())\") == [1, 0, 0, 0, 0, 1]"
   ]
  },
  {
   "cell_type": "code",
   "execution_count": 20,
   "id": "8bcf7c37-cc96-48e5-8ffc-5d8e7860efbb",
   "metadata": {},
   "outputs": [],
   "source": [
    "assert sol.maxDepthAfterSplit(\"()(())()\") == [1, 1, 1, 0, 0, 1, 1, 1]"
   ]
  }
 ],
 "metadata": {
  "kernelspec": {
   "display_name": "Python 3 (ipykernel)",
   "language": "python",
   "name": "python3"
  },
  "language_info": {
   "codemirror_mode": {
    "name": "ipython",
    "version": 3
   },
   "file_extension": ".py",
   "mimetype": "text/x-python",
   "name": "python",
   "nbconvert_exporter": "python",
   "pygments_lexer": "ipython3",
   "version": "3.9.7"
  }
 },
 "nbformat": 4,
 "nbformat_minor": 5
}
