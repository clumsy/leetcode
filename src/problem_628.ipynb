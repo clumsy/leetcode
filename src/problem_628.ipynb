{
 "cells": [
  {
   "cell_type": "markdown",
   "id": "b2f2378c-9941-412c-b340-988e78590a2f",
   "metadata": {},
   "source": [
    "[Problem 628](https://leetcode.com/problems/maximum-product-of-three-numbers/description)"
   ]
  },
  {
   "cell_type": "code",
   "execution_count": 1,
   "id": "4ea863ef-45b1-429d-be27-715a87c9806f",
   "metadata": {},
   "outputs": [],
   "source": [
    "import heapq\n",
    "from math import prod\n",
    "from typing import List"
   ]
  },
  {
   "cell_type": "code",
   "execution_count": 2,
   "id": "2593d8ee-57be-4ca9-a0a6-0c9c5913ce4d",
   "metadata": {},
   "outputs": [],
   "source": [
    "class Solution:\n",
    "    def maximumProduct(self, nums: List[int]) -> int:\n",
    "        pos, neg = heapq.nlargest(3, nums), heapq.nsmallest(2, nums)\n",
    "        res = max(prod(pos), prod(neg) * pos[0])\n",
    "        return res"
   ]
  },
  {
   "cell_type": "code",
   "execution_count": 3,
   "id": "9229e8aa-672a-400e-a16b-7663e93211f2",
   "metadata": {},
   "outputs": [],
   "source": [
    "sol = Solution()"
   ]
  },
  {
   "cell_type": "code",
   "execution_count": 4,
   "id": "fb9bb277-0b9a-4122-9486-4f79d3d6346f",
   "metadata": {},
   "outputs": [],
   "source": [
    "assert sol.maximumProduct([1,2,3]) == 6"
   ]
  },
  {
   "cell_type": "code",
   "execution_count": 5,
   "id": "c575c8fa-8932-4eb3-bfc0-2a16eaa09c66",
   "metadata": {},
   "outputs": [],
   "source": [
    "assert sol.maximumProduct([1,2,3,4]) == 24"
   ]
  },
  {
   "cell_type": "code",
   "execution_count": 6,
   "id": "316207bc-ab3d-46b1-ac3e-44740379876a",
   "metadata": {},
   "outputs": [],
   "source": [
    "assert sol.maximumProduct([-1,-2,-3]) == -6"
   ]
  }
 ],
 "metadata": {
  "kernelspec": {
   "display_name": "Python 3 (ipykernel)",
   "language": "python",
   "name": "python3"
  },
  "language_info": {
   "codemirror_mode": {
    "name": "ipython",
    "version": 3
   },
   "file_extension": ".py",
   "mimetype": "text/x-python",
   "name": "python",
   "nbconvert_exporter": "python",
   "pygments_lexer": "ipython3",
   "version": "3.9.7"
  }
 },
 "nbformat": 4,
 "nbformat_minor": 5
}
