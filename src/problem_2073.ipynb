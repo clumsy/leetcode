{
 "cells": [
  {
   "cell_type": "markdown",
   "id": "640532e6-2038-4c88-a932-dc4c28cc9387",
   "metadata": {},
   "source": [
    "[Problem 2073](https://leetcode.com/problems/time-needed-to-buy-tickets/description)"
   ]
  },
  {
   "cell_type": "code",
   "execution_count": 1,
   "id": "58d48105-2c49-4705-b704-b9d97d453fa3",
   "metadata": {},
   "outputs": [],
   "source": [
    "from typing import List"
   ]
  },
  {
   "cell_type": "code",
   "execution_count": 2,
   "id": "ef892339-d8e0-4bbd-b8c0-c4e7ca459709",
   "metadata": {},
   "outputs": [],
   "source": [
    "class Solution:\n",
    "    def timeRequiredToBuy(self, tickets: List[int], k: int) -> int:\n",
    "        res = 0\n",
    "        for i, e in enumerate(tickets):\n",
    "            res += min(e, tickets[k] - (i > k))\n",
    "        return res"
   ]
  },
  {
   "cell_type": "code",
   "execution_count": 3,
   "id": "a8b9abff-63ed-47a2-bf74-b38ed8fbad1a",
   "metadata": {},
   "outputs": [],
   "source": [
    "sol = Solution()"
   ]
  },
  {
   "cell_type": "code",
   "execution_count": 4,
   "id": "b751c8f8-0986-4d09-9d99-0092b0205bf5",
   "metadata": {},
   "outputs": [],
   "source": [
    "assert sol.timeRequiredToBuy([2,3,2], 2) == 6"
   ]
  },
  {
   "cell_type": "code",
   "execution_count": 5,
   "id": "92d5cf09-72be-4f03-a288-469bea1e2188",
   "metadata": {},
   "outputs": [],
   "source": [
    "assert sol.timeRequiredToBuy([5,1,1,1], 0) == 8"
   ]
  }
 ],
 "metadata": {
  "kernelspec": {
   "display_name": "Python 3 (ipykernel)",
   "language": "python",
   "name": "python3"
  },
  "language_info": {
   "codemirror_mode": {
    "name": "ipython",
    "version": 3
   },
   "file_extension": ".py",
   "mimetype": "text/x-python",
   "name": "python",
   "nbconvert_exporter": "python",
   "pygments_lexer": "ipython3",
   "version": "3.9.7"
  }
 },
 "nbformat": 4,
 "nbformat_minor": 5
}
