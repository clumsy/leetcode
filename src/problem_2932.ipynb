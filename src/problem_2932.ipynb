{
 "cells": [
  {
   "cell_type": "markdown",
   "id": "d1fa4560-fb52-4e79-8af2-08ec229d1fcc",
   "metadata": {},
   "source": [
    "[Problem 2932](https://leetcode.com/problems/maximum-strong-pair-xor-i/description)"
   ]
  },
  {
   "cell_type": "code",
   "execution_count": 1,
   "id": "d800d1e0-1008-411c-9652-c7639653df82",
   "metadata": {},
   "outputs": [],
   "source": [
    "from typing import List"
   ]
  },
  {
   "cell_type": "code",
   "execution_count": 2,
   "id": "3f968b1b-e8a0-49ff-8fb9-a6ed84b7bff2",
   "metadata": {},
   "outputs": [],
   "source": [
    "class Solution:\n",
    "    def maximumStrongPairXor(self, nums: List[int]) -> int:\n",
    "        res, n = 0, len(nums)\n",
    "        for i in range(n):\n",
    "            for j in range(i + 1, n):\n",
    "                if abs(nums[i] - nums[j]) <= min(nums[i], nums[j]):\n",
    "                    res = max(res, nums[i] ^ nums[j])\n",
    "        return res"
   ]
  },
  {
   "cell_type": "code",
   "execution_count": 3,
   "id": "f284df89-68e4-4075-b3d6-6d5678db974d",
   "metadata": {},
   "outputs": [],
   "source": [
    "sol = Solution()"
   ]
  },
  {
   "cell_type": "code",
   "execution_count": 4,
   "id": "5485fe88-62ee-4732-9316-712793506545",
   "metadata": {},
   "outputs": [],
   "source": [
    "assert sol.maximumStrongPairXor([1,2,3,4,5]) == 7"
   ]
  },
  {
   "cell_type": "code",
   "execution_count": 5,
   "id": "3b9d2f17-c649-44a6-a557-1d31a4ffb467",
   "metadata": {},
   "outputs": [],
   "source": [
    "assert sol.maximumStrongPairXor([10,100]) == 0"
   ]
  },
  {
   "cell_type": "code",
   "execution_count": 6,
   "id": "6abaed54-7036-438c-8d39-baaab8da3942",
   "metadata": {},
   "outputs": [],
   "source": [
    "assert sol.maximumStrongPairXor([5,6,25,30]) == 7"
   ]
  }
 ],
 "metadata": {
  "kernelspec": {
   "display_name": "Python 3 (ipykernel)",
   "language": "python",
   "name": "python3"
  },
  "language_info": {
   "codemirror_mode": {
    "name": "ipython",
    "version": 3
   },
   "file_extension": ".py",
   "mimetype": "text/x-python",
   "name": "python",
   "nbconvert_exporter": "python",
   "pygments_lexer": "ipython3",
   "version": "3.9.7"
  }
 },
 "nbformat": 4,
 "nbformat_minor": 5
}
