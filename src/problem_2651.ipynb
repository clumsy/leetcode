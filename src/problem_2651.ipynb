{
 "cells": [
  {
   "cell_type": "markdown",
   "id": "8a76f782-3d13-47b8-ae48-efbfdbf6a87c",
   "metadata": {},
   "source": [
    "[Problem 2651](https://leetcode.com/problems/calculate-delayed-arrival-time/description)"
   ]
  },
  {
   "cell_type": "code",
   "execution_count": 1,
   "id": "776f3e9a-1d51-42f3-a445-750bdd321035",
   "metadata": {},
   "outputs": [],
   "source": [
    "class Solution:\n",
    "    def findDelayedArrivalTime(self, a: int, d: int) -> int:\n",
    "        res = (a + d) % 24\n",
    "        return res"
   ]
  },
  {
   "cell_type": "code",
   "execution_count": 2,
   "id": "7ac488fc-7ea6-42d8-9ba8-0cf99aa1378a",
   "metadata": {},
   "outputs": [],
   "source": [
    "sol = Solution()"
   ]
  },
  {
   "cell_type": "code",
   "execution_count": 3,
   "id": "6ebc3c66-aa7b-4ec0-b59f-3630c6d781e0",
   "metadata": {},
   "outputs": [],
   "source": [
    "assert sol.findDelayedArrivalTime(15, 5) == 20"
   ]
  },
  {
   "cell_type": "code",
   "execution_count": 4,
   "id": "7e87757d-05fa-4e52-bd7c-49e84ab777d1",
   "metadata": {},
   "outputs": [],
   "source": [
    "assert sol.findDelayedArrivalTime(13, 11) == 0"
   ]
  }
 ],
 "metadata": {
  "kernelspec": {
   "display_name": "Python 3 (ipykernel)",
   "language": "python",
   "name": "python3"
  },
  "language_info": {
   "codemirror_mode": {
    "name": "ipython",
    "version": 3
   },
   "file_extension": ".py",
   "mimetype": "text/x-python",
   "name": "python",
   "nbconvert_exporter": "python",
   "pygments_lexer": "ipython3",
   "version": "3.9.7"
  }
 },
 "nbformat": 4,
 "nbformat_minor": 5
}
