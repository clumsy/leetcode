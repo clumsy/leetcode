{
 "cells": [
  {
   "cell_type": "markdown",
   "id": "15c176bd-7ee9-42d2-b730-37fe727f618b",
   "metadata": {},
   "source": [
    "[Problem 2610](https://leetcode.com/problems/convert-an-array-into-a-2d-array-with-conditions/description)"
   ]
  },
  {
   "cell_type": "code",
   "execution_count": null,
   "id": "e201b499-9eed-41e4-aa49-832827b5a79a",
   "metadata": {},
   "outputs": [],
   "source": [
    "from typing import List\n",
    "from collections import Counter"
   ]
  },
  {
   "cell_type": "code",
   "execution_count": null,
   "id": "f5579e80-f0f2-4733-ac97-bdeab6c2c382",
   "metadata": {},
   "outputs": [],
   "source": [
    "class Solution:\n",
    "    def findMatrix(self, nums: List[int]) -> List[List[int]]:\n",
    "        res, cnt = [], Counter()\n",
    "        for i in nums:\n",
    "            if len(res) <= cnt[i]:\n",
    "                res.append([])\n",
    "            res[cnt[i]].append(i)\n",
    "            cnt[i] += 1\n",
    "        return res"
   ]
  },
  {
   "cell_type": "code",
   "execution_count": null,
   "id": "8932448f-e9cb-4040-af51-2a478bd7de7c",
   "metadata": {},
   "outputs": [],
   "source": [
    "sol = Solution()"
   ]
  },
  {
   "cell_type": "code",
   "execution_count": null,
   "id": "5bf2a328-ac5f-41a3-9f9f-3755ca3e3808",
   "metadata": {},
   "outputs": [],
   "source": [
    "assert sol.findMatrix([1,3,4,1,2,3,1]) == [[1,3,4,2],[1,3],[1]]"
   ]
  },
  {
   "cell_type": "code",
   "execution_count": null,
   "id": "ca9567ce-19dd-4290-b59d-9ec13996294f",
   "metadata": {},
   "outputs": [],
   "source": [
    "assert sol.findMatrix([1,2,3,4]) == [[1,2,3,4]]"
   ]
  }
 ],
 "metadata": {
  "kernelspec": {
   "display_name": "Python 3 (ipykernel)",
   "language": "python",
   "name": "python3"
  },
  "language_info": {
   "codemirror_mode": {
    "name": "ipython",
    "version": 3
   },
   "file_extension": ".py",
   "mimetype": "text/x-python",
   "name": "python",
   "nbconvert_exporter": "python",
   "pygments_lexer": "ipython3",
   "version": "3.9.7"
  }
 },
 "nbformat": 4,
 "nbformat_minor": 5
}
