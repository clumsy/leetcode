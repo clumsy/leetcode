{
 "cells": [
  {
   "cell_type": "markdown",
   "id": "ffa71045-6e1a-43f4-8e41-4cc1b16ea4b8",
   "metadata": {},
   "source": [
    "[Problem 1638](https://leetcode.com/problems/count-substrings-that-differ-by-one-character)"
   ]
  },
  {
   "cell_type": "code",
   "execution_count": 11,
   "id": "c9bc7ce6-820e-4ecd-be79-5b24249031a9",
   "metadata": {},
   "outputs": [],
   "source": [
    "class Solution:\n",
    "    def countSubstrings(self, s: str, t: str) -> int:\n",
    "        n, m = len(s), len(t)\n",
    "        def same(i, j):\n",
    "            res = pre = cur = 0\n",
    "            for k in range(min(n - i, m - j)):\n",
    "                cur += 1\n",
    "                if s[i + k] != t[j + k]:\n",
    "                    pre, cur = cur, 0\n",
    "                res += pre\n",
    "            return res\n",
    "        return sum(same(i, 0) for i in range(n)) + sum(same(0, j) for j in range(1, m))"
   ]
  },
  {
   "cell_type": "code",
   "execution_count": 12,
   "id": "846b6c6a-9b9b-4114-9f9b-6f64289fdfca",
   "metadata": {},
   "outputs": [],
   "source": [
    "sol = Solution()"
   ]
  },
  {
   "cell_type": "code",
   "execution_count": 13,
   "id": "3c783d7a-5747-4498-b74f-f3d95b872fab",
   "metadata": {},
   "outputs": [],
   "source": [
    "assert sol.countSubstrings(\"aba\", \"baba\") == 6"
   ]
  },
  {
   "cell_type": "code",
   "execution_count": 14,
   "id": "dbaa1402-07d0-42c8-8c02-7e21329b2b3c",
   "metadata": {},
   "outputs": [],
   "source": [
    "assert sol.countSubstrings(\"ab\", \"bb\") == 3"
   ]
  },
  {
   "cell_type": "code",
   "execution_count": 15,
   "id": "f40693b2-317f-405b-a77d-66b921b96593",
   "metadata": {},
   "outputs": [],
   "source": [
    "assert sol.countSubstrings(\"abe\", \"bbc\") == 10"
   ]
  }
 ],
 "metadata": {
  "kernelspec": {
   "display_name": "Python 3 (ipykernel)",
   "language": "python",
   "name": "python3"
  },
  "language_info": {
   "codemirror_mode": {
    "name": "ipython",
    "version": 3
   },
   "file_extension": ".py",
   "mimetype": "text/x-python",
   "name": "python",
   "nbconvert_exporter": "python",
   "pygments_lexer": "ipython3",
   "version": "3.9.7"
  }
 },
 "nbformat": 4,
 "nbformat_minor": 5
}
