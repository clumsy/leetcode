{
 "cells": [
  {
   "cell_type": "markdown",
   "id": "bfa226d1-bd4b-44c4-a3bd-129f5430ac17",
   "metadata": {},
   "source": [
    "[Problem 326](https://leetcode.com/problems/power-of-three/description)"
   ]
  },
  {
   "cell_type": "code",
   "execution_count": 1,
   "id": "cf12da37-1a2b-46b7-b5dc-c4aaa25edec6",
   "metadata": {},
   "outputs": [],
   "source": [
    "class Solution:\n",
    "    def isPowerOfThree(self, n: int) -> bool:\n",
    "        res = (n > 0) and (3 ** 19 % n == 0)\n",
    "        return res"
   ]
  },
  {
   "cell_type": "code",
   "execution_count": 2,
   "id": "25a510d2-8150-4a1e-b571-242e9845b83a",
   "metadata": {},
   "outputs": [],
   "source": [
    "sol = Solution()"
   ]
  },
  {
   "cell_type": "code",
   "execution_count": 3,
   "id": "00ead03e-2bc8-45e1-a00d-713d1db02ab1",
   "metadata": {},
   "outputs": [],
   "source": [
    "assert sol.isPowerOfThree(27)"
   ]
  },
  {
   "cell_type": "code",
   "execution_count": 4,
   "id": "8d5d1b57-8655-41e8-8476-567515a5cea8",
   "metadata": {},
   "outputs": [],
   "source": [
    "assert not sol.isPowerOfThree(0)"
   ]
  },
  {
   "cell_type": "code",
   "execution_count": 5,
   "id": "29e56de8-48ab-4129-827c-2cb88d2b73f4",
   "metadata": {},
   "outputs": [],
   "source": [
    "assert not sol.isPowerOfThree(-1)"
   ]
  }
 ],
 "metadata": {
  "kernelspec": {
   "display_name": "Python 3 (ipykernel)",
   "language": "python",
   "name": "python3"
  },
  "language_info": {
   "codemirror_mode": {
    "name": "ipython",
    "version": 3
   },
   "file_extension": ".py",
   "mimetype": "text/x-python",
   "name": "python",
   "nbconvert_exporter": "python",
   "pygments_lexer": "ipython3",
   "version": "3.9.7"
  }
 },
 "nbformat": 4,
 "nbformat_minor": 5
}
