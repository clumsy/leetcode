{
 "cells": [
  {
   "cell_type": "markdown",
   "id": "945d33f9-490b-4c2b-8114-8a7143118cf2",
   "metadata": {},
   "source": [
    "[Problem 2452](https://leetcode.com/problems/words-within-two-edits-of-dictionary/description)"
   ]
  },
  {
   "cell_type": "code",
   "execution_count": 1,
   "id": "79c7f551-ef78-4daa-a374-a43bc1b79a1a",
   "metadata": {},
   "outputs": [],
   "source": [
    "from typing import List"
   ]
  },
  {
   "cell_type": "code",
   "execution_count": 2,
   "id": "3c03a9c7-5594-42b4-883c-5080489dbaa3",
   "metadata": {},
   "outputs": [],
   "source": [
    "class Solution:\n",
    "    def twoEditWords(self, queries: List[str], dictionary: List[str]) -> List[str]:\n",
    "        res, n = [], len(queries[0])\n",
    "        for q in queries:\n",
    "            if any(n - sum(c1 == c2 for c1, c2 in zip(q, d)) <= 2 for d in dictionary):\n",
    "                res.append(q)\n",
    "        return res"
   ]
  },
  {
   "cell_type": "code",
   "execution_count": 6,
   "id": "4311e1e6-b4e3-4087-b2d2-aad3cd95c5a7",
   "metadata": {},
   "outputs": [],
   "source": [
    "class Solution:\n",
    "    def twoEditWords(self, queries: List[str], dictionary: List[str]) -> List[str]:\n",
    "        def c2i(c):\n",
    "            return ord(c) - ord(\"a\")\n",
    "\n",
    "        class TrieNode:\n",
    "            def __init__(self):\n",
    "                self.chars = [None] * 26\n",
    "                self.term = False\n",
    "\n",
    "        def insert(node, d):\n",
    "            if d:\n",
    "                i = c2i(d[0])\n",
    "                new = node.chars[i]\n",
    "                if new is None:\n",
    "                    new = TrieNode()\n",
    "                new.term |= len(d) == 1\n",
    "                node.chars[i] = new\n",
    "                insert(new, d[1:])\n",
    "\n",
    "        def find(node, w, edits):\n",
    "            if node is None or edits < 0:\n",
    "                return False\n",
    "            if not w:\n",
    "                return node.term\n",
    "            for i in range(len(node.chars)):\n",
    "                if find(node.chars[i], w[1:], edits - (c2i(w[0]) != i)):\n",
    "                    return True\n",
    "            return False\n",
    "\n",
    "        root = TrieNode()\n",
    "        for d in dictionary:\n",
    "            insert(root, d)\n",
    "        res = []\n",
    "        for q in queries:\n",
    "            if find(root, q, 2):\n",
    "                res.append(q)\n",
    "        return res"
   ]
  },
  {
   "cell_type": "code",
   "execution_count": 7,
   "id": "45727dfa-bff0-40ab-8b39-4981c2ddf6f0",
   "metadata": {},
   "outputs": [],
   "source": [
    "sol = Solution()"
   ]
  },
  {
   "cell_type": "code",
   "execution_count": 8,
   "id": "bbd466a8-e7c5-40aa-8ab4-53b75693c772",
   "metadata": {},
   "outputs": [],
   "source": [
    "assert sol.twoEditWords([\"word\",\"note\",\"ants\",\"wood\"], [\"wood\",\"joke\",\"moat\"]) == [\"word\",\"note\",\"wood\"]"
   ]
  },
  {
   "cell_type": "code",
   "execution_count": 9,
   "id": "3a2f01bc-3385-47b7-ba1c-725c6570a817",
   "metadata": {},
   "outputs": [],
   "source": [
    "assert sol.twoEditWords([\"yes\"], [\"not\"]) == []"
   ]
  }
 ],
 "metadata": {
  "kernelspec": {
   "display_name": "Python 3 (ipykernel)",
   "language": "python",
   "name": "python3"
  },
  "language_info": {
   "codemirror_mode": {
    "name": "ipython",
    "version": 3
   },
   "file_extension": ".py",
   "mimetype": "text/x-python",
   "name": "python",
   "nbconvert_exporter": "python",
   "pygments_lexer": "ipython3",
   "version": "3.9.7"
  }
 },
 "nbformat": 4,
 "nbformat_minor": 5
}
