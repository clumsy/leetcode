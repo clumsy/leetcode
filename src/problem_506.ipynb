{
 "cells": [
  {
   "cell_type": "markdown",
   "id": "9cfb38f2-b776-4b51-97b6-cd13b9b0ae28",
   "metadata": {},
   "source": [
    "[Problem 506](https://leetcode.com/problems/relative-ranks)"
   ]
  },
  {
   "cell_type": "code",
   "execution_count": 2,
   "id": "af758be4-2f89-4ff3-95cb-df3600fd7ff9",
   "metadata": {},
   "outputs": [],
   "source": [
    "from typing import List"
   ]
  },
  {
   "cell_type": "code",
   "execution_count": 3,
   "id": "3c4431a8-6801-4f49-9493-bb1e9662a7b3",
   "metadata": {},
   "outputs": [],
   "source": [
    "class Solution:\n",
    "    def findRelativeRanks(self, score: List[int]) -> List[str]:\n",
    "        idx = list(range(0, len(score)))\n",
    "        def cmp(a):\n",
    "            return score[a]\n",
    "        idx.sort(key=cmp, reverse=True)\n",
    "        def place(a):\n",
    "            if a == 0:\n",
    "                return 'Gold Medal'\n",
    "            elif a == 1:\n",
    "                return 'Silver Medal'\n",
    "            elif a == 2:\n",
    "                return 'Bronze Medal'\n",
    "            else:\n",
    "                return str(a + 1)\n",
    "        result = [''] * len(score)\n",
    "        for p, i in enumerate(idx):\n",
    "            result[i] = place(p)\n",
    "        return result"
   ]
  },
  {
   "cell_type": "code",
   "execution_count": 5,
   "id": "b7fdffbd-0421-4a75-9cfb-96b0265538c2",
   "metadata": {},
   "outputs": [],
   "source": [
    "sol = Solution()"
   ]
  },
  {
   "cell_type": "code",
   "execution_count": 6,
   "id": "b4a609d0-9714-4cc0-8d92-50473e1e15b4",
   "metadata": {},
   "outputs": [],
   "source": [
    "assert sol.findRelativeRanks([5,4,3,2,1,]) == [\"Gold Medal\",\"Silver Medal\",\"Bronze Medal\",\"4\",\"5\"]"
   ]
  },
  {
   "cell_type": "code",
   "execution_count": 7,
   "id": "8a2ea77b-0a5a-43ad-8e17-82bcfc882f9c",
   "metadata": {},
   "outputs": [],
   "source": [
    "assert sol.findRelativeRanks([10,3,8,9,4]) == [\"Gold Medal\",\"5\",\"Bronze Medal\",\"Silver Medal\",\"4\"]"
   ]
  }
 ],
 "metadata": {
  "kernelspec": {
   "display_name": "Python 3 (ipykernel)",
   "language": "python",
   "name": "python3"
  },
  "language_info": {
   "codemirror_mode": {
    "name": "ipython",
    "version": 3
   },
   "file_extension": ".py",
   "mimetype": "text/x-python",
   "name": "python",
   "nbconvert_exporter": "python",
   "pygments_lexer": "ipython3",
   "version": "3.9.7"
  }
 },
 "nbformat": 4,
 "nbformat_minor": 5
}
