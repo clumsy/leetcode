{
 "cells": [
  {
   "cell_type": "markdown",
   "id": "26f73361-b8b8-4897-b760-5ccd730f2589",
   "metadata": {},
   "source": [
    "[Problem 2022](https://leetcode.com/problems/convert-1d-array-into-2d-array/description)"
   ]
  },
  {
   "cell_type": "code",
   "execution_count": 1,
   "id": "a3c7c1b8-03cf-4d62-b4ee-6bc3a772b3a6",
   "metadata": {},
   "outputs": [],
   "source": [
    "from typing import List"
   ]
  },
  {
   "cell_type": "code",
   "execution_count": 2,
   "id": "e7db7f0e-bb24-4115-ad2a-a2b3523d1da2",
   "metadata": {},
   "outputs": [],
   "source": [
    "class Solution:\n",
    "    def construct2DArray(self, original: List[int], m: int, n: int) -> List[List[int]]:\n",
    "        res = [[original[r * n + c] for c in range(n)] for r in range(m)] if m * n == len(original) else []\n",
    "        return res"
   ]
  },
  {
   "cell_type": "code",
   "execution_count": 3,
   "id": "80c711c9-36c7-4ae7-bc9d-04528d9d6f61",
   "metadata": {},
   "outputs": [],
   "source": [
    "sol = Solution()"
   ]
  },
  {
   "cell_type": "code",
   "execution_count": 4,
   "id": "b68d3698-70bb-4492-a41a-69960d632944",
   "metadata": {},
   "outputs": [],
   "source": [
    "assert sol.construct2DArray([1,2,3,4], 2, 2) == [[1,2],[3,4]]"
   ]
  },
  {
   "cell_type": "code",
   "execution_count": 5,
   "id": "7e2198a5-bbcd-45e6-8aeb-cedb65f45d31",
   "metadata": {},
   "outputs": [],
   "source": [
    "assert sol.construct2DArray([1,2,3], 1, 3) == [[1,2,3]]"
   ]
  },
  {
   "cell_type": "code",
   "execution_count": 6,
   "id": "443986d5-a4f5-4221-97bd-70dec40e1078",
   "metadata": {},
   "outputs": [],
   "source": [
    "assert sol.construct2DArray([1,2], 1, 1) == []"
   ]
  }
 ],
 "metadata": {
  "kernelspec": {
   "display_name": "Python 3 (ipykernel)",
   "language": "python",
   "name": "python3"
  },
  "language_info": {
   "codemirror_mode": {
    "name": "ipython",
    "version": 3
   },
   "file_extension": ".py",
   "mimetype": "text/x-python",
   "name": "python",
   "nbconvert_exporter": "python",
   "pygments_lexer": "ipython3",
   "version": "3.9.7"
  }
 },
 "nbformat": 4,
 "nbformat_minor": 5
}
