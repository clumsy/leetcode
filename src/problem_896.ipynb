{
 "cells": [
  {
   "cell_type": "markdown",
   "id": "ad3f7a0e-5f24-4d57-980d-591a48baa359",
   "metadata": {},
   "source": [
    "[Problem 896](https://leetcode.com/problems/monotonic-array/description)"
   ]
  },
  {
   "cell_type": "code",
   "execution_count": 1,
   "id": "647a4494-5fe0-4f2b-8dc7-c52dbf2364e8",
   "metadata": {},
   "outputs": [],
   "source": [
    "from typing import List"
   ]
  },
  {
   "cell_type": "code",
   "execution_count": 2,
   "id": "b49f1436-e9c5-43c3-a382-febca3032961",
   "metadata": {},
   "outputs": [],
   "source": [
    "class Solution:\n",
    "    def isMonotonic(self, nums: List[int]) -> bool:\n",
    "        res, s, n = True, 0, len(nums)\n",
    "        for i in range(1, n):\n",
    "            d = nums[i] - nums[i - 1]\n",
    "            if d * s < 0:\n",
    "                res = False\n",
    "                break\n",
    "            s += d\n",
    "        return res"
   ]
  },
  {
   "cell_type": "code",
   "execution_count": 3,
   "id": "e28ce21b-2104-4089-9bca-c28ffaf5dfd9",
   "metadata": {},
   "outputs": [],
   "source": [
    "sol = Solution()"
   ]
  },
  {
   "cell_type": "code",
   "execution_count": 4,
   "id": "46005170-e443-41f7-854e-4d35bf328755",
   "metadata": {},
   "outputs": [],
   "source": [
    "assert sol.isMonotonic([1,2,2,3])"
   ]
  },
  {
   "cell_type": "code",
   "execution_count": 5,
   "id": "a8b8e251-5856-4a02-bd9e-2a3145addd64",
   "metadata": {},
   "outputs": [],
   "source": [
    "assert sol.isMonotonic([6,5,4,4])"
   ]
  },
  {
   "cell_type": "code",
   "execution_count": 6,
   "id": "64c6b42b-df50-46d8-9901-67e51d494eaa",
   "metadata": {},
   "outputs": [],
   "source": [
    "assert not sol.isMonotonic([1,3,2])"
   ]
  }
 ],
 "metadata": {
  "kernelspec": {
   "display_name": "Python 3 (ipykernel)",
   "language": "python",
   "name": "python3"
  },
  "language_info": {
   "codemirror_mode": {
    "name": "ipython",
    "version": 3
   },
   "file_extension": ".py",
   "mimetype": "text/x-python",
   "name": "python",
   "nbconvert_exporter": "python",
   "pygments_lexer": "ipython3",
   "version": "3.9.7"
  }
 },
 "nbformat": 4,
 "nbformat_minor": 5
}
