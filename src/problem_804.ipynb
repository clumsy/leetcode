{
 "cells": [
  {
   "cell_type": "markdown",
   "id": "a4685d07-f55f-4348-b7d2-451a43a5283b",
   "metadata": {},
   "source": [
    "[Problem 804](https://leetcode.com/problems/unique-morse-code-words/description)"
   ]
  },
  {
   "cell_type": "code",
   "execution_count": 1,
   "id": "24037581-892c-469f-af97-f2bab9eb3697",
   "metadata": {},
   "outputs": [],
   "source": [
    "from typing import List"
   ]
  },
  {
   "cell_type": "code",
   "execution_count": 2,
   "id": "6466ba04-7e64-4e6c-a4f9-1d0165d24e84",
   "metadata": {},
   "outputs": [],
   "source": [
    "class Solution:\n",
    "    def uniqueMorseRepresentations(self, words: List[str]) -> int:\n",
    "        morse = [\".-\",\"-...\",\"-.-.\",\"-..\",\".\",\"..-.\",\"--.\",\"....\",\"..\",\".---\",\"-.-\",\".-..\",\"--\",\"-.\",\"---\",\".--.\",\"--.-\",\".-.\",\"...\",\"-\",\"..-\",\"...-\",\".--\",\"-..-\",\"-.--\",\"--..\"]\n",
    "        def as_morse(s):\n",
    "            return \"\".join(morse[ord(c) - ord(\"a\")] for c in s)\n",
    "        res = len(set(as_morse(w) for w in words))\n",
    "        return res"
   ]
  },
  {
   "cell_type": "code",
   "execution_count": 3,
   "id": "9a1a249e-57ba-4c8c-a6d4-df6872bc2b45",
   "metadata": {},
   "outputs": [],
   "source": [
    "sol = Solution()"
   ]
  },
  {
   "cell_type": "code",
   "execution_count": 4,
   "id": "e1a1575b-217b-4c21-ae9f-693128657333",
   "metadata": {},
   "outputs": [],
   "source": [
    "assert sol.uniqueMorseRepresentations([\"gin\",\"zen\",\"gig\",\"msg\"]) == 2"
   ]
  },
  {
   "cell_type": "code",
   "execution_count": 5,
   "id": "50782c7f-5916-4e41-b90a-85f807072402",
   "metadata": {},
   "outputs": [],
   "source": [
    "assert sol.uniqueMorseRepresentations([\"a\"]) == 1"
   ]
  }
 ],
 "metadata": {
  "kernelspec": {
   "display_name": "Python 3 (ipykernel)",
   "language": "python",
   "name": "python3"
  },
  "language_info": {
   "codemirror_mode": {
    "name": "ipython",
    "version": 3
   },
   "file_extension": ".py",
   "mimetype": "text/x-python",
   "name": "python",
   "nbconvert_exporter": "python",
   "pygments_lexer": "ipython3",
   "version": "3.9.7"
  }
 },
 "nbformat": 4,
 "nbformat_minor": 5
}
