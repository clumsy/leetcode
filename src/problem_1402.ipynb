{
 "cells": [
  {
   "cell_type": "markdown",
   "id": "c3bf5b64-fce5-4c11-a783-0fb6773d2445",
   "metadata": {},
   "source": [
    "[Problem 1402](https://leetcode.com/problems/reducing-dishes/description)"
   ]
  },
  {
   "cell_type": "code",
   "execution_count": 1,
   "id": "94dd996f-97fa-4d90-92e7-b5d69eeab5b5",
   "metadata": {},
   "outputs": [],
   "source": [
    "from typing import List"
   ]
  },
  {
   "cell_type": "code",
   "execution_count": 2,
   "id": "0fcc5f32-9b3b-46f1-8468-78c5375ce479",
   "metadata": {},
   "outputs": [],
   "source": [
    "class Solution:\n",
    "    def maxSatisfaction(self, satisfaction: List[int]) -> int:\n",
    "        satisfaction.sort(reverse=True)\n",
    "        res, s, p = 0, 0, 0\n",
    "        for i in satisfaction:\n",
    "            s += p + i\n",
    "            res = max(res, s)\n",
    "            p += i\n",
    "            if p < 0:\n",
    "                break\n",
    "        return res"
   ]
  },
  {
   "cell_type": "code",
   "execution_count": 3,
   "id": "cc686001-31d6-438d-b3ce-d9c1a9dcf5ff",
   "metadata": {},
   "outputs": [],
   "source": [
    "sol = Solution()"
   ]
  },
  {
   "cell_type": "code",
   "execution_count": 4,
   "id": "a65d7098-4ca8-4289-a66f-fb4d4c30302c",
   "metadata": {},
   "outputs": [],
   "source": [
    "assert sol.maxSatisfaction([-1,-8,0,5,-9]) == 14"
   ]
  },
  {
   "cell_type": "code",
   "execution_count": 5,
   "id": "7595f360-9d61-42f7-91b7-8ccbcc4896e0",
   "metadata": {},
   "outputs": [],
   "source": [
    "assert sol.maxSatisfaction([4,3,2]) == 20"
   ]
  },
  {
   "cell_type": "code",
   "execution_count": 6,
   "id": "d08b81b9-9a2b-442e-b77f-e77a0074f31a",
   "metadata": {},
   "outputs": [],
   "source": [
    "assert sol.maxSatisfaction([-1,-4,-5]) == 0"
   ]
  }
 ],
 "metadata": {
  "kernelspec": {
   "display_name": "Python 3 (ipykernel)",
   "language": "python",
   "name": "python3"
  },
  "language_info": {
   "codemirror_mode": {
    "name": "ipython",
    "version": 3
   },
   "file_extension": ".py",
   "mimetype": "text/x-python",
   "name": "python",
   "nbconvert_exporter": "python",
   "pygments_lexer": "ipython3",
   "version": "3.9.7"
  }
 },
 "nbformat": 4,
 "nbformat_minor": 5
}
