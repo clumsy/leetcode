{
 "cells": [
  {
   "cell_type": "markdown",
   "id": "faee8fab-ecf1-47cb-9d38-8671ba019f9b",
   "metadata": {},
   "source": [
    "[Problem 867](https://leetcode.com/problems/transpose-matrix/description)"
   ]
  },
  {
   "cell_type": "code",
   "execution_count": 1,
   "id": "595053a3-61ec-4330-b960-0034389de266",
   "metadata": {},
   "outputs": [],
   "source": [
    "from typing import List"
   ]
  },
  {
   "cell_type": "code",
   "execution_count": 2,
   "id": "77947423-422c-4eb1-ac07-7b095c9148db",
   "metadata": {},
   "outputs": [],
   "source": [
    "class Solution:\n",
    "    def transpose(self, matrix: List[List[int]]) -> List[List[int]]:\n",
    "        m, n = len(matrix), len(matrix[0])\n",
    "        res = [[0] * m for _ in range(n)]\n",
    "        for r in range(m):\n",
    "            for c in range(n):\n",
    "                res[c][r] = matrix[r][c]\n",
    "        return res"
   ]
  },
  {
   "cell_type": "code",
   "execution_count": 3,
   "id": "e89741fa-38f8-41bf-a509-14f1f38b0692",
   "metadata": {},
   "outputs": [],
   "source": [
    "sol = Solution()"
   ]
  },
  {
   "cell_type": "code",
   "execution_count": 4,
   "id": "b7a530fb-e57a-4e6c-a535-b004acd4f6ae",
   "metadata": {},
   "outputs": [],
   "source": [
    "assert sol.transpose([[1,2,3],[4,5,6],[7,8,9]]) == [[1,4,7],[2,5,8],[3,6,9]]"
   ]
  },
  {
   "cell_type": "code",
   "execution_count": 5,
   "id": "ca1c997e-2e4c-4df8-947e-59fc7dd56659",
   "metadata": {},
   "outputs": [],
   "source": [
    "assert sol.transpose([[1,2,3],[4,5,6]]) == [[1,4],[2,5],[3,6]]"
   ]
  }
 ],
 "metadata": {
  "kernelspec": {
   "display_name": "Python 3 (ipykernel)",
   "language": "python",
   "name": "python3"
  },
  "language_info": {
   "codemirror_mode": {
    "name": "ipython",
    "version": 3
   },
   "file_extension": ".py",
   "mimetype": "text/x-python",
   "name": "python",
   "nbconvert_exporter": "python",
   "pygments_lexer": "ipython3",
   "version": "3.9.7"
  }
 },
 "nbformat": 4,
 "nbformat_minor": 5
}
