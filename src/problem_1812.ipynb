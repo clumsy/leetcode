{
 "cells": [
  {
   "cell_type": "markdown",
   "id": "df9335a3-8213-4634-b0dd-adc147269900",
   "metadata": {},
   "source": [
    "[Problem 1812](https://leetcode.com/problems/determine-color-of-a-chessboard-square/description)"
   ]
  },
  {
   "cell_type": "code",
   "execution_count": 1,
   "id": "d1b25d7b-90fe-4749-94cd-689668a28b43",
   "metadata": {},
   "outputs": [],
   "source": [
    "class Solution:\n",
    "    def squareIsWhite(self, c: str) -> bool:\n",
    "        res = ((ord(c[0]) - ord(\"a\")) + (8 - int(c[1]))) & 1 == 0\n",
    "        return res"
   ]
  },
  {
   "cell_type": "code",
   "execution_count": 2,
   "id": "4b011e0a-ce83-4ed7-82e9-f0436de8741c",
   "metadata": {},
   "outputs": [],
   "source": [
    "sol = Solution()"
   ]
  },
  {
   "cell_type": "code",
   "execution_count": 3,
   "id": "41d443c8-9f41-4c48-8133-675014a7ec54",
   "metadata": {},
   "outputs": [],
   "source": [
    "assert not sol.squareIsWhite(\"a1\")"
   ]
  },
  {
   "cell_type": "code",
   "execution_count": 4,
   "id": "78518cbe-0622-4589-9701-8ec6d9929997",
   "metadata": {},
   "outputs": [],
   "source": [
    "assert sol.squareIsWhite(\"h3\")"
   ]
  },
  {
   "cell_type": "code",
   "execution_count": 5,
   "id": "949e7090-59a9-4287-9b14-3564fb36c071",
   "metadata": {},
   "outputs": [],
   "source": [
    "assert not sol.squareIsWhite(\"c7\")"
   ]
  }
 ],
 "metadata": {
  "kernelspec": {
   "display_name": "Python 3 (ipykernel)",
   "language": "python",
   "name": "python3"
  },
  "language_info": {
   "codemirror_mode": {
    "name": "ipython",
    "version": 3
   },
   "file_extension": ".py",
   "mimetype": "text/x-python",
   "name": "python",
   "nbconvert_exporter": "python",
   "pygments_lexer": "ipython3",
   "version": "3.9.7"
  }
 },
 "nbformat": 4,
 "nbformat_minor": 5
}
