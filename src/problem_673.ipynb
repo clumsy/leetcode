{
 "cells": [
  {
   "cell_type": "markdown",
   "id": "6716d88d-b4e8-4aec-9c0b-a7c5d7637589",
   "metadata": {},
   "source": [
    "[Problem 673](https://leetcode.com/problems/number-of-longest-increasing-subsequence)"
   ]
  },
  {
   "cell_type": "code",
   "execution_count": 9,
   "id": "677bca6b-12db-4be3-9776-8afc541d4f8a",
   "metadata": {},
   "outputs": [],
   "source": [
    "from typing import List\n",
    "from collections import defaultdict"
   ]
  },
  {
   "cell_type": "code",
   "execution_count": 10,
   "id": "d125a279-4a8b-49e0-9acf-b943393f1f41",
   "metadata": {},
   "outputs": [],
   "source": [
    "class Solution:\n",
    "    def findNumberOfLIS(self, nums: List[int]) -> int:\n",
    "        dp = defaultdict(lambda: (0, 0))  # num -> (length, count)\n",
    "        max_length = 0\n",
    "        for num in nums:\n",
    "            dp[num] = self.merge(dp[num], (1, 1))\n",
    "            for k in dp.keys():\n",
    "                if k < num:\n",
    "                    dp[num] = self.merge(dp[num], dp[k])\n",
    "            max_length = max(max_length, dp[num][0])\n",
    "        return sum(count for length, count in dp.values() if length == max_length)\n",
    "    \n",
    "    def merge(self, a, b):\n",
    "        cur_length, cur_count = a\n",
    "        new_length, new_count = b\n",
    "        new_length += 1\n",
    "        if cur_length <= new_length:\n",
    "            cur_count = new_count + (cur_count if cur_length == new_length else 0)\n",
    "        return (max(cur_length, new_length), cur_count)"
   ]
  },
  {
   "cell_type": "code",
   "execution_count": 11,
   "id": "ddd2cdfa-90b7-4e90-b6c1-a77d6d4a8885",
   "metadata": {},
   "outputs": [],
   "source": [
    "sol = Solution()"
   ]
  },
  {
   "cell_type": "code",
   "execution_count": 12,
   "id": "1bbbc883-3afe-44bd-9ab0-a3eaf5e3031b",
   "metadata": {},
   "outputs": [],
   "source": [
    "assert sol.findNumberOfLIS([1,3,5,4,7]) == 2"
   ]
  },
  {
   "cell_type": "code",
   "execution_count": 13,
   "id": "1ef23008-c0d8-42e0-9c0a-764f61971aeb",
   "metadata": {},
   "outputs": [],
   "source": [
    "assert sol.findNumberOfLIS([2,2,2,2,2]) == 5"
   ]
  }
 ],
 "metadata": {
  "kernelspec": {
   "display_name": "Python 3 (ipykernel)",
   "language": "python",
   "name": "python3"
  },
  "language_info": {
   "codemirror_mode": {
    "name": "ipython",
    "version": 3
   },
   "file_extension": ".py",
   "mimetype": "text/x-python",
   "name": "python",
   "nbconvert_exporter": "python",
   "pygments_lexer": "ipython3",
   "version": "3.9.7"
  }
 },
 "nbformat": 4,
 "nbformat_minor": 5
}
