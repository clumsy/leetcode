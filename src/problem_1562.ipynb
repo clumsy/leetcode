{
 "cells": [
  {
   "cell_type": "markdown",
   "id": "f0484942-dda1-43b0-8727-38a7a8e2ed0f",
   "metadata": {},
   "source": [
    "[Problem 1562](https://leetcode.com/problems/find-latest-group-of-size-m/description)"
   ]
  },
  {
   "cell_type": "code",
   "execution_count": 2,
   "id": "a844fea4-30ba-4db3-837b-ea787d5b8594",
   "metadata": {},
   "outputs": [],
   "source": [
    "class UnionFind:\n",
    "    def __init__(self, n):\n",
    "        self.rank = [0] * n\n",
    "        self.parent = [i for i in range(n)]\n",
    "        \n",
    "    def union(self, i, j):\n",
    "        i, j = self.find(i), self.find(j)\n",
    "        if i != j:\n",
    "            if self.rank[i] < self.rank[j]:\n",
    "                i, j = j, i\n",
    "            self.rank[i] += self.rank[j]\n",
    "            self.parent[j] = i\n",
    "        \n",
    "    def find(self, i):\n",
    "        if i != self.parent[i]:\n",
    "            self.parent[i] = self.find(self.parent[i])\n",
    "        return self.parent[i]"
   ]
  },
  {
   "cell_type": "code",
   "execution_count": 2,
   "id": "ce71e91a-9f7a-434d-b7a1-f627c263e918",
   "metadata": {},
   "outputs": [],
   "source": [
    "from typing import List"
   ]
  },
  {
   "cell_type": "code",
   "execution_count": 4,
   "id": "619e6b7b-02d8-464d-8c12-c58718dee3de",
   "metadata": {},
   "outputs": [],
   "source": [
    "class Solution:\n",
    "    def findLatestStep(self, arr: List[int], m: int) -> int:\n",
    "        if m == len(arr):\n",
    "            return m\n",
    "        \n",
    "        n, res = len(arr), -1\n",
    "        uf = UnionFind(n)\n",
    "        \n",
    "        for i, e in enumerate(arr):\n",
    "            e -= 1\n",
    "            uf.rank[e] = 1\n",
    "            for a in (e - 1, e + 1):\n",
    "                if 0 <= a < n:\n",
    "                    if uf.rank[uf.find(a)] == m:\n",
    "                        res = i\n",
    "                    if uf.rank[a] > 0:\n",
    "                        uf.union(e, a)\n",
    "        return res"
   ]
  },
  {
   "cell_type": "code",
   "execution_count": 11,
   "id": "5688890b-24f0-4589-957b-c6c3d2f61bbd",
   "metadata": {},
   "outputs": [],
   "source": [
    "class Solution:\n",
    "    def findLatestStep(self, arr: List[int], m: int) -> int:\n",
    "        n = len(arr)\n",
    "        if m == n:\n",
    "            return m\n",
    "        lens, res = [0] * n, -1\n",
    "        for i, e in enumerate(arr):\n",
    "            e -= 1\n",
    "            left, right = lens[e - 1] if e > 0 else 0, lens[e + 1] if e < n - 1 else 0\n",
    "            # all values inside [e - left; e + right] are already ones\n",
    "            # we will not get any new position in between\n",
    "            # hence only left and right borders need updating\n",
    "            lens[e - left] = lens[e + right] = left + right + 1\n",
    "            if left == m or right == m:  # latest step with\n",
    "                res = i\n",
    "        return res"
   ]
  },
  {
   "cell_type": "code",
   "execution_count": 12,
   "id": "b6c9acbe-5ac8-408d-befc-b73e955f2fff",
   "metadata": {},
   "outputs": [],
   "source": [
    "sol = Solution()"
   ]
  },
  {
   "cell_type": "code",
   "execution_count": 13,
   "id": "fc66315c-5356-460f-a216-183981ce6af8",
   "metadata": {},
   "outputs": [],
   "source": [
    "assert sol.findLatestStep([3,5,1,2,4], 1) == 4"
   ]
  },
  {
   "cell_type": "code",
   "execution_count": 14,
   "id": "d98f80cf-6547-49af-b009-64a93b37ccd2",
   "metadata": {},
   "outputs": [],
   "source": [
    "assert sol.findLatestStep([3,1,5,4,2], 2) == -1"
   ]
  }
 ],
 "metadata": {
  "kernelspec": {
   "display_name": "Python 3 (ipykernel)",
   "language": "python",
   "name": "python3"
  },
  "language_info": {
   "codemirror_mode": {
    "name": "ipython",
    "version": 3
   },
   "file_extension": ".py",
   "mimetype": "text/x-python",
   "name": "python",
   "nbconvert_exporter": "python",
   "pygments_lexer": "ipython3",
   "version": "3.9.7"
  }
 },
 "nbformat": 4,
 "nbformat_minor": 5
}
