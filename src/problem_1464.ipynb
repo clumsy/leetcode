{
 "cells": [
  {
   "cell_type": "markdown",
   "id": "93f6dbf1-a4ba-4970-bd9b-c4c511c5da3c",
   "metadata": {},
   "source": [
    "[Problem 1464](https://leetcode.com/problems/maximum-product-of-two-elements-in-an-array/description)"
   ]
  },
  {
   "cell_type": "code",
   "execution_count": 1,
   "id": "a0dfaef8-caf1-4622-baca-44a8eaca5b82",
   "metadata": {},
   "outputs": [],
   "source": [
    "from typing import List"
   ]
  },
  {
   "cell_type": "code",
   "execution_count": 2,
   "id": "43910753-c702-4471-ac17-acf328f74b44",
   "metadata": {},
   "outputs": [],
   "source": [
    "class Solution:\n",
    "    def maxProduct(self, nums: List[int]) -> int:\n",
    "        ma2, ma1 = sorted(nums[:2])\n",
    "        for i in nums[2:]:\n",
    "            if i >= ma1:\n",
    "                ma1, ma2 = i, ma1\n",
    "            elif i >= ma2:\n",
    "                ma2 = i\n",
    "        res = (ma1 - 1) * (ma2 - 1)\n",
    "        return res"
   ]
  },
  {
   "cell_type": "code",
   "execution_count": 3,
   "id": "40f6f764-2ebc-4845-90dc-0799e5a99516",
   "metadata": {},
   "outputs": [],
   "source": [
    "sol = Solution()"
   ]
  },
  {
   "cell_type": "code",
   "execution_count": 4,
   "id": "6ff48080-a184-4054-8415-380be9c8cd4e",
   "metadata": {},
   "outputs": [],
   "source": [
    "assert sol.maxProduct([3,4,5,2]) == 12"
   ]
  },
  {
   "cell_type": "code",
   "execution_count": 5,
   "id": "25506ffc-dc0c-439e-9c4e-58a7ed52ae04",
   "metadata": {},
   "outputs": [],
   "source": [
    "assert sol.maxProduct([1,5,4,5]) == 16"
   ]
  },
  {
   "cell_type": "code",
   "execution_count": 6,
   "id": "9525d5f2-0287-4744-9164-dad5aa1b10f0",
   "metadata": {},
   "outputs": [],
   "source": [
    "assert sol.maxProduct([3,7]) == 12"
   ]
  }
 ],
 "metadata": {
  "kernelspec": {
   "display_name": "Python 3 (ipykernel)",
   "language": "python",
   "name": "python3"
  },
  "language_info": {
   "codemirror_mode": {
    "name": "ipython",
    "version": 3
   },
   "file_extension": ".py",
   "mimetype": "text/x-python",
   "name": "python",
   "nbconvert_exporter": "python",
   "pygments_lexer": "ipython3",
   "version": "3.9.7"
  }
 },
 "nbformat": 4,
 "nbformat_minor": 5
}
