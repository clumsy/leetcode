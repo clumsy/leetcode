{
 "cells": [
  {
   "cell_type": "markdown",
   "id": "3c4e15de-b954-485f-a88c-8e9afd40c5f0",
   "metadata": {},
   "source": [
    "[Problem 455](https://leetcode.com/problems/assign-cookies/description)"
   ]
  },
  {
   "cell_type": "code",
   "execution_count": 1,
   "id": "234d7a31-bcf5-4782-97ea-f82b38d7c1bd",
   "metadata": {},
   "outputs": [],
   "source": [
    "from typing import List"
   ]
  },
  {
   "cell_type": "code",
   "execution_count": 2,
   "id": "357e3304-39f5-46de-ba0f-cd767953560d",
   "metadata": {},
   "outputs": [],
   "source": [
    "class Solution:\n",
    "    def findContentChildren(self, g: List[int], s: List[int]) -> int:\n",
    "        g.sort(), s.sort()\n",
    "        res = j = 0\n",
    "        for e in g:\n",
    "            while j < len(s) and s[j] < e:\n",
    "                j += 1\n",
    "            if j == len(s):\n",
    "                break\n",
    "            res += s[j] >= e\n",
    "            j += 1\n",
    "        return res"
   ]
  },
  {
   "cell_type": "code",
   "execution_count": 3,
   "id": "2c452f20-6286-4ceb-b800-a920e1268536",
   "metadata": {},
   "outputs": [],
   "source": [
    "sol = Solution()"
   ]
  },
  {
   "cell_type": "code",
   "execution_count": 4,
   "id": "fa4613cd-6c6f-4707-9e57-3c99a2fb3ead",
   "metadata": {},
   "outputs": [],
   "source": [
    "assert sol.findContentChildren([1,2,3], [1,1]) == 1"
   ]
  },
  {
   "cell_type": "code",
   "execution_count": 5,
   "id": "b3c4d779-28a0-4b0f-9c3c-3794788a6d37",
   "metadata": {},
   "outputs": [],
   "source": [
    "assert sol.findContentChildren([1,2], [1,2,3]) == 2"
   ]
  }
 ],
 "metadata": {
  "kernelspec": {
   "display_name": "Python 3 (ipykernel)",
   "language": "python",
   "name": "python3"
  },
  "language_info": {
   "codemirror_mode": {
    "name": "ipython",
    "version": 3
   },
   "file_extension": ".py",
   "mimetype": "text/x-python",
   "name": "python",
   "nbconvert_exporter": "python",
   "pygments_lexer": "ipython3",
   "version": "3.9.7"
  }
 },
 "nbformat": 4,
 "nbformat_minor": 5
}
