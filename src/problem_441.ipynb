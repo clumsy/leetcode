{
 "cells": [
  {
   "cell_type": "markdown",
   "id": "319bac61-b313-48f5-b232-5ccc25765d94",
   "metadata": {},
   "source": [
    "[Problem 441](https://leetcode.com/problems/arranging-coins/)"
   ]
  },
  {
   "cell_type": "code",
   "execution_count": 6,
   "id": "9abefcd9-afe9-498b-a243-c264f58f9e9f",
   "metadata": {},
   "outputs": [],
   "source": [
    "from math import floor, sqrt"
   ]
  },
  {
   "cell_type": "code",
   "execution_count": 7,
   "id": "cb4b67a7-43f8-4c4f-8693-b162929b7aef",
   "metadata": {},
   "outputs": [],
   "source": [
    "class Solution:\n",
    "    def arrangeCoins(self, n: int) -> int:\n",
    "        # (1 + k) * k // 2 = n\n",
    "        # k^2 + k - 2n = 0\n",
    "        # D = 1 + 8n\n",
    "        # k = (-1 + sqrt(D)) // 2\n",
    "        return (-1 + floor(sqrt(1 + 8 * n))) // 2"
   ]
  },
  {
   "cell_type": "code",
   "execution_count": 8,
   "id": "61812d7d-693e-4948-978e-25851db704c2",
   "metadata": {},
   "outputs": [],
   "source": [
    "sol = Solution()"
   ]
  },
  {
   "cell_type": "code",
   "execution_count": 9,
   "id": "bc9e9422-e930-4595-bdb4-84b47cb5474c",
   "metadata": {},
   "outputs": [],
   "source": [
    "assert sol.arrangeCoins(5) == 2"
   ]
  },
  {
   "cell_type": "code",
   "execution_count": 10,
   "id": "62252052-769f-4aa8-9ba8-e86b06d355e8",
   "metadata": {},
   "outputs": [],
   "source": [
    "assert sol.arrangeCoins(8) == 3"
   ]
  }
 ],
 "metadata": {
  "kernelspec": {
   "display_name": "Python 3 (ipykernel)",
   "language": "python",
   "name": "python3"
  },
  "language_info": {
   "codemirror_mode": {
    "name": "ipython",
    "version": 3
   },
   "file_extension": ".py",
   "mimetype": "text/x-python",
   "name": "python",
   "nbconvert_exporter": "python",
   "pygments_lexer": "ipython3",
   "version": "3.9.7"
  }
 },
 "nbformat": 4,
 "nbformat_minor": 5
}
