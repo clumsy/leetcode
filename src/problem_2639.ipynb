{
 "cells": [
  {
   "cell_type": "markdown",
   "id": "070978c7-595a-4f8e-b8a4-b7d9045aeb17",
   "metadata": {},
   "source": [
    "[Problem 2639](https://leetcode.com/problems/find-the-width-of-columns-of-a-grid/description)"
   ]
  },
  {
   "cell_type": "code",
   "execution_count": 1,
   "id": "e3b748ed-1aa8-4778-801e-8a5f7a0ea18e",
   "metadata": {},
   "outputs": [],
   "source": [
    "from typing import List"
   ]
  },
  {
   "cell_type": "code",
   "execution_count": 2,
   "id": "76601862-48bf-4a8a-926f-be8cd7cffdc3",
   "metadata": {},
   "outputs": [],
   "source": [
    "class Solution:\n",
    "    def findColumnWidth(self, grid: List[List[int]]) -> List[int]:\n",
    "        rows, cols = len(grid), len(grid[0])\n",
    "        res = [0] * cols\n",
    "        for c in range(cols):\n",
    "            for r in range(rows):\n",
    "                res[c] = max(res[c], len(str(grid[r][c])))\n",
    "        return res"
   ]
  },
  {
   "cell_type": "code",
   "execution_count": 3,
   "id": "927c4db0-2db7-4ff6-b4c0-22b59e88c439",
   "metadata": {},
   "outputs": [],
   "source": [
    "sol = Solution()"
   ]
  },
  {
   "cell_type": "code",
   "execution_count": 4,
   "id": "550df29b-5ba3-47e0-8db5-babeacd8cbbb",
   "metadata": {},
   "outputs": [],
   "source": [
    "assert sol.findColumnWidth([[1],[22],[333]]) == [3]"
   ]
  },
  {
   "cell_type": "code",
   "execution_count": 5,
   "id": "2e847453-aeee-4e2c-ba79-ceb03bbd5e13",
   "metadata": {},
   "outputs": [],
   "source": [
    "assert sol.findColumnWidth([[-15,1,3],[15,7,12],[5,6,-2]]) == [3,1,2]"
   ]
  }
 ],
 "metadata": {
  "kernelspec": {
   "display_name": "Python 3 (ipykernel)",
   "language": "python",
   "name": "python3"
  },
  "language_info": {
   "codemirror_mode": {
    "name": "ipython",
    "version": 3
   },
   "file_extension": ".py",
   "mimetype": "text/x-python",
   "name": "python",
   "nbconvert_exporter": "python",
   "pygments_lexer": "ipython3",
   "version": "3.9.7"
  }
 },
 "nbformat": 4,
 "nbformat_minor": 5
}
