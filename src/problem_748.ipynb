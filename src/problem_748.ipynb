{
 "cells": [
  {
   "cell_type": "markdown",
   "id": "f88f8f30-aee4-4cf1-9503-7cec13ec74fa",
   "metadata": {},
   "source": [
    "[Problem 748](https://leetcode.com/problems/shortest-completing-word/description)"
   ]
  },
  {
   "cell_type": "code",
   "execution_count": 2,
   "id": "b056aad6-36d3-424a-89ef-b9a965a83dbb",
   "metadata": {},
   "outputs": [],
   "source": [
    "from typing import List\n",
    "from collections import Counter"
   ]
  },
  {
   "cell_type": "code",
   "execution_count": 3,
   "id": "979e9f1c-7b7e-44d3-b299-f76880a07133",
   "metadata": {},
   "outputs": [],
   "source": [
    "class Solution:\n",
    "    def shortestCompletingWord(self, licensePlate: str, words: List[str]) -> str:\n",
    "        plate = Counter(c.lower() for c in licensePlate if c not in \" 1234567890\")\n",
    "        res = -1\n",
    "        for i, w in enumerate(words):\n",
    "            if res < 0 or len(w) < len(words[res]):\n",
    "                cnt = Counter(w)\n",
    "                cnt.subtract(plate)\n",
    "                if all(v >= 0 for v in cnt.values()):\n",
    "                    res = i      \n",
    "        res = words[res]\n",
    "        return res"
   ]
  },
  {
   "cell_type": "code",
   "execution_count": 4,
   "id": "640dec99-4c1f-48d8-8659-defd7a1f9139",
   "metadata": {},
   "outputs": [],
   "source": [
    "sol = Solution()"
   ]
  },
  {
   "cell_type": "code",
   "execution_count": 5,
   "id": "a99a9b9f-fb0c-4baa-ba16-2827044533d3",
   "metadata": {},
   "outputs": [],
   "source": [
    "assert sol.shortestCompletingWord(\"1s3 PSt\", [\"step\",\"steps\",\"stripe\",\"stepple\"]) == \"steps\""
   ]
  },
  {
   "cell_type": "code",
   "execution_count": 6,
   "id": "d3b94d38-3645-4ba6-ab92-1e395031e418",
   "metadata": {},
   "outputs": [],
   "source": [
    "assert sol.shortestCompletingWord(\"1s3 456\", [\"looks\",\"pest\",\"stew\",\"show\"]) == \"pest\""
   ]
  }
 ],
 "metadata": {
  "kernelspec": {
   "display_name": "Python 3 (ipykernel)",
   "language": "python",
   "name": "python3"
  },
  "language_info": {
   "codemirror_mode": {
    "name": "ipython",
    "version": 3
   },
   "file_extension": ".py",
   "mimetype": "text/x-python",
   "name": "python",
   "nbconvert_exporter": "python",
   "pygments_lexer": "ipython3",
   "version": "3.9.7"
  }
 },
 "nbformat": 4,
 "nbformat_minor": 5
}
