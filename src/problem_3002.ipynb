{
 "cells": [
  {
   "cell_type": "markdown",
   "id": "ad3b0588-d210-43c0-a292-3561c586cac6",
   "metadata": {},
   "source": [
    "[Problem 3002](https://leetcode.com/problems/maximum-size-of-a-set-after-removals/description)"
   ]
  },
  {
   "cell_type": "code",
   "execution_count": 1,
   "id": "efbe431c-f516-42f1-b449-1a52a01cacb2",
   "metadata": {},
   "outputs": [],
   "source": [
    "from typing import List"
   ]
  },
  {
   "cell_type": "code",
   "execution_count": 2,
   "id": "9b58e6b2-240c-461c-91c8-0b159b14681d",
   "metadata": {},
   "outputs": [],
   "source": [
    "class Solution:\n",
    "    def maximumSetSize(self, nums1: List[int], nums2: List[int]) -> int:\n",
    "        s1, s2 = set(nums1), set(nums2)\n",
    "        n1n2 = len(s1 & s2)\n",
    "        n1_n2, n2_n1 = len(s1) - n1n2, len(s2) - n1n2\n",
    "        n = len(nums1)\n",
    "        n1, n2 = min(n // 2, n1_n2), min(n // 2, n2_n1)\n",
    "        n12 = min(n - n1 - n2, n1n2)\n",
    "        res = n1 + n2 + n12\n",
    "        return res"
   ]
  },
  {
   "cell_type": "code",
   "execution_count": 3,
   "id": "c378986e-7679-4734-9aa6-8ed80e97d66c",
   "metadata": {},
   "outputs": [],
   "source": [
    "sol = Solution()"
   ]
  },
  {
   "cell_type": "code",
   "execution_count": 4,
   "id": "cef24748-40ae-43b3-8088-f9d7fd5767b3",
   "metadata": {},
   "outputs": [],
   "source": [
    "assert sol.maximumSetSize([1,2,1,2], [1,1,1,1]) == 2"
   ]
  },
  {
   "cell_type": "code",
   "execution_count": 5,
   "id": "b8e6e2ac-8804-4f9c-b5e7-85f291c1b0aa",
   "metadata": {},
   "outputs": [],
   "source": [
    "assert sol.maximumSetSize([1,2,3,4,5,6], [2,3,2,3,2,3]) == 5"
   ]
  },
  {
   "cell_type": "code",
   "execution_count": 6,
   "id": "54323a2d-f9e2-45e3-8f13-163eb3863735",
   "metadata": {},
   "outputs": [],
   "source": [
    "assert sol.maximumSetSize([1,1,2,2,3,3], [4,4,5,5,6,6]) == 6"
   ]
  }
 ],
 "metadata": {
  "kernelspec": {
   "display_name": "Python 3 (ipykernel)",
   "language": "python",
   "name": "python3"
  },
  "language_info": {
   "codemirror_mode": {
    "name": "ipython",
    "version": 3
   },
   "file_extension": ".py",
   "mimetype": "text/x-python",
   "name": "python",
   "nbconvert_exporter": "python",
   "pygments_lexer": "ipython3",
   "version": "3.9.7"
  }
 },
 "nbformat": 4,
 "nbformat_minor": 5
}
