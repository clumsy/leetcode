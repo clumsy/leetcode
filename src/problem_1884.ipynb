{
 "cells": [
  {
   "cell_type": "markdown",
   "id": "95d365c9-8dcb-4fb4-a44f-aab7e6f72909",
   "metadata": {},
   "source": [
    "[Problem 1884](https://leetcode.com/problems/egg-drop-with-2-eggs-and-n-floors)"
   ]
  },
  {
   "cell_type": "code",
   "execution_count": 2,
   "id": "3c9524eb-bef8-4984-bd18-28eadceb3fd1",
   "metadata": {},
   "outputs": [],
   "source": [
    "class Solution:\n",
    "    def twoEggDrop(self, n: int) -> int:\n",
    "        dp, res = [0] * (n + 1), 0\n",
    "        for i in range(1, n + 1):\n",
    "            dp[i] = dp[i - 1] + 1  # one more than previous level or ...\n",
    "            for j in range(1, i):\n",
    "                # it broke j, checking one by one\n",
    "                # unbroken, solving smaller problem i - j - 1\n",
    "                dp[i] = min(dp[i], 1 + max(j, dp[i - j - 1]))\n",
    "            res = max(res, dp[i])\n",
    "        return dp[n]"
   ]
  },
  {
   "cell_type": "code",
   "execution_count": 3,
   "id": "9ab80e75-7da0-47d3-b067-f8f177f2dd8a",
   "metadata": {},
   "outputs": [],
   "source": [
    "sol = Solution()"
   ]
  },
  {
   "cell_type": "code",
   "execution_count": 4,
   "id": "5a4d1592-431a-40b0-8d3d-4880092f7a56",
   "metadata": {},
   "outputs": [],
   "source": [
    "assert sol.twoEggDrop(2) == 2"
   ]
  },
  {
   "cell_type": "code",
   "execution_count": 5,
   "id": "c71754f0-48dd-4c91-9f82-323fea5d9590",
   "metadata": {},
   "outputs": [],
   "source": [
    "assert sol.twoEggDrop(100) == 14"
   ]
  }
 ],
 "metadata": {
  "kernelspec": {
   "display_name": "Python 3 (ipykernel)",
   "language": "python",
   "name": "python3"
  },
  "language_info": {
   "codemirror_mode": {
    "name": "ipython",
    "version": 3
   },
   "file_extension": ".py",
   "mimetype": "text/x-python",
   "name": "python",
   "nbconvert_exporter": "python",
   "pygments_lexer": "ipython3",
   "version": "3.9.7"
  }
 },
 "nbformat": 4,
 "nbformat_minor": 5
}
