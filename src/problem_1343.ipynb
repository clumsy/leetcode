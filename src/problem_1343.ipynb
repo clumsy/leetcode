{
 "cells": [
  {
   "cell_type": "markdown",
   "id": "125a665d-d079-40a6-a2ad-4d972ff0a2bb",
   "metadata": {},
   "source": [
    "[Problem 1343](https://leetcode.com/problems/number-of-sub-arrays-of-size-k-and-average-greater-than-or-equal-to-threshold/description)"
   ]
  },
  {
   "cell_type": "code",
   "execution_count": 1,
   "id": "22ef63c4-c132-4187-94ac-482c01a4e0fc",
   "metadata": {},
   "outputs": [],
   "source": [
    "from typing import List"
   ]
  },
  {
   "cell_type": "code",
   "execution_count": 2,
   "id": "ccc493c6-51a0-4878-8f76-045e46c0e84a",
   "metadata": {},
   "outputs": [],
   "source": [
    "class Solution:\n",
    "    def numOfSubarrays(self, arr: List[int], k: int, threshold: int) -> int:\n",
    "        s = 0\n",
    "        for i in range(k):\n",
    "            s += arr[i]\n",
    "        res = int(s // k >= threshold)\n",
    "        for i in range(k, len(arr)):\n",
    "            s -= arr[i - k]\n",
    "            s += arr[i]\n",
    "            res += s // k >= threshold\n",
    "        return res"
   ]
  },
  {
   "cell_type": "code",
   "execution_count": 3,
   "id": "8f5266dc-9955-462f-93f0-14bc22f75dec",
   "metadata": {},
   "outputs": [],
   "source": [
    "sol = Solution()"
   ]
  },
  {
   "cell_type": "code",
   "execution_count": 5,
   "id": "57aec991-b70c-4217-a67c-a8046b2317cb",
   "metadata": {},
   "outputs": [],
   "source": [
    "assert sol.numOfSubarrays([2,2,2,2,5,5,5,8], 3, 4) == 3"
   ]
  },
  {
   "cell_type": "code",
   "execution_count": 6,
   "id": "39d7b64f-5af7-427e-8a1b-a3a0ea770883",
   "metadata": {},
   "outputs": [],
   "source": [
    "assert sol.numOfSubarrays([11,13,17,23,29,31,7,5,2,3], 3, 5) == 6"
   ]
  }
 ],
 "metadata": {
  "kernelspec": {
   "display_name": "Python 3 (ipykernel)",
   "language": "python",
   "name": "python3"
  },
  "language_info": {
   "codemirror_mode": {
    "name": "ipython",
    "version": 3
   },
   "file_extension": ".py",
   "mimetype": "text/x-python",
   "name": "python",
   "nbconvert_exporter": "python",
   "pygments_lexer": "ipython3",
   "version": "3.9.7"
  }
 },
 "nbformat": 4,
 "nbformat_minor": 5
}
