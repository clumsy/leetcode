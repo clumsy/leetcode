{
 "cells": [
  {
   "cell_type": "markdown",
   "id": "fe5ef1ba-1610-4ca3-ba53-97f969ecb456",
   "metadata": {},
   "source": [
    "[Problem 1006](https://leetcode.com/problems/clumsy-factorial/description)"
   ]
  },
  {
   "cell_type": "code",
   "execution_count": 1,
   "id": "ef24ef2b-537d-45e4-820e-e426cee3001b",
   "metadata": {},
   "outputs": [],
   "source": [
    "class Solution:\n",
    "    def clumsy(self, n: int) -> int:\n",
    "        res, sign = 0, 1\n",
    "        while n > 3:\n",
    "            res += sign * (n * (n - 1) // (n - 2)) + n - 3\n",
    "            n -= 4\n",
    "            sign = -1\n",
    "        if n > 2:\n",
    "            res += sign * (n * (n - 1) // (n - 2))\n",
    "        elif n > 1:\n",
    "            res += sign * n * (n - 1)\n",
    "        else:\n",
    "            res += sign * n\n",
    "        return res"
   ]
  },
  {
   "cell_type": "code",
   "execution_count": 2,
   "id": "c38238b3-7143-45b1-be05-97e54216dc48",
   "metadata": {},
   "outputs": [],
   "source": [
    "sol = Solution()"
   ]
  },
  {
   "cell_type": "code",
   "execution_count": 3,
   "id": "98798eb9-fba3-478c-9135-814cc46136ae",
   "metadata": {},
   "outputs": [],
   "source": [
    "assert sol.clumsy(4) == 7"
   ]
  },
  {
   "cell_type": "code",
   "execution_count": 4,
   "id": "e2e0de82-d1e5-461d-b010-3fa5fe20272e",
   "metadata": {},
   "outputs": [],
   "source": [
    "assert sol.clumsy(10) == 12"
   ]
  }
 ],
 "metadata": {
  "kernelspec": {
   "display_name": "Python 3 (ipykernel)",
   "language": "python",
   "name": "python3"
  },
  "language_info": {
   "codemirror_mode": {
    "name": "ipython",
    "version": 3
   },
   "file_extension": ".py",
   "mimetype": "text/x-python",
   "name": "python",
   "nbconvert_exporter": "python",
   "pygments_lexer": "ipython3",
   "version": "3.9.7"
  }
 },
 "nbformat": 4,
 "nbformat_minor": 5
}
