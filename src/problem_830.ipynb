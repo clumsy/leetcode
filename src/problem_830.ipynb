{
 "cells": [
  {
   "cell_type": "markdown",
   "id": "44dc8d04-2497-416c-9701-b7facb5603aa",
   "metadata": {},
   "source": [
    "[Problem 830](https://leetcode.com/problems/positions-of-large-groups/description)"
   ]
  },
  {
   "cell_type": "code",
   "execution_count": 1,
   "id": "90b355a9-3e90-4543-a315-1761067ddc3f",
   "metadata": {},
   "outputs": [],
   "source": [
    "from typing import List"
   ]
  },
  {
   "cell_type": "code",
   "execution_count": 2,
   "id": "81bee803-2457-415a-b742-7e2067d87847",
   "metadata": {},
   "outputs": [],
   "source": [
    "class Solution:\n",
    "    def largeGroupPositions(self, s: str) -> List[List[int]]:\n",
    "        res, n, i = [], len(s), 0\n",
    "        while i < n:\n",
    "            e = i\n",
    "            while e < n and s[e] == s[i]:\n",
    "                e += 1\n",
    "            if e - i >= 3:\n",
    "                res.append([i, e - 1])\n",
    "            i = e\n",
    "        return res"
   ]
  },
  {
   "cell_type": "code",
   "execution_count": 3,
   "id": "9c9b3569-f2f3-4b4f-8785-c28d0c6d1be8",
   "metadata": {},
   "outputs": [],
   "source": [
    "sol = Solution()"
   ]
  },
  {
   "cell_type": "code",
   "execution_count": 4,
   "id": "b0b1b5e3-edc1-4b38-9351-1c06500f198b",
   "metadata": {},
   "outputs": [],
   "source": [
    "assert sol.largeGroupPositions(\"abbxxxxzzy\") == [[3,6]]"
   ]
  },
  {
   "cell_type": "code",
   "execution_count": 5,
   "id": "9f4d99f5-c308-4fc0-8881-478f801eca33",
   "metadata": {},
   "outputs": [],
   "source": [
    "assert sol.largeGroupPositions(\"abc\") == []"
   ]
  },
  {
   "cell_type": "code",
   "execution_count": 6,
   "id": "39b6d1fd-6b5e-4e90-b92d-6a0080820353",
   "metadata": {},
   "outputs": [],
   "source": [
    "assert sol.largeGroupPositions(\"abcdddeeeeaabbbcd\") == [[3,5],[6,9],[12,14]]"
   ]
  }
 ],
 "metadata": {
  "kernelspec": {
   "display_name": "Python 3 (ipykernel)",
   "language": "python",
   "name": "python3"
  },
  "language_info": {
   "codemirror_mode": {
    "name": "ipython",
    "version": 3
   },
   "file_extension": ".py",
   "mimetype": "text/x-python",
   "name": "python",
   "nbconvert_exporter": "python",
   "pygments_lexer": "ipython3",
   "version": "3.9.7"
  }
 },
 "nbformat": 4,
 "nbformat_minor": 5
}
