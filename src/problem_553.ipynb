{
 "cells": [
  {
   "cell_type": "markdown",
   "id": "e1be831d-1858-4c4f-ac6a-9e688ac68024",
   "metadata": {},
   "source": [
    "[Problem 553](https://leetcode.com/problems/optimal-division/description)"
   ]
  },
  {
   "cell_type": "code",
   "execution_count": 1,
   "id": "610f8f2a-f759-48d7-a49d-ba295bba7c6b",
   "metadata": {},
   "outputs": [],
   "source": [
    "from typing import List"
   ]
  },
  {
   "cell_type": "code",
   "execution_count": 2,
   "id": "99765616-013f-4d7c-b4ca-9c3a4ddc85f2",
   "metadata": {},
   "outputs": [],
   "source": [
    "class Solution:\n",
    "    def optimalDivision(self, nums: List[int]) -> str:\n",
    "        n = len(nums)\n",
    "        if n == 1:\n",
    "            res = f\"{nums[0]}\"\n",
    "        elif n == 2:\n",
    "            res = f\"{nums[0]}/{nums[1]}\"\n",
    "        else:\n",
    "            res = f\"{nums[0]}/(\" + \"/\".join(str(i) for i in nums[1:]) + \")\"\n",
    "        return res"
   ]
  },
  {
   "cell_type": "code",
   "execution_count": 3,
   "id": "3b20cf9f-e7e7-4ee9-afc9-9fc1e5d467dc",
   "metadata": {},
   "outputs": [],
   "source": [
    "sol = Solution()"
   ]
  },
  {
   "cell_type": "code",
   "execution_count": 4,
   "id": "09bccaa0-8b9c-42fd-b2fe-c1d5596e882f",
   "metadata": {},
   "outputs": [],
   "source": [
    "assert sol.optimalDivision([1000,100,10,2]) == \"1000/(100/10/2)\""
   ]
  },
  {
   "cell_type": "code",
   "execution_count": 5,
   "id": "6a1606a8-71af-41b2-86d1-8b1f70beab8d",
   "metadata": {},
   "outputs": [],
   "source": [
    "assert sol.optimalDivision([2,3,4]) == \"2/(3/4)\""
   ]
  }
 ],
 "metadata": {
  "kernelspec": {
   "display_name": "Python 3 (ipykernel)",
   "language": "python",
   "name": "python3"
  },
  "language_info": {
   "codemirror_mode": {
    "name": "ipython",
    "version": 3
   },
   "file_extension": ".py",
   "mimetype": "text/x-python",
   "name": "python",
   "nbconvert_exporter": "python",
   "pygments_lexer": "ipython3",
   "version": "3.9.7"
  }
 },
 "nbformat": 4,
 "nbformat_minor": 5
}
