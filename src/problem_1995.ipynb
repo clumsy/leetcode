{
 "cells": [
  {
   "cell_type": "markdown",
   "id": "65f7dd25-c45b-42c4-9e76-77e4146d0267",
   "metadata": {},
   "source": [
    "[Problem 1995](https://leetcode.com/problems/count-special-quadruplets/description)"
   ]
  },
  {
   "cell_type": "code",
   "execution_count": 5,
   "id": "f6f41fbf-9cfc-4e39-9456-8a97caba2342",
   "metadata": {},
   "outputs": [],
   "source": [
    "from typing import List\n",
    "from collections import Counter"
   ]
  },
  {
   "cell_type": "code",
   "execution_count": 6,
   "id": "ba34e577-0f56-41fd-91b1-ddeca87e7390",
   "metadata": {},
   "outputs": [],
   "source": [
    "class Solution:\n",
    "    def countQuadruplets(self, nums: List[int]) -> int:\n",
    "        n, res = len(nums), 0\n",
    "        seen = Counter()\n",
    "        # i splits in two chunks, one with nums[a] + nums[b] and nums[d] - nums[c]\n",
    "        # we will populate nums[d] - nums[c], so starting iteration from right\n",
    "        for i in range(n - 2, 1, -1):\n",
    "            # c == i\n",
    "            for d in range(i + 1, n):\n",
    "                seen[nums[d] - nums[i]] += 1\n",
    "            # b == i - 1\n",
    "            for a in range(i - 1):\n",
    "                res += seen[nums[a] + nums[i - 1]]\n",
    "        return res"
   ]
  },
  {
   "cell_type": "code",
   "execution_count": 7,
   "id": "0ae4ed25-b808-4c8c-809b-dba229974745",
   "metadata": {},
   "outputs": [],
   "source": [
    "sol = Solution()"
   ]
  },
  {
   "cell_type": "code",
   "execution_count": 8,
   "id": "b42993e3-2706-4f15-a921-998e63512537",
   "metadata": {},
   "outputs": [],
   "source": [
    "assert sol.countQuadruplets([1,2,3,6]) == 1"
   ]
  },
  {
   "cell_type": "code",
   "execution_count": 9,
   "id": "ff7dbd38-7511-48b5-8614-ca37b7dec2be",
   "metadata": {},
   "outputs": [],
   "source": [
    "assert sol.countQuadruplets([3,3,6,4,5]) == 0"
   ]
  },
  {
   "cell_type": "code",
   "execution_count": 10,
   "id": "2d4956f8-695a-4335-8fc9-122719e53d31",
   "metadata": {},
   "outputs": [],
   "source": [
    "assert sol.countQuadruplets([1,1,1,3,5]) == 4"
   ]
  }
 ],
 "metadata": {
  "kernelspec": {
   "display_name": "Python 3 (ipykernel)",
   "language": "python",
   "name": "python3"
  },
  "language_info": {
   "codemirror_mode": {
    "name": "ipython",
    "version": 3
   },
   "file_extension": ".py",
   "mimetype": "text/x-python",
   "name": "python",
   "nbconvert_exporter": "python",
   "pygments_lexer": "ipython3",
   "version": "3.9.7"
  }
 },
 "nbformat": 4,
 "nbformat_minor": 5
}
