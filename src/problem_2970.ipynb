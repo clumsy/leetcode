{
 "cells": [
  {
   "cell_type": "markdown",
   "id": "cfe029c0-7dbd-4288-93cf-a8cc4b1ae47f",
   "metadata": {},
   "source": [
    "[Problem 2970](https://leetcode.com/problems/count-the-number-of-incremovable-subarrays-i/description)"
   ]
  },
  {
   "cell_type": "code",
   "execution_count": 1,
   "id": "5625979b-844a-45b7-a33f-eb95d8595604",
   "metadata": {},
   "outputs": [],
   "source": [
    "from typing import List\n",
    "from math import inf"
   ]
  },
  {
   "cell_type": "code",
   "execution_count": 2,
   "id": "c9c49d21-8017-4359-be60-1c8d1250cf05",
   "metadata": {},
   "outputs": [],
   "source": [
    "class Solution:\n",
    "    def incremovableSubarrayCount(self, nums: List[int]) -> int:\n",
    "        n = len(nums)\n",
    "        res = 0\n",
    "        lo = -inf\n",
    "        for i in range(n):\n",
    "            res += 1  # can remove [i:]\n",
    "            hi = inf\n",
    "            for j in range(i + 1, n)[::-1]:\n",
    "                if not (lo < nums[j] < hi):\n",
    "                    break\n",
    "                res += 1  # can remove [i:j]\n",
    "                hi = nums[j]\n",
    "            if nums[i] <= lo:\n",
    "                break\n",
    "            lo = nums[i]\n",
    "        return res"
   ]
  },
  {
   "cell_type": "code",
   "execution_count": 3,
   "id": "e2f00004-02a0-46d0-8387-11aad69f9822",
   "metadata": {},
   "outputs": [],
   "source": [
    "sol = Solution()"
   ]
  },
  {
   "cell_type": "code",
   "execution_count": 4,
   "id": "6e2c05c5-80e6-4d40-8cb4-53533765115a",
   "metadata": {},
   "outputs": [],
   "source": [
    "assert sol.incremovableSubarrayCount([1,2,3,4]) == 10"
   ]
  },
  {
   "cell_type": "code",
   "execution_count": 5,
   "id": "1c82531f-ef27-47eb-8a4f-74d4d2bd94ef",
   "metadata": {},
   "outputs": [],
   "source": [
    "assert sol.incremovableSubarrayCount([6,5,7,8]) == 7"
   ]
  },
  {
   "cell_type": "code",
   "execution_count": 6,
   "id": "dc41f98b-804f-4d37-8674-88b57308c8c2",
   "metadata": {},
   "outputs": [],
   "source": [
    "assert sol.incremovableSubarrayCount([8,7,6,6]) == 3"
   ]
  }
 ],
 "metadata": {
  "kernelspec": {
   "display_name": "Python 3 (ipykernel)",
   "language": "python",
   "name": "python3"
  },
  "language_info": {
   "codemirror_mode": {
    "name": "ipython",
    "version": 3
   },
   "file_extension": ".py",
   "mimetype": "text/x-python",
   "name": "python",
   "nbconvert_exporter": "python",
   "pygments_lexer": "ipython3",
   "version": "3.9.7"
  }
 },
 "nbformat": 4,
 "nbformat_minor": 5
}
