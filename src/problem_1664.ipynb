{
 "cells": [
  {
   "cell_type": "markdown",
   "id": "c1d2c28e-a719-4569-b101-a5fcfb3ded09",
   "metadata": {},
   "source": [
    "[Problem 1664](https://leetcode.com/problems/ways-to-make-a-fair-array/description)"
   ]
  },
  {
   "cell_type": "code",
   "execution_count": 1,
   "id": "d24ad926-0b47-44f8-86a4-995b4427343d",
   "metadata": {},
   "outputs": [],
   "source": [
    "from typing import List"
   ]
  },
  {
   "cell_type": "code",
   "execution_count": 2,
   "id": "94690d9b-5e85-4849-82e1-03534fcdd347",
   "metadata": {},
   "outputs": [],
   "source": [
    "class Solution:\n",
    "    def waysToMakeFair(self, nums: List[int]) -> int:\n",
    "        n = len(nums)\n",
    "        lft, rgt = [[0] * 2 for _ in range(n)], [[0] * 2 for _ in range(n)]\n",
    "        for i in range(n):\n",
    "            lft[i][i & 1] = nums[i] + (lft[i - 2][i & 1] if i > 1 else 0)\n",
    "            lft[i][1 - i & 1] = lft[i - 1][1 - i & 1] if i > 0 else 0\n",
    "            j = n - 1 - i\n",
    "            rgt[j][j & 1] = nums[j] + (rgt[j + 2][j & 1] if j < n - 2 else 0)\n",
    "            rgt[j][1 - j & 1] = rgt[j + 1][1 - j & 1] if j < n - 1 else 0\n",
    "        res = 0\n",
    "        for i in range(n):\n",
    "            even = (lft[i - 1][0] if i > 0 else 0) + (rgt[i + 1][1] if i < n - 1 else 0)\n",
    "            odd  = (lft[i - 1][1] if i > 0 else 0) + (rgt[i + 1][0] if i < n - 1 else 0)\n",
    "            res += even == odd\n",
    "        return res"
   ]
  },
  {
   "cell_type": "code",
   "execution_count": 3,
   "id": "89628bb8-cca2-4050-b13f-1951e534fb39",
   "metadata": {},
   "outputs": [],
   "source": [
    "class Solution:\n",
    "    def waysToMakeFair(self, nums: List[int]) -> int:\n",
    "        n = len(nums)\n",
    "        lft, rgt = [0] * 2, [0] * 2\n",
    "        for i in range(n):\n",
    "            rgt[i & 1] += nums[i]\n",
    "        res = 0\n",
    "        for i in range(n):\n",
    "            rgt[i & 1] -= nums[i]\n",
    "            res += lft[0] + rgt[1] == lft[1] + rgt[0]\n",
    "            lft[i & 1] += nums[i]\n",
    "        return res"
   ]
  },
  {
   "cell_type": "code",
   "execution_count": 4,
   "id": "8f582ef2-b920-4828-ba6f-5a1caafde248",
   "metadata": {},
   "outputs": [],
   "source": [
    "sol = Solution()"
   ]
  },
  {
   "cell_type": "code",
   "execution_count": 5,
   "id": "5f1ed634-ea47-417e-aee8-761d49e61fd7",
   "metadata": {},
   "outputs": [],
   "source": [
    "assert sol.waysToMakeFair([2,1,6,4]) == 1"
   ]
  },
  {
   "cell_type": "code",
   "execution_count": 6,
   "id": "6f8a52b2-3246-43c7-9e05-160053340a38",
   "metadata": {},
   "outputs": [],
   "source": [
    "assert sol.waysToMakeFair([1,1,1]) == 3"
   ]
  },
  {
   "cell_type": "code",
   "execution_count": 7,
   "id": "51eeba24-20e5-4a3d-b984-64fe35043efe",
   "metadata": {},
   "outputs": [],
   "source": [
    "assert sol.waysToMakeFair([1,2,3]) == 0"
   ]
  }
 ],
 "metadata": {
  "kernelspec": {
   "display_name": "Python 3 (ipykernel)",
   "language": "python",
   "name": "python3"
  },
  "language_info": {
   "codemirror_mode": {
    "name": "ipython",
    "version": 3
   },
   "file_extension": ".py",
   "mimetype": "text/x-python",
   "name": "python",
   "nbconvert_exporter": "python",
   "pygments_lexer": "ipython3",
   "version": "3.9.7"
  }
 },
 "nbformat": 4,
 "nbformat_minor": 5
}
