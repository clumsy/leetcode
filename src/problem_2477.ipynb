{
 "cells": [
  {
   "cell_type": "markdown",
   "id": "b6f38bd9-297c-4ed1-8cba-d939eb620dc4",
   "metadata": {},
   "source": [
    "[Problem 2477](https://leetcode.com/problems/minimum-fuel-cost-to-report-to-the-capital/description)"
   ]
  },
  {
   "cell_type": "code",
   "execution_count": 5,
   "id": "d86b4153-1f1a-47ca-9f43-795a33daa6fe",
   "metadata": {},
   "outputs": [],
   "source": [
    "from typing import List\n",
    "from collections import defaultdict"
   ]
  },
  {
   "cell_type": "code",
   "execution_count": 6,
   "id": "343f823a-4db0-40cd-a32a-879a6fc3c3fe",
   "metadata": {},
   "outputs": [],
   "source": [
    "class Solution:\n",
    "    def minimumFuelCost(self, roads: List[List[int]], seats: int) -> int:\n",
    "        edges = defaultdict(list)\n",
    "        for road in roads:\n",
    "            edges[road[0]].append(road[1])\n",
    "            edges[road[1]].append(road[0])\n",
    "        \n",
    "        def dfs(p, v, res):\n",
    "            reprs = 0\n",
    "            for u in edges[v]:\n",
    "                if u != p:\n",
    "                    res, child_reprs = dfs(v, u, res)\n",
    "                    reprs += child_reprs\n",
    "\n",
    "            if v == p:\n",
    "                return res\n",
    "\n",
    "            reprs += 1\n",
    "            return res + (reprs + seats - 1) // seats, reprs\n",
    "\n",
    "        res = dfs(0, 0, 0)\n",
    "        return res"
   ]
  },
  {
   "cell_type": "code",
   "execution_count": 7,
   "id": "daf8da0f-3925-4bbb-92bb-906dcbca3d82",
   "metadata": {},
   "outputs": [],
   "source": [
    "sol = Solution()"
   ]
  },
  {
   "cell_type": "code",
   "execution_count": 8,
   "id": "bcc8189f-1799-4721-90bf-f966fa8db396",
   "metadata": {},
   "outputs": [],
   "source": [
    "assert sol.minimumFuelCost([[0,1],[0,2],[0,3]], 5) == 3"
   ]
  },
  {
   "cell_type": "code",
   "execution_count": 9,
   "id": "c7193d32-7b16-4393-a7b1-bb027b81b907",
   "metadata": {},
   "outputs": [],
   "source": [
    "assert sol.minimumFuelCost([[3,1],[3,2],[1,0],[0,4],[0,5],[4,6]], 2) == 7"
   ]
  },
  {
   "cell_type": "code",
   "execution_count": 10,
   "id": "b2b42a93-63b6-4871-b98b-08b20b598059",
   "metadata": {},
   "outputs": [],
   "source": [
    "assert sol.minimumFuelCost([], 1) == 0"
   ]
  }
 ],
 "metadata": {
  "kernelspec": {
   "display_name": "Python 3 (ipykernel)",
   "language": "python",
   "name": "python3"
  },
  "language_info": {
   "codemirror_mode": {
    "name": "ipython",
    "version": 3
   },
   "file_extension": ".py",
   "mimetype": "text/x-python",
   "name": "python",
   "nbconvert_exporter": "python",
   "pygments_lexer": "ipython3",
   "version": "3.9.7"
  }
 },
 "nbformat": 4,
 "nbformat_minor": 5
}
