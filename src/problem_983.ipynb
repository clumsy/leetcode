{
 "cells": [
  {
   "cell_type": "markdown",
   "id": "4e094100-e4f8-40b2-89ba-6e48cd585dde",
   "metadata": {},
   "source": [
    "[Problem 983](https://leetcode.com/problems/minimum-cost-for-tickets/description)"
   ]
  },
  {
   "cell_type": "code",
   "execution_count": 1,
   "id": "9ed9efaa-7f66-472c-a0d9-9f9c05ca9b7c",
   "metadata": {},
   "outputs": [],
   "source": [
    "from typing import List"
   ]
  },
  {
   "cell_type": "code",
   "execution_count": 2,
   "id": "207e20e4-ed48-478b-a6dc-c546341eb779",
   "metadata": {},
   "outputs": [],
   "source": [
    "class Solution:\n",
    "    def mincostTickets(self, days: List[int], costs: List[int]) -> int:\n",
    "        travel = set(days)\n",
    "        dp = [0] * (days[-1] + 1)\n",
    "        for i in range(1, len(dp)):\n",
    "            dp[i] = min(dp[max(0, i - d)] + c for d, c in zip([1, 7, 30], costs)) if i in travel else dp[max(0, i - 1)]\n",
    "        res = dp[days[-1]]\n",
    "        return res"
   ]
  },
  {
   "cell_type": "code",
   "execution_count": 3,
   "id": "73d8ce74-7dec-4bbc-ba35-aad96f85294a",
   "metadata": {},
   "outputs": [],
   "source": [
    "from collections import deque"
   ]
  },
  {
   "cell_type": "code",
   "execution_count": 4,
   "id": "89434595-9689-4514-b275-34999f3fb7c0",
   "metadata": {},
   "outputs": [],
   "source": [
    "class Solution:\n",
    "    def mincostTickets(self, days: List[int], costs: List[int]) -> int:\n",
    "        res, last7, last30 = 0, deque(), deque()\n",
    "        for d in days:\n",
    "            while last7 and d - last7[0][0] >= 7:\n",
    "                last7.popleft()\n",
    "            last7.append((d, res + costs[1]))\n",
    "            while last30 and d - last30[0][0] >= 30:\n",
    "                last30.popleft()\n",
    "            last30.append((d, res + costs[2]))\n",
    "            res = min(res + costs[0], last7[0][1], last30[0][1])\n",
    "        return res"
   ]
  },
  {
   "cell_type": "code",
   "execution_count": 5,
   "id": "25102d42-1557-4137-b556-6389e9d36ffe",
   "metadata": {},
   "outputs": [],
   "source": [
    "sol = Solution()"
   ]
  },
  {
   "cell_type": "code",
   "execution_count": 6,
   "id": "45874715-4247-40d1-b3cb-ab3aa7f6a45c",
   "metadata": {},
   "outputs": [],
   "source": [
    "assert sol.mincostTickets([1,4,6,7,8,20], [2,7,15]) == 11"
   ]
  },
  {
   "cell_type": "code",
   "execution_count": 7,
   "id": "dd5e408d-36e6-44ea-b9e3-1e115d23aaec",
   "metadata": {},
   "outputs": [],
   "source": [
    "assert sol.mincostTickets([1,2,3,4,5,6,7,8,9,10,30,31], [2,7,15]) == 17"
   ]
  }
 ],
 "metadata": {
  "kernelspec": {
   "display_name": "Python 3 (ipykernel)",
   "language": "python",
   "name": "python3"
  },
  "language_info": {
   "codemirror_mode": {
    "name": "ipython",
    "version": 3
   },
   "file_extension": ".py",
   "mimetype": "text/x-python",
   "name": "python",
   "nbconvert_exporter": "python",
   "pygments_lexer": "ipython3",
   "version": "3.9.7"
  }
 },
 "nbformat": 4,
 "nbformat_minor": 5
}
