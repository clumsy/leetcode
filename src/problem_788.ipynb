{
 "cells": [
  {
   "cell_type": "markdown",
   "id": "b98f0b2c-7960-4082-b7ef-bc99a9d878ee",
   "metadata": {},
   "source": [
    "[Problem 788](https://leetcode.com/problems/rotated-digits/description)"
   ]
  },
  {
   "cell_type": "code",
   "execution_count": 1,
   "id": "c24a5abe-693d-4072-87df-6c683cb7f628",
   "metadata": {},
   "outputs": [],
   "source": [
    "class Solution:\n",
    "    def rotatedDigits(self, n: int) -> int:\n",
    "        def valid(x):\n",
    "            changed = bad = False\n",
    "            while x:\n",
    "                x, d = divmod(x, 10)\n",
    "                changed |= d in {2, 5, 6, 9}\n",
    "                bad |= d in {3, 4, 7}\n",
    "            return changed and not bad\n",
    "        res = sum(valid(i + 1) for i in range(n))\n",
    "        return res"
   ]
  },
  {
   "cell_type": "code",
   "execution_count": 2,
   "id": "ab73a9e3-2d52-4b01-8fb9-f71bab109faa",
   "metadata": {},
   "outputs": [],
   "source": [
    "sol = Solution()"
   ]
  },
  {
   "cell_type": "code",
   "execution_count": 3,
   "id": "f47afa52-0450-43fd-9249-5d973d167da3",
   "metadata": {},
   "outputs": [],
   "source": [
    "assert sol.rotatedDigits(10) == 4"
   ]
  },
  {
   "cell_type": "code",
   "execution_count": 4,
   "id": "202df066-33b2-42e7-8441-3d798fe40f50",
   "metadata": {},
   "outputs": [],
   "source": [
    "assert sol.rotatedDigits(1) == 0"
   ]
  },
  {
   "cell_type": "code",
   "execution_count": 5,
   "id": "e90c7345-52c7-4b2b-8f8a-3d63f6314908",
   "metadata": {},
   "outputs": [],
   "source": [
    "assert sol.rotatedDigits(2) == 1"
   ]
  }
 ],
 "metadata": {
  "kernelspec": {
   "display_name": "Python 3 (ipykernel)",
   "language": "python",
   "name": "python3"
  },
  "language_info": {
   "codemirror_mode": {
    "name": "ipython",
    "version": 3
   },
   "file_extension": ".py",
   "mimetype": "text/x-python",
   "name": "python",
   "nbconvert_exporter": "python",
   "pygments_lexer": "ipython3",
   "version": "3.9.7"
  }
 },
 "nbformat": 4,
 "nbformat_minor": 5
}
