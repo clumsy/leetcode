{
 "cells": [
  {
   "cell_type": "markdown",
   "id": "4a826372-b518-4268-ab40-748f46964733",
   "metadata": {},
   "source": [
    "[Problem 1882](https://leetcode.com/problems/sign-of-the-product-of-an-array/description)"
   ]
  },
  {
   "cell_type": "code",
   "execution_count": 1,
   "id": "567dbccc-ff6d-4a63-9632-1a12de683f30",
   "metadata": {},
   "outputs": [],
   "source": [
    "from typing import List"
   ]
  },
  {
   "cell_type": "code",
   "execution_count": 2,
   "id": "5d742c3b-371c-4a7c-a0b7-8be0f4357957",
   "metadata": {},
   "outputs": [],
   "source": [
    "class Solution:\n",
    "    def arraySign(self, nums: List[int]) -> int:\n",
    "        res = 1\n",
    "        for num in nums:\n",
    "            if num == 0:\n",
    "                res = 0\n",
    "                break\n",
    "            res *= 1 if num > 0 else -1\n",
    "        return res"
   ]
  },
  {
   "cell_type": "code",
   "execution_count": 3,
   "id": "9592aaf6-5b37-41ab-9750-11db5a88bb86",
   "metadata": {},
   "outputs": [],
   "source": [
    "sol = Solution()"
   ]
  },
  {
   "cell_type": "code",
   "execution_count": 4,
   "id": "2e0df648-9487-4bd2-aab7-c1696e707c64",
   "metadata": {},
   "outputs": [],
   "source": [
    "assert sol.arraySign([-1,-2,-3,-4,3,2,1]) == 1"
   ]
  },
  {
   "cell_type": "code",
   "execution_count": 5,
   "id": "a635403f-42b5-4081-bde6-c3f1998ed42a",
   "metadata": {},
   "outputs": [],
   "source": [
    "assert sol.arraySign([1,5,0,2,-3]) == 0"
   ]
  },
  {
   "cell_type": "code",
   "execution_count": 6,
   "id": "ce9c2665-1118-4077-98f0-d527d34c542f",
   "metadata": {},
   "outputs": [],
   "source": [
    "assert sol.arraySign([-1,1,-1,1,-1]) == -1"
   ]
  }
 ],
 "metadata": {
  "kernelspec": {
   "display_name": "Python 3 (ipykernel)",
   "language": "python",
   "name": "python3"
  },
  "language_info": {
   "codemirror_mode": {
    "name": "ipython",
    "version": 3
   },
   "file_extension": ".py",
   "mimetype": "text/x-python",
   "name": "python",
   "nbconvert_exporter": "python",
   "pygments_lexer": "ipython3",
   "version": "3.9.7"
  }
 },
 "nbformat": 4,
 "nbformat_minor": 5
}
