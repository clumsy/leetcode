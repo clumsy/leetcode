{
 "cells": [
  {
   "cell_type": "markdown",
   "id": "b02bb3b8-81d3-44b0-b896-662c93847cec",
   "metadata": {},
   "source": [
    "[Problem 2428](https://leetcode.com/problems/maximum-sum-of-an-hourglass/description)"
   ]
  },
  {
   "cell_type": "code",
   "execution_count": 1,
   "id": "0a950165-9341-4033-aaf9-4518b374b94e",
   "metadata": {},
   "outputs": [],
   "source": [
    "from typing import List"
   ]
  },
  {
   "cell_type": "code",
   "execution_count": 2,
   "id": "3a7ca0a9-ad3d-4efa-9bce-c907a1979ea7",
   "metadata": {},
   "outputs": [],
   "source": [
    "class Solution:\n",
    "    def maxSum(self, grid: List[List[int]]) -> int:\n",
    "        res, rows, cols = 0, len(grid), len(grid[0])\n",
    "        for r in range(rows - 2):\n",
    "            for c in range(cols - 2):\n",
    "                cur = (\n",
    "                    grid[r][c] + grid[r][c + 1] + grid[r][c + 2] + \n",
    "                        grid[r + 1][c + 1] +\n",
    "                    grid[r + 2][c] + grid[r + 2][c + 1] + grid[r + 2][c + 2]\n",
    "                )\n",
    "                res = max(res, cur)\n",
    "        return res"
   ]
  },
  {
   "cell_type": "code",
   "execution_count": 3,
   "id": "1486547f-a7d5-4851-b234-b3c0e076b2ff",
   "metadata": {},
   "outputs": [],
   "source": [
    "sol = Solution()"
   ]
  },
  {
   "cell_type": "code",
   "execution_count": 4,
   "id": "02d3dd13-bb25-457d-9e9b-9d8e0e041d80",
   "metadata": {},
   "outputs": [],
   "source": [
    "assert sol.maxSum([[6,2,1,3],[4,2,1,5],[9,2,8,7],[4,1,2,9]]) == 30"
   ]
  },
  {
   "cell_type": "code",
   "execution_count": 5,
   "id": "e487bfd5-d0da-4491-ab4c-3a1c25b0a8cf",
   "metadata": {},
   "outputs": [],
   "source": [
    "assert sol.maxSum([[1,2,3],[4,5,6],[7,8,9]]) == 35"
   ]
  }
 ],
 "metadata": {
  "kernelspec": {
   "display_name": "Python 3 (ipykernel)",
   "language": "python",
   "name": "python3"
  },
  "language_info": {
   "codemirror_mode": {
    "name": "ipython",
    "version": 3
   },
   "file_extension": ".py",
   "mimetype": "text/x-python",
   "name": "python",
   "nbconvert_exporter": "python",
   "pygments_lexer": "ipython3",
   "version": "3.9.7"
  }
 },
 "nbformat": 4,
 "nbformat_minor": 5
}
