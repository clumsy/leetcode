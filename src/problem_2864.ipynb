{
 "cells": [
  {
   "cell_type": "markdown",
   "id": "c2c0dd65-a7e6-4ae6-99f0-491c35c86eb3",
   "metadata": {},
   "source": [
    "[Problem 2864](https://leetcode.com/problems/maximum-odd-binary-number/description)"
   ]
  },
  {
   "cell_type": "code",
   "execution_count": 1,
   "id": "22c052db-bf46-48ce-a120-d324393b2929",
   "metadata": {},
   "outputs": [],
   "source": [
    "class Solution:\n",
    "    def maximumOddBinaryNumber(self, s: str) -> str:\n",
    "        n, ones = len(s), s.count(\"1\")\n",
    "        res = \"1\" * (ones - 1) + \"0\" * (n - ones) + \"1\"\n",
    "        return res"
   ]
  },
  {
   "cell_type": "code",
   "execution_count": 2,
   "id": "740ae152-3099-4e29-a372-4ffde9fa0c3c",
   "metadata": {},
   "outputs": [],
   "source": [
    "sol = Solution()"
   ]
  },
  {
   "cell_type": "code",
   "execution_count": 3,
   "id": "ed1a2e56-6d4b-47fa-ba6a-d24258875f85",
   "metadata": {},
   "outputs": [],
   "source": [
    "assert sol.maximumOddBinaryNumber(\"010\") == \"001\""
   ]
  },
  {
   "cell_type": "code",
   "execution_count": 4,
   "id": "87d46313-573f-4655-9c60-62118dfa83a1",
   "metadata": {},
   "outputs": [],
   "source": [
    "assert sol.maximumOddBinaryNumber(\"0101\") == \"1001\""
   ]
  }
 ],
 "metadata": {
  "kernelspec": {
   "display_name": "Python 3 (ipykernel)",
   "language": "python",
   "name": "python3"
  },
  "language_info": {
   "codemirror_mode": {
    "name": "ipython",
    "version": 3
   },
   "file_extension": ".py",
   "mimetype": "text/x-python",
   "name": "python",
   "nbconvert_exporter": "python",
   "pygments_lexer": "ipython3",
   "version": "3.9.7"
  }
 },
 "nbformat": 4,
 "nbformat_minor": 5
}
