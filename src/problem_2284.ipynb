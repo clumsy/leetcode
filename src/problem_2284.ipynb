{
 "cells": [
  {
   "cell_type": "markdown",
   "id": "a456fc7a-dc48-42e2-8f64-73376d0f3b4a",
   "metadata": {},
   "source": [
    "[Problem 2284](https://leetcode.com/problems/sender-with-largest-word-count/description)"
   ]
  },
  {
   "cell_type": "code",
   "execution_count": 1,
   "id": "a5924594-4d84-45e6-997d-9cb8e868d94f",
   "metadata": {},
   "outputs": [],
   "source": [
    "from typing import List\n",
    "from collections import Counter"
   ]
  },
  {
   "cell_type": "code",
   "execution_count": 2,
   "id": "59aa6255-46cf-4a8f-b219-4c12e5b7064c",
   "metadata": {},
   "outputs": [],
   "source": [
    "class Solution:\n",
    "    def largestWordCount(self, messages: List[str], senders: List[str]) -> str:\n",
    "        res, cnt = None, Counter()\n",
    "        for i in range(len(messages)):\n",
    "            cnt[(s := senders[i])] += messages[i].count(\" \") + 1\n",
    "            if not res or cnt[s] >= cnt[res]:\n",
    "                res = max(res, s) if res and cnt[s] == cnt[res] else s\n",
    "        return res"
   ]
  },
  {
   "cell_type": "code",
   "execution_count": 3,
   "id": "c7bceb0b-b8ba-425f-9248-f1ced14091d0",
   "metadata": {},
   "outputs": [],
   "source": [
    "sol = Solution()"
   ]
  },
  {
   "cell_type": "code",
   "execution_count": 4,
   "id": "f285092e-748c-43d0-8a2d-d9b612f53bd4",
   "metadata": {},
   "outputs": [],
   "source": [
    "assert sol.largestWordCount([\"Hello userTwooo\",\"Hi userThree\",\"Wonderful day Alice\",\"Nice day userThree\"], [\"Alice\",\"userTwo\",\"userThree\",\"Alice\"]) == \"Alice\""
   ]
  },
  {
   "cell_type": "code",
   "execution_count": 5,
   "id": "c2e95342-ff47-46cb-a6ee-93010eef469d",
   "metadata": {},
   "outputs": [],
   "source": [
    "assert sol.largestWordCount([\"How is leetcode for everyone\",\"Leetcode is useful for practice\"], [\"Bob\",\"Charlie\"]) == \"Charlie\""
   ]
  }
 ],
 "metadata": {
  "kernelspec": {
   "display_name": "Python 3 (ipykernel)",
   "language": "python",
   "name": "python3"
  },
  "language_info": {
   "codemirror_mode": {
    "name": "ipython",
    "version": 3
   },
   "file_extension": ".py",
   "mimetype": "text/x-python",
   "name": "python",
   "nbconvert_exporter": "python",
   "pygments_lexer": "ipython3",
   "version": "3.9.7"
  }
 },
 "nbformat": 4,
 "nbformat_minor": 5
}
