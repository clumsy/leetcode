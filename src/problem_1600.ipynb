{
 "cells": [
  {
   "cell_type": "markdown",
   "id": "d800fe00-f2d3-4f8d-aa39-da44eb326cc3",
   "metadata": {},
   "source": [
    "[Problem 1600](https://leetcode.com/problems/throne-inheritance/description)"
   ]
  },
  {
   "cell_type": "code",
   "execution_count": 2,
   "id": "51c0d6dd-2758-4213-a795-3f1cc5b51427",
   "metadata": {},
   "outputs": [],
   "source": [
    "from typing import List\n",
    "from collections import deque"
   ]
  },
  {
   "cell_type": "code",
   "execution_count": 3,
   "id": "dc50b588-8555-4de7-b22f-a9f516e3b016",
   "metadata": {},
   "outputs": [],
   "source": [
    "class Node():\n",
    "    def __init__(self, name):\n",
    "        self.name = name\n",
    "        self.childs = []\n",
    "\n",
    "class ThroneInheritance:\n",
    "    def __init__(self, kingName: str):\n",
    "        self.dead = set()\n",
    "        self.king = Node(kingName)\n",
    "        self.family = {kingName: self.king}\n",
    "\n",
    "    def birth(self, parentName: str, childName: str) -> None:\n",
    "        child = Node(childName)\n",
    "        self.family[parentName].childs.append(child)\n",
    "        self.family[childName] = child\n",
    "\n",
    "    def death(self, name: str) -> None:\n",
    "        self.dead.add(name)\n",
    "\n",
    "    def getInheritanceOrder(self) -> List[str]:\n",
    "        res, st = [], deque([self.king])\n",
    "        while st:\n",
    "            cur = st.popleft()\n",
    "            if cur.name not in self.dead:\n",
    "                res.append(cur.name)\n",
    "            for c in cur.childs[::-1]:\n",
    "                st.appendleft(c)\n",
    "        return res"
   ]
  },
  {
   "cell_type": "code",
   "execution_count": 5,
   "id": "21f7972d-ecfd-486c-ab44-8164cd6b3cc7",
   "metadata": {},
   "outputs": [],
   "source": [
    "sol = ThroneInheritance(\"king\")\n",
    "sol.birth(\"king\", \"andy\")\n",
    "sol.birth(\"king\", \"bob\")\n",
    "sol.birth(\"king\", \"catherine\")\n",
    "sol.birth(\"andy\", \"matthew\")\n",
    "sol.birth(\"bob\", \"alex\")\n",
    "sol.birth(\"bob\", \"asha\")\n",
    "assert sol.getInheritanceOrder() == [\"king\", \"andy\", \"matthew\", \"bob\", \"alex\", \"asha\", \"catherine\"]\n",
    "sol.death(\"bob\")\n",
    "assert sol.getInheritanceOrder() == [\"king\", \"andy\", \"matthew\", \"alex\", \"asha\", \"catherine\"]"
   ]
  }
 ],
 "metadata": {
  "kernelspec": {
   "display_name": "Python 3 (ipykernel)",
   "language": "python",
   "name": "python3"
  },
  "language_info": {
   "codemirror_mode": {
    "name": "ipython",
    "version": 3
   },
   "file_extension": ".py",
   "mimetype": "text/x-python",
   "name": "python",
   "nbconvert_exporter": "python",
   "pygments_lexer": "ipython3",
   "version": "3.9.7"
  }
 },
 "nbformat": 4,
 "nbformat_minor": 5
}
