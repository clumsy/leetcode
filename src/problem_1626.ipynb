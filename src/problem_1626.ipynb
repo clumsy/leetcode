{
 "cells": [
  {
   "cell_type": "markdown",
   "id": "3936c544-755a-40fc-8473-2e222f0179f9",
   "metadata": {},
   "source": [
    "[Problem 1626](https://leetcode.com/problems/best-team-with-no-conflicts)"
   ]
  },
  {
   "cell_type": "code",
   "execution_count": 2,
   "id": "98afebc1-cd14-43f8-98ff-710aec9980c8",
   "metadata": {},
   "outputs": [],
   "source": [
    "from typing import List"
   ]
  },
  {
   "cell_type": "code",
   "execution_count": 3,
   "id": "9885c899-a303-4542-b6a2-86b4abbab044",
   "metadata": {},
   "outputs": [],
   "source": [
    "class Solution:\n",
    "    def bestTeamScore(self, scores: List[int], ages: List[int]) -> int:\n",
    "        n = len(scores)\n",
    "        order = range(n)\n",
    "        order = sorted(order, key=lambda x:(ages[x],scores[x]))\n",
    "        dp = [0]*n  # dp[i] = max sum in [0:i] if ith is taken\n",
    "        for e in range(n):\n",
    "            dp[e] = scores[order[e]]  # e-th is taken\n",
    "            for s in range(e):\n",
    "                if scores[order[e]] >= scores[order[s]]:  # can take s-th\n",
    "                    dp[e] = max(dp[e], dp[s] + scores[order[e]])\n",
    "        return max(dp)"
   ]
  },
  {
   "cell_type": "code",
   "execution_count": 4,
   "id": "19ed8719-5bea-4f0f-9bda-89eb6899b2be",
   "metadata": {},
   "outputs": [],
   "source": [
    "sol = Solution()"
   ]
  },
  {
   "cell_type": "code",
   "execution_count": 5,
   "id": "5351badf-9022-4771-90bd-2d1e84f6422d",
   "metadata": {},
   "outputs": [],
   "source": [
    "assert sol.bestTeamScore([1,3,5,10,15], [1,2,3,4,5]) == 34"
   ]
  },
  {
   "cell_type": "code",
   "execution_count": 6,
   "id": "69022423-91f6-4376-91e5-4c60d41a41ab",
   "metadata": {},
   "outputs": [],
   "source": [
    "assert sol.bestTeamScore([4,5,6,5], [2,1,2,1]) == 16"
   ]
  },
  {
   "cell_type": "code",
   "execution_count": 8,
   "id": "f6ef7e12-50dc-41b7-a5f4-bdc4b66f28bc",
   "metadata": {},
   "outputs": [],
   "source": [
    "assert sol.bestTeamScore([1,2,3,5], [8,9,10,1]) == 6"
   ]
  }
 ],
 "metadata": {
  "kernelspec": {
   "display_name": "Python 3 (ipykernel)",
   "language": "python",
   "name": "python3"
  },
  "language_info": {
   "codemirror_mode": {
    "name": "ipython",
    "version": 3
   },
   "file_extension": ".py",
   "mimetype": "text/x-python",
   "name": "python",
   "nbconvert_exporter": "python",
   "pygments_lexer": "ipython3",
   "version": "3.9.7"
  }
 },
 "nbformat": 4,
 "nbformat_minor": 5
}
