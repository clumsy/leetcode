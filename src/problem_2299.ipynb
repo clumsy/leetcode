{
 "cells": [
  {
   "cell_type": "markdown",
   "id": "4c9bb744-07a6-4d6d-9c05-ebc74d6f7813",
   "metadata": {},
   "source": [
    "[Problem 2299](https://leetcode.com/problems/strong-password-checker-ii/description)"
   ]
  },
  {
   "cell_type": "code",
   "execution_count": 1,
   "id": "9309aa4b-4616-4714-846c-b555d4469896",
   "metadata": {},
   "outputs": [],
   "source": [
    "class Solution:\n",
    "    def strongPasswordCheckerII(self, password: str) -> bool:\n",
    "        has_length = len(password) >= 8\n",
    "        has_lower = has_upper = has_special = has_digit = False\n",
    "        no_same = True\n",
    "        for i, c in enumerate(password):\n",
    "            has_lower |= c.islower()\n",
    "            has_upper |= c.isupper()\n",
    "            has_digit |= c.isdigit()\n",
    "            has_special |= c in \"!@#$%^&*()-+\"\n",
    "            no_same &= c != password[i - 1] if i > 0 else no_same\n",
    "        res = has_length and has_lower and has_upper and has_digit and has_special and no_same\n",
    "        return res"
   ]
  },
  {
   "cell_type": "code",
   "execution_count": 2,
   "id": "01143318-1e65-42b9-8e76-b9c67116b3df",
   "metadata": {},
   "outputs": [],
   "source": [
    "sol = Solution()"
   ]
  },
  {
   "cell_type": "code",
   "execution_count": 3,
   "id": "904c40ca-a9f2-45a4-9651-b9e6991798ba",
   "metadata": {},
   "outputs": [],
   "source": [
    "assert sol.strongPasswordCheckerII(\"IloveLe3tcode!\")"
   ]
  },
  {
   "cell_type": "code",
   "execution_count": 4,
   "id": "c3986457-5746-4312-8b15-30bebea28245",
   "metadata": {},
   "outputs": [],
   "source": [
    "assert not sol.strongPasswordCheckerII(\"Me+You--IsMyDream\")"
   ]
  },
  {
   "cell_type": "code",
   "execution_count": 5,
   "id": "1ffe8653-8cf7-4afb-86ec-ba0c045e7b0a",
   "metadata": {},
   "outputs": [],
   "source": [
    "assert not sol.strongPasswordCheckerII(\"1aB!\")"
   ]
  }
 ],
 "metadata": {
  "kernelspec": {
   "display_name": "Python 3 (ipykernel)",
   "language": "python",
   "name": "python3"
  },
  "language_info": {
   "codemirror_mode": {
    "name": "ipython",
    "version": 3
   },
   "file_extension": ".py",
   "mimetype": "text/x-python",
   "name": "python",
   "nbconvert_exporter": "python",
   "pygments_lexer": "ipython3",
   "version": "3.9.7"
  }
 },
 "nbformat": 4,
 "nbformat_minor": 5
}
