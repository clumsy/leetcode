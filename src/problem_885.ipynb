{
 "cells": [
  {
   "cell_type": "markdown",
   "id": "68352ab0-727e-41fb-8c69-40a41aa47bb1",
   "metadata": {},
   "source": [
    "[Problem 885](https://leetcode.com/problems/spiral-matrix-iii/description)"
   ]
  },
  {
   "cell_type": "code",
   "execution_count": 2,
   "id": "b8bc8324-cccd-4c4d-92c1-cfc0e7c6d7b7",
   "metadata": {},
   "outputs": [],
   "source": [
    "from typing import List"
   ]
  },
  {
   "cell_type": "code",
   "execution_count": 3,
   "id": "56347a72-1cbb-449a-88f1-1c645f9e1d98",
   "metadata": {},
   "outputs": [],
   "source": [
    "class Solution:\n",
    "    def spiralMatrixIII(self, rows: int, cols: int, r: int, c: int) -> List[List[int]]:\n",
    "        res = [[r, c]]\n",
    "        d = [\n",
    "            [0, 1],\n",
    "            [1, 0],\n",
    "            [0, -1],\n",
    "            [-1, 0],\n",
    "        ]\n",
    "        l, k = 1, 0\n",
    "        while len(res) < rows * cols:\n",
    "            for _ in range(2):\n",
    "                for _ in range(1, l + 1):\n",
    "                    r, c = r + d[k][0], c + d[k][1]\n",
    "                    if 0 <= r < rows and 0 <= c < cols:\n",
    "                        res.append([r, c])\n",
    "                k = (k + 1) % len(d)\n",
    "            l += 1\n",
    "        return res"
   ]
  },
  {
   "cell_type": "code",
   "execution_count": 4,
   "id": "fe93941d-39fe-4d6d-9d15-3c6d01914a1b",
   "metadata": {},
   "outputs": [],
   "source": [
    "sol = Solution()"
   ]
  },
  {
   "cell_type": "code",
   "execution_count": 5,
   "id": "abef514d-c07e-4e94-a3df-51e82a426227",
   "metadata": {},
   "outputs": [],
   "source": [
    "assert sol.spiralMatrixIII(1,4,0,0) == [[0,0],[0,1],[0,2],[0,3]]"
   ]
  },
  {
   "cell_type": "code",
   "execution_count": 6,
   "id": "fb9088a3-68e7-4276-bdef-4bbe8a7d6e49",
   "metadata": {},
   "outputs": [],
   "source": [
    "assert sol.spiralMatrixIII(5,6,1,4) == [[1,4],[1,5],[2,5],[2,4],[2,3],[1,3],[0,3],[0,4],[0,5],[3,5],[3,4],[3,3],[3,2],[2,2],[1,2],[0,2],[4,5],[4,4],[4,3],[4,2],[4,1],[3,1],[2,1],[1,1],[0,1],[4,0],[3,0],[2,0],[1,0],[0,0]]"
   ]
  }
 ],
 "metadata": {
  "kernelspec": {
   "display_name": "Python 3 (ipykernel)",
   "language": "python",
   "name": "python3"
  },
  "language_info": {
   "codemirror_mode": {
    "name": "ipython",
    "version": 3
   },
   "file_extension": ".py",
   "mimetype": "text/x-python",
   "name": "python",
   "nbconvert_exporter": "python",
   "pygments_lexer": "ipython3",
   "version": "3.9.7"
  }
 },
 "nbformat": 4,
 "nbformat_minor": 5
}
