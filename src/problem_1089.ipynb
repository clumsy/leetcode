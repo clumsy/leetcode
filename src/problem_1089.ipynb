{
 "cells": [
  {
   "cell_type": "markdown",
   "id": "6ffd2222-f51d-4b9a-80e2-72a5a6db9aa3",
   "metadata": {},
   "source": [
    "[Problem 1089](https://leetcode.com/problems/duplicate-zeros/description)"
   ]
  },
  {
   "cell_type": "code",
   "execution_count": 1,
   "id": "2e2ecd8d-35db-4629-aa4d-5cc7a5342ba1",
   "metadata": {},
   "outputs": [],
   "source": [
    "from typing import List"
   ]
  },
  {
   "cell_type": "code",
   "execution_count": 2,
   "id": "c6f1bc2d-b7e2-4108-bd2c-6a155895d682",
   "metadata": {},
   "outputs": [],
   "source": [
    "class Solution:\n",
    "    def duplicateZeros(self, arr: List[int]) -> None:\n",
    "        \"\"\"\n",
    "        Do not return anything, modify arr in-place instead.\n",
    "        \"\"\"\n",
    "        n = len(arr)\n",
    "        i = z = 0\n",
    "        while i + z < n:\n",
    "            z += arr[i] == 0\n",
    "            i += 1\n",
    "        i -= 1\n",
    "        while z > 0:\n",
    "            if i + z < n:\n",
    "                arr[i + z] = arr[i]\n",
    "            if arr[i] == 0:\n",
    "                z -= 1\n",
    "                arr[i + z] = arr[i]\n",
    "            i -= 1"
   ]
  },
  {
   "cell_type": "code",
   "execution_count": 3,
   "id": "bc0daaec-ced4-4c27-95c0-2c11d3961ab5",
   "metadata": {},
   "outputs": [],
   "source": [
    "sol = Solution()"
   ]
  },
  {
   "cell_type": "code",
   "execution_count": 4,
   "id": "5d282ac9-1d90-4a2d-a2ea-e3e5f914f8ce",
   "metadata": {},
   "outputs": [],
   "source": [
    "input = [1,0,2,3,0,4,5,0]\n",
    "sol.duplicateZeros(input)\n",
    "assert input == [1,0,0,2,3,0,0,4]"
   ]
  },
  {
   "cell_type": "code",
   "execution_count": 5,
   "id": "414ee35b-dd8c-4bd7-8f9f-d1dbe1037ac2",
   "metadata": {},
   "outputs": [],
   "source": [
    "input = [1,2,3]\n",
    "sol.duplicateZeros(input)\n",
    "assert input == [1,2,3]"
   ]
  }
 ],
 "metadata": {
  "kernelspec": {
   "display_name": "Python 3 (ipykernel)",
   "language": "python",
   "name": "python3"
  },
  "language_info": {
   "codemirror_mode": {
    "name": "ipython",
    "version": 3
   },
   "file_extension": ".py",
   "mimetype": "text/x-python",
   "name": "python",
   "nbconvert_exporter": "python",
   "pygments_lexer": "ipython3",
   "version": "3.9.7"
  }
 },
 "nbformat": 4,
 "nbformat_minor": 5
}
