{
 "cells": [
  {
   "cell_type": "markdown",
   "id": "695fb52a-f605-499a-86bc-80eb9bedae57",
   "metadata": {},
   "source": [
    "[Problem 944](https://leetcode.com/problems/delete-columns-to-make-sorted/description)"
   ]
  },
  {
   "cell_type": "code",
   "execution_count": 1,
   "id": "78428722-957f-4dcb-b629-82918eeb3cd5",
   "metadata": {},
   "outputs": [],
   "source": [
    "from typing import List"
   ]
  },
  {
   "cell_type": "code",
   "execution_count": 2,
   "id": "fbb547e1-4c16-442b-947a-f8ab8fb06b52",
   "metadata": {},
   "outputs": [],
   "source": [
    "class Solution:\n",
    "    def minDeletionSize(self, strs: List[str]) -> int:\n",
    "        res = 0\n",
    "        for c in range(len(strs[0])):\n",
    "            for r in range(1, len(strs)):\n",
    "                if strs[r][c] < strs[r - 1][c]:\n",
    "                    res += 1\n",
    "                    break\n",
    "        return res"
   ]
  },
  {
   "cell_type": "code",
   "execution_count": 3,
   "id": "bb5ecc0e-bdb5-4990-96e4-ad6d0a959ebe",
   "metadata": {},
   "outputs": [],
   "source": [
    "sol = Solution()"
   ]
  },
  {
   "cell_type": "code",
   "execution_count": 4,
   "id": "632d681d-c479-4196-9d49-7294819e791a",
   "metadata": {},
   "outputs": [],
   "source": [
    "assert sol.minDeletionSize([\"cba\",\"daf\",\"ghi\"]) == 1"
   ]
  },
  {
   "cell_type": "code",
   "execution_count": 5,
   "id": "4c0b670d-0b93-4571-b7df-d3b1d7382f2b",
   "metadata": {},
   "outputs": [],
   "source": [
    "assert sol.minDeletionSize([\"a\",\"b\"]) == 0"
   ]
  },
  {
   "cell_type": "code",
   "execution_count": 6,
   "id": "ddf9f818-2393-443f-acab-3e59bcbd60d1",
   "metadata": {},
   "outputs": [],
   "source": [
    "assert sol.minDeletionSize([\"zyx\",\"wvu\",\"tsr\"]) == 3"
   ]
  }
 ],
 "metadata": {
  "kernelspec": {
   "display_name": "Python 3 (ipykernel)",
   "language": "python",
   "name": "python3"
  },
  "language_info": {
   "codemirror_mode": {
    "name": "ipython",
    "version": 3
   },
   "file_extension": ".py",
   "mimetype": "text/x-python",
   "name": "python",
   "nbconvert_exporter": "python",
   "pygments_lexer": "ipython3",
   "version": "3.9.7"
  }
 },
 "nbformat": 4,
 "nbformat_minor": 5
}
