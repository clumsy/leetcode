{
 "cells": [
  {
   "cell_type": "markdown",
   "id": "1cb373bf-3ffd-441c-a5a8-b62615bd99a5",
   "metadata": {},
   "source": [
    "[Problem 2196](https://leetcode.com/problems/create-binary-tree-from-descriptions/description)"
   ]
  },
  {
   "cell_type": "code",
   "execution_count": 1,
   "id": "eca66ea6-591f-4b16-bb7c-a46aba966d03",
   "metadata": {},
   "outputs": [],
   "source": [
    "# Definition for a binary tree node.\n",
    "class TreeNode:\n",
    "    def __init__(self, val=0, left=None, right=None):\n",
    "        self.val = val\n",
    "        self.left = left\n",
    "        self.right = right\n",
    "    \n",
    "    def __eq__(self, other):\n",
    "        return other and self.val == other.val and self.left == other.left and self.right == other.right"
   ]
  },
  {
   "cell_type": "code",
   "execution_count": 2,
   "id": "a99683cc-270c-449a-8ea5-e1de24304c11",
   "metadata": {},
   "outputs": [],
   "source": [
    "from typing import Optional, List"
   ]
  },
  {
   "cell_type": "code",
   "execution_count": 3,
   "id": "6aa43863-5b72-494c-bcc7-971ea2cbf4d2",
   "metadata": {},
   "outputs": [],
   "source": [
    "class Solution:\n",
    "    def createBinaryTree(self, descriptions: List[List[int]]) -> Optional[TreeNode]:\n",
    "        nodes, clds = {}, set()\n",
    "        for pnt, cld, lft in descriptions:\n",
    "            p, c = nodes.setdefault(pnt, TreeNode(pnt)), nodes.setdefault(cld, TreeNode(cld))\n",
    "            clds.add(cld)\n",
    "            if lft:\n",
    "                p.left = c\n",
    "            else:\n",
    "                p.right = c\n",
    "        res = nodes[(set(nodes) - clds).pop()]\n",
    "        return res"
   ]
  },
  {
   "cell_type": "code",
   "execution_count": 4,
   "id": "c14e3304-42a2-4a6b-ae5c-8c151c0c9707",
   "metadata": {},
   "outputs": [],
   "source": [
    "sol = Solution()"
   ]
  },
  {
   "cell_type": "code",
   "execution_count": 5,
   "id": "4cda6f2d-68ee-4573-861c-dec3c8414a1f",
   "metadata": {},
   "outputs": [],
   "source": [
    "from collections import deque\n",
    "\n",
    "null = None  # to use Leetcode samples as is\n",
    "\n",
    "def tree(values):\n",
    "    if not values:\n",
    "        return null\n",
    "    root = TreeNode(values[0])\n",
    "    queue = deque()\n",
    "    queue.append(root)\n",
    "    queue.append(None)\n",
    "    length = len(values)\n",
    "    i = 0\n",
    "    while queue:\n",
    "        current = queue.popleft()\n",
    "        if current:\n",
    "            i += 1\n",
    "            if i < length and values[i]:\n",
    "                current.left = TreeNode(values[i])\n",
    "                queue.append(current.left)\n",
    "            i += 1\n",
    "            if i < length and values[i]:\n",
    "                current.right = TreeNode(values[i])\n",
    "                queue.append(current.right)\n",
    "            if i == length:\n",
    "                return root\n",
    "        else:\n",
    "            if queue:\n",
    "                queue.append(None)\n",
    "    return root"
   ]
  },
  {
   "cell_type": "code",
   "execution_count": 6,
   "id": "98a5192c-a1b6-46b3-a040-c1b96fe21a38",
   "metadata": {},
   "outputs": [],
   "source": [
    "assert sol.createBinaryTree([[20,15,1],[20,17,0],[50,20,1],[50,80,0],[80,19,1]]) == tree([50,20,80,15,17,19])"
   ]
  },
  {
   "cell_type": "code",
   "execution_count": 7,
   "id": "9cdb51d3-8b2a-4ac2-a96b-01d8bd4cbbf6",
   "metadata": {},
   "outputs": [],
   "source": [
    "assert sol.createBinaryTree([[1,2,1],[2,3,0],[3,4,1]]) == tree([1,2,null,null,3,4])"
   ]
  }
 ],
 "metadata": {
  "kernelspec": {
   "display_name": "Python 3 (ipykernel)",
   "language": "python",
   "name": "python3"
  },
  "language_info": {
   "codemirror_mode": {
    "name": "ipython",
    "version": 3
   },
   "file_extension": ".py",
   "mimetype": "text/x-python",
   "name": "python",
   "nbconvert_exporter": "python",
   "pygments_lexer": "ipython3",
   "version": "3.9.7"
  }
 },
 "nbformat": 4,
 "nbformat_minor": 5
}
