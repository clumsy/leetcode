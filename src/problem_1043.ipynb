{
 "cells": [
  {
   "cell_type": "markdown",
   "id": "47437d98-7aa9-4e79-950a-901692ec8323",
   "metadata": {},
   "source": [
    "[Problem 1043](https://leetcode.com/problems/partition-array-for-maximum-sum/description)"
   ]
  },
  {
   "cell_type": "code",
   "execution_count": 1,
   "id": "9cd0911c-8abe-454c-a376-25b3f98d65e8",
   "metadata": {},
   "outputs": [],
   "source": [
    "from typing import List"
   ]
  },
  {
   "cell_type": "code",
   "execution_count": 2,
   "id": "4f272702-aaf7-4797-9064-cf27c705f2ac",
   "metadata": {},
   "outputs": [],
   "source": [
    "class Solution:\n",
    "    def maxSumAfterPartitioning(self, arr: List[int], k: int) -> int:\n",
    "        n = len(arr)\n",
    "        dp = [0] * n  # dp[max index seen so far] = max sum\n",
    "        for i in range(n):\n",
    "            max_val = 0\n",
    "            for j in range(min(i + 1, k)):\n",
    "                max_val = max(max_val, arr[i - j])\n",
    "                dp[i] = max(dp[i], (dp[i - j - 1] if i - j > 0 else 0) + max_val * (j + 1))\n",
    "        res = dp[-1]\n",
    "        return res "
   ]
  },
  {
   "cell_type": "code",
   "execution_count": 3,
   "id": "75c76fb2-6234-4dd1-a5ee-f4afd68b7961",
   "metadata": {},
   "outputs": [],
   "source": [
    "sol = Solution()"
   ]
  },
  {
   "cell_type": "code",
   "execution_count": 4,
   "id": "bf3bf3eb-c499-4d0a-b0ca-4e34b3801760",
   "metadata": {},
   "outputs": [],
   "source": [
    "assert sol.maxSumAfterPartitioning([1,15,7,9,2,5,10], 3) == 84"
   ]
  },
  {
   "cell_type": "code",
   "execution_count": 5,
   "id": "292b7764-b761-490b-b9d1-616a158752b5",
   "metadata": {},
   "outputs": [],
   "source": [
    "assert sol.maxSumAfterPartitioning([1,4,1,5,7,3,6,1,9,9,3], 4) == 83"
   ]
  },
  {
   "cell_type": "code",
   "execution_count": 6,
   "id": "2c6d7587-02c6-4e2b-9025-a337791616bf",
   "metadata": {},
   "outputs": [],
   "source": [
    "assert sol.maxSumAfterPartitioning([1], 1) == 1"
   ]
  }
 ],
 "metadata": {
  "kernelspec": {
   "display_name": "Python 3 (ipykernel)",
   "language": "python",
   "name": "python3"
  },
  "language_info": {
   "codemirror_mode": {
    "name": "ipython",
    "version": 3
   },
   "file_extension": ".py",
   "mimetype": "text/x-python",
   "name": "python",
   "nbconvert_exporter": "python",
   "pygments_lexer": "ipython3",
   "version": "3.9.7"
  }
 },
 "nbformat": 4,
 "nbformat_minor": 5
}
