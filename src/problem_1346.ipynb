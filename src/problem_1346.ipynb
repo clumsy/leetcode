{
 "cells": [
  {
   "cell_type": "markdown",
   "id": "267528de-752d-46ca-8d73-e7789b0e0618",
   "metadata": {},
   "source": [
    "[Problem 1346](https://leetcode.com/problems/check-if-n-and-its-double-exist/)"
   ]
  },
  {
   "cell_type": "code",
   "execution_count": 2,
   "id": "727ac759-eecb-49e4-9407-09850199f79a",
   "metadata": {},
   "outputs": [],
   "source": [
    "from typing import List"
   ]
  },
  {
   "cell_type": "code",
   "execution_count": 5,
   "id": "f6f888c5-7712-40dc-b460-7041d1205420",
   "metadata": {},
   "outputs": [],
   "source": [
    "class Solution:\n",
    "    def checkIfExist(self, arr: List[int]) -> bool:\n",
    "        a = defaultdict(int)\n",
    "        for i in arr:\n",
    "            a[i] += 1\n",
    "        for i in a.keys():\n",
    "            t = i * (2 if i >= 0 else 1/2)\n",
    "            if a.get(t, -1) >= (1 if i != 0 else 2):\n",
    "                return True\n",
    "        return False"
   ]
  },
  {
   "cell_type": "code",
   "execution_count": 6,
   "id": "4f7e4a55-7142-465a-bf7f-529075e668b8",
   "metadata": {},
   "outputs": [],
   "source": [
    "class Solution:\n",
    "    def checkIfExist(self, arr: List[int]) -> bool:\n",
    "        arr, n = sorted(arr), len(arr)\n",
    "        for i in range(n - 1):\n",
    "            if i > 0 and arr[i] == arr[i - 1]:\n",
    "                continue\n",
    "            lo, hi = i + 1, n - 1\n",
    "            t = arr[i] * (2 if arr[i] >= 0 else 1/2)\n",
    "            while lo < hi:\n",
    "                mi = lo + (hi - lo) // 2\n",
    "                if arr[mi] >= t:\n",
    "                    hi = mi\n",
    "                else:\n",
    "                    lo = mi + 1\n",
    "            if arr[lo] == t:\n",
    "                return True\n",
    "        return False"
   ]
  },
  {
   "cell_type": "code",
   "execution_count": 7,
   "id": "4b98df94-a810-4b59-9cfe-41ef0cc734b3",
   "metadata": {},
   "outputs": [],
   "source": [
    "sol = Solution()"
   ]
  },
  {
   "cell_type": "code",
   "execution_count": 8,
   "id": "e6903dcf-089a-42ad-a948-52b2da4006b6",
   "metadata": {},
   "outputs": [],
   "source": [
    "assert sol.checkIfExist([10,2,5,3])"
   ]
  },
  {
   "cell_type": "code",
   "execution_count": 10,
   "id": "11c89e7b-0f5d-4e05-8773-dbcae744ef0d",
   "metadata": {},
   "outputs": [],
   "source": [
    "assert not sol.checkIfExist([3,1,7,11])"
   ]
  }
 ],
 "metadata": {
  "kernelspec": {
   "display_name": "Python 3 (ipykernel)",
   "language": "python",
   "name": "python3"
  },
  "language_info": {
   "codemirror_mode": {
    "name": "ipython",
    "version": 3
   },
   "file_extension": ".py",
   "mimetype": "text/x-python",
   "name": "python",
   "nbconvert_exporter": "python",
   "pygments_lexer": "ipython3",
   "version": "3.9.7"
  }
 },
 "nbformat": 4,
 "nbformat_minor": 5
}
