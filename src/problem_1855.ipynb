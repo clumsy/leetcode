{
 "cells": [
  {
   "cell_type": "markdown",
   "id": "40503dc1-20af-482f-9bde-900a627056f7",
   "metadata": {},
   "source": [
    "[Problem 1855](https://leetcode.com/problems/maximum-distance-between-a-pair-of-values/)"
   ]
  },
  {
   "cell_type": "code",
   "execution_count": 2,
   "id": "3c87b3e7-2040-4d46-9688-e1a07af5eb94",
   "metadata": {},
   "outputs": [],
   "source": [
    "from typing import List"
   ]
  },
  {
   "cell_type": "code",
   "execution_count": 3,
   "id": "45fddb82-7886-402b-babb-fbafae3a5cb1",
   "metadata": {},
   "outputs": [],
   "source": [
    "class Solution:\n",
    "    def maxDistance(self, nums1: List[int], nums2: List[int]) -> int:\n",
    "        res, n1, n2 = 0, len(nums1), len(nums2)\n",
    "        for i in range(n1):\n",
    "            if n2 - i < res:\n",
    "                break\n",
    "            lo, hi = 0, n2 - 1\n",
    "            while lo < hi:\n",
    "                mi = hi - (hi - lo) // 2\n",
    "                if nums2[mi] < nums1[i]:\n",
    "                    hi = mi - 1\n",
    "                else:\n",
    "                    lo = mi\n",
    "            res = max(res, lo - i)\n",
    "        return res"
   ]
  },
  {
   "cell_type": "code",
   "execution_count": 4,
   "id": "5f2d340f-700d-4664-a166-36d00f1653b2",
   "metadata": {},
   "outputs": [],
   "source": [
    "sol = Solution()"
   ]
  },
  {
   "cell_type": "code",
   "execution_count": 5,
   "id": "5b0c3a86-f608-4b05-9278-e38d36589de8",
   "metadata": {},
   "outputs": [],
   "source": [
    "assert sol.maxDistance([55,30,5,4,2], [100,20,10,10,5]) == 2"
   ]
  },
  {
   "cell_type": "code",
   "execution_count": 6,
   "id": "51dfa4a2-fb8d-4663-a27d-fb1c00ac183f",
   "metadata": {},
   "outputs": [],
   "source": [
    "assert sol.maxDistance([2,2,2], [10,10,1]) == 1"
   ]
  },
  {
   "cell_type": "code",
   "execution_count": 7,
   "id": "0ab5b6c8-a470-4e68-82d8-da497387ba1e",
   "metadata": {},
   "outputs": [],
   "source": [
    "assert sol.maxDistance([30,29,19,5], [25,25,25,25,25]) == 2"
   ]
  }
 ],
 "metadata": {
  "kernelspec": {
   "display_name": "Python 3 (ipykernel)",
   "language": "python",
   "name": "python3"
  },
  "language_info": {
   "codemirror_mode": {
    "name": "ipython",
    "version": 3
   },
   "file_extension": ".py",
   "mimetype": "text/x-python",
   "name": "python",
   "nbconvert_exporter": "python",
   "pygments_lexer": "ipython3",
   "version": "3.9.7"
  }
 },
 "nbformat": 4,
 "nbformat_minor": 5
}
