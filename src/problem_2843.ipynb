{
 "cells": [
  {
   "cell_type": "markdown",
   "id": "ccab2a00-c840-4bd6-bdfe-f7d4ad6b8e58",
   "metadata": {},
   "source": [
    "[Problem 2843](https://leetcode.com/problems/count-symmetric-integers/description)"
   ]
  },
  {
   "cell_type": "code",
   "execution_count": 1,
   "id": "7c903fc4-0965-4d72-b047-2e6537f0af73",
   "metadata": {},
   "outputs": [],
   "source": [
    "class Solution:\n",
    "    def countSymmetricIntegers(self, low: int, high: int) -> int:\n",
    "        res = 0\n",
    "        for i in range(low, high + 1):\n",
    "            s = str(i)\n",
    "            if len(s) & 1 == 0 and 2 * sum(int(d) for d in s[:len(s)//2]) == sum(int(d) for d in s):\n",
    "                res += 1\n",
    "        return res"
   ]
  },
  {
   "cell_type": "code",
   "execution_count": 2,
   "id": "399da59b-f564-4046-88b4-8a603f80ca83",
   "metadata": {},
   "outputs": [],
   "source": [
    "sol = Solution()"
   ]
  },
  {
   "cell_type": "code",
   "execution_count": 3,
   "id": "9591b316-e568-422a-8344-0d61d3ef9a76",
   "metadata": {},
   "outputs": [],
   "source": [
    "assert sol.countSymmetricIntegers(1, 100) == 9"
   ]
  },
  {
   "cell_type": "code",
   "execution_count": 4,
   "id": "ac765e4b-8118-4aa2-aab2-e994e13d7d85",
   "metadata": {},
   "outputs": [],
   "source": [
    "assert sol.countSymmetricIntegers(1200, 1230) == 4"
   ]
  }
 ],
 "metadata": {
  "kernelspec": {
   "display_name": "Python 3 (ipykernel)",
   "language": "python",
   "name": "python3"
  },
  "language_info": {
   "codemirror_mode": {
    "name": "ipython",
    "version": 3
   },
   "file_extension": ".py",
   "mimetype": "text/x-python",
   "name": "python",
   "nbconvert_exporter": "python",
   "pygments_lexer": "ipython3",
   "version": "3.9.7"
  }
 },
 "nbformat": 4,
 "nbformat_minor": 5
}
