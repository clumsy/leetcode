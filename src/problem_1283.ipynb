{
 "cells": [
  {
   "cell_type": "markdown",
   "id": "0f03778a-c99e-4cf0-b451-953b4e709b69",
   "metadata": {},
   "source": [
    "[Problem 1283](https://leetcode.com/problems/find-the-smallest-divisor-given-a-threshold/)"
   ]
  },
  {
   "cell_type": "code",
   "execution_count": 5,
   "id": "c88e70cb-bd09-4617-8f2b-f012fb292134",
   "metadata": {},
   "outputs": [],
   "source": [
    "from typing import List\n",
    "from math import ceil"
   ]
  },
  {
   "cell_type": "code",
   "execution_count": 6,
   "id": "97eb7f97-9e7d-4c88-b524-08dc9ddf57b9",
   "metadata": {},
   "outputs": [],
   "source": [
    "class Solution:\n",
    "    def smallestDivisor(self, nums: List[int], threshold: int) -> int:\n",
    "        lo, hi = 1, 1000000 \n",
    "        while lo < hi:\n",
    "            mi = lo + (hi - lo) // 2\n",
    "            if sum(ceil(i / mi) for i in nums) <= threshold:\n",
    "                hi = mi\n",
    "            else:\n",
    "                lo = mi + 1\n",
    "        return lo"
   ]
  },
  {
   "cell_type": "code",
   "execution_count": 7,
   "id": "b154732f-e1fe-42b0-9903-8c0674530dc7",
   "metadata": {},
   "outputs": [],
   "source": [
    "sol = Solution()"
   ]
  },
  {
   "cell_type": "code",
   "execution_count": 8,
   "id": "3c2832c7-a826-423b-be98-53345cc7f624",
   "metadata": {},
   "outputs": [],
   "source": [
    "assert sol.smallestDivisor([1,2,5,9], 6) == 5"
   ]
  },
  {
   "cell_type": "code",
   "execution_count": 11,
   "id": "695eda4e-f878-4b6d-8b20-668c647b15ec",
   "metadata": {},
   "outputs": [],
   "source": [
    "assert sol.smallestDivisor([44,22,33,11,1], 5) == 44"
   ]
  }
 ],
 "metadata": {
  "kernelspec": {
   "display_name": "Python 3 (ipykernel)",
   "language": "python",
   "name": "python3"
  },
  "language_info": {
   "codemirror_mode": {
    "name": "ipython",
    "version": 3
   },
   "file_extension": ".py",
   "mimetype": "text/x-python",
   "name": "python",
   "nbconvert_exporter": "python",
   "pygments_lexer": "ipython3",
   "version": "3.9.7"
  }
 },
 "nbformat": 4,
 "nbformat_minor": 5
}
