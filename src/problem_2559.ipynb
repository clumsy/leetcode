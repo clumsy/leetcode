{
 "cells": [
  {
   "cell_type": "markdown",
   "id": "976bfc15-7a4a-4e88-9214-0a90e44a5a3d",
   "metadata": {},
   "source": [
    "[Problem 2559](https://leetcode.com/problems/count-vowel-strings-in-ranges/description)"
   ]
  },
  {
   "cell_type": "code",
   "execution_count": 1,
   "id": "1a41cb42-9c11-456e-8c28-61b8f8537d24",
   "metadata": {},
   "outputs": [],
   "source": [
    "from typing import List"
   ]
  },
  {
   "cell_type": "code",
   "execution_count": 2,
   "id": "f3207264-eb6c-4566-b988-76ba3a695ea0",
   "metadata": {},
   "outputs": [],
   "source": [
    "class Solution:\n",
    "    def vowelStrings(self, words: List[str], queries: List[List[int]]) -> List[int]:\n",
    "        n, vowels = len(words), \"aeiou\"\n",
    "        v = [0] * n\n",
    "        for i in range(n):\n",
    "            if i > 0:\n",
    "                v[i] += v[i - 1]\n",
    "            if words[i][0] in vowels and words[i][-1] in vowels:\n",
    "                v[i] += 1\n",
    "        res = []\n",
    "        for l, r in queries:\n",
    "            res.append(v[r] - (v[l - 1] if l > 0 else 0))\n",
    "        return res"
   ]
  },
  {
   "cell_type": "code",
   "execution_count": 3,
   "id": "cac10e8c-df8c-468b-bbae-e644ce577a51",
   "metadata": {},
   "outputs": [],
   "source": [
    "sol = Solution()"
   ]
  },
  {
   "cell_type": "code",
   "execution_count": 4,
   "id": "b5fdfedf-60d6-4f8a-8b32-5823e0cbba0b",
   "metadata": {},
   "outputs": [],
   "source": [
    "assert sol.vowelStrings([\"aba\",\"bcb\",\"ece\",\"aa\",\"e\"], [[0,2],[1,4],[1,1]]) == [2,3,0]"
   ]
  },
  {
   "cell_type": "code",
   "execution_count": 5,
   "id": "bbc1a785-ee16-4065-806f-ffc659525ca1",
   "metadata": {},
   "outputs": [],
   "source": [
    "assert sol.vowelStrings([\"a\",\"e\",\"i\"], [[0,2],[0,1],[2,2]]) == [3,2,1]"
   ]
  }
 ],
 "metadata": {
  "kernelspec": {
   "display_name": "Python 3 (ipykernel)",
   "language": "python",
   "name": "python3"
  },
  "language_info": {
   "codemirror_mode": {
    "name": "ipython",
    "version": 3
   },
   "file_extension": ".py",
   "mimetype": "text/x-python",
   "name": "python",
   "nbconvert_exporter": "python",
   "pygments_lexer": "ipython3",
   "version": "3.9.7"
  }
 },
 "nbformat": 4,
 "nbformat_minor": 5
}
