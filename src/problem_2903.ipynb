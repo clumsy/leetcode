{
 "cells": [
  {
   "cell_type": "markdown",
   "id": "d4ee303b-37e4-4e35-b742-7a23e4158b67",
   "metadata": {},
   "source": [
    "[Problem 2903](https://leetcode.com/problems/find-indices-with-index-and-value-difference-i/description)"
   ]
  },
  {
   "cell_type": "code",
   "execution_count": 1,
   "id": "7442e016-9f86-41d8-a881-769a74933634",
   "metadata": {},
   "outputs": [],
   "source": [
    "from typing import List"
   ]
  },
  {
   "cell_type": "code",
   "execution_count": 2,
   "id": "6853da37-fdfe-4d60-807b-2329db05e82c",
   "metadata": {},
   "outputs": [],
   "source": [
    "class Solution:\n",
    "    def findIndices(self, nums: List[int], id: int, vd: int) -> List[int]:\n",
    "        res = [-1, -1]\n",
    "        mi = ma = 0\n",
    "        for i in range(id, len(nums)):\n",
    "            mi = i - id if nums[i - id] < nums[mi] else mi\n",
    "            ma = i - id if nums[i - id] > nums[ma] else ma\n",
    "            if nums[i] - nums[mi] >= vd:\n",
    "                res = [mi, i]\n",
    "                break\n",
    "            if nums[ma] - nums[i] >= vd:\n",
    "                res = [ma, i]\n",
    "                break\n",
    "        return res"
   ]
  },
  {
   "cell_type": "code",
   "execution_count": 3,
   "id": "94b91a81-d031-4b22-bbe2-3b91c1de6465",
   "metadata": {},
   "outputs": [],
   "source": [
    "sol = Solution()"
   ]
  },
  {
   "cell_type": "code",
   "execution_count": 4,
   "id": "4b336439-9a7f-425c-a650-74fbc3346fd6",
   "metadata": {},
   "outputs": [],
   "source": [
    "assert sol.findIndices([5,1,4,1], 2, 4) == [0, 3]"
   ]
  },
  {
   "cell_type": "code",
   "execution_count": 5,
   "id": "cb5bbd6d-fd5f-4f01-b340-430bc839835c",
   "metadata": {},
   "outputs": [],
   "source": [
    "assert sol.findIndices([2,1], 0, 0) == [0, 0]"
   ]
  },
  {
   "cell_type": "code",
   "execution_count": 6,
   "id": "5c81bf2b-1d91-464b-af21-df7868e5e5b9",
   "metadata": {},
   "outputs": [],
   "source": [
    "assert sol.findIndices([1,2,3], 2, 4) == [-1, -1]"
   ]
  }
 ],
 "metadata": {
  "kernelspec": {
   "display_name": "Python 3 (ipykernel)",
   "language": "python",
   "name": "python3"
  },
  "language_info": {
   "codemirror_mode": {
    "name": "ipython",
    "version": 3
   },
   "file_extension": ".py",
   "mimetype": "text/x-python",
   "name": "python",
   "nbconvert_exporter": "python",
   "pygments_lexer": "ipython3",
   "version": "3.9.7"
  }
 },
 "nbformat": 4,
 "nbformat_minor": 5
}
