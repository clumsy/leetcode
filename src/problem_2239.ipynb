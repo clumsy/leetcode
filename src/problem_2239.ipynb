{
 "cells": [
  {
   "cell_type": "markdown",
   "id": "0597d6e7-5eb6-4961-800c-721bfcb8828c",
   "metadata": {},
   "source": [
    "[Problem 2239](https://leetcode.com/problems/find-closest-number-to-zero/description)"
   ]
  },
  {
   "cell_type": "code",
   "execution_count": 1,
   "id": "79702191-3c58-4b82-ba88-ba33cc8bee1e",
   "metadata": {},
   "outputs": [],
   "source": [
    "from typing import List"
   ]
  },
  {
   "cell_type": "code",
   "execution_count": 2,
   "id": "00611083-bb7a-4a4d-ab5f-972356ebf161",
   "metadata": {},
   "outputs": [],
   "source": [
    "class Solution:\n",
    "    def findClosestNumber(self, nums: List[int]) -> int:\n",
    "        res = nums[0]\n",
    "        for i in nums:\n",
    "            diff = abs(i) - abs(res)\n",
    "            if diff < 0:\n",
    "                res = i\n",
    "            elif diff == 0:\n",
    "                res = max(i, res)\n",
    "        return res "
   ]
  },
  {
   "cell_type": "code",
   "execution_count": 3,
   "id": "95d6ef6b-2571-4606-bef4-ef535b9238f0",
   "metadata": {},
   "outputs": [],
   "source": [
    "sol = Solution()"
   ]
  },
  {
   "cell_type": "code",
   "execution_count": 4,
   "id": "553a60ab-81df-46fa-afa3-173302e12bf7",
   "metadata": {},
   "outputs": [],
   "source": [
    "assert sol.findClosestNumber([-4,-2,1,4,8]) == 1"
   ]
  },
  {
   "cell_type": "code",
   "execution_count": 5,
   "id": "72385dda-d9b3-4409-b302-6797bbe85455",
   "metadata": {},
   "outputs": [],
   "source": [
    "assert sol.findClosestNumber([2,-1,1]) == 1"
   ]
  }
 ],
 "metadata": {
  "kernelspec": {
   "display_name": "Python 3 (ipykernel)",
   "language": "python",
   "name": "python3"
  },
  "language_info": {
   "codemirror_mode": {
    "name": "ipython",
    "version": 3
   },
   "file_extension": ".py",
   "mimetype": "text/x-python",
   "name": "python",
   "nbconvert_exporter": "python",
   "pygments_lexer": "ipython3",
   "version": "3.9.7"
  }
 },
 "nbformat": 4,
 "nbformat_minor": 5
}
