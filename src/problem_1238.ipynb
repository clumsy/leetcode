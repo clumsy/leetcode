{
 "cells": [
  {
   "cell_type": "markdown",
   "id": "68cd3600-3743-4445-8831-24a7ca51f733",
   "metadata": {},
   "source": [
    "[Problem 1238](https://leetcode.com/problems/circular-permutation-in-binary-representation/description)"
   ]
  },
  {
   "cell_type": "code",
   "execution_count": null,
   "id": "dc7f60a3-5169-4092-a68e-4326d5da5e96",
   "metadata": {},
   "outputs": [],
   "source": [
    "from typing import List"
   ]
  },
  {
   "cell_type": "code",
   "execution_count": null,
   "id": "dba8cde2-16fa-4d28-b2bd-b98c7d389948",
   "metadata": {},
   "outputs": [],
   "source": [
    "class Solution:\n",
    "    def circularPermutation(self, n: int, start: int) -> List[int]:\n",
    "        res = [start ^ i ^ (i >> 1) for i in range(2 ** n)]\n",
    "        return res"
   ]
  },
  {
   "cell_type": "code",
   "execution_count": null,
   "id": "ae7fd33a-86f9-4647-8901-a518412586e6",
   "metadata": {},
   "outputs": [],
   "source": [
    "sol = Solution()"
   ]
  },
  {
   "cell_type": "code",
   "execution_count": null,
   "id": "90db33a7-9fe5-4b50-9c5f-36351c83179c",
   "metadata": {},
   "outputs": [],
   "source": [
    "assert sol.circularPermutation(2, 3) == [3,2,0,1]"
   ]
  },
  {
   "cell_type": "code",
   "execution_count": null,
   "id": "3c8e8d09-ed79-422e-92da-61d6cbc1ba4c",
   "metadata": {},
   "outputs": [],
   "source": [
    "assert sol.circularPermutation(3, 2) == [2,3,1,0,4,5,7,6]"
   ]
  }
 ],
 "metadata": {
  "kernelspec": {
   "display_name": "Python 3 (ipykernel)",
   "language": "python",
   "name": "python3"
  },
  "language_info": {
   "codemirror_mode": {
    "name": "ipython",
    "version": 3
   },
   "file_extension": ".py",
   "mimetype": "text/x-python",
   "name": "python",
   "nbconvert_exporter": "python",
   "pygments_lexer": "ipython3",
   "version": "3.9.7"
  }
 },
 "nbformat": 4,
 "nbformat_minor": 5
}
