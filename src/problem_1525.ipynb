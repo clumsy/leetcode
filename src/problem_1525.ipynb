{
 "cells": [
  {
   "cell_type": "markdown",
   "id": "66e44c8a-6aa2-40fb-8318-364615f8c646",
   "metadata": {},
   "source": [
    "[Problem 1525](https://leetcode.com/problems/number-of-good-ways-to-split-a-string/description)"
   ]
  },
  {
   "cell_type": "code",
   "execution_count": 1,
   "id": "106caa1a-5856-4f46-83f9-5dd7647e5ece",
   "metadata": {},
   "outputs": [],
   "source": [
    "from collections import Counter"
   ]
  },
  {
   "cell_type": "code",
   "execution_count": 2,
   "id": "3467ed92-54d2-420f-aa58-3cd4b76593fb",
   "metadata": {},
   "outputs": [],
   "source": [
    "class Solution:\n",
    "    def numSplits(self, s: str) -> int:\n",
    "        res, l_cnt, r_cnt = 0, Counter(), Counter(s)\n",
    "        for c in s:\n",
    "            l_cnt[c] += 1\n",
    "            r_cnt[c] -= 1\n",
    "            if r_cnt[c] == 0:\n",
    "                del r_cnt[c]\n",
    "            res += len(l_cnt) == len(r_cnt)\n",
    "        return res"
   ]
  },
  {
   "cell_type": "code",
   "execution_count": 3,
   "id": "a4d08b00-a384-49ed-9148-55fe5e965c0f",
   "metadata": {},
   "outputs": [],
   "source": [
    "sol = Solution()"
   ]
  },
  {
   "cell_type": "code",
   "execution_count": 4,
   "id": "fe0cd018-67e8-4810-a751-728b7cde2682",
   "metadata": {},
   "outputs": [],
   "source": [
    "assert sol.numSplits(\"aacaba\") == 2"
   ]
  },
  {
   "cell_type": "code",
   "execution_count": 5,
   "id": "4a3fa1dc-66fa-4fa0-bd73-d220cd669449",
   "metadata": {},
   "outputs": [],
   "source": [
    "assert sol.numSplits(\"abcd\") == 1"
   ]
  }
 ],
 "metadata": {
  "kernelspec": {
   "display_name": "Python 3 (ipykernel)",
   "language": "python",
   "name": "python3"
  },
  "language_info": {
   "codemirror_mode": {
    "name": "ipython",
    "version": 3
   },
   "file_extension": ".py",
   "mimetype": "text/x-python",
   "name": "python",
   "nbconvert_exporter": "python",
   "pygments_lexer": "ipython3",
   "version": "3.9.7"
  }
 },
 "nbformat": 4,
 "nbformat_minor": 5
}
