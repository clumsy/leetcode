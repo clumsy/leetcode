{
 "cells": [
  {
   "cell_type": "markdown",
   "id": "291552ef-ffa3-4097-ab44-3dc1d78631b4",
   "metadata": {},
   "source": [
    "[Problem 1952](https://leetcode.com/problems/three-divisors/description)"
   ]
  },
  {
   "cell_type": "code",
   "execution_count": 1,
   "id": "9eac40d6-4f6d-4e22-a34e-6df33746772a",
   "metadata": {},
   "outputs": [],
   "source": [
    "class Solution:\n",
    "    def isThree(self, n: int) -> bool:\n",
    "        d = [0] * 10001\n",
    "        for i in range(1, n + 1):\n",
    "            d[i] += 1\n",
    "            k = 2\n",
    "            while k * i < len(d):\n",
    "                d[k * i] += 1\n",
    "                k += 1\n",
    "        res = d[n] == 3\n",
    "        return res"
   ]
  },
  {
   "cell_type": "code",
   "execution_count": 2,
   "id": "e90c5068-735d-4d5b-876c-177b822414a4",
   "metadata": {},
   "outputs": [],
   "source": [
    "sol = Solution()"
   ]
  },
  {
   "cell_type": "code",
   "execution_count": 3,
   "id": "219a8462-55cf-4ff0-8c34-0e09e21bda3f",
   "metadata": {},
   "outputs": [],
   "source": [
    "assert not sol.isThree(2)"
   ]
  },
  {
   "cell_type": "code",
   "execution_count": 4,
   "id": "2deae624-92e4-4e09-8f88-bef64e0d0e2e",
   "metadata": {},
   "outputs": [],
   "source": [
    "assert sol.isThree(4)"
   ]
  }
 ],
 "metadata": {
  "kernelspec": {
   "display_name": "Python 3 (ipykernel)",
   "language": "python",
   "name": "python3"
  },
  "language_info": {
   "codemirror_mode": {
    "name": "ipython",
    "version": 3
   },
   "file_extension": ".py",
   "mimetype": "text/x-python",
   "name": "python",
   "nbconvert_exporter": "python",
   "pygments_lexer": "ipython3",
   "version": "3.9.7"
  }
 },
 "nbformat": 4,
 "nbformat_minor": 5
}
