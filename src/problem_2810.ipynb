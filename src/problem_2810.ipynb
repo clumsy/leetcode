{
 "cells": [
  {
   "cell_type": "markdown",
   "id": "37fa370c-0099-41ae-aa55-3b8a305d6b03",
   "metadata": {},
   "source": [
    "[Problem 2810](https://leetcode.com/problems/faulty-keyboard/description)"
   ]
  },
  {
   "cell_type": "code",
   "execution_count": 1,
   "id": "8c54a94d-4d32-4a70-bd8f-38415f31b5cd",
   "metadata": {},
   "outputs": [],
   "source": [
    "class Solution:\n",
    "    def finalString(self, s: str) -> str:\n",
    "        s = list(s)\n",
    "        for i in range(len(s)):\n",
    "            if s[i] == \"i\":\n",
    "                s[:i], s[i] = s[:i][::-1], \"\"\n",
    "        res = \"\".join(s)\n",
    "        return res"
   ]
  },
  {
   "cell_type": "code",
   "execution_count": 2,
   "id": "5884947c-2dad-47da-af90-b908b0d7351f",
   "metadata": {},
   "outputs": [],
   "source": [
    "class Solution:\n",
    "    def finalString(self, s: str) -> str:\n",
    "        a, b = [], []\n",
    "        for i in range(len(s)):\n",
    "            if s[i] == \"i\":\n",
    "                a, b = b, a\n",
    "            else:\n",
    "                a += s[i]\n",
    "        b.reverse()\n",
    "        res = \"\".join(b + a)\n",
    "        return res"
   ]
  },
  {
   "cell_type": "code",
   "execution_count": 3,
   "id": "b5dd620a-0f51-4449-b5ff-508439242273",
   "metadata": {},
   "outputs": [],
   "source": [
    "sol = Solution()"
   ]
  },
  {
   "cell_type": "code",
   "execution_count": 4,
   "id": "82e12e8b-82d0-4c3e-a03b-0a9c25a5150d",
   "metadata": {},
   "outputs": [],
   "source": [
    "assert sol.finalString(\"string\") == \"rtsng\""
   ]
  },
  {
   "cell_type": "code",
   "execution_count": 5,
   "id": "b41e11cc-db0a-481f-9010-b112f04d0ccf",
   "metadata": {},
   "outputs": [],
   "source": [
    "assert sol.finalString(\"poiinter\") == \"ponter\""
   ]
  }
 ],
 "metadata": {
  "kernelspec": {
   "display_name": "Python 3 (ipykernel)",
   "language": "python",
   "name": "python3"
  },
  "language_info": {
   "codemirror_mode": {
    "name": "ipython",
    "version": 3
   },
   "file_extension": ".py",
   "mimetype": "text/x-python",
   "name": "python",
   "nbconvert_exporter": "python",
   "pygments_lexer": "ipython3",
   "version": "3.9.7"
  }
 },
 "nbformat": 4,
 "nbformat_minor": 5
}
