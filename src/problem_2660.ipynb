{
 "cells": [
  {
   "cell_type": "markdown",
   "id": "15b2f1ae-47bb-4797-82ad-c46c43a2fff6",
   "metadata": {},
   "source": [
    "[Problem 2660](https://leetcode.com/problems/determine-the-winner-of-a-bowling-game/description)"
   ]
  },
  {
   "cell_type": "code",
   "execution_count": 1,
   "id": "806209d5-620e-40b7-93b9-8f94413924f2",
   "metadata": {},
   "outputs": [],
   "source": [
    "from typing import List"
   ]
  },
  {
   "cell_type": "code",
   "execution_count": 2,
   "id": "09ce01d4-c3ad-44d8-a16a-70adc059ada9",
   "metadata": {},
   "outputs": [],
   "source": [
    "class Solution:\n",
    "    def isWinner(self, player1: List[int], player2: List[int]) -> int:\n",
    "        diff = 0\n",
    "        def inc(p, i):\n",
    "            return p[i] * (2 if max(p[max(0, i - 2):i], default=0) == 10 else 1)\n",
    "        for i in range(len(player1)):\n",
    "            diff += inc(player1, i) - inc(player2, i)\n",
    "        res = 1 if diff > 0 else 2 if diff < 0 else 0\n",
    "        return res"
   ]
  },
  {
   "cell_type": "code",
   "execution_count": 3,
   "id": "6f1f9b1f-43f9-42ff-a562-ba2a98a58381",
   "metadata": {},
   "outputs": [],
   "source": [
    "sol = Solution()"
   ]
  },
  {
   "cell_type": "code",
   "execution_count": 4,
   "id": "8860f75b-41d2-4184-865f-b8b68dd8514a",
   "metadata": {},
   "outputs": [],
   "source": [
    "assert sol.isWinner([4,10,7,9], [6,5,2,3]) == 1"
   ]
  },
  {
   "cell_type": "code",
   "execution_count": 5,
   "id": "f454de86-8fcd-4afe-9ee1-37faac05be8e",
   "metadata": {},
   "outputs": [],
   "source": [
    "assert sol.isWinner([3,5,7,6], [8,10,10,2]) == 2"
   ]
  },
  {
   "cell_type": "code",
   "execution_count": 6,
   "id": "b662a462-5a12-4fd4-8d2a-2f667ec3dfa8",
   "metadata": {},
   "outputs": [],
   "source": [
    "assert sol.isWinner([2,3], [4,1]) == 0"
   ]
  }
 ],
 "metadata": {
  "kernelspec": {
   "display_name": "Python 3 (ipykernel)",
   "language": "python",
   "name": "python3"
  },
  "language_info": {
   "codemirror_mode": {
    "name": "ipython",
    "version": 3
   },
   "file_extension": ".py",
   "mimetype": "text/x-python",
   "name": "python",
   "nbconvert_exporter": "python",
   "pygments_lexer": "ipython3",
   "version": "3.9.7"
  }
 },
 "nbformat": 4,
 "nbformat_minor": 5
}
