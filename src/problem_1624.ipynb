{
 "cells": [
  {
   "cell_type": "markdown",
   "id": "6d79fdee-fd80-4e0e-9f6c-d4dc74a3d85c",
   "metadata": {},
   "source": [
    "[Problem 1624](https://leetcode.com/problems/largest-substring-between-two-equal-characters/description)"
   ]
  },
  {
   "cell_type": "code",
   "execution_count": 3,
   "id": "67a9e084-ad86-4625-991e-d80d3a9c8f1f",
   "metadata": {},
   "outputs": [],
   "source": [
    "class Solution:\n",
    "    def maxLengthBetweenEqualCharacters(self, s: str) -> int:\n",
    "        res, frst = -1, {}\n",
    "        for i, c in enumerate(s):\n",
    "            f = frst.get(c, None)\n",
    "            if f is not None:\n",
    "                res = max(res, i - f - 1)\n",
    "            else:\n",
    "                frst[c] = i\n",
    "        return res"
   ]
  },
  {
   "cell_type": "code",
   "execution_count": 4,
   "id": "e20b9e50-d4ce-4c05-87e7-e0d90525ef82",
   "metadata": {},
   "outputs": [],
   "source": [
    "sol = Solution()"
   ]
  },
  {
   "cell_type": "code",
   "execution_count": 5,
   "id": "bff77197-9308-4ee9-9ff2-07428efa0574",
   "metadata": {},
   "outputs": [],
   "source": [
    "assert sol.maxLengthBetweenEqualCharacters(\"aa\") == 0"
   ]
  },
  {
   "cell_type": "code",
   "execution_count": 6,
   "id": "6efe4644-fef2-4ae0-ab77-467870837c37",
   "metadata": {},
   "outputs": [],
   "source": [
    "assert sol.maxLengthBetweenEqualCharacters(\"abca\") == 2"
   ]
  },
  {
   "cell_type": "code",
   "execution_count": 7,
   "id": "ed7dec8c-9798-47d5-a4a0-0b3d2cff2a36",
   "metadata": {},
   "outputs": [],
   "source": [
    "assert sol.maxLengthBetweenEqualCharacters(\"cbzxy\") == -1"
   ]
  }
 ],
 "metadata": {
  "kernelspec": {
   "display_name": "Python 3 (ipykernel)",
   "language": "python",
   "name": "python3"
  },
  "language_info": {
   "codemirror_mode": {
    "name": "ipython",
    "version": 3
   },
   "file_extension": ".py",
   "mimetype": "text/x-python",
   "name": "python",
   "nbconvert_exporter": "python",
   "pygments_lexer": "ipython3",
   "version": "3.9.7"
  }
 },
 "nbformat": 4,
 "nbformat_minor": 5
}
