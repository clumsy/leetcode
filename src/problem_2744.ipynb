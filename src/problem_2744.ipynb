{
 "cells": [
  {
   "cell_type": "markdown",
   "id": "886b96fc-a218-44ce-a97d-51b3bc237c24",
   "metadata": {},
   "source": [
    "[Problem 2744](https://leetcode.com/problems/find-maximum-number-of-string-pairs/description)"
   ]
  },
  {
   "cell_type": "code",
   "execution_count": 1,
   "id": "22a69446-bfed-4b56-a2cb-5faf6339beec",
   "metadata": {},
   "outputs": [],
   "source": [
    "from typing import List"
   ]
  },
  {
   "cell_type": "code",
   "execution_count": 2,
   "id": "0f4ab85e-0557-42e9-9fa8-c1387b97cca0",
   "metadata": {},
   "outputs": [],
   "source": [
    "class Solution:\n",
    "    def maximumNumberOfStringPairs(self, words: List[str]) -> int:\n",
    "        res, m = 0, set(w[::-1] for w in words)\n",
    "        for w in words:\n",
    "            rev = w[::-1]\n",
    "            res += w != rev and w in m\n",
    "        res //= 2\n",
    "        return res"
   ]
  },
  {
   "cell_type": "code",
   "execution_count": 3,
   "id": "9eaac8a8-6de0-4432-bc04-5a448a794145",
   "metadata": {},
   "outputs": [],
   "source": [
    "sol = Solution()"
   ]
  },
  {
   "cell_type": "code",
   "execution_count": 4,
   "id": "c0d8ef9f-835c-46c0-a9e1-4b417c0ab252",
   "metadata": {},
   "outputs": [],
   "source": [
    "assert sol.maximumNumberOfStringPairs([\"cd\",\"ac\",\"dc\",\"ca\",\"zz\"]) == 2"
   ]
  },
  {
   "cell_type": "code",
   "execution_count": 5,
   "id": "9a4fc600-2676-4f6b-8832-d2f4195f94cd",
   "metadata": {},
   "outputs": [],
   "source": [
    "assert sol.maximumNumberOfStringPairs([\"ab\",\"ba\",\"cc\"]) == 1"
   ]
  },
  {
   "cell_type": "code",
   "execution_count": 6,
   "id": "8d22e065-a585-4b18-9d65-106845ab4f13",
   "metadata": {},
   "outputs": [],
   "source": [
    "assert sol.maximumNumberOfStringPairs([\"aa\",\"ab\"]) == 0"
   ]
  }
 ],
 "metadata": {
  "kernelspec": {
   "display_name": "Python 3 (ipykernel)",
   "language": "python",
   "name": "python3"
  },
  "language_info": {
   "codemirror_mode": {
    "name": "ipython",
    "version": 3
   },
   "file_extension": ".py",
   "mimetype": "text/x-python",
   "name": "python",
   "nbconvert_exporter": "python",
   "pygments_lexer": "ipython3",
   "version": "3.9.7"
  }
 },
 "nbformat": 4,
 "nbformat_minor": 5
}
