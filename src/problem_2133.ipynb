{
 "cells": [
  {
   "cell_type": "markdown",
   "id": "227cba0d-c881-4b60-8270-dc3e69262f56",
   "metadata": {},
   "source": [
    "[Problem 2133](https://leetcode.com/problems/check-if-every-row-and-column-contains-all-numbers/description)"
   ]
  },
  {
   "cell_type": "code",
   "execution_count": 1,
   "id": "d122bfb5-14c9-445e-b87b-037476b6aa02",
   "metadata": {},
   "outputs": [],
   "source": [
    "from typing import List"
   ]
  },
  {
   "cell_type": "code",
   "execution_count": 2,
   "id": "37e33ff4-be97-4cac-b5ad-d1caec4c8e80",
   "metadata": {},
   "outputs": [],
   "source": [
    "class Solution:\n",
    "    def checkValid(self, matrix: List[List[int]]) -> bool:\n",
    "        n = len(matrix)\n",
    "        s = set(range(1, n + 1))\n",
    "        res = (\n",
    "            all(set(matrix[i]) == s for i in range(n)) and\n",
    "            all(set(matrix[i][j] for i in range(n)) == s for j in range(n))\n",
    "        )\n",
    "        return res"
   ]
  },
  {
   "cell_type": "code",
   "execution_count": 3,
   "id": "ba944f0f-e30e-4cb2-ad76-c510f471a4c8",
   "metadata": {},
   "outputs": [],
   "source": [
    "sol = Solution()"
   ]
  },
  {
   "cell_type": "code",
   "execution_count": 4,
   "id": "4df7ebbd-f15c-4929-b36b-b57552a8a88c",
   "metadata": {},
   "outputs": [],
   "source": [
    "assert sol.checkValid([[1,2,3],[3,1,2],[2,3,1]])"
   ]
  },
  {
   "cell_type": "code",
   "execution_count": 5,
   "id": "4f6eba10-2815-49b8-b808-97401e67c0fa",
   "metadata": {},
   "outputs": [],
   "source": [
    "assert not sol.checkValid([[1,1,1],[1,2,3],[1,2,3]])"
   ]
  }
 ],
 "metadata": {
  "kernelspec": {
   "display_name": "Python 3 (ipykernel)",
   "language": "python",
   "name": "python3"
  },
  "language_info": {
   "codemirror_mode": {
    "name": "ipython",
    "version": 3
   },
   "file_extension": ".py",
   "mimetype": "text/x-python",
   "name": "python",
   "nbconvert_exporter": "python",
   "pygments_lexer": "ipython3",
   "version": "3.9.7"
  }
 },
 "nbformat": 4,
 "nbformat_minor": 5
}
