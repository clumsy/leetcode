{
 "cells": [
  {
   "cell_type": "markdown",
   "id": "3a3b52ad-7602-47d9-bedf-9337098fac26",
   "metadata": {},
   "source": [
    "[Problem 2225](https://leetcode.com/problems/find-players-with-zero-or-one-losses/description)"
   ]
  },
  {
   "cell_type": "code",
   "execution_count": 1,
   "id": "0196243c-5442-4e3f-a3f8-26a030245607",
   "metadata": {},
   "outputs": [],
   "source": [
    "from typing import List"
   ]
  },
  {
   "cell_type": "code",
   "execution_count": 2,
   "id": "0bd560ca-7de3-4d54-bb41-ff15d8ba3133",
   "metadata": {},
   "outputs": [],
   "source": [
    "class Solution:\n",
    "    def findWinners(self, matches: List[List[int]]) -> List[List[int]]:\n",
    "        MAX = 1 + 10 ** 5\n",
    "        lost = [None] * MAX\n",
    "        for w, l in matches:\n",
    "            lost[w] = 0 if lost[w] is None else lost[w]\n",
    "            lost[l] = 1 + (0 if lost[l] is None else lost[l])\n",
    "        res = [[], []]\n",
    "        for p in range(1, 1 + 10 ** 5):\n",
    "            if lost[p] == 0:\n",
    "                res[0].append(p)\n",
    "            elif lost[p] == 1:\n",
    "                res[1].append(p)\n",
    "        return res"
   ]
  },
  {
   "cell_type": "code",
   "execution_count": 3,
   "id": "3c6bea70-e779-43c3-8197-41a3de71e37f",
   "metadata": {},
   "outputs": [],
   "source": [
    "sol = Solution()"
   ]
  },
  {
   "cell_type": "code",
   "execution_count": 5,
   "id": "4b6ca1ee-1b99-43e9-9f93-e990a1b9aee3",
   "metadata": {},
   "outputs": [],
   "source": [
    "assert sol.findWinners([[1,3],[2,3],[3,6],[5,6],[5,7],[4,5],[4,8],[4,9],[10,4],[10,9]]) == [[1,2,10],[4,5,7,8]]"
   ]
  },
  {
   "cell_type": "code",
   "execution_count": 6,
   "id": "b20361fc-1418-4d2d-82cb-4b1855ccd9cf",
   "metadata": {},
   "outputs": [],
   "source": [
    "assert sol.findWinners([[2,3],[1,3],[5,4],[6,4]]) == [[1,2,5,6],[]]"
   ]
  }
 ],
 "metadata": {
  "kernelspec": {
   "display_name": "Python 3 (ipykernel)",
   "language": "python",
   "name": "python3"
  },
  "language_info": {
   "codemirror_mode": {
    "name": "ipython",
    "version": 3
   },
   "file_extension": ".py",
   "mimetype": "text/x-python",
   "name": "python",
   "nbconvert_exporter": "python",
   "pygments_lexer": "ipython3",
   "version": "3.9.7"
  }
 },
 "nbformat": 4,
 "nbformat_minor": 5
}
