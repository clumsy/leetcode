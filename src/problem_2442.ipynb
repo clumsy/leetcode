{
 "cells": [
  {
   "cell_type": "markdown",
   "id": "378e9a67-a1ad-4894-bdbb-e6ab47f8a3c9",
   "metadata": {},
   "source": [
    "[Problem 2442](https://leetcode.com/problems/count-number-of-distinct-integers-after-reverse-operations/description)"
   ]
  },
  {
   "cell_type": "code",
   "execution_count": 2,
   "id": "179ded8d-5973-41f7-b1da-67d83bbdbf17",
   "metadata": {},
   "outputs": [],
   "source": [
    "from typing import List"
   ]
  },
  {
   "cell_type": "code",
   "execution_count": 3,
   "id": "88a07ad9-cfb8-4ac8-af14-9d758a687d5d",
   "metadata": {},
   "outputs": [],
   "source": [
    "class Solution:\n",
    "    def countDistinctIntegers(self, nums: List[int]) -> int:\n",
    "        s = set(n for i in nums for n in (i, int(str(i)[::-1].lstrip(\"0\"))))\n",
    "        res = len(s)\n",
    "        return res"
   ]
  },
  {
   "cell_type": "code",
   "execution_count": 4,
   "id": "c2f7c87d-b097-44a6-8c95-184f09ca5a86",
   "metadata": {},
   "outputs": [],
   "source": [
    "sol = Solution()"
   ]
  },
  {
   "cell_type": "code",
   "execution_count": 5,
   "id": "956fbc08-8fad-4078-b6e7-b0fc0cc3374a",
   "metadata": {},
   "outputs": [],
   "source": [
    "assert sol.countDistinctIntegers([1,13,10,12,31]) == 6"
   ]
  },
  {
   "cell_type": "code",
   "execution_count": 6,
   "id": "36ed80f6-4218-41cf-8848-86ec0a6f6c70",
   "metadata": {},
   "outputs": [],
   "source": [
    "assert sol.countDistinctIntegers([2,2,2]) == 1"
   ]
  }
 ],
 "metadata": {
  "kernelspec": {
   "display_name": "Python 3 (ipykernel)",
   "language": "python",
   "name": "python3"
  },
  "language_info": {
   "codemirror_mode": {
    "name": "ipython",
    "version": 3
   },
   "file_extension": ".py",
   "mimetype": "text/x-python",
   "name": "python",
   "nbconvert_exporter": "python",
   "pygments_lexer": "ipython3",
   "version": "3.9.7"
  }
 },
 "nbformat": 4,
 "nbformat_minor": 5
}
