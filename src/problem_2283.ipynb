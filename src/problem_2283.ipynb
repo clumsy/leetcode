{
 "cells": [
  {
   "cell_type": "markdown",
   "id": "9fcbf6ee-e599-44de-97e7-b997d290e99f",
   "metadata": {},
   "source": [
    "[Problem 2283](https://leetcode.com/problems/check-if-number-has-equal-digit-count-and-digit-value/description)"
   ]
  },
  {
   "cell_type": "code",
   "execution_count": 4,
   "id": "be625628-6733-4ff5-a9a0-ddfb0a50365a",
   "metadata": {},
   "outputs": [],
   "source": [
    "from collections import Counter"
   ]
  },
  {
   "cell_type": "code",
   "execution_count": 5,
   "id": "577693ce-b593-49fb-8838-5dd67d06ecbb",
   "metadata": {},
   "outputs": [],
   "source": [
    "class Solution:\n",
    "    def digitCount(self, num: str) -> bool:\n",
    "        cnt = Counter(num)\n",
    "        res = all(cnt.get(str(i), 0) == int(num[i]) for i in range(len(num)))\n",
    "        return res"
   ]
  },
  {
   "cell_type": "code",
   "execution_count": 6,
   "id": "03789b8a-1729-44cb-ad81-8b1e92143955",
   "metadata": {},
   "outputs": [],
   "source": [
    "sol = Solution()"
   ]
  },
  {
   "cell_type": "code",
   "execution_count": 7,
   "id": "05b21e29-d23e-42a8-a1d9-6858a03385d5",
   "metadata": {},
   "outputs": [],
   "source": [
    "assert sol.digitCount(\"1210\")"
   ]
  },
  {
   "cell_type": "code",
   "execution_count": 8,
   "id": "1f1e73a7-9e4b-4eea-8911-4763f79a541d",
   "metadata": {},
   "outputs": [],
   "source": [
    "assert not sol.digitCount(\"030\")"
   ]
  }
 ],
 "metadata": {
  "kernelspec": {
   "display_name": "Python 3 (ipykernel)",
   "language": "python",
   "name": "python3"
  },
  "language_info": {
   "codemirror_mode": {
    "name": "ipython",
    "version": 3
   },
   "file_extension": ".py",
   "mimetype": "text/x-python",
   "name": "python",
   "nbconvert_exporter": "python",
   "pygments_lexer": "ipython3",
   "version": "3.9.7"
  }
 },
 "nbformat": 4,
 "nbformat_minor": 5
}
