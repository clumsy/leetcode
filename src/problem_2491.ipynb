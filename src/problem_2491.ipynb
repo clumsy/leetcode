{
 "cells": [
  {
   "cell_type": "markdown",
   "id": "9fc99bcd-307a-47b1-a6d4-b533d795ed75",
   "metadata": {},
   "source": [
    "[Problem 2491]()"
   ]
  },
  {
   "cell_type": "code",
   "execution_count": 1,
   "id": "ec0a352b-308a-49ae-bb3a-7d892b602be2",
   "metadata": {},
   "outputs": [],
   "source": [
    "from typing import List\n",
    "from collections import Counter"
   ]
  },
  {
   "cell_type": "code",
   "execution_count": 2,
   "id": "5f2b245d-26ea-4382-a3ef-d18a239366ce",
   "metadata": {},
   "outputs": [],
   "source": [
    "class Solution:\n",
    "    def dividePlayers(self, skill: List[int]) -> int:\n",
    "        s = sum(skill) * 2 // len(skill)\n",
    "        res, cnt = 0, Counter(skill)\n",
    "        for i in cnt:\n",
    "            if cnt[i] != cnt[s - i]:  # has to have the same count for both numbers\n",
    "                res = -1\n",
    "                break\n",
    "            res += cnt[i] * i * (s - i)\n",
    "        res = res if res < 0 else res // 2  # we counted the same chemistry twice (for time for each number in pair)\n",
    "        return res "
   ]
  },
  {
   "cell_type": "code",
   "execution_count": 3,
   "id": "9b80e480-beff-4887-be69-23c1eb231034",
   "metadata": {},
   "outputs": [],
   "source": [
    "sol = Solution()"
   ]
  },
  {
   "cell_type": "code",
   "execution_count": 4,
   "id": "4e766bbb-d660-4f54-a94a-d837bf5c452f",
   "metadata": {},
   "outputs": [],
   "source": [
    "assert sol.dividePlayers([3,2,5,1,3,4]) == 22"
   ]
  },
  {
   "cell_type": "code",
   "execution_count": 5,
   "id": "95622868-9f10-4a87-a5f8-d98722d90266",
   "metadata": {},
   "outputs": [],
   "source": [
    "assert sol.dividePlayers([3,4]) == 12"
   ]
  },
  {
   "cell_type": "code",
   "execution_count": 6,
   "id": "095ed5b2-af39-4ce8-b585-a2fd36fedb1b",
   "metadata": {},
   "outputs": [],
   "source": [
    "assert sol.dividePlayers([1,1,2,3]) == -1"
   ]
  }
 ],
 "metadata": {
  "kernelspec": {
   "display_name": "Python 3 (ipykernel)",
   "language": "python",
   "name": "python3"
  },
  "language_info": {
   "codemirror_mode": {
    "name": "ipython",
    "version": 3
   },
   "file_extension": ".py",
   "mimetype": "text/x-python",
   "name": "python",
   "nbconvert_exporter": "python",
   "pygments_lexer": "ipython3",
   "version": "3.9.7"
  }
 },
 "nbformat": 4,
 "nbformat_minor": 5
}
