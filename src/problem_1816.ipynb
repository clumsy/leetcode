{
 "cells": [
  {
   "cell_type": "markdown",
   "id": "674a1cc8-10e5-4750-b51e-8e1b0051287a",
   "metadata": {},
   "source": [
    "[Problem 1816](https://leetcode.com/problems/truncate-sentence/description)"
   ]
  },
  {
   "cell_type": "code",
   "execution_count": 1,
   "id": "12f55a2c-f58c-49c5-901b-a6450eb03862",
   "metadata": {},
   "outputs": [],
   "source": [
    "class Solution:\n",
    "    def truncateSentence(self, s: str, k: int) -> str:\n",
    "        res = \" \".join(s.split()[:k])\n",
    "        return res"
   ]
  },
  {
   "cell_type": "code",
   "execution_count": 2,
   "id": "6b150ca3-bf57-4e3e-bc1a-25be2d407990",
   "metadata": {},
   "outputs": [],
   "source": [
    "sol = Solution()"
   ]
  },
  {
   "cell_type": "code",
   "execution_count": 3,
   "id": "08dd7f63-ed01-4d2b-8551-6d93148157da",
   "metadata": {},
   "outputs": [],
   "source": [
    "assert sol.truncateSentence(\"Hello how are you Contestant\", 4) == \"Hello how are you\""
   ]
  },
  {
   "cell_type": "code",
   "execution_count": 4,
   "id": "577dfea2-eee9-4a7a-b43f-c92978cc1ab1",
   "metadata": {},
   "outputs": [],
   "source": [
    "assert sol.truncateSentence(\"What is the solution to this problem\", 4) == \"What is the solution\""
   ]
  },
  {
   "cell_type": "code",
   "execution_count": 5,
   "id": "79f0aa57-8acc-4d7a-830a-24b9d50b5c3b",
   "metadata": {},
   "outputs": [],
   "source": [
    "assert sol.truncateSentence(\"chopper is not a tanuki\", 5) == \"chopper is not a tanuki\""
   ]
  }
 ],
 "metadata": {
  "kernelspec": {
   "display_name": "Python 3 (ipykernel)",
   "language": "python",
   "name": "python3"
  },
  "language_info": {
   "codemirror_mode": {
    "name": "ipython",
    "version": 3
   },
   "file_extension": ".py",
   "mimetype": "text/x-python",
   "name": "python",
   "nbconvert_exporter": "python",
   "pygments_lexer": "ipython3",
   "version": "3.9.7"
  }
 },
 "nbformat": 4,
 "nbformat_minor": 5
}
