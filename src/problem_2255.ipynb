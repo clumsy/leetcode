{
 "cells": [
  {
   "cell_type": "markdown",
   "id": "bc698a88-42b4-4f18-8a90-c2a4ae653aaa",
   "metadata": {},
   "source": [
    "[Problem 2255](https://leetcode.com/problems/count-prefixes-of-a-given-string/description)"
   ]
  },
  {
   "cell_type": "code",
   "execution_count": 1,
   "id": "a083d423-cb46-4552-97e2-763c9c6b8ad9",
   "metadata": {},
   "outputs": [],
   "source": [
    "from typing import List"
   ]
  },
  {
   "cell_type": "code",
   "execution_count": 2,
   "id": "d16ef11a-f7ae-47ad-b85c-a3e09d353956",
   "metadata": {},
   "outputs": [],
   "source": [
    "class Solution:\n",
    "    def countPrefixes(self, words: List[str], s: str) -> int:\n",
    "        trie = {}\n",
    "        for word in words:\n",
    "            p = trie\n",
    "            for c in word:\n",
    "                t = p.get(c, {\"__count__\": 0})\n",
    "                p[c] = t\n",
    "                p = t\n",
    "            p[\"__count__\"] += 1\n",
    "        res = 0\n",
    "        for c in s:\n",
    "            trie = trie.get(c, None)\n",
    "            if not trie:\n",
    "                break\n",
    "            res += trie[\"__count__\"]\n",
    "        return res"
   ]
  },
  {
   "cell_type": "code",
   "execution_count": 3,
   "id": "05f95d7d-80fd-4d16-8d74-87db7e234632",
   "metadata": {},
   "outputs": [],
   "source": [
    "sol = Solution()"
   ]
  },
  {
   "cell_type": "code",
   "execution_count": 4,
   "id": "0df5d4d0-5ab7-4c64-be19-49d322f64203",
   "metadata": {},
   "outputs": [],
   "source": [
    "assert sol.countPrefixes([\"a\",\"b\",\"c\",\"ab\",\"bc\",\"abc\"], \"abc\") == 3"
   ]
  },
  {
   "cell_type": "code",
   "execution_count": 5,
   "id": "9c949d15-d79e-4937-88be-11b8d0415ff3",
   "metadata": {},
   "outputs": [],
   "source": [
    "assert sol.countPrefixes([\"a\",\"a\"], \"aa\") == 2"
   ]
  }
 ],
 "metadata": {
  "kernelspec": {
   "display_name": "Python 3 (ipykernel)",
   "language": "python",
   "name": "python3"
  },
  "language_info": {
   "codemirror_mode": {
    "name": "ipython",
    "version": 3
   },
   "file_extension": ".py",
   "mimetype": "text/x-python",
   "name": "python",
   "nbconvert_exporter": "python",
   "pygments_lexer": "ipython3",
   "version": "3.9.7"
  }
 },
 "nbformat": 4,
 "nbformat_minor": 5
}
