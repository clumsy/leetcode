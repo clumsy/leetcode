{
 "cells": [
  {
   "cell_type": "markdown",
   "id": "5810abc0-af17-4bf3-b9f0-575f6b772303",
   "metadata": {},
   "source": [
    "[Problem 623]()"
   ]
  },
  {
   "cell_type": "code",
   "execution_count": 22,
   "id": "9898a907-b57f-48f4-bc08-2490ef098068",
   "metadata": {},
   "outputs": [],
   "source": [
    "# Definition for a binary tree node.\n",
    "class TreeNode:\n",
    "    def __init__(self, val=0, left=None, right=None):\n",
    "        self.val = val\n",
    "        self.left = left\n",
    "        self.right = right\n",
    "\n",
    "    def __eq__(self, other):\n",
    "        if other is None or self.val != other.val:\n",
    "            return False\n",
    "        return self.left == other.left and self.right == other.right"
   ]
  },
  {
   "cell_type": "code",
   "execution_count": 23,
   "id": "4166fec2-6470-441f-a020-6929d4c729ef",
   "metadata": {},
   "outputs": [],
   "source": [
    "from typing import Optional"
   ]
  },
  {
   "cell_type": "code",
   "execution_count": 24,
   "id": "14b609dd-9951-40ef-aa98-4394f50d8cae",
   "metadata": {},
   "outputs": [],
   "source": [
    "class Solution:\n",
    "    def addOneRow(self, root: Optional[TreeNode], val: int, depth: int) -> Optional[TreeNode]:\n",
    "        def dfs(node, d):\n",
    "            if node is None:\n",
    "                return\n",
    "            if d == depth - 1:\n",
    "                node.left = TreeNode(val, left=node.left)\n",
    "                node.right = TreeNode(val, right=node.right)\n",
    "            else:\n",
    "                dfs(node.left, d + 1)\n",
    "                dfs(node.right, d + 1)\n",
    "        root = TreeNode(-1, left=root)\n",
    "        dfs(root, 0)\n",
    "        res = root.left\n",
    "        return res"
   ]
  },
  {
   "cell_type": "code",
   "execution_count": 25,
   "id": "40e858a1-5b93-46e0-970f-b99e5c2da520",
   "metadata": {},
   "outputs": [],
   "source": [
    "sol = Solution()"
   ]
  },
  {
   "cell_type": "code",
   "execution_count": 26,
   "id": "7e437b2b-cd40-4ecd-8526-7b72b0ed0a56",
   "metadata": {},
   "outputs": [],
   "source": [
    "from collections import deque\n",
    "\n",
    "null = None  # to use Leetcode samples as is\n",
    "\n",
    "def tree(values):\n",
    "    if not values:\n",
    "        return null\n",
    "    root = TreeNode(values[0])\n",
    "    queue = deque()\n",
    "    queue.append(root)\n",
    "    queue.append(None)\n",
    "    length = len(values)\n",
    "    i = 0\n",
    "    while queue:\n",
    "        current = queue.popleft()\n",
    "        if current:\n",
    "            i += 1\n",
    "            if i < length and values[i]:\n",
    "                current.left = TreeNode(values[i])\n",
    "                queue.append(current.left)\n",
    "            i += 1\n",
    "            if i < length and values[i]:\n",
    "                current.right = TreeNode(values[i])\n",
    "                queue.append(current.right)\n",
    "            if i == length:\n",
    "                return root\n",
    "        else:\n",
    "            if queue:\n",
    "                queue.append(None)\n",
    "    return root"
   ]
  },
  {
   "cell_type": "code",
   "execution_count": 27,
   "id": "acc89389-de31-4a7c-b459-0b0a1f4e7aca",
   "metadata": {},
   "outputs": [],
   "source": [
    "class Solution:\n",
    "    def addOneRow(self, root: Optional[TreeNode], val: int, depth: int) -> Optional[TreeNode]:\n",
    "        dummy = TreeNode(-1, left=root)\n",
    "        q = deque([dummy])\n",
    "        while q and depth:\n",
    "            depth -= 1\n",
    "            for _ in range(len(q)):\n",
    "                node = q.popleft()\n",
    "                if depth == 0:\n",
    "                    node.left = TreeNode(val, left=node.left)\n",
    "                    node.right = TreeNode(val, right=node.right)\n",
    "                else:\n",
    "                    if node.left:\n",
    "                        q.append(node.left)\n",
    "                    if node.right:\n",
    "                        q.append(node.right)\n",
    "        res = dummy.left\n",
    "        return res"
   ]
  },
  {
   "cell_type": "code",
   "execution_count": 32,
   "id": "fae10643-eca6-4ad9-845d-266cccf2ffcf",
   "metadata": {},
   "outputs": [],
   "source": [
    "assert sol.addOneRow(tree([4,2,6,3,1,5]), 1, 2) == tree([4,1,1,2,null,null,6,3,1,5])"
   ]
  },
  {
   "cell_type": "code",
   "execution_count": 33,
   "id": "857d7d3f-73a3-4572-9e18-8326a4bdfd09",
   "metadata": {},
   "outputs": [],
   "source": [
    "assert sol.addOneRow(tree([4,2,null,3,1]), 1, 3) == tree([4,2,None,1,1,3,null,null,1])"
   ]
  }
 ],
 "metadata": {
  "kernelspec": {
   "display_name": "Python 3 (ipykernel)",
   "language": "python",
   "name": "python3"
  },
  "language_info": {
   "codemirror_mode": {
    "name": "ipython",
    "version": 3
   },
   "file_extension": ".py",
   "mimetype": "text/x-python",
   "name": "python",
   "nbconvert_exporter": "python",
   "pygments_lexer": "ipython3",
   "version": "3.9.7"
  }
 },
 "nbformat": 4,
 "nbformat_minor": 5
}
