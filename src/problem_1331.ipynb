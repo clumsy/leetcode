{
 "cells": [
  {
   "cell_type": "markdown",
   "id": "3cd2be9b-fddf-411a-ada2-243fb6068718",
   "metadata": {},
   "source": [
    "[Problem 1331](https://leetcode.com/problems/rank-transform-of-an-array/description)"
   ]
  },
  {
   "cell_type": "code",
   "execution_count": 1,
   "id": "d077dadc-9ba3-43b6-8902-78df542d9477",
   "metadata": {},
   "outputs": [],
   "source": [
    "from typing import List"
   ]
  },
  {
   "cell_type": "code",
   "execution_count": 2,
   "id": "a8fe27ce-c019-4e5a-837b-98735d3f0471",
   "metadata": {},
   "outputs": [],
   "source": [
    "class Solution:\n",
    "    def arrayRankTransform(self, arr: List[int]) -> List[int]:\n",
    "        rank = {e: r + 1 for r, e in enumerate(sorted(set(arr)))}\n",
    "        res = [rank[i] for i in arr]\n",
    "        return res"
   ]
  },
  {
   "cell_type": "code",
   "execution_count": 3,
   "id": "73f01f02-584a-4bea-9d29-a94bad318886",
   "metadata": {},
   "outputs": [],
   "source": [
    "sol = Solution()"
   ]
  },
  {
   "cell_type": "code",
   "execution_count": 4,
   "id": "f3b4aad4-262c-43d7-9c51-e5b34b7b3df2",
   "metadata": {},
   "outputs": [],
   "source": [
    "assert sol.arrayRankTransform([40,10,20,30]) == [4,1,2,3]"
   ]
  },
  {
   "cell_type": "code",
   "execution_count": 5,
   "id": "ec411216-9e3a-4e2e-b3c4-c148ffd495b5",
   "metadata": {},
   "outputs": [],
   "source": [
    "assert sol.arrayRankTransform([100,100,100]) == [1,1,1]"
   ]
  },
  {
   "cell_type": "code",
   "execution_count": 6,
   "id": "b6aa1cf7-d392-45f4-a19d-a213e7932699",
   "metadata": {},
   "outputs": [],
   "source": [
    "assert sol.arrayRankTransform([37,12,28,9,100,56,80,5,12]) == [5,3,4,2,8,6,7,1,3]"
   ]
  }
 ],
 "metadata": {
  "kernelspec": {
   "display_name": "Python 3 (ipykernel)",
   "language": "python",
   "name": "python3"
  },
  "language_info": {
   "codemirror_mode": {
    "name": "ipython",
    "version": 3
   },
   "file_extension": ".py",
   "mimetype": "text/x-python",
   "name": "python",
   "nbconvert_exporter": "python",
   "pygments_lexer": "ipython3",
   "version": "3.9.7"
  }
 },
 "nbformat": 4,
 "nbformat_minor": 5
}
