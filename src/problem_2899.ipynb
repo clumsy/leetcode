{
 "cells": [
  {
   "cell_type": "markdown",
   "id": "645099f8-b6f1-4d10-9123-aa9aa8dc9be2",
   "metadata": {},
   "source": [
    "[Problem 2899](https://leetcode.com/problems/last-visited-integers/description)"
   ]
  },
  {
   "cell_type": "code",
   "execution_count": 1,
   "id": "9f359907-302a-4159-9f43-1a9fe0e72101",
   "metadata": {},
   "outputs": [],
   "source": [
    "from typing import List"
   ]
  },
  {
   "cell_type": "code",
   "execution_count": 2,
   "id": "af7b4a59-ea1e-45a2-9947-080abe38efcd",
   "metadata": {},
   "outputs": [],
   "source": [
    "class Solution:\n",
    "    def lastVisitedIntegers(self, words: List[str]) -> List[int]:\n",
    "        res = []\n",
    "        prv = e = 0\n",
    "        for i, w in enumerate(words):\n",
    "            if w == \"prev\":\n",
    "                res.append(int(words[e - 1 - prv]) if e - 1 - prv >= 0 else -1)\n",
    "                prv += 1\n",
    "            else:\n",
    "                words[e] = w\n",
    "                e += 1\n",
    "                prv = 0\n",
    "        return res"
   ]
  },
  {
   "cell_type": "code",
   "execution_count": 3,
   "id": "ca45a728-289c-46f6-bc66-4e758fe28902",
   "metadata": {},
   "outputs": [],
   "source": [
    "sol = Solution()"
   ]
  },
  {
   "cell_type": "code",
   "execution_count": 4,
   "id": "74d41400-1fa5-4972-ad60-7999139cb041",
   "metadata": {},
   "outputs": [],
   "source": [
    "assert sol.lastVisitedIntegers([\"1\",\"2\",\"prev\",\"prev\",\"prev\"]) == [2,1,-1]"
   ]
  },
  {
   "cell_type": "code",
   "execution_count": 5,
   "id": "21eb2b77-1d12-4775-9d8e-dbf2a59662e4",
   "metadata": {},
   "outputs": [],
   "source": [
    "assert sol.lastVisitedIntegers([\"1\",\"prev\",\"2\",\"prev\",\"prev\"]) == [1,2,1]"
   ]
  }
 ],
 "metadata": {
  "kernelspec": {
   "display_name": "Python 3 (ipykernel)",
   "language": "python",
   "name": "python3"
  },
  "language_info": {
   "codemirror_mode": {
    "name": "ipython",
    "version": 3
   },
   "file_extension": ".py",
   "mimetype": "text/x-python",
   "name": "python",
   "nbconvert_exporter": "python",
   "pygments_lexer": "ipython3",
   "version": "3.9.7"
  }
 },
 "nbformat": 4,
 "nbformat_minor": 5
}
