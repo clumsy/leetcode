{
 "cells": [
  {
   "cell_type": "markdown",
   "id": "dc7fd3f3-24c1-4962-9536-ec0777587d14",
   "metadata": {},
   "source": [
    "[Problem 709](https://leetcode.com/problems/to-lower-case/description)"
   ]
  },
  {
   "cell_type": "code",
   "execution_count": 1,
   "id": "8198536f-f90f-4237-af97-927982a83a75",
   "metadata": {},
   "outputs": [],
   "source": [
    "from typing import List"
   ]
  },
  {
   "cell_type": "code",
   "execution_count": 2,
   "id": "bb136d34-87fa-4d31-9bd1-44895254d321",
   "metadata": {},
   "outputs": [],
   "source": [
    "class Solution:\n",
    "    def toLowerCase(self, s: str) -> str:\n",
    "        return s.lower()"
   ]
  },
  {
   "cell_type": "code",
   "execution_count": 3,
   "id": "6e96edd0-9b6a-4442-8489-69aa00e07597",
   "metadata": {},
   "outputs": [],
   "source": [
    "sol = Solution()"
   ]
  },
  {
   "cell_type": "code",
   "execution_count": 4,
   "id": "ea27847b-ed65-435f-a7a5-20b18b11ee00",
   "metadata": {},
   "outputs": [],
   "source": [
    "assert sol.toLowerCase(\"Hello\") == \"hello\""
   ]
  },
  {
   "cell_type": "code",
   "execution_count": 5,
   "id": "7bcc6b29-b78b-480c-b51d-61b6e3ea41ff",
   "metadata": {},
   "outputs": [],
   "source": [
    "assert sol.toLowerCase(\"here\") == \"here\""
   ]
  },
  {
   "cell_type": "code",
   "execution_count": 6,
   "id": "28989aab-1765-4396-ba7f-883182aaf46b",
   "metadata": {},
   "outputs": [],
   "source": [
    "assert sol.toLowerCase(\"LOVELY\") == \"lovely\""
   ]
  }
 ],
 "metadata": {
  "kernelspec": {
   "display_name": "Python 3 (ipykernel)",
   "language": "python",
   "name": "python3"
  },
  "language_info": {
   "codemirror_mode": {
    "name": "ipython",
    "version": 3
   },
   "file_extension": ".py",
   "mimetype": "text/x-python",
   "name": "python",
   "nbconvert_exporter": "python",
   "pygments_lexer": "ipython3",
   "version": "3.9.7"
  }
 },
 "nbformat": 4,
 "nbformat_minor": 5
}
