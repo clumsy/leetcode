{
 "cells": [
  {
   "cell_type": "markdown",
   "id": "b2ac4f0b-02b7-47ac-80df-9c07c35be27e",
   "metadata": {},
   "source": [
    "[Problem 374](https://leetcode.com/problems/guess-number-higher-or-lower/)"
   ]
  },
  {
   "cell_type": "code",
   "execution_count": 4,
   "id": "e37285ae-3e06-4647-ad94-ca192e08a51f",
   "metadata": {},
   "outputs": [],
   "source": [
    "class Solution:\n",
    "    def guessNumber(self, n: int) -> int:\n",
    "        lo, hi = 1, n\n",
    "        while lo <= hi:\n",
    "            mid = (lo + hi)//2\n",
    "            res = guess(mid)\n",
    "            if res == 0:\n",
    "                return mid\n",
    "            elif res > 0:\n",
    "                lo = mid + 1\n",
    "            else:\n",
    "                hi = mid - 1\n",
    "        raise"
   ]
  },
  {
   "cell_type": "code",
   "execution_count": 26,
   "id": "9e9ddc67-3b6d-4e00-b43d-1f4838c4557e",
   "metadata": {},
   "outputs": [],
   "source": [
    "def guess(g):\n",
    "    if Solution.pick == g:\n",
    "        return 0\n",
    "    else:\n",
    "        return (Solution.pick - g) // abs(Solution.pick - g)\n",
    "\n",
    "Solution.guess = guess"
   ]
  },
  {
   "cell_type": "code",
   "execution_count": 27,
   "id": "259972b5-479e-4e9d-b450-2855e944357d",
   "metadata": {},
   "outputs": [],
   "source": [
    "sol = Solution()"
   ]
  },
  {
   "cell_type": "code",
   "execution_count": 28,
   "id": "ed6e5401-7752-454a-a2b9-98441d52fee9",
   "metadata": {},
   "outputs": [],
   "source": [
    "Solution.pick = 6\n",
    "assert sol.guessNumber(10) == sol.pick"
   ]
  },
  {
   "cell_type": "code",
   "execution_count": 29,
   "id": "e40cf25a-11ef-44ae-ad00-55a972ca7be0",
   "metadata": {},
   "outputs": [],
   "source": [
    "Solution.pick = 1\n",
    "assert sol.guessNumber(1) == sol.pick"
   ]
  },
  {
   "cell_type": "code",
   "execution_count": 30,
   "id": "768e4c7b-a560-4e6a-aa0b-381506dfc743",
   "metadata": {},
   "outputs": [],
   "source": [
    "Solution.pick = 1\n",
    "assert sol.guessNumber(2) == sol.pick"
   ]
  }
 ],
 "metadata": {
  "kernelspec": {
   "display_name": "Python 3 (ipykernel)",
   "language": "python",
   "name": "python3"
  },
  "language_info": {
   "codemirror_mode": {
    "name": "ipython",
    "version": 3
   },
   "file_extension": ".py",
   "mimetype": "text/x-python",
   "name": "python",
   "nbconvert_exporter": "python",
   "pygments_lexer": "ipython3",
   "version": "3.9.7"
  }
 },
 "nbformat": 4,
 "nbformat_minor": 5
}
