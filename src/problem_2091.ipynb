{
 "cells": [
  {
   "cell_type": "markdown",
   "id": "ea2bffb0-6501-4aad-aedc-3fe0617c791b",
   "metadata": {},
   "source": [
    "[Problem 2091](https://leetcode.com/problems/removing-minimum-and-maximum-from-array/description)"
   ]
  },
  {
   "cell_type": "code",
   "execution_count": 1,
   "id": "edb6e690-be2a-444b-9f30-50a0be26c135",
   "metadata": {},
   "outputs": [],
   "source": [
    "from typing import List"
   ]
  },
  {
   "cell_type": "code",
   "execution_count": 2,
   "id": "22533d27-3a7f-432f-a1df-aa82d552df62",
   "metadata": {},
   "outputs": [],
   "source": [
    "class Solution:\n",
    "    def minimumDeletions(self, nums: List[int]) -> int:\n",
    "        n, mi, ma = len(nums), 0, 0\n",
    "        for i in range(n):\n",
    "            if nums[i] < nums[mi]:\n",
    "                mi = i\n",
    "            if nums[i] > nums[ma]:\n",
    "                ma = i\n",
    "        mi, ma = (ma, mi) if ma < mi else (mi, ma)\n",
    "        res = min(max(mi + 1, ma + 1), max(n - ma, n - mi), mi + 1 + n - ma)\n",
    "        return res"
   ]
  },
  {
   "cell_type": "code",
   "execution_count": 3,
   "id": "44e6ab8f-56e0-43c4-9204-29d2c910470a",
   "metadata": {},
   "outputs": [],
   "source": [
    "sol = Solution()"
   ]
  },
  {
   "cell_type": "code",
   "execution_count": 4,
   "id": "a88cf3ad-01d7-49d0-9d43-5764d03f8eae",
   "metadata": {},
   "outputs": [],
   "source": [
    "assert sol.minimumDeletions([2,10,7,5,4,1,8,6]) == 5"
   ]
  },
  {
   "cell_type": "code",
   "execution_count": 5,
   "id": "22b53c8f-1a90-4a22-8ff2-a633dacbf2e2",
   "metadata": {},
   "outputs": [],
   "source": [
    "assert sol.minimumDeletions([0,-4,19,1,8,-2,-3,5]) == 3"
   ]
  },
  {
   "cell_type": "code",
   "execution_count": 6,
   "id": "85ad0215-0a3e-4eac-b2f3-f20c6560508f",
   "metadata": {},
   "outputs": [],
   "source": [
    "assert sol.minimumDeletions([101]) == 1"
   ]
  }
 ],
 "metadata": {
  "kernelspec": {
   "display_name": "Python 3 (ipykernel)",
   "language": "python",
   "name": "python3"
  },
  "language_info": {
   "codemirror_mode": {
    "name": "ipython",
    "version": 3
   },
   "file_extension": ".py",
   "mimetype": "text/x-python",
   "name": "python",
   "nbconvert_exporter": "python",
   "pygments_lexer": "ipython3",
   "version": "3.9.7"
  }
 },
 "nbformat": 4,
 "nbformat_minor": 5
}
