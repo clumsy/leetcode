{
 "cells": [
  {
   "cell_type": "markdown",
   "id": "df3c82e1-d0a9-4dbf-9a14-97e36cd36b48",
   "metadata": {},
   "source": [
    "[Problem 2874](https://leetcode.com/problems/maximum-value-of-an-ordered-triplet-ii/description)"
   ]
  },
  {
   "cell_type": "code",
   "execution_count": 1,
   "id": "fc7a58b1-ee3f-4f7a-a8ff-60d71c2f9659",
   "metadata": {},
   "outputs": [],
   "source": [
    "from typing import List\n",
    "from collections import Counter\n",
    "from heapq import heapify, heappop"
   ]
  },
  {
   "cell_type": "code",
   "execution_count": 2,
   "id": "1a3f3b9d-f1c6-440e-843a-3f87cafe450f",
   "metadata": {},
   "outputs": [],
   "source": [
    "class Solution:\n",
    "    def maximumTripletValue(self, nums: List[int]) -> int:\n",
    "        l_mi = l_ma = nums[0]\n",
    "        cnt = Counter(nums[1:])\n",
    "        maxs = [-i for i in nums[1:]]\n",
    "        heapify(maxs)\n",
    "        res, n = 0, len(nums)\n",
    "        for j in range(1, n - 1):\n",
    "            cnt[nums[j]] -= 1\n",
    "            while cnt[-maxs[0]] == 0:\n",
    "                heappop(maxs)\n",
    "            cur = (l_ma - nums[j]) * -maxs[0]\n",
    "            res = max(res, cur)\n",
    "            l_ma, l_mi = max(l_ma, nums[j]), min(l_mi, nums[j])\n",
    "        res = max(res, 0)\n",
    "        return res"
   ]
  },
  {
   "cell_type": "code",
   "execution_count": 3,
   "id": "ec2bf9a0-10cd-43b8-901e-e16c8680d5d9",
   "metadata": {},
   "outputs": [],
   "source": [
    "class Solution:\n",
    "    def maximumTripletValue(self, nums: List[int]) -> int:\n",
    "        res = maxd = maxi = 0\n",
    "        for i in nums:\n",
    "            res = max(res, maxd * i)\n",
    "            maxd = max(maxd, maxi - i)\n",
    "            maxi = max(maxi, i)\n",
    "        return res"
   ]
  },
  {
   "cell_type": "code",
   "execution_count": 4,
   "id": "41fbf735-714f-480c-a070-d1b6e1f4d484",
   "metadata": {},
   "outputs": [],
   "source": [
    "sol = Solution()"
   ]
  },
  {
   "cell_type": "code",
   "execution_count": 5,
   "id": "017850fa-6eca-4f2b-a93b-ad871409df0f",
   "metadata": {},
   "outputs": [],
   "source": [
    "assert sol.maximumTripletValue([12,6,1,2,7]) == 77"
   ]
  },
  {
   "cell_type": "code",
   "execution_count": 6,
   "id": "8e79c942-9c76-41d2-8178-c6985bde9d0c",
   "metadata": {},
   "outputs": [],
   "source": [
    "assert sol.maximumTripletValue([1,10,3,4,19]) == 133"
   ]
  },
  {
   "cell_type": "code",
   "execution_count": 7,
   "id": "863d002c-4634-4546-b54f-81cd70a18aec",
   "metadata": {},
   "outputs": [],
   "source": [
    "assert sol.maximumTripletValue([1,2,3]) == 0"
   ]
  }
 ],
 "metadata": {
  "kernelspec": {
   "display_name": "Python 3 (ipykernel)",
   "language": "python",
   "name": "python3"
  },
  "language_info": {
   "codemirror_mode": {
    "name": "ipython",
    "version": 3
   },
   "file_extension": ".py",
   "mimetype": "text/x-python",
   "name": "python",
   "nbconvert_exporter": "python",
   "pygments_lexer": "ipython3",
   "version": "3.9.7"
  }
 },
 "nbformat": 4,
 "nbformat_minor": 5
}
