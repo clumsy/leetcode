{
 "cells": [
  {
   "cell_type": "markdown",
   "id": "6fad651f-702c-4c99-8c4f-772d99aeea69",
   "metadata": {},
   "source": [
    "[Problem 2231](https://leetcode.com/problems/largest-number-after-digit-swaps-by-parity/description)"
   ]
  },
  {
   "cell_type": "code",
   "execution_count": 4,
   "id": "84f807f2-5d00-4de2-bebe-ea86c6eb379c",
   "metadata": {},
   "outputs": [],
   "source": [
    "from heapq import heappush, heappop"
   ]
  },
  {
   "cell_type": "code",
   "execution_count": 5,
   "id": "a24b5e1a-d9c7-425b-b47e-82e2654a13f3",
   "metadata": {},
   "outputs": [],
   "source": [
    "class Solution:\n",
    "    def largestInteger(self, num: int) -> int:\n",
    "        odd, even = [], []\n",
    "        n = num\n",
    "        while n > 0:\n",
    "            n, d = divmod(n, 10)\n",
    "            heappush(even if d & 1 == 0 else odd, d)\n",
    "        res, p = 0, 1\n",
    "        while num > 0:\n",
    "            num, d = divmod(num, 10)\n",
    "            res += heappop(even if d & 1 == 0 else odd) * p\n",
    "            p *= 10\n",
    "        return res"
   ]
  },
  {
   "cell_type": "code",
   "execution_count": 6,
   "id": "382f7b40-9657-410c-8e10-b60311e32314",
   "metadata": {},
   "outputs": [],
   "source": [
    "sol = Solution()"
   ]
  },
  {
   "cell_type": "code",
   "execution_count": 7,
   "id": "c193c4c2-5351-4486-bca8-0f18d96320a6",
   "metadata": {},
   "outputs": [],
   "source": [
    "assert sol.largestInteger(1234) == 3412"
   ]
  },
  {
   "cell_type": "code",
   "execution_count": 8,
   "id": "651e9823-70bd-481d-aa11-1a73721f9662",
   "metadata": {},
   "outputs": [],
   "source": [
    "assert sol.largestInteger(65875) == 87655"
   ]
  }
 ],
 "metadata": {
  "kernelspec": {
   "display_name": "Python 3 (ipykernel)",
   "language": "python",
   "name": "python3"
  },
  "language_info": {
   "codemirror_mode": {
    "name": "ipython",
    "version": 3
   },
   "file_extension": ".py",
   "mimetype": "text/x-python",
   "name": "python",
   "nbconvert_exporter": "python",
   "pygments_lexer": "ipython3",
   "version": "3.9.7"
  }
 },
 "nbformat": 4,
 "nbformat_minor": 5
}
