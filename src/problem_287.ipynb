{
 "cells": [
  {
   "cell_type": "markdown",
   "id": "3a88bcf5-a4bf-4947-afc0-3ec5f9f0c1a3",
   "metadata": {},
   "source": [
    "[Problem 287](https://leetcode.com/problems/find-the-duplicate-number/)"
   ]
  },
  {
   "cell_type": "code",
   "execution_count": 1,
   "id": "a9e19977-d42b-426f-9fcf-97918a2a0568",
   "metadata": {},
   "outputs": [],
   "source": [
    "from typing import List"
   ]
  },
  {
   "cell_type": "code",
   "execution_count": 2,
   "id": "9c443da9-bd18-4520-8bf7-5af2d76b7edb",
   "metadata": {},
   "outputs": [],
   "source": [
    "class Solution:\n",
    "    def findDuplicate(self, nums: List[int]) -> int:\n",
    "        n = len(nums)\n",
    "        lo, hi = 1, n\n",
    "        while lo < hi:\n",
    "            mi = lo + (hi - lo) // 2\n",
    "            s = sum(i <= mi for i in nums)\n",
    "            if s > mi:\n",
    "                hi = mi\n",
    "            else:\n",
    "                lo = mi + 1\n",
    "        return lo"
   ]
  },
  {
   "cell_type": "code",
   "execution_count": 3,
   "id": "c76411de-877c-4c73-bf82-e7093f7a2f70",
   "metadata": {},
   "outputs": [],
   "source": [
    "sol = Solution()"
   ]
  },
  {
   "cell_type": "code",
   "execution_count": 4,
   "id": "def1b62d-fe7a-486a-be41-6ae4c6ad5ada",
   "metadata": {},
   "outputs": [],
   "source": [
    "assert sol.findDuplicate([1,3,4,2,2]) == 2"
   ]
  },
  {
   "cell_type": "code",
   "execution_count": 5,
   "id": "cdbc51c0-a8b1-4a8c-ae97-9d8ec80bdeea",
   "metadata": {},
   "outputs": [],
   "source": [
    "assert sol.findDuplicate([3,1,3,4,2]) == 3"
   ]
  }
 ],
 "metadata": {
  "kernelspec": {
   "display_name": "Python 3 (ipykernel)",
   "language": "python",
   "name": "python3"
  },
  "language_info": {
   "codemirror_mode": {
    "name": "ipython",
    "version": 3
   },
   "file_extension": ".py",
   "mimetype": "text/x-python",
   "name": "python",
   "nbconvert_exporter": "python",
   "pygments_lexer": "ipython3",
   "version": "3.9.7"
  }
 },
 "nbformat": 4,
 "nbformat_minor": 5
}
