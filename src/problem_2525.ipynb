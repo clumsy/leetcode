{
 "cells": [
  {
   "cell_type": "markdown",
   "id": "22d150f9-9498-4257-ae47-c4ec6eb5ff8d",
   "metadata": {},
   "source": [
    "[Problem 2525](https://leetcode.com/problems/categorize-box-according-to-criteria/description)"
   ]
  },
  {
   "cell_type": "code",
   "execution_count": 1,
   "id": "534f4b7b-2828-4690-b563-a3453cd71e14",
   "metadata": {},
   "outputs": [],
   "source": [
    "class Solution:\n",
    "    def categorizeBox(self, l: int, w: int, h: int, m: int) -> str:\n",
    "        bulky = max(l, w, h) >= 1e4 or l * w * h >= 1e9\n",
    "        heavy = m >= 100\n",
    "        if bulky and heavy:\n",
    "            return \"Both\"\n",
    "        if bulky:\n",
    "            return \"Bulky\"\n",
    "        if heavy:\n",
    "            return \"Heavy\"\n",
    "        return \"Neither\""
   ]
  },
  {
   "cell_type": "code",
   "execution_count": 2,
   "id": "f2eefd1a-f2d3-4a5c-9bc7-e93ba00d94e0",
   "metadata": {},
   "outputs": [],
   "source": [
    "sol = Solution()"
   ]
  },
  {
   "cell_type": "code",
   "execution_count": 3,
   "id": "8c1b9826-5464-43ee-85be-92515e8b938d",
   "metadata": {},
   "outputs": [],
   "source": [
    "assert sol.categorizeBox(1000, 35, 700, 300) == \"Heavy\""
   ]
  },
  {
   "cell_type": "code",
   "execution_count": 4,
   "id": "71f541c6-65f8-4520-b19f-b2e234107448",
   "metadata": {},
   "outputs": [],
   "source": [
    "assert sol.categorizeBox(200, 50, 800, 50) == \"Neither\""
   ]
  }
 ],
 "metadata": {
  "kernelspec": {
   "display_name": "Python 3 (ipykernel)",
   "language": "python",
   "name": "python3"
  },
  "language_info": {
   "codemirror_mode": {
    "name": "ipython",
    "version": 3
   },
   "file_extension": ".py",
   "mimetype": "text/x-python",
   "name": "python",
   "nbconvert_exporter": "python",
   "pygments_lexer": "ipython3",
   "version": "3.9.7"
  }
 },
 "nbformat": 4,
 "nbformat_minor": 5
}
