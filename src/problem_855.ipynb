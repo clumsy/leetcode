{
 "cells": [
  {
   "cell_type": "markdown",
   "id": "373ae0c2-3a64-47cb-8914-1857ab10898a",
   "metadata": {},
   "source": [
    "[Problem 855](https://leetcode.com/problems/exam-room)"
   ]
  },
  {
   "cell_type": "code",
   "execution_count": 86,
   "id": "b82fa790-fab8-437f-83f4-dc2db6c4e88d",
   "metadata": {},
   "outputs": [],
   "source": [
    "class ExamRoom:\n",
    "\n",
    "    def __init__(self, n: int):\n",
    "        self.a = []\n",
    "        self.n = n\n",
    "\n",
    "    def seat(self) -> int:\n",
    "        if not self.a:\n",
    "            self.a = [0]\n",
    "            return 0\n",
    "\n",
    "        ma = self.a[0]\n",
    "        mi = 0\n",
    "        for i in range(1, len(self.a)):\n",
    "            candidate = (self.a[i] - self.a[i - 1])//2\n",
    "            if candidate > ma:\n",
    "                ma = candidate\n",
    "                mi = i\n",
    "                    \n",
    "        if self.n - 1 - self.a[len(self.a) - 1] > ma:\n",
    "            last = self.n - 1\n",
    "            self.a.append(last)\n",
    "            return last\n",
    "        \n",
    "        if mi == 0:\n",
    "            self.a = [0] + self.a\n",
    "        else:\n",
    "            self.a = self.a[:mi] + [self.a[mi - 1] + ma] + self.a[mi:]\n",
    "        return self.a[mi]\n",
    "\n",
    "    def leave(self, p: int) -> None:\n",
    "        for i in range(len(self.a)):\n",
    "            if self.a[i] == p:\n",
    "                del self.a[i]\n",
    "                return"
   ]
  },
  {
   "cell_type": "code",
   "execution_count": 83,
   "id": "9ba3ed21-8a3a-4eea-919b-545f32f6e5ef",
   "metadata": {},
   "outputs": [],
   "source": [
    "examRoom = ExamRoom(10)\n",
    "assert examRoom.seat() == 0\n",
    "assert examRoom.seat() == 9\n",
    "assert examRoom.seat() == 4\n",
    "assert examRoom.seat() == 2\n",
    "examRoom.leave(4)\n",
    "assert examRoom.seat() == 5"
   ]
  },
  {
   "cell_type": "code",
   "execution_count": 84,
   "id": "3cbae285-8a4c-4e03-89a9-62019be6867a",
   "metadata": {},
   "outputs": [],
   "source": [
    "examRoom = ExamRoom(4)\n",
    "assert examRoom.seat() == 0\n",
    "assert examRoom.seat() == 3\n",
    "assert examRoom.seat() == 1\n",
    "assert examRoom.seat() == 2\n",
    "examRoom.leave(1)\n",
    "examRoom.leave(3)\n",
    "assert examRoom.seat() == 1"
   ]
  },
  {
   "cell_type": "code",
   "execution_count": 85,
   "id": "92c3cdda-e7d0-46f7-bd77-6fdc574ae0c5",
   "metadata": {},
   "outputs": [],
   "source": [
    "examRoom = ExamRoom(10)\n",
    "assert examRoom.seat() == 0\n",
    "assert examRoom.seat() == 9\n",
    "assert examRoom.seat() == 4\n",
    "examRoom.leave(0)\n",
    "examRoom.leave(4)\n",
    "assert examRoom.seat() == 0\n",
    "assert examRoom.seat() == 4\n",
    "assert examRoom.seat() == 2\n",
    "assert examRoom.seat() == 6\n",
    "assert examRoom.seat() == 1\n",
    "assert examRoom.seat() == 3\n",
    "assert examRoom.seat() == 5\n",
    "assert examRoom.seat() == 7\n",
    "assert examRoom.seat() == 8\n",
    "examRoom.leave(0)"
   ]
  },
  {
   "cell_type": "code",
   "execution_count": null,
   "id": "6fffd342-7f3c-4660-ae2b-22cdc7b9a4a7",
   "metadata": {},
   "outputs": [],
   "source": []
  }
 ],
 "metadata": {
  "kernelspec": {
   "display_name": "Python 3 (ipykernel)",
   "language": "python",
   "name": "python3"
  },
  "language_info": {
   "codemirror_mode": {
    "name": "ipython",
    "version": 3
   },
   "file_extension": ".py",
   "mimetype": "text/x-python",
   "name": "python",
   "nbconvert_exporter": "python",
   "pygments_lexer": "ipython3",
   "version": "3.9.7"
  }
 },
 "nbformat": 4,
 "nbformat_minor": 5
}
