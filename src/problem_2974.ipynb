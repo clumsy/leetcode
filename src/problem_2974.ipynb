{
 "cells": [
  {
   "cell_type": "markdown",
   "id": "c0106f70-8da2-4d14-ba50-561ce57f1810",
   "metadata": {},
   "source": [
    "[Problem 2974](https://leetcode.com/problems/minimum-number-game/description)"
   ]
  },
  {
   "cell_type": "code",
   "execution_count": 1,
   "id": "cef064e2-240b-4032-8420-1d15f7f5cf9c",
   "metadata": {},
   "outputs": [],
   "source": [
    "from typing import List"
   ]
  },
  {
   "cell_type": "code",
   "execution_count": 2,
   "id": "bdcdecc5-b6f2-4a45-b1d5-5aefe6985464",
   "metadata": {},
   "outputs": [],
   "source": [
    "class Solution:\n",
    "    def numberGame(self, nums: List[int]) -> List[int]:\n",
    "        nums.sort()\n",
    "        res = [e for l, r in zip(nums[1::2], nums[::2]) for e in (l, r)]\n",
    "        return res"
   ]
  },
  {
   "cell_type": "code",
   "execution_count": 3,
   "id": "21a29593-ebda-4fd0-8113-29f156a17c64",
   "metadata": {},
   "outputs": [],
   "source": [
    "sol = Solution()"
   ]
  },
  {
   "cell_type": "code",
   "execution_count": 4,
   "id": "be212d95-d596-4ecd-940a-21e2220aabd5",
   "metadata": {},
   "outputs": [],
   "source": [
    "assert sol.numberGame([5,4,2,3]) == [3,2,5,4]"
   ]
  },
  {
   "cell_type": "code",
   "execution_count": 5,
   "id": "850ae5e4-056e-4ae3-b2ef-251cc552e93c",
   "metadata": {},
   "outputs": [],
   "source": [
    "assert sol.numberGame([2,5]) == [5,2]"
   ]
  }
 ],
 "metadata": {
  "kernelspec": {
   "display_name": "Python 3 (ipykernel)",
   "language": "python",
   "name": "python3"
  },
  "language_info": {
   "codemirror_mode": {
    "name": "ipython",
    "version": 3
   },
   "file_extension": ".py",
   "mimetype": "text/x-python",
   "name": "python",
   "nbconvert_exporter": "python",
   "pygments_lexer": "ipython3",
   "version": "3.9.7"
  }
 },
 "nbformat": 4,
 "nbformat_minor": 5
}
