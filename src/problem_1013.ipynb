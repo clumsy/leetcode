{
 "cells": [
  {
   "cell_type": "markdown",
   "id": "9a8d3fd9-c6b8-4358-9a7f-e6b81562b316",
   "metadata": {},
   "source": [
    "[Problem 1013](https://leetcode.com/problems/partition-array-into-three-parts-with-equal-sum/description)"
   ]
  },
  {
   "cell_type": "code",
   "execution_count": 1,
   "id": "717fce20-b5c5-4ece-8d18-9508dfb8b774",
   "metadata": {},
   "outputs": [],
   "source": [
    "from typing import List"
   ]
  },
  {
   "cell_type": "code",
   "execution_count": 2,
   "id": "74b59765-6cf4-40f2-81e9-2eb13b2ecb7b",
   "metadata": {},
   "outputs": [],
   "source": [
    "class Solution:\n",
    "    def canThreePartsEqualSum(self, arr: List[int]) -> bool:\n",
    "        d, r = divmod(sum(arr), 3)\n",
    "        if r != 0:\n",
    "            res = False\n",
    "        else:\n",
    "            n = len(arr)\n",
    "            lo, hi = 0, n - 1\n",
    "            lft, rgt = arr[lo], arr[hi]\n",
    "            while lo < hi and lft != rgt:\n",
    "                while lo < hi and lft != d:\n",
    "                    lo += 1\n",
    "                    lft += arr[lo]\n",
    "                while lo < hi and rgt != d:\n",
    "                    hi -= 1\n",
    "                    rgt += arr[hi]\n",
    "            res = hi - lo > 1 and lft == rgt == d\n",
    "        return res"
   ]
  },
  {
   "cell_type": "code",
   "execution_count": 3,
   "id": "1827fa52-96ee-470b-b157-85a8ecb1ef4c",
   "metadata": {},
   "outputs": [],
   "source": [
    "sol = Solution()"
   ]
  },
  {
   "cell_type": "code",
   "execution_count": 4,
   "id": "52578b4a-7560-4469-a8c1-6949992c7d58",
   "metadata": {},
   "outputs": [],
   "source": [
    "assert sol.canThreePartsEqualSum([0,2,1,-6,6,-7,9,1,2,0,1])"
   ]
  },
  {
   "cell_type": "code",
   "execution_count": 5,
   "id": "406c3b23-674e-4cf8-b12f-4e62de953edf",
   "metadata": {},
   "outputs": [],
   "source": [
    "assert not sol.canThreePartsEqualSum([0,2,1,-6,6,7,9,-1,2,0,1])"
   ]
  },
  {
   "cell_type": "code",
   "execution_count": 6,
   "id": "0933e74d-314d-4ef0-a322-a9927dac9a6d",
   "metadata": {},
   "outputs": [],
   "source": [
    "assert sol.canThreePartsEqualSum([3,3,6,5,-2,2,5,1,-9,4])"
   ]
  }
 ],
 "metadata": {
  "kernelspec": {
   "display_name": "Python 3 (ipykernel)",
   "language": "python",
   "name": "python3"
  },
  "language_info": {
   "codemirror_mode": {
    "name": "ipython",
    "version": 3
   },
   "file_extension": ".py",
   "mimetype": "text/x-python",
   "name": "python",
   "nbconvert_exporter": "python",
   "pygments_lexer": "ipython3",
   "version": "3.9.7"
  }
 },
 "nbformat": 4,
 "nbformat_minor": 5
}
