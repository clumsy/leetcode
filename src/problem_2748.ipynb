{
 "cells": [
  {
   "cell_type": "markdown",
   "id": "922a3ee4-592b-4708-9b7a-20f37ab08f99",
   "metadata": {},
   "source": [
    "[Problem 2748](https://leetcode.com/problems/number-of-beautiful-pairs/description)"
   ]
  },
  {
   "cell_type": "code",
   "execution_count": 3,
   "id": "27d04109-61ca-4bd2-9331-da65651a2141",
   "metadata": {},
   "outputs": [],
   "source": [
    "from typing import List\n",
    "from collections import Counter"
   ]
  },
  {
   "cell_type": "code",
   "execution_count": 4,
   "id": "08735b6e-51a5-40f5-b9cc-eab463951816",
   "metadata": {},
   "outputs": [],
   "source": [
    "class Solution:\n",
    "    def countBeautifulPairs(self, nums: List[int]) -> int:\n",
    "        def gcd(a, b):\n",
    "            return a if b == 0 else gcd(b, a % b)\n",
    "        cnt, res = Counter(), 0\n",
    "        for e in nums:\n",
    "            for k, v in cnt.items():\n",
    "                if gcd(k, e % 10) == 1:\n",
    "                    res += v\n",
    "            cnt[int(str(e)[0])] += 1\n",
    "        return res"
   ]
  },
  {
   "cell_type": "code",
   "execution_count": 5,
   "id": "27af35f2-d36a-4bfd-985a-833c5d2f6e97",
   "metadata": {},
   "outputs": [],
   "source": [
    "sol = Solution()"
   ]
  },
  {
   "cell_type": "code",
   "execution_count": 6,
   "id": "6f16f88c-5bf8-4cda-aa4c-cb67089e754d",
   "metadata": {},
   "outputs": [],
   "source": [
    "assert sol.countBeautifulPairs([2,5,1,4]) == 5"
   ]
  },
  {
   "cell_type": "code",
   "execution_count": 7,
   "id": "a6b77069-2f08-4032-805e-fa9184ddc82e",
   "metadata": {},
   "outputs": [],
   "source": [
    "assert sol.countBeautifulPairs([11,21,12]) == 2"
   ]
  }
 ],
 "metadata": {
  "kernelspec": {
   "display_name": "Python 3 (ipykernel)",
   "language": "python",
   "name": "python3"
  },
  "language_info": {
   "codemirror_mode": {
    "name": "ipython",
    "version": 3
   },
   "file_extension": ".py",
   "mimetype": "text/x-python",
   "name": "python",
   "nbconvert_exporter": "python",
   "pygments_lexer": "ipython3",
   "version": "3.9.7"
  }
 },
 "nbformat": 4,
 "nbformat_minor": 5
}
