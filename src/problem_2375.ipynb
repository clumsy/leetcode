{
 "cells": [
  {
   "cell_type": "markdown",
   "id": "9f9f3bd5-a0de-4e97-bb6b-9b89af23a325",
   "metadata": {},
   "source": [
    "[Problem 2375](https://leetcode.com/problems/construct-smallest-number-from-di-string/description)"
   ]
  },
  {
   "cell_type": "code",
   "execution_count": 1,
   "id": "bb9b9c95-cdae-4a6b-a6c2-ad69529f9c9b",
   "metadata": {},
   "outputs": [],
   "source": [
    "class Solution:\n",
    "    def smallestNumber(self, pattern: str) -> str:\n",
    "        res = [None] * (len(pattern) + 1)\n",
    "        cur, d = 1, 0\n",
    "        for i, c in enumerate(pattern):\n",
    "            if c == \"I\":\n",
    "                nxt = cur + d + 1\n",
    "                while d:\n",
    "                    res[i - d] = cur + d\n",
    "                    d -= 1\n",
    "                res[i], cur = cur, nxt\n",
    "            else:\n",
    "                d += 1\n",
    "        i += 1\n",
    "        while d >= 0:\n",
    "            res[i - d] = cur + d\n",
    "            d -= 1\n",
    "        res = \"\".join(str(i) for i in res)\n",
    "        return res"
   ]
  },
  {
   "cell_type": "code",
   "execution_count": 2,
   "id": "ca36fea8-f8c1-4ff0-8795-63f155af993b",
   "metadata": {},
   "outputs": [],
   "source": [
    "sol = Solution()"
   ]
  },
  {
   "cell_type": "code",
   "execution_count": 3,
   "id": "3ce4431b-5f54-46d6-bcae-90ffc47c66d0",
   "metadata": {},
   "outputs": [],
   "source": [
    "assert sol.smallestNumber(\"IIIDIDDD\") == \"123549876\""
   ]
  },
  {
   "cell_type": "code",
   "execution_count": 4,
   "id": "3a5d4ece-bc1b-4362-94fe-2e72322cc1e1",
   "metadata": {},
   "outputs": [],
   "source": [
    "assert sol.smallestNumber(\"DDD\") == \"4321\""
   ]
  }
 ],
 "metadata": {
  "kernelspec": {
   "display_name": "Python 3 (ipykernel)",
   "language": "python",
   "name": "python3"
  },
  "language_info": {
   "codemirror_mode": {
    "name": "ipython",
    "version": 3
   },
   "file_extension": ".py",
   "mimetype": "text/x-python",
   "name": "python",
   "nbconvert_exporter": "python",
   "pygments_lexer": "ipython3",
   "version": "3.9.7"
  }
 },
 "nbformat": 4,
 "nbformat_minor": 5
}
