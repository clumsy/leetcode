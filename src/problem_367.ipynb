{
 "cells": [
  {
   "cell_type": "markdown",
   "id": "4c428383-549e-4862-911b-b44f219bad92",
   "metadata": {},
   "source": [
    "[Problem 367](https://leetcode.com/problems/valid-perfect-square/)"
   ]
  },
  {
   "cell_type": "code",
   "execution_count": 1,
   "id": "f835f3bf-f3ab-406a-90f0-a2f693cd5b21",
   "metadata": {},
   "outputs": [],
   "source": [
    "class Solution:\n",
    "    def isPerfectSquare(self, num: int) -> bool:\n",
    "        lo, hi = 1, num\n",
    "        while lo < hi:\n",
    "            mi = (lo + hi) // 2\n",
    "            if mi * mi < num:\n",
    "                lo = mi + 1\n",
    "            else:\n",
    "                hi = mi\n",
    "        return lo * lo == num"
   ]
  },
  {
   "cell_type": "code",
   "execution_count": 2,
   "id": "ae98b8d0-779b-42cc-9709-388d8757aaf9",
   "metadata": {},
   "outputs": [],
   "source": [
    "sol = Solution()"
   ]
  },
  {
   "cell_type": "code",
   "execution_count": 3,
   "id": "1e973e48-9913-46d3-ac49-f2b353d5bbe9",
   "metadata": {},
   "outputs": [],
   "source": [
    "assert sol.isPerfectSquare(16)"
   ]
  },
  {
   "cell_type": "code",
   "execution_count": 4,
   "id": "764eeec2-3ebb-4235-a395-78c41ff53923",
   "metadata": {},
   "outputs": [],
   "source": [
    "assert not sol.isPerfectSquare(14)"
   ]
  }
 ],
 "metadata": {
  "kernelspec": {
   "display_name": "Python 3 (ipykernel)",
   "language": "python",
   "name": "python3"
  },
  "language_info": {
   "codemirror_mode": {
    "name": "ipython",
    "version": 3
   },
   "file_extension": ".py",
   "mimetype": "text/x-python",
   "name": "python",
   "nbconvert_exporter": "python",
   "pygments_lexer": "ipython3",
   "version": "3.9.7"
  }
 },
 "nbformat": 4,
 "nbformat_minor": 5
}
