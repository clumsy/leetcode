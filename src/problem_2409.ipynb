{
 "cells": [
  {
   "cell_type": "markdown",
   "id": "d6a3b32e-d52a-444e-b138-1a0d0a9c439d",
   "metadata": {},
   "source": [
    "[Problem 2409](https://leetcode.com/problems/count-days-spent-together/description)"
   ]
  },
  {
   "cell_type": "code",
   "execution_count": 1,
   "id": "83e7f7f4-b7dc-4529-a703-4401ff396cd8",
   "metadata": {},
   "outputs": [],
   "source": [
    "class Solution:\n",
    "    def countDaysTogether(self, arriveAlice: str, leaveAlice: str, arriveBob: str, leaveBob: str) -> int:\n",
    "        days = [31, 28, 31, 30, 31, 30, 31, 31, 30, 31, 30, 31, 30, 31]\n",
    "        def to_num(d):\n",
    "            m, d = (int(i.lstrip(\"0\")) for i in d.split(\"-\"))\n",
    "            return sum(days[i] for i in range(m - 1)) + d\n",
    "        aa, la = to_num(arriveAlice), to_num(leaveAlice)\n",
    "        ab, lb = to_num(arriveBob), to_num(leaveBob)\n",
    "        res = max(0, min(la, lb) - max(aa, ab) + 1)\n",
    "        return res"
   ]
  },
  {
   "cell_type": "code",
   "execution_count": 2,
   "id": "f1c2670e-c949-4da7-800f-848dd9c8b6d3",
   "metadata": {},
   "outputs": [],
   "source": [
    "sol = Solution()"
   ]
  },
  {
   "cell_type": "code",
   "execution_count": 3,
   "id": "3103f985-e6de-4227-bbd6-bc8f943aeeb6",
   "metadata": {},
   "outputs": [],
   "source": [
    "assert sol.countDaysTogether(\"08-15\", \"08-18\", \"08-16\", \"08-19\") == 3"
   ]
  },
  {
   "cell_type": "code",
   "execution_count": 4,
   "id": "463d3cf1-0127-4c1a-8223-1a1bb321db3f",
   "metadata": {},
   "outputs": [],
   "source": [
    "assert sol.countDaysTogether(\"10-01\", \"10-31\", \"11-01\", \"12-31\") == 0"
   ]
  }
 ],
 "metadata": {
  "kernelspec": {
   "display_name": "Python 3 (ipykernel)",
   "language": "python",
   "name": "python3"
  },
  "language_info": {
   "codemirror_mode": {
    "name": "ipython",
    "version": 3
   },
   "file_extension": ".py",
   "mimetype": "text/x-python",
   "name": "python",
   "nbconvert_exporter": "python",
   "pygments_lexer": "ipython3",
   "version": "3.9.7"
  }
 },
 "nbformat": 4,
 "nbformat_minor": 5
}
