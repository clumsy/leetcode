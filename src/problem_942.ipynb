{
 "cells": [
  {
   "cell_type": "markdown",
   "id": "9f01486f-eb0a-4488-8e64-74702cd21bf3",
   "metadata": {},
   "source": [
    "[Problem 942](https://leetcode.com/problems/di-string-match/description)"
   ]
  },
  {
   "cell_type": "code",
   "execution_count": 1,
   "id": "5e5e15b3-e447-41e8-9cf9-142f8e67267b",
   "metadata": {},
   "outputs": [],
   "source": [
    "from typing import List"
   ]
  },
  {
   "cell_type": "code",
   "execution_count": 2,
   "id": "9d991539-2d9d-4409-aa0f-0053527f0202",
   "metadata": {},
   "outputs": [],
   "source": [
    "class Solution:\n",
    "    def diStringMatch(self, s: str) -> List[int]:\n",
    "        res, i, d = [], 0, len(s)\n",
    "        for c in s:\n",
    "            if c == \"I\":\n",
    "                v = i\n",
    "                i += 1\n",
    "            else:\n",
    "                v = d\n",
    "                d -= 1\n",
    "            res.append(v)\n",
    "        res.append(i)\n",
    "        return res"
   ]
  },
  {
   "cell_type": "code",
   "execution_count": 3,
   "id": "9daad370-1b94-4b84-89be-58d99e2e5729",
   "metadata": {},
   "outputs": [],
   "source": [
    "sol = Solution()"
   ]
  },
  {
   "cell_type": "code",
   "execution_count": 4,
   "id": "04013ab4-4623-4d71-a9e8-1e1f56eec2b9",
   "metadata": {},
   "outputs": [],
   "source": [
    "assert sol.diStringMatch(\"IDID\") == [0,4,1,3,2]"
   ]
  },
  {
   "cell_type": "code",
   "execution_count": 5,
   "id": "9eec78d4-715f-413a-b5f6-6235809c3149",
   "metadata": {},
   "outputs": [],
   "source": [
    "assert sol.diStringMatch(\"III\") == [0,1,2,3]"
   ]
  },
  {
   "cell_type": "code",
   "execution_count": 6,
   "id": "fbf79ed2-0157-443d-838a-64fd029c712b",
   "metadata": {},
   "outputs": [],
   "source": [
    "assert sol.diStringMatch(\"DDI\") == [3,2,0,1]"
   ]
  }
 ],
 "metadata": {
  "kernelspec": {
   "display_name": "Python 3 (ipykernel)",
   "language": "python",
   "name": "python3"
  },
  "language_info": {
   "codemirror_mode": {
    "name": "ipython",
    "version": 3
   },
   "file_extension": ".py",
   "mimetype": "text/x-python",
   "name": "python",
   "nbconvert_exporter": "python",
   "pygments_lexer": "ipython3",
   "version": "3.9.7"
  }
 },
 "nbformat": 4,
 "nbformat_minor": 5
}
