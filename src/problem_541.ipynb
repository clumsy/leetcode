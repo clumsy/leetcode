{
 "cells": [
  {
   "cell_type": "markdown",
   "id": "f6657a09-fbb5-4226-9e83-303783cea5f0",
   "metadata": {},
   "source": [
    "[Problem 541](https://leetcode.com/problems/reverse-string-ii/description)"
   ]
  },
  {
   "cell_type": "code",
   "execution_count": 1,
   "id": "7ec17737-86b3-4109-a5b8-dadc1044f0e5",
   "metadata": {},
   "outputs": [],
   "source": [
    "class Solution:\n",
    "    def reverseStr(self, s: str, k: int) -> str:\n",
    "        s, n = list(s), len(s)\n",
    "        for i in range(0, n, 2 * k):\n",
    "            j = min(n - 1, i + k - 1)\n",
    "            while i < j:\n",
    "                s[i], s[j] = s[j], s[i]\n",
    "                i += 1\n",
    "                j -= 1\n",
    "        res = \"\".join(s)\n",
    "        return res"
   ]
  },
  {
   "cell_type": "code",
   "execution_count": 2,
   "id": "a682fe03-6cb2-40c7-979d-7b299296acae",
   "metadata": {},
   "outputs": [],
   "source": [
    "sol = Solution()"
   ]
  },
  {
   "cell_type": "code",
   "execution_count": 3,
   "id": "1587660d-e5e1-464b-997d-703e507fb711",
   "metadata": {},
   "outputs": [],
   "source": [
    "assert sol.reverseStr(\"abcdefg\", 2) == \"bacdfeg\""
   ]
  },
  {
   "cell_type": "code",
   "execution_count": 4,
   "id": "db867a11-8dcb-47ae-866a-f7e01f1d68ee",
   "metadata": {},
   "outputs": [],
   "source": [
    "assert sol.reverseStr(\"abcd\", 2) == \"bacd\""
   ]
  }
 ],
 "metadata": {
  "kernelspec": {
   "display_name": "Python 3 (ipykernel)",
   "language": "python",
   "name": "python3"
  },
  "language_info": {
   "codemirror_mode": {
    "name": "ipython",
    "version": 3
   },
   "file_extension": ".py",
   "mimetype": "text/x-python",
   "name": "python",
   "nbconvert_exporter": "python",
   "pygments_lexer": "ipython3",
   "version": "3.9.7"
  }
 },
 "nbformat": 4,
 "nbformat_minor": 5
}
