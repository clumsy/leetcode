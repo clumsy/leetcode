{
 "cells": [
  {
   "cell_type": "markdown",
   "id": "c429d46b-7098-4b96-91ea-b1a19bf26c8e",
   "metadata": {},
   "source": [
    "[Problem 2149](https://leetcode.com/problems/rearrange-array-elements-by-sign/description)"
   ]
  },
  {
   "cell_type": "code",
   "execution_count": 1,
   "id": "a521d5ab-a268-4238-8300-77c7a0b993c1",
   "metadata": {},
   "outputs": [],
   "source": [
    "from typing import List"
   ]
  },
  {
   "cell_type": "code",
   "execution_count": 2,
   "id": "a056e369-c4d0-4d9c-912c-3f60c4cb9dcd",
   "metadata": {},
   "outputs": [],
   "source": [
    "class Solution:\n",
    "    def rearrangeArray(self, nums: List[int]) -> List[int]:\n",
    "        return [i for pair in zip((x for x in nums if x >= 0),\n",
    "                                  (x for x in nums if x < 0)) for i in pair]"
   ]
  },
  {
   "cell_type": "code",
   "execution_count": 3,
   "id": "fd39ec52-f9b0-4129-9d7c-abf8f804150a",
   "metadata": {},
   "outputs": [],
   "source": [
    "sol = Solution()"
   ]
  },
  {
   "cell_type": "code",
   "execution_count": 4,
   "id": "815e6a6c-e47f-44a1-ad61-5b628a7628b1",
   "metadata": {},
   "outputs": [],
   "source": [
    "assert sol.rearrangeArray([3,1,-2,-5,2,-4]) == [3,-2,1,-5,2,-4]"
   ]
  },
  {
   "cell_type": "code",
   "execution_count": 5,
   "id": "68795d8f-bf4f-49d0-a1be-7d4b97cf07d8",
   "metadata": {},
   "outputs": [],
   "source": [
    "assert sol.rearrangeArray([-1,1]) == [1,-1]"
   ]
  }
 ],
 "metadata": {
  "kernelspec": {
   "display_name": "Python 3 (ipykernel)",
   "language": "python",
   "name": "python3"
  },
  "language_info": {
   "codemirror_mode": {
    "name": "ipython",
    "version": 3
   },
   "file_extension": ".py",
   "mimetype": "text/x-python",
   "name": "python",
   "nbconvert_exporter": "python",
   "pygments_lexer": "ipython3",
   "version": "3.9.7"
  }
 },
 "nbformat": 4,
 "nbformat_minor": 5
}
