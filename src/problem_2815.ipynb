{
 "cells": [
  {
   "cell_type": "markdown",
   "id": "60310c58-56ee-455e-88fc-7876df77794d",
   "metadata": {},
   "source": [
    "[Problem 2815](https://leetcode.com/problems/max-pair-sum-in-an-array/description)"
   ]
  },
  {
   "cell_type": "code",
   "execution_count": 1,
   "id": "b140fa9d-532d-4548-b2ca-fe806961ba16",
   "metadata": {},
   "outputs": [],
   "source": [
    "from typing import List"
   ]
  },
  {
   "cell_type": "code",
   "execution_count": 2,
   "id": "583cf283-4ec0-4017-bc87-9a9c02792977",
   "metadata": {},
   "outputs": [],
   "source": [
    "class Solution:\n",
    "    def maxSum(self, nums: List[int]) -> int:\n",
    "        digs, res = {}, -1\n",
    "        for i in nums:\n",
    "            d = max(int(d) for d in str(i))\n",
    "            dig = digs.get(d, None)\n",
    "            if dig is not None:\n",
    "                res = max(res, i + dig)\n",
    "            digs[d] = max(dig or i, i)\n",
    "        return res"
   ]
  },
  {
   "cell_type": "code",
   "execution_count": 3,
   "id": "d2c38a54-f21e-45e4-ad3f-ce9f063c4aee",
   "metadata": {},
   "outputs": [],
   "source": [
    "sol = Solution()"
   ]
  },
  {
   "cell_type": "code",
   "execution_count": 4,
   "id": "425b360c-2e47-422f-9e72-6f7b4c33aed3",
   "metadata": {},
   "outputs": [],
   "source": [
    "assert sol.maxSum([51,71,17,24,42]) == 88"
   ]
  },
  {
   "cell_type": "code",
   "execution_count": 5,
   "id": "cabf69d4-bf35-479f-976b-c8d291ded49c",
   "metadata": {},
   "outputs": [],
   "source": [
    "assert sol.maxSum([1,2,3,4]) == -1"
   ]
  }
 ],
 "metadata": {
  "kernelspec": {
   "display_name": "Python 3 (ipykernel)",
   "language": "python",
   "name": "python3"
  },
  "language_info": {
   "codemirror_mode": {
    "name": "ipython",
    "version": 3
   },
   "file_extension": ".py",
   "mimetype": "text/x-python",
   "name": "python",
   "nbconvert_exporter": "python",
   "pygments_lexer": "ipython3",
   "version": "3.9.7"
  }
 },
 "nbformat": 4,
 "nbformat_minor": 5
}
