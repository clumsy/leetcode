{
 "cells": [
  {
   "cell_type": "markdown",
   "id": "98dccc47-2a25-4bb0-8ac9-d212913e8453",
   "metadata": {},
   "source": [
    "[Problem 2566](https://leetcode.com/problems/maximum-difference-by-remapping-a-digit/description)"
   ]
  },
  {
   "cell_type": "code",
   "execution_count": 1,
   "id": "69941fd9-896b-48f1-8b47-7626394239f1",
   "metadata": {},
   "outputs": [],
   "source": [
    "class Solution:\n",
    "    def minMaxDifference(self, num: int) -> int:\n",
    "        s = str(num)\n",
    "        n = len(s)\n",
    "        i = next((i for i in range(n) if s[i] != \"9\"), 0)\n",
    "        res = int(s.replace(s[i], \"9\")) - int(s.replace(s[0], \"0\"))\n",
    "        return res"
   ]
  },
  {
   "cell_type": "code",
   "execution_count": 2,
   "id": "f5090c38-db9a-41e8-ba98-53c32d2b0ec4",
   "metadata": {},
   "outputs": [],
   "source": [
    "sol = Solution()"
   ]
  },
  {
   "cell_type": "code",
   "execution_count": 3,
   "id": "2f26bb84-ef40-4698-b29c-09c1b7ea022b",
   "metadata": {},
   "outputs": [],
   "source": [
    "assert sol.minMaxDifference(\"11891\") == 99009"
   ]
  },
  {
   "cell_type": "code",
   "execution_count": 4,
   "id": "2c62ad30-f8e3-44e8-bad8-ecceae7c47e5",
   "metadata": {},
   "outputs": [],
   "source": [
    "assert sol.minMaxDifference(\"90\") == 99"
   ]
  }
 ],
 "metadata": {
  "kernelspec": {
   "display_name": "Python 3 (ipykernel)",
   "language": "python",
   "name": "python3"
  },
  "language_info": {
   "codemirror_mode": {
    "name": "ipython",
    "version": 3
   },
   "file_extension": ".py",
   "mimetype": "text/x-python",
   "name": "python",
   "nbconvert_exporter": "python",
   "pygments_lexer": "ipython3",
   "version": "3.9.7"
  }
 },
 "nbformat": 4,
 "nbformat_minor": 5
}
