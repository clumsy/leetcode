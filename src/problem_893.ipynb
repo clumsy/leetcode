{
 "cells": [
  {
   "cell_type": "markdown",
   "id": "cd7858ce-0099-4cfc-a793-6c0f5ad38f2c",
   "metadata": {},
   "source": [
    "[Problem 893](https://leetcode.com/problems/groups-of-special-equivalent-strings/description)"
   ]
  },
  {
   "cell_type": "code",
   "execution_count": 1,
   "id": "4da74548-cb3f-4ddf-aa3d-d174ecf54fa9",
   "metadata": {},
   "outputs": [],
   "source": [
    "from typing import List"
   ]
  },
  {
   "cell_type": "code",
   "execution_count": 2,
   "id": "9d37b3f5-e670-48e4-ad04-cd0a23547fcb",
   "metadata": {},
   "outputs": [],
   "source": [
    "class Solution:\n",
    "    def numSpecialEquivGroups(self, words: List[str]) -> int:\n",
    "\n",
    "        def canonical(w):\n",
    "            return \"\".join(sorted(w[:len(w):2]) + sorted(w[1:len(w):2]))\n",
    "\n",
    "        can = set(canonical(w) for w in words)\n",
    "        return len(can)"
   ]
  },
  {
   "cell_type": "code",
   "execution_count": 3,
   "id": "5624886b-dd95-4bdc-902f-2a44204a343d",
   "metadata": {},
   "outputs": [],
   "source": [
    "sol = Solution()"
   ]
  },
  {
   "cell_type": "code",
   "execution_count": 4,
   "id": "4523cb5e-91fa-43be-9739-fd8398d9cc5d",
   "metadata": {},
   "outputs": [],
   "source": [
    "assert sol.numSpecialEquivGroups([\"abcd\",\"cdab\",\"cbad\",\"xyzz\",\"zzxy\",\"zzyx\"]) == 3"
   ]
  },
  {
   "cell_type": "code",
   "execution_count": 5,
   "id": "3ac5fbbc-41ce-4f01-8a94-9829ce87354c",
   "metadata": {},
   "outputs": [],
   "source": [
    "assert sol.numSpecialEquivGroups([\"abc\",\"acb\",\"bac\",\"bca\",\"cab\",\"cba\"]) == 3"
   ]
  }
 ],
 "metadata": {
  "kernelspec": {
   "display_name": "Python 3 (ipykernel)",
   "language": "python",
   "name": "python3"
  },
  "language_info": {
   "codemirror_mode": {
    "name": "ipython",
    "version": 3
   },
   "file_extension": ".py",
   "mimetype": "text/x-python",
   "name": "python",
   "nbconvert_exporter": "python",
   "pygments_lexer": "ipython3",
   "version": "3.9.7"
  }
 },
 "nbformat": 4,
 "nbformat_minor": 5
}
