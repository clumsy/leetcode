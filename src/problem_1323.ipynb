{
 "cells": [
  {
   "cell_type": "markdown",
   "id": "7c56c1e4-dad9-4d7b-bd89-9350d93040de",
   "metadata": {},
   "source": [
    "[Problem 1323](https://leetcode.com/problems/maximum-69-number/description)"
   ]
  },
  {
   "cell_type": "code",
   "execution_count": 1,
   "id": "6bde0e6b-0b35-4b0c-ac3b-62721c11847a",
   "metadata": {},
   "outputs": [],
   "source": [
    "class Solution:\n",
    "    def maximum69Number(self, num: int) -> int:\n",
    "        res = int(str(num).replace(\"6\", \"9\", 1))\n",
    "        return res"
   ]
  },
  {
   "cell_type": "code",
   "execution_count": 2,
   "id": "fca5b031-0c5e-4df4-8259-b1819fbf7f62",
   "metadata": {},
   "outputs": [],
   "source": [
    "sol = Solution()"
   ]
  },
  {
   "cell_type": "code",
   "execution_count": 3,
   "id": "ff8e5d75-7a87-4af8-89a1-55fc7afec5a7",
   "metadata": {},
   "outputs": [],
   "source": [
    "assert sol.maximum69Number(9669) == 9969"
   ]
  },
  {
   "cell_type": "code",
   "execution_count": 4,
   "id": "36500a16-d05f-47b7-a8bf-a2adfebf7f8e",
   "metadata": {},
   "outputs": [],
   "source": [
    "assert sol.maximum69Number(9996) == 9999"
   ]
  },
  {
   "cell_type": "code",
   "execution_count": 5,
   "id": "87b69bce-826b-4a66-9ccb-384350921aef",
   "metadata": {},
   "outputs": [],
   "source": [
    "assert sol.maximum69Number(9999) == 9999"
   ]
  }
 ],
 "metadata": {
  "kernelspec": {
   "display_name": "Python 3 (ipykernel)",
   "language": "python",
   "name": "python3"
  },
  "language_info": {
   "codemirror_mode": {
    "name": "ipython",
    "version": 3
   },
   "file_extension": ".py",
   "mimetype": "text/x-python",
   "name": "python",
   "nbconvert_exporter": "python",
   "pygments_lexer": "ipython3",
   "version": "3.9.7"
  }
 },
 "nbformat": 4,
 "nbformat_minor": 5
}
