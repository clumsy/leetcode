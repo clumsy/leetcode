{
 "cells": [
  {
   "cell_type": "markdown",
   "id": "1a563e17-6cf8-429c-a875-a7eccfd1503c",
   "metadata": {},
   "source": [
    "[Problem 1011](https://leetcode.com/problems/capacity-to-ship-packages-within-d-days/description)"
   ]
  },
  {
   "cell_type": "code",
   "execution_count": 1,
   "id": "357ee21d-99e1-451a-ab16-fa5b3814b5f1",
   "metadata": {},
   "outputs": [],
   "source": [
    "from typing import List"
   ]
  },
  {
   "cell_type": "code",
   "execution_count": 2,
   "id": "500e13fc-cdf3-46f9-9e63-3f77d73e17b4",
   "metadata": {},
   "outputs": [],
   "source": [
    "class Solution:\n",
    "    def shipWithinDays(self, weights: List[int], days: int) -> int:\n",
    "        lo, hi = 0, 0\n",
    "        for w in weights:\n",
    "            lo = max(lo, w)\n",
    "            hi += w\n",
    "        while lo < hi:\n",
    "            mi = lo + (hi - lo) // 2\n",
    "            need, cur = 1, mi\n",
    "            for w in weights:\n",
    "                if w > cur:\n",
    "                    need += 1\n",
    "                    cur = mi\n",
    "                cur -= w\n",
    "            if need > days:\n",
    "                lo = mi + 1\n",
    "            else:\n",
    "                hi = mi\n",
    "        res = lo\n",
    "        return res"
   ]
  },
  {
   "cell_type": "code",
   "execution_count": 3,
   "id": "f8670f46-f1fb-4ce1-9bc2-c3a184f399eb",
   "metadata": {},
   "outputs": [],
   "source": [
    "sol = Solution()"
   ]
  },
  {
   "cell_type": "code",
   "execution_count": 4,
   "id": "44df31b6-411a-4ce6-9367-66d6d72f2a35",
   "metadata": {},
   "outputs": [],
   "source": [
    "assert sol.shipWithinDays([1,2,3,4,5,6,7,8,9,10], 5) == 15"
   ]
  },
  {
   "cell_type": "code",
   "execution_count": 5,
   "id": "e875cdb2-ad47-490e-aba9-2319c2f87baf",
   "metadata": {},
   "outputs": [],
   "source": [
    "assert sol.shipWithinDays([3,2,2,4,1,4], 3) == 6"
   ]
  },
  {
   "cell_type": "code",
   "execution_count": 6,
   "id": "b897b589-097c-4238-a0cd-c991e87b7433",
   "metadata": {},
   "outputs": [],
   "source": [
    "assert sol.shipWithinDays([1,2,3,1,1], 4) == 3"
   ]
  }
 ],
 "metadata": {
  "kernelspec": {
   "display_name": "Python 3 (ipykernel)",
   "language": "python",
   "name": "python3"
  },
  "language_info": {
   "codemirror_mode": {
    "name": "ipython",
    "version": 3
   },
   "file_extension": ".py",
   "mimetype": "text/x-python",
   "name": "python",
   "nbconvert_exporter": "python",
   "pygments_lexer": "ipython3",
   "version": "3.9.7"
  }
 },
 "nbformat": 4,
 "nbformat_minor": 5
}
