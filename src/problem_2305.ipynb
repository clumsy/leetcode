{
 "cells": [
  {
   "cell_type": "markdown",
   "id": "b94d51c8-69c4-4496-acde-b0271167f674",
   "metadata": {},
   "source": [
    "[Problem 2305](https://leetcode.com/problems/fair-distribution-of-cookies/description)"
   ]
  },
  {
   "cell_type": "code",
   "execution_count": 1,
   "id": "88ab08a7-aeb7-46bc-a444-2f9dddd5d783",
   "metadata": {},
   "outputs": [],
   "source": [
    "from typing import List"
   ]
  },
  {
   "cell_type": "code",
   "execution_count": 2,
   "id": "26b2b43a-6567-49a6-a71e-0a7ff4c516c4",
   "metadata": {},
   "outputs": [],
   "source": [
    "class Solution:\n",
    "    def distributeCookies(self, cookies: List[int], k: int) -> int:\n",
    "        q = set([tuple([0] * k)])\n",
    "        for _, e in enumerate(cookies):  # n times\n",
    "            nxt = set()\n",
    "            for cur in q:  # 2^k times\n",
    "                for i in range(k):  # k times\n",
    "                    d = tuple(sorted([*cur[:i], cur[i] + e, *cur[i + 1:]]))\n",
    "                    nxt.add(d)\n",
    "            q = nxt\n",
    "        res = min(max(d) for d in q)\n",
    "        return res"
   ]
  },
  {
   "cell_type": "code",
   "execution_count": 3,
   "id": "9deec42b-630e-4613-abcc-79e0fe610175",
   "metadata": {},
   "outputs": [],
   "source": [
    "sol = Solution()"
   ]
  },
  {
   "cell_type": "code",
   "execution_count": 4,
   "id": "90bd1fd8-2839-4169-9fef-58ba5abcaf8a",
   "metadata": {},
   "outputs": [],
   "source": [
    "assert sol.distributeCookies([8,15,10,20,8], 2) == 31"
   ]
  },
  {
   "cell_type": "code",
   "execution_count": 5,
   "id": "ccb51649-18d1-4824-b9e0-63a40230e303",
   "metadata": {},
   "outputs": [],
   "source": [
    "assert sol.distributeCookies([6,1,3,2,2,4,1,2], 3) == 7"
   ]
  }
 ],
 "metadata": {
  "kernelspec": {
   "display_name": "Python 3 (ipykernel)",
   "language": "python",
   "name": "python3"
  },
  "language_info": {
   "codemirror_mode": {
    "name": "ipython",
    "version": 3
   },
   "file_extension": ".py",
   "mimetype": "text/x-python",
   "name": "python",
   "nbconvert_exporter": "python",
   "pygments_lexer": "ipython3",
   "version": "3.9.7"
  }
 },
 "nbformat": 4,
 "nbformat_minor": 5
}
