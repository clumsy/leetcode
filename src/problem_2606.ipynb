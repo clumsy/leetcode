{
 "cells": [
  {
   "cell_type": "markdown",
   "id": "9c9eeec2-5c53-4da3-8c54-279e758eae73",
   "metadata": {},
   "source": [
    "[Problem 2606](https://leetcode.com/problems/find-the-substring-with-maximum-cost/description)"
   ]
  },
  {
   "cell_type": "code",
   "execution_count": 1,
   "id": "23a8d99b-a274-4f21-8825-c6959e26531f",
   "metadata": {},
   "outputs": [],
   "source": [
    "from typing import List"
   ]
  },
  {
   "cell_type": "code",
   "execution_count": 2,
   "id": "fcd2c0d6-d4c2-4937-80c4-a17c8dfd14e7",
   "metadata": {},
   "outputs": [],
   "source": [
    "class Solution:\n",
    "    def maximumCostSubstring(self, s: str, chars: str, vals: List[int]) -> int:\n",
    "        vals = {k: v for k, v in zip(chars, vals)}\n",
    "        res = cur = 0\n",
    "        for c in s:\n",
    "            val = vals.get(c, ord(c) - ord(\"a\") + 1)\n",
    "            cur = max(0, cur + val)\n",
    "            res = max(res, cur)\n",
    "        return res"
   ]
  },
  {
   "cell_type": "code",
   "execution_count": 3,
   "id": "534a6641-af14-401b-a56c-305d969695ce",
   "metadata": {},
   "outputs": [],
   "source": [
    "sol = Solution()"
   ]
  },
  {
   "cell_type": "code",
   "execution_count": 4,
   "id": "6c8fc580-a5f9-4aae-aab0-5af2f13bd83b",
   "metadata": {},
   "outputs": [],
   "source": [
    "assert sol.maximumCostSubstring(\"adaa\", \"d\", [-1000]) == 2"
   ]
  },
  {
   "cell_type": "code",
   "execution_count": 5,
   "id": "9bb8913a-a7a4-47ed-9ca9-f9b3adf5db62",
   "metadata": {},
   "outputs": [],
   "source": [
    "assert sol.maximumCostSubstring(\"abc\", \"abc\", [-1,-1,-1]) == 0"
   ]
  }
 ],
 "metadata": {
  "kernelspec": {
   "display_name": "Python 3 (ipykernel)",
   "language": "python",
   "name": "python3"
  },
  "language_info": {
   "codemirror_mode": {
    "name": "ipython",
    "version": 3
   },
   "file_extension": ".py",
   "mimetype": "text/x-python",
   "name": "python",
   "nbconvert_exporter": "python",
   "pygments_lexer": "ipython3",
   "version": "3.9.7"
  }
 },
 "nbformat": 4,
 "nbformat_minor": 5
}
