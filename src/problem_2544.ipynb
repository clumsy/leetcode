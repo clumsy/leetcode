{
 "cells": [
  {
   "cell_type": "markdown",
   "id": "0a9e97c4-283b-4f7a-9772-387012ae09ec",
   "metadata": {},
   "source": [
    "[Problem 2544](https://leetcode.com/problems/alternating-digit-sum/description)"
   ]
  },
  {
   "cell_type": "code",
   "execution_count": 1,
   "id": "4939fba3-a0f8-4d33-875e-e4a32ee49788",
   "metadata": {},
   "outputs": [],
   "source": [
    "from typing import List"
   ]
  },
  {
   "cell_type": "code",
   "execution_count": 2,
   "id": "4ce5f67e-3713-41f1-9dfc-ac516cf3494a",
   "metadata": {},
   "outputs": [],
   "source": [
    "class Solution:\n",
    "    def alternateDigitSum(self, n: int) -> int:\n",
    "        res = sum(int(d) * (1 - 2 * (i & 1)) for i, d in enumerate(str(n)))\n",
    "        return res"
   ]
  },
  {
   "cell_type": "code",
   "execution_count": 3,
   "id": "f73fac14-91ce-4b3a-bbbf-d900c67f3269",
   "metadata": {},
   "outputs": [],
   "source": [
    "sol = Solution()"
   ]
  },
  {
   "cell_type": "code",
   "execution_count": 4,
   "id": "bb729df3-c99f-42c9-aad4-5a4bc8dc9755",
   "metadata": {},
   "outputs": [],
   "source": [
    "assert sol.alternateDigitSum(521) == 4"
   ]
  },
  {
   "cell_type": "code",
   "execution_count": 5,
   "id": "02cb5321-495d-43b5-be94-cd119b37707d",
   "metadata": {},
   "outputs": [],
   "source": [
    "assert sol.alternateDigitSum(111) == 1"
   ]
  },
  {
   "cell_type": "code",
   "execution_count": 6,
   "id": "dc0e9b37-f816-42be-947b-f4f8b7d082bb",
   "metadata": {},
   "outputs": [],
   "source": [
    "assert sol.alternateDigitSum(886996) == 0"
   ]
  }
 ],
 "metadata": {
  "kernelspec": {
   "display_name": "Python 3 (ipykernel)",
   "language": "python",
   "name": "python3"
  },
  "language_info": {
   "codemirror_mode": {
    "name": "ipython",
    "version": 3
   },
   "file_extension": ".py",
   "mimetype": "text/x-python",
   "name": "python",
   "nbconvert_exporter": "python",
   "pygments_lexer": "ipython3",
   "version": "3.9.7"
  }
 },
 "nbformat": 4,
 "nbformat_minor": 5
}
