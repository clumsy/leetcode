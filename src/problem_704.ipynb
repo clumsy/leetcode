{
 "cells": [
  {
   "cell_type": "markdown",
   "id": "12fbc4f7-9368-4beb-8d9d-c74d173c2c5c",
   "metadata": {},
   "source": [
    "[Problem 704](https://leetcode.com/problems/binary-search/)"
   ]
  },
  {
   "cell_type": "code",
   "execution_count": 11,
   "id": "98652358-0fd8-483a-a216-f39240d366d0",
   "metadata": {},
   "outputs": [],
   "source": [
    "from typing import List\n",
    "\n",
    "\n",
    "class Solution:\n",
    "    def search(self, nums: List[int], target: int) -> int:\n",
    "        lo, hi = 0, len(nums) - 1\n",
    "        while lo <= hi:\n",
    "            mi = lo + (hi - lo)//2\n",
    "            if nums[mi] == target:\n",
    "                return mi\n",
    "            if nums[mi] > target:\n",
    "                hi = mi - 1\n",
    "            else:\n",
    "                lo = mi + 1\n",
    "        return -1"
   ]
  },
  {
   "cell_type": "code",
   "execution_count": 12,
   "id": "91d19fdc-f813-45e6-8d67-38e2828d0353",
   "metadata": {},
   "outputs": [],
   "source": [
    "sol = Solution()"
   ]
  },
  {
   "cell_type": "code",
   "execution_count": 13,
   "id": "b322a033-7ab8-4190-bdfd-f011aa507f4b",
   "metadata": {},
   "outputs": [],
   "source": [
    "assert sol.search([-1,0,3,5,9,12], 9) == 4"
   ]
  },
  {
   "cell_type": "code",
   "execution_count": 14,
   "id": "e5df57da-2e57-4f96-8269-aa91e50b721a",
   "metadata": {},
   "outputs": [],
   "source": [
    "assert sol.search([-1,0,3,5,9,12], 2) == -1"
   ]
  }
 ],
 "metadata": {
  "kernelspec": {
   "display_name": "Python 3 (ipykernel)",
   "language": "python",
   "name": "python3"
  },
  "language_info": {
   "codemirror_mode": {
    "name": "ipython",
    "version": 3
   },
   "file_extension": ".py",
   "mimetype": "text/x-python",
   "name": "python",
   "nbconvert_exporter": "python",
   "pygments_lexer": "ipython3",
   "version": "3.9.7"
  }
 },
 "nbformat": 4,
 "nbformat_minor": 5
}
