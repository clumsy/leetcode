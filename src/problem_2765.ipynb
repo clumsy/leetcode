{
 "cells": [
  {
   "cell_type": "markdown",
   "id": "e76b46fe-4d4d-442a-9d70-d47788fec653",
   "metadata": {},
   "source": [
    "[Problem 2765](https://leetcode.com/problems/longest-alternating-subarray/description)"
   ]
  },
  {
   "cell_type": "code",
   "execution_count": 1,
   "id": "7ca1b36e-6129-4384-95f0-1748acfe4b23",
   "metadata": {},
   "outputs": [],
   "source": [
    "from typing import List"
   ]
  },
  {
   "cell_type": "code",
   "execution_count": 2,
   "id": "112f2dc2-38f1-4fbf-84ca-a0d7b663f3c7",
   "metadata": {},
   "outputs": [],
   "source": [
    "class Solution:\n",
    "    def alternatingSubarray(self, nums: List[int]) -> int:\n",
    "        res = cur = 1\n",
    "        for i in range(1, len(nums)):\n",
    "            diff = nums[i] - nums[i - 1]\n",
    "            if diff == (-1) ** (cur + 1):\n",
    "                cur += 1\n",
    "            else:\n",
    "                cur = 1 + (diff == 1)\n",
    "            res = max(res, cur)\n",
    "        res = res if res > 1 else -1\n",
    "        return res"
   ]
  },
  {
   "cell_type": "code",
   "execution_count": 3,
   "id": "4c2017a6-a0bf-49b1-a882-d04e8cf139e9",
   "metadata": {},
   "outputs": [],
   "source": [
    "sol = Solution()"
   ]
  },
  {
   "cell_type": "code",
   "execution_count": 4,
   "id": "f0c956a6-c991-4f77-b296-1878725589b5",
   "metadata": {},
   "outputs": [],
   "source": [
    "assert sol.alternatingSubarray([2,3,4,3,4]) == 4"
   ]
  },
  {
   "cell_type": "code",
   "execution_count": 5,
   "id": "864b5f98-0281-4954-a7b9-deafbc306791",
   "metadata": {},
   "outputs": [],
   "source": [
    "assert sol.alternatingSubarray([4,5,6]) == 2"
   ]
  }
 ],
 "metadata": {
  "kernelspec": {
   "display_name": "Python 3 (ipykernel)",
   "language": "python",
   "name": "python3"
  },
  "language_info": {
   "codemirror_mode": {
    "name": "ipython",
    "version": 3
   },
   "file_extension": ".py",
   "mimetype": "text/x-python",
   "name": "python",
   "nbconvert_exporter": "python",
   "pygments_lexer": "ipython3",
   "version": "3.9.7"
  }
 },
 "nbformat": 4,
 "nbformat_minor": 5
}
