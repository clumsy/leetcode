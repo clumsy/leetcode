{
 "cells": [
  {
   "cell_type": "markdown",
   "id": "6c1e9d39-bc0d-4131-a7bf-f3089adb1d61",
   "metadata": {},
   "source": [
    "[Problem 2981](https://leetcode.com/problems/find-longest-special-substring-that-occurs-thrice-i/description)"
   ]
  },
  {
   "cell_type": "code",
   "execution_count": 1,
   "id": "eeee9b50-e6f9-47c8-9f7d-0478774ad835",
   "metadata": {},
   "outputs": [],
   "source": [
    "from collections import Counter"
   ]
  },
  {
   "cell_type": "code",
   "execution_count": 2,
   "id": "0999a025-5c29-40ba-bfdc-069ddad755f5",
   "metadata": {},
   "outputs": [],
   "source": [
    "class Solution:\n",
    "    def maximumLength(self, s: str) -> int:\n",
    "        n, f = len(s), 0\n",
    "        res, cnt = \"\", Counter()\n",
    "        while f < n:\n",
    "            i = f\n",
    "            while i < n and s[i] == s[f]:\n",
    "                i += 1\n",
    "            num = i - f\n",
    "            for l in range(num - 2, num + 1):\n",
    "                sub = s[f] * l\n",
    "                cnt[sub] += num - l + 1\n",
    "                if cnt[sub] >= 3 and len(sub) > len(res):\n",
    "                    res = sub\n",
    "            f = i\n",
    "        res = len(res) if res else -1\n",
    "        return res"
   ]
  },
  {
   "cell_type": "code",
   "execution_count": 3,
   "id": "4945a19a-0246-425b-8589-d0af91c74282",
   "metadata": {},
   "outputs": [],
   "source": [
    "sol = Solution()"
   ]
  },
  {
   "cell_type": "code",
   "execution_count": 4,
   "id": "4bf601dd-e0bb-4771-a00c-4708ad40371e",
   "metadata": {},
   "outputs": [],
   "source": [
    "assert sol.maximumLength(\"aaaa\") == 2"
   ]
  },
  {
   "cell_type": "code",
   "execution_count": 5,
   "id": "86ef2f30-aa3a-426b-8104-dc5e9e45aef9",
   "metadata": {},
   "outputs": [],
   "source": [
    "assert sol.maximumLength(\"abcdef\") == -1"
   ]
  },
  {
   "cell_type": "code",
   "execution_count": 6,
   "id": "c80a048d-b41e-4cb0-8822-6cacb7162347",
   "metadata": {},
   "outputs": [],
   "source": [
    "assert sol.maximumLength(\"abcaba\") == 1"
   ]
  }
 ],
 "metadata": {
  "kernelspec": {
   "display_name": "Python 3 (ipykernel)",
   "language": "python",
   "name": "python3"
  },
  "language_info": {
   "codemirror_mode": {
    "name": "ipython",
    "version": 3
   },
   "file_extension": ".py",
   "mimetype": "text/x-python",
   "name": "python",
   "nbconvert_exporter": "python",
   "pygments_lexer": "ipython3",
   "version": "3.9.7"
  }
 },
 "nbformat": 4,
 "nbformat_minor": 5
}
