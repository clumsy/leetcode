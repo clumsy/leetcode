{
 "cells": [
  {
   "cell_type": "markdown",
   "id": "6ace73f1-c21d-4828-bcc7-e97da9a8999c",
   "metadata": {},
   "source": [
    "[Problem 1375](https://leetcode.com/problems/number-of-times-binary-string-is-prefix-aligned/description)"
   ]
  },
  {
   "cell_type": "code",
   "execution_count": 1,
   "id": "7f9780f1-b284-415a-a5cb-aeccf74a309a",
   "metadata": {},
   "outputs": [],
   "source": [
    "from typing import List"
   ]
  },
  {
   "cell_type": "code",
   "execution_count": 2,
   "id": "c34c3acd-5081-433d-81b8-0c8b40043907",
   "metadata": {},
   "outputs": [],
   "source": [
    "class Solution:\n",
    "    def numTimesAllBlue(self, flips: List[int]) -> int:\n",
    "        res = ma = 0\n",
    "        for i, e in enumerate(flips, 1):\n",
    "            ma = max(ma, e)\n",
    "            res += ma == i\n",
    "        return res"
   ]
  },
  {
   "cell_type": "code",
   "execution_count": 3,
   "id": "b5b2256f-3f93-4ad7-81dd-9614fbbd64db",
   "metadata": {},
   "outputs": [],
   "source": [
    "sol = Solution()"
   ]
  },
  {
   "cell_type": "code",
   "execution_count": 4,
   "id": "597d652f-4128-4738-845c-a906974c968c",
   "metadata": {},
   "outputs": [],
   "source": [
    "assert sol.numTimesAllBlue([3,2,4,1,5]) == 2"
   ]
  },
  {
   "cell_type": "code",
   "execution_count": 5,
   "id": "2f5af59e-9671-440f-99ae-f3d76937d72f",
   "metadata": {},
   "outputs": [],
   "source": [
    "assert sol.numTimesAllBlue([4,1,2,3]) == 1"
   ]
  }
 ],
 "metadata": {
  "kernelspec": {
   "display_name": "Python 3 (ipykernel)",
   "language": "python",
   "name": "python3"
  },
  "language_info": {
   "codemirror_mode": {
    "name": "ipython",
    "version": 3
   },
   "file_extension": ".py",
   "mimetype": "text/x-python",
   "name": "python",
   "nbconvert_exporter": "python",
   "pygments_lexer": "ipython3",
   "version": "3.9.7"
  }
 },
 "nbformat": 4,
 "nbformat_minor": 5
}
