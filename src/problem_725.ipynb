{
 "cells": [
  {
   "cell_type": "markdown",
   "id": "976610f2-db02-4c7f-a75a-2d0007c01beb",
   "metadata": {},
   "source": [
    "[Problem 725]()"
   ]
  },
  {
   "cell_type": "code",
   "execution_count": 1,
   "id": "ec44c305-44fd-447b-a8a1-24fa5300ad48",
   "metadata": {},
   "outputs": [],
   "source": [
    "# Definition for singly-linked list.\n",
    "class ListNode:\n",
    "    def __init__(self, val=0, next=None):\n",
    "        self.val = val\n",
    "        self.next = next\n",
    "\n",
    "    def __eq__(self, other):\n",
    "        return other and self.val == other.val and self.next == other.next"
   ]
  },
  {
   "cell_type": "code",
   "execution_count": 2,
   "id": "612e2c79-7674-4d0b-a930-807eddcd4d37",
   "metadata": {},
   "outputs": [],
   "source": [
    "from typing import List, Optional"
   ]
  },
  {
   "cell_type": "code",
   "execution_count": 3,
   "id": "1b7448d6-f30c-405b-b722-c87903328fdd",
   "metadata": {},
   "outputs": [],
   "source": [
    "class Solution:\n",
    "    def splitListToParts(self, head: Optional[ListNode], k: int) -> List[Optional[ListNode]]:\n",
    "        n, cur = 0, head\n",
    "        while cur:\n",
    "            n += 1\n",
    "            cur = cur.next\n",
    "        d, r = divmod(n, k)\n",
    "        res = []\n",
    "        for _ in range(k):\n",
    "            cur = dummy = ListNode()\n",
    "            for _ in range(d + (r > 0)):\n",
    "                dummy.next, head, dummy = head, head.next, head\n",
    "            r = max(0, r - 1)\n",
    "            dummy.next = None\n",
    "            res.append(cur.next)\n",
    "        return res"
   ]
  },
  {
   "cell_type": "code",
   "execution_count": 4,
   "id": "ae70f391-19a7-47eb-844b-b745c91aba8b",
   "metadata": {},
   "outputs": [],
   "source": [
    "sol = Solution()"
   ]
  },
  {
   "cell_type": "code",
   "execution_count": 5,
   "id": "13c39aa7-aa05-4ed6-b6dc-b39253de7a94",
   "metadata": {},
   "outputs": [],
   "source": [
    "def as_list(vals):\n",
    "    head = cur = ListNode()\n",
    "    for i in vals:\n",
    "        cur.next = ListNode(i)\n",
    "        cur = cur.next\n",
    "    return head.next"
   ]
  },
  {
   "cell_type": "code",
   "execution_count": 6,
   "id": "9e6aa8d4-536f-444e-96f5-f1582812265f",
   "metadata": {},
   "outputs": [],
   "source": [
    "assert sol.splitListToParts(as_list([1,2,3]), 5) == [as_list(l) for l in [[1],[2],[3],[],[]]]"
   ]
  },
  {
   "cell_type": "code",
   "execution_count": 7,
   "id": "a9009bd2-c77a-4bec-b3ff-d50e4e8402d4",
   "metadata": {},
   "outputs": [],
   "source": [
    "assert sol.splitListToParts(as_list([1,2,3,4,5,6,7,8,9,10]), 3) == [as_list(l) for l in [[1,2,3,4],[5,6,7],[8,9,10]]]"
   ]
  }
 ],
 "metadata": {
  "kernelspec": {
   "display_name": "Python 3 (ipykernel)",
   "language": "python",
   "name": "python3"
  },
  "language_info": {
   "codemirror_mode": {
    "name": "ipython",
    "version": 3
   },
   "file_extension": ".py",
   "mimetype": "text/x-python",
   "name": "python",
   "nbconvert_exporter": "python",
   "pygments_lexer": "ipython3",
   "version": "3.9.7"
  }
 },
 "nbformat": 4,
 "nbformat_minor": 5
}
