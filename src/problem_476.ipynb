{
 "cells": [
  {
   "cell_type": "markdown",
   "id": "27df7cb6-9b73-4037-8569-d29f5d8eb1b4",
   "metadata": {},
   "source": [
    "[Problem 476](https://leetcode.com/problems/number-complement/description)"
   ]
  },
  {
   "cell_type": "code",
   "execution_count": 1,
   "id": "4fa229e5-0ef1-44c3-826e-68fffff8ff84",
   "metadata": {},
   "outputs": [],
   "source": [
    "class Solution:\n",
    "    def findComplement(self, num: int) -> int:\n",
    "        res, i = 0, 1\n",
    "        while i <= num:\n",
    "            res |= i if num & i == 0 else 0\n",
    "            i <<= 1\n",
    "        return res"
   ]
  },
  {
   "cell_type": "code",
   "execution_count": 2,
   "id": "4c6465a1-9a80-4607-b705-345ebbf6a3d5",
   "metadata": {},
   "outputs": [],
   "source": [
    "sol = Solution()"
   ]
  },
  {
   "cell_type": "code",
   "execution_count": 3,
   "id": "5f57b65d-42ba-498c-aa71-4139dffa29dd",
   "metadata": {},
   "outputs": [],
   "source": [
    "assert sol.findComplement(5) == 2"
   ]
  },
  {
   "cell_type": "code",
   "execution_count": 4,
   "id": "899293ac-70c4-407b-a712-4dd3c71c1f20",
   "metadata": {},
   "outputs": [],
   "source": [
    "assert sol.findComplement(1) == 0"
   ]
  }
 ],
 "metadata": {
  "kernelspec": {
   "display_name": "Python 3 (ipykernel)",
   "language": "python",
   "name": "python3"
  },
  "language_info": {
   "codemirror_mode": {
    "name": "ipython",
    "version": 3
   },
   "file_extension": ".py",
   "mimetype": "text/x-python",
   "name": "python",
   "nbconvert_exporter": "python",
   "pygments_lexer": "ipython3",
   "version": "3.9.7"
  }
 },
 "nbformat": 4,
 "nbformat_minor": 5
}
