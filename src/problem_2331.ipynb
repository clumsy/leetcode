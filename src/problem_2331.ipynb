{
 "cells": [
  {
   "cell_type": "markdown",
   "id": "a92a913c-b4a9-4d5c-871b-46a4e4860863",
   "metadata": {},
   "source": [
    "[Problem 2331](https://leetcode.com/problems/evaluate-boolean-binary-tree/description)"
   ]
  },
  {
   "cell_type": "code",
   "execution_count": 1,
   "id": "ca36e03c-faae-4f23-81f8-6de087d14b0c",
   "metadata": {},
   "outputs": [],
   "source": [
    "from typing import Optional"
   ]
  },
  {
   "cell_type": "code",
   "execution_count": 2,
   "id": "84cded7a-db79-4fe5-9330-ae4e27255b5c",
   "metadata": {},
   "outputs": [],
   "source": [
    "# Definition for a binary tree node.\n",
    "class TreeNode:\n",
    "    def __init__(self, val=0, left=None, right=None):\n",
    "        self.val = val\n",
    "        self.left = left\n",
    "        self.right = right"
   ]
  },
  {
   "cell_type": "code",
   "execution_count": 3,
   "id": "52313b1c-fa60-4207-9273-bd732d49765e",
   "metadata": {},
   "outputs": [],
   "source": [
    "class Solution:\n",
    "    def evaluateTree(self, root: Optional[TreeNode]) -> bool:\n",
    "        st = []\n",
    "        res = root\n",
    "        while True:\n",
    "            while root:\n",
    "                if root.right:\n",
    "                    st.append(root.right)\n",
    "                st.append(root)\n",
    "                root = root.left\n",
    "            root = st.pop()\n",
    "            if root.right is not None and st and root.right == st[-1]:\n",
    "                # process right before root\n",
    "                st.pop()\n",
    "                st.append(root)\n",
    "                root = root.right\n",
    "            else:\n",
    "                print(root.val)\n",
    "                root.val = (\n",
    "                    root.val == 1 if root.left is None and root.right is None else \n",
    "                    root.left.val or root.right.val if root.val == 2 else \n",
    "                    root.left.val and root.right.val\n",
    "                )\n",
    "                root = None\n",
    "            if not st:\n",
    "                break\n",
    "        res = res.val\n",
    "        return res"
   ]
  },
  {
   "cell_type": "code",
   "execution_count": 4,
   "id": "3141e33c-16ac-4e9f-a076-fc74f0222ead",
   "metadata": {},
   "outputs": [],
   "source": [
    "class Solution:\n",
    "    def evaluateTree(self, root: Optional[TreeNode]) -> bool:\n",
    "        if root.val < 2:\n",
    "            return root.val == 1\n",
    "        if root.val == 2:\n",
    "            return self.evaluateTree(root.left) or self.evaluateTree(root.right)\n",
    "        return self.evaluateTree(root.left) and self.evaluateTree(root.right)"
   ]
  },
  {
   "cell_type": "code",
   "execution_count": 5,
   "id": "c9eda873-3538-4b65-898e-3d4fd5f4e2be",
   "metadata": {},
   "outputs": [],
   "source": [
    "sol = Solution()"
   ]
  },
  {
   "cell_type": "code",
   "execution_count": 6,
   "id": "72fe7ef1-fdce-4fea-a44e-4e25c6a01bb9",
   "metadata": {},
   "outputs": [],
   "source": [
    "from collections import deque\n",
    "\n",
    "null = None  # to use Leetcode samples as is\n",
    "\n",
    "def tree(values):\n",
    "    if not values:\n",
    "        return null\n",
    "    root = TreeNode(values[0])\n",
    "    queue = deque()\n",
    "    queue.append(root)\n",
    "    queue.append(None)\n",
    "    length = len(values)\n",
    "    i = 0\n",
    "    while queue:\n",
    "        current = queue.popleft()\n",
    "        if current:\n",
    "            i += 1\n",
    "            if i < length and values[i]:\n",
    "                current.left = TreeNode(values[i])\n",
    "                queue.append(current.left)\n",
    "            i += 1\n",
    "            if i < length and values[i]:\n",
    "                current.right = TreeNode(values[i])\n",
    "                queue.append(current.right)\n",
    "            if i == length:\n",
    "                return root\n",
    "        else:\n",
    "            if queue:\n",
    "                queue.append(None)\n",
    "    return root"
   ]
  },
  {
   "cell_type": "code",
   "execution_count": 7,
   "id": "041b12ec-c7f5-41f3-8375-27037279ba0b",
   "metadata": {},
   "outputs": [],
   "source": [
    "assert sol.evaluateTree(tree([2,1,3,null,null,0,1]))"
   ]
  },
  {
   "cell_type": "code",
   "execution_count": 8,
   "id": "1c96628c-6eee-4927-bfb2-1ca57768506c",
   "metadata": {},
   "outputs": [],
   "source": [
    "assert not sol.evaluateTree(tree([0]))"
   ]
  }
 ],
 "metadata": {
  "kernelspec": {
   "display_name": "Python 3 (ipykernel)",
   "language": "python",
   "name": "python3"
  },
  "language_info": {
   "codemirror_mode": {
    "name": "ipython",
    "version": 3
   },
   "file_extension": ".py",
   "mimetype": "text/x-python",
   "name": "python",
   "nbconvert_exporter": "python",
   "pygments_lexer": "ipython3",
   "version": "3.9.7"
  }
 },
 "nbformat": 4,
 "nbformat_minor": 5
}
