{
 "cells": [
  {
   "cell_type": "markdown",
   "id": "839cf594-8247-4dcb-9d99-a8efc6b8fed0",
   "metadata": {},
   "source": [
    "[Problem 2641]()"
   ]
  },
  {
   "cell_type": "code",
   "execution_count": 1,
   "id": "87a44c3c-ea65-4f1a-a802-db1311b6b3be",
   "metadata": {},
   "outputs": [],
   "source": [
    "# Definition for a binary tree node.\n",
    "class TreeNode:\n",
    "    def __init__(self, val=0, left=None, right=None):\n",
    "        self.val = val\n",
    "        self.left = left\n",
    "        self.right = right\n",
    "\n",
    "    def __eq__(self, other):\n",
    "        return other and self.val == other.val and self.left == other.left and self.right == other.right"
   ]
  },
  {
   "cell_type": "code",
   "execution_count": 2,
   "id": "e2a1bdc0-c40d-46b7-9607-d32d2604cedb",
   "metadata": {},
   "outputs": [],
   "source": [
    "from typing import Optional\n",
    "from collections import deque"
   ]
  },
  {
   "cell_type": "code",
   "execution_count": 3,
   "id": "4ed4a0d9-b79a-4edb-8119-97bb93fb6c58",
   "metadata": {},
   "outputs": [],
   "source": [
    "class Solution:\n",
    "    def replaceValueInTree(self, root: Optional[TreeNode]) -> Optional[TreeNode]:\n",
    "        q = deque([(bogus := TreeNode(0, left=root))])\n",
    "        lvl = []\n",
    "        while q:\n",
    "            s = 0\n",
    "            for _ in range(len(q)):\n",
    "                node = q.pop()\n",
    "                if node.left:\n",
    "                    s += node.left.val\n",
    "                    q.appendleft(node.left)\n",
    "                if node.right:\n",
    "                    s += node.right.val\n",
    "                    q.appendleft(node.right)\n",
    "            lvl.append(s)\n",
    "        q, l = deque([bogus]), 0\n",
    "        while q:\n",
    "            for _ in range(len(q)):\n",
    "                node = q.pop()\n",
    "                v = lvl[l] - (node.left.val if node.left else 0) - (node.right.val if node.right else 0)\n",
    "                if node.left:\n",
    "                    node.left.val = v\n",
    "                    q.appendleft(node.left)\n",
    "                if node.right:\n",
    "                    node.right.val = v\n",
    "                    q.appendleft(node.right)\n",
    "            l += 1\n",
    "        return root"
   ]
  },
  {
   "cell_type": "code",
   "execution_count": 4,
   "id": "af97144f-2397-4570-9584-1e5519544072",
   "metadata": {},
   "outputs": [],
   "source": [
    "from collections import defaultdict"
   ]
  },
  {
   "cell_type": "code",
   "execution_count": 5,
   "id": "ddf34cdc-4d83-4445-9dc6-e2e867842900",
   "metadata": {},
   "outputs": [],
   "source": [
    "class Solution:\n",
    "    def replaceValueInTree(self, root: Optional[TreeNode]) -> Optional[TreeNode]:\n",
    "        lvl = defaultdict(int)\n",
    "        def level_sum(node, l=0):\n",
    "            if node is None:\n",
    "                return\n",
    "            lvl[l] += node.val\n",
    "            level_sum(node.left, l + 1)\n",
    "            level_sum(node.right, l + 1)\n",
    "        def update_sum(node, s, l=0):\n",
    "            if node is None:\n",
    "                return\n",
    "            node.val = lvl[l] - s\n",
    "            s = 0\n",
    "            s += (node.left.val if node.left else 0)\n",
    "            s += (node.right.val if node.right else 0)\n",
    "            update_sum(node.left, s, l + 1)\n",
    "            update_sum(node.right, s, l + 1)\n",
    "        level_sum(root)\n",
    "        update_sum(root, root.val)\n",
    "        return root"
   ]
  },
  {
   "cell_type": "code",
   "execution_count": 6,
   "id": "daa92b23-ae50-4ac3-a9e0-2afd147be5c3",
   "metadata": {},
   "outputs": [],
   "source": [
    "sol = Solution()"
   ]
  },
  {
   "cell_type": "code",
   "execution_count": 7,
   "id": "4c8f01b7-3733-4e69-96e7-a1f2d2e6526d",
   "metadata": {},
   "outputs": [],
   "source": [
    "from collections import deque\n",
    "\n",
    "null = None  # to use Leetcode samples as is\n",
    "\n",
    "def tree(values):\n",
    "    if not values:\n",
    "        return null\n",
    "    queue = deque([(root := TreeNode(values[0])), None])\n",
    "    length, i = len(values), 0\n",
    "    while queue:\n",
    "        current = queue.popleft()\n",
    "        if current:\n",
    "            i += 1\n",
    "            if i < length and values[i] is not None:\n",
    "                current.left = TreeNode(values[i])\n",
    "                queue.append(current.left)\n",
    "            i += 1\n",
    "            if i < length and values[i] is not None:\n",
    "                current.right = TreeNode(values[i])\n",
    "                queue.append(current.right)\n",
    "            if i == length:\n",
    "                return root\n",
    "        else:\n",
    "            if queue:\n",
    "                queue.append(None)\n",
    "    return root"
   ]
  },
  {
   "cell_type": "code",
   "execution_count": 8,
   "id": "7f6e6646-2848-4c12-98b3-374bb28e8daf",
   "metadata": {},
   "outputs": [],
   "source": [
    "assert sol.replaceValueInTree(tree([5,4,9,1,10,null,7])) == tree([0,0,0,7,7,null,11])"
   ]
  },
  {
   "cell_type": "code",
   "execution_count": 9,
   "id": "41d0146e-afc9-4a72-9dd0-4cad1539708e",
   "metadata": {},
   "outputs": [],
   "source": [
    "assert sol.replaceValueInTree(tree([3,1,2])) == tree([0,0,0])"
   ]
  }
 ],
 "metadata": {
  "kernelspec": {
   "display_name": "Python 3 (ipykernel)",
   "language": "python",
   "name": "python3"
  },
  "language_info": {
   "codemirror_mode": {
    "name": "ipython",
    "version": 3
   },
   "file_extension": ".py",
   "mimetype": "text/x-python",
   "name": "python",
   "nbconvert_exporter": "python",
   "pygments_lexer": "ipython3",
   "version": "3.9.7"
  }
 },
 "nbformat": 4,
 "nbformat_minor": 5
}
