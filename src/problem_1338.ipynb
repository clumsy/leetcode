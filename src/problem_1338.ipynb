{
 "cells": [
  {
   "cell_type": "markdown",
   "id": "2815821c-7ab0-4327-9705-6934fb015c28",
   "metadata": {},
   "source": [
    "[Problem 1338](https://leetcode.com/problems/reduce-array-size-to-the-half/description)"
   ]
  },
  {
   "cell_type": "code",
   "execution_count": 2,
   "id": "8f603fc5-bd9a-4820-a837-8b7e927d0854",
   "metadata": {},
   "outputs": [],
   "source": [
    "from typing import List\n",
    "from collections import Counter\n",
    "from itertools import accumulate\n",
    "from bisect import bisect_left"
   ]
  },
  {
   "cell_type": "code",
   "execution_count": 3,
   "id": "85672302-7874-4522-b8ca-c0e5787196ee",
   "metadata": {},
   "outputs": [],
   "source": [
    "class Solution:\n",
    "    def minSetSize(self, arr: List[int]) -> int:\n",
    "        cnt = Counter(arr)\n",
    "        cnt = list(accumulate(sorted(cnt.values(), reverse=True)))\n",
    "        res = bisect_left(cnt, len(arr) // 2) + 1\n",
    "        return res"
   ]
  },
  {
   "cell_type": "code",
   "execution_count": 4,
   "id": "69bab124-632f-401c-a3af-b351009ffbf0",
   "metadata": {},
   "outputs": [],
   "source": [
    "sol = Solution()"
   ]
  },
  {
   "cell_type": "code",
   "execution_count": 5,
   "id": "169b47e2-bdbb-44a3-bf88-807d05ef4f15",
   "metadata": {},
   "outputs": [],
   "source": [
    "assert sol.minSetSize([3,3,3,3,5,5,5,2,2,7]) == 2"
   ]
  },
  {
   "cell_type": "code",
   "execution_count": 6,
   "id": "9750fddc-b26d-4640-b34b-b530779578da",
   "metadata": {},
   "outputs": [],
   "source": [
    "assert sol.minSetSize([7,7,7,7,7,7]) == 1"
   ]
  }
 ],
 "metadata": {
  "kernelspec": {
   "display_name": "Python 3 (ipykernel)",
   "language": "python",
   "name": "python3"
  },
  "language_info": {
   "codemirror_mode": {
    "name": "ipython",
    "version": 3
   },
   "file_extension": ".py",
   "mimetype": "text/x-python",
   "name": "python",
   "nbconvert_exporter": "python",
   "pygments_lexer": "ipython3",
   "version": "3.9.7"
  }
 },
 "nbformat": 4,
 "nbformat_minor": 5
}
