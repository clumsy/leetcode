{
 "cells": [
  {
   "cell_type": "markdown",
   "id": "095c24a5-ccd6-4686-83fb-4e0d5b90d28a",
   "metadata": {},
   "source": [
    "[Problem 824](https://leetcode.com/problems/goat-latin/description)"
   ]
  },
  {
   "cell_type": "code",
   "execution_count": 2,
   "id": "83c37b29-3fa2-479d-9e04-12faf1a1925e",
   "metadata": {},
   "outputs": [],
   "source": [
    "class Solution:\n",
    "    def toGoatLatin(self, sentence: str) -> str:\n",
    "        res = sentence.split()\n",
    "        for i in range(len(res)):\n",
    "            if res[i][0].lower() not in \"aeiou\":\n",
    "                res[i] = res[i][1:] + res[i][0]\n",
    "            res[i] += \"ma\" + \"a\" * (i + 1)\n",
    "        res = \" \".join(res)\n",
    "        return res"
   ]
  },
  {
   "cell_type": "code",
   "execution_count": 3,
   "id": "f3b4ecf7-d617-4db0-adf0-2a3940c159c3",
   "metadata": {},
   "outputs": [],
   "source": [
    "sol = Solution()"
   ]
  },
  {
   "cell_type": "code",
   "execution_count": 4,
   "id": "6be7f12d-05e8-4b11-b1bd-5366ec976026",
   "metadata": {},
   "outputs": [],
   "source": [
    "assert sol.toGoatLatin(\"I speak Goat Latin\") == \"Imaa peaksmaaa oatGmaaaa atinLmaaaaa\""
   ]
  },
  {
   "cell_type": "code",
   "execution_count": 5,
   "id": "34214cdf-ff67-45a2-a00b-dbfcc88483aa",
   "metadata": {},
   "outputs": [],
   "source": [
    "assert sol.toGoatLatin(\"The quick brown fox jumped over the lazy dog\") == \"heTmaa uickqmaaa rownbmaaaa oxfmaaaaa umpedjmaaaaaa overmaaaaaaa hetmaaaaaaaa azylmaaaaaaaaa ogdmaaaaaaaaaa\""
   ]
  }
 ],
 "metadata": {
  "kernelspec": {
   "display_name": "Python 3 (ipykernel)",
   "language": "python",
   "name": "python3"
  },
  "language_info": {
   "codemirror_mode": {
    "name": "ipython",
    "version": 3
   },
   "file_extension": ".py",
   "mimetype": "text/x-python",
   "name": "python",
   "nbconvert_exporter": "python",
   "pygments_lexer": "ipython3",
   "version": "3.9.7"
  }
 },
 "nbformat": 4,
 "nbformat_minor": 5
}
