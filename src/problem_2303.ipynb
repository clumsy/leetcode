{
 "cells": [
  {
   "cell_type": "markdown",
   "id": "c0a24315-56cd-4452-a0bd-613dd0ccb7db",
   "metadata": {},
   "source": [
    "[Problem 2303](https://leetcode.com/problems/calculate-amount-paid-in-taxes/description)"
   ]
  },
  {
   "cell_type": "code",
   "execution_count": 1,
   "id": "3f0f65e1-1de8-4b1d-8e1f-4311032e9c3d",
   "metadata": {},
   "outputs": [],
   "source": [
    "from typing import List"
   ]
  },
  {
   "cell_type": "code",
   "execution_count": 3,
   "id": "02b7327e-0196-4d8a-817e-12a5fe0da525",
   "metadata": {},
   "outputs": [],
   "source": [
    "class Solution:\n",
    "    def calculateTax(self, b: List[List[int]], income: int) -> float:\n",
    "        res = 0\n",
    "        for i in range(len(b)):\n",
    "            taxed = min(income, b[i][0] - (b[i - 1][0] if i > 0 else 0))\n",
    "            res += taxed * b[i][1] / 100\n",
    "            income -= taxed\n",
    "            if income == 0:\n",
    "                break\n",
    "        return res"
   ]
  },
  {
   "cell_type": "code",
   "execution_count": 4,
   "id": "63b3c1a5-87b6-4004-85e8-a4fcced3af2a",
   "metadata": {},
   "outputs": [],
   "source": [
    "sol = Solution()"
   ]
  },
  {
   "cell_type": "code",
   "execution_count": 5,
   "id": "68e0227d-8987-47f0-ba00-2f5131a193d4",
   "metadata": {},
   "outputs": [],
   "source": [
    "assert sol.calculateTax([[3,50],[7,10],[12,25]], 10) == 2.65"
   ]
  },
  {
   "cell_type": "code",
   "execution_count": 6,
   "id": "cf3fb925-2bf5-494b-91c9-170c9a113421",
   "metadata": {},
   "outputs": [],
   "source": [
    "assert sol.calculateTax([[1,0],[4,25],[5,50]], 2) == 0.25"
   ]
  },
  {
   "cell_type": "code",
   "execution_count": 7,
   "id": "098188a5-c733-4c63-bad4-29da50f8db4f",
   "metadata": {},
   "outputs": [],
   "source": [
    "assert sol.calculateTax([[2,50]], 0) == 0"
   ]
  }
 ],
 "metadata": {
  "kernelspec": {
   "display_name": "Python 3 (ipykernel)",
   "language": "python",
   "name": "python3"
  },
  "language_info": {
   "codemirror_mode": {
    "name": "ipython",
    "version": 3
   },
   "file_extension": ".py",
   "mimetype": "text/x-python",
   "name": "python",
   "nbconvert_exporter": "python",
   "pygments_lexer": "ipython3",
   "version": "3.9.7"
  }
 },
 "nbformat": 4,
 "nbformat_minor": 5
}
