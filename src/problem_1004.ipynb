{
 "cells": [
  {
   "cell_type": "markdown",
   "id": "d25eacf1-44b3-4518-a730-2973af8ea7bd",
   "metadata": {},
   "source": [
    "[Problem 1004](https://leetcode.com/problems/max-consecutive-ones-iii/description)"
   ]
  },
  {
   "cell_type": "code",
   "execution_count": 1,
   "id": "317e91a2-ae87-4c2c-b699-bb8aa536fc41",
   "metadata": {},
   "outputs": [],
   "source": [
    "from typing import List"
   ]
  },
  {
   "cell_type": "code",
   "execution_count": 2,
   "id": "bbcbbdeb-225f-4466-9bee-d49e10411f9d",
   "metadata": {},
   "outputs": [],
   "source": [
    "class Solution:\n",
    "    def longestOnes(self, nums: List[int], k: int) -> int:\n",
    "        n = len(nums)\n",
    "        s = e = 0\n",
    "        while e < n:\n",
    "            k -= nums[e] != 1  # how much k remains if e is the end\n",
    "            e += 1\n",
    "            if k < 0:\n",
    "                k += nums[s] != 1\n",
    "                s += 1  # make s follow e at the distance equal to longest subarray with less 0s than k\n",
    "        return e - s"
   ]
  },
  {
   "cell_type": "code",
   "execution_count": 3,
   "id": "02e2b491-d62b-4767-b2af-d91214e4bb9f",
   "metadata": {},
   "outputs": [],
   "source": [
    "sol = Solution()"
   ]
  },
  {
   "cell_type": "code",
   "execution_count": 4,
   "id": "1cf26bd0-ef0b-46eb-bf1e-dd1a40977acf",
   "metadata": {},
   "outputs": [],
   "source": [
    "assert sol.longestOnes([1,1,1,0,0,0,1,1,1,1,0], 2) == 6"
   ]
  },
  {
   "cell_type": "code",
   "execution_count": 5,
   "id": "48af3deb-f62f-47db-b538-427e3d07581c",
   "metadata": {},
   "outputs": [],
   "source": [
    "assert sol.longestOnes([0,0,1,1,0,0,1,1,1,0,1,1,0,0,0,1,1,1,1], 3) == 10"
   ]
  }
 ],
 "metadata": {
  "kernelspec": {
   "display_name": "Python 3 (ipykernel)",
   "language": "python",
   "name": "python3"
  },
  "language_info": {
   "codemirror_mode": {
    "name": "ipython",
    "version": 3
   },
   "file_extension": ".py",
   "mimetype": "text/x-python",
   "name": "python",
   "nbconvert_exporter": "python",
   "pygments_lexer": "ipython3",
   "version": "3.9.7"
  }
 },
 "nbformat": 4,
 "nbformat_minor": 5
}
