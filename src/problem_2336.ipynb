{
 "cells": [
  {
   "cell_type": "markdown",
   "id": "6985bf3c-8fee-401d-ba09-2130b9c29ebc",
   "metadata": {},
   "source": [
    "[Problem 2336](https://leetcode.com/problems/smallest-number-in-infinite-set/description)"
   ]
  },
  {
   "cell_type": "code",
   "execution_count": 1,
   "id": "f661d7b8-108c-4abf-8484-631aec1a78e3",
   "metadata": {},
   "outputs": [],
   "source": [
    "from heapq import heappop, heappush"
   ]
  },
  {
   "cell_type": "code",
   "execution_count": 2,
   "id": "13ef03bb-6425-4588-a5b5-5d2e67b50606",
   "metadata": {},
   "outputs": [],
   "source": [
    "class SmallestInfiniteSet:\n",
    "\n",
    "    def __init__(self):\n",
    "        self.full_start = 1\n",
    "        self.heap = []\n",
    "        self.s = set()  \n",
    "\n",
    "    def popSmallest(self) -> int:\n",
    "        if self.heap:\n",
    "            num = heappop(self.heap)\n",
    "            self.s.remove(num)\n",
    "            return num\n",
    "        num = self.full_start\n",
    "        self.full_start += 1\n",
    "        return num\n",
    "\n",
    "    def addBack(self, num: int) -> None:\n",
    "        if num < self.full_start and num not in self.s:\n",
    "            heappush(self.heap, num)\n",
    "            self.s.add(num)"
   ]
  },
  {
   "cell_type": "code",
   "execution_count": 6,
   "id": "18d2c59f-30c6-481f-8b55-eb89685938a0",
   "metadata": {},
   "outputs": [],
   "source": [
    "sol = SmallestInfiniteSet()\n",
    "sol.addBack(2)\n",
    "assert sol.popSmallest() == 1\n",
    "assert sol.popSmallest() == 2\n",
    "assert sol.popSmallest() == 3\n",
    "sol.addBack(1)\n",
    "assert sol.popSmallest() == 1\n",
    "assert sol.popSmallest() == 4\n",
    "assert sol.popSmallest() == 5"
   ]
  }
 ],
 "metadata": {
  "kernelspec": {
   "display_name": "Python 3 (ipykernel)",
   "language": "python",
   "name": "python3"
  },
  "language_info": {
   "codemirror_mode": {
    "name": "ipython",
    "version": 3
   },
   "file_extension": ".py",
   "mimetype": "text/x-python",
   "name": "python",
   "nbconvert_exporter": "python",
   "pygments_lexer": "ipython3",
   "version": "3.9.7"
  }
 },
 "nbformat": 4,
 "nbformat_minor": 5
}
