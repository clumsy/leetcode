{
 "cells": [
  {
   "cell_type": "markdown",
   "id": "b4bdd3f7-bae4-4a02-9964-d7bed63ab632",
   "metadata": {},
   "source": [
    "[Problem 2486](https://leetcode.com/problems/append-characters-to-string-to-make-subsequence/description)"
   ]
  },
  {
   "cell_type": "code",
   "execution_count": 1,
   "id": "03ebe1eb-6fd8-4c73-83cf-30622b2d38ac",
   "metadata": {},
   "outputs": [],
   "source": [
    "class Solution:\n",
    "    def appendCharacters(self, s: str, t: str) -> int:\n",
    "        res = k = 0\n",
    "        n = len(t)\n",
    "        for c in s:\n",
    "            if t[k] == c:\n",
    "                k += 1\n",
    "                if k == n:\n",
    "                    break\n",
    "        res = n - k\n",
    "        return res"
   ]
  },
  {
   "cell_type": "code",
   "execution_count": 2,
   "id": "6366e3c1-1d41-448f-aa6f-021132593544",
   "metadata": {},
   "outputs": [],
   "source": [
    "sol = Solution()"
   ]
  },
  {
   "cell_type": "code",
   "execution_count": 3,
   "id": "f3a6ca2c-a924-44bc-bd78-2397659f57bf",
   "metadata": {},
   "outputs": [],
   "source": [
    "assert sol.appendCharacters(\"coaching\", \"coding\") == 4"
   ]
  },
  {
   "cell_type": "code",
   "execution_count": 4,
   "id": "187921de-86f2-4529-8ac1-d1a4969beaab",
   "metadata": {},
   "outputs": [],
   "source": [
    "assert sol.appendCharacters(\"abcde\", \"a\") == 0"
   ]
  },
  {
   "cell_type": "code",
   "execution_count": 5,
   "id": "9869030f-5fe9-4110-8f6d-056ae1a65a67",
   "metadata": {},
   "outputs": [],
   "source": [
    "assert sol.appendCharacters(\"z\", \"abcde\") == 5"
   ]
  }
 ],
 "metadata": {
  "kernelspec": {
   "display_name": "Python 3 (ipykernel)",
   "language": "python",
   "name": "python3"
  },
  "language_info": {
   "codemirror_mode": {
    "name": "ipython",
    "version": 3
   },
   "file_extension": ".py",
   "mimetype": "text/x-python",
   "name": "python",
   "nbconvert_exporter": "python",
   "pygments_lexer": "ipython3",
   "version": "3.9.7"
  }
 },
 "nbformat": 4,
 "nbformat_minor": 5
}
