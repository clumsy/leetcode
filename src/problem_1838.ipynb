{
 "cells": [
  {
   "cell_type": "markdown",
   "id": "2b8aa136-a167-44f8-a284-801a75f8de54",
   "metadata": {},
   "source": [
    "[Problem 1838](https://leetcode.com/problems/frequency-of-the-most-frequent-element/)"
   ]
  },
  {
   "cell_type": "code",
   "execution_count": 1,
   "id": "aa6c685c-297f-45d4-b7d0-a4d79b3910e4",
   "metadata": {},
   "outputs": [],
   "source": [
    "from typing import List"
   ]
  },
  {
   "cell_type": "code",
   "execution_count": 2,
   "id": "1c00f90a-ebfd-4466-afe4-e0c9262d3165",
   "metadata": {},
   "outputs": [],
   "source": [
    "class Solution:\n",
    "    def maxFrequency(self, nums: List[int], k: int) -> int:\n",
    "        n, nums = len(nums), sorted(nums)\n",
    "        lo = hi = n - 1\n",
    "        c, res = k, 0\n",
    "        while lo >= 0:\n",
    "            while c >= 0:\n",
    "                res = max(res, hi - lo + 1)\n",
    "                lo -= 1\n",
    "                if lo >= 0:\n",
    "                    c -= nums[hi] - nums[lo]\n",
    "                else:\n",
    "                    break\n",
    "            c += (hi - lo) * (nums[hi] - nums[hi - 1])\n",
    "            hi -= 1\n",
    "        return res"
   ]
  },
  {
   "cell_type": "code",
   "execution_count": 3,
   "id": "337c40a3-83da-4775-8453-421d031fde5e",
   "metadata": {},
   "outputs": [],
   "source": [
    "sol = Solution()"
   ]
  },
  {
   "cell_type": "code",
   "execution_count": 4,
   "id": "7d34e115-2a91-4b71-aacf-a9afdfc6f9c8",
   "metadata": {},
   "outputs": [],
   "source": [
    "assert sol.maxFrequency([1,2,4], 5) == 3"
   ]
  },
  {
   "cell_type": "code",
   "execution_count": 5,
   "id": "cec16e33-ff55-4d17-942f-ce66f8dfa998",
   "metadata": {},
   "outputs": [],
   "source": [
    "assert sol.maxFrequency([1,4,8,13], 5) == 2"
   ]
  },
  {
   "cell_type": "code",
   "execution_count": 6,
   "id": "4c70c18a-ed84-4f9d-8dc7-c6ef6bfde235",
   "metadata": {},
   "outputs": [],
   "source": [
    "assert sol.maxFrequency([3,9,6], 2) == 1"
   ]
  }
 ],
 "metadata": {
  "kernelspec": {
   "display_name": "Python 3 (ipykernel)",
   "language": "python",
   "name": "python3"
  },
  "language_info": {
   "codemirror_mode": {
    "name": "ipython",
    "version": 3
   },
   "file_extension": ".py",
   "mimetype": "text/x-python",
   "name": "python",
   "nbconvert_exporter": "python",
   "pygments_lexer": "ipython3",
   "version": "3.9.7"
  }
 },
 "nbformat": 4,
 "nbformat_minor": 5
}
