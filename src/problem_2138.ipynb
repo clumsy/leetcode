{
 "cells": [
  {
   "cell_type": "markdown",
   "id": "17ee3b3f-02dd-403d-bece-a067883ac9e3",
   "metadata": {},
   "source": [
    "[Problem 2138](https://leetcode.com/problems/divide-a-string-into-groups-of-size-k/description)"
   ]
  },
  {
   "cell_type": "code",
   "execution_count": 1,
   "id": "a33bc7e9-8722-44bc-b3ae-b0109179d8b1",
   "metadata": {},
   "outputs": [],
   "source": [
    "from typing import List"
   ]
  },
  {
   "cell_type": "code",
   "execution_count": 2,
   "id": "73370c42-8bdf-4efb-be74-12e07394acf8",
   "metadata": {},
   "outputs": [],
   "source": [
    "class Solution:\n",
    "    def divideString(self, s: str, k: int, fill: str) -> List[str]:\n",
    "        n = len(s)\n",
    "        s += fill * (k - 1)\n",
    "        res = [s[k * i : k * i + k] for i in range((n + k - 1) // k)]\n",
    "        return res"
   ]
  },
  {
   "cell_type": "code",
   "execution_count": 3,
   "id": "b440696f-3242-4282-9f4f-5e9ca34d6d0c",
   "metadata": {},
   "outputs": [],
   "source": [
    "sol = Solution()"
   ]
  },
  {
   "cell_type": "code",
   "execution_count": 5,
   "id": "a3cca7a6-ed82-49a7-841d-9cd44f5a9ce7",
   "metadata": {},
   "outputs": [],
   "source": [
    "assert sol.divideString(\"abcdefghi\", 3, \"x\") == [\"abc\",\"def\",\"ghi\"]"
   ]
  },
  {
   "cell_type": "code",
   "execution_count": 6,
   "id": "d7151510-4cb8-424b-8ade-c1feb31c0304",
   "metadata": {},
   "outputs": [],
   "source": [
    "assert sol.divideString(\"abcdefghij\", 3, \"x\") == [\"abc\",\"def\",\"ghi\",\"jxx\"]"
   ]
  }
 ],
 "metadata": {
  "kernelspec": {
   "display_name": "Python 3 (ipykernel)",
   "language": "python",
   "name": "python3"
  },
  "language_info": {
   "codemirror_mode": {
    "name": "ipython",
    "version": 3
   },
   "file_extension": ".py",
   "mimetype": "text/x-python",
   "name": "python",
   "nbconvert_exporter": "python",
   "pygments_lexer": "ipython3",
   "version": "3.9.7"
  }
 },
 "nbformat": 4,
 "nbformat_minor": 5
}
