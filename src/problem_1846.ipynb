{
 "cells": [
  {
   "cell_type": "markdown",
   "id": "fcdfdfdf-6e04-4fb7-8cd7-c9a0e12eb894",
   "metadata": {},
   "source": [
    "[Problem 1846](https://leetcode.com/problems/maximum-element-after-decreasing-and-rearranging/description)"
   ]
  },
  {
   "cell_type": "code",
   "execution_count": 1,
   "id": "95fc12a4-2d50-4c76-be0a-94b84a537778",
   "metadata": {},
   "outputs": [],
   "source": [
    "from typing import List"
   ]
  },
  {
   "cell_type": "code",
   "execution_count": 2,
   "id": "83833c8e-78d8-4376-b754-90a2d0efcb5d",
   "metadata": {},
   "outputs": [],
   "source": [
    "class Solution:\n",
    "    def maximumElementAfterDecrementingAndRearranging(self, arr: List[int]) -> int:\n",
    "        arr.sort()\n",
    "        arr[0] = 1\n",
    "        for i in range(1, len(arr)):\n",
    "            arr[i] = min(arr[i - 1] + 1, arr[i])\n",
    "        res = arr[-1]\n",
    "        return res"
   ]
  },
  {
   "cell_type": "code",
   "execution_count": 3,
   "id": "c92458b6-d44b-4bd6-8479-0a24eafdb7b8",
   "metadata": {},
   "outputs": [],
   "source": [
    "from typing import Counter"
   ]
  },
  {
   "cell_type": "code",
   "execution_count": 4,
   "id": "6977df16-4555-4772-9b92-af2b220f4525",
   "metadata": {},
   "outputs": [],
   "source": [
    "class Solution:\n",
    "    def maximumElementAfterDecrementingAndRearranging(self, arr: List[int]) -> int:\n",
    "        n, cnt = len(arr), Counter()\n",
    "        for i in arr:\n",
    "            cnt[min(n, i)] += 1\n",
    "        res = 1\n",
    "        for i in range(1, n + 1):\n",
    "            res = min(res + cnt[i], i)\n",
    "        return res"
   ]
  },
  {
   "cell_type": "code",
   "execution_count": 5,
   "id": "f17cbe95-6c52-47da-91ee-4904841cf67d",
   "metadata": {},
   "outputs": [],
   "source": [
    "sol = Solution()"
   ]
  },
  {
   "cell_type": "code",
   "execution_count": 6,
   "id": "3b21c51b-68ac-4200-84ba-4d4b07185dd1",
   "metadata": {},
   "outputs": [],
   "source": [
    "assert sol.maximumElementAfterDecrementingAndRearranging([2,2,1,2,1]) == 2"
   ]
  },
  {
   "cell_type": "code",
   "execution_count": 7,
   "id": "a757c5ef-0d8e-4dfb-ae7e-b07bf148aa9d",
   "metadata": {},
   "outputs": [],
   "source": [
    "assert sol.maximumElementAfterDecrementingAndRearranging([100,1,1000]) == 3"
   ]
  },
  {
   "cell_type": "code",
   "execution_count": 8,
   "id": "a0aeeed6-5cdc-48a5-9fbe-bb3e5f988563",
   "metadata": {},
   "outputs": [],
   "source": [
    "assert sol.maximumElementAfterDecrementingAndRearranging([1,2,3,4,5]) == 5"
   ]
  }
 ],
 "metadata": {
  "kernelspec": {
   "display_name": "Python 3 (ipykernel)",
   "language": "python",
   "name": "python3"
  },
  "language_info": {
   "codemirror_mode": {
    "name": "ipython",
    "version": 3
   },
   "file_extension": ".py",
   "mimetype": "text/x-python",
   "name": "python",
   "nbconvert_exporter": "python",
   "pygments_lexer": "ipython3",
   "version": "3.9.7"
  }
 },
 "nbformat": 4,
 "nbformat_minor": 5
}
