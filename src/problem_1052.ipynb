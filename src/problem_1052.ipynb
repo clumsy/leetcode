{
 "cells": [
  {
   "cell_type": "markdown",
   "id": "1afc2dc7-f8b4-410a-8091-2c909e80efdc",
   "metadata": {},
   "source": [
    "[Problem 1052](https://leetcode.com/problems/grumpy-bookstore-owner/description)"
   ]
  },
  {
   "cell_type": "code",
   "execution_count": 1,
   "id": "7ae8f823-5ea8-4d97-82ea-e0fa8ed8e33f",
   "metadata": {},
   "outputs": [],
   "source": [
    "from typing import List"
   ]
  },
  {
   "cell_type": "code",
   "execution_count": 2,
   "id": "c95b0919-95c1-4ecd-a864-0d83cbbc1022",
   "metadata": {},
   "outputs": [],
   "source": [
    "class Solution:\n",
    "    def maxSatisfied(self, customers: List[int], grumpy: List[int], minutes: int) -> int:\n",
    "        lo, n = 0, len(customers)\n",
    "        sat = ma = cur = 0\n",
    "        for i in range(n):\n",
    "            if grumpy[i]:\n",
    "                while i - lo + 1 > minutes:\n",
    "                    cur -= customers[lo] if grumpy[lo] else 0\n",
    "                    lo += 1\n",
    "                cur += customers[i]\n",
    "                ma = max(ma, cur)\n",
    "            else:\n",
    "                sat += customers[i]\n",
    "        res = sat + ma\n",
    "        return res"
   ]
  },
  {
   "cell_type": "code",
   "execution_count": 3,
   "id": "93dc941d-b2c3-4570-a860-a0b7ad756dbd",
   "metadata": {},
   "outputs": [],
   "source": [
    "sol = Solution()"
   ]
  },
  {
   "cell_type": "code",
   "execution_count": 4,
   "id": "63bdb46a-e9a4-43a6-b5a6-98384ef758af",
   "metadata": {},
   "outputs": [],
   "source": [
    "assert sol.maxSatisfied([1,0,1,2,1,1,7,5], [0,1,0,1,0,1,0,1], 3) == 16"
   ]
  },
  {
   "cell_type": "code",
   "execution_count": 5,
   "id": "f1188705-b4e2-4631-9b0d-bf807f61c3b1",
   "metadata": {},
   "outputs": [],
   "source": [
    "assert sol.maxSatisfied([1], [0], 1) == 1"
   ]
  }
 ],
 "metadata": {
  "kernelspec": {
   "display_name": "Python 3 (ipykernel)",
   "language": "python",
   "name": "python3"
  },
  "language_info": {
   "codemirror_mode": {
    "name": "ipython",
    "version": 3
   },
   "file_extension": ".py",
   "mimetype": "text/x-python",
   "name": "python",
   "nbconvert_exporter": "python",
   "pygments_lexer": "ipython3",
   "version": "3.9.7"
  }
 },
 "nbformat": 4,
 "nbformat_minor": 5
}
