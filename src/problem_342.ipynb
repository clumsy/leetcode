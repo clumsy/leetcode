{
 "cells": [
  {
   "cell_type": "markdown",
   "id": "a674762b-9778-403b-ad44-25a67f80b7a0",
   "metadata": {},
   "source": [
    "[Problem 342](https://leetcode.com/problems/power-of-four/description)"
   ]
  },
  {
   "cell_type": "code",
   "execution_count": 1,
   "id": "906ea3f5-e970-4f85-9c92-e631dd908442",
   "metadata": {},
   "outputs": [],
   "source": [
    "class Solution:\n",
    "    def isPowerOfFour(self, n: int) -> bool:\n",
    "        res = n > 0 and n & -n == n and 0b1010101010101010101010101010101 & n == n\n",
    "        return res"
   ]
  },
  {
   "cell_type": "code",
   "execution_count": 2,
   "id": "47b45658-83a8-4615-aa1b-e9d59dcce6e5",
   "metadata": {},
   "outputs": [],
   "source": [
    "sol = Solution()"
   ]
  },
  {
   "cell_type": "code",
   "execution_count": 3,
   "id": "5661b4fd-4962-45e7-ab63-4ad76c15fefc",
   "metadata": {},
   "outputs": [],
   "source": [
    "assert sol.isPowerOfFour(16)"
   ]
  },
  {
   "cell_type": "code",
   "execution_count": 4,
   "id": "708d3ec1-0dca-4b01-83e8-1ff96299717e",
   "metadata": {},
   "outputs": [],
   "source": [
    "assert not sol.isPowerOfFour(5)"
   ]
  },
  {
   "cell_type": "code",
   "execution_count": 5,
   "id": "2e3bcf24-2e19-4de6-946a-57e5149ecc09",
   "metadata": {},
   "outputs": [],
   "source": [
    "assert sol.isPowerOfFour(1)"
   ]
  }
 ],
 "metadata": {
  "kernelspec": {
   "display_name": "Python 3 (ipykernel)",
   "language": "python",
   "name": "python3"
  },
  "language_info": {
   "codemirror_mode": {
    "name": "ipython",
    "version": 3
   },
   "file_extension": ".py",
   "mimetype": "text/x-python",
   "name": "python",
   "nbconvert_exporter": "python",
   "pygments_lexer": "ipython3",
   "version": "3.9.7"
  }
 },
 "nbformat": 4,
 "nbformat_minor": 5
}
