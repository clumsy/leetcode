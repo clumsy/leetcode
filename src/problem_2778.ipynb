{
 "cells": [
  {
   "cell_type": "markdown",
   "id": "c33d89ea-74e4-45f2-b6f2-7796ae0274fb",
   "metadata": {},
   "source": [
    "[Problem 2778]()"
   ]
  },
  {
   "cell_type": "code",
   "execution_count": 1,
   "id": "e33ac5e0-2448-4cfd-9931-c27e253ed77c",
   "metadata": {},
   "outputs": [],
   "source": [
    "from typing import List"
   ]
  },
  {
   "cell_type": "code",
   "execution_count": 2,
   "id": "5b207f79-1840-44de-8a6c-766cf0c7ca9e",
   "metadata": {},
   "outputs": [],
   "source": [
    "class Solution:\n",
    "    def sumOfSquares(self, nums: List[int]) -> int:\n",
    "        res = sum(n ** 2 for i, n in enumerate(nums) if len(nums) % (i + 1) == 0)\n",
    "        return res"
   ]
  },
  {
   "cell_type": "code",
   "execution_count": 3,
   "id": "cf0cc68a-0e1c-4ae6-82fc-ff50bd46c5d7",
   "metadata": {},
   "outputs": [],
   "source": [
    "class Solution:\n",
    "    def sumOfSquares(self, nums: List[int]) -> int:\n",
    "        res, i, n = 0, 1, len(nums)\n",
    "        while i * i <= n:\n",
    "            j = n // i\n",
    "            if i * j == n:\n",
    "                res += nums[i - 1] ** 2\n",
    "                if i != j:\n",
    "                    res += nums[j - 1] ** 2\n",
    "            i += 1\n",
    "        return res"
   ]
  },
  {
   "cell_type": "code",
   "execution_count": 4,
   "id": "8012ed72-ac48-4f06-9e9e-bf7418de6f4c",
   "metadata": {},
   "outputs": [],
   "source": [
    "sol = Solution()"
   ]
  },
  {
   "cell_type": "code",
   "execution_count": 5,
   "id": "25845723-6503-4a7b-b304-c1dd0ceed83c",
   "metadata": {},
   "outputs": [],
   "source": [
    "assert sol.sumOfSquares([1,2,3,4]) == 21"
   ]
  },
  {
   "cell_type": "code",
   "execution_count": 6,
   "id": "612ee882-fe56-4c49-a162-8b6aa186c4f2",
   "metadata": {},
   "outputs": [],
   "source": [
    "assert sol.sumOfSquares([2,7,1,19,18,3]) == 63"
   ]
  }
 ],
 "metadata": {
  "kernelspec": {
   "display_name": "Python 3 (ipykernel)",
   "language": "python",
   "name": "python3"
  },
  "language_info": {
   "codemirror_mode": {
    "name": "ipython",
    "version": 3
   },
   "file_extension": ".py",
   "mimetype": "text/x-python",
   "name": "python",
   "nbconvert_exporter": "python",
   "pygments_lexer": "ipython3",
   "version": "3.9.7"
  }
 },
 "nbformat": 4,
 "nbformat_minor": 5
}
