{
 "cells": [
  {
   "cell_type": "markdown",
   "id": "0dc1f7fb-e851-411a-8b1a-f92761e00cbd",
   "metadata": {},
   "source": [
    "[Problem 1496](https://leetcode.com/problems/path-crossing/description)"
   ]
  },
  {
   "cell_type": "code",
   "execution_count": 1,
   "id": "6d66b848-896a-4e1c-83a7-253e7a8d03c0",
   "metadata": {},
   "outputs": [],
   "source": [
    "class Solution:\n",
    "    def isPathCrossing(self, path: str) -> bool:\n",
    "        x = y = 0\n",
    "        been = set([(x, y)])\n",
    "        res = False\n",
    "        for p in path:\n",
    "            if p == \"N\":\n",
    "                y += 1\n",
    "            elif p == \"S\":\n",
    "                y -= 1\n",
    "            elif p == \"E\":\n",
    "                x += 1\n",
    "            elif p == \"W\":\n",
    "                x -= 1\n",
    "            if (x, y) in been:\n",
    "                res = True\n",
    "                break\n",
    "            been.add((x, y))\n",
    "        return res"
   ]
  },
  {
   "cell_type": "code",
   "execution_count": 2,
   "id": "bab540ff-0561-4d6a-b412-7d68f0d0b06a",
   "metadata": {},
   "outputs": [],
   "source": [
    "sol = Solution()"
   ]
  },
  {
   "cell_type": "code",
   "execution_count": 3,
   "id": "9064106b-408e-44f9-892d-0db87ff8e88f",
   "metadata": {},
   "outputs": [],
   "source": [
    "assert not sol.isPathCrossing(\"NES\")"
   ]
  },
  {
   "cell_type": "code",
   "execution_count": 4,
   "id": "c6420169-5c24-411a-ab8c-6dab640eba56",
   "metadata": {},
   "outputs": [],
   "source": [
    "assert sol.isPathCrossing(\"NESWW\")"
   ]
  }
 ],
 "metadata": {
  "kernelspec": {
   "display_name": "Python 3 (ipykernel)",
   "language": "python",
   "name": "python3"
  },
  "language_info": {
   "codemirror_mode": {
    "name": "ipython",
    "version": 3
   },
   "file_extension": ".py",
   "mimetype": "text/x-python",
   "name": "python",
   "nbconvert_exporter": "python",
   "pygments_lexer": "ipython3",
   "version": "3.9.7"
  }
 },
 "nbformat": 4,
 "nbformat_minor": 5
}
