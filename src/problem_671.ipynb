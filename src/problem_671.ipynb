{
 "cells": [
  {
   "cell_type": "markdown",
   "id": "9cda01b1-16fc-4355-b5b0-ffeae323750a",
   "metadata": {},
   "source": [
    "[Problem 671](https://leetcode.com/problems/second-minimum-node-in-a-)"
   ]
  },
  {
   "cell_type": "code",
   "execution_count": 1,
   "id": "eecf005e-5b0a-4fc9-a0e5-4a121ec702c9",
   "metadata": {},
   "outputs": [],
   "source": [
    "# Definition for a binary tree node.\n",
    "class TreeNode:\n",
    "    def __init__(self, val=0, left=None, right=None):\n",
    "        self.val = val\n",
    "        self.left = left\n",
    "        self.right = right"
   ]
  },
  {
   "cell_type": "code",
   "execution_count": 2,
   "id": "4a94dbd7-0d62-4dea-a504-6c959cd021a8",
   "metadata": {},
   "outputs": [],
   "source": [
    "from typing import Optional\n",
    "from heapq import heappop, heappush"
   ]
  },
  {
   "cell_type": "code",
   "execution_count": 3,
   "id": "1ed05e4e-7b22-4e0a-916a-60a8582e3e4f",
   "metadata": {},
   "outputs": [],
   "source": [
    "class Solution:\n",
    "    def findSecondMinimumValue(self, root: Optional[TreeNode]) -> int:\n",
    "        h, q = [], [root]\n",
    "        while q:\n",
    "            cur = q.pop()\n",
    "            if not cur:\n",
    "                continue\n",
    "            if -cur.val not in h:\n",
    "                heappush(h, -cur.val)\n",
    "            if len(h) > 2:\n",
    "                heappop(h)\n",
    "            q.append(cur.left)\n",
    "            q.append(cur.right)\n",
    "        res = -h[0] if len(h) > 1 else -1\n",
    "        return res"
   ]
  },
  {
   "cell_type": "code",
   "execution_count": 4,
   "id": "c7646088-cee2-4bc1-a9f6-26ab96711315",
   "metadata": {},
   "outputs": [],
   "source": [
    "sol = Solution()"
   ]
  },
  {
   "cell_type": "code",
   "execution_count": 5,
   "id": "e9bc736d-941d-4111-8086-391f8e6e6cce",
   "metadata": {},
   "outputs": [],
   "source": [
    "from collections import deque\n",
    "\n",
    "null = None  # to use Leetcode samples as is\n",
    "\n",
    "def tree(values):\n",
    "    if not values:\n",
    "        return null\n",
    "    root = TreeNode(values[0])\n",
    "    queue = deque()\n",
    "    queue.append(root)\n",
    "    queue.append(None)\n",
    "    length = len(values)\n",
    "    i = 0\n",
    "    while queue:\n",
    "        current = queue.popleft()\n",
    "        if current:\n",
    "            i += 1\n",
    "            if i < length and values[i]:\n",
    "                current.left = TreeNode(values[i])\n",
    "                queue.append(current.left)\n",
    "            i += 1\n",
    "            if i < length and values[i]:\n",
    "                current.right = TreeNode(values[i])\n",
    "                queue.append(current.right)\n",
    "            if i == length:\n",
    "                return root\n",
    "        else:\n",
    "            if queue:\n",
    "                queue.append(None)\n",
    "    return root"
   ]
  },
  {
   "cell_type": "code",
   "execution_count": 7,
   "id": "33d778d5-3d7d-4a77-829e-75143ba9cf71",
   "metadata": {},
   "outputs": [],
   "source": [
    "assert sol.findSecondMinimumValue(tree([2,2,5,null,null,5,7])) == 5"
   ]
  },
  {
   "cell_type": "code",
   "execution_count": 9,
   "id": "d07fa3ec-316c-47b6-9a46-415f71aec0b8",
   "metadata": {},
   "outputs": [],
   "source": [
    "assert sol.findSecondMinimumValue(tree([2,2,2])) == -1"
   ]
  }
 ],
 "metadata": {
  "kernelspec": {
   "display_name": "Python 3 (ipykernel)",
   "language": "python",
   "name": "python3"
  },
  "language_info": {
   "codemirror_mode": {
    "name": "ipython",
    "version": 3
   },
   "file_extension": ".py",
   "mimetype": "text/x-python",
   "name": "python",
   "nbconvert_exporter": "python",
   "pygments_lexer": "ipython3",
   "version": "3.9.7"
  }
 },
 "nbformat": 4,
 "nbformat_minor": 5
}
