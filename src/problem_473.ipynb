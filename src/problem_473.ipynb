{
 "cells": [
  {
   "cell_type": "markdown",
   "id": "7bd32bb3-d966-4775-b1f6-69607168741a",
   "metadata": {},
   "source": [
    "[Problem 473](https://leetcode.com/problems/matchsticks-to-square/description/)"
   ]
  },
  {
   "cell_type": "code",
   "execution_count": 2,
   "id": "7902366c-f2e5-4251-a74f-83b5baec236e",
   "metadata": {},
   "outputs": [],
   "source": [
    "from typing import List\n",
    "from functools import lru_cache"
   ]
  },
  {
   "cell_type": "code",
   "execution_count": 27,
   "id": "e3b0d540-79fe-47ce-a16a-3901e67316da",
   "metadata": {},
   "outputs": [],
   "source": [
    "class Solution:\n",
    "    def makesquare(self, m: List[int]) -> bool:\n",
    "        w, r = divmod(sum(m), 4)\n",
    "        if r != 0 or max(m) > w:\n",
    "            return False\n",
    "        \n",
    "        # DP\n",
    "        @lru_cache(None)\n",
    "        def dfs(mask):\n",
    "            # no match sticks left\n",
    "            if mask == 0:\n",
    "                return 0\n",
    "            for i in range(len(m)):\n",
    "                if mask & 1 << i:\n",
    "                    # sum without current match stick\n",
    "                    other = dfs(mask ^ 1 << i)\n",
    "                    if other >= 0 and other + m[i] <= w:\n",
    "                        # remaining sum for current side\n",
    "                        return (other + m[i]) % w\n",
    "            return -1\n",
    "        return dfs((1 << len(m)) - 1) == 0"
   ]
  },
  {
   "cell_type": "code",
   "execution_count": 28,
   "id": "1d820f27-d2c5-4ddb-828f-7e16924b1aa8",
   "metadata": {},
   "outputs": [],
   "source": [
    "sol = Solution()"
   ]
  },
  {
   "cell_type": "code",
   "execution_count": 29,
   "id": "e7cb5626-5cf7-49bb-8e6c-ca9ae468cccf",
   "metadata": {},
   "outputs": [],
   "source": [
    "assert sol.makesquare([1,1,2,2,2])"
   ]
  },
  {
   "cell_type": "code",
   "execution_count": 30,
   "id": "91e84f13-49a4-414c-bb27-a48de59f7237",
   "metadata": {},
   "outputs": [],
   "source": [
    "assert not sol.makesquare([3,3,3,3,4])"
   ]
  }
 ],
 "metadata": {
  "kernelspec": {
   "display_name": "Python 3 (ipykernel)",
   "language": "python",
   "name": "python3"
  },
  "language_info": {
   "codemirror_mode": {
    "name": "ipython",
    "version": 3
   },
   "file_extension": ".py",
   "mimetype": "text/x-python",
   "name": "python",
   "nbconvert_exporter": "python",
   "pygments_lexer": "ipython3",
   "version": "3.9.7"
  }
 },
 "nbformat": 4,
 "nbformat_minor": 5
}
