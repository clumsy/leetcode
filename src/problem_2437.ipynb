{
 "cells": [
  {
   "cell_type": "markdown",
   "id": "e38a42cb-005f-4f48-aeca-e3f767bff00f",
   "metadata": {},
   "source": [
    "[Problem 2437](https://leetcode.com/problems/number-of-valid-clock-times/description)"
   ]
  },
  {
   "cell_type": "code",
   "execution_count": 1,
   "id": "18cd0757-0b5a-4d66-b772-a35c10dab36e",
   "metadata": {},
   "outputs": [],
   "source": [
    "class Solution:\n",
    "    def countTime(self, time: str) -> int:\n",
    "        res = 1\n",
    "        if time[-1] == \"?\":\n",
    "            res *= 10\n",
    "        if time[-2] == \"?\":\n",
    "            res *= 6\n",
    "        if time[:2] == \"??\":\n",
    "            res *= 24\n",
    "        elif time[0] == \"?\":\n",
    "            res *= 3 if int(time[1]) < 4 else 2\n",
    "        elif time[1] == \"?\":\n",
    "            res *= 10 if int(time[0]) < 2 else 4\n",
    "        return res"
   ]
  },
  {
   "cell_type": "code",
   "execution_count": 2,
   "id": "9d56f5b7-36ae-4115-b171-88d3d66959f5",
   "metadata": {},
   "outputs": [],
   "source": [
    "sol = Solution()"
   ]
  },
  {
   "cell_type": "code",
   "execution_count": 3,
   "id": "9c62a572-cb32-4104-9ffe-24b372fc5dc0",
   "metadata": {},
   "outputs": [],
   "source": [
    "assert sol.countTime(\"?5:00\") == 2"
   ]
  },
  {
   "cell_type": "code",
   "execution_count": 4,
   "id": "fe0c956c-0d9f-4bf3-b7f3-d73f2ac0005d",
   "metadata": {},
   "outputs": [],
   "source": [
    "assert sol.countTime(\"0?:0?\") == 100"
   ]
  },
  {
   "cell_type": "code",
   "execution_count": 5,
   "id": "3d9afc1b-a577-4f30-a2ea-123787e2994c",
   "metadata": {},
   "outputs": [],
   "source": [
    "assert sol.countTime(\"??:??\") == 1440"
   ]
  }
 ],
 "metadata": {
  "kernelspec": {
   "display_name": "Python 3 (ipykernel)",
   "language": "python",
   "name": "python3"
  },
  "language_info": {
   "codemirror_mode": {
    "name": "ipython",
    "version": 3
   },
   "file_extension": ".py",
   "mimetype": "text/x-python",
   "name": "python",
   "nbconvert_exporter": "python",
   "pygments_lexer": "ipython3",
   "version": "3.9.7"
  }
 },
 "nbformat": 4,
 "nbformat_minor": 5
}
