{
 "cells": [
  {
   "cell_type": "markdown",
   "id": "9709c607-3d4f-432f-adf1-e1aaca9e428c",
   "metadata": {},
   "source": [
    "[Problem 406](https://leetcode.com/problems/queue-reconstruction-by-height)"
   ]
  },
  {
   "cell_type": "code",
   "execution_count": 8,
   "id": "ecd3ce8d-838c-4ad1-9ed6-0c455909062a",
   "metadata": {},
   "outputs": [],
   "source": [
    "from typing import List"
   ]
  },
  {
   "cell_type": "code",
   "execution_count": 10,
   "id": "7d09d409-4022-429f-b0dc-8781b369c618",
   "metadata": {},
   "outputs": [],
   "source": [
    "# time:  O(N*log(N))\n",
    "# space: O(N)\n",
    "class Solution:\n",
    "    def reconstructQueue(self, people: List[List[int]]) -> List[List[int]]:\n",
    "        n = len(people)\n",
    "        bit = [0]*(n + 1)  # bit[0] is not used\n",
    "\n",
    "        def _update(i, delta):\n",
    "            i += 1\n",
    "            while i <= n:\n",
    "                bit[i] += delta\n",
    "                i += i&-i\n",
    "                \n",
    "        def _query(i):\n",
    "            i += 1\n",
    "            s = 0\n",
    "            while i > 0:\n",
    "                s += bit[i]\n",
    "                i -= i&-i\n",
    "            return s\n",
    "        \n",
    "        for i in range(1, n):  # no empty slots left of 0th\n",
    "            _update(i, 1)  # remember empty slots count on the left\n",
    "        \n",
    "        people = sorted(people, key=lambda p: (p[0], -p[1]))  # sort by h_i ascending, then k_i descending\n",
    "        \n",
    "        res = [None]*n\n",
    "        for p in people:\n",
    "            l, r = 0, n\n",
    "            while l < r:\n",
    "                mid = l + (r - l)//2\n",
    "                if _query(mid) < p[1]:\n",
    "                    l = mid + 1\n",
    "                else:\n",
    "                    r = mid\n",
    "            res[l] = p\n",
    "            _update(l, -1)  # remove empty slot\n",
    "        \n",
    "        return res"
   ]
  },
  {
   "cell_type": "code",
   "execution_count": 11,
   "id": "a1016ba7-8d22-4ae2-9c13-b4e5ff2373a9",
   "metadata": {},
   "outputs": [],
   "source": [
    "# time:  O(N^2)\n",
    "# space: O(1)\n",
    "class Solution2:\n",
    "    def reconstructQueue(self, people: List[List[int]]) -> List[List[int]]:\n",
    "        people = sorted(people, key=lambda p: (-p[0], p[1]))\n",
    "        res = []\n",
    "        for p in people:\n",
    "            res.insert(p[1], p)\n",
    "        return res"
   ]
  },
  {
   "cell_type": "code",
   "execution_count": 12,
   "id": "217bf8b1-834d-4a35-97e7-bdecf26b0e8b",
   "metadata": {},
   "outputs": [],
   "source": [
    "sol = Solution()"
   ]
  },
  {
   "cell_type": "code",
   "execution_count": 13,
   "id": "8ec5ae98-9e41-43c8-8ab1-ae045b10a53c",
   "metadata": {},
   "outputs": [],
   "source": [
    "assert sol.reconstructQueue([[7,0],[4,4],[7,1],[5,0],[6,1],[5,2]]) == [[5,0],[7,0],[5,2],[6,1],[4,4],[7,1]]"
   ]
  },
  {
   "cell_type": "code",
   "execution_count": 14,
   "id": "6b39c32a-73da-4442-8c33-cde3f730ebd2",
   "metadata": {},
   "outputs": [],
   "source": [
    "assert sol.reconstructQueue([[6,0],[5,0],[4,0],[3,2],[2,2],[1,4]]) == [[4,0],[5,0],[2,2],[3,2],[1,4],[6,0]]"
   ]
  }
 ],
 "metadata": {
  "kernelspec": {
   "display_name": "Python 3 (ipykernel)",
   "language": "python",
   "name": "python3"
  },
  "language_info": {
   "codemirror_mode": {
    "name": "ipython",
    "version": 3
   },
   "file_extension": ".py",
   "mimetype": "text/x-python",
   "name": "python",
   "nbconvert_exporter": "python",
   "pygments_lexer": "ipython3",
   "version": "3.9.7"
  }
 },
 "nbformat": 4,
 "nbformat_minor": 5
}
