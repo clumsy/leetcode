{
 "cells": [
  {
   "cell_type": "markdown",
   "id": "3621cf18-caae-49ee-baa6-62f2005489c0",
   "metadata": {},
   "source": [
    "[Problem 1109](https://leetcode.com/problems/corporate-flight-bookings/description)"
   ]
  },
  {
   "cell_type": "code",
   "execution_count": 1,
   "id": "2c7c78a2-421d-4d1a-b406-e0d193c763ff",
   "metadata": {},
   "outputs": [],
   "source": [
    "from typing import List"
   ]
  },
  {
   "cell_type": "code",
   "execution_count": 2,
   "id": "264698e8-579f-4483-aea7-649f01d523e2",
   "metadata": {},
   "outputs": [],
   "source": [
    "class Solution:\n",
    "    def corpFlightBookings(self, bookings: List[List[int]], n: int) -> List[int]:\n",
    "        res = [0] * n\n",
    "        for f, l, s in bookings:\n",
    "            res[f - 1] += s\n",
    "            if l < n:\n",
    "                res[l] -= s\n",
    "        for i in range(1, n):\n",
    "            res[i] += res[i - 1]\n",
    "        return res"
   ]
  },
  {
   "cell_type": "code",
   "execution_count": 3,
   "id": "f1c28954-39a4-4223-858c-c597b81b4114",
   "metadata": {},
   "outputs": [],
   "source": [
    "sol = Solution()"
   ]
  },
  {
   "cell_type": "code",
   "execution_count": 4,
   "id": "2716f297-e68d-4164-b3dc-6df270de2f02",
   "metadata": {},
   "outputs": [],
   "source": [
    "assert sol.corpFlightBookings([[1,2,10],[2,3,20],[2,5,25]], 5) == [10,55,45,25,25]"
   ]
  },
  {
   "cell_type": "code",
   "execution_count": 5,
   "id": "10b05072-215b-4bde-a930-aa8462a7233c",
   "metadata": {},
   "outputs": [],
   "source": [
    "assert sol.corpFlightBookings([[1,2,10],[2,2,15]], 2) == [10,25]"
   ]
  }
 ],
 "metadata": {
  "kernelspec": {
   "display_name": "Python 3 (ipykernel)",
   "language": "python",
   "name": "python3"
  },
  "language_info": {
   "codemirror_mode": {
    "name": "ipython",
    "version": 3
   },
   "file_extension": ".py",
   "mimetype": "text/x-python",
   "name": "python",
   "nbconvert_exporter": "python",
   "pygments_lexer": "ipython3",
   "version": "3.9.7"
  }
 },
 "nbformat": 4,
 "nbformat_minor": 5
}
