{
 "cells": [
  {
   "cell_type": "markdown",
   "id": "62586e6a-f37c-42bc-97eb-a17d29fe1e13",
   "metadata": {},
   "source": [
    "[Problem 2391](https://leetcode.com/problems/minimum-amount-of-time-to-collect-garbage/description)"
   ]
  },
  {
   "cell_type": "code",
   "execution_count": 1,
   "id": "70c2ac8f-57ab-4feb-a95c-08eac694b959",
   "metadata": {},
   "outputs": [],
   "source": [
    "from typing import List"
   ]
  },
  {
   "cell_type": "code",
   "execution_count": 2,
   "id": "faaaf8f5-98d0-4b55-b1a8-36a01602eca4",
   "metadata": {},
   "outputs": [],
   "source": [
    "class Solution:\n",
    "    def garbageCollection(self, garbage: List[str], travel: List[int]) -> int:\n",
    "        res, last = 0, {}\n",
    "        for i, s in enumerate(garbage):\n",
    "            res += len(s)\n",
    "            for c in s:\n",
    "                last[c] = i\n",
    "        for i, s in enumerate(garbage):\n",
    "            left = sum(j > i for j in last.values())\n",
    "            if not left:\n",
    "                break\n",
    "            # how many trucks need to keep going to next houses\n",
    "            res += left * travel[i] if i < len(travel) else 0\n",
    "        return res"
   ]
  },
  {
   "cell_type": "code",
   "execution_count": 3,
   "id": "dc6c86de-b1e2-45d5-bb90-329c12a37537",
   "metadata": {},
   "outputs": [],
   "source": [
    "sol = Solution()"
   ]
  },
  {
   "cell_type": "code",
   "execution_count": 4,
   "id": "dca4ee99-4c51-42c8-bc56-2957015f1c66",
   "metadata": {},
   "outputs": [],
   "source": [
    "assert sol.garbageCollection([\"G\",\"P\",\"GP\",\"GG\"], [2,4,3]) == 21"
   ]
  },
  {
   "cell_type": "code",
   "execution_count": 6,
   "id": "cd925ced-1210-45ab-a3d4-af2722baa103",
   "metadata": {},
   "outputs": [],
   "source": [
    "assert sol.garbageCollection([\"MMM\",\"PGM\",\"GP\"], [3, 10]) == 37"
   ]
  }
 ],
 "metadata": {
  "kernelspec": {
   "display_name": "Python 3 (ipykernel)",
   "language": "python",
   "name": "python3"
  },
  "language_info": {
   "codemirror_mode": {
    "name": "ipython",
    "version": 3
   },
   "file_extension": ".py",
   "mimetype": "text/x-python",
   "name": "python",
   "nbconvert_exporter": "python",
   "pygments_lexer": "ipython3",
   "version": "3.9.7"
  }
 },
 "nbformat": 4,
 "nbformat_minor": 5
}
