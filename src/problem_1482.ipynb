{
 "cells": [
  {
   "cell_type": "markdown",
   "id": "a9e8208d-75e2-4581-9284-a3b5306a7a93",
   "metadata": {},
   "source": [
    "[Problem 1482](https://leetcode.com/problems/minimum-number-of-days-to-make-m-bouquets/)"
   ]
  },
  {
   "cell_type": "code",
   "execution_count": 1,
   "id": "e0ca4709-8329-4ab3-84ea-7fed12e69884",
   "metadata": {},
   "outputs": [],
   "source": [
    "from typing import List"
   ]
  },
  {
   "cell_type": "code",
   "execution_count": 7,
   "id": "8afcf7f4-d179-4777-b7cd-5f3dcc652368",
   "metadata": {},
   "outputs": [],
   "source": [
    "class Solution:\n",
    "    def minDays(self, bloomDay: List[int], m: int, k: int) -> int:\n",
    "        n, mb = len(bloomDay), max(bloomDay)\n",
    "        if n < k * m:\n",
    "            return -1\n",
    "        lo, hi = 0, mb\n",
    "        while lo < hi:\n",
    "            day, b, f = lo + (hi - lo) // 2, 0, 0\n",
    "            for bd in bloomDay:\n",
    "                f = 0 if bd > day else f + 1\n",
    "                if f == k:\n",
    "                    f = 0\n",
    "                    b += 1\n",
    "                    if b == m:\n",
    "                        break\n",
    "            if b == m:\n",
    "                hi = day\n",
    "            else:\n",
    "                lo = day + 1\n",
    "        return lo"
   ]
  },
  {
   "cell_type": "code",
   "execution_count": 8,
   "id": "b665f531-2e25-4b13-81cc-2613981b6d6d",
   "metadata": {},
   "outputs": [],
   "source": [
    "sol = Solution()"
   ]
  },
  {
   "cell_type": "code",
   "execution_count": 9,
   "id": "f30c5329-ea61-4ad4-b56b-2c24491767fa",
   "metadata": {},
   "outputs": [],
   "source": [
    "assert sol.minDays([1,10,3,10,2], 3, 1) == 3"
   ]
  },
  {
   "cell_type": "code",
   "execution_count": 10,
   "id": "9fe6a57e-ebdc-4015-8621-e4bb192ac49d",
   "metadata": {},
   "outputs": [],
   "source": [
    "assert sol.minDays([1,10,3,10,2], 3, 2) == -1"
   ]
  },
  {
   "cell_type": "code",
   "execution_count": 11,
   "id": "94898f1a-67a3-49ea-9b66-41b4b84ff13b",
   "metadata": {},
   "outputs": [],
   "source": [
    "assert sol.minDays([7,7,7,7,12,7,7], 2, 3) == 12"
   ]
  }
 ],
 "metadata": {
  "kernelspec": {
   "display_name": "Python 3 (ipykernel)",
   "language": "python",
   "name": "python3"
  },
  "language_info": {
   "codemirror_mode": {
    "name": "ipython",
    "version": 3
   },
   "file_extension": ".py",
   "mimetype": "text/x-python",
   "name": "python",
   "nbconvert_exporter": "python",
   "pygments_lexer": "ipython3",
   "version": "3.9.7"
  }
 },
 "nbformat": 4,
 "nbformat_minor": 5
}
