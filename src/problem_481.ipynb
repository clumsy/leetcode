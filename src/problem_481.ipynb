{
 "cells": [
  {
   "cell_type": "markdown",
   "id": "3736da3c-3204-4c30-a39a-ac9012bf3d3f",
   "metadata": {},
   "source": [
    "[Problem 481](https://leetcode.com/problems/magical-string/)"
   ]
  },
  {
   "cell_type": "code",
   "execution_count": 1,
   "id": "fb6ec815-0625-4cbe-9a57-1dc7611adfd2",
   "metadata": {},
   "outputs": [],
   "source": [
    "from typing import List"
   ]
  },
  {
   "cell_type": "code",
   "execution_count": 6,
   "id": "c1ec63cb-b11f-4409-a19e-49660f37674f",
   "metadata": {},
   "outputs": [],
   "source": [
    "class Solution:\n",
    "    def magicalString(self, n: int) -> int:\n",
    "        s, i = [1,2,2], 2\n",
    "        while len(s) < n:\n",
    "            s.extend([s[-1] ^ 3] * s[i])\n",
    "            i += 1\n",
    "        return s[:n].count(1)"
   ]
  },
  {
   "cell_type": "code",
   "execution_count": 2,
   "id": "b6316977-c6ba-47f9-a50e-d3603c0dca76",
   "metadata": {},
   "outputs": [],
   "source": [
    "class Solution:\n",
    "    def magicalString(self, n: int) -> int:\n",
    "        s, i = [1], 0\n",
    "        while len(s) < n:\n",
    "            c = s[i]\n",
    "            if c == 2:\n",
    "                # repeat previous for count=2\n",
    "                s.append(s[-1])\n",
    "            # add next number, we know if can't be the same as before\n",
    "            s.append(1 if s[-1] == 2 else 2)\n",
    "            i += 1\n",
    "        return s[:n].count(1)"
   ]
  },
  {
   "cell_type": "code",
   "execution_count": 3,
   "id": "7c0e4f1b-5e56-4cd7-97cb-6fc698bca751",
   "metadata": {},
   "outputs": [],
   "source": [
    "sol = Solution()"
   ]
  },
  {
   "cell_type": "code",
   "execution_count": 4,
   "id": "51e769ff-1668-476c-b5e6-69ab95c7edb8",
   "metadata": {},
   "outputs": [],
   "source": [
    "assert sol.magicalString(6) == 3"
   ]
  },
  {
   "cell_type": "code",
   "execution_count": 5,
   "id": "191dd9f3-f735-461e-ac7e-99818f3682f2",
   "metadata": {},
   "outputs": [],
   "source": [
    "assert sol.magicalString(1) == 1"
   ]
  }
 ],
 "metadata": {
  "kernelspec": {
   "display_name": "Python 3 (ipykernel)",
   "language": "python",
   "name": "python3"
  },
  "language_info": {
   "codemirror_mode": {
    "name": "ipython",
    "version": 3
   },
   "file_extension": ".py",
   "mimetype": "text/x-python",
   "name": "python",
   "nbconvert_exporter": "python",
   "pygments_lexer": "ipython3",
   "version": "3.9.7"
  }
 },
 "nbformat": 4,
 "nbformat_minor": 5
}
