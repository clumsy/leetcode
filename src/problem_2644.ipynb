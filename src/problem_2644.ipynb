{
 "cells": [
  {
   "cell_type": "markdown",
   "id": "5bfa7b1e-f9c2-4ab0-94db-88be31a167dd",
   "metadata": {},
   "source": [
    "[Problem 2644](https://leetcode.com/problems/find-the-maximum-divisibility-score/description)"
   ]
  },
  {
   "cell_type": "code",
   "execution_count": 1,
   "id": "402a9c1e-ffae-41c9-929e-af098381ed50",
   "metadata": {},
   "outputs": [],
   "source": [
    "from typing import List\n",
    "from math import inf"
   ]
  },
  {
   "cell_type": "code",
   "execution_count": 2,
   "id": "dbbf96ba-8aaa-499f-a868-771bfe5aeae6",
   "metadata": {},
   "outputs": [],
   "source": [
    "class Solution:\n",
    "    def maxDivScore(self, nums: List[int], divisors: List[int]) -> int:\n",
    "        res, cnt = inf, 0\n",
    "        for j in divisors:\n",
    "            cur = 0\n",
    "            for i in nums:\n",
    "                cur += i % j == 0\n",
    "            if cur >= cnt:\n",
    "                res = res if cur == cnt and res < j else j\n",
    "                cnt = cur\n",
    "        return res"
   ]
  },
  {
   "cell_type": "code",
   "execution_count": 3,
   "id": "c7cc7b81-834b-45a1-b2f6-f55ada00ddf2",
   "metadata": {},
   "outputs": [],
   "source": [
    "sol = Solution()"
   ]
  },
  {
   "cell_type": "code",
   "execution_count": 4,
   "id": "6c1ace26-4d48-475c-a94b-e62558a3f1dd",
   "metadata": {},
   "outputs": [],
   "source": [
    "assert sol.maxDivScore([4,7,9,3,9], [5,2,3]) == 3"
   ]
  },
  {
   "cell_type": "code",
   "execution_count": 5,
   "id": "21823993-ba5a-49ae-b1ea-9ba1a819e511",
   "metadata": {},
   "outputs": [],
   "source": [
    "assert sol.maxDivScore([20,14,21,10], [5,7,5]) == 5"
   ]
  },
  {
   "cell_type": "code",
   "execution_count": 6,
   "id": "cf348370-5d4e-4506-b2c5-27ee35e316e4",
   "metadata": {},
   "outputs": [],
   "source": [
    "assert sol.maxDivScore([12], [10,16]) == 10"
   ]
  }
 ],
 "metadata": {
  "kernelspec": {
   "display_name": "Python 3 (ipykernel)",
   "language": "python",
   "name": "python3"
  },
  "language_info": {
   "codemirror_mode": {
    "name": "ipython",
    "version": 3
   },
   "file_extension": ".py",
   "mimetype": "text/x-python",
   "name": "python",
   "nbconvert_exporter": "python",
   "pygments_lexer": "ipython3",
   "version": "3.9.7"
  }
 },
 "nbformat": 4,
 "nbformat_minor": 5
}
