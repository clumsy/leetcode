{
 "cells": [
  {
   "cell_type": "markdown",
   "id": "2fbb67cf-9224-46b7-875d-623a9e958b51",
   "metadata": {},
   "source": [
    "[Problem 1518](https://leetcode.com/problems/water-bottles/description)"
   ]
  },
  {
   "cell_type": "code",
   "execution_count": 1,
   "id": "8157d84d-a93f-44d9-ae62-bd4889168a95",
   "metadata": {},
   "outputs": [],
   "source": [
    "class Solution:\n",
    "    def numWaterBottles(self, numBottles: int, numExchange: int) -> int:\n",
    "        res = empty = 0\n",
    "        while numBottles > 0:\n",
    "            res += numBottles\n",
    "            numBottles, empty = divmod(numBottles + empty, numExchange)\n",
    "        return res"
   ]
  },
  {
   "cell_type": "code",
   "execution_count": 2,
   "id": "1bfb52bd-ddb4-4110-bc50-7a727b062795",
   "metadata": {},
   "outputs": [],
   "source": [
    "sol = Solution()"
   ]
  },
  {
   "cell_type": "code",
   "execution_count": 3,
   "id": "01df9da2-c530-448c-8806-ed026448183c",
   "metadata": {},
   "outputs": [],
   "source": [
    "assert sol.numWaterBottles(9, 3) == 13"
   ]
  },
  {
   "cell_type": "code",
   "execution_count": 4,
   "id": "a8996018-0d4f-4fde-81dc-3999024e030f",
   "metadata": {},
   "outputs": [],
   "source": [
    "assert sol.numWaterBottles(15, 4) == 19"
   ]
  }
 ],
 "metadata": {
  "kernelspec": {
   "display_name": "Python 3 (ipykernel)",
   "language": "python",
   "name": "python3"
  },
  "language_info": {
   "codemirror_mode": {
    "name": "ipython",
    "version": 3
   },
   "file_extension": ".py",
   "mimetype": "text/x-python",
   "name": "python",
   "nbconvert_exporter": "python",
   "pygments_lexer": "ipython3",
   "version": "3.9.7"
  }
 },
 "nbformat": 4,
 "nbformat_minor": 5
}
