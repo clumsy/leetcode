{
 "cells": [
  {
   "cell_type": "markdown",
   "id": "451bcb4e-d4b8-4c07-9f76-6abd010f2fd3",
   "metadata": {},
   "source": [
    "[Problem 1572](https://leetcode.com/problems/matrix-diagonal-sum/description)"
   ]
  },
  {
   "cell_type": "code",
   "execution_count": 1,
   "id": "43657184-8f8a-4a79-91b0-df018b32bc44",
   "metadata": {},
   "outputs": [],
   "source": [
    "from typing import List"
   ]
  },
  {
   "cell_type": "code",
   "execution_count": 2,
   "id": "b4df7215-a8f0-49b0-b846-c4d5fd4d9f22",
   "metadata": {},
   "outputs": [],
   "source": [
    "class Solution:\n",
    "    def diagonalSum(self, mat: List[List[int]]) -> int:\n",
    "        n = len(mat)\n",
    "        return sum(mat[i][i] + mat[i][n - 1 - i] for i in range(n)) - mat[n // 2][n // 2] * (n & 1)"
   ]
  },
  {
   "cell_type": "code",
   "execution_count": 3,
   "id": "106b16e0-09f3-47e8-9eaf-02f0676ae8c8",
   "metadata": {},
   "outputs": [],
   "source": [
    "sol = Solution()"
   ]
  },
  {
   "cell_type": "code",
   "execution_count": 4,
   "id": "6a1ef40d-0e90-4c1f-8abb-762827c1e5b1",
   "metadata": {},
   "outputs": [],
   "source": [
    "assert sol.diagonalSum([[1,2,3],\n",
    "                       [4,5,6],\n",
    "                       [7,8,9]]) == 25"
   ]
  },
  {
   "cell_type": "code",
   "execution_count": 5,
   "id": "f398f6b6-a91b-4d15-8ba1-1191df2ef342",
   "metadata": {},
   "outputs": [],
   "source": [
    "assert sol.diagonalSum([[1,1,1,1],\n",
    "                       [1,1,1,1],\n",
    "                       [1,1,1,1],\n",
    "                       [1,1,1,1]]) == 8"
   ]
  }
 ],
 "metadata": {
  "kernelspec": {
   "display_name": "Python 3 (ipykernel)",
   "language": "python",
   "name": "python3"
  },
  "language_info": {
   "codemirror_mode": {
    "name": "ipython",
    "version": 3
   },
   "file_extension": ".py",
   "mimetype": "text/x-python",
   "name": "python",
   "nbconvert_exporter": "python",
   "pygments_lexer": "ipython3",
   "version": "3.9.7"
  }
 },
 "nbformat": 4,
 "nbformat_minor": 5
}
