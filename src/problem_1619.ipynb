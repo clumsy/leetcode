{
 "cells": [
  {
   "cell_type": "markdown",
   "id": "8c4db5f5-521e-4c3f-b493-a137e3785ce4",
   "metadata": {},
   "source": [
    "[Problem 1619](https://leetcode.com/problems/mean-of-array-after-removing-some-elements/description)"
   ]
  },
  {
   "cell_type": "code",
   "execution_count": 1,
   "id": "bc871591-68ca-4576-a4a3-957aca58b427",
   "metadata": {},
   "outputs": [],
   "source": [
    "from typing import List"
   ]
  },
  {
   "cell_type": "code",
   "execution_count": 2,
   "id": "40692b7d-9d8c-492f-863c-504602b292b1",
   "metadata": {},
   "outputs": [],
   "source": [
    "class Solution:\n",
    "    def trimMean(self, arr: List[int]) -> float:\n",
    "        # can be made O(n) with QuickSelect\n",
    "        # using easier O(n*log(n)) solution with sorting\n",
    "        arr.sort()\n",
    "        n = len(arr)\n",
    "        arr = arr[int(0.05 * n) : int(0.95 * n)]\n",
    "        res = sum(arr) / len(arr)\n",
    "        return res"
   ]
  },
  {
   "cell_type": "code",
   "execution_count": 4,
   "id": "5f4e2209-db24-4d52-9724-cf2e2f8bd1cf",
   "metadata": {},
   "outputs": [],
   "source": [
    "sol = Solution()"
   ]
  },
  {
   "cell_type": "code",
   "execution_count": 10,
   "id": "9843f949-5a3f-4036-9a22-747c3bbc3168",
   "metadata": {},
   "outputs": [],
   "source": [
    "assert sol.trimMean([1,2,2,2,2,2,2,2,2,2,2,2,2,2,2,2,2,2,2,3]) - 2 < 1e-8"
   ]
  },
  {
   "cell_type": "code",
   "execution_count": 9,
   "id": "9f45e15a-5b78-4a99-a30f-dfd4a5a5c7c7",
   "metadata": {},
   "outputs": [],
   "source": [
    "assert sol.trimMean([6,2,7,5,1,2,0,3,10,2,5,0,5,5,0,8,7,6,8,0]) - 4 < 1e-8"
   ]
  },
  {
   "cell_type": "code",
   "execution_count": 8,
   "id": "cdc4e83b-3875-4629-b181-7e8adb9a4cc5",
   "metadata": {},
   "outputs": [],
   "source": [
    "assert sol.trimMean([6,0,7,0,7,5,7,8,3,4,0,7,8,1,6,8,1,1,2,4,8,1,9,5,4,3,8,5,10,8,6,6,1,0,6,10,8,2,3,4]) - 4.77778 < 1e-8"
   ]
  }
 ],
 "metadata": {
  "kernelspec": {
   "display_name": "Python 3 (ipykernel)",
   "language": "python",
   "name": "python3"
  },
  "language_info": {
   "codemirror_mode": {
    "name": "ipython",
    "version": 3
   },
   "file_extension": ".py",
   "mimetype": "text/x-python",
   "name": "python",
   "nbconvert_exporter": "python",
   "pygments_lexer": "ipython3",
   "version": "3.9.7"
  }
 },
 "nbformat": 4,
 "nbformat_minor": 5
}
