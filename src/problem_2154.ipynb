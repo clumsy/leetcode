{
 "cells": [
  {
   "cell_type": "markdown",
   "id": "0b4f31a0-ba4a-4f2a-993f-76fb8b40c0d6",
   "metadata": {},
   "source": [
    "[Problem 2154](https://leetcode.com/problems/keep-multiplying-found-values-by-two/description)"
   ]
  },
  {
   "cell_type": "code",
   "execution_count": 1,
   "id": "ac566040-c0ba-4b7b-b76a-48480cf5053a",
   "metadata": {},
   "outputs": [],
   "source": [
    "from typing import List"
   ]
  },
  {
   "cell_type": "code",
   "execution_count": 2,
   "id": "c607de4e-09b3-45e5-b6ec-59355e97dd7f",
   "metadata": {},
   "outputs": [],
   "source": [
    "class Solution:\n",
    "    def findFinalValue(self, nums: List[int], original: int) -> int:\n",
    "        nums = set(nums)\n",
    "        while original in nums:\n",
    "            original *= 2\n",
    "        return original"
   ]
  },
  {
   "cell_type": "code",
   "execution_count": 3,
   "id": "7cd7e11d-c9bd-465f-a4a1-20de635390c3",
   "metadata": {},
   "outputs": [],
   "source": [
    "sol = Solution()"
   ]
  },
  {
   "cell_type": "code",
   "execution_count": 4,
   "id": "678dda8a-c3f9-4b04-9b15-cdbf0ad83e03",
   "metadata": {},
   "outputs": [],
   "source": [
    "assert sol.findFinalValue([5,3,6,1,12], 3) == 24"
   ]
  },
  {
   "cell_type": "code",
   "execution_count": 6,
   "id": "62507134-e468-495e-ac0b-d8df3add3755",
   "metadata": {},
   "outputs": [],
   "source": [
    "assert sol.findFinalValue([2,7,9], 4) == 4"
   ]
  }
 ],
 "metadata": {
  "kernelspec": {
   "display_name": "Python 3 (ipykernel)",
   "language": "python",
   "name": "python3"
  },
  "language_info": {
   "codemirror_mode": {
    "name": "ipython",
    "version": 3
   },
   "file_extension": ".py",
   "mimetype": "text/x-python",
   "name": "python",
   "nbconvert_exporter": "python",
   "pygments_lexer": "ipython3",
   "version": "3.9.7"
  }
 },
 "nbformat": 4,
 "nbformat_minor": 5
}
