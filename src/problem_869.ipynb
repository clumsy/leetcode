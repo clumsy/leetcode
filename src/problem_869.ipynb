{
 "cells": [
  {
   "cell_type": "markdown",
   "id": "1c220bc5-64d0-4a6f-bfd4-d1b55d2bb18e",
   "metadata": {},
   "source": [
    "[Problem 869](https://leetcode.com/problems/reordered-power-of-2/description)"
   ]
  },
  {
   "cell_type": "code",
   "execution_count": 1,
   "id": "922532b8-0e67-4557-92a7-e998eb61a792",
   "metadata": {},
   "outputs": [],
   "source": [
    "class Solution:\n",
    "    def reorderedPowerOf2(self, n: int) -> bool:\n",
    "        def norm(i):\n",
    "            return \"\".join(sorted(str(i)))\n",
    "        pwrs_of_2 = {norm(1 << p) for p in range(30)}\n",
    "        res = norm(n) in pwrs_of_2\n",
    "        return res"
   ]
  },
  {
   "cell_type": "code",
   "execution_count": 2,
   "id": "a95490e1-0fce-4e54-a3a9-974688dc5adb",
   "metadata": {},
   "outputs": [],
   "source": [
    "sol = Solution()"
   ]
  },
  {
   "cell_type": "code",
   "execution_count": 3,
   "id": "a806b304-c355-40fc-8336-3bb1ba883d08",
   "metadata": {},
   "outputs": [],
   "source": [
    "assert sol.reorderedPowerOf2(1)"
   ]
  },
  {
   "cell_type": "code",
   "execution_count": 4,
   "id": "651adf28-6825-4fae-a57b-521f8afd9ce5",
   "metadata": {},
   "outputs": [],
   "source": [
    "assert not sol.reorderedPowerOf2(10)"
   ]
  }
 ],
 "metadata": {
  "kernelspec": {
   "display_name": "Python 3 (ipykernel)",
   "language": "python",
   "name": "python3"
  },
  "language_info": {
   "codemirror_mode": {
    "name": "ipython",
    "version": 3
   },
   "file_extension": ".py",
   "mimetype": "text/x-python",
   "name": "python",
   "nbconvert_exporter": "python",
   "pygments_lexer": "ipython3",
   "version": "3.9.7"
  }
 },
 "nbformat": 4,
 "nbformat_minor": 5
}
