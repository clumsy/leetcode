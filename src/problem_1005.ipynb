{
 "cells": [
  {
   "cell_type": "markdown",
   "id": "e0745630-f9ee-4040-ab0c-94e85e667ad0",
   "metadata": {},
   "source": [
    "[Problem 1005](https://leetcode.com/problems/maximize-sum-of-array-after-k-negations/description)"
   ]
  },
  {
   "cell_type": "code",
   "execution_count": 1,
   "id": "ef87291b-96c3-4fa6-8190-1ad959d1f261",
   "metadata": {},
   "outputs": [],
   "source": [
    "from typing import List"
   ]
  },
  {
   "cell_type": "code",
   "execution_count": 2,
   "id": "61c6c162-497d-440d-8ae0-1aec8e314b54",
   "metadata": {},
   "outputs": [],
   "source": [
    "class Solution:\n",
    "    def largestSumAfterKNegations(self, nums: List[int], k: int) -> int:\n",
    "        nums.sort()\n",
    "        i, n = 0, len(nums)\n",
    "        while k > 0 and i < n and nums[i] < 0:\n",
    "            nums[i] *= -1\n",
    "            k -= 1\n",
    "            i += 1\n",
    "        res = sum(nums) - (k & 1) * 2 * min(nums)\n",
    "        return res"
   ]
  },
  {
   "cell_type": "code",
   "execution_count": 3,
   "id": "450a2882-8601-4d8c-a6aa-ab33fcd35e00",
   "metadata": {},
   "outputs": [],
   "source": [
    "sol = Solution()"
   ]
  },
  {
   "cell_type": "code",
   "execution_count": 4,
   "id": "9c29f591-5fbd-44a7-9219-57b2bc29733b",
   "metadata": {},
   "outputs": [],
   "source": [
    "assert sol.largestSumAfterKNegations([4,2,3], 1) == 5"
   ]
  },
  {
   "cell_type": "code",
   "execution_count": 5,
   "id": "3e0895a6-d724-497a-b229-0b179b9db5da",
   "metadata": {},
   "outputs": [],
   "source": [
    "assert sol.largestSumAfterKNegations([3,-1,0,2], 3) == 6"
   ]
  },
  {
   "cell_type": "code",
   "execution_count": 6,
   "id": "8fdd88fd-3ed6-4252-8dc4-4b7d67a5348e",
   "metadata": {},
   "outputs": [],
   "source": [
    "assert sol.largestSumAfterKNegations([2,-3,-1,5,-4], 2) == 13"
   ]
  }
 ],
 "metadata": {
  "kernelspec": {
   "display_name": "Python 3 (ipykernel)",
   "language": "python",
   "name": "python3"
  },
  "language_info": {
   "codemirror_mode": {
    "name": "ipython",
    "version": 3
   },
   "file_extension": ".py",
   "mimetype": "text/x-python",
   "name": "python",
   "nbconvert_exporter": "python",
   "pygments_lexer": "ipython3",
   "version": "3.9.7"
  }
 },
 "nbformat": 4,
 "nbformat_minor": 5
}
