{
 "cells": [
  {
   "cell_type": "markdown",
   "id": "2f244640-6fe3-4a43-a622-cef9e0a8bd3b",
   "metadata": {},
   "source": [
    "[Problem 209](https://leetcode.com/problems/minimum-size-subarray-sum/)"
   ]
  },
  {
   "cell_type": "code",
   "execution_count": 2,
   "id": "d63e4f5d-4181-43c6-975a-c5e673e236bd",
   "metadata": {},
   "outputs": [],
   "source": [
    "from typing import List"
   ]
  },
  {
   "cell_type": "code",
   "execution_count": 3,
   "id": "24273458-2a05-4fd1-ab39-004edd7b220f",
   "metadata": {},
   "outputs": [],
   "source": [
    "class Solution:\n",
    "    def minSubArrayLen(self, target: int, nums: List[int]) -> int:\n",
    "        n, res = len(nums), len(nums) + 1\n",
    "        for i in range(n - 1):\n",
    "            nums[i + 1] += nums[i]\n",
    "        for i in range(n):\n",
    "            tgt, lo, hi = target + (0 if i == 0 else nums[i - 1]), i, n - 1\n",
    "            while lo < hi:\n",
    "                mi = lo + (hi - lo) // 2\n",
    "                if nums[mi] >= tgt:\n",
    "                    hi = mi\n",
    "                else:\n",
    "                    lo = mi + 1\n",
    "            if nums[lo] >= tgt:\n",
    "                res = min(res, lo - i + 1)\n",
    "        return res if res <= n else 0"
   ]
  },
  {
   "cell_type": "code",
   "execution_count": 18,
   "id": "933c4142-75e7-44d9-91eb-89674b905ba0",
   "metadata": {},
   "outputs": [],
   "source": [
    "class Solution:\n",
    "    def minSubArrayLen(self, target: int, nums: List[int]) -> int:\n",
    "        acc, s, e, n, res = 0, 0, 0, len(nums), len(nums) + 1\n",
    "        for e in range(n):\n",
    "            acc += nums[e]\n",
    "            while s <= e and acc - nums[s] >= target:\n",
    "                acc -= nums[s]\n",
    "                s += 1\n",
    "            if acc >= target:\n",
    "                res = min(res, e - s + 1)\n",
    "        return res if res <= n else 0"
   ]
  },
  {
   "cell_type": "code",
   "execution_count": 19,
   "id": "e6cf6448-e188-4d94-91b4-4df0c66a130a",
   "metadata": {},
   "outputs": [],
   "source": [
    "sol = Solution()"
   ]
  },
  {
   "cell_type": "code",
   "execution_count": 20,
   "id": "c97033df-7a60-474b-8b1f-5eaf3e1b3bee",
   "metadata": {},
   "outputs": [],
   "source": [
    "assert sol.minSubArrayLen(7, [2,3,1,2,4,3]) == 2"
   ]
  },
  {
   "cell_type": "code",
   "execution_count": 21,
   "id": "37c81ac3-c06a-4619-b9a7-60112faf1c33",
   "metadata": {},
   "outputs": [],
   "source": [
    "assert sol.minSubArrayLen(4, [1,4,4]) == 1"
   ]
  },
  {
   "cell_type": "code",
   "execution_count": 22,
   "id": "8d527a7a-8ce1-49c2-9c95-4fd78498e341",
   "metadata": {},
   "outputs": [],
   "source": [
    "assert sol.minSubArrayLen(11, [1,1,1,1,1,1,1,1]) == 0"
   ]
  }
 ],
 "metadata": {
  "kernelspec": {
   "display_name": "Python 3 (ipykernel)",
   "language": "python",
   "name": "python3"
  },
  "language_info": {
   "codemirror_mode": {
    "name": "ipython",
    "version": 3
   },
   "file_extension": ".py",
   "mimetype": "text/x-python",
   "name": "python",
   "nbconvert_exporter": "python",
   "pygments_lexer": "ipython3",
   "version": "3.9.7"
  }
 },
 "nbformat": 4,
 "nbformat_minor": 5
}
