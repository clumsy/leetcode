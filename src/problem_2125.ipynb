{
 "cells": [
  {
   "cell_type": "markdown",
   "id": "1c8d1e6c-2100-46cf-8933-28d708c004a7",
   "metadata": {},
   "source": [
    "[Problem 2125](https://leetcode.com/problems/number-of-laser-beams-in-a-bank)"
   ]
  },
  {
   "cell_type": "code",
   "execution_count": 1,
   "id": "6d3c16c2-f787-4ee9-987d-a359e9def5d4",
   "metadata": {},
   "outputs": [],
   "source": [
    "from typing import List"
   ]
  },
  {
   "cell_type": "code",
   "execution_count": 2,
   "id": "491fb51b-bd22-4e57-9938-24ad5fec0c5f",
   "metadata": {},
   "outputs": [],
   "source": [
    "class Solution:\n",
    "    def numberOfBeams(self, bank: List[str]) -> int:\n",
    "        cnt = prv = 0\n",
    "        for flr in bank:\n",
    "            c = flr.count('1')\n",
    "            if c:\n",
    "                cnt += prv*c\n",
    "                prv = c\n",
    "        return cnt"
   ]
  },
  {
   "cell_type": "code",
   "execution_count": 3,
   "id": "d23a4b79-1845-4fb4-8f26-ecc8939b1c55",
   "metadata": {},
   "outputs": [],
   "source": [
    "sol = Solution()"
   ]
  },
  {
   "cell_type": "code",
   "execution_count": 4,
   "id": "6216eab7-8dd7-4cc7-a2a7-4c49cfcc4347",
   "metadata": {},
   "outputs": [],
   "source": [
    "assert sol.numberOfBeams([\"011001\",\"000000\",\"010100\",\"001000\"]) == 8"
   ]
  },
  {
   "cell_type": "code",
   "execution_count": 5,
   "id": "73280e63-8c8d-4b06-b9b1-8a5c30f758cf",
   "metadata": {},
   "outputs": [],
   "source": [
    "assert sol.numberOfBeams([\"000\",\"111\",\"000\"]) == 0"
   ]
  }
 ],
 "metadata": {
  "kernelspec": {
   "display_name": "Python 3 (ipykernel)",
   "language": "python",
   "name": "python3"
  },
  "language_info": {
   "codemirror_mode": {
    "name": "ipython",
    "version": 3
   },
   "file_extension": ".py",
   "mimetype": "text/x-python",
   "name": "python",
   "nbconvert_exporter": "python",
   "pygments_lexer": "ipython3",
   "version": "3.9.7"
  }
 },
 "nbformat": 4,
 "nbformat_minor": 5
}
