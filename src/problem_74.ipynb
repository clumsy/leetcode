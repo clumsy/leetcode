{
 "cells": [
  {
   "cell_type": "markdown",
   "id": "c532b1a2-06bb-457c-82cb-d04c0d446a4c",
   "metadata": {},
   "source": [
    "[Problem 74](https://leetcode.com/problems/search-a-2d-matrix/)"
   ]
  },
  {
   "cell_type": "code",
   "execution_count": 2,
   "id": "5653f3a2-04f5-40d3-a51e-c033b9a02265",
   "metadata": {},
   "outputs": [],
   "source": [
    "from typing import List"
   ]
  },
  {
   "cell_type": "code",
   "execution_count": 3,
   "id": "803a17a2-3e54-441c-9a04-bfd562873885",
   "metadata": {},
   "outputs": [],
   "source": [
    "class Solution:\n",
    "    def searchMatrix(self, matrix: List[List[int]], target: int) -> bool:\n",
    "        n, m = len(matrix), len(matrix[0])\n",
    "        lo, hi = 0, n * m - 1  # flatten\n",
    "        while lo < hi:\n",
    "            mi = lo + (hi - lo) // 2\n",
    "            diff = matrix[mi // m][mi % m] - target\n",
    "            if diff == 0:\n",
    "                return True\n",
    "            if diff > 0:\n",
    "                hi = mi\n",
    "            else:\n",
    "                lo = mi + 1\n",
    "        return False"
   ]
  },
  {
   "cell_type": "code",
   "execution_count": 4,
   "id": "3c9463f9-731f-4988-b0da-ee9a96204437",
   "metadata": {},
   "outputs": [],
   "source": [
    "sol = Solution()"
   ]
  },
  {
   "cell_type": "code",
   "execution_count": 6,
   "id": "1d253b28-cdb4-447e-8b6b-61087feed1ed",
   "metadata": {},
   "outputs": [],
   "source": [
    "assert sol.searchMatrix([[1,3,5,7],[10,11,16,20],[23,30,34,60]], 3)"
   ]
  },
  {
   "cell_type": "code",
   "execution_count": 7,
   "id": "88785371-95aa-4407-ad62-c104fa71255a",
   "metadata": {},
   "outputs": [],
   "source": [
    "assert not sol.searchMatrix([[1,3,5,7],[10,11,16,20],[23,30,34,60]], 13)"
   ]
  }
 ],
 "metadata": {
  "kernelspec": {
   "display_name": "Python 3 (ipykernel)",
   "language": "python",
   "name": "python3"
  },
  "language_info": {
   "codemirror_mode": {
    "name": "ipython",
    "version": 3
   },
   "file_extension": ".py",
   "mimetype": "text/x-python",
   "name": "python",
   "nbconvert_exporter": "python",
   "pygments_lexer": "ipython3",
   "version": "3.9.7"
  }
 },
 "nbformat": 4,
 "nbformat_minor": 5
}
