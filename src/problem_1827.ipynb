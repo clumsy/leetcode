{
 "cells": [
  {
   "cell_type": "markdown",
   "id": "2bd8d836-e422-44a2-80d7-88c13f662c8a",
   "metadata": {},
   "source": [
    "[Problem 1827](https://leetcode.com/problems/minimum-operations-to-make-the-array-increasing/description)"
   ]
  },
  {
   "cell_type": "code",
   "execution_count": 1,
   "id": "81055f24-22b0-416d-a7de-a98f60cf80e5",
   "metadata": {},
   "outputs": [],
   "source": [
    "from typing import List"
   ]
  },
  {
   "cell_type": "code",
   "execution_count": 2,
   "id": "e5f6cb20-c4bd-457c-8835-41ec457fb359",
   "metadata": {},
   "outputs": [],
   "source": [
    "class Solution:\n",
    "    def minOperations(self, nums: List[int]) -> int:\n",
    "        res, n = 0, len(nums)\n",
    "        for i in range(1, n):\n",
    "            res += max(0, nums[i - 1] + 1 - nums[i])\n",
    "            nums[i] = max(nums[i], nums[i - 1] + 1)\n",
    "        return res"
   ]
  },
  {
   "cell_type": "code",
   "execution_count": 3,
   "id": "fc7a60d5-5a7d-4048-a1fa-902e2eff84b6",
   "metadata": {},
   "outputs": [],
   "source": [
    "sol = Solution()"
   ]
  },
  {
   "cell_type": "code",
   "execution_count": 4,
   "id": "07c16777-c7f0-474c-8c0d-f7e9febc331c",
   "metadata": {},
   "outputs": [],
   "source": [
    "assert sol.minOperations([1,1,1]) == 3"
   ]
  },
  {
   "cell_type": "code",
   "execution_count": 5,
   "id": "392b8495-4009-4911-a437-3da74922c137",
   "metadata": {},
   "outputs": [],
   "source": [
    "assert sol.minOperations([1,5,2,4,1]) == 14"
   ]
  },
  {
   "cell_type": "code",
   "execution_count": 6,
   "id": "0ed89d4f-5cb6-4bb1-98c1-f4efe48fdbfc",
   "metadata": {},
   "outputs": [],
   "source": [
    "assert sol.minOperations([8]) == 0"
   ]
  }
 ],
 "metadata": {
  "kernelspec": {
   "display_name": "Python 3 (ipykernel)",
   "language": "python",
   "name": "python3"
  },
  "language_info": {
   "codemirror_mode": {
    "name": "ipython",
    "version": 3
   },
   "file_extension": ".py",
   "mimetype": "text/x-python",
   "name": "python",
   "nbconvert_exporter": "python",
   "pygments_lexer": "ipython3",
   "version": "3.9.7"
  }
 },
 "nbformat": 4,
 "nbformat_minor": 5
}
