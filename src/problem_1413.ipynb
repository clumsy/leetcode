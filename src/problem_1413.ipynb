{
 "cells": [
  {
   "cell_type": "markdown",
   "id": "da827564-8add-48ae-97c1-09b43695e70c",
   "metadata": {},
   "source": [
    "[Problem 1413](https://leetcode.com/problems/minimum-value-to-get-positive-step-by-step-sum/description)"
   ]
  },
  {
   "cell_type": "code",
   "execution_count": 1,
   "id": "d3369731-061a-49b7-877d-2793ebb19caa",
   "metadata": {},
   "outputs": [],
   "source": [
    "from typing import List"
   ]
  },
  {
   "cell_type": "code",
   "execution_count": 2,
   "id": "988c7ee3-57cf-4570-88ea-a6819ac0342c",
   "metadata": {},
   "outputs": [],
   "source": [
    "class Solution:\n",
    "    def minStartValue(self, nums: List[int]) -> int:\n",
    "        mi = s = nums[0]\n",
    "        for i in range(1, len(nums)):\n",
    "            s += nums[i]\n",
    "            mi = min(mi, s)\n",
    "        res = max(1, 1 - mi)\n",
    "        return res"
   ]
  },
  {
   "cell_type": "code",
   "execution_count": 3,
   "id": "cf2738d0-62e6-4f59-b5c4-62b5ee6c6b87",
   "metadata": {},
   "outputs": [],
   "source": [
    "sol = Solution()"
   ]
  },
  {
   "cell_type": "code",
   "execution_count": 4,
   "id": "ff3f5812-e147-419c-a670-250cdb46b0fa",
   "metadata": {},
   "outputs": [],
   "source": [
    "assert sol.minStartValue([-3,2,-3,4,2]) == 5"
   ]
  },
  {
   "cell_type": "code",
   "execution_count": 5,
   "id": "7863e2ba-9a7f-42e6-bb70-f62285384a15",
   "metadata": {},
   "outputs": [],
   "source": [
    "assert sol.minStartValue([1,2]) == 1"
   ]
  },
  {
   "cell_type": "code",
   "execution_count": 6,
   "id": "788b4303-4d0f-4b40-889e-94a5763aed0c",
   "metadata": {},
   "outputs": [],
   "source": [
    "assert sol.minStartValue([1,-2,-3]) == 5"
   ]
  }
 ],
 "metadata": {
  "kernelspec": {
   "display_name": "Python 3 (ipykernel)",
   "language": "python",
   "name": "python3"
  },
  "language_info": {
   "codemirror_mode": {
    "name": "ipython",
    "version": 3
   },
   "file_extension": ".py",
   "mimetype": "text/x-python",
   "name": "python",
   "nbconvert_exporter": "python",
   "pygments_lexer": "ipython3",
   "version": "3.9.7"
  }
 },
 "nbformat": 4,
 "nbformat_minor": 5
}
