{
 "cells": [
  {
   "cell_type": "markdown",
   "id": "b580d32c-7548-43f7-b6e6-4bdf5a8503db",
   "metadata": {},
   "source": [
    "[Problem 2164](https://leetcode.com/problems/sort-even-and-odd-indices-independently/description)"
   ]
  },
  {
   "cell_type": "code",
   "execution_count": 1,
   "id": "89b9767e-a700-4b1d-b58e-49984cc7d4f5",
   "metadata": {},
   "outputs": [],
   "source": [
    "from typing import List"
   ]
  },
  {
   "cell_type": "code",
   "execution_count": 2,
   "id": "6cde65b9-89dc-415d-962b-5883b94ce93b",
   "metadata": {},
   "outputs": [],
   "source": [
    "class Solution:\n",
    "    def sortEvenOdd(self, nums: List[int]) -> List[int]:\n",
    "        nums[::2], nums[1::2] = sorted(nums[::2]), sorted(nums[1::2], reverse=True)\n",
    "        res = nums\n",
    "        return res"
   ]
  },
  {
   "cell_type": "code",
   "execution_count": 3,
   "id": "ad712e21-1da0-48f7-b3d1-d20e23ac7536",
   "metadata": {},
   "outputs": [],
   "source": [
    "sol = Solution()"
   ]
  },
  {
   "cell_type": "code",
   "execution_count": 4,
   "id": "b1ed0039-fb72-406d-baf4-3bbb3f7921c5",
   "metadata": {},
   "outputs": [],
   "source": [
    "assert sol.sortEvenOdd([4,1,2,3]) == [2,3,4,1]"
   ]
  },
  {
   "cell_type": "code",
   "execution_count": 5,
   "id": "ccbd2f7b-62f9-4292-899c-429cf2c01e41",
   "metadata": {},
   "outputs": [],
   "source": [
    "assert sol.sortEvenOdd([2,1]) == [2,1]"
   ]
  }
 ],
 "metadata": {
  "kernelspec": {
   "display_name": "Python 3 (ipykernel)",
   "language": "python",
   "name": "python3"
  },
  "language_info": {
   "codemirror_mode": {
    "name": "ipython",
    "version": 3
   },
   "file_extension": ".py",
   "mimetype": "text/x-python",
   "name": "python",
   "nbconvert_exporter": "python",
   "pygments_lexer": "ipython3",
   "version": "3.9.7"
  }
 },
 "nbformat": 4,
 "nbformat_minor": 5
}
