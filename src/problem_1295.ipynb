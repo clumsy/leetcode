{
 "cells": [
  {
   "cell_type": "markdown",
   "id": "96a0dafe-0c3f-438f-acf2-2ed8f4e620fd",
   "metadata": {},
   "source": [
    "[Problem 1295](https://leetcode.com/problems/find-numbers-with-even-number-of-digits/description)"
   ]
  },
  {
   "cell_type": "code",
   "execution_count": 1,
   "id": "3cd6b920-46a6-4906-a1ff-54904fcd433b",
   "metadata": {},
   "outputs": [],
   "source": [
    "from typing import List"
   ]
  },
  {
   "cell_type": "code",
   "execution_count": 2,
   "id": "4344fa5a-2b46-405f-9fe8-db6a7bd42a3d",
   "metadata": {},
   "outputs": [],
   "source": [
    "class Solution:\n",
    "    def findNumbers(self, nums: List[int]) -> int:\n",
    "        res = sum(len(str(i)) & 1 == 0 for i in nums)\n",
    "        return res"
   ]
  },
  {
   "cell_type": "code",
   "execution_count": 3,
   "id": "013e1179-f759-4014-ae6b-2ccc97ebf7d4",
   "metadata": {},
   "outputs": [],
   "source": [
    "from math import log10, floor"
   ]
  },
  {
   "cell_type": "code",
   "execution_count": 4,
   "id": "b1bb6507-db26-4b3b-bde3-0e1050699400",
   "metadata": {},
   "outputs": [],
   "source": [
    "class Solution:\n",
    "    def findNumbers(self, nums: List[int]) -> int:\n",
    "        res = sum(floor(log10(i) + 1) & 1 == 0 for i in nums)\n",
    "        return res"
   ]
  },
  {
   "cell_type": "code",
   "execution_count": 5,
   "id": "a48da907-9eba-4da9-a30f-95e8c2c86eb9",
   "metadata": {},
   "outputs": [],
   "source": [
    "sol = Solution()"
   ]
  },
  {
   "cell_type": "code",
   "execution_count": 6,
   "id": "dccb3b9e-2098-4b87-86dd-18aa886069f4",
   "metadata": {},
   "outputs": [],
   "source": [
    "assert sol.findNumbers([12,345,2,6,7896]) == 2"
   ]
  },
  {
   "cell_type": "code",
   "execution_count": 7,
   "id": "d546a474-baa3-4031-ad6f-3da50691d06d",
   "metadata": {},
   "outputs": [],
   "source": [
    "assert sol.findNumbers([555,901,482,1771]) == 1"
   ]
  }
 ],
 "metadata": {
  "kernelspec": {
   "display_name": "Python 3 (ipykernel)",
   "language": "python",
   "name": "python3"
  },
  "language_info": {
   "codemirror_mode": {
    "name": "ipython",
    "version": 3
   },
   "file_extension": ".py",
   "mimetype": "text/x-python",
   "name": "python",
   "nbconvert_exporter": "python",
   "pygments_lexer": "ipython3",
   "version": "3.9.7"
  }
 },
 "nbformat": 4,
 "nbformat_minor": 5
}
