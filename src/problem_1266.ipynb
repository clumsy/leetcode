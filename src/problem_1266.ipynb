{
 "cells": [
  {
   "cell_type": "markdown",
   "id": "1f28c871-f27c-483d-ac37-ba029941c7c2",
   "metadata": {},
   "source": [
    "[Problem 1266](https://leetcode.com/problems/minimum-time-visiting-all-points/description)"
   ]
  },
  {
   "cell_type": "code",
   "execution_count": 1,
   "id": "744c4624-ddc9-4b84-9325-db44dd933a7b",
   "metadata": {},
   "outputs": [],
   "source": [
    "from typing import List"
   ]
  },
  {
   "cell_type": "code",
   "execution_count": 2,
   "id": "38e137e4-f0fc-4a69-96cb-9c196361e15f",
   "metadata": {},
   "outputs": [],
   "source": [
    "class Solution:\n",
    "    def minTimeToVisitAllPoints(self, p: List[List[int]]) -> int:\n",
    "        res = 0\n",
    "        x0, y0 = p[0]\n",
    "        for x, y in p[1:]:\n",
    "            res += max(abs(x - x0), abs(y - y0))\n",
    "            x0, y0 = x, y\n",
    "        return res"
   ]
  },
  {
   "cell_type": "code",
   "execution_count": 3,
   "id": "ffc21a7c-c1e5-4878-9d2f-b76ad5eb69f5",
   "metadata": {},
   "outputs": [],
   "source": [
    "sol = Solution()"
   ]
  },
  {
   "cell_type": "code",
   "execution_count": 4,
   "id": "258bee6e-455c-478c-b1c2-5af90bd6fbe0",
   "metadata": {},
   "outputs": [],
   "source": [
    "assert sol.minTimeToVisitAllPoints([[1,1],[3,4],[-1,0]]) == 7"
   ]
  },
  {
   "cell_type": "code",
   "execution_count": 5,
   "id": "8ba08c43-759f-4c56-b68b-18ee3e5fa1e3",
   "metadata": {},
   "outputs": [],
   "source": [
    "assert sol.minTimeToVisitAllPoints([[3,2],[-2,2]]) == 5"
   ]
  }
 ],
 "metadata": {
  "kernelspec": {
   "display_name": "Python 3 (ipykernel)",
   "language": "python",
   "name": "python3"
  },
  "language_info": {
   "codemirror_mode": {
    "name": "ipython",
    "version": 3
   },
   "file_extension": ".py",
   "mimetype": "text/x-python",
   "name": "python",
   "nbconvert_exporter": "python",
   "pygments_lexer": "ipython3",
   "version": "3.9.7"
  }
 },
 "nbformat": 4,
 "nbformat_minor": 5
}
