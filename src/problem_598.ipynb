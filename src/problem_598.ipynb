{
 "cells": [
  {
   "cell_type": "markdown",
   "id": "f1fafe8b-1a57-4d76-8ed4-f2f6ece85fc5",
   "metadata": {},
   "source": [
    "[Problem 598](https://leetcode.com/problems/range-addition-ii/description)"
   ]
  },
  {
   "cell_type": "code",
   "execution_count": 1,
   "id": "cbf3205e-4e90-4bfb-99f9-90b2c6403c19",
   "metadata": {},
   "outputs": [],
   "source": [
    "from typing import List"
   ]
  },
  {
   "cell_type": "code",
   "execution_count": 2,
   "id": "22f85b4a-1979-4739-a173-8019278fe4ca",
   "metadata": {},
   "outputs": [],
   "source": [
    "class Solution:\n",
    "    def maxCount(self, m: int, n: int, ops: List[List[int]]) -> int:\n",
    "        mi_a, mi_b = m, n\n",
    "        for a, b in ops:\n",
    "            mi_a, mi_b = min(mi_a, a), min(mi_b, b)\n",
    "        res = mi_a * mi_b\n",
    "        return res"
   ]
  },
  {
   "cell_type": "code",
   "execution_count": 3,
   "id": "feeebfde-cfb5-46cd-b533-fe55fe6b7fe1",
   "metadata": {},
   "outputs": [],
   "source": [
    "sol = Solution()"
   ]
  },
  {
   "cell_type": "code",
   "execution_count": 4,
   "id": "03cdad3d-e8f9-439c-80f9-296145832994",
   "metadata": {},
   "outputs": [],
   "source": [
    "assert sol.maxCount(3, 3, [[2,2],[3,3]]) == 4"
   ]
  },
  {
   "cell_type": "code",
   "execution_count": 5,
   "id": "8b2ee358-faf6-4149-a636-2dbacbddce2a",
   "metadata": {},
   "outputs": [],
   "source": [
    "assert sol.maxCount(3, 3, [[2,2],[3,3],[3,3],[3,3],[2,2],[3,3],[3,3],[3,3],[2,2],[3,3],[3,3],[3,3]]) == 4"
   ]
  },
  {
   "cell_type": "code",
   "execution_count": 6,
   "id": "693a5a0b-4429-49cc-8b89-4018eea4be65",
   "metadata": {},
   "outputs": [],
   "source": [
    "assert sol.maxCount(3, 3, []) == 9"
   ]
  }
 ],
 "metadata": {
  "kernelspec": {
   "display_name": "Python 3 (ipykernel)",
   "language": "python",
   "name": "python3"
  },
  "language_info": {
   "codemirror_mode": {
    "name": "ipython",
    "version": 3
   },
   "file_extension": ".py",
   "mimetype": "text/x-python",
   "name": "python",
   "nbconvert_exporter": "python",
   "pygments_lexer": "ipython3",
   "version": "3.9.7"
  }
 },
 "nbformat": 4,
 "nbformat_minor": 5
}
