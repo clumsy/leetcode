{
 "cells": [
  {
   "cell_type": "markdown",
   "id": "3fa83376-e94c-447c-8d4c-9bac0c68b2b0",
   "metadata": {},
   "source": [
    "[Problem 2085](https://leetcode.com/problems/count-common-words-with-one-occurrence/description)"
   ]
  },
  {
   "cell_type": "code",
   "execution_count": 5,
   "id": "ef6e6d1a-ea3d-4c2d-ae02-6bd8969a30e0",
   "metadata": {},
   "outputs": [],
   "source": [
    "from typing import List\n",
    "from collections import defaultdict"
   ]
  },
  {
   "cell_type": "code",
   "execution_count": 6,
   "id": "fdd34ed5-498e-4170-b39b-8281fabb6de2",
   "metadata": {},
   "outputs": [],
   "source": [
    "class Solution:\n",
    "    def countWords(self, words1: List[str], words2: List[str]) -> int:\n",
    "        c = defaultdict(int)\n",
    "        for w in words1:\n",
    "            c[w] += 1\n",
    "        for w in words2:\n",
    "            k = c[w]\n",
    "            if k < 2:\n",
    "                c[w] = k - 1\n",
    "        res = sum(c[w] == 0 for w in c)\n",
    "        return res"
   ]
  },
  {
   "cell_type": "code",
   "execution_count": 7,
   "id": "db1fde36-6268-420f-a7ec-3ede4d6ed819",
   "metadata": {},
   "outputs": [],
   "source": [
    "sol = Solution()"
   ]
  },
  {
   "cell_type": "code",
   "execution_count": 8,
   "id": "42b6b00d-bac1-4c5a-8685-f898f8bbcdd2",
   "metadata": {},
   "outputs": [],
   "source": [
    "assert sol.countWords([\"leetcode\",\"is\",\"amazing\",\"as\",\"is\"], [\"amazing\",\"leetcode\",\"is\"]) == 2"
   ]
  },
  {
   "cell_type": "code",
   "execution_count": 9,
   "id": "9ac4c938-172d-447f-9217-eb45cb5ba63e",
   "metadata": {},
   "outputs": [],
   "source": [
    "assert sol.countWords([\"b\",\"bb\",\"bbb\"], [\"a\",\"aa\",\"aaa\"]) == 0"
   ]
  },
  {
   "cell_type": "code",
   "execution_count": 10,
   "id": "384beff8-cec2-4036-9a21-be233898b6ce",
   "metadata": {},
   "outputs": [],
   "source": [
    "assert sol.countWords([\"a\",\"ab\"], [\"a\",\"a\",\"a\",\"ab\"]) == 1"
   ]
  }
 ],
 "metadata": {
  "kernelspec": {
   "display_name": "Python 3 (ipykernel)",
   "language": "python",
   "name": "python3"
  },
  "language_info": {
   "codemirror_mode": {
    "name": "ipython",
    "version": 3
   },
   "file_extension": ".py",
   "mimetype": "text/x-python",
   "name": "python",
   "nbconvert_exporter": "python",
   "pygments_lexer": "ipython3",
   "version": "3.9.7"
  }
 },
 "nbformat": 4,
 "nbformat_minor": 5
}
