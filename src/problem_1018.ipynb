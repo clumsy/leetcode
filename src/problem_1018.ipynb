{
 "cells": [
  {
   "cell_type": "markdown",
   "id": "2130b754-1195-4ac9-9839-ade71bf486da",
   "metadata": {},
   "source": [
    "[Problem 1018](https://leetcode.com/problems/binary-prefix-divisible-by-5/description)"
   ]
  },
  {
   "cell_type": "code",
   "execution_count": 1,
   "id": "441a78e9-13f3-4310-b7f1-07fcd20957e1",
   "metadata": {},
   "outputs": [],
   "source": [
    "from typing import List"
   ]
  },
  {
   "cell_type": "code",
   "execution_count": 2,
   "id": "d219685b-4fbe-4222-8a5b-2658d9e8acea",
   "metadata": {},
   "outputs": [],
   "source": [
    "class Solution:\n",
    "    def prefixesDivBy5(self, nums: List[int]) -> List[bool]:\n",
    "        res, c = [], 0\n",
    "        for i in nums:\n",
    "            c = (c << 1) + i\n",
    "            res.append(c % 5 == 0)\n",
    "        return res"
   ]
  },
  {
   "cell_type": "code",
   "execution_count": 3,
   "id": "bf60c8d3-1d68-4712-96d0-e0307ae953de",
   "metadata": {},
   "outputs": [],
   "source": [
    "sol = Solution()"
   ]
  },
  {
   "cell_type": "code",
   "execution_count": 4,
   "id": "b074d2a9-2475-4204-8223-6764df50185c",
   "metadata": {},
   "outputs": [],
   "source": [
    "assert sol.prefixesDivBy5([0,1,1]) == [True,False,False]"
   ]
  },
  {
   "cell_type": "code",
   "execution_count": 5,
   "id": "ca81e8a9-5cf9-4c63-98de-f0d86ee114a2",
   "metadata": {},
   "outputs": [],
   "source": [
    "assert sol.prefixesDivBy5([1,1,1]) == [False,False,False]"
   ]
  }
 ],
 "metadata": {
  "kernelspec": {
   "display_name": "Python 3 (ipykernel)",
   "language": "python",
   "name": "python3"
  },
  "language_info": {
   "codemirror_mode": {
    "name": "ipython",
    "version": 3
   },
   "file_extension": ".py",
   "mimetype": "text/x-python",
   "name": "python",
   "nbconvert_exporter": "python",
   "pygments_lexer": "ipython3",
   "version": "3.9.7"
  }
 },
 "nbformat": 4,
 "nbformat_minor": 5
}
