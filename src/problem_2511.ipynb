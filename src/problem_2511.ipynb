{
 "cells": [
  {
   "cell_type": "markdown",
   "id": "11e30066-847f-4ddd-ab56-691afbc8f9b2",
   "metadata": {},
   "source": [
    "[Problem 2511](https://leetcode.com/problems/maximum-enemy-forts-that-can-be-captured/description)"
   ]
  },
  {
   "cell_type": "code",
   "execution_count": 1,
   "id": "55f95e91-f083-4371-8a4d-83abdb61de11",
   "metadata": {},
   "outputs": [],
   "source": [
    "from typing import List"
   ]
  },
  {
   "cell_type": "code",
   "execution_count": 2,
   "id": "784d4b75-59ad-49f6-9e61-48b3e09564b5",
   "metadata": {},
   "outputs": [],
   "source": [
    "class Solution:\n",
    "    def captureForts(self, forts: List[int]) -> int:\n",
    "        res, s = 0, -1\n",
    "        for i, e in enumerate(forts):\n",
    "            if e != 0:\n",
    "                if s >= 0 and forts[s] != forts[i]:\n",
    "                    res = max(res, i - s - 1)\n",
    "                s = i\n",
    "        return res"
   ]
  },
  {
   "cell_type": "code",
   "execution_count": 3,
   "id": "3f2dd1ea-2b00-4c0f-a5aa-d023ee86ddeb",
   "metadata": {},
   "outputs": [],
   "source": [
    "sol = Solution()"
   ]
  },
  {
   "cell_type": "code",
   "execution_count": 4,
   "id": "14f5bcf3-8521-4cab-b40c-f17d7ce9742b",
   "metadata": {},
   "outputs": [],
   "source": [
    "assert sol.captureForts([1,0,0,-1,0,0,0,0,1]) == 4"
   ]
  },
  {
   "cell_type": "code",
   "execution_count": 5,
   "id": "e050dd3e-ac77-4a52-9b53-7cecd491ba04",
   "metadata": {},
   "outputs": [],
   "source": [
    "assert sol.captureForts([0,0,1,-1]) == 0"
   ]
  }
 ],
 "metadata": {
  "kernelspec": {
   "display_name": "Python 3 (ipykernel)",
   "language": "python",
   "name": "python3"
  },
  "language_info": {
   "codemirror_mode": {
    "name": "ipython",
    "version": 3
   },
   "file_extension": ".py",
   "mimetype": "text/x-python",
   "name": "python",
   "nbconvert_exporter": "python",
   "pygments_lexer": "ipython3",
   "version": "3.9.7"
  }
 },
 "nbformat": 4,
 "nbformat_minor": 5
}
