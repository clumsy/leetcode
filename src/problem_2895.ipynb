{
 "cells": [
  {
   "cell_type": "markdown",
   "id": "d526cb81-4f19-48f1-b679-55a57a1eaa42",
   "metadata": {},
   "source": [
    "[Problem 2895](https://leetcode.com/problems/minimum-processing-time/description)"
   ]
  },
  {
   "cell_type": "code",
   "execution_count": 1,
   "id": "0f4e95ef-315f-4947-be2c-e9ccc4c285cc",
   "metadata": {},
   "outputs": [],
   "source": [
    "from typing import List"
   ]
  },
  {
   "cell_type": "code",
   "execution_count": 2,
   "id": "20300213-629a-484a-82e0-f93671525e9c",
   "metadata": {},
   "outputs": [],
   "source": [
    "class Solution:\n",
    "    def minProcessingTime(self, processorTime: List[int], tasks: List[int]) -> int:\n",
    "        tasks.sort()\n",
    "        processorTime.sort(reverse=True)\n",
    "        res = max(p + tasks[4 * i + 3] for i, p in enumerate(processorTime))\n",
    "        return res"
   ]
  },
  {
   "cell_type": "code",
   "execution_count": 3,
   "id": "75fae4d2-4ae6-4ae0-8410-958a570612fb",
   "metadata": {},
   "outputs": [],
   "source": [
    "sol = Solution()"
   ]
  },
  {
   "cell_type": "code",
   "execution_count": 4,
   "id": "decb6462-9b1e-43ba-afe1-8b2a656ff535",
   "metadata": {},
   "outputs": [],
   "source": [
    "assert sol.minProcessingTime([8,10], [2,2,3,1,8,7,4,5]) == 16"
   ]
  },
  {
   "cell_type": "code",
   "execution_count": 5,
   "id": "12f1d376-e5da-45b8-adfa-f7eb1ae56a09",
   "metadata": {},
   "outputs": [],
   "source": [
    "assert sol.minProcessingTime([10,20], [2,3,1,2,5,8,4,3]) == 23"
   ]
  }
 ],
 "metadata": {
  "kernelspec": {
   "display_name": "Python 3 (ipykernel)",
   "language": "python",
   "name": "python3"
  },
  "language_info": {
   "codemirror_mode": {
    "name": "ipython",
    "version": 3
   },
   "file_extension": ".py",
   "mimetype": "text/x-python",
   "name": "python",
   "nbconvert_exporter": "python",
   "pygments_lexer": "ipython3",
   "version": "3.9.7"
  }
 },
 "nbformat": 4,
 "nbformat_minor": 5
}
