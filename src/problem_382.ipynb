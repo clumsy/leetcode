{
 "cells": [
  {
   "cell_type": "markdown",
   "id": "32dc686a-fb58-42d6-9dec-078dd35dc195",
   "metadata": {},
   "source": [
    "[Problem 382](https://leetcode.com/problems/linked-list-random-node/description)"
   ]
  },
  {
   "cell_type": "code",
   "execution_count": 1,
   "id": "fd6b3beb-5fc2-4d00-85e7-cfd8b7ceead9",
   "metadata": {},
   "outputs": [],
   "source": [
    "# Definition for singly-linked list.\n",
    "class ListNode:\n",
    "    def __init__(self, val=0, next=None):\n",
    "        self.val = val\n",
    "        self.next = next\n",
    "\n",
    "    def __eq__(self, other):\n",
    "        return other and self.val == other.val and self.next == other.next"
   ]
  },
  {
   "cell_type": "code",
   "execution_count": 2,
   "id": "511a360f-2dd0-4c48-bff9-af944684cd3d",
   "metadata": {},
   "outputs": [],
   "source": [
    "import random\n",
    "from typing import Optional"
   ]
  },
  {
   "cell_type": "code",
   "execution_count": 3,
   "id": "2f30e33d-f95b-456d-a07d-a2b5328bc62f",
   "metadata": {},
   "outputs": [],
   "source": [
    "class Solution:\n",
    "    def __init__(self, head: Optional[ListNode]):\n",
    "        self.head = head\n",
    "\n",
    "    def getRandom(self) -> int:\n",
    "        random.seed()\n",
    "        cur, res = self.head.next, self.head.val\n",
    "        n = 2  # k + 1 = 1 + 1 = 2\n",
    "        while cur is not None:\n",
    "            if random.randrange(n) == 0:\n",
    "                res = cur.val\n",
    "            cur = cur.next\n",
    "            n += 1\n",
    "        return res"
   ]
  },
  {
   "cell_type": "code",
   "execution_count": 4,
   "id": "2172164a-f9d8-40a8-b747-21448d05620e",
   "metadata": {},
   "outputs": [],
   "source": [
    "def as_list(vals):\n",
    "    head = cur = ListNode()\n",
    "    for i in vals:\n",
    "        cur.next = ListNode(i)\n",
    "        cur = cur.next\n",
    "    return head.next"
   ]
  },
  {
   "cell_type": "code",
   "execution_count": 5,
   "id": "d0b77d91-866f-490b-ab4c-a017e229ff7b",
   "metadata": {},
   "outputs": [],
   "source": [
    "sol = Solution(as_list([1, 2, 3]))\n",
    "assert 1 <= sol.getRandom() <= 3\n",
    "assert 1 <= sol.getRandom() <= 3\n",
    "assert 1 <= sol.getRandom() <= 3"
   ]
  }
 ],
 "metadata": {
  "kernelspec": {
   "display_name": "Python 3 (ipykernel)",
   "language": "python",
   "name": "python3"
  },
  "language_info": {
   "codemirror_mode": {
    "name": "ipython",
    "version": 3
   },
   "file_extension": ".py",
   "mimetype": "text/x-python",
   "name": "python",
   "nbconvert_exporter": "python",
   "pygments_lexer": "ipython3",
   "version": "3.9.7"
  }
 },
 "nbformat": 4,
 "nbformat_minor": 5
}
