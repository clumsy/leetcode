{
 "cells": [
  {
   "cell_type": "markdown",
   "id": "3a304b92-d8c7-4fcd-8ba9-303c21d6ec1d",
   "metadata": {},
   "source": [
    "[Problem 2483](https://leetcode.com/problems/minimum-penalty-for-a-shop/description)"
   ]
  },
  {
   "cell_type": "code",
   "execution_count": 1,
   "id": "25a2c95d-4ac8-40ed-aeca-1522e063cf7d",
   "metadata": {},
   "outputs": [],
   "source": [
    "class Solution:\n",
    "    def bestClosingTime(self, customers: str) -> int:\n",
    "        res = 0\n",
    "        mi = cnt = customers.count(\"Y\")\n",
    "        for i, c in enumerate(customers):\n",
    "            # what if we close now?\n",
    "            cnt += -1 if c == \"Y\" else 1\n",
    "            if cnt < mi:\n",
    "                res, mi = i + 1, cnt\n",
    "        return res"
   ]
  },
  {
   "cell_type": "code",
   "execution_count": 2,
   "id": "f453b112-652c-4933-8a35-4617e117550b",
   "metadata": {},
   "outputs": [],
   "source": [
    "sol = Solution()"
   ]
  },
  {
   "cell_type": "code",
   "execution_count": 3,
   "id": "93f45706-8338-4359-a685-09c558459476",
   "metadata": {},
   "outputs": [],
   "source": [
    "assert sol.bestClosingTime(\"YYNY\") == 2"
   ]
  },
  {
   "cell_type": "code",
   "execution_count": 4,
   "id": "0370b2d9-1d65-459b-abff-dc2e9b7a9cf8",
   "metadata": {},
   "outputs": [],
   "source": [
    "assert sol.bestClosingTime(\"NNNNN\") == 0"
   ]
  },
  {
   "cell_type": "code",
   "execution_count": 5,
   "id": "6421ab5f-3908-4765-9bc4-6946b0731f60",
   "metadata": {},
   "outputs": [],
   "source": [
    "assert sol.bestClosingTime(\"YYYY\") == 4"
   ]
  }
 ],
 "metadata": {
  "kernelspec": {
   "display_name": "Python 3 (ipykernel)",
   "language": "python",
   "name": "python3"
  },
  "language_info": {
   "codemirror_mode": {
    "name": "ipython",
    "version": 3
   },
   "file_extension": ".py",
   "mimetype": "text/x-python",
   "name": "python",
   "nbconvert_exporter": "python",
   "pygments_lexer": "ipython3",
   "version": "3.9.7"
  }
 },
 "nbformat": 4,
 "nbformat_minor": 5
}
