{
 "cells": [
  {
   "cell_type": "markdown",
   "id": "06eb7ed0-e4f1-434e-8831-22bc16ee7730",
   "metadata": {},
   "source": [
    "[Problem 744](https://leetcode.com/problems/find-smallest-letter-greater-than-target/)"
   ]
  },
  {
   "cell_type": "code",
   "execution_count": 2,
   "id": "abbcd47d-5c3c-4203-afd5-b4caddbb3ad6",
   "metadata": {},
   "outputs": [],
   "source": [
    "from bisect import bisect_right\n",
    "from typing import List"
   ]
  },
  {
   "cell_type": "code",
   "execution_count": 3,
   "id": "7c1deb68-1e19-4ecf-92fb-88c746022628",
   "metadata": {},
   "outputs": [],
   "source": [
    "class Solution:\n",
    "    def nextGreatestLetter(self, letters: List[str], target: str) -> str:\n",
    "        pos = bisect_right(letters, target)\n",
    "        return letters[pos % len(letters)]"
   ]
  },
  {
   "cell_type": "code",
   "execution_count": 4,
   "id": "a16a575a-735b-447f-86f7-35884634744c",
   "metadata": {},
   "outputs": [],
   "source": [
    "sol = Solution()"
   ]
  },
  {
   "cell_type": "code",
   "execution_count": 5,
   "id": "85a3cbe9-9bc5-489f-a6ba-196d86d90d47",
   "metadata": {},
   "outputs": [],
   "source": [
    "assert sol.nextGreatestLetter([\"c\",\"f\",\"j\"], \"a\") == \"c\""
   ]
  },
  {
   "cell_type": "code",
   "execution_count": 7,
   "id": "4f3a3199-2c5e-4e21-95b5-22e7ec387867",
   "metadata": {},
   "outputs": [],
   "source": [
    "assert sol.nextGreatestLetter([\"c\",\"f\",\"j\"], \"c\") == \"f\""
   ]
  },
  {
   "cell_type": "code",
   "execution_count": 8,
   "id": "7d015486-1cfb-47ef-8527-320dd085df1a",
   "metadata": {},
   "outputs": [],
   "source": [
    "assert sol.nextGreatestLetter([\"a\",\"b\"], \"z\") == \"a\""
   ]
  }
 ],
 "metadata": {
  "kernelspec": {
   "display_name": "Python 3 (ipykernel)",
   "language": "python",
   "name": "python3"
  },
  "language_info": {
   "codemirror_mode": {
    "name": "ipython",
    "version": 3
   },
   "file_extension": ".py",
   "mimetype": "text/x-python",
   "name": "python",
   "nbconvert_exporter": "python",
   "pygments_lexer": "ipython3",
   "version": "3.9.7"
  }
 },
 "nbformat": 4,
 "nbformat_minor": 5
}
