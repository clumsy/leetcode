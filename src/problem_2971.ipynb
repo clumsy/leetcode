{
 "cells": [
  {
   "cell_type": "markdown",
   "id": "5c21963b-7bd5-4f13-8ce3-53a753fd8ebc",
   "metadata": {},
   "source": [
    "[Problem 2971](https://leetcode.com/problems/find-polygon-with-the-largest-perimeter/description)"
   ]
  },
  {
   "cell_type": "code",
   "execution_count": 1,
   "id": "80d5578f-fc84-45aa-be6a-2e9f82da26b5",
   "metadata": {},
   "outputs": [],
   "source": [
    "from typing import List"
   ]
  },
  {
   "cell_type": "code",
   "execution_count": 2,
   "id": "6043c8c9-9b88-4598-b39d-a0ab616004f4",
   "metadata": {},
   "outputs": [],
   "source": [
    "class Solution:\n",
    "    def largestPerimeter(self, nums: List[int]) -> int:\n",
    "        nums.sort()\n",
    "        res, s = -1, sum(nums[:2])\n",
    "        for e in nums[2:]:\n",
    "            if s > e:\n",
    "                res = max(res, s + e)\n",
    "            s += e\n",
    "        return res"
   ]
  },
  {
   "cell_type": "code",
   "execution_count": 3,
   "id": "670ff1db-162a-4688-afb5-0db4576e69f9",
   "metadata": {},
   "outputs": [],
   "source": [
    "from heapq import heapify, heappop"
   ]
  },
  {
   "cell_type": "code",
   "execution_count": 4,
   "id": "7b12f0e1-7ffa-40ea-b295-429bc8dc3f0e",
   "metadata": {},
   "outputs": [],
   "source": [
    "class Solution:\n",
    "    def largestPerimeter(self, nums: List[int]) -> int:\n",
    "        s = 0\n",
    "        for i, e in enumerate(nums):\n",
    "            nums[i] = -e\n",
    "            s += e\n",
    "        heapify(nums)\n",
    "        while nums and -2 * nums[0] >= s:\n",
    "            s += heappop(nums)\n",
    "        res = s if nums and -2 * nums[0] < s else -1\n",
    "        return res"
   ]
  },
  {
   "cell_type": "code",
   "execution_count": 5,
   "id": "4b7c25d5-6fbe-4f66-bdd5-c9586bf65eea",
   "metadata": {},
   "outputs": [],
   "source": [
    "sol = Solution()"
   ]
  },
  {
   "cell_type": "code",
   "execution_count": 6,
   "id": "fe175938-f189-4d09-b641-9b56e6ceae86",
   "metadata": {},
   "outputs": [],
   "source": [
    "assert sol.largestPerimeter([5,5,5]) == 15"
   ]
  },
  {
   "cell_type": "code",
   "execution_count": 7,
   "id": "b1988be9-1e48-482f-9de6-f46f096e972d",
   "metadata": {},
   "outputs": [],
   "source": [
    "assert sol.largestPerimeter([1,12,1,2,5,50,3]) == 12"
   ]
  },
  {
   "cell_type": "code",
   "execution_count": 8,
   "id": "eef750c0-3342-4125-ace7-63afce1359fc",
   "metadata": {},
   "outputs": [],
   "source": [
    "assert sol.largestPerimeter([5,5,50]) == -1"
   ]
  }
 ],
 "metadata": {
  "kernelspec": {
   "display_name": "Python 3 (ipykernel)",
   "language": "python",
   "name": "python3"
  },
  "language_info": {
   "codemirror_mode": {
    "name": "ipython",
    "version": 3
   },
   "file_extension": ".py",
   "mimetype": "text/x-python",
   "name": "python",
   "nbconvert_exporter": "python",
   "pygments_lexer": "ipython3",
   "version": "3.9.7"
  }
 },
 "nbformat": 4,
 "nbformat_minor": 5
}
