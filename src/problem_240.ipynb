{
 "cells": [
  {
   "cell_type": "markdown",
   "id": "13703a6e-58bf-420f-bc9f-98d60fc164ce",
   "metadata": {},
   "source": [
    "[Problem 240](https://leetcode.com/problems/search-a-2d-matrix-ii/)"
   ]
  },
  {
   "cell_type": "code",
   "execution_count": 20,
   "id": "991906d9-fc39-4eee-97e0-6de31dad21cc",
   "metadata": {},
   "outputs": [],
   "source": [
    "from typing import List\n",
    "from bisect import bisect_left"
   ]
  },
  {
   "cell_type": "code",
   "execution_count": 21,
   "id": "ef65922b-2682-49cc-b678-b2fa644ff795",
   "metadata": {},
   "outputs": [],
   "source": [
    "class Solution:\n",
    "    def searchMatrix(self, matrix: List[List[int]], target: int) -> bool:\n",
    "        m, n = len(matrix), len(matrix[0])\n",
    "        for r in range(m):\n",
    "            c = bisect_left(matrix[r], target)\n",
    "            if c < n and matrix[r][c] == target:\n",
    "                return True\n",
    "        return False      "
   ]
  },
  {
   "cell_type": "code",
   "execution_count": 16,
   "id": "edac722b-9454-4a03-9d73-791fdde11cd3",
   "metadata": {},
   "outputs": [],
   "source": [
    "class Solution:\n",
    "    def searchMatrix(self, matrix: List[List[int]], target: int) -> bool:\n",
    "        m, n = len(matrix), len(matrix[0])\n",
    "        r, c = 0, n - 1\n",
    "        while r < m:\n",
    "            while c >= 0 and matrix[r][c] >= target:\n",
    "                if matrix[r][c] == target:\n",
    "                    return True\n",
    "                c -= 1\n",
    "            r += 1\n",
    "        return False"
   ]
  },
  {
   "cell_type": "code",
   "execution_count": 22,
   "id": "f8875c39-c4cf-4187-9ce2-8c6d91c2cdcc",
   "metadata": {},
   "outputs": [],
   "source": [
    "sol = Solution()"
   ]
  },
  {
   "cell_type": "code",
   "execution_count": 23,
   "id": "53b46c27-6f60-4da7-aa56-7ceaeb664a8e",
   "metadata": {},
   "outputs": [],
   "source": [
    "assert sol.searchMatrix([[1,4,7,11,15],[2,5,8,12,19],[3,6,9,16,22],[10,13,14,17,24],[18,21,23,26,30]], 5)"
   ]
  },
  {
   "cell_type": "code",
   "execution_count": 24,
   "id": "5e262734-6570-4666-8887-1a610c675203",
   "metadata": {},
   "outputs": [],
   "source": [
    "assert not sol.searchMatrix([[1,4,7,11,15],[2,5,8,12,19],[3,6,9,16,22],[10,13,14,17,24],[18,21,23,26,30]], 20)"
   ]
  }
 ],
 "metadata": {
  "kernelspec": {
   "display_name": "Python 3 (ipykernel)",
   "language": "python",
   "name": "python3"
  },
  "language_info": {
   "codemirror_mode": {
    "name": "ipython",
    "version": 3
   },
   "file_extension": ".py",
   "mimetype": "text/x-python",
   "name": "python",
   "nbconvert_exporter": "python",
   "pygments_lexer": "ipython3",
   "version": "3.9.7"
  }
 },
 "nbformat": 4,
 "nbformat_minor": 5
}
