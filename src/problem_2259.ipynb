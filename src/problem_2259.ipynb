{
 "cells": [
  {
   "cell_type": "markdown",
   "id": "fc2c031e-d9f4-4eea-9783-f6b4a358c87d",
   "metadata": {},
   "source": [
    "[Problem 2259](https://leetcode.com/problems/remove-digit-from-number-to-maximize-result/description)"
   ]
  },
  {
   "cell_type": "code",
   "execution_count": 1,
   "id": "30d76b00-2c47-4a30-ad2c-2030d9a2dbdd",
   "metadata": {},
   "outputs": [],
   "source": [
    "class Solution:\n",
    "    def removeDigit(self, number: str, digit: str) -> str:\n",
    "        number = list(number)\n",
    "        n, last = len(number), None\n",
    "        for i in range(n):\n",
    "            if number[i] == digit:\n",
    "                last = i\n",
    "                if i < n - 1 and number[i + 1] > number[i]:\n",
    "                    break\n",
    "        if last is not None:\n",
    "            number[last] = \"\"\n",
    "        res = \"\".join(number)\n",
    "        return res"
   ]
  },
  {
   "cell_type": "code",
   "execution_count": 2,
   "id": "20d45c64-db3d-4ebe-8030-d95643ed3c28",
   "metadata": {},
   "outputs": [],
   "source": [
    "sol = Solution()"
   ]
  },
  {
   "cell_type": "code",
   "execution_count": 3,
   "id": "b7de2ed3-865e-4a5c-aafe-165965d97693",
   "metadata": {},
   "outputs": [],
   "source": [
    "assert sol.removeDigit(\"123\", \"3\") == \"12\""
   ]
  },
  {
   "cell_type": "code",
   "execution_count": 4,
   "id": "c2211001-f927-4550-a136-05f7feb2d2e2",
   "metadata": {},
   "outputs": [],
   "source": [
    "assert sol.removeDigit(\"1231\", \"1\") == \"231\""
   ]
  },
  {
   "cell_type": "code",
   "execution_count": 5,
   "id": "6cd13c79-9f18-4567-9f5b-9193158cf47d",
   "metadata": {},
   "outputs": [],
   "source": [
    "assert sol.removeDigit(\"551\", \"5\") == \"51\""
   ]
  }
 ],
 "metadata": {
  "kernelspec": {
   "display_name": "Python 3 (ipykernel)",
   "language": "python",
   "name": "python3"
  },
  "language_info": {
   "codemirror_mode": {
    "name": "ipython",
    "version": 3
   },
   "file_extension": ".py",
   "mimetype": "text/x-python",
   "name": "python",
   "nbconvert_exporter": "python",
   "pygments_lexer": "ipython3",
   "version": "3.9.7"
  }
 },
 "nbformat": 4,
 "nbformat_minor": 5
}
