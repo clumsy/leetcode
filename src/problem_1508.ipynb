{
 "cells": [
  {
   "cell_type": "markdown",
   "id": "086d7ad3-bc74-4c9d-b96d-cf996b182eda",
   "metadata": {},
   "source": [
    "[Problem 1508](https://leetcode.com/problems/range-sum-of-sorted-subarray-sums/)"
   ]
  },
  {
   "cell_type": "code",
   "execution_count": 6,
   "id": "66a48eac-364a-4f11-ba6e-73d739e8f5c2",
   "metadata": {},
   "outputs": [],
   "source": [
    "from typing import List\n",
    "from heapq import heapify, heappop, heappush"
   ]
  },
  {
   "cell_type": "code",
   "execution_count": 7,
   "id": "090a2232-b731-4bb9-9472-ed84a3ae575e",
   "metadata": {},
   "outputs": [],
   "source": [
    "class Solution:\n",
    "    def rangeSum(self, nums: List[int], n: int, left: int, right: int) -> int:\n",
    "        MOD = 10 ** 9 + 7\n",
    "        h = [(x, i) for i, x in enumerate(nums)]\n",
    "        heapify(h) # min-heap\n",
    "        res = 0\n",
    "        for k in range(1, right + 1):  # 1-indexed\n",
    "            x, i = heappop(h)\n",
    "            if k >= left:  # should be counted\n",
    "                res += x\n",
    "            if i + 1 < n:  # can add next element\n",
    "                heappush(h, (x + nums[i + 1], i + 1))\n",
    "        return res % MOD"
   ]
  },
  {
   "cell_type": "code",
   "execution_count": 8,
   "id": "2f43bfce-6332-42f6-9f6c-b0fedba701f8",
   "metadata": {},
   "outputs": [],
   "source": [
    "sol = Solution()"
   ]
  },
  {
   "cell_type": "code",
   "execution_count": 9,
   "id": "c552dc4a-871a-4d5f-a405-95dbcb5845e5",
   "metadata": {},
   "outputs": [],
   "source": [
    "assert sol.rangeSum([1,2,3,4], 4, 1, 5) == 13"
   ]
  },
  {
   "cell_type": "code",
   "execution_count": 10,
   "id": "3ac05a62-b14f-4454-afe9-29a7597b73fc",
   "metadata": {},
   "outputs": [],
   "source": [
    "assert sol.rangeSum([1,2,3,4], 4, 3, 4) == 6"
   ]
  },
  {
   "cell_type": "code",
   "execution_count": 11,
   "id": "9cc5f106-1f80-4089-aa0c-6f0079675cd3",
   "metadata": {},
   "outputs": [],
   "source": [
    "assert sol.rangeSum([1,2,3,4], 4, 1, 10) == 50"
   ]
  }
 ],
 "metadata": {
  "kernelspec": {
   "display_name": "Python 3 (ipykernel)",
   "language": "python",
   "name": "python3"
  },
  "language_info": {
   "codemirror_mode": {
    "name": "ipython",
    "version": 3
   },
   "file_extension": ".py",
   "mimetype": "text/x-python",
   "name": "python",
   "nbconvert_exporter": "python",
   "pygments_lexer": "ipython3",
   "version": "3.9.7"
  }
 },
 "nbformat": 4,
 "nbformat_minor": 5
}
