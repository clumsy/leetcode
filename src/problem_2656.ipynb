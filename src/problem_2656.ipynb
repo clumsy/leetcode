{
 "cells": [
  {
   "cell_type": "markdown",
   "id": "826c6e9f-8df8-4b47-b027-b0918d62ce8f",
   "metadata": {},
   "source": [
    "[Problem 2656](https://leetcode.com/problems/maximum-sum-with-exactly-k-elements/description)"
   ]
  },
  {
   "cell_type": "code",
   "execution_count": 1,
   "id": "6360b00a-80dc-4ac8-9bbf-adf87b54d6b5",
   "metadata": {},
   "outputs": [],
   "source": [
    "from typing import List"
   ]
  },
  {
   "cell_type": "code",
   "execution_count": 2,
   "id": "826fb4c1-7087-4ab3-a36e-d730641590a8",
   "metadata": {},
   "outputs": [],
   "source": [
    "class Solution:\n",
    "    def maximizeSum(self, nums: List[int], k: int) -> int:\n",
    "        res = max(nums) * k + ((k - 1) * k) // 2\n",
    "        return res"
   ]
  },
  {
   "cell_type": "code",
   "execution_count": 3,
   "id": "bf6c2ca6-e77c-46b9-946f-e7cfcbdedb93",
   "metadata": {},
   "outputs": [],
   "source": [
    "sol = Solution()"
   ]
  },
  {
   "cell_type": "code",
   "execution_count": 4,
   "id": "ae3bc55a-6f55-4825-b681-a0aa6e0019be",
   "metadata": {},
   "outputs": [],
   "source": [
    "assert sol.maximizeSum([1,2,3,4,5], 3) == 18"
   ]
  },
  {
   "cell_type": "code",
   "execution_count": 5,
   "id": "a6f7ea52-8dd8-417e-8510-05da4fb071dd",
   "metadata": {},
   "outputs": [],
   "source": [
    "assert sol.maximizeSum([5,5,5], 2) == 11"
   ]
  }
 ],
 "metadata": {
  "kernelspec": {
   "display_name": "Python 3 (ipykernel)",
   "language": "python",
   "name": "python3"
  },
  "language_info": {
   "codemirror_mode": {
    "name": "ipython",
    "version": 3
   },
   "file_extension": ".py",
   "mimetype": "text/x-python",
   "name": "python",
   "nbconvert_exporter": "python",
   "pygments_lexer": "ipython3",
   "version": "3.9.7"
  }
 },
 "nbformat": 4,
 "nbformat_minor": 5
}
