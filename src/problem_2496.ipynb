{
 "cells": [
  {
   "cell_type": "markdown",
   "id": "0c743817-ba3e-4b3d-8aa4-a0e99d3a69c4",
   "metadata": {},
   "source": [
    "[Problem 2496](https://leetcode.com/problems/maximum-value-of-a-string-in-an-array/description)"
   ]
  },
  {
   "cell_type": "code",
   "execution_count": 1,
   "id": "dda5126d-0b9b-4f42-beda-e7e89b2a5f53",
   "metadata": {},
   "outputs": [],
   "source": [
    "from typing import List"
   ]
  },
  {
   "cell_type": "code",
   "execution_count": 5,
   "id": "ee032d85-95f5-4738-b4ff-196e27569af1",
   "metadata": {},
   "outputs": [],
   "source": [
    "class Solution:\n",
    "    def maximumValue(self, strs: List[str]) -> int:\n",
    "        return max(int(s) if s.isdigit() else len(s) for s in strs)"
   ]
  },
  {
   "cell_type": "code",
   "execution_count": 6,
   "id": "61dba6ac-6449-4c3a-8b2d-c4ddadb91f06",
   "metadata": {},
   "outputs": [],
   "source": [
    "sol = Solution()"
   ]
  },
  {
   "cell_type": "code",
   "execution_count": 7,
   "id": "129ed08e-e528-44ce-9423-d3e28836c614",
   "metadata": {},
   "outputs": [],
   "source": [
    "assert sol.maximumValue([\"alic3\",\"bob\",\"3\",\"4\",\"00000\"]) == 5"
   ]
  },
  {
   "cell_type": "code",
   "execution_count": 8,
   "id": "89e8e628-cf0f-4a19-8aa6-ac8041f3e73a",
   "metadata": {},
   "outputs": [],
   "source": [
    "assert sol.maximumValue([\"1\",\"01\",\"001\",\"0001\"]) == 1"
   ]
  }
 ],
 "metadata": {
  "kernelspec": {
   "display_name": "Python 3 (ipykernel)",
   "language": "python",
   "name": "python3"
  },
  "language_info": {
   "codemirror_mode": {
    "name": "ipython",
    "version": 3
   },
   "file_extension": ".py",
   "mimetype": "text/x-python",
   "name": "python",
   "nbconvert_exporter": "python",
   "pygments_lexer": "ipython3",
   "version": "3.9.7"
  }
 },
 "nbformat": 4,
 "nbformat_minor": 5
}
