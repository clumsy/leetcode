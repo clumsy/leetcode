{
 "cells": [
  {
   "cell_type": "markdown",
   "id": "9d72f3a0-2c7b-4b54-8e68-c87d5010c7a6",
   "metadata": {},
   "source": [
    "[Problem 554](https://leetcode.com/problems/brick-wall/description)"
   ]
  },
  {
   "cell_type": "code",
   "execution_count": 1,
   "id": "ecfbf4b1-6e6c-4168-9583-3ce12193d2ee",
   "metadata": {},
   "outputs": [],
   "source": [
    "from typing import List\n",
    "from collections import Counter"
   ]
  },
  {
   "cell_type": "code",
   "execution_count": 2,
   "id": "be328f8a-5624-40df-9050-c77beab26f69",
   "metadata": {},
   "outputs": [],
   "source": [
    "class Solution:\n",
    "    def leastBricks(self, wall: List[List[int]]) -> int:\n",
    "        edges = Counter()\n",
    "        for w in wall:\n",
    "            e = 0\n",
    "            for i in w[:-1]:\n",
    "                e += i\n",
    "                edges[e] += 1\n",
    "        res = len(wall) - max(edges.values(), default=0)\n",
    "        return res"
   ]
  },
  {
   "cell_type": "code",
   "execution_count": 3,
   "id": "3aa33092-392d-4309-baf9-e364b775449d",
   "metadata": {},
   "outputs": [],
   "source": [
    "sol = Solution()"
   ]
  },
  {
   "cell_type": "code",
   "execution_count": 4,
   "id": "057e648a-10c0-4148-8799-f26365abefc6",
   "metadata": {},
   "outputs": [],
   "source": [
    "assert sol.leastBricks([[1,2,2,1],[3,1,2],[1,3,2],[2,4],[3,1,2],[1,3,1,1]]) == 2"
   ]
  },
  {
   "cell_type": "code",
   "execution_count": 5,
   "id": "f18d4133-b9f8-4546-8cae-679708c39c0c",
   "metadata": {},
   "outputs": [],
   "source": [
    "assert sol.leastBricks([[1],[1],[1]]) == 3"
   ]
  }
 ],
 "metadata": {
  "kernelspec": {
   "display_name": "Python 3 (ipykernel)",
   "language": "python",
   "name": "python3"
  },
  "language_info": {
   "codemirror_mode": {
    "name": "ipython",
    "version": 3
   },
   "file_extension": ".py",
   "mimetype": "text/x-python",
   "name": "python",
   "nbconvert_exporter": "python",
   "pygments_lexer": "ipython3",
   "version": "3.9.7"
  }
 },
 "nbformat": 4,
 "nbformat_minor": 5
}
