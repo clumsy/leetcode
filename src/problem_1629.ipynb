{
 "cells": [
  {
   "cell_type": "markdown",
   "id": "821b0cf5-f3b6-4440-b251-dcdf7a31cac2",
   "metadata": {},
   "source": [
    "[Problem 1629](https://leetcode.com/problems/slowest-key/description)"
   ]
  },
  {
   "cell_type": "code",
   "execution_count": 1,
   "id": "bd7cfe7c-a7f5-4db8-ae30-048bed21a9dc",
   "metadata": {},
   "outputs": [],
   "source": [
    "from typing import List"
   ]
  },
  {
   "cell_type": "code",
   "execution_count": 2,
   "id": "89e265af-dd2f-4c7d-bbcb-2b55fb852e26",
   "metadata": {},
   "outputs": [],
   "source": [
    "class Solution:\n",
    "    def slowestKey(self, releaseTimes: List[int], keysPressed: str) -> str:\n",
    "        res, n, max_d = \"a\", len(releaseTimes), 0\n",
    "        for i in range(n):\n",
    "            d = releaseTimes[i] - (releaseTimes[i - 1] if i > 0 else 0)\n",
    "            if d >= max_d:\n",
    "                res = max(res, keysPressed[i]) if d == max_d else keysPressed[i]\n",
    "                max_d = max(max_d, d)\n",
    "        return res"
   ]
  },
  {
   "cell_type": "code",
   "execution_count": 3,
   "id": "a9daf5c3-7c3d-486c-9d0c-a11f44ed21c5",
   "metadata": {},
   "outputs": [],
   "source": [
    "sol = Solution()"
   ]
  },
  {
   "cell_type": "code",
   "execution_count": 4,
   "id": "b4da7eb6-487a-4a80-886b-eb6e90b9cdc5",
   "metadata": {},
   "outputs": [],
   "source": [
    "assert sol.slowestKey([9,29,49,50], \"cbcd\") == \"c\""
   ]
  },
  {
   "cell_type": "code",
   "execution_count": 5,
   "id": "421eb099-8592-46d5-a802-d7029620550b",
   "metadata": {},
   "outputs": [],
   "source": [
    "assert sol.slowestKey([12,23,36,46,62], \"spuda\") == \"a\""
   ]
  }
 ],
 "metadata": {
  "kernelspec": {
   "display_name": "Python 3 (ipykernel)",
   "language": "python",
   "name": "python3"
  },
  "language_info": {
   "codemirror_mode": {
    "name": "ipython",
    "version": 3
   },
   "file_extension": ".py",
   "mimetype": "text/x-python",
   "name": "python",
   "nbconvert_exporter": "python",
   "pygments_lexer": "ipython3",
   "version": "3.9.7"
  }
 },
 "nbformat": 4,
 "nbformat_minor": 5
}
