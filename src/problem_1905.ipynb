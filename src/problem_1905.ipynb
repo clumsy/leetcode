{
 "cells": [
  {
   "cell_type": "markdown",
   "id": "ade72fcd-b028-4426-b9bf-fd8db1002ee7",
   "metadata": {},
   "source": [
    "[Problem 1905](https://leetcode.com/problems/count-sub-islands/description)"
   ]
  },
  {
   "cell_type": "code",
   "execution_count": 1,
   "id": "cdb07e99-80f9-45e5-8e72-516fff856f1a",
   "metadata": {},
   "outputs": [],
   "source": [
    "from typing import List"
   ]
  },
  {
   "cell_type": "code",
   "execution_count": 2,
   "id": "6f3d3dcf-4ba2-4496-9edf-c6a9cde18eb7",
   "metadata": {},
   "outputs": [],
   "source": [
    "class Solution:\n",
    "    def countSubIslands(self, grid1: List[List[int]], grid2: List[List[int]]) -> int:\n",
    "        rows, cols = len(grid1), len(grid1[0])\n",
    "        def dfs(r, c):\n",
    "            if r < 0 or r >= rows or c < 0 or c >= cols or grid2[r][c] == 0:\n",
    "                return True\n",
    "            res = grid2[r][c] == grid1[r][c]\n",
    "            grid2[r][c] = 0\n",
    "            res = dfs(r + 1, c) and res\n",
    "            res = dfs(r - 1, c) and res\n",
    "            res = dfs(r, c + 1) and res\n",
    "            res = dfs(r, c - 1) and res\n",
    "            return res\n",
    "\n",
    "        res = 0\n",
    "        for r in range(rows):\n",
    "            for c in range(cols):\n",
    "                if grid2[r][c] > 0:\n",
    "                    res += dfs(r, c)\n",
    "        return res"
   ]
  },
  {
   "cell_type": "code",
   "execution_count": 3,
   "id": "d604b494-2f65-4447-b22a-ecd6d7bbfdbf",
   "metadata": {},
   "outputs": [],
   "source": [
    "sol = Solution()"
   ]
  },
  {
   "cell_type": "code",
   "execution_count": 4,
   "id": "9eaddb43-e726-4f92-89e6-eb7e98516bce",
   "metadata": {},
   "outputs": [],
   "source": [
    "assert sol.countSubIslands([[1,1,1,0,0],[0,1,1,1,1],[0,0,0,0,0],[1,0,0,0,0],[1,1,0,1,1]], [[1,1,1,0,0],[0,0,1,1,1],[0,1,0,0,0],[1,0,1,1,0],[0,1,0,1,0]]) == 3"
   ]
  },
  {
   "cell_type": "code",
   "execution_count": 5,
   "id": "1e72b60e-f7d8-4a04-8532-9d42f3267035",
   "metadata": {},
   "outputs": [],
   "source": [
    "assert sol.countSubIslands([[1,0,1,0,1],[1,1,1,1,1],[0,0,0,0,0],[1,1,1,1,1],[1,0,1,0,1]], [[0,0,0,0,0],[1,1,1,1,1],[0,1,0,1,0],[0,1,0,1,0],[1,0,0,0,1]]) == 2"
   ]
  }
 ],
 "metadata": {
  "kernelspec": {
   "display_name": "Python 3 (ipykernel)",
   "language": "python",
   "name": "python3"
  },
  "language_info": {
   "codemirror_mode": {
    "name": "ipython",
    "version": 3
   },
   "file_extension": ".py",
   "mimetype": "text/x-python",
   "name": "python",
   "nbconvert_exporter": "python",
   "pygments_lexer": "ipython3",
   "version": "3.9.7"
  }
 },
 "nbformat": 4,
 "nbformat_minor": 5
}
