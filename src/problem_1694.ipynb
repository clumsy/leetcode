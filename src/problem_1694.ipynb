{
 "cells": [
  {
   "cell_type": "markdown",
   "id": "86ecf8a0-adee-4e25-a18c-65c06c3cdf00",
   "metadata": {},
   "source": [
    "[Problem 1694](https://leetcode.com/problems/reformat-phone-number/description)"
   ]
  },
  {
   "cell_type": "code",
   "execution_count": 4,
   "id": "af660234-131a-4bc3-9c6b-51fd1d709f95",
   "metadata": {},
   "outputs": [],
   "source": [
    "class Solution:\n",
    "    def reformatNumber(self, number: str) -> str:\n",
    "        res, number = [], number.replace(\" \", \"\").replace(\"-\", \"\")\n",
    "        while number:\n",
    "            n = len(number)\n",
    "            if n > 4:\n",
    "                res.append(number[:3])\n",
    "                number = number[3:]\n",
    "            elif n == 4:\n",
    "                res.append(number[:2])\n",
    "                res.append(number[2:])\n",
    "                break\n",
    "            else:\n",
    "                res.append(number)\n",
    "                break\n",
    "        res = \"-\".join(res)\n",
    "        return res"
   ]
  },
  {
   "cell_type": "code",
   "execution_count": 5,
   "id": "d62f0317-5c0b-4565-98ad-05cf864372ac",
   "metadata": {},
   "outputs": [],
   "source": [
    "sol = Solution()"
   ]
  },
  {
   "cell_type": "code",
   "execution_count": 6,
   "id": "3cf249f9-e97f-4e85-a598-25e87ab6b4d8",
   "metadata": {},
   "outputs": [],
   "source": [
    "assert sol.reformatNumber(\"1-23-45 6\") == \"123-456\""
   ]
  },
  {
   "cell_type": "code",
   "execution_count": 7,
   "id": "c5a49727-611e-4472-ad12-dd4348a18d48",
   "metadata": {},
   "outputs": [],
   "source": [
    "assert sol.reformatNumber(\"123 4-567\") == \"123-45-67\""
   ]
  },
  {
   "cell_type": "code",
   "execution_count": 8,
   "id": "db47e243-f767-43b1-8d28-10c667f2e4d1",
   "metadata": {},
   "outputs": [],
   "source": [
    "assert sol.reformatNumber(\"123 4-5678\") == \"123-456-78\""
   ]
  }
 ],
 "metadata": {
  "kernelspec": {
   "display_name": "Python 3 (ipykernel)",
   "language": "python",
   "name": "python3"
  },
  "language_info": {
   "codemirror_mode": {
    "name": "ipython",
    "version": 3
   },
   "file_extension": ".py",
   "mimetype": "text/x-python",
   "name": "python",
   "nbconvert_exporter": "python",
   "pygments_lexer": "ipython3",
   "version": "3.9.7"
  }
 },
 "nbformat": 4,
 "nbformat_minor": 5
}
