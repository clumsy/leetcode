{
 "cells": [
  {
   "cell_type": "markdown",
   "id": "f9e1abee-e721-463d-b0d4-52b9d6f90fcd",
   "metadata": {},
   "source": [
    "[Problem 2549](https://leetcode.com/problems/count-distinct-numbers-on-board/description)"
   ]
  },
  {
   "cell_type": "code",
   "execution_count": 1,
   "id": "008ee77a-1176-473e-a65c-53e3c1e79862",
   "metadata": {},
   "outputs": [],
   "source": [
    "class Solution:\n",
    "    def distinctIntegers(self, n: int) -> int:\n",
    "        return n - 1"
   ]
  },
  {
   "cell_type": "code",
   "execution_count": 2,
   "id": "1adec052-7564-4a56-9d67-f20b41260420",
   "metadata": {},
   "outputs": [],
   "source": [
    "sol = Solution()"
   ]
  },
  {
   "cell_type": "code",
   "execution_count": 3,
   "id": "b890f0fd-120d-4802-a5ae-589322aa2630",
   "metadata": {},
   "outputs": [],
   "source": [
    "assert sol.distinctIntegers(5) == 4"
   ]
  },
  {
   "cell_type": "code",
   "execution_count": 4,
   "id": "3af519ca-46a6-4a80-8f8a-dd4805292d55",
   "metadata": {},
   "outputs": [],
   "source": [
    "assert sol.distinctIntegers(3) == 2"
   ]
  }
 ],
 "metadata": {
  "kernelspec": {
   "display_name": "Python 3 (ipykernel)",
   "language": "python",
   "name": "python3"
  },
  "language_info": {
   "codemirror_mode": {
    "name": "ipython",
    "version": 3
   },
   "file_extension": ".py",
   "mimetype": "text/x-python",
   "name": "python",
   "nbconvert_exporter": "python",
   "pygments_lexer": "ipython3",
   "version": "3.9.7"
  }
 },
 "nbformat": 4,
 "nbformat_minor": 5
}
