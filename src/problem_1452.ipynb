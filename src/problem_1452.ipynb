{
 "cells": [
  {
   "cell_type": "markdown",
   "id": "0bad7a8e-db78-408d-be4e-b0de885dfa2e",
   "metadata": {},
   "source": [
    "[Problem 1452](https://leetcode.com/problems/people-whose-list-of-favorite-companies-is-not-a-subset-of-another-list/description)"
   ]
  },
  {
   "cell_type": "code",
   "execution_count": 1,
   "id": "cb5192c5-20fc-4c67-8084-0d8c8ea63cad",
   "metadata": {},
   "outputs": [],
   "source": [
    "from typing import List"
   ]
  },
  {
   "cell_type": "code",
   "execution_count": 2,
   "id": "5fcefde1-14af-4fd9-9ce9-7a8715f372a5",
   "metadata": {},
   "outputs": [],
   "source": [
    "class Solution:\n",
    "    def peopleIndexes(self, fc: List[List[str]]) -> List[int]:\n",
    "        m = {}\n",
    "        for f in fc:\n",
    "            for c in f:\n",
    "                m[c] = m.get(c, len(m))\n",
    "        n = len(fc)\n",
    "        masks = [None] * n\n",
    "        for i, f in enumerate(fc):\n",
    "            cur = 0\n",
    "            for c in f:\n",
    "                cur |= 1 << m[c]\n",
    "            masks[i] = cur\n",
    "        res = []\n",
    "        for i in range(n):\n",
    "            for j in range(n):\n",
    "                if i != j and masks[j] & masks[i] == masks[i]:\n",
    "                    break\n",
    "            else:\n",
    "                res.append(i)\n",
    "        return res"
   ]
  },
  {
   "cell_type": "code",
   "execution_count": 3,
   "id": "d80029a5-cfa3-4507-a6ec-e522a1475030",
   "metadata": {},
   "outputs": [],
   "source": [
    "sol = Solution()"
   ]
  },
  {
   "cell_type": "code",
   "execution_count": 4,
   "id": "b8dca867-e434-46e5-ac36-600e66ee92c1",
   "metadata": {},
   "outputs": [],
   "source": [
    "assert sol.peopleIndexes([[\"leetcode\",\"google\",\"facebook\"],[\"google\",\"microsoft\"],[\"google\",\"facebook\"],[\"google\"],[\"amazon\"]]) == [0,1,4]"
   ]
  },
  {
   "cell_type": "code",
   "execution_count": 5,
   "id": "f129975d-1504-4460-83c2-c3a36934eea8",
   "metadata": {},
   "outputs": [],
   "source": [
    "assert sol.peopleIndexes([[\"leetcode\",\"google\",\"facebook\"],[\"leetcode\",\"amazon\"],[\"facebook\",\"google\"]]) == [0,1]"
   ]
  },
  {
   "cell_type": "code",
   "execution_count": 6,
   "id": "85ca8bbf-5c3a-4e35-9814-98ab760d7a55",
   "metadata": {},
   "outputs": [],
   "source": [
    "assert sol.peopleIndexes([[\"leetcode\"],[\"google\"],[\"facebook\"],[\"amazon\"]]) == [0,1,2,3]"
   ]
  }
 ],
 "metadata": {
  "kernelspec": {
   "display_name": "Python 3 (ipykernel)",
   "language": "python",
   "name": "python3"
  },
  "language_info": {
   "codemirror_mode": {
    "name": "ipython",
    "version": 3
   },
   "file_extension": ".py",
   "mimetype": "text/x-python",
   "name": "python",
   "nbconvert_exporter": "python",
   "pygments_lexer": "ipython3",
   "version": "3.9.7"
  }
 },
 "nbformat": 4,
 "nbformat_minor": 5
}
