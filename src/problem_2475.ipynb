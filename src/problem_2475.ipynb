{
 "cells": [
  {
   "cell_type": "markdown",
   "id": "7cfa30de-2cd0-46fc-885e-60dc4d17822a",
   "metadata": {},
   "source": [
    "[Problem 2475](https://leetcode.com/problems/number-of-unequal-triplets-in-array/description)"
   ]
  },
  {
   "cell_type": "code",
   "execution_count": 5,
   "id": "5ef522b3-5f73-4c12-9af0-c6047a3f1dde",
   "metadata": {},
   "outputs": [],
   "source": [
    "from typing import List\n",
    "from collections import Counter"
   ]
  },
  {
   "cell_type": "code",
   "execution_count": 10,
   "id": "66336bd5-79dd-4e05-98d9-42a4bbf280dd",
   "metadata": {},
   "outputs": [],
   "source": [
    "class Solution:\n",
    "    def unequalTriplets(self, nums: List[int]) -> int:\n",
    "        cnt, lt, rt, res = Counter(nums), 0, len(nums), 0\n",
    "        for k, v in cnt.items():\n",
    "            rt -= v\n",
    "            res += lt * v * rt\n",
    "            lt += v\n",
    "        return res"
   ]
  },
  {
   "cell_type": "code",
   "execution_count": 11,
   "id": "f0f6d5c7-ef31-416c-92e7-15f031de3b86",
   "metadata": {},
   "outputs": [],
   "source": [
    "sol = Solution()"
   ]
  },
  {
   "cell_type": "code",
   "execution_count": 12,
   "id": "098da8e3-c931-492f-a4db-2530de50280b",
   "metadata": {},
   "outputs": [],
   "source": [
    "assert sol.unequalTriplets([4,4,2,4,3]) == 3"
   ]
  },
  {
   "cell_type": "code",
   "execution_count": 13,
   "id": "d68db491-e4d2-4166-93b9-60a57d913bdf",
   "metadata": {},
   "outputs": [],
   "source": [
    "assert sol.unequalTriplets([1,1,1,1,1]) == 0"
   ]
  }
 ],
 "metadata": {
  "kernelspec": {
   "display_name": "Python 3 (ipykernel)",
   "language": "python",
   "name": "python3"
  },
  "language_info": {
   "codemirror_mode": {
    "name": "ipython",
    "version": 3
   },
   "file_extension": ".py",
   "mimetype": "text/x-python",
   "name": "python",
   "nbconvert_exporter": "python",
   "pygments_lexer": "ipython3",
   "version": "3.9.7"
  }
 },
 "nbformat": 4,
 "nbformat_minor": 5
}
