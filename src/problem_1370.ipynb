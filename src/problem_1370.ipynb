{
 "cells": [
  {
   "cell_type": "markdown",
   "id": "eec9c33c-233b-45c6-b7b3-cba1b8e8e877",
   "metadata": {},
   "source": [
    "[Problem 1370](https://leetcode.com/problems/increasing-decreasing-string/description)"
   ]
  },
  {
   "cell_type": "code",
   "execution_count": 1,
   "id": "dbf2c645-6a20-4948-8f50-242b48a73c60",
   "metadata": {},
   "outputs": [],
   "source": [
    "import string\n",
    "from collections import Counter"
   ]
  },
  {
   "cell_type": "code",
   "execution_count": 2,
   "id": "77e61892-9dae-4455-946f-760354fd80a6",
   "metadata": {},
   "outputs": [],
   "source": [
    "class Solution:\n",
    "    def sortString(self, s: str) -> str:\n",
    "        cnt = Counter(s)\n",
    "        res = []\n",
    "        while len(res) < len(s):\n",
    "            for c in string.ascii_lowercase:\n",
    "                if cnt[c] > 0:\n",
    "                    res.append(c)\n",
    "                    cnt[c] -= 1\n",
    "            for c in string.ascii_lowercase[::-1]:\n",
    "                if cnt[c] > 0:\n",
    "                    res.append(c)\n",
    "                    cnt[c] -= 1\n",
    "        res = \"\".join(res)\n",
    "        return res"
   ]
  },
  {
   "cell_type": "code",
   "execution_count": 3,
   "id": "be6d5d7d-d655-4e54-a7b9-2e8eabda5e13",
   "metadata": {},
   "outputs": [],
   "source": [
    "sol = Solution()"
   ]
  },
  {
   "cell_type": "code",
   "execution_count": 4,
   "id": "08059d6b-76e6-4380-88f7-4da3eda2c04e",
   "metadata": {},
   "outputs": [],
   "source": [
    "assert sol.sortString(\"aaaabbbbcccc\") == \"abccbaabccba\""
   ]
  },
  {
   "cell_type": "code",
   "execution_count": 5,
   "id": "bbfbcf9d-3175-4eb8-82c2-2c3d51fbfba0",
   "metadata": {},
   "outputs": [],
   "source": [
    "assert sol.sortString(\"rat\") == \"art\""
   ]
  }
 ],
 "metadata": {
  "kernelspec": {
   "display_name": "Python 3 (ipykernel)",
   "language": "python",
   "name": "python3"
  },
  "language_info": {
   "codemirror_mode": {
    "name": "ipython",
    "version": 3
   },
   "file_extension": ".py",
   "mimetype": "text/x-python",
   "name": "python",
   "nbconvert_exporter": "python",
   "pygments_lexer": "ipython3",
   "version": "3.9.7"
  }
 },
 "nbformat": 4,
 "nbformat_minor": 5
}
