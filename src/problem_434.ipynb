{
 "cells": [
  {
   "cell_type": "markdown",
   "id": "4381ad8b-a740-423c-a224-8e197eeb0423",
   "metadata": {},
   "source": [
    "[Problem 434](https://leetcode.com/problems/number-of-segments-in-a-string/description)"
   ]
  },
  {
   "cell_type": "code",
   "execution_count": 1,
   "id": "e32f58b0-451b-4ab9-8321-9fb016f02e1e",
   "metadata": {},
   "outputs": [],
   "source": [
    "class Solution:\n",
    "    def countSegments(self, s: str) -> int:\n",
    "        res = sum(s[i] != \" \" for i in range(len(s)) if i == 0 or s[i - 1] == \" \")\n",
    "        return res"
   ]
  },
  {
   "cell_type": "code",
   "execution_count": 2,
   "id": "d5ddd373-0950-4c41-b6e5-02fededc404c",
   "metadata": {},
   "outputs": [],
   "source": [
    "sol = Solution()"
   ]
  },
  {
   "cell_type": "code",
   "execution_count": 3,
   "id": "749a35a6-feac-46cf-9e94-62fdfd51abca",
   "metadata": {},
   "outputs": [],
   "source": [
    "assert sol.countSegments(\"Hello, my name is John\") == 5"
   ]
  },
  {
   "cell_type": "code",
   "execution_count": 4,
   "id": "34a07844-d709-4cbf-812b-eeda9639f6e1",
   "metadata": {},
   "outputs": [],
   "source": [
    "assert sol.countSegments(\"Hello\") == 1"
   ]
  }
 ],
 "metadata": {
  "kernelspec": {
   "display_name": "Python 3 (ipykernel)",
   "language": "python",
   "name": "python3"
  },
  "language_info": {
   "codemirror_mode": {
    "name": "ipython",
    "version": 3
   },
   "file_extension": ".py",
   "mimetype": "text/x-python",
   "name": "python",
   "nbconvert_exporter": "python",
   "pygments_lexer": "ipython3",
   "version": "3.9.7"
  }
 },
 "nbformat": 4,
 "nbformat_minor": 5
}
