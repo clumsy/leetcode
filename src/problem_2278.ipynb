{
 "cells": [
  {
   "cell_type": "markdown",
   "id": "29bdca51-6601-4a87-a745-b7bbbb5cf790",
   "metadata": {},
   "source": [
    "[Problem 2278](https://leetcode.com/problems/percentage-of-letter-in-string/description)"
   ]
  },
  {
   "cell_type": "code",
   "execution_count": 1,
   "id": "18b0e153-bec2-4ce3-9859-0bdaf03dd4ef",
   "metadata": {},
   "outputs": [],
   "source": [
    "class Solution:\n",
    "    def percentageLetter(self, s: str, letter: str) -> int:\n",
    "        res = (100 * s.count(letter)) // len(s)\n",
    "        return res"
   ]
  },
  {
   "cell_type": "code",
   "execution_count": 2,
   "id": "ee6423b7-59b3-4383-84c0-345baf6713dc",
   "metadata": {},
   "outputs": [],
   "source": [
    "sol = Solution()"
   ]
  },
  {
   "cell_type": "code",
   "execution_count": 3,
   "id": "23f362ca-151a-4a7c-ae9d-8aa9b7c15ca9",
   "metadata": {},
   "outputs": [],
   "source": [
    "assert sol.percentageLetter(\"foobar\", \"o\") == 33"
   ]
  },
  {
   "cell_type": "code",
   "execution_count": 4,
   "id": "26a0c36d-fa1f-4736-a7ff-9eac767f115c",
   "metadata": {},
   "outputs": [],
   "source": [
    "assert sol.percentageLetter(\"jjjj\", \"k\") == 0"
   ]
  }
 ],
 "metadata": {
  "kernelspec": {
   "display_name": "Python 3 (ipykernel)",
   "language": "python",
   "name": "python3"
  },
  "language_info": {
   "codemirror_mode": {
    "name": "ipython",
    "version": 3
   },
   "file_extension": ".py",
   "mimetype": "text/x-python",
   "name": "python",
   "nbconvert_exporter": "python",
   "pygments_lexer": "ipython3",
   "version": "3.9.7"
  }
 },
 "nbformat": 4,
 "nbformat_minor": 5
}
