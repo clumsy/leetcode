{
 "cells": [
  {
   "cell_type": "markdown",
   "id": "57ddb8ac-fc56-42ec-8064-88ef3717ee62",
   "metadata": {},
   "source": [
    "[Problem 1807](https://leetcode.com/problems/evaluate-the-bracket-pairs-of-a-string/description)"
   ]
  },
  {
   "cell_type": "code",
   "execution_count": 1,
   "id": "f4e5ab0a-5b06-4e6a-a2f7-c62583baacb9",
   "metadata": {},
   "outputs": [],
   "source": [
    "from typing import List"
   ]
  },
  {
   "cell_type": "code",
   "execution_count": 2,
   "id": "e3b518db-5b47-433f-bee0-54ae2d4ee500",
   "metadata": {},
   "outputs": [],
   "source": [
    "class Solution:\n",
    "    def evaluate(self, s: str, knowledge: List[List[str]]) -> str:\n",
    "        res, e, m = [], 0, {k: v for k, v in knowledge}\n",
    "        for i, c in enumerate(s):\n",
    "            if c == \"(\":\n",
    "                res.append(s[e:i])\n",
    "                b = i + 1\n",
    "            elif c == \")\":\n",
    "                name = s[b:i]\n",
    "                res.append(m.get(name, \"?\"))\n",
    "                e = i + 1\n",
    "        res.append(s[e:])\n",
    "        res = \"\".join(res)\n",
    "        return res"
   ]
  },
  {
   "cell_type": "code",
   "execution_count": 3,
   "id": "fd9eeca0-47a9-47fa-9d4b-155e9b7f135f",
   "metadata": {},
   "outputs": [],
   "source": [
    "sol = Solution()"
   ]
  },
  {
   "cell_type": "code",
   "execution_count": 4,
   "id": "5c16f434-dfe3-4fbe-9d6f-33c71b1b30f0",
   "metadata": {},
   "outputs": [],
   "source": [
    "assert sol.evaluate(\"(name)is(age)yearsold\", [[\"name\",\"bob\"],[\"age\",\"two\"]]) == \"bobistwoyearsold\""
   ]
  },
  {
   "cell_type": "code",
   "execution_count": 5,
   "id": "8a0b5714-a548-4306-9bdf-2707ed447a15",
   "metadata": {},
   "outputs": [],
   "source": [
    "assert sol.evaluate(\"hi(name)\", [[\"a\",\"b\"]]) == \"hi?\""
   ]
  },
  {
   "cell_type": "code",
   "execution_count": 6,
   "id": "35c09c96-b802-408f-8177-7f409f650eb8",
   "metadata": {},
   "outputs": [],
   "source": [
    "assert sol.evaluate(\"(a)(a)(a)aaa\", [[\"a\",\"yes\"]]) == \"yesyesyesaaa\""
   ]
  }
 ],
 "metadata": {
  "kernelspec": {
   "display_name": "Python 3 (ipykernel)",
   "language": "python",
   "name": "python3"
  },
  "language_info": {
   "codemirror_mode": {
    "name": "ipython",
    "version": 3
   },
   "file_extension": ".py",
   "mimetype": "text/x-python",
   "name": "python",
   "nbconvert_exporter": "python",
   "pygments_lexer": "ipython3",
   "version": "3.9.7"
  }
 },
 "nbformat": 4,
 "nbformat_minor": 5
}
