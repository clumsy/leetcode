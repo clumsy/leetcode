{
 "cells": [
  {
   "cell_type": "markdown",
   "id": "1a959117-ce2d-4fc2-afa3-9796bc4e5562",
   "metadata": {},
   "source": [
    "[Problem 35](https://leetcode.com/problems/search-insert-position/)"
   ]
  },
  {
   "cell_type": "code",
   "execution_count": 2,
   "id": "e1b9be17-ba04-4e1d-9b06-28bec37dd426",
   "metadata": {},
   "outputs": [],
   "source": [
    "from bisect import bisect_left\n",
    "from typing import List\n",
    "\n",
    "\n",
    "class Solution:\n",
    "    def searchInsert(self, nums: List[int], target: int) -> int:\n",
    "        return bisect_left(nums, target)"
   ]
  },
  {
   "cell_type": "code",
   "execution_count": 3,
   "id": "6f037871-3b14-4ca1-a135-b6d76b1e78cb",
   "metadata": {},
   "outputs": [],
   "source": [
    "sol = Solution()"
   ]
  },
  {
   "cell_type": "code",
   "execution_count": 5,
   "id": "b1bb08cb-8d57-4eb1-8de0-c02ed017392f",
   "metadata": {},
   "outputs": [],
   "source": [
    "assert sol.searchInsert([1,3,5,6], 5) == 2"
   ]
  },
  {
   "cell_type": "code",
   "execution_count": 6,
   "id": "c1c66c85-cce6-49c0-8f02-dbc02633ea58",
   "metadata": {},
   "outputs": [],
   "source": [
    "assert sol.searchInsert([1,3,5,6], 2) == 1"
   ]
  },
  {
   "cell_type": "code",
   "execution_count": 7,
   "id": "97e512a5-ee79-497d-b015-32b331a0898a",
   "metadata": {},
   "outputs": [],
   "source": [
    "assert sol.searchInsert([1,3,5,6], 7) == 4"
   ]
  }
 ],
 "metadata": {
  "kernelspec": {
   "display_name": "Python 3 (ipykernel)",
   "language": "python",
   "name": "python3"
  },
  "language_info": {
   "codemirror_mode": {
    "name": "ipython",
    "version": 3
   },
   "file_extension": ".py",
   "mimetype": "text/x-python",
   "name": "python",
   "nbconvert_exporter": "python",
   "pygments_lexer": "ipython3",
   "version": "3.9.7"
  }
 },
 "nbformat": 4,
 "nbformat_minor": 5
}
