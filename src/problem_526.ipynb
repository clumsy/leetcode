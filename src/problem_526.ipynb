{
 "cells": [
  {
   "cell_type": "markdown",
   "id": "945e4233-64b6-4fad-b4a8-6fa9d56f4d32",
   "metadata": {},
   "source": [
    "[Problem 526](https://leetcode.com/problems/beautiful-arrangement/description)"
   ]
  },
  {
   "cell_type": "code",
   "execution_count": 1,
   "id": "c2081cd2-118b-4d93-be98-c66fdace39ca",
   "metadata": {},
   "outputs": [],
   "source": [
    "class Solution:\n",
    "    def countArrangement(self, n: int) -> int:\n",
    "        # 1: p[1] / 1 or 1 / p[1] - any number\n",
    "        # 2: p[2] / 2 or 2 / p[2] - 1,2 or even\n",
    "        # 3: p[3] / 3 or 3 / p[3] - 1,3 or divisible by 3\n",
    "        # 4: p[4] / 4 or 4 / p[4] - 1,2,4 or divisible by 4\n",
    "        def solve(used, i=1):\n",
    "            if i == n + 1:\n",
    "                return 1\n",
    "            res = 0\n",
    "            for pi in range(1, n + 1):\n",
    "                if pi not in used and (pi % i == 0 or i % pi == 0):\n",
    "                    used.add(pi)\n",
    "                    res += solve(used, i + 1)\n",
    "                    used.remove(pi)\n",
    "            return res\n",
    "        res = solve(set())\n",
    "        return res"
   ]
  },
  {
   "cell_type": "code",
   "execution_count": 2,
   "id": "aa2f76b7-d35e-4455-b744-ceb1a9279823",
   "metadata": {},
   "outputs": [],
   "source": [
    "class Solution:\n",
    "    def countArrangement(self, n: int) -> int:\n",
    "        bitset_size = 2 ** n\n",
    "        dp = [[0] * bitset_size for _ in range(n + 1)]\n",
    "        dp[0][0] = 1\n",
    "        for i in range(1, n + 1):\n",
    "            for b in range(bitset_size):\n",
    "                for x in range(n):\n",
    "                    if b & (1 << x) and (i % (x + 1) == 0 or (x + 1) % i == 0):\n",
    "                        dp[i][b] += dp[i - 1][b ^ (1 << x)]\n",
    "        res = dp[-1][-1]\n",
    "        return res"
   ]
  },
  {
   "cell_type": "code",
   "execution_count": 3,
   "id": "f1cf7a02-21fe-423e-989b-da8c996a916f",
   "metadata": {},
   "outputs": [],
   "source": [
    "sol = Solution()"
   ]
  },
  {
   "cell_type": "code",
   "execution_count": 4,
   "id": "dba038e4-9749-4c1a-95b4-c6f9a8febf22",
   "metadata": {},
   "outputs": [],
   "source": [
    "assert sol.countArrangement(2) == 2"
   ]
  },
  {
   "cell_type": "code",
   "execution_count": 5,
   "id": "b1c249a4-3610-4c55-bb15-7e666a0be1d3",
   "metadata": {},
   "outputs": [],
   "source": [
    "assert sol.countArrangement(1) == 1"
   ]
  }
 ],
 "metadata": {
  "kernelspec": {
   "display_name": "Python 3 (ipykernel)",
   "language": "python",
   "name": "python3"
  },
  "language_info": {
   "codemirror_mode": {
    "name": "ipython",
    "version": 3
   },
   "file_extension": ".py",
   "mimetype": "text/x-python",
   "name": "python",
   "nbconvert_exporter": "python",
   "pygments_lexer": "ipython3",
   "version": "3.9.7"
  }
 },
 "nbformat": 4,
 "nbformat_minor": 5
}
