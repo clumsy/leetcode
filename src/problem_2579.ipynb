{
 "cells": [
  {
   "cell_type": "markdown",
   "id": "2d4a0355-5751-4ec4-bad7-073821d4c971",
   "metadata": {},
   "source": [
    "[Problem 2579](https://leetcode.com/problems/count-total-number-of-colored-cells/description)"
   ]
  },
  {
   "cell_type": "code",
   "execution_count": 1,
   "id": "36a1a89f-b1c7-4cc6-954e-9fe6a26aaabb",
   "metadata": {},
   "outputs": [],
   "source": [
    "class Solution:\n",
    "    def coloredCells(self, n: int) -> int:\n",
    "        res = 1 + (2 * 0 + 4 * (n - 1)) * n // 2\n",
    "        return res"
   ]
  },
  {
   "cell_type": "code",
   "execution_count": 2,
   "id": "c500c621-5799-4d32-9014-678578a29bdd",
   "metadata": {},
   "outputs": [],
   "source": [
    "sol = Solution()"
   ]
  },
  {
   "cell_type": "code",
   "execution_count": 3,
   "id": "8779b1cd-8188-4092-8e51-a624cfda4334",
   "metadata": {},
   "outputs": [],
   "source": [
    "assert sol.coloredCells(1) == 1"
   ]
  },
  {
   "cell_type": "code",
   "execution_count": 4,
   "id": "af46e55c-9253-4224-979e-a97fe5df84a1",
   "metadata": {},
   "outputs": [],
   "source": [
    "assert sol.coloredCells(2) == 5"
   ]
  }
 ],
 "metadata": {
  "kernelspec": {
   "display_name": "Python 3 (ipykernel)",
   "language": "python",
   "name": "python3"
  },
  "language_info": {
   "codemirror_mode": {
    "name": "ipython",
    "version": 3
   },
   "file_extension": ".py",
   "mimetype": "text/x-python",
   "name": "python",
   "nbconvert_exporter": "python",
   "pygments_lexer": "ipython3",
   "version": "3.9.7"
  }
 },
 "nbformat": 4,
 "nbformat_minor": 5
}
