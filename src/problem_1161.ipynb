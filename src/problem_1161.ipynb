{
 "cells": [
  {
   "cell_type": "markdown",
   "id": "3b6187bd-316f-4977-a628-0b2fdae1fe4c",
   "metadata": {},
   "source": [
    "[Problem 1161](https://leetcode.com/problems/maximum-level-sum-of-a-binary-tree/description)"
   ]
  },
  {
   "cell_type": "code",
   "execution_count": 1,
   "id": "c14b097f-ccc7-43ba-87d5-6c4d274bf210",
   "metadata": {},
   "outputs": [],
   "source": [
    "# Definition for a binary tree node.\n",
    "class TreeNode:\n",
    "    def __init__(self, val=0, left=None, right=None):\n",
    "        self.val = val\n",
    "        self.left = left\n",
    "        self.right = right"
   ]
  },
  {
   "cell_type": "code",
   "execution_count": 2,
   "id": "613ff737-dfbe-4487-b27a-33584732e9ef",
   "metadata": {},
   "outputs": [],
   "source": [
    "from typing import Optional"
   ]
  },
  {
   "cell_type": "code",
   "execution_count": 3,
   "id": "d55dbc60-6ae2-48fd-bed0-47ea9d4df107",
   "metadata": {},
   "outputs": [],
   "source": [
    "class Solution:\n",
    "    def maxLevelSum(self, root: Optional[TreeNode]) -> int:\n",
    "        levels = []\n",
    "\n",
    "        def dfs(c, d):\n",
    "            if not c:\n",
    "                return\n",
    "            if len(levels) < d + 1:\n",
    "                levels.append(0)\n",
    "            levels[d] += c.val\n",
    "            dfs(c.left, d + 1)\n",
    "            dfs(c.right, d + 1)\n",
    "\n",
    "        dfs(root, 0)\n",
    "        res = 1\n",
    "        for i, e in enumerate(levels):\n",
    "            if e > levels[res - 1]:\n",
    "                res = i + 1\n",
    "        return res"
   ]
  },
  {
   "cell_type": "code",
   "execution_count": 4,
   "id": "30e141d1-61dd-40ee-a3fb-c22953b4d11d",
   "metadata": {},
   "outputs": [],
   "source": [
    "sol = Solution()"
   ]
  },
  {
   "cell_type": "code",
   "execution_count": 5,
   "id": "6ca2f837-2ade-475a-9cc0-a05325b2d83c",
   "metadata": {},
   "outputs": [],
   "source": [
    "from collections import deque\n",
    "\n",
    "null = None  # to use Leetcode samples as is\n",
    "\n",
    "def tree(values):\n",
    "    if not values:\n",
    "        return null\n",
    "    root = TreeNode(values[0])\n",
    "    queue = deque()\n",
    "    queue.append(root)\n",
    "    queue.append(None)\n",
    "    length = len(values)\n",
    "    i = 0\n",
    "    while queue:\n",
    "        current = queue.popleft()\n",
    "        if current:\n",
    "            i += 1\n",
    "            if i < length and values[i]:\n",
    "                current.left = TreeNode(values[i])\n",
    "                queue.append(current.left)\n",
    "            i += 1\n",
    "            if i < length and values[i]:\n",
    "                current.right = TreeNode(values[i])\n",
    "                queue.append(current.right)\n",
    "            if i == length:\n",
    "                return root\n",
    "        else:\n",
    "            if queue:\n",
    "                queue.append(None)\n",
    "    return root"
   ]
  },
  {
   "cell_type": "code",
   "execution_count": 6,
   "id": "02fc208e-9c91-4a1e-8aec-2f67c931fc4f",
   "metadata": {},
   "outputs": [],
   "source": [
    "assert sol.maxLevelSum(tree([1,7,0,7,-8,null,null])) == 2"
   ]
  },
  {
   "cell_type": "code",
   "execution_count": 8,
   "id": "e02d0250-33a8-4215-b14e-5095e1cc93c7",
   "metadata": {},
   "outputs": [],
   "source": [
    "assert sol.maxLevelSum(tree([989,null,10250,98693,-89388,null,null,null,-32127])) == 2"
   ]
  }
 ],
 "metadata": {
  "kernelspec": {
   "display_name": "Python 3 (ipykernel)",
   "language": "python",
   "name": "python3"
  },
  "language_info": {
   "codemirror_mode": {
    "name": "ipython",
    "version": 3
   },
   "file_extension": ".py",
   "mimetype": "text/x-python",
   "name": "python",
   "nbconvert_exporter": "python",
   "pygments_lexer": "ipython3",
   "version": "3.9.7"
  }
 },
 "nbformat": 4,
 "nbformat_minor": 5
}
