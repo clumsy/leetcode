{
 "cells": [
  {
   "cell_type": "markdown",
   "id": "d432177f-6b1c-4103-96cd-0954a61dc04a",
   "metadata": {},
   "source": [
    "[Problem 1796](https://leetcode.com/problems/second-largest-digit-in-a-string/description)"
   ]
  },
  {
   "cell_type": "code",
   "execution_count": 1,
   "id": "4451f340-3df8-415d-ad38-782748e83e1f",
   "metadata": {},
   "outputs": [],
   "source": [
    "class Solution:\n",
    "    def secondHighest(self, s: str) -> int:\n",
    "        ma1 = ma2 = -1\n",
    "        for c in s:\n",
    "            if c.isdigit():\n",
    "                c = int(c)\n",
    "                if c > ma1:\n",
    "                    ma1, ma2 = c, ma1\n",
    "                elif ma1 > c > ma2:\n",
    "                    ma2 = c\n",
    "        res = ma2\n",
    "        return res"
   ]
  },
  {
   "cell_type": "code",
   "execution_count": 2,
   "id": "280fba6c-d42c-4089-b9d4-406dddbf6af1",
   "metadata": {},
   "outputs": [],
   "source": [
    "sol = Solution()"
   ]
  },
  {
   "cell_type": "code",
   "execution_count": 3,
   "id": "57e470c1-ad29-4b0b-a6a0-a6eef7642557",
   "metadata": {},
   "outputs": [],
   "source": [
    "assert sol.secondHighest(\"dfa12321afd\") == 2"
   ]
  },
  {
   "cell_type": "code",
   "execution_count": 4,
   "id": "d749d6e7-92bd-4ef5-aec7-46a6431e90fe",
   "metadata": {},
   "outputs": [],
   "source": [
    "assert sol.secondHighest(\"abc1111\") == -1"
   ]
  }
 ],
 "metadata": {
  "kernelspec": {
   "display_name": "Python 3 (ipykernel)",
   "language": "python",
   "name": "python3"
  },
  "language_info": {
   "codemirror_mode": {
    "name": "ipython",
    "version": 3
   },
   "file_extension": ".py",
   "mimetype": "text/x-python",
   "name": "python",
   "nbconvert_exporter": "python",
   "pygments_lexer": "ipython3",
   "version": "3.9.7"
  }
 },
 "nbformat": 4,
 "nbformat_minor": 5
}
