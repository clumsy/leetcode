{
 "cells": [
  {
   "cell_type": "markdown",
   "id": "5b6706ac-d02a-4ad7-9cfb-7369b574ce8a",
   "metadata": {},
   "source": [
    "[Problem 2185](https://leetcode.com/problems/counting-words-with-a-given-prefix/description)"
   ]
  },
  {
   "cell_type": "code",
   "execution_count": 1,
   "id": "910b0d03-76d5-4963-acfc-6da63fc5aab8",
   "metadata": {},
   "outputs": [],
   "source": [
    "from typing import List"
   ]
  },
  {
   "cell_type": "code",
   "execution_count": 2,
   "id": "8dae1a08-dae7-413a-8464-4a362a813622",
   "metadata": {},
   "outputs": [],
   "source": [
    "class Solution:\n",
    "    def prefixCount(self, words: List[str], pref: str) -> int:\n",
    "        res = sum(w.startswith(pref) for w in words)\n",
    "        return res"
   ]
  },
  {
   "cell_type": "code",
   "execution_count": 3,
   "id": "abbbc159-fd20-4fba-b516-2bb76b5e70c3",
   "metadata": {},
   "outputs": [],
   "source": [
    "sol = Solution()"
   ]
  },
  {
   "cell_type": "code",
   "execution_count": 4,
   "id": "bd318b30-393f-4fe5-9d50-7ceceb0c1760",
   "metadata": {},
   "outputs": [],
   "source": [
    "assert sol.prefixCount([\"pay\",\"attention\",\"practice\",\"attend\"], \"at\") == 2"
   ]
  },
  {
   "cell_type": "code",
   "execution_count": 5,
   "id": "640b0366-0539-4d77-8fe2-a5590bc03de7",
   "metadata": {},
   "outputs": [],
   "source": [
    "assert sol.prefixCount([\"leetcode\",\"win\",\"loops\",\"success\"], \"code\") == 0"
   ]
  }
 ],
 "metadata": {
  "kernelspec": {
   "display_name": "Python 3 (ipykernel)",
   "language": "python",
   "name": "python3"
  },
  "language_info": {
   "codemirror_mode": {
    "name": "ipython",
    "version": 3
   },
   "file_extension": ".py",
   "mimetype": "text/x-python",
   "name": "python",
   "nbconvert_exporter": "python",
   "pygments_lexer": "ipython3",
   "version": "3.9.7"
  }
 },
 "nbformat": 4,
 "nbformat_minor": 5
}
