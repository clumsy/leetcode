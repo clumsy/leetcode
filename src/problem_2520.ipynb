{
 "cells": [
  {
   "cell_type": "markdown",
   "id": "8f0390a3-9da7-4956-a11b-6e202b8f0c42",
   "metadata": {},
   "source": [
    "[Problem 2520](https://leetcode.com/problems/count-the-digits-that-divide-a-number/description)"
   ]
  },
  {
   "cell_type": "code",
   "execution_count": 1,
   "id": "14fc53a0-12e9-46fe-bdf9-67c2bc4f78eb",
   "metadata": {},
   "outputs": [],
   "source": [
    "class Solution:\n",
    "    def countDigits(self, num: int) -> int:\n",
    "        res = sum(d != \"0\" and num % int(d) == 0 for d in str(num))\n",
    "        return res"
   ]
  },
  {
   "cell_type": "code",
   "execution_count": 2,
   "id": "3171e346-99c0-4ad7-b4ca-8aedca083ba5",
   "metadata": {},
   "outputs": [],
   "source": [
    "sol = Solution()"
   ]
  },
  {
   "cell_type": "code",
   "execution_count": 3,
   "id": "0fb1e94a-bd87-4582-83b0-58cb2c830f19",
   "metadata": {},
   "outputs": [],
   "source": [
    "assert sol.countDigits(7) == 1"
   ]
  },
  {
   "cell_type": "code",
   "execution_count": 4,
   "id": "70c6a28c-ca8e-4f0e-9d25-a2972f606497",
   "metadata": {},
   "outputs": [],
   "source": [
    "assert sol.countDigits(121) == 2"
   ]
  },
  {
   "cell_type": "code",
   "execution_count": 5,
   "id": "3c9de5cb-28c3-42c0-9bb8-0d88fba1c433",
   "metadata": {},
   "outputs": [],
   "source": [
    "assert sol.countDigits(1248) == 4"
   ]
  }
 ],
 "metadata": {
  "kernelspec": {
   "display_name": "Python 3 (ipykernel)",
   "language": "python",
   "name": "python3"
  },
  "language_info": {
   "codemirror_mode": {
    "name": "ipython",
    "version": 3
   },
   "file_extension": ".py",
   "mimetype": "text/x-python",
   "name": "python",
   "nbconvert_exporter": "python",
   "pygments_lexer": "ipython3",
   "version": "3.9.7"
  }
 },
 "nbformat": 4,
 "nbformat_minor": 5
}
