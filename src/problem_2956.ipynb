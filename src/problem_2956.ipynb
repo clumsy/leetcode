{
 "cells": [
  {
   "cell_type": "markdown",
   "id": "5b92fa81-c0da-4d13-83dc-6765d159ae06",
   "metadata": {},
   "source": [
    "[Problem 2956](https://leetcode.com/problems/find-common-elements-between-two-arrays/description)"
   ]
  },
  {
   "cell_type": "code",
   "execution_count": 1,
   "id": "836f94ca-4f36-43d5-91bc-35545172dde2",
   "metadata": {},
   "outputs": [],
   "source": [
    "from typing import List"
   ]
  },
  {
   "cell_type": "code",
   "execution_count": 2,
   "id": "efb90549-44db-4b2d-a5e1-16adafa7b1d6",
   "metadata": {},
   "outputs": [],
   "source": [
    "class Solution:\n",
    "    def findIntersectionValues(self, nums1: List[int], nums2: List[int]) -> List[int]:\n",
    "        set1, set2 = set(nums1), set(nums2)\n",
    "        res = sum(i1 in set2 for i1 in nums1), sum(i2 in set1 for i2 in nums2)\n",
    "        return res"
   ]
  },
  {
   "cell_type": "code",
   "execution_count": 3,
   "id": "5cca3657-4667-4891-a479-6fda3235c076",
   "metadata": {},
   "outputs": [],
   "source": [
    "sol = Solution()"
   ]
  },
  {
   "cell_type": "code",
   "execution_count": 4,
   "id": "094546c9-6d9d-4454-8ac7-e511bfc57965",
   "metadata": {},
   "outputs": [],
   "source": [
    "assert sol.findIntersectionValues([4,3,2,3,1], [2,2,5,2,3,6]) == (3, 4)"
   ]
  },
  {
   "cell_type": "code",
   "execution_count": 5,
   "id": "7d44a36e-34e7-4caa-a59a-c601f1a8fe94",
   "metadata": {},
   "outputs": [],
   "source": [
    "assert sol.findIntersectionValues([3,4,2,3], [1,5]) == (0, 0)"
   ]
  }
 ],
 "metadata": {
  "kernelspec": {
   "display_name": "Python 3 (ipykernel)",
   "language": "python",
   "name": "python3"
  },
  "language_info": {
   "codemirror_mode": {
    "name": "ipython",
    "version": 3
   },
   "file_extension": ".py",
   "mimetype": "text/x-python",
   "name": "python",
   "nbconvert_exporter": "python",
   "pygments_lexer": "ipython3",
   "version": "3.9.7"
  }
 },
 "nbformat": 4,
 "nbformat_minor": 5
}
