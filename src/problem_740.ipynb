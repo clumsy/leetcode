{
 "cells": [
  {
   "cell_type": "markdown",
   "id": "f0f6b9be-62ac-4b05-8a90-d6dcee9cf1a1",
   "metadata": {},
   "source": [
    "[Problem 740](https://leetcode.com/problems/delete-and-earn/description)"
   ]
  },
  {
   "cell_type": "code",
   "execution_count": 1,
   "id": "2a7c5a58-3b3e-48da-b3e9-b8e68bc4008c",
   "metadata": {},
   "outputs": [],
   "source": [
    "from typing import List"
   ]
  },
  {
   "cell_type": "code",
   "execution_count": 2,
   "id": "630ebada-c112-48a4-8931-15b0f6231572",
   "metadata": {},
   "outputs": [],
   "source": [
    "class Solution:\n",
    "    def deleteAndEarn(self, nums: List[int]) -> int:\n",
    "        n = max(nums)\n",
    "        cnt = [0] * n\n",
    "        for i in nums:\n",
    "            cnt[i - 1] += i\n",
    "        for i in range(n):\n",
    "            cnt[i] = max(cnt[i] + (cnt[i - 2] if i > 1 else 0), cnt[i - 1] if i > 0 else 0)\n",
    "        res = cnt[-1]\n",
    "        return res"
   ]
  },
  {
   "cell_type": "code",
   "execution_count": 3,
   "id": "e096ba76-0176-4319-acd9-c03dfd9fa8b4",
   "metadata": {},
   "outputs": [],
   "source": [
    "sol = Solution()"
   ]
  },
  {
   "cell_type": "code",
   "execution_count": 4,
   "id": "7208d8e6-8b1c-4863-8472-6e862914c40d",
   "metadata": {},
   "outputs": [],
   "source": [
    "assert sol.deleteAndEarn([3,4,2]) == 6"
   ]
  },
  {
   "cell_type": "code",
   "execution_count": 5,
   "id": "ff44db88-c50f-491c-ad52-2cd300d0e13d",
   "metadata": {},
   "outputs": [],
   "source": [
    "assert sol.deleteAndEarn([2,2,3,3,3,4]) == 9"
   ]
  }
 ],
 "metadata": {
  "kernelspec": {
   "display_name": "Python 3 (ipykernel)",
   "language": "python",
   "name": "python3"
  },
  "language_info": {
   "codemirror_mode": {
    "name": "ipython",
    "version": 3
   },
   "file_extension": ".py",
   "mimetype": "text/x-python",
   "name": "python",
   "nbconvert_exporter": "python",
   "pygments_lexer": "ipython3",
   "version": "3.9.7"
  }
 },
 "nbformat": 4,
 "nbformat_minor": 5
}
