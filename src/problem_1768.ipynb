{
 "cells": [
  {
   "cell_type": "markdown",
   "id": "e79de6a0-b114-40cc-9285-21b158c92549",
   "metadata": {},
   "source": [
    "[Problem 1768](https://leetcode.com/problems/merge-strings-alternately/description)"
   ]
  },
  {
   "cell_type": "code",
   "execution_count": 1,
   "id": "43ec43a6-683a-4b9e-85d0-b19feab8551d",
   "metadata": {},
   "outputs": [],
   "source": [
    "from itertools import zip_longest"
   ]
  },
  {
   "cell_type": "code",
   "execution_count": 2,
   "id": "8c5cac8b-621f-444b-9943-d2045b85bda5",
   "metadata": {},
   "outputs": [],
   "source": [
    "class Solution:\n",
    "    def mergeAlternately(self, word1: str, word2: str) -> str:\n",
    "        res = \"\".join(c for i, j in zip_longest(word1, word2, fillvalue=\"\") for c in (i, j))\n",
    "        return res"
   ]
  },
  {
   "cell_type": "code",
   "execution_count": 3,
   "id": "00bbff11-fd9e-4b1b-91d7-6df60c0130bb",
   "metadata": {},
   "outputs": [],
   "source": [
    "sol = Solution()"
   ]
  },
  {
   "cell_type": "code",
   "execution_count": 4,
   "id": "bbcd762d-52e5-4236-b376-e6284423f8fb",
   "metadata": {},
   "outputs": [],
   "source": [
    "assert sol.mergeAlternately(\"abc\", \"pqr\") == \"apbqcr\""
   ]
  },
  {
   "cell_type": "code",
   "execution_count": 5,
   "id": "4726f311-820d-4120-92cc-2402757a8e9e",
   "metadata": {},
   "outputs": [],
   "source": [
    "assert sol.mergeAlternately(\"ab\", \"pqrs\") == \"apbqrs\""
   ]
  },
  {
   "cell_type": "code",
   "execution_count": 6,
   "id": "70a8ae0a-f4d8-4de7-9242-b3d6325a62fe",
   "metadata": {},
   "outputs": [],
   "source": [
    "assert sol.mergeAlternately(\"abcd\", \"pq\") == \"apbqcd\""
   ]
  }
 ],
 "metadata": {
  "kernelspec": {
   "display_name": "Python 3 (ipykernel)",
   "language": "python",
   "name": "python3"
  },
  "language_info": {
   "codemirror_mode": {
    "name": "ipython",
    "version": 3
   },
   "file_extension": ".py",
   "mimetype": "text/x-python",
   "name": "python",
   "nbconvert_exporter": "python",
   "pygments_lexer": "ipython3",
   "version": "3.9.7"
  }
 },
 "nbformat": 4,
 "nbformat_minor": 5
}
