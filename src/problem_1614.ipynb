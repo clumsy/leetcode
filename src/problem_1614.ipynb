{
 "cells": [
  {
   "cell_type": "markdown",
   "id": "030bb116-eb45-445d-bb66-fda5045a5bbd",
   "metadata": {},
   "source": [
    "[Problem 1614](https://leetcode.com/problems/maximum-nesting-depth-of-the-parentheses/description)"
   ]
  },
  {
   "cell_type": "code",
   "execution_count": 1,
   "id": "ba5ce6fd-5dd3-4429-8216-390d23060031",
   "metadata": {},
   "outputs": [],
   "source": [
    "class Solution:\n",
    "    def maxDepth(self, s: str) -> int:\n",
    "        res = cur = 0\n",
    "        for c in s:\n",
    "            cur += 1 if c == \"(\" else -1 if c == \")\" else 0\n",
    "            res = max(res, cur)\n",
    "        return res"
   ]
  },
  {
   "cell_type": "code",
   "execution_count": 2,
   "id": "2b589d80-1644-4cc9-8087-74731f99601b",
   "metadata": {},
   "outputs": [],
   "source": [
    "sol = Solution()"
   ]
  },
  {
   "cell_type": "code",
   "execution_count": 3,
   "id": "8f089088-1e3d-4e2f-889f-a0bf4934dc7c",
   "metadata": {},
   "outputs": [],
   "source": [
    "assert sol.maxDepth(\"(1+(2*3)+((8)/4))+1\") == 3"
   ]
  },
  {
   "cell_type": "code",
   "execution_count": 4,
   "id": "8762c9e3-85f1-4735-b298-e13aca4aa4a7",
   "metadata": {},
   "outputs": [],
   "source": [
    "assert sol.maxDepth(\"(1)+((2))+(((3)))\") == 3"
   ]
  }
 ],
 "metadata": {
  "kernelspec": {
   "display_name": "Python 3 (ipykernel)",
   "language": "python",
   "name": "python3"
  },
  "language_info": {
   "codemirror_mode": {
    "name": "ipython",
    "version": 3
   },
   "file_extension": ".py",
   "mimetype": "text/x-python",
   "name": "python",
   "nbconvert_exporter": "python",
   "pygments_lexer": "ipython3",
   "version": "3.9.7"
  }
 },
 "nbformat": 4,
 "nbformat_minor": 5
}
