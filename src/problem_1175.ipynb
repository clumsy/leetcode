{
 "cells": [
  {
   "cell_type": "markdown",
   "id": "a40f9404-67ba-4128-94fb-815773e5a4b9",
   "metadata": {},
   "source": [
    "[Problem 1175](https://leetcode.com/problems/prime-arrangements/description)"
   ]
  },
  {
   "cell_type": "code",
   "execution_count": 1,
   "id": "fafa6a25-d1b0-48c6-8708-62e3a656c30e",
   "metadata": {},
   "outputs": [],
   "source": [
    "class Solution:\n",
    "    def numPrimeArrangements(self, n: int) -> int:\n",
    "        MOD = int(1e9 + 7)\n",
    "        is_prime = [True] * (n + 1)\n",
    "        is_prime[0] = is_prime[1] = False\n",
    "        for i in range(2, n + 1):\n",
    "            for j in range(i + 1):\n",
    "                if i * j > n:\n",
    "                    break\n",
    "                if is_prime[j]:\n",
    "                    is_prime[i * j] = False\n",
    "        def fac(k):\n",
    "            res = 1\n",
    "            for i in range(1, k + 1):\n",
    "                res = (res * i) % MOD\n",
    "            return res\n",
    "        num_primes = sum(is_prime)\n",
    "        res = (fac(num_primes) * fac(n - num_primes)) % MOD\n",
    "        return res"
   ]
  },
  {
   "cell_type": "code",
   "execution_count": 2,
   "id": "139bc491-095c-439c-8a1a-bc983de3eab0",
   "metadata": {},
   "outputs": [],
   "source": [
    "sol = Solution()"
   ]
  },
  {
   "cell_type": "code",
   "execution_count": 3,
   "id": "30afa495-448b-45a0-9e1e-0a95f021fac4",
   "metadata": {},
   "outputs": [],
   "source": [
    "assert sol.numPrimeArrangements(5) == 12"
   ]
  },
  {
   "cell_type": "code",
   "execution_count": 4,
   "id": "3b6090c4-d793-40c1-877e-cf74d279723a",
   "metadata": {},
   "outputs": [],
   "source": [
    "assert sol.numPrimeArrangements(100) == 682289015"
   ]
  }
 ],
 "metadata": {
  "kernelspec": {
   "display_name": "Python 3 (ipykernel)",
   "language": "python",
   "name": "python3"
  },
  "language_info": {
   "codemirror_mode": {
    "name": "ipython",
    "version": 3
   },
   "file_extension": ".py",
   "mimetype": "text/x-python",
   "name": "python",
   "nbconvert_exporter": "python",
   "pygments_lexer": "ipython3",
   "version": "3.9.7"
  }
 },
 "nbformat": 4,
 "nbformat_minor": 5
}
