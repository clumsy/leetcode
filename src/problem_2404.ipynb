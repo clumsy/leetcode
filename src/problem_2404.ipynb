{
 "cells": [
  {
   "cell_type": "markdown",
   "id": "8332ddfb-1ef8-4578-9971-0fbc4def3699",
   "metadata": {},
   "source": [
    "[Problem 2404]()"
   ]
  },
  {
   "cell_type": "code",
   "execution_count": 1,
   "id": "12c258ae-071a-4e15-80f3-92a2533dc4b5",
   "metadata": {},
   "outputs": [],
   "source": [
    "from typing import List\n",
    "from collections import Counter"
   ]
  },
  {
   "cell_type": "code",
   "execution_count": 2,
   "id": "ec6c3db2-2787-47ee-8a24-13584e919cca",
   "metadata": {},
   "outputs": [],
   "source": [
    "class Solution:\n",
    "    def mostFrequentEven(self, nums: List[int]) -> int:\n",
    "        cnt = Counter(i for i in nums if i & 1 == 0)\n",
    "        res = min((i for i, c in cnt.items() if c == max(cnt.values())), default=-1)\n",
    "        return res"
   ]
  },
  {
   "cell_type": "code",
   "execution_count": 3,
   "id": "e8fc5929-2081-40b6-a251-6f291fcc6ba3",
   "metadata": {},
   "outputs": [],
   "source": [
    "sol = Solution()"
   ]
  },
  {
   "cell_type": "code",
   "execution_count": 4,
   "id": "7255a774-2087-41e0-99eb-07d7151862e6",
   "metadata": {},
   "outputs": [],
   "source": [
    "assert sol.mostFrequentEven([0,1,2,2,4,4,1]) == 2"
   ]
  },
  {
   "cell_type": "code",
   "execution_count": 5,
   "id": "5e480812-7a48-4613-85e7-08b692e9721e",
   "metadata": {},
   "outputs": [],
   "source": [
    "assert sol.mostFrequentEven([4,4,4,9,2,4]) == 4"
   ]
  },
  {
   "cell_type": "code",
   "execution_count": 6,
   "id": "42d629e9-7641-499e-83d9-0e746023ec65",
   "metadata": {},
   "outputs": [],
   "source": [
    "assert sol.mostFrequentEven([29,47,21,41,13,37,25,7]) == -1"
   ]
  }
 ],
 "metadata": {
  "kernelspec": {
   "display_name": "Python 3 (ipykernel)",
   "language": "python",
   "name": "python3"
  },
  "language_info": {
   "codemirror_mode": {
    "name": "ipython",
    "version": 3
   },
   "file_extension": ".py",
   "mimetype": "text/x-python",
   "name": "python",
   "nbconvert_exporter": "python",
   "pygments_lexer": "ipython3",
   "version": "3.9.7"
  }
 },
 "nbformat": 4,
 "nbformat_minor": 5
}
