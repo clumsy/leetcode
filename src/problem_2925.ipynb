{
 "cells": [
  {
   "cell_type": "markdown",
   "id": "52574826-0fd3-463a-b907-ddcbe65624e1",
   "metadata": {},
   "source": [
    "[Problem 2925](https://leetcode.com/problems/maximum-score-after-applying-operations-on-a-tree/description)"
   ]
  },
  {
   "cell_type": "code",
   "execution_count": 1,
   "id": "bb9fb616-1c94-41e8-9c06-3e4eee4f7317",
   "metadata": {},
   "outputs": [],
   "source": [
    "from typing import List\n",
    "from collections import defaultdict"
   ]
  },
  {
   "cell_type": "code",
   "execution_count": 2,
   "id": "d56f3de6-b893-4723-9f59-1758b4398b1a",
   "metadata": {},
   "outputs": [],
   "source": [
    "class Solution:\n",
    "    def maximumScoreAfterOperations(self, edges: List[List[int]], values: List[int]) -> int:\n",
    "        es = defaultdict(list)\n",
    "        for f, t in edges:\n",
    "            es[f].append(t)\n",
    "            es[t].append(f)\n",
    "        # returns a, b\n",
    "        # a - full sum in childs\n",
    "        # b - max sum if we drop in childs\n",
    "        def dfs(i, p=None):\n",
    "            s, ms = 0, -values[i]\n",
    "            for e in es[i]:\n",
    "                if e != p:\n",
    "                    ms = max(ms, 0)\n",
    "                    ds, dms = dfs(e, p=i)\n",
    "                    s += ds\n",
    "                    ms += dms\n",
    "            return s + values[i], max(s, ms + values[i])\n",
    "        res = dfs(0)[1]\n",
    "        return res"
   ]
  },
  {
   "cell_type": "code",
   "execution_count": 3,
   "id": "d02cb079-941c-4029-9f69-b1e322e9fd3a",
   "metadata": {},
   "outputs": [],
   "source": [
    "sol = Solution()"
   ]
  },
  {
   "cell_type": "code",
   "execution_count": 4,
   "id": "ae795539-af61-4a0e-a908-2909286f0bbb",
   "metadata": {},
   "outputs": [],
   "source": [
    "assert sol.maximumScoreAfterOperations([[0,1],[0,2],[0,3],[2,4],[4,5]], [5,2,5,2,1,1]) == 11"
   ]
  },
  {
   "cell_type": "code",
   "execution_count": 5,
   "id": "9ae67a3d-f101-4218-8689-2f4e22ee351e",
   "metadata": {},
   "outputs": [],
   "source": [
    "assert sol.maximumScoreAfterOperations([[0,1],[0,2],[1,3],[1,4],[2,5],[2,6]], [20,10,9,7,4,3,5]) == 40"
   ]
  }
 ],
 "metadata": {
  "kernelspec": {
   "display_name": "Python 3 (ipykernel)",
   "language": "python",
   "name": "python3"
  },
  "language_info": {
   "codemirror_mode": {
    "name": "ipython",
    "version": 3
   },
   "file_extension": ".py",
   "mimetype": "text/x-python",
   "name": "python",
   "nbconvert_exporter": "python",
   "pygments_lexer": "ipython3",
   "version": "3.9.7"
  }
 },
 "nbformat": 4,
 "nbformat_minor": 5
}
