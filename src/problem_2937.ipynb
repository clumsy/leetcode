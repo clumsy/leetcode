{
 "cells": [
  {
   "cell_type": "markdown",
   "id": "b7a1b24c-0d3f-4cac-9ec3-623ca911a4a5",
   "metadata": {},
   "source": [
    "[Problem 2937](https://leetcode.com/problems/make-three-strings-equal/description)"
   ]
  },
  {
   "cell_type": "code",
   "execution_count": 1,
   "id": "f59f2834-c3cd-4645-9e0c-04339152c491",
   "metadata": {},
   "outputs": [],
   "source": [
    "class Solution:\n",
    "    def findMinimumOperations(self, s1: str, s2: str, s3: str) -> int:\n",
    "        n1, n2, n3 = (len(s) for s in (s1, s2, s3))\n",
    "        if s1[0] == s2[0] == s3[0]:\n",
    "            res = 0\n",
    "            for i in range(max(n1, n2, n3)):\n",
    "                if i >= min(n1, n2, n3) or not (s1[i] == s2[i] == s3[i]):\n",
    "                    res = n1 - i + n2 - i + n3 - i\n",
    "                    break\n",
    "        else:\n",
    "            res = -1\n",
    "        return res"
   ]
  },
  {
   "cell_type": "code",
   "execution_count": 2,
   "id": "86b14f7a-3938-4575-b9fe-d6cc3d84118f",
   "metadata": {},
   "outputs": [],
   "source": [
    "sol = Solution()"
   ]
  },
  {
   "cell_type": "code",
   "execution_count": 3,
   "id": "545e107a-a75e-4968-9afc-a0652cda0d79",
   "metadata": {},
   "outputs": [],
   "source": [
    "assert sol.findMinimumOperations(\"abc\", \"abb\", \"ab\") == 2"
   ]
  },
  {
   "cell_type": "code",
   "execution_count": 4,
   "id": "4b982443-5a01-45ce-861a-82090f7e911e",
   "metadata": {},
   "outputs": [],
   "source": [
    "assert sol.findMinimumOperations(\"dac\", \"bac\", \"cac\") == -1"
   ]
  }
 ],
 "metadata": {
  "kernelspec": {
   "display_name": "Python 3 (ipykernel)",
   "language": "python",
   "name": "python3"
  },
  "language_info": {
   "codemirror_mode": {
    "name": "ipython",
    "version": 3
   },
   "file_extension": ".py",
   "mimetype": "text/x-python",
   "name": "python",
   "nbconvert_exporter": "python",
   "pygments_lexer": "ipython3",
   "version": "3.9.7"
  }
 },
 "nbformat": 4,
 "nbformat_minor": 5
}
