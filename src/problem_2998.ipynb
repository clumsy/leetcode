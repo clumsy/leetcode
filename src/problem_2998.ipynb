{
 "cells": [
  {
   "cell_type": "markdown",
   "id": "6777fb83-a57f-4c55-a653-1c3e6cf8b69f",
   "metadata": {},
   "source": [
    "[Problem 2998](https://leetcode.com/problems/minimum-number-of-operations-to-make-x-and-y-equal/description)"
   ]
  },
  {
   "cell_type": "code",
   "execution_count": 1,
   "id": "b03df33e-8072-44b9-a9ec-5036d98deaab",
   "metadata": {},
   "outputs": [],
   "source": [
    "from collections import deque"
   ]
  },
  {
   "cell_type": "code",
   "execution_count": 2,
   "id": "e2b9b4c0-27ff-4bf1-9a62-24d6f2d1191f",
   "metadata": {},
   "outputs": [],
   "source": [
    "class Solution:\n",
    "    def minimumOperationsToMakeEqual(self, x: int, y: int) -> int:\n",
    "        used = set()\n",
    "        q = deque([x])\n",
    "        res = 0\n",
    "        while True:\n",
    "            for _ in range(len(q)):\n",
    "                x = q.pop()\n",
    "                if x == y:\n",
    "                    break\n",
    "                if x in used:\n",
    "                    continue\n",
    "                used.add(x)\n",
    "                if x % 11 == 0:\n",
    "                    q.appendleft(x // 11)\n",
    "                if x % 5 == 0:\n",
    "                    q.appendleft(x // 5)\n",
    "                q.appendleft(x - 1)\n",
    "                q.appendleft(x + 1)\n",
    "            if x == y:\n",
    "                break\n",
    "            res += 1\n",
    "        return res"
   ]
  },
  {
   "cell_type": "code",
   "execution_count": 3,
   "id": "ec60ef24-1c87-497b-bcaf-0c2f2d4945ad",
   "metadata": {},
   "outputs": [],
   "source": [
    "sol = Solution()"
   ]
  },
  {
   "cell_type": "code",
   "execution_count": 4,
   "id": "35967be6-07b1-4930-99d9-ee38601c5248",
   "metadata": {},
   "outputs": [],
   "source": [
    "assert sol.minimumOperationsToMakeEqual(26, 1) == 3"
   ]
  },
  {
   "cell_type": "code",
   "execution_count": 5,
   "id": "8b098f03-6c67-4e4e-a1bc-749a9ac3fdab",
   "metadata": {},
   "outputs": [],
   "source": [
    "assert sol.minimumOperationsToMakeEqual(54, 2) == 4"
   ]
  },
  {
   "cell_type": "code",
   "execution_count": 6,
   "id": "ed46d7c1-1334-47d4-a35b-20deda86ef38",
   "metadata": {},
   "outputs": [],
   "source": [
    "assert sol.minimumOperationsToMakeEqual(25, 30) == 5"
   ]
  }
 ],
 "metadata": {
  "kernelspec": {
   "display_name": "Python 3 (ipykernel)",
   "language": "python",
   "name": "python3"
  },
  "language_info": {
   "codemirror_mode": {
    "name": "ipython",
    "version": 3
   },
   "file_extension": ".py",
   "mimetype": "text/x-python",
   "name": "python",
   "nbconvert_exporter": "python",
   "pygments_lexer": "ipython3",
   "version": "3.9.7"
  }
 },
 "nbformat": 4,
 "nbformat_minor": 5
}
