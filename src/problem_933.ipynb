{
 "cells": [
  {
   "cell_type": "markdown",
   "id": "9e4107ff-6744-4811-aefe-7046249ced1f",
   "metadata": {},
   "source": [
    "[Problem 933](https://leetcode.com/problems/number-of-recent-calls/description)"
   ]
  },
  {
   "cell_type": "code",
   "execution_count": 1,
   "id": "1102f56a-0736-4b03-84ac-19f18fdf3074",
   "metadata": {},
   "outputs": [],
   "source": [
    "from collections import deque"
   ]
  },
  {
   "cell_type": "code",
   "execution_count": 2,
   "id": "d9cbb9c6-413f-4bb2-b207-78bf9cf700d1",
   "metadata": {},
   "outputs": [],
   "source": [
    "class RecentCounter:\n",
    "\n",
    "    def __init__(self):\n",
    "        self.q = deque()\n",
    "        \n",
    "\n",
    "    def ping(self, t: int) -> int:\n",
    "        while self.q and t - self.q[0] > 3000:\n",
    "            self.q.popleft()\n",
    "        self.q.append(t)\n",
    "        res = len(self.q)\n",
    "        return res"
   ]
  },
  {
   "cell_type": "code",
   "execution_count": 4,
   "id": "9c55fdb0-2ef9-48af-9b35-0806f5c60619",
   "metadata": {},
   "outputs": [],
   "source": [
    "sol = RecentCounter()\n",
    "assert sol.ping(1) == 1\n",
    "assert sol.ping(100) == 2\n",
    "assert sol.ping(3001) == 3\n",
    "assert sol.ping(3002) == 3"
   ]
  }
 ],
 "metadata": {
  "kernelspec": {
   "display_name": "Python 3 (ipykernel)",
   "language": "python",
   "name": "python3"
  },
  "language_info": {
   "codemirror_mode": {
    "name": "ipython",
    "version": 3
   },
   "file_extension": ".py",
   "mimetype": "text/x-python",
   "name": "python",
   "nbconvert_exporter": "python",
   "pygments_lexer": "ipython3",
   "version": "3.9.7"
  }
 },
 "nbformat": 4,
 "nbformat_minor": 5
}
