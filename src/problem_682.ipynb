{
 "cells": [
  {
   "cell_type": "markdown",
   "id": "e25838f6-03fb-4d02-be28-9c65409bc68d",
   "metadata": {},
   "source": [
    "[Problem 682](https://leetcode.com/problems/baseball-game/description)"
   ]
  },
  {
   "cell_type": "code",
   "execution_count": 1,
   "id": "4e0d023a-2cf5-4c6f-b8e5-3827c1c1661f",
   "metadata": {},
   "outputs": [],
   "source": [
    "from typing import List"
   ]
  },
  {
   "cell_type": "code",
   "execution_count": 2,
   "id": "2ced426f-f6ca-4d72-b92c-bc7c4f8c386c",
   "metadata": {},
   "outputs": [],
   "source": [
    "class Solution:\n",
    "    def calPoints(self, operations: List[str]) -> int:\n",
    "        res = []\n",
    "        for op in operations:\n",
    "            if op == \"D\":\n",
    "                res.append(2 * res[-1])\n",
    "            elif op == \"+\":\n",
    "                res.append(sum(res[-2:]))\n",
    "            elif op == \"C\":\n",
    "                res.pop()\n",
    "            else:\n",
    "                res.append(int(op))\n",
    "        res = sum(res)\n",
    "        return res"
   ]
  },
  {
   "cell_type": "code",
   "execution_count": 3,
   "id": "f52cee7f-4923-4e29-98aa-4b02abde6e05",
   "metadata": {},
   "outputs": [],
   "source": [
    "sol = Solution()"
   ]
  },
  {
   "cell_type": "code",
   "execution_count": 4,
   "id": "af038e29-2b25-4204-af52-747d7368fa03",
   "metadata": {},
   "outputs": [],
   "source": [
    "assert sol.calPoints([\"5\",\"2\",\"C\",\"D\",\"+\"]) == 30"
   ]
  },
  {
   "cell_type": "code",
   "execution_count": 5,
   "id": "658198f1-8fb4-40ca-abc6-d5ecede86b17",
   "metadata": {},
   "outputs": [],
   "source": [
    "assert sol.calPoints([\"5\",\"-2\",\"4\",\"C\",\"D\",\"9\",\"+\",\"+\"]) == 27"
   ]
  },
  {
   "cell_type": "code",
   "execution_count": 6,
   "id": "ed59abed-1ebb-42ab-9d43-7536759a7b94",
   "metadata": {},
   "outputs": [],
   "source": [
    "assert sol.calPoints([\"1\",\"C\"]) == 0"
   ]
  }
 ],
 "metadata": {
  "kernelspec": {
   "display_name": "Python 3 (ipykernel)",
   "language": "python",
   "name": "python3"
  },
  "language_info": {
   "codemirror_mode": {
    "name": "ipython",
    "version": 3
   },
   "file_extension": ".py",
   "mimetype": "text/x-python",
   "name": "python",
   "nbconvert_exporter": "python",
   "pygments_lexer": "ipython3",
   "version": "3.9.7"
  }
 },
 "nbformat": 4,
 "nbformat_minor": 5
}
