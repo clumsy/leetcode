{
 "cells": [
  {
   "cell_type": "markdown",
   "id": "a637f4e7-46dd-4a79-a533-8c63772c79c8",
   "metadata": {},
   "source": [
    "[Problem 1668](https://leetcode.com/problems/maximum-repeating-substring/description)"
   ]
  },
  {
   "cell_type": "code",
   "execution_count": 1,
   "id": "f79d17a5-905f-4b2a-bf8f-a840dbdd833f",
   "metadata": {},
   "outputs": [],
   "source": [
    "class Solution:\n",
    "    def maxRepeating(self, s: str, w: str) -> int:\n",
    "        res, cur, i, lw, ls = 0, 0, 0, len(w), len(s)\n",
    "        while i < ls:\n",
    "            if s[i:min(ls, i + lw)] == w:\n",
    "                i += lw\n",
    "                cur += 1\n",
    "            else:\n",
    "                i += 1 - (lw if cur else 0)\n",
    "                cur = 0\n",
    "            res = max(res, cur)\n",
    "        return res"
   ]
  },
  {
   "cell_type": "code",
   "execution_count": 2,
   "id": "a90912f1-f2d9-44ef-bb11-361d01d733fb",
   "metadata": {},
   "outputs": [],
   "source": [
    "sol = Solution()"
   ]
  },
  {
   "cell_type": "code",
   "execution_count": 3,
   "id": "c300db98-bd68-4823-8def-fbe79995ed89",
   "metadata": {},
   "outputs": [],
   "source": [
    "assert sol.maxRepeating(\"ababc\", \"ab\") == 2"
   ]
  },
  {
   "cell_type": "code",
   "execution_count": 4,
   "id": "5a3791b2-591c-4f9e-aa47-2fee3c133fcd",
   "metadata": {},
   "outputs": [],
   "source": [
    "assert sol.maxRepeating(\"ababc\", \"ba\") == 1"
   ]
  },
  {
   "cell_type": "code",
   "execution_count": 5,
   "id": "70b9cece-4e9f-4c42-b895-d301ed34b8b6",
   "metadata": {},
   "outputs": [],
   "source": [
    "assert sol.maxRepeating(\"ababc\", \"ac\") == 0"
   ]
  }
 ],
 "metadata": {
  "kernelspec": {
   "display_name": "Python 3 (ipykernel)",
   "language": "python",
   "name": "python3"
  },
  "language_info": {
   "codemirror_mode": {
    "name": "ipython",
    "version": 3
   },
   "file_extension": ".py",
   "mimetype": "text/x-python",
   "name": "python",
   "nbconvert_exporter": "python",
   "pygments_lexer": "ipython3",
   "version": "3.9.7"
  }
 },
 "nbformat": 4,
 "nbformat_minor": 5
}
