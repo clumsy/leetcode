{
 "cells": [
  {
   "cell_type": "markdown",
   "id": "879fd095-b874-4fe5-b6f2-0166bdc25a97",
   "metadata": {},
   "source": [
    "[Problem 1963](https://leetcode.com/problems/minimum-number-of-swaps-to-make-the-string-balanced/description)"
   ]
  },
  {
   "cell_type": "code",
   "execution_count": 1,
   "id": "c721a804-66b8-40dd-931e-8875bc470444",
   "metadata": {},
   "outputs": [],
   "source": [
    "class Solution:\n",
    "    def minSwaps(self, s: str) -> int:\n",
    "        lo, hi = 0, len(s) - 1\n",
    "        res = o = c = 0\n",
    "        while lo < hi:\n",
    "            while lo < hi and (o > 0 or s[lo] == \"[\"):\n",
    "                o += 1 if s[lo] == \"[\" else -1\n",
    "                lo += 1\n",
    "            while lo < hi and (c > 0 or s[hi] == \"]\"):\n",
    "                c += 1 if s[hi] == \"]\" else -1\n",
    "                hi -= 1\n",
    "            if lo < hi:\n",
    "                res += 1\n",
    "                lo += 1\n",
    "                hi -= 1\n",
    "                o += 1\n",
    "                c += 1\n",
    "        return res"
   ]
  },
  {
   "cell_type": "code",
   "execution_count": 2,
   "id": "3c8cc83e-2173-4b6f-96b6-a16dfac76bfe",
   "metadata": {},
   "outputs": [],
   "source": [
    "sol = Solution()"
   ]
  },
  {
   "cell_type": "code",
   "execution_count": 3,
   "id": "67331c63-3e0f-452a-8dcb-1a292010f046",
   "metadata": {},
   "outputs": [],
   "source": [
    "assert sol.minSwaps(\"][][\") == 1"
   ]
  },
  {
   "cell_type": "code",
   "execution_count": 4,
   "id": "d3d3274c-2a39-403c-a144-d320a35b16a0",
   "metadata": {},
   "outputs": [],
   "source": [
    "assert sol.minSwaps(\"]]][[[\") == 2"
   ]
  },
  {
   "cell_type": "code",
   "execution_count": 5,
   "id": "d00f2af3-8a2c-4bda-bb9a-6afdb8befe92",
   "metadata": {},
   "outputs": [],
   "source": [
    "assert sol.minSwaps(\"[]\") == 0"
   ]
  }
 ],
 "metadata": {
  "kernelspec": {
   "display_name": "Python 3 (ipykernel)",
   "language": "python",
   "name": "python3"
  },
  "language_info": {
   "codemirror_mode": {
    "name": "ipython",
    "version": 3
   },
   "file_extension": ".py",
   "mimetype": "text/x-python",
   "name": "python",
   "nbconvert_exporter": "python",
   "pygments_lexer": "ipython3",
   "version": "3.9.7"
  }
 },
 "nbformat": 4,
 "nbformat_minor": 5
}
