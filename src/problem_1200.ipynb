{
 "cells": [
  {
   "cell_type": "markdown",
   "id": "5918f9fd-2c00-4168-887f-347624d91cae",
   "metadata": {},
   "source": [
    "[Problem 1200](https://leetcode.com/problems/minimum-absolute-difference/description)"
   ]
  },
  {
   "cell_type": "code",
   "execution_count": 1,
   "id": "116b2ee3-4b0d-4dc1-844e-184d9e536342",
   "metadata": {},
   "outputs": [],
   "source": [
    "from typing import List"
   ]
  },
  {
   "cell_type": "code",
   "execution_count": 2,
   "id": "5ad8deea-2a1b-4470-ad47-1510faa85980",
   "metadata": {},
   "outputs": [],
   "source": [
    "class Solution:\n",
    "    def minimumAbsDifference(self, arr: List[int]) -> List[List[int]]:\n",
    "        arr.sort()\n",
    "        mi = min(b - a for b, a in zip(arr[1:], arr))\n",
    "        res = [[a, b] for b, a in zip(arr[1:], arr) if b - a == mi]\n",
    "        return res"
   ]
  },
  {
   "cell_type": "code",
   "execution_count": 3,
   "id": "be7a8875-0df6-4910-a49d-7a14bdbb0803",
   "metadata": {},
   "outputs": [],
   "source": [
    "sol = Solution()"
   ]
  },
  {
   "cell_type": "code",
   "execution_count": 4,
   "id": "8880910e-0033-4b82-a1af-2de48dd75afc",
   "metadata": {},
   "outputs": [],
   "source": [
    "assert sol.minimumAbsDifference([4,2,1,3]) == [[1,2],[2,3],[3,4]]"
   ]
  },
  {
   "cell_type": "code",
   "execution_count": 5,
   "id": "651600de-0b0b-49f3-9241-debf9fea708d",
   "metadata": {},
   "outputs": [],
   "source": [
    "assert sol.minimumAbsDifference([1,3,6,10,15]) == [[1,3]]"
   ]
  },
  {
   "cell_type": "code",
   "execution_count": 6,
   "id": "736a0533-226f-4442-ae61-228a97933c14",
   "metadata": {},
   "outputs": [],
   "source": [
    "assert sol.minimumAbsDifference([3,8,-10,23,19,-4,-14,27]) == [[-14,-10],[19,23],[23,27]]"
   ]
  }
 ],
 "metadata": {
  "kernelspec": {
   "display_name": "Python 3 (ipykernel)",
   "language": "python",
   "name": "python3"
  },
  "language_info": {
   "codemirror_mode": {
    "name": "ipython",
    "version": 3
   },
   "file_extension": ".py",
   "mimetype": "text/x-python",
   "name": "python",
   "nbconvert_exporter": "python",
   "pygments_lexer": "ipython3",
   "version": "3.9.7"
  }
 },
 "nbformat": 4,
 "nbformat_minor": 5
}
