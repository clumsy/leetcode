{
 "cells": [
  {
   "cell_type": "markdown",
   "id": "79463e66-de7c-4e5c-8f1a-7de41f697f4f",
   "metadata": {},
   "source": [
    "[Problem 2119](https://leetcode.com/problems/a-number-after-a-double-reversal/description)"
   ]
  },
  {
   "cell_type": "code",
   "execution_count": 1,
   "id": "8c51feff-97cd-4a96-9cdc-e4c7980f78dc",
   "metadata": {},
   "outputs": [],
   "source": [
    "class Solution:\n",
    "    def isSameAfterReversals(self, num: int) -> bool:\n",
    "        res = num == 0 or num % 10 != 0\n",
    "        return res"
   ]
  },
  {
   "cell_type": "code",
   "execution_count": 2,
   "id": "eb1d889e-edff-4f3c-a563-90fc37efb163",
   "metadata": {},
   "outputs": [],
   "source": [
    "sol = Solution()"
   ]
  },
  {
   "cell_type": "code",
   "execution_count": 3,
   "id": "df4643e0-1beb-49ad-b04c-e95d79048db0",
   "metadata": {},
   "outputs": [],
   "source": [
    "assert sol.isSameAfterReversals(526)"
   ]
  },
  {
   "cell_type": "code",
   "execution_count": 4,
   "id": "32f87d47-7691-45c6-9f9a-a39866742172",
   "metadata": {},
   "outputs": [],
   "source": [
    "assert not sol.isSameAfterReversals(1800)"
   ]
  },
  {
   "cell_type": "code",
   "execution_count": 5,
   "id": "7a532948-8bb0-4c57-816f-4889ba052e0f",
   "metadata": {},
   "outputs": [],
   "source": [
    "assert sol.isSameAfterReversals(0)"
   ]
  }
 ],
 "metadata": {
  "kernelspec": {
   "display_name": "Python 3 (ipykernel)",
   "language": "python",
   "name": "python3"
  },
  "language_info": {
   "codemirror_mode": {
    "name": "ipython",
    "version": 3
   },
   "file_extension": ".py",
   "mimetype": "text/x-python",
   "name": "python",
   "nbconvert_exporter": "python",
   "pygments_lexer": "ipython3",
   "version": "3.9.7"
  }
 },
 "nbformat": 4,
 "nbformat_minor": 5
}
