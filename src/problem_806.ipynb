{
 "cells": [
  {
   "cell_type": "markdown",
   "id": "c52cab51-a352-42de-99c9-190cff62032d",
   "metadata": {},
   "source": [
    "[Problem 806](https://leetcode.com/problems/number-of-lines-to-write-string/description)"
   ]
  },
  {
   "cell_type": "code",
   "execution_count": 1,
   "id": "8a41919c-a924-431d-ac78-a553a963e1e6",
   "metadata": {},
   "outputs": [],
   "source": [
    "from typing import List"
   ]
  },
  {
   "cell_type": "code",
   "execution_count": 5,
   "id": "c6c4eb38-4335-4116-95c0-849c762c80b8",
   "metadata": {},
   "outputs": [],
   "source": [
    "class Solution:\n",
    "    def numberOfLines(self, widths: List[int], s: str) -> List[int]:\n",
    "        lines, last = 1, 0\n",
    "        for c in s:\n",
    "            width = widths[ord(c) - ord(\"a\")]\n",
    "            if last + width > 100:\n",
    "                last = width\n",
    "                lines += 1\n",
    "            else:\n",
    "                last += width\n",
    "        return [lines, last]"
   ]
  },
  {
   "cell_type": "code",
   "execution_count": 6,
   "id": "c26e4533-2530-485c-a77e-b321c73934a6",
   "metadata": {},
   "outputs": [],
   "source": [
    "sol = Solution()"
   ]
  },
  {
   "cell_type": "code",
   "execution_count": 8,
   "id": "d1c5a4d6-b500-4a57-b3c2-a6b88da87591",
   "metadata": {},
   "outputs": [],
   "source": [
    "assert sol.numberOfLines([10,10,10,10,10,10,10,10,10,10,10,10,10,10,10,10,10,10,10,10,10,10,10,10,10,10], \"abcdefghijklmnopqrstuvwxyz\") == [3, 60]"
   ]
  },
  {
   "cell_type": "code",
   "execution_count": 9,
   "id": "af6e5d64-363b-4bc4-a869-37f430900547",
   "metadata": {},
   "outputs": [],
   "source": [
    "assert sol.numberOfLines([4,10,10,10,10,10,10,10,10,10,10,10,10,10,10,10,10,10,10,10,10,10,10,10,10,10], \"bbbcccdddaaa\") == [2, 4]"
   ]
  }
 ],
 "metadata": {
  "kernelspec": {
   "display_name": "Python 3 (ipykernel)",
   "language": "python",
   "name": "python3"
  },
  "language_info": {
   "codemirror_mode": {
    "name": "ipython",
    "version": 3
   },
   "file_extension": ".py",
   "mimetype": "text/x-python",
   "name": "python",
   "nbconvert_exporter": "python",
   "pygments_lexer": "ipython3",
   "version": "3.9.7"
  }
 },
 "nbformat": 4,
 "nbformat_minor": 5
}
