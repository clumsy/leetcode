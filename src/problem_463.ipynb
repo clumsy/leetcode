{
 "cells": [
  {
   "cell_type": "markdown",
   "id": "ef6e97f2-a236-4651-9c26-c7dda95316c6",
   "metadata": {},
   "source": [
    "[Problem 463](https://leetcode.com/problems/island-perimeter/description)"
   ]
  },
  {
   "cell_type": "code",
   "execution_count": 1,
   "id": "9d94e901-b4c3-4ee2-823c-faa5a349b7ee",
   "metadata": {},
   "outputs": [],
   "source": [
    "from typing import List"
   ]
  },
  {
   "cell_type": "code",
   "execution_count": 2,
   "id": "f90fc3c2-372e-4fef-816f-3f686ca1b571",
   "metadata": {},
   "outputs": [],
   "source": [
    "class Solution:\n",
    "    def islandPerimeter(self, grid: List[List[int]]) -> int:\n",
    "        res, rows, cols = 0, len(grid), len(grid[0])\n",
    "        for r in range(rows):\n",
    "            for c in range(cols):\n",
    "                if grid[r][c] == 1:\n",
    "                    res += sum(\n",
    "                        r1 < 0 or\n",
    "                        r1 >= rows or\n",
    "                        c1 < 0 or\n",
    "                        c1 >= cols or\n",
    "                        grid[r1][c1] == 0 for r1, c1 in (\n",
    "                            (r + 1, c),\n",
    "                            (r - 1, c),\n",
    "                            (r, c + 1),\n",
    "                            (r, c - 1),\n",
    "                        ))\n",
    "        return res"
   ]
  },
  {
   "cell_type": "code",
   "execution_count": 3,
   "id": "f7fe187b-da55-4428-8bd3-2fd02cbbd132",
   "metadata": {},
   "outputs": [],
   "source": [
    "sol = Solution()"
   ]
  },
  {
   "cell_type": "code",
   "execution_count": 4,
   "id": "21b953a4-8a23-4694-a624-13d6c9be1623",
   "metadata": {},
   "outputs": [],
   "source": [
    "assert sol.islandPerimeter([[0,1,0,0],[1,1,1,0],[0,1,0,0],[1,1,0,0]]) == 16"
   ]
  },
  {
   "cell_type": "code",
   "execution_count": 5,
   "id": "183bb43d-1860-498d-bd19-17a9d63aa199",
   "metadata": {},
   "outputs": [],
   "source": [
    "assert sol.islandPerimeter([[1]]) == 4"
   ]
  },
  {
   "cell_type": "code",
   "execution_count": 6,
   "id": "1588e625-cd66-476b-8f9b-df11cec8c605",
   "metadata": {},
   "outputs": [],
   "source": [
    "assert sol.islandPerimeter([[1,0]]) == 4"
   ]
  }
 ],
 "metadata": {
  "kernelspec": {
   "display_name": "Python 3 (ipykernel)",
   "language": "python",
   "name": "python3"
  },
  "language_info": {
   "codemirror_mode": {
    "name": "ipython",
    "version": 3
   },
   "file_extension": ".py",
   "mimetype": "text/x-python",
   "name": "python",
   "nbconvert_exporter": "python",
   "pygments_lexer": "ipython3",
   "version": "3.9.7"
  }
 },
 "nbformat": 4,
 "nbformat_minor": 5
}
