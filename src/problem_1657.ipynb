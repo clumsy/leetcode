{
 "cells": [
  {
   "cell_type": "markdown",
   "id": "1db4a7ca-b77d-435e-af34-1aef2f929a40",
   "metadata": {},
   "source": [
    "[Problem 1657](https://leetcode.com/problems/determine-if-two-strings-are-close/description)"
   ]
  },
  {
   "cell_type": "code",
   "execution_count": 1,
   "id": "57284c50-9362-4b3e-a1c6-03b1cfa083c3",
   "metadata": {},
   "outputs": [],
   "source": [
    "from collections import Counter"
   ]
  },
  {
   "cell_type": "code",
   "execution_count": 2,
   "id": "845f8378-423c-40db-8ce4-baff0f6e8e6e",
   "metadata": {},
   "outputs": [],
   "source": [
    "class Solution:\n",
    "    def closeStrings(self, word1: str, word2: str) -> bool:\n",
    "        cnt1, cnt2 = Counter(word1), Counter(word2)\n",
    "        res = cnt1.keys() == cnt2.keys() and sorted(cnt1.values()) == sorted(cnt2.values())\n",
    "        return res"
   ]
  },
  {
   "cell_type": "code",
   "execution_count": 3,
   "id": "1af60170-f34e-470c-acfc-6451b5d20737",
   "metadata": {},
   "outputs": [],
   "source": [
    "sol = Solution()"
   ]
  },
  {
   "cell_type": "code",
   "execution_count": 4,
   "id": "7dd4177e-3e95-4bd3-a44e-2d493a9b63db",
   "metadata": {},
   "outputs": [],
   "source": [
    "assert sol.closeStrings(\"abc\", \"bca\")"
   ]
  },
  {
   "cell_type": "code",
   "execution_count": 5,
   "id": "53c6bb06-cc48-4450-9254-b01898a29fa6",
   "metadata": {},
   "outputs": [],
   "source": [
    "assert not sol.closeStrings(\"a\", \"aa\")"
   ]
  },
  {
   "cell_type": "code",
   "execution_count": 6,
   "id": "8f7be9e6-dce1-4c35-af39-7875375c02a8",
   "metadata": {},
   "outputs": [],
   "source": [
    "assert sol.closeStrings(\"cabbba\", \"abbccc\")"
   ]
  }
 ],
 "metadata": {
  "kernelspec": {
   "display_name": "Python 3 (ipykernel)",
   "language": "python",
   "name": "python3"
  },
  "language_info": {
   "codemirror_mode": {
    "name": "ipython",
    "version": 3
   },
   "file_extension": ".py",
   "mimetype": "text/x-python",
   "name": "python",
   "nbconvert_exporter": "python",
   "pygments_lexer": "ipython3",
   "version": "3.9.7"
  }
 },
 "nbformat": 4,
 "nbformat_minor": 5
}
