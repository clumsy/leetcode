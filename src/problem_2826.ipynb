{
 "cells": [
  {
   "cell_type": "markdown",
   "id": "2314575e-fa9e-4d88-aef1-6fe1466f04ae",
   "metadata": {},
   "source": [
    "[Problem 2826](https://leetcode.com/problems/sorting-three-groups/description)"
   ]
  },
  {
   "cell_type": "code",
   "execution_count": 1,
   "id": "a10893e0-cf80-46ce-9a2a-1d4541adcd54",
   "metadata": {},
   "outputs": [],
   "source": [
    "from typing import List"
   ]
  },
  {
   "cell_type": "code",
   "execution_count": 2,
   "id": "ec37cd3f-7042-4551-8c9a-b305884ab3f5",
   "metadata": {},
   "outputs": [],
   "source": [
    "class Solution:\n",
    "    def minimumOperations(self, nums: List[int]) -> int:\n",
    "        n = len(nums)\n",
    "        dp = [[0] * 3 for _ in range(n + 1)]\n",
    "        for i, e in enumerate(nums):\n",
    "            mi = inf\n",
    "            for k in range(3):\n",
    "                mi = min(mi, dp[i][k])\n",
    "                dp[i + 1][k] = mi + (e != k + 1)\n",
    "        res = min(dp[-1])\n",
    "        return res"
   ]
  },
  {
   "cell_type": "code",
   "execution_count": 3,
   "id": "69e815c3-c396-4d18-b7ac-4744a7b1c7a3",
   "metadata": {},
   "outputs": [],
   "source": [
    "class Solution:\n",
    "    def minimumOperations(self, nums: List[int]) -> int:\n",
    "        dp = [0] * 3\n",
    "        for e in nums:\n",
    "            dp[0] += e != 1\n",
    "            dp[1] = min(dp[0], dp[1] + (e != 2))\n",
    "            dp[2] = min(dp[1], dp[2] + (e != 3))\n",
    "        res = dp[-1]\n",
    "        return res"
   ]
  },
  {
   "cell_type": "code",
   "execution_count": 4,
   "id": "1e0764ee-c0f1-407d-be40-68a82b4ad862",
   "metadata": {},
   "outputs": [],
   "source": [
    "sol = Solution()"
   ]
  },
  {
   "cell_type": "code",
   "execution_count": 5,
   "id": "0538798a-a62f-424d-a5bc-72fdb7b0c6c2",
   "metadata": {},
   "outputs": [],
   "source": [
    "assert sol.minimumOperations([2,1,3,2,1]) == 3"
   ]
  },
  {
   "cell_type": "code",
   "execution_count": 6,
   "id": "f3c2b489-8eee-46f7-8674-9896eb9ddafa",
   "metadata": {},
   "outputs": [],
   "source": [
    "assert sol.minimumOperations([1,3,2,1,3,3]) == 2"
   ]
  },
  {
   "cell_type": "code",
   "execution_count": 7,
   "id": "59e04860-26d5-40fb-8e1e-4f9371828d16",
   "metadata": {},
   "outputs": [],
   "source": [
    "assert sol.minimumOperations([2,2,2,2,3,3]) == 0"
   ]
  }
 ],
 "metadata": {
  "kernelspec": {
   "display_name": "Python 3 (ipykernel)",
   "language": "python",
   "name": "python3"
  },
  "language_info": {
   "codemirror_mode": {
    "name": "ipython",
    "version": 3
   },
   "file_extension": ".py",
   "mimetype": "text/x-python",
   "name": "python",
   "nbconvert_exporter": "python",
   "pygments_lexer": "ipython3",
   "version": "3.9.7"
  }
 },
 "nbformat": 4,
 "nbformat_minor": 5
}
