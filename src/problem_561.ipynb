{
 "cells": [
  {
   "cell_type": "markdown",
   "id": "f107db1b-1ed1-41ad-b1a5-f130d822e0af",
   "metadata": {},
   "source": [
    "[Problem 561](https://leetcode.com/problems/array-partition/description)"
   ]
  },
  {
   "cell_type": "code",
   "execution_count": 1,
   "id": "4590b222-38b0-4888-be04-9d2fa8a51fce",
   "metadata": {},
   "outputs": [],
   "source": [
    "from typing import List\n",
    "from collections import Counter"
   ]
  },
  {
   "cell_type": "code",
   "execution_count": 2,
   "id": "cc18940d-cff7-48da-8d6d-4647e7d8effa",
   "metadata": {},
   "outputs": [],
   "source": [
    "class Solution:\n",
    "    def arrayPairSum(self, nums: List[int]) -> int:\n",
    "        cnt = Counter(nums)\n",
    "        res, cur = 0, None\n",
    "        for i in range(-10000, 10001):\n",
    "            if not cnt[i]:\n",
    "                continue\n",
    "            if cur is not None:\n",
    "                res += cur\n",
    "                cnt[i] -= 1\n",
    "            res += i * (cnt[i] // 2)\n",
    "            cur = i if cnt[i] & 1 == 1 else None\n",
    "        return res"
   ]
  },
  {
   "cell_type": "code",
   "execution_count": 3,
   "id": "323e111a-ce87-4a97-8685-1c01d956790c",
   "metadata": {},
   "outputs": [],
   "source": [
    "sol = Solution()"
   ]
  },
  {
   "cell_type": "code",
   "execution_count": 4,
   "id": "019474cc-0948-4daa-82c1-32b77cba182f",
   "metadata": {},
   "outputs": [],
   "source": [
    "assert sol.arrayPairSum([1,4,3,2]) == 4"
   ]
  },
  {
   "cell_type": "code",
   "execution_count": 5,
   "id": "70704c91-092f-4a5e-818b-756406f029ec",
   "metadata": {},
   "outputs": [],
   "source": [
    "assert sol.arrayPairSum([6,2,6,5,1,2]) == 9"
   ]
  }
 ],
 "metadata": {
  "kernelspec": {
   "display_name": "Python 3 (ipykernel)",
   "language": "python",
   "name": "python3"
  },
  "language_info": {
   "codemirror_mode": {
    "name": "ipython",
    "version": 3
   },
   "file_extension": ".py",
   "mimetype": "text/x-python",
   "name": "python",
   "nbconvert_exporter": "python",
   "pygments_lexer": "ipython3",
   "version": "3.9.7"
  }
 },
 "nbformat": 4,
 "nbformat_minor": 5
}
