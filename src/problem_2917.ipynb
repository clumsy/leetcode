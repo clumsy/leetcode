{
 "cells": [
  {
   "cell_type": "markdown",
   "id": "58e8e1d4-8305-4382-aed1-a98979528a9c",
   "metadata": {},
   "source": [
    "[Problem 2917](https://leetcode.com/problems/find-the-k-or-of-an-array/description)"
   ]
  },
  {
   "cell_type": "code",
   "execution_count": 1,
   "id": "ff2180ed-aa44-4a32-be0e-b02870663f66",
   "metadata": {},
   "outputs": [],
   "source": [
    "from typing import List\n",
    "from collections import Counter"
   ]
  },
  {
   "cell_type": "code",
   "execution_count": 2,
   "id": "a1107a0e-4012-4bad-bad7-3124580128bc",
   "metadata": {},
   "outputs": [],
   "source": [
    "class Solution:\n",
    "    def findKOr(self, nums: List[int], k: int) -> int:\n",
    "        cnt = Counter()\n",
    "        for e in nums:\n",
    "            i = 0\n",
    "            while e:\n",
    "                e, r = divmod(e, 2)\n",
    "                cnt[i] += r\n",
    "                i += 1\n",
    "        res = sum(2 ** i for i, c in cnt.items() if c >= k)\n",
    "        return res"
   ]
  },
  {
   "cell_type": "code",
   "execution_count": 3,
   "id": "ea32c129-3fc1-46ae-8175-8a162b0af41c",
   "metadata": {},
   "outputs": [],
   "source": [
    "sol = Solution()"
   ]
  },
  {
   "cell_type": "code",
   "execution_count": 4,
   "id": "873dd401-3445-4d49-9248-3ba6786068c8",
   "metadata": {},
   "outputs": [],
   "source": [
    "assert sol.findKOr([7,12,9,8,9,15], 4) == 9"
   ]
  },
  {
   "cell_type": "code",
   "execution_count": 5,
   "id": "d92d8d80-e726-4aac-8545-a57054d7816d",
   "metadata": {},
   "outputs": [],
   "source": [
    "assert sol.findKOr([2,12,1,11,4,5], 6) == 0"
   ]
  },
  {
   "cell_type": "code",
   "execution_count": 6,
   "id": "bf71e724-4080-468a-ae81-11c479d3bd4a",
   "metadata": {},
   "outputs": [],
   "source": [
    "assert sol.findKOr([10,8,5,9,11,6,8], 1) == 15"
   ]
  }
 ],
 "metadata": {
  "kernelspec": {
   "display_name": "Python 3 (ipykernel)",
   "language": "python",
   "name": "python3"
  },
  "language_info": {
   "codemirror_mode": {
    "name": "ipython",
    "version": 3
   },
   "file_extension": ".py",
   "mimetype": "text/x-python",
   "name": "python",
   "nbconvert_exporter": "python",
   "pygments_lexer": "ipython3",
   "version": "3.9.7"
  }
 },
 "nbformat": 4,
 "nbformat_minor": 5
}
