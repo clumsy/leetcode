{
 "cells": [
  {
   "cell_type": "markdown",
   "id": "39188609-7b70-449f-b3dd-8c04fb45e0c0",
   "metadata": {},
   "source": [
    "[Problem 1207](https://leetcode.com/problems/unique-number-of-occurrences/description)"
   ]
  },
  {
   "cell_type": "code",
   "execution_count": 3,
   "id": "fb519f21-46ee-42f6-88e3-ce4dd07a4e2d",
   "metadata": {},
   "outputs": [],
   "source": [
    "from typing import List\n",
    "from collections import Counter"
   ]
  },
  {
   "cell_type": "code",
   "execution_count": 4,
   "id": "64a7f3da-16e9-45a3-a659-f726d1b8f296",
   "metadata": {},
   "outputs": [],
   "source": [
    "class Solution:\n",
    "    def uniqueOccurrences(self, arr: List[int]) -> bool:\n",
    "        cnt = Counter(arr)\n",
    "        res = len(cnt) == len(set(cnt.values()))\n",
    "        return res"
   ]
  },
  {
   "cell_type": "code",
   "execution_count": 5,
   "id": "f1ca9545-0b59-4631-a942-1c43b5de61b7",
   "metadata": {},
   "outputs": [],
   "source": [
    "sol = Solution()"
   ]
  },
  {
   "cell_type": "code",
   "execution_count": 6,
   "id": "fd74333c-c244-4ee0-b013-caa283dc5033",
   "metadata": {},
   "outputs": [],
   "source": [
    "assert sol.uniqueOccurrences([1,2,2,1,1,3])"
   ]
  },
  {
   "cell_type": "code",
   "execution_count": 8,
   "id": "5d101b54-16a0-43ad-bbac-4e3ceeb27d75",
   "metadata": {},
   "outputs": [],
   "source": [
    "assert not sol.uniqueOccurrences([1,2])"
   ]
  },
  {
   "cell_type": "code",
   "execution_count": 9,
   "id": "a1ae41fb-624b-4bac-ab63-85b0190c8663",
   "metadata": {},
   "outputs": [],
   "source": [
    "assert sol.uniqueOccurrences([-3,0,1,-3,1,1,1,-3,10,0])"
   ]
  }
 ],
 "metadata": {
  "kernelspec": {
   "display_name": "Python 3 (ipykernel)",
   "language": "python",
   "name": "python3"
  },
  "language_info": {
   "codemirror_mode": {
    "name": "ipython",
    "version": 3
   },
   "file_extension": ".py",
   "mimetype": "text/x-python",
   "name": "python",
   "nbconvert_exporter": "python",
   "pygments_lexer": "ipython3",
   "version": "3.9.7"
  }
 },
 "nbformat": 4,
 "nbformat_minor": 5
}
