{
 "cells": [
  {
   "cell_type": "markdown",
   "id": "8e45f2b5-026f-4d9f-951a-ed4a297ef191",
   "metadata": {},
   "source": [
    "[Problem 350](https://leetcode.com/problems/intersection-of-two-arrays-ii/)"
   ]
  },
  {
   "cell_type": "code",
   "execution_count": 8,
   "id": "7530ebad-9625-47fa-80bd-d4b8e4fdc28e",
   "metadata": {},
   "outputs": [],
   "source": [
    "from typing import List\n",
    "from collections import defaultdict"
   ]
  },
  {
   "cell_type": "code",
   "execution_count": 9,
   "id": "95c6f720-0a24-4e1e-b9e7-5b523caae6fc",
   "metadata": {},
   "outputs": [],
   "source": [
    "class Solution:\n",
    "    def intersect(self, nums1: List[int], nums2: List[int]) -> List[int]:\n",
    "        counts = defaultdict(int)\n",
    "        for i in nums1:\n",
    "            counts[i] += 1\n",
    "        res = []\n",
    "        for i in nums2:\n",
    "            if counts[i] > 0:\n",
    "                counts[i] -= 1\n",
    "                res.append(i)\n",
    "        return res"
   ]
  },
  {
   "cell_type": "code",
   "execution_count": 10,
   "id": "7ae1d2df-5ebf-4767-afe4-44e693b2c945",
   "metadata": {},
   "outputs": [],
   "source": [
    "sol = Solution()"
   ]
  },
  {
   "cell_type": "code",
   "execution_count": 11,
   "id": "03c800c7-3e65-478f-8a4d-d21433514d5c",
   "metadata": {},
   "outputs": [],
   "source": [
    "assert sol.intersect([1,2,2,1], [2,2]) == [2,2]"
   ]
  },
  {
   "cell_type": "code",
   "execution_count": 13,
   "id": "0823caad-a283-44a8-ac5b-6edf73ca79f6",
   "metadata": {},
   "outputs": [],
   "source": [
    "assert sol.intersect([4,9,5], [9,4,9,8,4]) == [9,4]"
   ]
  }
 ],
 "metadata": {
  "kernelspec": {
   "display_name": "Python 3 (ipykernel)",
   "language": "python",
   "name": "python3"
  },
  "language_info": {
   "codemirror_mode": {
    "name": "ipython",
    "version": 3
   },
   "file_extension": ".py",
   "mimetype": "text/x-python",
   "name": "python",
   "nbconvert_exporter": "python",
   "pygments_lexer": "ipython3",
   "version": "3.9.7"
  }
 },
 "nbformat": 4,
 "nbformat_minor": 5
}
