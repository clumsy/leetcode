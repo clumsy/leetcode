{
 "cells": [
  {
   "cell_type": "markdown",
   "id": "5e4a9126-eb78-4a21-bac0-bc08ba99355c",
   "metadata": {},
   "source": [
    "[Problem 1765](https://leetcode.com/problems/map-of-highest-peak/description)"
   ]
  },
  {
   "cell_type": "code",
   "execution_count": 5,
   "id": "0e3fcd22-383f-4b2a-8349-50b5d1b6cab4",
   "metadata": {},
   "outputs": [],
   "source": [
    "from typing import List\n",
    "from collections import deque"
   ]
  },
  {
   "cell_type": "code",
   "execution_count": 6,
   "id": "b7d46daa-92fa-4936-8bd2-e6c146c58c5f",
   "metadata": {},
   "outputs": [],
   "source": [
    "class Solution:\n",
    "    def highestPeak(self, isWater: List[List[int]]) -> List[List[int]]:\n",
    "        m, n = len(isWater), len(isWater[0])\n",
    "        q = deque([(r, c) for r in range(m) for c in range(n) if isWater[r][c]])\n",
    "        res, h = [[None] * n for _ in range(m)], 0\n",
    "        while q:\n",
    "            for _ in range(len(q)):\n",
    "                r, c = q.popleft()\n",
    "                if res[r][c] is not None:\n",
    "                    continue\n",
    "                res[r][c] = h\n",
    "                for dr, dc in [(-1, 0), (+1, 0), (0, -1), (0, +1)]:\n",
    "                    if 0 <= r + dr < m and 0 <= c + dc < n:\n",
    "                        q.append((r + dr, c + dc))\n",
    "            h += 1\n",
    "        return res"
   ]
  },
  {
   "cell_type": "code",
   "execution_count": 7,
   "id": "ba2700f6-11f8-48f8-8d1d-fbdb9367a82b",
   "metadata": {},
   "outputs": [],
   "source": [
    "sol = Solution()"
   ]
  },
  {
   "cell_type": "code",
   "execution_count": 8,
   "id": "c9d840bc-d46e-40df-a246-b2b512c3b651",
   "metadata": {},
   "outputs": [],
   "source": [
    "assert sol.highestPeak([[0,1],[0,0]]) == [[1,0],[2,1]]"
   ]
  },
  {
   "cell_type": "code",
   "execution_count": 9,
   "id": "be18ad15-5a36-4109-86b9-1cc03c1680be",
   "metadata": {},
   "outputs": [],
   "source": [
    "assert sol.highestPeak([[0,0,1],[1,0,0],[0,0,0]]) == [[1,1,0],[0,1,1],[1,2,2]]"
   ]
  }
 ],
 "metadata": {
  "kernelspec": {
   "display_name": "Python 3 (ipykernel)",
   "language": "python",
   "name": "python3"
  },
  "language_info": {
   "codemirror_mode": {
    "name": "ipython",
    "version": 3
   },
   "file_extension": ".py",
   "mimetype": "text/x-python",
   "name": "python",
   "nbconvert_exporter": "python",
   "pygments_lexer": "ipython3",
   "version": "3.9.7"
  }
 },
 "nbformat": 4,
 "nbformat_minor": 5
}
