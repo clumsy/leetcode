{
 "cells": [
  {
   "cell_type": "markdown",
   "id": "c578f177-d191-4c3c-b83d-f0bc4f16e499",
   "metadata": {},
   "source": [
    "[Problem 2873](https://leetcode.com/problems/maximum-value-of-an-ordered-triplet-i/description)"
   ]
  },
  {
   "cell_type": "code",
   "execution_count": 1,
   "id": "9acc428e-10f7-4b7d-a222-a96241560748",
   "metadata": {},
   "outputs": [],
   "source": [
    "from typing import List"
   ]
  },
  {
   "cell_type": "code",
   "execution_count": 2,
   "id": "76d80a28-6505-4927-ba25-bf1f4d15dad6",
   "metadata": {},
   "outputs": [],
   "source": [
    "class Solution:\n",
    "    def maximumTripletValue(self, nums: List[int]) -> int:\n",
    "        res = max_ij = max_i = 0\n",
    "        for k in nums:\n",
    "            res = max(res, max_ij * k)\n",
    "            max_ij = max(max_ij, max_i - k)\n",
    "            max_i = max(max_i, k)\n",
    "        return res"
   ]
  },
  {
   "cell_type": "code",
   "execution_count": 3,
   "id": "65c8e130-999a-4e32-bcbd-9741c4834a96",
   "metadata": {},
   "outputs": [],
   "source": [
    "sol = Solution()"
   ]
  },
  {
   "cell_type": "code",
   "execution_count": 4,
   "id": "de23017c-2b5e-48b7-9712-2818ec9fb750",
   "metadata": {},
   "outputs": [],
   "source": [
    "assert sol.maximumTripletValue([12,6,1,2,7]) == 77"
   ]
  },
  {
   "cell_type": "code",
   "execution_count": 5,
   "id": "6a6d7fde-4c2f-4010-a208-ef9c6f5ac822",
   "metadata": {},
   "outputs": [],
   "source": [
    "assert sol.maximumTripletValue([1,10,3,4,19]) == 133"
   ]
  },
  {
   "cell_type": "code",
   "execution_count": 6,
   "id": "881e3aaf-6c65-45e6-b9e8-c393b9d74104",
   "metadata": {},
   "outputs": [],
   "source": [
    "assert sol.maximumTripletValue([1,2,3]) == 0"
   ]
  }
 ],
 "metadata": {
  "kernelspec": {
   "display_name": "Python 3 (ipykernel)",
   "language": "python",
   "name": "python3"
  },
  "language_info": {
   "codemirror_mode": {
    "name": "ipython",
    "version": 3
   },
   "file_extension": ".py",
   "mimetype": "text/x-python",
   "name": "python",
   "nbconvert_exporter": "python",
   "pygments_lexer": "ipython3",
   "version": "3.9.7"
  }
 },
 "nbformat": 4,
 "nbformat_minor": 5
}
