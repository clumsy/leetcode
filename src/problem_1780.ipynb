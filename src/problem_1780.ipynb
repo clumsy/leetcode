{
 "cells": [
  {
   "cell_type": "markdown",
   "id": "118d70cb-32b9-4917-97b9-8c8911d4d2fd",
   "metadata": {},
   "source": [
    "[Problem 1780](https://leetcode.com/problems/check-if-number-is-a-sum-of-powers-of-three/description)"
   ]
  },
  {
   "cell_type": "code",
   "execution_count": 1,
   "id": "1ff0d98a-a7ae-483b-8ead-2cadba78b765",
   "metadata": {},
   "outputs": [],
   "source": [
    "class Solution:\n",
    "    def checkPowersOfThree(self, n: int) -> bool:\n",
    "        res, seen = False, set()\n",
    "        q = [()]\n",
    "        while q and not res:\n",
    "            for _ in range(len(q)):\n",
    "                cur = q.pop()\n",
    "                s = sum(cur)\n",
    "                if s > n:\n",
    "                    continue\n",
    "                if s == n:\n",
    "                    res = True\n",
    "                    break\n",
    "                seen.add(s)\n",
    "                p = max(cur) * 3 if cur else 1\n",
    "                while p <= n - s:\n",
    "                    q.append((*cur, p))\n",
    "                    p *= 3\n",
    "        return res"
   ]
  },
  {
   "cell_type": "code",
   "execution_count": 2,
   "id": "d189d99d-e50f-4567-b85b-4cef1da4d996",
   "metadata": {},
   "outputs": [],
   "source": [
    "class Solution:\n",
    "    def checkPowersOfThree(self, n: int) -> bool:\n",
    "        # 1 - ok because we can subtract 3^0\n",
    "        # 3 - ok because we can divide all components by 3\n",
    "        # 2 - not ok because all powers have to be unique and we cannot have 2 * 3^0\n",
    "        while n > 0 and n % 3 != 2:\n",
    "            n = n - 1 if n % 3 == 1 else n // 3\n",
    "        res = n == 0\n",
    "        return res"
   ]
  },
  {
   "cell_type": "code",
   "execution_count": 3,
   "id": "6d93ad5d-e89e-46ab-baae-e6bd6118c0c5",
   "metadata": {},
   "outputs": [],
   "source": [
    "sol = Solution()"
   ]
  },
  {
   "cell_type": "code",
   "execution_count": 4,
   "id": "43f8d7d2-529e-4cbb-8a5e-ac8bb0aec39b",
   "metadata": {},
   "outputs": [],
   "source": [
    "assert sol.checkPowersOfThree(12)"
   ]
  },
  {
   "cell_type": "code",
   "execution_count": 5,
   "id": "5371eb71-646d-428a-b2af-e4a7d1b1437d",
   "metadata": {},
   "outputs": [],
   "source": [
    "assert sol.checkPowersOfThree(91)"
   ]
  },
  {
   "cell_type": "code",
   "execution_count": 6,
   "id": "2f37fb51-8166-4ebb-a96c-a807a149248f",
   "metadata": {},
   "outputs": [],
   "source": [
    "assert not sol.checkPowersOfThree(21)"
   ]
  }
 ],
 "metadata": {
  "kernelspec": {
   "display_name": "Python 3 (ipykernel)",
   "language": "python",
   "name": "python3"
  },
  "language_info": {
   "codemirror_mode": {
    "name": "ipython",
    "version": 3
   },
   "file_extension": ".py",
   "mimetype": "text/x-python",
   "name": "python",
   "nbconvert_exporter": "python",
   "pygments_lexer": "ipython3",
   "version": "3.9.7"
  }
 },
 "nbformat": 4,
 "nbformat_minor": 5
}
