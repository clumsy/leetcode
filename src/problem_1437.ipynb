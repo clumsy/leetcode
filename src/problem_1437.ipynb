{
 "cells": [
  {
   "cell_type": "markdown",
   "id": "d15286fb-518b-43f5-8690-8ca4d245f95f",
   "metadata": {},
   "source": [
    "[Problem 1437](https://leetcode.com/problems/check-if-all-1s-are-at-least-length-k-places-away/description)"
   ]
  },
  {
   "cell_type": "code",
   "execution_count": 1,
   "id": "53cfe65c-421e-493d-9e3a-a7201ad70abb",
   "metadata": {},
   "outputs": [],
   "source": [
    "from typing import List"
   ]
  },
  {
   "cell_type": "code",
   "execution_count": 2,
   "id": "d2c29431-e336-4f9c-8060-9af807425edd",
   "metadata": {},
   "outputs": [],
   "source": [
    "class Solution:\n",
    "    def kLengthApart(self, nums: List[int], k: int) -> bool:\n",
    "        res, prev = True, -k - 1\n",
    "        for i, v in enumerate(nums):\n",
    "            if v == 0:\n",
    "                continue\n",
    "            if i - 1 - prev < k:\n",
    "                res = False\n",
    "                break\n",
    "            prev = i\n",
    "        return res"
   ]
  },
  {
   "cell_type": "code",
   "execution_count": 3,
   "id": "f3ec0c8d-0d62-45db-bb44-a91ce69d6953",
   "metadata": {},
   "outputs": [],
   "source": [
    "sol = Solution()"
   ]
  },
  {
   "cell_type": "code",
   "execution_count": 4,
   "id": "637883e5-cf5f-4a58-a35c-21f0c470196f",
   "metadata": {},
   "outputs": [],
   "source": [
    "assert sol.kLengthApart([1,0,0,0,1,0,0,1], 2)"
   ]
  },
  {
   "cell_type": "code",
   "execution_count": 5,
   "id": "b14b823a-e9eb-41dd-8594-18b4f5ef8657",
   "metadata": {},
   "outputs": [],
   "source": [
    "assert not sol.kLengthApart([1,0,0,1,0,1], 2)"
   ]
  }
 ],
 "metadata": {
  "kernelspec": {
   "display_name": "Python 3 (ipykernel)",
   "language": "python",
   "name": "python3"
  },
  "language_info": {
   "codemirror_mode": {
    "name": "ipython",
    "version": 3
   },
   "file_extension": ".py",
   "mimetype": "text/x-python",
   "name": "python",
   "nbconvert_exporter": "python",
   "pygments_lexer": "ipython3",
   "version": "3.9.7"
  }
 },
 "nbformat": 4,
 "nbformat_minor": 5
}
