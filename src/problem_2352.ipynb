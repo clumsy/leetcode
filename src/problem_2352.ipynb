{
 "cells": [
  {
   "cell_type": "markdown",
   "id": "ca72213c-8405-465e-92ab-fc8d2222f756",
   "metadata": {},
   "source": [
    "[Problem 2352](https://leetcode.com/problems/equal-row-and-column-pairs/description)"
   ]
  },
  {
   "cell_type": "code",
   "execution_count": 6,
   "id": "40b916fa-9678-40f1-b732-34e4eaa9da1d",
   "metadata": {},
   "outputs": [],
   "source": [
    "from typing import List\n",
    "from collections import Counter"
   ]
  },
  {
   "cell_type": "code",
   "execution_count": 7,
   "id": "41d2bd1f-a74d-49c8-bbb1-a178039e1a22",
   "metadata": {},
   "outputs": [],
   "source": [
    "class Solution:\n",
    "    def equalPairs(self, grid: List[List[int]]) -> int:\n",
    "        res = 0\n",
    "        cnt = Counter(tuple(row) for row in grid)\n",
    "        for col in zip(*grid):\n",
    "            res += cnt[col]\n",
    "        return res"
   ]
  },
  {
   "cell_type": "code",
   "execution_count": 8,
   "id": "b617bd16-8bfa-41d0-8af7-5b9ee23641f0",
   "metadata": {},
   "outputs": [],
   "source": [
    "sol = Solution()"
   ]
  },
  {
   "cell_type": "code",
   "execution_count": 9,
   "id": "e101a203-794d-4df8-9510-75887b886444",
   "metadata": {},
   "outputs": [],
   "source": [
    "assert sol.equalPairs([[3,2,1],[1,7,6],[2,7,7]]) == 1"
   ]
  },
  {
   "cell_type": "code",
   "execution_count": 10,
   "id": "282c4348-bebc-4513-92eb-82cdcced4876",
   "metadata": {},
   "outputs": [],
   "source": [
    "assert sol.equalPairs([[3,1,2,2],[1,4,4,5],[2,4,2,2],[2,4,2,2]]) == 3"
   ]
  }
 ],
 "metadata": {
  "kernelspec": {
   "display_name": "Python 3 (ipykernel)",
   "language": "python",
   "name": "python3"
  },
  "language_info": {
   "codemirror_mode": {
    "name": "ipython",
    "version": 3
   },
   "file_extension": ".py",
   "mimetype": "text/x-python",
   "name": "python",
   "nbconvert_exporter": "python",
   "pygments_lexer": "ipython3",
   "version": "3.9.7"
  }
 },
 "nbformat": 4,
 "nbformat_minor": 5
}
