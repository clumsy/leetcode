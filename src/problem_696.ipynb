{
 "cells": [
  {
   "cell_type": "markdown",
   "id": "a8ceead6-0779-4c07-b5dc-cb857e73a20c",
   "metadata": {},
   "source": [
    "[Problem 696](https://leetcode.com/problems/count-binary-substrings/description)"
   ]
  },
  {
   "cell_type": "code",
   "execution_count": 1,
   "id": "c5b4fd2f-6730-4303-9700-4237f5804930",
   "metadata": {},
   "outputs": [],
   "source": [
    "class Solution:\n",
    "    def countBinarySubstrings(self, s: str) -> int:\n",
    "        res = b = fst = 0\n",
    "        n = len(s)\n",
    "        while b < n:\n",
    "            e = b\n",
    "            while e < n and s[b] == s[e]:\n",
    "                e += 1\n",
    "            snd = e - b\n",
    "            res += min(fst, snd)\n",
    "            fst, b = snd, e\n",
    "        return res"
   ]
  },
  {
   "cell_type": "code",
   "execution_count": 2,
   "id": "e7358217-4dc0-490f-ac29-36b250ad3cba",
   "metadata": {},
   "outputs": [],
   "source": [
    "sol = Solution()"
   ]
  },
  {
   "cell_type": "code",
   "execution_count": 3,
   "id": "599ff206-abf2-4d44-8d6e-efa4cbc9dfd9",
   "metadata": {},
   "outputs": [],
   "source": [
    "assert sol.countBinarySubstrings(\"00110011\") == 6"
   ]
  },
  {
   "cell_type": "code",
   "execution_count": 4,
   "id": "bd233303-5250-4d4b-b519-4fee0ced9a51",
   "metadata": {},
   "outputs": [],
   "source": [
    "assert sol.countBinarySubstrings(\"10101\") == 4"
   ]
  }
 ],
 "metadata": {
  "kernelspec": {
   "display_name": "Python 3 (ipykernel)",
   "language": "python",
   "name": "python3"
  },
  "language_info": {
   "codemirror_mode": {
    "name": "ipython",
    "version": 3
   },
   "file_extension": ".py",
   "mimetype": "text/x-python",
   "name": "python",
   "nbconvert_exporter": "python",
   "pygments_lexer": "ipython3",
   "version": "3.9.7"
  }
 },
 "nbformat": 4,
 "nbformat_minor": 5
}
