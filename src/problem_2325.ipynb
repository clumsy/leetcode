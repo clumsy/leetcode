{
 "cells": [
  {
   "cell_type": "markdown",
   "id": "d0230054-1355-44a0-b3cd-e72b096f4356",
   "metadata": {},
   "source": [
    "[Problem 2325](https://leetcode.com/problems/decode-the-message/description)"
   ]
  },
  {
   "cell_type": "code",
   "execution_count": 1,
   "id": "f1cdc21f-3db5-46b1-b4c4-ebf78d23f98a",
   "metadata": {},
   "outputs": [],
   "source": [
    "class Solution:\n",
    "    def decodeMessage(self, key: str, message: str) -> str:\n",
    "        table = {\" \": \" \"}\n",
    "        for c in key:\n",
    "            if c not in table:\n",
    "                table[c] = chr(ord(\"a\") + len(table) - 1)\n",
    "        res = \"\".join(table[c] for c in message)\n",
    "        return res"
   ]
  },
  {
   "cell_type": "code",
   "execution_count": 2,
   "id": "804ee778-30d1-457b-a81c-1421b6e34f74",
   "metadata": {},
   "outputs": [],
   "source": [
    "sol = Solution()"
   ]
  },
  {
   "cell_type": "code",
   "execution_count": 3,
   "id": "8c43110b-eec0-45f1-8c1c-7ff8c10213f4",
   "metadata": {},
   "outputs": [],
   "source": [
    "assert sol.decodeMessage(\"the quick brown fox jumps over the lazy dog\", \"vkbs bs t suepuv\") == \"this is a secret\""
   ]
  },
  {
   "cell_type": "code",
   "execution_count": 4,
   "id": "59772c4f-4a6c-49e2-8ce9-e22355c6c157",
   "metadata": {},
   "outputs": [],
   "source": [
    "assert sol.decodeMessage(\"eljuxhpwnyrdgtqkviszcfmabo\", \"zwx hnfx lqantp mnoeius ycgk vcnjrdb\") == \"the five boxing wizards jump quickly\""
   ]
  }
 ],
 "metadata": {
  "kernelspec": {
   "display_name": "Python 3 (ipykernel)",
   "language": "python",
   "name": "python3"
  },
  "language_info": {
   "codemirror_mode": {
    "name": "ipython",
    "version": 3
   },
   "file_extension": ".py",
   "mimetype": "text/x-python",
   "name": "python",
   "nbconvert_exporter": "python",
   "pygments_lexer": "ipython3",
   "version": "3.9.7"
  }
 },
 "nbformat": 4,
 "nbformat_minor": 5
}
