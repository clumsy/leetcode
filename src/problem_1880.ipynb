{
 "cells": [
  {
   "cell_type": "markdown",
   "id": "8a5d42d9-aac2-491c-b762-9dfb98b27a42",
   "metadata": {},
   "source": [
    "[Problem 1880](https://leetcode.com/problems/check-if-word-equals-summation-of-two-words/description)"
   ]
  },
  {
   "cell_type": "code",
   "execution_count": 1,
   "id": "1942aed3-9658-40bd-b0eb-88576382e13a",
   "metadata": {},
   "outputs": [],
   "source": [
    "class Solution:\n",
    "    def isSumEqual(self, f: str, s: str, t: str) -> bool:\n",
    "        def num(p):\n",
    "            return int(\"\".join(str(ord(c) - ord(\"a\")) for c in p))\n",
    "        res = num(f) + num(s) == num(t)\n",
    "        return res"
   ]
  },
  {
   "cell_type": "code",
   "execution_count": 2,
   "id": "f69d5c98-e493-4f80-8a91-eb59b0de11d4",
   "metadata": {},
   "outputs": [],
   "source": [
    "sol = Solution()"
   ]
  },
  {
   "cell_type": "code",
   "execution_count": 3,
   "id": "7d9bd650-dc24-4b80-b71b-5eb519c2e4a1",
   "metadata": {},
   "outputs": [],
   "source": [
    "assert sol.isSumEqual(\"acb\", \"cba\", \"cdb\")"
   ]
  },
  {
   "cell_type": "code",
   "execution_count": 4,
   "id": "64190c2b-e600-4b54-935a-fdc9e497dff0",
   "metadata": {},
   "outputs": [],
   "source": [
    "assert not sol.isSumEqual(\"aaa\", \"a\", \"aab\")"
   ]
  },
  {
   "cell_type": "code",
   "execution_count": 5,
   "id": "94e8a9cb-4518-4252-af9f-664c3e431eff",
   "metadata": {},
   "outputs": [],
   "source": [
    "assert sol.isSumEqual(\"aaa\", \"a\", \"aaaa\")"
   ]
  }
 ],
 "metadata": {
  "kernelspec": {
   "display_name": "Python 3 (ipykernel)",
   "language": "python",
   "name": "python3"
  },
  "language_info": {
   "codemirror_mode": {
    "name": "ipython",
    "version": 3
   },
   "file_extension": ".py",
   "mimetype": "text/x-python",
   "name": "python",
   "nbconvert_exporter": "python",
   "pygments_lexer": "ipython3",
   "version": "3.9.7"
  }
 },
 "nbformat": 4,
 "nbformat_minor": 5
}
