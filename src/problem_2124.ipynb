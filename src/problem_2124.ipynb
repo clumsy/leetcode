{
 "cells": [
  {
   "cell_type": "markdown",
   "id": "6cdd37f4-9b4b-48dc-982c-57d0d011a714",
   "metadata": {},
   "source": [
    "[Problem 2124](https://leetcode.com/problems/check-if-all-as-appears-before-all-bs/description)"
   ]
  },
  {
   "cell_type": "code",
   "execution_count": 5,
   "id": "71b1fd72-636f-402f-b5e4-e6ed7d95268c",
   "metadata": {},
   "outputs": [],
   "source": [
    "class Solution:\n",
    "    def checkString(self, s: str) -> bool:\n",
    "        return \"ba\" not in s"
   ]
  },
  {
   "cell_type": "code",
   "execution_count": 6,
   "id": "284e715b-e546-40c2-8a26-fcd52cda5754",
   "metadata": {},
   "outputs": [],
   "source": [
    "sol = Solution()"
   ]
  },
  {
   "cell_type": "code",
   "execution_count": 7,
   "id": "9e0ead95-dffa-436e-8edd-c13c7bc732fe",
   "metadata": {},
   "outputs": [],
   "source": [
    "assert sol.checkString(\"aaabbb\")"
   ]
  },
  {
   "cell_type": "code",
   "execution_count": 8,
   "id": "3bb064cd-f2f1-4ec5-943e-f36a3da8a0df",
   "metadata": {},
   "outputs": [],
   "source": [
    "assert not sol.checkString(\"abab\")"
   ]
  },
  {
   "cell_type": "code",
   "execution_count": 9,
   "id": "e4c0956c-b769-4fd2-b6c4-672032174254",
   "metadata": {},
   "outputs": [],
   "source": [
    "assert sol.checkString(\"bbb\")"
   ]
  }
 ],
 "metadata": {
  "kernelspec": {
   "display_name": "Python 3 (ipykernel)",
   "language": "python",
   "name": "python3"
  },
  "language_info": {
   "codemirror_mode": {
    "name": "ipython",
    "version": 3
   },
   "file_extension": ".py",
   "mimetype": "text/x-python",
   "name": "python",
   "nbconvert_exporter": "python",
   "pygments_lexer": "ipython3",
   "version": "3.9.7"
  }
 },
 "nbformat": 4,
 "nbformat_minor": 5
}
