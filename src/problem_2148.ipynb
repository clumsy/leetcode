{
 "cells": [
  {
   "cell_type": "markdown",
   "id": "6299ec83-0f7e-4579-9496-3612492ffcd0",
   "metadata": {},
   "source": [
    "[Problem 2148](https://leetcode.com/problems/count-elements-with-strictly-smaller-and-greater-elements/description)"
   ]
  },
  {
   "cell_type": "code",
   "execution_count": 12,
   "id": "08fb4837-59d0-4f5c-9ae5-8365448ef8ae",
   "metadata": {},
   "outputs": [],
   "source": [
    "from typing import List\n",
    "from math import inf"
   ]
  },
  {
   "cell_type": "code",
   "execution_count": 13,
   "id": "7bb32a80-784c-40f7-9a5c-43958ffe70c9",
   "metadata": {},
   "outputs": [],
   "source": [
    "class Solution:\n",
    "    def countElements(self, nums: List[int]) -> int:\n",
    "        nums.sort()\n",
    "        res, n = 0, len(nums)\n",
    "        lo = cur = 0\n",
    "        while cur + 1 < n:\n",
    "            while lo + 1 < n and nums[lo] == nums[lo + 1]:\n",
    "                lo += 1\n",
    "            cur = min(n - 1, lo + 1)\n",
    "            while cur + 1 < n and nums[cur] == nums[cur + 1]:\n",
    "                cur += 1\n",
    "            hi = min(n - 1, cur + 1)\n",
    "            while hi + 1 < n and nums[hi] == nums[hi + 1]:\n",
    "                hi += 1\n",
    "            if nums[lo] < nums[cur] < nums[hi]:\n",
    "                res += cur - lo\n",
    "            lo, cur = cur, hi\n",
    "        return res"
   ]
  },
  {
   "cell_type": "code",
   "execution_count": 14,
   "id": "c31a8c26-1b98-4fa9-899e-2aa5f8848db0",
   "metadata": {},
   "outputs": [],
   "source": [
    "class Solution:\n",
    "    def countElements(self, nums: List[int]) -> int:\n",
    "        res, n = 0, len(nums)\n",
    "        mi, num_mi, ma, num_ma = inf, 0, -inf, 0\n",
    "        for i in nums:\n",
    "            if i < mi:\n",
    "                mi, num_mi = i, 0\n",
    "            num_mi += i == mi\n",
    "            if i > ma:\n",
    "                ma, num_ma = i, 0\n",
    "            num_ma += i == ma\n",
    "        res = max(0, n - num_mi - num_ma)\n",
    "        return res"
   ]
  },
  {
   "cell_type": "code",
   "execution_count": 15,
   "id": "f323b26e-e0d7-4a9f-b971-f9119d97904c",
   "metadata": {},
   "outputs": [],
   "source": [
    "sol = Solution()"
   ]
  },
  {
   "cell_type": "code",
   "execution_count": 16,
   "id": "e35f54a9-225e-47bb-867f-f4933b246029",
   "metadata": {},
   "outputs": [],
   "source": [
    "assert sol.countElements([11,7,2,15]) == 2"
   ]
  },
  {
   "cell_type": "code",
   "execution_count": 17,
   "id": "46fc112f-49ec-4568-a1d5-1c6206e17f41",
   "metadata": {},
   "outputs": [],
   "source": [
    "assert sol.countElements([-3,3,3,90]) == 2"
   ]
  }
 ],
 "metadata": {
  "kernelspec": {
   "display_name": "Python 3 (ipykernel)",
   "language": "python",
   "name": "python3"
  },
  "language_info": {
   "codemirror_mode": {
    "name": "ipython",
    "version": 3
   },
   "file_extension": ".py",
   "mimetype": "text/x-python",
   "name": "python",
   "nbconvert_exporter": "python",
   "pygments_lexer": "ipython3",
   "version": "3.9.7"
  }
 },
 "nbformat": 4,
 "nbformat_minor": 5
}
