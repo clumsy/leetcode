{
 "cells": [
  {
   "cell_type": "markdown",
   "id": "f7315253-8813-4af3-b78d-749e11fe1dbb",
   "metadata": {},
   "source": [
    "[Problem 2131](https://leetcode.com/problems/maximum-twin-sum-of-a-linked-list/description)"
   ]
  },
  {
   "cell_type": "code",
   "execution_count": 4,
   "id": "f26a5638-b171-47d4-b365-16a6c82ab0cb",
   "metadata": {},
   "outputs": [],
   "source": [
    "from typing import List, Optional"
   ]
  },
  {
   "cell_type": "code",
   "execution_count": 5,
   "id": "1b8cbd80-0bef-46de-8075-056d455d77f3",
   "metadata": {},
   "outputs": [],
   "source": [
    "class ListNode:\n",
    "    def __init__(self, val=0, next=None):\n",
    "        self.val = val\n",
    "        self.next = next"
   ]
  },
  {
   "cell_type": "code",
   "execution_count": 24,
   "id": "57defd20-d9e4-4717-917b-d8cada278253",
   "metadata": {},
   "outputs": [],
   "source": [
    "class Solution:\n",
    "    def pairSum(self, head: Optional[ListNode]) -> int:\n",
    "        slow = fast = head\n",
    "        # find the middle\n",
    "        while fast and fast.next:\n",
    "            slow = slow.next\n",
    "            fast = fast.next.next\n",
    "        # reverse the second part\n",
    "        current, tail = slow, None\n",
    "        while current:\n",
    "            current.next, tail, current = tail, current, current.next\n",
    "        # calculate twin sums\n",
    "        res = 0\n",
    "        while head and tail:\n",
    "            res = max(res, head.val + tail.val)\n",
    "            head, tail = head.next, tail.next\n",
    "        return res"
   ]
  },
  {
   "cell_type": "code",
   "execution_count": 25,
   "id": "8821ac2b-9039-4210-8477-75248ca97695",
   "metadata": {},
   "outputs": [],
   "source": [
    "sol = Solution()"
   ]
  },
  {
   "cell_type": "code",
   "execution_count": 26,
   "id": "daa70475-57ca-4c8e-9f4a-92e22cbf3776",
   "metadata": {},
   "outputs": [],
   "source": [
    "head = ListNode(5, ListNode(4, ListNode(2, ListNode(1))))\n",
    "assert sol.pairSum(head) == 6"
   ]
  },
  {
   "cell_type": "code",
   "execution_count": 27,
   "id": "4db86318-b35d-4606-8d18-4e112350e00b",
   "metadata": {},
   "outputs": [],
   "source": [
    "head = ListNode(4, ListNode(2, ListNode(2, ListNode(3))))\n",
    "assert sol.pairSum(head) == 7"
   ]
  },
  {
   "cell_type": "code",
   "execution_count": 28,
   "id": "94d45f16-1fc2-49d1-a239-a20ed79e7587",
   "metadata": {},
   "outputs": [],
   "source": [
    "head = ListNode(1, ListNode(100000))\n",
    "assert sol.pairSum(head) == 100001"
   ]
  }
 ],
 "metadata": {
  "kernelspec": {
   "display_name": "Python 3 (ipykernel)",
   "language": "python",
   "name": "python3"
  },
  "language_info": {
   "codemirror_mode": {
    "name": "ipython",
    "version": 3
   },
   "file_extension": ".py",
   "mimetype": "text/x-python",
   "name": "python",
   "nbconvert_exporter": "python",
   "pygments_lexer": "ipython3",
   "version": "3.9.7"
  }
 },
 "nbformat": 4,
 "nbformat_minor": 5
}
