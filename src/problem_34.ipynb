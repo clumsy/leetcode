{
 "cells": [
  {
   "cell_type": "markdown",
   "id": "0d27e502-5310-4395-bb92-c7ff6dbd867f",
   "metadata": {},
   "source": [
    "[Problem 34](https://leetcode.com/problems/find-first-and-last-position-of-element-in-sorted-array/)"
   ]
  },
  {
   "cell_type": "code",
   "execution_count": 3,
   "id": "1b90892f-d90d-49c5-a266-44b3c3daad9d",
   "metadata": {},
   "outputs": [],
   "source": [
    "from bisect import bisect_left, bisect_right\n",
    "from typing import List"
   ]
  },
  {
   "cell_type": "code",
   "execution_count": 5,
   "id": "4815b28a-7cd7-453d-86f8-c74283fbc9d1",
   "metadata": {},
   "outputs": [],
   "source": [
    "class Solution:\n",
    "    def searchRange(self, nums: List[int], target: int) -> List[int]:\n",
    "        lo, hi = bisect_left(nums, target), bisect_right(nums, target) - 1\n",
    "        return [lo, hi] if lo <= hi else [-1, -1]"
   ]
  },
  {
   "cell_type": "code",
   "execution_count": 6,
   "id": "78a26530-5320-4096-9e7a-5513fe43c19c",
   "metadata": {},
   "outputs": [],
   "source": [
    "sol = Solution()"
   ]
  },
  {
   "cell_type": "code",
   "execution_count": 7,
   "id": "b4459c6b-430d-4c05-bd75-096cda58b0ae",
   "metadata": {},
   "outputs": [],
   "source": [
    "assert sol.searchRange([5,7,7,8,8,10], 8) == [3,4]"
   ]
  },
  {
   "cell_type": "code",
   "execution_count": 8,
   "id": "48c23480-2f70-4722-ad4d-fe00ed546b49",
   "metadata": {},
   "outputs": [],
   "source": [
    "assert sol.searchRange([5,7,7,8,8,10], 6) == [-1,-1]"
   ]
  },
  {
   "cell_type": "code",
   "execution_count": 9,
   "id": "9b472af6-929d-4392-a81e-594036e2ebff",
   "metadata": {},
   "outputs": [],
   "source": [
    "assert sol.searchRange([], 0) == [-1,-1]"
   ]
  }
 ],
 "metadata": {
  "kernelspec": {
   "display_name": "Python 3 (ipykernel)",
   "language": "python",
   "name": "python3"
  },
  "language_info": {
   "codemirror_mode": {
    "name": "ipython",
    "version": 3
   },
   "file_extension": ".py",
   "mimetype": "text/x-python",
   "name": "python",
   "nbconvert_exporter": "python",
   "pygments_lexer": "ipython3",
   "version": "3.9.7"
  }
 },
 "nbformat": 4,
 "nbformat_minor": 5
}
