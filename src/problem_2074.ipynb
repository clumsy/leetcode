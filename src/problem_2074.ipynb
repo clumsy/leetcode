{
 "cells": [
  {
   "cell_type": "markdown",
   "id": "7baa8a18-fd95-4388-8970-488569c60566",
   "metadata": {},
   "source": [
    "[Problem 2074](https://leetcode.com/problems/reverse-nodes-in-even-length-groups/description)"
   ]
  },
  {
   "cell_type": "code",
   "execution_count": 1,
   "id": "b0c1b410-be02-49cd-b179-3bb3c35f39df",
   "metadata": {},
   "outputs": [],
   "source": [
    "# Definition for singly-linked list.\n",
    "class ListNode:\n",
    "    def __init__(self, val=0, next=None):\n",
    "        self.val = val\n",
    "        self.next = next\n",
    "\n",
    "    def __eq__(self, other):\n",
    "        return other and self.val == other.val and self.next == other.next"
   ]
  },
  {
   "cell_type": "code",
   "execution_count": 2,
   "id": "ab92db7a-5ad6-4cc6-8ce6-aee1bf4dbf4e",
   "metadata": {},
   "outputs": [],
   "source": [
    "from typing import Optional"
   ]
  },
  {
   "cell_type": "code",
   "execution_count": 3,
   "id": "869c09ef-450c-43e2-bea5-866ee2d772ae",
   "metadata": {},
   "outputs": [],
   "source": [
    "class Solution:\n",
    "    def reverseEvenLengthGroups(self, head: Optional[ListNode]) -> Optional[ListNode]:\n",
    "        p, k, start = 42, 1, ListNode(next=head)\n",
    "        while start:\n",
    "            p, end = 0, start\n",
    "            while p < k and end:\n",
    "                p += end.next is not None\n",
    "                end = end.next\n",
    "            if p & 1 == 0:\n",
    "                prv, cur = end.next if end else None, start.next\n",
    "                while p:\n",
    "                    nxt = cur.next if cur else None\n",
    "                    if cur:\n",
    "                        cur.next = prv\n",
    "                    cur, prv = nxt, cur\n",
    "                    p -= 1\n",
    "                start.next, start = prv, start.next\n",
    "            else:\n",
    "                start = end\n",
    "            k += 1\n",
    "        res = head\n",
    "        return res"
   ]
  },
  {
   "cell_type": "code",
   "execution_count": 4,
   "id": "cfabfb6a-068f-4ccb-848e-5df1ef928d42",
   "metadata": {},
   "outputs": [],
   "source": [
    "sol = Solution()"
   ]
  },
  {
   "cell_type": "code",
   "execution_count": 5,
   "id": "ef23f1e7-2ea5-4170-8748-6321f9f38e84",
   "metadata": {},
   "outputs": [],
   "source": [
    "def as_list(vals):\n",
    "    head = cur = ListNode()\n",
    "    for i in vals:\n",
    "        cur.next = ListNode(i)\n",
    "        cur = cur.next\n",
    "    return head.next"
   ]
  },
  {
   "cell_type": "code",
   "execution_count": 6,
   "id": "ba53df2e-b7f9-4abf-828d-6781216faf3a",
   "metadata": {},
   "outputs": [],
   "source": [
    "assert sol.reverseEvenLengthGroups(as_list([5,2,6,3,9,1,7,3,8,4])) == as_list([5,6,2,3,9,1,4,8,3,7])"
   ]
  },
  {
   "cell_type": "code",
   "execution_count": 7,
   "id": "f7486bec-b1d5-4c93-819b-ab75c4e12e31",
   "metadata": {},
   "outputs": [],
   "source": [
    "assert sol.reverseEvenLengthGroups(as_list([1,1,0,6])) == as_list([1,0,1,6])"
   ]
  },
  {
   "cell_type": "code",
   "execution_count": 8,
   "id": "ef57fbec-1d67-41e4-a162-1e7b42126a2d",
   "metadata": {},
   "outputs": [],
   "source": [
    "assert sol.reverseEvenLengthGroups(as_list([1,1,0,6,5])) == as_list([1,0,1,5,6])"
   ]
  }
 ],
 "metadata": {
  "kernelspec": {
   "display_name": "Python 3 (ipykernel)",
   "language": "python",
   "name": "python3"
  },
  "language_info": {
   "codemirror_mode": {
    "name": "ipython",
    "version": 3
   },
   "file_extension": ".py",
   "mimetype": "text/x-python",
   "name": "python",
   "nbconvert_exporter": "python",
   "pygments_lexer": "ipython3",
   "version": "3.9.7"
  }
 },
 "nbformat": 4,
 "nbformat_minor": 5
}
