{
 "cells": [
  {
   "cell_type": "markdown",
   "id": "e77b3c00-0b08-4c9a-b0e5-834e392256f3",
   "metadata": {},
   "source": [
    "[Problem 540](https://leetcode.com/problems/single-element-in-a-sorted-array/)"
   ]
  },
  {
   "cell_type": "code",
   "execution_count": 1,
   "id": "53f1aac5-d09f-402e-93ad-81f31076406e",
   "metadata": {},
   "outputs": [],
   "source": [
    "from typing import List"
   ]
  },
  {
   "cell_type": "code",
   "execution_count": 6,
   "id": "5afef48e-21d8-4fb9-9414-6f2e94d65f92",
   "metadata": {},
   "outputs": [],
   "source": [
    "class Solution:\n",
    "    def singleNonDuplicate(self, nums: List[int]) -> int:\n",
    "        lo, hi = 0, len(nums) - 1\n",
    "        while lo < hi:\n",
    "            mid = (lo + hi) // 2\n",
    "            if nums[mid] == nums[mid ^ 1]:\n",
    "                lo = mid + 1\n",
    "            else:\n",
    "                hi = mid\n",
    "        return nums[lo]"
   ]
  },
  {
   "cell_type": "code",
   "execution_count": 7,
   "id": "76870197-8a70-4bb2-8af5-f41287db5c6e",
   "metadata": {},
   "outputs": [],
   "source": [
    "sol = Solution()"
   ]
  },
  {
   "cell_type": "code",
   "execution_count": 8,
   "id": "f1ce981c-7618-46b9-8ae3-1826f9ff34ce",
   "metadata": {},
   "outputs": [],
   "source": [
    "assert sol.singleNonDuplicate([1,1,2,3,3,4,4,8,8]) == 2"
   ]
  },
  {
   "cell_type": "code",
   "execution_count": 9,
   "id": "c306e9eb-3cf4-4fc1-ab7a-7b67a9f7706c",
   "metadata": {},
   "outputs": [],
   "source": [
    "assert sol.singleNonDuplicate([3,3,7,7,10,11,11]) == 10"
   ]
  }
 ],
 "metadata": {
  "kernelspec": {
   "display_name": "Python 3 (ipykernel)",
   "language": "python",
   "name": "python3"
  },
  "language_info": {
   "codemirror_mode": {
    "name": "ipython",
    "version": 3
   },
   "file_extension": ".py",
   "mimetype": "text/x-python",
   "name": "python",
   "nbconvert_exporter": "python",
   "pygments_lexer": "ipython3",
   "version": "3.9.7"
  }
 },
 "nbformat": 4,
 "nbformat_minor": 5
}
