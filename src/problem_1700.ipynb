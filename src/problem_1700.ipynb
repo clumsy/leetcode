{
 "cells": [
  {
   "cell_type": "markdown",
   "id": "c035cb19-5913-4bef-9038-d6a967995cfc",
   "metadata": {},
   "source": [
    "[Problem 1700](https://leetcode.com/problems/number-of-students-unable-to-eat-lunch/description)"
   ]
  },
  {
   "cell_type": "code",
   "execution_count": 1,
   "id": "7b9d59b5-d362-4078-8e76-3b88335418bf",
   "metadata": {},
   "outputs": [],
   "source": [
    "from typing import List\n",
    "from collections import Counter"
   ]
  },
  {
   "cell_type": "code",
   "execution_count": 2,
   "id": "d66ef0d4-e326-44b0-b065-b5acb6084a18",
   "metadata": {},
   "outputs": [],
   "source": [
    "class Solution:\n",
    "    def countStudents(self, students: List[int], sandwiches: List[int]) -> int:\n",
    "        c_st = Counter(students)\n",
    "        for s in sandwiches:\n",
    "            if c_st.get(s, 0) == 0:\n",
    "                break\n",
    "            c_st[s] -= 1\n",
    "        res = c_st.total()\n",
    "        return res"
   ]
  },
  {
   "cell_type": "code",
   "execution_count": 3,
   "id": "be4a29aa-d71e-4c7f-8dae-a9d8145cbff2",
   "metadata": {},
   "outputs": [],
   "source": [
    "sol = Solution()"
   ]
  },
  {
   "cell_type": "code",
   "execution_count": 4,
   "id": "135bffc8-5191-4875-a68e-8980b6f0db3f",
   "metadata": {},
   "outputs": [],
   "source": [
    "assert sol.countStudents([1,0,1,0], [0,1,0,1]) == 0"
   ]
  },
  {
   "cell_type": "code",
   "execution_count": 5,
   "id": "e197d123-9d11-460f-92ff-0716004fe581",
   "metadata": {},
   "outputs": [],
   "source": [
    "assert sol.countStudents([1,1,1,0,0,1], [1,0,0,0,1,1]) == 3"
   ]
  }
 ],
 "metadata": {
  "kernelspec": {
   "display_name": "Python [conda env:leetcode]",
   "language": "python",
   "name": "conda-env-leetcode-py"
  },
  "language_info": {
   "codemirror_mode": {
    "name": "ipython",
    "version": 3
   },
   "file_extension": ".py",
   "mimetype": "text/x-python",
   "name": "python",
   "nbconvert_exporter": "python",
   "pygments_lexer": "ipython3",
   "version": "3.10.9"
  }
 },
 "nbformat": 4,
 "nbformat_minor": 5
}
