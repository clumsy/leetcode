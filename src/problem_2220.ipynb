{
 "cells": [
  {
   "cell_type": "markdown",
   "id": "d0f0ec27-4d47-487a-965e-30aebd5f4d82",
   "metadata": {},
   "source": [
    "[Problem 2220](https://leetcode.com/problems/minimum-bit-flips-to-convert-number/description)"
   ]
  },
  {
   "cell_type": "code",
   "execution_count": 1,
   "id": "5892fcdb-6ed7-44de-bcfa-a9f5d9a1acca",
   "metadata": {},
   "outputs": [],
   "source": [
    "class Solution:\n",
    "    def minBitFlips(self, start: int, goal: int) -> int:\n",
    "        x, res = start ^ goal, 0\n",
    "        while x:\n",
    "            res += 1\n",
    "            x -= x & -x\n",
    "        return res"
   ]
  },
  {
   "cell_type": "code",
   "execution_count": 2,
   "id": "3481d8d3-4bf2-462d-977d-e589d06d155d",
   "metadata": {},
   "outputs": [],
   "source": [
    "sol = Solution()"
   ]
  },
  {
   "cell_type": "code",
   "execution_count": 3,
   "id": "e9449806-9c32-428e-ba06-035be7041235",
   "metadata": {},
   "outputs": [],
   "source": [
    "assert sol.minBitFlips(10, 7) == 3"
   ]
  },
  {
   "cell_type": "code",
   "execution_count": 4,
   "id": "22cdb614-efcd-4429-ab58-bfad959d1014",
   "metadata": {},
   "outputs": [],
   "source": [
    "assert sol.minBitFlips(3, 4) == 3"
   ]
  }
 ],
 "metadata": {
  "kernelspec": {
   "display_name": "Python 3 (ipykernel)",
   "language": "python",
   "name": "python3"
  },
  "language_info": {
   "codemirror_mode": {
    "name": "ipython",
    "version": 3
   },
   "file_extension": ".py",
   "mimetype": "text/x-python",
   "name": "python",
   "nbconvert_exporter": "python",
   "pygments_lexer": "ipython3",
   "version": "3.9.7"
  }
 },
 "nbformat": 4,
 "nbformat_minor": 5
}
