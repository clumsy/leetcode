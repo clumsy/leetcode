{
 "cells": [
  {
   "cell_type": "markdown",
   "id": "74695578-9460-4503-a05f-58ae86fd4b76",
   "metadata": {},
   "source": [
    "[Problem 1894](https://leetcode.com/problems/find-the-student-that-will-replace-the-chalk/)"
   ]
  },
  {
   "cell_type": "code",
   "execution_count": 6,
   "id": "a9a9a42a-ad6e-4ea0-a041-b49fb80f6cb5",
   "metadata": {},
   "outputs": [],
   "source": [
    "from typing import List\n",
    "from bisect import bisect_right"
   ]
  },
  {
   "cell_type": "code",
   "execution_count": 7,
   "id": "d2d9f6ed-7949-4272-98f5-3bbacf675878",
   "metadata": {},
   "outputs": [],
   "source": [
    "class Solution:\n",
    "    def chalkReplacer(self, chalk: List[int], k: int) -> int:\n",
    "        for i in range(len(chalk) - 1):\n",
    "            chalk[i + 1] += chalk[i]\n",
    "        k %= chalk[-1]\n",
    "        res = bisect_right(chalk, k)\n",
    "        return res"
   ]
  },
  {
   "cell_type": "code",
   "execution_count": 8,
   "id": "7662a844-e20e-44ec-a078-7f98c785189f",
   "metadata": {},
   "outputs": [],
   "source": [
    "sol = Solution()"
   ]
  },
  {
   "cell_type": "code",
   "execution_count": 9,
   "id": "c76f7e62-512f-43b4-8377-262fb088add1",
   "metadata": {},
   "outputs": [],
   "source": [
    "assert sol.chalkReplacer([5,1,5], 22) == 0"
   ]
  },
  {
   "cell_type": "code",
   "execution_count": 10,
   "id": "7e93aee5-37d3-487e-8942-18e5949d763e",
   "metadata": {},
   "outputs": [],
   "source": [
    "assert sol.chalkReplacer([3,4,1,2], 25) == 1"
   ]
  }
 ],
 "metadata": {
  "kernelspec": {
   "display_name": "Python 3 (ipykernel)",
   "language": "python",
   "name": "python3"
  },
  "language_info": {
   "codemirror_mode": {
    "name": "ipython",
    "version": 3
   },
   "file_extension": ".py",
   "mimetype": "text/x-python",
   "name": "python",
   "nbconvert_exporter": "python",
   "pygments_lexer": "ipython3",
   "version": "3.9.7"
  }
 },
 "nbformat": 4,
 "nbformat_minor": 5
}
