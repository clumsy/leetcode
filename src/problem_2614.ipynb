{
 "cells": [
  {
   "cell_type": "markdown",
   "id": "5511e89c-4e18-4520-8769-4e3028e33296",
   "metadata": {},
   "source": [
    "[Problem 2614](https://leetcode.com/problems/prime-in-diagonal/description)"
   ]
  },
  {
   "cell_type": "code",
   "execution_count": 1,
   "id": "ab6bca21-5794-441e-9a63-5214236fb06b",
   "metadata": {},
   "outputs": [],
   "source": [
    "from typing import List"
   ]
  },
  {
   "cell_type": "code",
   "execution_count": 2,
   "id": "535d3c9e-772d-438d-8360-bab2f8197ce6",
   "metadata": {},
   "outputs": [],
   "source": [
    "class Solution:\n",
    "    def diagonalPrime(self, nums: List[List[int]]) -> int:\n",
    "        MAX = max(max(r) for r in nums) + 1\n",
    "        prime = [True] * MAX\n",
    "        prime[1] = False\n",
    "        for i in range(2, MAX):\n",
    "            if prime[i]:\n",
    "                for j in range(2, MAX):\n",
    "                    if i * j >= MAX:\n",
    "                        break\n",
    "                    prime[i * j] = False\n",
    "        n, res = len(nums), 0\n",
    "        for i in range(n):\n",
    "            e = nums[i][i]\n",
    "            if e > res and prime[e]:\n",
    "                res = e\n",
    "            e = nums[i][n - 1 - i]\n",
    "            if e > res and prime[e]:\n",
    "                res = e\n",
    "        return res"
   ]
  },
  {
   "cell_type": "code",
   "execution_count": 3,
   "id": "0505aaa7-abf7-4582-9de9-ef3920d4680f",
   "metadata": {},
   "outputs": [],
   "source": [
    "sol = Solution()"
   ]
  },
  {
   "cell_type": "code",
   "execution_count": 4,
   "id": "86bfec7e-5778-4c57-bb25-0309ae684831",
   "metadata": {},
   "outputs": [],
   "source": [
    "assert sol.diagonalPrime([[1,2,3],[5,6,7],[9,10,11]]) == 11"
   ]
  },
  {
   "cell_type": "code",
   "execution_count": 5,
   "id": "ba3aa549-d54d-4022-ab2b-e36c700a5ac8",
   "metadata": {},
   "outputs": [],
   "source": [
    "assert sol.diagonalPrime([[1,2,3],[5,17,7],[9,11,10]]) == 17"
   ]
  }
 ],
 "metadata": {
  "kernelspec": {
   "display_name": "Python 3 (ipykernel)",
   "language": "python",
   "name": "python3"
  },
  "language_info": {
   "codemirror_mode": {
    "name": "ipython",
    "version": 3
   },
   "file_extension": ".py",
   "mimetype": "text/x-python",
   "name": "python",
   "nbconvert_exporter": "python",
   "pygments_lexer": "ipython3",
   "version": "3.9.7"
  }
 },
 "nbformat": 4,
 "nbformat_minor": 5
}
