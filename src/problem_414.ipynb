{
 "cells": [
  {
   "cell_type": "markdown",
   "id": "22f0a08c-a0df-4f49-a38f-3b00ad6011b1",
   "metadata": {},
   "source": [
    "[Problem 414](https://leetcode.com/problems/third-maximum-number/description)"
   ]
  },
  {
   "cell_type": "code",
   "execution_count": 1,
   "id": "49f19488-6e83-442d-ace7-24a51f5cc016",
   "metadata": {},
   "outputs": [],
   "source": [
    "from typing import List\n",
    "from heapq import heappush, heappop"
   ]
  },
  {
   "cell_type": "code",
   "execution_count": 2,
   "id": "37e12b57-19d9-4461-9ede-2ea345f9dbfe",
   "metadata": {},
   "outputs": [],
   "source": [
    "class Solution:\n",
    "    def thirdMax(self, nums: List[int]) -> int:\n",
    "        q = []\n",
    "        for i in nums:\n",
    "            if i not in q:\n",
    "                heappush(q, i)\n",
    "                if len(q) > 3:\n",
    "                    heappop(q)\n",
    "        res = heappop(q) if len(q) == 3 else max(q)\n",
    "        return res"
   ]
  },
  {
   "cell_type": "code",
   "execution_count": 3,
   "id": "83f1adde-194b-4e61-b6e0-84f69e11a598",
   "metadata": {},
   "outputs": [],
   "source": [
    "sol = Solution()"
   ]
  },
  {
   "cell_type": "code",
   "execution_count": 4,
   "id": "58b03f30-aded-45bb-91b7-96416eb5a817",
   "metadata": {},
   "outputs": [],
   "source": [
    "assert sol.thirdMax([3,2,1]) == 1"
   ]
  },
  {
   "cell_type": "code",
   "execution_count": 5,
   "id": "f0bb38df-f8d9-4169-8eac-5fdf61d7e076",
   "metadata": {},
   "outputs": [],
   "source": [
    "assert sol.thirdMax([1,2]) == 2"
   ]
  },
  {
   "cell_type": "code",
   "execution_count": 6,
   "id": "aab7e156-0f08-4774-bdda-f6e26b8cfb6b",
   "metadata": {},
   "outputs": [],
   "source": [
    "assert sol.thirdMax([2,2,3,1]) == 1"
   ]
  }
 ],
 "metadata": {
  "kernelspec": {
   "display_name": "Python 3 (ipykernel)",
   "language": "python",
   "name": "python3"
  },
  "language_info": {
   "codemirror_mode": {
    "name": "ipython",
    "version": 3
   },
   "file_extension": ".py",
   "mimetype": "text/x-python",
   "name": "python",
   "nbconvert_exporter": "python",
   "pygments_lexer": "ipython3",
   "version": "3.9.7"
  }
 },
 "nbformat": 4,
 "nbformat_minor": 5
}
