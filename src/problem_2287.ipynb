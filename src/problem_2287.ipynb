{
 "cells": [
  {
   "cell_type": "markdown",
   "id": "f1ad7b6c-da5e-4152-b011-075018191407",
   "metadata": {},
   "source": [
    "[Problem 2287](https://leetcode.com/problems/rearrange-characters-to-make-target-string/description)"
   ]
  },
  {
   "cell_type": "code",
   "execution_count": 1,
   "id": "c1ba1344-3bf3-4213-9aa7-9cb56703f107",
   "metadata": {},
   "outputs": [],
   "source": [
    "from collections import Counter"
   ]
  },
  {
   "cell_type": "code",
   "execution_count": 2,
   "id": "86ef9de1-60a5-45bd-9bf4-cada0c3aca34",
   "metadata": {},
   "outputs": [],
   "source": [
    "class Solution:\n",
    "    def rearrangeCharacters(self, s: str, target: str) -> int:\n",
    "        res, cnt_s, cnt_t = len(s), Counter(s), Counter(target)\n",
    "        for c in cnt_t:\n",
    "            res = min(res, cnt_s[c] // cnt_t[c])\n",
    "        return res"
   ]
  },
  {
   "cell_type": "code",
   "execution_count": 3,
   "id": "f7825ef6-40de-4bea-8fd5-3b35e985d3ab",
   "metadata": {},
   "outputs": [],
   "source": [
    "sol = Solution()"
   ]
  },
  {
   "cell_type": "code",
   "execution_count": 4,
   "id": "d78f05fc-7430-4eb6-ac81-bdb0d1407e55",
   "metadata": {},
   "outputs": [],
   "source": [
    "assert sol.rearrangeCharacters(\"ilovecodingonleetcode\", \"code\") == 2"
   ]
  },
  {
   "cell_type": "code",
   "execution_count": 5,
   "id": "91132a41-295e-4786-ae3c-8c5c72c72f78",
   "metadata": {},
   "outputs": [],
   "source": [
    "assert sol.rearrangeCharacters(\"abcba\", \"abc\") == 1"
   ]
  }
 ],
 "metadata": {
  "kernelspec": {
   "display_name": "Python 3 (ipykernel)",
   "language": "python",
   "name": "python3"
  },
  "language_info": {
   "codemirror_mode": {
    "name": "ipython",
    "version": 3
   },
   "file_extension": ".py",
   "mimetype": "text/x-python",
   "name": "python",
   "nbconvert_exporter": "python",
   "pygments_lexer": "ipython3",
   "version": "3.9.7"
  }
 },
 "nbformat": 4,
 "nbformat_minor": 5
}
