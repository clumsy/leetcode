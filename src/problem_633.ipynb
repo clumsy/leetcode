{
 "cells": [
  {
   "cell_type": "markdown",
   "id": "8c71997f-c614-406e-861f-758288a03a07",
   "metadata": {},
   "source": [
    "[Problem 633](https://leetcode.com/problems/sum-of-square-numbers/)"
   ]
  },
  {
   "cell_type": "code",
   "execution_count": 8,
   "id": "9be9ae52-610f-4c0e-9d6a-e3ed974c9139",
   "metadata": {},
   "outputs": [],
   "source": [
    "from math import ceil, sqrt\n",
    "from bisect import bisect_left"
   ]
  },
  {
   "cell_type": "code",
   "execution_count": 9,
   "id": "1d285f55-489b-4c19-add6-9010d3ac0bb2",
   "metadata": {},
   "outputs": [],
   "source": [
    "class Solution:\n",
    "    def judgeSquareSum(self, c: int) -> bool:\n",
    "        squares = [i * i for i in range(0, ceil(sqrt(c)) + 1)]\n",
    "        for i in range(len(squares)):\n",
    "            j = bisect_left(squares, c - squares[i], lo=i)\n",
    "            if j < len(squares) and squares[i] + squares[j] == c:\n",
    "                return True\n",
    "        return False"
   ]
  },
  {
   "cell_type": "code",
   "execution_count": 10,
   "id": "2c4f0bba-3c7b-4682-b1fe-5bd53f37a34e",
   "metadata": {},
   "outputs": [],
   "source": [
    "sol = Solution()"
   ]
  },
  {
   "cell_type": "code",
   "execution_count": 11,
   "id": "fda49de6-4779-484a-a977-beaa6136cfab",
   "metadata": {},
   "outputs": [],
   "source": [
    "assert sol.judgeSquareSum(5)"
   ]
  },
  {
   "cell_type": "code",
   "execution_count": 12,
   "id": "a4e360fb-d381-4cac-8acf-80cfd6b47773",
   "metadata": {},
   "outputs": [],
   "source": [
    "assert not sol.judgeSquareSum(3)"
   ]
  }
 ],
 "metadata": {
  "kernelspec": {
   "display_name": "Python 3 (ipykernel)",
   "language": "python",
   "name": "python3"
  },
  "language_info": {
   "codemirror_mode": {
    "name": "ipython",
    "version": 3
   },
   "file_extension": ".py",
   "mimetype": "text/x-python",
   "name": "python",
   "nbconvert_exporter": "python",
   "pygments_lexer": "ipython3",
   "version": "3.9.7"
  }
 },
 "nbformat": 4,
 "nbformat_minor": 5
}
