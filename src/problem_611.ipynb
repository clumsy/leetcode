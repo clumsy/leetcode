{
 "cells": [
  {
   "cell_type": "markdown",
   "id": "923bace7-3a4d-4c22-8ddd-e8399ca4fb80",
   "metadata": {},
   "source": [
    "[Problem 611](https://leetcode.com/problems/valid-triangle-number/)"
   ]
  },
  {
   "cell_type": "code",
   "execution_count": 5,
   "id": "6615537c-470e-437a-8d44-a4556e0126f2",
   "metadata": {},
   "outputs": [],
   "source": [
    "from typing import List\n",
    "from bisect import bisect_left"
   ]
  },
  {
   "cell_type": "code",
   "execution_count": 7,
   "id": "54e9b4f6-a9d1-4bf1-9a35-4239c90dc49d",
   "metadata": {},
   "outputs": [],
   "source": [
    "class Solution:\n",
    "    def triangleNumber(self, nums: List[int]) -> int:\n",
    "        nums, n, res = sorted(nums), len(nums), 0\n",
    "        for i in range(n - 2):\n",
    "            if nums[i] == 0:\n",
    "                continue\n",
    "            k = i + 2\n",
    "            for j in range(i + 1, n - 1):\n",
    "                k = bisect_left(nums, nums[i] + nums[j], lo=k)\n",
    "                res += k - j - 1\n",
    "        return res"
   ]
  },
  {
   "cell_type": "code",
   "execution_count": 8,
   "id": "cb852d91-7424-4629-836c-b172cbbb16db",
   "metadata": {},
   "outputs": [],
   "source": [
    "class Solution:\n",
    "    def triangleNumber(self, nums: List[int]) -> int:\n",
    "        nums, n, res = sorted(nums), len(nums), 0\n",
    "        for k in range(2, n):\n",
    "            lo, hi = 0, k - 1\n",
    "            while lo < hi:\n",
    "                if nums[lo] + nums[hi] > nums[k]:\n",
    "                    res += hi - lo\n",
    "                    hi -= 1\n",
    "                else:\n",
    "                    lo += 1\n",
    "        return res"
   ]
  },
  {
   "cell_type": "code",
   "execution_count": 4,
   "id": "b71ff980-befc-4857-abd0-2f9a3133c2b9",
   "metadata": {},
   "outputs": [],
   "source": [
    "sol = Solution()"
   ]
  },
  {
   "cell_type": "code",
   "execution_count": 9,
   "id": "661367a5-7cba-47fb-9ade-fc0bbe95a411",
   "metadata": {},
   "outputs": [],
   "source": [
    "assert sol.triangleNumber([2,2,3,4]) == 3"
   ]
  },
  {
   "cell_type": "code",
   "execution_count": 10,
   "id": "61faf78e-e0aa-418d-89cf-9c2810419597",
   "metadata": {},
   "outputs": [],
   "source": [
    "assert sol.triangleNumber([4,2,3,4]) == 4"
   ]
  }
 ],
 "metadata": {
  "kernelspec": {
   "display_name": "Python 3 (ipykernel)",
   "language": "python",
   "name": "python3"
  },
  "language_info": {
   "codemirror_mode": {
    "name": "ipython",
    "version": 3
   },
   "file_extension": ".py",
   "mimetype": "text/x-python",
   "name": "python",
   "nbconvert_exporter": "python",
   "pygments_lexer": "ipython3",
   "version": "3.9.7"
  }
 },
 "nbformat": 4,
 "nbformat_minor": 5
}
