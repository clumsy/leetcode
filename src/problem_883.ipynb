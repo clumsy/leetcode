{
 "cells": [
  {
   "cell_type": "markdown",
   "id": "d9d94909-763a-48a7-9018-6ffc70fc0db8",
   "metadata": {},
   "source": [
    "[Problem 883](https://leetcode.com/problems/projection-area-of-3d-shapes/description)"
   ]
  },
  {
   "cell_type": "code",
   "execution_count": 1,
   "id": "f02d86c0-900c-4f81-bcb4-539335611598",
   "metadata": {},
   "outputs": [],
   "source": [
    "from typing import List"
   ]
  },
  {
   "cell_type": "code",
   "execution_count": 2,
   "id": "f9e1a164-601a-4881-bcac-87b3a6562271",
   "metadata": {},
   "outputs": [],
   "source": [
    "class Solution:\n",
    "    def projectionArea(self, grid: List[List[int]]) -> int:\n",
    "        res, n = 0, len(grid)\n",
    "        for r in range(n):\n",
    "            res += max(grid[r])  # y projection\n",
    "            res += sum(grid[r][c] > 0 for c in range(n))  # z projection\n",
    "        for c in range(n):\n",
    "            res += max(grid[r][c] for r in range(n))  # x projection\n",
    "        return res"
   ]
  },
  {
   "cell_type": "code",
   "execution_count": 3,
   "id": "9cc370ee-99c7-40b7-9827-c7b4ce93fc45",
   "metadata": {},
   "outputs": [],
   "source": [
    "sol = Solution()"
   ]
  },
  {
   "cell_type": "code",
   "execution_count": 4,
   "id": "d0f92f19-fae1-48ee-b2dc-07bc82cc78d7",
   "metadata": {},
   "outputs": [],
   "source": [
    "assert sol.projectionArea([[1,2],[3,4]]) == 17"
   ]
  },
  {
   "cell_type": "code",
   "execution_count": 5,
   "id": "5d77ad70-9696-44db-bbbe-3c1d968e553b",
   "metadata": {},
   "outputs": [],
   "source": [
    "assert sol.projectionArea([[2]]) == 5"
   ]
  },
  {
   "cell_type": "code",
   "execution_count": 6,
   "id": "4990abae-4cd1-4106-a509-12bc8ee5e19b",
   "metadata": {},
   "outputs": [],
   "source": [
    "assert sol.projectionArea([[1,0],[0,2]]) == 8"
   ]
  }
 ],
 "metadata": {
  "kernelspec": {
   "display_name": "Python 3 (ipykernel)",
   "language": "python",
   "name": "python3"
  },
  "language_info": {
   "codemirror_mode": {
    "name": "ipython",
    "version": 3
   },
   "file_extension": ".py",
   "mimetype": "text/x-python",
   "name": "python",
   "nbconvert_exporter": "python",
   "pygments_lexer": "ipython3",
   "version": "3.9.7"
  }
 },
 "nbformat": 4,
 "nbformat_minor": 5
}
