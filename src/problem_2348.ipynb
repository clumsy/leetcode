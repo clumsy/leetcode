{
 "cells": [
  {
   "cell_type": "markdown",
   "id": "9e2520f8-ef74-406f-be05-e222ed7a0013",
   "metadata": {},
   "source": [
    "[Problem 2348](https://leetcode.com/problems/number-of-zero-filled-subarrays/description)"
   ]
  },
  {
   "cell_type": "code",
   "execution_count": 1,
   "id": "ee2c25a8-d9c6-4722-9ca2-feb36aeebbb6",
   "metadata": {},
   "outputs": [],
   "source": [
    "from typing import List"
   ]
  },
  {
   "cell_type": "code",
   "execution_count": 2,
   "id": "d9c96381-c264-4081-a3a1-502de81cca56",
   "metadata": {},
   "outputs": [],
   "source": [
    "class Solution:\n",
    "    def zeroFilledSubarray(self, nums: List[int]) -> int:\n",
    "        res = start = 0\n",
    "        for i, e in enumerate(nums):\n",
    "            if e != 0:\n",
    "                start = i + 1\n",
    "            res += i - start + 1\n",
    "        return res"
   ]
  },
  {
   "cell_type": "code",
   "execution_count": 3,
   "id": "4f3db125-47ac-45ab-af79-94718e121767",
   "metadata": {},
   "outputs": [],
   "source": [
    "sol = Solution()"
   ]
  },
  {
   "cell_type": "code",
   "execution_count": 4,
   "id": "487f5d57-72cb-4a12-961b-2fb49eb15d97",
   "metadata": {},
   "outputs": [],
   "source": [
    "assert sol.zeroFilledSubarray([1,3,0,0,2,0,0,4]) == 6"
   ]
  },
  {
   "cell_type": "code",
   "execution_count": 5,
   "id": "f4d80ce2-147d-4515-9937-399a97cb8233",
   "metadata": {},
   "outputs": [],
   "source": [
    "assert sol.zeroFilledSubarray([0,0,0,2,0,0]) == 9"
   ]
  },
  {
   "cell_type": "code",
   "execution_count": 6,
   "id": "ec202246-69bd-494a-a07d-9d832889d0d0",
   "metadata": {},
   "outputs": [],
   "source": [
    "assert sol.zeroFilledSubarray([2,10,2019]) == 0"
   ]
  }
 ],
 "metadata": {
  "kernelspec": {
   "display_name": "Python 3 (ipykernel)",
   "language": "python",
   "name": "python3"
  },
  "language_info": {
   "codemirror_mode": {
    "name": "ipython",
    "version": 3
   },
   "file_extension": ".py",
   "mimetype": "text/x-python",
   "name": "python",
   "nbconvert_exporter": "python",
   "pygments_lexer": "ipython3",
   "version": "3.9.7"
  }
 },
 "nbformat": 4,
 "nbformat_minor": 5
}
