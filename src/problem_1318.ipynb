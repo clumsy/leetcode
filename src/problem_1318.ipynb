{
 "cells": [
  {
   "cell_type": "markdown",
   "id": "eae6dd0d-2475-43c7-9072-c0eeb740e96d",
   "metadata": {},
   "source": [
    "[Problem 1318](https://leetcode.com/problems/minimum-flips-to-make-a-or-b-equal-to-c/description)"
   ]
  },
  {
   "cell_type": "code",
   "execution_count": 1,
   "id": "f52358dd-c1ad-4b22-9543-04c40408e7ed",
   "metadata": {},
   "outputs": [],
   "source": [
    "class Solution:\n",
    "    def minFlips(self, a: int, b: int, c: int) -> int:\n",
    "        res = 0\n",
    "        while a or b or c:\n",
    "            a, ia = divmod(a, 2) if a else (0, 0)\n",
    "            b, ib = divmod(b, 2) if b else (0, 0)\n",
    "            c, ic = divmod(c, 2) if c else (0, 0)\n",
    "            res += 2 if ic == 0 and ia == ib == 1 else 0 if (ia or ib) == ic else 1\n",
    "        return res"
   ]
  },
  {
   "cell_type": "code",
   "execution_count": 2,
   "id": "a6347289-e8da-4dfd-bc30-d651c469b9ff",
   "metadata": {},
   "outputs": [],
   "source": [
    "sol = Solution()"
   ]
  },
  {
   "cell_type": "code",
   "execution_count": 3,
   "id": "f7695150-7a76-4d35-bf51-458abfcdbb5e",
   "metadata": {},
   "outputs": [],
   "source": [
    "assert sol.minFlips(2, 6, 5) == 3"
   ]
  },
  {
   "cell_type": "code",
   "execution_count": 4,
   "id": "b0f56945-539b-4f94-919e-383341957fcf",
   "metadata": {},
   "outputs": [],
   "source": [
    "assert sol.minFlips(4, 2, 7) == 1"
   ]
  },
  {
   "cell_type": "code",
   "execution_count": 5,
   "id": "a672e56f-cfd8-4395-9bb5-cab07ec74952",
   "metadata": {},
   "outputs": [],
   "source": [
    "assert sol.minFlips(1, 2, 3) == 0"
   ]
  }
 ],
 "metadata": {
  "kernelspec": {
   "display_name": "Python 3 (ipykernel)",
   "language": "python",
   "name": "python3"
  },
  "language_info": {
   "codemirror_mode": {
    "name": "ipython",
    "version": 3
   },
   "file_extension": ".py",
   "mimetype": "text/x-python",
   "name": "python",
   "nbconvert_exporter": "python",
   "pygments_lexer": "ipython3",
   "version": "3.9.7"
  }
 },
 "nbformat": 4,
 "nbformat_minor": 5
}
