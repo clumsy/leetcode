{
 "cells": [
  {
   "cell_type": "markdown",
   "id": "b5753c6e-bb3c-42f2-b33d-179f7978eddd",
   "metadata": {},
   "source": [
    "[Problem 1291](https://leetcode.com/problems/sequential-digits/description)"
   ]
  },
  {
   "cell_type": "code",
   "execution_count": 1,
   "id": "74c2e0da-62b3-4f10-b35d-1e3a8f62499d",
   "metadata": {},
   "outputs": [],
   "source": [
    "from typing import List\n",
    "from collections import deque"
   ]
  },
  {
   "cell_type": "code",
   "execution_count": 2,
   "id": "6d790b70-99a3-40c4-929e-f5ead88d3205",
   "metadata": {},
   "outputs": [],
   "source": [
    "class Solution:\n",
    "    def sequentialDigits(self, low: int, high: int) -> List[int]:\n",
    "        res, q = [], deque(range(1, 10))\n",
    "        while q:\n",
    "            e = q.popleft()\n",
    "            if low <= e <= high:\n",
    "                res.append(e)\n",
    "            last = e % 10\n",
    "            if last < 9:\n",
    "                q.append(e * 10 + last + 1)\n",
    "        return res"
   ]
  },
  {
   "cell_type": "code",
   "execution_count": 3,
   "id": "5ad50267-9bb6-4e6e-8096-727f42f4620e",
   "metadata": {},
   "outputs": [],
   "source": [
    "sol = Solution()"
   ]
  },
  {
   "cell_type": "code",
   "execution_count": 5,
   "id": "05ec5afc-6e52-4ec6-b04e-59e6e35e5741",
   "metadata": {},
   "outputs": [],
   "source": [
    "assert sol.sequentialDigits(100,300) == [123,234]"
   ]
  },
  {
   "cell_type": "code",
   "execution_count": null,
   "id": "48fdf51c-0f46-498f-be64-a60d38517870",
   "metadata": {},
   "outputs": [],
   "source": [
    "assert sol.sequentialDigits(1000,13000) == [1234,2345,3456,4567,5678,6789,12345]"
   ]
  }
 ],
 "metadata": {
  "kernelspec": {
   "display_name": "Python 3 (ipykernel)",
   "language": "python",
   "name": "python3"
  },
  "language_info": {
   "codemirror_mode": {
    "name": "ipython",
    "version": 3
   },
   "file_extension": ".py",
   "mimetype": "text/x-python",
   "name": "python",
   "nbconvert_exporter": "python",
   "pygments_lexer": "ipython3",
   "version": "3.9.7"
  }
 },
 "nbformat": 4,
 "nbformat_minor": 5
}
