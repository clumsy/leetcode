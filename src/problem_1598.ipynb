{
 "cells": [
  {
   "cell_type": "markdown",
   "id": "ce9a9349-af55-4a93-8492-981951b5a441",
   "metadata": {},
   "source": [
    "[Problem 1598](https://leetcode.com/problems/crawler-log-folder/description)"
   ]
  },
  {
   "cell_type": "code",
   "execution_count": 1,
   "id": "9dd82f0c-6b67-4f86-a80c-7f931c8bad6c",
   "metadata": {},
   "outputs": [],
   "source": [
    "from typing import List"
   ]
  },
  {
   "cell_type": "code",
   "execution_count": 2,
   "id": "ce078d8d-a9e7-4238-b27f-3dff538a172f",
   "metadata": {},
   "outputs": [],
   "source": [
    "class Solution:\n",
    "    def minOperations(self, logs: List[str]) -> int:\n",
    "        res = 0\n",
    "        for l in logs:\n",
    "            if l == \"./\":\n",
    "                continue\n",
    "            elif l == \"../\":\n",
    "                res = max(0, res - 1)\n",
    "            else:\n",
    "                res += 1\n",
    "        return res"
   ]
  },
  {
   "cell_type": "code",
   "execution_count": 3,
   "id": "60936771-720c-4273-a2f5-dc0cef80f739",
   "metadata": {},
   "outputs": [],
   "source": [
    "sol = Solution()"
   ]
  },
  {
   "cell_type": "code",
   "execution_count": 4,
   "id": "eb5398b5-32aa-46e2-9b9a-800188f67f59",
   "metadata": {},
   "outputs": [],
   "source": [
    "assert sol.minOperations([\"d1/\",\"d2/\",\"../\",\"d21/\",\"./\"]) == 2"
   ]
  },
  {
   "cell_type": "code",
   "execution_count": 5,
   "id": "c7605c34-9406-498e-ab26-865e0d17feba",
   "metadata": {},
   "outputs": [],
   "source": [
    "assert sol.minOperations([\"d1/\",\"d2/\",\"./\",\"d3/\",\"../\",\"d31/\"]) == 3"
   ]
  },
  {
   "cell_type": "code",
   "execution_count": 6,
   "id": "dc7a835f-cfce-43fb-bb3a-988d088d366d",
   "metadata": {},
   "outputs": [],
   "source": [
    "assert sol.minOperations([\"d1/\",\"../\",\"../\",\"../\"]) == 0"
   ]
  }
 ],
 "metadata": {
  "kernelspec": {
   "display_name": "Python 3 (ipykernel)",
   "language": "python",
   "name": "python3"
  },
  "language_info": {
   "codemirror_mode": {
    "name": "ipython",
    "version": 3
   },
   "file_extension": ".py",
   "mimetype": "text/x-python",
   "name": "python",
   "nbconvert_exporter": "python",
   "pygments_lexer": "ipython3",
   "version": "3.9.7"
  }
 },
 "nbformat": 4,
 "nbformat_minor": 5
}
