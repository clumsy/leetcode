{
 "cells": [
  {
   "cell_type": "markdown",
   "id": "0620ac3d-42d5-42eb-b073-d921dec817db",
   "metadata": {},
   "source": [
    "[Problem 1913](https://leetcode.com/problems/maximum-product-difference-between-two-pairs/description)"
   ]
  },
  {
   "cell_type": "code",
   "execution_count": 1,
   "id": "1fe0088c-76c8-4269-8676-3866cf3bdb9f",
   "metadata": {},
   "outputs": [],
   "source": [
    "from typing import List"
   ]
  },
  {
   "cell_type": "code",
   "execution_count": 2,
   "id": "4d51952f-508a-40e2-8be0-c41c16671265",
   "metadata": {},
   "outputs": [],
   "source": [
    "class Solution:\n",
    "    def maxProductDifference(self, nums: List[int]) -> int:\n",
    "        nums.sort()\n",
    "        res = nums[-1] * nums[-2] - nums[1]*nums[0]\n",
    "        return res"
   ]
  },
  {
   "cell_type": "code",
   "execution_count": 3,
   "id": "58a215c0-9b5d-4ff9-8407-cb9456044af7",
   "metadata": {},
   "outputs": [],
   "source": [
    "class Solution:\n",
    "    def maxProductDifference(self, nums: List[int]) -> int:\n",
    "        ma1 = ma2 = 0\n",
    "        mi1 = mi2 = 10001\n",
    "        for i in nums:\n",
    "            if i >= ma1:\n",
    "                ma1, ma2 = i, ma1\n",
    "            elif i > ma2:\n",
    "                ma2 = i\n",
    "            if i <= mi1:\n",
    "                mi1, mi2 = i, mi1\n",
    "            elif i < mi2:\n",
    "                mi2 = i\n",
    "        res = ma1*ma2 - mi1*mi2\n",
    "        return res"
   ]
  },
  {
   "cell_type": "code",
   "execution_count": 4,
   "id": "99104e46-3542-412e-b205-452ed417b58d",
   "metadata": {},
   "outputs": [],
   "source": [
    "sol = Solution()"
   ]
  },
  {
   "cell_type": "code",
   "execution_count": 5,
   "id": "5a857506-8234-478a-938c-164745b2495f",
   "metadata": {},
   "outputs": [],
   "source": [
    "assert sol.maxProductDifference([5,6,2,7,4]) == 34"
   ]
  },
  {
   "cell_type": "code",
   "execution_count": 6,
   "id": "b7f9b484-a593-4aca-aede-c0110cf5d55a",
   "metadata": {},
   "outputs": [],
   "source": [
    "assert sol.maxProductDifference([4,2,5,9,7,4,8]) == 64"
   ]
  }
 ],
 "metadata": {
  "kernelspec": {
   "display_name": "Python 3 (ipykernel)",
   "language": "python",
   "name": "python3"
  },
  "language_info": {
   "codemirror_mode": {
    "name": "ipython",
    "version": 3
   },
   "file_extension": ".py",
   "mimetype": "text/x-python",
   "name": "python",
   "nbconvert_exporter": "python",
   "pygments_lexer": "ipython3",
   "version": "3.9.7"
  }
 },
 "nbformat": 4,
 "nbformat_minor": 5
}
