{
 "cells": [
  {
   "cell_type": "markdown",
   "id": "5d3a7caa-8a4d-4a0d-80c5-9f8b33ea3310",
   "metadata": {},
   "source": [
    "[Problem 2859](https://leetcode.com/problems/sum-of-values-at-indices-with-k-set-bits/description)"
   ]
  },
  {
   "cell_type": "code",
   "execution_count": 1,
   "id": "5c1a6912-22fe-4212-9654-6af5c16defcd",
   "metadata": {},
   "outputs": [],
   "source": [
    "from typing import List"
   ]
  },
  {
   "cell_type": "code",
   "execution_count": 2,
   "id": "2d2a85b0-7def-4aa7-9829-b366824a1f05",
   "metadata": {},
   "outputs": [],
   "source": [
    "class Solution:\n",
    "    def sumIndicesWithKSetBits(self, nums: List[int], k: int) -> int:\n",
    "        res = sum(e for i, e in enumerate(nums) if sum(d == \"1\" for d in bin(i)[2:]) == k)\n",
    "        return res"
   ]
  },
  {
   "cell_type": "code",
   "execution_count": 3,
   "id": "86aafa22-5226-4923-aaae-a0d61f6fc550",
   "metadata": {},
   "outputs": [],
   "source": [
    "sol = Solution()"
   ]
  },
  {
   "cell_type": "code",
   "execution_count": 4,
   "id": "8c102e13-cb25-46bf-9a9f-49d81a7625f4",
   "metadata": {},
   "outputs": [],
   "source": [
    "assert sol.sumIndicesWithKSetBits([5,10,1,5,2], 1) == 13"
   ]
  },
  {
   "cell_type": "code",
   "execution_count": 5,
   "id": "584dbe7e-4fab-4b23-89ea-ac07cebe36ad",
   "metadata": {},
   "outputs": [],
   "source": [
    "assert sol.sumIndicesWithKSetBits([4,3,2,1], 2) == 1"
   ]
  }
 ],
 "metadata": {
  "kernelspec": {
   "display_name": "Python 3 (ipykernel)",
   "language": "python",
   "name": "python3"
  },
  "language_info": {
   "codemirror_mode": {
    "name": "ipython",
    "version": 3
   },
   "file_extension": ".py",
   "mimetype": "text/x-python",
   "name": "python",
   "nbconvert_exporter": "python",
   "pygments_lexer": "ipython3",
   "version": "3.9.7"
  }
 },
 "nbformat": 4,
 "nbformat_minor": 5
}
