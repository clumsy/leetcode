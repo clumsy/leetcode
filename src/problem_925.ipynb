{
 "cells": [
  {
   "cell_type": "markdown",
   "id": "9ca45666-4b7a-4021-afca-2eec4ff431b4",
   "metadata": {},
   "source": [
    "[Problem 925](https://leetcode.com/problems/long-pressed-name/description)"
   ]
  },
  {
   "cell_type": "code",
   "execution_count": 1,
   "id": "39cf8049-cdaa-486b-bc42-cd130360ce0c",
   "metadata": {},
   "outputs": [],
   "source": [
    "class Solution:\n",
    "    def isLongPressedName(self, name: str, typed: str) -> bool:\n",
    "        res, i, n, j, m = True, 0, len(name), 0, len(typed)\n",
    "        while i < n and j < m:\n",
    "            if name[i] != typed[j]:\n",
    "                res = False\n",
    "                break\n",
    "            ei = i\n",
    "            while ei + 1 < n and name[ei + 1] == name[i]:\n",
    "                ei += 1\n",
    "            ej = j\n",
    "            while ej + 1 < m and typed[ej + 1] == name[i]:\n",
    "                ej += 1\n",
    "            if ei - i + 1 > ej - j + 1:\n",
    "                res = False\n",
    "                break\n",
    "            i, j = ei + 1, ej + 1\n",
    "        res = res and j == m and i == n\n",
    "        return res"
   ]
  },
  {
   "cell_type": "code",
   "execution_count": 2,
   "id": "d3714e56-a5f7-4fab-9115-643008cc8f65",
   "metadata": {},
   "outputs": [],
   "source": [
    "sol = Solution()"
   ]
  },
  {
   "cell_type": "code",
   "execution_count": 3,
   "id": "a805d4a0-ac72-43e7-a4e4-2e8a6a60bd01",
   "metadata": {},
   "outputs": [],
   "source": [
    "assert sol.isLongPressedName(\"alex\", \"aaleex\")"
   ]
  },
  {
   "cell_type": "code",
   "execution_count": 4,
   "id": "739ed4ea-2a6d-45b2-b6f0-b23876e3621c",
   "metadata": {},
   "outputs": [],
   "source": [
    "assert not sol.isLongPressedName(\"saeed\", \"ssaaedd\")"
   ]
  }
 ],
 "metadata": {
  "kernelspec": {
   "display_name": "Python 3 (ipykernel)",
   "language": "python",
   "name": "python3"
  },
  "language_info": {
   "codemirror_mode": {
    "name": "ipython",
    "version": 3
   },
   "file_extension": ".py",
   "mimetype": "text/x-python",
   "name": "python",
   "nbconvert_exporter": "python",
   "pygments_lexer": "ipython3",
   "version": "3.9.7"
  }
 },
 "nbformat": 4,
 "nbformat_minor": 5
}
