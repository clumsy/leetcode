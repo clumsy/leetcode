{
 "cells": [
  {
   "cell_type": "markdown",
   "id": "c4049c75-0ec9-43ff-abe1-196dd25be3da",
   "metadata": {},
   "source": [
    "[Problem 637](https://leetcode.com/problems/average-of-levels-in-binary-tree/solutions)"
   ]
  },
  {
   "cell_type": "code",
   "execution_count": 4,
   "id": "d99cf851-9e1e-4b16-927b-8564e86dabb4",
   "metadata": {},
   "outputs": [],
   "source": [
    "from typing import List, Optional\n",
    "from collections import deque"
   ]
  },
  {
   "cell_type": "code",
   "execution_count": 5,
   "id": "41594577-93f8-4ec2-81ba-35042bcc8395",
   "metadata": {},
   "outputs": [],
   "source": [
    "class TreeNode:\n",
    "    def __init__(self, val=0, left=None, right=None):\n",
    "        self.val = val\n",
    "        self.left = left\n",
    "        self.right = right"
   ]
  },
  {
   "cell_type": "code",
   "execution_count": 6,
   "id": "80c1ffa5-8eeb-448c-b6ec-7af01aaf9931",
   "metadata": {},
   "outputs": [],
   "source": [
    "class Solution:\n",
    "    def averageOfLevels(self, root: Optional[TreeNode]) -> List[float]:\n",
    "        q, res = deque([root]), []\n",
    "        while q:\n",
    "            n, s = len(q), 0\n",
    "            for _ in range(n):\n",
    "                cur = q.popleft()\n",
    "                s += cur.val\n",
    "                if cur.left:\n",
    "                    q.append(cur.left)\n",
    "                if cur.right:\n",
    "                    q.append(cur.right)\n",
    "            res.append(s / n)\n",
    "        return res"
   ]
  },
  {
   "cell_type": "code",
   "execution_count": 9,
   "id": "7c20f5c2-83e2-4bfe-8f62-970b1448bbe9",
   "metadata": {},
   "outputs": [],
   "source": [
    "sol = Solution()"
   ]
  },
  {
   "cell_type": "code",
   "execution_count": 10,
   "id": "780ecb4f-1794-43a5-b609-076a2228d5e7",
   "metadata": {},
   "outputs": [],
   "source": [
    "from collections import deque\n",
    "\n",
    "null = None  # to use Leetcode samples as is\n",
    "\n",
    "def tree(values):\n",
    "    if not values:\n",
    "        return null\n",
    "    root = TreeNode(values[0])\n",
    "    queue = deque()\n",
    "    queue.append(root)\n",
    "    queue.append(None)\n",
    "    length = len(values)\n",
    "    i = 0\n",
    "    while queue:\n",
    "        current = queue.popleft()\n",
    "        if current:\n",
    "            i += 1\n",
    "            if i < length and values[i]:\n",
    "                current.left = TreeNode(values[i])\n",
    "                queue.append(current.left)\n",
    "            i += 1\n",
    "            if i < length and values[i]:\n",
    "                current.right = TreeNode(values[i])\n",
    "                queue.append(current.right)\n",
    "            if i == length:\n",
    "                return root\n",
    "        else:\n",
    "            if queue:\n",
    "                queue.append(None)\n",
    "    return root"
   ]
  },
  {
   "cell_type": "code",
   "execution_count": 11,
   "id": "035741f4-657d-419b-8ed6-ab128231a835",
   "metadata": {},
   "outputs": [],
   "source": [
    "assert sol.averageOfLevels(tree([3,9,20,null,null,15,7])) == [3.00000,14.50000,11.00000]"
   ]
  },
  {
   "cell_type": "code",
   "execution_count": 12,
   "id": "17de1dea-714e-44d6-9c6e-51ac27fa37a3",
   "metadata": {},
   "outputs": [],
   "source": [
    "assert sol.averageOfLevels(tree([3,9,20,15,7])) == [3.00000,14.50000,11.00000]"
   ]
  }
 ],
 "metadata": {
  "kernelspec": {
   "display_name": "Python 3 (ipykernel)",
   "language": "python",
   "name": "python3"
  },
  "language_info": {
   "codemirror_mode": {
    "name": "ipython",
    "version": 3
   },
   "file_extension": ".py",
   "mimetype": "text/x-python",
   "name": "python",
   "nbconvert_exporter": "python",
   "pygments_lexer": "ipython3",
   "version": "3.9.7"
  }
 },
 "nbformat": 4,
 "nbformat_minor": 5
}
