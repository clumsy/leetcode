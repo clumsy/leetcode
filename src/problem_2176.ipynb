{
 "cells": [
  {
   "cell_type": "markdown",
   "id": "8993853f-f785-4069-8dd8-950c88fd2886",
   "metadata": {},
   "source": [
    "[Problem 2176](https://leetcode.com/problems/count-equal-and-divisible-pairs-in-an-array/description)"
   ]
  },
  {
   "cell_type": "code",
   "execution_count": 1,
   "id": "325743b6-12f0-4763-acc6-6fd294bc7fcd",
   "metadata": {},
   "outputs": [],
   "source": [
    "from typing import List"
   ]
  },
  {
   "cell_type": "code",
   "execution_count": 2,
   "id": "73865569-0c15-4d6b-8afa-7ce2aacf3a8a",
   "metadata": {},
   "outputs": [],
   "source": [
    "class Solution:\n",
    "    def countPairs(self, nums: List[int], k: int) -> int:\n",
    "        res, n = 0, len(nums)\n",
    "        for i in range(n):\n",
    "            for j in range(i + 1, n):\n",
    "                res += nums[i] == nums[j] and (i * j) % k == 0\n",
    "        return res"
   ]
  },
  {
   "cell_type": "code",
   "execution_count": 3,
   "id": "c0b4dc40-3b01-40aa-ad34-cee6809f05ef",
   "metadata": {},
   "outputs": [],
   "source": [
    "from collections import defaultdict\n",
    "from math import gcd"
   ]
  },
  {
   "cell_type": "code",
   "execution_count": 4,
   "id": "24cffce5-beed-46e6-844a-be18a85cfd95",
   "metadata": {},
   "outputs": [],
   "source": [
    "class Solution:\n",
    "    def countPairs(self, nums: List[int], k: int) -> int:\n",
    "        res, n, m = 0, len(nums), defaultdict(list)\n",
    "        for i, e in enumerate(nums):\n",
    "            m[e].append(i)\n",
    "        for e, ids in m.items():\n",
    "            gcds = defaultdict(int)\n",
    "            for i in ids:\n",
    "                gi = gcd(i, k)\n",
    "                for gj, c in gcds.items():\n",
    "                    res += c * (gi * gj % k == 0)\n",
    "                gcds[gi] += 1\n",
    "        return res"
   ]
  },
  {
   "cell_type": "code",
   "execution_count": 5,
   "id": "262592a8-8980-414d-9ae8-e56eb8608856",
   "metadata": {},
   "outputs": [],
   "source": [
    "sol = Solution()"
   ]
  },
  {
   "cell_type": "code",
   "execution_count": 6,
   "id": "eb01c62b-3456-4103-97f3-3c2422dd4497",
   "metadata": {},
   "outputs": [],
   "source": [
    "assert sol.countPairs([3,1,2,2,2,1,3], 2) == 4"
   ]
  },
  {
   "cell_type": "code",
   "execution_count": 7,
   "id": "66906e33-1448-496c-85fd-57f834b67a7c",
   "metadata": {},
   "outputs": [],
   "source": [
    "assert sol.countPairs([1,2,3,4], 1) == 0"
   ]
  }
 ],
 "metadata": {
  "kernelspec": {
   "display_name": "Python 3 (ipykernel)",
   "language": "python",
   "name": "python3"
  },
  "language_info": {
   "codemirror_mode": {
    "name": "ipython",
    "version": 3
   },
   "file_extension": ".py",
   "mimetype": "text/x-python",
   "name": "python",
   "nbconvert_exporter": "python",
   "pygments_lexer": "ipython3",
   "version": "3.9.7"
  }
 },
 "nbformat": 4,
 "nbformat_minor": 5
}
