{
 "cells": [
  {
   "cell_type": "markdown",
   "id": "b93cc10e-4777-417a-9bbc-236c00e2c1b7",
   "metadata": {},
   "source": [
    "[Problem 1805](https://leetcode.com/problems/number-of-different-integers-in-a-string/description)"
   ]
  },
  {
   "cell_type": "code",
   "execution_count": 1,
   "id": "c56e8d72-acd1-4b01-8372-1031c7fa3532",
   "metadata": {},
   "outputs": [],
   "source": [
    "class Solution:\n",
    "    def numDifferentIntegers(self, s: str) -> int:\n",
    "        res, n, p = set(), len(s), 0\n",
    "        for i in range(n):\n",
    "            if s[i].isalpha():\n",
    "                if i > p:\n",
    "                    res.add(int(s[p:i]))\n",
    "                p = i + 1\n",
    "        if n > p:\n",
    "            res.add(int(s[p:]))\n",
    "        res = len(res)\n",
    "        return res"
   ]
  },
  {
   "cell_type": "code",
   "execution_count": 2,
   "id": "191ac8bf-2a5f-424f-b92e-6c2564a4699f",
   "metadata": {},
   "outputs": [],
   "source": [
    "sol = Solution()"
   ]
  },
  {
   "cell_type": "code",
   "execution_count": 3,
   "id": "5ad724de-a3d9-40ca-bec0-374c0304400c",
   "metadata": {},
   "outputs": [],
   "source": [
    "assert sol.numDifferentIntegers(\"a123bc34d8ef34\") == 3"
   ]
  },
  {
   "cell_type": "code",
   "execution_count": 4,
   "id": "927a86f5-3651-4009-b528-5eeddc258209",
   "metadata": {},
   "outputs": [],
   "source": [
    "assert sol.numDifferentIntegers(\"leet1234code234\") == 2"
   ]
  },
  {
   "cell_type": "code",
   "execution_count": 5,
   "id": "7f0ffdf9-97d8-4dfe-a9ca-86d7677addbe",
   "metadata": {},
   "outputs": [],
   "source": [
    "assert sol.numDifferentIntegers(\"a1b01c001\") == 1"
   ]
  }
 ],
 "metadata": {
  "kernelspec": {
   "display_name": "Python 3 (ipykernel)",
   "language": "python",
   "name": "python3"
  },
  "language_info": {
   "codemirror_mode": {
    "name": "ipython",
    "version": 3
   },
   "file_extension": ".py",
   "mimetype": "text/x-python",
   "name": "python",
   "nbconvert_exporter": "python",
   "pygments_lexer": "ipython3",
   "version": "3.9.7"
  }
 },
 "nbformat": 4,
 "nbformat_minor": 5
}
