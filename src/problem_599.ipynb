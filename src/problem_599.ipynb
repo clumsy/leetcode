{
 "cells": [
  {
   "cell_type": "markdown",
   "id": "eefadc26-186e-4459-ac23-2de70c29a107",
   "metadata": {},
   "source": [
    "[Problem 599](https://leetcode.com/problems/minimum-index-sum-of-two-lists/description)"
   ]
  },
  {
   "cell_type": "code",
   "execution_count": 1,
   "id": "d3ed1182-77ac-41a4-9123-ac16e6d4f333",
   "metadata": {},
   "outputs": [],
   "source": [
    "from typing import List\n",
    "from math import inf"
   ]
  },
  {
   "cell_type": "code",
   "execution_count": 2,
   "id": "08433611-faf2-49b0-b2ec-a4316aaf4d33",
   "metadata": {},
   "outputs": [],
   "source": [
    "class Solution:\n",
    "    def findRestaurant(self, list1: List[str], list2: List[str]) -> List[str]:\n",
    "        res, index = [], {s: i for i, s in enumerate(list1)}\n",
    "        for i, s in enumerate(list2):\n",
    "            j = index.get(s, None)\n",
    "            if j is None:\n",
    "                continue\n",
    "            s = sum(res[0]) if res else inf\n",
    "            if i + j == s:\n",
    "                res.append((i, j))\n",
    "            elif i + j < s:\n",
    "                res = [(i, j)]\n",
    "        res = [list2[i] for i, _ in res]\n",
    "        return res"
   ]
  },
  {
   "cell_type": "code",
   "execution_count": 3,
   "id": "e65efbb4-d7d2-40b4-aa77-5d208ba971ec",
   "metadata": {},
   "outputs": [],
   "source": [
    "sol = Solution()"
   ]
  },
  {
   "cell_type": "code",
   "execution_count": 4,
   "id": "baca61ba-f056-4c2b-ab4c-a41ca17d9ad7",
   "metadata": {},
   "outputs": [],
   "source": [
    "assert sol.findRestaurant([\"Shogun\",\"Tapioca Express\",\"Burger King\",\"KFC\"], [\"Piatti\",\"The Grill at Torrey Pines\",\"Hungry Hunter Steakhouse\",\"Shogun\"]) == [\"Shogun\"]"
   ]
  },
  {
   "cell_type": "code",
   "execution_count": 5,
   "id": "94a90a50-9bd1-4c5e-9481-42f495866bee",
   "metadata": {},
   "outputs": [],
   "source": [
    "assert sol.findRestaurant([\"Shogun\",\"Tapioca Express\",\"Burger King\",\"KFC\"], [\"KFC\",\"Shogun\",\"Burger King\"]) == [\"Shogun\"]"
   ]
  },
  {
   "cell_type": "code",
   "execution_count": 6,
   "id": "fca82ef8-b7d0-4283-8729-50b30f194640",
   "metadata": {},
   "outputs": [],
   "source": [
    "assert sol.findRestaurant([\"happy\",\"sad\",\"good\"], [\"sad\",\"happy\",\"good\"]) == [\"sad\",\"happy\"]"
   ]
  }
 ],
 "metadata": {
  "kernelspec": {
   "display_name": "Python 3 (ipykernel)",
   "language": "python",
   "name": "python3"
  },
  "language_info": {
   "codemirror_mode": {
    "name": "ipython",
    "version": 3
   },
   "file_extension": ".py",
   "mimetype": "text/x-python",
   "name": "python",
   "nbconvert_exporter": "python",
   "pygments_lexer": "ipython3",
   "version": "3.9.7"
  }
 },
 "nbformat": 4,
 "nbformat_minor": 5
}
