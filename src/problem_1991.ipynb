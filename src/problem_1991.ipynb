{
 "cells": [
  {
   "cell_type": "markdown",
   "id": "f3cf12e1-77c8-4fff-b3c0-8190e013f6ff",
   "metadata": {},
   "source": [
    "[Problem 1991](https://leetcode.com/problems/find-the-middle-index-in-array/description)"
   ]
  },
  {
   "cell_type": "code",
   "execution_count": 1,
   "id": "a8fccc23-d2b7-4acb-9626-1a8cf9614a01",
   "metadata": {},
   "outputs": [],
   "source": [
    "from typing import List"
   ]
  },
  {
   "cell_type": "code",
   "execution_count": 2,
   "id": "176b5618-0b1b-4add-80e9-be1fb76443bc",
   "metadata": {},
   "outputs": [],
   "source": [
    "class Solution:\n",
    "    def findMiddleIndex(self, nums: List[int]) -> int:\n",
    "        n = len(nums)\n",
    "        for i in range(1, n):\n",
    "            nums[i] += nums[i - 1]\n",
    "        res = -1\n",
    "        for i in range(n):\n",
    "            if (nums[i - 1] if i > 0 else 0) == nums[-1] - nums[i]:\n",
    "                res = i\n",
    "                break\n",
    "        return res"
   ]
  },
  {
   "cell_type": "code",
   "execution_count": 3,
   "id": "b4025636-df4f-4dd0-ab0d-b5d129b64ccf",
   "metadata": {},
   "outputs": [],
   "source": [
    "sol = Solution()"
   ]
  },
  {
   "cell_type": "code",
   "execution_count": 4,
   "id": "d857ab9e-be29-4cda-ae1b-a2510f0d9a2e",
   "metadata": {},
   "outputs": [],
   "source": [
    "assert sol.findMiddleIndex([2,3,-1,8,4]) == 3"
   ]
  },
  {
   "cell_type": "code",
   "execution_count": 5,
   "id": "772280dc-70e6-4705-bccd-11eebb5d93d1",
   "metadata": {},
   "outputs": [],
   "source": [
    "assert sol.findMiddleIndex([1,-1,4]) == 2"
   ]
  },
  {
   "cell_type": "code",
   "execution_count": 6,
   "id": "eb1e73b0-5284-4d98-a506-65a98737e38a",
   "metadata": {},
   "outputs": [],
   "source": [
    "assert sol.findMiddleIndex([2,5]) == -1"
   ]
  }
 ],
 "metadata": {
  "kernelspec": {
   "display_name": "Python 3 (ipykernel)",
   "language": "python",
   "name": "python3"
  },
  "language_info": {
   "codemirror_mode": {
    "name": "ipython",
    "version": 3
   },
   "file_extension": ".py",
   "mimetype": "text/x-python",
   "name": "python",
   "nbconvert_exporter": "python",
   "pygments_lexer": "ipython3",
   "version": "3.9.7"
  }
 },
 "nbformat": 4,
 "nbformat_minor": 5
}
