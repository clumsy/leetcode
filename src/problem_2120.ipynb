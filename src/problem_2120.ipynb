{
 "cells": [
  {
   "cell_type": "markdown",
   "id": "1597c1df-68e0-407d-bb64-9da32a03805b",
   "metadata": {},
   "source": [
    "[Problem 2120](https://leetcode.com/problems/execution-of-all-suffix-instructions-staying-in-a-grid)"
   ]
  },
  {
   "cell_type": "code",
   "execution_count": 25,
   "id": "210055d6-4c5e-4c18-b25c-242cc9cb2bc2",
   "metadata": {},
   "outputs": [],
   "source": [
    "from typing import List\n",
    "from collections import defaultdict"
   ]
  },
  {
   "cell_type": "code",
   "execution_count": 26,
   "id": "03396e52-2905-4b1d-9b61-8f97aeb8e67a",
   "metadata": {},
   "outputs": [],
   "source": [
    "class Solution:\n",
    "    def executeInstructions(self, n, start, s):\n",
    "        m = len(s)\n",
    "        (x0, y0), (x, y) = start, (0, 0)\n",
    "        res = list(range(m, 0, -1))\n",
    "        count = defaultdict(set)\n",
    "        count[x0, None].add(0)\n",
    "        count[None, y0].add(0)\n",
    "        for i in range(m):\n",
    "            if s[i] == 'L': y -= 1\n",
    "            if s[i] == 'R': y += 1\n",
    "            if s[i] == 'U': x -= 1\n",
    "            if s[i] == 'D': x += 1\n",
    "            count[x0 - x, None].add(i + 1)\n",
    "            count[None, y0 - y].add(i + 1)\n",
    "            for key in [(n - x, None), (None, n - y), (-x - 1, None), (None, -y - 1)]:\n",
    "                for j in count[key]:\n",
    "                    res[j] = min(res[j], i - j)\n",
    "                del count[key]\n",
    "        return res"
   ]
  },
  {
   "cell_type": "code",
   "execution_count": 27,
   "id": "e8a61ac3-e12d-4b8e-9de6-6cecebed3020",
   "metadata": {},
   "outputs": [],
   "source": [
    "sol = Solution()"
   ]
  },
  {
   "cell_type": "code",
   "execution_count": 28,
   "id": "419cc56e-3391-4318-909a-19fd0225791d",
   "metadata": {},
   "outputs": [],
   "source": [
    "assert sol.executeInstructions(3, [0, 1], \"RRDDLU\") == [1,5,4,3,1,0]"
   ]
  },
  {
   "cell_type": "code",
   "execution_count": 29,
   "id": "ee37a470-66ab-4318-b05b-1adcda32e5c7",
   "metadata": {},
   "outputs": [],
   "source": [
    "assert sol.executeInstructions(2, [1, 1], \"LURD\") == [4,1,0,0]"
   ]
  }
 ],
 "metadata": {
  "kernelspec": {
   "display_name": "Python 3 (ipykernel)",
   "language": "python",
   "name": "python3"
  },
  "language_info": {
   "codemirror_mode": {
    "name": "ipython",
    "version": 3
   },
   "file_extension": ".py",
   "mimetype": "text/x-python",
   "name": "python",
   "nbconvert_exporter": "python",
   "pygments_lexer": "ipython3",
   "version": "3.9.7"
  }
 },
 "nbformat": 4,
 "nbformat_minor": 5
}
