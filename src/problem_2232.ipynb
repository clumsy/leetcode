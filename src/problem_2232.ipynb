{
 "cells": [
  {
   "cell_type": "markdown",
   "id": "55884762-5b84-4c30-af18-ff0273943406",
   "metadata": {},
   "source": [
    "[Problem 2232]()"
   ]
  },
  {
   "cell_type": "code",
   "execution_count": 1,
   "id": "0a922ec1-73a9-4d4d-8541-548a33ee1e68",
   "metadata": {},
   "outputs": [],
   "source": [
    "from math import inf"
   ]
  },
  {
   "cell_type": "code",
   "execution_count": 2,
   "id": "b21c1c50-a77e-41a7-adfc-72ea41820876",
   "metadata": {},
   "outputs": [],
   "source": [
    "class Solution:\n",
    "    def minimizeResult(self, e: str) -> str:\n",
    "        lft, rgt = e.split(\"+\")\n",
    "        mi = inf\n",
    "        for l in range(len(lft)):\n",
    "            for r in range(1, len(rgt) + 1):\n",
    "                cur = int(lft[:l] or 1) * (int(lft[l:]) + int(rgt[:r])) * int(rgt[r:] or 1)\n",
    "                if cur < mi:\n",
    "                    res = f\"{lft[:l]}({lft[l:]}+{rgt[:r]}){rgt[r:]}\"\n",
    "                    mi = min(mi, cur)\n",
    "        return res"
   ]
  },
  {
   "cell_type": "code",
   "execution_count": 3,
   "id": "4a834320-000b-441a-8ed9-3beadfc6e28c",
   "metadata": {},
   "outputs": [],
   "source": [
    "sol = Solution()"
   ]
  },
  {
   "cell_type": "code",
   "execution_count": 4,
   "id": "fc806f43-4031-4327-94a2-593d2afbf41a",
   "metadata": {},
   "outputs": [],
   "source": [
    "assert sol.minimizeResult(\"247+38\") == \"2(47+38)\""
   ]
  },
  {
   "cell_type": "code",
   "execution_count": 5,
   "id": "e035b8b9-6a15-4ac6-93bc-004196d2a7ff",
   "metadata": {},
   "outputs": [],
   "source": [
    "assert sol.minimizeResult(\"12+34\") == \"1(2+3)4\""
   ]
  },
  {
   "cell_type": "code",
   "execution_count": 6,
   "id": "c4f2efd7-5405-498a-8094-e7758f6cf8d9",
   "metadata": {},
   "outputs": [],
   "source": [
    "assert sol.minimizeResult(\"999+999\") == \"(999+999)\""
   ]
  }
 ],
 "metadata": {
  "kernelspec": {
   "display_name": "Python 3 (ipykernel)",
   "language": "python",
   "name": "python3"
  },
  "language_info": {
   "codemirror_mode": {
    "name": "ipython",
    "version": 3
   },
   "file_extension": ".py",
   "mimetype": "text/x-python",
   "name": "python",
   "nbconvert_exporter": "python",
   "pygments_lexer": "ipython3",
   "version": "3.9.7"
  }
 },
 "nbformat": 4,
 "nbformat_minor": 5
}
