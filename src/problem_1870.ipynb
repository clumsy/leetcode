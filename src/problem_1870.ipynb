{
 "cells": [
  {
   "cell_type": "markdown",
   "id": "6623f2cb-69c6-4fd3-b481-ed279a0696ac",
   "metadata": {},
   "source": [
    "[Problem 1870](https://leetcode.com/problems/minimum-speed-to-arrive-on-time/)"
   ]
  },
  {
   "cell_type": "code",
   "execution_count": 5,
   "id": "6d5cd65c-cf01-4983-9505-73f5f4894d80",
   "metadata": {},
   "outputs": [],
   "source": [
    "from typing import List\n",
    "from math import ceil"
   ]
  },
  {
   "cell_type": "code",
   "execution_count": 6,
   "id": "740ee660-2c6b-4e53-a0e5-da9f405d516b",
   "metadata": {},
   "outputs": [],
   "source": [
    "class Solution:\n",
    "    def minSpeedOnTime(self, dist: List[int], hour: float) -> int:\n",
    "        top = int(1e7) + 1\n",
    "        lo, hi, n = 1, top, len(dist)\n",
    "        while lo < hi:  # since result is integer\n",
    "            mi = lo + (hi - lo) // 2\n",
    "            if sum(ceil(i / mi) for i in dist[:-1]) + dist[-1] / mi <= hour:\n",
    "                hi = mi\n",
    "            else:\n",
    "                lo = mi + 1\n",
    "        return -1 if lo >= top else lo"
   ]
  },
  {
   "cell_type": "code",
   "execution_count": 7,
   "id": "08f43faf-278a-422a-be8f-ef07752030bf",
   "metadata": {},
   "outputs": [],
   "source": [
    "sol = Solution()"
   ]
  },
  {
   "cell_type": "code",
   "execution_count": 8,
   "id": "1923504e-4d6b-4a0c-bd56-37dde14d10a9",
   "metadata": {},
   "outputs": [],
   "source": [
    "assert sol.minSpeedOnTime([1,3,2], 6) == 1"
   ]
  },
  {
   "cell_type": "code",
   "execution_count": 9,
   "id": "8d99fa51-60fb-4b61-9fa3-b797a0e3fcfc",
   "metadata": {},
   "outputs": [],
   "source": [
    "assert sol.minSpeedOnTime([1,3,2], 2.7) == 3"
   ]
  },
  {
   "cell_type": "code",
   "execution_count": 10,
   "id": "2b5cb9dd-16f0-4407-8753-15332bcb8357",
   "metadata": {},
   "outputs": [],
   "source": [
    "assert sol.minSpeedOnTime([1,3,2], 1.9) == -1"
   ]
  }
 ],
 "metadata": {
  "kernelspec": {
   "display_name": "Python 3 (ipykernel)",
   "language": "python",
   "name": "python3"
  },
  "language_info": {
   "codemirror_mode": {
    "name": "ipython",
    "version": 3
   },
   "file_extension": ".py",
   "mimetype": "text/x-python",
   "name": "python",
   "nbconvert_exporter": "python",
   "pygments_lexer": "ipython3",
   "version": "3.9.7"
  }
 },
 "nbformat": 4,
 "nbformat_minor": 5
}
