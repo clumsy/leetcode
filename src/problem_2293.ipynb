{
 "cells": [
  {
   "cell_type": "markdown",
   "id": "d4005bed-6e86-4f1d-ab31-18e4ea8de40d",
   "metadata": {},
   "source": [
    "[Problem 2293](https://leetcode.com/problems/min-max-game/description)"
   ]
  },
  {
   "cell_type": "code",
   "execution_count": 1,
   "id": "965e77b0-f62f-4743-b93f-3f88d392bf2b",
   "metadata": {},
   "outputs": [],
   "source": [
    "from typing import List"
   ]
  },
  {
   "cell_type": "code",
   "execution_count": 2,
   "id": "a682552f-4be3-4277-bc61-ef32cf28b262",
   "metadata": {},
   "outputs": [],
   "source": [
    "class Solution:\n",
    "    def minMaxGame(self, nums: List[int]) -> int:\n",
    "        n = len(nums)\n",
    "        while n > 1:\n",
    "            n //= 2\n",
    "            for i in range(n):\n",
    "                op = min if i & 1 == 0 else max\n",
    "                nums[i] = op(nums[2 * i], nums[2 * i + 1])\n",
    "        res = nums[0]\n",
    "        return res"
   ]
  },
  {
   "cell_type": "code",
   "execution_count": 3,
   "id": "f4fa29ca-833f-4753-96de-df682a35181e",
   "metadata": {},
   "outputs": [],
   "source": [
    "sol = Solution()"
   ]
  },
  {
   "cell_type": "code",
   "execution_count": 4,
   "id": "d9fffebc-8c5c-4593-acc5-17a76e08ebd2",
   "metadata": {},
   "outputs": [],
   "source": [
    "assert sol.minMaxGame([1,3,5,2,4,8,2,2]) == 1"
   ]
  },
  {
   "cell_type": "code",
   "execution_count": 5,
   "id": "c30aaf99-b2d3-4309-a95a-925f916e0526",
   "metadata": {},
   "outputs": [],
   "source": [
    "assert sol.minMaxGame([3]) == 3"
   ]
  }
 ],
 "metadata": {
  "kernelspec": {
   "display_name": "Python 3 (ipykernel)",
   "language": "python",
   "name": "python3"
  },
  "language_info": {
   "codemirror_mode": {
    "name": "ipython",
    "version": 3
   },
   "file_extension": ".py",
   "mimetype": "text/x-python",
   "name": "python",
   "nbconvert_exporter": "python",
   "pygments_lexer": "ipython3",
   "version": "3.9.7"
  }
 },
 "nbformat": 4,
 "nbformat_minor": 5
}
