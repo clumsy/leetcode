{
 "cells": [
  {
   "cell_type": "markdown",
   "id": "62362ea8-46ee-4a1f-b707-6dce5694225d",
   "metadata": {},
   "source": [
    "[Problem 2711](https://leetcode.com/problems/difference-of-number-of-distinct-values-on-diagonals/description)"
   ]
  },
  {
   "cell_type": "code",
   "execution_count": 1,
   "id": "b276108f-1b0a-423e-a516-faf7808ea928",
   "metadata": {},
   "outputs": [],
   "source": [
    "from typing import List\n",
    "from collections import defaultdict, Counter"
   ]
  },
  {
   "cell_type": "code",
   "execution_count": 2,
   "id": "5206b520-d5a2-4ad7-af33-ce14a2c5b2fb",
   "metadata": {},
   "outputs": [],
   "source": [
    "class Solution:\n",
    "    def differenceOfDistinctValues(self, grid: List[List[int]]) -> List[List[int]]:\n",
    "        tl, br = defaultdict(Counter), defaultdict(Counter)\n",
    "        rs, cs = len(grid), len(grid[0])\n",
    "        for r in range(rs):\n",
    "            for c in range(cs):\n",
    "                br[r - c][grid[r][c]] += 1\n",
    "        res = [[0] * cs for _ in range(rs)]\n",
    "        for r in range(rs):\n",
    "            for c in range(cs):\n",
    "                br[r - c][grid[r][c]] -= 1\n",
    "                res[r][c] = abs(sum(v > 0 for v in tl[r - c].values()) - sum(v > 0 for v in br[r - c].values()))\n",
    "                tl[r - c][grid[r][c]] += 1\n",
    "        return res"
   ]
  },
  {
   "cell_type": "code",
   "execution_count": 3,
   "id": "56a6a22c-7d60-4f95-ae05-01908c701aaf",
   "metadata": {},
   "outputs": [],
   "source": [
    "sol = Solution()"
   ]
  },
  {
   "cell_type": "code",
   "execution_count": 4,
   "id": "6a0736b7-719e-4181-b832-cd4251489d43",
   "metadata": {},
   "outputs": [],
   "source": [
    "assert sol.differenceOfDistinctValues([[1,2,3],[3,1,5],[3,2,1]]) == [[1,1,0],[1,0,1],[0,1,1]]"
   ]
  },
  {
   "cell_type": "code",
   "execution_count": 5,
   "id": "64b4a66a-3a3a-4948-a02b-149798440d27",
   "metadata": {},
   "outputs": [],
   "source": [
    "assert sol.differenceOfDistinctValues([[1]]) == [[0]]"
   ]
  }
 ],
 "metadata": {
  "kernelspec": {
   "display_name": "Python 3 (ipykernel)",
   "language": "python",
   "name": "python3"
  },
  "language_info": {
   "codemirror_mode": {
    "name": "ipython",
    "version": 3
   },
   "file_extension": ".py",
   "mimetype": "text/x-python",
   "name": "python",
   "nbconvert_exporter": "python",
   "pygments_lexer": "ipython3",
   "version": "3.9.7"
  }
 },
 "nbformat": 4,
 "nbformat_minor": 5
}
