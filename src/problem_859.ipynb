{
 "cells": [
  {
   "cell_type": "markdown",
   "id": "08fc6bf8-a7ed-4b58-a64f-e835aa7a1424",
   "metadata": {},
   "source": [
    "[Problem 859](https://leetcode.com/problems/buddy-strings/description)"
   ]
  },
  {
   "cell_type": "code",
   "execution_count": 1,
   "id": "a983acf0-abe0-4485-9087-37b844ffb53b",
   "metadata": {},
   "outputs": [],
   "source": [
    "from collections import Counter"
   ]
  },
  {
   "cell_type": "code",
   "execution_count": 2,
   "id": "805efa5d-b0cd-4a5e-b178-1bac3c80c97b",
   "metadata": {},
   "outputs": [],
   "source": [
    "class Solution:\n",
    "    def buddyStrings(self, s: str, goal: str) -> bool:\n",
    "        diff = sum(a != b for a, b in zip(s, goal))\n",
    "        cnt_s = Counter(s)\n",
    "        res = cnt_s == Counter(goal) and (diff == 2 or (diff == 0 and cnt_s.most_common()[0][1] > 1))\n",
    "        return res"
   ]
  },
  {
   "cell_type": "code",
   "execution_count": 3,
   "id": "18729936-6844-4f09-b5c3-116f8d6db0aa",
   "metadata": {},
   "outputs": [],
   "source": [
    "sol = Solution()"
   ]
  },
  {
   "cell_type": "code",
   "execution_count": 4,
   "id": "842ea6fc-816d-46d2-aa95-48f1cbf33388",
   "metadata": {},
   "outputs": [],
   "source": [
    "assert sol.buddyStrings(\"ab\", \"ba\")"
   ]
  },
  {
   "cell_type": "code",
   "execution_count": 5,
   "id": "20364b45-ae23-4d31-8377-01c4356b8a82",
   "metadata": {},
   "outputs": [],
   "source": [
    "assert not sol.buddyStrings(\"ab\", \"ab\")"
   ]
  },
  {
   "cell_type": "code",
   "execution_count": 6,
   "id": "6762f1ab-de7d-481b-a413-1f0517ff381f",
   "metadata": {},
   "outputs": [],
   "source": [
    "assert sol.buddyStrings(\"aa\", \"aa\")"
   ]
  }
 ],
 "metadata": {
  "kernelspec": {
   "display_name": "Python 3 (ipykernel)",
   "language": "python",
   "name": "python3"
  },
  "language_info": {
   "codemirror_mode": {
    "name": "ipython",
    "version": 3
   },
   "file_extension": ".py",
   "mimetype": "text/x-python",
   "name": "python",
   "nbconvert_exporter": "python",
   "pygments_lexer": "ipython3",
   "version": "3.9.7"
  }
 },
 "nbformat": 4,
 "nbformat_minor": 5
}
