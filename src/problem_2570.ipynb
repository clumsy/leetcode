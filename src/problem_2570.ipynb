{
 "cells": [
  {
   "cell_type": "markdown",
   "id": "12030512-d333-452b-98c2-2c8f170855aa",
   "metadata": {},
   "source": [
    "[Problem 2570](https://leetcode.com/problems/merge-two-2d-arrays-by-summing-values/description)"
   ]
  },
  {
   "cell_type": "code",
   "execution_count": 1,
   "id": "53d0b6e7-dcaa-4846-8327-3d10a6718a26",
   "metadata": {},
   "outputs": [],
   "source": [
    "from typing import List\n",
    "from math import inf"
   ]
  },
  {
   "cell_type": "code",
   "execution_count": 2,
   "id": "33fe354d-6e60-4351-9e43-a33cb44fb88a",
   "metadata": {},
   "outputs": [],
   "source": [
    "class Solution:\n",
    "    def mergeArrays(self, nums1: List[List[int]], nums2: List[List[int]]) -> List[List[int]]:\n",
    "        i1 = i2 = 0\n",
    "        n1, n2 = len(nums1), len(nums2)\n",
    "        res = []\n",
    "        while i1 < n1 or i2 < n2:\n",
    "            i = min(nums1[i1][0] if i1 < n1 else inf, nums2[i2][0] if i2 < n2 else inf)\n",
    "            v = 0\n",
    "            if i1 < n1 and nums1[i1][0] == i:\n",
    "                v += nums1[i1][1]\n",
    "                i1 += 1\n",
    "            if i2 < n2 and nums2[i2][0] == i:\n",
    "                v += nums2[i2][1]\n",
    "                i2 += 1\n",
    "            res.append([i, v])\n",
    "        return res"
   ]
  },
  {
   "cell_type": "code",
   "execution_count": 3,
   "id": "47c0612f-9d7d-4adb-9bb9-82d5a63d7753",
   "metadata": {},
   "outputs": [],
   "source": [
    "sol = Solution()"
   ]
  },
  {
   "cell_type": "code",
   "execution_count": 4,
   "id": "f3c8145e-9bc3-40eb-8611-a72cf7a284f4",
   "metadata": {},
   "outputs": [],
   "source": [
    "assert sol.mergeArrays([[1,2],[2,3],[4,5]], [[1,4],[3,2],[4,1]]) == [[1,6],[2,3],[3,2],[4,6]]"
   ]
  },
  {
   "cell_type": "code",
   "execution_count": 5,
   "id": "d45f4189-eda6-4bb3-95c9-c44b8ba87c57",
   "metadata": {},
   "outputs": [],
   "source": [
    "assert sol.mergeArrays([[2,4],[3,6],[5,5]], [[1,3],[4,3]]) == [[1,3],[2,4],[3,6],[4,3],[5,5]]"
   ]
  }
 ],
 "metadata": {
  "kernelspec": {
   "display_name": "Python 3 (ipykernel)",
   "language": "python",
   "name": "python3"
  },
  "language_info": {
   "codemirror_mode": {
    "name": "ipython",
    "version": 3
   },
   "file_extension": ".py",
   "mimetype": "text/x-python",
   "name": "python",
   "nbconvert_exporter": "python",
   "pygments_lexer": "ipython3",
   "version": "3.9.7"
  }
 },
 "nbformat": 4,
 "nbformat_minor": 5
}
