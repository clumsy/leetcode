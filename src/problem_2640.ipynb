{
 "cells": [
  {
   "cell_type": "markdown",
   "id": "63dd8a83-6bd1-4bc6-be77-c73000926579",
   "metadata": {},
   "source": [
    "[Problem 2640](https://leetcode.com/problems/find-the-score-of-all-prefixes-of-an-array/description)"
   ]
  },
  {
   "cell_type": "code",
   "execution_count": 1,
   "id": "ab59e70e-7f85-4f10-8442-d6de2b87e344",
   "metadata": {},
   "outputs": [],
   "source": [
    "from typing import List"
   ]
  },
  {
   "cell_type": "code",
   "execution_count": 2,
   "id": "d10a4a30-56aa-4a15-a709-a7a7f8ecb4a5",
   "metadata": {},
   "outputs": [],
   "source": [
    "class Solution:\n",
    "    def findPrefixScore(self, nums: List[int]) -> List[int]:\n",
    "        n = len(nums)\n",
    "        res, m = [0] * n, 0\n",
    "        for i, e in enumerate(nums):\n",
    "            m = max(m, e)\n",
    "            res[i] = (res[i - 1] if i > 0 else 0) + nums[i] + m\n",
    "        return res"
   ]
  },
  {
   "cell_type": "code",
   "execution_count": 3,
   "id": "31c0e920-e437-4bf1-9719-0ab4fb5b7068",
   "metadata": {},
   "outputs": [],
   "source": [
    "sol = Solution()"
   ]
  },
  {
   "cell_type": "code",
   "execution_count": 4,
   "id": "f92d8f29-bbe4-485e-ad8a-5e4d00936dbe",
   "metadata": {},
   "outputs": [],
   "source": [
    "assert sol.findPrefixScore([2,3,7,5,10]) == [4,10,24,36,56]"
   ]
  },
  {
   "cell_type": "code",
   "execution_count": 5,
   "id": "3f64c8b7-92a5-4aaa-95be-3ba40c300c12",
   "metadata": {},
   "outputs": [],
   "source": [
    "assert sol.findPrefixScore([1,1,2,4,8,16]) == [2,4,8,16,32,64]"
   ]
  }
 ],
 "metadata": {
  "kernelspec": {
   "display_name": "Python 3 (ipykernel)",
   "language": "python",
   "name": "python3"
  },
  "language_info": {
   "codemirror_mode": {
    "name": "ipython",
    "version": 3
   },
   "file_extension": ".py",
   "mimetype": "text/x-python",
   "name": "python",
   "nbconvert_exporter": "python",
   "pygments_lexer": "ipython3",
   "version": "3.9.7"
  }
 },
 "nbformat": 4,
 "nbformat_minor": 5
}
