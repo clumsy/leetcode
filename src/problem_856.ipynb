{
 "cells": [
  {
   "cell_type": "markdown",
   "id": "6adacc48-b618-4641-9a8d-89bcbb787c77",
   "metadata": {},
   "source": [
    "[Problem 856](https://leetcode.com/problems/score-of-parentheses/description)"
   ]
  },
  {
   "cell_type": "code",
   "execution_count": 1,
   "id": "ef56e5f2-fcd1-4b56-b571-4c19ff12c806",
   "metadata": {},
   "outputs": [],
   "source": [
    "class Solution:\n",
    "    def scoreOfParentheses(self, s: str) -> int:\n",
    "        res, d, i, n = 0, 0, 0, len(s)\n",
    "        while i < n:\n",
    "            while i < n and s[i] == \"(\":\n",
    "                d += 1\n",
    "                i += 1\n",
    "            res += 1 << (d - 1)\n",
    "            while i < n and s[i] == \")\":\n",
    "                d -= 1\n",
    "                i += 1\n",
    "        return res"
   ]
  },
  {
   "cell_type": "code",
   "execution_count": 2,
   "id": "31e3b2a1-05ab-42bf-ab79-a39642906bb5",
   "metadata": {},
   "outputs": [],
   "source": [
    "sol = Solution()"
   ]
  },
  {
   "cell_type": "code",
   "execution_count": 3,
   "id": "c57b373c-6d63-4514-b51d-06361b1ac1b8",
   "metadata": {},
   "outputs": [],
   "source": [
    "assert sol.scoreOfParentheses(\"()\") == 1"
   ]
  },
  {
   "cell_type": "code",
   "execution_count": 4,
   "id": "637aace8-2dbc-4446-aa67-f22c554bcffb",
   "metadata": {},
   "outputs": [],
   "source": [
    "assert sol.scoreOfParentheses(\"(())\") == 2"
   ]
  },
  {
   "cell_type": "code",
   "execution_count": 5,
   "id": "7561e996-abcf-4c8f-9789-42683792cf6c",
   "metadata": {},
   "outputs": [],
   "source": [
    "assert sol.scoreOfParentheses(\"()()\") == 2"
   ]
  }
 ],
 "metadata": {
  "kernelspec": {
   "display_name": "Python 3 (ipykernel)",
   "language": "python",
   "name": "python3"
  },
  "language_info": {
   "codemirror_mode": {
    "name": "ipython",
    "version": 3
   },
   "file_extension": ".py",
   "mimetype": "text/x-python",
   "name": "python",
   "nbconvert_exporter": "python",
   "pygments_lexer": "ipython3",
   "version": "3.9.7"
  }
 },
 "nbformat": 4,
 "nbformat_minor": 5
}
