{
 "cells": [
  {
   "cell_type": "markdown",
   "id": "08a4c354-c4b0-47d5-bcc4-855d3018edfc",
   "metadata": {},
   "source": [
    "[Problem 2558](https://leetcode.com/problems/take-gifts-from-the-richest-pile/description)"
   ]
  },
  {
   "cell_type": "code",
   "execution_count": 13,
   "id": "ad6909e3-33f0-42c5-9a1e-186c1aeea291",
   "metadata": {},
   "outputs": [],
   "source": [
    "from typing import List\n",
    "from heapq import heapify, heappush, heappop\n",
    "from math import floor, sqrt"
   ]
  },
  {
   "cell_type": "code",
   "execution_count": 14,
   "id": "c7354cb4-0fd2-4ea0-aae2-5f817a93ae6b",
   "metadata": {},
   "outputs": [],
   "source": [
    "class Solution:\n",
    "    def pickGifts(self, gifts: List[int], k: int) -> int:\n",
    "        for i in range(len(gifts)):\n",
    "            gifts[i] *= -1\n",
    "        heapify(gifts)\n",
    "        while k > 0:\n",
    "            cur = -heappop(gifts)\n",
    "            heappush(gifts, -floor(sqrt(cur)))\n",
    "            k -= 1\n",
    "        res = -sum(gifts)\n",
    "        return res"
   ]
  },
  {
   "cell_type": "code",
   "execution_count": 15,
   "id": "c3465eb6-882c-481a-bff5-34b61921cc5a",
   "metadata": {},
   "outputs": [],
   "source": [
    "sol = Solution()"
   ]
  },
  {
   "cell_type": "code",
   "execution_count": 16,
   "id": "e0b86d95-4deb-425c-b882-d1a67cb10d05",
   "metadata": {},
   "outputs": [],
   "source": [
    "assert sol.pickGifts([25,64,9,4,100], 4) == 29"
   ]
  },
  {
   "cell_type": "code",
   "execution_count": 17,
   "id": "36b89c86-7a61-4956-bbf0-6193ff9abd60",
   "metadata": {},
   "outputs": [],
   "source": [
    "assert sol.pickGifts([1,1,1,1], 4) == 4"
   ]
  }
 ],
 "metadata": {
  "kernelspec": {
   "display_name": "Python 3 (ipykernel)",
   "language": "python",
   "name": "python3"
  },
  "language_info": {
   "codemirror_mode": {
    "name": "ipython",
    "version": 3
   },
   "file_extension": ".py",
   "mimetype": "text/x-python",
   "name": "python",
   "nbconvert_exporter": "python",
   "pygments_lexer": "ipython3",
   "version": "3.9.7"
  }
 },
 "nbformat": 4,
 "nbformat_minor": 5
}
