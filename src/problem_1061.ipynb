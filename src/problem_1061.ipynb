{
 "cells": [
  {
   "cell_type": "markdown",
   "id": "025c27fa-60bf-4149-972a-3a68c778795d",
   "metadata": {},
   "source": [
    "[Problem 1061]()"
   ]
  },
  {
   "cell_type": "code",
   "execution_count": 1,
   "id": "389bec1b-fa15-4288-94be-00bcd6c83d94",
   "metadata": {},
   "outputs": [],
   "source": [
    "import string"
   ]
  },
  {
   "cell_type": "code",
   "execution_count": 2,
   "id": "e3ee7f8d-fa45-4295-99b3-6bab72929a67",
   "metadata": {},
   "outputs": [],
   "source": [
    "class Solution:\n",
    "    def smallestEquivalentString(self, s1: str, s2: str, baseStr: str) -> str:\n",
    "        class UnionFind:\n",
    "            def __init__(self):\n",
    "                self.prnt = {c: c for c in string.ascii_lowercase}\n",
    "            \n",
    "            def find(self, c):\n",
    "                if c != self.prnt[c]:\n",
    "                    self.prnt[c] = self.find(self.prnt[c])\n",
    "                return self.prnt[c]\n",
    "\n",
    "            def union(self, a, b):\n",
    "                pa, pb = self.find(a), self.find(b)\n",
    "                if pa != pb:\n",
    "                    if pa > pb:\n",
    "                        pa, pb = pb, pa\n",
    "                    self.prnt[pb] = pa\n",
    "                return pa\n",
    "\n",
    "        uf = UnionFind()\n",
    "        for a, b in zip(s1, s2):\n",
    "            uf.union(a, b)\n",
    "\n",
    "        res = \"\".join(uf.find(c) for c in baseStr)\n",
    "        return res"
   ]
  },
  {
   "cell_type": "code",
   "execution_count": 3,
   "id": "80cfdffd-dcf5-494e-b8ae-eb727bd33c92",
   "metadata": {},
   "outputs": [],
   "source": [
    "sol = Solution()"
   ]
  },
  {
   "cell_type": "code",
   "execution_count": 4,
   "id": "3d97df3a-3f1a-4c35-b852-b4c4427dd223",
   "metadata": {},
   "outputs": [],
   "source": [
    "assert sol.smallestEquivalentString(\"parker\", \"morris\", \"parser\") == \"makkek\""
   ]
  },
  {
   "cell_type": "code",
   "execution_count": 5,
   "id": "9b74a04c-36be-46d3-8fa5-c531415c5a21",
   "metadata": {},
   "outputs": [],
   "source": [
    "assert sol.smallestEquivalentString(\"hello\", \"world\", \"hold\") == \"hdld\""
   ]
  },
  {
   "cell_type": "code",
   "execution_count": 6,
   "id": "0a47c53d-63ca-4555-8b9a-97db108af971",
   "metadata": {},
   "outputs": [],
   "source": [
    "assert sol.smallestEquivalentString(\"leetcode\", \"programs\", \"sourcecode\") == \"aauaaaaada\""
   ]
  }
 ],
 "metadata": {
  "kernelspec": {
   "display_name": "Python 3 (ipykernel)",
   "language": "python",
   "name": "python3"
  },
  "language_info": {
   "codemirror_mode": {
    "name": "ipython",
    "version": 3
   },
   "file_extension": ".py",
   "mimetype": "text/x-python",
   "name": "python",
   "nbconvert_exporter": "python",
   "pygments_lexer": "ipython3",
   "version": "3.9.7"
  }
 },
 "nbformat": 4,
 "nbformat_minor": 5
}
