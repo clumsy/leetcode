{
 "cells": [
  {
   "cell_type": "markdown",
   "id": "6f840035-155e-4b10-819c-633f1c87b5c0",
   "metadata": {},
   "source": [
    "[Problem 1507](https://leetcode.com/problems/reformat-date)"
   ]
  },
  {
   "cell_type": "code",
   "execution_count": 19,
   "id": "242431b6-4c93-4639-9734-057ef8400d60",
   "metadata": {},
   "outputs": [],
   "source": [
    "class Solution:\n",
    "    def reformatDate(self, date: str) -> str:\n",
    "        mon = {\n",
    "            \"Jan\": \"01\",\n",
    "            \"Feb\": \"02\",\n",
    "            \"Mar\": \"03\",\n",
    "            \"Apr\": \"04\",\n",
    "            \"May\": \"05\",\n",
    "            \"Jun\": \"06\",\n",
    "            \"Jul\": \"07\",\n",
    "            \"Aug\": \"08\",\n",
    "            \"Sep\": \"09\",\n",
    "            \"Oct\": \"10\",\n",
    "            \"Nov\": \"11\",\n",
    "            \"Dec\": \"12\",\n",
    "        }\n",
    "        day, month, year = date.split()\n",
    "        day = day.replace(\"st\", \"\").replace(\"th\", \"\").replace(\"rd\", \"\").replace(\"nd\", \"\")\n",
    "        res = f\"{year}-{mon[month]}-{day:0>2}\"\n",
    "        return res"
   ]
  },
  {
   "cell_type": "code",
   "execution_count": 20,
   "id": "a3a37bad-68f0-4571-8b86-c61a3fd7b596",
   "metadata": {},
   "outputs": [],
   "source": [
    "sol = Solution()"
   ]
  },
  {
   "cell_type": "code",
   "execution_count": 21,
   "id": "715dadd5-b97b-450e-9fa0-138ff6832732",
   "metadata": {},
   "outputs": [],
   "source": [
    "assert sol.reformatDate(\"20th Oct 2052\") == \"2052-10-20\""
   ]
  },
  {
   "cell_type": "code",
   "execution_count": 23,
   "id": "99236155-2a85-4128-b2e0-63dce394e79e",
   "metadata": {},
   "outputs": [],
   "source": [
    "assert sol.reformatDate(\"6th Jun 1933\") == \"1933-06-06\""
   ]
  },
  {
   "cell_type": "code",
   "execution_count": 24,
   "id": "dcec56b6-3091-4ade-93b0-cf2f4fc632d8",
   "metadata": {},
   "outputs": [],
   "source": [
    "assert sol.reformatDate(\"26th May 1960\") == \"1960-05-26\""
   ]
  }
 ],
 "metadata": {
  "kernelspec": {
   "display_name": "Python 3 (ipykernel)",
   "language": "python",
   "name": "python3"
  },
  "language_info": {
   "codemirror_mode": {
    "name": "ipython",
    "version": 3
   },
   "file_extension": ".py",
   "mimetype": "text/x-python",
   "name": "python",
   "nbconvert_exporter": "python",
   "pygments_lexer": "ipython3",
   "version": "3.9.7"
  }
 },
 "nbformat": 4,
 "nbformat_minor": 5
}
