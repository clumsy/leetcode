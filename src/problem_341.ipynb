{
 "cells": [
  {
   "cell_type": "markdown",
   "id": "b42d2bd2-98bf-4ac4-a7f8-25b04cfd6a01",
   "metadata": {},
   "source": [
    "[Problem 341](https://leetcode.com/problems/flatten-nested-list-iterator/description)"
   ]
  },
  {
   "cell_type": "code",
   "execution_count": 1,
   "id": "6058a0bf-235b-45f9-b6fd-4173fd11cfe9",
   "metadata": {},
   "outputs": [],
   "source": [
    "class NestedInteger:\n",
    "    def __init__(self, v):\n",
    "        self.val = (type(v), v)\n",
    "    \n",
    "    def isInteger(self) -> bool:\n",
    "        return self.val[0] == int\n",
    "\n",
    "    def getInteger(self) -> int:\n",
    "        return self.val[1]\n",
    "\n",
    "    def getList(self):\n",
    "        return self.val[1]"
   ]
  },
  {
   "cell_type": "code",
   "execution_count": 2,
   "id": "383cfd44-6dc8-4d03-9cd1-2d71118fb820",
   "metadata": {},
   "outputs": [],
   "source": [
    "class NestedIterator:\n",
    "    def __init__(self, nestedList: [NestedInteger]):\n",
    "        self.stack = nestedList[::-1]\n",
    "    \n",
    "    def next(self) -> int:\n",
    "        return self.stack.pop().getInteger()\n",
    "    \n",
    "    def hasNext(self) -> bool:\n",
    "        while self.stack and not self.stack[-1].isInteger():\n",
    "            self.stack.extend(self.stack.pop().getList()[::-1])\n",
    "        return self.stack"
   ]
  },
  {
   "cell_type": "code",
   "execution_count": 3,
   "id": "2d786520-6e14-43e2-bcf2-b32e6aeb87f0",
   "metadata": {},
   "outputs": [],
   "source": [
    "nestedList = [\n",
    "    NestedInteger([\n",
    "        NestedInteger(1),\n",
    "        NestedInteger(1),\n",
    "    ]),\n",
    "    NestedInteger(2),\n",
    "    NestedInteger([\n",
    "        NestedInteger(1),\n",
    "        NestedInteger(1),\n",
    "    ])\n",
    "]\n",
    "i, v = NestedIterator(nestedList), []\n",
    "while i.hasNext(): v.append(i.next())\n",
    "assert v == [1,1,2,1,1]"
   ]
  },
  {
   "cell_type": "code",
   "execution_count": 4,
   "id": "bc32a922-47c3-408c-a33b-f02651363fef",
   "metadata": {},
   "outputs": [],
   "source": [
    "nestedList = [NestedInteger([NestedInteger(1),NestedInteger([NestedInteger(4), NestedInteger(6)])])]\n",
    "i, v = NestedIterator(nestedList), []\n",
    "while i.hasNext(): v.append(i.next())\n",
    "assert v == [1,4,6]"
   ]
  }
 ],
 "metadata": {
  "kernelspec": {
   "display_name": "Python 3 (ipykernel)",
   "language": "python",
   "name": "python3"
  },
  "language_info": {
   "codemirror_mode": {
    "name": "ipython",
    "version": 3
   },
   "file_extension": ".py",
   "mimetype": "text/x-python",
   "name": "python",
   "nbconvert_exporter": "python",
   "pygments_lexer": "ipython3",
   "version": "3.9.7"
  }
 },
 "nbformat": 4,
 "nbformat_minor": 5
}
