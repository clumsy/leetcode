{
 "cells": [
  {
   "cell_type": "markdown",
   "id": "26474573-1d78-4db6-9a14-b62344e370cf",
   "metadata": {},
   "source": [
    "[Problem 2433](https://leetcode.com/problems/find-the-original-array-of-prefix-xor/description)"
   ]
  },
  {
   "cell_type": "code",
   "execution_count": 1,
   "id": "a291f500-142d-4c3e-850c-67b94831dd97",
   "metadata": {},
   "outputs": [],
   "source": [
    "from typing import List"
   ]
  },
  {
   "cell_type": "code",
   "execution_count": 2,
   "id": "e1cd0a10-863d-47ab-b9a4-096dd52d0a47",
   "metadata": {},
   "outputs": [],
   "source": [
    "class Solution:\n",
    "    def findArray(self, pref: List[int]) -> List[int]:\n",
    "        # p0 = x0\n",
    "        # p1 = x0 ^ x1 => p1 ^ p0 = x0 ^ x0 ^ x1 = x1\n",
    "        for i in range(len(pref) - 1, -1 , -1):\n",
    "            pref[i] = pref[i] ^ (pref[i - 1] if i > 0 else 0)\n",
    "        res = pref\n",
    "        return res"
   ]
  },
  {
   "cell_type": "code",
   "execution_count": 3,
   "id": "8d85dc72-745c-408e-9dc0-17d0eb6d436c",
   "metadata": {},
   "outputs": [],
   "source": [
    "sol = Solution()"
   ]
  },
  {
   "cell_type": "code",
   "execution_count": 4,
   "id": "41f5b873-2d97-4d85-8fba-8fe382f37dc2",
   "metadata": {},
   "outputs": [],
   "source": [
    "assert sol.findArray([5,2,0,3,1]) == [5,7,2,3,2]"
   ]
  },
  {
   "cell_type": "code",
   "execution_count": null,
   "id": "b67aebb7-e582-41eb-b47d-97554634b6af",
   "metadata": {},
   "outputs": [],
   "source": [
    "assert sol.findArray([13]) == [13]"
   ]
  }
 ],
 "metadata": {
  "kernelspec": {
   "display_name": "Python 3 (ipykernel)",
   "language": "python",
   "name": "python3"
  },
  "language_info": {
   "codemirror_mode": {
    "name": "ipython",
    "version": 3
   },
   "file_extension": ".py",
   "mimetype": "text/x-python",
   "name": "python",
   "nbconvert_exporter": "python",
   "pygments_lexer": "ipython3",
   "version": "3.9.7"
  }
 },
 "nbformat": 4,
 "nbformat_minor": 5
}
