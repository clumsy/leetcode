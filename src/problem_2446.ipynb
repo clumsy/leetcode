{
 "cells": [
  {
   "cell_type": "markdown",
   "id": "40e3a758-0fa4-4bb2-b3f7-ddcfb200debc",
   "metadata": {},
   "source": [
    "[Problem 2446]()"
   ]
  },
  {
   "cell_type": "code",
   "execution_count": 1,
   "id": "af19dfb1-37e0-474e-9230-ca8222eb4f04",
   "metadata": {},
   "outputs": [],
   "source": [
    "from typing import List"
   ]
  },
  {
   "cell_type": "code",
   "execution_count": 2,
   "id": "31b924e4-1341-49a6-b85d-e6362a7a9471",
   "metadata": {},
   "outputs": [],
   "source": [
    "class Solution:\n",
    "    def haveConflict(self, e1: List[str], e2: List[str]) -> bool:\n",
    "        return e1[0] <= e2[1] and e2[0] <= e1[1]"
   ]
  },
  {
   "cell_type": "code",
   "execution_count": 3,
   "id": "1f0dfdd1-5da3-499a-9f4e-067429a4a01f",
   "metadata": {},
   "outputs": [],
   "source": [
    "sol = Solution()"
   ]
  },
  {
   "cell_type": "code",
   "execution_count": 4,
   "id": "6c36a761-8920-4a4b-a1a8-fdb1c21b6c9a",
   "metadata": {},
   "outputs": [],
   "source": [
    "assert sol.haveConflict([\"01:15\",\"02:00\"], [\"02:00\",\"03:00\"])"
   ]
  },
  {
   "cell_type": "code",
   "execution_count": 5,
   "id": "0d179d4e-c4fa-48d3-b1c7-8268f4636640",
   "metadata": {},
   "outputs": [],
   "source": [
    "assert sol.haveConflict([\"01:00\",\"02:00\"], [\"01:20\",\"03:00\"])"
   ]
  },
  {
   "cell_type": "code",
   "execution_count": 6,
   "id": "065ce3e2-b74d-47b7-b954-696aafb67b6b",
   "metadata": {},
   "outputs": [],
   "source": [
    "assert not sol.haveConflict([\"10:00\",\"11:00\"], [\"14:00\",\"15:00\"])"
   ]
  }
 ],
 "metadata": {
  "kernelspec": {
   "display_name": "Python 3 (ipykernel)",
   "language": "python",
   "name": "python3"
  },
  "language_info": {
   "codemirror_mode": {
    "name": "ipython",
    "version": 3
   },
   "file_extension": ".py",
   "mimetype": "text/x-python",
   "name": "python",
   "nbconvert_exporter": "python",
   "pygments_lexer": "ipython3",
   "version": "3.9.7"
  }
 },
 "nbformat": 4,
 "nbformat_minor": 5
}
