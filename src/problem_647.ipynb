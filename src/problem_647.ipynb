{
 "cells": [
  {
   "cell_type": "markdown",
   "id": "b571bc6c-937d-4e39-8a67-75f9458905b5",
   "metadata": {},
   "source": [
    "[Problem 647](https://leetcode.com/problems/palindromic-substrings/description)"
   ]
  },
  {
   "cell_type": "code",
   "execution_count": 1,
   "id": "18618d23-214a-4084-93e3-5d912f74218b",
   "metadata": {},
   "outputs": [],
   "source": [
    "class Solution:\n",
    "    def countSubstrings(self, s: str) -> int:\n",
    "        n = len(s)\n",
    "\n",
    "        def count_palindroms(lo, hi):\n",
    "            res = 0\n",
    "            while lo >= 0 and hi < n and s[lo] == s[hi]:\n",
    "                res += 1\n",
    "                lo -= 1\n",
    "                hi += 1\n",
    "            return res\n",
    "        \n",
    "        res = 0\n",
    "        for i in range(n):\n",
    "            res += count_palindroms(i, i)\n",
    "            if i < n - 1:\n",
    "                res += count_palindroms(i, i + 1)\n",
    "        return res"
   ]
  },
  {
   "cell_type": "code",
   "execution_count": 2,
   "id": "4f0165c0-98ae-41e0-b534-2f936f9a8f6c",
   "metadata": {},
   "outputs": [],
   "source": [
    "sol = Solution()"
   ]
  },
  {
   "cell_type": "code",
   "execution_count": 3,
   "id": "5416b987-cf60-4eef-9b6c-f100fd2b41ed",
   "metadata": {},
   "outputs": [],
   "source": [
    "assert sol.countSubstrings(\"abc\") == 3"
   ]
  },
  {
   "cell_type": "code",
   "execution_count": 4,
   "id": "677fd3a6-3dd0-4cbe-9ac3-09faec1b6dae",
   "metadata": {},
   "outputs": [],
   "source": [
    "assert sol.countSubstrings(\"aaa\") == 6"
   ]
  }
 ],
 "metadata": {
  "kernelspec": {
   "display_name": "Python 3 (ipykernel)",
   "language": "python",
   "name": "python3"
  },
  "language_info": {
   "codemirror_mode": {
    "name": "ipython",
    "version": 3
   },
   "file_extension": ".py",
   "mimetype": "text/x-python",
   "name": "python",
   "nbconvert_exporter": "python",
   "pygments_lexer": "ipython3",
   "version": "3.9.7"
  }
 },
 "nbformat": 4,
 "nbformat_minor": 5
}
