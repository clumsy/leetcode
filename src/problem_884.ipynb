{
 "cells": [
  {
   "cell_type": "markdown",
   "id": "465dd1da-611f-4fa9-876d-c5176d75a7f6",
   "metadata": {},
   "source": [
    "[Problem 884](https://leetcode.com/problems/uncommon-words-from-two-sentences/description)"
   ]
  },
  {
   "cell_type": "code",
   "execution_count": 5,
   "id": "6ae0df33-d494-446c-9cfb-38423d37da45",
   "metadata": {},
   "outputs": [],
   "source": [
    "from typing import List\n",
    "from collections import Counter"
   ]
  },
  {
   "cell_type": "code",
   "execution_count": 6,
   "id": "dec2dac5-cb3b-472d-ad27-ef763d786361",
   "metadata": {},
   "outputs": [],
   "source": [
    "class Solution:\n",
    "    def uncommonFromSentences(self, s1: str, s2: str) -> List[str]:\n",
    "        cnt = Counter((s1 + \" \" + s2).split())\n",
    "        res = [s for s in cnt if cnt[s] == 1]\n",
    "        return res"
   ]
  },
  {
   "cell_type": "code",
   "execution_count": 7,
   "id": "a58505f1-13fa-4591-a948-e641dcf3a14b",
   "metadata": {},
   "outputs": [],
   "source": [
    "sol = Solution()"
   ]
  },
  {
   "cell_type": "code",
   "execution_count": 8,
   "id": "55a6a39d-6b2b-4b65-9872-7002625ad3cb",
   "metadata": {},
   "outputs": [],
   "source": [
    "assert sol.uncommonFromSentences(\"this apple is sweet\", \"this apple is sour\") == [\"sweet\",\"sour\"]"
   ]
  },
  {
   "cell_type": "code",
   "execution_count": 9,
   "id": "ef7fccde-c4fd-4508-b1c8-a7c4721dc2a1",
   "metadata": {},
   "outputs": [],
   "source": [
    "assert sol.uncommonFromSentences(\"apple apple\", \"banana\") == [\"banana\"]"
   ]
  }
 ],
 "metadata": {
  "kernelspec": {
   "display_name": "Python 3 (ipykernel)",
   "language": "python",
   "name": "python3"
  },
  "language_info": {
   "codemirror_mode": {
    "name": "ipython",
    "version": 3
   },
   "file_extension": ".py",
   "mimetype": "text/x-python",
   "name": "python",
   "nbconvert_exporter": "python",
   "pygments_lexer": "ipython3",
   "version": "3.9.7"
  }
 },
 "nbformat": 4,
 "nbformat_minor": 5
}
