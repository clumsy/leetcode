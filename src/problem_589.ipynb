{
 "cells": [
  {
   "cell_type": "markdown",
   "id": "bdf6dea8-b320-4f96-bc0d-fe71b71a5998",
   "metadata": {},
   "source": [
    "[Problem 589](https://leetcode.com/problems/n-ary-tree-preorder-traversal/description)"
   ]
  },
  {
   "cell_type": "code",
   "execution_count": 1,
   "id": "8e4794c9-68d6-4dd4-b864-9b90858c67b4",
   "metadata": {},
   "outputs": [],
   "source": [
    "# Definition for a Node.\n",
    "class Node:\n",
    "    def __init__(self, val=None, children=[]):\n",
    "        self.val = val\n",
    "        self.children = children"
   ]
  },
  {
   "cell_type": "code",
   "execution_count": 2,
   "id": "0151787b-af0d-43b0-8700-57d1e183abe5",
   "metadata": {},
   "outputs": [],
   "source": [
    "from typing import List"
   ]
  },
  {
   "cell_type": "code",
   "execution_count": 3,
   "id": "58c56340-123b-4e78-a4cf-14efb776c98e",
   "metadata": {},
   "outputs": [],
   "source": [
    "class Solution:\n",
    "    def preorder(self, root: Node) -> List[int]:\n",
    "        res = []\n",
    "        def _preorder(node):\n",
    "            if node is None:\n",
    "                return\n",
    "            res.append(node.val)\n",
    "            for c in node.children:\n",
    "                _preorder(c)\n",
    "        _preorder(root)\n",
    "        return res"
   ]
  },
  {
   "cell_type": "code",
   "execution_count": 4,
   "id": "137e72f9-99e1-43af-ad14-7f0844d97c4c",
   "metadata": {},
   "outputs": [],
   "source": [
    "class Solution:\n",
    "    def preorder(self, root: 'Node') -> List[int]:\n",
    "        res, q = [], [root]\n",
    "        while q:\n",
    "            node = q.pop()\n",
    "            res.append(node.val)\n",
    "            q.extend(node.children[::-1])\n",
    "        return res"
   ]
  },
  {
   "cell_type": "code",
   "execution_count": 5,
   "id": "45434e08-fc03-402b-8ae8-3af5fbb754a5",
   "metadata": {},
   "outputs": [],
   "source": [
    "sol = Solution()"
   ]
  },
  {
   "cell_type": "code",
   "execution_count": 6,
   "id": "62f4f63a-f04f-47e9-a3af-15728960040c",
   "metadata": {},
   "outputs": [],
   "source": [
    "tree = Node(val=1, children=[\n",
    "    Node(val=3, children=[\n",
    "        Node(val=5),\n",
    "        Node(val=6),\n",
    "    ]),\n",
    "    Node(val=2),\n",
    "    Node(val=4),\n",
    "])\n",
    "assert sol.preorder(tree) == [1,3,5,6,2,4] "
   ]
  },
  {
   "cell_type": "code",
   "execution_count": 7,
   "id": "f5e81314-edf9-45bf-88ce-01af6a084c52",
   "metadata": {},
   "outputs": [],
   "source": [
    "tree = Node(val=1, children=[\n",
    "    Node(val=2),\n",
    "    Node(val=3, children=[\n",
    "        Node(val=6),\n",
    "        Node(val=7, children=[\n",
    "            Node(val=11, children=[\n",
    "                Node(val=14)\n",
    "            ])\n",
    "        ]),\n",
    "    ]),\n",
    "    Node(val=4, children=[\n",
    "        Node(val=8, children=[\n",
    "            Node(val=12)\n",
    "        ])\n",
    "    ]),\n",
    "    Node(val=5, children=[\n",
    "        Node(val=9, children=[\n",
    "            Node(val=13)\n",
    "        ]),\n",
    "        Node(val=10)\n",
    "    ]),\n",
    "])\n",
    "assert sol.preorder(tree) == [1,2,3,6,7,11,14,4,8,12,5,9,13,10]"
   ]
  }
 ],
 "metadata": {
  "kernelspec": {
   "display_name": "Python 3 (ipykernel)",
   "language": "python",
   "name": "python3"
  },
  "language_info": {
   "codemirror_mode": {
    "name": "ipython",
    "version": 3
   },
   "file_extension": ".py",
   "mimetype": "text/x-python",
   "name": "python",
   "nbconvert_exporter": "python",
   "pygments_lexer": "ipython3",
   "version": "3.9.7"
  }
 },
 "nbformat": 4,
 "nbformat_minor": 5
}
