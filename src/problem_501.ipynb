{
 "cells": [
  {
   "cell_type": "markdown",
   "id": "770b2500-8947-4228-ba1b-eecd80d0ec85",
   "metadata": {},
   "source": [
    "[Problem 501](https://leetcode.com/problems/find-mode-in-binary-search-tree)"
   ]
  },
  {
   "cell_type": "code",
   "execution_count": 104,
   "id": "fbd7a4bd-b807-4931-8af4-e7cf209bc77e",
   "metadata": {},
   "outputs": [],
   "source": [
    "from typing import Optional, List"
   ]
  },
  {
   "cell_type": "code",
   "execution_count": 105,
   "id": "4822c847-b842-4d87-b732-8abb4dda0f97",
   "metadata": {},
   "outputs": [],
   "source": [
    "# Definition for a binary tree node.\n",
    "class TreeNode:\n",
    "    def __init__(self, val=0, left=None, right=None):\n",
    "        self.val = val\n",
    "        self.left = left\n",
    "        self.right = right"
   ]
  },
  {
   "cell_type": "code",
   "execution_count": 114,
   "id": "240e3f52-7ad0-4115-8a2b-84962401e13b",
   "metadata": {},
   "outputs": [],
   "source": [
    "class Solution:\n",
    "    def findMode(self, root: Optional[TreeNode]) -> List[int]:\n",
    "        self.max_count = 0\n",
    "        self.mode_count = 0\n",
    "        self.current_val = 0\n",
    "        self.current_count = 0\n",
    "\n",
    "        self.inorder(root)\n",
    "        self.current_count = 0\n",
    "        return self.inorder(root, [])\n",
    "    \n",
    "    def inorder(self, root, modes=None):\n",
    "        node = root\n",
    "        while node:\n",
    "            if not node.left:\n",
    "                self.handle_value(node.val, modes);\n",
    "                node = node.right;\n",
    "            else:\n",
    "                prev = node.left;\n",
    "                while prev.right and prev.right != node:\n",
    "                    prev = prev.right;\n",
    "                if not prev.right:\n",
    "                    prev.right = node\n",
    "                    node = node.left\n",
    "                else:\n",
    "                    prev.right = None\n",
    "                    self.handle_value(node.val, modes)\n",
    "                    node = node.right\n",
    "        return modes\n",
    "    \n",
    "    def handle_value(self, val, modes):\n",
    "        if val != self.current_val:\n",
    "            self.current_val = val\n",
    "            self.current_count = 0\n",
    "        self.current_count += 1\n",
    "        if self.current_count > self.max_count:\n",
    "            self.max_count = self.current_count\n",
    "            self.mode_count = 1\n",
    "        elif self.current_count == self.max_count:\n",
    "            if modes is not None:\n",
    "                modes.append(val)\n",
    "            else:\n",
    "                self.mode_count += 1"
   ]
  },
  {
   "cell_type": "code",
   "execution_count": 115,
   "id": "c8da0a1c-627c-4611-96bd-c9733d6e3e71",
   "metadata": {},
   "outputs": [],
   "source": [
    "sol = Solution()"
   ]
  },
  {
   "cell_type": "code",
   "execution_count": 116,
   "id": "c266afd4-54b3-4e64-8460-9b8a74a763d0",
   "metadata": {},
   "outputs": [],
   "source": [
    "from collections import deque\n",
    "\n",
    "null = None  # to use Leetcode samples as is\n",
    "\n",
    "def tree(values):\n",
    "    if not values:\n",
    "        return null\n",
    "    root = TreeNode(values[0])\n",
    "    queue = deque()\n",
    "    queue.append(root)\n",
    "    queue.append(None)\n",
    "    length = len(values)\n",
    "    i = 0\n",
    "    while queue:\n",
    "        current = queue.popleft()\n",
    "        if current:\n",
    "            i += 1\n",
    "            if i < length and values[i]:\n",
    "                current.left = TreeNode(values[i])\n",
    "                queue.append(current.left)\n",
    "            i += 1\n",
    "            if i < length and values[i]:\n",
    "                current.right = TreeNode(values[i])\n",
    "                queue.append(current.right)\n",
    "            if i == length:\n",
    "                return root\n",
    "        else:\n",
    "            if queue:\n",
    "                queue.append(None)\n",
    "    return root"
   ]
  },
  {
   "cell_type": "code",
   "execution_count": 117,
   "id": "3e85516f-fbf3-430c-9bc8-ba46db498cf8",
   "metadata": {},
   "outputs": [],
   "source": [
    "assert sol.findMode(tree([1,null,2,2])) == [2]"
   ]
  },
  {
   "cell_type": "code",
   "execution_count": 118,
   "id": "ec02a7db-c8c5-4521-9492-ea809cfea774",
   "metadata": {},
   "outputs": [],
   "source": [
    "assert sol.findMode(tree([0])) == [0]"
   ]
  },
  {
   "cell_type": "code",
   "execution_count": 119,
   "id": "ab7e4445-d0b2-4f16-9fc7-c578d86e2d56",
   "metadata": {},
   "outputs": [],
   "source": [
    "assert sol.findMode(tree([2,null,3,null,4,null,5,null,6])) == [2,3,4,5,6]"
   ]
  }
 ],
 "metadata": {
  "kernelspec": {
   "display_name": "Python 3 (ipykernel)",
   "language": "python",
   "name": "python3"
  },
  "language_info": {
   "codemirror_mode": {
    "name": "ipython",
    "version": 3
   },
   "file_extension": ".py",
   "mimetype": "text/x-python",
   "name": "python",
   "nbconvert_exporter": "python",
   "pygments_lexer": "ipython3",
   "version": "3.9.7"
  }
 },
 "nbformat": 4,
 "nbformat_minor": 5
}
