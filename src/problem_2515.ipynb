{
 "cells": [
  {
   "cell_type": "markdown",
   "id": "ec7e306a-8771-407e-a70e-a320ca59283a",
   "metadata": {},
   "source": [
    "[Problem 2515](https://leetcode.com/problems/shortest-distance-to-target-string-in-a-circular-array/description)"
   ]
  },
  {
   "cell_type": "code",
   "execution_count": 1,
   "id": "47787ece-15b0-4453-8979-9f9b2ec91292",
   "metadata": {},
   "outputs": [],
   "source": [
    "from typing import List"
   ]
  },
  {
   "cell_type": "code",
   "execution_count": 2,
   "id": "beb66e38-9b71-49a4-baaf-4d66997658b0",
   "metadata": {},
   "outputs": [],
   "source": [
    "class Solution:\n",
    "    def closetTarget(self, words: List[str], target: str, startIndex: int) -> int:\n",
    "        n, i = len(words), 0\n",
    "        while i < n:\n",
    "            if words[(startIndex + i) % n] == target or words[(startIndex - i) % n] == target:\n",
    "                break\n",
    "            i += 1\n",
    "        res = i if i != n else -1\n",
    "        return res"
   ]
  },
  {
   "cell_type": "code",
   "execution_count": 3,
   "id": "24ca804e-a925-4791-9806-f0d1cd4b2790",
   "metadata": {},
   "outputs": [],
   "source": [
    "sol = Solution()"
   ]
  },
  {
   "cell_type": "code",
   "execution_count": 4,
   "id": "376617d1-9f57-4e88-8806-59dd1f240a28",
   "metadata": {},
   "outputs": [],
   "source": [
    "assert sol.closetTarget([\"hello\",\"i\",\"am\",\"leetcode\",\"hello\"], \"hello\", 1) == 1"
   ]
  },
  {
   "cell_type": "code",
   "execution_count": 5,
   "id": "67161e34-0d1f-49ce-954e-38e96eab52f8",
   "metadata": {},
   "outputs": [],
   "source": [
    "assert sol.closetTarget([\"a\",\"b\",\"leetcode\"], \"leetcode\", 0) == 1"
   ]
  },
  {
   "cell_type": "code",
   "execution_count": 6,
   "id": "338aba31-e8ca-4502-b2de-b3b2b9b7103e",
   "metadata": {},
   "outputs": [],
   "source": [
    "assert sol.closetTarget([\"i\",\"eat\",\"leetcode\"], \"ate\", 0) == -1"
   ]
  }
 ],
 "metadata": {
  "kernelspec": {
   "display_name": "Python 3 (ipykernel)",
   "language": "python",
   "name": "python3"
  },
  "language_info": {
   "codemirror_mode": {
    "name": "ipython",
    "version": 3
   },
   "file_extension": ".py",
   "mimetype": "text/x-python",
   "name": "python",
   "nbconvert_exporter": "python",
   "pygments_lexer": "ipython3",
   "version": "3.9.7"
  }
 },
 "nbformat": 4,
 "nbformat_minor": 5
}
