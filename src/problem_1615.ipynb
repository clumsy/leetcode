{
 "cells": [
  {
   "cell_type": "markdown",
   "id": "a58a9129-66be-4073-bb42-bb7ff6c2ec69",
   "metadata": {},
   "source": [
    "[Problem 1615](https://leetcode.com/problems/maximal-network-rank/description)"
   ]
  },
  {
   "cell_type": "code",
   "execution_count": 1,
   "id": "7142bf50-4eec-4888-aa86-30dfca01deb4",
   "metadata": {},
   "outputs": [],
   "source": [
    "from typing import List"
   ]
  },
  {
   "cell_type": "code",
   "execution_count": 2,
   "id": "0ad7c956-5b8c-42dd-a832-14464e005eb7",
   "metadata": {},
   "outputs": [],
   "source": [
    "class Solution:\n",
    "    def maximalNetworkRank(self, n: int, roads: List[List[int]]) -> int:\n",
    "        ctd = [[0] * n for _ in range(n)]\n",
    "        for i, j in roads:\n",
    "            ctd[i][i] += 1\n",
    "            ctd[j][j] += 1\n",
    "            ctd[i][j] = ctd[j][i] = 1\n",
    "        res = 0\n",
    "        for i in range(n - 1):\n",
    "            for j in range(i + 1, n):\n",
    "                res = max(res, ctd[i][i] + ctd[j][j] - ctd[i][j])\n",
    "        return res"
   ]
  },
  {
   "cell_type": "code",
   "execution_count": 3,
   "id": "8135ab88-7aa6-40ab-a37e-45fa9cd67800",
   "metadata": {},
   "outputs": [],
   "source": [
    "sol = Solution()"
   ]
  },
  {
   "cell_type": "code",
   "execution_count": 4,
   "id": "16019a55-88e8-4c70-aad6-afd16e27ec9f",
   "metadata": {},
   "outputs": [],
   "source": [
    "assert sol.maximalNetworkRank(4, [[0,1],[0,3],[1,2],[1,3]]) == 4"
   ]
  },
  {
   "cell_type": "code",
   "execution_count": 5,
   "id": "ec7337a6-eaad-49af-a7df-4c361b624462",
   "metadata": {},
   "outputs": [],
   "source": [
    "assert sol.maximalNetworkRank(5, [[0,1],[0,3],[1,2],[1,3],[2,3],[2,4]]) == 5"
   ]
  },
  {
   "cell_type": "code",
   "execution_count": 6,
   "id": "4aff1f51-2a8b-4f80-9c72-541de4814cfd",
   "metadata": {},
   "outputs": [],
   "source": [
    "assert sol.maximalNetworkRank(8, [[0,1],[1,2],[2,3],[2,4],[5,6],[5,7]]) == 5"
   ]
  }
 ],
 "metadata": {
  "kernelspec": {
   "display_name": "Python 3 (ipykernel)",
   "language": "python",
   "name": "python3"
  },
  "language_info": {
   "codemirror_mode": {
    "name": "ipython",
    "version": 3
   },
   "file_extension": ".py",
   "mimetype": "text/x-python",
   "name": "python",
   "nbconvert_exporter": "python",
   "pygments_lexer": "ipython3",
   "version": "3.9.7"
  }
 },
 "nbformat": 4,
 "nbformat_minor": 5
}
