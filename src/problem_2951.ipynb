{
 "cells": [
  {
   "cell_type": "markdown",
   "id": "d8dbe2b1-c7bf-46b9-a155-905ec70eb378",
   "metadata": {},
   "source": [
    "[Problem 2951](https://leetcode.com/problems/find-the-peaks/description)"
   ]
  },
  {
   "cell_type": "code",
   "execution_count": 1,
   "id": "d34d0399-3783-465e-9c53-19bce002fc33",
   "metadata": {},
   "outputs": [],
   "source": [
    "from typing import List"
   ]
  },
  {
   "cell_type": "code",
   "execution_count": 2,
   "id": "272c87c5-aee8-4775-8289-af354578b0a2",
   "metadata": {},
   "outputs": [],
   "source": [
    "class Solution:\n",
    "    def findPeaks(self, m: List[int]) -> List[int]:\n",
    "        res = [i for i in range(1, len(m) - 1) if m[i - 1] < m[i] > m[i + 1]]\n",
    "        return res"
   ]
  },
  {
   "cell_type": "code",
   "execution_count": 3,
   "id": "b468a418-bc6d-4626-9e01-ec1db7866671",
   "metadata": {},
   "outputs": [],
   "source": [
    "sol = Solution()"
   ]
  },
  {
   "cell_type": "code",
   "execution_count": 4,
   "id": "395b2192-44a4-4266-b97f-93d2c1a23890",
   "metadata": {},
   "outputs": [],
   "source": [
    "assert sol.findPeaks([2,4,4]) == []"
   ]
  },
  {
   "cell_type": "code",
   "execution_count": 5,
   "id": "a25fcfef-1ef5-4cf0-bb74-0b8faf97fd07",
   "metadata": {},
   "outputs": [],
   "source": [
    "assert sol.findPeaks([1,4,3,8,5]) == [1,3]"
   ]
  }
 ],
 "metadata": {
  "kernelspec": {
   "display_name": "Python 3 (ipykernel)",
   "language": "python",
   "name": "python3"
  },
  "language_info": {
   "codemirror_mode": {
    "name": "ipython",
    "version": 3
   },
   "file_extension": ".py",
   "mimetype": "text/x-python",
   "name": "python",
   "nbconvert_exporter": "python",
   "pygments_lexer": "ipython3",
   "version": "3.9.7"
  }
 },
 "nbformat": 4,
 "nbformat_minor": 5
}
