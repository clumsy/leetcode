{
 "cells": [
  {
   "cell_type": "markdown",
   "id": "2ce6dc60-937b-4407-a543-0cd764dbd245",
   "metadata": {},
   "source": [
    "[Problem 81](https://leetcode.com/problems/search-in-rotated-sorted-array-ii/)"
   ]
  },
  {
   "cell_type": "code",
   "execution_count": 1,
   "id": "8d796f71-c672-4a42-900e-b84e634477cc",
   "metadata": {},
   "outputs": [],
   "source": [
    "from typing import List"
   ]
  },
  {
   "cell_type": "code",
   "execution_count": 2,
   "id": "32fd760e-5d3e-4f41-8105-6325ee61a4f0",
   "metadata": {},
   "outputs": [],
   "source": [
    "class Solution:\n",
    "    def search(self, nums: List[int], target: int) -> bool:\n",
    "        lo, hi = 0, len(nums) - 1\n",
    "        while lo < hi:\n",
    "            mi = (lo + hi) // 2\n",
    "            if target == nums[mi]:\n",
    "                return True\n",
    "            if nums[lo] == nums[mi]:\n",
    "                lo += 1\n",
    "            elif nums[lo] <= target < nums[mi] or (nums[mi] <= nums[hi] and (target < nums[mi] or target > nums[hi])):\n",
    "                hi = mi - 1\n",
    "            else:\n",
    "                lo = mi + 1\n",
    "        return nums[lo] == target"
   ]
  },
  {
   "cell_type": "code",
   "execution_count": 3,
   "id": "0ed561c8-9f16-4a5e-bbd1-1d1d60d0aeea",
   "metadata": {},
   "outputs": [],
   "source": [
    "sol = Solution()"
   ]
  },
  {
   "cell_type": "code",
   "execution_count": 4,
   "id": "d89fd9b3-c162-40c8-8482-f8ee1d73a01f",
   "metadata": {},
   "outputs": [],
   "source": [
    "assert sol.search([2,5,6,0,0,1,2], 0)"
   ]
  },
  {
   "cell_type": "code",
   "execution_count": 6,
   "id": "0953a429-b9b3-43eb-a73b-cd2dbd2917b6",
   "metadata": {},
   "outputs": [],
   "source": [
    "assert not sol.search([2,5,6,0,0,1,2], 3)"
   ]
  }
 ],
 "metadata": {
  "kernelspec": {
   "display_name": "Python 3 (ipykernel)",
   "language": "python",
   "name": "python3"
  },
  "language_info": {
   "codemirror_mode": {
    "name": "ipython",
    "version": 3
   },
   "file_extension": ".py",
   "mimetype": "text/x-python",
   "name": "python",
   "nbconvert_exporter": "python",
   "pygments_lexer": "ipython3",
   "version": "3.9.7"
  }
 },
 "nbformat": 4,
 "nbformat_minor": 5
}
