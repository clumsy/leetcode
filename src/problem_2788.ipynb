{
 "cells": [
  {
   "cell_type": "markdown",
   "id": "96c2145f-c821-447b-8187-84de2ef53eff",
   "metadata": {},
   "source": [
    "[Problem 2788](https://leetcode.com/problems/split-strings-by-separator/description)"
   ]
  },
  {
   "cell_type": "code",
   "execution_count": 1,
   "id": "5de51db6-fb79-46f7-a18a-90da3458235f",
   "metadata": {},
   "outputs": [],
   "source": [
    "from typing import List"
   ]
  },
  {
   "cell_type": "code",
   "execution_count": 2,
   "id": "d5825250-156d-4159-914a-09ca173c11cd",
   "metadata": {},
   "outputs": [],
   "source": [
    "class Solution:\n",
    "    def splitWordsBySeparator(self, words: List[str], separator: str) -> List[str]:\n",
    "        res = []\n",
    "        for w in words:\n",
    "            for c in w.split(separator):\n",
    "                if c:\n",
    "                    res.append(c)\n",
    "        return res"
   ]
  },
  {
   "cell_type": "code",
   "execution_count": 3,
   "id": "3db9dc16-40ba-452b-bf20-1f32e5266849",
   "metadata": {},
   "outputs": [],
   "source": [
    "sol = Solution()"
   ]
  },
  {
   "cell_type": "code",
   "execution_count": 4,
   "id": "944fc6e0-d216-430b-a4fd-e3d60ee36ce1",
   "metadata": {},
   "outputs": [],
   "source": [
    "assert sol.splitWordsBySeparator([\"one.two.three\",\"four.five\",\"six\"], \".\") == [\"one\",\"two\",\"three\",\"four\",\"five\",\"six\"]"
   ]
  },
  {
   "cell_type": "code",
   "execution_count": 5,
   "id": "9900ee79-d358-4b84-bddb-5f462b230a79",
   "metadata": {},
   "outputs": [],
   "source": [
    "assert sol.splitWordsBySeparator([\"$easy$\",\"$problem$\"], \"$\") == [\"easy\",\"problem\"]"
   ]
  },
  {
   "cell_type": "code",
   "execution_count": 6,
   "id": "51e22a62-1dac-4c4f-9b9a-490af9fd383b",
   "metadata": {},
   "outputs": [],
   "source": [
    "assert sol.splitWordsBySeparator([\"|||\"], \"|\") == []"
   ]
  }
 ],
 "metadata": {
  "kernelspec": {
   "display_name": "Python 3 (ipykernel)",
   "language": "python",
   "name": "python3"
  },
  "language_info": {
   "codemirror_mode": {
    "name": "ipython",
    "version": 3
   },
   "file_extension": ".py",
   "mimetype": "text/x-python",
   "name": "python",
   "nbconvert_exporter": "python",
   "pygments_lexer": "ipython3",
   "version": "3.9.7"
  }
 },
 "nbformat": 4,
 "nbformat_minor": 5
}
