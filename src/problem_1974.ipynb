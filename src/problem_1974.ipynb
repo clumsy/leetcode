{
 "cells": [
  {
   "cell_type": "markdown",
   "id": "bfbce9b2-d79f-469a-90e4-af2cae9aae94",
   "metadata": {},
   "source": [
    "[Problem 1974](https://leetcode.com/problems/minimum-time-to-type-word-using-special-typewriter/description)"
   ]
  },
  {
   "cell_type": "code",
   "execution_count": 3,
   "id": "09ad39e2-244c-4040-8e9f-98b6a895e67b",
   "metadata": {},
   "outputs": [],
   "source": [
    "class Solution:\n",
    "    def minTimeToType(self, word: str) -> int:\n",
    "        cur, res = \"a\", 0\n",
    "        for c in word:\n",
    "            diff = ord(cur) - ord(c)\n",
    "            res += 1 + min(abs(diff), 26 - abs(diff))\n",
    "            cur = c\n",
    "        return res"
   ]
  },
  {
   "cell_type": "code",
   "execution_count": 4,
   "id": "b1a4d5d3-1ba1-4072-83a7-55fafdea7edf",
   "metadata": {},
   "outputs": [],
   "source": [
    "sol = Solution()"
   ]
  },
  {
   "cell_type": "code",
   "execution_count": 5,
   "id": "eaf80a32-1ddb-4248-9877-0f537bd11b19",
   "metadata": {},
   "outputs": [],
   "source": [
    "assert sol.minTimeToType(\"abc\") == 5"
   ]
  },
  {
   "cell_type": "code",
   "execution_count": 6,
   "id": "ec14964e-2e7d-4b13-adaa-b422ee01646a",
   "metadata": {},
   "outputs": [],
   "source": [
    "assert sol.minTimeToType(\"bza\") == 7"
   ]
  },
  {
   "cell_type": "code",
   "execution_count": 7,
   "id": "9d5f8c93-7328-4691-9e91-2d7c4679cbfe",
   "metadata": {},
   "outputs": [],
   "source": [
    "assert sol.minTimeToType(\"zjpc\") == 34"
   ]
  }
 ],
 "metadata": {
  "kernelspec": {
   "display_name": "Python 3 (ipykernel)",
   "language": "python",
   "name": "python3"
  },
  "language_info": {
   "codemirror_mode": {
    "name": "ipython",
    "version": 3
   },
   "file_extension": ".py",
   "mimetype": "text/x-python",
   "name": "python",
   "nbconvert_exporter": "python",
   "pygments_lexer": "ipython3",
   "version": "3.9.7"
  }
 },
 "nbformat": 4,
 "nbformat_minor": 5
}
