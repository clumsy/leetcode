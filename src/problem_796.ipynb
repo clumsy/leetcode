{
 "cells": [
  {
   "cell_type": "markdown",
   "id": "c1863cf2-9109-448b-979d-a16e54145cec",
   "metadata": {},
   "source": [
    "[Problem 796](https://leetcode.com/problems/rotate-string/description)"
   ]
  },
  {
   "cell_type": "code",
   "execution_count": 1,
   "id": "c743019e-90ac-4d78-8159-9a3625c11232",
   "metadata": {},
   "outputs": [],
   "source": [
    "class Solution:\n",
    "    def rotateString(self, s: str, goal: str) -> bool:\n",
    "        res = len(s) == len(goal) and goal in s + s\n",
    "        return res"
   ]
  },
  {
   "cell_type": "code",
   "execution_count": 2,
   "id": "4bfbd44f-25c5-4f48-8a4d-1cb11027f1ed",
   "metadata": {},
   "outputs": [],
   "source": [
    "sol = Solution()"
   ]
  },
  {
   "cell_type": "code",
   "execution_count": 3,
   "id": "e06b5fab-faa2-42fc-98ad-ae1f06ff8dcf",
   "metadata": {},
   "outputs": [],
   "source": [
    "assert sol.rotateString(\"abcde\", \"cdeab\")"
   ]
  },
  {
   "cell_type": "code",
   "execution_count": 4,
   "id": "c06af2c1-c753-498e-aa3e-4c1c298c8fcb",
   "metadata": {},
   "outputs": [],
   "source": [
    "assert not sol.rotateString(\"abcde\", \"abced\")"
   ]
  }
 ],
 "metadata": {
  "kernelspec": {
   "display_name": "Python 3 (ipykernel)",
   "language": "python",
   "name": "python3"
  },
  "language_info": {
   "codemirror_mode": {
    "name": "ipython",
    "version": 3
   },
   "file_extension": ".py",
   "mimetype": "text/x-python",
   "name": "python",
   "nbconvert_exporter": "python",
   "pygments_lexer": "ipython3",
   "version": "3.9.7"
  }
 },
 "nbformat": 4,
 "nbformat_minor": 5
}
