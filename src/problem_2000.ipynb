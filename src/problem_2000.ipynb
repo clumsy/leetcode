{
 "cells": [
  {
   "cell_type": "markdown",
   "id": "0a30d2d6-2d37-4489-87d0-82dc07a6ef79",
   "metadata": {},
   "source": [
    "[Problem 2000](https://leetcode.com/problems/reverse-prefix-of-word/description)"
   ]
  },
  {
   "cell_type": "code",
   "execution_count": 1,
   "id": "b9f42f2d-4c96-48c6-a904-8a295964c975",
   "metadata": {},
   "outputs": [],
   "source": [
    "class Solution:\n",
    "    def reversePrefix(self, word: str, ch: str) -> str:\n",
    "        i = word.find(ch)\n",
    "        res = word if i < 0 else word[:i + 1][::-1] + word[i + 1:]\n",
    "        return res"
   ]
  },
  {
   "cell_type": "code",
   "execution_count": 2,
   "id": "ea0eef6d-98e7-40a4-bf82-b4aa46fc60cd",
   "metadata": {},
   "outputs": [],
   "source": [
    "sol = Solution()"
   ]
  },
  {
   "cell_type": "code",
   "execution_count": 3,
   "id": "23e4b56d-8dab-496a-88ec-21c15b05ffd0",
   "metadata": {},
   "outputs": [],
   "source": [
    "assert sol.reversePrefix(\"abcdefd\", \"d\") == \"dcbaefd\""
   ]
  },
  {
   "cell_type": "code",
   "execution_count": 4,
   "id": "2eeebc56-a1f5-4e92-8229-bf6b790c3804",
   "metadata": {},
   "outputs": [],
   "source": [
    "assert sol.reversePrefix(\"xyxzxe\", \"z\") == \"zxyxxe\""
   ]
  },
  {
   "cell_type": "code",
   "execution_count": 5,
   "id": "4098a0c4-896e-4daf-b615-098ed136e4ef",
   "metadata": {},
   "outputs": [],
   "source": [
    "assert sol.reversePrefix(\"abcd\", \"z\") == \"abcd\""
   ]
  }
 ],
 "metadata": {
  "kernelspec": {
   "display_name": "Python 3 (ipykernel)",
   "language": "python",
   "name": "python3"
  },
  "language_info": {
   "codemirror_mode": {
    "name": "ipython",
    "version": 3
   },
   "file_extension": ".py",
   "mimetype": "text/x-python",
   "name": "python",
   "nbconvert_exporter": "python",
   "pygments_lexer": "ipython3",
   "version": "3.9.7"
  }
 },
 "nbformat": 4,
 "nbformat_minor": 5
}
