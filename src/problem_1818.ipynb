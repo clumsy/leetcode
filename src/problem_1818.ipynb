{
 "cells": [
  {
   "cell_type": "markdown",
   "id": "7d228f2d-f835-4989-8d03-9ad6f26ec9ff",
   "metadata": {},
   "source": [
    "[Problem 1818](https://leetcode.com/problems/minimum-absolute-sum-difference/)"
   ]
  },
  {
   "cell_type": "code",
   "execution_count": 5,
   "id": "66f62b34-8f49-459c-a70f-dc977d2c9ab8",
   "metadata": {},
   "outputs": [],
   "source": [
    "from typing import List\n",
    "from bisect import bisect_left"
   ]
  },
  {
   "cell_type": "code",
   "execution_count": 6,
   "id": "6d1a36c5-a1ca-4d25-a4da-feb85f32c86c",
   "metadata": {},
   "outputs": [],
   "source": [
    "class Solution:\n",
    "    def minAbsoluteSumDiff(self, nums1: List[int], nums2: List[int]) -> int:\n",
    "        MOD = int(1e9) + 7\n",
    "        n, nums, res, gain = len(nums1), sorted(nums1), 0, 0\n",
    "        for i in range(n):\n",
    "            diff = abs(nums1[i] - nums2[i])\n",
    "            res += diff\n",
    "            j = bisect_left(nums, nums2[i])\n",
    "            gain = max(gain, diff - abs(nums[j] - nums2[i]) if j < n else 0)\n",
    "            gain = max(gain, diff - abs(nums[j - 1] - nums2[i]) if j - 1 < n else 0)\n",
    "        return (res - gain) % MOD"
   ]
  },
  {
   "cell_type": "code",
   "execution_count": 7,
   "id": "fe6ab0e7-65c4-4e6e-8922-ad8bde9f8e7d",
   "metadata": {},
   "outputs": [],
   "source": [
    "sol = Solution()"
   ]
  },
  {
   "cell_type": "code",
   "execution_count": 8,
   "id": "e9ef0b6a-1015-4d4f-8f30-eb707e1f7dea",
   "metadata": {},
   "outputs": [],
   "source": [
    "assert sol.minAbsoluteSumDiff([1,7,5], [2,3,5]) == 3"
   ]
  },
  {
   "cell_type": "code",
   "execution_count": 9,
   "id": "8ad8c42e-ad7a-4e97-a450-14bdda398861",
   "metadata": {},
   "outputs": [],
   "source": [
    "assert sol.minAbsoluteSumDiff([2,4,6,8,10], [2,4,6,8,10]) == 0"
   ]
  },
  {
   "cell_type": "code",
   "execution_count": 10,
   "id": "f0d53cc0-cac0-49e2-aa2a-23e95ea97319",
   "metadata": {},
   "outputs": [],
   "source": [
    "assert sol.minAbsoluteSumDiff([1,10,4,4,2,7], [9,3,5,1,7,4]) == 20"
   ]
  }
 ],
 "metadata": {
  "kernelspec": {
   "display_name": "Python 3 (ipykernel)",
   "language": "python",
   "name": "python3"
  },
  "language_info": {
   "codemirror_mode": {
    "name": "ipython",
    "version": 3
   },
   "file_extension": ".py",
   "mimetype": "text/x-python",
   "name": "python",
   "nbconvert_exporter": "python",
   "pygments_lexer": "ipython3",
   "version": "3.9.7"
  }
 },
 "nbformat": 4,
 "nbformat_minor": 5
}
