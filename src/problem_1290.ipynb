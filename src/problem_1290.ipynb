{
 "cells": [
  {
   "cell_type": "markdown",
   "id": "e9caa7f1-df51-49d6-9fe5-55cc586008e4",
   "metadata": {},
   "source": [
    "[Problem 1290](https://leetcode.com/problems/convert-binary-number-in-a-linked-list-to-integer/description)"
   ]
  },
  {
   "cell_type": "code",
   "execution_count": 1,
   "id": "5ac9635f-162a-4277-ba47-7031b96a54e1",
   "metadata": {},
   "outputs": [],
   "source": [
    "# Definition for singly-linked list.\n",
    "class ListNode:\n",
    "    def __init__(self, val=0, next=None):\n",
    "        self.val = val\n",
    "        self.next = next"
   ]
  },
  {
   "cell_type": "code",
   "execution_count": 2,
   "id": "3ce8c68a-6764-4877-8786-5bc99b7d218a",
   "metadata": {},
   "outputs": [],
   "source": [
    "class Solution:\n",
    "    def getDecimalValue(self, head: ListNode) -> int:\n",
    "        res = 0\n",
    "        while head:\n",
    "            res = res * 2 + head.val\n",
    "            head = head.next\n",
    "        return res"
   ]
  },
  {
   "cell_type": "code",
   "execution_count": 3,
   "id": "5ce8a938-5bad-4daa-b722-e3e3605e6333",
   "metadata": {},
   "outputs": [],
   "source": [
    "sol = Solution()"
   ]
  },
  {
   "cell_type": "code",
   "execution_count": 4,
   "id": "581505d6-9761-453a-b762-df42af14820a",
   "metadata": {},
   "outputs": [],
   "source": [
    "assert sol.getDecimalValue(ListNode(val=1, next=ListNode(next=ListNode(val=1)))) == 5"
   ]
  },
  {
   "cell_type": "code",
   "execution_count": 5,
   "id": "46e1de2a-8a1b-4fe5-b153-d4e1047c7116",
   "metadata": {},
   "outputs": [],
   "source": [
    "assert sol.getDecimalValue(ListNode()) == 0"
   ]
  }
 ],
 "metadata": {
  "kernelspec": {
   "display_name": "Python 3 (ipykernel)",
   "language": "python",
   "name": "python3"
  },
  "language_info": {
   "codemirror_mode": {
    "name": "ipython",
    "version": 3
   },
   "file_extension": ".py",
   "mimetype": "text/x-python",
   "name": "python",
   "nbconvert_exporter": "python",
   "pygments_lexer": "ipython3",
   "version": "3.9.7"
  }
 },
 "nbformat": 4,
 "nbformat_minor": 5
}
