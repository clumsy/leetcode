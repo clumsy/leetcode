{
 "cells": [
  {
   "cell_type": "markdown",
   "id": "0040934e-b58e-40a8-abe3-10fa12f974a9",
   "metadata": {},
   "source": [
    "[Problem 2099]()"
   ]
  },
  {
   "cell_type": "code",
   "execution_count": 1,
   "id": "1e73adf6-325d-4542-9b09-cc371960d93c",
   "metadata": {},
   "outputs": [],
   "source": [
    "from typing import List"
   ]
  },
  {
   "cell_type": "code",
   "execution_count": 2,
   "id": "34843850-4979-442f-862a-27569bd6b14f",
   "metadata": {},
   "outputs": [],
   "source": [
    "class Solution:\n",
    "    def maxSubsequence(self, nums: List[int], k: int) -> List[int]:\n",
    "        n = len(nums)\n",
    "        largest = sorted(range(n), key=nums.__getitem__)[-k:]\n",
    "        res = [nums[i] for i in sorted(largest)]\n",
    "        return res"
   ]
  },
  {
   "cell_type": "code",
   "execution_count": 3,
   "id": "5411169e-c00b-4b97-9f16-48f8c1a99dcf",
   "metadata": {},
   "outputs": [],
   "source": [
    "sol = Solution()"
   ]
  },
  {
   "cell_type": "code",
   "execution_count": 4,
   "id": "9607f04d-c64b-4556-9120-1be1de989af2",
   "metadata": {},
   "outputs": [],
   "source": [
    "assert sol.maxSubsequence([2,1,3,3], 2) == [3,3]"
   ]
  },
  {
   "cell_type": "code",
   "execution_count": 5,
   "id": "e8bb2043-cbab-45d7-82df-98752f3e24b6",
   "metadata": {},
   "outputs": [],
   "source": [
    "assert sol.maxSubsequence([-1,-2,3,4], 3) == [-1,3,4]"
   ]
  },
  {
   "cell_type": "code",
   "execution_count": 6,
   "id": "f187caed-2699-4caa-a0ef-3e5a81f4042b",
   "metadata": {},
   "outputs": [],
   "source": [
    "assert sol.maxSubsequence([3,4,3,3], 2) == [4,3]"
   ]
  }
 ],
 "metadata": {
  "kernelspec": {
   "display_name": "Python 3 (ipykernel)",
   "language": "python",
   "name": "python3"
  },
  "language_info": {
   "codemirror_mode": {
    "name": "ipython",
    "version": 3
   },
   "file_extension": ".py",
   "mimetype": "text/x-python",
   "name": "python",
   "nbconvert_exporter": "python",
   "pygments_lexer": "ipython3",
   "version": "3.9.7"
  }
 },
 "nbformat": 4,
 "nbformat_minor": 5
}
