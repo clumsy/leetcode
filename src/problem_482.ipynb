{
 "cells": [
  {
   "cell_type": "markdown",
   "id": "dd47459e-9fce-4d88-9702-6e408bcf9ece",
   "metadata": {},
   "source": [
    "[Problem 482](https://leetcode.com/problems/license-key-formatting/description)"
   ]
  },
  {
   "cell_type": "code",
   "execution_count": 1,
   "id": "df3e468d-d680-40d2-9e96-3bb08d182b89",
   "metadata": {},
   "outputs": [],
   "source": [
    "class Solution:\n",
    "    def licenseKeyFormatting(self, s: str, k: int) -> str:\n",
    "        s = s.replace(\"-\", \"\")[::-1]\n",
    "        res = \"-\".join(s[i:i + k].upper() for i in range(0, len(s), k))[::-1]\n",
    "        return res"
   ]
  },
  {
   "cell_type": "code",
   "execution_count": 2,
   "id": "8b273c76-0c56-4907-9ba9-b9388ab45e33",
   "metadata": {},
   "outputs": [],
   "source": [
    "sol = Solution()"
   ]
  },
  {
   "cell_type": "code",
   "execution_count": 3,
   "id": "1e4de56e-0a95-4202-8fa8-5201bf12d13e",
   "metadata": {},
   "outputs": [],
   "source": [
    "assert sol.licenseKeyFormatting(\"5F3Z-2e-9-w\", 4) == \"5F3Z-2E9W\""
   ]
  },
  {
   "cell_type": "code",
   "execution_count": 4,
   "id": "c0216f08-ebe6-46e6-8522-90a221809f35",
   "metadata": {},
   "outputs": [],
   "source": [
    "assert sol.licenseKeyFormatting(\"2-5g-3-J\", 2) == \"2-5G-3J\""
   ]
  }
 ],
 "metadata": {
  "kernelspec": {
   "display_name": "Python 3 (ipykernel)",
   "language": "python",
   "name": "python3"
  },
  "language_info": {
   "codemirror_mode": {
    "name": "ipython",
    "version": 3
   },
   "file_extension": ".py",
   "mimetype": "text/x-python",
   "name": "python",
   "nbconvert_exporter": "python",
   "pygments_lexer": "ipython3",
   "version": "3.9.7"
  }
 },
 "nbformat": 4,
 "nbformat_minor": 5
}
