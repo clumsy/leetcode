{
 "cells": [
  {
   "cell_type": "markdown",
   "id": "97fd23c9-b0f1-4912-af46-2e723e18c9ea",
   "metadata": {},
   "source": [
    "[Problem 1502](https://leetcode.com/problems/can-make-arithmetic-progression-from-sequence/description)"
   ]
  },
  {
   "cell_type": "code",
   "execution_count": 5,
   "id": "2b053c6e-2641-44d2-893b-75dc5b3a214d",
   "metadata": {},
   "outputs": [],
   "source": [
    "from typing import List\n",
    "from math import inf"
   ]
  },
  {
   "cell_type": "code",
   "execution_count": 6,
   "id": "74c6e331-60bd-4842-8783-c55211a331ae",
   "metadata": {},
   "outputs": [],
   "source": [
    "class Solution:\n",
    "    def canMakeArithmeticProgression(self, arr: List[int]) -> bool:\n",
    "        n = len(arr)\n",
    "        ma, mi = -inf, inf\n",
    "        for i in arr:\n",
    "            ma = max(ma, i)\n",
    "            mi = min(mi, i)\n",
    "        d, r = divmod(ma - mi, n - 1)\n",
    "        if r != 0:\n",
    "            return False\n",
    "        i = 0\n",
    "        while i < n:\n",
    "            if arr[i] == mi + d * i:  # where it should be\n",
    "                i += 1\n",
    "            else:\n",
    "                j, r = divmod(arr[i] - mi, d)\n",
    "                if r != 0 or j < i or arr[i] == arr[j]:\n",
    "                    return False\n",
    "                arr[i], arr[j] = arr[j], arr[i]\n",
    "        return True"
   ]
  },
  {
   "cell_type": "code",
   "execution_count": 7,
   "id": "66ae8965-073c-4c19-9be9-a917d5877191",
   "metadata": {},
   "outputs": [],
   "source": [
    "sol = Solution()"
   ]
  },
  {
   "cell_type": "code",
   "execution_count": 8,
   "id": "6514e8fa-5e4e-4383-948d-525ea2e45b22",
   "metadata": {},
   "outputs": [],
   "source": [
    "assert sol.canMakeArithmeticProgression([3,5,1])"
   ]
  },
  {
   "cell_type": "code",
   "execution_count": 9,
   "id": "3653784e-cb9d-463b-9aa9-f6c659d69a57",
   "metadata": {},
   "outputs": [],
   "source": [
    "assert not sol.canMakeArithmeticProgression([1,2,4])"
   ]
  }
 ],
 "metadata": {
  "kernelspec": {
   "display_name": "Python 3 (ipykernel)",
   "language": "python",
   "name": "python3"
  },
  "language_info": {
   "codemirror_mode": {
    "name": "ipython",
    "version": 3
   },
   "file_extension": ".py",
   "mimetype": "text/x-python",
   "name": "python",
   "nbconvert_exporter": "python",
   "pygments_lexer": "ipython3",
   "version": "3.9.7"
  }
 },
 "nbformat": 4,
 "nbformat_minor": 5
}
