{
 "cells": [
  {
   "cell_type": "markdown",
   "id": "832b8bfe-acd3-467b-a08a-6cc3d8bc0cd4",
   "metadata": {},
   "source": [
    "[Problem 835](https://leetcode.com/problems/image-overlap/description)"
   ]
  },
  {
   "cell_type": "code",
   "execution_count": 3,
   "id": "9c044ed0-ef55-4493-985c-c2af4255d0f0",
   "metadata": {},
   "outputs": [],
   "source": [
    "from typing import List\n",
    "from collections import Counter"
   ]
  },
  {
   "cell_type": "code",
   "execution_count": 4,
   "id": "2009eeb7-145a-4bff-a27d-c5846072a0e6",
   "metadata": {},
   "outputs": [],
   "source": [
    "class Solution:\n",
    "    def largestOverlap(self, img1: List[List[int]], img2: List[List[int]]) -> int:\n",
    "        n, res = len(img1), 0\n",
    "        first, second = [], []\n",
    "        for r in range(n):\n",
    "            for c in range(n):\n",
    "                if img1[r][c] == 1:\n",
    "                    first.append((r, c))\n",
    "                if img2[r][c] == 1:\n",
    "                    second.append((r, c))\n",
    "        cnt_by_off = Counter()\n",
    "        for x1, y1 in first:\n",
    "            for x2, y2 in second:\n",
    "                off = (x1 - x2, y1 - y2)\n",
    "                # find for which offset combination we have most matches\n",
    "                cnt_by_off[off] += 1\n",
    "                res = max(res, cnt_by_off[off])\n",
    "        return res"
   ]
  },
  {
   "cell_type": "code",
   "execution_count": 5,
   "id": "3fa5385e-9a0c-4e69-a1e0-5f73d227e8a8",
   "metadata": {},
   "outputs": [],
   "source": [
    "sol = Solution()"
   ]
  },
  {
   "cell_type": "code",
   "execution_count": 6,
   "id": "b7b15218-3684-4434-9219-548fb28995cd",
   "metadata": {},
   "outputs": [],
   "source": [
    "assert sol.largestOverlap([[1,1,0],[0,1,0],[0,1,0]], [[0,0,0],[0,1,1],[0,0,1]]) == 3"
   ]
  },
  {
   "cell_type": "code",
   "execution_count": 7,
   "id": "7294ce5b-6795-429b-adda-94932465de67",
   "metadata": {},
   "outputs": [],
   "source": [
    "assert sol.largestOverlap([[1]], [[1]]) == 1"
   ]
  },
  {
   "cell_type": "code",
   "execution_count": 8,
   "id": "cd4f6309-3321-41d2-87f0-b51b5f3a0200",
   "metadata": {},
   "outputs": [],
   "source": [
    "assert sol.largestOverlap([[0]], [[0]]) == 0"
   ]
  }
 ],
 "metadata": {
  "kernelspec": {
   "display_name": "Python 3 (ipykernel)",
   "language": "python",
   "name": "python3"
  },
  "language_info": {
   "codemirror_mode": {
    "name": "ipython",
    "version": 3
   },
   "file_extension": ".py",
   "mimetype": "text/x-python",
   "name": "python",
   "nbconvert_exporter": "python",
   "pygments_lexer": "ipython3",
   "version": "3.9.7"
  }
 },
 "nbformat": 4,
 "nbformat_minor": 5
}
