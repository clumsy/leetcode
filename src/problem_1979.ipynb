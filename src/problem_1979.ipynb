{
 "cells": [
  {
   "cell_type": "markdown",
   "id": "9293986c-a325-47bd-b391-b14d8643ee0c",
   "metadata": {},
   "source": [
    "[Problem 1979](https://leetcode.com/problems/find-greatest-common-divisor-of-array/description)"
   ]
  },
  {
   "cell_type": "code",
   "execution_count": 1,
   "id": "3c692aa2-887f-475c-9cc6-aac956b908ea",
   "metadata": {},
   "outputs": [],
   "source": [
    "from typing import List"
   ]
  },
  {
   "cell_type": "code",
   "execution_count": 2,
   "id": "5768107e-d1f8-4735-9ea8-9db77d832ba4",
   "metadata": {},
   "outputs": [],
   "source": [
    "class Solution:\n",
    "    def findGCD(self, nums: List[int]) -> int:\n",
    "        def gcd(a, b):\n",
    "            return a if b == 0 else gcd(b, a % b)\n",
    "        mi = ma = nums[0]\n",
    "        for i in nums:\n",
    "            mi, ma = min(mi, i), max(ma, i)\n",
    "        res = gcd(mi, ma)\n",
    "        return res"
   ]
  },
  {
   "cell_type": "code",
   "execution_count": 3,
   "id": "830eaf21-6254-423b-a174-51cdeb49a12a",
   "metadata": {},
   "outputs": [],
   "source": [
    "sol = Solution()"
   ]
  },
  {
   "cell_type": "code",
   "execution_count": 4,
   "id": "c3bc07cc-833f-43a5-873c-a6bb6b7d7b67",
   "metadata": {},
   "outputs": [],
   "source": [
    "assert sol.findGCD([2,5,6,9,10]) == 2"
   ]
  },
  {
   "cell_type": "code",
   "execution_count": 5,
   "id": "16d4f184-e598-4339-8cd0-ddf5ff110e31",
   "metadata": {},
   "outputs": [],
   "source": [
    "assert sol.findGCD([7,5,6,8,3]) == 1"
   ]
  },
  {
   "cell_type": "code",
   "execution_count": 6,
   "id": "7e732a0c-6ee7-4872-b515-3eda3fa91cea",
   "metadata": {},
   "outputs": [],
   "source": [
    "assert sol.findGCD([3,3]) == 3"
   ]
  }
 ],
 "metadata": {
  "kernelspec": {
   "display_name": "Python 3 (ipykernel)",
   "language": "python",
   "name": "python3"
  },
  "language_info": {
   "codemirror_mode": {
    "name": "ipython",
    "version": 3
   },
   "file_extension": ".py",
   "mimetype": "text/x-python",
   "name": "python",
   "nbconvert_exporter": "python",
   "pygments_lexer": "ipython3",
   "version": "3.9.7"
  }
 },
 "nbformat": 4,
 "nbformat_minor": 5
}
