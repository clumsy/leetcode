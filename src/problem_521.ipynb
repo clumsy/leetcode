{
 "cells": [
  {
   "cell_type": "markdown",
   "id": "89bb5538-fd4f-4d44-96be-cf03128c4aca",
   "metadata": {},
   "source": [
    "[Problem 521](https://leetcode.com/problems/longest-uncommon-subsequence-i)"
   ]
  },
  {
   "cell_type": "code",
   "execution_count": 1,
   "id": "82141d3e-9bba-4287-acab-25c88f0c045c",
   "metadata": {},
   "outputs": [],
   "source": [
    "class Solution:\n",
    "    def findLUSlength(self, a: str, b: str) -> int:\n",
    "        return -1 if a == b else max(len(a), len(b))"
   ]
  },
  {
   "cell_type": "code",
   "execution_count": 2,
   "id": "f4d1bc25-4507-4e3a-a253-b072fd92b11d",
   "metadata": {},
   "outputs": [],
   "source": [
    "sol = Solution()"
   ]
  },
  {
   "cell_type": "code",
   "execution_count": 3,
   "id": "e508694d-bf7d-40bc-9afd-a05837eae1a5",
   "metadata": {},
   "outputs": [],
   "source": [
    "assert sol.findLUSlength(\"aba\", \"cbc\") == 3"
   ]
  },
  {
   "cell_type": "code",
   "execution_count": 4,
   "id": "15dc297c-fb94-4d7e-9699-e428ecf48e0b",
   "metadata": {},
   "outputs": [],
   "source": [
    "assert sol.findLUSlength(\"aaa\", \"bbb\") == 3"
   ]
  },
  {
   "cell_type": "code",
   "execution_count": 5,
   "id": "58369a6b-9ade-44ac-b822-dda2665b5823",
   "metadata": {},
   "outputs": [],
   "source": [
    "assert sol.findLUSlength(\"aaa\", \"aaa\") == -1"
   ]
  }
 ],
 "metadata": {
  "kernelspec": {
   "display_name": "Python 3 (ipykernel)",
   "language": "python",
   "name": "python3"
  },
  "language_info": {
   "codemirror_mode": {
    "name": "ipython",
    "version": 3
   },
   "file_extension": ".py",
   "mimetype": "text/x-python",
   "name": "python",
   "nbconvert_exporter": "python",
   "pygments_lexer": "ipython3",
   "version": "3.9.7"
  }
 },
 "nbformat": 4,
 "nbformat_minor": 5
}
