{
 "cells": [
  {
   "cell_type": "markdown",
   "id": "58f9ba38-236c-46ae-a463-70a7258c8651",
   "metadata": {},
   "source": [
    "[Problem 1742](https://leetcode.com/problems/maximum-number-of-balls-in-a-box/description)"
   ]
  },
  {
   "cell_type": "code",
   "execution_count": 1,
   "id": "1c578e96-3d2f-410e-94b8-5f69194fbe69",
   "metadata": {},
   "outputs": [],
   "source": [
    "from collections import Counter"
   ]
  },
  {
   "cell_type": "code",
   "execution_count": 2,
   "id": "e6a0aa00-9681-433a-90c0-4f19f04e9194",
   "metadata": {},
   "outputs": [],
   "source": [
    "class Solution:\n",
    "    def countBalls(self, l: int, h: int) -> int:\n",
    "        res = Counter(sum(int(d) for d in str(n)) for n in range(l, h + 1)).most_common()[0][1]\n",
    "        return res"
   ]
  },
  {
   "cell_type": "code",
   "execution_count": 3,
   "id": "647e398b-6e7b-4aa6-bf45-dc3e2c4a9173",
   "metadata": {},
   "outputs": [],
   "source": [
    "sol = Solution()"
   ]
  },
  {
   "cell_type": "code",
   "execution_count": 4,
   "id": "0761031d-c2ac-472d-8379-31e081096e9d",
   "metadata": {},
   "outputs": [],
   "source": [
    "assert sol.countBalls(1, 10) == 2"
   ]
  },
  {
   "cell_type": "code",
   "execution_count": 5,
   "id": "877d994b-d317-421d-a3be-57aa97bed83f",
   "metadata": {},
   "outputs": [],
   "source": [
    "assert sol.countBalls(5, 15) == 2"
   ]
  },
  {
   "cell_type": "code",
   "execution_count": 6,
   "id": "b111ee39-7117-4a23-b327-e3a921f2a9a6",
   "metadata": {},
   "outputs": [],
   "source": [
    "assert sol.countBalls(19, 28) == 2"
   ]
  }
 ],
 "metadata": {
  "kernelspec": {
   "display_name": "Python 3 (ipykernel)",
   "language": "python",
   "name": "python3"
  },
  "language_info": {
   "codemirror_mode": {
    "name": "ipython",
    "version": 3
   },
   "file_extension": ".py",
   "mimetype": "text/x-python",
   "name": "python",
   "nbconvert_exporter": "python",
   "pygments_lexer": "ipython3",
   "version": "3.9.7"
  }
 },
 "nbformat": 4,
 "nbformat_minor": 5
}
