{
 "cells": [
  {
   "cell_type": "markdown",
   "id": "bc40bf4a-a52c-4d35-ba8e-0005ea801098",
   "metadata": {},
   "source": [
    "[Problem 115](https://leetcode.com/problems/distinct-subsequences)"
   ]
  },
  {
   "cell_type": "code",
   "execution_count": 1,
   "id": "12ec6034-efc7-43d0-80ce-7c77441d643f",
   "metadata": {},
   "outputs": [],
   "source": [
    "class Solution:\n",
    "    def numDistinct(self, s: str, t: str) -> int:\n",
    "        dp = [[0 for j in range(len(s) + 1)] for i in range(len(t) + 1)]\n",
    "        for j in range(len(s) + 1):\n",
    "            dp[0][j] = 1\n",
    "        for i in range(len(t)):\n",
    "            for j in range(len(s)):\n",
    "                dp[i + 1][j + 1] = dp[i + 1][j] + (dp[i][j] if t[i] == s[j] else 0)\n",
    "        return dp[len(t)][len(s)]"
   ]
  },
  {
   "cell_type": "code",
   "execution_count": 2,
   "id": "881d580b-6fa6-4cb4-8875-b633b76ee0e7",
   "metadata": {},
   "outputs": [],
   "source": [
    "sol = Solution()"
   ]
  },
  {
   "cell_type": "code",
   "execution_count": 3,
   "id": "70c229d3-3e3d-48d9-8ab9-f41dbd2637d4",
   "metadata": {},
   "outputs": [],
   "source": [
    "assert sol.numDistinct(\"rabbbit\", \"rabbit\") == 3"
   ]
  },
  {
   "cell_type": "code",
   "execution_count": 5,
   "id": "2d63b86c-e261-4f37-95d3-80a2b72e9154",
   "metadata": {},
   "outputs": [],
   "source": [
    "assert sol.numDistinct(\"babgbag\", \"bag\") == 5"
   ]
  },
  {
   "cell_type": "code",
   "execution_count": 4,
   "id": "52a46238-8765-452e-b02d-0df362feea5b",
   "metadata": {},
   "outputs": [],
   "source": [
    "assert sol.numDistinct(\"aabb\", \"abb\") == 2"
   ]
  }
 ],
 "metadata": {
  "kernelspec": {
   "display_name": "Python 3 (ipykernel)",
   "language": "python",
   "name": "python3"
  },
  "language_info": {
   "codemirror_mode": {
    "name": "ipython",
    "version": 3
   },
   "file_extension": ".py",
   "mimetype": "text/x-python",
   "name": "python",
   "nbconvert_exporter": "python",
   "pygments_lexer": "ipython3",
   "version": "3.9.7"
  }
 },
 "nbformat": 4,
 "nbformat_minor": 5
}
