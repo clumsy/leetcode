{
 "cells": [
  {
   "cell_type": "markdown",
   "id": "6b24dca0-b4bc-4f20-b465-d3f8cb27a196",
   "metadata": {},
   "source": [
    "[Problem 2923](https://leetcode.com/problems/find-champion-i/description)"
   ]
  },
  {
   "cell_type": "code",
   "execution_count": 1,
   "id": "ffa87310-aa12-4f8a-88b0-080519903f23",
   "metadata": {},
   "outputs": [],
   "source": [
    "from typing import List"
   ]
  },
  {
   "cell_type": "code",
   "execution_count": 2,
   "id": "14f333ea-8283-46b2-9e03-5c258dd6af09",
   "metadata": {},
   "outputs": [],
   "source": [
    "class Solution:\n",
    "    def findChampion(self, grid: List[List[int]]) -> int:\n",
    "        n = len(grid)\n",
    "        for i, r in enumerate(grid):\n",
    "            if sum(r) == n - 1:\n",
    "                res = i\n",
    "                break\n",
    "        return res"
   ]
  },
  {
   "cell_type": "code",
   "execution_count": 3,
   "id": "0bb16ac4-a052-4a2b-9c6f-71a495bebd45",
   "metadata": {},
   "outputs": [],
   "source": [
    "sol = Solution()"
   ]
  },
  {
   "cell_type": "code",
   "execution_count": 4,
   "id": "dc29d45a-c904-4d7c-b7cb-e5007f08b05a",
   "metadata": {},
   "outputs": [],
   "source": [
    "assert sol.findChampion([[0,1],[0,0]]) == 0"
   ]
  },
  {
   "cell_type": "code",
   "execution_count": 5,
   "id": "975ac9e7-5bde-4d54-81cb-285acb857bb4",
   "metadata": {},
   "outputs": [],
   "source": [
    "assert sol.findChampion([[0,0,1],[1,0,1],[0,0,0]]) == 1"
   ]
  }
 ],
 "metadata": {
  "kernelspec": {
   "display_name": "Python 3 (ipykernel)",
   "language": "python",
   "name": "python3"
  },
  "language_info": {
   "codemirror_mode": {
    "name": "ipython",
    "version": 3
   },
   "file_extension": ".py",
   "mimetype": "text/x-python",
   "name": "python",
   "nbconvert_exporter": "python",
   "pygments_lexer": "ipython3",
   "version": "3.9.7"
  }
 },
 "nbformat": 4,
 "nbformat_minor": 5
}
