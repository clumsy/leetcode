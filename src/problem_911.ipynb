{
 "cells": [
  {
   "cell_type": "markdown",
   "id": "17ff47a0-8cfc-4bac-9136-c5c5b6f4734b",
   "metadata": {},
   "source": [
    "[Problem 911](https://leetcode.com/problems/online-election/)"
   ]
  },
  {
   "cell_type": "code",
   "execution_count": 5,
   "id": "51958889-aa30-40f9-85e7-e0618cb8688f",
   "metadata": {},
   "outputs": [],
   "source": [
    "from typing import List\n",
    "from bisect import bisect_right\n",
    "from collections import defaultdict"
   ]
  },
  {
   "cell_type": "code",
   "execution_count": 6,
   "id": "9aa176a4-84e3-4ba6-9ba0-2961e13c7126",
   "metadata": {},
   "outputs": [],
   "source": [
    "class TopVotedCandidate:\n",
    "    def __init__(self, persons: List[int], times: List[int]):\n",
    "        self.times = times\n",
    "        self.persons = persons\n",
    "        self.leaders, votes, leader = [None] * len(times), defaultdict(int), 0\n",
    "        for i in range(len(times)):\n",
    "            votes[persons[i]] += 1\n",
    "            if votes[persons[i]] >= votes[leader]:\n",
    "                leader = persons[i]\n",
    "            self.leaders[i] = leader\n",
    "\n",
    "    def q(self, t: int) -> int:\n",
    "        hi = bisect_right(self.times, t)\n",
    "        return self.leaders[hi - 1]"
   ]
  },
  {
   "cell_type": "code",
   "execution_count": 8,
   "id": "7ea222e5-840b-40fb-80b9-3c4658b2141c",
   "metadata": {},
   "outputs": [],
   "source": [
    "sol = TopVotedCandidate([0,1,1,0,0,1,0], [0,5,10,15,20,25,30])\n",
    "assert sol.q(3) == 0\n",
    "assert sol.q(12) == 1\n",
    "assert sol.q(25) == 1\n",
    "assert sol.q(15) == 0\n",
    "assert sol.q(24) == 0\n",
    "assert sol.q(8) == 1"
   ]
  }
 ],
 "metadata": {
  "kernelspec": {
   "display_name": "Python 3 (ipykernel)",
   "language": "python",
   "name": "python3"
  },
  "language_info": {
   "codemirror_mode": {
    "name": "ipython",
    "version": 3
   },
   "file_extension": ".py",
   "mimetype": "text/x-python",
   "name": "python",
   "nbconvert_exporter": "python",
   "pygments_lexer": "ipython3",
   "version": "3.9.7"
  }
 },
 "nbformat": 4,
 "nbformat_minor": 5
}
