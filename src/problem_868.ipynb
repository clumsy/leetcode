{
 "cells": [
  {
   "cell_type": "markdown",
   "id": "e19c3237-2a44-4ad6-b164-981b61126841",
   "metadata": {},
   "source": [
    "[Problem 868](https://leetcode.com/problems/binary-gap/description)"
   ]
  },
  {
   "cell_type": "code",
   "execution_count": 1,
   "id": "5c2a1055-83e9-4ed1-abe4-82f1ea08a4be",
   "metadata": {},
   "outputs": [],
   "source": [
    "class Solution:\n",
    "    def binaryGap(self, n: int) -> int:\n",
    "        res = 0\n",
    "        # small enough not to exhaust until we see the first 1\n",
    "        cur = -32\n",
    "        while n:\n",
    "            n, r = divmod(n, 2)\n",
    "            if r == 1:\n",
    "                res = max(res, cur)\n",
    "                cur = 0\n",
    "            cur += 1\n",
    "        return res"
   ]
  },
  {
   "cell_type": "code",
   "execution_count": 2,
   "id": "137b4bb6-ff40-4b35-9169-bbeb8f75314d",
   "metadata": {},
   "outputs": [],
   "source": [
    "sol = Solution()"
   ]
  },
  {
   "cell_type": "code",
   "execution_count": 3,
   "id": "d19088da-4941-4e9f-8bc3-9929d4197dbe",
   "metadata": {},
   "outputs": [],
   "source": [
    "assert sol.binaryGap(22) == 2"
   ]
  },
  {
   "cell_type": "code",
   "execution_count": 4,
   "id": "5770e56b-0409-42ab-bf23-c1b7a9699fff",
   "metadata": {},
   "outputs": [],
   "source": [
    "assert sol.binaryGap(8) == 0"
   ]
  },
  {
   "cell_type": "code",
   "execution_count": 5,
   "id": "3ecd279a-f76d-46aa-9f6b-9c88fe7efad1",
   "metadata": {},
   "outputs": [],
   "source": [
    "assert sol.binaryGap(5) == 2"
   ]
  }
 ],
 "metadata": {
  "kernelspec": {
   "display_name": "Python 3 (ipykernel)",
   "language": "python",
   "name": "python3"
  },
  "language_info": {
   "codemirror_mode": {
    "name": "ipython",
    "version": 3
   },
   "file_extension": ".py",
   "mimetype": "text/x-python",
   "name": "python",
   "nbconvert_exporter": "python",
   "pygments_lexer": "ipython3",
   "version": "3.9.7"
  }
 },
 "nbformat": 4,
 "nbformat_minor": 5
}
