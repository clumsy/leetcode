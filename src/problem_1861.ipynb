{
 "cells": [
  {
   "cell_type": "markdown",
   "id": "00518bfc-7bba-4c8c-b6eb-c7117d64be7a",
   "metadata": {},
   "source": [
    "[Problem 1861](https://leetcode.com/problems/rotating-the-box/description)"
   ]
  },
  {
   "cell_type": "code",
   "execution_count": 1,
   "id": "d6de7dd2-2a5d-4155-a80b-b4881f2db2f7",
   "metadata": {},
   "outputs": [],
   "source": [
    "from typing import List"
   ]
  },
  {
   "cell_type": "code",
   "execution_count": 2,
   "id": "72f705ef-f57f-4993-bd89-c1654611e75e",
   "metadata": {},
   "outputs": [],
   "source": [
    "class Solution:\n",
    "    def rotateTheBox(self, box: List[List[str]]) -> List[List[str]]:\n",
    "        rs, cs = len(box), len(box[0])\n",
    "        res = [[\".\"] * rs for _ in range(cs)]\n",
    "        for r in range(rs):\n",
    "            last = cs - 1\n",
    "            for c in range(cs)[::-1]:\n",
    "                if box[r][c] == \"*\":\n",
    "                    res[c][rs - r - 1], last = box[r][c], c - 1\n",
    "                elif box[r][c] == \"#\":\n",
    "                    res[last][rs - r - 1] = box[r][c]\n",
    "                    last -= 1\n",
    "        return res"
   ]
  },
  {
   "cell_type": "code",
   "execution_count": 3,
   "id": "a3bf020f-b2f6-4b24-94bd-f955cb276b34",
   "metadata": {},
   "outputs": [],
   "source": [
    "sol = Solution()"
   ]
  },
  {
   "cell_type": "code",
   "execution_count": 4,
   "id": "cc3680ce-aa88-45ac-8451-c1f6d6a2009d",
   "metadata": {},
   "outputs": [],
   "source": [
    "assert sol.rotateTheBox([[\"#\",\".\",\"#\"]]) == [[\".\"],[\"#\"],[\"#\"]]"
   ]
  },
  {
   "cell_type": "code",
   "execution_count": 5,
   "id": "e057496e-49b9-4556-a331-035fcebb185f",
   "metadata": {},
   "outputs": [],
   "source": [
    "assert sol.rotateTheBox([[\"#\",\".\",\"*\",\".\"],[\"#\",\"#\",\"*\",\".\"]]) == [[\"#\",\".\"],[\"#\",\"#\"],[\"*\",\"*\"],[\".\",\".\"]]"
   ]
  },
  {
   "cell_type": "code",
   "execution_count": 6,
   "id": "3fb3381c-6813-4e0a-ae6b-eb68fcff0aaa",
   "metadata": {},
   "outputs": [],
   "source": [
    "assert sol.rotateTheBox([[\"#\",\"#\",\"*\",\".\",\"*\",\".\"],[\"#\",\"#\",\"#\",\"*\",\".\",\".\"],[\"#\",\"#\",\"#\",\".\",\"#\",\".\"]]) == [[\".\",\"#\",\"#\"],[\".\",\"#\",\"#\"],[\"#\",\"#\",\"*\"],[\"#\",\"*\",\".\"],[\"#\",\".\",\"*\"],[\"#\",\".\",\".\"]]"
   ]
  }
 ],
 "metadata": {
  "kernelspec": {
   "display_name": "Python 3 (ipykernel)",
   "language": "python",
   "name": "python3"
  },
  "language_info": {
   "codemirror_mode": {
    "name": "ipython",
    "version": 3
   },
   "file_extension": ".py",
   "mimetype": "text/x-python",
   "name": "python",
   "nbconvert_exporter": "python",
   "pygments_lexer": "ipython3",
   "version": "3.9.7"
  }
 },
 "nbformat": 4,
 "nbformat_minor": 5
}
