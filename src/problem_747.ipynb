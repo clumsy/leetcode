{
 "cells": [
  {
   "cell_type": "markdown",
   "id": "74086ee6-7af9-441f-9b98-65184383904a",
   "metadata": {},
   "source": [
    "[Problem 747](https://leetcode.com/problems/largest-number-at-least-twice-of-others/description)"
   ]
  },
  {
   "cell_type": "code",
   "execution_count": 1,
   "id": "c4ddd2e5-a469-4428-bb12-1c412b31afc6",
   "metadata": {},
   "outputs": [],
   "source": [
    "from typing import List"
   ]
  },
  {
   "cell_type": "code",
   "execution_count": 2,
   "id": "ef790f29-e583-425e-9dbc-ab617a5ac8ef",
   "metadata": {},
   "outputs": [],
   "source": [
    "class Solution:\n",
    "    def dominantIndex(self, nums: List[int]) -> int:\n",
    "        top1, top2 = 0, None\n",
    "        for i in range(1, len(nums)):\n",
    "            if nums[i] >= nums[top1]:\n",
    "                top1, top2 = i, top1\n",
    "            elif top2 is None or nums[i] > nums[top2]:\n",
    "                top2 = i\n",
    "        res = top1 if nums[top1] >= 2 * nums[top2] else -1\n",
    "        return res"
   ]
  },
  {
   "cell_type": "code",
   "execution_count": 3,
   "id": "1df7a134-ee08-426f-b45d-f0d2c6f2a6c5",
   "metadata": {},
   "outputs": [],
   "source": [
    "sol = Solution()"
   ]
  },
  {
   "cell_type": "code",
   "execution_count": 4,
   "id": "78d7d697-3ad8-403e-bfda-ad620447ca2d",
   "metadata": {},
   "outputs": [],
   "source": [
    "assert sol.dominantIndex([3,6,1,0]) == 1"
   ]
  },
  {
   "cell_type": "code",
   "execution_count": 5,
   "id": "9a0cc7a2-7176-4a17-a6d8-982338eceef7",
   "metadata": {},
   "outputs": [],
   "source": [
    "assert sol.dominantIndex([1,2,3,4]) == -1"
   ]
  }
 ],
 "metadata": {
  "kernelspec": {
   "display_name": "Python 3 (ipykernel)",
   "language": "python",
   "name": "python3"
  },
  "language_info": {
   "codemirror_mode": {
    "name": "ipython",
    "version": 3
   },
   "file_extension": ".py",
   "mimetype": "text/x-python",
   "name": "python",
   "nbconvert_exporter": "python",
   "pygments_lexer": "ipython3",
   "version": "3.9.7"
  }
 },
 "nbformat": 4,
 "nbformat_minor": 5
}
