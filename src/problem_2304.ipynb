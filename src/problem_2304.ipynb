{
 "cells": [
  {
   "cell_type": "markdown",
   "id": "9ac6bec6-5598-46c2-9a34-74c687134376",
   "metadata": {},
   "source": [
    "[Problem 2304](https://leetcode.com/problems/minimum-path-cost-in-a-grid/description)"
   ]
  },
  {
   "cell_type": "code",
   "execution_count": 9,
   "id": "a171e86b-4f2e-4984-ba1c-9f55cd827cff",
   "metadata": {},
   "outputs": [],
   "source": [
    "from typing import List\n",
    "from math import inf"
   ]
  },
  {
   "cell_type": "code",
   "execution_count": 10,
   "id": "442cd361-44b9-44c8-8b6a-e90fd50d0d45",
   "metadata": {},
   "outputs": [],
   "source": [
    "class Solution:\n",
    "    def minPathCost(self, grid: List[List[int]], moveCost: List[List[int]]) -> int:\n",
    "        m, n = len(grid), len(grid[0])\n",
    "        dp = [[inf for _ in range(n)] for _ in range(m)]\n",
    "        dp[-1] = grid[-1][::]\n",
    "        for r in range(m - 1, 0, -1):\n",
    "            for c in range(n):\n",
    "                for k in range(n):\n",
    "                    dp[r - 1][k] = min(dp[r - 1][k], dp[r][c] + grid[r - 1][k] + moveCost[grid[r - 1][k]][c])\n",
    "        res = min(dp[0])\n",
    "        return res"
   ]
  },
  {
   "cell_type": "code",
   "execution_count": 11,
   "id": "90603f41-7618-4788-ab97-161db9d7f646",
   "metadata": {},
   "outputs": [],
   "source": [
    "sol = Solution()"
   ]
  },
  {
   "cell_type": "code",
   "execution_count": 12,
   "id": "810b3926-464f-4bf1-98ad-41afc2a77284",
   "metadata": {},
   "outputs": [],
   "source": [
    "assert sol.minPathCost([[5,3],[4,0],[2,1]], [[9,8],[1,5],[10,12],[18,6],[2,4],[14,3]]) == 17"
   ]
  },
  {
   "cell_type": "code",
   "execution_count": 13,
   "id": "3c0f0c30-f09f-45e8-9dd8-8fdba93a2461",
   "metadata": {},
   "outputs": [],
   "source": [
    "assert sol.minPathCost([[5,1,2],[4,0,3]], [[12,10,15],[20,23,8],[21,7,1],[8,1,13],[9,10,25],[5,3,2]]) == 6"
   ]
  }
 ],
 "metadata": {
  "kernelspec": {
   "display_name": "Python 3 (ipykernel)",
   "language": "python",
   "name": "python3"
  },
  "language_info": {
   "codemirror_mode": {
    "name": "ipython",
    "version": 3
   },
   "file_extension": ".py",
   "mimetype": "text/x-python",
   "name": "python",
   "nbconvert_exporter": "python",
   "pygments_lexer": "ipython3",
   "version": "3.9.7"
  }
 },
 "nbformat": 4,
 "nbformat_minor": 5
}
