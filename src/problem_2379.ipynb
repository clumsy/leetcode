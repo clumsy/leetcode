{
 "cells": [
  {
   "cell_type": "markdown",
   "id": "69588428-cb77-46bd-ba88-55081a7924a0",
   "metadata": {},
   "source": [
    "[Problem 2379]()"
   ]
  },
  {
   "cell_type": "code",
   "execution_count": 1,
   "id": "df36e223-24af-47fb-bb05-c5278492bab8",
   "metadata": {},
   "outputs": [],
   "source": [
    "class Solution:\n",
    "    def minimumRecolors(self, blocks: str, k: int) -> int:\n",
    "        cur = res = blocks[:k].count(\"W\")\n",
    "        for i in range(k, len(blocks)):\n",
    "            cur += blocks[i] == \"W\"\n",
    "            cur -= blocks[i - k] == \"W\"\n",
    "            res = min(res, cur)\n",
    "        return res"
   ]
  },
  {
   "cell_type": "code",
   "execution_count": 2,
   "id": "e305f9be-eca3-44d5-b5f2-f345219d99ee",
   "metadata": {},
   "outputs": [],
   "source": [
    "sol = Solution()"
   ]
  },
  {
   "cell_type": "code",
   "execution_count": 3,
   "id": "37a54112-69b3-4621-b6e7-7117ba4d3186",
   "metadata": {},
   "outputs": [],
   "source": [
    "assert sol.minimumRecolors(\"WBBWWBBWBW\", 7) == 3"
   ]
  },
  {
   "cell_type": "code",
   "execution_count": 4,
   "id": "331a861d-5721-4a1d-9d7f-7a6fbb624996",
   "metadata": {},
   "outputs": [],
   "source": [
    "assert sol.minimumRecolors(\"WBWBBBW\", 2) == 0"
   ]
  }
 ],
 "metadata": {
  "kernelspec": {
   "display_name": "Python 3 (ipykernel)",
   "language": "python",
   "name": "python3"
  },
  "language_info": {
   "codemirror_mode": {
    "name": "ipython",
    "version": 3
   },
   "file_extension": ".py",
   "mimetype": "text/x-python",
   "name": "python",
   "nbconvert_exporter": "python",
   "pygments_lexer": "ipython3",
   "version": "3.9.7"
  }
 },
 "nbformat": 4,
 "nbformat_minor": 5
}
