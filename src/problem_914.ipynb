{
 "cells": [
  {
   "cell_type": "markdown",
   "id": "df45bf9c-f5a7-44dd-935a-a8604d8ee08d",
   "metadata": {},
   "source": [
    "[Problem 914](https://leetcode.com/problems/x-of-a-kind-in-a-deck-of-cards/description)"
   ]
  },
  {
   "cell_type": "code",
   "execution_count": 1,
   "id": "8ef00e48-5a1a-41e0-91d1-e69991c5f808",
   "metadata": {},
   "outputs": [],
   "source": [
    "from typing import List\n",
    "from collections import Counter\n",
    "from functools import reduce"
   ]
  },
  {
   "cell_type": "code",
   "execution_count": 2,
   "id": "4eab9f0d-eb13-44df-8dee-4bf061446018",
   "metadata": {},
   "outputs": [],
   "source": [
    "class Solution:\n",
    "    def hasGroupsSizeX(self, deck: List[int]) -> bool:\n",
    "        cnt = Counter(deck)\n",
    "        def gcd(a, b):\n",
    "            return a if b == 0 else gcd(b, a % b)\n",
    "        res = reduce(gcd, cnt.values()) > 1\n",
    "        return res"
   ]
  },
  {
   "cell_type": "code",
   "execution_count": 3,
   "id": "d2c49564-15ad-41bb-a870-74c23a1b9cef",
   "metadata": {},
   "outputs": [],
   "source": [
    "sol = Solution()"
   ]
  },
  {
   "cell_type": "code",
   "execution_count": 4,
   "id": "f91a89ae-4f5b-4d3f-a4fe-6b28eabc7ddc",
   "metadata": {},
   "outputs": [],
   "source": [
    "assert sol.hasGroupsSizeX([1,2,3,4,4,3,2,1])"
   ]
  },
  {
   "cell_type": "code",
   "execution_count": 5,
   "id": "c7e91b1d-0c0c-4e89-9c4e-ff395031a14a",
   "metadata": {},
   "outputs": [],
   "source": [
    "assert not sol.hasGroupsSizeX([1,1,1,2,2,2,3,3])"
   ]
  }
 ],
 "metadata": {
  "kernelspec": {
   "display_name": "Python 3 (ipykernel)",
   "language": "python",
   "name": "python3"
  },
  "language_info": {
   "codemirror_mode": {
    "name": "ipython",
    "version": 3
   },
   "file_extension": ".py",
   "mimetype": "text/x-python",
   "name": "python",
   "nbconvert_exporter": "python",
   "pygments_lexer": "ipython3",
   "version": "3.9.7"
  }
 },
 "nbformat": 4,
 "nbformat_minor": 5
}
