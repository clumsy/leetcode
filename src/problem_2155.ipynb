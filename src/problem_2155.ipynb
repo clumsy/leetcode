{
 "cells": [
  {
   "cell_type": "markdown",
   "id": "a1c450a5-7f74-4d28-b24a-e4ab1190199c",
   "metadata": {},
   "source": [
    "[Problem 2155](https://leetcode.com/problems/all-divisions-with-the-highest-score-of-a-binary-array/description)"
   ]
  },
  {
   "cell_type": "code",
   "execution_count": 1,
   "id": "8b510082-1b65-481e-90ab-897c40151aef",
   "metadata": {},
   "outputs": [],
   "source": [
    "from typing import List"
   ]
  },
  {
   "cell_type": "code",
   "execution_count": 2,
   "id": "c26dec52-ae2a-4681-9cab-6b96c2885890",
   "metadata": {},
   "outputs": [],
   "source": [
    "class Solution:\n",
    "    def maxScoreIndices(self, nums: List[int]) -> List[int]:\n",
    "        zeros, ones, n = 0, nums.count(1), len(nums)\n",
    "        res, ma = [], 0\n",
    "        for i in range(n + 1):\n",
    "            score = ones + zeros\n",
    "            if score > ma:\n",
    "                res = [i]\n",
    "                ma = score\n",
    "            elif score == ma:\n",
    "                res.append(i)\n",
    "            if i < n:\n",
    "                zeros += nums[i] == 0\n",
    "                ones -= nums[i] == 1\n",
    "        return res"
   ]
  },
  {
   "cell_type": "code",
   "execution_count": 3,
   "id": "9834e382-8d0b-4408-a472-481a57931b7c",
   "metadata": {},
   "outputs": [],
   "source": [
    "sol = Solution()"
   ]
  },
  {
   "cell_type": "code",
   "execution_count": 4,
   "id": "714bfec2-eaf7-4038-87e2-67fe2dc4f053",
   "metadata": {},
   "outputs": [],
   "source": [
    "assert sol.maxScoreIndices([0,0,1,0]) == [2,4]"
   ]
  },
  {
   "cell_type": "code",
   "execution_count": 5,
   "id": "adad70e9-186c-4b1d-9e43-9a3e5dc517df",
   "metadata": {},
   "outputs": [],
   "source": [
    "assert sol.maxScoreIndices([0,0,0]) == [3]"
   ]
  },
  {
   "cell_type": "code",
   "execution_count": 6,
   "id": "fd8de4d6-8124-4a7f-8fd2-fff2b4a3daf7",
   "metadata": {},
   "outputs": [],
   "source": [
    "assert sol.maxScoreIndices([1,1]) == [0]"
   ]
  }
 ],
 "metadata": {
  "kernelspec": {
   "display_name": "Python 3 (ipykernel)",
   "language": "python",
   "name": "python3"
  },
  "language_info": {
   "codemirror_mode": {
    "name": "ipython",
    "version": 3
   },
   "file_extension": ".py",
   "mimetype": "text/x-python",
   "name": "python",
   "nbconvert_exporter": "python",
   "pygments_lexer": "ipython3",
   "version": "3.9.7"
  }
 },
 "nbformat": 4,
 "nbformat_minor": 5
}
