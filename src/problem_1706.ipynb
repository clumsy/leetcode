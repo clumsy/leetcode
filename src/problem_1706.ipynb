{
 "cells": [
  {
   "cell_type": "markdown",
   "id": "e08a8d5a-f907-4120-88c0-9791c87913ef",
   "metadata": {},
   "source": [
    "[Problem 1706](https://leetcode.com/problems/where-will-the-ball-fall/description)"
   ]
  },
  {
   "cell_type": "code",
   "execution_count": 1,
   "id": "3856a7b2-e135-46fa-8420-8c1199c7a9d6",
   "metadata": {},
   "outputs": [],
   "source": [
    "from typing import List"
   ]
  },
  {
   "cell_type": "code",
   "execution_count": 2,
   "id": "4fbfe398-03c0-41af-98ee-1d25bd6725e6",
   "metadata": {},
   "outputs": [],
   "source": [
    "class Solution:\n",
    "    def findBall(self, grid: List[List[int]]) -> List[int]:\n",
    "        m, n = len(grid), len(grid[0])\n",
    "\n",
    "        def dfs(c):\n",
    "            r = 0\n",
    "            while r < m:\n",
    "                if grid[r][c] == 1:\n",
    "                    if c == n - 1 or grid[r][c + 1] == -1:\n",
    "                        c = -1\n",
    "                        break\n",
    "                    else:\n",
    "                        c += 1\n",
    "                else:\n",
    "                    if c == 0 or grid[r][c - 1] == 1:\n",
    "                        c = -1\n",
    "                        break\n",
    "                    else:\n",
    "                        c -= 1\n",
    "                r += 1\n",
    "            return c\n",
    "\n",
    "        res = [-1] * n\n",
    "        for c in range(n):\n",
    "            res[c] = dfs(c)\n",
    "        return res"
   ]
  },
  {
   "cell_type": "code",
   "execution_count": 3,
   "id": "08aa227b-440a-4877-a42d-8ce4c7aa3ae4",
   "metadata": {},
   "outputs": [],
   "source": [
    "sol = Solution()"
   ]
  },
  {
   "cell_type": "code",
   "execution_count": 4,
   "id": "7769e59f-c866-4d61-aad7-956e5c5fef11",
   "metadata": {},
   "outputs": [],
   "source": [
    "assert sol.findBall([[1,1,1,-1,-1],[1,1,1,-1,-1],[-1,-1,-1,1,1],[1,1,1,1,-1],[-1,-1,-1,-1,-1]]) == [1,-1,-1,-1,-1]"
   ]
  },
  {
   "cell_type": "code",
   "execution_count": 5,
   "id": "b8c3e371-1055-4ee4-b4c5-1519a444ab6a",
   "metadata": {},
   "outputs": [],
   "source": [
    "assert sol.findBall([[-1]]) == [-1]"
   ]
  },
  {
   "cell_type": "code",
   "execution_count": 6,
   "id": "5f3186b2-e4af-4949-85ed-70e38e6b0782",
   "metadata": {},
   "outputs": [],
   "source": [
    "assert sol.findBall([[1,1,1,1,1,1],[-1,-1,-1,-1,-1,-1],[1,1,1,1,1,1],[-1,-1,-1,-1,-1,-1]]) == [0,1,2,3,4,-1]"
   ]
  }
 ],
 "metadata": {
  "kernelspec": {
   "display_name": "Python 3 (ipykernel)",
   "language": "python",
   "name": "python3"
  },
  "language_info": {
   "codemirror_mode": {
    "name": "ipython",
    "version": 3
   },
   "file_extension": ".py",
   "mimetype": "text/x-python",
   "name": "python",
   "nbconvert_exporter": "python",
   "pygments_lexer": "ipython3",
   "version": "3.9.7"
  }
 },
 "nbformat": 4,
 "nbformat_minor": 5
}
