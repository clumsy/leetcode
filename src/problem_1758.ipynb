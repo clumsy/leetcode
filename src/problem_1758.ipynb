{
 "cells": [
  {
   "cell_type": "markdown",
   "id": "e7f219f5-bf44-4922-b3a9-d7cf24acdd74",
   "metadata": {},
   "source": [
    "[Problem 1758](https://leetcode.com/problems/minimum-changes-to-make-alternating-binary-string/description)"
   ]
  },
  {
   "cell_type": "code",
   "execution_count": 1,
   "id": "edcc6a16-5a2b-4e25-9cdb-c596ff4627aa",
   "metadata": {},
   "outputs": [],
   "source": [
    "class Solution:\n",
    "    def minOperations(self, s: str) -> int:\n",
    "        ones, zeros = [0, 0], [0, 0]\n",
    "        for i, c in enumerate(s):\n",
    "            ones[i & 1] += c == \"1\"\n",
    "            zeros[i & 1] += c == \"0\"\n",
    "        res = min(zeros[0] + ones[1], zeros[1] + ones[0])\n",
    "        return res"
   ]
  },
  {
   "cell_type": "code",
   "execution_count": 2,
   "id": "1f2aec0c-e4e1-4e6b-a25f-063d58c0b567",
   "metadata": {},
   "outputs": [],
   "source": [
    "sol = Solution()"
   ]
  },
  {
   "cell_type": "code",
   "execution_count": 3,
   "id": "448a089d-092a-48ea-98a9-6ec989a14dc8",
   "metadata": {},
   "outputs": [],
   "source": [
    "assert sol.minOperations(\"0100\") == 1"
   ]
  },
  {
   "cell_type": "code",
   "execution_count": 4,
   "id": "4dc0f6f6-fee0-4117-9989-aebb8b15fad0",
   "metadata": {},
   "outputs": [],
   "source": [
    "assert sol.minOperations(\"10\") == 0"
   ]
  },
  {
   "cell_type": "code",
   "execution_count": 5,
   "id": "c7c7ebf0-30f0-45e7-b89f-0125c2ea02d2",
   "metadata": {},
   "outputs": [],
   "source": [
    "assert sol.minOperations(\"1111\") == 2"
   ]
  }
 ],
 "metadata": {
  "kernelspec": {
   "display_name": "Python 3 (ipykernel)",
   "language": "python",
   "name": "python3"
  },
  "language_info": {
   "codemirror_mode": {
    "name": "ipython",
    "version": 3
   },
   "file_extension": ".py",
   "mimetype": "text/x-python",
   "name": "python",
   "nbconvert_exporter": "python",
   "pygments_lexer": "ipython3",
   "version": "3.9.7"
  }
 },
 "nbformat": 4,
 "nbformat_minor": 5
}
