{
 "cells": [
  {
   "cell_type": "markdown",
   "id": "72ac0316-cc12-4470-9631-291bf892548c",
   "metadata": {},
   "source": [
    "[Problem 2315](https://leetcode.com/problems/count-asterisks/description)"
   ]
  },
  {
   "cell_type": "code",
   "execution_count": 1,
   "id": "60ce6eb3-0e12-4bd4-9336-6cb437848e78",
   "metadata": {},
   "outputs": [],
   "source": [
    "class Solution:\n",
    "    def countAsterisks(self, s: str) -> int:\n",
    "        res = sum(c.count(\"*\") for c in s.split(\"|\")[::2])\n",
    "        return res"
   ]
  },
  {
   "cell_type": "code",
   "execution_count": 2,
   "id": "8f136d7a-d44a-468c-9d94-e8d9f4374510",
   "metadata": {},
   "outputs": [],
   "source": [
    "sol = Solution()"
   ]
  },
  {
   "cell_type": "code",
   "execution_count": 3,
   "id": "d3ac43bb-e5f3-4d85-9f74-c84bed8fcc6d",
   "metadata": {},
   "outputs": [],
   "source": [
    "assert sol.countAsterisks(\"l|*e*et|c**o|*de|\") == 2"
   ]
  },
  {
   "cell_type": "code",
   "execution_count": 4,
   "id": "577339d0-f3aa-4b94-829f-421c03137289",
   "metadata": {},
   "outputs": [],
   "source": [
    "assert sol.countAsterisks(\"iamprogrammer\") == 0"
   ]
  },
  {
   "cell_type": "code",
   "execution_count": 5,
   "id": "491d9745-3492-4eed-b32e-6c908aa0abdb",
   "metadata": {},
   "outputs": [],
   "source": [
    "assert sol.countAsterisks(\"yo|uar|e**|b|e***au|tifu|l\") == 5"
   ]
  }
 ],
 "metadata": {
  "kernelspec": {
   "display_name": "Python 3 (ipykernel)",
   "language": "python",
   "name": "python3"
  },
  "language_info": {
   "codemirror_mode": {
    "name": "ipython",
    "version": 3
   },
   "file_extension": ".py",
   "mimetype": "text/x-python",
   "name": "python",
   "nbconvert_exporter": "python",
   "pygments_lexer": "ipython3",
   "version": "3.9.7"
  }
 },
 "nbformat": 4,
 "nbformat_minor": 5
}
