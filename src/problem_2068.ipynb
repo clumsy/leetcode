{
 "cells": [
  {
   "cell_type": "markdown",
   "id": "5e445a72-ef05-4d7c-bdcc-470efacf94d3",
   "metadata": {},
   "source": [
    "[Problem 2068](https://leetcode.com/problems/check-whether-two-strings-are-almost-equivalent/description)"
   ]
  },
  {
   "cell_type": "code",
   "execution_count": 4,
   "id": "d015a373-fa6c-464c-a662-d9a59c55e7cf",
   "metadata": {},
   "outputs": [],
   "source": [
    "from collections import Counter"
   ]
  },
  {
   "cell_type": "code",
   "execution_count": 5,
   "id": "99cffbac-617c-4df8-b528-d6ae083ce40b",
   "metadata": {},
   "outputs": [],
   "source": [
    "class Solution:\n",
    "    def checkAlmostEquivalent(self, word1: str, word2: str) -> bool:\n",
    "        c1, c2 = (Counter(w) for w in (word1, word2))\n",
    "        diff = (c1 - c2) | (c2 - c1)\n",
    "        res = all(c <= 3 for c in diff.values())\n",
    "        return res"
   ]
  },
  {
   "cell_type": "code",
   "execution_count": 6,
   "id": "2ba6e91d-cab1-4337-9735-fe395d7dd20f",
   "metadata": {},
   "outputs": [],
   "source": [
    "sol = Solution()"
   ]
  },
  {
   "cell_type": "code",
   "execution_count": 7,
   "id": "60a59049-9c4a-4d03-9900-cc717c3212ca",
   "metadata": {},
   "outputs": [],
   "source": [
    "assert not sol.checkAlmostEquivalent(\"aaaa\", \"bccb\")"
   ]
  },
  {
   "cell_type": "code",
   "execution_count": 8,
   "id": "bcf6e716-989a-451e-a3b0-b41049868206",
   "metadata": {},
   "outputs": [],
   "source": [
    "assert sol.checkAlmostEquivalent(\"abcdeef\", \"abaaacc\")"
   ]
  }
 ],
 "metadata": {
  "kernelspec": {
   "display_name": "Python 3 (ipykernel)",
   "language": "python",
   "name": "python3"
  },
  "language_info": {
   "codemirror_mode": {
    "name": "ipython",
    "version": 3
   },
   "file_extension": ".py",
   "mimetype": "text/x-python",
   "name": "python",
   "nbconvert_exporter": "python",
   "pygments_lexer": "ipython3",
   "version": "3.9.7"
  }
 },
 "nbformat": 4,
 "nbformat_minor": 5
}
