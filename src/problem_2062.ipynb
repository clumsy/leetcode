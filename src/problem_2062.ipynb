{
 "cells": [
  {
   "cell_type": "markdown",
   "id": "2dbbaeae-57bd-4efd-ac17-5a16c2ff4c77",
   "metadata": {},
   "source": [
    "[Problem 2062](https://leetcode.com/problems/count-vowel-substrings-of-a-string/description)"
   ]
  },
  {
   "cell_type": "code",
   "execution_count": 1,
   "id": "f7e43065-a5eb-46d1-90d7-67bba1d48750",
   "metadata": {},
   "outputs": [],
   "source": [
    "class Solution:\n",
    "    def countVowelSubstrings(self, word: str) -> int:\n",
    "        vowels = \"aeiou\"\n",
    "        res, last_consonant_pos = 0, -1\n",
    "        last_seen_vowel_pos = {v: -1 for v in vowels}\n",
    "        for i, x in enumerate(word):\n",
    "            if x not in vowels:\n",
    "                last_consonant_pos = i\n",
    "            else:\n",
    "                last_seen_vowel_pos[x] = i\n",
    "                res += max(min(last_seen_vowel_pos.values()) - last_consonant_pos, 0)\n",
    "        return res"
   ]
  },
  {
   "cell_type": "code",
   "execution_count": 2,
   "id": "3a2bc02f-87e1-425d-9196-432dee56dcaf",
   "metadata": {},
   "outputs": [],
   "source": [
    "sol = Solution()"
   ]
  },
  {
   "cell_type": "code",
   "execution_count": 3,
   "id": "690ab622-d7ad-49ca-a135-8d06a6ea61c4",
   "metadata": {},
   "outputs": [],
   "source": [
    "assert sol.countVowelSubstrings(\"aeiouu\") == 2"
   ]
  },
  {
   "cell_type": "code",
   "execution_count": 4,
   "id": "3d454c04-4ddc-4db1-bc5f-71244d9934bc",
   "metadata": {},
   "outputs": [],
   "source": [
    "assert sol.countVowelSubstrings(\"unicornarihan\") == 0"
   ]
  },
  {
   "cell_type": "code",
   "execution_count": 5,
   "id": "b20a2ff2-3a8a-4b59-adfe-9949e605f4d6",
   "metadata": {},
   "outputs": [],
   "source": [
    "assert sol.countVowelSubstrings(\"cuaieuouac\") == 7"
   ]
  }
 ],
 "metadata": {
  "kernelspec": {
   "display_name": "Python 3 (ipykernel)",
   "language": "python",
   "name": "python3"
  },
  "language_info": {
   "codemirror_mode": {
    "name": "ipython",
    "version": 3
   },
   "file_extension": ".py",
   "mimetype": "text/x-python",
   "name": "python",
   "nbconvert_exporter": "python",
   "pygments_lexer": "ipython3",
   "version": "3.9.7"
  }
 },
 "nbformat": 4,
 "nbformat_minor": 5
}
