{
 "cells": [
  {
   "cell_type": "markdown",
   "id": "8a6eaf93-6d85-4382-b8f7-52ac0b024ba0",
   "metadata": {},
   "source": [
    "[Problem 2177](https://leetcode.com/problems/find-three-consecutive-integers-that-sum-to-a-given-number/description)"
   ]
  },
  {
   "cell_type": "code",
   "execution_count": 1,
   "id": "f79d7c4a-0db8-472c-9901-5b87c8d2e773",
   "metadata": {},
   "outputs": [],
   "source": [
    "from typing import List"
   ]
  },
  {
   "cell_type": "code",
   "execution_count": 2,
   "id": "7baa04ac-17ca-483c-a753-b8ef8f4f7c67",
   "metadata": {},
   "outputs": [],
   "source": [
    "class Solution:\n",
    "    def sumOfThree(self, num: int) -> List[int]:\n",
    "        # x + x + 1 + x + 2 = num\n",
    "        # 3x = num - 3\n",
    "        # x = (num - 3) // 3\n",
    "        x, r = divmod(num - 3, 3)\n",
    "        res = [] if r > 0 else [x, x + 1, x + 2]\n",
    "        return res"
   ]
  },
  {
   "cell_type": "code",
   "execution_count": 3,
   "id": "01cb5662-ea74-4516-8897-e529cc029d93",
   "metadata": {},
   "outputs": [],
   "source": [
    "sol = Solution()"
   ]
  },
  {
   "cell_type": "code",
   "execution_count": 4,
   "id": "d3b7eb0d-d4c7-4bbc-9bd4-5cc16cbc73a9",
   "metadata": {},
   "outputs": [],
   "source": [
    "assert sol.sumOfThree(33) == [10,11,12]"
   ]
  },
  {
   "cell_type": "code",
   "execution_count": 5,
   "id": "c00b4d75-c5d0-4cf4-8d91-38860a6cb091",
   "metadata": {},
   "outputs": [],
   "source": [
    "assert sol.sumOfThree(4) == []"
   ]
  }
 ],
 "metadata": {
  "kernelspec": {
   "display_name": "Python 3 (ipykernel)",
   "language": "python",
   "name": "python3"
  },
  "language_info": {
   "codemirror_mode": {
    "name": "ipython",
    "version": 3
   },
   "file_extension": ".py",
   "mimetype": "text/x-python",
   "name": "python",
   "nbconvert_exporter": "python",
   "pygments_lexer": "ipython3",
   "version": "3.9.7"
  }
 },
 "nbformat": 4,
 "nbformat_minor": 5
}
