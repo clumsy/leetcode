{
 "cells": [
  {
   "cell_type": "markdown",
   "id": "367507aa-63cf-4e27-b34d-0bb8bef35ce7",
   "metadata": {},
   "source": [
    "[Problem 1833](https://leetcode.com/problems/maximum-ice-cream-bars/description)"
   ]
  },
  {
   "cell_type": "code",
   "execution_count": 1,
   "id": "0eb3ebc9-c48d-4afe-a140-ff51163197b0",
   "metadata": {},
   "outputs": [],
   "source": [
    "from typing import List"
   ]
  },
  {
   "cell_type": "code",
   "execution_count": 2,
   "id": "c125cc8f-706e-494b-94ac-631c462be734",
   "metadata": {},
   "outputs": [],
   "source": [
    "class Solution:\n",
    "    def maxIceCream(self, costs: List[int], coins: int) -> int:\n",
    "        costs.sort()\n",
    "        res = 0\n",
    "        for i in range(len(costs)):\n",
    "            coins -= costs[i]\n",
    "            if coins < 0:\n",
    "                break\n",
    "            res += 1\n",
    "        return res"
   ]
  },
  {
   "cell_type": "code",
   "execution_count": 3,
   "id": "864d30a8-a56b-4b51-bd88-499ac413d30a",
   "metadata": {},
   "outputs": [],
   "source": [
    "sol = Solution()"
   ]
  },
  {
   "cell_type": "code",
   "execution_count": 4,
   "id": "9765557b-36d7-471f-a388-d07eedbc506d",
   "metadata": {},
   "outputs": [],
   "source": [
    "assert sol.maxIceCream([1,3,2,4,1], 7) == 4"
   ]
  },
  {
   "cell_type": "code",
   "execution_count": 5,
   "id": "9cb75c67-1a20-4ebe-9f4b-4c8112ad7f99",
   "metadata": {},
   "outputs": [],
   "source": [
    "assert sol.maxIceCream([10,6,8,7,7,8], 5) == 0"
   ]
  },
  {
   "cell_type": "code",
   "execution_count": 6,
   "id": "6996e3ce-18ba-4ce5-956f-bd12215c0e82",
   "metadata": {},
   "outputs": [],
   "source": [
    "assert sol.maxIceCream([1,6,3,1,2,5], 20) == 6"
   ]
  }
 ],
 "metadata": {
  "kernelspec": {
   "display_name": "Python 3 (ipykernel)",
   "language": "python",
   "name": "python3"
  },
  "language_info": {
   "codemirror_mode": {
    "name": "ipython",
    "version": 3
   },
   "file_extension": ".py",
   "mimetype": "text/x-python",
   "name": "python",
   "nbconvert_exporter": "python",
   "pygments_lexer": "ipython3",
   "version": "3.9.7"
  }
 },
 "nbformat": 4,
 "nbformat_minor": 5
}
