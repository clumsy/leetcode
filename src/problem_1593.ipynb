{
 "cells": [
  {
   "cell_type": "markdown",
   "id": "4c372a50-a6e7-4309-8e18-8ebdc669ff3a",
   "metadata": {},
   "source": [
    "[Problem 1593](https://leetcode.com/problems/split-a-string-into-the-max-number-of-unique-substrings/description)"
   ]
  },
  {
   "cell_type": "code",
   "execution_count": 1,
   "id": "8698c08c-bb91-41c9-b940-b797d3844c10",
   "metadata": {},
   "outputs": [],
   "source": [
    "class Solution:\n",
    "    def maxUniqueSplit(self, s: str, uniq=None) -> int:\n",
    "        uniq = uniq or set()\n",
    "        res = len(uniq)\n",
    "        for i in range(1, len(s) + 1):\n",
    "            if (chunk := s[:i]) not in uniq:\n",
    "                uniq.add(chunk)\n",
    "                res = max(res, self.maxUniqueSplit(s[i:], uniq))\n",
    "                uniq.remove(chunk)\n",
    "        return res"
   ]
  },
  {
   "cell_type": "code",
   "execution_count": 2,
   "id": "d2a80cd2-15d3-4b82-9e6b-f00927cf38bc",
   "metadata": {},
   "outputs": [],
   "source": [
    "sol = Solution()"
   ]
  },
  {
   "cell_type": "code",
   "execution_count": 3,
   "id": "09c03aa8-6cbd-45dc-995a-73188be40db5",
   "metadata": {},
   "outputs": [],
   "source": [
    "assert sol.maxUniqueSplit(\"ababccc\") == 5"
   ]
  },
  {
   "cell_type": "code",
   "execution_count": 4,
   "id": "46c16e5a-8e31-4405-a9ee-3cdec30123f8",
   "metadata": {},
   "outputs": [],
   "source": [
    "assert sol.maxUniqueSplit(\"aba\") == 2"
   ]
  },
  {
   "cell_type": "code",
   "execution_count": 5,
   "id": "23c05e56-df5d-4d73-9696-463644501446",
   "metadata": {},
   "outputs": [],
   "source": [
    "assert sol.maxUniqueSplit(\"aa\") == 1"
   ]
  }
 ],
 "metadata": {
  "kernelspec": {
   "display_name": "Python 3 (ipykernel)",
   "language": "python",
   "name": "python3"
  },
  "language_info": {
   "codemirror_mode": {
    "name": "ipython",
    "version": 3
   },
   "file_extension": ".py",
   "mimetype": "text/x-python",
   "name": "python",
   "nbconvert_exporter": "python",
   "pygments_lexer": "ipython3",
   "version": "3.9.7"
  }
 },
 "nbformat": 4,
 "nbformat_minor": 5
}
