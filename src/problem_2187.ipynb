{
 "cells": [
  {
   "cell_type": "markdown",
   "id": "9fa6dc64-cebd-4e67-9e75-575695a2de1a",
   "metadata": {},
   "source": [
    "[Problem 2187](https://leetcode.com/problems/minimum-time-to-complete-trips/description)"
   ]
  },
  {
   "cell_type": "code",
   "execution_count": 1,
   "id": "14fd275c-3eda-4f55-9c72-17d77978ef6e",
   "metadata": {},
   "outputs": [],
   "source": [
    "from typing import List"
   ]
  },
  {
   "cell_type": "code",
   "execution_count": 2,
   "id": "15679e45-27c4-4005-8031-fa933a17953a",
   "metadata": {},
   "outputs": [],
   "source": [
    "class Solution:\n",
    "    def minimumTime(self, time: List[int], totalTrips: int) -> int:\n",
    "        lo, hi = 1, min(time) * totalTrips\n",
    "        while lo < hi:\n",
    "            mi = lo + (hi - lo) // 2\n",
    "            cur = sum(mi // t for t in time)\n",
    "            if cur >= totalTrips:\n",
    "                hi = mi\n",
    "            else:\n",
    "                lo = mi + 1\n",
    "        res = lo\n",
    "        return res"
   ]
  },
  {
   "cell_type": "code",
   "execution_count": 3,
   "id": "9d90a7a8-47ab-4a68-94a3-402003b83f0a",
   "metadata": {},
   "outputs": [],
   "source": [
    "sol = Solution()"
   ]
  },
  {
   "cell_type": "code",
   "execution_count": 4,
   "id": "44044f2c-f01c-4c76-8962-ef2419ecf6d5",
   "metadata": {},
   "outputs": [],
   "source": [
    "assert sol.minimumTime([1,2,3], 5) == 3"
   ]
  },
  {
   "cell_type": "code",
   "execution_count": 5,
   "id": "ca68b3e0-c42c-4113-8003-179ebf2958e4",
   "metadata": {},
   "outputs": [],
   "source": [
    "assert sol.minimumTime([2], 1) == 2"
   ]
  }
 ],
 "metadata": {
  "kernelspec": {
   "display_name": "Python 3 (ipykernel)",
   "language": "python",
   "name": "python3"
  },
  "language_info": {
   "codemirror_mode": {
    "name": "ipython",
    "version": 3
   },
   "file_extension": ".py",
   "mimetype": "text/x-python",
   "name": "python",
   "nbconvert_exporter": "python",
   "pygments_lexer": "ipython3",
   "version": "3.9.7"
  }
 },
 "nbformat": 4,
 "nbformat_minor": 5
}
