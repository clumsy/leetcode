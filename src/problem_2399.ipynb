{
 "cells": [
  {
   "cell_type": "markdown",
   "id": "8796df43-b27a-46e3-94e0-8adab4052efe",
   "metadata": {},
   "source": [
    "[Problem 2399](https://leetcode.com/problems/check-distances-between-same-letters/description)"
   ]
  },
  {
   "cell_type": "code",
   "execution_count": 1,
   "id": "849fd999-0bcf-48fa-8fe0-54288176becd",
   "metadata": {},
   "outputs": [],
   "source": [
    "from typing import List"
   ]
  },
  {
   "cell_type": "code",
   "execution_count": 2,
   "id": "42b1bfce-84b1-455c-a7fa-2622490298e2",
   "metadata": {},
   "outputs": [],
   "source": [
    "class Solution:\n",
    "    def checkDistances(self, s: str, distance: List[int]) -> bool:\n",
    "        n = len(s)\n",
    "        pos = sorted(range(n), key=s.__getitem__)\n",
    "        for i in range(0, n, 2):\n",
    "            if abs(pos[i] - pos[i + 1]) - 1 != distance[ord(s[pos[i]]) - ord(\"a\")]:\n",
    "                return False\n",
    "        return True"
   ]
  },
  {
   "cell_type": "code",
   "execution_count": 3,
   "id": "31923535-b9ac-431b-9aa1-def803012c32",
   "metadata": {},
   "outputs": [],
   "source": [
    "sol = Solution()"
   ]
  },
  {
   "cell_type": "code",
   "execution_count": 4,
   "id": "1ba5a6ec-6362-4855-aae5-b96d6e4be2f4",
   "metadata": {},
   "outputs": [],
   "source": [
    "assert sol.checkDistances(\"abaccb\", [1,3,0,5,0,0,0,0,0,0,0,0,0,0,0,0,0,0,0,0,0,0,0,0,0,0])"
   ]
  },
  {
   "cell_type": "code",
   "execution_count": 6,
   "id": "c5fc2771-03c2-475f-9689-4dc37d510eca",
   "metadata": {},
   "outputs": [],
   "source": [
    "assert not sol.checkDistances(\"aa\", [1,0,0,0,0,0,0,0,0,0,0,0,0,0,0,0,0,0,0,0,0,0,0,0,0,0])"
   ]
  }
 ],
 "metadata": {
  "kernelspec": {
   "display_name": "Python 3 (ipykernel)",
   "language": "python",
   "name": "python3"
  },
  "language_info": {
   "codemirror_mode": {
    "name": "ipython",
    "version": 3
   },
   "file_extension": ".py",
   "mimetype": "text/x-python",
   "name": "python",
   "nbconvert_exporter": "python",
   "pygments_lexer": "ipython3",
   "version": "3.9.7"
  }
 },
 "nbformat": 4,
 "nbformat_minor": 5
}
