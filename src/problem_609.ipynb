{
 "cells": [
  {
   "cell_type": "markdown",
   "id": "f7327183-7812-43aa-8f76-ff67cda5b094",
   "metadata": {},
   "source": [
    "[Problem 609](https://leetcode.com/problems/find-duplicate-file-in-system/description)"
   ]
  },
  {
   "cell_type": "code",
   "execution_count": 1,
   "id": "925a5585-8386-4ab8-93d2-4b3d5c237fd4",
   "metadata": {},
   "outputs": [],
   "source": [
    "from typing import List\n",
    "from collections import defaultdict"
   ]
  },
  {
   "cell_type": "code",
   "execution_count": 2,
   "id": "795b8cef-ac53-47e0-90de-ca729eee82b3",
   "metadata": {},
   "outputs": [],
   "source": [
    "class Solution:\n",
    "    def findDuplicate(self, paths: List[str]) -> List[List[str]]:\n",
    "        m = defaultdict(list)\n",
    "        for p in paths:\n",
    "            d, *fs = p.split()\n",
    "            for f in fs:\n",
    "                n, c = f.split(\"(\")\n",
    "                m[c[:-1]].append(f\"{d}/{n}\")\n",
    "        res = [v for v in m.values() if len(v) > 1]\n",
    "        return res"
   ]
  },
  {
   "cell_type": "code",
   "execution_count": 3,
   "id": "0ac9a575-d160-44d3-b260-6ff11172ecef",
   "metadata": {},
   "outputs": [],
   "source": [
    "sol = Solution()"
   ]
  },
  {
   "cell_type": "code",
   "execution_count": 4,
   "id": "fd7707b0-235f-4a07-919d-4a43340b314a",
   "metadata": {},
   "outputs": [],
   "source": [
    "assert sol.findDuplicate([\"root/a 1.txt(abcd) 2.txt(efgh)\",\"root/c 3.txt(abcd)\",\"root/c/d 4.txt(efgh)\",\"root 4.txt(efgh)\"]) == [[\"root/a/1.txt\",\"root/c/3.txt\"],[\"root/a/2.txt\",\"root/c/d/4.txt\",\"root/4.txt\"]]"
   ]
  },
  {
   "cell_type": "code",
   "execution_count": 5,
   "id": "066e56d3-9474-4f76-bd28-41927dfa710c",
   "metadata": {},
   "outputs": [],
   "source": [
    "assert sol.findDuplicate([\"root/a 1.txt(abcd) 2.txt(efgh)\",\"root/c 3.txt(abcd)\",\"root/c/d 4.txt(efgh)\"]) == [[\"root/a/1.txt\",\"root/c/3.txt\"],[\"root/a/2.txt\",\"root/c/d/4.txt\"]]"
   ]
  }
 ],
 "metadata": {
  "kernelspec": {
   "display_name": "Python 3 (ipykernel)",
   "language": "python",
   "name": "python3"
  },
  "language_info": {
   "codemirror_mode": {
    "name": "ipython",
    "version": 3
   },
   "file_extension": ".py",
   "mimetype": "text/x-python",
   "name": "python",
   "nbconvert_exporter": "python",
   "pygments_lexer": "ipython3",
   "version": "3.9.7"
  }
 },
 "nbformat": 4,
 "nbformat_minor": 5
}
