{
 "cells": [
  {
   "cell_type": "markdown",
   "id": "cc883476-fe24-4c3e-8a16-2b3bcab54171",
   "metadata": {},
   "source": [
    "[Problem 658](https://leetcode.com/problems/find-k-closest-elements/)"
   ]
  },
  {
   "cell_type": "code",
   "execution_count": 8,
   "id": "f2dc64b7-45a3-48b6-b683-e58450aaf97e",
   "metadata": {},
   "outputs": [],
   "source": [
    "from typing import List\n",
    "from collections import deque"
   ]
  },
  {
   "cell_type": "code",
   "execution_count": 18,
   "id": "a96e1397-e296-40d7-aa16-82a9773eaf59",
   "metadata": {},
   "outputs": [],
   "source": [
    "class Solution:\n",
    "    def findClosestElements(self, arr: List[int], k: int, x: int) -> List[int]:\n",
    "        n = len(arr)\n",
    "        lo, hi, left, right = 0, n - 1, deque(), deque()\n",
    "        while lo < hi:\n",
    "            mi = lo + (hi - lo) // 2\n",
    "            if arr[mi] >= x:\n",
    "                hi = mi\n",
    "            else:\n",
    "                lo = mi + 1\n",
    "        lo, hi = lo - 1, lo\n",
    "        while k > 0:\n",
    "            if hi < n and (lo < 0 or abs(arr[hi] - x) < abs(arr[lo] - x)):\n",
    "                right.append(arr[hi])\n",
    "                hi += 1\n",
    "            elif lo >= 0 and (hi >= n or abs(arr[hi] - x) >= abs(arr[lo] - x)):\n",
    "                left.appendleft(arr[lo])\n",
    "                lo -= 1\n",
    "            k -= 1\n",
    "        return list(left + right)"
   ]
  },
  {
   "cell_type": "code",
   "execution_count": 22,
   "id": "aebec5fe-0eef-497b-b2ee-db53dbd2f488",
   "metadata": {},
   "outputs": [],
   "source": [
    "class Solution:\n",
    "    def findClosestElements(self, arr: List[int], k: int, x: int) -> List[int]:\n",
    "        # assume A[mi] ~ A[mi + k] is sliding window\n",
    "        lo, hi = 0, len(arr) - k\n",
    "        while lo < hi:\n",
    "            mi = lo + (hi - lo) // 2\n",
    "            if x - arr[mi] <= arr[mi + k] - x:\n",
    "                hi = mi\n",
    "            else:\n",
    "                lo = mi + 1\n",
    "        return arr[lo : lo + k]"
   ]
  },
  {
   "cell_type": "code",
   "execution_count": 23,
   "id": "86732439-ebc7-468d-a15b-d534e003c20b",
   "metadata": {},
   "outputs": [],
   "source": [
    "sol = Solution()"
   ]
  },
  {
   "cell_type": "code",
   "execution_count": 24,
   "id": "f2e587b9-7376-4fcc-aa67-b02861eef3c7",
   "metadata": {},
   "outputs": [],
   "source": [
    "assert sol.findClosestElements([1,2,3,4,5], 4, 3) == [1,2,3,4]"
   ]
  },
  {
   "cell_type": "code",
   "execution_count": 25,
   "id": "d1a4d2b3-2bda-4606-b874-56ee952af8e0",
   "metadata": {},
   "outputs": [],
   "source": [
    "assert sol.findClosestElements([1,2,3,4,5], 4, -1) == [1,2,3,4]"
   ]
  }
 ],
 "metadata": {
  "kernelspec": {
   "display_name": "Python 3 (ipykernel)",
   "language": "python",
   "name": "python3"
  },
  "language_info": {
   "codemirror_mode": {
    "name": "ipython",
    "version": 3
   },
   "file_extension": ".py",
   "mimetype": "text/x-python",
   "name": "python",
   "nbconvert_exporter": "python",
   "pygments_lexer": "ipython3",
   "version": "3.9.7"
  }
 },
 "nbformat": 4,
 "nbformat_minor": 5
}
