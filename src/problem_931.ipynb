{
 "cells": [
  {
   "cell_type": "markdown",
   "id": "face0690-8188-4ac5-99f8-ed391a5bec49",
   "metadata": {},
   "source": [
    "[Problem 931](https://leetcode.com/problems/minimum-falling-path-sum/description)"
   ]
  },
  {
   "cell_type": "code",
   "execution_count": 1,
   "id": "a8d1e326-09dc-4597-8098-5977eedbf8fd",
   "metadata": {},
   "outputs": [],
   "source": [
    "from typing import List"
   ]
  },
  {
   "cell_type": "code",
   "execution_count": 2,
   "id": "351ebaa6-5afa-4f9c-b8f5-1506e7032421",
   "metadata": {},
   "outputs": [],
   "source": [
    "class Solution:\n",
    "    def minFallingPathSum(self, matrix: List[List[int]]) -> int:\n",
    "        rows, cols = len(matrix), len(matrix[0])\n",
    "        for r in range(rows - 2, -1, -1):\n",
    "            for c in range(cols):\n",
    "                matrix[r][c] += min(\n",
    "                    matrix[r + 1][c],\n",
    "                    matrix[r + 1][max(0, c - 1)],\n",
    "                    matrix[r + 1][min(cols - 1, c + 1)],\n",
    "                )\n",
    "        res = min(matrix[0])\n",
    "        return res"
   ]
  },
  {
   "cell_type": "code",
   "execution_count": 3,
   "id": "a02c7358-f695-4161-8f79-b4c3a20c335d",
   "metadata": {},
   "outputs": [],
   "source": [
    "sol = Solution()"
   ]
  },
  {
   "cell_type": "code",
   "execution_count": 4,
   "id": "eb59b249-90e5-4857-98af-35753ce86243",
   "metadata": {},
   "outputs": [],
   "source": [
    "assert sol.minFallingPathSum([[2,1,3],[6,5,4],[7,8,9]]) == 13"
   ]
  },
  {
   "cell_type": "code",
   "execution_count": 5,
   "id": "aa07f651-0a74-482a-9a38-efbd6bda91c0",
   "metadata": {},
   "outputs": [],
   "source": [
    "assert sol.minFallingPathSum([[-19,57],[-40,-5]]) == -59"
   ]
  }
 ],
 "metadata": {
  "kernelspec": {
   "display_name": "Python 3 (ipykernel)",
   "language": "python",
   "name": "python3"
  },
  "language_info": {
   "codemirror_mode": {
    "name": "ipython",
    "version": 3
   },
   "file_extension": ".py",
   "mimetype": "text/x-python",
   "name": "python",
   "nbconvert_exporter": "python",
   "pygments_lexer": "ipython3",
   "version": "3.9.7"
  }
 },
 "nbformat": 4,
 "nbformat_minor": 5
}
