{
 "cells": [
  {
   "cell_type": "markdown",
   "id": "721177de-2234-4ba2-98ea-a6e697277ccd",
   "metadata": {},
   "source": [
    "[Problem 2830]()"
   ]
  },
  {
   "cell_type": "code",
   "execution_count": 1,
   "id": "2dde61a6-4cb5-4159-9a97-6db2fd38859b",
   "metadata": {},
   "outputs": [],
   "source": [
    "from typing import List\n",
    "from bisect import bisect_left"
   ]
  },
  {
   "cell_type": "code",
   "execution_count": 2,
   "id": "581d6b87-f519-49d1-b7df-d3a8bb666d05",
   "metadata": {},
   "outputs": [],
   "source": [
    "class Solution:\n",
    "    def maximizeTheProfit(self, n: int, offers: List[List[int]]) -> int:\n",
    "        offers.sort(key=lambda o: (o[1], -o[2]))\n",
    "        dp, res = [], 0\n",
    "        for s, e, g in offers:\n",
    "            i = bisect_left(dp, (s, 0))\n",
    "            res = max(res, (dp[i - 1][1] if i > 0 else 0) + g)\n",
    "            dp.append((e, res))\n",
    "        return res"
   ]
  },
  {
   "cell_type": "code",
   "execution_count": 3,
   "id": "1e2d4d71-ba4f-40a9-86b0-6d18bc4410c8",
   "metadata": {},
   "outputs": [],
   "source": [
    "from collections import defaultdict"
   ]
  },
  {
   "cell_type": "code",
   "execution_count": 4,
   "id": "aec997a6-36aa-4fd7-a602-3719ac4872d3",
   "metadata": {},
   "outputs": [],
   "source": [
    "class Solution:\n",
    "    def maximizeTheProfit(self, n: int, offers: List[List[int]]) -> int:\n",
    "        dp = [0] * (n + 1)\n",
    "        m = defaultdict(list)\n",
    "        for s, e, g in offers:\n",
    "            m[e].append((s, g))\n",
    "        for e in range(1, n + 1):\n",
    "            dp[e] = dp[e - 1]  # not selling e-th\n",
    "            for s, g in m[e - 1]:  # e-th index in m is e - 1\n",
    "                dp[e] = max(dp[e], dp[s] + g)\n",
    "        res = dp[-1]\n",
    "        return res"
   ]
  },
  {
   "cell_type": "code",
   "execution_count": 5,
   "id": "38a27bd6-bffb-43ce-8d3c-3737847b2865",
   "metadata": {},
   "outputs": [],
   "source": [
    "sol = Solution()"
   ]
  },
  {
   "cell_type": "code",
   "execution_count": 6,
   "id": "57e88d21-2cc2-4eea-9b90-bc63faca2867",
   "metadata": {},
   "outputs": [],
   "source": [
    "assert sol.maximizeTheProfit(5, [[0,0,1],[0,2,2],[1,3,2]]) == 3"
   ]
  },
  {
   "cell_type": "code",
   "execution_count": 7,
   "id": "b4ee258b-1a0e-44d9-9e1e-33a9b6981c38",
   "metadata": {},
   "outputs": [],
   "source": [
    "assert sol.maximizeTheProfit(5, [[0,0,1],[0,2,10],[1,3,2]]) == 10"
   ]
  }
 ],
 "metadata": {
  "kernelspec": {
   "display_name": "Python 3 (ipykernel)",
   "language": "python",
   "name": "python3"
  },
  "language_info": {
   "codemirror_mode": {
    "name": "ipython",
    "version": 3
   },
   "file_extension": ".py",
   "mimetype": "text/x-python",
   "name": "python",
   "nbconvert_exporter": "python",
   "pygments_lexer": "ipython3",
   "version": "3.9.7"
  }
 },
 "nbformat": 4,
 "nbformat_minor": 5
}
