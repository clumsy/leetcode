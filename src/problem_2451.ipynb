{
 "cells": [
  {
   "cell_type": "markdown",
   "id": "18dda05f-0b47-4fd2-acf9-89ba9a904c68",
   "metadata": {},
   "source": [
    "[Problem 2451](https://leetcode.com/problems/odd-string-difference/description)"
   ]
  },
  {
   "cell_type": "code",
   "execution_count": 5,
   "id": "fbe82cfc-6ef1-4bd6-a850-0842784b6cdf",
   "metadata": {},
   "outputs": [],
   "source": [
    "from typing import List\n",
    "from collections import defaultdict"
   ]
  },
  {
   "cell_type": "code",
   "execution_count": 6,
   "id": "7848998d-06ec-4de9-b1d5-be8ac6baf9e9",
   "metadata": {},
   "outputs": [],
   "source": [
    "class Solution:\n",
    "    def oddString(self, words: List[str]) -> str:\n",
    "        diffs = defaultdict(list)\n",
    "        def difference(w):\n",
    "            return \",\".join(str(ord(w[i + 1]) - ord(w[i])) for i in range(len(w) - 1))\n",
    "        for w in words:\n",
    "            diffs[difference(w)].append(w)\n",
    "        for v in diffs.values():\n",
    "            if len(v) == 1:\n",
    "                res = v[0]\n",
    "        return res"
   ]
  },
  {
   "cell_type": "code",
   "execution_count": 7,
   "id": "86c157b8-3964-411a-9197-a8bcc82a92f3",
   "metadata": {},
   "outputs": [],
   "source": [
    "sol = Solution()"
   ]
  },
  {
   "cell_type": "code",
   "execution_count": 8,
   "id": "c340db88-96d5-47ce-bdca-47a2d8d3231f",
   "metadata": {},
   "outputs": [],
   "source": [
    "assert sol.oddString([\"adc\",\"wzy\",\"abc\"]) == \"abc\""
   ]
  },
  {
   "cell_type": "code",
   "execution_count": 9,
   "id": "1fdc2ef5-ad88-47f6-b6e4-9e0175f012d8",
   "metadata": {},
   "outputs": [],
   "source": [
    "assert sol.oddString([\"aaa\",\"bob\",\"ccc\",\"ddd\"]) == \"bob\""
   ]
  }
 ],
 "metadata": {
  "kernelspec": {
   "display_name": "Python 3 (ipykernel)",
   "language": "python",
   "name": "python3"
  },
  "language_info": {
   "codemirror_mode": {
    "name": "ipython",
    "version": 3
   },
   "file_extension": ".py",
   "mimetype": "text/x-python",
   "name": "python",
   "nbconvert_exporter": "python",
   "pygments_lexer": "ipython3",
   "version": "3.9.7"
  }
 },
 "nbformat": 4,
 "nbformat_minor": 5
}
