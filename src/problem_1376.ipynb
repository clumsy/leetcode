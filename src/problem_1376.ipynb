{
 "cells": [
  {
   "cell_type": "markdown",
   "id": "612caf9f-5972-4e13-a270-9b36efddc85a",
   "metadata": {},
   "source": [
    "[Problem 1376](https://leetcode.com/problems/time-needed-to-inform-all-employees/description)"
   ]
  },
  {
   "cell_type": "code",
   "execution_count": 1,
   "id": "331a993e-d108-48fd-9ab1-46a72bcbf226",
   "metadata": {},
   "outputs": [],
   "source": [
    "from typing import List\n",
    "from collections import defaultdict"
   ]
  },
  {
   "cell_type": "code",
   "execution_count": 2,
   "id": "116fbff3-9004-45e2-983b-5cdc560bfa96",
   "metadata": {},
   "outputs": [],
   "source": [
    "class Solution:\n",
    "    def numOfMinutes(self, n: int, headID: int, manager: List[int], informTime: List[int]) -> int:\n",
    "        subs = defaultdict(list)\n",
    "        for i, m in enumerate(manager):\n",
    "            subs[m].append(i)\n",
    "        def dfs(node, s=0):\n",
    "            if node not in subs:\n",
    "                return 0\n",
    "            return s + informTime[node] + max(dfs(s) for s in subs[node])\n",
    "        res = dfs(headID)\n",
    "        return res"
   ]
  },
  {
   "cell_type": "code",
   "execution_count": 3,
   "id": "0222f692-9ec5-4503-911e-428b676260ca",
   "metadata": {},
   "outputs": [],
   "source": [
    "sol = Solution()"
   ]
  },
  {
   "cell_type": "code",
   "execution_count": 4,
   "id": "cad33914-f814-49fe-846f-93febd8f7f6b",
   "metadata": {},
   "outputs": [],
   "source": [
    "assert sol.numOfMinutes(1, 0, [-1], [0]) == 0"
   ]
  },
  {
   "cell_type": "code",
   "execution_count": 5,
   "id": "9bfbd696-fefb-4307-9bc0-3baa2a2a318c",
   "metadata": {},
   "outputs": [],
   "source": [
    "assert sol.numOfMinutes(6, 2, [2,2,-1,2,2,2], [0,0,1,0,0,0]) == 1"
   ]
  }
 ],
 "metadata": {
  "kernelspec": {
   "display_name": "Python 3 (ipykernel)",
   "language": "python",
   "name": "python3"
  },
  "language_info": {
   "codemirror_mode": {
    "name": "ipython",
    "version": 3
   },
   "file_extension": ".py",
   "mimetype": "text/x-python",
   "name": "python",
   "nbconvert_exporter": "python",
   "pygments_lexer": "ipython3",
   "version": "3.9.7"
  }
 },
 "nbformat": 4,
 "nbformat_minor": 5
}
