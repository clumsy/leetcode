{
 "cells": [
  {
   "cell_type": "markdown",
   "id": "cf3d399c-2004-4728-bc7e-25e44b93893e",
   "metadata": {},
   "source": [
    "[Problem 1909](https://leetcode.com/problems/remove-one-element-to-make-the-array-strictly-increasing/)"
   ]
  },
  {
   "cell_type": "code",
   "execution_count": 167,
   "id": "435658f9-248c-49b9-93c5-4c72443de03c",
   "metadata": {},
   "outputs": [],
   "source": [
    "from typing import List"
   ]
  },
  {
   "cell_type": "code",
   "execution_count": 168,
   "id": "d0a86b12-48ab-4ffc-b244-b8f5fb7fe94c",
   "metadata": {},
   "outputs": [],
   "source": [
    "class Solution:\n",
    "    def canBeIncreasing(self, nums: List[int]) -> bool:\n",
    "        used = nums[0] >= nums[1]\n",
    "        prev_2 = 0\n",
    "        prev_1 = 1\n",
    "        for i in range(2, len(nums)):\n",
    "            if nums[i] <= nums[prev_1]:\n",
    "                if used:\n",
    "                    return False\n",
    "                used = True\n",
    "                if nums[i] > nums[prev_2]:\n",
    "                    prev_1 = i\n",
    "            else:\n",
    "                prev_2 = prev_1\n",
    "                prev_1 = i\n",
    "        return True"
   ]
  },
  {
   "cell_type": "code",
   "execution_count": 169,
   "id": "ac6648ad-5439-464c-8a5c-877fa8966454",
   "metadata": {},
   "outputs": [],
   "source": [
    "sol = Solution()"
   ]
  },
  {
   "cell_type": "code",
   "execution_count": 170,
   "id": "bacbf10e-a11b-4080-929a-56ac167dfe4b",
   "metadata": {},
   "outputs": [],
   "source": [
    "assert sol.canBeIncreasing([1,2,10,5,7])"
   ]
  },
  {
   "cell_type": "code",
   "execution_count": 171,
   "id": "18220b4a-b796-405d-93a3-6c3ccfb8c95b",
   "metadata": {},
   "outputs": [],
   "source": [
    "assert not sol.canBeIncreasing([2,3,1,2])"
   ]
  },
  {
   "cell_type": "code",
   "execution_count": 172,
   "id": "4b871d9a-620c-4d83-95e7-01107e4e3de2",
   "metadata": {},
   "outputs": [],
   "source": [
    "assert not sol.canBeIncreasing([1,1,1])"
   ]
  },
  {
   "cell_type": "code",
   "execution_count": 173,
   "id": "31ae000e-6c20-4a6a-afe8-e895eb31f8a1",
   "metadata": {},
   "outputs": [],
   "source": [
    "assert sol.canBeIncreasing([105,924,32,968])"
   ]
  },
  {
   "cell_type": "code",
   "execution_count": 174,
   "id": "b85cccef-42e8-411a-b089-7129764f7a5b",
   "metadata": {},
   "outputs": [],
   "source": [
    "assert not sol.canBeIncreasing([100,21,3])"
   ]
  },
  {
   "cell_type": "code",
   "execution_count": 175,
   "id": "4673e003-9617-4270-b0ac-0fc6b28f5c55",
   "metadata": {},
   "outputs": [],
   "source": [
    "assert sol.canBeIncreasing([1,1])"
   ]
  }
 ],
 "metadata": {
  "kernelspec": {
   "display_name": "Python 3 (ipykernel)",
   "language": "python",
   "name": "python3"
  },
  "language_info": {
   "codemirror_mode": {
    "name": "ipython",
    "version": 3
   },
   "file_extension": ".py",
   "mimetype": "text/x-python",
   "name": "python",
   "nbconvert_exporter": "python",
   "pygments_lexer": "ipython3",
   "version": "3.9.7"
  }
 },
 "nbformat": 4,
 "nbformat_minor": 5
}
