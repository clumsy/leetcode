{
 "cells": [
  {
   "cell_type": "markdown",
   "id": "bc829e85-1af5-46a2-936e-c88043c519f1",
   "metadata": {},
   "source": [
    "[Problem 2706](https://leetcode.com/problems/buy-two-chocolates/description)"
   ]
  },
  {
   "cell_type": "code",
   "execution_count": 1,
   "id": "bb0f65a0-6a2e-44fc-8da8-4d7d6810d697",
   "metadata": {},
   "outputs": [],
   "source": [
    "from typing import List\n",
    "from math import inf"
   ]
  },
  {
   "cell_type": "code",
   "execution_count": 2,
   "id": "ff45487d-1ab1-4617-9f0c-05d62ec168d0",
   "metadata": {},
   "outputs": [],
   "source": [
    "class Solution:\n",
    "    def buyChoco(self, prices: List[int], money: int) -> int:\n",
    "        m1 = m2 = inf\n",
    "        for i in prices:\n",
    "            if i < m1:\n",
    "                m1, m2 = i, m1\n",
    "            elif i < m2:\n",
    "                m2 = i\n",
    "        res = money - (m1 + m2 if m1 + m2 <= money else 0)\n",
    "        return res"
   ]
  },
  {
   "cell_type": "code",
   "execution_count": 3,
   "id": "42759f5c-4fde-4f17-93b0-0af065cda33a",
   "metadata": {},
   "outputs": [],
   "source": [
    "sol = Solution()"
   ]
  },
  {
   "cell_type": "code",
   "execution_count": 4,
   "id": "a1887562-4822-4362-8f7b-6f0f8f8150cd",
   "metadata": {},
   "outputs": [],
   "source": [
    "assert sol.buyChoco([1,2,2], 3) == 0"
   ]
  },
  {
   "cell_type": "code",
   "execution_count": 5,
   "id": "32ba2c8a-8416-43c2-bd5c-326d2498f55a",
   "metadata": {},
   "outputs": [],
   "source": [
    "assert sol.buyChoco([3,2,3], 3) == 3"
   ]
  }
 ],
 "metadata": {
  "kernelspec": {
   "display_name": "Python 3 (ipykernel)",
   "language": "python",
   "name": "python3"
  },
  "language_info": {
   "codemirror_mode": {
    "name": "ipython",
    "version": 3
   },
   "file_extension": ".py",
   "mimetype": "text/x-python",
   "name": "python",
   "nbconvert_exporter": "python",
   "pygments_lexer": "ipython3",
   "version": "3.9.7"
  }
 },
 "nbformat": 4,
 "nbformat_minor": 5
}
