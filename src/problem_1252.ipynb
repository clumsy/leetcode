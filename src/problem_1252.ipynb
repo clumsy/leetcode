{
 "cells": [
  {
   "cell_type": "markdown",
   "id": "fe2d6549-185b-4867-8195-2c3b3ed96ba1",
   "metadata": {},
   "source": [
    "[Problem 1252](https://leetcode.com/problems/cells-with-odd-values-in-a-matrix/description)"
   ]
  },
  {
   "cell_type": "code",
   "execution_count": 1,
   "id": "5b3a0228-f3f1-44fd-bc04-9fa1cf701297",
   "metadata": {},
   "outputs": [],
   "source": [
    "from typing import List\n",
    "from collections import defaultdict"
   ]
  },
  {
   "cell_type": "code",
   "execution_count": 2,
   "id": "73b309d2-98fb-46f9-965a-6d50877f4f30",
   "metadata": {},
   "outputs": [],
   "source": [
    "class Solution:\n",
    "    def oddCells(self, m: int, n: int, indices: List[List[int]]) -> int:\n",
    "        cs, rs = defaultdict(int), defaultdict(int)\n",
    "        for r, c in indices:\n",
    "            rs[r] += 1\n",
    "            cs[c] += 1\n",
    "        res = sum((rs[r] + cs[c]) & 1 == 1 for r in range(m) for c in range(n))\n",
    "        return res"
   ]
  },
  {
   "cell_type": "code",
   "execution_count": 3,
   "id": "ec797eb8-bc8b-4e9b-a218-9f6f5d030f02",
   "metadata": {},
   "outputs": [],
   "source": [
    "sol = Solution()"
   ]
  },
  {
   "cell_type": "code",
   "execution_count": 4,
   "id": "b89ca308-be17-4350-a25e-75696b8dfa97",
   "metadata": {},
   "outputs": [],
   "source": [
    "assert sol.oddCells(2, 3, [[0,1],[1,1]]) == 6"
   ]
  },
  {
   "cell_type": "code",
   "execution_count": 5,
   "id": "40445577-a7e0-4b26-b4e6-8a9425d9b18f",
   "metadata": {},
   "outputs": [],
   "source": [
    "assert sol.oddCells(2, 2, [[1,1],[0,0]]) == 0"
   ]
  }
 ],
 "metadata": {
  "kernelspec": {
   "display_name": "Python 3 (ipykernel)",
   "language": "python",
   "name": "python3"
  },
  "language_info": {
   "codemirror_mode": {
    "name": "ipython",
    "version": 3
   },
   "file_extension": ".py",
   "mimetype": "text/x-python",
   "name": "python",
   "nbconvert_exporter": "python",
   "pygments_lexer": "ipython3",
   "version": "3.9.7"
  }
 },
 "nbformat": 4,
 "nbformat_minor": 5
}
