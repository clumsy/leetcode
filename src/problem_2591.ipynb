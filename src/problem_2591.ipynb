{
 "cells": [
  {
   "cell_type": "markdown",
   "id": "df6e54db-4a62-414c-bf60-dd6dc1a2b3bc",
   "metadata": {},
   "source": [
    "[Problem 2591](https://leetcode.com/problems/distribute-money-to-maximum-children/description)"
   ]
  },
  {
   "cell_type": "code",
   "execution_count": 1,
   "id": "5c4a2425-6a7d-43e9-825e-100399bf0c98",
   "metadata": {},
   "outputs": [],
   "source": [
    "class Solution:\n",
    "    def distMoney(self, m: int, c: int) -> int:\n",
    "        if m < c or (c == 1 and m == 4):\n",
    "            res = -1\n",
    "        else:\n",
    "            d, r = divmod(m, 8)\n",
    "            if d > c:\n",
    "                d, r = c, r + 8 * (d - c)\n",
    "            res = d - (1 if (r == 4 and d == c - 1) or (d == c and r) else max(0, (c - d - r + 6)//7))\n",
    "        return res"
   ]
  },
  {
   "cell_type": "code",
   "execution_count": 2,
   "id": "4cdddd27-fd38-4f72-be00-f9737ca10265",
   "metadata": {},
   "outputs": [],
   "source": [
    "class Solution:\n",
    "    def distMoney(self, m: int, c: int) -> int:\n",
    "        m -= c  # everyone got 1\n",
    "        if m < 0:\n",
    "            return -1  # not enough money to satisfy\n",
    "        if m // 7 == c and m % 7 == 0:\n",
    "            return c  # everyone got 8\n",
    "        if m // 7 == c - 1 and m % 7 == 3:\n",
    "            return c - 2  # all but one got 8, but the last one got 4, so both can't get 8\n",
    "        return min(c - 1, m / 7)  # max we can get"
   ]
  },
  {
   "cell_type": "code",
   "execution_count": 3,
   "id": "d3316014-ad07-42bb-9dde-495a801fc492",
   "metadata": {},
   "outputs": [],
   "source": [
    "sol = Solution()"
   ]
  },
  {
   "cell_type": "code",
   "execution_count": 4,
   "id": "56ac553f-1882-4b6f-8c9e-e768b3acdc5b",
   "metadata": {},
   "outputs": [],
   "source": [
    "assert sol.distMoney(20, 3) == 1"
   ]
  },
  {
   "cell_type": "code",
   "execution_count": 5,
   "id": "18a492f5-c4f9-45d8-a0a0-d94ec49a8038",
   "metadata": {},
   "outputs": [],
   "source": [
    "assert sol.distMoney(16, 2) == 2"
   ]
  }
 ],
 "metadata": {
  "kernelspec": {
   "display_name": "Python 3 (ipykernel)",
   "language": "python",
   "name": "python3"
  },
  "language_info": {
   "codemirror_mode": {
    "name": "ipython",
    "version": 3
   },
   "file_extension": ".py",
   "mimetype": "text/x-python",
   "name": "python",
   "nbconvert_exporter": "python",
   "pygments_lexer": "ipython3",
   "version": "3.9.7"
  }
 },
 "nbformat": 4,
 "nbformat_minor": 5
}
