{
 "cells": [
  {
   "cell_type": "markdown",
   "id": "bd3fba80-f821-408e-b015-4d84486a9ebe",
   "metadata": {},
   "source": [
    "[Problem 2798](https://leetcode.com/problems/number-of-employees-who-met-the-target/description)"
   ]
  },
  {
   "cell_type": "code",
   "execution_count": 1,
   "id": "d900512b-146a-4fce-be6b-4ce20308c1ce",
   "metadata": {},
   "outputs": [],
   "source": [
    "from typing import List"
   ]
  },
  {
   "cell_type": "code",
   "execution_count": 2,
   "id": "b83c84e1-f0de-4564-8aa6-bbf3b0d73415",
   "metadata": {},
   "outputs": [],
   "source": [
    "class Solution:\n",
    "    def numberOfEmployeesWhoMetTarget(self, hours: List[int], target: int) -> int:\n",
    "        res = sum(i >= target for i in hours)\n",
    "        return res"
   ]
  },
  {
   "cell_type": "code",
   "execution_count": 3,
   "id": "61dd674a-61c1-4308-8fae-af125d9c9a25",
   "metadata": {},
   "outputs": [],
   "source": [
    "sol = Solution()"
   ]
  },
  {
   "cell_type": "code",
   "execution_count": 4,
   "id": "5c401bd5-498e-47fb-b24e-508989c3fb72",
   "metadata": {},
   "outputs": [],
   "source": [
    "assert sol.numberOfEmployeesWhoMetTarget([0,1,2,3,4], 2) == 3"
   ]
  },
  {
   "cell_type": "code",
   "execution_count": 5,
   "id": "97d31193-d3f3-483c-83cc-966951c36c39",
   "metadata": {},
   "outputs": [],
   "source": [
    "assert sol.numberOfEmployeesWhoMetTarget([5,1,4,2,2], 6) == 0"
   ]
  }
 ],
 "metadata": {
  "kernelspec": {
   "display_name": "Python 3 (ipykernel)",
   "language": "python",
   "name": "python3"
  },
  "language_info": {
   "codemirror_mode": {
    "name": "ipython",
    "version": 3
   },
   "file_extension": ".py",
   "mimetype": "text/x-python",
   "name": "python",
   "nbconvert_exporter": "python",
   "pygments_lexer": "ipython3",
   "version": "3.9.7"
  }
 },
 "nbformat": 4,
 "nbformat_minor": 5
}
