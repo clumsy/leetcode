{
 "cells": [
  {
   "cell_type": "markdown",
   "id": "320b22d8-3509-4a6b-bf8e-fa2d8a820043",
   "metadata": {},
   "source": [
    "[Problem 888](https://leetcode.com/problems/fair-candy-swap/description)"
   ]
  },
  {
   "cell_type": "code",
   "execution_count": 1,
   "id": "5a9661ba-e45c-4555-bb3a-351078d94e4f",
   "metadata": {},
   "outputs": [],
   "source": [
    "from typing import List"
   ]
  },
  {
   "cell_type": "code",
   "execution_count": 2,
   "id": "10de0311-d668-48b8-a14a-85ab24af67c9",
   "metadata": {},
   "outputs": [],
   "source": [
    "class Solution:\n",
    "    def fairCandySwap(self, aliceSizes: List[int], bobSizes: List[int]) -> List[int]:\n",
    "        diff = sum(aliceSizes) - sum(bobSizes)\n",
    "        bob = set(bobSizes)\n",
    "        for a in aliceSizes:\n",
    "            b = a - diff // 2\n",
    "            if b in bob:\n",
    "                return [a, b]"
   ]
  },
  {
   "cell_type": "code",
   "execution_count": 3,
   "id": "152b35ae-d190-4442-b06f-0f1e2a28789b",
   "metadata": {},
   "outputs": [],
   "source": [
    "sol = Solution()"
   ]
  },
  {
   "cell_type": "code",
   "execution_count": 4,
   "id": "8d15fe53-0f63-4299-bda4-df3ae9103bf4",
   "metadata": {},
   "outputs": [],
   "source": [
    "assert sol.fairCandySwap([1,1], [2,2]) == [1,2]"
   ]
  },
  {
   "cell_type": "code",
   "execution_count": 5,
   "id": "18704a2c-f066-4051-a066-821ff5620c31",
   "metadata": {},
   "outputs": [],
   "source": [
    "assert sol.fairCandySwap([1,2], [2,3]) == [1,2]"
   ]
  },
  {
   "cell_type": "code",
   "execution_count": 6,
   "id": "907a5b31-3b42-4eaf-a81a-6a973d25d835",
   "metadata": {},
   "outputs": [],
   "source": [
    "assert sol.fairCandySwap([2], [1,3]) == [2,3]"
   ]
  }
 ],
 "metadata": {
  "kernelspec": {
   "display_name": "Python 3 (ipykernel)",
   "language": "python",
   "name": "python3"
  },
  "language_info": {
   "codemirror_mode": {
    "name": "ipython",
    "version": 3
   },
   "file_extension": ".py",
   "mimetype": "text/x-python",
   "name": "python",
   "nbconvert_exporter": "python",
   "pygments_lexer": "ipython3",
   "version": "3.9.7"
  }
 },
 "nbformat": 4,
 "nbformat_minor": 5
}
