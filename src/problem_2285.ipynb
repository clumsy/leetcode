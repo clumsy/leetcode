{
 "cells": [
  {
   "cell_type": "markdown",
   "id": "c1308dfb-661b-41df-8c2c-3349019872de",
   "metadata": {},
   "source": [
    "[Problem 2285](https://leetcode.com/problems/maximum-total-importance-of-roads/description)"
   ]
  },
  {
   "cell_type": "code",
   "execution_count": 1,
   "id": "a090c584-7c55-4752-8bf8-521e0af01942",
   "metadata": {},
   "outputs": [],
   "source": [
    "from typing import List"
   ]
  },
  {
   "cell_type": "code",
   "execution_count": 2,
   "id": "eb578d35-38fa-4165-85dc-a1b43785329f",
   "metadata": {},
   "outputs": [],
   "source": [
    "class Solution:\n",
    "    def maximumImportance(self, n: int, roads: List[List[int]]) -> int:\n",
    "        inc_ = [0] * n\n",
    "        for i, j in roads:\n",
    "            inc_[i] += 1\n",
    "            inc_[j] += 1\n",
    "        ord_ = sorted(range(n), key=inc_.__getitem__)\n",
    "        imp_ = {c: i + 1 for i, c in enumerate(ord_)}\n",
    "        res = sum(imp_[i] + imp_[j] for i, j in roads)\n",
    "        return res"
   ]
  },
  {
   "cell_type": "code",
   "execution_count": 3,
   "id": "58889ebb-357b-4d60-8e11-651d0f30c0c6",
   "metadata": {},
   "outputs": [],
   "source": [
    "sol = Solution()"
   ]
  },
  {
   "cell_type": "code",
   "execution_count": 5,
   "id": "93eb0aec-cf68-4c48-8164-6aa7e5bc72c5",
   "metadata": {},
   "outputs": [],
   "source": [
    "assert sol.maximumImportance(5, [[0,1],[1,2],[2,3],[0,2],[1,3],[2,4]]) == 43"
   ]
  },
  {
   "cell_type": "code",
   "execution_count": 6,
   "id": "a822fbe8-469c-43f0-a81e-46dcf2176cf4",
   "metadata": {},
   "outputs": [],
   "source": [
    "assert sol.maximumImportance(5, [[0,3],[2,4],[1,3]]) == 20"
   ]
  }
 ],
 "metadata": {
  "kernelspec": {
   "display_name": "Python 3 (ipykernel)",
   "language": "python",
   "name": "python3"
  },
  "language_info": {
   "codemirror_mode": {
    "name": "ipython",
    "version": 3
   },
   "file_extension": ".py",
   "mimetype": "text/x-python",
   "name": "python",
   "nbconvert_exporter": "python",
   "pygments_lexer": "ipython3",
   "version": "3.9.7"
  }
 },
 "nbformat": 4,
 "nbformat_minor": 5
}
