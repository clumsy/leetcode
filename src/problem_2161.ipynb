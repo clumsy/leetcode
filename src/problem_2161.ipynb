{
 "cells": [
  {
   "cell_type": "markdown",
   "id": "e2e56266-cf13-4a46-83c1-51abeaa0793e",
   "metadata": {},
   "source": [
    "[Problem 2161](https://leetcode.com/problems/partition-array-according-to-given-pivot)"
   ]
  },
  {
   "cell_type": "code",
   "execution_count": 8,
   "id": "aa708174-e134-41a5-b74e-32724cd658af",
   "metadata": {},
   "outputs": [],
   "source": [
    "from typing import List"
   ]
  },
  {
   "cell_type": "code",
   "execution_count": 10,
   "id": "f305503e-f568-431c-aa9d-f6b1aa77b4ac",
   "metadata": {},
   "outputs": [],
   "source": [
    "class Solution:\n",
    "    def pivotArray(self, nums: List[int], pivot: int) -> List[int]:\n",
    "        lt, gt, eq = 0, 0, 0\n",
    "        for num in nums:\n",
    "            if num < pivot:\n",
    "                lt += 1\n",
    "            elif num == pivot:\n",
    "                eq += 1\n",
    "        gt, eq, lt = lt + eq, lt, 0\n",
    "        res = [0]*len(nums)\n",
    "        for num in nums:\n",
    "            if num > pivot:\n",
    "                pos, gt = gt, gt + 1\n",
    "            elif num < pivot:\n",
    "                pos, lt = lt, lt + 1\n",
    "            else:\n",
    "                pos, eq = eq, eq + 1\n",
    "            res[pos] = num\n",
    "        return res"
   ]
  },
  {
   "cell_type": "code",
   "execution_count": 11,
   "id": "20288493-015b-4b8f-aeb6-f731e17ff98b",
   "metadata": {},
   "outputs": [],
   "source": [
    "sol = Solution()"
   ]
  },
  {
   "cell_type": "code",
   "execution_count": 13,
   "id": "3550eaf9-0e37-4b69-963d-65098619cad4",
   "metadata": {},
   "outputs": [],
   "source": [
    "assert sol.pivotArray([9,12,5,10,14,3,10], 10) == [9,5,3,10,10,12,14]"
   ]
  },
  {
   "cell_type": "code",
   "execution_count": 14,
   "id": "a3c8a9b0-1776-4c02-87ea-aec281bdecf1",
   "metadata": {},
   "outputs": [],
   "source": [
    "assert sol.pivotArray([-3,4,3,2], 2) == [-3,2,4,3]"
   ]
  }
 ],
 "metadata": {
  "kernelspec": {
   "display_name": "Python 3 (ipykernel)",
   "language": "python",
   "name": "python3"
  },
  "language_info": {
   "codemirror_mode": {
    "name": "ipython",
    "version": 3
   },
   "file_extension": ".py",
   "mimetype": "text/x-python",
   "name": "python",
   "nbconvert_exporter": "python",
   "pygments_lexer": "ipython3",
   "version": "3.9.7"
  }
 },
 "nbformat": 4,
 "nbformat_minor": 5
}
