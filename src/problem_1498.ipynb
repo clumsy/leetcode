{
 "cells": [
  {
   "cell_type": "markdown",
   "id": "25efc055-3f9f-4ccb-a893-a945e1733612",
   "metadata": {},
   "source": [
    "[Problem 1498](https://leetcode.com/problems/number-of-subsequences-that-satisfy-the-given-sum-condition/)"
   ]
  },
  {
   "cell_type": "code",
   "execution_count": 2,
   "id": "938c62f5-bb8d-47eb-9bbd-bdba31db263f",
   "metadata": {},
   "outputs": [],
   "source": [
    "from typing import List"
   ]
  },
  {
   "cell_type": "code",
   "execution_count": 8,
   "id": "a5db28bf-e124-4192-8881-29954d32704d",
   "metadata": {},
   "outputs": [],
   "source": [
    "class Solution:\n",
    "    def numSubseq(self, nums: List[int], target: int) -> int:\n",
    "        MOD = 10 ** 9 + 7\n",
    "        nums, n = sorted(nums), len(nums)\n",
    "        lo, hi = 0, n - 1\n",
    "        res, p = 0, 2 ** (hi - lo)\n",
    "        while lo <= hi:\n",
    "            if nums[lo] + nums[hi] > target:\n",
    "                hi -= 1\n",
    "            else:\n",
    "                res += p % MOD\n",
    "                lo += 1\n",
    "            p //= 2\n",
    "        return res % MOD"
   ]
  },
  {
   "cell_type": "code",
   "execution_count": 9,
   "id": "626542ea-44e5-4839-b26f-fbea79952545",
   "metadata": {},
   "outputs": [],
   "source": [
    "sol = Solution()"
   ]
  },
  {
   "cell_type": "code",
   "execution_count": 10,
   "id": "34c51166-7aa6-46d2-b636-c907aca546eb",
   "metadata": {},
   "outputs": [],
   "source": [
    "assert sol.numSubseq([3,5,6,7], 9) == 4"
   ]
  },
  {
   "cell_type": "code",
   "execution_count": 11,
   "id": "43198fe9-42a3-4ce1-826f-418326622d5e",
   "metadata": {},
   "outputs": [],
   "source": [
    "assert sol.numSubseq([3,3,6,8], 10) == 6"
   ]
  },
  {
   "cell_type": "code",
   "execution_count": 12,
   "id": "79f3a281-a991-4986-b5b3-e2e109f7bdbd",
   "metadata": {},
   "outputs": [],
   "source": [
    "assert sol.numSubseq([2,3,3,4,6,7], 12) == 61"
   ]
  }
 ],
 "metadata": {
  "kernelspec": {
   "display_name": "Python 3 (ipykernel)",
   "language": "python",
   "name": "python3"
  },
  "language_info": {
   "codemirror_mode": {
    "name": "ipython",
    "version": 3
   },
   "file_extension": ".py",
   "mimetype": "text/x-python",
   "name": "python",
   "nbconvert_exporter": "python",
   "pygments_lexer": "ipython3",
   "version": "3.9.7"
  }
 },
 "nbformat": 4,
 "nbformat_minor": 5
}
