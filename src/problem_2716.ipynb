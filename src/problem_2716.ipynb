{
 "cells": [
  {
   "cell_type": "markdown",
   "id": "f8c2068f-cc81-4343-a336-578c49eddc8a",
   "metadata": {},
   "source": [
    "[Problem 2716](https://leetcode.com/problems/minimize-string-length/description)"
   ]
  },
  {
   "cell_type": "code",
   "execution_count": 1,
   "id": "b193a81e-f4d0-4960-a95d-9fc237222c64",
   "metadata": {},
   "outputs": [],
   "source": [
    "class Solution:\n",
    "    def minimizedStringLength(self, s: str) -> int:\n",
    "        res = len(set(s))\n",
    "        return res"
   ]
  },
  {
   "cell_type": "code",
   "execution_count": 2,
   "id": "7b8a032f-ffdd-40df-97c8-be7b77695d3a",
   "metadata": {},
   "outputs": [],
   "source": [
    "sol = Solution()"
   ]
  },
  {
   "cell_type": "code",
   "execution_count": 3,
   "id": "85b7e3eb-a553-4659-8b46-c5c6d2ba223b",
   "metadata": {},
   "outputs": [],
   "source": [
    "assert sol.minimizedStringLength(\"aaabc\") == 3"
   ]
  },
  {
   "cell_type": "code",
   "execution_count": 4,
   "id": "ee013e4f-b2b6-4f6e-bbfd-a786d4ccb42e",
   "metadata": {},
   "outputs": [],
   "source": [
    "assert sol.minimizedStringLength(\"cbbd\") == 3"
   ]
  },
  {
   "cell_type": "code",
   "execution_count": 5,
   "id": "9bd3331b-6628-474d-93b7-5c9df735612c",
   "metadata": {},
   "outputs": [],
   "source": [
    "assert sol.minimizedStringLength(\"dddaaa\") == 2"
   ]
  }
 ],
 "metadata": {
  "kernelspec": {
   "display_name": "Python 3 (ipykernel)",
   "language": "python",
   "name": "python3"
  },
  "language_info": {
   "codemirror_mode": {
    "name": "ipython",
    "version": 3
   },
   "file_extension": ".py",
   "mimetype": "text/x-python",
   "name": "python",
   "nbconvert_exporter": "python",
   "pygments_lexer": "ipython3",
   "version": "3.9.7"
  }
 },
 "nbformat": 4,
 "nbformat_minor": 5
}
