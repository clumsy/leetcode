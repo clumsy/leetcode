{
 "cells": [
  {
   "cell_type": "markdown",
   "id": "607587dc-7d8e-47d6-99d4-93036ea0087f",
   "metadata": {},
   "source": [
    "[Problem 705](https://leetcode.com/problems/design-hashset/description)"
   ]
  },
  {
   "cell_type": "code",
   "execution_count": 4,
   "id": "1ab5d6b9-84c3-4e13-9177-47bfa032c332",
   "metadata": {},
   "outputs": [],
   "source": [
    "from bisect import bisect_left"
   ]
  },
  {
   "cell_type": "code",
   "execution_count": 5,
   "id": "df48761c-7dfe-4407-9463-81d844c8fe87",
   "metadata": {},
   "outputs": [],
   "source": [
    "class MyHashSet:\n",
    "    def __init__(self):\n",
    "        self.keys = []\n",
    "\n",
    "    def add(self, key: int) -> None:\n",
    "        i = self._index(key)\n",
    "        if i == len(self.keys):\n",
    "            self.keys.append(key)\n",
    "        elif self.keys[i] != key:\n",
    "            self.keys = self.keys[:i] + [key] + self.keys[i:]\n",
    "\n",
    "    def remove(self, key: int) -> None:\n",
    "        i = self._index(key)\n",
    "        if i < len(self.keys) and self.keys[i] == key:\n",
    "            self.keys = self.keys[:i] + self.keys[i + 1:]\n",
    "\n",
    "    def _index(self, key: int) -> int:\n",
    "        return bisect_left(self.keys, key)\n",
    "\n",
    "    def contains(self, key: int) -> bool:\n",
    "        i = self._index(key)\n",
    "        return i < len(self.keys) and self.keys[i] == key"
   ]
  },
  {
   "cell_type": "code",
   "execution_count": 6,
   "id": "3d245879-5e46-494f-8505-2c4a16f82726",
   "metadata": {},
   "outputs": [],
   "source": [
    "sol = MyHashSet()\n",
    "sol.add(1)\n",
    "sol.add(2)\n",
    "assert sol.contains(1)\n",
    "assert not sol.contains(3)\n",
    "sol.add(2)\n",
    "assert sol.contains(2)\n",
    "sol.remove(2)\n",
    "assert not sol.contains(2)"
   ]
  }
 ],
 "metadata": {
  "kernelspec": {
   "display_name": "Python 3 (ipykernel)",
   "language": "python",
   "name": "python3"
  },
  "language_info": {
   "codemirror_mode": {
    "name": "ipython",
    "version": 3
   },
   "file_extension": ".py",
   "mimetype": "text/x-python",
   "name": "python",
   "nbconvert_exporter": "python",
   "pygments_lexer": "ipython3",
   "version": "3.9.7"
  }
 },
 "nbformat": 4,
 "nbformat_minor": 5
}
