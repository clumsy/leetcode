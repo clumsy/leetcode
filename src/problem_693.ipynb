{
 "cells": [
  {
   "cell_type": "markdown",
   "id": "1cb75660-7333-4da6-b8e1-89a3e164fce2",
   "metadata": {},
   "source": [
    "[Problem 693](https://leetcode.com/problems/binary-number-with-alternating-bits/description)"
   ]
  },
  {
   "cell_type": "code",
   "execution_count": 1,
   "id": "e1466688-16fd-415f-9d03-f142b0bcace8",
   "metadata": {},
   "outputs": [],
   "source": [
    "class Solution:\n",
    "    def hasAlternatingBits(self, n: int) -> bool:\n",
    "        res, i = True, n & 1\n",
    "        while n:\n",
    "            n, r = divmod(n, 2)\n",
    "            if r & 1 != i & 1:\n",
    "                res = False\n",
    "                break\n",
    "            i += 1\n",
    "        return res"
   ]
  },
  {
   "cell_type": "code",
   "execution_count": 2,
   "id": "487542ca-f9d7-400e-8490-154e2c54531e",
   "metadata": {},
   "outputs": [],
   "source": [
    "sol = Solution()"
   ]
  },
  {
   "cell_type": "code",
   "execution_count": 3,
   "id": "f6a0396c-0d54-49b3-be0e-bf5234820fee",
   "metadata": {},
   "outputs": [],
   "source": [
    "assert sol.hasAlternatingBits(5)"
   ]
  },
  {
   "cell_type": "code",
   "execution_count": 4,
   "id": "ef4b2aeb-9a32-406f-bee4-a0531ef2b320",
   "metadata": {},
   "outputs": [],
   "source": [
    "assert not sol.hasAlternatingBits(7)"
   ]
  },
  {
   "cell_type": "code",
   "execution_count": 5,
   "id": "b7f49974-22be-4877-98ea-4b343b1fabea",
   "metadata": {},
   "outputs": [],
   "source": [
    "assert not sol.hasAlternatingBits(11)"
   ]
  }
 ],
 "metadata": {
  "kernelspec": {
   "display_name": "Python 3 (ipykernel)",
   "language": "python",
   "name": "python3"
  },
  "language_info": {
   "codemirror_mode": {
    "name": "ipython",
    "version": 3
   },
   "file_extension": ".py",
   "mimetype": "text/x-python",
   "name": "python",
   "nbconvert_exporter": "python",
   "pygments_lexer": "ipython3",
   "version": "3.9.7"
  }
 },
 "nbformat": 4,
 "nbformat_minor": 5
}
