{
 "cells": [
  {
   "cell_type": "markdown",
   "id": "47127ec4-2121-4a4b-830d-f496355d2501",
   "metadata": {},
   "source": [
    "[Problem 1566](https://leetcode.com/problems/detect-pattern-of-length-m-repeated-k-or-more-times/description)"
   ]
  },
  {
   "cell_type": "code",
   "execution_count": 1,
   "id": "b9e3b3b4-cf98-451e-b859-974b33b86b56",
   "metadata": {},
   "outputs": [],
   "source": [
    "from typing import List"
   ]
  },
  {
   "cell_type": "code",
   "execution_count": 2,
   "id": "09af00d8-ef75-42c8-9878-ac2ff8a27271",
   "metadata": {},
   "outputs": [],
   "source": [
    "class Solution:\n",
    "    def containsPattern(self, arr: List[int], m: int, k: int) -> bool:\n",
    "        cnt = 0\n",
    "        for i in range(len(arr) - m):\n",
    "            cnt = cnt + 1 if arr[i] == arr[i + m] else 0\n",
    "            if cnt == m * (k - 1):  # found k - 1 groups matching arr[i:i + m]\n",
    "                break\n",
    "        res = cnt == m * (k - 1)\n",
    "        return res"
   ]
  },
  {
   "cell_type": "code",
   "execution_count": 3,
   "id": "5252f0fa-806b-49d7-9368-3ea0c2f17cdd",
   "metadata": {},
   "outputs": [],
   "source": [
    "sol = Solution()"
   ]
  },
  {
   "cell_type": "code",
   "execution_count": 4,
   "id": "31b08613-06f5-4584-a8fb-c1d62e41cde1",
   "metadata": {},
   "outputs": [],
   "source": [
    "assert sol.containsPattern([1,2,4,4,4,4], 1, 3)"
   ]
  },
  {
   "cell_type": "code",
   "execution_count": 5,
   "id": "15526b76-a903-4ef1-b4a6-730093bc4fe7",
   "metadata": {},
   "outputs": [],
   "source": [
    "assert sol.containsPattern([1,2,1,2,1,1,1,3], 2, 2)"
   ]
  },
  {
   "cell_type": "code",
   "execution_count": 6,
   "id": "de351cd1-b6d5-4031-bd5f-d2dbcf5b2604",
   "metadata": {},
   "outputs": [],
   "source": [
    "assert not sol.containsPattern([1,2,1,2,1,3], 2, 3)"
   ]
  }
 ],
 "metadata": {
  "kernelspec": {
   "display_name": "Python 3 (ipykernel)",
   "language": "python",
   "name": "python3"
  },
  "language_info": {
   "codemirror_mode": {
    "name": "ipython",
    "version": 3
   },
   "file_extension": ".py",
   "mimetype": "text/x-python",
   "name": "python",
   "nbconvert_exporter": "python",
   "pygments_lexer": "ipython3",
   "version": "3.9.7"
  }
 },
 "nbformat": 4,
 "nbformat_minor": 5
}
