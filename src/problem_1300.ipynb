{
 "cells": [
  {
   "cell_type": "markdown",
   "id": "b69ca513-f8f5-400b-9b50-e8149273fd99",
   "metadata": {},
   "source": [
    "[Problem 1300](https://leetcode.com/problems/sum-of-mutated-array-closest-to-target/)"
   ]
  },
  {
   "cell_type": "code",
   "execution_count": 9,
   "id": "d178477e-6567-4172-b2ac-bac20beed5ff",
   "metadata": {},
   "outputs": [],
   "source": [
    "from typing import List\n",
    "from bisect import bisect_left\n",
    "from math import ceil"
   ]
  },
  {
   "cell_type": "code",
   "execution_count": 10,
   "id": "4e2b8020-e6a5-4392-bf4e-fe3ad5ca9895",
   "metadata": {},
   "outputs": [],
   "source": [
    "class Solution:\n",
    "    def findBestValue(self, arr: List[int], target: int) -> int:\n",
    "        n, arr = len(arr), sorted(arr)\n",
    "        s = [0] * n\n",
    "        s[0] = arr[0]\n",
    "        for i in range(1, n):\n",
    "            s[i] = arr[i] + s[i - 1]\n",
    "        min_diff, res = target, 0\n",
    "        lo, hi = 0, arr[-1]\n",
    "        while lo < hi:\n",
    "            mi = (lo + hi) // 2\n",
    "            i = bisect_left(arr, mi)\n",
    "            diff = target - (s[min(i - 1, n - 1)] if i > 0 else 0) - (n - i) * mi\n",
    "            if diff > 0:\n",
    "                lo = mi + 1\n",
    "            else:\n",
    "                hi = mi\n",
    "            if abs(diff) <= abs(min_diff):\n",
    "                res, min_diff = min(res, mi) if abs(diff) == abs(min_diff) else mi, diff\n",
    "        i = bisect_left(arr, lo)\n",
    "        diff = target - (s[min(i - 1, n - 1)] if i > 0 else 0) - (n - i) * lo\n",
    "        if abs(diff) <= abs(min_diff):\n",
    "            res = min(res, lo) if abs(diff) == abs(min_diff) else lo\n",
    "        return res"
   ]
  },
  {
   "cell_type": "code",
   "execution_count": 11,
   "id": "c929efae-5479-41e0-b3a1-fcfd0928f648",
   "metadata": {},
   "outputs": [],
   "source": [
    "class Solution:\n",
    "    def findBestValue(self, arr: List[int], target: int) -> int:\n",
    "        arr = sorted(arr, reverse=True)\n",
    "        ma = arr[0]\n",
    "        # if smaller values are not the answer - they won't change\n",
    "        while arr and target >= arr[-1]*len(arr):\n",
    "            target -= arr.pop()\n",
    "        # in case of 0.5 bias towards floor\n",
    "        return ceil(target / len(arr) - 0.5) if arr else ma"
   ]
  },
  {
   "cell_type": "code",
   "execution_count": 12,
   "id": "487b9d1b-efa4-493a-b15d-b9fa825a619a",
   "metadata": {},
   "outputs": [],
   "source": [
    "sol = Solution()"
   ]
  },
  {
   "cell_type": "code",
   "execution_count": 13,
   "id": "afa6032a-936e-4cd8-ae51-c56fe684b5bb",
   "metadata": {},
   "outputs": [],
   "source": [
    "assert sol.findBestValue([4,9,3], 10) == 3"
   ]
  },
  {
   "cell_type": "code",
   "execution_count": 14,
   "id": "90e8945d-25fe-4910-b077-3932eab6c1da",
   "metadata": {},
   "outputs": [],
   "source": [
    "assert sol.findBestValue([2,3,5], 10) == 5"
   ]
  },
  {
   "cell_type": "code",
   "execution_count": 15,
   "id": "e8a56f1c-51e0-4059-b7be-4dd4f232bdab",
   "metadata": {},
   "outputs": [],
   "source": [
    "assert sol.findBestValue([60864,25176,27249,21296,20204], 56803) == 11361"
   ]
  }
 ],
 "metadata": {
  "kernelspec": {
   "display_name": "Python 3 (ipykernel)",
   "language": "python",
   "name": "python3"
  },
  "language_info": {
   "codemirror_mode": {
    "name": "ipython",
    "version": 3
   },
   "file_extension": ".py",
   "mimetype": "text/x-python",
   "name": "python",
   "nbconvert_exporter": "python",
   "pygments_lexer": "ipython3",
   "version": "3.9.7"
  }
 },
 "nbformat": 4,
 "nbformat_minor": 5
}
