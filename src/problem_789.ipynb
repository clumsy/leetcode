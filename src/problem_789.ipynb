{
 "cells": [
  {
   "cell_type": "markdown",
   "id": "b54c8acb-3be4-45c3-93d8-5d3c0711b5d8",
   "metadata": {},
   "source": [
    "[Problem 789](https://leetcode.com/problems/escape-the-ghosts/description)"
   ]
  },
  {
   "cell_type": "code",
   "execution_count": 1,
   "id": "b2eceb21-29a9-4e22-ab56-98357b6c3d80",
   "metadata": {},
   "outputs": [],
   "source": [
    "from typing import List"
   ]
  },
  {
   "cell_type": "code",
   "execution_count": 2,
   "id": "f28c51e4-6ce8-4eb3-8ca4-4f3d0f881d36",
   "metadata": {},
   "outputs": [],
   "source": [
    "class Solution:\n",
    "    def escapeGhosts(self, ghosts: List[List[int]], target: List[int]) -> bool:\n",
    "        res = min(abs(target[0] - g[0]) + abs(target[1] - g[1]) for g in ghosts) > sum(abs(i) for i in target)\n",
    "        return res"
   ]
  },
  {
   "cell_type": "code",
   "execution_count": 3,
   "id": "053256cb-94ba-4bf6-8ae6-1cea67cacc5c",
   "metadata": {},
   "outputs": [],
   "source": [
    "sol = Solution()"
   ]
  },
  {
   "cell_type": "code",
   "execution_count": 4,
   "id": "1a8992c4-0cc6-4154-be1a-ddd34dad5b2d",
   "metadata": {},
   "outputs": [],
   "source": [
    "assert sol.escapeGhosts([[1,0],[0,3]], [0,1])"
   ]
  },
  {
   "cell_type": "code",
   "execution_count": 5,
   "id": "046cc987-5e31-45f0-890b-7f14adcc1509",
   "metadata": {},
   "outputs": [],
   "source": [
    "assert not sol.escapeGhosts([[1,0]], [2,0])"
   ]
  },
  {
   "cell_type": "code",
   "execution_count": 6,
   "id": "c8f6a85c-6f3f-49ba-a0ee-0e18576c065e",
   "metadata": {},
   "outputs": [],
   "source": [
    "assert not sol.escapeGhosts([[2,0]], [1,0])"
   ]
  }
 ],
 "metadata": {
  "kernelspec": {
   "display_name": "Python 3 (ipykernel)",
   "language": "python",
   "name": "python3"
  },
  "language_info": {
   "codemirror_mode": {
    "name": "ipython",
    "version": 3
   },
   "file_extension": ".py",
   "mimetype": "text/x-python",
   "name": "python",
   "nbconvert_exporter": "python",
   "pygments_lexer": "ipython3",
   "version": "3.9.7"
  }
 },
 "nbformat": 4,
 "nbformat_minor": 5
}
