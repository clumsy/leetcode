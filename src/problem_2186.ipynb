{
 "cells": [
  {
   "cell_type": "markdown",
   "id": "74244899-9e89-41a7-a0ff-e806c89adfeb",
   "metadata": {},
   "source": [
    "[Problem 2186](https://leetcode.com/problems/minimum-number-of-steps-to-make-two-strings-anagram-ii/description)"
   ]
  },
  {
   "cell_type": "code",
   "execution_count": 5,
   "id": "d6ee1981-24bd-4bd3-bc57-0b6822371e96",
   "metadata": {},
   "outputs": [],
   "source": [
    "from collections import Counter"
   ]
  },
  {
   "cell_type": "code",
   "execution_count": 10,
   "id": "3fd1aab3-7e16-47c9-8b7c-a2270356a575",
   "metadata": {},
   "outputs": [],
   "source": [
    "class Solution:\n",
    "    def minSteps(self, s: str, t: str) -> int:\n",
    "        sc, tc = Counter(s), Counter(t)\n",
    "        res = sum(c for c in ((sc - tc) + (tc - sc)).values())\n",
    "        return res"
   ]
  },
  {
   "cell_type": "code",
   "execution_count": 11,
   "id": "bc66e9da-70f7-4c30-a440-1406b8f34537",
   "metadata": {},
   "outputs": [],
   "source": [
    "sol = Solution()"
   ]
  },
  {
   "cell_type": "code",
   "execution_count": 12,
   "id": "1f7aa658-3031-48c8-b6f5-a73e21ee9686",
   "metadata": {},
   "outputs": [],
   "source": [
    "assert sol.minSteps(\"leetcode\", \"coats\") == 7"
   ]
  },
  {
   "cell_type": "code",
   "execution_count": 13,
   "id": "d84ef8a9-eb61-4be7-9c40-775c5f847ccd",
   "metadata": {},
   "outputs": [],
   "source": [
    "assert sol.minSteps(\"night\", \"thing\") == 0"
   ]
  }
 ],
 "metadata": {
  "kernelspec": {
   "display_name": "Python 3 (ipykernel)",
   "language": "python",
   "name": "python3"
  },
  "language_info": {
   "codemirror_mode": {
    "name": "ipython",
    "version": 3
   },
   "file_extension": ".py",
   "mimetype": "text/x-python",
   "name": "python",
   "nbconvert_exporter": "python",
   "pygments_lexer": "ipython3",
   "version": "3.9.7"
  }
 },
 "nbformat": 4,
 "nbformat_minor": 5
}
