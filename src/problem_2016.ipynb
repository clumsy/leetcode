{
 "cells": [
  {
   "cell_type": "markdown",
   "id": "fd34b48b-8ac3-4323-8cd6-c5eb4da60d0b",
   "metadata": {},
   "source": [
    "[Problem 2016](https://leetcode.com/problems/maximum-difference-between-increasing-elements/description)"
   ]
  },
  {
   "cell_type": "code",
   "execution_count": 1,
   "id": "4da07f98-0ea3-45bb-a452-143345ae5b64",
   "metadata": {},
   "outputs": [],
   "source": [
    "from typing import List"
   ]
  },
  {
   "cell_type": "code",
   "execution_count": 2,
   "id": "36faaba8-26db-4de9-9570-3c3fc251cb69",
   "metadata": {},
   "outputs": [],
   "source": [
    "class Solution:\n",
    "    def maximumDifference(self, nums: List[int]) -> int:\n",
    "        mi, res = nums[0], 0\n",
    "        for i in range(1, len(nums)):\n",
    "            res = max(res, nums[i] - mi)\n",
    "            mi = min(mi, nums[i])\n",
    "        res = res if res else -1\n",
    "        return res"
   ]
  },
  {
   "cell_type": "code",
   "execution_count": 3,
   "id": "e9b641c8-5b7b-4d7b-b12f-797b52e41f81",
   "metadata": {},
   "outputs": [],
   "source": [
    "sol = Solution()"
   ]
  },
  {
   "cell_type": "code",
   "execution_count": 4,
   "id": "f9a37ae5-7ce0-43e4-93c4-ca15150e3ec8",
   "metadata": {},
   "outputs": [],
   "source": [
    "assert sol.maximumDifference([7,1,5,4]) == 4"
   ]
  },
  {
   "cell_type": "code",
   "execution_count": 5,
   "id": "bda8f431-18fa-42b1-93e6-aa8996379b8b",
   "metadata": {},
   "outputs": [],
   "source": [
    "assert sol.maximumDifference([9,4,3,2]) == -1"
   ]
  },
  {
   "cell_type": "code",
   "execution_count": 6,
   "id": "56943e65-5a2f-495a-879d-ed37cc42c296",
   "metadata": {},
   "outputs": [],
   "source": [
    "assert sol.maximumDifference([1,5,2,10]) == 9"
   ]
  }
 ],
 "metadata": {
  "kernelspec": {
   "display_name": "Python 3 (ipykernel)",
   "language": "python",
   "name": "python3"
  },
  "language_info": {
   "codemirror_mode": {
    "name": "ipython",
    "version": 3
   },
   "file_extension": ".py",
   "mimetype": "text/x-python",
   "name": "python",
   "nbconvert_exporter": "python",
   "pygments_lexer": "ipython3",
   "version": "3.9.7"
  }
 },
 "nbformat": 4,
 "nbformat_minor": 5
}
