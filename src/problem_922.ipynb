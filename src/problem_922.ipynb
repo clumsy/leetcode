{
 "cells": [
  {
   "cell_type": "markdown",
   "id": "ca8a9143-11e2-4b6f-951d-2f9d5181105b",
   "metadata": {},
   "source": [
    "[Problem 922](https://leetcode.com/problems/sort-array-by-parity-ii/description)"
   ]
  },
  {
   "cell_type": "code",
   "execution_count": 1,
   "id": "9346a4cc-2ac3-4a40-be72-2dfdb5d10226",
   "metadata": {},
   "outputs": [],
   "source": [
    "from typing import List"
   ]
  },
  {
   "cell_type": "code",
   "execution_count": 2,
   "id": "24c2e20b-7a73-404b-9564-f9c2d290eab8",
   "metadata": {},
   "outputs": [],
   "source": [
    "class Solution:\n",
    "    def sortArrayByParityII(self, nums: List[int]) -> List[int]:\n",
    "        e, o = (i for i in nums if i & 1 == 0), (i for i in nums if i & 1 == 1)\n",
    "        return [x for e, o in zip(e, o) for x in (e, o)]"
   ]
  },
  {
   "cell_type": "code",
   "execution_count": 3,
   "id": "f121199f-1d23-4887-8e28-f4925d9a5a6d",
   "metadata": {},
   "outputs": [],
   "source": [
    "sol = Solution()"
   ]
  },
  {
   "cell_type": "code",
   "execution_count": 5,
   "id": "d5b457c4-7185-4e4a-8090-38d2bfdd53c2",
   "metadata": {},
   "outputs": [],
   "source": [
    "assert sol.sortArrayByParityII([4,2,5,7]) == [4,5,2,7]"
   ]
  },
  {
   "cell_type": "code",
   "execution_count": 6,
   "id": "3e85ab6d-3b91-49d3-bc96-60b1b32027a1",
   "metadata": {},
   "outputs": [],
   "source": [
    "assert sol.sortArrayByParityII([2,3]) == [2,3]"
   ]
  }
 ],
 "metadata": {
  "kernelspec": {
   "display_name": "Python 3 (ipykernel)",
   "language": "python",
   "name": "python3"
  },
  "language_info": {
   "codemirror_mode": {
    "name": "ipython",
    "version": 3
   },
   "file_extension": ".py",
   "mimetype": "text/x-python",
   "name": "python",
   "nbconvert_exporter": "python",
   "pygments_lexer": "ipython3",
   "version": "3.9.7"
  }
 },
 "nbformat": 4,
 "nbformat_minor": 5
}
