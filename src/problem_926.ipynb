{
 "cells": [
  {
   "cell_type": "markdown",
   "id": "ad3a7fc3-046c-47b2-8f04-50424129f9bf",
   "metadata": {},
   "source": [
    "[Problem 926](https://leetcode.com/problems/flip-string-to-monotone-increasing/description)"
   ]
  },
  {
   "cell_type": "code",
   "execution_count": 1,
   "id": "11f79d58-8be4-4162-b8e4-a0d785f1c566",
   "metadata": {},
   "outputs": [],
   "source": [
    "class Solution:\n",
    "    def minFlipsMonoIncr(self, s: str) -> int:\n",
    "        res = ones = 0\n",
    "        for d in s:\n",
    "            if d == \"1\":\n",
    "                ones += 1\n",
    "            elif ones:\n",
    "                ones -= 1\n",
    "                # we either count all ones to be flipped\n",
    "                # or zeroes if their count is less than ones\n",
    "                res += 1\n",
    "        return res"
   ]
  },
  {
   "cell_type": "code",
   "execution_count": 2,
   "id": "558344c4-fa3c-4a48-929d-742a34d9c123",
   "metadata": {},
   "outputs": [],
   "source": [
    "sol = Solution()"
   ]
  },
  {
   "cell_type": "code",
   "execution_count": 3,
   "id": "82bb9b43-2921-4f1c-9a13-6656aa457233",
   "metadata": {},
   "outputs": [],
   "source": [
    "assert sol.minFlipsMonoIncr(\"00110\") == 1"
   ]
  },
  {
   "cell_type": "code",
   "execution_count": 4,
   "id": "9c061ecf-ce5e-41cc-b5ed-813e96cc5e84",
   "metadata": {},
   "outputs": [],
   "source": [
    "assert sol.minFlipsMonoIncr(\"010110\") == 2"
   ]
  },
  {
   "cell_type": "code",
   "execution_count": 5,
   "id": "ea618f71-b427-4b64-996e-71265f3802e3",
   "metadata": {},
   "outputs": [],
   "source": [
    "assert sol.minFlipsMonoIncr(\"00011000\") == 2"
   ]
  }
 ],
 "metadata": {
  "kernelspec": {
   "display_name": "Python 3 (ipykernel)",
   "language": "python",
   "name": "python3"
  },
  "language_info": {
   "codemirror_mode": {
    "name": "ipython",
    "version": 3
   },
   "file_extension": ".py",
   "mimetype": "text/x-python",
   "name": "python",
   "nbconvert_exporter": "python",
   "pygments_lexer": "ipython3",
   "version": "3.9.7"
  }
 },
 "nbformat": 4,
 "nbformat_minor": 5
}
