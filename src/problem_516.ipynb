{
 "cells": [
  {
   "cell_type": "markdown",
   "id": "720a4fb2-dcf7-43a8-8010-13ff331820e0",
   "metadata": {},
   "source": [
    "[Problem 516](https://leetcode.com/problems/longest-palindromic-subsequence/description)"
   ]
  },
  {
   "cell_type": "code",
   "execution_count": 1,
   "id": "5ff043c2-99b4-4252-9483-d9a5df640958",
   "metadata": {},
   "outputs": [],
   "source": [
    "class Solution:\n",
    "    def longestPalindromeSubseq(self, s: str) -> int:\n",
    "        n = len(s)\n",
    "        dp = [[0] * n for _ in range(n)]\n",
    "        for i in range(n):\n",
    "            for j in range(n):\n",
    "                dp[i][j] = max(dp[i - 1][j] if i > 0 else 0, dp[i][j - 1] if j > 0 else 0, (dp[i - 1][j - 1] if i > 0 and j > 0 else 0) + (s[i] == s[n - j - 1]))\n",
    "        res = dp[n - 1][n - 1]\n",
    "        return res"
   ]
  },
  {
   "cell_type": "code",
   "execution_count": 2,
   "id": "c2d3999e-0278-4e54-acf9-bae4e711af93",
   "metadata": {},
   "outputs": [],
   "source": [
    "sol = Solution()"
   ]
  },
  {
   "cell_type": "code",
   "execution_count": 3,
   "id": "83699180-835c-4da9-b143-e1fc92e0d7f6",
   "metadata": {},
   "outputs": [],
   "source": [
    "assert sol.longestPalindromeSubseq(\"bbbab\") == 4"
   ]
  },
  {
   "cell_type": "code",
   "execution_count": 4,
   "id": "0b1de401-b247-42b2-85c6-255bb96f0037",
   "metadata": {},
   "outputs": [],
   "source": [
    "assert sol.longestPalindromeSubseq(\"cbbd\") == 2"
   ]
  }
 ],
 "metadata": {
  "kernelspec": {
   "display_name": "Python 3 (ipykernel)",
   "language": "python",
   "name": "python3"
  },
  "language_info": {
   "codemirror_mode": {
    "name": "ipython",
    "version": 3
   },
   "file_extension": ".py",
   "mimetype": "text/x-python",
   "name": "python",
   "nbconvert_exporter": "python",
   "pygments_lexer": "ipython3",
   "version": "3.9.7"
  }
 },
 "nbformat": 4,
 "nbformat_minor": 5
}
