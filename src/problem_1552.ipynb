{
 "cells": [
  {
   "cell_type": "markdown",
   "id": "b71d8b9b-c0c4-4001-b732-c675fb56465f",
   "metadata": {},
   "source": [
    "[Problem 1552](https://leetcode.com/problems/magnetic-force-between-two-balls/)"
   ]
  },
  {
   "cell_type": "code",
   "execution_count": 2,
   "id": "2f813268-4b49-4503-a7bf-6d8317469e1f",
   "metadata": {},
   "outputs": [],
   "source": [
    "from typing import List\n",
    "from bisect import bisect_left"
   ]
  },
  {
   "cell_type": "code",
   "execution_count": 3,
   "id": "dbf4d74d-31a5-4c45-8185-3f3bd958c491",
   "metadata": {},
   "outputs": [],
   "source": [
    "class Solution:\n",
    "    def maxDistance(self, position: List[int], m: int) -> int:\n",
    "        p, n = sorted(position), len(position)\n",
    "        lo, hi = 0, p[-1] - 1\n",
    "        while lo < hi:\n",
    "            res = hi - (hi - lo) // 2\n",
    "            k, cur = m - 1, 0\n",
    "            while k and cur < n:\n",
    "                cur = bisect_left(p, p[cur] + res, lo=cur + 1)\n",
    "                k -= 1\n",
    "            if cur >= n:\n",
    "                hi = res - 1\n",
    "            else:\n",
    "                lo = res\n",
    "        return hi"
   ]
  },
  {
   "cell_type": "code",
   "execution_count": 4,
   "id": "d062d4ff-cf44-416d-a8d0-0a76ec422314",
   "metadata": {},
   "outputs": [],
   "source": [
    "sol = Solution()"
   ]
  },
  {
   "cell_type": "code",
   "execution_count": 5,
   "id": "040d2ea2-7ce3-4a22-a248-6f6e7e984ec4",
   "metadata": {},
   "outputs": [],
   "source": [
    "assert sol.maxDistance([1,2,3,4,7], 3) == 3"
   ]
  },
  {
   "cell_type": "code",
   "execution_count": 7,
   "id": "6ad2d77c-5865-496b-a65a-6493dd6c6933",
   "metadata": {},
   "outputs": [],
   "source": [
    "assert sol.maxDistance([5,4,3,2,1,1000000000], 2) == 999999999"
   ]
  }
 ],
 "metadata": {
  "kernelspec": {
   "display_name": "Python 3 (ipykernel)",
   "language": "python",
   "name": "python3"
  },
  "language_info": {
   "codemirror_mode": {
    "name": "ipython",
    "version": 3
   },
   "file_extension": ".py",
   "mimetype": "text/x-python",
   "name": "python",
   "nbconvert_exporter": "python",
   "pygments_lexer": "ipython3",
   "version": "3.9.7"
  }
 },
 "nbformat": 4,
 "nbformat_minor": 5
}
