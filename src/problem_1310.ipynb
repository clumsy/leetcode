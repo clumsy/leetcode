{
 "cells": [
  {
   "cell_type": "markdown",
   "id": "f5246fbb-32c9-4614-9533-bb53b1509ffc",
   "metadata": {},
   "source": [
    "[Problem 1310](https://leetcode.com/problems/xor-queries-of-a-subarray/description)"
   ]
  },
  {
   "cell_type": "code",
   "execution_count": 1,
   "id": "d24e65ab-45e1-4a3c-8bdb-6080646290cb",
   "metadata": {},
   "outputs": [],
   "source": [
    "from typing import List"
   ]
  },
  {
   "cell_type": "code",
   "execution_count": 2,
   "id": "8ba1c8ab-3a40-4664-9716-e7b8bb79c1a5",
   "metadata": {},
   "outputs": [],
   "source": [
    "class Solution:\n",
    "    def xorQueries(self, arr: List[int], queries: List[List[int]]) -> List[int]:\n",
    "        xor = [0] * len(arr)\n",
    "        for i in range(len(arr)):\n",
    "            xor[i] = xor[i - 1] ^ arr[i] if i > 0 else arr[i]\n",
    "        res = [None] * len(queries)\n",
    "        for i, (l, r) in enumerate(queries):\n",
    "            res[i] = xor[r] ^ xor[l - 1] if l > 0 else xor[r]\n",
    "        return res"
   ]
  },
  {
   "cell_type": "code",
   "execution_count": 3,
   "id": "aebf7c30-cc4e-4959-b4d8-0fdbb9324dae",
   "metadata": {},
   "outputs": [],
   "source": [
    "sol = Solution()"
   ]
  },
  {
   "cell_type": "code",
   "execution_count": 4,
   "id": "6dea3279-1b33-4f44-81a1-1f39f2bc677c",
   "metadata": {},
   "outputs": [],
   "source": [
    "assert sol.xorQueries([1,3,4,8], [[0,1],[1,2],[0,3],[3,3]]) == [2,7,14,8]"
   ]
  },
  {
   "cell_type": "code",
   "execution_count": 5,
   "id": "6566ad37-efba-4515-9fa5-bd9f48e97301",
   "metadata": {},
   "outputs": [],
   "source": [
    "assert sol.xorQueries([4,8,2,10], [[2,3],[1,3],[0,0],[0,3]]) == [8,0,4,4]"
   ]
  }
 ],
 "metadata": {
  "kernelspec": {
   "display_name": "Python 3 (ipykernel)",
   "language": "python",
   "name": "python3"
  },
  "language_info": {
   "codemirror_mode": {
    "name": "ipython",
    "version": 3
   },
   "file_extension": ".py",
   "mimetype": "text/x-python",
   "name": "python",
   "nbconvert_exporter": "python",
   "pygments_lexer": "ipython3",
   "version": "3.9.7"
  }
 },
 "nbformat": 4,
 "nbformat_minor": 5
}
