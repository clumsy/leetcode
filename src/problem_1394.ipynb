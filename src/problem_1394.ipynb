{
 "cells": [
  {
   "cell_type": "markdown",
   "id": "4090ac37-a3d7-45ca-a4a4-25c01b2cd4e5",
   "metadata": {},
   "source": [
    "[Problem 1394](https://leetcode.com/problems/find-lucky-integer-in-an-array/description)"
   ]
  },
  {
   "cell_type": "code",
   "execution_count": 5,
   "id": "b9284394-9e59-4d4a-a035-d9bc241f6000",
   "metadata": {},
   "outputs": [],
   "source": [
    "from typing import List\n",
    "from collections import Counter"
   ]
  },
  {
   "cell_type": "code",
   "execution_count": 6,
   "id": "662275c6-3af7-43bd-862c-6abd287d2d5b",
   "metadata": {},
   "outputs": [],
   "source": [
    "class Solution:\n",
    "    def findLucky(self, arr: List[int]) -> int:\n",
    "        cnt, res = Counter(arr), -1\n",
    "        for i in cnt:\n",
    "            res = max(res, i) if cnt[i] == i else res\n",
    "        return res"
   ]
  },
  {
   "cell_type": "code",
   "execution_count": 7,
   "id": "8c7adf7d-915a-4504-832d-a92309f1e9c1",
   "metadata": {},
   "outputs": [],
   "source": [
    "sol = Solution()"
   ]
  },
  {
   "cell_type": "code",
   "execution_count": 8,
   "id": "ae5042b4-6850-4c10-997c-52ac1d8cb34b",
   "metadata": {},
   "outputs": [],
   "source": [
    "assert sol.findLucky([2,2,3,4]) == 2"
   ]
  },
  {
   "cell_type": "code",
   "execution_count": 9,
   "id": "8eca647e-ba1b-4735-8f53-55139d1f7941",
   "metadata": {},
   "outputs": [],
   "source": [
    "assert sol.findLucky([1,2,2,3,3,3]) == 3"
   ]
  },
  {
   "cell_type": "code",
   "execution_count": 10,
   "id": "1267728b-c6d4-4584-88be-93c4d35d3e33",
   "metadata": {},
   "outputs": [],
   "source": [
    "assert sol.findLucky([2,2,2,3,3]) == -1"
   ]
  }
 ],
 "metadata": {
  "kernelspec": {
   "display_name": "Python 3 (ipykernel)",
   "language": "python",
   "name": "python3"
  },
  "language_info": {
   "codemirror_mode": {
    "name": "ipython",
    "version": 3
   },
   "file_extension": ".py",
   "mimetype": "text/x-python",
   "name": "python",
   "nbconvert_exporter": "python",
   "pygments_lexer": "ipython3",
   "version": "3.9.7"
  }
 },
 "nbformat": 4,
 "nbformat_minor": 5
}
