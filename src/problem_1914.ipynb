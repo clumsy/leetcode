{
 "cells": [
  {
   "cell_type": "markdown",
   "id": "58d3bb97-4f47-4aed-9c63-9fdcce505488",
   "metadata": {},
   "source": [
    "[Problem 1914](https://leetcode.com/problems/cyclically-rotating-a-grid/description)"
   ]
  },
  {
   "cell_type": "code",
   "execution_count": 1,
   "id": "5699d953-3f34-41bb-92cd-adaaf9906597",
   "metadata": {},
   "outputs": [],
   "source": [
    "from typing import List"
   ]
  },
  {
   "cell_type": "code",
   "execution_count": 2,
   "id": "b66c5ca8-a359-4790-ab62-7a9936407b97",
   "metadata": {},
   "outputs": [],
   "source": [
    "class Solution:\n",
    "    def rotateGrid(self, grid: List[List[int]], k: int) -> List[List[int]]:\n",
    "        rs, cs = len(grid), len(grid[0])\n",
    "        def coord(lr, lc, rr, rc, i):\n",
    "            w, h = (rc - lc), (rr - lr)\n",
    "            i = i % (2 * w + 2 * h)\n",
    "            if i < w:\n",
    "                return lr, lc + i\n",
    "            elif w <= i < w + h:\n",
    "                return lr + (i - w), rc\n",
    "            elif w + h <= i < 2 * w + h:\n",
    "                return rr, rc - (i - w - h)\n",
    "            else:  # i >= 2 * w + h\n",
    "                return rr - (i - 2 * w - h), lc\n",
    "        res = [[None] * cs for _ in range(rs)]\n",
    "        for i in range(min(rs, cs) // 2):\n",
    "            lr, lc = i, i\n",
    "            rr, rc = rs - 1 - i, cs - 1 - i\n",
    "            x = k\n",
    "            for c in range(lc, rc):\n",
    "                r_, c_ = coord(lr, lc, rr, rc, x)\n",
    "                x += 1\n",
    "                res[lr][c] = grid[r_][c_]\n",
    "            for r in range(lr, rr):\n",
    "                r_, c_ = coord(lr, lc, rr, rc, x)\n",
    "                x += 1\n",
    "                res[r][rc] = grid[r_][c_]\n",
    "            for c in range(rc, lc, -1):\n",
    "                r_, c_ = coord(lr, lc, rr, rc, x)\n",
    "                x += 1\n",
    "                res[rr][c] = grid[r_][c_]\n",
    "            for r in range(rr, lr, -1):\n",
    "                r_, c_ = coord(lr, lc, rr, rc, x)\n",
    "                x += 1\n",
    "                res[r][lc] = grid[r_][c_]\n",
    "        return res"
   ]
  },
  {
   "cell_type": "code",
   "execution_count": 3,
   "id": "de15516b-1db9-4227-9ff9-e892a2e061e0",
   "metadata": {},
   "outputs": [],
   "source": [
    "sol = Solution()"
   ]
  },
  {
   "cell_type": "code",
   "execution_count": 4,
   "id": "edaa3095-8b99-4089-821e-a90518a9e6f4",
   "metadata": {},
   "outputs": [],
   "source": [
    "assert sol.rotateGrid([[40,10],[30,20]], 1) == [[10,20],[40,30]]"
   ]
  },
  {
   "cell_type": "code",
   "execution_count": 5,
   "id": "a7b0ac06-c21a-41ef-9e04-59b1db1cf4a5",
   "metadata": {},
   "outputs": [],
   "source": [
    "assert sol.rotateGrid([[1,2,3,4],[5,6,7,8],[9,10,11,12],[13,14,15,16]], 2) == [[3,4,8,12],[2,11,10,16],[1,7,6,15],[5,9,13,14]]"
   ]
  }
 ],
 "metadata": {
  "kernelspec": {
   "display_name": "Python 3 (ipykernel)",
   "language": "python",
   "name": "python3"
  },
  "language_info": {
   "codemirror_mode": {
    "name": "ipython",
    "version": 3
   },
   "file_extension": ".py",
   "mimetype": "text/x-python",
   "name": "python",
   "nbconvert_exporter": "python",
   "pygments_lexer": "ipython3",
   "version": "3.9.7"
  }
 },
 "nbformat": 4,
 "nbformat_minor": 5
}
