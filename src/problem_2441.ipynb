{
 "cells": [
  {
   "cell_type": "markdown",
   "id": "0be6b205-7bdd-427c-947e-284f562bd6dc",
   "metadata": {},
   "source": [
    "[Problem 2441](https://leetcode.com/problems/largest-positive-integer-that-exists-with-its-negative/description)"
   ]
  },
  {
   "cell_type": "code",
   "execution_count": 1,
   "id": "6196414d-cfa4-4b6f-a497-3c377992c45a",
   "metadata": {},
   "outputs": [],
   "source": [
    "from typing import List"
   ]
  },
  {
   "cell_type": "code",
   "execution_count": 2,
   "id": "836f4a06-4ef2-464c-8774-73c2e1b9ac40",
   "metadata": {},
   "outputs": [],
   "source": [
    "class Solution:\n",
    "    def findMaxK(self, nums: List[int]) -> int:\n",
    "        nums = set(nums)\n",
    "        res = -1\n",
    "        for i in nums:\n",
    "            if i > 0 and -i in nums:\n",
    "                res = max(res, i)\n",
    "        return res"
   ]
  },
  {
   "cell_type": "code",
   "execution_count": 3,
   "id": "26e589fb-0132-457f-9abe-2b94542b659a",
   "metadata": {},
   "outputs": [],
   "source": [
    "sol = Solution()"
   ]
  },
  {
   "cell_type": "code",
   "execution_count": 4,
   "id": "d89a183a-cf93-497a-af22-284aa4a5d4fa",
   "metadata": {},
   "outputs": [],
   "source": [
    "assert sol.findMaxK([-1,2,-3,3]) == 3"
   ]
  },
  {
   "cell_type": "code",
   "execution_count": 5,
   "id": "c4df44a2-0c7a-4f7f-b95d-d65b2fcafcd1",
   "metadata": {},
   "outputs": [],
   "source": [
    "assert sol.findMaxK([-1,10,6,7,-7,1]) == 7"
   ]
  },
  {
   "cell_type": "code",
   "execution_count": 6,
   "id": "79a44167-52fd-4f59-85c1-498c18822f14",
   "metadata": {},
   "outputs": [],
   "source": [
    "assert sol.findMaxK([-10,8,6,7,-2,-3]) == -1"
   ]
  }
 ],
 "metadata": {
  "kernelspec": {
   "display_name": "Python 3 (ipykernel)",
   "language": "python",
   "name": "python3"
  },
  "language_info": {
   "codemirror_mode": {
    "name": "ipython",
    "version": 3
   },
   "file_extension": ".py",
   "mimetype": "text/x-python",
   "name": "python",
   "nbconvert_exporter": "python",
   "pygments_lexer": "ipython3",
   "version": "3.9.7"
  }
 },
 "nbformat": 4,
 "nbformat_minor": 5
}
