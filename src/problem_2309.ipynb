{
 "cells": [
  {
   "cell_type": "markdown",
   "id": "f0d537ce-35a1-459d-a91e-2d6571c37fdf",
   "metadata": {},
   "source": [
    "[Problem 2309](https://leetcode.com/problems/greatest-english-letter-in-upper-and-lower-case/description)"
   ]
  },
  {
   "cell_type": "code",
   "execution_count": 5,
   "id": "2d73b01c-f636-485a-b29e-3f495377813b",
   "metadata": {},
   "outputs": [],
   "source": [
    "from string import ascii_uppercase\n",
    "from collections import Counter"
   ]
  },
  {
   "cell_type": "code",
   "execution_count": 6,
   "id": "50e8d2e9-89d0-42e7-8d16-b094cbf06bb0",
   "metadata": {},
   "outputs": [],
   "source": [
    "class Solution:\n",
    "    def greatestLetter(self, s: str) -> str:\n",
    "        c = Counter(s)\n",
    "        for ch in reversed(ascii_uppercase):\n",
    "            if c.get(ch, 0) > 0 and c.get(ch.lower(), 0) > 0:\n",
    "                return ch\n",
    "        return \"\""
   ]
  },
  {
   "cell_type": "code",
   "execution_count": 7,
   "id": "0fe3b27a-a7c5-4ebd-8e79-9e921adea7e5",
   "metadata": {},
   "outputs": [],
   "source": [
    "sol = Solution()"
   ]
  },
  {
   "cell_type": "code",
   "execution_count": 8,
   "id": "b2091d64-1ce2-4f63-abd7-16df55128875",
   "metadata": {},
   "outputs": [],
   "source": [
    "assert sol.greatestLetter(\"lEeTcOdE\") == \"E\""
   ]
  },
  {
   "cell_type": "code",
   "execution_count": 9,
   "id": "0e674244-f7a1-4c5e-a253-6e0ce5427d5e",
   "metadata": {},
   "outputs": [],
   "source": [
    "assert sol.greatestLetter(\"arRAzFif\") == \"R\""
   ]
  },
  {
   "cell_type": "code",
   "execution_count": 10,
   "id": "99cc3e17-c541-43c1-bcb5-444f5840228f",
   "metadata": {},
   "outputs": [],
   "source": [
    "assert sol.greatestLetter(\"AbCdEfGhIjK\") == \"\""
   ]
  }
 ],
 "metadata": {
  "kernelspec": {
   "display_name": "Python 3 (ipykernel)",
   "language": "python",
   "name": "python3"
  },
  "language_info": {
   "codemirror_mode": {
    "name": "ipython",
    "version": 3
   },
   "file_extension": ".py",
   "mimetype": "text/x-python",
   "name": "python",
   "nbconvert_exporter": "python",
   "pygments_lexer": "ipython3",
   "version": "3.9.7"
  }
 },
 "nbformat": 4,
 "nbformat_minor": 5
}
