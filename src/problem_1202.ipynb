{
 "cells": [
  {
   "cell_type": "markdown",
   "id": "579bad7b-6e44-4d31-86bf-a3b691cc3a5e",
   "metadata": {},
   "source": [
    "[Problem 1202](https://leetcode.com/problems/smallest-string-with-swaps/description)"
   ]
  },
  {
   "cell_type": "code",
   "execution_count": 1,
   "id": "43fb6e74-6512-41fc-9e07-71dbdd2b3242",
   "metadata": {},
   "outputs": [],
   "source": [
    "from typing import List\n",
    "from heapq import heappop, heappush"
   ]
  },
  {
   "cell_type": "code",
   "execution_count": 2,
   "id": "0803b2d9-2c8a-417a-9e42-9106128363c8",
   "metadata": {},
   "outputs": [],
   "source": [
    "class Solution:\n",
    "    def smallestStringWithSwaps(self, s: str, pairs: List[List[int]]) -> str:\n",
    "        class UnionFind:\n",
    "            def __init__(self, n):\n",
    "                self.prnt = [i for i in range(n)]\n",
    "                self.heap = [[s[i]] for i in range(n)]\n",
    "\n",
    "            def find(self, i):\n",
    "                if self.prnt[i] != i:\n",
    "                    self.prnt[i] = self.find(self.prnt[i])\n",
    "                return self.prnt[i]\n",
    "\n",
    "            def union(self, i, j):\n",
    "                pi, pj = self.find(i), self.find(j)\n",
    "                if pi != pj:\n",
    "                    if len(self.heap[pi]) <= len(self.heap[pj]):\n",
    "                        pi, pj = pj, pi\n",
    "                    self.prnt[pj] = pi\n",
    "                    for i in self.heap[pj]:\n",
    "                        heappush(self.heap[pi], i)\n",
    "        n = len(s)\n",
    "        uf = UnionFind(n)\n",
    "        for f, s in pairs:\n",
    "            uf.union(f, s)\n",
    "        res = [\"\"] * n\n",
    "        for i in range(n):\n",
    "            res[i] = heappop(uf.heap[uf.find(i)])\n",
    "        res = \"\".join(res)\n",
    "        return res"
   ]
  },
  {
   "cell_type": "code",
   "execution_count": 3,
   "id": "b602b2ad-ec57-4e99-a6ed-c4a9b5fe4010",
   "metadata": {},
   "outputs": [],
   "source": [
    "sol = Solution()"
   ]
  },
  {
   "cell_type": "code",
   "execution_count": 4,
   "id": "7e44104b-6294-4209-98ac-6be54c074b6b",
   "metadata": {},
   "outputs": [],
   "source": [
    "assert sol.smallestStringWithSwaps(\"dcab\", [[0,3],[1,2]]) == \"bacd\""
   ]
  },
  {
   "cell_type": "code",
   "execution_count": 5,
   "id": "83830a24-2dd0-44db-b3ab-378a1734ecd5",
   "metadata": {},
   "outputs": [],
   "source": [
    "assert sol.smallestStringWithSwaps(\"dcab\", [[0,3],[1,2],[0,2]]) == \"abcd\""
   ]
  },
  {
   "cell_type": "code",
   "execution_count": 6,
   "id": "5e1970b7-6023-4a91-89c7-1dc94b9fad92",
   "metadata": {},
   "outputs": [],
   "source": [
    "assert sol.smallestStringWithSwaps(\"cba\", [[0,1],[1,2]]) == \"abc\""
   ]
  }
 ],
 "metadata": {
  "kernelspec": {
   "display_name": "Python 3 (ipykernel)",
   "language": "python",
   "name": "python3"
  },
  "language_info": {
   "codemirror_mode": {
    "name": "ipython",
    "version": 3
   },
   "file_extension": ".py",
   "mimetype": "text/x-python",
   "name": "python",
   "nbconvert_exporter": "python",
   "pygments_lexer": "ipython3",
   "version": "3.9.7"
  }
 },
 "nbformat": 4,
 "nbformat_minor": 5
}
