{
 "cells": [
  {
   "cell_type": "markdown",
   "id": "bd5d4680-37b2-45eb-a246-96737468bbfd",
   "metadata": {},
   "source": [
    "[Problem 680](https://leetcode.com/problems/valid-palindrome-ii/description)"
   ]
  },
  {
   "cell_type": "code",
   "execution_count": 1,
   "id": "2faaafef-4c1e-4787-989b-75f094ee9521",
   "metadata": {},
   "outputs": [],
   "source": [
    "class Solution:\n",
    "    def validPalindrome(self, s: str) -> bool:\n",
    "        def solve(s, rem):\n",
    "            n = len(s)\n",
    "            for i in range(n // 2):\n",
    "                if s[i] != s[n - 1 - i]:\n",
    "                    if rem == 0:\n",
    "                        return False\n",
    "                    return solve(s[i:n - i - 1], 0) or solve(s[i + 1:n - i], 0)\n",
    "            return True\n",
    "        # solve is run at most 3 times\n",
    "        res = solve(s, 1)\n",
    "        return res"
   ]
  },
  {
   "cell_type": "code",
   "execution_count": 2,
   "id": "70678c5c-7a65-4f5c-b6ea-4c670eba39ba",
   "metadata": {},
   "outputs": [],
   "source": [
    "sol = Solution()"
   ]
  },
  {
   "cell_type": "code",
   "execution_count": 3,
   "id": "5a96635f-9d9e-40e9-ac25-d5f9598f1031",
   "metadata": {},
   "outputs": [],
   "source": [
    "assert sol.validPalindrome(\"aba\")"
   ]
  },
  {
   "cell_type": "code",
   "execution_count": 4,
   "id": "020349b5-bcff-4d73-b0f8-c313b068074c",
   "metadata": {},
   "outputs": [],
   "source": [
    "assert sol.validPalindrome(\"abca\")"
   ]
  },
  {
   "cell_type": "code",
   "execution_count": 5,
   "id": "8b8b8346-538e-46d6-8eee-c3790b63759a",
   "metadata": {},
   "outputs": [],
   "source": [
    "assert not sol.validPalindrome(\"abc\")"
   ]
  }
 ],
 "metadata": {
  "kernelspec": {
   "display_name": "Python 3 (ipykernel)",
   "language": "python",
   "name": "python3"
  },
  "language_info": {
   "codemirror_mode": {
    "name": "ipython",
    "version": 3
   },
   "file_extension": ".py",
   "mimetype": "text/x-python",
   "name": "python",
   "nbconvert_exporter": "python",
   "pygments_lexer": "ipython3",
   "version": "3.9.7"
  }
 },
 "nbformat": 4,
 "nbformat_minor": 5
}
