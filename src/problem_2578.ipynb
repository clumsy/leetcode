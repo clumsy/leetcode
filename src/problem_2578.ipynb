{
 "cells": [
  {
   "cell_type": "markdown",
   "id": "1e0941f4-c7c4-48a9-bca2-3dc231fe5f4d",
   "metadata": {},
   "source": [
    "[Problem 2578](https://leetcode.com/problems/split-with-minimum-sum/description)"
   ]
  },
  {
   "cell_type": "code",
   "execution_count": 2,
   "id": "8b16ae50-b347-4aea-a53f-b5c9792cd2b8",
   "metadata": {},
   "outputs": [],
   "source": [
    "class Solution:\n",
    "    def splitNum(self, num: int) -> int:\n",
    "        num = \"\".join(sorted(str(num)))\n",
    "        res = int(num[::2]) + int(num[1::2])\n",
    "        return res"
   ]
  },
  {
   "cell_type": "code",
   "execution_count": 3,
   "id": "96dabc3c-c57a-42da-8cf0-de53334fb347",
   "metadata": {},
   "outputs": [],
   "source": [
    "sol = Solution()"
   ]
  },
  {
   "cell_type": "code",
   "execution_count": 4,
   "id": "8cb58f89-b80b-464a-9e8d-60bc41eb6f90",
   "metadata": {},
   "outputs": [],
   "source": [
    "assert sol.splitNum(4325) == 59"
   ]
  },
  {
   "cell_type": "code",
   "execution_count": 5,
   "id": "1e3e67bc-f341-462b-baed-450c8be97257",
   "metadata": {},
   "outputs": [],
   "source": [
    "assert sol.splitNum(687) == 75"
   ]
  }
 ],
 "metadata": {
  "kernelspec": {
   "display_name": "Python 3 (ipykernel)",
   "language": "python",
   "name": "python3"
  },
  "language_info": {
   "codemirror_mode": {
    "name": "ipython",
    "version": 3
   },
   "file_extension": ".py",
   "mimetype": "text/x-python",
   "name": "python",
   "nbconvert_exporter": "python",
   "pygments_lexer": "ipython3",
   "version": "3.9.7"
  }
 },
 "nbformat": 4,
 "nbformat_minor": 5
}
