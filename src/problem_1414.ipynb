{
 "cells": [
  {
   "cell_type": "markdown",
   "id": "158d8c8d-f7b8-4912-a410-93daa52e3ec6",
   "metadata": {},
   "source": [
    "[Problem 1414](https://leetcode.com/problems/find-the-minimum-number-of-fibonacci-numbers-whose-sum-is-k/description)"
   ]
  },
  {
   "cell_type": "code",
   "execution_count": 1,
   "id": "17a0c0fa-059e-4b09-994b-07f3886d9a48",
   "metadata": {},
   "outputs": [],
   "source": [
    "from bisect import bisect_left"
   ]
  },
  {
   "cell_type": "code",
   "execution_count": 2,
   "id": "4526dc17-6d61-4a88-8e73-add57bba871e",
   "metadata": {},
   "outputs": [],
   "source": [
    "class Solution:\n",
    "    def findMinFibonacciNumbers(self, k: int) -> int:\n",
    "        a, b = 1, 1\n",
    "        fib = [a, b]\n",
    "        while b < 10 ** 9:\n",
    "            a, b = b, a + b\n",
    "            fib.append(b)\n",
    "        res = 0\n",
    "        while k > 0:\n",
    "            i = bisect_left(fib, k)\n",
    "            if i >= len(fib) or fib[i] > k:\n",
    "                i -= 1\n",
    "            k -= fib[i]\n",
    "            res += 1\n",
    "        return res"
   ]
  },
  {
   "cell_type": "code",
   "execution_count": 3,
   "id": "3a4b1a90-b2ca-4830-af36-2a261e2f5812",
   "metadata": {},
   "outputs": [],
   "source": [
    "sol = Solution()"
   ]
  },
  {
   "cell_type": "code",
   "execution_count": 4,
   "id": "19ed1fca-275c-461e-8433-ea8df7fcac54",
   "metadata": {},
   "outputs": [],
   "source": [
    "assert sol.findMinFibonacciNumbers(7) == 2"
   ]
  },
  {
   "cell_type": "code",
   "execution_count": 5,
   "id": "4fad962c-ebec-425e-b3a6-535f8bdb69a8",
   "metadata": {},
   "outputs": [],
   "source": [
    "assert sol.findMinFibonacciNumbers(10) == 2"
   ]
  },
  {
   "cell_type": "code",
   "execution_count": 6,
   "id": "e9531117-78b0-4235-b7fc-632cc1719b1e",
   "metadata": {},
   "outputs": [],
   "source": [
    "assert sol.findMinFibonacciNumbers(19) == 3"
   ]
  }
 ],
 "metadata": {
  "kernelspec": {
   "display_name": "Python 3 (ipykernel)",
   "language": "python",
   "name": "python3"
  },
  "language_info": {
   "codemirror_mode": {
    "name": "ipython",
    "version": 3
   },
   "file_extension": ".py",
   "mimetype": "text/x-python",
   "name": "python",
   "nbconvert_exporter": "python",
   "pygments_lexer": "ipython3",
   "version": "3.9.7"
  }
 },
 "nbformat": 4,
 "nbformat_minor": 5
}
