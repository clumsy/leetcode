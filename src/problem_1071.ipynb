{
 "cells": [
  {
   "cell_type": "markdown",
   "id": "708c2cdc-7f65-4309-aeae-2e29694b8aed",
   "metadata": {},
   "source": [
    "[Problem 1071](https://leetcode.com/problems/greatest-common-divisor-of-strings/description)"
   ]
  },
  {
   "cell_type": "code",
   "execution_count": 1,
   "id": "338e513c-a692-442d-9490-1949c77c3d86",
   "metadata": {},
   "outputs": [],
   "source": [
    "class Solution:\n",
    "    def gcdOfStrings(self, str1: str, str2: str) -> str:\n",
    "        if str1 + str2 != str2 + str1:\n",
    "            res = \"\"\n",
    "        else:\n",
    "            def gcd(a, b):\n",
    "                return a if b == 0 else gcd(b, a % b)\n",
    "            res = str1[:gcd(len(str1), len(str2))]\n",
    "        return res"
   ]
  },
  {
   "cell_type": "code",
   "execution_count": 2,
   "id": "f51b08a0-629d-4e67-a084-c38d5e4e4df1",
   "metadata": {},
   "outputs": [],
   "source": [
    "sol = Solution()"
   ]
  },
  {
   "cell_type": "code",
   "execution_count": 3,
   "id": "492d83ed-3704-4d8d-9d5a-47363d0af769",
   "metadata": {},
   "outputs": [],
   "source": [
    "assert sol.gcdOfStrings(\"ABCABC\", \"ABC\") == \"ABC\""
   ]
  },
  {
   "cell_type": "code",
   "execution_count": 4,
   "id": "6ec878f3-7790-42d4-9a66-f2f61302db05",
   "metadata": {},
   "outputs": [],
   "source": [
    "assert sol.gcdOfStrings(\"ABABAB\", \"ABAB\") == \"AB\""
   ]
  },
  {
   "cell_type": "code",
   "execution_count": 5,
   "id": "c9a0a71c-c4cf-4f8e-895c-27dfaf14067d",
   "metadata": {},
   "outputs": [],
   "source": [
    "assert sol.gcdOfStrings(\"LEET\", \"CODE\") == \"\""
   ]
  }
 ],
 "metadata": {
  "kernelspec": {
   "display_name": "Python 3 (ipykernel)",
   "language": "python",
   "name": "python3"
  },
  "language_info": {
   "codemirror_mode": {
    "name": "ipython",
    "version": 3
   },
   "file_extension": ".py",
   "mimetype": "text/x-python",
   "name": "python",
   "nbconvert_exporter": "python",
   "pygments_lexer": "ipython3",
   "version": "3.9.7"
  }
 },
 "nbformat": 4,
 "nbformat_minor": 5
}
