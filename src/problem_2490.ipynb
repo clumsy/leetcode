{
 "cells": [
  {
   "cell_type": "markdown",
   "id": "646d2dbd-5366-4756-a20d-a5883473af22",
   "metadata": {},
   "source": [
    "[Problem 2490](https://leetcode.com/problems/circular-sentence/description)"
   ]
  },
  {
   "cell_type": "code",
   "execution_count": 1,
   "id": "f6f437f6-0c42-4b71-84ad-b813cbd14299",
   "metadata": {},
   "outputs": [],
   "source": [
    "class Solution:\n",
    "    def isCircularSentence(self, sentence: str) -> bool:\n",
    "        res = sentence[0] == sentence[-1]\n",
    "        if res:\n",
    "            for i, c in enumerate(sentence):\n",
    "                if c == \" \" and sentence[i - 1] != sentence[i + 1]:\n",
    "                    res = False\n",
    "                    break\n",
    "        return res"
   ]
  },
  {
   "cell_type": "code",
   "execution_count": 2,
   "id": "a9fc16de-4c56-44ba-aea8-b5fe8b681599",
   "metadata": {},
   "outputs": [],
   "source": [
    "sol = Solution()"
   ]
  },
  {
   "cell_type": "code",
   "execution_count": 3,
   "id": "d9c2bd27-2f50-4a43-885b-6db6f7b0137a",
   "metadata": {},
   "outputs": [],
   "source": [
    "assert sol.isCircularSentence(\"leetcode exercises sound delightful\")"
   ]
  },
  {
   "cell_type": "code",
   "execution_count": 4,
   "id": "44bfe190-2017-4226-adcf-369610ca963a",
   "metadata": {},
   "outputs": [],
   "source": [
    "assert sol.isCircularSentence(\"eetcode\")"
   ]
  },
  {
   "cell_type": "code",
   "execution_count": 5,
   "id": "393a659b-5e0f-4bc1-8459-16b4a5787723",
   "metadata": {},
   "outputs": [],
   "source": [
    "assert not sol.isCircularSentence(\"Leetcode is cool\")"
   ]
  }
 ],
 "metadata": {
  "kernelspec": {
   "display_name": "Python 3 (ipykernel)",
   "language": "python",
   "name": "python3"
  },
  "language_info": {
   "codemirror_mode": {
    "name": "ipython",
    "version": 3
   },
   "file_extension": ".py",
   "mimetype": "text/x-python",
   "name": "python",
   "nbconvert_exporter": "python",
   "pygments_lexer": "ipython3",
   "version": "3.9.7"
  }
 },
 "nbformat": 4,
 "nbformat_minor": 5
}
