{
 "cells": [
  {
   "cell_type": "markdown",
   "id": "d74ea4ed-31f1-419a-bcc6-b065b1eea46f",
   "metadata": {},
   "source": [
    "[Problem 162](https://leetcode.com/problems/find-peak-element/)"
   ]
  },
  {
   "cell_type": "code",
   "execution_count": 1,
   "id": "ec12a519-f817-495c-b5be-0e763d512b93",
   "metadata": {},
   "outputs": [],
   "source": [
    "from typing import List"
   ]
  },
  {
   "cell_type": "code",
   "execution_count": 2,
   "id": "e5d1ff4a-8f68-4468-b277-be967b3ff1ce",
   "metadata": {},
   "outputs": [],
   "source": [
    "class Solution:\n",
    "    def findPeakElement(self, nums: List[int]) -> int:\n",
    "        lo, hi = 0, len(nums) - 1\n",
    "        while lo < hi:\n",
    "            mi = (lo + hi) // 2\n",
    "            if nums[mi] <= nums[mi + 1]:\n",
    "                lo = mi + 1\n",
    "            else:\n",
    "                hi = mi\n",
    "        return lo"
   ]
  },
  {
   "cell_type": "code",
   "execution_count": 3,
   "id": "19810dab-aa09-4e8e-a88c-48b01cec5549",
   "metadata": {},
   "outputs": [],
   "source": [
    "sol = Solution()"
   ]
  },
  {
   "cell_type": "code",
   "execution_count": 4,
   "id": "a4a7bc7d-0dfc-49d5-9010-5ceb01bd0de9",
   "metadata": {},
   "outputs": [],
   "source": [
    "assert sol.findPeakElement([1,2,3,1]) == 2"
   ]
  },
  {
   "cell_type": "code",
   "execution_count": 5,
   "id": "17e16131-2aa7-4ec5-a4c9-a7669c01bd83",
   "metadata": {},
   "outputs": [],
   "source": [
    "assert sol.findPeakElement([1,2,1,3,5,6,4]) == 5"
   ]
  }
 ],
 "metadata": {
  "kernelspec": {
   "display_name": "Python 3 (ipykernel)",
   "language": "python",
   "name": "python3"
  },
  "language_info": {
   "codemirror_mode": {
    "name": "ipython",
    "version": 3
   },
   "file_extension": ".py",
   "mimetype": "text/x-python",
   "name": "python",
   "nbconvert_exporter": "python",
   "pygments_lexer": "ipython3",
   "version": "3.9.7"
  }
 },
 "nbformat": 4,
 "nbformat_minor": 5
}
