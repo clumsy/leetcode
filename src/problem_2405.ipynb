{
 "cells": [
  {
   "cell_type": "markdown",
   "id": "7226153e-74aa-4443-953d-a5231fb4ce1d",
   "metadata": {},
   "source": [
    "[Problem 2405](https://leetcode.com/problems/optimal-partition-of-string/description)"
   ]
  },
  {
   "cell_type": "code",
   "execution_count": 1,
   "id": "17eabf0d-02d6-48c9-8f72-4ad582ba011f",
   "metadata": {},
   "outputs": [],
   "source": [
    "from collections import Counter"
   ]
  },
  {
   "cell_type": "code",
   "execution_count": 2,
   "id": "dd69c6b0-ee64-446b-be89-7e31944c8835",
   "metadata": {},
   "outputs": [],
   "source": [
    "class Solution:\n",
    "    def partitionString(self, s: str) -> int:\n",
    "        res, cnt = 1, Counter()\n",
    "        for c in s:\n",
    "            if cnt[c] > 0:\n",
    "                cnt.clear()\n",
    "                res += 1\n",
    "            cnt[c] += 1\n",
    "        return res"
   ]
  },
  {
   "cell_type": "code",
   "execution_count": 3,
   "id": "84afa7cf-124f-4a28-b6ef-27b8e544fee6",
   "metadata": {},
   "outputs": [],
   "source": [
    "sol = Solution()"
   ]
  },
  {
   "cell_type": "code",
   "execution_count": 4,
   "id": "65bf1c50-1d12-480e-9d2f-7e2f29f8cbf9",
   "metadata": {},
   "outputs": [],
   "source": [
    "assert sol.partitionString(\"abacaba\") == 4"
   ]
  },
  {
   "cell_type": "code",
   "execution_count": 5,
   "id": "98273cf0-c587-4207-9730-7b8e6727d42b",
   "metadata": {},
   "outputs": [],
   "source": [
    "assert sol.partitionString(\"ssssss\") == 6"
   ]
  }
 ],
 "metadata": {
  "kernelspec": {
   "display_name": "Python 3 (ipykernel)",
   "language": "python",
   "name": "python3"
  },
  "language_info": {
   "codemirror_mode": {
    "name": "ipython",
    "version": 3
   },
   "file_extension": ".py",
   "mimetype": "text/x-python",
   "name": "python",
   "nbconvert_exporter": "python",
   "pygments_lexer": "ipython3",
   "version": "3.9.7"
  }
 },
 "nbformat": 4,
 "nbformat_minor": 5
}
