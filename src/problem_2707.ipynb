{
 "cells": [
  {
   "cell_type": "markdown",
   "id": "d0e70de9-c2a0-4da3-a66b-7cae897c5cfd",
   "metadata": {},
   "source": [
    "[Problem 2707](https://leetcode.com/problems/extra-characters-in-a-string/description)"
   ]
  },
  {
   "cell_type": "code",
   "execution_count": 1,
   "id": "be1075be-524e-4290-b569-b88eb71b4831",
   "metadata": {},
   "outputs": [],
   "source": [
    "from typing import List\n",
    "from functools import cache"
   ]
  },
  {
   "cell_type": "code",
   "execution_count": 2,
   "id": "49499280-3ec3-4e0e-9dee-3cca8b254b9f",
   "metadata": {},
   "outputs": [],
   "source": [
    "class Solution:\n",
    "    def minExtraChar(self, s: str, d: List[str]) -> int:\n",
    "\n",
    "        @cache\n",
    "        def solve(s, d):\n",
    "            res = len(s)\n",
    "            for i in range(len(s)):\n",
    "                for w in d:\n",
    "                    if s.startswith(w, i):\n",
    "                        res = min(res, i + solve(s[i + len(w):], d))\n",
    "            return res\n",
    "        res = solve(s, frozenset(d))\n",
    "        return res"
   ]
  },
  {
   "cell_type": "code",
   "execution_count": 3,
   "id": "ef971dbb-9b8d-422a-808a-4d3018355959",
   "metadata": {},
   "outputs": [],
   "source": [
    "class Solution:\n",
    "    def minExtraChar(self, s: str, d: List[str]) -> int:\n",
    "        n = len(s)\n",
    "        dp = [0] * (n + 1)\n",
    "        for e in range(1, n + 1):\n",
    "            dp[e] = dp[e - 1] + 1\n",
    "            for w in d:\n",
    "                if s[:e].endswith(w):\n",
    "                    dp[e] = min(dp[e], dp[e - len(w)])\n",
    "        res = dp[-1]\n",
    "        return res"
   ]
  },
  {
   "cell_type": "code",
   "execution_count": 4,
   "id": "bd6e5a3e-27d6-4792-ae27-56b3cef18a66",
   "metadata": {},
   "outputs": [],
   "source": [
    "sol = Solution()"
   ]
  },
  {
   "cell_type": "code",
   "execution_count": 5,
   "id": "329dcc16-47bb-4dd0-8798-96b9cdae6a20",
   "metadata": {},
   "outputs": [],
   "source": [
    "assert sol.minExtraChar(\"leetscode\", [\"leet\",\"code\",\"leetcode\"]) == 1"
   ]
  },
  {
   "cell_type": "code",
   "execution_count": 6,
   "id": "4c0c2913-6b98-4ab3-8690-aee1c10ab976",
   "metadata": {},
   "outputs": [],
   "source": [
    "assert sol.minExtraChar(\"sayhelloworld\", [\"hello\",\"world\"]) == 3"
   ]
  }
 ],
 "metadata": {
  "kernelspec": {
   "display_name": "Python 3 (ipykernel)",
   "language": "python",
   "name": "python3"
  },
  "language_info": {
   "codemirror_mode": {
    "name": "ipython",
    "version": 3
   },
   "file_extension": ".py",
   "mimetype": "text/x-python",
   "name": "python",
   "nbconvert_exporter": "python",
   "pygments_lexer": "ipython3",
   "version": "3.9.7"
  }
 },
 "nbformat": 4,
 "nbformat_minor": 5
}
