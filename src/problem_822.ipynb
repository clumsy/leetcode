{
 "cells": [
  {
   "cell_type": "markdown",
   "id": "e157d756-e215-4665-ae9c-948f3c279086",
   "metadata": {},
   "source": [
    "[Problem 822](https://leetcode.com/problems/card-flipping-game)"
   ]
  },
  {
   "cell_type": "code",
   "execution_count": 5,
   "id": "8e6e0290-5fbf-4da4-a5a7-e0fe0aaba1d8",
   "metadata": {},
   "outputs": [],
   "source": [
    "from typing import List"
   ]
  },
  {
   "cell_type": "code",
   "execution_count": 6,
   "id": "bdb5a1e5-5121-4bda-9c1a-26926b69d337",
   "metadata": {},
   "outputs": [],
   "source": [
    "class Solution:\n",
    "    def flipgame(self, f: List[int], b: List[int]) -> int:\n",
    "        same = {x for x, y in zip(f, b) if x == y}\n",
    "        return min((i for i in f + b if i not in same), default=0)"
   ]
  },
  {
   "cell_type": "code",
   "execution_count": 7,
   "id": "dd48a0b2-c9ed-439e-ab4f-67ebdf31643d",
   "metadata": {},
   "outputs": [],
   "source": [
    "sol = Solution()"
   ]
  },
  {
   "cell_type": "code",
   "execution_count": 8,
   "id": "60767257-ace9-4e3c-9935-1f63988fd974",
   "metadata": {},
   "outputs": [],
   "source": [
    "assert sol.flipgame([1,2,4,4,7], [1,3,4,1,3]) == 2"
   ]
  },
  {
   "cell_type": "code",
   "execution_count": 9,
   "id": "bb1b635d-47a0-45bd-a1bc-e955b5fc0ce7",
   "metadata": {},
   "outputs": [],
   "source": [
    "assert sol.flipgame([1], [1]) == 0"
   ]
  }
 ],
 "metadata": {
  "kernelspec": {
   "display_name": "Python 3 (ipykernel)",
   "language": "python",
   "name": "python3"
  },
  "language_info": {
   "codemirror_mode": {
    "name": "ipython",
    "version": 3
   },
   "file_extension": ".py",
   "mimetype": "text/x-python",
   "name": "python",
   "nbconvert_exporter": "python",
   "pygments_lexer": "ipython3",
   "version": "3.9.7"
  }
 },
 "nbformat": 4,
 "nbformat_minor": 5
}
