{
 "cells": [
  {
   "cell_type": "markdown",
   "id": "18303b46-9b8f-4f92-bf9c-294d6782b0a6",
   "metadata": {},
   "source": [
    "[Problem 2975](https://leetcode.com/problems/maximum-square-area-by-removing-fences-from-a-field/description)"
   ]
  },
  {
   "cell_type": "code",
   "execution_count": 1,
   "id": "7c7cc277-391e-4c7a-822c-56febd627825",
   "metadata": {},
   "outputs": [],
   "source": [
    "from typing import List"
   ]
  },
  {
   "cell_type": "code",
   "execution_count": 2,
   "id": "ed949bfb-5f52-4c32-8b13-1c316ed653e9",
   "metadata": {},
   "outputs": [],
   "source": [
    "class Solution:\n",
    "    def maximizeSquareArea(self, m: int, n: int, hFences: List[int], vFences: List[int]) -> int:\n",
    "        hFences.append(1)\n",
    "        hFences.append(m)\n",
    "        hFences.sort()\n",
    "        hs = set()\n",
    "        for i in range(len(hFences)):\n",
    "            for j in range(i + 1, len(hFences)):\n",
    "                hs.add(hFences[j] - hFences[i])\n",
    "        vFences.append(1)\n",
    "        vFences.append(n)\n",
    "        vFences.sort()\n",
    "        res = - 1\n",
    "        for i in range(len(vFences)):\n",
    "            for j in range(i + 1, len(vFences)):\n",
    "                d = vFences[j] - vFences[i]\n",
    "                if d in hs:\n",
    "                    res = max(res, d * d)\n",
    "        res = res % (10**9 + 7) if res > 0 else res\n",
    "        return res"
   ]
  },
  {
   "cell_type": "code",
   "execution_count": 3,
   "id": "a532d80a-5ea1-4dcc-8bb0-b54cd767faac",
   "metadata": {},
   "outputs": [],
   "source": [
    "sol = Solution()"
   ]
  },
  {
   "cell_type": "code",
   "execution_count": 4,
   "id": "f7bcf93e-7359-4bde-9779-695d8411694b",
   "metadata": {},
   "outputs": [],
   "source": [
    "assert sol.maximizeSquareArea(4, 3, [2,3], [2]) == 4"
   ]
  },
  {
   "cell_type": "code",
   "execution_count": 5,
   "id": "a0fad013-e347-434d-8f91-d0e66f74aa51",
   "metadata": {},
   "outputs": [],
   "source": [
    "assert sol.maximizeSquareArea(6, 7, [2], [4]) == -1"
   ]
  }
 ],
 "metadata": {
  "kernelspec": {
   "display_name": "Python 3 (ipykernel)",
   "language": "python",
   "name": "python3"
  },
  "language_info": {
   "codemirror_mode": {
    "name": "ipython",
    "version": 3
   },
   "file_extension": ".py",
   "mimetype": "text/x-python",
   "name": "python",
   "nbconvert_exporter": "python",
   "pygments_lexer": "ipython3",
   "version": "3.9.7"
  }
 },
 "nbformat": 4,
 "nbformat_minor": 5
}
