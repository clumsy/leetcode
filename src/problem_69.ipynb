{
 "cells": [
  {
   "cell_type": "markdown",
   "id": "8cee2de3-6a55-4e44-aea4-a6df01636981",
   "metadata": {},
   "source": [
    "[Problem 69](https://leetcode.com/problems/sqrtx/)"
   ]
  },
  {
   "cell_type": "code",
   "execution_count": 1,
   "id": "8a6d9568-1fa5-47fa-a3b2-f1de46ba6b06",
   "metadata": {},
   "outputs": [],
   "source": [
    "class Solution:\n",
    "    def mySqrt(self, x: int) -> int:\n",
    "        lo, hi = 0, x\n",
    "        while lo < hi:\n",
    "            mi = hi - (hi - lo) // 2\n",
    "            if mi*mi > x:\n",
    "                hi = mi - 1\n",
    "            else:\n",
    "                lo = mi\n",
    "        return lo"
   ]
  },
  {
   "cell_type": "code",
   "execution_count": 2,
   "id": "6ee5d68c-04ae-486f-b973-b599114204d8",
   "metadata": {},
   "outputs": [],
   "source": [
    "sol = Solution()"
   ]
  },
  {
   "cell_type": "code",
   "execution_count": 3,
   "id": "d0b727b7-3504-4a32-b3cd-48ded4c9f50d",
   "metadata": {},
   "outputs": [],
   "source": [
    "assert sol.mySqrt(4) == 2"
   ]
  },
  {
   "cell_type": "code",
   "execution_count": 4,
   "id": "0d312fa0-83d4-443d-8f4a-34c43fff4241",
   "metadata": {},
   "outputs": [],
   "source": [
    "assert sol.mySqrt(8) == 2"
   ]
  }
 ],
 "metadata": {
  "kernelspec": {
   "display_name": "Python 3 (ipykernel)",
   "language": "python",
   "name": "python3"
  },
  "language_info": {
   "codemirror_mode": {
    "name": "ipython",
    "version": 3
   },
   "file_extension": ".py",
   "mimetype": "text/x-python",
   "name": "python",
   "nbconvert_exporter": "python",
   "pygments_lexer": "ipython3",
   "version": "3.9.7"
  }
 },
 "nbformat": 4,
 "nbformat_minor": 5
}
