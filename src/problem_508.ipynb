{
 "cells": [
  {
   "cell_type": "markdown",
   "id": "346885b3-1325-42aa-ae92-7807f250c175",
   "metadata": {},
   "source": [
    "[Problem_508](https://leetcode.com/problems/most-frequent-subtree-sum/description)"
   ]
  },
  {
   "cell_type": "code",
   "execution_count": 1,
   "id": "76046b44-fc24-4b8a-afbf-5a040129fb59",
   "metadata": {},
   "outputs": [],
   "source": [
    "# Definition for a binary tree node.\n",
    "class TreeNode:\n",
    "    def __init__(self, val=0, left=None, right=None):\n",
    "        self.val = val\n",
    "        self.left = left\n",
    "        self.right = right\n",
    "        \n",
    "    def __eq__(self, other):\n",
    "        return other and self.val == other.val and self.left == other.left and self.right == other.right"
   ]
  },
  {
   "cell_type": "code",
   "execution_count": 2,
   "id": "58b644b0-f573-4328-a70c-028202d008f5",
   "metadata": {},
   "outputs": [],
   "source": [
    "from typing import Optional, List\n",
    "from collections import Counter"
   ]
  },
  {
   "cell_type": "code",
   "execution_count": 3,
   "id": "d1307749-0fe2-4a72-b64a-6d484db4022b",
   "metadata": {},
   "outputs": [],
   "source": [
    "class Solution:\n",
    "    def findFrequentTreeSum(self, root: Optional[TreeNode]) -> List[int]:\n",
    "        cnt = Counter()\n",
    "        def dfs(node):\n",
    "            if node is None:\n",
    "                return 0\n",
    "            s = node.val + dfs(node.left) + dfs(node.right)\n",
    "            cnt[s] += 1\n",
    "            return s\n",
    "        dfs(root)\n",
    "        res = []\n",
    "        for v, c in cnt.most_common():\n",
    "            if res and c < cnt[res[-1]]:\n",
    "                break\n",
    "            res.append(v)\n",
    "        return res"
   ]
  },
  {
   "cell_type": "code",
   "execution_count": 4,
   "id": "764eccc9-d897-43db-9244-95f041f5171f",
   "metadata": {},
   "outputs": [],
   "source": [
    "sol = Solution()"
   ]
  },
  {
   "cell_type": "code",
   "execution_count": 5,
   "id": "0b90e2c5-ee2c-47ea-a5c9-e230db9139e3",
   "metadata": {},
   "outputs": [],
   "source": [
    "from collections import deque\n",
    "\n",
    "null = None  # to use Leetcode samples as is\n",
    "\n",
    "def tree(values):\n",
    "    if not values:\n",
    "        return null\n",
    "    queue = deque([(root := TreeNode(values[0])), None])\n",
    "    length, i = len(values), 0\n",
    "    while queue:\n",
    "        current = queue.popleft()\n",
    "        if current:\n",
    "            i += 1\n",
    "            if i < length and values[i] is not None:\n",
    "                current.left = TreeNode(values[i])\n",
    "                queue.append(current.left)\n",
    "            i += 1\n",
    "            if i < length and values[i] is not None:\n",
    "                current.right = TreeNode(values[i])\n",
    "                queue.append(current.right)\n",
    "            if i == length:\n",
    "                return root\n",
    "        else:\n",
    "            if queue:\n",
    "                queue.append(None)\n",
    "    return root"
   ]
  },
  {
   "cell_type": "code",
   "execution_count": 6,
   "id": "13651c27-f3a5-48c9-8af4-35f549058cc7",
   "metadata": {},
   "outputs": [],
   "source": [
    "assert sol.findFrequentTreeSum(tree([5,2,-3])) == [2,-3,4]"
   ]
  },
  {
   "cell_type": "code",
   "execution_count": 7,
   "id": "5834a63d-0a3c-4a87-aeb9-547b5adf1b58",
   "metadata": {},
   "outputs": [],
   "source": [
    "assert sol.findFrequentTreeSum(tree([5,2,-5])) == [2]"
   ]
  }
 ],
 "metadata": {
  "kernelspec": {
   "display_name": "Python 3 (ipykernel)",
   "language": "python",
   "name": "python3"
  },
  "language_info": {
   "codemirror_mode": {
    "name": "ipython",
    "version": 3
   },
   "file_extension": ".py",
   "mimetype": "text/x-python",
   "name": "python",
   "nbconvert_exporter": "python",
   "pygments_lexer": "ipython3",
   "version": "3.9.7"
  }
 },
 "nbformat": 4,
 "nbformat_minor": 5
}
