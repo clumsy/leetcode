{
 "cells": [
  {
   "cell_type": "markdown",
   "id": "6ac4b9c4-b472-443f-9ab6-74873e104f35",
   "metadata": {},
   "source": [
    "[Problem 2769](https://leetcode.com/problems/find-the-maximum-achievable-number/description)"
   ]
  },
  {
   "cell_type": "code",
   "execution_count": 1,
   "id": "15b885ad-fb4a-4707-9f6b-7828d81957ff",
   "metadata": {},
   "outputs": [],
   "source": [
    "class Solution:\n",
    "    def theMaximumAchievableX(self, num: int, t: int) -> int:\n",
    "        res = num + 2 * t\n",
    "        return res"
   ]
  },
  {
   "cell_type": "code",
   "execution_count": 2,
   "id": "cba17ea2-9114-47f6-b8df-c750f595142d",
   "metadata": {},
   "outputs": [],
   "source": [
    "sol = Solution()"
   ]
  },
  {
   "cell_type": "code",
   "execution_count": 3,
   "id": "db41dd9b-1ae3-493f-b978-80e81e89fe1a",
   "metadata": {},
   "outputs": [],
   "source": [
    "assert sol.theMaximumAchievableX(4, 1) == 6"
   ]
  },
  {
   "cell_type": "code",
   "execution_count": 4,
   "id": "94afccd9-c154-4bcb-a262-7d75b4971b86",
   "metadata": {},
   "outputs": [],
   "source": [
    "assert sol.theMaximumAchievableX(3, 2) == 7"
   ]
  }
 ],
 "metadata": {
  "kernelspec": {
   "display_name": "Python 3 (ipykernel)",
   "language": "python",
   "name": "python3"
  },
  "language_info": {
   "codemirror_mode": {
    "name": "ipython",
    "version": 3
   },
   "file_extension": ".py",
   "mimetype": "text/x-python",
   "name": "python",
   "nbconvert_exporter": "python",
   "pygments_lexer": "ipython3",
   "version": "3.9.7"
  }
 },
 "nbformat": 4,
 "nbformat_minor": 5
}
