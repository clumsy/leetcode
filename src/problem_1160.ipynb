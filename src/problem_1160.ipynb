{
 "cells": [
  {
   "cell_type": "markdown",
   "id": "945a8a07-6f05-48d1-9608-8740ecd50da0",
   "metadata": {},
   "source": [
    "[Problem 1160](https://leetcode.com/problems/find-words-that-can-be-formed-by-characters/description)"
   ]
  },
  {
   "cell_type": "code",
   "execution_count": 5,
   "id": "e64b2f2f-4e53-4bd7-ab59-635e602562a6",
   "metadata": {},
   "outputs": [],
   "source": [
    "from typing import List\n",
    "from collections import Counter"
   ]
  },
  {
   "cell_type": "code",
   "execution_count": 6,
   "id": "e59e491e-cd71-4390-8bb1-3622dcd49098",
   "metadata": {},
   "outputs": [],
   "source": [
    "class Solution:\n",
    "    def countCharacters(self, words: List[str], chars: str) -> int:\n",
    "        cnt = Counter(chars)\n",
    "        res = sum(len(word) for word in words if all(v <= cnt.get(k, 0) for k, v in Counter(word).items()))\n",
    "        return res"
   ]
  },
  {
   "cell_type": "code",
   "execution_count": 7,
   "id": "369f8630-e95a-41e3-9767-e8c0f8d31e57",
   "metadata": {},
   "outputs": [],
   "source": [
    "sol = Solution()"
   ]
  },
  {
   "cell_type": "code",
   "execution_count": 8,
   "id": "0d85a9ed-f287-4e0d-ac48-ef252f5c87c4",
   "metadata": {},
   "outputs": [],
   "source": [
    "assert sol.countCharacters([\"cat\",\"bt\",\"hat\",\"tree\"], \"atach\") == 6"
   ]
  },
  {
   "cell_type": "code",
   "execution_count": 9,
   "id": "0a732c57-5c6b-4120-8637-9d1acb75e5bb",
   "metadata": {},
   "outputs": [],
   "source": [
    "assert sol.countCharacters([\"hello\",\"world\",\"leetcode\"], \"welldonehoneyr\") == 10"
   ]
  }
 ],
 "metadata": {
  "kernelspec": {
   "display_name": "Python 3 (ipykernel)",
   "language": "python",
   "name": "python3"
  },
  "language_info": {
   "codemirror_mode": {
    "name": "ipython",
    "version": 3
   },
   "file_extension": ".py",
   "mimetype": "text/x-python",
   "name": "python",
   "nbconvert_exporter": "python",
   "pygments_lexer": "ipython3",
   "version": "3.9.7"
  }
 },
 "nbformat": 4,
 "nbformat_minor": 5
}
