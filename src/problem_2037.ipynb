{
 "cells": [
  {
   "cell_type": "markdown",
   "id": "6d81ba72-b237-483f-9eec-9004ea3912c5",
   "metadata": {},
   "source": [
    "[Problem 2037](https://leetcode.com/problems/minimum-number-of-moves-to-seat-everyone/description)"
   ]
  },
  {
   "cell_type": "code",
   "execution_count": 1,
   "id": "2e60749b-b095-4665-8474-9b960ab46165",
   "metadata": {},
   "outputs": [],
   "source": [
    "from typing import List"
   ]
  },
  {
   "cell_type": "code",
   "execution_count": 2,
   "id": "f4e49598-df4e-41db-bfd2-12ae1c388fa2",
   "metadata": {},
   "outputs": [],
   "source": [
    "class Solution:\n",
    "    def minMovesToSeat(self, seats: List[int], students: List[int]) -> int:\n",
    "        seats.sort()\n",
    "        students.sort()\n",
    "        res = sum(abs(i - j) for i, j in zip(seats, students))\n",
    "        return res"
   ]
  },
  {
   "cell_type": "code",
   "execution_count": 3,
   "id": "130d4639-7849-4aa4-952d-a5ccb2efa456",
   "metadata": {},
   "outputs": [],
   "source": [
    "sol = Solution()"
   ]
  },
  {
   "cell_type": "code",
   "execution_count": 4,
   "id": "c54c5867-a908-4308-a1fc-75dfa236c7cd",
   "metadata": {},
   "outputs": [],
   "source": [
    "assert sol.minMovesToSeat([3,1,5], [2,7,4]) == 4"
   ]
  },
  {
   "cell_type": "code",
   "execution_count": 5,
   "id": "78e26f7f-911a-45e4-9671-b07fdc4eccea",
   "metadata": {},
   "outputs": [],
   "source": [
    "assert sol.minMovesToSeat([4,1,5,9], [1,3,2,6]) == 7"
   ]
  },
  {
   "cell_type": "code",
   "execution_count": 6,
   "id": "ee0306ef-ce0e-422a-bf98-05c900ea1b29",
   "metadata": {},
   "outputs": [],
   "source": [
    "assert sol.minMovesToSeat([2,2,6,6], [1,3,2,6]) == 4"
   ]
  }
 ],
 "metadata": {
  "kernelspec": {
   "display_name": "Python 3 (ipykernel)",
   "language": "python",
   "name": "python3"
  },
  "language_info": {
   "codemirror_mode": {
    "name": "ipython",
    "version": 3
   },
   "file_extension": ".py",
   "mimetype": "text/x-python",
   "name": "python",
   "nbconvert_exporter": "python",
   "pygments_lexer": "ipython3",
   "version": "3.9.7"
  }
 },
 "nbformat": 4,
 "nbformat_minor": 5
}
