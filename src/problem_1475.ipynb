{
 "cells": [
  {
   "cell_type": "markdown",
   "id": "d7c7773a-053e-46ce-b995-bc97cada2e50",
   "metadata": {},
   "source": [
    "[Problem 1475](https://leetcode.com/problems/final-prices-with-a-special-discount-in-a-shop/description)"
   ]
  },
  {
   "cell_type": "code",
   "execution_count": 1,
   "id": "8b05a4d3-4cc4-4606-b2ca-e588578651b9",
   "metadata": {},
   "outputs": [],
   "source": [
    "from typing import List"
   ]
  },
  {
   "cell_type": "code",
   "execution_count": 2,
   "id": "07e7407a-e3ca-4e54-a742-8b020268e46f",
   "metadata": {},
   "outputs": [],
   "source": [
    "class Solution:\n",
    "    def finalPrices(self, prices: List[int]) -> List[int]:\n",
    "        n, st = len(prices), []\n",
    "        res = [0] * n\n",
    "        for i in range(n)[::-1]:\n",
    "            while st and st[-1] > prices[i]:\n",
    "                st.pop()\n",
    "            res[i] = prices[i] - (st[-1] if st and st[-1] <= prices[i] else 0)\n",
    "            st.append(prices[i])\n",
    "        return res"
   ]
  },
  {
   "cell_type": "code",
   "execution_count": 3,
   "id": "0d007ccc-15c3-469f-b843-39c21cf9881d",
   "metadata": {},
   "outputs": [],
   "source": [
    "sol = Solution()"
   ]
  },
  {
   "cell_type": "code",
   "execution_count": 4,
   "id": "85ddbf01-f85e-47c2-b7d2-a81915120f8a",
   "metadata": {},
   "outputs": [],
   "source": [
    "assert sol.finalPrices([8,4,6,2,3]) == [4,2,4,2,3]"
   ]
  },
  {
   "cell_type": "code",
   "execution_count": 5,
   "id": "917715d6-8d25-4f0e-aa78-7a8fa71e6fa1",
   "metadata": {},
   "outputs": [],
   "source": [
    "assert sol.finalPrices([1,2,3,4,5]) == [1,2,3,4,5]"
   ]
  },
  {
   "cell_type": "code",
   "execution_count": 6,
   "id": "d2f26527-3e95-4572-8b15-4c393296154d",
   "metadata": {},
   "outputs": [],
   "source": [
    "assert sol.finalPrices([10,1,1,6]) == [9,0,1,6]"
   ]
  }
 ],
 "metadata": {
  "kernelspec": {
   "display_name": "Python 3 (ipykernel)",
   "language": "python",
   "name": "python3"
  },
  "language_info": {
   "codemirror_mode": {
    "name": "ipython",
    "version": 3
   },
   "file_extension": ".py",
   "mimetype": "text/x-python",
   "name": "python",
   "nbconvert_exporter": "python",
   "pygments_lexer": "ipython3",
   "version": "3.9.7"
  }
 },
 "nbformat": 4,
 "nbformat_minor": 5
}
