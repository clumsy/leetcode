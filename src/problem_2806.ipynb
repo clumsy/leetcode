{
 "cells": [
  {
   "cell_type": "markdown",
   "id": "89c5a620-7052-4e7d-acab-83a29a5ba210",
   "metadata": {},
   "source": [
    "[Problem 2806](https://leetcode.com/problems/account-balance-after-rounded-purchase/description)"
   ]
  },
  {
   "cell_type": "code",
   "execution_count": 1,
   "id": "a34aef34-4739-413d-b24e-5ef03beaf3e5",
   "metadata": {},
   "outputs": [],
   "source": [
    "class Solution:\n",
    "    def accountBalanceAfterPurchase(self, purchaseAmount: int) -> int:\n",
    "        res = 100 - 10 * ((purchaseAmount + 5) // 10)\n",
    "        return res"
   ]
  },
  {
   "cell_type": "code",
   "execution_count": 2,
   "id": "510c0c60-687c-46a2-9271-adfcfe86379c",
   "metadata": {},
   "outputs": [],
   "source": [
    "sol = Solution()"
   ]
  },
  {
   "cell_type": "code",
   "execution_count": 3,
   "id": "4dc4b4e8-ad9e-4488-869c-edc86514e445",
   "metadata": {},
   "outputs": [],
   "source": [
    "assert sol.accountBalanceAfterPurchase(9) == 90"
   ]
  },
  {
   "cell_type": "code",
   "execution_count": 4,
   "id": "b438a940-1b5e-4400-877e-f4dab25a3650",
   "metadata": {},
   "outputs": [],
   "source": [
    "assert sol.accountBalanceAfterPurchase(15) == 80"
   ]
  }
 ],
 "metadata": {
  "kernelspec": {
   "display_name": "Python 3 (ipykernel)",
   "language": "python",
   "name": "python3"
  },
  "language_info": {
   "codemirror_mode": {
    "name": "ipython",
    "version": 3
   },
   "file_extension": ".py",
   "mimetype": "text/x-python",
   "name": "python",
   "nbconvert_exporter": "python",
   "pygments_lexer": "ipython3",
   "version": "3.9.7"
  }
 },
 "nbformat": 4,
 "nbformat_minor": 5
}
