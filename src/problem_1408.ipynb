{
 "cells": [
  {
   "cell_type": "markdown",
   "id": "73bc3a55-825a-4cb6-b4ad-6fefeec6c350",
   "metadata": {},
   "source": [
    "[Problem 1408](https://leetcode.com/problems/string-matching-in-an-array/description)"
   ]
  },
  {
   "cell_type": "code",
   "execution_count": 1,
   "id": "912f5074-0a5e-47e1-b032-6c7cb0bcfed1",
   "metadata": {},
   "outputs": [],
   "source": [
    "from typing import List"
   ]
  },
  {
   "cell_type": "code",
   "execution_count": 2,
   "id": "533e8c27-1179-40ff-9145-9b93e28e48c5",
   "metadata": {},
   "outputs": [],
   "source": [
    "class Solution:\n",
    "    def stringMatching(self, words: List[str]) -> List[str]:\n",
    "        res = [w for w in words if any(w in k for k in words if k != w)]\n",
    "        return res"
   ]
  },
  {
   "cell_type": "code",
   "execution_count": 3,
   "id": "bfd21e9d-dcfc-43a5-92bf-4fe64b48aedd",
   "metadata": {},
   "outputs": [],
   "source": [
    "sol = Solution()"
   ]
  },
  {
   "cell_type": "code",
   "execution_count": 4,
   "id": "817d7257-fdad-4cf7-b966-48d25642fc6a",
   "metadata": {},
   "outputs": [],
   "source": [
    "assert sol.stringMatching([\"mass\",\"as\",\"hero\",\"superhero\"]) == [\"as\",\"hero\"]"
   ]
  },
  {
   "cell_type": "code",
   "execution_count": 5,
   "id": "c3c841bd-0993-4930-b466-9f0e38175e4e",
   "metadata": {},
   "outputs": [],
   "source": [
    "assert sol.stringMatching([\"leetcode\",\"et\",\"code\"]) == [\"et\",\"code\"]"
   ]
  },
  {
   "cell_type": "code",
   "execution_count": 6,
   "id": "fd8a3de9-197f-4243-8213-2c928edcf597",
   "metadata": {},
   "outputs": [],
   "source": [
    "assert sol.stringMatching([\"blue\",\"green\",\"bu\"]) == []"
   ]
  }
 ],
 "metadata": {
  "kernelspec": {
   "display_name": "Python 3 (ipykernel)",
   "language": "python",
   "name": "python3"
  },
  "language_info": {
   "codemirror_mode": {
    "name": "ipython",
    "version": 3
   },
   "file_extension": ".py",
   "mimetype": "text/x-python",
   "name": "python",
   "nbconvert_exporter": "python",
   "pygments_lexer": "ipython3",
   "version": "3.9.7"
  }
 },
 "nbformat": 4,
 "nbformat_minor": 5
}
