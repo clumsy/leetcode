{
 "cells": [
  {
   "cell_type": "markdown",
   "id": "cd27334b-fc3f-48bf-a788-3e1e12ce6103",
   "metadata": {},
   "source": [
    "[Problem 2103](https://leetcode.com/problems/rings-and-rods/description)"
   ]
  },
  {
   "cell_type": "code",
   "execution_count": 2,
   "id": "7ba1d955-d4b5-4ecb-b9ba-26a3d7fdae48",
   "metadata": {},
   "outputs": [],
   "source": [
    "from typing import List"
   ]
  },
  {
   "cell_type": "code",
   "execution_count": 3,
   "id": "3f8447c6-fb37-4008-acf0-32eecf23d85f",
   "metadata": {},
   "outputs": [],
   "source": [
    "class Solution:\n",
    "    def countPoints(self, rings: str) -> int:\n",
    "        rods = [0] * 10\n",
    "        mask = {\n",
    "            \"R\": 0b001,\n",
    "            \"G\": 0b010,\n",
    "            \"B\": 0b100,\n",
    "        }\n",
    "        for pair in range(len(rings) // 2):\n",
    "            i = int(rings[2 * pair + 1])\n",
    "            rods[i] |= mask[rings[2 * pair]]\n",
    "        res = sum(r == 0b111 for r in rods)\n",
    "        return res"
   ]
  },
  {
   "cell_type": "code",
   "execution_count": 4,
   "id": "27159070-9cc5-4500-8f53-fa70a52df8d8",
   "metadata": {},
   "outputs": [],
   "source": [
    "sol = Solution()"
   ]
  },
  {
   "cell_type": "code",
   "execution_count": 5,
   "id": "2470a1df-97a1-4524-9d80-3e4a319a4bf6",
   "metadata": {},
   "outputs": [],
   "source": [
    "assert sol.countPoints(\"B0B6G0R6R0R6G9\") == 1"
   ]
  },
  {
   "cell_type": "code",
   "execution_count": 6,
   "id": "d3c851f5-37b4-4d46-a6ce-6ad2964d58e0",
   "metadata": {},
   "outputs": [],
   "source": [
    "assert sol.countPoints(\"B0R0G0R9R0B0G0\") == 1"
   ]
  },
  {
   "cell_type": "code",
   "execution_count": 7,
   "id": "590b7c66-0d4c-4dce-a260-6ed4ef4a28ec",
   "metadata": {},
   "outputs": [],
   "source": [
    "assert sol.countPoints(\"G4\") == 0"
   ]
  }
 ],
 "metadata": {
  "kernelspec": {
   "display_name": "Python 3 (ipykernel)",
   "language": "python",
   "name": "python3"
  },
  "language_info": {
   "codemirror_mode": {
    "name": "ipython",
    "version": 3
   },
   "file_extension": ".py",
   "mimetype": "text/x-python",
   "name": "python",
   "nbconvert_exporter": "python",
   "pygments_lexer": "ipython3",
   "version": "3.9.7"
  }
 },
 "nbformat": 4,
 "nbformat_minor": 5
}
