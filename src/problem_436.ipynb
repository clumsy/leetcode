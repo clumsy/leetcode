{
 "cells": [
  {
   "cell_type": "markdown",
   "id": "f2442ad1-0fc8-4fad-ac29-2818bf531cde",
   "metadata": {},
   "source": [
    "[Problem 436](https://leetcode.com/problems/find-right-interval/)"
   ]
  },
  {
   "cell_type": "code",
   "execution_count": 1,
   "id": "748ce932-485c-401a-84a7-addeddfd751a",
   "metadata": {},
   "outputs": [],
   "source": [
    "from typing import List\n",
    "from bisect import bisect_left"
   ]
  },
  {
   "cell_type": "code",
   "execution_count": 2,
   "id": "aedc3f9f-be96-4217-8564-2739ea35329c",
   "metadata": {},
   "outputs": [],
   "source": [
    "class Solution:\n",
    "    def findRightInterval(self, intervals: List[List[int]]) -> List[int]:\n",
    "        res, n = [], len(intervals)\n",
    "        a = sorted((e[0], i) for i, e in enumerate(intervals))\n",
    "        for i in intervals:\n",
    "            lo = bisect_left(a, (i[1],))\n",
    "            res.append(-1 if lo >= n else a[lo][1])\n",
    "        return res"
   ]
  },
  {
   "cell_type": "code",
   "execution_count": 3,
   "id": "5576012d-d121-4c64-9786-c1860c850a86",
   "metadata": {},
   "outputs": [],
   "source": [
    "sol = Solution()"
   ]
  },
  {
   "cell_type": "code",
   "execution_count": 4,
   "id": "b8bf977f-394c-4248-9c12-43800cc4a8a2",
   "metadata": {},
   "outputs": [],
   "source": [
    "assert sol.findRightInterval([[1,2]]) == [-1]"
   ]
  },
  {
   "cell_type": "code",
   "execution_count": 5,
   "id": "fec2b067-d3a7-4f71-b4f8-24b839bf5ed8",
   "metadata": {},
   "outputs": [],
   "source": [
    "assert sol.findRightInterval([[3,4],[2,3],[1,2]]) == [-1,0,1]"
   ]
  },
  {
   "cell_type": "code",
   "execution_count": 6,
   "id": "cf60f0c4-bd3c-4a9a-a891-68fc45478236",
   "metadata": {},
   "outputs": [],
   "source": [
    "assert sol.findRightInterval([[1,4],[2,3],[3,4]]) == [-1,2,-1]"
   ]
  }
 ],
 "metadata": {
  "kernelspec": {
   "display_name": "Python 3 (ipykernel)",
   "language": "python",
   "name": "python3"
  },
  "language_info": {
   "codemirror_mode": {
    "name": "ipython",
    "version": 3
   },
   "file_extension": ".py",
   "mimetype": "text/x-python",
   "name": "python",
   "nbconvert_exporter": "python",
   "pygments_lexer": "ipython3",
   "version": "3.9.7"
  }
 },
 "nbformat": 4,
 "nbformat_minor": 5
}
