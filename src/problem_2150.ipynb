{
 "cells": [
  {
   "cell_type": "markdown",
   "id": "39064fe2-5a75-41de-9895-1bd6f7dd3094",
   "metadata": {},
   "source": [
    "[Problem 2150](https://leetcode.com/problems/find-all-lonely-numbers-in-the-array/description)"
   ]
  },
  {
   "cell_type": "code",
   "execution_count": 5,
   "id": "48081570-cba0-4dd6-9e9e-40fe078a543f",
   "metadata": {},
   "outputs": [],
   "source": [
    "from typing import List\n",
    "from collections import Counter"
   ]
  },
  {
   "cell_type": "code",
   "execution_count": 6,
   "id": "3925ad9a-7f70-4c2f-8b0d-b30ad13dbd00",
   "metadata": {},
   "outputs": [],
   "source": [
    "class Solution:\n",
    "    def findLonely(self, nums: List[int]) -> List[int]:\n",
    "        res, cnt = [], Counter(nums)\n",
    "        for v in cnt:\n",
    "            if cnt[v] == 1 and cnt[v - 1] == cnt[v + 1] == 0:\n",
    "                res.append(v)\n",
    "        return res"
   ]
  },
  {
   "cell_type": "code",
   "execution_count": 7,
   "id": "8a255343-2f7d-446a-8ffd-c71452be6e32",
   "metadata": {},
   "outputs": [],
   "source": [
    "sol = Solution()"
   ]
  },
  {
   "cell_type": "code",
   "execution_count": 8,
   "id": "a0ad6cb3-01c5-469f-8eb5-e36f4aaedab6",
   "metadata": {},
   "outputs": [],
   "source": [
    "assert sol.findLonely([10,6,5,8]) == [10,8]"
   ]
  },
  {
   "cell_type": "code",
   "execution_count": 9,
   "id": "066472a7-38e1-464a-a997-12bb20cb5a35",
   "metadata": {},
   "outputs": [],
   "source": [
    "assert sol.findLonely([1,3,5,3,]) == [1,5]"
   ]
  }
 ],
 "metadata": {
  "kernelspec": {
   "display_name": "Python 3 (ipykernel)",
   "language": "python",
   "name": "python3"
  },
  "language_info": {
   "codemirror_mode": {
    "name": "ipython",
    "version": 3
   },
   "file_extension": ".py",
   "mimetype": "text/x-python",
   "name": "python",
   "nbconvert_exporter": "python",
   "pygments_lexer": "ipython3",
   "version": "3.9.7"
  }
 },
 "nbformat": 4,
 "nbformat_minor": 5
}
