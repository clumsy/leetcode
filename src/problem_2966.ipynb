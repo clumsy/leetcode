{
 "cells": [
  {
   "cell_type": "markdown",
   "id": "c6c2f696-74f1-4c35-88dc-994697634cb6",
   "metadata": {},
   "source": [
    "[Problem 2966](https://leetcode.com/problems/divide-array-into-arrays-with-max-difference/description)"
   ]
  },
  {
   "cell_type": "code",
   "execution_count": 1,
   "id": "fbb613c9-b4f4-4623-ba3c-1810ca126cf4",
   "metadata": {},
   "outputs": [],
   "source": [
    "from typing import List"
   ]
  },
  {
   "cell_type": "code",
   "execution_count": 2,
   "id": "a4daaf89-b242-483b-9cc8-a199af368b2c",
   "metadata": {},
   "outputs": [],
   "source": [
    "class Solution:\n",
    "    def divideArray(self, nums: List[int], k: int) -> List[List[int]]:\n",
    "        nums.sort()\n",
    "        res, n, cur = [], len(nums), []\n",
    "        for i in range(len(nums)):\n",
    "            cur.append(nums[i])\n",
    "            if len(cur) < 3:\n",
    "                continue\n",
    "            if cur[-1] - cur[0] <= k:\n",
    "                res.append(cur)\n",
    "                cur = []\n",
    "            else:\n",
    "                res = []\n",
    "                break\n",
    "        return res"
   ]
  },
  {
   "cell_type": "code",
   "execution_count": 3,
   "id": "faecb38b-2d97-4343-8c96-bf3453ceecbc",
   "metadata": {},
   "outputs": [],
   "source": [
    "sol = Solution()"
   ]
  },
  {
   "cell_type": "code",
   "execution_count": 4,
   "id": "b23a345d-cb44-475e-96d5-4f1be9dda5b4",
   "metadata": {},
   "outputs": [],
   "source": [
    "assert sol.divideArray([1,3,4,8,7,9,3,5,1], 2) == [[1,1,3],[3,4,5],[7,8,9]]"
   ]
  },
  {
   "cell_type": "code",
   "execution_count": 5,
   "id": "25d8be74-fa70-47e0-98d8-e1fc821a73bc",
   "metadata": {},
   "outputs": [],
   "source": [
    "assert sol.divideArray([1,3,3,2,7,3], 3) == []"
   ]
  }
 ],
 "metadata": {
  "kernelspec": {
   "display_name": "Python 3 (ipykernel)",
   "language": "python",
   "name": "python3"
  },
  "language_info": {
   "codemirror_mode": {
    "name": "ipython",
    "version": 3
   },
   "file_extension": ".py",
   "mimetype": "text/x-python",
   "name": "python",
   "nbconvert_exporter": "python",
   "pygments_lexer": "ipython3",
   "version": "3.9.7"
  }
 },
 "nbformat": 4,
 "nbformat_minor": 5
}
