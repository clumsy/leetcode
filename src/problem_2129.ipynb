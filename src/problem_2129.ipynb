{
 "cells": [
  {
   "cell_type": "markdown",
   "id": "9959070d-2325-4eec-b4aa-c841c1b30731",
   "metadata": {},
   "source": [
    "[Problem 2129](https://leetcode.com/problems/capitalize-the-title/description)"
   ]
  },
  {
   "cell_type": "code",
   "execution_count": 1,
   "id": "5c8701d4-f375-4472-8320-c526e93b0532",
   "metadata": {},
   "outputs": [],
   "source": [
    "class Solution:\n",
    "    def capitalizeTitle(self, title: str) -> str:\n",
    "        res = \" \".join(w.lower() if len(w) < 3 else w.title() for w in title.split())\n",
    "        return res"
   ]
  },
  {
   "cell_type": "code",
   "execution_count": 2,
   "id": "43262207-0695-4747-84fd-bd8153fbca94",
   "metadata": {},
   "outputs": [],
   "source": [
    "sol = Solution()"
   ]
  },
  {
   "cell_type": "code",
   "execution_count": 3,
   "id": "0529c48a-bbbb-4118-9683-a1ad62328d2d",
   "metadata": {},
   "outputs": [],
   "source": [
    "assert sol.capitalizeTitle(\"capiTalIze tHe titLe\") == \"Capitalize The Title\""
   ]
  },
  {
   "cell_type": "code",
   "execution_count": 4,
   "id": "7e72c681-5177-4be6-8072-fc5c5f6a3f5b",
   "metadata": {},
   "outputs": [],
   "source": [
    "assert sol.capitalizeTitle(\"First leTTeR of EACH Word\") == \"First Letter of Each Word\""
   ]
  },
  {
   "cell_type": "code",
   "execution_count": 5,
   "id": "d570bf3d-32dc-4747-8d41-8136c9d3b11a",
   "metadata": {},
   "outputs": [],
   "source": [
    "assert sol.capitalizeTitle(\"i lOve leetcode\") == \"i Love Leetcode\""
   ]
  }
 ],
 "metadata": {
  "kernelspec": {
   "display_name": "Python 3 (ipykernel)",
   "language": "python",
   "name": "python3"
  },
  "language_info": {
   "codemirror_mode": {
    "name": "ipython",
    "version": 3
   },
   "file_extension": ".py",
   "mimetype": "text/x-python",
   "name": "python",
   "nbconvert_exporter": "python",
   "pygments_lexer": "ipython3",
   "version": "3.9.7"
  }
 },
 "nbformat": 4,
 "nbformat_minor": 5
}
