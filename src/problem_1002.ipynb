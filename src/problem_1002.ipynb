{
 "cells": [
  {
   "cell_type": "markdown",
   "id": "39ab9b57-08e3-43b7-9ae2-c5f854bfbfc0",
   "metadata": {},
   "source": [
    "[Problem 1002](https://leetcode.com/problems/find-common-characters/description)"
   ]
  },
  {
   "cell_type": "code",
   "execution_count": 2,
   "id": "f2d49d2e-1c54-4f5e-b46e-7c355bf23822",
   "metadata": {},
   "outputs": [],
   "source": [
    "from typing import List\n",
    "from collections import Counter"
   ]
  },
  {
   "cell_type": "code",
   "execution_count": 8,
   "id": "7a49b136-5993-486b-aaef-7de69128f1ee",
   "metadata": {},
   "outputs": [],
   "source": [
    "class Solution:\n",
    "    def commonChars(self, words: List[str]) -> List[str]:\n",
    "        cnt = Counter(words[0])\n",
    "        for w in words[1:]:\n",
    "            cnt &= Counter(w)\n",
    "        res = list(cnt.elements())\n",
    "        return res"
   ]
  },
  {
   "cell_type": "code",
   "execution_count": 9,
   "id": "57b76517-ed0c-4825-9e52-d1700e7d2cb4",
   "metadata": {},
   "outputs": [],
   "source": [
    "sol = Solution()"
   ]
  },
  {
   "cell_type": "code",
   "execution_count": 10,
   "id": "82387191-3018-42ce-8bb6-c88b4b4a41ac",
   "metadata": {},
   "outputs": [],
   "source": [
    "assert sol.commonChars([\"bella\",\"label\",\"roller\"]) == [\"e\",\"l\",\"l\"]"
   ]
  },
  {
   "cell_type": "code",
   "execution_count": 13,
   "id": "22d60890-f691-4455-83e9-c7c0846b25aa",
   "metadata": {},
   "outputs": [],
   "source": [
    "assert sol.commonChars([\"cool\",\"lock\",\"cook\"]) == [\"c\",\"o\"]"
   ]
  }
 ],
 "metadata": {
  "kernelspec": {
   "display_name": "Python 3 (ipykernel)",
   "language": "python",
   "name": "python3"
  },
  "language_info": {
   "codemirror_mode": {
    "name": "ipython",
    "version": 3
   },
   "file_extension": ".py",
   "mimetype": "text/x-python",
   "name": "python",
   "nbconvert_exporter": "python",
   "pygments_lexer": "ipython3",
   "version": "3.9.7"
  }
 },
 "nbformat": 4,
 "nbformat_minor": 5
}
