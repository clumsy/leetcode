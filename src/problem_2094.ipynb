{
 "cells": [
  {
   "cell_type": "markdown",
   "id": "4f7d19e3-cdfe-4c19-8401-6e604c2237c2",
   "metadata": {},
   "source": [
    "[Problem 2094](https://leetcode.com/problems/finding-3-digit-even-numbers/description)"
   ]
  },
  {
   "cell_type": "code",
   "execution_count": 1,
   "id": "af702649-a2cb-4ecb-b7c6-d4a1b3a4509f",
   "metadata": {},
   "outputs": [],
   "source": [
    "from typing import List\n",
    "from collections import Counter"
   ]
  },
  {
   "cell_type": "code",
   "execution_count": 2,
   "id": "9d625fd3-fb6e-43bf-b323-4ca948619bfb",
   "metadata": {},
   "outputs": [],
   "source": [
    "class Solution:\n",
    "    def findEvenNumbers(self, digits: List[int]) -> List[int]:\n",
    "        digits.sort()\n",
    "\n",
    "        res = []\n",
    "        def dfs(i, s):\n",
    "            if len(s) == 3:\n",
    "                num = int(\"\".join(str(i) for i in s))\n",
    "                res.append(num)\n",
    "                return\n",
    "            digits[i] = None\n",
    "            for j, d in enumerate(digits):\n",
    "                if j > 0 and d == digits[j - 1]:\n",
    "                    continue\n",
    "                if d is not None and (len(s) == 1 or d & 1 == 0):\n",
    "                    s.append(d)\n",
    "                    dfs(j, s)\n",
    "                    s.pop()\n",
    "            digits[i] = s[-1]\n",
    "\n",
    "        for i, d in enumerate(digits):\n",
    "            if d > 0:\n",
    "                dfs(i, [d])\n",
    "\n",
    "        res = sorted(set(res))\n",
    "        return res"
   ]
  },
  {
   "cell_type": "code",
   "execution_count": 3,
   "id": "4ba68d51-a0b5-452d-9acb-46df8a7f24ac",
   "metadata": {},
   "outputs": [],
   "source": [
    "class Solution:\n",
    "    def findEvenNumbers(self, digits: List[int]) -> List[int]:\n",
    "        res, cnt = [], Counter(digits)\n",
    "        for i in range(1, 10):\n",
    "            for j in range(0, 10):\n",
    "                for k in range(0, 10, 2):\n",
    "                    if cnt[i] > 0 and cnt[j] > (i == j) and cnt[k] > (k == i) + (k == j):\n",
    "                        res.append(i * 100 + j * 10 + k)\n",
    "        return res"
   ]
  },
  {
   "cell_type": "code",
   "execution_count": 4,
   "id": "aba9d906-6b3d-4d92-a0f2-5964ffb3c0af",
   "metadata": {},
   "outputs": [],
   "source": [
    "sol = Solution()"
   ]
  },
  {
   "cell_type": "code",
   "execution_count": 5,
   "id": "9e610ad2-c862-4d56-b24a-d1f0407bdd65",
   "metadata": {},
   "outputs": [],
   "source": [
    "assert sol.findEvenNumbers([2,1,3,0]) == [102,120,130,132,210,230,302,310,312,320]"
   ]
  },
  {
   "cell_type": "code",
   "execution_count": 6,
   "id": "fbc15cec-f83e-472f-b007-2f7d292d8594",
   "metadata": {},
   "outputs": [],
   "source": [
    "assert sol.findEvenNumbers([2,2,8,8,2]) == [222,228,282,288,822,828,882]"
   ]
  },
  {
   "cell_type": "code",
   "execution_count": 7,
   "id": "f9da6a7d-f491-4778-8e32-1b47564573f1",
   "metadata": {},
   "outputs": [],
   "source": [
    "assert sol.findEvenNumbers([3,7,5]) == []"
   ]
  }
 ],
 "metadata": {
  "kernelspec": {
   "display_name": "Python 3 (ipykernel)",
   "language": "python",
   "name": "python3"
  },
  "language_info": {
   "codemirror_mode": {
    "name": "ipython",
    "version": 3
   },
   "file_extension": ".py",
   "mimetype": "text/x-python",
   "name": "python",
   "nbconvert_exporter": "python",
   "pygments_lexer": "ipython3",
   "version": "3.9.7"
  }
 },
 "nbformat": 4,
 "nbformat_minor": 5
}
