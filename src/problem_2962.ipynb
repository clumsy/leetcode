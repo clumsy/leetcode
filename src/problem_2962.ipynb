{
 "cells": [
  {
   "cell_type": "markdown",
   "id": "2c11a0fd-c1ac-4424-90a0-484ab2746fdd",
   "metadata": {},
   "source": [
    "[Problem 2962](https://leetcode.com/problems/count-subarrays-where-max-element-appears-at-least-k-times/description)"
   ]
  },
  {
   "cell_type": "code",
   "execution_count": 1,
   "id": "b6a9bdf2-af8e-455e-aa8e-d6805dfc661f",
   "metadata": {},
   "outputs": [],
   "source": [
    "from typing import List"
   ]
  },
  {
   "cell_type": "code",
   "execution_count": 2,
   "id": "1a5d0756-5af9-4c68-aa52-81350394369c",
   "metadata": {},
   "outputs": [],
   "source": [
    "class Solution:\n",
    "    def countSubarrays(self, nums: List[int], k: int) -> int:\n",
    "        n, ma = len(nums), max(nums)\n",
    "        res = lo = hi = 0\n",
    "        k -= nums[lo] == ma\n",
    "        while lo < n:\n",
    "            while hi + 1 < n and k > 0:\n",
    "                hi += 1\n",
    "                if nums[hi] == ma:\n",
    "                    k -= 1\n",
    "            if k == 0:\n",
    "                res += n - hi\n",
    "            k += nums[lo] == ma\n",
    "            lo += 1\n",
    "        return res"
   ]
  },
  {
   "cell_type": "code",
   "execution_count": 3,
   "id": "05dbd5e8-0c39-4873-966e-ce6751d11d91",
   "metadata": {},
   "outputs": [],
   "source": [
    "sol = Solution()"
   ]
  },
  {
   "cell_type": "code",
   "execution_count": 4,
   "id": "78f3e37e-c3c9-4843-b7d4-f9f62c55543e",
   "metadata": {},
   "outputs": [],
   "source": [
    "assert sol.countSubarrays([1,3,2,3,3], 2) == 6"
   ]
  },
  {
   "cell_type": "code",
   "execution_count": 5,
   "id": "1130eaaa-9705-42e2-a00b-c9b40ada7ef1",
   "metadata": {},
   "outputs": [],
   "source": [
    "assert sol.countSubarrays([1,4,2,1], 3) == 0"
   ]
  }
 ],
 "metadata": {
  "kernelspec": {
   "display_name": "Python 3 (ipykernel)",
   "language": "python",
   "name": "python3"
  },
  "language_info": {
   "codemirror_mode": {
    "name": "ipython",
    "version": 3
   },
   "file_extension": ".py",
   "mimetype": "text/x-python",
   "name": "python",
   "nbconvert_exporter": "python",
   "pygments_lexer": "ipython3",
   "version": "3.9.7"
  }
 },
 "nbformat": 4,
 "nbformat_minor": 5
}
