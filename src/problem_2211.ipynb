{
 "cells": [
  {
   "cell_type": "markdown",
   "id": "85835711-37be-4950-8067-e364b66b3d77",
   "metadata": {},
   "source": [
    "[Problem 2211](https://leetcode.com/problems/count-collisions-on-a-road/description)"
   ]
  },
  {
   "cell_type": "code",
   "execution_count": 1,
   "id": "85c88cb8-8fd6-41fe-88a6-aa4f22876d5f",
   "metadata": {},
   "outputs": [],
   "source": [
    "class Solution:\n",
    "    def countCollisions(self, d: str) -> int:\n",
    "        res = r = l = s = 0\n",
    "        for c in d:\n",
    "            if c in \"LS\":\n",
    "                if r > 0:\n",
    "                    res += r + (c == \"L\")\n",
    "                    r, s = 0, 1\n",
    "                else:\n",
    "                    if c == \"L\":\n",
    "                        l += 1\n",
    "                    else:\n",
    "                        res += l if s else 0\n",
    "                        l, s = 0, 1\n",
    "            else:\n",
    "                r += 1\n",
    "                res += l if s else 0\n",
    "                l = s = 0\n",
    "        res += l if s else 0\n",
    "        return res"
   ]
  },
  {
   "cell_type": "code",
   "execution_count": 2,
   "id": "874e93cd-97d5-4273-9cfb-9e21412ba027",
   "metadata": {},
   "outputs": [],
   "source": [
    "sol = Solution()"
   ]
  },
  {
   "cell_type": "code",
   "execution_count": 3,
   "id": "ce1c2709-6444-4b4b-a3fa-9d0035405fc8",
   "metadata": {},
   "outputs": [],
   "source": [
    "assert sol.countCollisions(\"RLRSLL\") == 5"
   ]
  },
  {
   "cell_type": "code",
   "execution_count": 4,
   "id": "f0cd7517-5703-45eb-9b4c-02c54a27617d",
   "metadata": {},
   "outputs": [],
   "source": [
    "assert sol.countCollisions(\"LLRR\") == 0"
   ]
  }
 ],
 "metadata": {
  "kernelspec": {
   "display_name": "Python 3 (ipykernel)",
   "language": "python",
   "name": "python3"
  },
  "language_info": {
   "codemirror_mode": {
    "name": "ipython",
    "version": 3
   },
   "file_extension": ".py",
   "mimetype": "text/x-python",
   "name": "python",
   "nbconvert_exporter": "python",
   "pygments_lexer": "ipython3",
   "version": "3.9.7"
  }
 },
 "nbformat": 4,
 "nbformat_minor": 5
}
