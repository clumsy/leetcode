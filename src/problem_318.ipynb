{
 "cells": [
  {
   "cell_type": "markdown",
   "id": "1ed2c7a8-6924-449a-8139-7c607cdb3d42",
   "metadata": {},
   "source": [
    "[Problem 318](https://leetcode.com/problems/maximum-product-of-word-lengths/description)"
   ]
  },
  {
   "cell_type": "code",
   "execution_count": 1,
   "id": "d69f91fa-c0d1-450b-ab11-2517decf463a",
   "metadata": {},
   "outputs": [],
   "source": [
    "from typing import List\n",
    "from collections import Counter"
   ]
  },
  {
   "cell_type": "code",
   "execution_count": 2,
   "id": "2c0774c1-ef13-4ef0-b3c9-0dd0e6923636",
   "metadata": {},
   "outputs": [],
   "source": [
    "class Solution:\n",
    "    def maxProduct(self, words: List[str]) -> int:\n",
    "        n = len(words)\n",
    "        for i in range(n):\n",
    "            words[i] = Counter(words[i])\n",
    "        res = 0\n",
    "        for i in range(n - 1):\n",
    "            for j in range(i + 1, n):\n",
    "                if len(words[i] & words[j]) == 0:\n",
    "                    res = max(res, words[i].total() * words[j].total())\n",
    "        return res"
   ]
  },
  {
   "cell_type": "code",
   "execution_count": 3,
   "id": "87a6ec2b-4f9f-4ae3-b068-d86f330c905e",
   "metadata": {},
   "outputs": [],
   "source": [
    "sol = Solution()"
   ]
  },
  {
   "cell_type": "code",
   "execution_count": 4,
   "id": "ed912b84-e71e-4910-99b8-022e7df4d9a0",
   "metadata": {},
   "outputs": [],
   "source": [
    "assert sol.maxProduct([\"abcw\",\"baz\",\"foo\",\"bar\",\"xtfn\",\"abcdef\"]) == 16"
   ]
  },
  {
   "cell_type": "code",
   "execution_count": 5,
   "id": "15638eb2-2c6d-444c-ae32-6c43b7ee1574",
   "metadata": {},
   "outputs": [],
   "source": [
    "assert sol.maxProduct([\"a\",\"ab\",\"abc\",\"d\",\"cd\",\"bcd\",\"abcd\"]) == 4"
   ]
  },
  {
   "cell_type": "code",
   "execution_count": 6,
   "id": "fa06dbe9-e4ee-4f25-9b23-33d8fb964a95",
   "metadata": {},
   "outputs": [],
   "source": [
    "assert sol.maxProduct([\"a\",\"aa\",\"aaa\",\"aaaa\"]) == 0"
   ]
  }
 ],
 "metadata": {
  "kernelspec": {
   "display_name": "Python [conda env:leetcode]",
   "language": "python",
   "name": "conda-env-leetcode-py"
  },
  "language_info": {
   "codemirror_mode": {
    "name": "ipython",
    "version": 3
   },
   "file_extension": ".py",
   "mimetype": "text/x-python",
   "name": "python",
   "nbconvert_exporter": "python",
   "pygments_lexer": "ipython3",
   "version": "3.10.9"
  }
 },
 "nbformat": 4,
 "nbformat_minor": 5
}
