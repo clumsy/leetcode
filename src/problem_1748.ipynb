{
 "cells": [
  {
   "cell_type": "markdown",
   "id": "1cfef7c7-6a28-4c03-a2bb-69ca1148a303",
   "metadata": {},
   "source": [
    "[Problem 1748](https://leetcode.com/problems/sum-of-unique-elements/description)"
   ]
  },
  {
   "cell_type": "code",
   "execution_count": 1,
   "id": "9a76ec43-fa1d-4f04-8e8f-71c6ef445f5c",
   "metadata": {},
   "outputs": [],
   "source": [
    "from typing import List\n",
    "from collections import Counter"
   ]
  },
  {
   "cell_type": "code",
   "execution_count": 2,
   "id": "4afd35a5-805b-4358-b341-58c12590d8f5",
   "metadata": {},
   "outputs": [],
   "source": [
    "class Solution:\n",
    "    def sumOfUnique(self, nums: List[int]) -> int:\n",
    "        res = sum(k for k, v in Counter(nums).items() if v == 1)\n",
    "        return res"
   ]
  },
  {
   "cell_type": "code",
   "execution_count": 3,
   "id": "c48975a8-1534-4262-bdbf-8d304d3f31af",
   "metadata": {},
   "outputs": [],
   "source": [
    "sol = Solution()"
   ]
  },
  {
   "cell_type": "code",
   "execution_count": 4,
   "id": "6b5d9d9f-7c41-4b20-a743-192f8a8d6488",
   "metadata": {},
   "outputs": [],
   "source": [
    "assert sol.sumOfUnique([1,2,3,2]) == 4"
   ]
  },
  {
   "cell_type": "code",
   "execution_count": 5,
   "id": "a1dadae0-12b4-461e-b6e1-1edcbb4615d8",
   "metadata": {},
   "outputs": [],
   "source": [
    "assert sol.sumOfUnique([1,1,1,1,1]) == 0"
   ]
  },
  {
   "cell_type": "code",
   "execution_count": 6,
   "id": "dfdf93ae-6046-4851-aad7-93633f090c29",
   "metadata": {},
   "outputs": [],
   "source": [
    "assert sol.sumOfUnique([1,2,3,4,5]) == 15"
   ]
  }
 ],
 "metadata": {
  "kernelspec": {
   "display_name": "Python 3 (ipykernel)",
   "language": "python",
   "name": "python3"
  },
  "language_info": {
   "codemirror_mode": {
    "name": "ipython",
    "version": 3
   },
   "file_extension": ".py",
   "mimetype": "text/x-python",
   "name": "python",
   "nbconvert_exporter": "python",
   "pygments_lexer": "ipython3",
   "version": "3.9.7"
  }
 },
 "nbformat": 4,
 "nbformat_minor": 5
}
