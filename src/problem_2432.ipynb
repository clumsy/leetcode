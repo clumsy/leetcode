{
 "cells": [
  {
   "cell_type": "markdown",
   "id": "78d379a8-e5ce-4e3d-aeee-e9163fc4a1be",
   "metadata": {},
   "source": [
    "[Problem 2432](https://leetcode.com/problems/the-employee-that-worked-on-the-longest-task/description)"
   ]
  },
  {
   "cell_type": "code",
   "execution_count": 1,
   "id": "a3a5dbc7-d43a-4ca8-88a8-d8784c6e8fc2",
   "metadata": {},
   "outputs": [],
   "source": [
    "from typing import List\n",
    "from math import inf"
   ]
  },
  {
   "cell_type": "code",
   "execution_count": 2,
   "id": "1f014979-cb4d-4f83-989a-11512f703a51",
   "metadata": {},
   "outputs": [],
   "source": [
    "class Solution:\n",
    "    def hardestWorker(self, n: int, logs: List[List[int]]) -> int:\n",
    "        res, ma, prv = inf, 0, 0\n",
    "        for i, l in logs:\n",
    "            d = l - prv\n",
    "            if d >= ma:\n",
    "                res = min(res, i) if d == ma else i\n",
    "                ma = d\n",
    "            prv = l\n",
    "        return res"
   ]
  },
  {
   "cell_type": "code",
   "execution_count": 3,
   "id": "2771d0b3-b0c3-43a6-9292-281f531806c3",
   "metadata": {},
   "outputs": [],
   "source": [
    "sol = Solution()"
   ]
  },
  {
   "cell_type": "code",
   "execution_count": 4,
   "id": "181326fe-f0a2-4a9a-acf4-cc9777dcf57e",
   "metadata": {},
   "outputs": [],
   "source": [
    "assert sol.hardestWorker(10, [[0,3],[2,5],[0,9],[1,15]]) == 1"
   ]
  },
  {
   "cell_type": "code",
   "execution_count": 5,
   "id": "656e89be-b7a9-4a43-8729-8611ef8c6a3f",
   "metadata": {},
   "outputs": [],
   "source": [
    "assert sol.hardestWorker(26, [[1,1],[3,7],[2,12],[7,17]]) == 3"
   ]
  },
  {
   "cell_type": "code",
   "execution_count": 6,
   "id": "bbac9a25-52ab-4fb2-ad82-90360bcc2625",
   "metadata": {},
   "outputs": [],
   "source": [
    "assert sol.hardestWorker(2, [[0,10],[1,20]]) == 0"
   ]
  }
 ],
 "metadata": {
  "kernelspec": {
   "display_name": "Python 3 (ipykernel)",
   "language": "python",
   "name": "python3"
  },
  "language_info": {
   "codemirror_mode": {
    "name": "ipython",
    "version": 3
   },
   "file_extension": ".py",
   "mimetype": "text/x-python",
   "name": "python",
   "nbconvert_exporter": "python",
   "pygments_lexer": "ipython3",
   "version": "3.9.7"
  }
 },
 "nbformat": 4,
 "nbformat_minor": 5
}
