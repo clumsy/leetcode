{
 "cells": [
  {
   "cell_type": "markdown",
   "id": "a17a9185-240d-436d-9022-fcf02ba47958",
   "metadata": {},
   "source": [
    "[Problem 832](https://leetcode.com/problems/flipping-an-image/description)"
   ]
  },
  {
   "cell_type": "code",
   "execution_count": 1,
   "id": "f2584e49-17a1-45e3-ba2b-a9eecc52cbe1",
   "metadata": {},
   "outputs": [],
   "source": [
    "from typing import List"
   ]
  },
  {
   "cell_type": "code",
   "execution_count": 2,
   "id": "b88df14f-ec82-4f42-8dfc-6eac4022d016",
   "metadata": {},
   "outputs": [],
   "source": [
    "class Solution:\n",
    "    def flipAndInvertImage(self, image: List[List[int]]) -> List[List[int]]:\n",
    "        n = len(image)\n",
    "        for r in image:\n",
    "            for i in range((n + 1) // 2):\n",
    "                r[i], r[n - 1 - i] = 1 - r[n - 1 - i], 1 - r[i]\n",
    "        return image"
   ]
  },
  {
   "cell_type": "code",
   "execution_count": 3,
   "id": "66fd7873-76b9-45a9-bcd5-2b8291f896b7",
   "metadata": {},
   "outputs": [],
   "source": [
    "sol = Solution()"
   ]
  },
  {
   "cell_type": "code",
   "execution_count": 4,
   "id": "be3b1814-9a74-4965-aeb1-3247844bab4f",
   "metadata": {},
   "outputs": [],
   "source": [
    "assert sol.flipAndInvertImage([[1,1,0],[1,0,1],[0,0,0]]) == [[1,0,0],[0,1,0],[1,1,1]]"
   ]
  },
  {
   "cell_type": "code",
   "execution_count": 5,
   "id": "16562dd1-ebc7-4fa2-8c32-e3961be1bf6a",
   "metadata": {},
   "outputs": [],
   "source": [
    "assert sol.flipAndInvertImage([[1,1,0,0],[1,0,0,1],[0,1,1,1],[1,0,1,0]]) == [[1,1,0,0],[0,1,1,0],[0,0,0,1],[1,0,1,0]]"
   ]
  }
 ],
 "metadata": {
  "kernelspec": {
   "display_name": "Python 3 (ipykernel)",
   "language": "python",
   "name": "python3"
  },
  "language_info": {
   "codemirror_mode": {
    "name": "ipython",
    "version": 3
   },
   "file_extension": ".py",
   "mimetype": "text/x-python",
   "name": "python",
   "nbconvert_exporter": "python",
   "pygments_lexer": "ipython3",
   "version": "3.9.7"
  }
 },
 "nbformat": 4,
 "nbformat_minor": 5
}
