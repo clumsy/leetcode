{
 "cells": [
  {
   "cell_type": "markdown",
   "id": "b9623f12-79ef-4d4d-8e4f-f28b29d00525",
   "metadata": {},
   "source": [
    "[Problem 2682](https://leetcode.com/problems/find-the-losers-of-the-circular-game/description)"
   ]
  },
  {
   "cell_type": "code",
   "execution_count": 1,
   "id": "99ab87d5-1068-4e5a-86ca-41bdc63377a4",
   "metadata": {},
   "outputs": [],
   "source": [
    "from typing import List"
   ]
  },
  {
   "cell_type": "code",
   "execution_count": 2,
   "id": "24b952ef-c1de-4b63-acb6-6767ed97db7f",
   "metadata": {},
   "outputs": [],
   "source": [
    "class Solution:\n",
    "    def circularGameLosers(self, n: int, k: int) -> List[int]:\n",
    "        not_rcvd = set(range(1, n + 1))\n",
    "        c = i = 0\n",
    "        while True:\n",
    "            c = (c + i * k) % n\n",
    "            if c + 1 not in not_rcvd:\n",
    "                break\n",
    "            not_rcvd.remove(c + 1)\n",
    "            i += 1\n",
    "        res = sorted(not_rcvd)\n",
    "        return res"
   ]
  },
  {
   "cell_type": "code",
   "execution_count": 3,
   "id": "2f606e05-11b6-4ee9-8f98-bc987b1b9afc",
   "metadata": {},
   "outputs": [],
   "source": [
    "sol = Solution()"
   ]
  },
  {
   "cell_type": "code",
   "execution_count": 4,
   "id": "37a28bea-4e85-4973-93d5-e3d31dee47da",
   "metadata": {},
   "outputs": [],
   "source": [
    "assert sol.circularGameLosers(5, 2) == [4,5]"
   ]
  },
  {
   "cell_type": "code",
   "execution_count": 5,
   "id": "e1c4eba2-63c8-4b21-8ac7-8d489d16087e",
   "metadata": {},
   "outputs": [],
   "source": [
    "assert sol.circularGameLosers(4, 4) == [2,3,4]"
   ]
  }
 ],
 "metadata": {
  "kernelspec": {
   "display_name": "Python 3 (ipykernel)",
   "language": "python",
   "name": "python3"
  },
  "language_info": {
   "codemirror_mode": {
    "name": "ipython",
    "version": 3
   },
   "file_extension": ".py",
   "mimetype": "text/x-python",
   "name": "python",
   "nbconvert_exporter": "python",
   "pygments_lexer": "ipython3",
   "version": "3.9.7"
  }
 },
 "nbformat": 4,
 "nbformat_minor": 5
}
