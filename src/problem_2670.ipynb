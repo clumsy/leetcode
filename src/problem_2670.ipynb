{
 "cells": [
  {
   "cell_type": "markdown",
   "id": "03da7e47-967c-4fae-a4d0-9c863fa51b4e",
   "metadata": {},
   "source": [
    "[Problem 2670](https://leetcode.com/problems/find-the-distinct-difference-array/description)"
   ]
  },
  {
   "cell_type": "code",
   "execution_count": 1,
   "id": "d2f499e5-ce0e-4101-b657-6d4c2d937da4",
   "metadata": {},
   "outputs": [],
   "source": [
    "from typing import List\n",
    "from collections import Counter"
   ]
  },
  {
   "cell_type": "code",
   "execution_count": 2,
   "id": "5665828d-57d0-4f55-aeba-dbd83e6e8150",
   "metadata": {},
   "outputs": [],
   "source": [
    "class Solution:\n",
    "    def distinctDifferenceArray(self, nums: List[int]) -> List[int]:\n",
    "        lft, rgt, n = Counter(), Counter(nums), len(nums)\n",
    "        res = [None] * n\n",
    "        for i in range(n):\n",
    "            num = nums[i]\n",
    "            lft[num] += 1\n",
    "            rgt[num] -= 1\n",
    "            if rgt[num] == 0:\n",
    "                del rgt[num]\n",
    "            res[i] = len(lft) - len(rgt)\n",
    "        return res"
   ]
  },
  {
   "cell_type": "code",
   "execution_count": 3,
   "id": "c0b1174e-12fb-4b85-8609-3cf751761371",
   "metadata": {},
   "outputs": [],
   "source": [
    "sol = Solution()"
   ]
  },
  {
   "cell_type": "code",
   "execution_count": 4,
   "id": "8082d00c-0e32-4b07-aa97-a3e603d054ea",
   "metadata": {},
   "outputs": [],
   "source": [
    "assert sol.distinctDifferenceArray([1,2,3,4,5]) == [-3,-1,1,3,5]"
   ]
  },
  {
   "cell_type": "code",
   "execution_count": 5,
   "id": "53d45eb2-b5cf-4bb1-a8ee-7116293b4feb",
   "metadata": {},
   "outputs": [],
   "source": [
    "assert sol.distinctDifferenceArray([3,2,3,4,2]) == [-2,-1,0,2,3]"
   ]
  }
 ],
 "metadata": {
  "kernelspec": {
   "display_name": "Python 3 (ipykernel)",
   "language": "python",
   "name": "python3"
  },
  "language_info": {
   "codemirror_mode": {
    "name": "ipython",
    "version": 3
   },
   "file_extension": ".py",
   "mimetype": "text/x-python",
   "name": "python",
   "nbconvert_exporter": "python",
   "pygments_lexer": "ipython3",
   "version": "3.9.7"
  }
 },
 "nbformat": 4,
 "nbformat_minor": 5
}
