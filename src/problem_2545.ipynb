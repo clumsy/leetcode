{
 "cells": [
  {
   "cell_type": "markdown",
   "id": "78bc8ac7-f5b7-4c9e-af42-033aa1582e4d",
   "metadata": {},
   "source": [
    "[Problem 2545](https://leetcode.com/problems/sort-the-students-by-their-kth-score/description)"
   ]
  },
  {
   "cell_type": "code",
   "execution_count": 1,
   "id": "4c8e23c6-3d1e-4699-aceb-3073752dede9",
   "metadata": {},
   "outputs": [],
   "source": [
    "from typing import List"
   ]
  },
  {
   "cell_type": "code",
   "execution_count": 2,
   "id": "b3fdb311-7865-4fb7-84b6-14a40954fec0",
   "metadata": {},
   "outputs": [],
   "source": [
    "class Solution:\n",
    "    def sortTheStudents(self, score: List[List[int]], k: int) -> List[List[int]]:\n",
    "        def order(lst):\n",
    "            return -lst[k]\n",
    "        score.sort(key=order)\n",
    "        res = score\n",
    "        return res"
   ]
  },
  {
   "cell_type": "code",
   "execution_count": 3,
   "id": "9d1812cd-f64e-422a-b160-ef15abb92086",
   "metadata": {},
   "outputs": [],
   "source": [
    "sol = Solution()"
   ]
  },
  {
   "cell_type": "code",
   "execution_count": 4,
   "id": "a9506188-fa55-471e-80d9-a0b3a31bcf7b",
   "metadata": {},
   "outputs": [],
   "source": [
    "assert sol.sortTheStudents([[10,6,9,1],[7,5,11,2],[4,8,3,15]], 2) == [[7,5,11,2],[10,6,9,1],[4,8,3,15]]"
   ]
  },
  {
   "cell_type": "code",
   "execution_count": 5,
   "id": "abf10480-62ce-43b5-ac64-8b9bf062f28d",
   "metadata": {},
   "outputs": [],
   "source": [
    "assert sol.sortTheStudents([[3,4],[5,6]], 0) == [[5,6],[3,4]]"
   ]
  }
 ],
 "metadata": {
  "kernelspec": {
   "display_name": "Python 3 (ipykernel)",
   "language": "python",
   "name": "python3"
  },
  "language_info": {
   "codemirror_mode": {
    "name": "ipython",
    "version": 3
   },
   "file_extension": ".py",
   "mimetype": "text/x-python",
   "name": "python",
   "nbconvert_exporter": "python",
   "pygments_lexer": "ipython3",
   "version": "3.9.7"
  }
 },
 "nbformat": 4,
 "nbformat_minor": 5
}
