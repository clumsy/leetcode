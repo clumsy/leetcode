{
 "cells": [
  {
   "cell_type": "markdown",
   "id": "63c085e7-0d0a-46ce-9e46-1c20f9d95b5a",
   "metadata": {},
   "source": [
    "[Problem 2487](https://leetcode.com/problems/remove-nodes-from-linked-list/description)"
   ]
  },
  {
   "cell_type": "code",
   "execution_count": 24,
   "id": "183cc028-65a8-450d-8d4e-eb988f099c5e",
   "metadata": {},
   "outputs": [],
   "source": [
    "# Definition for singly-linked list.\n",
    "class ListNode:\n",
    "    def __init__(self, val=0, next=None):\n",
    "        self.val = val\n",
    "        self.next = next\n",
    "\n",
    "    def __eq__(self, other):\n",
    "        return self.val == other.val and self.next == other.next"
   ]
  },
  {
   "cell_type": "code",
   "execution_count": 25,
   "id": "8cb1b865-7557-445e-966b-1751992e0904",
   "metadata": {},
   "outputs": [],
   "source": [
    "from typing import Optional\n",
    "from collections import deque"
   ]
  },
  {
   "cell_type": "code",
   "execution_count": 26,
   "id": "f532ad1e-f9b8-450b-9348-de9224f47f99",
   "metadata": {},
   "outputs": [],
   "source": [
    "class Solution:\n",
    "    def removeNodes(self, head: Optional[ListNode]) -> Optional[ListNode]:\n",
    "        stack = deque()\n",
    "        while head:\n",
    "            while stack and stack[-1].val < head.val:\n",
    "                stack.pop()\n",
    "            stack.append(head)\n",
    "            head = head.next\n",
    "        head = None\n",
    "        while stack:\n",
    "            stack[-1].next = head\n",
    "            head = stack.pop()\n",
    "        return head"
   ]
  },
  {
   "cell_type": "code",
   "execution_count": 27,
   "id": "f2d1e01a-0084-4fe2-8821-1ed64d057c65",
   "metadata": {},
   "outputs": [],
   "source": [
    "sol = Solution()"
   ]
  },
  {
   "cell_type": "code",
   "execution_count": 28,
   "id": "4878f867-6aa0-4644-941a-72dcebb65393",
   "metadata": {},
   "outputs": [],
   "source": [
    "def as_list(vals):\n",
    "    head = cur = ListNode()\n",
    "    for i in vals:\n",
    "        cur.next = ListNode(i)\n",
    "        cur = cur.next\n",
    "    return head.next"
   ]
  },
  {
   "cell_type": "code",
   "execution_count": 29,
   "id": "8941bbdc-0e9a-44e9-8e41-7d2ea97d5bfc",
   "metadata": {},
   "outputs": [],
   "source": [
    "assert sol.removeNodes(as_list([5,2,13,3,8])) == as_list([13,8])"
   ]
  },
  {
   "cell_type": "code",
   "execution_count": 30,
   "id": "cd3d17c0-4c7e-410f-a026-8fa1553bbb35",
   "metadata": {},
   "outputs": [],
   "source": [
    "assert sol.removeNodes(as_list([1,1,1,1])) == as_list([1,1,1,1])"
   ]
  }
 ],
 "metadata": {
  "kernelspec": {
   "display_name": "Python 3 (ipykernel)",
   "language": "python",
   "name": "python3"
  },
  "language_info": {
   "codemirror_mode": {
    "name": "ipython",
    "version": 3
   },
   "file_extension": ".py",
   "mimetype": "text/x-python",
   "name": "python",
   "nbconvert_exporter": "python",
   "pygments_lexer": "ipython3",
   "version": "3.9.7"
  }
 },
 "nbformat": 4,
 "nbformat_minor": 5
}
