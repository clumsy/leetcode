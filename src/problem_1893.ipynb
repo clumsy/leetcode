{
 "cells": [
  {
   "cell_type": "markdown",
   "id": "a97737d3-286d-43a5-932f-06c25380b94b",
   "metadata": {},
   "source": [
    "[Problem 1893](https://leetcode.com/problems/check-if-all-the-integers-in-a-range-are-covered/description)"
   ]
  },
  {
   "cell_type": "code",
   "execution_count": 1,
   "id": "5cc4c00f-45b5-42c6-890a-be3519c691a1",
   "metadata": {},
   "outputs": [],
   "source": [
    "from typing import List\n",
    "from itertools import accumulate"
   ]
  },
  {
   "cell_type": "code",
   "execution_count": 2,
   "id": "53c20156-da26-43f1-bad7-cf8d23345ff6",
   "metadata": {},
   "outputs": [],
   "source": [
    "class Solution:\n",
    "    def isCovered(self, ranges: List[List[int]], left: int, right: int) -> bool:\n",
    "        rng = [0] * 52\n",
    "        for s, e in ranges:\n",
    "            rng[s] += 1\n",
    "            rng[e + 1] -= 1\n",
    "        rng = list(accumulate(rng))\n",
    "        res = True\n",
    "        for i in range(left, right + 1):\n",
    "            if rng[i] < 1:\n",
    "                res = False\n",
    "                break\n",
    "        return res"
   ]
  },
  {
   "cell_type": "code",
   "execution_count": 3,
   "id": "2214f195-5511-4f40-bdc4-63089964cb03",
   "metadata": {},
   "outputs": [],
   "source": [
    "sol = Solution()"
   ]
  },
  {
   "cell_type": "code",
   "execution_count": 4,
   "id": "90e517e1-7fe3-4fac-9a4b-172576eaf615",
   "metadata": {},
   "outputs": [],
   "source": [
    "assert sol.isCovered([[1,2],[3,4],[5,6]], 2, 5)"
   ]
  },
  {
   "cell_type": "code",
   "execution_count": 5,
   "id": "e218d3ea-64e9-4626-b704-88ee60400ac0",
   "metadata": {},
   "outputs": [],
   "source": [
    "assert not sol.isCovered([[1,10],[10,20]], 21, 21)"
   ]
  }
 ],
 "metadata": {
  "kernelspec": {
   "display_name": "Python 3 (ipykernel)",
   "language": "python",
   "name": "python3"
  },
  "language_info": {
   "codemirror_mode": {
    "name": "ipython",
    "version": 3
   },
   "file_extension": ".py",
   "mimetype": "text/x-python",
   "name": "python",
   "nbconvert_exporter": "python",
   "pygments_lexer": "ipython3",
   "version": "3.9.7"
  }
 },
 "nbformat": 4,
 "nbformat_minor": 5
}
