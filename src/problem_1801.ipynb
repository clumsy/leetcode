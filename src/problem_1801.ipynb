{
 "cells": [
  {
   "cell_type": "markdown",
   "id": "5136a1c6-6372-43f1-966a-88624bbc0328",
   "metadata": {},
   "source": [
    "[Problem 1801](https://leetcode.com/problems/number-of-orders-in-the-backlog/description)"
   ]
  },
  {
   "cell_type": "code",
   "execution_count": 1,
   "id": "fe682227-21c3-4b25-b9ec-162e06699495",
   "metadata": {},
   "outputs": [],
   "source": [
    "from typing import List\n",
    "from bisect import insort"
   ]
  },
  {
   "cell_type": "code",
   "execution_count": 2,
   "id": "fa7237ca-b26c-4947-8d9b-316a78a6d876",
   "metadata": {},
   "outputs": [],
   "source": [
    "class Solution:\n",
    "    def getNumberOfBacklogOrders(self, orders: List[List[int]]) -> int:\n",
    "        buys, sells = [], []\n",
    "        for p, a, t in orders:\n",
    "            if t == 0:  # a buy\n",
    "                while sells and a:\n",
    "                    sp, sa = sells[0]\n",
    "                    if sp > p:\n",
    "                        break\n",
    "                    ma = min(sa, a)\n",
    "                    sa -= ma\n",
    "                    if sa == 0:\n",
    "                        sells = sells[1:]\n",
    "                    else:\n",
    "                        sells[0][1] = sa\n",
    "                    a -= ma\n",
    "                if a > 0:\n",
    "                    insort(buys, [p, a])\n",
    "            else:  # a sell\n",
    "                while buys and a:\n",
    "                    bp, ba = buys[-1]\n",
    "                    if bp < p:\n",
    "                        break\n",
    "                    ma = min(ba, a)\n",
    "                    ba -= ma\n",
    "                    if ba == 0:\n",
    "                        buys = buys[:-1]\n",
    "                    else:\n",
    "                        buys[-1][1] = ba\n",
    "                    a -= ma\n",
    "                if a > 0:\n",
    "                    insort(sells, [p, a])\n",
    "        res = (sum(a for _, a in buys) + sum(a for _, a in sells)) % int(1e9 + 7)\n",
    "        return res"
   ]
  },
  {
   "cell_type": "code",
   "execution_count": 3,
   "id": "a59bacb4-ca6b-45a6-aa48-dd34180fcc4d",
   "metadata": {},
   "outputs": [],
   "source": [
    "sol = Solution()"
   ]
  },
  {
   "cell_type": "code",
   "execution_count": 4,
   "id": "221a420f-e5e2-479c-ac40-f5545531bb6b",
   "metadata": {},
   "outputs": [],
   "source": [
    "assert sol.getNumberOfBacklogOrders([[10,5,0],[15,2,1],[25,1,1],[30,4,0]]) == 6"
   ]
  },
  {
   "cell_type": "code",
   "execution_count": 5,
   "id": "3e138253-adcc-491a-a0f0-5fe23e27be28",
   "metadata": {},
   "outputs": [],
   "source": [
    "assert sol.getNumberOfBacklogOrders([[7,1000000000,1],[15,3,0],[5,999999995,0],[5,1,1]]) == 999999984"
   ]
  }
 ],
 "metadata": {
  "kernelspec": {
   "display_name": "Python 3 (ipykernel)",
   "language": "python",
   "name": "python3"
  },
  "language_info": {
   "codemirror_mode": {
    "name": "ipython",
    "version": 3
   },
   "file_extension": ".py",
   "mimetype": "text/x-python",
   "name": "python",
   "nbconvert_exporter": "python",
   "pygments_lexer": "ipython3",
   "version": "3.9.7"
  }
 },
 "nbformat": 4,
 "nbformat_minor": 5
}
