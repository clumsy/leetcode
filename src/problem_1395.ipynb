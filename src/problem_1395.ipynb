{
 "cells": [
  {
   "cell_type": "markdown",
   "id": "6a7d38e2-abf9-45c4-ba99-a048d2da0a64",
   "metadata": {},
   "source": [
    "[Problem 1395](https://leetcode.com/problems/count-number-of-teams)"
   ]
  },
  {
   "cell_type": "code",
   "execution_count": 5,
   "id": "2084646e-ba46-481d-9485-59c64100172c",
   "metadata": {},
   "outputs": [],
   "source": [
    "from typing import List\n",
    "from bisect import insort, bisect_left, bisect_right"
   ]
  },
  {
   "cell_type": "code",
   "execution_count": 6,
   "id": "ad7f167d-c8d0-46df-a9e0-de703b4026ca",
   "metadata": {},
   "outputs": [],
   "source": [
    "class Solution:\n",
    "    def numTeams(self, rating: List[int]) -> int:\n",
    "        left, right = [rating[0]], sorted(rating[1:])\n",
    "        n, res = len(rating), 0\n",
    "        for i in range(1, n - 1):\n",
    "            r = rating[i]\n",
    "\n",
    "            # remove r from right\n",
    "            hi = bisect_left(right, r)\n",
    "            right = right[:hi] + right[hi + 1:]\n",
    "\n",
    "            # count i < j < k\n",
    "            lo = bisect_right(left, r)\n",
    "            hi = bisect_left(right, r)\n",
    "            res += lo * (n - i - 1 - hi)\n",
    "\n",
    "            # count i > j > k\n",
    "            lo = bisect_left(left, r)\n",
    "            hi = bisect_right(right, r)\n",
    "            res += (i - lo) * hi\n",
    "\n",
    "            # add r to left\n",
    "            insort(left, r)\n",
    "        return res"
   ]
  },
  {
   "cell_type": "code",
   "execution_count": 7,
   "id": "f03b0a1e-6f81-47a2-b878-6173dbd33f45",
   "metadata": {},
   "outputs": [],
   "source": [
    "sol = Solution()"
   ]
  },
  {
   "cell_type": "code",
   "execution_count": 8,
   "id": "ce1dbec5-cf3e-4013-bff0-1ff945d80160",
   "metadata": {},
   "outputs": [],
   "source": [
    "assert sol.numTeams([2,5,3,4,1]) == 3"
   ]
  },
  {
   "cell_type": "code",
   "execution_count": 9,
   "id": "8bf22546-6096-4795-864d-2429b5526b1e",
   "metadata": {},
   "outputs": [],
   "source": [
    "assert sol.numTeams([2,1,3]) == 0"
   ]
  },
  {
   "cell_type": "code",
   "execution_count": 10,
   "id": "c7a7af60-0652-44ed-8b3f-1f6c54c72698",
   "metadata": {},
   "outputs": [],
   "source": [
    "assert sol.numTeams([1,2,3,4]) == 4"
   ]
  }
 ],
 "metadata": {
  "kernelspec": {
   "display_name": "Python 3 (ipykernel)",
   "language": "python",
   "name": "python3"
  },
  "language_info": {
   "codemirror_mode": {
    "name": "ipython",
    "version": 3
   },
   "file_extension": ".py",
   "mimetype": "text/x-python",
   "name": "python",
   "nbconvert_exporter": "python",
   "pygments_lexer": "ipython3",
   "version": "3.9.7"
  }
 },
 "nbformat": 4,
 "nbformat_minor": 5
}
