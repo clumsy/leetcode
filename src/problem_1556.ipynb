{
 "cells": [
  {
   "cell_type": "markdown",
   "id": "6835fb9d-1fb1-443e-8eb3-78c00c63a5f8",
   "metadata": {},
   "source": [
    "[Problem 1556](https://leetcode.com/problems/thousand-separator/description)"
   ]
  },
  {
   "cell_type": "code",
   "execution_count": 1,
   "id": "c58d154c-bed7-4d53-8bda-331679f23993",
   "metadata": {},
   "outputs": [],
   "source": [
    "class Solution:\n",
    "    def thousandSeparator(self, n: int) -> str:\n",
    "        size = len(str(n))\n",
    "        if size < 4:\n",
    "            res = str(n)\n",
    "        else:\n",
    "            size += (size - 1) // 3\n",
    "            res = [\".\"] * size\n",
    "            i = -1\n",
    "            while n:\n",
    "                size -= 1\n",
    "                if (len(res) - size) % 4 == 0:\n",
    "                    continue\n",
    "                n, d = divmod(n, 10)\n",
    "                res[size] = str(d)\n",
    "            res = \"\".join(res)\n",
    "        return res"
   ]
  },
  {
   "cell_type": "code",
   "execution_count": 2,
   "id": "e455dec2-4a96-43cf-8965-6b288f7dafae",
   "metadata": {},
   "outputs": [],
   "source": [
    "sol = Solution()"
   ]
  },
  {
   "cell_type": "code",
   "execution_count": 3,
   "id": "385b4bc4-9eed-4c54-bfda-a4a9f9d37a28",
   "metadata": {},
   "outputs": [],
   "source": [
    "assert sol.thousandSeparator(987) == \"987\""
   ]
  },
  {
   "cell_type": "code",
   "execution_count": 4,
   "id": "cc1b6f70-d5a6-40c1-a362-26dba1a5fa79",
   "metadata": {},
   "outputs": [],
   "source": [
    "assert sol.thousandSeparator(1234) == \"1.234\""
   ]
  }
 ],
 "metadata": {
  "kernelspec": {
   "display_name": "Python 3 (ipykernel)",
   "language": "python",
   "name": "python3"
  },
  "language_info": {
   "codemirror_mode": {
    "name": "ipython",
    "version": 3
   },
   "file_extension": ".py",
   "mimetype": "text/x-python",
   "name": "python",
   "nbconvert_exporter": "python",
   "pygments_lexer": "ipython3",
   "version": "3.9.7"
  }
 },
 "nbformat": 4,
 "nbformat_minor": 5
}
