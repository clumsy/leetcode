{
 "cells": [
  {
   "cell_type": "markdown",
   "id": "67c081c5-ceda-4669-a01f-ec7a177ac7a9",
   "metadata": {},
   "source": [
    "[Problem 1248](https://leetcode.com/problems/count-number-of-nice-subarrays/description)"
   ]
  },
  {
   "cell_type": "code",
   "execution_count": 1,
   "id": "570723c9-ae75-4b0d-b8b5-0f8962e697b6",
   "metadata": {},
   "outputs": [],
   "source": [
    "from typing import List"
   ]
  },
  {
   "cell_type": "code",
   "execution_count": 2,
   "id": "acded38a-9106-4393-afd3-93215db81374",
   "metadata": {},
   "outputs": [],
   "source": [
    "class Solution:\n",
    "    def numberOfSubarrays(self, nums: List[int], k: int) -> int:\n",
    "        n = len(nums)\n",
    "        res = b = e = fst = lst = 0\n",
    "        cur = nums[0] & 1\n",
    "        while b < n:\n",
    "            lst = e\n",
    "            while e + 1 < n and (cur < k or nums[e + 1] & 1 == 0):\n",
    "                e += 1\n",
    "                if nums[e] & 1 == 1:\n",
    "                    lst = e\n",
    "                    cur += 1\n",
    "            fst = b\n",
    "            while fst < lst and nums[fst] & 1 == 0:\n",
    "                fst += 1\n",
    "            res += (e - lst + 1) * (fst - b + 1) if cur == k else 0\n",
    "            b = fst + 1\n",
    "            cur = max(0, cur - 1)\n",
    "        return res"
   ]
  },
  {
   "cell_type": "code",
   "execution_count": 3,
   "id": "badd0fc3-6cb8-4261-bb4c-a1cd4b5f1c7d",
   "metadata": {},
   "outputs": [],
   "source": [
    "class Solution:\n",
    "    def numberOfSubarrays(self, nums: List[int], k: int) -> int:\n",
    "        def at_most(x):\n",
    "            res = i = 0\n",
    "            for j in range(len(nums)):\n",
    "                x -= nums[j] & 1\n",
    "                while x < 0:\n",
    "                    x += nums[i] & 1\n",
    "                    i += 1\n",
    "                res += j - i + 1\n",
    "            return res\n",
    "        res = at_most(k) - at_most(k - 1)\n",
    "        return res"
   ]
  },
  {
   "cell_type": "code",
   "execution_count": 4,
   "id": "2ff0bf63-e916-44a7-beb7-794bc5bcb127",
   "metadata": {},
   "outputs": [],
   "source": [
    "sol = Solution()"
   ]
  },
  {
   "cell_type": "code",
   "execution_count": 5,
   "id": "e734901c-5e62-48e3-b8f6-dbb4f87af93b",
   "metadata": {},
   "outputs": [],
   "source": [
    "assert sol.numberOfSubarrays([1,1,2,1,1], 3) == 2"
   ]
  },
  {
   "cell_type": "code",
   "execution_count": 6,
   "id": "23fd1399-6fd5-4215-ba54-e7aff68f2451",
   "metadata": {},
   "outputs": [],
   "source": [
    "assert sol.numberOfSubarrays([2,4,6], 1) == 0"
   ]
  },
  {
   "cell_type": "code",
   "execution_count": 7,
   "id": "3300a7f5-39e4-4151-ba9d-6e40eb40683d",
   "metadata": {},
   "outputs": [],
   "source": [
    "assert sol.numberOfSubarrays([2,2,2,1,2,2,1,2,2,2], 2) == 16"
   ]
  }
 ],
 "metadata": {
  "kernelspec": {
   "display_name": "Python 3 (ipykernel)",
   "language": "python",
   "name": "python3"
  },
  "language_info": {
   "codemirror_mode": {
    "name": "ipython",
    "version": 3
   },
   "file_extension": ".py",
   "mimetype": "text/x-python",
   "name": "python",
   "nbconvert_exporter": "python",
   "pygments_lexer": "ipython3",
   "version": "3.9.7"
  }
 },
 "nbformat": 4,
 "nbformat_minor": 5
}
