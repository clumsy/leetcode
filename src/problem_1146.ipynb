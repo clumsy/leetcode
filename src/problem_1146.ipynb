{
 "cells": [
  {
   "cell_type": "markdown",
   "id": "3285ec0a-d936-4b70-b3a3-35c34883cd29",
   "metadata": {},
   "source": [
    "[Problem 1146](https://leetcode.com/problems/snapshot-array/)"
   ]
  },
  {
   "cell_type": "code",
   "execution_count": 2,
   "id": "0569592f-eb09-400e-97ec-416e9d38ebff",
   "metadata": {},
   "outputs": [],
   "source": [
    "from typing import List\n",
    "from bisect import bisect_right"
   ]
  },
  {
   "cell_type": "code",
   "execution_count": 3,
   "id": "1cdd82b3-8a75-45a2-a55f-8d6396f00dc4",
   "metadata": {},
   "outputs": [],
   "source": [
    "class SnapshotArray:\n",
    "    def __init__(self, length: int):\n",
    "        self.storage = [[(0, 0)] for _ in range(length)]\n",
    "        self.snap_id = 0\n",
    "\n",
    "    def set(self, index: int, val: int) -> None:\n",
    "        self.storage[index].append((self.snap_id, val))\n",
    "\n",
    "    def snap(self) -> int:\n",
    "        self.snap_id += 1\n",
    "        return self.snap_id - 1\n",
    "\n",
    "    def get(self, index: int, snap_id: int) -> int:\n",
    "        hi = bisect_right(self.storage[index], (snap_id + 1,))\n",
    "        return self.storage[index][hi - 1][1]"
   ]
  },
  {
   "cell_type": "code",
   "execution_count": 6,
   "id": "f7236a86-dda4-4a8b-8bca-ff7299753e51",
   "metadata": {},
   "outputs": [],
   "source": [
    "sol = SnapshotArray(3)\n",
    "sol.set(0,5)\n",
    "assert sol.snap() == 0\n",
    "sol.set(0,6)\n",
    "assert sol.get(0,0) == 5"
   ]
  }
 ],
 "metadata": {
  "kernelspec": {
   "display_name": "Python 3 (ipykernel)",
   "language": "python",
   "name": "python3"
  },
  "language_info": {
   "codemirror_mode": {
    "name": "ipython",
    "version": 3
   },
   "file_extension": ".py",
   "mimetype": "text/x-python",
   "name": "python",
   "nbconvert_exporter": "python",
   "pygments_lexer": "ipython3",
   "version": "3.9.7"
  }
 },
 "nbformat": 4,
 "nbformat_minor": 5
}
