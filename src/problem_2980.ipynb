{
 "cells": [
  {
   "cell_type": "markdown",
   "id": "f3599418-f725-4ccd-9800-e82696f9f16f",
   "metadata": {},
   "source": [
    "[Problem 2980](https://leetcode.com/problems/check-if-bitwise-or-has-trailing-zeros/description)"
   ]
  },
  {
   "cell_type": "code",
   "execution_count": 1,
   "id": "97b4c950-f722-43aa-a189-6105c3c571bf",
   "metadata": {},
   "outputs": [],
   "source": [
    "from typing import List"
   ]
  },
  {
   "cell_type": "code",
   "execution_count": 2,
   "id": "17995937-2ed4-4152-ad7d-e26e777c760e",
   "metadata": {},
   "outputs": [],
   "source": [
    "class Solution:\n",
    "    def hasTrailingZeros(self, nums: List[int]) -> bool:\n",
    "        res = sum(i & 1 == 0 for i in nums) > 1\n",
    "        return res"
   ]
  },
  {
   "cell_type": "code",
   "execution_count": 3,
   "id": "a2982107-acc8-4c2c-8d72-a48acfc93bc3",
   "metadata": {},
   "outputs": [],
   "source": [
    "sol = Solution()"
   ]
  },
  {
   "cell_type": "code",
   "execution_count": 4,
   "id": "c44921d8-c526-470a-9b10-76645a9c6601",
   "metadata": {},
   "outputs": [],
   "source": [
    "assert sol.hasTrailingZeros([1,2,3,4,5])"
   ]
  },
  {
   "cell_type": "code",
   "execution_count": 5,
   "id": "8a1d8851-59a8-4381-883b-bb7e0c14013b",
   "metadata": {},
   "outputs": [],
   "source": [
    "assert sol.hasTrailingZeros([2,4,8,16])"
   ]
  },
  {
   "cell_type": "code",
   "execution_count": 6,
   "id": "ccbd35ac-e02b-4efa-bece-31de3b6e9739",
   "metadata": {},
   "outputs": [],
   "source": [
    "assert not sol.hasTrailingZeros([1,3,5,7,9])"
   ]
  }
 ],
 "metadata": {
  "kernelspec": {
   "display_name": "Python 3 (ipykernel)",
   "language": "python",
   "name": "python3"
  },
  "language_info": {
   "codemirror_mode": {
    "name": "ipython",
    "version": 3
   },
   "file_extension": ".py",
   "mimetype": "text/x-python",
   "name": "python",
   "nbconvert_exporter": "python",
   "pygments_lexer": "ipython3",
   "version": "3.9.7"
  }
 },
 "nbformat": 4,
 "nbformat_minor": 5
}
