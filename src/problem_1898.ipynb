{
 "cells": [
  {
   "cell_type": "markdown",
   "id": "73a36692-5479-4e34-b2f5-d02913f0efa5",
   "metadata": {},
   "source": [
    "[Problem 1898](https://leetcode.com/problems/maximum-number-of-removable-characters/)"
   ]
  },
  {
   "cell_type": "code",
   "execution_count": 5,
   "id": "a483e252-12c1-40a8-ab5d-fc3be83b321d",
   "metadata": {},
   "outputs": [],
   "source": [
    "from typing import List\n",
    "from math import inf"
   ]
  },
  {
   "cell_type": "code",
   "execution_count": 6,
   "id": "3f35872d-5954-4c8b-ad21-870fd89a077b",
   "metadata": {},
   "outputs": [],
   "source": [
    "class Solution:\n",
    "    def maximumRemovals(self, s: str, p: str, removable: List[int]) -> int:\n",
    "        removed_after = {r: i for i, r in enumerate(removable)}\n",
    "        def is_subsequence(s, p, m):\n",
    "            j = len(p) - 1\n",
    "            for i in reversed(range(len(s))):\n",
    "                if removed_after.get(i, inf) >= m and s[i] == p[j]:\n",
    "                    if j == 0:\n",
    "                        return True\n",
    "                    j -= 1\n",
    "            return False\n",
    "        lo, hi = 0, len(removable)\n",
    "        while lo < hi:\n",
    "            mi = hi - (hi - lo) // 2\n",
    "            if is_subsequence(s, p, mi):\n",
    "                lo = mi\n",
    "            else:\n",
    "                hi = mi - 1\n",
    "        return hi"
   ]
  },
  {
   "cell_type": "code",
   "execution_count": 7,
   "id": "91fdd78d-07ed-4882-86cc-5dc805f6e5f1",
   "metadata": {},
   "outputs": [],
   "source": [
    "sol = Solution()"
   ]
  },
  {
   "cell_type": "code",
   "execution_count": 8,
   "id": "aa3d7b6b-199a-47f2-ae81-0c1942ae19ed",
   "metadata": {},
   "outputs": [],
   "source": [
    "assert sol.maximumRemovals(\"abcacb\", \"ab\", [3,1,0]) == 2"
   ]
  },
  {
   "cell_type": "code",
   "execution_count": 9,
   "id": "83de32a7-3e77-4f4c-afbc-3b2b3ed2fed7",
   "metadata": {},
   "outputs": [],
   "source": [
    "assert sol.maximumRemovals(\"abcbddddd\", \"abcd\", [3,2,1,4,5,6]) == 1"
   ]
  },
  {
   "cell_type": "code",
   "execution_count": 10,
   "id": "42be56f8-56bb-49d1-8c65-83958a1d4596",
   "metadata": {},
   "outputs": [],
   "source": [
    "assert sol.maximumRemovals(\"abcab\", \"abc\", [0,1,2,3,4]) == 0"
   ]
  }
 ],
 "metadata": {
  "kernelspec": {
   "display_name": "Python 3 (ipykernel)",
   "language": "python",
   "name": "python3"
  },
  "language_info": {
   "codemirror_mode": {
    "name": "ipython",
    "version": 3
   },
   "file_extension": ".py",
   "mimetype": "text/x-python",
   "name": "python",
   "nbconvert_exporter": "python",
   "pygments_lexer": "ipython3",
   "version": "3.9.7"
  }
 },
 "nbformat": 4,
 "nbformat_minor": 5
}
