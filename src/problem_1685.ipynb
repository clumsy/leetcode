{
 "cells": [
  {
   "cell_type": "markdown",
   "id": "0387cef5-3ad2-4b6b-a817-51a1d1e565e9",
   "metadata": {},
   "source": [
    "[Problem 1685](https://leetcode.com/problems/sum-of-absolute-differences-in-a-sorted-array/description)"
   ]
  },
  {
   "cell_type": "code",
   "execution_count": 1,
   "id": "5edd5964-7713-4643-b72c-96baf79d5915",
   "metadata": {},
   "outputs": [],
   "source": [
    "from typing import List"
   ]
  },
  {
   "cell_type": "code",
   "execution_count": 2,
   "id": "bf8ce37e-2808-4292-a4e8-0fc2bf05ea68",
   "metadata": {},
   "outputs": [],
   "source": [
    "class Solution:\n",
    "    def getSumAbsoluteDifferences(self, nums: List[int]) -> List[int]:\n",
    "        n = len(nums)\n",
    "        res = [0] * n\n",
    "        l, r = 0, sum(nums[i] - nums[0] for i in range(n))\n",
    "        for i in range(n):\n",
    "            if i > 0:\n",
    "                l += i * (nums[i] - nums[i - 1])\n",
    "                r -= (n - i) * (nums[i] - nums[i - 1])\n",
    "            res[i] = l + r\n",
    "        return res"
   ]
  },
  {
   "cell_type": "code",
   "execution_count": 3,
   "id": "38c3daac-b2fb-4bd3-aa33-0a2e0c2cf3d9",
   "metadata": {},
   "outputs": [],
   "source": [
    "sol = Solution()"
   ]
  },
  {
   "cell_type": "code",
   "execution_count": 4,
   "id": "ab77d371-202d-4616-be1e-b662c8094698",
   "metadata": {},
   "outputs": [],
   "source": [
    "assert sol.getSumAbsoluteDifferences([2,3,5]) == [4,3,5]"
   ]
  },
  {
   "cell_type": "code",
   "execution_count": 5,
   "id": "268d965a-4a65-4c90-8373-9ba33312a17e",
   "metadata": {},
   "outputs": [],
   "source": [
    "assert sol.getSumAbsoluteDifferences([1,4,6,8,10]) == [24,15,13,15,21]"
   ]
  }
 ],
 "metadata": {
  "kernelspec": {
   "display_name": "Python 3 (ipykernel)",
   "language": "python",
   "name": "python3"
  },
  "language_info": {
   "codemirror_mode": {
    "name": "ipython",
    "version": 3
   },
   "file_extension": ".py",
   "mimetype": "text/x-python",
   "name": "python",
   "nbconvert_exporter": "python",
   "pygments_lexer": "ipython3",
   "version": "3.9.7"
  }
 },
 "nbformat": 4,
 "nbformat_minor": 5
}
