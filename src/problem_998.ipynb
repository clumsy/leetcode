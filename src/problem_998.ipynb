{
 "cells": [
  {
   "cell_type": "markdown",
   "id": "735e4885-209c-45f3-a78f-a673ff8e72d9",
   "metadata": {},
   "source": [
    "[Problem 998](https://leetcode.com/problems/maximum-binary-tree-ii/description)"
   ]
  },
  {
   "cell_type": "code",
   "execution_count": 1,
   "id": "89e1c90b-d055-4891-8760-90c7f7c6b110",
   "metadata": {},
   "outputs": [],
   "source": [
    "# Definition for a binary tree node.\n",
    "class TreeNode:\n",
    "    def __init__(self, val=0, left=None, right=None):\n",
    "        self.val = val\n",
    "        self.left = left\n",
    "        self.right = right\n",
    "\n",
    "    def __eq__(self, other):\n",
    "        return other and self.val == other.val and self.left == other.left and self.right == other.right"
   ]
  },
  {
   "cell_type": "code",
   "execution_count": 2,
   "id": "b823339b-79a6-4c00-bd2d-4d4bf49ac1fa",
   "metadata": {},
   "outputs": [],
   "source": [
    "from typing import Optional"
   ]
  },
  {
   "cell_type": "code",
   "execution_count": 3,
   "id": "55792c82-33da-4764-8fc6-b709684e8053",
   "metadata": {},
   "outputs": [],
   "source": [
    "class Solution:\n",
    "    def insertIntoMaxTree(self, root: Optional[TreeNode], val: int) -> Optional[TreeNode]:\n",
    "        if root is None:\n",
    "            return TreeNode(val)\n",
    "        if val > root.val:\n",
    "            return TreeNode(val, left=root)\n",
    "        root.right = self.insertIntoMaxTree(root.right, val)\n",
    "        return root"
   ]
  },
  {
   "cell_type": "code",
   "execution_count": 4,
   "id": "b6c2f8b6-9687-4634-93f7-ddefd75f1095",
   "metadata": {},
   "outputs": [],
   "source": [
    "sol = Solution()"
   ]
  },
  {
   "cell_type": "code",
   "execution_count": 5,
   "id": "2bcda4ef-1284-4641-bb51-501224fb18a2",
   "metadata": {},
   "outputs": [],
   "source": [
    "from collections import deque\n",
    "\n",
    "null = None  # to use Leetcode samples as is\n",
    "\n",
    "def tree(values):\n",
    "    if not values:\n",
    "        return null\n",
    "    root = TreeNode(values[0])\n",
    "    queue = deque()\n",
    "    queue.append(root)\n",
    "    queue.append(None)\n",
    "    length = len(values)\n",
    "    i = 0\n",
    "    while queue:\n",
    "        current = queue.popleft()\n",
    "        if current:\n",
    "            i += 1\n",
    "            if i < length and values[i]:\n",
    "                current.left = TreeNode(values[i])\n",
    "                queue.append(current.left)\n",
    "            i += 1\n",
    "            if i < length and values[i]:\n",
    "                current.right = TreeNode(values[i])\n",
    "                queue.append(current.right)\n",
    "            if i == length:\n",
    "                return root\n",
    "        else:\n",
    "            if queue:\n",
    "                queue.append(None)\n",
    "    return root"
   ]
  },
  {
   "cell_type": "code",
   "execution_count": 6,
   "id": "b9eea82a-2efc-4ce0-83e4-75ad79c2c357",
   "metadata": {},
   "outputs": [],
   "source": [
    "assert sol.insertIntoMaxTree(tree([4,1,3,null,null,2]), 5) == tree([5,4,null,1,3,null,null,2])"
   ]
  },
  {
   "cell_type": "code",
   "execution_count": 7,
   "id": "5d77ab81-e727-4dcb-b6cb-3f11042e8b5a",
   "metadata": {},
   "outputs": [],
   "source": [
    "assert sol.insertIntoMaxTree(tree([5,2,4,null,1]), 3) == tree([5,2,4,null,1,null,3])"
   ]
  },
  {
   "cell_type": "code",
   "execution_count": 8,
   "id": "714788af-4436-443e-99d9-3067c82f10e0",
   "metadata": {},
   "outputs": [],
   "source": [
    "assert sol.insertIntoMaxTree(tree([5,2,3,null,1]), 4) == tree([5,2,4,null,1,3])"
   ]
  }
 ],
 "metadata": {
  "kernelspec": {
   "display_name": "Python 3 (ipykernel)",
   "language": "python",
   "name": "python3"
  },
  "language_info": {
   "codemirror_mode": {
    "name": "ipython",
    "version": 3
   },
   "file_extension": ".py",
   "mimetype": "text/x-python",
   "name": "python",
   "nbconvert_exporter": "python",
   "pygments_lexer": "ipython3",
   "version": "3.9.7"
  }
 },
 "nbformat": 4,
 "nbformat_minor": 5
}
