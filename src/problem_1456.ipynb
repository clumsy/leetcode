{
 "cells": [
  {
   "cell_type": "markdown",
   "id": "0ed69e3e-c7f1-4ac2-bdf5-193c55ec1a8d",
   "metadata": {},
   "source": [
    "[Problem 1456](https://leetcode.com/problems/maximum-number-of-vowels-in-a-substring-of-given-length/description)"
   ]
  },
  {
   "cell_type": "code",
   "execution_count": 1,
   "id": "f37bae1c-6957-44a2-8674-4c494f0c7a71",
   "metadata": {},
   "outputs": [],
   "source": [
    "class Solution:\n",
    "    def maxVowels(self, s: str, k: int) -> int:\n",
    "        res, cnt, vowels = 0, 0, \"aeiou\"\n",
    "        for i, c in enumerate(s):\n",
    "            if i >= k:\n",
    "                cnt -= s[i - k] in vowels\n",
    "            if c in vowels:\n",
    "                cnt += 1\n",
    "                res = min(k, max(res, cnt))\n",
    "        return res"
   ]
  },
  {
   "cell_type": "code",
   "execution_count": 2,
   "id": "cd453737-d982-42ba-b438-bf65ef043f3c",
   "metadata": {},
   "outputs": [],
   "source": [
    "sol = Solution()"
   ]
  },
  {
   "cell_type": "code",
   "execution_count": 3,
   "id": "cc947df1-f425-4ee1-8098-f27d425d1ba9",
   "metadata": {},
   "outputs": [],
   "source": [
    "assert sol.maxVowels(\"abciiidef\", 3) == 3"
   ]
  },
  {
   "cell_type": "code",
   "execution_count": 4,
   "id": "29e19ff5-f57d-4a23-9aa6-d04bf444bed4",
   "metadata": {},
   "outputs": [],
   "source": [
    "assert sol.maxVowels(\"aeiou\", 2) == 2"
   ]
  },
  {
   "cell_type": "code",
   "execution_count": 5,
   "id": "59fd5d8d-66b3-4b0d-8f70-51aa2f8b133e",
   "metadata": {},
   "outputs": [],
   "source": [
    "assert sol.maxVowels(\"leetcode\", 3) == 2"
   ]
  }
 ],
 "metadata": {
  "kernelspec": {
   "display_name": "Python 3 (ipykernel)",
   "language": "python",
   "name": "python3"
  },
  "language_info": {
   "codemirror_mode": {
    "name": "ipython",
    "version": 3
   },
   "file_extension": ".py",
   "mimetype": "text/x-python",
   "name": "python",
   "nbconvert_exporter": "python",
   "pygments_lexer": "ipython3",
   "version": "3.9.7"
  }
 },
 "nbformat": 4,
 "nbformat_minor": 5
}
