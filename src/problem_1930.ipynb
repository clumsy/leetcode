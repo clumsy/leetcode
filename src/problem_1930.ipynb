{
 "cells": [
  {
   "cell_type": "markdown",
   "id": "15cb411a-5580-4c98-a45d-b589bb64e32c",
   "metadata": {},
   "source": [
    "[Problem 1930](https://leetcode.com/problems/unique-length-3-palindromic-subsequences/description)"
   ]
  },
  {
   "cell_type": "code",
   "execution_count": 1,
   "id": "bf15082b-ab5b-460d-b19f-9d8d5374ac47",
   "metadata": {},
   "outputs": [],
   "source": [
    "from collections import Counter"
   ]
  },
  {
   "cell_type": "code",
   "execution_count": 2,
   "id": "6e9deba9-ff2a-49e2-875f-e4d1264ab5cf",
   "metadata": {},
   "outputs": [],
   "source": [
    "class Solution:\n",
    "    def countPalindromicSubsequence(self, s: str) -> int:\n",
    "        res = set()\n",
    "        lft, rgt = Counter(s[:1]), Counter(s[1:])\n",
    "        for c in s[1:]:\n",
    "            rgt[c] -= 1\n",
    "            for a in lft:\n",
    "                if rgt[a] > 0:\n",
    "                    cur = a + c + a\n",
    "                    res.add(cur)\n",
    "            lft[c] += 1\n",
    "        res = len(res)\n",
    "        return res"
   ]
  },
  {
   "cell_type": "code",
   "execution_count": 3,
   "id": "446dd6d4-c7a2-41de-8bdc-86f6a996c6bb",
   "metadata": {},
   "outputs": [],
   "source": [
    "class Solution:\n",
    "    def countPalindromicSubsequence(self, s: str) -> int:\n",
    "        res = 0\n",
    "        for c in string.ascii_lowercase:\n",
    "            lo, hi = s.find(c), s.rfind(c)\n",
    "            if lo >= 0:\n",
    "                res += len(set(s[lo + 1: hi]))\n",
    "        return res"
   ]
  },
  {
   "cell_type": "code",
   "execution_count": 4,
   "id": "f0276079-9b4f-4fc4-9f7d-b30425b6f2f9",
   "metadata": {},
   "outputs": [],
   "source": [
    "sol = Solution()"
   ]
  },
  {
   "cell_type": "code",
   "execution_count": 5,
   "id": "43e96b44-6428-40f6-be88-2a8984b4c109",
   "metadata": {},
   "outputs": [
    {
     "ename": "NameError",
     "evalue": "name 'string' is not defined",
     "output_type": "error",
     "traceback": [
      "\u001b[0;31m---------------------------------------------------------------------------\u001b[0m",
      "\u001b[0;31mNameError\u001b[0m                                 Traceback (most recent call last)",
      "\u001b[0;32m/var/folders/2c/d5xy040n10176t2qzhm_d6kh0000gn/T/ipykernel_70038/3533104027.py\u001b[0m in \u001b[0;36m<module>\u001b[0;34m\u001b[0m\n\u001b[0;32m----> 1\u001b[0;31m \u001b[0;32massert\u001b[0m \u001b[0msol\u001b[0m\u001b[0;34m.\u001b[0m\u001b[0mcountPalindromicSubsequence\u001b[0m\u001b[0;34m(\u001b[0m\u001b[0;34m\"aabca\"\u001b[0m\u001b[0;34m)\u001b[0m \u001b[0;34m==\u001b[0m \u001b[0;36m3\u001b[0m\u001b[0;34m\u001b[0m\u001b[0;34m\u001b[0m\u001b[0m\n\u001b[0m",
      "\u001b[0;32m/var/folders/2c/d5xy040n10176t2qzhm_d6kh0000gn/T/ipykernel_70038/768971951.py\u001b[0m in \u001b[0;36mcountPalindromicSubsequence\u001b[0;34m(self, s)\u001b[0m\n\u001b[1;32m      2\u001b[0m     \u001b[0;32mdef\u001b[0m \u001b[0mcountPalindromicSubsequence\u001b[0m\u001b[0;34m(\u001b[0m\u001b[0mself\u001b[0m\u001b[0;34m,\u001b[0m \u001b[0ms\u001b[0m\u001b[0;34m:\u001b[0m \u001b[0mstr\u001b[0m\u001b[0;34m)\u001b[0m \u001b[0;34m->\u001b[0m \u001b[0mint\u001b[0m\u001b[0;34m:\u001b[0m\u001b[0;34m\u001b[0m\u001b[0;34m\u001b[0m\u001b[0m\n\u001b[1;32m      3\u001b[0m         \u001b[0mres\u001b[0m \u001b[0;34m=\u001b[0m \u001b[0;36m0\u001b[0m\u001b[0;34m\u001b[0m\u001b[0;34m\u001b[0m\u001b[0m\n\u001b[0;32m----> 4\u001b[0;31m         \u001b[0;32mfor\u001b[0m \u001b[0mc\u001b[0m \u001b[0;32min\u001b[0m \u001b[0mstring\u001b[0m\u001b[0;34m.\u001b[0m\u001b[0mascii_lowercase\u001b[0m\u001b[0;34m:\u001b[0m\u001b[0;34m\u001b[0m\u001b[0;34m\u001b[0m\u001b[0m\n\u001b[0m\u001b[1;32m      5\u001b[0m             \u001b[0mlo\u001b[0m\u001b[0;34m,\u001b[0m \u001b[0mhi\u001b[0m \u001b[0;34m=\u001b[0m \u001b[0ms\u001b[0m\u001b[0;34m.\u001b[0m\u001b[0mfind\u001b[0m\u001b[0;34m(\u001b[0m\u001b[0mc\u001b[0m\u001b[0;34m)\u001b[0m\u001b[0;34m,\u001b[0m \u001b[0ms\u001b[0m\u001b[0;34m.\u001b[0m\u001b[0mrfind\u001b[0m\u001b[0;34m(\u001b[0m\u001b[0mc\u001b[0m\u001b[0;34m)\u001b[0m\u001b[0;34m\u001b[0m\u001b[0;34m\u001b[0m\u001b[0m\n\u001b[1;32m      6\u001b[0m             \u001b[0;32mif\u001b[0m \u001b[0mlo\u001b[0m \u001b[0;34m>=\u001b[0m \u001b[0;36m0\u001b[0m\u001b[0;34m:\u001b[0m\u001b[0;34m\u001b[0m\u001b[0;34m\u001b[0m\u001b[0m\n",
      "\u001b[0;31mNameError\u001b[0m: name 'string' is not defined"
     ]
    }
   ],
   "source": [
    "assert sol.countPalindromicSubsequence(\"aabca\") == 3"
   ]
  },
  {
   "cell_type": "code",
   "execution_count": null,
   "id": "ee63d2f6-80a4-4f29-bb8d-150ef9309b9c",
   "metadata": {},
   "outputs": [],
   "source": [
    "assert sol.countPalindromicSubsequence(\"abc\") == 0"
   ]
  },
  {
   "cell_type": "code",
   "execution_count": null,
   "id": "452aaa31-2391-46ef-ba19-195a4b7f6800",
   "metadata": {},
   "outputs": [],
   "source": [
    "assert sol.countPalindromicSubsequence(\"bbcbaba\") == 4"
   ]
  }
 ],
 "metadata": {
  "kernelspec": {
   "display_name": "Python 3 (ipykernel)",
   "language": "python",
   "name": "python3"
  },
  "language_info": {
   "codemirror_mode": {
    "name": "ipython",
    "version": 3
   },
   "file_extension": ".py",
   "mimetype": "text/x-python",
   "name": "python",
   "nbconvert_exporter": "python",
   "pygments_lexer": "ipython3",
   "version": "3.9.7"
  }
 },
 "nbformat": 4,
 "nbformat_minor": 5
}
