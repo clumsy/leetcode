{
 "cells": [
  {
   "cell_type": "markdown",
   "id": "d234dbe8-4ffd-4eb4-83a3-f23dfc4d6fc8",
   "metadata": {},
   "source": [
    "[Problem 2600](https://leetcode.com/problems/k-items-with-the-maximum-sum/description)"
   ]
  },
  {
   "cell_type": "code",
   "execution_count": 1,
   "id": "5992b07b-5ff8-416f-a0b4-a53995dfd698",
   "metadata": {},
   "outputs": [],
   "source": [
    "class Solution:\n",
    "    def kItemsWithMaximumSum(self, numOnes: int, numZeros: int, numNegOnes: int, k: int) -> int:\n",
    "        res = min(k, numOnes)\n",
    "        k -= res\n",
    "        k -= min(k, numZeros)\n",
    "        res -= min(k, numNegOnes)\n",
    "        return res"
   ]
  },
  {
   "cell_type": "code",
   "execution_count": 2,
   "id": "fe0de0c0-7062-4001-b09f-ed929051bb29",
   "metadata": {},
   "outputs": [],
   "source": [
    "sol = Solution()"
   ]
  },
  {
   "cell_type": "code",
   "execution_count": 3,
   "id": "1c0f2dc7-adcc-46e6-a89f-8cccf6ff5713",
   "metadata": {},
   "outputs": [],
   "source": [
    "assert sol.kItemsWithMaximumSum(3, 2, 0, 2) == 2"
   ]
  },
  {
   "cell_type": "code",
   "execution_count": 4,
   "id": "ebb4a74a-6aaa-4313-9276-327fde8a5cf1",
   "metadata": {},
   "outputs": [],
   "source": [
    "assert sol.kItemsWithMaximumSum(3, 2, 0, 4) == 3"
   ]
  }
 ],
 "metadata": {
  "kernelspec": {
   "display_name": "Python 3 (ipykernel)",
   "language": "python",
   "name": "python3"
  },
  "language_info": {
   "codemirror_mode": {
    "name": "ipython",
    "version": 3
   },
   "file_extension": ".py",
   "mimetype": "text/x-python",
   "name": "python",
   "nbconvert_exporter": "python",
   "pygments_lexer": "ipython3",
   "version": "3.9.7"
  }
 },
 "nbformat": 4,
 "nbformat_minor": 5
}
