{
 "cells": [
  {
   "cell_type": "markdown",
   "id": "c62e6436-4a53-4038-acc7-ce6511c5c4aa",
   "metadata": {},
   "source": [
    "[Problem 2661](https://leetcode.com/problems/first-completely-painted-row-or-column/description)"
   ]
  },
  {
   "cell_type": "code",
   "execution_count": 1,
   "id": "12c5c969-7389-4123-9ddc-eabed4635fea",
   "metadata": {},
   "outputs": [],
   "source": [
    "from typing import List\n",
    "from math import inf"
   ]
  },
  {
   "cell_type": "code",
   "execution_count": 2,
   "id": "d397ddd0-16b9-4c4d-82e9-231bbc00081c",
   "metadata": {},
   "outputs": [],
   "source": [
    "class Solution:\n",
    "    def firstCompleteIndex(self, arr: List[int], mat: List[List[int]]) -> int:\n",
    "        m, n = len(mat), len(mat[0])\n",
    "        ord = {e: i for i, e in enumerate(arr)}\n",
    "        for r in range(m):\n",
    "            for c in range(n):\n",
    "                mat[r][c] = ord[mat[r][c]]\n",
    "        res = inf\n",
    "        for r in range(m):\n",
    "            res = min(res, max(mat[r]))\n",
    "        for c in range(n):\n",
    "            res = min(res, max(mat[i][c] for i in range(m)))\n",
    "        return res"
   ]
  },
  {
   "cell_type": "code",
   "execution_count": 3,
   "id": "e413d576-ac00-4e5e-a869-4a857ec76f6b",
   "metadata": {},
   "outputs": [],
   "source": [
    "sol = Solution()"
   ]
  },
  {
   "cell_type": "code",
   "execution_count": 4,
   "id": "3e1efd67-1196-41be-932c-46d0b2cbb7a0",
   "metadata": {},
   "outputs": [],
   "source": [
    "assert sol.firstCompleteIndex([1,3,4,2], [[1,4],[2,3]]) == 2"
   ]
  },
  {
   "cell_type": "code",
   "execution_count": 5,
   "id": "17f847e0-4098-4a63-97a9-729cce5848b5",
   "metadata": {},
   "outputs": [],
   "source": [
    "assert sol.firstCompleteIndex([2,8,7,4,1,3,5,6,9], [[3,2,5],[1,4,6],[8,7,9]]) == 3"
   ]
  }
 ],
 "metadata": {
  "kernelspec": {
   "display_name": "Python 3 (ipykernel)",
   "language": "python",
   "name": "python3"
  },
  "language_info": {
   "codemirror_mode": {
    "name": "ipython",
    "version": 3
   },
   "file_extension": ".py",
   "mimetype": "text/x-python",
   "name": "python",
   "nbconvert_exporter": "python",
   "pygments_lexer": "ipython3",
   "version": "3.9.7"
  }
 },
 "nbformat": 4,
 "nbformat_minor": 5
}
