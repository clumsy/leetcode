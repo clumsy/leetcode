{
 "cells": [
  {
   "cell_type": "markdown",
   "id": "21548b22-4d52-4662-8ec3-41367fa1a621",
   "metadata": {},
   "source": [
    "[Problem 2500](https://leetcode.com/problems/delete-greatest-value-in-each-row/description)"
   ]
  },
  {
   "cell_type": "code",
   "execution_count": 1,
   "id": "c94dde15-9d25-4853-8072-9927b4404b6b",
   "metadata": {},
   "outputs": [],
   "source": [
    "from typing import List"
   ]
  },
  {
   "cell_type": "code",
   "execution_count": 2,
   "id": "503e3157-8c75-4a18-a675-c5393f24d7d6",
   "metadata": {},
   "outputs": [],
   "source": [
    "class Solution:\n",
    "    def deleteGreatestValue(self, grid: List[List[int]]) -> int:\n",
    "        for r in grid:\n",
    "            r.sort()\n",
    "        res = sum(max(vals) for vals in zip(*grid))\n",
    "        return res"
   ]
  },
  {
   "cell_type": "code",
   "execution_count": 3,
   "id": "07883e17-3ea8-4647-8643-553d80f4d984",
   "metadata": {},
   "outputs": [],
   "source": [
    "sol = Solution()"
   ]
  },
  {
   "cell_type": "code",
   "execution_count": 4,
   "id": "ef40dd29-f98c-4ff1-9bed-df1e557692f8",
   "metadata": {},
   "outputs": [],
   "source": [
    "assert sol.deleteGreatestValue([[1,2,4],[3,3,1]]) == 8"
   ]
  },
  {
   "cell_type": "code",
   "execution_count": 5,
   "id": "8bd33137-f7b3-41e7-90ec-56ef541e9ae7",
   "metadata": {},
   "outputs": [],
   "source": [
    "assert sol.deleteGreatestValue([[10]]) == 10"
   ]
  }
 ],
 "metadata": {
  "kernelspec": {
   "display_name": "Python 3 (ipykernel)",
   "language": "python",
   "name": "python3"
  },
  "language_info": {
   "codemirror_mode": {
    "name": "ipython",
    "version": 3
   },
   "file_extension": ".py",
   "mimetype": "text/x-python",
   "name": "python",
   "nbconvert_exporter": "python",
   "pygments_lexer": "ipython3",
   "version": "3.9.7"
  }
 },
 "nbformat": 4,
 "nbformat_minor": 5
}
