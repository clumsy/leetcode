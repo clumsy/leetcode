{
 "cells": [
  {
   "cell_type": "markdown",
   "id": "ebe79b26-c0fa-4ac6-afd5-04e89c7ce64e",
   "metadata": {},
   "source": [
    "[Problem 605](https://leetcode.com/problems/can-place-flowers/description)"
   ]
  },
  {
   "cell_type": "code",
   "execution_count": 1,
   "id": "22bbf6b7-132a-4676-8f9e-74ca5a06da00",
   "metadata": {},
   "outputs": [],
   "source": [
    "from typing import List"
   ]
  },
  {
   "cell_type": "code",
   "execution_count": 2,
   "id": "29c63009-89c0-44c5-b3e1-943d84df3fa8",
   "metadata": {},
   "outputs": [],
   "source": [
    "class Solution:\n",
    "    def canPlaceFlowers(self, f: List[int], k: int) -> bool:\n",
    "        n = len(f)\n",
    "        for i in range(n):\n",
    "            if k == 0:\n",
    "                break\n",
    "            if f[i] == 1:\n",
    "                continue\n",
    "            if (i == n - 1 or f[i + 1] == 0) and (i == 0 or f[i - 1] == 0):\n",
    "                f[i] = 1\n",
    "                k -= 1\n",
    "        res = k == 0\n",
    "        return res"
   ]
  },
  {
   "cell_type": "code",
   "execution_count": 3,
   "id": "f936832d-b91a-43ed-96c1-5b7467421c10",
   "metadata": {},
   "outputs": [],
   "source": [
    "sol = Solution()"
   ]
  },
  {
   "cell_type": "code",
   "execution_count": 4,
   "id": "293725cd-5fc2-4a9a-825f-32adeeeb52a7",
   "metadata": {},
   "outputs": [],
   "source": [
    "assert sol.canPlaceFlowers([1,0,0,0,1], 1)"
   ]
  },
  {
   "cell_type": "code",
   "execution_count": 5,
   "id": "13fdcdff-f074-42a1-8825-b4f62a590754",
   "metadata": {},
   "outputs": [],
   "source": [
    "assert not sol.canPlaceFlowers([1,0,0,0,1], 2)"
   ]
  }
 ],
 "metadata": {
  "kernelspec": {
   "display_name": "Python 3 (ipykernel)",
   "language": "python",
   "name": "python3"
  },
  "language_info": {
   "codemirror_mode": {
    "name": "ipython",
    "version": 3
   },
   "file_extension": ".py",
   "mimetype": "text/x-python",
   "name": "python",
   "nbconvert_exporter": "python",
   "pygments_lexer": "ipython3",
   "version": "3.9.7"
  }
 },
 "nbformat": 4,
 "nbformat_minor": 5
}
