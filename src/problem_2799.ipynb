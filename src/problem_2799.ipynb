{
 "cells": [
  {
   "cell_type": "markdown",
   "id": "fdc292b8-d609-4eac-a718-a6a6e19a5f44",
   "metadata": {},
   "source": [
    "[Problem 2799](https://leetcode.com/problems/check-if-the-number-is-fascinating/description)"
   ]
  },
  {
   "cell_type": "code",
   "execution_count": 1,
   "id": "f9917c9a-7c97-4270-a362-aa17e30baaba",
   "metadata": {},
   "outputs": [],
   "source": [
    "class Solution:\n",
    "    def isFascinating(self, n: int) -> bool:\n",
    "        s = str(n) + str(2*n) + str(3*n)\n",
    "        res = len(s) == 9 and set(range(1, 10)) == set(int(c) for c in s)\n",
    "        return res"
   ]
  },
  {
   "cell_type": "code",
   "execution_count": 2,
   "id": "75cd53db-15ae-4b6a-88ce-d9de4141aa1b",
   "metadata": {},
   "outputs": [],
   "source": [
    "sol = Solution()"
   ]
  },
  {
   "cell_type": "code",
   "execution_count": 3,
   "id": "c94972a5-25d2-4144-af3e-4d07ef69b490",
   "metadata": {},
   "outputs": [],
   "source": [
    "assert sol.isFascinating(192)"
   ]
  },
  {
   "cell_type": "code",
   "execution_count": 4,
   "id": "5c2e78da-58df-4763-948c-7de5080ee247",
   "metadata": {},
   "outputs": [],
   "source": [
    "assert not sol.isFascinating(100)"
   ]
  }
 ],
 "metadata": {
  "kernelspec": {
   "display_name": "Python 3 (ipykernel)",
   "language": "python",
   "name": "python3"
  },
  "language_info": {
   "codemirror_mode": {
    "name": "ipython",
    "version": 3
   },
   "file_extension": ".py",
   "mimetype": "text/x-python",
   "name": "python",
   "nbconvert_exporter": "python",
   "pygments_lexer": "ipython3",
   "version": "3.9.7"
  }
 },
 "nbformat": 4,
 "nbformat_minor": 5
}
