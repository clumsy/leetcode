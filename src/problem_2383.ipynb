{
 "cells": [
  {
   "cell_type": "markdown",
   "id": "f98b4936-3199-4ca2-a9fa-92c7c6a77a80",
   "metadata": {},
   "source": [
    "[Problem 2383](https://leetcode.com/problems/minimum-hours-of-training-to-win-a-competition/description)"
   ]
  },
  {
   "cell_type": "code",
   "execution_count": 1,
   "id": "af440f91-f587-4f55-a3a2-4b0ee765f17b",
   "metadata": {},
   "outputs": [],
   "source": [
    "from typing import List"
   ]
  },
  {
   "cell_type": "code",
   "execution_count": 2,
   "id": "13f13f53-75db-4e2e-9b3c-929eb99dce3d",
   "metadata": {},
   "outputs": [],
   "source": [
    "class Solution:\n",
    "    def minNumberOfHours(self, initialEnergy: int, initialExperience: int, energy: List[int], experience: List[int]) -> int:\n",
    "        res, nrj, n = 0, 0, len(energy)\n",
    "        for i in range(n):\n",
    "            nrj += energy[i]\n",
    "            res += max(0, experience[i] - initialExperience - res + 1)\n",
    "            initialExperience += experience[i]\n",
    "        res += max(0, nrj - initialEnergy + 1)\n",
    "        return res"
   ]
  },
  {
   "cell_type": "code",
   "execution_count": 3,
   "id": "9b8c2dac-247e-4add-8c29-b85f3d951288",
   "metadata": {},
   "outputs": [],
   "source": [
    "sol = Solution()"
   ]
  },
  {
   "cell_type": "code",
   "execution_count": 4,
   "id": "4488c73e-9dd8-4f15-9a63-941d711c4e3a",
   "metadata": {},
   "outputs": [],
   "source": [
    "assert sol.minNumberOfHours(5, 3, [1,4,3,2], [2,6,3,1]) == 8"
   ]
  },
  {
   "cell_type": "code",
   "execution_count": 5,
   "id": "b4f719d1-dbbf-430d-8e98-ae5404ae803e",
   "metadata": {},
   "outputs": [],
   "source": [
    "assert sol.minNumberOfHours(2, 4, [1], [3]) == 0"
   ]
  }
 ],
 "metadata": {
  "kernelspec": {
   "display_name": "Python 3 (ipykernel)",
   "language": "python",
   "name": "python3"
  },
  "language_info": {
   "codemirror_mode": {
    "name": "ipython",
    "version": 3
   },
   "file_extension": ".py",
   "mimetype": "text/x-python",
   "name": "python",
   "nbconvert_exporter": "python",
   "pygments_lexer": "ipython3",
   "version": "3.9.7"
  }
 },
 "nbformat": 4,
 "nbformat_minor": 5
}
