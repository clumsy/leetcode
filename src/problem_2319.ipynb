{
 "cells": [
  {
   "cell_type": "markdown",
   "id": "f7f7baf9-bc35-4de5-af5f-1065fc3b5ff8",
   "metadata": {},
   "source": [
    "[Problem 2319](https://leetcode.com/problems/check-if-matrix-is-x-matrix/description)"
   ]
  },
  {
   "cell_type": "code",
   "execution_count": 1,
   "id": "578fa0f2-b162-4036-ac6d-5eaa32bc13e1",
   "metadata": {},
   "outputs": [],
   "source": [
    "from typing import List"
   ]
  },
  {
   "cell_type": "code",
   "execution_count": 2,
   "id": "7123c005-5049-4198-a56c-f87614dc718b",
   "metadata": {},
   "outputs": [],
   "source": [
    "class Solution:\n",
    "    def checkXMatrix(self, grid: List[List[int]]) -> bool:\n",
    "        rows, cols = len(grid), len(grid[0])\n",
    "        for r in range(rows):\n",
    "            for c in range(cols):\n",
    "                if r == c or r + c == cols - 1:\n",
    "                    if grid[r][c] == 0:\n",
    "                        return False\n",
    "                else:\n",
    "                    if grid[r][c] != 0:\n",
    "                        return False\n",
    "        return True"
   ]
  },
  {
   "cell_type": "code",
   "execution_count": 3,
   "id": "0c9d80b7-a41f-4f1f-89dc-cd5d3976ae0f",
   "metadata": {},
   "outputs": [],
   "source": [
    "sol = Solution()"
   ]
  },
  {
   "cell_type": "code",
   "execution_count": 5,
   "id": "ca86a9e9-70fd-4856-b3bd-67eee401eb8f",
   "metadata": {},
   "outputs": [],
   "source": [
    "assert sol.checkXMatrix([[2,0,0,1],[0,3,1,0],[0,5,2,0],[4,0,0,2]])"
   ]
  },
  {
   "cell_type": "code",
   "execution_count": 6,
   "id": "4e3e83b5-ae2a-4814-a0a4-ebb33a51ca0a",
   "metadata": {},
   "outputs": [],
   "source": [
    "assert not sol.checkXMatrix([[5,7,0],[0,3,1],[0,5,0]])"
   ]
  }
 ],
 "metadata": {
  "kernelspec": {
   "display_name": "Python 3 (ipykernel)",
   "language": "python",
   "name": "python3"
  },
  "language_info": {
   "codemirror_mode": {
    "name": "ipython",
    "version": 3
   },
   "file_extension": ".py",
   "mimetype": "text/x-python",
   "name": "python",
   "nbconvert_exporter": "python",
   "pygments_lexer": "ipython3",
   "version": "3.9.7"
  }
 },
 "nbformat": 4,
 "nbformat_minor": 5
}
