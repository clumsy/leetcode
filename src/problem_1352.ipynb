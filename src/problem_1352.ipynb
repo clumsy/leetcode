{
 "cells": [
  {
   "cell_type": "markdown",
   "id": "7992ac8d-3870-423c-a6a2-e2be5645cbe7",
   "metadata": {},
   "source": [
    "[Problem 1352](https://leetcode.com/problems/product-of-the-last-k-numbers/description)"
   ]
  },
  {
   "cell_type": "code",
   "execution_count": 1,
   "id": "2260df58-8ad6-4602-8097-7bad2878646a",
   "metadata": {},
   "outputs": [],
   "source": [
    "class ProductOfNumbers:\n",
    "    def __init__(self):\n",
    "        self.curr_prod = [1]\n",
    "        \n",
    "\n",
    "    def add(self, num: int) -> None:\n",
    "        if num == 0:\n",
    "            self.__init__()\n",
    "        else:\n",
    "            self.curr_prod.append(num * self.curr_prod[-1])\n",
    "\n",
    "    def getProduct(self, k: int) -> int:\n",
    "        res = 0 if k >= len(self.curr_prod) else self.curr_prod[-1] // self.curr_prod[-k - 1]\n",
    "        return res"
   ]
  },
  {
   "cell_type": "code",
   "execution_count": 2,
   "id": "98f6aba0-86a3-47b0-ab55-d3b9e96bc85c",
   "metadata": {},
   "outputs": [],
   "source": [
    "sol = ProductOfNumbers()\n",
    "sol.add(3)\n",
    "sol.add(0)\n",
    "sol.add(2)\n",
    "sol.add(5)\n",
    "sol.add(4)\n",
    "assert sol.getProduct(2) == 20\n",
    "assert sol.getProduct(3) == 40\n",
    "assert sol.getProduct(4) == 0\n",
    "sol.add(8)\n",
    "assert sol.getProduct(2) == 32"
   ]
  }
 ],
 "metadata": {
  "kernelspec": {
   "display_name": "Python 3 (ipykernel)",
   "language": "python",
   "name": "python3"
  },
  "language_info": {
   "codemirror_mode": {
    "name": "ipython",
    "version": 3
   },
   "file_extension": ".py",
   "mimetype": "text/x-python",
   "name": "python",
   "nbconvert_exporter": "python",
   "pygments_lexer": "ipython3",
   "version": "3.9.7"
  }
 },
 "nbformat": 4,
 "nbformat_minor": 5
}
