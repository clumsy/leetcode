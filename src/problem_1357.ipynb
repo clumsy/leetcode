{
 "cells": [
  {
   "cell_type": "markdown",
   "id": "35393967-3124-49ba-8bf4-5ba94e6eeb46",
   "metadata": {},
   "source": [
    "[Problem 1357](https://leetcode.com/problems/apply-discount-every-n-orders/description)"
   ]
  },
  {
   "cell_type": "code",
   "execution_count": 1,
   "id": "8532d6fc-77a2-4577-b071-4f30af460cc9",
   "metadata": {},
   "outputs": [],
   "source": [
    "from typing import List"
   ]
  },
  {
   "cell_type": "code",
   "execution_count": 3,
   "id": "3128c5c7-9337-4b2d-b26a-9f49bfacedb0",
   "metadata": {},
   "outputs": [],
   "source": [
    "class Cashier:\n",
    "\n",
    "    def __init__(self, n: int, discount: int, products: List[int], prices: List[int]):\n",
    "        self.nth = n\n",
    "        self.dis = discount\n",
    "        self.pro = {k: v for k, v in zip(products, prices)}\n",
    "        self.cur = 0\n",
    "\n",
    "    def getBill(self, product: List[int], amount: List[int]) -> float:\n",
    "        res = 0\n",
    "        for i, p in enumerate(product):\n",
    "            res += self.pro[p] * amount[i]\n",
    "        self.cur = (self.cur + 1) % self.nth\n",
    "        discount = self.dis if self.cur == 0 else 0\n",
    "        return res * ((100 - discount) / 100)"
   ]
  },
  {
   "cell_type": "code",
   "execution_count": 15,
   "id": "a8f86af9-dacf-45c2-a971-585e65305c48",
   "metadata": {},
   "outputs": [],
   "source": [
    "sol = Cashier(3,50,[1,2,3,4,5,6,7],[100,200,300,400,300,200,100])"
   ]
  },
  {
   "cell_type": "code",
   "execution_count": 16,
   "id": "e1d16d73-5e8f-4477-9936-67afad995aec",
   "metadata": {},
   "outputs": [],
   "source": [
    "assert sol.getBill([1,2],[1,2]) == 500"
   ]
  },
  {
   "cell_type": "code",
   "execution_count": 17,
   "id": "346239b7-08ed-49aa-bd0f-a3e3c49924bf",
   "metadata": {},
   "outputs": [],
   "source": [
    "assert sol.getBill([3,7],[10,10]) == 4000"
   ]
  },
  {
   "cell_type": "code",
   "execution_count": 18,
   "id": "2ef1edfb-2bf6-4e6b-baff-71a488d32027",
   "metadata": {},
   "outputs": [],
   "source": [
    "assert sol.getBill([1,2,3,4,5,6,7],[1,1,1,1,1,1,1]) == 800"
   ]
  },
  {
   "cell_type": "code",
   "execution_count": 19,
   "id": "df16fc19-ab65-46f9-85eb-92ae6e596734",
   "metadata": {},
   "outputs": [],
   "source": [
    "assert sol.getBill([4],[10]) == 4000"
   ]
  },
  {
   "cell_type": "code",
   "execution_count": 20,
   "id": "65ca1733-ccc6-4231-b504-6b4216a2d710",
   "metadata": {},
   "outputs": [],
   "source": [
    "assert sol.getBill([7,3],[10,10]) == 4000"
   ]
  },
  {
   "cell_type": "code",
   "execution_count": 21,
   "id": "11a01cb2-4678-42ec-82fe-2737982a12b2",
   "metadata": {},
   "outputs": [],
   "source": [
    "assert sol.getBill([7,5,3,1,6,4,2],[10,10,10,9,9,9,7]) == 7350"
   ]
  },
  {
   "cell_type": "code",
   "execution_count": 22,
   "id": "19cc8d85-be08-4fe7-9f71-d6ba9cd2d833",
   "metadata": {},
   "outputs": [],
   "source": [
    "assert sol.getBill([2,3,5],[5,3,2]) == 2500"
   ]
  }
 ],
 "metadata": {
  "kernelspec": {
   "display_name": "Python 3 (ipykernel)",
   "language": "python",
   "name": "python3"
  },
  "language_info": {
   "codemirror_mode": {
    "name": "ipython",
    "version": 3
   },
   "file_extension": ".py",
   "mimetype": "text/x-python",
   "name": "python",
   "nbconvert_exporter": "python",
   "pygments_lexer": "ipython3",
   "version": "3.9.7"
  }
 },
 "nbformat": 4,
 "nbformat_minor": 5
}
