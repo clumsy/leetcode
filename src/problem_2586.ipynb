{
 "cells": [
  {
   "cell_type": "markdown",
   "id": "d7259b5d-e244-4a9e-97da-ed02ff52f01f",
   "metadata": {},
   "source": [
    "[Problem 2586](https://leetcode.com/problems/count-the-number-of-vowel-strings-in-range/description)"
   ]
  },
  {
   "cell_type": "code",
   "execution_count": 1,
   "id": "86cfe67b-d723-425d-a85a-769789751399",
   "metadata": {},
   "outputs": [],
   "source": [
    "from typing import List"
   ]
  },
  {
   "cell_type": "code",
   "execution_count": 2,
   "id": "ea87d103-abfb-40cd-bcd0-a06d6cf9f90f",
   "metadata": {},
   "outputs": [],
   "source": [
    "class Solution:\n",
    "    def vowelStrings(self, words: List[str], left: int, right: int) -> int:\n",
    "        vowels = \"aeiou\"\n",
    "        res = sum(w[0] in vowels and w[-1] in vowels for w in words[left:right + 1])\n",
    "        return res"
   ]
  },
  {
   "cell_type": "code",
   "execution_count": 3,
   "id": "dcd33ed8-2b95-46aa-bff3-617292c8a5cd",
   "metadata": {},
   "outputs": [],
   "source": [
    "sol = Solution()"
   ]
  },
  {
   "cell_type": "code",
   "execution_count": 4,
   "id": "afa6fd58-1405-474b-8b2e-9ed6e7bf4af2",
   "metadata": {},
   "outputs": [],
   "source": [
    "assert sol.vowelStrings([\"are\",\"amy\",\"u\"], 0, 2) == 2"
   ]
  },
  {
   "cell_type": "code",
   "execution_count": 5,
   "id": "32a93af9-4091-4422-973e-f5ed6777a475",
   "metadata": {},
   "outputs": [],
   "source": [
    "assert sol.vowelStrings([\"hey\",\"aeo\",\"mu\",\"ooo\",\"artro\"], 1, 4) == 3"
   ]
  }
 ],
 "metadata": {
  "kernelspec": {
   "display_name": "Python 3 (ipykernel)",
   "language": "python",
   "name": "python3"
  },
  "language_info": {
   "codemirror_mode": {
    "name": "ipython",
    "version": 3
   },
   "file_extension": ".py",
   "mimetype": "text/x-python",
   "name": "python",
   "nbconvert_exporter": "python",
   "pygments_lexer": "ipython3",
   "version": "3.9.7"
  }
 },
 "nbformat": 4,
 "nbformat_minor": 5
}
