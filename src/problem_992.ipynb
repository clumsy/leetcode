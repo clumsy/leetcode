{
 "cells": [
  {
   "cell_type": "markdown",
   "id": "f89630c3-761e-4349-adc3-84ce6c1de95c",
   "metadata": {},
   "source": [
    "[Problem 992](https://leetcode.com/problems/subarrays-with-k-different-integers/description)"
   ]
  },
  {
   "cell_type": "code",
   "execution_count": 1,
   "id": "0d600027-5b8e-4683-ba71-28dfba936e36",
   "metadata": {},
   "outputs": [],
   "source": [
    "from typing import List\n",
    "from collections import Counter"
   ]
  },
  {
   "cell_type": "code",
   "execution_count": 2,
   "id": "1a7d4d69-b29a-49a7-90a7-05220c35c9e3",
   "metadata": {},
   "outputs": [],
   "source": [
    "class Solution:\n",
    "    def subarraysWithKDistinct(self, nums: List[int], k: int) -> int:\n",
    "        def at_most(x):\n",
    "            res = i = 0\n",
    "            uniq = Counter()\n",
    "            for j in range(len(nums)):\n",
    "                uniq[nums[j]] += 1\n",
    "                while i <= j and len(uniq) > x:\n",
    "                    uniq[nums[i]] -= 1\n",
    "                    if uniq[nums[i]] == 0:\n",
    "                        del uniq[nums[i]]\n",
    "                    i += 1\n",
    "                res += j - i + 1\n",
    "            return res\n",
    "        res = at_most(k) - at_most(k - 1)\n",
    "        return res"
   ]
  },
  {
   "cell_type": "code",
   "execution_count": 3,
   "id": "d919d5f3-547c-4239-a136-e45a8c36d663",
   "metadata": {},
   "outputs": [],
   "source": [
    "sol = Solution()"
   ]
  },
  {
   "cell_type": "code",
   "execution_count": 4,
   "id": "093b7f7d-d2f7-4e72-9552-22f2a4d13a66",
   "metadata": {},
   "outputs": [],
   "source": [
    "assert sol.subarraysWithKDistinct([1,2,1,2,3], 2) == 7"
   ]
  },
  {
   "cell_type": "code",
   "execution_count": 5,
   "id": "90824db2-5f35-40ad-8f00-7e078a310653",
   "metadata": {},
   "outputs": [],
   "source": [
    "assert sol.subarraysWithKDistinct([1,2,1,3,4], 3) == 3"
   ]
  }
 ],
 "metadata": {
  "kernelspec": {
   "display_name": "Python 3 (ipykernel)",
   "language": "python",
   "name": "python3"
  },
  "language_info": {
   "codemirror_mode": {
    "name": "ipython",
    "version": 3
   },
   "file_extension": ".py",
   "mimetype": "text/x-python",
   "name": "python",
   "nbconvert_exporter": "python",
   "pygments_lexer": "ipython3",
   "version": "3.9.7"
  }
 },
 "nbformat": 4,
 "nbformat_minor": 5
}
