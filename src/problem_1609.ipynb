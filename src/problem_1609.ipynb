{
 "cells": [
  {
   "cell_type": "markdown",
   "id": "4772a1f3-03eb-48e4-91ed-c658fa64f6e9",
   "metadata": {},
   "source": [
    "[Problem 1609](https://leetcode.com/problems/even-odd-tree/description)"
   ]
  },
  {
   "cell_type": "code",
   "execution_count": 1,
   "id": "48f7eb1d-5751-4307-9b82-516b3b3dd5e0",
   "metadata": {},
   "outputs": [],
   "source": [
    "# Definition for a binary tree node.\n",
    "class TreeNode:\n",
    "    def __init__(self, val=0, left=None, right=None):\n",
    "        self.val = val\n",
    "        self.left = left\n",
    "        self.right = right"
   ]
  },
  {
   "cell_type": "code",
   "execution_count": 2,
   "id": "74434914-4e0b-451d-9b59-2d7c30684016",
   "metadata": {},
   "outputs": [],
   "source": [
    "from typing import Optional\n",
    "from math import inf"
   ]
  },
  {
   "cell_type": "code",
   "execution_count": 3,
   "id": "a3208383-df4f-44aa-b9a3-9093e5b6e5d3",
   "metadata": {},
   "outputs": [],
   "source": [
    "class Solution:\n",
    "    def isEvenOddTree(self, root: Optional[TreeNode]) -> bool:\n",
    "        levels, q, res, current, level = [], [], True, root, 0\n",
    "        while True:\n",
    "            if current:\n",
    "                q.append((level, current))\n",
    "                level += 1\n",
    "                if len(levels) < level:\n",
    "                    levels.append(inf if level & 1 == 0 else -inf)\n",
    "                current = current.left\n",
    "            elif q:\n",
    "                level, current = q.pop()\n",
    "                # processing start\n",
    "                if (level & 1 == 0 and (current.val <= levels[level] or current.val & 1 == 0)) or (level & 1 == 1 and (current.val >= levels[level] or current.val & 1 == 1)):\n",
    "                    res = False\n",
    "                    break\n",
    "                else:\n",
    "                    levels[level] = current.val\n",
    "                # processing end\n",
    "                current = current.right\n",
    "                level += 1\n",
    "            else:\n",
    "                break\n",
    "        return res     "
   ]
  },
  {
   "cell_type": "code",
   "execution_count": 4,
   "id": "b3f90a90-b6a9-40d9-ac34-a40188b46df8",
   "metadata": {},
   "outputs": [],
   "source": [
    "sol = Solution()"
   ]
  },
  {
   "cell_type": "code",
   "execution_count": 5,
   "id": "ad1b9e15-002a-4cef-a2b7-3a41307317f7",
   "metadata": {},
   "outputs": [],
   "source": [
    "from collections import deque\n",
    "\n",
    "null = None  # to use Leetcode samples as is\n",
    "\n",
    "def tree(values):\n",
    "    if not values:\n",
    "        return null\n",
    "    root = TreeNode(values[0])\n",
    "    queue = deque()\n",
    "    queue.append(root)\n",
    "    queue.append(None)\n",
    "    length = len(values)\n",
    "    i = 0\n",
    "    while queue:\n",
    "        current = queue.popleft()\n",
    "        if current:\n",
    "            i += 1\n",
    "            if i < length and values[i]:\n",
    "                current.left = TreeNode(values[i])\n",
    "                queue.append(current.left)\n",
    "            i += 1\n",
    "            if i < length and values[i]:\n",
    "                current.right = TreeNode(values[i])\n",
    "                queue.append(current.right)\n",
    "            if i == length:\n",
    "                return root\n",
    "        else:\n",
    "            if queue:\n",
    "                queue.append(None)\n",
    "    return root"
   ]
  },
  {
   "cell_type": "code",
   "execution_count": 6,
   "id": "c06c4f96-94d7-4d2c-aff9-13c936ed4d64",
   "metadata": {},
   "outputs": [],
   "source": [
    "assert sol.isEvenOddTree(tree([1,10,4,3,null,7,9,12,8,6,null,null,2]))"
   ]
  },
  {
   "cell_type": "code",
   "execution_count": 7,
   "id": "21b4c054-fd3b-402a-aeda-13103f989b7a",
   "metadata": {},
   "outputs": [],
   "source": [
    "assert not sol.isEvenOddTree(tree([5,4,2,3,3,7]))"
   ]
  },
  {
   "cell_type": "code",
   "execution_count": 8,
   "id": "9e74cbc2-ec77-4250-88eb-3711bd56daf2",
   "metadata": {},
   "outputs": [],
   "source": [
    "assert not sol.isEvenOddTree(tree([5,9,1,3,5,7]))"
   ]
  }
 ],
 "metadata": {
  "kernelspec": {
   "display_name": "Python 3 (ipykernel)",
   "language": "python",
   "name": "python3"
  },
  "language_info": {
   "codemirror_mode": {
    "name": "ipython",
    "version": 3
   },
   "file_extension": ".py",
   "mimetype": "text/x-python",
   "name": "python",
   "nbconvert_exporter": "python",
   "pygments_lexer": "ipython3",
   "version": "3.9.7"
  }
 },
 "nbformat": 4,
 "nbformat_minor": 5
}
