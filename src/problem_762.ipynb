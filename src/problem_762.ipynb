{
 "cells": [
  {
   "cell_type": "markdown",
   "id": "cba330f0-9729-4ec7-9434-8dd044344052",
   "metadata": {},
   "source": [
    "[Problem 762](https://leetcode.com/problems/prime-number-of-set-bits-in-binary-representation/description)"
   ]
  },
  {
   "cell_type": "code",
   "execution_count": 1,
   "id": "aa10335a-fd2c-4c33-b1ca-b2f933a5316c",
   "metadata": {},
   "outputs": [],
   "source": [
    "class Solution:\n",
    "    def countPrimeSetBits(self, left: int, right: int) -> int:\n",
    "        primes = {2, 3, 5, 7, 11, 13, 17, 19, 23, 29, 31, 37, 41, 43}\n",
    "        res = sum(bin(i)[2:].count(\"1\") in primes for i in range(left, right + 1))\n",
    "        return res"
   ]
  },
  {
   "cell_type": "code",
   "execution_count": 2,
   "id": "efdc7690-860a-4584-a8c1-c52e4f2ef3df",
   "metadata": {},
   "outputs": [],
   "source": [
    "sol = Solution()"
   ]
  },
  {
   "cell_type": "code",
   "execution_count": 3,
   "id": "6fd1d9c8-ad89-4bfe-b4fa-d532306c5d28",
   "metadata": {},
   "outputs": [],
   "source": [
    "assert sol.countPrimeSetBits(6, 10) == 4"
   ]
  },
  {
   "cell_type": "code",
   "execution_count": 4,
   "id": "5c30fe91-dbc6-415f-9b13-c3dcaa4fa7ad",
   "metadata": {},
   "outputs": [],
   "source": [
    "assert sol.countPrimeSetBits(10, 15) == 5"
   ]
  }
 ],
 "metadata": {
  "kernelspec": {
   "display_name": "Python 3 (ipykernel)",
   "language": "python",
   "name": "python3"
  },
  "language_info": {
   "codemirror_mode": {
    "name": "ipython",
    "version": 3
   },
   "file_extension": ".py",
   "mimetype": "text/x-python",
   "name": "python",
   "nbconvert_exporter": "python",
   "pygments_lexer": "ipython3",
   "version": "3.9.7"
  }
 },
 "nbformat": 4,
 "nbformat_minor": 5
}
