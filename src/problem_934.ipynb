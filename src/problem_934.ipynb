{
 "cells": [
  {
   "cell_type": "markdown",
   "id": "a03b0e9a-a93d-40f7-96f7-5741ab5f4f23",
   "metadata": {},
   "source": [
    "[Problem 934](https://leetcode.com/problems/shortest-bridge/description)"
   ]
  },
  {
   "cell_type": "code",
   "execution_count": 3,
   "id": "a2309ea1-525d-41d9-addc-e9cac1a6b029",
   "metadata": {},
   "outputs": [],
   "source": [
    "from typing import List\n",
    "from collections import deque"
   ]
  },
  {
   "cell_type": "code",
   "execution_count": 4,
   "id": "b930fc97-0ca1-455c-8b4b-7026480b1d50",
   "metadata": {},
   "outputs": [],
   "source": [
    "class Solution:\n",
    "    def shortestBridge(self, grid: List[List[int]]) -> int:\n",
    "        q = deque()\n",
    "        rows = cols = len(grid)\n",
    "        def dfs(r, c):\n",
    "            if r < 0 or r >= rows or c < 0 or c >= cols or grid[r][c] != 1:\n",
    "                return\n",
    "            grid[r][c] = 0\n",
    "            q.append((r, c))\n",
    "            dfs(r + 1, c)\n",
    "            dfs(r - 1, c)\n",
    "            dfs(r, c - 1)\n",
    "            dfs(r, c + 1)\n",
    "        \n",
    "        marked = False\n",
    "        for r in range(rows):\n",
    "            if marked:\n",
    "                break\n",
    "            for c in range(cols):\n",
    "                if grid[r][c] == 1:\n",
    "                    dfs(r, c)\n",
    "                    marked = True\n",
    "                    break\n",
    "        \n",
    "        res, done = -2, False\n",
    "        while not done:\n",
    "            for _ in range(len(q)):\n",
    "                r, c = q.popleft()\n",
    "                if r < 0 or r >= rows or c < 0 or c >= cols:\n",
    "                    continue\n",
    "                if grid[r][c] == 1:\n",
    "                    done = True\n",
    "                    break\n",
    "                if grid[r][c] == 0:\n",
    "                    grid[r][c] += 2\n",
    "                    q.append((r + 1, c))\n",
    "                    q.append((r - 1, c))\n",
    "                    q.append((r, c + 1))\n",
    "                    q.append((r, c - 1))\n",
    "            res += 1\n",
    "\n",
    "        return res"
   ]
  },
  {
   "cell_type": "code",
   "execution_count": 5,
   "id": "01c4d22d-68de-4244-9350-24063875e695",
   "metadata": {},
   "outputs": [],
   "source": [
    "sol = Solution()"
   ]
  },
  {
   "cell_type": "code",
   "execution_count": 6,
   "id": "779bf49c-acc9-44e7-a106-6177cae8a2e9",
   "metadata": {},
   "outputs": [],
   "source": [
    "assert sol.shortestBridge([[0,1],[1,0]]) == 1"
   ]
  },
  {
   "cell_type": "code",
   "execution_count": 7,
   "id": "be4fcd09-d058-4cdd-a6b2-73f4bea41e06",
   "metadata": {},
   "outputs": [],
   "source": [
    "assert sol.shortestBridge([[0,1,0],[0,0,0],[0,0,1]]) == 2"
   ]
  },
  {
   "cell_type": "code",
   "execution_count": 8,
   "id": "c6daa542-e76c-44bd-b100-1b2fb87653cd",
   "metadata": {},
   "outputs": [],
   "source": [
    "assert sol.shortestBridge([[1,1,1,1,1],[1,0,0,0,1],[1,0,1,0,1],[1,0,0,0,1],[1,1,1,1,1]]) == 1"
   ]
  }
 ],
 "metadata": {
  "kernelspec": {
   "display_name": "Python 3 (ipykernel)",
   "language": "python",
   "name": "python3"
  },
  "language_info": {
   "codemirror_mode": {
    "name": "ipython",
    "version": 3
   },
   "file_extension": ".py",
   "mimetype": "text/x-python",
   "name": "python",
   "nbconvert_exporter": "python",
   "pygments_lexer": "ipython3",
   "version": "3.9.7"
  }
 },
 "nbformat": 4,
 "nbformat_minor": 5
}
