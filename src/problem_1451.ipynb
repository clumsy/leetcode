{
 "cells": [
  {
   "cell_type": "markdown",
   "id": "d8c728ae-6171-4dd1-befd-a4a44d333391",
   "metadata": {},
   "source": [
    "[Problem 1451](https://leetcode.com/problems/rearrange-words-in-a-sentence/description)"
   ]
  },
  {
   "cell_type": "code",
   "execution_count": 1,
   "id": "905f9038-d6e6-4691-b89c-37fb0abd1e53",
   "metadata": {},
   "outputs": [],
   "source": [
    "class Solution:\n",
    "    def arrangeWords(self, text: str) -> str:\n",
    "        res = \" \".join(sorted(text.split(), key=len)).capitalize()\n",
    "        return res"
   ]
  },
  {
   "cell_type": "code",
   "execution_count": 2,
   "id": "62a2ae3d-20eb-4680-bbcd-bbb91e0e7761",
   "metadata": {},
   "outputs": [],
   "source": [
    "sol = Solution()"
   ]
  },
  {
   "cell_type": "code",
   "execution_count": 3,
   "id": "86c7c4a3-db48-44a4-9a9a-e6e4eab9f575",
   "metadata": {},
   "outputs": [],
   "source": [
    "assert sol.arrangeWords(\"Leetcode is cool\") == \"Is cool leetcode\""
   ]
  },
  {
   "cell_type": "code",
   "execution_count": 4,
   "id": "1bed8091-91b5-4e68-bbea-f2c3c6d148c1",
   "metadata": {},
   "outputs": [],
   "source": [
    "assert sol.arrangeWords(\"Keep calm and code on\") == \"On and keep calm code\""
   ]
  },
  {
   "cell_type": "code",
   "execution_count": 5,
   "id": "efd68e1b-5edc-4dd2-a81d-6d9911d7af4f",
   "metadata": {},
   "outputs": [],
   "source": [
    "assert sol.arrangeWords(\"To be or not to be\") == \"To be or to be not\""
   ]
  }
 ],
 "metadata": {
  "kernelspec": {
   "display_name": "Python 3 (ipykernel)",
   "language": "python",
   "name": "python3"
  },
  "language_info": {
   "codemirror_mode": {
    "name": "ipython",
    "version": 3
   },
   "file_extension": ".py",
   "mimetype": "text/x-python",
   "name": "python",
   "nbconvert_exporter": "python",
   "pygments_lexer": "ipython3",
   "version": "3.9.7"
  }
 },
 "nbformat": 4,
 "nbformat_minor": 5
}
