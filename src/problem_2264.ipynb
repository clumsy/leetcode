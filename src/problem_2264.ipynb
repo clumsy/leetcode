{
 "cells": [
  {
   "cell_type": "markdown",
   "id": "153ca91f-7702-4c56-b934-64bb5e9216e7",
   "metadata": {},
   "source": [
    "[Problem 2264](https://leetcode.com/problems/largest-3-same-digit-number-in-string/description)"
   ]
  },
  {
   "cell_type": "code",
   "execution_count": 1,
   "id": "513f5ad2-fec6-41a7-8cc9-890e6194f442",
   "metadata": {},
   "outputs": [],
   "source": [
    "class Solution:\n",
    "    def largestGoodInteger(self, num: str) -> str:\n",
    "        res = \"\"\n",
    "        for i in range(2, len(num)):\n",
    "            if num[i - 2] == num[i - 1] == num[i]:\n",
    "                res = max(res, num[i - 2:i + 1])\n",
    "        return res"
   ]
  },
  {
   "cell_type": "code",
   "execution_count": 2,
   "id": "d13d6f43-9c70-4317-adb2-f16579e5136c",
   "metadata": {},
   "outputs": [],
   "source": [
    "sol = Solution()"
   ]
  },
  {
   "cell_type": "code",
   "execution_count": 3,
   "id": "d5550230-15e3-4832-8142-d1c667063a9e",
   "metadata": {},
   "outputs": [],
   "source": [
    "assert sol.largestGoodInteger(\"6777133339\") == \"777\""
   ]
  },
  {
   "cell_type": "code",
   "execution_count": 4,
   "id": "52f33bb5-acae-4890-bd11-c53c64b732cd",
   "metadata": {},
   "outputs": [],
   "source": [
    "assert sol.largestGoodInteger(\"2300019\") == \"000\""
   ]
  },
  {
   "cell_type": "code",
   "execution_count": 5,
   "id": "9edb5169-ab51-485f-826d-23eb6a83f75d",
   "metadata": {},
   "outputs": [],
   "source": [
    "assert sol.largestGoodInteger(\"42352338\") == \"\""
   ]
  }
 ],
 "metadata": {
  "kernelspec": {
   "display_name": "Python 3 (ipykernel)",
   "language": "python",
   "name": "python3"
  },
  "language_info": {
   "codemirror_mode": {
    "name": "ipython",
    "version": 3
   },
   "file_extension": ".py",
   "mimetype": "text/x-python",
   "name": "python",
   "nbconvert_exporter": "python",
   "pygments_lexer": "ipython3",
   "version": "3.9.7"
  }
 },
 "nbformat": 4,
 "nbformat_minor": 5
}
