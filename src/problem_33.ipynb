{
 "cells": [
  {
   "cell_type": "markdown",
   "id": "dfab4cd7-66ff-454c-9404-0c168a1fb7bf",
   "metadata": {},
   "source": [
    "[Problem 33](https://leetcode.com/problems/search-in-rotated-sorted-array/)"
   ]
  },
  {
   "cell_type": "code",
   "execution_count": 2,
   "id": "5d17b376-1841-4f8d-a1e4-1af18c558e2b",
   "metadata": {},
   "outputs": [],
   "source": [
    "from typing import List"
   ]
  },
  {
   "cell_type": "code",
   "execution_count": 3,
   "id": "5dbfda9c-5ce3-49bf-af47-5599677de00f",
   "metadata": {},
   "outputs": [],
   "source": [
    "class Solution:\n",
    "    def search(self, nums: List[int], target: int) -> int:\n",
    "        lo, hi = 0, len(nums) - 1\n",
    "        while lo < hi:\n",
    "            mi = lo + (hi - lo) // 2\n",
    "            if nums[mi] == target:\n",
    "                return mi\n",
    "            # either lo->mi is sorted or mi->hi, based on which it is we check where target is\n",
    "            if nums[lo] <= target < nums[mi] or target < nums[mi] < nums[hi] or nums[mi] < nums[hi] < target:\n",
    "                hi = mi - 1\n",
    "            else:\n",
    "                lo = mi + 1\n",
    "        return lo if nums[lo] == target else -1"
   ]
  },
  {
   "cell_type": "code",
   "execution_count": 4,
   "id": "b2f61dd6-b424-4304-b1a4-328b9dd6b5ba",
   "metadata": {},
   "outputs": [],
   "source": [
    "sol = Solution()"
   ]
  },
  {
   "cell_type": "code",
   "execution_count": 5,
   "id": "ebaac3e9-44fc-4a8f-85b4-02f19bf7b0dd",
   "metadata": {},
   "outputs": [],
   "source": [
    "assert sol.search([4,5,6,7,0,1,2], 0) == 4"
   ]
  },
  {
   "cell_type": "code",
   "execution_count": 6,
   "id": "d47c2391-2e65-4505-9248-bae042031594",
   "metadata": {},
   "outputs": [],
   "source": [
    "assert sol.search([4,5,6,7,0,1,2], 3) == -1"
   ]
  },
  {
   "cell_type": "code",
   "execution_count": 7,
   "id": "ccf8a17b-3360-4fde-a831-7d938f19b13c",
   "metadata": {},
   "outputs": [],
   "source": [
    "assert sol.search([1], 0) == -1"
   ]
  }
 ],
 "metadata": {
  "kernelspec": {
   "display_name": "Python 3 (ipykernel)",
   "language": "python",
   "name": "python3"
  },
  "language_info": {
   "codemirror_mode": {
    "name": "ipython",
    "version": 3
   },
   "file_extension": ".py",
   "mimetype": "text/x-python",
   "name": "python",
   "nbconvert_exporter": "python",
   "pygments_lexer": "ipython3",
   "version": "3.9.7"
  }
 },
 "nbformat": 4,
 "nbformat_minor": 5
}
