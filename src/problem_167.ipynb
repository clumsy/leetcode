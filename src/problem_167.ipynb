{
 "cells": [
  {
   "cell_type": "markdown",
   "id": "162d39a3-4b0d-4826-a99d-2f9bebdaedea",
   "metadata": {},
   "source": [
    "[Problem 167](https://leetcode.com/problems/two-sum-ii-input-array-is-sorted/)"
   ]
  },
  {
   "cell_type": "code",
   "execution_count": 2,
   "id": "8b4076df-5446-4906-a7df-5afef29887b0",
   "metadata": {},
   "outputs": [],
   "source": [
    "from typing import List"
   ]
  },
  {
   "cell_type": "code",
   "execution_count": 3,
   "id": "3943cca5-2bea-46f2-917f-bc852c3319c5",
   "metadata": {},
   "outputs": [],
   "source": [
    "class Solution:\n",
    "    def twoSum(self, numbers: List[int], target: int) -> List[int]:\n",
    "        lo, hi = 0, len(numbers) - 1\n",
    "        while lo < hi:\n",
    "            diff = numbers[lo] + numbers[hi] - target\n",
    "            if diff == 0:\n",
    "                return [lo + 1, hi + 1]\n",
    "            elif diff > 0:\n",
    "                hi -= 1\n",
    "            else:\n",
    "                lo += 1"
   ]
  },
  {
   "cell_type": "code",
   "execution_count": 4,
   "id": "ff817ecd-3bf0-416d-911c-57e325e49dcb",
   "metadata": {},
   "outputs": [],
   "source": [
    "sol = Solution()"
   ]
  },
  {
   "cell_type": "code",
   "execution_count": 6,
   "id": "93c6bf73-873e-4540-884d-af3ff2f55b53",
   "metadata": {},
   "outputs": [],
   "source": [
    "assert sol.twoSum([2,7,11,15], 9) == [1,2]"
   ]
  },
  {
   "cell_type": "code",
   "execution_count": 7,
   "id": "b5c7011f-a203-4423-9fc5-cd116122a33a",
   "metadata": {},
   "outputs": [],
   "source": [
    "assert sol.twoSum([2,3,4], 6) == [1,3]"
   ]
  },
  {
   "cell_type": "code",
   "execution_count": 8,
   "id": "9fdca87f-9a11-4cbe-910e-b89e306b867f",
   "metadata": {},
   "outputs": [],
   "source": [
    "assert sol.twoSum([-1,0], -1) == [1,2]"
   ]
  }
 ],
 "metadata": {
  "kernelspec": {
   "display_name": "Python 3 (ipykernel)",
   "language": "python",
   "name": "python3"
  },
  "language_info": {
   "codemirror_mode": {
    "name": "ipython",
    "version": 3
   },
   "file_extension": ".py",
   "mimetype": "text/x-python",
   "name": "python",
   "nbconvert_exporter": "python",
   "pygments_lexer": "ipython3",
   "version": "3.9.7"
  }
 },
 "nbformat": 4,
 "nbformat_minor": 5
}
