{
 "cells": [
  {
   "cell_type": "markdown",
   "id": "e76c0bcc-56d4-4e3b-8e9c-58c8a3d3b8e7",
   "metadata": {},
   "source": [
    "[Problem 1046](https://leetcode.com/problems/last-stone-weight)"
   ]
  },
  {
   "cell_type": "code",
   "execution_count": 6,
   "id": "506b28d6-235d-4690-b14c-9f8aeff9d729",
   "metadata": {},
   "outputs": [],
   "source": [
    "from typing import List\n",
    "import heapq"
   ]
  },
  {
   "cell_type": "code",
   "execution_count": 7,
   "id": "738b6b43-bf29-4345-b9ed-b782afc0601f",
   "metadata": {},
   "outputs": [],
   "source": [
    "class Solution:\n",
    "    def lastStoneWeight(self, stones: List[int]) -> int:\n",
    "        heap = [-s for s in stones]\n",
    "        heapq.heapify(heap)\n",
    "        while len(heap) > 1:\n",
    "            y = -heapq.heappop(heap)\n",
    "            x = -heapq.heappop(heap)\n",
    "            if x < y:\n",
    "                heapq.heappush(heap, -(y - x))\n",
    "        return -heapq.heappop(heap) if len(heap) > 0 else 0"
   ]
  },
  {
   "cell_type": "code",
   "execution_count": 8,
   "id": "954cd736-d66a-45de-af56-b350756984be",
   "metadata": {},
   "outputs": [],
   "source": [
    "sol = Solution()"
   ]
  },
  {
   "cell_type": "code",
   "execution_count": 9,
   "id": "c15f951b-7a52-4093-a481-14f807f658d7",
   "metadata": {},
   "outputs": [],
   "source": [
    "assert sol.lastStoneWeight([2,7,4,1,8,1]) == 1"
   ]
  },
  {
   "cell_type": "code",
   "execution_count": 11,
   "id": "461a3e88-96b6-452c-b126-ba1c332f76e3",
   "metadata": {},
   "outputs": [],
   "source": [
    "assert sol.lastStoneWeight([1]) == 1"
   ]
  }
 ],
 "metadata": {
  "kernelspec": {
   "display_name": "Python 3 (ipykernel)",
   "language": "python",
   "name": "python3"
  },
  "language_info": {
   "codemirror_mode": {
    "name": "ipython",
    "version": 3
   },
   "file_extension": ".py",
   "mimetype": "text/x-python",
   "name": "python",
   "nbconvert_exporter": "python",
   "pygments_lexer": "ipython3",
   "version": "3.9.7"
  }
 },
 "nbformat": 4,
 "nbformat_minor": 5
}
