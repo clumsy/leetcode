{
 "cells": [
  {
   "cell_type": "markdown",
   "id": "a44fd743-e0e7-49fa-b022-3603264fb855",
   "metadata": {},
   "source": [
    "[Problem 1030](https://leetcode.com/problems/matrix-cells-in-distance-order/description)"
   ]
  },
  {
   "cell_type": "code",
   "execution_count": 1,
   "id": "0a1f9406-eb22-4d97-af75-1f9f32ade7be",
   "metadata": {},
   "outputs": [],
   "source": [
    "from typing import List"
   ]
  },
  {
   "cell_type": "code",
   "execution_count": 13,
   "id": "4f83ebe8-2aa0-495b-9bb8-33640dda41be",
   "metadata": {},
   "outputs": [],
   "source": [
    "class Solution:\n",
    "    def allCellsDistOrder(self, rows: int, cols: int, r: int, c: int) -> List[List[int]]:\n",
    "        res = [[r, c]]\n",
    "        d = max(r + c, r + cols - c, rows - r + c, rows - r + cols - c)\n",
    "        for i in range(1, d + 1):\n",
    "            for j in range(i):\n",
    "                if 0 <= r - (i - j) < rows and 0 <= c + j < cols:\n",
    "                    res.append([r - (i - j), c + j])\n",
    "                if 0 <= r + j < rows and 0 <= c + (i - j) < cols:\n",
    "                    res.append([r + j, c + (i - j)])\n",
    "                if 0 <= r + (i - j) < rows and 0 <= c - j < cols:\n",
    "                    res.append([r + (i - j), c - j])\n",
    "                if 0 <= r - j < rows and 0 <= c - (i - j) < cols:\n",
    "                    res.append([r - j, c - (i - j)])\n",
    "        return res"
   ]
  },
  {
   "cell_type": "code",
   "execution_count": 14,
   "id": "a20cc284-c090-45e7-827b-7916b0a27f05",
   "metadata": {},
   "outputs": [],
   "source": [
    "sol = Solution()"
   ]
  },
  {
   "cell_type": "code",
   "execution_count": 17,
   "id": "1fc9643e-37ad-461f-9b54-0e4a80ab4208",
   "metadata": {},
   "outputs": [],
   "source": [
    "assert sol.allCellsDistOrder(1,2,0,0) == [[0,0],[0,1]]"
   ]
  },
  {
   "cell_type": "code",
   "execution_count": 20,
   "id": "55d12fe6-a8f8-4d7b-af11-718092bc157f",
   "metadata": {},
   "outputs": [],
   "source": [
    "assert sol.allCellsDistOrder(2,2,0,1) == [[0,1],[1,1],[0,0],[1,0]]"
   ]
  },
  {
   "cell_type": "code",
   "execution_count": 19,
   "id": "4eee0b07-212e-422f-8718-ad80acc9fcd1",
   "metadata": {},
   "outputs": [],
   "source": [
    "assert sol.allCellsDistOrder(2,3,1,2) == [[1,2],[0,2],[1,1],[1,0],[0,1],[0,0]]"
   ]
  }
 ],
 "metadata": {
  "kernelspec": {
   "display_name": "Python 3 (ipykernel)",
   "language": "python",
   "name": "python3"
  },
  "language_info": {
   "codemirror_mode": {
    "name": "ipython",
    "version": 3
   },
   "file_extension": ".py",
   "mimetype": "text/x-python",
   "name": "python",
   "nbconvert_exporter": "python",
   "pygments_lexer": "ipython3",
   "version": "3.9.7"
  }
 },
 "nbformat": 4,
 "nbformat_minor": 5
}
