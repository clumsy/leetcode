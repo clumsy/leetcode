{
 "cells": [
  {
   "cell_type": "markdown",
   "id": "2eed1fb7-ec78-43b5-81ba-945dbcf1e6bd",
   "metadata": {},
   "source": [
    "[Problem 674](https://leetcode.com/problems/longest-continuous-increasing-subsequence/description)"
   ]
  },
  {
   "cell_type": "code",
   "execution_count": 1,
   "id": "e75b5c75-3748-4fe2-8c2c-427afc3431b5",
   "metadata": {},
   "outputs": [],
   "source": [
    "from typing import List"
   ]
  },
  {
   "cell_type": "code",
   "execution_count": 2,
   "id": "0b3799a0-422b-4363-aad0-f3c9639eec30",
   "metadata": {},
   "outputs": [],
   "source": [
    "class Solution:\n",
    "    def findLengthOfLCIS(self, nums: List[int]) -> int:\n",
    "        res, cur = 0, 0\n",
    "        for i, e in enumerate(nums):\n",
    "            if i and e <= nums[i - 1]:\n",
    "                cur = 0\n",
    "            cur += 1\n",
    "            res = max(res, cur)\n",
    "        return res"
   ]
  },
  {
   "cell_type": "code",
   "execution_count": 3,
   "id": "19a5ec5e-858b-4fcf-ab93-20d85562cb4d",
   "metadata": {},
   "outputs": [],
   "source": [
    "sol = Solution()"
   ]
  },
  {
   "cell_type": "code",
   "execution_count": 4,
   "id": "cd84c897-9544-4798-b9a7-34414cc3383e",
   "metadata": {},
   "outputs": [],
   "source": [
    "assert sol.findLengthOfLCIS([1,3,5,4,7]) == 3"
   ]
  },
  {
   "cell_type": "code",
   "execution_count": 5,
   "id": "1aafcaab-fd2f-49a2-858c-2664033a5409",
   "metadata": {},
   "outputs": [],
   "source": [
    "assert sol.findLengthOfLCIS([2,2,2,2,2]) == 1"
   ]
  }
 ],
 "metadata": {
  "kernelspec": {
   "display_name": "Python 3 (ipykernel)",
   "language": "python",
   "name": "python3"
  },
  "language_info": {
   "codemirror_mode": {
    "name": "ipython",
    "version": 3
   },
   "file_extension": ".py",
   "mimetype": "text/x-python",
   "name": "python",
   "nbconvert_exporter": "python",
   "pygments_lexer": "ipython3",
   "version": "3.9.7"
  }
 },
 "nbformat": 4,
 "nbformat_minor": 5
}
