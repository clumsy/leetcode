{
 "cells": [
  {
   "cell_type": "markdown",
   "id": "7f435513-2fd9-44ed-908e-67d8bfa7c1f1",
   "metadata": {},
   "source": [
    "[Problem 2605](https://leetcode.com/problems/form-smallest-number-from-two-digit-arrays/description)"
   ]
  },
  {
   "cell_type": "code",
   "execution_count": 1,
   "id": "d87f6dff-b8f4-4e1c-b3c8-81dfde4c0fdb",
   "metadata": {},
   "outputs": [],
   "source": [
    "from typing import List"
   ]
  },
  {
   "cell_type": "code",
   "execution_count": 2,
   "id": "439752cd-c9cd-4ec4-91e4-7605b2411ef3",
   "metadata": {},
   "outputs": [],
   "source": [
    "class Solution:\n",
    "    def minNumber(self, nums1: List[int], nums2: List[int]) -> int:\n",
    "        n1, n2 = set(nums1), set(nums2)\n",
    "        same = n1 & n2\n",
    "        res = [min(same)] if same else sorted([min(nums1), min(nums2)])\n",
    "        res = int(\"\".join(str(i) for i in res))\n",
    "        return res"
   ]
  },
  {
   "cell_type": "code",
   "execution_count": 3,
   "id": "09ddf133-bc6e-4d2a-957f-b5a052c3e46e",
   "metadata": {},
   "outputs": [],
   "source": [
    "sol = Solution()"
   ]
  },
  {
   "cell_type": "code",
   "execution_count": 4,
   "id": "ffab8952-2e1d-44f7-9336-892775a4ad7b",
   "metadata": {},
   "outputs": [],
   "source": [
    "assert sol.minNumber([4,1,3], [5,7]) == 15"
   ]
  },
  {
   "cell_type": "code",
   "execution_count": 5,
   "id": "fd13bd5a-ecd9-45a4-a14e-13a0db8ca256",
   "metadata": {},
   "outputs": [],
   "source": [
    "assert sol.minNumber([3,5,2,6], [3,1,7]) == 3"
   ]
  }
 ],
 "metadata": {
  "kernelspec": {
   "display_name": "Python 3 (ipykernel)",
   "language": "python",
   "name": "python3"
  },
  "language_info": {
   "codemirror_mode": {
    "name": "ipython",
    "version": 3
   },
   "file_extension": ".py",
   "mimetype": "text/x-python",
   "name": "python",
   "nbconvert_exporter": "python",
   "pygments_lexer": "ipython3",
   "version": "3.9.7"
  }
 },
 "nbformat": 4,
 "nbformat_minor": 5
}
