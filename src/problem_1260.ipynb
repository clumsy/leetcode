{
 "cells": [
  {
   "cell_type": "markdown",
   "id": "80792874-7902-4e64-8e86-3148790fcaf8",
   "metadata": {},
   "source": [
    "[Problem 1260](https://leetcode.com/problems/shift-2d-grid/description)"
   ]
  },
  {
   "cell_type": "code",
   "execution_count": 1,
   "id": "71d57b69-ab3e-44b2-93d8-81470ba752ac",
   "metadata": {},
   "outputs": [],
   "source": [
    "from typing import List"
   ]
  },
  {
   "cell_type": "code",
   "execution_count": 2,
   "id": "ccb80330-a96b-4719-8634-30cd2a8166e6",
   "metadata": {},
   "outputs": [],
   "source": [
    "class Solution:\n",
    "    def shiftGrid(self, grid: List[List[int]], k: int) -> List[List[int]]:\n",
    "        rows, cols = len(grid), len(grid[0])\n",
    "        res = [[0] * cols for _ in range(rows)]\n",
    "        for r in range(rows):\n",
    "            for c in range(cols):\n",
    "                res[r][c] = grid[(r - (k - c + cols - 1) // cols) % rows][(c - k) % cols]\n",
    "        return res"
   ]
  },
  {
   "cell_type": "code",
   "execution_count": 3,
   "id": "9052b2e3-3006-4bd6-a176-50d3357b4d58",
   "metadata": {},
   "outputs": [],
   "source": [
    "sol = Solution()"
   ]
  },
  {
   "cell_type": "code",
   "execution_count": 4,
   "id": "a1fcc73f-1f06-47ab-a5d1-b0ce781c61cd",
   "metadata": {},
   "outputs": [],
   "source": [
    "assert sol.shiftGrid([[1,2,3],[4,5,6],[7,8,9]], 1) == [[9,1,2],[3,4,5],[6,7,8]]"
   ]
  },
  {
   "cell_type": "code",
   "execution_count": 5,
   "id": "2b88fdf7-d951-41f6-9517-7a6fc2c1eddc",
   "metadata": {},
   "outputs": [],
   "source": [
    "assert sol.shiftGrid([[3,8,1,9],[19,7,2,5],[4,6,11,10],[12,0,21,13]], 4) == [[12,0,21,13],[3,8,1,9],[19,7,2,5],[4,6,11,10]]"
   ]
  },
  {
   "cell_type": "code",
   "execution_count": 6,
   "id": "ec0c3bb8-756e-471d-b351-b03e09e0328e",
   "metadata": {},
   "outputs": [],
   "source": [
    "assert sol.shiftGrid([[1,2,3],[4,5,6],[7,8,9]], 9) == [[1,2,3],[4,5,6],[7,8,9]]"
   ]
  }
 ],
 "metadata": {
  "kernelspec": {
   "display_name": "Python 3 (ipykernel)",
   "language": "python",
   "name": "python3"
  },
  "language_info": {
   "codemirror_mode": {
    "name": "ipython",
    "version": 3
   },
   "file_extension": ".py",
   "mimetype": "text/x-python",
   "name": "python",
   "nbconvert_exporter": "python",
   "pygments_lexer": "ipython3",
   "version": "3.9.7"
  }
 },
 "nbformat": 4,
 "nbformat_minor": 5
}
