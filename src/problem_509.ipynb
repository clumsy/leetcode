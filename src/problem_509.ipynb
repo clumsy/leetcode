{
 "cells": [
  {
   "cell_type": "markdown",
   "id": "012ed910-3da0-44b3-90a3-d9b87d8e445c",
   "metadata": {},
   "source": [
    "[Problem 509](https://leetcode.com/problems/fibonacci-number/description)"
   ]
  },
  {
   "cell_type": "code",
   "execution_count": 1,
   "id": "00874294-a540-46f3-8756-01e19883c387",
   "metadata": {},
   "outputs": [],
   "source": [
    "from typing import List"
   ]
  },
  {
   "cell_type": "code",
   "execution_count": 2,
   "id": "d269c895-3038-4297-9194-f75cd0bc6325",
   "metadata": {},
   "outputs": [],
   "source": [
    "class Solution:\n",
    "    def fib(self, n: int) -> int:\n",
    "        fn_1, fn = 0, 1\n",
    "        while n > 1:\n",
    "            fn_1, fn = fn, fn_1 + fn\n",
    "            n -= 1\n",
    "        return fn if n > 0 else fn_1"
   ]
  },
  {
   "cell_type": "code",
   "execution_count": 3,
   "id": "27a8bda6-3a1a-4228-90bc-3f350d92db46",
   "metadata": {},
   "outputs": [],
   "source": [
    "sol = Solution()"
   ]
  },
  {
   "cell_type": "code",
   "execution_count": 4,
   "id": "1e44ca77-9110-4e3f-8e2d-716c3a454446",
   "metadata": {},
   "outputs": [],
   "source": [
    "assert sol.fib(2) == 1"
   ]
  },
  {
   "cell_type": "code",
   "execution_count": 5,
   "id": "c36ae75b-a975-4603-b96d-a472df24731a",
   "metadata": {},
   "outputs": [],
   "source": [
    "assert sol.fib(3) == 2"
   ]
  },
  {
   "cell_type": "code",
   "execution_count": 6,
   "id": "1a15ea65-5f5b-4554-9039-c57c92ef5e8d",
   "metadata": {},
   "outputs": [],
   "source": [
    "assert sol.fib(4) == 3"
   ]
  }
 ],
 "metadata": {
  "kernelspec": {
   "display_name": "Python 3 (ipykernel)",
   "language": "python",
   "name": "python3"
  },
  "language_info": {
   "codemirror_mode": {
    "name": "ipython",
    "version": 3
   },
   "file_extension": ".py",
   "mimetype": "text/x-python",
   "name": "python",
   "nbconvert_exporter": "python",
   "pygments_lexer": "ipython3",
   "version": "3.9.7"
  }
 },
 "nbformat": 4,
 "nbformat_minor": 5
}
