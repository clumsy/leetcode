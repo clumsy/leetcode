{
 "cells": [
  {
   "cell_type": "markdown",
   "id": "5d436933-a1b9-4ec0-b289-acfa06b1229b",
   "metadata": {},
   "source": [
    "[Problem 1745](https://leetcode.com/problems/palindrome-partitioning-iv)"
   ]
  },
  {
   "cell_type": "code",
   "execution_count": 113,
   "id": "96906170-fd2f-43ef-9d14-3e095ac34e85",
   "metadata": {},
   "outputs": [],
   "source": [
    "from collections import defaultdict"
   ]
  },
  {
   "cell_type": "code",
   "execution_count": 114,
   "id": "f282c9b4-22cd-4c37-a9f4-b1fc123571dc",
   "metadata": {},
   "outputs": [],
   "source": [
    "# time:  O(N^2)\n",
    "# space: O(N^2)\n",
    "class Solution:\n",
    "    def checkPartitioning(self, s: str) -> bool:\n",
    "        n = len(s)\n",
    "        dp = [[False for i in range(n)] for j in range(n)]\n",
    "        import numpy as np\n",
    "        for i in range(n-1,-1,-1):\n",
    "            for j in range(i, n):\n",
    "                dp[i][j] = s[i] == s[j] and (i+1 > j-1 or dp[i+1][j-1])\n",
    "        for i in range(1, n-1):\n",
    "            for j in range(i, n-1):\n",
    "                if dp[0][i-1] and dp[i][j] and dp[j+1][n-1]:\n",
    "                    return True\n",
    "        return False"
   ]
  },
  {
   "cell_type": "code",
   "execution_count": 115,
   "id": "2728c26b-4785-430b-ad40-52479fdccb9f",
   "metadata": {},
   "outputs": [],
   "source": [
    "# time:  O(N^3)\n",
    "# space: O(N^2)\n",
    "class Solution2:\n",
    "    def checkPartitioning(self, s: str) -> bool:\n",
    "        n = len(s)\n",
    "        if n == 1:\n",
    "            return True\n",
    "        \n",
    "        self.graph = defaultdict(list)\n",
    "        \n",
    "        for i in range(2*n-1):\n",
    "            self.expand_around(s, i)\n",
    "            \n",
    "        def dfs(i=0, rem=3):\n",
    "            if rem == 1:\n",
    "                return i in self.graph and n-1 == self.graph[i][-1]\n",
    "            if i == n and rem == 0:\n",
    "                return True\n",
    "            if i >= n:\n",
    "                return False\n",
    "            for j in self.graph[i][::-1]:\n",
    "                if dfs(j+1, rem-1):\n",
    "                    return True\n",
    "            return False\n",
    "                \n",
    "        \n",
    "        return dfs()\n",
    "    \n",
    "    def expand_around(self, s, i):\n",
    "        l = i//2\n",
    "        r = (i+1)//2\n",
    "        n = len(s)\n",
    "        while l >= 0 and r < n and s[l] == s[r]:\n",
    "            self.graph[l].append(r)\n",
    "            l -= 1\n",
    "            r += 1"
   ]
  },
  {
   "cell_type": "code",
   "execution_count": 116,
   "id": "70ef2c60-a8c7-44a8-90ed-82e9853a58a3",
   "metadata": {},
   "outputs": [],
   "source": [
    "sol = Solution()"
   ]
  },
  {
   "cell_type": "code",
   "execution_count": 117,
   "id": "e6b5bf37-269a-4f4c-9418-ad63403063cd",
   "metadata": {},
   "outputs": [],
   "source": [
    "assert sol.checkPartitioning(\"bbab\")"
   ]
  },
  {
   "cell_type": "code",
   "execution_count": 118,
   "id": "310ded19-faf2-4303-9aef-c4ba4d769587",
   "metadata": {},
   "outputs": [],
   "source": [
    "assert sol.checkPartitioning(\"abcbdd\")"
   ]
  },
  {
   "cell_type": "code",
   "execution_count": 119,
   "id": "0e8a190d-2941-4283-a870-50e38ec9d32c",
   "metadata": {},
   "outputs": [],
   "source": [
    "assert sol.checkPartitioning(\"aaa\")"
   ]
  },
  {
   "cell_type": "code",
   "execution_count": 120,
   "id": "ac9eb9d4-43db-4e6a-9486-6e0dec850d37",
   "metadata": {},
   "outputs": [],
   "source": [
    "assert sol.checkPartitioning(\"juchzcedhfesefhdeczhcujzzvbmoeombv\")"
   ]
  },
  {
   "cell_type": "code",
   "execution_count": 121,
   "id": "455ee62a-7bb4-4672-82a4-9ea97911b1e2",
   "metadata": {},
   "outputs": [],
   "source": [
    "assert sol.checkPartitioning(\"ypyzztbnhlhavybskfdigqgidfksbyvahlhnbtzzypykutmtfoeeevzzvsqsvzzveeeoftmtuktsficivikrbauwhxpcjjteetjjcpxhwuabrkivicifst\")"
   ]
  },
  {
   "cell_type": "code",
   "execution_count": 122,
   "id": "03a70b20-0abc-4a55-ac9b-ca98e5bdff18",
   "metadata": {},
   "outputs": [],
   "source": [
    "assert not sol.checkPartitioning(\"aaaaaaaaaaaaaaaaaaaaaaaaaaaaaaaaaaaaaaaaaaaaaaaaaaaaaaaaaaaaaaaaaaaaaaaaaaaaaaaaaaaaaaaaaaaaaaaaaaaaaaaaaaaaaaaaaaaaaaaaaaaaaaaaaaaaaaaaaaaaaaaaaaaaaaaaaaaaaaaaaaaaaaaaaaaaaaaaaaaaaaaaaaaaaaaaaaaaaaaaaaaaaaaaaaaaaaaaaaaaaaaaaaaaaaaaaaaaaaaaaaaaaaaaaaaaaaaaaaaaaaaaaaaaaaaaaaaaaaaaaaaaaaaaaaaaaaaaaaaaaaaaaaaaaaaaaaaaaaaaaaaaaaaaaaaaaaaaaaaaaaaaaaaaaaaaaaaaaaaaaaaaaaaaaaaaaaaaaaaaaaaaaaaaaaaaaaaaaaaaaaaaaaaaaaaaaaaaaaaaaaaaaaaaaaaaaaaaaaaaaaaaaaaaaaaaaaaaaaaaaaaaaaaaaaaaaaaaaaaaaaaaaaaaaaaaaaaaaaaaaaaaaaaaaaaaaaaaaaaaaaaaaaaaaaaaaaaaaaaaaaaaaaaaaaaaaaaaaaaaaaaaaaaaaaaaaaaaaaaaaaaaaaaaaaaaaaaaaaaaaaaaaaaaaaaaaaaaaaaaaaaaaaaaaaaaaaaaaaaaaaaaaaaaaaaaaaaaaaaaaaaaaaaaaaaaaaaaaaaaaaaaaaaaaaaaaaaaaaaaaaaaaaaaaaaaaaaaaaaaaaaaaaaaaaaaaaaaaaaaaaaaaaaaaaaaaaaaaaaaaaaaaaaaaaaaaaaaaaaaaaaaaaaaaaaaaaaaaaaaaaaaaaaaaaaaaaaaaaaaaaaaaaaaaaaaaaaaaaaaaaaaaaaaaaaaaaaaaaaaaaaaaaaaaaaaaaaaaaaaaaaaaaaaaaaaaaaaaaaaaaaaaaaaaaaaaaaaaaaaaaaaaaaaaaaaaaaaaaaaaaaaaaaaaaaaaaaaaaaaaaaaaaaaaaaaaaaaaaaaaaaaaaaaaaaaaaaaaaaaaaaaaaaaaaaaaaaaaaaaaaaaaaaaaaaaaaaaaaaaaaaaaaaaaaaaaaaaaaaaaaaaaaaaaaaaaaaaaaaaaaaaaaaaaaaaaaaaaaaaaaaaaaaaaaaaaaaaaaaaaaaaaaaaaaaaaaaaaaaaaaaaaaaaaaaaaaaaaaaaaaaaaaaaaaaaaaaaaaaaaaaaaaaaaaaaaaaaaaaaaaaaaaaaaaaaaaaaaaaaaaaaaaaaaaaaaaaaaaaaaaaaaaaaaaaaaaaaaaaaaaaaaaaaaaaaaaaaaaaaaaaaaaaaaaaaaaaaaaaaaaaaaaaaaaaaaaaaaaaaaaaaaaaaaaaaaaaaaaaaaaaaaaaaaaaaaaaaaaaaaaaaaaaaaaaaaaaaaaaaaaaaaaaaaaaaaaaaaaaaaaaaaaaaaaaaaaaaaaaaaaaaaaaaaaaaaaaaaaaaaaaaaaaaaaaaaaaaaaaaaaaaaaaaaaaaaaaaaaaaaaaaaaaaaaaaaaaaaaaxyaaaaaaaaaaaaaaaaaaaaaaaaaaaaaaaaaaaaaaaaaaaaaaaaaaaaaaaaaaaaaaaaaaaaaaaaaaaaaaaaaaaaaaaaaaaaaaaaaaaaaaaaaaaaaaaaaaaaaaaaaaaaaaaaaaaaaaaaaaaaaaaaaaaaaaaaaaaaaaaaaaaaaaaaaaaaaaaaaaaaaaaaaaaaaaaaaaaaaaaaaaaaaaaaaaaaaaaaaaaaaaaaaaaaaaaaaaaaaaaaaaaaaaaaaaaaaaaaaaaaaaaaaaaaaaaaaaaaaaaaaaaaaaaaaaaaaaaaaaaaaaaaaaaaaaaaaaaaaaaaaaaaaaaaaaaaaaaaaaaaaaaaaaaaaaaaaaaaaaaaaaaaaaaaaaaaaaaaaaaaaaaaaaaaaaaaaaaaaaaaaaaaaaaaaaaaaaaaaaaaaaaaaaaaaaaaaaaaaaaaaaaaaaaaaaaaaaaaaaaaaaaaaaaaaaaaaaaaaaaaaaaaaaaaaaaaaaaaaaa\")"
   ]
  }
 ],
 "metadata": {
  "kernelspec": {
   "display_name": "Python 3 (ipykernel)",
   "language": "python",
   "name": "python3"
  },
  "language_info": {
   "codemirror_mode": {
    "name": "ipython",
    "version": 3
   },
   "file_extension": ".py",
   "mimetype": "text/x-python",
   "name": "python",
   "nbconvert_exporter": "python",
   "pygments_lexer": "ipython3",
   "version": "3.9.7"
  }
 },
 "nbformat": 4,
 "nbformat_minor": 5
}
