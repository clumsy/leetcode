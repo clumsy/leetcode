{
 "cells": [
  {
   "cell_type": "markdown",
   "id": "da981fdc-8685-4ec7-9528-2554fbc568cf",
   "metadata": {},
   "source": [
    "[Problem 1014](https://leetcode.com/problems/best-sightseeing-pair/description)"
   ]
  },
  {
   "cell_type": "code",
   "execution_count": 1,
   "id": "d192028d-8135-47bc-9926-0384196c3e87",
   "metadata": {},
   "outputs": [],
   "source": [
    "from typing import List"
   ]
  },
  {
   "cell_type": "code",
   "execution_count": 2,
   "id": "f82c6980-5bc7-47f1-a511-9f9f7ca46d4c",
   "metadata": {},
   "outputs": [],
   "source": [
    "class Solution:\n",
    "    def maxScoreSightseeingPair(self, values: List[int]) -> int:\n",
    "        res, left = 0, values[0]\n",
    "        for j in range(1, len(values)):\n",
    "            res = max(res, left + values[j] - j)\n",
    "            left = max(left, values[j] + j)\n",
    "        return res"
   ]
  },
  {
   "cell_type": "code",
   "execution_count": 3,
   "id": "8c66b4b9-c639-4562-9de0-fbadadf4dbef",
   "metadata": {},
   "outputs": [],
   "source": [
    "sol = Solution()"
   ]
  },
  {
   "cell_type": "code",
   "execution_count": 4,
   "id": "b3487280-4efe-405c-9e14-f0ab87d1cfee",
   "metadata": {},
   "outputs": [],
   "source": [
    "assert sol.maxScoreSightseeingPair([8,1,5,2,6]) == 11"
   ]
  },
  {
   "cell_type": "code",
   "execution_count": null,
   "id": "d3854c34-e8ad-4c16-a17a-0b5943762d75",
   "metadata": {},
   "outputs": [],
   "source": [
    "assert sol.maxScoreSightseeingPair([1,2]) == 2"
   ]
  }
 ],
 "metadata": {
  "kernelspec": {
   "display_name": "Python 3 (ipykernel)",
   "language": "python",
   "name": "python3"
  },
  "language_info": {
   "codemirror_mode": {
    "name": "ipython",
    "version": 3
   },
   "file_extension": ".py",
   "mimetype": "text/x-python",
   "name": "python",
   "nbconvert_exporter": "python",
   "pygments_lexer": "ipython3",
   "version": "3.9.7"
  }
 },
 "nbformat": 4,
 "nbformat_minor": 5
}
