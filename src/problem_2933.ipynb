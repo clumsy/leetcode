{
 "cells": [
  {
   "cell_type": "markdown",
   "id": "91530fc3-e8d9-4bc1-9de9-45e97fb76950",
   "metadata": {},
   "source": [
    "[Problem 2933](https://leetcode.com/problems/high-access-employees/description)"
   ]
  },
  {
   "cell_type": "code",
   "execution_count": 1,
   "id": "4b78d02a-6cc3-42b4-863b-a01260ca0d39",
   "metadata": {},
   "outputs": [],
   "source": [
    "from typing import List\n",
    "from collections import deque"
   ]
  },
  {
   "cell_type": "code",
   "execution_count": 5,
   "id": "277d99f1-b0d5-4a58-9924-8733d398034b",
   "metadata": {},
   "outputs": [],
   "source": [
    "class Solution:\n",
    "    def findHighAccessEmployees(self, access_times: List[List[str]]) -> List[str]:\n",
    "        access_times.sort()\n",
    "        def mins(s):\n",
    "            return int(s[:-2]) * 60 + int(s[-2:])\n",
    "        res, cur, last = set(), None, deque()\n",
    "        for e, t in access_times:\n",
    "            if e != cur:\n",
    "                last.clear()\n",
    "                cur = e\n",
    "            last.append(t)\n",
    "            while mins(t) - mins(last[0]) >= 60:\n",
    "                last.popleft()\n",
    "            if len(last) > 2:\n",
    "                res.add(e)\n",
    "        return list(res)"
   ]
  },
  {
   "cell_type": "code",
   "execution_count": 6,
   "id": "dba42727-21cf-4401-8277-9bf902eb0c50",
   "metadata": {},
   "outputs": [],
   "source": [
    "sol = Solution()"
   ]
  },
  {
   "cell_type": "code",
   "execution_count": 7,
   "id": "7c1bf494-11c6-43e6-9727-d76c9b6b50ce",
   "metadata": {},
   "outputs": [],
   "source": [
    "assert sol.findHighAccessEmployees([[\"a\",\"0549\"],[\"b\",\"0457\"],[\"a\",\"0532\"],[\"a\",\"0621\"],[\"b\",\"0540\"]]) == [\"a\"]"
   ]
  },
  {
   "cell_type": "code",
   "execution_count": 9,
   "id": "7919da92-70c6-4ced-a827-94ee2398b1d1",
   "metadata": {},
   "outputs": [],
   "source": [
    "assert sol.findHighAccessEmployees([[\"d\",\"0002\"],[\"c\",\"0808\"],[\"c\",\"0829\"],[\"e\",\"0215\"],[\"d\",\"1508\"],[\"d\",\"1444\"],[\"d\",\"1410\"],[\"c\",\"0809\"]]) == [\"d\", \"c\"]"
   ]
  },
  {
   "cell_type": "code",
   "execution_count": 10,
   "id": "0cffc41d-5dda-4f04-b176-dc9e9f9d443d",
   "metadata": {},
   "outputs": [],
   "source": [
    "assert sol.findHighAccessEmployees([[\"cd\",\"1025\"],[\"ab\",\"1025\"],[\"cd\",\"1046\"],[\"cd\",\"1055\"],[\"ab\",\"1124\"],[\"ab\",\"1120\"]]) == [\"cd\", \"ab\"]"
   ]
  }
 ],
 "metadata": {
  "kernelspec": {
   "display_name": "Python 3 (ipykernel)",
   "language": "python",
   "name": "python3"
  },
  "language_info": {
   "codemirror_mode": {
    "name": "ipython",
    "version": 3
   },
   "file_extension": ".py",
   "mimetype": "text/x-python",
   "name": "python",
   "nbconvert_exporter": "python",
   "pygments_lexer": "ipython3",
   "version": "3.9.7"
  }
 },
 "nbformat": 4,
 "nbformat_minor": 5
}
