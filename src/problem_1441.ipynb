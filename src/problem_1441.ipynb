{
 "cells": [
  {
   "cell_type": "markdown",
   "id": "5748c5f3-0022-4993-844b-49c084f1dcf4",
   "metadata": {},
   "source": [
    "[Problem 1441](https://leetcode.com/problems/build-an-array-with-stack-operations/description)"
   ]
  },
  {
   "cell_type": "code",
   "execution_count": 1,
   "id": "2ed529db-34f6-4275-83f3-3df4171334ff",
   "metadata": {},
   "outputs": [],
   "source": [
    "from typing import List"
   ]
  },
  {
   "cell_type": "code",
   "execution_count": 2,
   "id": "9e6064ea-6d55-49c8-9617-b757edf3754f",
   "metadata": {},
   "outputs": [],
   "source": [
    "class Solution:\n",
    "    def buildArray(self, target: List[int], n: int) -> List[str]:\n",
    "        res, top = [], 0\n",
    "        for i in range(len(target)):\n",
    "            diff = target[i] - top\n",
    "            res.extend([\"Push\", \"Pop\"] * (diff - 1))\n",
    "            res.append(\"Push\")\n",
    "            top = target[i]\n",
    "        return res"
   ]
  },
  {
   "cell_type": "code",
   "execution_count": 3,
   "id": "6a4264c9-9c02-4eca-bf7d-6356817b3d16",
   "metadata": {},
   "outputs": [],
   "source": [
    "sol = Solution()"
   ]
  },
  {
   "cell_type": "code",
   "execution_count": 4,
   "id": "483a08e8-9b99-4c8e-8a71-f4d9fd6c5baf",
   "metadata": {},
   "outputs": [],
   "source": [
    "assert sol.buildArray([1,3], 3) == [\"Push\",\"Push\",\"Pop\",\"Push\"]"
   ]
  },
  {
   "cell_type": "code",
   "execution_count": 5,
   "id": "a6992d71-301b-4014-a969-db52e7dafd62",
   "metadata": {},
   "outputs": [],
   "source": [
    "assert sol.buildArray([1,2,3], 3) == [\"Push\",\"Push\",\"Push\"]"
   ]
  },
  {
   "cell_type": "code",
   "execution_count": 6,
   "id": "f3d00b96-8db3-4326-9bbb-0916edd9ecec",
   "metadata": {},
   "outputs": [],
   "source": [
    "assert sol.buildArray([1,2], 4) == [\"Push\",\"Push\"]"
   ]
  }
 ],
 "metadata": {
  "kernelspec": {
   "display_name": "Python 3 (ipykernel)",
   "language": "python",
   "name": "python3"
  },
  "language_info": {
   "codemirror_mode": {
    "name": "ipython",
    "version": 3
   },
   "file_extension": ".py",
   "mimetype": "text/x-python",
   "name": "python",
   "nbconvert_exporter": "python",
   "pygments_lexer": "ipython3",
   "version": "3.9.7"
  }
 },
 "nbformat": 4,
 "nbformat_minor": 5
}
