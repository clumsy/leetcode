{
 "cells": [
  {
   "cell_type": "markdown",
   "id": "8ae3a894-4bf0-4318-ac0b-7eee8799614a",
   "metadata": {},
   "source": [
    "[Problem 2200](https://leetcode.com/problems/find-all-k-distant-indices-in-an-array/description)"
   ]
  },
  {
   "cell_type": "code",
   "execution_count": 1,
   "id": "a257dea0-821c-4d10-b4ec-4dde88d6da6f",
   "metadata": {},
   "outputs": [],
   "source": [
    "from typing import List"
   ]
  },
  {
   "cell_type": "code",
   "execution_count": 2,
   "id": "808036da-9b37-4dfd-8ffd-d001e5f8a027",
   "metadata": {},
   "outputs": [],
   "source": [
    "class Solution:\n",
    "    def findKDistantIndices(self, nums: List[int], key: int, k: int) -> List[int]:\n",
    "        res, n = [], len(nums)\n",
    "        for j, e in enumerate(nums):\n",
    "            if e == key:\n",
    "                res.extend(range(max(res[-1] + 1 if res else 0, j - k), min(j + k + 1, n)))\n",
    "        return res"
   ]
  },
  {
   "cell_type": "code",
   "execution_count": 3,
   "id": "7c1b2e3f-7147-47a6-a6dc-f7d620e6757d",
   "metadata": {},
   "outputs": [],
   "source": [
    "sol = Solution()"
   ]
  },
  {
   "cell_type": "code",
   "execution_count": 4,
   "id": "59223607-4769-4b28-ba60-848cfffb945d",
   "metadata": {},
   "outputs": [],
   "source": [
    "assert sol.findKDistantIndices([3,4,9,1,3,9,5], 9, 1) == [1,2,3,4,5,6]"
   ]
  },
  {
   "cell_type": "code",
   "execution_count": 6,
   "id": "37815d34-c014-4695-a7d8-93210b7a9aef",
   "metadata": {},
   "outputs": [],
   "source": [
    "assert sol.findKDistantIndices([2,2,2,2,2], 2, 2) == [0,1,2,3,4]"
   ]
  }
 ],
 "metadata": {
  "kernelspec": {
   "display_name": "Python 3 (ipykernel)",
   "language": "python",
   "name": "python3"
  },
  "language_info": {
   "codemirror_mode": {
    "name": "ipython",
    "version": 3
   },
   "file_extension": ".py",
   "mimetype": "text/x-python",
   "name": "python",
   "nbconvert_exporter": "python",
   "pygments_lexer": "ipython3",
   "version": "3.9.7"
  }
 },
 "nbformat": 4,
 "nbformat_minor": 5
}
