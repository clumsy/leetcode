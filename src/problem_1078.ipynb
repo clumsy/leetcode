{
 "cells": [
  {
   "cell_type": "markdown",
   "id": "fdf1ad50-fd2c-4a6d-86c7-f6d4bfb84855",
   "metadata": {},
   "source": [
    "[Problem 1078](https://leetcode.com/problems/occurrences-after-bigram/description)"
   ]
  },
  {
   "cell_type": "code",
   "execution_count": 2,
   "id": "162672bd-22ac-4c7d-8e8e-20d064ea266e",
   "metadata": {},
   "outputs": [],
   "source": [
    "from typing import List"
   ]
  },
  {
   "cell_type": "code",
   "execution_count": 3,
   "id": "3b1202f2-34d3-409a-9698-7b57bb0cf8fa",
   "metadata": {},
   "outputs": [],
   "source": [
    "class Solution:\n",
    "    def findOcurrences(self, text: str, first: str, second: str) -> List[str]:\n",
    "        text = f\" {text} \"\n",
    "        res, s, needle = [], -1, f\" {first} {second} \"\n",
    "        while (s := text.find(needle, s + 1)) >= 0:\n",
    "            offset = s + len(needle)\n",
    "            chunk = text[offset : text.find(\" \", offset)]\n",
    "            if chunk:\n",
    "                res.append(chunk)\n",
    "        return res"
   ]
  },
  {
   "cell_type": "code",
   "execution_count": 4,
   "id": "37f0f31a-d0d1-4acc-8b45-1921b315031b",
   "metadata": {},
   "outputs": [],
   "source": [
    "sol = Solution()"
   ]
  },
  {
   "cell_type": "code",
   "execution_count": 7,
   "id": "45dd7f6c-846b-4aa8-9122-b98081411b0b",
   "metadata": {},
   "outputs": [],
   "source": [
    "assert sol.findOcurrences(\"alice is a good girl she is a good student\", \"a\", \"good\") == [\"girl\", \"student\"]"
   ]
  },
  {
   "cell_type": "code",
   "execution_count": 9,
   "id": "a13bd0c1-a6b2-48ce-886c-6cfd38023b39",
   "metadata": {},
   "outputs": [],
   "source": [
    "assert sol.findOcurrences(\"we will we will rock you\", \"we\", \"will\") == [\"we\", \"rock\"]"
   ]
  }
 ],
 "metadata": {
  "kernelspec": {
   "display_name": "Python 3 (ipykernel)",
   "language": "python",
   "name": "python3"
  },
  "language_info": {
   "codemirror_mode": {
    "name": "ipython",
    "version": 3
   },
   "file_extension": ".py",
   "mimetype": "text/x-python",
   "name": "python",
   "nbconvert_exporter": "python",
   "pygments_lexer": "ipython3",
   "version": "3.9.7"
  }
 },
 "nbformat": 4,
 "nbformat_minor": 5
}
