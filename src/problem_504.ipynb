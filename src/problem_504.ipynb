{
 "cells": [
  {
   "cell_type": "markdown",
   "id": "5c04e8c1-dec4-4c38-977f-0f6eaa7105b1",
   "metadata": {},
   "source": [
    "[Problem 504](https://leetcode.com/problems/base-7/description)"
   ]
  },
  {
   "cell_type": "code",
   "execution_count": 1,
   "id": "918f609e-5b80-49bc-a63e-d5d478ab4e85",
   "metadata": {},
   "outputs": [],
   "source": [
    "class Solution:\n",
    "    def convertToBase7(self, num: int) -> str:\n",
    "        n, res = abs(num), []\n",
    "        while n:\n",
    "            res.append(n % 7)\n",
    "            n //= 7\n",
    "        res = \"-\" * (num < 0) + \"\".join(str(i) for i in res[::-1]) or \"0\"\n",
    "        return res"
   ]
  },
  {
   "cell_type": "code",
   "execution_count": 2,
   "id": "93d5e9be-0868-46fe-8e20-d2532b0ee5d3",
   "metadata": {},
   "outputs": [],
   "source": [
    "sol = Solution()"
   ]
  },
  {
   "cell_type": "code",
   "execution_count": 3,
   "id": "0afc052b-02ba-4cc5-85dd-2743f32eb494",
   "metadata": {},
   "outputs": [],
   "source": [
    "assert sol.convertToBase7(100) == \"202\""
   ]
  },
  {
   "cell_type": "code",
   "execution_count": 4,
   "id": "ac32673c-23c1-4ef4-9c20-b4740be2a852",
   "metadata": {},
   "outputs": [],
   "source": [
    "assert sol.convertToBase7(-7) == \"-10\""
   ]
  }
 ],
 "metadata": {
  "kernelspec": {
   "display_name": "Python 3 (ipykernel)",
   "language": "python",
   "name": "python3"
  },
  "language_info": {
   "codemirror_mode": {
    "name": "ipython",
    "version": 3
   },
   "file_extension": ".py",
   "mimetype": "text/x-python",
   "name": "python",
   "nbconvert_exporter": "python",
   "pygments_lexer": "ipython3",
   "version": "3.9.7"
  }
 },
 "nbformat": 4,
 "nbformat_minor": 5
}
