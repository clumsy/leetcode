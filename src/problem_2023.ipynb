{
 "cells": [
  {
   "cell_type": "markdown",
   "id": "d04390f1-6729-41ca-9fd8-951415d1f9c6",
   "metadata": {},
   "source": [
    "[Problem 2023](https://leetcode.com/problems/number-of-pairs-of-strings-with-concatenation-equal-to-target/description)"
   ]
  },
  {
   "cell_type": "code",
   "execution_count": 1,
   "id": "37df63c3-815e-4788-8b60-dd2c381a5114",
   "metadata": {},
   "outputs": [],
   "source": [
    "from typing import List\n",
    "from collections import Counter"
   ]
  },
  {
   "cell_type": "code",
   "execution_count": 2,
   "id": "3f92abb5-0e0f-4f2f-99fc-983d59f805d8",
   "metadata": {},
   "outputs": [],
   "source": [
    "class Solution:\n",
    "    def numOfPairs(self, nums: List[str], target: str) -> int:\n",
    "        res, cnt = 0, Counter(nums)\n",
    "        for s, c in cnt.items():\n",
    "            if target.startswith(s):\n",
    "                other = target[len(s):]\n",
    "                res += (c - (s == other)) * cnt[other]\n",
    "        return res"
   ]
  },
  {
   "cell_type": "code",
   "execution_count": 3,
   "id": "16069eb1-7354-4108-8088-7339291d03af",
   "metadata": {},
   "outputs": [],
   "source": [
    "sol = Solution()"
   ]
  },
  {
   "cell_type": "code",
   "execution_count": 4,
   "id": "bcc74884-0f19-40b5-8b96-673302c354e5",
   "metadata": {},
   "outputs": [],
   "source": [
    "assert sol.numOfPairs([\"777\",\"7\",\"77\",\"77\"], \"7777\") == 4"
   ]
  },
  {
   "cell_type": "code",
   "execution_count": 5,
   "id": "9fd53a18-4073-4593-8f60-ba8206f96242",
   "metadata": {},
   "outputs": [],
   "source": [
    "assert sol.numOfPairs([\"123\",\"4\",\"12\",\"34\"], \"1234\") == 2"
   ]
  },
  {
   "cell_type": "code",
   "execution_count": 6,
   "id": "0efc8ec0-c183-4b74-9d3e-e77449936991",
   "metadata": {},
   "outputs": [],
   "source": [
    "assert sol.numOfPairs([\"1\",\"1\",\"1\"], \"11\") == 6"
   ]
  }
 ],
 "metadata": {
  "kernelspec": {
   "display_name": "Python 3 (ipykernel)",
   "language": "python",
   "name": "python3"
  },
  "language_info": {
   "codemirror_mode": {
    "name": "ipython",
    "version": 3
   },
   "file_extension": ".py",
   "mimetype": "text/x-python",
   "name": "python",
   "nbconvert_exporter": "python",
   "pygments_lexer": "ipython3",
   "version": "3.9.7"
  }
 },
 "nbformat": 4,
 "nbformat_minor": 5
}
