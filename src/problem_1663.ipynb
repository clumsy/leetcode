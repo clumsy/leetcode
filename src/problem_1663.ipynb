{
 "cells": [
  {
   "cell_type": "markdown",
   "id": "3b068746-840b-4979-9771-2b886f2ca698",
   "metadata": {},
   "source": [
    "[Problem 1663](https://leetcode.com/problems/smallest-string-with-a-given-numeric-value/description)"
   ]
  },
  {
   "cell_type": "code",
   "execution_count": 1,
   "id": "71c2e33b-4ed2-4036-9f48-d8b6438be30f",
   "metadata": {},
   "outputs": [],
   "source": [
    "class Solution:\n",
    "    def getSmallestString(self, n: int, k: int) -> str:\n",
    "        d, r = divmod(k - n, 25)\n",
    "        res = [\"a\" if i < n - 1 - d else \"z\" for i in range(n)]\n",
    "        if d < n:\n",
    "            res[-d - 1] = chr(ord(\"a\") + r)\n",
    "        res = \"\".join(res)\n",
    "        return res"
   ]
  },
  {
   "cell_type": "code",
   "execution_count": 2,
   "id": "d8bdb558-ec33-46c1-a51f-fb0b062d8fe1",
   "metadata": {},
   "outputs": [],
   "source": [
    "sol = Solution()"
   ]
  },
  {
   "cell_type": "code",
   "execution_count": 3,
   "id": "74b993df-c843-4406-92b6-067f5574fb90",
   "metadata": {},
   "outputs": [],
   "source": [
    "assert sol.getSmallestString(3, 27) == \"aay\""
   ]
  },
  {
   "cell_type": "code",
   "execution_count": 4,
   "id": "d8606311-aca1-4176-b170-e29f15c527f8",
   "metadata": {},
   "outputs": [],
   "source": [
    "assert sol.getSmallestString(5, 73) == \"aaszz\""
   ]
  }
 ],
 "metadata": {
  "kernelspec": {
   "display_name": "Python 3 (ipykernel)",
   "language": "python",
   "name": "python3"
  },
  "language_info": {
   "codemirror_mode": {
    "name": "ipython",
    "version": 3
   },
   "file_extension": ".py",
   "mimetype": "text/x-python",
   "name": "python",
   "nbconvert_exporter": "python",
   "pygments_lexer": "ipython3",
   "version": "3.9.7"
  }
 },
 "nbformat": 4,
 "nbformat_minor": 5
}
