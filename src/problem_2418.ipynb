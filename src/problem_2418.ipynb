{
 "cells": [
  {
   "cell_type": "markdown",
   "id": "8fb767bd-1a17-4765-b2e7-68f82ebc4840",
   "metadata": {},
   "source": [
    "[Problem 2418](https://leetcode.com/problems/sort-the-people/description)"
   ]
  },
  {
   "cell_type": "code",
   "execution_count": 1,
   "id": "a95f99f9-8cfa-443c-ace3-9cd44ff2f07c",
   "metadata": {},
   "outputs": [],
   "source": [
    "from typing import List"
   ]
  },
  {
   "cell_type": "code",
   "execution_count": 2,
   "id": "45be72ac-7916-41fd-a160-ab4eed9aa6b1",
   "metadata": {},
   "outputs": [],
   "source": [
    "class Solution:\n",
    "    def sortPeople(self, names: List[str], heights: List[int]) -> List[str]:\n",
    "        res = [names[i] for i in sorted(range(len(names)), key=heights.__getitem__, reverse=True)]\n",
    "        return res"
   ]
  },
  {
   "cell_type": "code",
   "execution_count": 3,
   "id": "2133a9fe-a6b9-47d6-ab56-0b74e36bf6fd",
   "metadata": {},
   "outputs": [],
   "source": [
    "sol = Solution()"
   ]
  },
  {
   "cell_type": "code",
   "execution_count": 4,
   "id": "982bbbbb-277d-4ff8-8965-dc0b0f154e2b",
   "metadata": {},
   "outputs": [],
   "source": [
    "assert sol.sortPeople([\"Mary\",\"John\",\"Emma\"], [180,165,170]) == [\"Mary\",\"Emma\",\"John\"]"
   ]
  },
  {
   "cell_type": "code",
   "execution_count": 5,
   "id": "f3fe6d29-264f-4287-a156-05869cd970b1",
   "metadata": {},
   "outputs": [],
   "source": [
    "assert sol.sortPeople([\"Alice\",\"Bob\",\"Bob\"], [155,185,150]) == [\"Bob\",\"Alice\",\"Bob\"]"
   ]
  }
 ],
 "metadata": {
  "kernelspec": {
   "display_name": "Python 3 (ipykernel)",
   "language": "python",
   "name": "python3"
  },
  "language_info": {
   "codemirror_mode": {
    "name": "ipython",
    "version": 3
   },
   "file_extension": ".py",
   "mimetype": "text/x-python",
   "name": "python",
   "nbconvert_exporter": "python",
   "pygments_lexer": "ipython3",
   "version": "3.9.7"
  }
 },
 "nbformat": 4,
 "nbformat_minor": 5
}
