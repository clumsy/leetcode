{
 "cells": [
  {
   "cell_type": "markdown",
   "id": "41af00a6-0a34-4595-96a5-83c4c0e10d53",
   "metadata": {},
   "source": [
    "[Problem 643](https://leetcode.com/problems/maximum-average-subarray-i/description)"
   ]
  },
  {
   "cell_type": "code",
   "execution_count": 1,
   "id": "ead74167-9437-45b5-98cb-91f2bb8481c3",
   "metadata": {},
   "outputs": [],
   "source": [
    "from typing import List\n",
    "from math import inf"
   ]
  },
  {
   "cell_type": "code",
   "execution_count": 2,
   "id": "5df53318-093a-4e6c-ace3-d81e215fba3c",
   "metadata": {},
   "outputs": [],
   "source": [
    "class Solution:\n",
    "    def findMaxAverage(self, nums: List[int], k: int) -> float:\n",
    "        res, s = -inf, 0\n",
    "        for i, e in enumerate(nums):\n",
    "            s += e\n",
    "            if i >= k - 1:\n",
    "                s -= nums[i - k] if i >= k else 0\n",
    "                res = max(res, s / k)\n",
    "        return res"
   ]
  },
  {
   "cell_type": "code",
   "execution_count": 3,
   "id": "c03f13be-fd55-4aa1-bc54-85cee7f2296e",
   "metadata": {},
   "outputs": [],
   "source": [
    "sol = Solution()"
   ]
  },
  {
   "cell_type": "code",
   "execution_count": 4,
   "id": "7f595134-4a31-4fee-b862-8994ff56a493",
   "metadata": {},
   "outputs": [],
   "source": [
    "assert sol.findMaxAverage([1,12,-5,-6,50,3], 4) == 12.75"
   ]
  },
  {
   "cell_type": "code",
   "execution_count": 5,
   "id": "891c99f6-0f94-41a5-9d43-e8387580f08a",
   "metadata": {},
   "outputs": [],
   "source": [
    "assert sol.findMaxAverage([5], 1) == 5"
   ]
  }
 ],
 "metadata": {
  "kernelspec": {
   "display_name": "Python 3 (ipykernel)",
   "language": "python",
   "name": "python3"
  },
  "language_info": {
   "codemirror_mode": {
    "name": "ipython",
    "version": 3
   },
   "file_extension": ".py",
   "mimetype": "text/x-python",
   "name": "python",
   "nbconvert_exporter": "python",
   "pygments_lexer": "ipython3",
   "version": "3.9.7"
  }
 },
 "nbformat": 4,
 "nbformat_minor": 5
}
