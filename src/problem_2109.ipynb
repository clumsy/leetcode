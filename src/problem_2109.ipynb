{
 "cells": [
  {
   "cell_type": "markdown",
   "id": "324269a2-e7ea-4027-aec5-d710e5365bf6",
   "metadata": {},
   "source": [
    "[Problem 2109](https://leetcode.com/problems/adding-spaces-to-a-string/description)"
   ]
  },
  {
   "cell_type": "code",
   "execution_count": 1,
   "id": "9ca2df2b-8c9f-4f37-bcbd-092860f26e5e",
   "metadata": {},
   "outputs": [],
   "source": [
    "from typing import List"
   ]
  },
  {
   "cell_type": "code",
   "execution_count": 2,
   "id": "3dc74b01-8971-4159-98d9-4f6fefa0398a",
   "metadata": {},
   "outputs": [],
   "source": [
    "class Solution:\n",
    "    def addSpaces(self, s: str, spaces: List[int]) -> str:\n",
    "        n, m = len(s), len(spaces)\n",
    "        res = [\" \"] * (n + m)\n",
    "        k = j = 0\n",
    "        for i, c in enumerate(s):\n",
    "            if j < m and i == spaces[j]:\n",
    "                k += 1\n",
    "                j += 1\n",
    "            res[k] = s[i]\n",
    "            k += 1\n",
    "        res = \"\".join(res)\n",
    "        return res"
   ]
  },
  {
   "cell_type": "code",
   "execution_count": 3,
   "id": "4629f01c-3c06-444d-9b38-397fe855077f",
   "metadata": {},
   "outputs": [],
   "source": [
    "sol = Solution()"
   ]
  },
  {
   "cell_type": "code",
   "execution_count": 4,
   "id": "d8e65b66-d8cb-40ba-bbcc-450bc0aed213",
   "metadata": {},
   "outputs": [],
   "source": [
    "assert sol.addSpaces(\"LeetcodeHelpsMeLearn\", [8,13,15]) == \"Leetcode Helps Me Learn\""
   ]
  },
  {
   "cell_type": "code",
   "execution_count": 5,
   "id": "d6f915f1-6d71-4219-b3d7-c5edae1174a7",
   "metadata": {},
   "outputs": [],
   "source": [
    "assert sol.addSpaces(\"icodeinpython\", [1,5,7,9]) == \"i code in py thon\""
   ]
  },
  {
   "cell_type": "code",
   "execution_count": 6,
   "id": "e9208b7f-38eb-4a35-a488-ea49a345ded1",
   "metadata": {},
   "outputs": [],
   "source": [
    "assert sol.addSpaces(\"spacing\", [0,1,2,3,4,5,6]) == \" s p a c i n g\""
   ]
  }
 ],
 "metadata": {
  "kernelspec": {
   "display_name": "Python 3 (ipykernel)",
   "language": "python",
   "name": "python3"
  },
  "language_info": {
   "codemirror_mode": {
    "name": "ipython",
    "version": 3
   },
   "file_extension": ".py",
   "mimetype": "text/x-python",
   "name": "python",
   "nbconvert_exporter": "python",
   "pygments_lexer": "ipython3",
   "version": "3.9.7"
  }
 },
 "nbformat": 4,
 "nbformat_minor": 5
}
