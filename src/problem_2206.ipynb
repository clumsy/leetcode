{
 "cells": [
  {
   "cell_type": "markdown",
   "id": "33e67dae-1dbf-4b5b-8973-f716f93cb6ff",
   "metadata": {},
   "source": [
    "[Problem 2206](https://leetcode.com/problems/divide-array-into-equal-pairs/description)"
   ]
  },
  {
   "cell_type": "code",
   "execution_count": 1,
   "id": "8480144e-636c-4c4c-9746-b28a42821158",
   "metadata": {},
   "outputs": [],
   "source": [
    "from typing import List\n",
    "from collections import Counter"
   ]
  },
  {
   "cell_type": "code",
   "execution_count": 2,
   "id": "338555fc-85b9-4f0c-85a3-1c44ee345ef0",
   "metadata": {},
   "outputs": [],
   "source": [
    "class Solution:\n",
    "    def divideArray(self, nums: List[int]) -> bool:\n",
    "        res = all(v & 1 == 0 for v in Counter(nums).values())\n",
    "        return res"
   ]
  },
  {
   "cell_type": "code",
   "execution_count": 3,
   "id": "d5fe174d-da73-44f4-b2be-e62b05342700",
   "metadata": {},
   "outputs": [],
   "source": [
    "sol = Solution()"
   ]
  },
  {
   "cell_type": "code",
   "execution_count": 4,
   "id": "cb4cf4ef-383f-43c1-9dc3-16ce07098e11",
   "metadata": {},
   "outputs": [],
   "source": [
    "assert sol.divideArray([3,2,3,2,2,2])"
   ]
  },
  {
   "cell_type": "code",
   "execution_count": 5,
   "id": "37c86c9b-e2bf-4bd7-af93-684272011819",
   "metadata": {},
   "outputs": [],
   "source": [
    "assert not sol.divideArray([1,2,3,4])"
   ]
  }
 ],
 "metadata": {
  "kernelspec": {
   "display_name": "Python 3 (ipykernel)",
   "language": "python",
   "name": "python3"
  },
  "language_info": {
   "codemirror_mode": {
    "name": "ipython",
    "version": 3
   },
   "file_extension": ".py",
   "mimetype": "text/x-python",
   "name": "python",
   "nbconvert_exporter": "python",
   "pygments_lexer": "ipython3",
   "version": "3.9.7"
  }
 },
 "nbformat": 4,
 "nbformat_minor": 5
}
