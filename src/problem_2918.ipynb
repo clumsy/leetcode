{
 "cells": [
  {
   "cell_type": "markdown",
   "id": "0dfc6c0d-c113-4dc7-80dc-762af0b983f2",
   "metadata": {},
   "source": [
    "[Problem 2918](https://leetcode.com/problems/minimum-equal-sum-of-two-arrays-after-replacing-zeros/description)"
   ]
  },
  {
   "cell_type": "code",
   "execution_count": 1,
   "id": "236358b4-9f5d-49d2-ba41-8cc85934e4db",
   "metadata": {},
   "outputs": [],
   "source": [
    "from typing import List"
   ]
  },
  {
   "cell_type": "code",
   "execution_count": 2,
   "id": "7c47c7be-7f25-4985-829e-033553fceadf",
   "metadata": {},
   "outputs": [],
   "source": [
    "class Solution:\n",
    "    def minSum(self, nums1: List[int], nums2: List[int]) -> int:\n",
    "        s1, s2 = sum(nums1), sum(nums2)\n",
    "        z1, z2 = sum(i == 0 for i in nums1), sum(i == 0 for i in nums2)\n",
    "        if (s1 - s2 < z2 and z1 == 0) or (s2 - s1 < z1 and z2 == 0):\n",
    "            res = -1\n",
    "        else:\n",
    "            res = max(s1 + z1, s2 + z2)\n",
    "        return res"
   ]
  },
  {
   "cell_type": "code",
   "execution_count": 3,
   "id": "3c031022-5d9b-449b-b0bb-bbaaeb0f1e7c",
   "metadata": {},
   "outputs": [],
   "source": [
    "sol = Solution()"
   ]
  },
  {
   "cell_type": "code",
   "execution_count": 4,
   "id": "be995ffe-3ef8-42bb-9ed6-874e0ecaaf85",
   "metadata": {},
   "outputs": [],
   "source": [
    "assert sol.minSum([3,2,0,1,0], [6,5,0]) == 12"
   ]
  },
  {
   "cell_type": "code",
   "execution_count": 5,
   "id": "795e3c85-8a07-483b-8d72-44e4dce4ad97",
   "metadata": {},
   "outputs": [],
   "source": [
    "assert sol.minSum([2,0,2,0], [1,4]) == -1"
   ]
  }
 ],
 "metadata": {
  "kernelspec": {
   "display_name": "Python 3 (ipykernel)",
   "language": "python",
   "name": "python3"
  },
  "language_info": {
   "codemirror_mode": {
    "name": "ipython",
    "version": 3
   },
   "file_extension": ".py",
   "mimetype": "text/x-python",
   "name": "python",
   "nbconvert_exporter": "python",
   "pygments_lexer": "ipython3",
   "version": "3.9.7"
  }
 },
 "nbformat": 4,
 "nbformat_minor": 5
}
