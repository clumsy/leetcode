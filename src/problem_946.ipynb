{
 "cells": [
  {
   "cell_type": "markdown",
   "id": "fd9a1afe-dc3f-4bed-80fa-0cbd563d113e",
   "metadata": {},
   "source": [
    "[Problem 946](https://leetcode.com/problems/validate-stack-sequences/description)"
   ]
  },
  {
   "cell_type": "code",
   "execution_count": 1,
   "id": "bfab85f6-1cc2-4050-aa3b-fb7c7ab67ff3",
   "metadata": {},
   "outputs": [],
   "source": [
    "from typing import List"
   ]
  },
  {
   "cell_type": "code",
   "execution_count": 2,
   "id": "56c4630f-9bac-414f-b7bf-4df1adba0249",
   "metadata": {},
   "outputs": [],
   "source": [
    "class Solution:\n",
    "    def validateStackSequences(self, pushed: List[int], popped: List[int]) -> bool:\n",
    "        st = []\n",
    "        po = 0\n",
    "        for pu in pushed:\n",
    "            st.append(pu)\n",
    "            while st and popped[po] == st[-1]:\n",
    "                po += 1\n",
    "                st.pop()\n",
    "        res = len(st) == 0\n",
    "        return res"
   ]
  },
  {
   "cell_type": "code",
   "execution_count": 3,
   "id": "58753fc4-dcc8-4853-be06-6bdf6f91d9ae",
   "metadata": {},
   "outputs": [],
   "source": [
    "sol = Solution()"
   ]
  },
  {
   "cell_type": "code",
   "execution_count": 4,
   "id": "6452a929-80e4-4c64-a5de-3e47cbfad830",
   "metadata": {},
   "outputs": [],
   "source": [
    "assert sol.validateStackSequences([1,2,3,4,5], [4,5,3,2,1])"
   ]
  },
  {
   "cell_type": "code",
   "execution_count": 5,
   "id": "ed288480-6ff4-4e1e-8c16-7fc6c63476ff",
   "metadata": {},
   "outputs": [],
   "source": [
    "assert not sol.validateStackSequences([1,2,3,4,5], [4,3,5,1,2])"
   ]
  }
 ],
 "metadata": {
  "kernelspec": {
   "display_name": "Python 3 (ipykernel)",
   "language": "python",
   "name": "python3"
  },
  "language_info": {
   "codemirror_mode": {
    "name": "ipython",
    "version": 3
   },
   "file_extension": ".py",
   "mimetype": "text/x-python",
   "name": "python",
   "nbconvert_exporter": "python",
   "pygments_lexer": "ipython3",
   "version": "3.9.7"
  }
 },
 "nbformat": 4,
 "nbformat_minor": 5
}
