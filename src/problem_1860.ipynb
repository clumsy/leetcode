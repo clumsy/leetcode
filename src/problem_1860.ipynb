{
 "cells": [
  {
   "cell_type": "markdown",
   "id": "4bf6d569-5684-4e61-a1c3-8df849c37527",
   "metadata": {},
   "source": [
    "[Problem 1860](https://leetcode.com/problems/incremental-memory-leak/description)"
   ]
  },
  {
   "cell_type": "code",
   "execution_count": 5,
   "id": "5170eeb8-36ae-4115-ad3c-1bddb5791b54",
   "metadata": {},
   "outputs": [],
   "source": [
    "from typing import List\n",
    "from math import sqrt"
   ]
  },
  {
   "cell_type": "code",
   "execution_count": 6,
   "id": "51b6f0a2-b953-4a33-a07a-58c9085443f1",
   "metadata": {},
   "outputs": [],
   "source": [
    "class Solution:\n",
    "    def memLeak(self, m1: int, m2: int) -> List[int]:\n",
    "        # (1 + n)*n/2 = S\n",
    "        # n^2 + n - 2S = 0\n",
    "        # D = 1 + 8S\n",
    "        # n = (sqrt(1 + 8S) - 1)/2\n",
    "        n = int((sqrt(8*(m1+m2 + 1) - 1)/2))\n",
    "        for i in range(1, n + 2):\n",
    "            if i > max(m1, m2):\n",
    "                break\n",
    "            if m1 >= m2:\n",
    "                m1 -= i\n",
    "            else:\n",
    "                m2 -= i\n",
    "        # we can optimize this as follows:\n",
    "        # find at which steps m1 == m2\n",
    "        # solve another quadratic equation to figure out\n",
    "        # how many steps we will be alternating between the two\n",
    "        # one gets odd numbers, the other one even\n",
    "        # find the end values, in case of equality first is smaller\n",
    "        return [i, m1, m2]"
   ]
  },
  {
   "cell_type": "code",
   "execution_count": 7,
   "id": "a464c739-00e9-4197-9ba0-2e3679802c58",
   "metadata": {},
   "outputs": [],
   "source": [
    "sol = Solution()"
   ]
  },
  {
   "cell_type": "code",
   "execution_count": 8,
   "id": "326afdec-6980-4016-a098-e74a30978948",
   "metadata": {},
   "outputs": [],
   "source": [
    "assert sol.memLeak(2, 2) == [3,1,0]"
   ]
  }
 ],
 "metadata": {
  "kernelspec": {
   "display_name": "Python 3 (ipykernel)",
   "language": "python",
   "name": "python3"
  },
  "language_info": {
   "codemirror_mode": {
    "name": "ipython",
    "version": 3
   },
   "file_extension": ".py",
   "mimetype": "text/x-python",
   "name": "python",
   "nbconvert_exporter": "python",
   "pygments_lexer": "ipython3",
   "version": "3.9.7"
  }
 },
 "nbformat": 4,
 "nbformat_minor": 5
}
