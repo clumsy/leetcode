{
 "cells": [
  {
   "cell_type": "markdown",
   "id": "717626ef-9ddf-41c6-8bba-f4eab2cc6a74",
   "metadata": {},
   "source": [
    "[Problem 1358](https://leetcode.com/problems/number-of-substrings-containing-all-three-characters/description)"
   ]
  },
  {
   "cell_type": "code",
   "execution_count": 1,
   "id": "ef4675d3-2690-47af-ac5b-8c2f8c503920",
   "metadata": {},
   "outputs": [],
   "source": [
    "from collections import Counter"
   ]
  },
  {
   "cell_type": "code",
   "execution_count": 2,
   "id": "576c2348-4a84-4a02-b3ff-5262e8c1a235",
   "metadata": {},
   "outputs": [],
   "source": [
    "class Solution:\n",
    "    def numberOfSubstrings(self, s: str) -> int:\n",
    "        cnt, n = Counter(), len(s)\n",
    "        res = b = 0\n",
    "        for i, c in enumerate(s):\n",
    "            cnt[c] += 1\n",
    "            while cnt[\"a\"] and cnt[\"b\"] and cnt[\"c\"]:\n",
    "                cnt[s[b]] -= 1\n",
    "                b += 1\n",
    "            res += b\n",
    "        return res"
   ]
  },
  {
   "cell_type": "code",
   "execution_count": 3,
   "id": "820e4d33-9a43-446c-8c93-bec55d9a4540",
   "metadata": {},
   "outputs": [],
   "source": [
    "sol = Solution()"
   ]
  },
  {
   "cell_type": "code",
   "execution_count": 4,
   "id": "2ac0ac33-8448-46ec-9958-585e2148e81d",
   "metadata": {},
   "outputs": [],
   "source": [
    "assert sol.numberOfSubstrings(\"abcabc\") == 10"
   ]
  },
  {
   "cell_type": "code",
   "execution_count": 5,
   "id": "d4b6fe52-f742-4e23-9d10-ad036cff7486",
   "metadata": {},
   "outputs": [],
   "source": [
    "assert sol.numberOfSubstrings(\"aaabc\") == 3"
   ]
  },
  {
   "cell_type": "code",
   "execution_count": 6,
   "id": "58485590-92e8-4a82-9df2-b1adfbf86676",
   "metadata": {},
   "outputs": [],
   "source": [
    "assert sol.numberOfSubstrings(\"abc\") == 1"
   ]
  }
 ],
 "metadata": {
  "kernelspec": {
   "display_name": "Python 3 (ipykernel)",
   "language": "python",
   "name": "python3"
  },
  "language_info": {
   "codemirror_mode": {
    "name": "ipython",
    "version": 3
   },
   "file_extension": ".py",
   "mimetype": "text/x-python",
   "name": "python",
   "nbconvert_exporter": "python",
   "pygments_lexer": "ipython3",
   "version": "3.9.7"
  }
 },
 "nbformat": 4,
 "nbformat_minor": 5
}
