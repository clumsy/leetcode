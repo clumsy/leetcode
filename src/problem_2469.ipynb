{
 "cells": [
  {
   "cell_type": "markdown",
   "id": "bc1a5e54-52fc-446d-b8ee-7834c8faf6f7",
   "metadata": {},
   "source": [
    "[Problem 2469](https://leetcode.com/problems/convert-the-temperature/description)"
   ]
  },
  {
   "cell_type": "code",
   "execution_count": 1,
   "id": "459e6c6a-65f5-4c79-a994-e621567189b5",
   "metadata": {},
   "outputs": [],
   "source": [
    "from typing import List"
   ]
  },
  {
   "cell_type": "code",
   "execution_count": 2,
   "id": "bd9f1836-5c99-4d70-86ba-f14082e6dd5e",
   "metadata": {},
   "outputs": [],
   "source": [
    "class Solution:\n",
    "    def convertTemperature(self, celsius: float) -> List[float]:\n",
    "        res = [celsius + 273.15, celsius * 1.8 + 32]\n",
    "        return res"
   ]
  },
  {
   "cell_type": "code",
   "execution_count": 3,
   "id": "6e64a360-6745-424e-ab8f-04d2c156068a",
   "metadata": {},
   "outputs": [],
   "source": [
    "sol = Solution()"
   ]
  },
  {
   "cell_type": "code",
   "execution_count": 4,
   "id": "9e98e88b-2976-45bc-9d75-9076d4a9667d",
   "metadata": {},
   "outputs": [],
   "source": [
    "assert sol.convertTemperature(36.50) == [309.65000,97.70000]"
   ]
  },
  {
   "cell_type": "code",
   "execution_count": 5,
   "id": "dc5196ed-6ec6-40e9-9ff3-8aefbcf3c470",
   "metadata": {},
   "outputs": [],
   "source": [
    "assert sol.convertTemperature(122.11) == [395.26000,251.79800]"
   ]
  }
 ],
 "metadata": {
  "kernelspec": {
   "display_name": "Python 3 (ipykernel)",
   "language": "python",
   "name": "python3"
  },
  "language_info": {
   "codemirror_mode": {
    "name": "ipython",
    "version": 3
   },
   "file_extension": ".py",
   "mimetype": "text/x-python",
   "name": "python",
   "nbconvert_exporter": "python",
   "pygments_lexer": "ipython3",
   "version": "3.9.7"
  }
 },
 "nbformat": 4,
 "nbformat_minor": 5
}
