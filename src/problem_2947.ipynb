{
 "cells": [
  {
   "cell_type": "markdown",
   "id": "0b1c7bf7-bcc4-47b2-9f69-02151575931c",
   "metadata": {},
   "source": [
    "[Problem 2947](https://leetcode.com/problems/count-beautiful-substrings-i/description)"
   ]
  },
  {
   "cell_type": "code",
   "execution_count": 1,
   "id": "0e2864b9-f606-456e-a2dc-5695898064dc",
   "metadata": {},
   "outputs": [],
   "source": [
    "class Solution:\n",
    "    def beautifulSubstrings(self, s: str, k: int) -> int:\n",
    "        n = len(s)\n",
    "        vwls, cons = [0] * (n + 1), [0] * (n + 1)\n",
    "        for i in range(1, n + 1):\n",
    "            cons[i] = cons[i - 1]\n",
    "            vwls[i] = vwls[i - 1]\n",
    "            (vwls if s[i - 1] in \"aeiou\" else cons)[i] += 1\n",
    "        res = 0\n",
    "        for i in range(1, n + 1):\n",
    "            for j in range(i, n + 1):\n",
    "                c = cons[j] - cons[i - 1]\n",
    "                v = vwls[j] - vwls[i - 1]\n",
    "                res += c == v and (c * v) % k == 0\n",
    "        return res"
   ]
  },
  {
   "cell_type": "code",
   "execution_count": 2,
   "id": "e329cfc0-c6bf-4e44-84c0-46e7f8d817e1",
   "metadata": {},
   "outputs": [],
   "source": [
    "sol = Solution()"
   ]
  },
  {
   "cell_type": "code",
   "execution_count": 3,
   "id": "b03d8965-d430-4e7e-9aed-229656be54f3",
   "metadata": {},
   "outputs": [],
   "source": [
    "assert sol.beautifulSubstrings(\"baeyh\", 2) == 2"
   ]
  },
  {
   "cell_type": "code",
   "execution_count": 4,
   "id": "76bd951d-84ee-4db0-971c-506de9a329ec",
   "metadata": {},
   "outputs": [],
   "source": [
    "assert sol.beautifulSubstrings(\"abba\", 1) == 3"
   ]
  },
  {
   "cell_type": "code",
   "execution_count": 5,
   "id": "fa8894c2-1c04-433d-a061-90621c123679",
   "metadata": {},
   "outputs": [],
   "source": [
    "assert sol.beautifulSubstrings(\"bcdf\", 1) == 0"
   ]
  }
 ],
 "metadata": {
  "kernelspec": {
   "display_name": "Python 3 (ipykernel)",
   "language": "python",
   "name": "python3"
  },
  "language_info": {
   "codemirror_mode": {
    "name": "ipython",
    "version": 3
   },
   "file_extension": ".py",
   "mimetype": "text/x-python",
   "name": "python",
   "nbconvert_exporter": "python",
   "pygments_lexer": "ipython3",
   "version": "3.9.7"
  }
 },
 "nbformat": 4,
 "nbformat_minor": 5
}
