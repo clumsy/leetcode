{
 "cells": [
  {
   "cell_type": "markdown",
   "id": "bf02c2d7-fa60-44ad-8984-c49e836f59d2",
   "metadata": {},
   "source": [
    "[Problem 1848](https://leetcode.com/problems/minimum-distance-to-the-target-element/description)"
   ]
  },
  {
   "cell_type": "code",
   "execution_count": 1,
   "id": "6e036083-a58f-4f3e-9e5f-06d1b72ce69d",
   "metadata": {},
   "outputs": [],
   "source": [
    "from typing import List"
   ]
  },
  {
   "cell_type": "code",
   "execution_count": 2,
   "id": "f0db12cf-b444-407a-adf1-db903f7dafa9",
   "metadata": {},
   "outputs": [],
   "source": [
    "class Solution:\n",
    "    def getMinDistance(self, nums: List[int], target: int, start: int) -> int:\n",
    "        n, res = len(nums), 0\n",
    "        while start - res >= 0 or start + res < n:\n",
    "            if start - res >= 0 and nums[start - res] == target:\n",
    "                break\n",
    "            if start + res < n and nums[start + res] == target:\n",
    "                break\n",
    "            res += 1\n",
    "        return res"
   ]
  },
  {
   "cell_type": "code",
   "execution_count": 3,
   "id": "2a478663-9907-4ad9-83dc-a95630b31f02",
   "metadata": {},
   "outputs": [],
   "source": [
    "sol = Solution()"
   ]
  },
  {
   "cell_type": "code",
   "execution_count": 4,
   "id": "4f6fbfd7-68d4-41cb-8d6f-0873cdbcd25a",
   "metadata": {},
   "outputs": [],
   "source": [
    "assert sol.getMinDistance([1,2,3,4,5], 5, 3) == 1"
   ]
  },
  {
   "cell_type": "code",
   "execution_count": 5,
   "id": "526560fe-4661-4860-b755-cba2e3afaf39",
   "metadata": {},
   "outputs": [],
   "source": [
    "assert sol.getMinDistance([1], 1, 0) == 0"
   ]
  },
  {
   "cell_type": "code",
   "execution_count": 6,
   "id": "6a5c86f3-b943-481e-b0ae-c67933c29d66",
   "metadata": {},
   "outputs": [],
   "source": [
    "assert sol.getMinDistance([1,1,1,1,1,1,1,1,1,1], 1, 0) == 0"
   ]
  }
 ],
 "metadata": {
  "kernelspec": {
   "display_name": "Python 3 (ipykernel)",
   "language": "python",
   "name": "python3"
  },
  "language_info": {
   "codemirror_mode": {
    "name": "ipython",
    "version": 3
   },
   "file_extension": ".py",
   "mimetype": "text/x-python",
   "name": "python",
   "nbconvert_exporter": "python",
   "pygments_lexer": "ipython3",
   "version": "3.9.7"
  }
 },
 "nbformat": 4,
 "nbformat_minor": 5
}
