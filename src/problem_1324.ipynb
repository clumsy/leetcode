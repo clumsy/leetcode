{
 "cells": [
  {
   "cell_type": "markdown",
   "id": "0c79fada-1284-44bd-9ad1-b2aca32a9aab",
   "metadata": {},
   "source": [
    "[Problem 1324](https://leetcode.com/problems/print-words-vertically/description)"
   ]
  },
  {
   "cell_type": "code",
   "execution_count": 3,
   "id": "a326a219-253f-4ea9-b863-99c5b5361037",
   "metadata": {},
   "outputs": [],
   "source": [
    "from typing import List\n",
    "from itertools import zip_longest"
   ]
  },
  {
   "cell_type": "code",
   "execution_count": 4,
   "id": "fca23e21-20e9-49e8-a950-d014f0254cef",
   "metadata": {},
   "outputs": [],
   "source": [
    "class Solution:\n",
    "    def printVertically(self, s: str) -> List[str]:\n",
    "        res = [\"\".join(w).rstrip() for w in zip_longest(*s.split(), fillvalue=\" \")]\n",
    "        return res"
   ]
  },
  {
   "cell_type": "code",
   "execution_count": 5,
   "id": "dcd6b6ad-8632-406c-b13e-451ed44c5215",
   "metadata": {},
   "outputs": [],
   "source": [
    "sol = Solution()"
   ]
  },
  {
   "cell_type": "code",
   "execution_count": 6,
   "id": "61d4ba78-768c-44d3-9d22-e53020f3e75c",
   "metadata": {},
   "outputs": [],
   "source": [
    "assert sol.printVertically(\"HOW ARE YOU\") == [\"HAY\",\"ORO\",\"WEU\"]"
   ]
  },
  {
   "cell_type": "code",
   "execution_count": 7,
   "id": "eb609f10-66e7-445f-905f-980c77e09447",
   "metadata": {},
   "outputs": [],
   "source": [
    "assert sol.printVertically(\"TO BE OR NOT TO BE\") == [\"TBONTB\",\"OEROOE\",\"   T\"]"
   ]
  },
  {
   "cell_type": "code",
   "execution_count": 8,
   "id": "304dfe8d-c53d-4e27-9672-3a5fadf6a440",
   "metadata": {},
   "outputs": [],
   "source": [
    "assert sol.printVertically(\"CONTEST IS COMING\") == [\"CIC\",\"OSO\",\"N M\",\"T I\",\"E N\",\"S G\",\"T\"]"
   ]
  }
 ],
 "metadata": {
  "kernelspec": {
   "display_name": "Python 3 (ipykernel)",
   "language": "python",
   "name": "python3"
  },
  "language_info": {
   "codemirror_mode": {
    "name": "ipython",
    "version": 3
   },
   "file_extension": ".py",
   "mimetype": "text/x-python",
   "name": "python",
   "nbconvert_exporter": "python",
   "pygments_lexer": "ipython3",
   "version": "3.9.7"
  }
 },
 "nbformat": 4,
 "nbformat_minor": 5
}
