{
 "cells": [
  {
   "cell_type": "markdown",
   "id": "4dd5de11-9b73-40ed-8a66-f0d461f17d52",
   "metadata": {},
   "source": [
    "[Problem 2807](https://leetcode.com/problems/insert-greatest-common-divisors-in-linked-list/description)"
   ]
  },
  {
   "cell_type": "code",
   "execution_count": 9,
   "id": "41f8ba19-97b2-499e-bc18-49a7d1847838",
   "metadata": {},
   "outputs": [],
   "source": [
    "# Definition for singly-linked list.\n",
    "class ListNode:\n",
    "    def __init__(self, val=0, next=None):\n",
    "        self.val = val\n",
    "        self.next = next\n",
    "\n",
    "    def __eq__(self, other):\n",
    "        return other and self.val == other.val and self.next == other.next"
   ]
  },
  {
   "cell_type": "code",
   "execution_count": 10,
   "id": "54cd0f8f-ca97-4f35-8d43-d2ec64991067",
   "metadata": {},
   "outputs": [],
   "source": [
    "from typing import Optional"
   ]
  },
  {
   "cell_type": "code",
   "execution_count": 11,
   "id": "5603999c-b263-47ea-8afd-082edc414905",
   "metadata": {},
   "outputs": [],
   "source": [
    "class Solution:\n",
    "    def insertGreatestCommonDivisors(self, head: Optional[ListNode]) -> Optional[ListNode]:\n",
    "        def gcd(a, b):\n",
    "            return a if b == 0 else gcd(b, a % b)\n",
    "\n",
    "        res = head\n",
    "        while head and head.next:\n",
    "            head.next = ListNode(val=gcd(head.val, head.next.val), next=head.next)\n",
    "            head = head.next.next\n",
    "        return res"
   ]
  },
  {
   "cell_type": "code",
   "execution_count": 12,
   "id": "d569600c-000f-4b80-b2d0-0afd85ac7a9b",
   "metadata": {},
   "outputs": [],
   "source": [
    "sol = Solution()"
   ]
  },
  {
   "cell_type": "code",
   "execution_count": 13,
   "id": "9a1e8319-25ca-4467-ab7e-b655cab4f5fa",
   "metadata": {},
   "outputs": [],
   "source": [
    "def as_list(vals):\n",
    "    head = cur = ListNode()\n",
    "    for i in vals:\n",
    "        cur.next = ListNode(i)\n",
    "        cur = cur.next\n",
    "    return head.next"
   ]
  },
  {
   "cell_type": "code",
   "execution_count": 15,
   "id": "2daee09a-fafe-4009-8128-5881953c1bc3",
   "metadata": {},
   "outputs": [],
   "source": [
    "assert sol.insertGreatestCommonDivisors(as_list([18,6,10,3])) == as_list([18,6,6,2,10,1,3])"
   ]
  },
  {
   "cell_type": "code",
   "execution_count": 16,
   "id": "621e9aa8-c04e-45df-b13d-89d2a4a9bdf3",
   "metadata": {},
   "outputs": [],
   "source": [
    "assert sol.insertGreatestCommonDivisors(as_list([7])) == as_list([7])"
   ]
  }
 ],
 "metadata": {
  "kernelspec": {
   "display_name": "Python 3 (ipykernel)",
   "language": "python",
   "name": "python3"
  },
  "language_info": {
   "codemirror_mode": {
    "name": "ipython",
    "version": 3
   },
   "file_extension": ".py",
   "mimetype": "text/x-python",
   "name": "python",
   "nbconvert_exporter": "python",
   "pygments_lexer": "ipython3",
   "version": "3.9.7"
  }
 },
 "nbformat": 4,
 "nbformat_minor": 5
}
