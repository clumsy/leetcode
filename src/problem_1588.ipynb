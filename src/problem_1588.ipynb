{
 "cells": [
  {
   "cell_type": "markdown",
   "id": "2fd5a19e-c04f-4d8e-9ba6-4ae71cc39b87",
   "metadata": {},
   "source": [
    "[Problem 1588](https://leetcode.com/problems/sum-of-all-odd-length-subarrays/description)"
   ]
  },
  {
   "cell_type": "code",
   "execution_count": 1,
   "id": "e292edf1-bb76-40d0-9483-5bf4c067774d",
   "metadata": {},
   "outputs": [],
   "source": [
    "from typing import List"
   ]
  },
  {
   "cell_type": "code",
   "execution_count": 2,
   "id": "8a3bf0c8-0f1a-4580-843b-57fa73d2bbb1",
   "metadata": {},
   "outputs": [],
   "source": [
    "class Solution:\n",
    "    def sumOddLengthSubarrays(self, arr: List[int]) -> int:\n",
    "        n, res = len(arr), 0\n",
    "        for i in range(n):\n",
    "            # how many times arr[i] is used for subarrays of odd length\n",
    "            k = (i + 1) * (n - i)\n",
    "            res += (k + 1) // 2 * arr[i]\n",
    "        return res"
   ]
  },
  {
   "cell_type": "code",
   "execution_count": 3,
   "id": "475887ed-46b1-4c98-960c-b6f4729eb899",
   "metadata": {},
   "outputs": [],
   "source": [
    "sol = Solution()"
   ]
  },
  {
   "cell_type": "code",
   "execution_count": 4,
   "id": "99a29abf-a4da-49ff-aa6f-08c365d26396",
   "metadata": {},
   "outputs": [],
   "source": [
    "assert sol.sumOddLengthSubarrays([1,4,2,5,3]) == 58"
   ]
  },
  {
   "cell_type": "code",
   "execution_count": 5,
   "id": "6e360ffb-5415-4e06-a259-e9a5d7852365",
   "metadata": {},
   "outputs": [],
   "source": [
    "assert sol.sumOddLengthSubarrays([1,2]) == 3"
   ]
  },
  {
   "cell_type": "code",
   "execution_count": 6,
   "id": "e292c22a-a8e0-4da4-a112-a42c43f23e9a",
   "metadata": {},
   "outputs": [],
   "source": [
    "assert sol.sumOddLengthSubarrays([10,11,12]) == 66"
   ]
  }
 ],
 "metadata": {
  "kernelspec": {
   "display_name": "Python 3 (ipykernel)",
   "language": "python",
   "name": "python3"
  },
  "language_info": {
   "codemirror_mode": {
    "name": "ipython",
    "version": 3
   },
   "file_extension": ".py",
   "mimetype": "text/x-python",
   "name": "python",
   "nbconvert_exporter": "python",
   "pygments_lexer": "ipython3",
   "version": "3.9.7"
  }
 },
 "nbformat": 4,
 "nbformat_minor": 5
}
