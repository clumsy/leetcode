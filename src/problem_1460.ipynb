{
 "cells": [
  {
   "cell_type": "markdown",
   "id": "3bda5115-24c4-4a68-b019-9d26e3614147",
   "metadata": {},
   "source": [
    "[Problem 1460](https://leetcode.com/problems/make-two-arrays-equal-by-reversing-subarrays/description)"
   ]
  },
  {
   "cell_type": "code",
   "execution_count": 1,
   "id": "8aaff3d3-ac2b-41bc-ac6a-44f853a0128a",
   "metadata": {},
   "outputs": [],
   "source": [
    "from typing import List\n",
    "from collections import Counter"
   ]
  },
  {
   "cell_type": "code",
   "execution_count": 2,
   "id": "83ad198b-68b9-4508-999f-8d795bb10fb0",
   "metadata": {},
   "outputs": [],
   "source": [
    "class Solution:\n",
    "    def canBeEqual(self, target: List[int], arr: List[int]) -> bool:\n",
    "        res = Counter(target) == Counter(arr)\n",
    "        return res"
   ]
  },
  {
   "cell_type": "code",
   "execution_count": 4,
   "id": "a4a0ddc8-6800-4bd1-a75e-b14b351d0e8f",
   "metadata": {},
   "outputs": [],
   "source": [
    "sol = Solution()"
   ]
  },
  {
   "cell_type": "code",
   "execution_count": 5,
   "id": "8bb1fac4-8526-448e-acf7-8e9d8be2e9d1",
   "metadata": {},
   "outputs": [],
   "source": [
    "assert sol.canBeEqual([1,2,3,4], [2,4,1,3])"
   ]
  },
  {
   "cell_type": "code",
   "execution_count": 6,
   "id": "fad5156c-ad4b-444f-88c6-186dfad0a6f9",
   "metadata": {},
   "outputs": [],
   "source": [
    "assert sol.canBeEqual([7], [7])"
   ]
  },
  {
   "cell_type": "code",
   "execution_count": 8,
   "id": "0a069a7d-17e9-4612-a717-001d65be0def",
   "metadata": {},
   "outputs": [],
   "source": [
    "assert not sol.canBeEqual([3,7,9], [3,7,11])"
   ]
  }
 ],
 "metadata": {
  "kernelspec": {
   "display_name": "Python 3 (ipykernel)",
   "language": "python",
   "name": "python3"
  },
  "language_info": {
   "codemirror_mode": {
    "name": "ipython",
    "version": 3
   },
   "file_extension": ".py",
   "mimetype": "text/x-python",
   "name": "python",
   "nbconvert_exporter": "python",
   "pygments_lexer": "ipython3",
   "version": "3.9.7"
  }
 },
 "nbformat": 4,
 "nbformat_minor": 5
}
