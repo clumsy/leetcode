{
 "cells": [
  {
   "cell_type": "markdown",
   "id": "5ba96da4-b5ca-4716-b21f-26a3b54afb0d",
   "metadata": {},
   "source": [
    "[Problem 1903](https://leetcode.com/problems/largest-odd-number-in-string/description)"
   ]
  },
  {
   "cell_type": "code",
   "execution_count": 1,
   "id": "523d9632-66f5-4ebc-adca-86d1660b67f5",
   "metadata": {},
   "outputs": [],
   "source": [
    "class Solution:\n",
    "    def largestOddNumber(self, num: str) -> str:\n",
    "        i = len(num) - 1\n",
    "        while i >= 0 and num[i] not in \"13579\":\n",
    "            i -= 1\n",
    "        res = num[:i + 1]\n",
    "        return res"
   ]
  },
  {
   "cell_type": "code",
   "execution_count": 2,
   "id": "9acb8f9c-4c03-4f81-a98d-a874575c1a56",
   "metadata": {},
   "outputs": [],
   "source": [
    "sol = Solution()"
   ]
  },
  {
   "cell_type": "code",
   "execution_count": 3,
   "id": "1cfc47b6-9e78-4bbe-82e5-ffa9484996a7",
   "metadata": {},
   "outputs": [],
   "source": [
    "assert sol.largestOddNumber(\"52\") == \"5\""
   ]
  },
  {
   "cell_type": "code",
   "execution_count": 4,
   "id": "7b579ad2-9cc6-4460-a67f-e7460e5e650e",
   "metadata": {},
   "outputs": [],
   "source": [
    "assert sol.largestOddNumber(\"4206\") == \"\""
   ]
  },
  {
   "cell_type": "code",
   "execution_count": 5,
   "id": "9d8e93f3-4f25-418d-900c-b313a1ab64f4",
   "metadata": {},
   "outputs": [],
   "source": [
    "assert sol.largestOddNumber(\"35427\") == \"35427\""
   ]
  }
 ],
 "metadata": {
  "kernelspec": {
   "display_name": "Python 3 (ipykernel)",
   "language": "python",
   "name": "python3"
  },
  "language_info": {
   "codemirror_mode": {
    "name": "ipython",
    "version": 3
   },
   "file_extension": ".py",
   "mimetype": "text/x-python",
   "name": "python",
   "nbconvert_exporter": "python",
   "pygments_lexer": "ipython3",
   "version": "3.9.7"
  }
 },
 "nbformat": 4,
 "nbformat_minor": 5
}
