{
 "cells": [
  {
   "cell_type": "markdown",
   "id": "8ee95aa5-a92b-451b-a5f3-b1bba954abff",
   "metadata": {},
   "source": [
    "[Problem 953](https://leetcode.com/problems/verifying-an-alien-dictionary/)"
   ]
  },
  {
   "cell_type": "code",
   "execution_count": 26,
   "id": "db613108-6970-4ebd-8759-d4457a0a74c0",
   "metadata": {},
   "outputs": [],
   "source": [
    "from typing import List"
   ]
  },
  {
   "cell_type": "code",
   "execution_count": 27,
   "id": "35ebfbba-74c5-4d63-a3ce-9afb0c3774f4",
   "metadata": {},
   "outputs": [],
   "source": [
    "class Solution:\n",
    "    def isAlienSorted(self, words: List[str], order: str) -> bool:\n",
    "        mapping = {c: i for i, c in enumerate(order)}\n",
    "        for a, b in zip(words, words[1:]):\n",
    "            if len(a) > len(b) and a[:len(b)] == b:\n",
    "                return False\n",
    "            for s1, s2 in zip(a, b):\n",
    "                if mapping[s1] < mapping[s2]:\n",
    "                    break\n",
    "                elif mapping[s1] > mapping[s2]:\n",
    "                    return False\n",
    "        return True"
   ]
  },
  {
   "cell_type": "code",
   "execution_count": 28,
   "id": "76eea928-d24a-43c1-96e8-8cb7db9cbcbe",
   "metadata": {},
   "outputs": [],
   "source": [
    "sol = Solution()"
   ]
  },
  {
   "cell_type": "code",
   "execution_count": 29,
   "id": "36be9f5b-a453-4ac1-9857-4582e873e005",
   "metadata": {},
   "outputs": [],
   "source": [
    "assert sol.isAlienSorted(words=[\"hello\",\"leetcode\"], order=\"hlabcdefgijkmnopqrstuvwxyz\")"
   ]
  },
  {
   "cell_type": "code",
   "execution_count": 30,
   "id": "092bbed5-dee3-4d5b-ad43-55f6d9e2d7e8",
   "metadata": {},
   "outputs": [],
   "source": [
    "assert not sol.isAlienSorted(words=[\"word\",\"world\",\"row\"], order=\"worldabcefghijkmnpqstuvxyz\")"
   ]
  },
  {
   "cell_type": "code",
   "execution_count": 31,
   "id": "cdd40cea-c354-4e45-8242-112a6c92cd76",
   "metadata": {},
   "outputs": [],
   "source": [
    "assert not sol.isAlienSorted(words=[\"apple\",\"app\"], order=\"abcdefghijklmnopqrstuvwxyz\")"
   ]
  }
 ],
 "metadata": {
  "kernelspec": {
   "display_name": "Python 3 (ipykernel)",
   "language": "python",
   "name": "python3"
  },
  "language_info": {
   "codemirror_mode": {
    "name": "ipython",
    "version": 3
   },
   "file_extension": ".py",
   "mimetype": "text/x-python",
   "name": "python",
   "nbconvert_exporter": "python",
   "pygments_lexer": "ipython3",
   "version": "3.9.7"
  }
 },
 "nbformat": 4,
 "nbformat_minor": 5
}
