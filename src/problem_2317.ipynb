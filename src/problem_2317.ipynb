{
 "cells": [
  {
   "cell_type": "markdown",
   "id": "821bb257-f58c-4aba-87f1-964e3f0b67da",
   "metadata": {},
   "source": [
    "[Problem 2317](https://leetcode.com/problems/maximum-xor-after-operations/description)"
   ]
  },
  {
   "cell_type": "code",
   "execution_count": 5,
   "id": "c7ae6325-cb80-4a72-aafa-984db00f8031",
   "metadata": {},
   "outputs": [],
   "source": [
    "from typing import List\n",
    "from operator import ior\n",
    "from functools import reduce"
   ]
  },
  {
   "cell_type": "code",
   "execution_count": 6,
   "id": "ed22e407-a67b-4a31-9421-4009cab96520",
   "metadata": {},
   "outputs": [],
   "source": [
    "class Solution:\n",
    "    def maximumXOR(self, nums: List[int]) -> int:\n",
    "        #  11   11\n",
    "        #  10   10\n",
    "        # 100  100\n",
    "        # 110   10\n",
    "\n",
    "        #    1\n",
    "        #   10\n",
    "        #   10\n",
    "        #   11\n",
    "        # 1001\n",
    "\n",
    "        # i and (i ^ x) = i - (i and x)\n",
    "        # this means we can always make odd number of numbers with kth bit on\n",
    "        # if we have at least one number with it\n",
    "\n",
    "        res = reduce(ior, nums)\n",
    "        return res"
   ]
  },
  {
   "cell_type": "code",
   "execution_count": 7,
   "id": "ccb8af63-9a10-42c2-9d6b-a90a4cb28772",
   "metadata": {},
   "outputs": [],
   "source": [
    "sol = Solution()"
   ]
  },
  {
   "cell_type": "code",
   "execution_count": 8,
   "id": "928d15af-53f5-434c-953f-88ead9308b66",
   "metadata": {},
   "outputs": [],
   "source": [
    "assert sol.maximumXOR([3,2,6,4]) == 7"
   ]
  },
  {
   "cell_type": "code",
   "execution_count": 9,
   "id": "a9a8ff2a-b851-4e81-893c-ed14242c61f6",
   "metadata": {},
   "outputs": [],
   "source": [
    "assert sol.maximumXOR([1,2,3,9,2]) == 11"
   ]
  }
 ],
 "metadata": {
  "kernelspec": {
   "display_name": "Python 3 (ipykernel)",
   "language": "python",
   "name": "python3"
  },
  "language_info": {
   "codemirror_mode": {
    "name": "ipython",
    "version": 3
   },
   "file_extension": ".py",
   "mimetype": "text/x-python",
   "name": "python",
   "nbconvert_exporter": "python",
   "pygments_lexer": "ipython3",
   "version": "3.9.7"
  }
 },
 "nbformat": 4,
 "nbformat_minor": 5
}
