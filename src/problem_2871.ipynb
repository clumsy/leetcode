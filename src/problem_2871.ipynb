{
 "cells": [
  {
   "cell_type": "markdown",
   "id": "387d4846-a8a3-4793-b02d-ab4e72ca43f9",
   "metadata": {},
   "source": [
    "[Problem 2871](https://leetcode.com/problems/split-array-into-maximum-number-of-subarrays/description)"
   ]
  },
  {
   "cell_type": "code",
   "execution_count": 1,
   "id": "5ed98d42-610a-48e1-aa2e-f7a0ca6d7d40",
   "metadata": {},
   "outputs": [],
   "source": [
    "from typing import List"
   ]
  },
  {
   "cell_type": "code",
   "execution_count": 2,
   "id": "cecb4aa0-2a7a-44f9-b04f-4bf74ff40d3e",
   "metadata": {},
   "outputs": [],
   "source": [
    "class Solution:\n",
    "    def maxSubarrays(self, nums: List[int]) -> int:\n",
    "        res = cur = 0\n",
    "        for e in nums:\n",
    "            cur = cur & e if cur else e\n",
    "            res += cur == 0\n",
    "        res = max(1, res)\n",
    "        return res"
   ]
  },
  {
   "cell_type": "code",
   "execution_count": 3,
   "id": "4dee6b6b-67cd-4c59-a6b1-cc7c2faa62d7",
   "metadata": {},
   "outputs": [],
   "source": [
    "sol = Solution()"
   ]
  },
  {
   "cell_type": "code",
   "execution_count": 4,
   "id": "81437fe4-807b-447a-a4f0-2888dcafbfd8",
   "metadata": {},
   "outputs": [],
   "source": [
    "assert sol.maxSubarrays([1,0,2,0,1,2]) == 3"
   ]
  },
  {
   "cell_type": "code",
   "execution_count": 5,
   "id": "e4b851b2-ea31-4f04-982a-13b9d4611bbd",
   "metadata": {},
   "outputs": [],
   "source": [
    "assert sol.maxSubarrays([5,7,1,3]) == 1"
   ]
  }
 ],
 "metadata": {
  "kernelspec": {
   "display_name": "Python 3 (ipykernel)",
   "language": "python",
   "name": "python3"
  },
  "language_info": {
   "codemirror_mode": {
    "name": "ipython",
    "version": 3
   },
   "file_extension": ".py",
   "mimetype": "text/x-python",
   "name": "python",
   "nbconvert_exporter": "python",
   "pygments_lexer": "ipython3",
   "version": "3.9.7"
  }
 },
 "nbformat": 4,
 "nbformat_minor": 5
}
