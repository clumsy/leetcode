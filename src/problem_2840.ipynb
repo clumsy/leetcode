{
 "cells": [
  {
   "cell_type": "markdown",
   "id": "ade6c159-dadd-48b1-a97c-7d04c8dca259",
   "metadata": {},
   "source": [
    "[Problem 2840](https://leetcode.com/problems/check-if-strings-can-be-made-equal-with-operations-ii/description)"
   ]
  },
  {
   "cell_type": "code",
   "execution_count": 1,
   "id": "f13e58be-bb71-4e47-b157-0a393692d66e",
   "metadata": {},
   "outputs": [],
   "source": [
    "from collections import Counter"
   ]
  },
  {
   "cell_type": "code",
   "execution_count": 2,
   "id": "23dfc117-5cf0-4efc-90ee-e14a36c2e6b3",
   "metadata": {},
   "outputs": [],
   "source": [
    "class Solution:\n",
    "    def checkStrings(self, s1: str, s2: str) -> bool:\n",
    "        res = Counter(s1[::2]) == Counter(s2[::2]) and Counter(s1[1::2]) == Counter(s2[1::2])\n",
    "        return res"
   ]
  },
  {
   "cell_type": "code",
   "execution_count": 3,
   "id": "53809274-c574-4d8b-8188-085d69872113",
   "metadata": {},
   "outputs": [],
   "source": [
    "sol = Solution()"
   ]
  },
  {
   "cell_type": "code",
   "execution_count": 4,
   "id": "3820b298-f2e3-4224-99d9-d2966996298e",
   "metadata": {},
   "outputs": [],
   "source": [
    "assert sol.checkStrings(\"abcdba\", \"cabdab\")"
   ]
  },
  {
   "cell_type": "code",
   "execution_count": 5,
   "id": "07948708-75ae-4351-849f-7c33fda5cfce",
   "metadata": {},
   "outputs": [],
   "source": [
    "assert not sol.checkStrings(\"abe\", \"bea\")"
   ]
  }
 ],
 "metadata": {
  "kernelspec": {
   "display_name": "Python 3 (ipykernel)",
   "language": "python",
   "name": "python3"
  },
  "language_info": {
   "codemirror_mode": {
    "name": "ipython",
    "version": 3
   },
   "file_extension": ".py",
   "mimetype": "text/x-python",
   "name": "python",
   "nbconvert_exporter": "python",
   "pygments_lexer": "ipython3",
   "version": "3.9.7"
  }
 },
 "nbformat": 4,
 "nbformat_minor": 5
}
