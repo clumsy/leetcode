{
 "cells": [
  {
   "cell_type": "markdown",
   "id": "d25ff87b-6b99-42e3-800c-8a8ca53ad27c",
   "metadata": {},
   "source": [
    "[Problem 2410](https://leetcode.com/problems/maximum-matching-of-players-with-trainers/description)"
   ]
  },
  {
   "cell_type": "code",
   "execution_count": 1,
   "id": "e6013d8f-72ca-46b0-b850-497c320b96e9",
   "metadata": {},
   "outputs": [],
   "source": [
    "from typing import List"
   ]
  },
  {
   "cell_type": "code",
   "execution_count": 2,
   "id": "93ef3d69-cbc8-4e5f-ad26-1e27945dc14f",
   "metadata": {},
   "outputs": [],
   "source": [
    "class Solution:\n",
    "    def matchPlayersAndTrainers(self, players: List[int], trainers: List[int]) -> int:\n",
    "        players.sort()\n",
    "        trainers.sort()\n",
    "        res = t = 0\n",
    "        for p in players:\n",
    "            while t < len(trainers) and p > trainers[t]:\n",
    "                t += 1\n",
    "            if t == len(trainers):\n",
    "                break\n",
    "            res += 1\n",
    "            t += 1\n",
    "        return res"
   ]
  },
  {
   "cell_type": "code",
   "execution_count": 3,
   "id": "a30bca9c-ce5e-443b-97a0-ce4547bedfe7",
   "metadata": {},
   "outputs": [],
   "source": [
    "sol = Solution()"
   ]
  },
  {
   "cell_type": "code",
   "execution_count": 4,
   "id": "ac3c2135-171d-4bd3-8cd8-705456733ec7",
   "metadata": {},
   "outputs": [],
   "source": [
    "assert sol.matchPlayersAndTrainers([4,7,9], [8,2,5,8]) == 2"
   ]
  },
  {
   "cell_type": "code",
   "execution_count": 5,
   "id": "efb8a5b2-1df8-4b1a-bc57-4a82ffd816a1",
   "metadata": {},
   "outputs": [],
   "source": [
    "assert sol.matchPlayersAndTrainers([1,1,1], [10]) == 1"
   ]
  }
 ],
 "metadata": {
  "kernelspec": {
   "display_name": "Python 3 (ipykernel)",
   "language": "python",
   "name": "python3"
  },
  "language_info": {
   "codemirror_mode": {
    "name": "ipython",
    "version": 3
   },
   "file_extension": ".py",
   "mimetype": "text/x-python",
   "name": "python",
   "nbconvert_exporter": "python",
   "pygments_lexer": "ipython3",
   "version": "3.9.7"
  }
 },
 "nbformat": 4,
 "nbformat_minor": 5
}
