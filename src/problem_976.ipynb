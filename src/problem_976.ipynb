{
 "cells": [
  {
   "cell_type": "markdown",
   "id": "28e11cc3-cecc-4772-9ac9-ec8ee4f06414",
   "metadata": {},
   "source": [
    "[Problem 976](https://leetcode.com/problems/largest-perimeter-triangle/description)"
   ]
  },
  {
   "cell_type": "code",
   "execution_count": 1,
   "id": "376311bd-5f61-4349-be5c-c42b944b2067",
   "metadata": {},
   "outputs": [],
   "source": [
    "from typing import List"
   ]
  },
  {
   "cell_type": "code",
   "execution_count": 2,
   "id": "60d6f7b5-bfc0-44c6-bf92-a4786c7d50c7",
   "metadata": {},
   "outputs": [],
   "source": [
    "class Solution:\n",
    "    def largestPerimeter(self, nums: List[int]) -> int:\n",
    "        nums.sort(reverse=True)\n",
    "        res = 0\n",
    "        for i in range(len(nums) - 2):\n",
    "            if nums[i] < nums[i + 1] + nums[i + 2]:\n",
    "                res = nums[i] + nums[i + 1] + nums[i + 2]\n",
    "                break\n",
    "        return res"
   ]
  },
  {
   "cell_type": "code",
   "execution_count": 3,
   "id": "d4a0e3c2-ed6d-4271-b9b6-004253ae9a55",
   "metadata": {},
   "outputs": [],
   "source": [
    "sol = Solution()"
   ]
  },
  {
   "cell_type": "code",
   "execution_count": 4,
   "id": "aaf910eb-3728-4f7a-8b05-e35ad6b68921",
   "metadata": {},
   "outputs": [],
   "source": [
    "assert sol.largestPerimeter([2,1,2]) == 5"
   ]
  },
  {
   "cell_type": "code",
   "execution_count": 5,
   "id": "f90e8826-51f7-4a38-8000-5b4ab282da29",
   "metadata": {},
   "outputs": [],
   "source": [
    "assert sol.largestPerimeter([1,2,1,10]) == 0"
   ]
  }
 ],
 "metadata": {
  "kernelspec": {
   "display_name": "Python 3 (ipykernel)",
   "language": "python",
   "name": "python3"
  },
  "language_info": {
   "codemirror_mode": {
    "name": "ipython",
    "version": 3
   },
   "file_extension": ".py",
   "mimetype": "text/x-python",
   "name": "python",
   "nbconvert_exporter": "python",
   "pygments_lexer": "ipython3",
   "version": "3.9.7"
  }
 },
 "nbformat": 4,
 "nbformat_minor": 5
}
