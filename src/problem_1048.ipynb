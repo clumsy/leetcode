{
 "cells": [
  {
   "cell_type": "markdown",
   "id": "11433ebf-0758-4f44-86e3-9b78708818b6",
   "metadata": {},
   "source": [
    "[Problem 1048](https://leetcode.com/problems/longest-string-chain/description)"
   ]
  },
  {
   "cell_type": "code",
   "execution_count": 2,
   "id": "cec12236-364f-45a6-9e27-94ebdce253cf",
   "metadata": {},
   "outputs": [],
   "source": [
    "from typing import List"
   ]
  },
  {
   "cell_type": "code",
   "execution_count": 5,
   "id": "7988174c-04d6-4666-88d0-b7b295024450",
   "metadata": {},
   "outputs": [],
   "source": [
    "class Solution:\n",
    "    def longestStrChain(self, words: List[str]) -> int:\n",
    "        dp = {}\n",
    "        for w in sorted(words, key=len):\n",
    "            for i in range(len(w)):\n",
    "                size = dp.get(w[:i] + w[i + 1:], 0)\n",
    "                dp[w] = max(dp.get(w, 0), size + 1)\n",
    "        res = max(dp.values())\n",
    "        return res"
   ]
  },
  {
   "cell_type": "code",
   "execution_count": 6,
   "id": "01fd3c87-c58b-4c93-8700-d6b92d4d76b4",
   "metadata": {},
   "outputs": [],
   "source": [
    "sol = Solution()"
   ]
  },
  {
   "cell_type": "code",
   "execution_count": 7,
   "id": "c42fed37-3f24-4008-b760-e8d92ed1a142",
   "metadata": {},
   "outputs": [],
   "source": [
    "assert sol.longestStrChain([\"a\",\"b\",\"ba\",\"bca\",\"bda\",\"bdca\"]) == 4"
   ]
  },
  {
   "cell_type": "code",
   "execution_count": 8,
   "id": "ab03b3d3-6959-470c-8e45-126a0d125c8a",
   "metadata": {},
   "outputs": [],
   "source": [
    "assert sol.longestStrChain([\"xbc\",\"pcxbcf\",\"xb\",\"cxbc\",\"pcxbc\"]) == 5"
   ]
  },
  {
   "cell_type": "code",
   "execution_count": 9,
   "id": "8a424717-d026-4297-a6df-1cffe361cb85",
   "metadata": {},
   "outputs": [],
   "source": [
    "assert sol.longestStrChain([\"abcd\",\"dbqca\"]) == 1"
   ]
  }
 ],
 "metadata": {
  "kernelspec": {
   "display_name": "Python 3 (ipykernel)",
   "language": "python",
   "name": "python3"
  },
  "language_info": {
   "codemirror_mode": {
    "name": "ipython",
    "version": 3
   },
   "file_extension": ".py",
   "mimetype": "text/x-python",
   "name": "python",
   "nbconvert_exporter": "python",
   "pygments_lexer": "ipython3",
   "version": "3.9.7"
  }
 },
 "nbformat": 4,
 "nbformat_minor": 5
}
