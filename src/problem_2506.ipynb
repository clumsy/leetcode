{
 "cells": [
  {
   "cell_type": "markdown",
   "id": "181ac16c-0c9a-4b66-9181-a3d749d28b3b",
   "metadata": {},
   "source": [
    "[Problem 2506](https://leetcode.com/problems/count-pairs-of-similar-strings/description)"
   ]
  },
  {
   "cell_type": "code",
   "execution_count": 1,
   "id": "ecbe3bc0-bc97-41d3-94db-4dd9deaac8d5",
   "metadata": {},
   "outputs": [],
   "source": [
    "from typing import List"
   ]
  },
  {
   "cell_type": "code",
   "execution_count": 2,
   "id": "9fecdf50-eb7a-4f39-bc5f-0442de6c17cc",
   "metadata": {},
   "outputs": [],
   "source": [
    "class Solution:\n",
    "    def similarPairs(self, words: List[str]) -> int:\n",
    "        c, res = {}, 0\n",
    "        for w in words:\n",
    "            s = \"\".join(sorted(set(w)))\n",
    "            cur = c.get(s, 0)\n",
    "            res += cur\n",
    "            c[s] = cur + 1\n",
    "        return res"
   ]
  },
  {
   "cell_type": "code",
   "execution_count": 3,
   "id": "1bf94e3c-1c90-4c43-be7d-8a43d934cdf3",
   "metadata": {},
   "outputs": [],
   "source": [
    "sol = Solution()"
   ]
  },
  {
   "cell_type": "code",
   "execution_count": 4,
   "id": "983ba2f7-4517-423e-b9a8-3867533f217f",
   "metadata": {},
   "outputs": [],
   "source": [
    "assert sol.similarPairs([\"aba\",\"aabb\",\"abcd\",\"bac\",\"aabc\"]) == 2"
   ]
  },
  {
   "cell_type": "code",
   "execution_count": 5,
   "id": "cfcd17af-542b-45ce-8440-fd2af82797dc",
   "metadata": {},
   "outputs": [],
   "source": [
    "assert sol.similarPairs([\"aabb\",\"ab\",\"ba\"]) == 3"
   ]
  },
  {
   "cell_type": "code",
   "execution_count": 6,
   "id": "030bf588-5bff-443d-87b7-d77ad0c62aa3",
   "metadata": {},
   "outputs": [],
   "source": [
    "assert sol.similarPairs([\"nba\",\"cba\",\"dba\"]) == 0"
   ]
  }
 ],
 "metadata": {
  "kernelspec": {
   "display_name": "Python 3 (ipykernel)",
   "language": "python",
   "name": "python3"
  },
  "language_info": {
   "codemirror_mode": {
    "name": "ipython",
    "version": 3
   },
   "file_extension": ".py",
   "mimetype": "text/x-python",
   "name": "python",
   "nbconvert_exporter": "python",
   "pygments_lexer": "ipython3",
   "version": "3.9.7"
  }
 },
 "nbformat": 4,
 "nbformat_minor": 5
}
