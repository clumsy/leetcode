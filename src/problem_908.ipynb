{
 "cells": [
  {
   "cell_type": "markdown",
   "id": "eef60788-d799-489f-834c-594230f9b003",
   "metadata": {},
   "source": [
    "[Problem 908](https://leetcode.com/problems/smallest-range-i/description)"
   ]
  },
  {
   "cell_type": "code",
   "execution_count": 9,
   "id": "5397c986-d2b1-44cf-bb10-bf733d5a25db",
   "metadata": {},
   "outputs": [],
   "source": [
    "from typing import List\n",
    "from math import inf"
   ]
  },
  {
   "cell_type": "code",
   "execution_count": 10,
   "id": "74e6f7a5-0c30-4823-a38f-b637ec13c858",
   "metadata": {},
   "outputs": [],
   "source": [
    "class Solution:\n",
    "    def smallestRangeI(self, nums: List[int], k: int) -> int:\n",
    "        ma, mi = 0, inf\n",
    "        for i in nums:\n",
    "            mi, ma = min(mi, i), max(ma, i)\n",
    "        # we can reduce the distance between min and max at most by 2k\n",
    "        res = max(0, ma - mi - 2 * k)\n",
    "        return res"
   ]
  },
  {
   "cell_type": "code",
   "execution_count": 11,
   "id": "79c3b2ac-89ab-4ef1-a245-3d8e2ea2b7a5",
   "metadata": {},
   "outputs": [],
   "source": [
    "sol = Solution()"
   ]
  },
  {
   "cell_type": "code",
   "execution_count": 12,
   "id": "0d2743b3-d8b4-4c8e-8b6d-08a745cf7692",
   "metadata": {},
   "outputs": [],
   "source": [
    "assert sol.smallestRangeI([1], 0) == 0"
   ]
  },
  {
   "cell_type": "code",
   "execution_count": 13,
   "id": "49d63dc8-3d06-4f35-870f-dbb814febed3",
   "metadata": {},
   "outputs": [],
   "source": [
    "assert sol.smallestRangeI([0,10], 2) == 6"
   ]
  },
  {
   "cell_type": "code",
   "execution_count": 14,
   "id": "28ba8c02-8042-4405-942e-a5affc6468ac",
   "metadata": {},
   "outputs": [],
   "source": [
    "assert sol.smallestRangeI([1,3,6], 3) == 0"
   ]
  }
 ],
 "metadata": {
  "kernelspec": {
   "display_name": "Python 3 (ipykernel)",
   "language": "python",
   "name": "python3"
  },
  "language_info": {
   "codemirror_mode": {
    "name": "ipython",
    "version": 3
   },
   "file_extension": ".py",
   "mimetype": "text/x-python",
   "name": "python",
   "nbconvert_exporter": "python",
   "pygments_lexer": "ipython3",
   "version": "3.9.7"
  }
 },
 "nbformat": 4,
 "nbformat_minor": 5
}
