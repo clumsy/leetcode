{
 "cells": [
  {
   "cell_type": "markdown",
   "id": "01f9ffd8-d10b-4b9a-835d-82150cdbfc31",
   "metadata": {},
   "source": [
    "[Problem 2047](https://leetcode.com/problems/number-of-valid-words-in-a-sentence/description)"
   ]
  },
  {
   "cell_type": "code",
   "execution_count": 1,
   "id": "90532ecf-9229-4002-9c4a-11d9019f9a82",
   "metadata": {},
   "outputs": [],
   "source": [
    "import string"
   ]
  },
  {
   "cell_type": "code",
   "execution_count": 2,
   "id": "676aa241-4f00-4986-a701-588965d2f018",
   "metadata": {},
   "outputs": [],
   "source": [
    "class Solution:\n",
    "    def countValidWords(self, sentence: str) -> int:\n",
    "        def is_word(w, hyphens=True):\n",
    "            for p in [\",\", \".\", \"!\"]:\n",
    "                if p in w and w.find(p) != len(w) - 1:\n",
    "                    return False\n",
    "            if \"-\" in w:\n",
    "                if not hyphens:\n",
    "                    return False\n",
    "                chunks = w.split(\"-\") \n",
    "                if len(chunks) > 2 or any(len(c) == 0 for c in chunks) or any(c not in string.ascii_lowercase for c in (chunks[0][-1], chunks[1][0])):\n",
    "                    return False\n",
    "                return all(is_word(c, hyphens=False) for c in chunks)\n",
    "            return len(w) > 0 and all(c in string.ascii_lowercase or c in \"!.,\" for c in w)\n",
    "        res = sum(is_word(w) for w in sentence.split(\" \"))\n",
    "        return res"
   ]
  },
  {
   "cell_type": "code",
   "execution_count": 3,
   "id": "536af6fb-8fe2-4461-b9de-c38ef4e6495e",
   "metadata": {},
   "outputs": [],
   "source": [
    "sol = Solution()"
   ]
  },
  {
   "cell_type": "code",
   "execution_count": 4,
   "id": "957ad98f-a65a-44e0-8ee1-53af6f776e02",
   "metadata": {},
   "outputs": [],
   "source": [
    "assert sol.countValidWords(\"cat and  dog\") == 3"
   ]
  },
  {
   "cell_type": "code",
   "execution_count": 5,
   "id": "ccd2b87b-6fef-4ff7-85d1-c04ca3419490",
   "metadata": {},
   "outputs": [],
   "source": [
    "assert sol.countValidWords(\"!this  1-s b8d!\") == 0"
   ]
  },
  {
   "cell_type": "code",
   "execution_count": 6,
   "id": "0d0443da-0b58-439f-80d5-6395bfb9cf30",
   "metadata": {},
   "outputs": [],
   "source": [
    "assert sol.countValidWords(\"alice and  bob are playing stone-game10\") == 5"
   ]
  }
 ],
 "metadata": {
  "kernelspec": {
   "display_name": "Python 3 (ipykernel)",
   "language": "python",
   "name": "python3"
  },
  "language_info": {
   "codemirror_mode": {
    "name": "ipython",
    "version": 3
   },
   "file_extension": ".py",
   "mimetype": "text/x-python",
   "name": "python",
   "nbconvert_exporter": "python",
   "pygments_lexer": "ipython3",
   "version": "3.9.7"
  }
 },
 "nbformat": 4,
 "nbformat_minor": 5
}
