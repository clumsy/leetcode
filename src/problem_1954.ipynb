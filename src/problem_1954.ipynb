{
 "cells": [
  {
   "cell_type": "markdown",
   "id": "3d897779-1458-4357-ad75-3bcb2b9cb7c4",
   "metadata": {},
   "source": [
    "[Problem 1954](https://leetcode.com/problems/minimum-garden-perimeter-to-collect-enough-apples/description)"
   ]
  },
  {
   "cell_type": "code",
   "execution_count": 1,
   "id": "10f5d62b-0e63-4758-8a21-736144f147e9",
   "metadata": {},
   "outputs": [],
   "source": [
    "class Solution:\n",
    "    def minimumPerimeter(self, neededApples: int) -> int:\n",
    "        # 3 4 5 6\n",
    "        # 2 3 4 5\n",
    "        # 1 2 3 4\n",
    "        # 0 1 2 3\n",
    "        i = 0\n",
    "        while neededApples > 0:\n",
    "            i += 1\n",
    "            neededApples -= 4 * (i + 2 * i) + 8 * ((i + 1 + 2*i - 1) * (2*i - i - 1)) // 2\n",
    "        res = 4 * 2 * i\n",
    "        return res"
   ]
  },
  {
   "cell_type": "code",
   "execution_count": 2,
   "id": "cd559eb5-eb06-40a0-93fb-6e61867699be",
   "metadata": {},
   "outputs": [],
   "source": [
    "sol = Solution()"
   ]
  },
  {
   "cell_type": "code",
   "execution_count": 3,
   "id": "da4139e0-31b2-4e5e-8f0e-83250278a343",
   "metadata": {},
   "outputs": [],
   "source": [
    "assert sol.minimumPerimeter(1) == 8"
   ]
  },
  {
   "cell_type": "code",
   "execution_count": 4,
   "id": "bce772c6-0c5d-4386-b895-eee86c55918b",
   "metadata": {},
   "outputs": [],
   "source": [
    "assert sol.minimumPerimeter(13) == 16"
   ]
  },
  {
   "cell_type": "code",
   "execution_count": 5,
   "id": "c92be388-95f1-48bc-aafb-4428b4ec95d8",
   "metadata": {},
   "outputs": [],
   "source": [
    "assert sol.minimumPerimeter(1000000000) == 5040"
   ]
  }
 ],
 "metadata": {
  "kernelspec": {
   "display_name": "Python 3 (ipykernel)",
   "language": "python",
   "name": "python3"
  },
  "language_info": {
   "codemirror_mode": {
    "name": "ipython",
    "version": 3
   },
   "file_extension": ".py",
   "mimetype": "text/x-python",
   "name": "python",
   "nbconvert_exporter": "python",
   "pygments_lexer": "ipython3",
   "version": "3.9.7"
  }
 },
 "nbformat": 4,
 "nbformat_minor": 5
}
