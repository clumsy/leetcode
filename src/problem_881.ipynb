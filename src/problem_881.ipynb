{
 "cells": [
  {
   "cell_type": "markdown",
   "id": "16d6b443-9de4-4b00-b1f4-1479957bcb7c",
   "metadata": {},
   "source": [
    "[Problem 881](https://leetcode.com/problems/boats-to-save-people/description)"
   ]
  },
  {
   "cell_type": "code",
   "execution_count": 1,
   "id": "ce5124d3-70c9-4e81-9d52-20ce0031af65",
   "metadata": {},
   "outputs": [],
   "source": [
    "from typing import List"
   ]
  },
  {
   "cell_type": "code",
   "execution_count": 2,
   "id": "beeb94fc-6715-4768-8d80-73ff1fc4835e",
   "metadata": {},
   "outputs": [],
   "source": [
    "class Solution:\n",
    "    def numRescueBoats(self, people: List[int], limit: int) -> int:\n",
    "        people.sort(reverse=True)\n",
    "        boats = []\n",
    "        for p in people:\n",
    "            if boats and boats[0][0] < 2 and -boats[0][1] >= p:\n",
    "                boat = heappop(boats)\n",
    "                boat[0] += 1\n",
    "                boat[1] += p\n",
    "            else:\n",
    "                boat = [1, -limit + p]\n",
    "            heappush(boats, boat)\n",
    "        res = len(boats)\n",
    "        return res"
   ]
  },
  {
   "cell_type": "code",
   "execution_count": 3,
   "id": "445ce1af-bc14-4e9f-be14-c807ca98c7e6",
   "metadata": {},
   "outputs": [],
   "source": [
    "class Solution:\n",
    "    def numRescueBoats(self, people: List[int], limit: int) -> int:\n",
    "        people.sort()\n",
    "        res, lo, hi = 0, 0, len(people) - 1\n",
    "        while lo <= hi:\n",
    "            if people[lo] + (people[hi] if hi != lo else 0) <= limit:\n",
    "                lo += 1\n",
    "            hi -= 1\n",
    "            res += 1\n",
    "        return res"
   ]
  },
  {
   "cell_type": "code",
   "execution_count": 4,
   "id": "5e11615b-56a6-451f-8984-3280d442e266",
   "metadata": {},
   "outputs": [],
   "source": [
    "sol = Solution()"
   ]
  },
  {
   "cell_type": "code",
   "execution_count": 5,
   "id": "75b67c8e-c26b-49ec-af72-a86cc240083b",
   "metadata": {},
   "outputs": [],
   "source": [
    "assert sol.numRescueBoats([1,2], 3) == 1"
   ]
  },
  {
   "cell_type": "code",
   "execution_count": 6,
   "id": "e1ddf6a8-d4b7-4a3c-972b-abd6d3ddbd15",
   "metadata": {},
   "outputs": [],
   "source": [
    "assert sol.numRescueBoats([3,2,2,1], 3) == 3"
   ]
  },
  {
   "cell_type": "code",
   "execution_count": 7,
   "id": "7c236fbe-b437-4378-a6bb-1e67c55a0276",
   "metadata": {},
   "outputs": [],
   "source": [
    "assert sol.numRescueBoats([3,5,3,4], 5) == 4"
   ]
  }
 ],
 "metadata": {
  "kernelspec": {
   "display_name": "Python 3 (ipykernel)",
   "language": "python",
   "name": "python3"
  },
  "language_info": {
   "codemirror_mode": {
    "name": "ipython",
    "version": 3
   },
   "file_extension": ".py",
   "mimetype": "text/x-python",
   "name": "python",
   "nbconvert_exporter": "python",
   "pygments_lexer": "ipython3",
   "version": "3.9.7"
  }
 },
 "nbformat": 4,
 "nbformat_minor": 5
}
