{
 "cells": [
  {
   "cell_type": "markdown",
   "id": "3e8674ae-3c9f-49fd-bd19-d08980ca9563",
   "metadata": {},
   "source": [
    "[Problem 1372](https://leetcode.com/problems/longest-zigzag-path-in-a-binary-tree/description)"
   ]
  },
  {
   "cell_type": "code",
   "execution_count": 1,
   "id": "ba483088-382f-4291-883e-583e236e7548",
   "metadata": {},
   "outputs": [],
   "source": [
    "# Definition for a binary tree node.\n",
    "class TreeNode:\n",
    "    def __init__(self, val=0, left=None, right=None):\n",
    "        self.val = val\n",
    "        self.left = left\n",
    "        self.right = right\n",
    "        \n",
    "    def __eq__(self, other):\n",
    "        return other and self.val == other.val and self.left == other.left and self.right == other.right"
   ]
  },
  {
   "cell_type": "code",
   "execution_count": 2,
   "id": "9a9d6029-517f-4700-8c02-79712f89832f",
   "metadata": {},
   "outputs": [],
   "source": [
    "from typing import Optional"
   ]
  },
  {
   "cell_type": "code",
   "execution_count": 3,
   "id": "ae175019-fdc6-4a7f-8be3-083b8f6e58d4",
   "metadata": {},
   "outputs": [],
   "source": [
    "\n",
    "class Solution:\n",
    "    def longestZigZag(self, root: Optional[TreeNode]) -> int:\n",
    "        self.res = 0\n",
    "        def dfs(node):\n",
    "            if node is None:\n",
    "                return -1, -1\n",
    "            lft, rgt = 1 + dfs(node.left)[1], 1 + dfs(node.right)[0]\n",
    "            self.res = max(self.res, lft, rgt)\n",
    "            return lft, rgt\n",
    "        dfs(root)\n",
    "        return self.res"
   ]
  },
  {
   "cell_type": "code",
   "execution_count": 4,
   "id": "526c179c-48ad-44f6-99e8-d6b619db5c15",
   "metadata": {},
   "outputs": [],
   "source": [
    "sol = Solution()"
   ]
  },
  {
   "cell_type": "code",
   "execution_count": 5,
   "id": "d2142e68-8d1f-47ce-abc6-ab6173cc33c6",
   "metadata": {},
   "outputs": [],
   "source": [
    "from collections import deque\n",
    "\n",
    "null = None  # to use Leetcode samples as is\n",
    "\n",
    "def tree(values):\n",
    "    if not values:\n",
    "        return null\n",
    "    queue = deque([(root := TreeNode(values[0])), None])\n",
    "    length, i = len(values), 0\n",
    "    while queue:\n",
    "        current = queue.popleft()\n",
    "        if current:\n",
    "            i += 1\n",
    "            if i < length and values[i] is not None:\n",
    "                current.left = TreeNode(values[i])\n",
    "                queue.append(current.left)\n",
    "            i += 1\n",
    "            if i < length and values[i] is not None:\n",
    "                current.right = TreeNode(values[i])\n",
    "                queue.append(current.right)\n",
    "            if i == length:\n",
    "                return root\n",
    "        else:\n",
    "            if queue:\n",
    "                queue.append(None)\n",
    "    return root"
   ]
  },
  {
   "cell_type": "code",
   "execution_count": 6,
   "id": "49873079-1c83-46a7-abb6-a40b2a089075",
   "metadata": {},
   "outputs": [],
   "source": [
    "assert sol.longestZigZag(tree([1,null,1,1,1,null,null,1,1,null,1,null,null,null,1])) == 3"
   ]
  },
  {
   "cell_type": "code",
   "execution_count": 7,
   "id": "9ef0d039-ba6f-4c6d-8c58-0532b1761062",
   "metadata": {},
   "outputs": [],
   "source": [
    "assert sol.longestZigZag(tree([1,1,1,null,1,null,null,1,1,null,1])) == 4"
   ]
  },
  {
   "cell_type": "code",
   "execution_count": 8,
   "id": "08d97079-79ba-49ac-9ff9-dd1c18177cdb",
   "metadata": {},
   "outputs": [],
   "source": [
    "assert sol.longestZigZag(tree([1])) == 0"
   ]
  }
 ],
 "metadata": {
  "kernelspec": {
   "display_name": "Python 3 (ipykernel)",
   "language": "python",
   "name": "python3"
  },
  "language_info": {
   "codemirror_mode": {
    "name": "ipython",
    "version": 3
   },
   "file_extension": ".py",
   "mimetype": "text/x-python",
   "name": "python",
   "nbconvert_exporter": "python",
   "pygments_lexer": "ipython3",
   "version": "3.9.7"
  }
 },
 "nbformat": 4,
 "nbformat_minor": 5
}
