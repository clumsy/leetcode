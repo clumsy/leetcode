{
 "cells": [
  {
   "cell_type": "markdown",
   "id": "2eb017b2-7be2-4617-904f-67f777c2abb9",
   "metadata": {},
   "source": [
    "[Problem 474](https://leetcode.com/problems/ones-and-zeroes/description/)"
   ]
  },
  {
   "cell_type": "code",
   "execution_count": 30,
   "id": "f37a6c63-b52f-4297-82ce-3363a9ea8878",
   "metadata": {},
   "outputs": [],
   "source": [
    "from typing import List"
   ]
  },
  {
   "cell_type": "code",
   "execution_count": 31,
   "id": "10a445e1-4dcf-428e-8290-48a7e29310d7",
   "metadata": {},
   "outputs": [],
   "source": [
    "class Solution:\n",
    "    def findMaxForm(self, strs: List[str], m: int, n: int) -> int:\n",
    "        dp = [[0 for _ in range(n + 1)] for _ in range(m + 1)]\n",
    "        for s in strs:\n",
    "            zeros = len(s) - (ones := s.count(\"1\"))\n",
    "            for z in range(m, zeros - 1, -1):\n",
    "                for o in range(n, ones - 1, -1):\n",
    "                    dp[z][o] = max(dp[z][o], dp[z - zeros][o - ones] + 1)\n",
    "        return dp[m][n]"
   ]
  },
  {
   "cell_type": "code",
   "execution_count": 32,
   "id": "87dc5e5e-a1eb-4914-a6dc-475a5505b4ad",
   "metadata": {},
   "outputs": [],
   "source": [
    "sol = Solution()"
   ]
  },
  {
   "cell_type": "code",
   "execution_count": 33,
   "id": "36dcd90f-817a-4cc6-a01d-8d932db36977",
   "metadata": {},
   "outputs": [],
   "source": [
    "assert sol.findMaxForm([\"10\",\"0001\",\"111001\",\"1\",\"0\"], 5, 3) == 4"
   ]
  },
  {
   "cell_type": "code",
   "execution_count": 34,
   "id": "3d73a62c-419f-439b-9eb1-5f58c770a99b",
   "metadata": {},
   "outputs": [],
   "source": [
    "assert sol.findMaxForm([\"10\",\"0\",\"1\"], 1, 1) == 2"
   ]
  }
 ],
 "metadata": {
  "kernelspec": {
   "display_name": "Python 3 (ipykernel)",
   "language": "python",
   "name": "python3"
  },
  "language_info": {
   "codemirror_mode": {
    "name": "ipython",
    "version": 3
   },
   "file_extension": ".py",
   "mimetype": "text/x-python",
   "name": "python",
   "nbconvert_exporter": "python",
   "pygments_lexer": "ipython3",
   "version": "3.9.7"
  }
 },
 "nbformat": 4,
 "nbformat_minor": 5
}
