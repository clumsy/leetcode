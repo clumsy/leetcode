{
 "cells": [
  {
   "cell_type": "markdown",
   "id": "1714a8ca-eb3e-469e-82bb-75e72f9b0bd9",
   "metadata": {},
   "source": [
    "[Problem 1910](https://leetcode.com/problems/remove-all-occurrences-of-a-substring/description)"
   ]
  },
  {
   "cell_type": "code",
   "execution_count": 1,
   "id": "92cf673d-6854-4dc4-95d3-0e2c6425986c",
   "metadata": {},
   "outputs": [],
   "source": [
    "class Solution:\n",
    "    def removeOccurrences(self, s: str, part: str) -> str:\n",
    "        n, m, i, res = len(s), len(part), 0, []\n",
    "        while i < n:\n",
    "            if s.startswith(part, i):\n",
    "                s = s[:i] + s[i + m:]\n",
    "                i = max(0, i - m)\n",
    "            else:\n",
    "                i += 1\n",
    "        res = s\n",
    "        return res"
   ]
  },
  {
   "cell_type": "code",
   "execution_count": 2,
   "id": "d74887e6-2571-4d89-8c3c-d65058de2fcd",
   "metadata": {},
   "outputs": [],
   "source": [
    "sol = Solution()"
   ]
  },
  {
   "cell_type": "code",
   "execution_count": 3,
   "id": "935d9d35-40f0-4c73-819f-6e3844ba9301",
   "metadata": {},
   "outputs": [],
   "source": [
    "assert sol.removeOccurrences(\"daabcbaabcbc\", \"abc\") == \"dab\""
   ]
  },
  {
   "cell_type": "code",
   "execution_count": 4,
   "id": "5109ce65-d95b-4d7e-bca0-b2e3a909c8e9",
   "metadata": {},
   "outputs": [],
   "source": [
    "assert sol.removeOccurrences(\"axxxxyyyyb\", \"xy\") == \"ab\""
   ]
  }
 ],
 "metadata": {
  "kernelspec": {
   "display_name": "Python 3 (ipykernel)",
   "language": "python",
   "name": "python3"
  },
  "language_info": {
   "codemirror_mode": {
    "name": "ipython",
    "version": 3
   },
   "file_extension": ".py",
   "mimetype": "text/x-python",
   "name": "python",
   "nbconvert_exporter": "python",
   "pygments_lexer": "ipython3",
   "version": "3.9.7"
  }
 },
 "nbformat": 4,
 "nbformat_minor": 5
}
