{
 "cells": [
  {
   "cell_type": "markdown",
   "id": "57cd573a-a536-45b0-b849-a520ce35c5bb",
   "metadata": {},
   "source": [
    "[Problem 2024](https://leetcode.com/problems/maximize-the-confusion-of-an-exam/description)"
   ]
  },
  {
   "cell_type": "code",
   "execution_count": 1,
   "id": "1d578fc7-cbd5-4c95-bbe4-13036f2dcf75",
   "metadata": {},
   "outputs": [],
   "source": [
    "class Solution:\n",
    "    def maxConsecutiveAnswers(self, answerKey: str, k: int) -> int:\n",
    "        res_t = res_f = 0\n",
    "        cur_t = cur_f = 0\n",
    "        k_t = k_f = k\n",
    "        for i, a in enumerate(answerKey):\n",
    "            if a == \"T\":\n",
    "                cur_t += 1\n",
    "                if k_f > 0:\n",
    "                    k_f -= 1\n",
    "                    cur_f += 1\n",
    "                else:\n",
    "                    while cur_f > 0 and answerKey[i - cur_f] == \"F\":\n",
    "                        cur_f -= 1\n",
    "            else:\n",
    "                cur_f += 1\n",
    "                if k_t > 0:\n",
    "                    k_t -= 1\n",
    "                    cur_t += 1\n",
    "                else:\n",
    "                    while cur_t > 0 and answerKey[i - cur_t] == \"T\":\n",
    "                        cur_t -= 1\n",
    "            res_t = max(res_t, cur_t)\n",
    "            res_f = max(res_f, cur_f)\n",
    "        res = max(res_t, res_f)\n",
    "        return res"
   ]
  },
  {
   "cell_type": "code",
   "execution_count": 2,
   "id": "52d43f27-ca28-47fb-a54c-8a4b5da9dc15",
   "metadata": {},
   "outputs": [],
   "source": [
    "sol = Solution()"
   ]
  },
  {
   "cell_type": "code",
   "execution_count": 3,
   "id": "4dbef38c-98fd-4b1c-93ec-f49d595da4ad",
   "metadata": {},
   "outputs": [],
   "source": [
    "assert sol.maxConsecutiveAnswers(\"TTFF\", 2) == 4"
   ]
  },
  {
   "cell_type": "code",
   "execution_count": 4,
   "id": "d46f77ac-f49e-4df7-b9f4-3c58cfe47471",
   "metadata": {},
   "outputs": [],
   "source": [
    "assert sol.maxConsecutiveAnswers(\"TFFT\", 1) == 3"
   ]
  },
  {
   "cell_type": "code",
   "execution_count": 5,
   "id": "228de5f9-1277-4262-ab99-a49918c76bfa",
   "metadata": {},
   "outputs": [],
   "source": [
    "assert sol.maxConsecutiveAnswers(\"TTFTTFTT\", 1) == 5"
   ]
  }
 ],
 "metadata": {
  "kernelspec": {
   "display_name": "Python 3 (ipykernel)",
   "language": "python",
   "name": "python3"
  },
  "language_info": {
   "codemirror_mode": {
    "name": "ipython",
    "version": 3
   },
   "file_extension": ".py",
   "mimetype": "text/x-python",
   "name": "python",
   "nbconvert_exporter": "python",
   "pygments_lexer": "ipython3",
   "version": "3.9.7"
  }
 },
 "nbformat": 4,
 "nbformat_minor": 5
}
