{
 "cells": [
  {
   "cell_type": "markdown",
   "id": "9f5896d9-f1e8-4cdd-8b28-aa2a6485d00a",
   "metadata": {},
   "source": [
    "[Problem 2982](https://leetcode.com/problems/find-longest-special-substring-that-occurs-thrice-ii/description)"
   ]
  },
  {
   "cell_type": "code",
   "execution_count": 1,
   "id": "52a5ed33-07f0-4cc8-a536-59d2fec1b27e",
   "metadata": {},
   "outputs": [],
   "source": [
    "from collections import Counter"
   ]
  },
  {
   "cell_type": "code",
   "execution_count": 2,
   "id": "57b9d4ec-39c6-4c09-a871-ed293ae77bca",
   "metadata": {},
   "outputs": [],
   "source": [
    "class Solution:\n",
    "    def maximumLength(self, s: str) -> int:\n",
    "        n, f = len(s), 0\n",
    "        res, cnt = \"\", Counter()\n",
    "        while f < n:\n",
    "            i = f\n",
    "            while i < n and s[i] == s[f]:\n",
    "                i += 1\n",
    "            num = i - f\n",
    "            for l in range(num - 2, num + 1):\n",
    "                sub = s[f] * l\n",
    "                cnt[sub] += num - l + 1\n",
    "                if cnt[sub] >= 3 and len(sub) > len(res):\n",
    "                    res = sub\n",
    "            f = i\n",
    "        res = len(res) if res else -1\n",
    "        return res"
   ]
  },
  {
   "cell_type": "code",
   "execution_count": 3,
   "id": "b8a8c24e-4461-4165-8339-dcc04c6fd404",
   "metadata": {},
   "outputs": [],
   "source": [
    "sol = Solution()"
   ]
  },
  {
   "cell_type": "code",
   "execution_count": 4,
   "id": "1879f66e-ead0-49a7-93ca-c154403c46f5",
   "metadata": {},
   "outputs": [],
   "source": [
    "assert sol.maximumLength(\"aaaa\") == 2"
   ]
  },
  {
   "cell_type": "code",
   "execution_count": 5,
   "id": "6e4102b2-00e7-473e-9d63-ace07f6b98db",
   "metadata": {},
   "outputs": [],
   "source": [
    "assert sol.maximumLength(\"abcdef\") == -1"
   ]
  },
  {
   "cell_type": "code",
   "execution_count": 6,
   "id": "b54deae9-18bc-41d5-9ff6-e48371b50f63",
   "metadata": {},
   "outputs": [],
   "source": [
    "assert sol.maximumLength(\"abcaba\") == 1"
   ]
  }
 ],
 "metadata": {
  "kernelspec": {
   "display_name": "Python 3 (ipykernel)",
   "language": "python",
   "name": "python3"
  },
  "language_info": {
   "codemirror_mode": {
    "name": "ipython",
    "version": 3
   },
   "file_extension": ".py",
   "mimetype": "text/x-python",
   "name": "python",
   "nbconvert_exporter": "python",
   "pygments_lexer": "ipython3",
   "version": "3.9.7"
  }
 },
 "nbformat": 4,
 "nbformat_minor": 5
}
