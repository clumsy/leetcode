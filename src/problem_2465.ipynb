{
 "cells": [
  {
   "cell_type": "markdown",
   "id": "09c97930-c2f5-4016-ab5d-aadc4e91e070",
   "metadata": {},
   "source": [
    "[Problem 2465](https://leetcode.com/problems/number-of-distinct-averages/description)"
   ]
  },
  {
   "cell_type": "code",
   "execution_count": 1,
   "id": "b815522a-f2d3-4aa3-91e4-337882a0ac6c",
   "metadata": {},
   "outputs": [],
   "source": [
    "from typing import List"
   ]
  },
  {
   "cell_type": "code",
   "execution_count": 2,
   "id": "f368963d-63ba-4606-9f74-1ebe01e21867",
   "metadata": {},
   "outputs": [],
   "source": [
    "class Solution:\n",
    "    def distinctAverages(self, nums: List[int]) -> int:\n",
    "        nums.sort()\n",
    "        res, n = set(), len(nums)\n",
    "        for i in range(n // 2):\n",
    "            res.add((nums[i] + nums[n - 1 - i]) / 2)\n",
    "        res = len(res)\n",
    "        return res"
   ]
  },
  {
   "cell_type": "code",
   "execution_count": 3,
   "id": "50e036ad-2004-417c-9d55-b3519b288e27",
   "metadata": {},
   "outputs": [],
   "source": [
    "sol = Solution()"
   ]
  },
  {
   "cell_type": "code",
   "execution_count": 4,
   "id": "70bca1d8-afd1-4351-accf-38eb85401259",
   "metadata": {},
   "outputs": [],
   "source": [
    "assert sol.distinctAverages([4,1,4,0,3,5]) == 2"
   ]
  },
  {
   "cell_type": "code",
   "execution_count": 5,
   "id": "24e04b43-73ab-4868-9111-118665fb2f56",
   "metadata": {},
   "outputs": [],
   "source": [
    "assert sol.distinctAverages([1,100]) == 1"
   ]
  }
 ],
 "metadata": {
  "kernelspec": {
   "display_name": "Python 3 (ipykernel)",
   "language": "python",
   "name": "python3"
  },
  "language_info": {
   "codemirror_mode": {
    "name": "ipython",
    "version": 3
   },
   "file_extension": ".py",
   "mimetype": "text/x-python",
   "name": "python",
   "nbconvert_exporter": "python",
   "pygments_lexer": "ipython3",
   "version": "3.9.7"
  }
 },
 "nbformat": 4,
 "nbformat_minor": 5
}
