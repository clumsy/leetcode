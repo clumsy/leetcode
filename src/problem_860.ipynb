{
 "cells": [
  {
   "cell_type": "markdown",
   "id": "52a4395f-d803-4304-876f-c5d3de394fe5",
   "metadata": {},
   "source": [
    "[Problem 860](https://leetcode.com/problems/lemonade-change/description)"
   ]
  },
  {
   "cell_type": "code",
   "execution_count": 1,
   "id": "5c9cd3e2-52ac-4ebb-9414-68c9f4a76979",
   "metadata": {},
   "outputs": [],
   "source": [
    "from typing import List"
   ]
  },
  {
   "cell_type": "code",
   "execution_count": 2,
   "id": "a524a3dc-88ed-42f9-bc0f-ae3067ecd4eb",
   "metadata": {},
   "outputs": [],
   "source": [
    "class Solution:\n",
    "    def lemonadeChange(self, bills: List[int]) -> bool:\n",
    "        f = t = 0\n",
    "        res = True\n",
    "        for b in bills:\n",
    "            if b == 5:\n",
    "                f += 1\n",
    "            elif b == 10:\n",
    "                if not f:\n",
    "                    res = False\n",
    "                    break\n",
    "                f -= 1\n",
    "                t += 1\n",
    "            else:  # b == 20\n",
    "                if f and t:\n",
    "                    t -= 1\n",
    "                    f -= 1\n",
    "                elif f > 2:\n",
    "                    f -= 3\n",
    "                else:\n",
    "                    res = False\n",
    "                    break\n",
    "        return res"
   ]
  },
  {
   "cell_type": "code",
   "execution_count": 3,
   "id": "a939bc17-22fc-4425-b47a-b9eaf3127021",
   "metadata": {},
   "outputs": [],
   "source": [
    "sol = Solution()"
   ]
  },
  {
   "cell_type": "code",
   "execution_count": 4,
   "id": "b71e3be8-30f9-4a11-84d1-03f08369fab4",
   "metadata": {},
   "outputs": [],
   "source": [
    "assert sol.lemonadeChange([5,5,5,10,20])"
   ]
  },
  {
   "cell_type": "code",
   "execution_count": 5,
   "id": "b3d9dcc5-095d-40b7-b860-e8b79eca840a",
   "metadata": {},
   "outputs": [],
   "source": [
    "assert not sol.lemonadeChange([5,5,10,10,20])"
   ]
  }
 ],
 "metadata": {
  "kernelspec": {
   "display_name": "Python 3 (ipykernel)",
   "language": "python",
   "name": "python3"
  },
  "language_info": {
   "codemirror_mode": {
    "name": "ipython",
    "version": 3
   },
   "file_extension": ".py",
   "mimetype": "text/x-python",
   "name": "python",
   "nbconvert_exporter": "python",
   "pygments_lexer": "ipython3",
   "version": "3.9.7"
  }
 },
 "nbformat": 4,
 "nbformat_minor": 5
}
