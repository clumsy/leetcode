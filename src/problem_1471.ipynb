{
 "cells": [
  {
   "cell_type": "markdown",
   "id": "b9588dbe-b418-406e-a2b5-3566524d8964",
   "metadata": {},
   "source": [
    "[Problem 1471](https://leetcode.com/problems/the-k-strongest-values-in-an-array/description)"
   ]
  },
  {
   "cell_type": "code",
   "execution_count": 1,
   "id": "a71049c7-7c24-4f77-9215-2279e73793a5",
   "metadata": {},
   "outputs": [],
   "source": [
    "from typing import List"
   ]
  },
  {
   "cell_type": "code",
   "execution_count": 2,
   "id": "3e0862f9-b505-424d-a295-4dff96bec8b8",
   "metadata": {},
   "outputs": [],
   "source": [
    "class Solution:\n",
    "    def getStrongest(self, arr: List[int], k: int) -> List[int]:\n",
    "        # both sorts can be changed to quickselect\n",
    "        arr.sort()\n",
    "        m = arr[(len(arr) - 1) // 2]\n",
    "        def order(i):\n",
    "            return (abs(i - m), i)\n",
    "        arr.sort(key=order)\n",
    "        res = arr[-k:]\n",
    "        return res"
   ]
  },
  {
   "cell_type": "code",
   "execution_count": 3,
   "id": "e52851f7-270b-4d19-bb92-4f8c120195b5",
   "metadata": {},
   "outputs": [],
   "source": [
    "sol = Solution()"
   ]
  },
  {
   "cell_type": "code",
   "execution_count": 7,
   "id": "cda56f5b-dab7-4e59-94f1-e888f8530e59",
   "metadata": {},
   "outputs": [],
   "source": [
    "assert sol.getStrongest([1,2,3,4,5], 2) == [1,5]"
   ]
  },
  {
   "cell_type": "code",
   "execution_count": 8,
   "id": "91368359-9d01-42d7-93eb-ff5ec39f5706",
   "metadata": {},
   "outputs": [],
   "source": [
    "assert sol.getStrongest([1,1,3,5,5], 2) == [5,5]"
   ]
  },
  {
   "cell_type": "code",
   "execution_count": 13,
   "id": "f4e66526-27e2-46d6-b3e8-b532db4ff024",
   "metadata": {},
   "outputs": [],
   "source": [
    "assert sol.getStrongest([6,7,11,7,6,8], 5) == [7,6,6,8,11]"
   ]
  }
 ],
 "metadata": {
  "kernelspec": {
   "display_name": "Python 3 (ipykernel)",
   "language": "python",
   "name": "python3"
  },
  "language_info": {
   "codemirror_mode": {
    "name": "ipython",
    "version": 3
   },
   "file_extension": ".py",
   "mimetype": "text/x-python",
   "name": "python",
   "nbconvert_exporter": "python",
   "pygments_lexer": "ipython3",
   "version": "3.9.7"
  }
 },
 "nbformat": 4,
 "nbformat_minor": 5
}
