{
 "cells": [
  {
   "cell_type": "markdown",
   "id": "8f9a457d-d785-4fcf-ad72-68d2bb15e4bc",
   "metadata": {},
   "source": [
    "[Problem 2395](https://leetcode.com/problems/find-subarrays-with-equal-sum/description)"
   ]
  },
  {
   "cell_type": "code",
   "execution_count": 1,
   "id": "9ee08e58-c6ea-4930-a71d-4b4f2f4ba220",
   "metadata": {},
   "outputs": [],
   "source": [
    "from typing import List"
   ]
  },
  {
   "cell_type": "code",
   "execution_count": 2,
   "id": "5e7718f0-065a-46cc-9515-a3583ba97552",
   "metadata": {},
   "outputs": [],
   "source": [
    "class Solution:\n",
    "    def findSubarrays(self, nums: List[int]) -> bool:\n",
    "        sums, n = set(), len(nums)\n",
    "        for i in range(n - 1):\n",
    "            before = len(sums)\n",
    "            sums.add(nums[i] + nums[i + 1])\n",
    "            if len(sums) == before:\n",
    "                return True\n",
    "        return False"
   ]
  },
  {
   "cell_type": "code",
   "execution_count": 3,
   "id": "be30d7f3-cc25-46f9-920c-7eaca2f44b93",
   "metadata": {},
   "outputs": [],
   "source": [
    "sol = Solution()"
   ]
  },
  {
   "cell_type": "code",
   "execution_count": 4,
   "id": "16823199-5932-4db8-a7c6-43323bf6750e",
   "metadata": {},
   "outputs": [],
   "source": [
    "assert sol.findSubarrays([4,2,4])"
   ]
  },
  {
   "cell_type": "code",
   "execution_count": 5,
   "id": "501c41fe-a98f-4f88-a366-28590d4db049",
   "metadata": {},
   "outputs": [],
   "source": [
    "assert not sol.findSubarrays([1,2,3,4,5])"
   ]
  },
  {
   "cell_type": "code",
   "execution_count": 6,
   "id": "16130fd7-0825-41c2-8c43-6eb8f79526b1",
   "metadata": {},
   "outputs": [],
   "source": [
    "assert sol.findSubarrays([0,0,0])"
   ]
  }
 ],
 "metadata": {
  "kernelspec": {
   "display_name": "Python 3 (ipykernel)",
   "language": "python",
   "name": "python3"
  },
  "language_info": {
   "codemirror_mode": {
    "name": "ipython",
    "version": 3
   },
   "file_extension": ".py",
   "mimetype": "text/x-python",
   "name": "python",
   "nbconvert_exporter": "python",
   "pygments_lexer": "ipython3",
   "version": "3.9.7"
  }
 },
 "nbformat": 4,
 "nbformat_minor": 5
}
