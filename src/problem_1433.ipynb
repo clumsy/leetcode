{
 "cells": [
  {
   "cell_type": "markdown",
   "id": "24820376-1044-4841-94cd-2cc6c2544042",
   "metadata": {},
   "source": [
    "[Problem 1433](https://leetcode.com/problems/check-if-a-string-can-break-another-string/description)"
   ]
  },
  {
   "cell_type": "code",
   "execution_count": 5,
   "id": "81456193-7bc2-4dc8-8da3-543fd5bfb9ad",
   "metadata": {},
   "outputs": [],
   "source": [
    "from collections import Counter"
   ]
  },
  {
   "cell_type": "code",
   "execution_count": 6,
   "id": "b39857b5-0696-4a34-87ef-db2d6f3c2cbd",
   "metadata": {},
   "outputs": [],
   "source": [
    "class Solution:\n",
    "    def checkIfCanBreak(self, s1: str, s2: str) -> bool:\n",
    "        c1, c2, cnt, sgn = Counter(s1), Counter(s2), 0, 0\n",
    "        for ch in (chr(i) for i in range(ord(\"z\"), ord(\"a\") - 1, -1)):\n",
    "            cnt += c2.get(ch, 0) - c1.get(ch, 0)\n",
    "            if cnt * sgn < 0:\n",
    "                return False\n",
    "            sgn = sgn if cnt == 0 else 1 if cnt > 0 else -1\n",
    "        return True"
   ]
  },
  {
   "cell_type": "code",
   "execution_count": 7,
   "id": "4883aca0-443d-45e6-a2ef-375817e2d069",
   "metadata": {},
   "outputs": [],
   "source": [
    "sol = Solution()"
   ]
  },
  {
   "cell_type": "code",
   "execution_count": 8,
   "id": "bacfd571-0106-4f86-8bc0-9b33d75b5f06",
   "metadata": {},
   "outputs": [],
   "source": [
    "assert sol.checkIfCanBreak(\"abc\", \"xya\")"
   ]
  },
  {
   "cell_type": "code",
   "execution_count": 9,
   "id": "7bb66192-8a06-4fac-b872-41d45194bd48",
   "metadata": {},
   "outputs": [],
   "source": [
    "assert not sol.checkIfCanBreak(\"abe\", \"acd\")"
   ]
  },
  {
   "cell_type": "code",
   "execution_count": 10,
   "id": "24401e28-874a-4cb5-af24-22cdecbc66e4",
   "metadata": {},
   "outputs": [],
   "source": [
    "assert sol.checkIfCanBreak(\"leetcodee\", \"interview\")"
   ]
  }
 ],
 "metadata": {
  "kernelspec": {
   "display_name": "Python 3 (ipykernel)",
   "language": "python",
   "name": "python3"
  },
  "language_info": {
   "codemirror_mode": {
    "name": "ipython",
    "version": 3
   },
   "file_extension": ".py",
   "mimetype": "text/x-python",
   "name": "python",
   "nbconvert_exporter": "python",
   "pygments_lexer": "ipython3",
   "version": "3.9.7"
  }
 },
 "nbformat": 4,
 "nbformat_minor": 5
}
