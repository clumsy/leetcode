{
 "cells": [
  {
   "cell_type": "markdown",
   "id": "743737e5-cd21-484c-95c1-a39607e3006d",
   "metadata": {},
   "source": [
    "[Problem 2609](https://leetcode.com/problems/find-the-longest-balanced-substring-of-a-binary-string/description)"
   ]
  },
  {
   "cell_type": "code",
   "execution_count": 1,
   "id": "171462e4-27a4-48a9-b4be-e19ce0ec7070",
   "metadata": {},
   "outputs": [],
   "source": [
    "class Solution:\n",
    "    def findTheLongestBalancedSubstring(self, s: str) -> int:\n",
    "        n, i, res = len(s), 0, 0\n",
    "        while i < n:\n",
    "            z = 0\n",
    "            while i + z < n and s[i + z] == \"0\":\n",
    "                z += 1\n",
    "            i += z\n",
    "            o = 0\n",
    "            while i + o < n and s[i + o] == \"1\":\n",
    "                o += 1\n",
    "            res = max(res, 2 * min(z, o))\n",
    "            i += o\n",
    "        return res"
   ]
  },
  {
   "cell_type": "code",
   "execution_count": 2,
   "id": "aa9e7abc-6772-498a-946e-0acd4b038d33",
   "metadata": {},
   "outputs": [],
   "source": [
    "sol = Solution()"
   ]
  },
  {
   "cell_type": "code",
   "execution_count": 3,
   "id": "1b1a6241-8cea-47a3-ab2e-16fcf0f9c683",
   "metadata": {},
   "outputs": [],
   "source": [
    "assert sol.findTheLongestBalancedSubstring(\"01000111\") == 6"
   ]
  },
  {
   "cell_type": "code",
   "execution_count": 4,
   "id": "cf92f8fd-13de-4295-a0b1-8ab77e73f189",
   "metadata": {},
   "outputs": [],
   "source": [
    "assert sol.findTheLongestBalancedSubstring(\"00111\") == 4"
   ]
  },
  {
   "cell_type": "code",
   "execution_count": null,
   "id": "6b1d646c-172f-4b04-97ad-f85211fdba88",
   "metadata": {},
   "outputs": [],
   "source": [
    "assert sol.findTheLongestBalancedSubstring(\"111\") == 0"
   ]
  }
 ],
 "metadata": {
  "kernelspec": {
   "display_name": "Python 3 (ipykernel)",
   "language": "python",
   "name": "python3"
  },
  "language_info": {
   "codemirror_mode": {
    "name": "ipython",
    "version": 3
   },
   "file_extension": ".py",
   "mimetype": "text/x-python",
   "name": "python",
   "nbconvert_exporter": "python",
   "pygments_lexer": "ipython3",
   "version": "3.9.7"
  }
 },
 "nbformat": 4,
 "nbformat_minor": 5
}
