{
 "cells": [
  {
   "cell_type": "markdown",
   "id": "ec750467-d070-4988-8944-54edd9d03a41",
   "metadata": {},
   "source": [
    "[Problem 2357](https://leetcode.com/problems/make-array-zero-by-subtracting-equal-amounts/description)"
   ]
  },
  {
   "cell_type": "code",
   "execution_count": 1,
   "id": "315838e4-0756-483c-aa2e-0aa042514cb3",
   "metadata": {},
   "outputs": [],
   "source": [
    "from typing import List"
   ]
  },
  {
   "cell_type": "code",
   "execution_count": 2,
   "id": "e7fa2f13-f635-4d36-8454-eff89f655ef7",
   "metadata": {},
   "outputs": [],
   "source": [
    "class Solution:\n",
    "    def minimumOperations(self, nums: List[int]) -> int:\n",
    "        # each unique bit representation will require at least 1 operation\n",
    "        # hence counting unique numbers\n",
    "        res = len(set(i for i in nums if i))\n",
    "        return res"
   ]
  },
  {
   "cell_type": "code",
   "execution_count": 3,
   "id": "694ca273-b078-4a40-bf42-e9c93596cce3",
   "metadata": {},
   "outputs": [],
   "source": [
    "sol = Solution()"
   ]
  },
  {
   "cell_type": "code",
   "execution_count": 4,
   "id": "006a91d6-99d7-47b3-b329-3e8ab8832c9e",
   "metadata": {},
   "outputs": [],
   "source": [
    "assert sol.minimumOperations([1,5,0,3,5]) == 3"
   ]
  },
  {
   "cell_type": "code",
   "execution_count": 5,
   "id": "da5c7a88-c57b-4032-afbf-ff137fa4093e",
   "metadata": {},
   "outputs": [],
   "source": [
    "assert sol.minimumOperations([0]) == 0"
   ]
  }
 ],
 "metadata": {
  "kernelspec": {
   "display_name": "Python 3 (ipykernel)",
   "language": "python",
   "name": "python3"
  },
  "language_info": {
   "codemirror_mode": {
    "name": "ipython",
    "version": 3
   },
   "file_extension": ".py",
   "mimetype": "text/x-python",
   "name": "python",
   "nbconvert_exporter": "python",
   "pygments_lexer": "ipython3",
   "version": "3.9.7"
  }
 },
 "nbformat": 4,
 "nbformat_minor": 5
}
