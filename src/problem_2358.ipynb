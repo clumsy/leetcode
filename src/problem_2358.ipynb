{
 "cells": [
  {
   "cell_type": "markdown",
   "id": "855bd631-9b03-4fd7-a02e-37074bd2ef20",
   "metadata": {},
   "source": [
    "[Problem 2358](https://leetcode.com/problems/maximum-number-of-groups-entering-a-competition/description)"
   ]
  },
  {
   "cell_type": "code",
   "execution_count": 1,
   "id": "fb71c0b3-f071-47f3-be87-6a9bdb1493d9",
   "metadata": {},
   "outputs": [],
   "source": [
    "from typing import List"
   ]
  },
  {
   "cell_type": "code",
   "execution_count": 2,
   "id": "a97f2703-d21b-4240-a3d9-53693ac4b6fc",
   "metadata": {},
   "outputs": [],
   "source": [
    "class Solution:\n",
    "    def maximumGroups(self, grades: List[int]) -> int:\n",
    "        res, i, n = 0, 0, len(grades)\n",
    "        while i < n - res:\n",
    "            res += 1\n",
    "            i += res\n",
    "        return res"
   ]
  },
  {
   "cell_type": "code",
   "execution_count": 3,
   "id": "834b67d8-2592-419a-bf5c-02587aaf4279",
   "metadata": {},
   "outputs": [],
   "source": [
    "sol = Solution()"
   ]
  },
  {
   "cell_type": "code",
   "execution_count": 4,
   "id": "0a1ae1b0-df39-4f70-9513-9c39a5912e7d",
   "metadata": {},
   "outputs": [],
   "source": [
    "assert sol.maximumGroups([10,6,12,7,3,5]) == 3"
   ]
  },
  {
   "cell_type": "code",
   "execution_count": null,
   "id": "0a4117eb-69ea-4dc9-8dbd-2b1e526a4e3a",
   "metadata": {},
   "outputs": [],
   "source": [
    "assert sol.maximumGroups([8,8]) == 1"
   ]
  }
 ],
 "metadata": {
  "kernelspec": {
   "display_name": "Python 3 (ipykernel)",
   "language": "python",
   "name": "python3"
  },
  "language_info": {
   "codemirror_mode": {
    "name": "ipython",
    "version": 3
   },
   "file_extension": ".py",
   "mimetype": "text/x-python",
   "name": "python",
   "nbconvert_exporter": "python",
   "pygments_lexer": "ipython3",
   "version": "3.9.7"
  }
 },
 "nbformat": 4,
 "nbformat_minor": 5
}
