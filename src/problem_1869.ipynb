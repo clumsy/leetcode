{
 "cells": [
  {
   "cell_type": "markdown",
   "id": "6dbacd95-37a2-42a6-9feb-638c6cad458a",
   "metadata": {},
   "source": [
    "[Problem 1869](https://leetcode.com/problems/longer-contiguous-segments-of-ones-than-zeros/description)"
   ]
  },
  {
   "cell_type": "code",
   "execution_count": 1,
   "id": "a6adf0a5-9dfe-495c-999a-06cc8ba5a601",
   "metadata": {},
   "outputs": [],
   "source": [
    "class Solution:\n",
    "    def checkZeroOnes(self, s: str) -> bool:\n",
    "        ones = zeros = 0\n",
    "        cur_ones = cur_zeros = 0\n",
    "        for c in s:\n",
    "            if c == \"1\":\n",
    "                cur_zeros = 0\n",
    "                cur_ones += 1\n",
    "            else:\n",
    "                cur_ones = 0\n",
    "                cur_zeros += 1\n",
    "            zeros, ones = max(zeros, cur_zeros), max(ones, cur_ones)\n",
    "        res = ones - zeros > 0\n",
    "        return res"
   ]
  },
  {
   "cell_type": "code",
   "execution_count": 2,
   "id": "b0ed6812-367c-43ba-8d01-f33628cb166e",
   "metadata": {},
   "outputs": [],
   "source": [
    "sol = Solution()"
   ]
  },
  {
   "cell_type": "code",
   "execution_count": 3,
   "id": "b91999da-63d3-498c-9d67-14244c07c0d8",
   "metadata": {},
   "outputs": [],
   "source": [
    "assert sol.checkZeroOnes(\"1101\")"
   ]
  },
  {
   "cell_type": "code",
   "execution_count": 4,
   "id": "6a2ef641-d5f1-4248-8872-b1e635d6a42a",
   "metadata": {},
   "outputs": [],
   "source": [
    "assert not sol.checkZeroOnes(\"111000\")"
   ]
  },
  {
   "cell_type": "code",
   "execution_count": 6,
   "id": "01fae40d-037d-42ed-9dfb-f5954985c94b",
   "metadata": {},
   "outputs": [],
   "source": [
    "assert not sol.checkZeroOnes(\"110100010\")"
   ]
  }
 ],
 "metadata": {
  "kernelspec": {
   "display_name": "Python 3 (ipykernel)",
   "language": "python",
   "name": "python3"
  },
  "language_info": {
   "codemirror_mode": {
    "name": "ipython",
    "version": 3
   },
   "file_extension": ".py",
   "mimetype": "text/x-python",
   "name": "python",
   "nbconvert_exporter": "python",
   "pygments_lexer": "ipython3",
   "version": "3.9.7"
  }
 },
 "nbformat": 4,
 "nbformat_minor": 5
}
