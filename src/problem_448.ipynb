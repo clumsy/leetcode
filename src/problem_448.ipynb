{
 "cells": [
  {
   "cell_type": "markdown",
   "id": "b18e2bae-b65d-4ebe-b2c1-0ae75c439588",
   "metadata": {},
   "source": [
    "[Problem 448](https://leetcode.com/problems/find-all-numbers-disappeared-in-an-array/description)"
   ]
  },
  {
   "cell_type": "code",
   "execution_count": 1,
   "id": "07924d20-47d5-4bdd-bff8-04c40d06bd8e",
   "metadata": {},
   "outputs": [],
   "source": [
    "from typing import List"
   ]
  },
  {
   "cell_type": "code",
   "execution_count": 2,
   "id": "e29ae760-1eb7-454f-9460-b46793ac16db",
   "metadata": {},
   "outputs": [],
   "source": [
    "class Solution:\n",
    "    def findDisappearedNumbers(self, nums: List[int]) -> List[int]:\n",
    "        n = len(nums)\n",
    "        for i in range(n):\n",
    "            while nums[i] != i + 1 and nums[i] != nums[nums[i] - 1]:\n",
    "                k = nums[i] - 1  # needed for swap index, otherwise won't work because of side-effects\n",
    "                nums[i], nums[k] = nums[k], nums[i]\n",
    "        res = []\n",
    "        for i in range(n):\n",
    "            if nums[i] != i + 1:\n",
    "                res.append(i + 1)\n",
    "        return res"
   ]
  },
  {
   "cell_type": "code",
   "execution_count": 3,
   "id": "f69112d3-0802-4dd9-b5e7-65965d8feede",
   "metadata": {},
   "outputs": [],
   "source": [
    "sol = Solution()"
   ]
  },
  {
   "cell_type": "code",
   "execution_count": 4,
   "id": "5bd47dfd-b90e-419f-b8c3-dfaaf6ceb1e3",
   "metadata": {},
   "outputs": [],
   "source": [
    "assert sol.findDisappearedNumbers([4,3,2,7,8,2,3,1]) == [5,6]"
   ]
  },
  {
   "cell_type": "code",
   "execution_count": 5,
   "id": "cfb2697f-8435-4b50-a905-5552b8760f42",
   "metadata": {},
   "outputs": [],
   "source": [
    "assert sol.findDisappearedNumbers([1,1]) == [2]"
   ]
  }
 ],
 "metadata": {
  "kernelspec": {
   "display_name": "Python 3 (ipykernel)",
   "language": "python",
   "name": "python3"
  },
  "language_info": {
   "codemirror_mode": {
    "name": "ipython",
    "version": 3
   },
   "file_extension": ".py",
   "mimetype": "text/x-python",
   "name": "python",
   "nbconvert_exporter": "python",
   "pygments_lexer": "ipython3",
   "version": "3.9.7"
  }
 },
 "nbformat": 4,
 "nbformat_minor": 5
}
