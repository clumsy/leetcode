{
 "cells": [
  {
   "cell_type": "markdown",
   "id": "6d31592c-02e9-459a-abe1-2423d037905f",
   "metadata": {},
   "source": [
    "[Problem 1114]()"
   ]
  },
  {
   "cell_type": "code",
   "execution_count": 1,
   "id": "ad387153-d320-47bf-a976-b870dddc8434",
   "metadata": {},
   "outputs": [],
   "source": [
    "from threading import Barrier\n",
    "\n",
    "class Foo:\n",
    "    def __init__(self):\n",
    "        self.first_barrier = Barrier(2)\n",
    "        self.second_barrier = Barrier(2)\n",
    "            \n",
    "    def first(self, printFirst):\n",
    "        printFirst()\n",
    "        self.first_barrier.wait()\n",
    "        \n",
    "    def second(self, printSecond):\n",
    "        self.first_barrier.wait()\n",
    "        printSecond()\n",
    "        self.second_barrier.wait()\n",
    "            \n",
    "    def third(self, printThird):\n",
    "        self.second_barrier.wait()\n",
    "        printThird()"
   ]
  }
 ],
 "metadata": {
  "kernelspec": {
   "display_name": "Python 3 (ipykernel)",
   "language": "python",
   "name": "python3"
  },
  "language_info": {
   "codemirror_mode": {
    "name": "ipython",
    "version": 3
   },
   "file_extension": ".py",
   "mimetype": "text/x-python",
   "name": "python",
   "nbconvert_exporter": "python",
   "pygments_lexer": "ipython3",
   "version": "3.9.7"
  }
 },
 "nbformat": 4,
 "nbformat_minor": 5
}
