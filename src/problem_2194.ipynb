{
 "cells": [
  {
   "cell_type": "markdown",
   "id": "a4431c22-02a2-4015-bf23-877512d220d2",
   "metadata": {},
   "source": [
    "[Problem 2194](https://leetcode.com/problems/cells-in-a-range-on-an-excel-sheet/description)"
   ]
  },
  {
   "cell_type": "code",
   "execution_count": 1,
   "id": "897d35e7-a365-4118-a129-18150c199285",
   "metadata": {},
   "outputs": [],
   "source": [
    "from typing import List"
   ]
  },
  {
   "cell_type": "code",
   "execution_count": 2,
   "id": "713cdbc5-7202-4a77-9501-4861fefb7b2c",
   "metadata": {},
   "outputs": [],
   "source": [
    "class Solution:\n",
    "    def cellsInRange(self, s: str) -> List[str]:\n",
    "        (c1, r1), (c2, r2) = s.split(\":\")\n",
    "        res = [f\"{chr(c)}{chr(r)}\" for c in range(ord(c1), ord(c2) + 1) for r in range(ord(r1), ord(r2) + 1)]\n",
    "        return res"
   ]
  },
  {
   "cell_type": "code",
   "execution_count": 3,
   "id": "0b5b22cc-614b-4752-9340-be29c52dae9a",
   "metadata": {},
   "outputs": [],
   "source": [
    "sol = Solution()"
   ]
  },
  {
   "cell_type": "code",
   "execution_count": 4,
   "id": "4d787e09-2646-4de1-87a6-05c798c23a96",
   "metadata": {},
   "outputs": [],
   "source": [
    "assert sol.cellsInRange(\"K1:L2\") == [\"K1\",\"K2\",\"L1\",\"L2\"]"
   ]
  },
  {
   "cell_type": "code",
   "execution_count": 5,
   "id": "6c633169-f937-4641-8bcc-502d6fbc724b",
   "metadata": {},
   "outputs": [],
   "source": [
    "assert sol.cellsInRange(\"A1:F1\") == [\"A1\",\"B1\",\"C1\",\"D1\",\"E1\",\"F1\"]"
   ]
  }
 ],
 "metadata": {
  "kernelspec": {
   "display_name": "Python 3 (ipykernel)",
   "language": "python",
   "name": "python3"
  },
  "language_info": {
   "codemirror_mode": {
    "name": "ipython",
    "version": 3
   },
   "file_extension": ".py",
   "mimetype": "text/x-python",
   "name": "python",
   "nbconvert_exporter": "python",
   "pygments_lexer": "ipython3",
   "version": "3.9.7"
  }
 },
 "nbformat": 4,
 "nbformat_minor": 5
}
