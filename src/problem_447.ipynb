{
 "cells": [
  {
   "cell_type": "markdown",
   "id": "e3fd83fe-ce53-47ff-876b-bd595db641c3",
   "metadata": {},
   "source": [
    "[Problem 447](https://leetcode.com/problems/number-of-boomerangs/description)"
   ]
  },
  {
   "cell_type": "code",
   "execution_count": 1,
   "id": "91b4af3a-9d5b-4bc7-bcd4-0b9a453c3cdd",
   "metadata": {},
   "outputs": [],
   "source": [
    "from typing import List\n",
    "from collections import Counter\n",
    "from math import comb, sqrt"
   ]
  },
  {
   "cell_type": "code",
   "execution_count": 2,
   "id": "5720d661-aad4-416c-9c05-8d0c0bf52bd5",
   "metadata": {},
   "outputs": [],
   "source": [
    "class Solution:\n",
    "    def numberOfBoomerangs(self, p: List[List[int]]) -> int:\n",
    "        def dist(i, j):\n",
    "            return sqrt((p[i][0] - p[j][0]) ** 2 + (p[i][1] - p[j][1]) ** 2)\n",
    "        dist = [Counter(dist(i, j) for j in range(len(p)) if i != j) for i in range(len(p))]\n",
    "        res = sum(2*comb(v, 2) for d in dist for v in d.values() if v > 1)\n",
    "        return res"
   ]
  },
  {
   "cell_type": "code",
   "execution_count": 3,
   "id": "9344cc48-4647-439e-b73e-f0662f919cb3",
   "metadata": {},
   "outputs": [],
   "source": [
    "sol = Solution()"
   ]
  },
  {
   "cell_type": "code",
   "execution_count": 4,
   "id": "25592cec-934d-4a26-82f7-a0700e762237",
   "metadata": {},
   "outputs": [],
   "source": [
    "assert sol.numberOfBoomerangs([[0,0],[1,0],[2,0]]) == 2"
   ]
  },
  {
   "cell_type": "code",
   "execution_count": 5,
   "id": "6876cdbd-415c-4e6c-8d55-9d4c634801a7",
   "metadata": {},
   "outputs": [],
   "source": [
    "assert sol.numberOfBoomerangs([[1,1],[2,2],[3,3]]) == 2"
   ]
  },
  {
   "cell_type": "code",
   "execution_count": 6,
   "id": "0b8dc63e-c821-4ae5-931b-c0e5e8c34e8e",
   "metadata": {},
   "outputs": [],
   "source": [
    "assert sol.numberOfBoomerangs([[1,1]]) == 0"
   ]
  }
 ],
 "metadata": {
  "kernelspec": {
   "display_name": "Python 3 (ipykernel)",
   "language": "python",
   "name": "python3"
  },
  "language_info": {
   "codemirror_mode": {
    "name": "ipython",
    "version": 3
   },
   "file_extension": ".py",
   "mimetype": "text/x-python",
   "name": "python",
   "nbconvert_exporter": "python",
   "pygments_lexer": "ipython3",
   "version": "3.9.7"
  }
 },
 "nbformat": 4,
 "nbformat_minor": 5
}
