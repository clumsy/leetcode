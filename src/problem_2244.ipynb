{
 "cells": [
  {
   "cell_type": "markdown",
   "id": "f95557ea-32e6-4997-94b4-1f38b41a4b92",
   "metadata": {},
   "source": [
    "[Problem 2244](https://leetcode.com/problems/minimum-rounds-to-complete-all-tasks/description)"
   ]
  },
  {
   "cell_type": "code",
   "execution_count": 5,
   "id": "6a780816-14c9-4083-8958-eeddfd57810e",
   "metadata": {},
   "outputs": [],
   "source": [
    "from typing import List\n",
    "from collections import Counter"
   ]
  },
  {
   "cell_type": "code",
   "execution_count": 6,
   "id": "3cfdd8d2-ba0b-471a-89d2-857f0317bd3e",
   "metadata": {},
   "outputs": [],
   "source": [
    "class Solution:\n",
    "    def minimumRounds(self, tasks: List[int]) -> int:\n",
    "        res, cnt = 0, Counter(tasks)\n",
    "        for v in cnt.values():\n",
    "            if v == 1:\n",
    "                res = -1\n",
    "                break\n",
    "            d, r = divmod(v, 3)\n",
    "            # r == 1 => -1 triplet, +2 doubles\n",
    "            # r == 2 => +1 double\n",
    "            d += 1 if r > 0 else 0\n",
    "            res += d\n",
    "        return res"
   ]
  },
  {
   "cell_type": "code",
   "execution_count": 7,
   "id": "0f298a6f-9992-4ff6-b4d6-38d800b1745d",
   "metadata": {},
   "outputs": [],
   "source": [
    "sol = Solution()"
   ]
  },
  {
   "cell_type": "code",
   "execution_count": 8,
   "id": "8574966c-a6f3-4d99-8aaf-89ab9d6f6ae0",
   "metadata": {},
   "outputs": [],
   "source": [
    "assert sol.minimumRounds([2,2,3,3,2,4,4,4,4,4]) == 4"
   ]
  },
  {
   "cell_type": "code",
   "execution_count": 9,
   "id": "b00c0856-693c-4946-b7c4-3dfb6a37ec17",
   "metadata": {},
   "outputs": [],
   "source": [
    "assert sol.minimumRounds([2,3,3]) == -1"
   ]
  }
 ],
 "metadata": {
  "kernelspec": {
   "display_name": "Python 3 (ipykernel)",
   "language": "python",
   "name": "python3"
  },
  "language_info": {
   "codemirror_mode": {
    "name": "ipython",
    "version": 3
   },
   "file_extension": ".py",
   "mimetype": "text/x-python",
   "name": "python",
   "nbconvert_exporter": "python",
   "pygments_lexer": "ipython3",
   "version": "3.9.7"
  }
 },
 "nbformat": 4,
 "nbformat_minor": 5
}
