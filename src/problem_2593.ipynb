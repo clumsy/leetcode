{
 "cells": [
  {
   "cell_type": "markdown",
   "id": "63baafe2-e3e6-4db0-8f6b-d8270c428784",
   "metadata": {},
   "source": [
    "[Problem 2593](https://leetcode.com/problems/find-score-of-an-array-after-marking-all-elements/description)"
   ]
  },
  {
   "cell_type": "code",
   "execution_count": 1,
   "id": "5bbd6cbf-2cd7-446a-b79a-dd83e50b7b8f",
   "metadata": {},
   "outputs": [],
   "source": [
    "from typing import List"
   ]
  },
  {
   "cell_type": "code",
   "execution_count": 2,
   "id": "b414dabe-40bb-466c-9aab-ea1e6d0e0ad7",
   "metadata": {},
   "outputs": [],
   "source": [
    "class Solution:\n",
    "    def findScore(self, nums: List[int]) -> int:\n",
    "        order = sorted((e, i) for i, e in enumerate(nums))\n",
    "        res, n = 0, len(nums)\n",
    "        for e, i in order:\n",
    "            if nums[i] is not None:\n",
    "                res += e\n",
    "                nums[i] = None\n",
    "                if i > 0:\n",
    "                    nums[i - 1] = None\n",
    "                if i < n - 1:\n",
    "                    nums[i + 1] = None\n",
    "        return res"
   ]
  },
  {
   "cell_type": "code",
   "execution_count": 3,
   "id": "b8e89cb6-eff1-48f6-aed0-55c015b88bba",
   "metadata": {},
   "outputs": [],
   "source": [
    "sol = Solution()"
   ]
  },
  {
   "cell_type": "code",
   "execution_count": 4,
   "id": "dc521d4b-72e1-41e3-98ff-f7ff323838ba",
   "metadata": {},
   "outputs": [],
   "source": [
    "assert sol.findScore([2,1,3,4,5,2]) == 7"
   ]
  },
  {
   "cell_type": "code",
   "execution_count": 5,
   "id": "e9ea8e99-a1d3-45f8-8cbb-63fc261acb08",
   "metadata": {},
   "outputs": [],
   "source": [
    "assert sol.findScore([2,3,5,1,3,2]) == 5"
   ]
  }
 ],
 "metadata": {
  "kernelspec": {
   "display_name": "Python 3 (ipykernel)",
   "language": "python",
   "name": "python3"
  },
  "language_info": {
   "codemirror_mode": {
    "name": "ipython",
    "version": 3
   },
   "file_extension": ".py",
   "mimetype": "text/x-python",
   "name": "python",
   "nbconvert_exporter": "python",
   "pygments_lexer": "ipython3",
   "version": "3.9.7"
  }
 },
 "nbformat": 4,
 "nbformat_minor": 5
}
