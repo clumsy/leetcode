{
 "cells": [
  {
   "cell_type": "markdown",
   "id": "d89f3b1b-217c-42d9-b442-5333b0ecfeae",
   "metadata": {},
   "source": [
    "[Problem 2696](https://leetcode.com/problems/minimum-string-length-after-removing-substrings/description)"
   ]
  },
  {
   "cell_type": "code",
   "execution_count": 1,
   "id": "79369fa3-02a5-4229-8aaa-a49a7d95dfe4",
   "metadata": {},
   "outputs": [],
   "source": [
    "class Solution:\n",
    "    def minLength(self, s: str) -> int:\n",
    "        while True:\n",
    "            s_ = s.replace(\"AB\", \"\").replace(\"CD\", \"\")\n",
    "            if s == s_:\n",
    "                break\n",
    "            s = s_\n",
    "        res = len(s)\n",
    "        return res"
   ]
  },
  {
   "cell_type": "code",
   "execution_count": 2,
   "id": "c90aeff9-9434-458a-96db-9c08c8539c59",
   "metadata": {},
   "outputs": [],
   "source": [
    "class Solution:\n",
    "    def minLength(self, s: str) -> int:\n",
    "        st = []\n",
    "        for c in s:\n",
    "            if st and st[-1] + c in \"AB|CD\":\n",
    "                st.pop()\n",
    "            else:\n",
    "                st.append(c)\n",
    "        res = len(st)\n",
    "        return res"
   ]
  },
  {
   "cell_type": "code",
   "execution_count": 3,
   "id": "aeaa0cf8-5f6d-494c-a0d4-c4bd39400474",
   "metadata": {},
   "outputs": [],
   "source": [
    "sol = Solution()"
   ]
  },
  {
   "cell_type": "code",
   "execution_count": 4,
   "id": "3d1ce6e0-0773-4dd2-b575-df340b1844e2",
   "metadata": {},
   "outputs": [],
   "source": [
    "assert sol.minLength(\"ABFCACDB\") == 2"
   ]
  },
  {
   "cell_type": "code",
   "execution_count": 5,
   "id": "e790bf73-f852-47b0-8a5c-b65d0f17a533",
   "metadata": {},
   "outputs": [],
   "source": [
    "assert sol.minLength(\"ACBBD\") == 5"
   ]
  }
 ],
 "metadata": {
  "kernelspec": {
   "display_name": "Python 3 (ipykernel)",
   "language": "python",
   "name": "python3"
  },
  "language_info": {
   "codemirror_mode": {
    "name": "ipython",
    "version": 3
   },
   "file_extension": ".py",
   "mimetype": "text/x-python",
   "name": "python",
   "nbconvert_exporter": "python",
   "pygments_lexer": "ipython3",
   "version": "3.9.7"
  }
 },
 "nbformat": 4,
 "nbformat_minor": 5
}
