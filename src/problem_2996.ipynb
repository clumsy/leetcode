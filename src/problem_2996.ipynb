{
 "cells": [
  {
   "cell_type": "markdown",
   "id": "2cd5c3e8-659c-4df3-9156-d0bec14b70ca",
   "metadata": {},
   "source": [
    "[Problem 2996](https://leetcode.com/problems/smallest-missing-integer-greater-than-sequential-prefix-sum/description)"
   ]
  },
  {
   "cell_type": "code",
   "execution_count": 1,
   "id": "a26904b8-9167-4e64-8897-6524ecc73dc3",
   "metadata": {},
   "outputs": [],
   "source": [
    "from typing import List"
   ]
  },
  {
   "cell_type": "code",
   "execution_count": 2,
   "id": "45d80728-b2b6-49aa-8643-b52f20ee6da8",
   "metadata": {},
   "outputs": [],
   "source": [
    "class Solution:\n",
    "    def missingInteger(self, nums: List[int]) -> int:\n",
    "        n = len(nums)\n",
    "        cur = res = 0\n",
    "        for i in range(n):\n",
    "            if i > 0 and nums[i] - nums[i - 1] != 1:\n",
    "                break\n",
    "            cur += nums[i]\n",
    "            res = max(res, cur)\n",
    "        nums.sort()\n",
    "        for i in range(n):\n",
    "            if nums[i] == res:\n",
    "                res += 1\n",
    "        return res"
   ]
  },
  {
   "cell_type": "code",
   "execution_count": 3,
   "id": "7b6f1165-9a87-4922-b58b-666036d0f7eb",
   "metadata": {},
   "outputs": [],
   "source": [
    "sol = Solution()"
   ]
  },
  {
   "cell_type": "code",
   "execution_count": 4,
   "id": "83436c9f-ba9f-4299-82e6-f655401bc6bc",
   "metadata": {},
   "outputs": [],
   "source": [
    "assert sol.missingInteger([1,2,3,2,5]) == 6"
   ]
  },
  {
   "cell_type": "code",
   "execution_count": 5,
   "id": "c2913bef-8da2-4ea7-9af8-7ef28508abf7",
   "metadata": {},
   "outputs": [],
   "source": [
    "assert sol.missingInteger([3,4,5,1,12,14,13]) == 15"
   ]
  }
 ],
 "metadata": {
  "kernelspec": {
   "display_name": "Python 3 (ipykernel)",
   "language": "python",
   "name": "python3"
  },
  "language_info": {
   "codemirror_mode": {
    "name": "ipython",
    "version": 3
   },
   "file_extension": ".py",
   "mimetype": "text/x-python",
   "name": "python",
   "nbconvert_exporter": "python",
   "pygments_lexer": "ipython3",
   "version": "3.9.7"
  }
 },
 "nbformat": 4,
 "nbformat_minor": 5
}
