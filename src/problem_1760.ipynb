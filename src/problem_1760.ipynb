{
 "cells": [
  {
   "cell_type": "markdown",
   "id": "2e7db27e-b9c8-48d7-a582-38c286d4277d",
   "metadata": {},
   "source": [
    "[Problem 1760](https://leetcode.com/problems/minimum-limit-of-balls-in-a-bag/)"
   ]
  },
  {
   "cell_type": "code",
   "execution_count": 6,
   "id": "dade1b51-780a-4bbe-867f-10012c23f085",
   "metadata": {},
   "outputs": [],
   "source": [
    "from typing import List\n",
    "from math import ceil"
   ]
  },
  {
   "cell_type": "code",
   "execution_count": 7,
   "id": "3d82d1bc-1296-4e3d-9819-d6d4924aaa75",
   "metadata": {},
   "outputs": [],
   "source": [
    "class Solution:\n",
    "    def minimumSize(self, nums: List[int], maxOperations: int) -> int:\n",
    "        lo, hi = 1, max(nums)\n",
    "        while lo < hi:\n",
    "            mi = lo + (hi - lo) // 2\n",
    "            x = sum(ceil(i / mi) - 1 for i in nums)\n",
    "            if x <= maxOperations:\n",
    "                hi = mi\n",
    "            else:\n",
    "                lo = mi + 1\n",
    "        return lo"
   ]
  },
  {
   "cell_type": "code",
   "execution_count": 8,
   "id": "b3f06dde-5419-4df8-ba43-2e0a588e350d",
   "metadata": {},
   "outputs": [],
   "source": [
    "sol = Solution()"
   ]
  },
  {
   "cell_type": "code",
   "execution_count": 9,
   "id": "633d6031-c15a-4697-a413-3611108a5313",
   "metadata": {},
   "outputs": [],
   "source": [
    "assert sol.minimumSize([9], 2) == 3"
   ]
  },
  {
   "cell_type": "code",
   "execution_count": 10,
   "id": "fea12b67-f73a-44e1-a805-d9084022a66d",
   "metadata": {},
   "outputs": [],
   "source": [
    "assert sol.minimumSize([2,4,8,2], 4) == 2"
   ]
  },
  {
   "cell_type": "code",
   "execution_count": 11,
   "id": "dacef812-d92d-49b3-99f9-5ac6d97b689b",
   "metadata": {},
   "outputs": [],
   "source": [
    "assert sol.minimumSize([7,17], 2) == 7"
   ]
  }
 ],
 "metadata": {
  "kernelspec": {
   "display_name": "Python 3 (ipykernel)",
   "language": "python",
   "name": "python3"
  },
  "language_info": {
   "codemirror_mode": {
    "name": "ipython",
    "version": 3
   },
   "file_extension": ".py",
   "mimetype": "text/x-python",
   "name": "python",
   "nbconvert_exporter": "python",
   "pygments_lexer": "ipython3",
   "version": "3.9.7"
  }
 },
 "nbformat": 4,
 "nbformat_minor": 5
}
