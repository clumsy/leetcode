{
 "cells": [
  {
   "cell_type": "markdown",
   "id": "9713822e-8cc4-4ba1-9b68-be356722a063",
   "metadata": {},
   "source": [
    "[Problem 520](https://leetcode.com/problems/detect-capital/description)"
   ]
  },
  {
   "cell_type": "code",
   "execution_count": 1,
   "id": "9297ae44-76b1-4414-947c-268f9cec7b07",
   "metadata": {},
   "outputs": [],
   "source": [
    "class Solution:\n",
    "    def detectCapitalUse(self, word: str) -> bool:\n",
    "        n, res = len(word), True\n",
    "        for i in range(1, n):\n",
    "            if word[i].isupper() != word[i - 1].isupper():\n",
    "                if not word[i - 1].isupper() or i > 1:\n",
    "                    res = False\n",
    "                    break\n",
    "        return res"
   ]
  },
  {
   "cell_type": "code",
   "execution_count": 2,
   "id": "de2a21a6-1955-4b16-b2a5-73e5ac29b33a",
   "metadata": {},
   "outputs": [],
   "source": [
    "sol = Solution()"
   ]
  },
  {
   "cell_type": "code",
   "execution_count": 3,
   "id": "b4402ab0-d6d9-44f0-a0e1-64768eb64b48",
   "metadata": {},
   "outputs": [],
   "source": [
    "assert sol.detectCapitalUse(\"USA\")"
   ]
  },
  {
   "cell_type": "code",
   "execution_count": 4,
   "id": "3288e334-c669-4bf5-a6dc-9545c6e87649",
   "metadata": {},
   "outputs": [],
   "source": [
    "assert not sol.detectCapitalUse(\"FlaG\")"
   ]
  }
 ],
 "metadata": {
  "kernelspec": {
   "display_name": "Python 3 (ipykernel)",
   "language": "python",
   "name": "python3"
  },
  "language_info": {
   "codemirror_mode": {
    "name": "ipython",
    "version": 3
   },
   "file_extension": ".py",
   "mimetype": "text/x-python",
   "name": "python",
   "nbconvert_exporter": "python",
   "pygments_lexer": "ipython3",
   "version": "3.9.7"
  }
 },
 "nbformat": 4,
 "nbformat_minor": 5
}
