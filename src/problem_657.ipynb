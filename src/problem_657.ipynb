{
 "cells": [
  {
   "cell_type": "markdown",
   "id": "d8566ff4-ccb7-4fb3-9826-feecd0d8fa2b",
   "metadata": {},
   "source": [
    "[Problem 657](https://leetcode.com/problems/robot-return-to-origin/description)"
   ]
  },
  {
   "cell_type": "code",
   "execution_count": 1,
   "id": "c8e3f0a7-c9bd-4893-a9c5-613d6e3063ca",
   "metadata": {},
   "outputs": [],
   "source": [
    "from collections import Counter"
   ]
  },
  {
   "cell_type": "code",
   "execution_count": 2,
   "id": "4d7d1c17-62cb-4ee4-a91d-767c3db7bce9",
   "metadata": {},
   "outputs": [],
   "source": [
    "class Solution:\n",
    "    def judgeCircle(self, moves: str) -> bool:\n",
    "        cnt = Counter(moves)\n",
    "        res = cnt[\"U\"] == cnt[\"D\"] and cnt[\"L\"] == cnt[\"R\"]\n",
    "        return res"
   ]
  },
  {
   "cell_type": "code",
   "execution_count": 3,
   "id": "ba576710-9da0-42ad-9c46-fbdf36d86f86",
   "metadata": {},
   "outputs": [],
   "source": [
    "sol = Solution()"
   ]
  },
  {
   "cell_type": "code",
   "execution_count": 4,
   "id": "e57fe9a2-234b-427b-8677-02f16ca0466f",
   "metadata": {},
   "outputs": [],
   "source": [
    "assert sol.judgeCircle(\"UD\")"
   ]
  },
  {
   "cell_type": "code",
   "execution_count": 5,
   "id": "d5358557-9ba1-439c-98c2-f34b22a1f8f5",
   "metadata": {},
   "outputs": [],
   "source": [
    "assert not sol.judgeCircle(\"LL\")"
   ]
  }
 ],
 "metadata": {
  "kernelspec": {
   "display_name": "Python 3 (ipykernel)",
   "language": "python",
   "name": "python3"
  },
  "language_info": {
   "codemirror_mode": {
    "name": "ipython",
    "version": 3
   },
   "file_extension": ".py",
   "mimetype": "text/x-python",
   "name": "python",
   "nbconvert_exporter": "python",
   "pygments_lexer": "ipython3",
   "version": "3.9.7"
  }
 },
 "nbformat": 4,
 "nbformat_minor": 5
}
