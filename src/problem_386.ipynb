{
 "cells": [
  {
   "cell_type": "markdown",
   "id": "5fab5ce8-bf75-4da7-9ced-c778200435a4",
   "metadata": {},
   "source": [
    "[Problem 386](https://leetcode.com/problems/lexicographical-numbers/description)"
   ]
  },
  {
   "cell_type": "code",
   "execution_count": 1,
   "id": "64cd075f-056d-478e-847a-ab0000c5692b",
   "metadata": {},
   "outputs": [],
   "source": [
    "from typing import List"
   ]
  },
  {
   "cell_type": "code",
   "execution_count": 2,
   "id": "88b023ef-8ff6-4b5b-a1ef-5b5d076e3770",
   "metadata": {},
   "outputs": [],
   "source": [
    "class Solution:\n",
    "    def lexicalOrder(self, n: int) -> List[int]:\n",
    "        st = [str(i) for i in range(1, min(10, n + 1))[::-1]]\n",
    "        res = []\n",
    "        while st:\n",
    "            c = st.pop()\n",
    "            cur = int(c)\n",
    "            if cur <= n:\n",
    "                res.append(cur)\n",
    "                for i in range(10)[::-1]:\n",
    "                    st.append(c + str(i))\n",
    "        return res"
   ]
  },
  {
   "cell_type": "code",
   "execution_count": 3,
   "id": "124d1285-a14e-4b6c-80d4-f76cb1c5bff4",
   "metadata": {},
   "outputs": [],
   "source": [
    "class Solution:\n",
    "    def lexicalOrder(self, n: int) -> List[int]:\n",
    "        res, cur = [], 1\n",
    "        for _ in range(n):\n",
    "            res.append(cur)\n",
    "            if cur * 10 <= n:\n",
    "                cur *= 10\n",
    "            else:\n",
    "                if cur >= n:\n",
    "                    cur //= 10\n",
    "                cur += 1\n",
    "                while cur % 10 == 0:\n",
    "                    cur //= 10\n",
    "        return res"
   ]
  },
  {
   "cell_type": "code",
   "execution_count": 4,
   "id": "99080554-774d-477f-8b9f-0f13c0e9392e",
   "metadata": {},
   "outputs": [],
   "source": [
    "sol = Solution()"
   ]
  },
  {
   "cell_type": "code",
   "execution_count": 5,
   "id": "9cd5f308-f18e-4a15-ab45-382f0e4134bc",
   "metadata": {},
   "outputs": [],
   "source": [
    "assert sol.lexicalOrder(13) == [1,10,11,12,13,2,3,4,5,6,7,8,9]"
   ]
  },
  {
   "cell_type": "code",
   "execution_count": 6,
   "id": "e41c5b24-d99f-485e-957a-2f71dfb5981c",
   "metadata": {},
   "outputs": [],
   "source": [
    "assert sol.lexicalOrder(2) == [1,2]"
   ]
  }
 ],
 "metadata": {
  "kernelspec": {
   "display_name": "Python 3 (ipykernel)",
   "language": "python",
   "name": "python3"
  },
  "language_info": {
   "codemirror_mode": {
    "name": "ipython",
    "version": 3
   },
   "file_extension": ".py",
   "mimetype": "text/x-python",
   "name": "python",
   "nbconvert_exporter": "python",
   "pygments_lexer": "ipython3",
   "version": "3.9.7"
  }
 },
 "nbformat": 4,
 "nbformat_minor": 5
}
