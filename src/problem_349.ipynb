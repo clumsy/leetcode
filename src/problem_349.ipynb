{
 "cells": [
  {
   "cell_type": "markdown",
   "id": "5a2f2637-e308-4807-98c8-77da8b33a71c",
   "metadata": {},
   "source": [
    "[Problem 349](https://leetcode.com/problems/intersection-of-two-arrays/description)"
   ]
  },
  {
   "cell_type": "code",
   "execution_count": 1,
   "id": "00398072-6d08-4563-9f57-1eaed73545ba",
   "metadata": {},
   "outputs": [],
   "source": [
    "from typing import List"
   ]
  },
  {
   "cell_type": "code",
   "execution_count": 2,
   "id": "ed04fac0-2206-476f-8215-5bce5b37f6a4",
   "metadata": {},
   "outputs": [],
   "source": [
    "class Solution:\n",
    "    def intersection(self, nums1: List[int], nums2: List[int]) -> List[int]:\n",
    "        nums1.sort()\n",
    "        nums2.sort()\n",
    "        n, m = len(nums1), len(nums2)\n",
    "        res = []\n",
    "        i, j = 0, 0\n",
    "        for i in range(n):\n",
    "            if i > 0 and nums1[i] == nums1[i - 1]:\n",
    "                continue\n",
    "            while j < m and nums2[j] < nums1[i]:\n",
    "                j += 1\n",
    "            if j < m and nums1[i] == nums2[j]:\n",
    "                res.append(nums1[i])\n",
    "                while j < m and nums2[j] == nums2[j - 1]:\n",
    "                    j += 1\n",
    "        return res"
   ]
  },
  {
   "cell_type": "code",
   "execution_count": 3,
   "id": "05edbcd2-3f3e-4998-954c-cad84034a30d",
   "metadata": {},
   "outputs": [],
   "source": [
    "sol = Solution()"
   ]
  },
  {
   "cell_type": "code",
   "execution_count": 4,
   "id": "fa20f0d3-eecf-4af3-83b3-6c6d12b02f65",
   "metadata": {},
   "outputs": [],
   "source": [
    "assert sol.intersection([1,2,2,1], [2,2]) == [2]"
   ]
  },
  {
   "cell_type": "code",
   "execution_count": 5,
   "id": "9a841836-b50e-4261-b73a-9d4af9ea2990",
   "metadata": {},
   "outputs": [],
   "source": [
    "assert sol.intersection([4,9,5], [9,4,9,8,4]) == [4,9]"
   ]
  }
 ],
 "metadata": {
  "kernelspec": {
   "display_name": "Python 3 (ipykernel)",
   "language": "python",
   "name": "python3"
  },
  "language_info": {
   "codemirror_mode": {
    "name": "ipython",
    "version": 3
   },
   "file_extension": ".py",
   "mimetype": "text/x-python",
   "name": "python",
   "nbconvert_exporter": "python",
   "pygments_lexer": "ipython3",
   "version": "3.9.7"
  }
 },
 "nbformat": 4,
 "nbformat_minor": 5
}
