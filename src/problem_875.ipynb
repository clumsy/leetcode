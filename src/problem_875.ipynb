{
 "cells": [
  {
   "cell_type": "code",
   "execution_count": 3,
   "id": "6a9f1a2b-da16-4332-96d6-ce628ad3d2d4",
   "metadata": {},
   "outputs": [],
   "source": [
    "from typing import List\n",
    "from math import ceil"
   ]
  },
  {
   "cell_type": "code",
   "execution_count": 4,
   "id": "b132bd77-8db4-413b-9c10-1f15b74a07e4",
   "metadata": {},
   "outputs": [],
   "source": [
    "class Solution:\n",
    "    def minEatingSpeed(self, piles: List[int], h: int) -> int:\n",
    "        lo, hi, piles = 1, max(piles), sorted(piles)\n",
    "        while lo < hi:\n",
    "            mi = lo + (hi - lo) // 2\n",
    "            x = sum(ceil(i / mi) for i in piles)\n",
    "            if x <= h:\n",
    "                hi = mi\n",
    "            else:\n",
    "                lo = mi + 1\n",
    "        return lo   "
   ]
  },
  {
   "cell_type": "code",
   "execution_count": 5,
   "id": "eca85391-8860-4023-81c2-d9948541f200",
   "metadata": {},
   "outputs": [],
   "source": [
    "sol = Solution()"
   ]
  },
  {
   "cell_type": "code",
   "execution_count": 6,
   "id": "74b11811-1d2b-47ab-b96c-7276bd262f2c",
   "metadata": {},
   "outputs": [],
   "source": [
    "assert sol.minEatingSpeed([3,6,7,11], 8) == 4"
   ]
  },
  {
   "cell_type": "code",
   "execution_count": 7,
   "id": "c7a88b71-a8e2-4e3d-9446-1aa2acb060b0",
   "metadata": {},
   "outputs": [],
   "source": [
    "assert sol.minEatingSpeed([30,11,23,4,20], 5) == 30"
   ]
  },
  {
   "cell_type": "code",
   "execution_count": 8,
   "id": "a99865f0-8f07-4ca4-8c11-0843b870db68",
   "metadata": {},
   "outputs": [],
   "source": [
    "assert sol.minEatingSpeed([30,11,23,4,20], 6) == 23"
   ]
  }
 ],
 "metadata": {
  "kernelspec": {
   "display_name": "Python 3 (ipykernel)",
   "language": "python",
   "name": "python3"
  },
  "language_info": {
   "codemirror_mode": {
    "name": "ipython",
    "version": 3
   },
   "file_extension": ".py",
   "mimetype": "text/x-python",
   "name": "python",
   "nbconvert_exporter": "python",
   "pygments_lexer": "ipython3",
   "version": "3.9.7"
  }
 },
 "nbformat": 4,
 "nbformat_minor": 5
}
