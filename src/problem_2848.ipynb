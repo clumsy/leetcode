{
 "cells": [
  {
   "cell_type": "markdown",
   "id": "6112f115-c50e-49a0-b96e-c38b8de4cc0b",
   "metadata": {},
   "source": [
    "[Problem 2848](https://leetcode.com/problems/points-that-intersect-with-cars/description)"
   ]
  },
  {
   "cell_type": "code",
   "execution_count": 1,
   "id": "d1f52128-7af9-4491-bdfb-92af96e299bd",
   "metadata": {},
   "outputs": [],
   "source": [
    "from typing import List"
   ]
  },
  {
   "cell_type": "code",
   "execution_count": 2,
   "id": "aa13a516-d22c-4ae7-adbf-d06ed5c1d24a",
   "metadata": {},
   "outputs": [],
   "source": [
    "class Solution:\n",
    "    def numberOfPoints(self, nums: List[List[int]]) -> int:\n",
    "        cnt = [0] * 102\n",
    "        for s, e in nums:\n",
    "            cnt[s] += 1\n",
    "            cnt[e + 1] -= 1\n",
    "        res = cur = 0\n",
    "        for i in range(1, 101):\n",
    "            cur += cnt[i]\n",
    "            res += cur > 0\n",
    "        return res"
   ]
  },
  {
   "cell_type": "code",
   "execution_count": 3,
   "id": "4de61706-5864-48a1-9175-0d880edce2a4",
   "metadata": {},
   "outputs": [],
   "source": [
    "sol = Solution()"
   ]
  },
  {
   "cell_type": "code",
   "execution_count": 4,
   "id": "ba60f216-a61a-4f6c-8e7d-252178270c1b",
   "metadata": {},
   "outputs": [],
   "source": [
    "assert sol.numberOfPoints([[3,6],[1,5],[4,7]]) == 7"
   ]
  },
  {
   "cell_type": "code",
   "execution_count": 5,
   "id": "6fb52798-05e6-4fef-9632-ae803edb6460",
   "metadata": {},
   "outputs": [],
   "source": [
    "assert sol.numberOfPoints([[1,3],[5,8]]) == 7"
   ]
  }
 ],
 "metadata": {
  "kernelspec": {
   "display_name": "Python 3 (ipykernel)",
   "language": "python",
   "name": "python3"
  },
  "language_info": {
   "codemirror_mode": {
    "name": "ipython",
    "version": 3
   },
   "file_extension": ".py",
   "mimetype": "text/x-python",
   "name": "python",
   "nbconvert_exporter": "python",
   "pygments_lexer": "ipython3",
   "version": "3.9.7"
  }
 },
 "nbformat": 4,
 "nbformat_minor": 5
}
