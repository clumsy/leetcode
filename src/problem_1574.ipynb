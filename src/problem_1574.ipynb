{
 "cells": [
  {
   "cell_type": "markdown",
   "id": "5bfc5247-5c12-4cd4-895b-39be9914fd12",
   "metadata": {},
   "source": [
    "[Problem 1574](https://leetcode.com/problems/shortest-subarray-to-be-removed-to-make-array-sorted/)"
   ]
  },
  {
   "cell_type": "code",
   "execution_count": 1,
   "id": "d3013e2e-cced-4e00-860a-e7748fd5821e",
   "metadata": {},
   "outputs": [],
   "source": [
    "from typing import List"
   ]
  },
  {
   "cell_type": "code",
   "execution_count": 2,
   "id": "b5717653-4a2c-40dd-bf24-f76a681eaa3a",
   "metadata": {},
   "outputs": [],
   "source": [
    "class Solution:\n",
    "    def findLengthOfShortestSubarray(self, arr: List[int]) -> int:\n",
    "        n = len(arr)\n",
    "        m = [arr[-1]] * n\n",
    "        for i in reversed(range(n - 1)):\n",
    "            m[i] = arr[i] if arr[i] <= m[i + 1] else -1\n",
    "        res = n - 1\n",
    "        for i in range(-1, n - 1):\n",
    "            if i > 0 and arr[i] < arr[i - 1]:\n",
    "                break\n",
    "            lo, hi = i, n\n",
    "            while lo < hi:\n",
    "                mi = (lo + hi) // 2\n",
    "                if m[mi] >= (arr[i] if i >= 0 else 0):\n",
    "                    hi = mi\n",
    "                else:\n",
    "                    lo = mi + 1\n",
    "            res = max(min(res, lo - i - 1), 0)\n",
    "        return res"
   ]
  },
  {
   "cell_type": "code",
   "execution_count": 9,
   "id": "bd474042-dbe6-4ea5-addd-556ade41d099",
   "metadata": {},
   "outputs": [],
   "source": [
    "class Solution:\n",
    "    def findLengthOfShortestSubarray(self, arr: List[int]) -> int:\n",
    "        n = len(arr)\n",
    "        j = n - 1\n",
    "        while j > 0 and arr[j - 1] <= arr[j]:\n",
    "            j -= 1\n",
    "        i, res = 0, j\n",
    "        while i < j and (i == 0 or arr[i] >= arr[i - 1]):\n",
    "            while j < n and arr[j] < arr[i]:\n",
    "                j += 1\n",
    "            res = min(res, j - i - 1)\n",
    "            i += 1\n",
    "        return res"
   ]
  },
  {
   "cell_type": "code",
   "execution_count": 10,
   "id": "9055d221-701b-4045-8e51-bf911d3df6d1",
   "metadata": {},
   "outputs": [],
   "source": [
    "sol = Solution()"
   ]
  },
  {
   "cell_type": "code",
   "execution_count": 11,
   "id": "d703d4ef-61a2-4886-ba42-42e149c1d76d",
   "metadata": {},
   "outputs": [],
   "source": [
    "assert sol.findLengthOfShortestSubarray([1,2,3,10,4,2,3,5]) == 3"
   ]
  },
  {
   "cell_type": "code",
   "execution_count": 12,
   "id": "fe2aa012-5e48-45c5-836d-f294ed790434",
   "metadata": {},
   "outputs": [],
   "source": [
    "assert sol.findLengthOfShortestSubarray([5,4,3,2,1]) == 4"
   ]
  },
  {
   "cell_type": "code",
   "execution_count": 13,
   "id": "6bcf7b1b-23e9-4a5b-b5e0-8386b4541885",
   "metadata": {},
   "outputs": [],
   "source": [
    "assert sol.findLengthOfShortestSubarray([1,2,3]) == 0"
   ]
  }
 ],
 "metadata": {
  "kernelspec": {
   "display_name": "Python 3 (ipykernel)",
   "language": "python",
   "name": "python3"
  },
  "language_info": {
   "codemirror_mode": {
    "name": "ipython",
    "version": 3
   },
   "file_extension": ".py",
   "mimetype": "text/x-python",
   "name": "python",
   "nbconvert_exporter": "python",
   "pygments_lexer": "ipython3",
   "version": "3.9.7"
  }
 },
 "nbformat": 4,
 "nbformat_minor": 5
}
