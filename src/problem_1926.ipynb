{
 "cells": [
  {
   "cell_type": "markdown",
   "id": "86c9ef73-fd9a-4343-84fa-e9c222aba0f0",
   "metadata": {},
   "source": [
    "[Problem 1926](https://leetcode.com/problems/nearest-exit-from-entrance-in-maze/description)"
   ]
  },
  {
   "cell_type": "code",
   "execution_count": 1,
   "id": "18c2b7c2-c882-4543-9d39-5cbe0284dac1",
   "metadata": {},
   "outputs": [],
   "source": [
    "from typing import List\n",
    "from heapq import heappush, heappop"
   ]
  },
  {
   "cell_type": "code",
   "execution_count": 2,
   "id": "4fcb6f16-56d9-49ed-bf1f-ca3fcdc9163e",
   "metadata": {},
   "outputs": [],
   "source": [
    "class Solution:\n",
    "    def nearestExit(self, maze: List[List[str]], entrance: List[int]) -> int:\n",
    "        m, n = len(maze), len(maze[0])\n",
    "        res, found = -1, False\n",
    "        def dist(r, c, i):\n",
    "            return abs(entrance[0] - r) + abs(entrance[1] - c), i, (r, c)\n",
    "        q = []\n",
    "        for r in range(m):\n",
    "            if maze[r][0] == \".\" and [r, 0] != entrance:\n",
    "                maze[r][0] = \"x\"\n",
    "                heappush(q, dist(r, 0, 0))\n",
    "            if maze[r][n - 1] == \".\" and [r, n - 1] != entrance:\n",
    "                maze[r][n - 1] = \"x\"\n",
    "                heappush(q, dist(r, n - 1, 0))\n",
    "        for c in range(n - 1):\n",
    "            if maze[0][c] == \".\" and [0, c] != entrance:\n",
    "                maze[0][c] = \"x\"\n",
    "                heappush(q, dist(0, c, 0))\n",
    "            if maze[m - 1][c] == \".\" and [m - 1, c] != entrance:\n",
    "                maze[m - 1][c] = \"x\"\n",
    "                heappush(q, dist(m - 1, c, 0))\n",
    "        while q:\n",
    "            _, i, (r, c) = heappop(q)\n",
    "            if [r, c] == entrance:\n",
    "                res = i\n",
    "                break\n",
    "            for dr, dc in [(1, 0), (-1, 0), (0, 1), (0, -1)]:\n",
    "                if m > r + dr >= 0 and n > c + dc >= 0 and maze[r + dr][c + dc] == \".\":\n",
    "                    maze[r + dr][c + dc] = \"x\"\n",
    "                    heappush(q, dist(r + dr, c + dc, i + 1))\n",
    "        return res"
   ]
  },
  {
   "cell_type": "code",
   "execution_count": 3,
   "id": "eadc0a94-2124-451f-ab47-77c4708cca2e",
   "metadata": {},
   "outputs": [],
   "source": [
    "sol = Solution()"
   ]
  },
  {
   "cell_type": "code",
   "execution_count": 4,
   "id": "bba6848d-32d4-4e70-b3d4-8995f3d01716",
   "metadata": {},
   "outputs": [],
   "source": [
    "assert sol.nearestExit([[\"+\",\"+\",\".\",\"+\"],[\".\",\".\",\".\",\"+\"],[\"+\",\"+\",\"+\",\".\"]], [1,2]) == 1"
   ]
  },
  {
   "cell_type": "code",
   "execution_count": 5,
   "id": "a9edf31d-6b9a-496b-a5ce-da0125969534",
   "metadata": {},
   "outputs": [],
   "source": [
    "assert sol.nearestExit([[\"+\",\"+\",\"+\"],[\".\",\".\",\".\"],[\"+\",\"+\",\"+\"]], [1,0]) == 2"
   ]
  },
  {
   "cell_type": "code",
   "execution_count": 6,
   "id": "da769a7b-1a3f-4f9d-a314-65feaeae24b1",
   "metadata": {},
   "outputs": [],
   "source": [
    "assert sol.nearestExit([[\".\",\"+\"]], [0,0]) == -1"
   ]
  }
 ],
 "metadata": {
  "kernelspec": {
   "display_name": "Python 3 (ipykernel)",
   "language": "python",
   "name": "python3"
  },
  "language_info": {
   "codemirror_mode": {
    "name": "ipython",
    "version": 3
   },
   "file_extension": ".py",
   "mimetype": "text/x-python",
   "name": "python",
   "nbconvert_exporter": "python",
   "pygments_lexer": "ipython3",
   "version": "3.9.7"
  }
 },
 "nbformat": 4,
 "nbformat_minor": 5
}
