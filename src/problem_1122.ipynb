{
 "cells": [
  {
   "cell_type": "markdown",
   "id": "50ad1444-50f1-4588-a855-feee3dc17e81",
   "metadata": {},
   "source": [
    "[Problem 1122](https://leetcode.com/problems/relative-sort-array/description)"
   ]
  },
  {
   "cell_type": "code",
   "execution_count": 5,
   "id": "890e8bbf-ff74-4bb8-abbe-78c3fc953ab3",
   "metadata": {},
   "outputs": [],
   "source": [
    "from typing import List\n",
    "from collections import Counter"
   ]
  },
  {
   "cell_type": "code",
   "execution_count": 6,
   "id": "beffc0ea-8ea4-49cd-9d74-1a3f5d23ae59",
   "metadata": {},
   "outputs": [],
   "source": [
    "class Solution:\n",
    "    def relativeSortArray(self, arr1: List[int], arr2: List[int]) -> List[int]:\n",
    "        c1 = Counter(arr1)\n",
    "        res = []\n",
    "        for i in arr2:\n",
    "            if i in c1:\n",
    "                res.extend([i] * c1[i])\n",
    "                del c1[i]\n",
    "        for i in range(1001):\n",
    "            if i in c1:\n",
    "                res.extend([i] * c1[i])\n",
    "        return res"
   ]
  },
  {
   "cell_type": "code",
   "execution_count": 7,
   "id": "fa3fde58-98f9-41a6-8965-35665e8fc773",
   "metadata": {},
   "outputs": [],
   "source": [
    "sol = Solution()"
   ]
  },
  {
   "cell_type": "code",
   "execution_count": 8,
   "id": "7089165c-9e9e-4689-a4e7-81111aee55ea",
   "metadata": {},
   "outputs": [],
   "source": [
    "assert sol.relativeSortArray([2,3,1,3,2,4,6,7,9,2,19], [2,1,4,3,9,6]) == [2,2,2,1,4,3,3,9,6,7,19]"
   ]
  },
  {
   "cell_type": "code",
   "execution_count": 9,
   "id": "4b3d553c-28df-43a6-ac37-1e57027deb11",
   "metadata": {},
   "outputs": [],
   "source": [
    "assert sol.relativeSortArray([28,6,22,8,44,17], [22,28,8,6]) == [22,28,8,6,17,44]"
   ]
  }
 ],
 "metadata": {
  "kernelspec": {
   "display_name": "Python 3 (ipykernel)",
   "language": "python",
   "name": "python3"
  },
  "language_info": {
   "codemirror_mode": {
    "name": "ipython",
    "version": 3
   },
   "file_extension": ".py",
   "mimetype": "text/x-python",
   "name": "python",
   "nbconvert_exporter": "python",
   "pygments_lexer": "ipython3",
   "version": "3.9.7"
  }
 },
 "nbformat": 4,
 "nbformat_minor": 5
}
