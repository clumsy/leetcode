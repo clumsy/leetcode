{
 "cells": [
  {
   "cell_type": "markdown",
   "id": "75e88930-4b29-4577-bd11-22a6d947be2a",
   "metadata": {},
   "source": [
    "[Problem 2760](https://leetcode.com/problems/longest-even-odd-subarray-with-threshold/description)"
   ]
  },
  {
   "cell_type": "code",
   "execution_count": 1,
   "id": "a556deb7-5814-4dee-9f8e-e9bf56265476",
   "metadata": {},
   "outputs": [],
   "source": [
    "from typing import List"
   ]
  },
  {
   "cell_type": "code",
   "execution_count": 2,
   "id": "de8d91a8-caf6-43f9-a55c-0fbffc36422e",
   "metadata": {},
   "outputs": [],
   "source": [
    "class Solution:\n",
    "    def longestAlternatingSubarray(self, nums: List[int], threshold: int) -> int:\n",
    "        res = cur = 0\n",
    "        for i, e in enumerate(nums):\n",
    "            if cur == 0 or e > threshold or (cur > 0 and nums[i - 1] & 1 == nums[i] & 1):\n",
    "                cur = int(e <= threshold and e & 1 == 0)\n",
    "            else:\n",
    "                cur += 1\n",
    "            res = max(res, cur)\n",
    "        return res"
   ]
  },
  {
   "cell_type": "code",
   "execution_count": 3,
   "id": "7abf3ca2-9c31-4aff-991e-2b7e83161d78",
   "metadata": {},
   "outputs": [],
   "source": [
    "sol = Solution()"
   ]
  },
  {
   "cell_type": "code",
   "execution_count": 4,
   "id": "995a5dbd-6534-4c98-8762-4ef0c41a93e8",
   "metadata": {},
   "outputs": [],
   "source": [
    "assert sol.longestAlternatingSubarray([3,2,5,4], 5) == 3"
   ]
  },
  {
   "cell_type": "code",
   "execution_count": 5,
   "id": "c661d558-4faf-42f6-9030-01abe3d74fc4",
   "metadata": {},
   "outputs": [],
   "source": [
    "assert sol.longestAlternatingSubarray([1,2], 2) == 1"
   ]
  },
  {
   "cell_type": "code",
   "execution_count": 6,
   "id": "442f751f-4244-47ab-bb7e-bea2ebfc70df",
   "metadata": {},
   "outputs": [],
   "source": [
    "assert sol.longestAlternatingSubarray([2,3,4,5], 4) == 3"
   ]
  }
 ],
 "metadata": {
  "kernelspec": {
   "display_name": "Python 3 (ipykernel)",
   "language": "python",
   "name": "python3"
  },
  "language_info": {
   "codemirror_mode": {
    "name": "ipython",
    "version": 3
   },
   "file_extension": ".py",
   "mimetype": "text/x-python",
   "name": "python",
   "nbconvert_exporter": "python",
   "pygments_lexer": "ipython3",
   "version": "3.9.7"
  }
 },
 "nbformat": 4,
 "nbformat_minor": 5
}
