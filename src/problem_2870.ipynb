{
 "cells": [
  {
   "cell_type": "markdown",
   "id": "bcc21a0e-dcb9-466f-9003-7f3078e3fc5c",
   "metadata": {},
   "source": [
    "[Problem 2870](https://leetcode.com/problems/minimum-number-of-operations-to-make-array-empty/description)"
   ]
  },
  {
   "cell_type": "code",
   "execution_count": 1,
   "id": "555eba97-7263-4fb9-927b-c932a2620a17",
   "metadata": {},
   "outputs": [],
   "source": [
    "from typing import List\n",
    "from collections import Counter"
   ]
  },
  {
   "cell_type": "code",
   "execution_count": 2,
   "id": "c7843139-255c-494d-a908-bcad280323af",
   "metadata": {},
   "outputs": [],
   "source": [
    "class Solution:\n",
    "    def minOperations(self, nums: List[int]) -> int:\n",
    "        cnt = Counter(Counter(nums).values())\n",
    "        res = 0\n",
    "        for k, v in cnt.items():\n",
    "          if k < 2:\n",
    "            res = -1\n",
    "            break\n",
    "          d, r = divmod(k, 3)\n",
    "          res += v * (d + (r > 0))\n",
    "        return res"
   ]
  },
  {
   "cell_type": "code",
   "execution_count": 3,
   "id": "b97f60f0-2a21-4686-8e3f-63b41bf11f27",
   "metadata": {},
   "outputs": [],
   "source": [
    "sol = Solution()"
   ]
  },
  {
   "cell_type": "code",
   "execution_count": 4,
   "id": "5558cf1d-bd97-4d6a-b419-400aca39928e",
   "metadata": {},
   "outputs": [],
   "source": [
    "assert sol.minOperations([2,3,3,2,2,4,2,3,4]) == 4"
   ]
  },
  {
   "cell_type": "code",
   "execution_count": 5,
   "id": "fbbbb379-fd9d-4f2c-b352-0e3623565c21",
   "metadata": {},
   "outputs": [],
   "source": [
    "assert sol.minOperations([2,1,2,2,3,3]) == -1"
   ]
  }
 ],
 "metadata": {
  "kernelspec": {
   "display_name": "Python 3 (ipykernel)",
   "language": "python",
   "name": "python3"
  },
  "language_info": {
   "codemirror_mode": {
    "name": "ipython",
    "version": 3
   },
   "file_extension": ".py",
   "mimetype": "text/x-python",
   "name": "python",
   "nbconvert_exporter": "python",
   "pygments_lexer": "ipython3",
   "version": "3.9.7"
  }
 },
 "nbformat": 4,
 "nbformat_minor": 5
}
