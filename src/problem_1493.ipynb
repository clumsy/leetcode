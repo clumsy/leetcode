{
 "cells": [
  {
   "cell_type": "markdown",
   "id": "c0198a42-c23c-4c65-9a50-ebe42301df27",
   "metadata": {},
   "source": [
    "[Problem 1493](https://leetcode.com/problems/longest-subarray-of-1s-after-deleting-one-element/description)"
   ]
  },
  {
   "cell_type": "code",
   "execution_count": 1,
   "id": "d2a9135f-cbfe-4d11-af81-291ded3b0979",
   "metadata": {},
   "outputs": [],
   "source": [
    "from typing import List"
   ]
  },
  {
   "cell_type": "code",
   "execution_count": 2,
   "id": "96b91527-1677-4eb4-8dab-546c00afce46",
   "metadata": {},
   "outputs": [],
   "source": [
    "class Solution:\n",
    "    def longestSubarray(self, nums: List[int]) -> int:\n",
    "        res = prev = cur = 0\n",
    "        for i, e in enumerate(nums):\n",
    "            if e == 0:\n",
    "                prev = 0 if i > 0 and nums[i - 1] == 0 else cur\n",
    "                cur = 0\n",
    "            else:\n",
    "                cur += 1\n",
    "            res = max(res, prev + cur)\n",
    "        res -= res == len(nums)\n",
    "        return res"
   ]
  },
  {
   "cell_type": "code",
   "execution_count": 3,
   "id": "bb682890-4de8-4b24-95c5-63c1d234438e",
   "metadata": {},
   "outputs": [],
   "source": [
    "sol = Solution()"
   ]
  },
  {
   "cell_type": "code",
   "execution_count": 4,
   "id": "db88b0be-6aab-4ec6-b738-b979bfbc3a1f",
   "metadata": {},
   "outputs": [],
   "source": [
    "assert sol.longestSubarray([1,1,0,1]) == 3"
   ]
  },
  {
   "cell_type": "code",
   "execution_count": 5,
   "id": "1a2ec1fe-9ec3-4bfc-86ee-27da4e8fb5bc",
   "metadata": {},
   "outputs": [],
   "source": [
    "assert sol.longestSubarray([0,1,1,1,0,1,1,0,1]) == 5"
   ]
  },
  {
   "cell_type": "code",
   "execution_count": 6,
   "id": "92e0e0ca-354a-403f-8eb9-2d154a9f8f5e",
   "metadata": {},
   "outputs": [],
   "source": [
    "assert sol.longestSubarray([1,1,1]) == 2"
   ]
  }
 ],
 "metadata": {
  "kernelspec": {
   "display_name": "Python 3 (ipykernel)",
   "language": "python",
   "name": "python3"
  },
  "language_info": {
   "codemirror_mode": {
    "name": "ipython",
    "version": 3
   },
   "file_extension": ".py",
   "mimetype": "text/x-python",
   "name": "python",
   "nbconvert_exporter": "python",
   "pygments_lexer": "ipython3",
   "version": "3.9.7"
  }
 },
 "nbformat": 4,
 "nbformat_minor": 5
}
