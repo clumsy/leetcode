{
 "cells": [
  {
   "cell_type": "markdown",
   "id": "1406a113-b88f-4a52-8933-696608e65406",
   "metadata": {},
   "source": [
    "[Problem 2965](https://leetcode.com/problems/find-missing-and-repeated-values/description)"
   ]
  },
  {
   "cell_type": "code",
   "execution_count": 1,
   "id": "6fa50af9-aa1c-49d2-bff2-c4cb07b612c5",
   "metadata": {},
   "outputs": [],
   "source": [
    "from typing import List"
   ]
  },
  {
   "cell_type": "code",
   "execution_count": 2,
   "id": "36dad21a-79a3-42e4-b375-c1f3c5aaac83",
   "metadata": {},
   "outputs": [],
   "source": [
    "class Solution:\n",
    "    def findMissingAndRepeatedValues(self, grid: List[List[int]]) -> List[int]:\n",
    "        n = len(grid)\n",
    "        b = set(range(1, n * n + 1))\n",
    "        for r in range(n):\n",
    "            for c in range(n):\n",
    "                g = grid[r][c]\n",
    "                if g not in b:\n",
    "                    a = g\n",
    "                else:\n",
    "                    b.remove(g)\n",
    "        res = [a, b.pop()]\n",
    "        return res"
   ]
  },
  {
   "cell_type": "code",
   "execution_count": 3,
   "id": "0fa738e4-93c0-4a1d-9625-655abfd9fcf1",
   "metadata": {},
   "outputs": [],
   "source": [
    "sol = Solution()"
   ]
  },
  {
   "cell_type": "code",
   "execution_count": 4,
   "id": "94e5816d-9a4d-4c03-8a50-0d216f16fb98",
   "metadata": {},
   "outputs": [],
   "source": [
    "assert sol.findMissingAndRepeatedValues([[1,3],[2,2]]) == [2,4]"
   ]
  },
  {
   "cell_type": "code",
   "execution_count": 5,
   "id": "14786d9c-5c93-4a02-b8db-8b97fb78da2f",
   "metadata": {},
   "outputs": [],
   "source": [
    "assert sol.findMissingAndRepeatedValues([[9,1,7],[8,9,2],[3,4,6]]) == [9,5]"
   ]
  }
 ],
 "metadata": {
  "kernelspec": {
   "display_name": "Python 3 (ipykernel)",
   "language": "python",
   "name": "python3"
  },
  "language_info": {
   "codemirror_mode": {
    "name": "ipython",
    "version": 3
   },
   "file_extension": ".py",
   "mimetype": "text/x-python",
   "name": "python",
   "nbconvert_exporter": "python",
   "pygments_lexer": "ipython3",
   "version": "3.9.7"
  }
 },
 "nbformat": 4,
 "nbformat_minor": 5
}
