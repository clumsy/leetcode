{
 "cells": [
  {
   "cell_type": "markdown",
   "id": "6aa8e646-bdd3-43b7-84e7-482f2325704d",
   "metadata": {},
   "source": [
    "[Problem 900](https://leetcode.com/problems/rle-iterator/description)"
   ]
  },
  {
   "cell_type": "code",
   "execution_count": 1,
   "id": "9eb4b1b7-9055-4fee-b9e6-e0d2aa81d59d",
   "metadata": {},
   "outputs": [],
   "source": [
    "from typing import List"
   ]
  },
  {
   "cell_type": "code",
   "execution_count": 2,
   "id": "d5cdf8a0-49f1-444a-b5c6-255c633302e2",
   "metadata": {},
   "outputs": [],
   "source": [
    "class RLEIterator:\n",
    "    def __init__(self, encoding: List[int]):\n",
    "        self.encoding = encoding\n",
    "        self.pos = 0\n",
    "\n",
    "    def next(self, n: int) -> int:\n",
    "        while self.pos < len(self.encoding):\n",
    "            if self.encoding[self.pos] > 0:\n",
    "                cnt = min(n, self.encoding[self.pos])\n",
    "                n -= cnt\n",
    "                self.encoding[self.pos] -= cnt\n",
    "                if n == 0:\n",
    "                    return self.encoding[self.pos + 1]\n",
    "            self.pos += 2\n",
    "        return -1"
   ]
  },
  {
   "cell_type": "code",
   "execution_count": 3,
   "id": "845cda12-9ed6-4ed1-9040-ae28eff8de27",
   "metadata": {},
   "outputs": [],
   "source": [
    "sol = RLEIterator([3, 8, 0, 9, 2, 5])\n",
    "assert sol.next(2) == 8\n",
    "assert sol.next(1) == 8\n",
    "assert sol.next(1) == 5\n",
    "assert sol.next(2) == -1"
   ]
  }
 ],
 "metadata": {
  "kernelspec": {
   "display_name": "Python 3 (ipykernel)",
   "language": "python",
   "name": "python3"
  },
  "language_info": {
   "codemirror_mode": {
    "name": "ipython",
    "version": 3
   },
   "file_extension": ".py",
   "mimetype": "text/x-python",
   "name": "python",
   "nbconvert_exporter": "python",
   "pygments_lexer": "ipython3",
   "version": "3.9.7"
  }
 },
 "nbformat": 4,
 "nbformat_minor": 5
}
