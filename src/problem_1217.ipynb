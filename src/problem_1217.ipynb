{
 "cells": [
  {
   "cell_type": "markdown",
   "id": "619940b9-8c83-4389-b938-2c003d7b812c",
   "metadata": {},
   "source": [
    "[Problem 1217](https://leetcode.com/problems/minimum-cost-to-move-chips-to-the-same-position/description)"
   ]
  },
  {
   "cell_type": "code",
   "execution_count": 2,
   "id": "0a2cc0e1-73a2-40d9-bf4e-a59b31bda686",
   "metadata": {},
   "outputs": [],
   "source": [
    "from typing import List"
   ]
  },
  {
   "cell_type": "code",
   "execution_count": 3,
   "id": "dcf42f6b-a387-41a8-8355-75a8963a87ac",
   "metadata": {},
   "outputs": [],
   "source": [
    "class Solution:\n",
    "    def minCostToMoveChips(self, position: List[int]) -> int:\n",
    "        n = len(position)\n",
    "        odd = sum(p & 1 == 1 for p in position)\n",
    "        res = min(odd, n - odd)\n",
    "        return res"
   ]
  },
  {
   "cell_type": "code",
   "execution_count": 4,
   "id": "7934e689-e8d3-4f95-a28a-e7de18053924",
   "metadata": {},
   "outputs": [],
   "source": [
    "sol = Solution()"
   ]
  },
  {
   "cell_type": "code",
   "execution_count": 5,
   "id": "545cd6cd-ee68-4787-9b33-8fef9dbde6a1",
   "metadata": {},
   "outputs": [],
   "source": [
    "assert sol.minCostToMoveChips([1,2,3]) == 1"
   ]
  },
  {
   "cell_type": "code",
   "execution_count": 6,
   "id": "8dcfe59b-b5a0-4313-85f4-e9d76545bc77",
   "metadata": {},
   "outputs": [],
   "source": [
    "assert sol.minCostToMoveChips([2,2,2,3,3]) == 2"
   ]
  },
  {
   "cell_type": "code",
   "execution_count": 7,
   "id": "ed739581-b545-424a-8071-a162ff88a23b",
   "metadata": {},
   "outputs": [],
   "source": [
    "assert sol.minCostToMoveChips([1,1000000000]) == 1"
   ]
  }
 ],
 "metadata": {
  "kernelspec": {
   "display_name": "Python 3 (ipykernel)",
   "language": "python",
   "name": "python3"
  },
  "language_info": {
   "codemirror_mode": {
    "name": "ipython",
    "version": 3
   },
   "file_extension": ".py",
   "mimetype": "text/x-python",
   "name": "python",
   "nbconvert_exporter": "python",
   "pygments_lexer": "ipython3",
   "version": "3.9.7"
  }
 },
 "nbformat": 4,
 "nbformat_minor": 5
}
