{
 "cells": [
  {
   "cell_type": "markdown",
   "id": "8d068a79-204f-434f-aac9-afab7ab454f2",
   "metadata": {},
   "source": [
    "[Problem 1337](https://leetcode.com/problems/the-k-weakest-rows-in-a-matrix/)"
   ]
  },
  {
   "cell_type": "code",
   "execution_count": 3,
   "id": "78f756bc-4058-4927-99ad-d507db034d8e",
   "metadata": {},
   "outputs": [],
   "source": [
    "from typing import List\n",
    "from heapq import *"
   ]
  },
  {
   "cell_type": "code",
   "execution_count": 17,
   "id": "23ec2a75-21f7-4d09-868d-250e0176bc65",
   "metadata": {},
   "outputs": [],
   "source": [
    "class Solution:\n",
    "    def kWeakestRows(self, mat: List[List[int]], k: int) -> List[int]:\n",
    "        def soldiers(line):\n",
    "            lo, hi = 0, len(line)\n",
    "            while lo < hi:\n",
    "                mi = lo + (hi - lo) // 2\n",
    "                if line[mi] == 0:\n",
    "                    hi = mi\n",
    "                else:\n",
    "                    lo = mi + 1\n",
    "            return lo\n",
    "        h = []\n",
    "        for i, line in enumerate(mat):\n",
    "            heappush(h, (-soldiers(line), -i))\n",
    "            if len(h) > k:\n",
    "                heappop(h)\n",
    "        res = []\n",
    "        while h:\n",
    "            res.append(-heappop(h)[1])\n",
    "        return reversed(res)"
   ]
  },
  {
   "cell_type": "code",
   "execution_count": 18,
   "id": "09ea9a53-c766-4a8d-bc56-479449a14dfe",
   "metadata": {},
   "outputs": [],
   "source": [
    "sol = Solution()"
   ]
  },
  {
   "cell_type": "code",
   "execution_count": 27,
   "id": "9e4e2828-b65c-446d-8677-cafce323e364",
   "metadata": {},
   "outputs": [],
   "source": [
    "mat = \\\n",
    "[[1,1,0,0,0],\n",
    " [1,1,1,1,0],\n",
    " [1,0,0,0,0],\n",
    " [1,1,0,0,0],\n",
    " [1,1,1,1,1]]\n",
    "assert list(sol.kWeakestRows(mat, 3)) == [2,0,3]"
   ]
  },
  {
   "cell_type": "code",
   "execution_count": 28,
   "id": "aad2b091-693e-450d-b1a7-5fae48b12fe6",
   "metadata": {},
   "outputs": [],
   "source": [
    "mat = \\\n",
    "[[1,0,0,0],\n",
    " [1,1,1,1],\n",
    " [1,0,0,0],\n",
    " [1,0,0,0]]\n",
    "assert list(sol.kWeakestRows(mat, 2)) == [0,2]"
   ]
  }
 ],
 "metadata": {
  "kernelspec": {
   "display_name": "Python 3 (ipykernel)",
   "language": "python",
   "name": "python3"
  },
  "language_info": {
   "codemirror_mode": {
    "name": "ipython",
    "version": 3
   },
   "file_extension": ".py",
   "mimetype": "text/x-python",
   "name": "python",
   "nbconvert_exporter": "python",
   "pygments_lexer": "ipython3",
   "version": "3.9.7"
  }
 },
 "nbformat": 4,
 "nbformat_minor": 5
}
