{
 "cells": [
  {
   "cell_type": "markdown",
   "id": "8984585b-e834-4f46-b232-2517bb36fc39",
   "metadata": {},
   "source": [
    "[Problem 1752](https://leetcode.com/problems/check-if-array-is-sorted-and-rotated/description)"
   ]
  },
  {
   "cell_type": "code",
   "execution_count": 1,
   "id": "6fdc3c4b-9d11-4dff-a3b4-3c8df68d051b",
   "metadata": {},
   "outputs": [],
   "source": [
    "from typing import List"
   ]
  },
  {
   "cell_type": "code",
   "execution_count": 2,
   "id": "7f3e354c-40b5-4561-9a23-cef154d6b392",
   "metadata": {},
   "outputs": [],
   "source": [
    "class Solution:\n",
    "    def check(self, nums: List[int]) -> bool:\n",
    "        n, drop, res = len(nums), 0, True\n",
    "        for i in range(n):\n",
    "            if nums[i] > nums[(i + 1) % n]:\n",
    "                drop += 1\n",
    "            if drop > 1:\n",
    "                res = False\n",
    "                break\n",
    "        return res "
   ]
  },
  {
   "cell_type": "code",
   "execution_count": 3,
   "id": "eea1389e-9181-4933-a973-26e13a2c54f4",
   "metadata": {},
   "outputs": [],
   "source": [
    "sol = Solution()"
   ]
  },
  {
   "cell_type": "code",
   "execution_count": 4,
   "id": "7c8188ff-ffa4-499c-827b-0667dae0ed4d",
   "metadata": {},
   "outputs": [],
   "source": [
    "assert sol.check([3,4,5,1,2])"
   ]
  },
  {
   "cell_type": "code",
   "execution_count": 5,
   "id": "ccd65107-d49d-4faf-a7cb-3051f4cb45f6",
   "metadata": {},
   "outputs": [],
   "source": [
    "assert not sol.check([2,1,3,4])"
   ]
  },
  {
   "cell_type": "code",
   "execution_count": 6,
   "id": "870f8869-045b-43d8-a627-0e4f2f04d9b4",
   "metadata": {},
   "outputs": [],
   "source": [
    "assert sol.check([1,2,3])"
   ]
  }
 ],
 "metadata": {
  "kernelspec": {
   "display_name": "Python 3 (ipykernel)",
   "language": "python",
   "name": "python3"
  },
  "language_info": {
   "codemirror_mode": {
    "name": "ipython",
    "version": 3
   },
   "file_extension": ".py",
   "mimetype": "text/x-python",
   "name": "python",
   "nbconvert_exporter": "python",
   "pygments_lexer": "ipython3",
   "version": "3.9.7"
  }
 },
 "nbformat": 4,
 "nbformat_minor": 5
}
