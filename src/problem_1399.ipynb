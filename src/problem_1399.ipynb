{
 "cells": [
  {
   "cell_type": "markdown",
   "id": "7ed329d1-1037-4b98-b6cf-99e37d2f57d5",
   "metadata": {},
   "source": [
    "[Problem 1399](https://leetcode.com/problems/count-largest-group/description)"
   ]
  },
  {
   "cell_type": "code",
   "execution_count": 1,
   "id": "fed5eab6-25af-410e-bc3f-8d1c7270e9b0",
   "metadata": {},
   "outputs": [],
   "source": [
    "from collections import Counter"
   ]
  },
  {
   "cell_type": "code",
   "execution_count": 2,
   "id": "ee1ef002-939a-454f-8acc-f71a49596cee",
   "metadata": {},
   "outputs": [],
   "source": [
    "class Solution:\n",
    "    def countLargestGroup(self, n: int) -> int:\n",
    "        res, ma, cnt = 0, 0, Counter()\n",
    "        for num in range(1, n + 1):\n",
    "            s = sum(int(d) for d in str(num))\n",
    "            cnt[s] = cnt.get(s, 0) + 1\n",
    "            if cnt[s] > ma:\n",
    "                res, ma = 1, cnt[s]\n",
    "            elif cnt[s] == ma:\n",
    "                res += 1\n",
    "        return res"
   ]
  },
  {
   "cell_type": "code",
   "execution_count": 3,
   "id": "be54be3f-b16c-40ab-931d-60e594c302c2",
   "metadata": {},
   "outputs": [],
   "source": [
    "sol = Solution()"
   ]
  },
  {
   "cell_type": "code",
   "execution_count": 4,
   "id": "154f138c-1254-4ba1-9929-948ce6717f30",
   "metadata": {},
   "outputs": [],
   "source": [
    "assert sol.countLargestGroup(13) == 4"
   ]
  },
  {
   "cell_type": "code",
   "execution_count": 5,
   "id": "728f3716-48c1-4e86-97da-6c04868b14fd",
   "metadata": {},
   "outputs": [],
   "source": [
    "assert sol.countLargestGroup(2) == 2"
   ]
  }
 ],
 "metadata": {
  "kernelspec": {
   "display_name": "Python 3 (ipykernel)",
   "language": "python",
   "name": "python3"
  },
  "language_info": {
   "codemirror_mode": {
    "name": "ipython",
    "version": 3
   },
   "file_extension": ".py",
   "mimetype": "text/x-python",
   "name": "python",
   "nbconvert_exporter": "python",
   "pygments_lexer": "ipython3",
   "version": "3.9.7"
  }
 },
 "nbformat": 4,
 "nbformat_minor": 5
}
