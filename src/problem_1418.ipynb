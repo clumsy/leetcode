{
 "cells": [
  {
   "cell_type": "markdown",
   "id": "44a0ae2b-37af-4c85-b83c-44bfaf2e37dd",
   "metadata": {},
   "source": [
    "[Problem 1418](https://leetcode.com/problems/display-table-of-food-orders-in-a-restaurant/description)"
   ]
  },
  {
   "cell_type": "code",
   "execution_count": 7,
   "id": "2848d5bc-661e-4ceb-95e3-dd9e32badf3e",
   "metadata": {},
   "outputs": [],
   "source": [
    "from typing import List\n",
    "from collections import defaultdict, Counter"
   ]
  },
  {
   "cell_type": "code",
   "execution_count": 8,
   "id": "94055375-4fe6-4d22-9917-bd5805f6135e",
   "metadata": {},
   "outputs": [],
   "source": [
    "class Solution:\n",
    "    def displayTable(self, orders: List[List[str]]) -> List[List[str]]:\n",
    "        tables, foods = defaultdict(Counter), set()\n",
    "        for _, t, f in orders:\n",
    "            tables[int(t)][f] += 1\n",
    "            foods.add(f)\n",
    "        res = [[\"Table\"] + sorted(foods)]\n",
    "        for t in sorted(tables.keys()):\n",
    "            res.append([str(t)] + [str(tables[t][f]) for f in res[0][1:]])\n",
    "        return res"
   ]
  },
  {
   "cell_type": "code",
   "execution_count": 9,
   "id": "662236ea-743a-4e6a-a8e2-50f79835435a",
   "metadata": {},
   "outputs": [],
   "source": [
    "sol = Solution()"
   ]
  },
  {
   "cell_type": "code",
   "execution_count": 10,
   "id": "20d9fd01-06bf-4bee-8733-a16be9b63c66",
   "metadata": {},
   "outputs": [],
   "source": [
    "assert sol.displayTable([[\"David\",\"3\",\"Ceviche\"],[\"Corina\",\"10\",\"Beef Burrito\"],[\"David\",\"3\",\"Fried Chicken\"],[\"Carla\",\"5\",\"Water\"],[\"Carla\",\"5\",\"Ceviche\"],[\"Rous\",\"3\",\"Ceviche\"]]) == [[\"Table\",\"Beef Burrito\",\"Ceviche\",\"Fried Chicken\",\"Water\"],[\"3\",\"0\",\"2\",\"1\",\"0\"],[\"5\",\"0\",\"1\",\"0\",\"1\"],[\"10\",\"1\",\"0\",\"0\",\"0\"]]"
   ]
  },
  {
   "cell_type": "code",
   "execution_count": 11,
   "id": "34cce143-8f0a-4ac0-a5f3-dd591341a785",
   "metadata": {},
   "outputs": [],
   "source": [
    "assert sol.displayTable([[\"James\",\"12\",\"Fried Chicken\"],[\"Ratesh\",\"12\",\"Fried Chicken\"],[\"Amadeus\",\"12\",\"Fried Chicken\"],[\"Adam\",\"1\",\"Canadian Waffles\"],[\"Brianna\",\"1\",\"Canadian Waffles\"]]) == [[\"Table\",\"Canadian Waffles\",\"Fried Chicken\"],[\"1\",\"2\",\"0\"],[\"12\",\"0\",\"3\"]]"
   ]
  },
  {
   "cell_type": "code",
   "execution_count": 12,
   "id": "06aa8a8e-9f1f-47ea-8c99-f69428f76539",
   "metadata": {},
   "outputs": [],
   "source": [
    "assert sol.displayTable([[\"Laura\",\"2\",\"Bean Burrito\"],[\"Jhon\",\"2\",\"Beef Burrito\"],[\"Melissa\",\"2\",\"Soda\"]]) == [[\"Table\",\"Bean Burrito\",\"Beef Burrito\",\"Soda\"],[\"2\",\"1\",\"1\",\"1\"]]"
   ]
  }
 ],
 "metadata": {
  "kernelspec": {
   "display_name": "Python 3 (ipykernel)",
   "language": "python",
   "name": "python3"
  },
  "language_info": {
   "codemirror_mode": {
    "name": "ipython",
    "version": 3
   },
   "file_extension": ".py",
   "mimetype": "text/x-python",
   "name": "python",
   "nbconvert_exporter": "python",
   "pygments_lexer": "ipython3",
   "version": "3.9.7"
  }
 },
 "nbformat": 4,
 "nbformat_minor": 5
}
