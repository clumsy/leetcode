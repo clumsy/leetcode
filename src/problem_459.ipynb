{
 "cells": [
  {
   "cell_type": "markdown",
   "id": "d82f4b76-82ac-43ed-bc70-ef338142f174",
   "metadata": {},
   "source": [
    "[Problem 459](https://leetcode.com/problems/repeated-substring-pattern/description)"
   ]
  },
  {
   "cell_type": "code",
   "execution_count": 1,
   "id": "b50389f8-8e3c-4332-887d-f5d13361a99d",
   "metadata": {},
   "outputs": [],
   "source": [
    "class Solution:\n",
    "    def repeatedSubstringPattern(self, s: str) -> bool:\n",
    "        # Pattern -> atternPatternPatternPattern\n",
    "        # if Pattern is repeated - then it at least has 2 occurences => 4 in concatenation with self\n",
    "        # croping from both ends - then there should be at least 2 occurences\n",
    "        res = s in (s + s)[1:-1]\n",
    "        return res"
   ]
  },
  {
   "cell_type": "code",
   "execution_count": 2,
   "id": "ef8e0569-b161-498d-9a22-2d87d2147632",
   "metadata": {},
   "outputs": [],
   "source": [
    "sol = Solution()"
   ]
  },
  {
   "cell_type": "code",
   "execution_count": 3,
   "id": "0ff78b22-e954-4ce7-b9de-7cc09b7ce345",
   "metadata": {},
   "outputs": [],
   "source": [
    "assert sol.repeatedSubstringPattern(\"abab\")"
   ]
  },
  {
   "cell_type": "code",
   "execution_count": 4,
   "id": "d6812854-917d-4531-8818-4e40558e191f",
   "metadata": {},
   "outputs": [],
   "source": [
    "assert not sol.repeatedSubstringPattern(\"aba\")"
   ]
  },
  {
   "cell_type": "code",
   "execution_count": 5,
   "id": "795fb031-04b3-4cd4-9336-8424d86bd2e9",
   "metadata": {},
   "outputs": [],
   "source": [
    "assert sol.repeatedSubstringPattern(\"abcabcabcabc\")"
   ]
  }
 ],
 "metadata": {
  "kernelspec": {
   "display_name": "Python 3 (ipykernel)",
   "language": "python",
   "name": "python3"
  },
  "language_info": {
   "codemirror_mode": {
    "name": "ipython",
    "version": 3
   },
   "file_extension": ".py",
   "mimetype": "text/x-python",
   "name": "python",
   "nbconvert_exporter": "python",
   "pygments_lexer": "ipython3",
   "version": "3.9.7"
  }
 },
 "nbformat": 4,
 "nbformat_minor": 5
}
