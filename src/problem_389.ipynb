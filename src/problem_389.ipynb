{
 "cells": [
  {
   "cell_type": "markdown",
   "id": "fc369a94-b9d6-4741-af4d-e50718164daf",
   "metadata": {},
   "source": [
    "[Problem 389](https://leetcode.com/problems/find-the-difference/description)"
   ]
  },
  {
   "cell_type": "code",
   "execution_count": 4,
   "id": "e268e239-6eba-4c64-b6bc-0b05ffd72e6e",
   "metadata": {},
   "outputs": [],
   "source": [
    "from collections import Counter"
   ]
  },
  {
   "cell_type": "code",
   "execution_count": 5,
   "id": "39645774-c2a5-404b-90ce-e9c9b6a91ddf",
   "metadata": {},
   "outputs": [],
   "source": [
    "class Solution:\n",
    "    def findTheDifference(self, s: str, t: str) -> str:\n",
    "        res = (Counter(t) - Counter(s)).most_common(1)[0][0]\n",
    "        return res"
   ]
  },
  {
   "cell_type": "code",
   "execution_count": 6,
   "id": "514785aa-cf78-4742-a37f-865c575db967",
   "metadata": {},
   "outputs": [],
   "source": [
    "sol = Solution()"
   ]
  },
  {
   "cell_type": "code",
   "execution_count": 7,
   "id": "a26696ec-c379-462e-a263-5ede409c3dd6",
   "metadata": {},
   "outputs": [],
   "source": [
    "assert sol.findTheDifference(\"abcd\", \"abcde\") == \"e\""
   ]
  },
  {
   "cell_type": "code",
   "execution_count": 8,
   "id": "602a5214-a92d-4872-bcd7-e22e85450e24",
   "metadata": {},
   "outputs": [],
   "source": [
    "assert sol.findTheDifference(\"\", \"y\") == \"y\""
   ]
  }
 ],
 "metadata": {
  "kernelspec": {
   "display_name": "Python 3 (ipykernel)",
   "language": "python",
   "name": "python3"
  },
  "language_info": {
   "codemirror_mode": {
    "name": "ipython",
    "version": 3
   },
   "file_extension": ".py",
   "mimetype": "text/x-python",
   "name": "python",
   "nbconvert_exporter": "python",
   "pygments_lexer": "ipython3",
   "version": "3.9.7"
  }
 },
 "nbformat": 4,
 "nbformat_minor": 5
}
