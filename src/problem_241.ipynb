{
 "cells": [
  {
   "cell_type": "markdown",
   "id": "c533c546-1dbc-4050-8c66-2f4995e8b900",
   "metadata": {},
   "source": [
    "[Problem 241](https://leetcode.com/problems/different-ways-to-add-parentheses/description)"
   ]
  },
  {
   "cell_type": "code",
   "execution_count": 1,
   "id": "771afb98-383e-47cb-bd11-733814759c14",
   "metadata": {},
   "outputs": [],
   "source": [
    "from typing import List\n",
    "import operator"
   ]
  },
  {
   "cell_type": "code",
   "execution_count": 2,
   "id": "bd48524b-7d5e-4180-ba3e-4ab505d0aac0",
   "metadata": {},
   "outputs": [],
   "source": [
    "class Solution:\n",
    "    def diffWaysToCompute(self, e: str) -> List[int]:\n",
    "        res = []\n",
    "        for i, c in enumerate(e):\n",
    "            if c not in [\"+\", \"-\", \"*\"]:\n",
    "                continue\n",
    "            if c == \"+\":\n",
    "                op = operator.__add__\n",
    "            if c == \"-\":\n",
    "                op = operator.__sub__\n",
    "            if c == \"*\":\n",
    "                op = operator.__mul__\n",
    "            lft = self.diffWaysToCompute(e[:i])\n",
    "            rgt = self.diffWaysToCompute(e[i + 1:])\n",
    "            for l in lft:\n",
    "                for r in rgt:\n",
    "                    res.append(op(l, r))\n",
    "        if not res and e:\n",
    "            res.append(int(e))\n",
    "        return res"
   ]
  },
  {
   "cell_type": "code",
   "execution_count": 3,
   "id": "4fd4ec59-79c8-44f5-aea9-0c3a53ae1d91",
   "metadata": {},
   "outputs": [],
   "source": [
    "sol = Solution()"
   ]
  },
  {
   "cell_type": "code",
   "execution_count": 4,
   "id": "6b3a9741-5e98-48ce-8604-aa54c014bf9c",
   "metadata": {},
   "outputs": [],
   "source": [
    "assert sol.diffWaysToCompute(\"2-1-1\") == [2, 0]"
   ]
  },
  {
   "cell_type": "code",
   "execution_count": 5,
   "id": "5b553ee4-e269-4397-83fe-af6fb7465b41",
   "metadata": {},
   "outputs": [],
   "source": [
    "assert sol.diffWaysToCompute(\"2*3-4*5\") == [-34, -10, -14, -10, 10]"
   ]
  }
 ],
 "metadata": {
  "kernelspec": {
   "display_name": "Python 3 (ipykernel)",
   "language": "python",
   "name": "python3"
  },
  "language_info": {
   "codemirror_mode": {
    "name": "ipython",
    "version": 3
   },
   "file_extension": ".py",
   "mimetype": "text/x-python",
   "name": "python",
   "nbconvert_exporter": "python",
   "pygments_lexer": "ipython3",
   "version": "3.9.7"
  }
 },
 "nbformat": 4,
 "nbformat_minor": 5
}
