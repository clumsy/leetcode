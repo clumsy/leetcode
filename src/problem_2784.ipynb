{
 "cells": [
  {
   "cell_type": "markdown",
   "id": "ce158f30-94b5-44e3-ad81-6a39c76461ec",
   "metadata": {},
   "source": [
    "[Problem 2784](https://leetcode.com/problems/check-if-array-is-good/description)"
   ]
  },
  {
   "cell_type": "code",
   "execution_count": 1,
   "id": "11005e76-9a48-4d85-8c4a-924e5fb74eef",
   "metadata": {},
   "outputs": [],
   "source": [
    "from typing import List\n",
    "from collections import Counter"
   ]
  },
  {
   "cell_type": "code",
   "execution_count": 2,
   "id": "c1acec25-c3ec-4e4b-90a1-56a077bae71f",
   "metadata": {},
   "outputs": [],
   "source": [
    "class Solution:\n",
    "    def isGood(self, nums: List[int]) -> bool:\n",
    "        cnt, n = Counter(nums), len(nums) - 1\n",
    "        res = all(cnt[i] == 1 for i in range(1, n)) and cnt[n] == 2\n",
    "        return res"
   ]
  },
  {
   "cell_type": "code",
   "execution_count": 3,
   "id": "9b35c29a-53c4-47ac-8fcd-1d835f48a452",
   "metadata": {},
   "outputs": [],
   "source": [
    "sol = Solution()"
   ]
  },
  {
   "cell_type": "code",
   "execution_count": 4,
   "id": "9d348e4b-0848-4ed2-9511-00ac565b6ea6",
   "metadata": {},
   "outputs": [],
   "source": [
    "assert not sol.isGood([2,1,3])"
   ]
  },
  {
   "cell_type": "code",
   "execution_count": 5,
   "id": "d21811a7-4cc6-40dd-a5d4-2244812acde2",
   "metadata": {},
   "outputs": [],
   "source": [
    "assert sol.isGood([1,3,3,2])"
   ]
  },
  {
   "cell_type": "code",
   "execution_count": 6,
   "id": "a356dad1-632b-47f6-a3cf-4994a0eaf3a7",
   "metadata": {},
   "outputs": [],
   "source": [
    "assert sol.isGood([1,1])"
   ]
  },
  {
   "cell_type": "code",
   "execution_count": 7,
   "id": "dd3b74a1-6f1b-40f7-b20a-a6f346faa606",
   "metadata": {},
   "outputs": [],
   "source": [
    "assert not sol.isGood([3,4,4,1,2,1])"
   ]
  }
 ],
 "metadata": {
  "kernelspec": {
   "display_name": "Python 3 (ipykernel)",
   "language": "python",
   "name": "python3"
  },
  "language_info": {
   "codemirror_mode": {
    "name": "ipython",
    "version": 3
   },
   "file_extension": ".py",
   "mimetype": "text/x-python",
   "name": "python",
   "nbconvert_exporter": "python",
   "pygments_lexer": "ipython3",
   "version": "3.9.7"
  }
 },
 "nbformat": 4,
 "nbformat_minor": 5
}
