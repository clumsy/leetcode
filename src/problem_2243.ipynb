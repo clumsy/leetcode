{
 "cells": [
  {
   "cell_type": "markdown",
   "id": "d028f210-ddd0-4503-abe3-a6cf57eb222c",
   "metadata": {},
   "source": [
    "[Problem 2243](https://leetcode.com/problems/calculate-digit-sum-of-a-string/description)"
   ]
  },
  {
   "cell_type": "code",
   "execution_count": 1,
   "id": "05556cf0-3226-4457-85cc-dd8708182f81",
   "metadata": {},
   "outputs": [],
   "source": [
    "class Solution:\n",
    "    def digitSum(self, s: str, k: int) -> str:\n",
    "        def round(s):\n",
    "            return \"\".join(str(sum(int(d) for d in i)) for i in [s[j : min(j + k, len(s))] for j in range(0, len(s), k)])\n",
    "\n",
    "        while len(s) > k:\n",
    "            s = round(s)\n",
    "        return s"
   ]
  },
  {
   "cell_type": "code",
   "execution_count": 2,
   "id": "f4f015a9-614c-4f3a-84b5-fee4582cb956",
   "metadata": {},
   "outputs": [],
   "source": [
    "sol = Solution()"
   ]
  },
  {
   "cell_type": "code",
   "execution_count": 3,
   "id": "fcac56d3-d5e4-44dc-ac6c-5eb2fcf4fc80",
   "metadata": {},
   "outputs": [],
   "source": [
    "assert sol.digitSum(\"11111222223\", 3) == \"135\""
   ]
  },
  {
   "cell_type": "code",
   "execution_count": 4,
   "id": "bbee187c-e929-4e72-8d9d-c9baab0cc733",
   "metadata": {},
   "outputs": [],
   "source": [
    "assert sol.digitSum(\"00000000\", 3) == \"000\""
   ]
  }
 ],
 "metadata": {
  "kernelspec": {
   "display_name": "Python 3 (ipykernel)",
   "language": "python",
   "name": "python3"
  },
  "language_info": {
   "codemirror_mode": {
    "name": "ipython",
    "version": 3
   },
   "file_extension": ".py",
   "mimetype": "text/x-python",
   "name": "python",
   "nbconvert_exporter": "python",
   "pygments_lexer": "ipython3",
   "version": "3.9.7"
  }
 },
 "nbformat": 4,
 "nbformat_minor": 5
}
