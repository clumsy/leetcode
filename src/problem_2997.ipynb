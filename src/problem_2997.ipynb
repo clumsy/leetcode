{
 "cells": [
  {
   "cell_type": "markdown",
   "id": "55b80bb9-fb3e-4863-98c9-e6cb527c13ef",
   "metadata": {},
   "source": [
    "[Problem 2997](https://leetcode.com/problems/minimum-number-of-operations-to-make-array-xor-equal-to-k/description)"
   ]
  },
  {
   "cell_type": "code",
   "execution_count": 1,
   "id": "f8cdd0ed-3ad0-4abf-a8f5-3bed35de6e6a",
   "metadata": {},
   "outputs": [],
   "source": [
    "from typing import List\n",
    "from operator import xor\n",
    "from functools import reduce"
   ]
  },
  {
   "cell_type": "code",
   "execution_count": 2,
   "id": "b9870ee5-13e0-4670-9954-b93fd32e8dc2",
   "metadata": {},
   "outputs": [],
   "source": [
    "class Solution:\n",
    "    def minOperations(self, nums: List[int], k: int) -> int:\n",
    "        xr = (reduce(xor, nums) ^ k)\n",
    "        res = 0\n",
    "        while xr > 0:\n",
    "            xr -= xr & -xr\n",
    "            res += 1\n",
    "        return res"
   ]
  },
  {
   "cell_type": "code",
   "execution_count": 3,
   "id": "1fae3d38-6181-4bb3-9b65-0c81385c9cb4",
   "metadata": {},
   "outputs": [],
   "source": [
    "sol = Solution()"
   ]
  },
  {
   "cell_type": "code",
   "execution_count": 4,
   "id": "518b4998-84b5-403a-b309-95b5e4536985",
   "metadata": {},
   "outputs": [],
   "source": [
    "assert sol.minOperations([2,1,3,4], 1) == 2"
   ]
  },
  {
   "cell_type": "code",
   "execution_count": 5,
   "id": "951a1bb9-ddf7-4152-ae97-0b132a6bdc7f",
   "metadata": {},
   "outputs": [],
   "source": [
    "assert sol.minOperations([2,1,3,4], 1) == 2"
   ]
  }
 ],
 "metadata": {
  "kernelspec": {
   "display_name": "Python 3 (ipykernel)",
   "language": "python",
   "name": "python3"
  },
  "language_info": {
   "codemirror_mode": {
    "name": "ipython",
    "version": 3
   },
   "file_extension": ".py",
   "mimetype": "text/x-python",
   "name": "python",
   "nbconvert_exporter": "python",
   "pygments_lexer": "ipython3",
   "version": "3.9.7"
  }
 },
 "nbformat": 4,
 "nbformat_minor": 5
}
