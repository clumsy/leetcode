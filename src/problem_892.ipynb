{
 "cells": [
  {
   "cell_type": "markdown",
   "id": "12741320-b0a6-448a-a4b2-9b9cc3f4787c",
   "metadata": {},
   "source": [
    "[Problem 892](https://leetcode.com/problems/surface-area-of-3d-shapes/description)"
   ]
  },
  {
   "cell_type": "code",
   "execution_count": 1,
   "id": "42416c31-b4cc-455f-90d3-6a77c8caff1d",
   "metadata": {},
   "outputs": [],
   "source": [
    "from typing import List"
   ]
  },
  {
   "cell_type": "code",
   "execution_count": 2,
   "id": "924631d1-94ed-4a26-b8f5-75118cf7953b",
   "metadata": {},
   "outputs": [],
   "source": [
    "class Solution:\n",
    "    def surfaceArea(self, grid: List[List[int]]) -> int:\n",
    "        n, res = len(grid), 0\n",
    "        for r in range(n):\n",
    "            for c in range(n):\n",
    "                res += 2 * (grid[r][c] > 0)  # top and bottom surfaces\n",
    "\n",
    "                # top side surface\n",
    "                res += max(0, grid[r][c] - grid[r - 1][c] * (r != 0))\n",
    "\n",
    "                # right side surface\n",
    "                res += max(0, grid[r][c] - grid[(r + 1) % n][c] * (r != n - 1))\n",
    "\n",
    "                # left side surface\n",
    "                res += max(0, grid[r][c] - grid[r][c - 1] * (c != 0))\n",
    "\n",
    "                # bottom side surface\n",
    "                res += max(0, grid[r][c] - grid[r][(c + 1) % n] * (c != n - 1))\n",
    "        return res"
   ]
  },
  {
   "cell_type": "code",
   "execution_count": 3,
   "id": "f685013e-e209-4207-9f9a-3ed1866b1464",
   "metadata": {},
   "outputs": [],
   "source": [
    "sol = Solution()"
   ]
  },
  {
   "cell_type": "code",
   "execution_count": 4,
   "id": "3a632a92-d433-41ea-8b16-eb4cc2c70ab4",
   "metadata": {},
   "outputs": [],
   "source": [
    "assert sol.surfaceArea([[1,2],[3,4]]) == 34"
   ]
  },
  {
   "cell_type": "code",
   "execution_count": 5,
   "id": "836bbdfe-5b70-4865-a7ba-c59c2fe5f969",
   "metadata": {},
   "outputs": [],
   "source": [
    "assert sol.surfaceArea([[1,1,1],[1,0,1],[1,1,1]]) == 32"
   ]
  },
  {
   "cell_type": "code",
   "execution_count": 6,
   "id": "d0d35539-b3df-47df-bb00-e6d58c3baf9a",
   "metadata": {},
   "outputs": [],
   "source": [
    "assert sol.surfaceArea([[2,2,2],[2,1,2],[2,2,2]]) == 46"
   ]
  }
 ],
 "metadata": {
  "kernelspec": {
   "display_name": "Python 3 (ipykernel)",
   "language": "python",
   "name": "python3"
  },
  "language_info": {
   "codemirror_mode": {
    "name": "ipython",
    "version": 3
   },
   "file_extension": ".py",
   "mimetype": "text/x-python",
   "name": "python",
   "nbconvert_exporter": "python",
   "pygments_lexer": "ipython3",
   "version": "3.9.7"
  }
 },
 "nbformat": 4,
 "nbformat_minor": 5
}
