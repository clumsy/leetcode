{
 "cells": [
  {
   "cell_type": "markdown",
   "id": "44fdd337-9c28-49cb-8511-5b4d65f2bea5",
   "metadata": {},
   "source": [
    "[Problem 1725](https://leetcode.com/problems/number-of-rectangles-that-can-form-the-largest-square/description)"
   ]
  },
  {
   "cell_type": "code",
   "execution_count": 1,
   "id": "839fceef-f3e6-4f29-b018-26c049c76718",
   "metadata": {},
   "outputs": [],
   "source": [
    "from typing import List"
   ]
  },
  {
   "cell_type": "code",
   "execution_count": 2,
   "id": "8add7a1c-e0e0-4ead-a412-7cf111caa89f",
   "metadata": {},
   "outputs": [],
   "source": [
    "class Solution:\n",
    "    def countGoodRectangles(self, rectangles: List[List[int]]) -> int:\n",
    "        res = ma = 0\n",
    "        for l, w in rectangles:\n",
    "            mi = min(l, w)\n",
    "            if mi > ma:\n",
    "                res, ma = 0, mi\n",
    "            res += mi == ma\n",
    "        return res"
   ]
  },
  {
   "cell_type": "code",
   "execution_count": 3,
   "id": "1547026a-bca7-471e-a769-b3ae9b61dfe7",
   "metadata": {},
   "outputs": [],
   "source": [
    "sol = Solution()"
   ]
  },
  {
   "cell_type": "code",
   "execution_count": 4,
   "id": "7281c342-ef82-4c0c-964a-bfe5b87e7c85",
   "metadata": {},
   "outputs": [],
   "source": [
    "assert sol.countGoodRectangles([[5,8],[3,9],[5,12],[16,5]]) == 3"
   ]
  },
  {
   "cell_type": "code",
   "execution_count": 5,
   "id": "d0153734-472c-4302-9f14-d03192a888ea",
   "metadata": {},
   "outputs": [],
   "source": [
    "assert sol.countGoodRectangles([[2,3],[3,7],[4,3],[3,7]]) == 3"
   ]
  }
 ],
 "metadata": {
  "kernelspec": {
   "display_name": "Python 3 (ipykernel)",
   "language": "python",
   "name": "python3"
  },
  "language_info": {
   "codemirror_mode": {
    "name": "ipython",
    "version": 3
   },
   "file_extension": ".py",
   "mimetype": "text/x-python",
   "name": "python",
   "nbconvert_exporter": "python",
   "pygments_lexer": "ipython3",
   "version": "3.9.7"
  }
 },
 "nbformat": 4,
 "nbformat_minor": 5
}
