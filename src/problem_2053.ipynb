{
 "cells": [
  {
   "cell_type": "markdown",
   "id": "ada0cd13-1f9c-4e63-a160-3fe73c83b744",
   "metadata": {},
   "source": [
    "[Problem 2053](https://leetcode.com/problems/kth-distinct-string-in-an-array/description)"
   ]
  },
  {
   "cell_type": "code",
   "execution_count": 5,
   "id": "174d38f6-840c-4ac9-a929-15d0b26a35fe",
   "metadata": {},
   "outputs": [],
   "source": [
    "from typing import List\n",
    "from collections import Counter"
   ]
  },
  {
   "cell_type": "code",
   "execution_count": 6,
   "id": "0ba2621b-5c96-4a8c-9e77-8c363f2c85ac",
   "metadata": {},
   "outputs": [],
   "source": [
    "class Solution:\n",
    "    def kthDistinct(self, arr: List[str], k: int) -> str:\n",
    "        c = Counter(arr)\n",
    "        for i in arr:\n",
    "            k -= c[i] == 1\n",
    "            if k == 0:\n",
    "                return i\n",
    "        return \"\""
   ]
  },
  {
   "cell_type": "code",
   "execution_count": 7,
   "id": "182d497c-b048-486c-bb21-b844b3a80d3e",
   "metadata": {},
   "outputs": [],
   "source": [
    "sol = Solution()"
   ]
  },
  {
   "cell_type": "code",
   "execution_count": 8,
   "id": "426b7c6b-6fb4-4ab1-a8f4-8aea91ad088d",
   "metadata": {},
   "outputs": [],
   "source": [
    "assert sol.kthDistinct([\"d\",\"b\",\"c\",\"b\",\"c\",\"a\"], 2) == \"a\""
   ]
  },
  {
   "cell_type": "code",
   "execution_count": 9,
   "id": "6109f694-b6e4-4945-aafb-e732f937ff2c",
   "metadata": {},
   "outputs": [],
   "source": [
    "assert sol.kthDistinct([\"aaa\",\"aa\",\"a\"], 1) == \"aaa\""
   ]
  },
  {
   "cell_type": "code",
   "execution_count": 10,
   "id": "3b3111c7-23dc-4813-8697-3c28f004d0fd",
   "metadata": {},
   "outputs": [],
   "source": [
    "assert sol.kthDistinct([\"a\",\"b\",\"a\"], 3) == \"\""
   ]
  }
 ],
 "metadata": {
  "kernelspec": {
   "display_name": "Python 3 (ipykernel)",
   "language": "python",
   "name": "python3"
  },
  "language_info": {
   "codemirror_mode": {
    "name": "ipython",
    "version": 3
   },
   "file_extension": ".py",
   "mimetype": "text/x-python",
   "name": "python",
   "nbconvert_exporter": "python",
   "pygments_lexer": "ipython3",
   "version": "3.9.7"
  }
 },
 "nbformat": 4,
 "nbformat_minor": 5
}
