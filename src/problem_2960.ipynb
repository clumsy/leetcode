{
 "cells": [
  {
   "cell_type": "markdown",
   "id": "0900ac73-aab6-4cc1-8c5a-9e77b8ef5da0",
   "metadata": {},
   "source": [
    "[Problem 2960](https://leetcode.com/problems/count-tested-devices-after-test-operations/description)"
   ]
  },
  {
   "cell_type": "code",
   "execution_count": 1,
   "id": "9f74f07b-9840-438a-ba17-515431296c8f",
   "metadata": {},
   "outputs": [],
   "source": [
    "from typing import List"
   ]
  },
  {
   "cell_type": "code",
   "execution_count": 2,
   "id": "2dbf40a2-26a7-4bd9-bc80-a0ef5fd541c9",
   "metadata": {},
   "outputs": [],
   "source": [
    "class Solution:\n",
    "    def countTestedDevices(self, b: List[int]) -> int:\n",
    "        res = 0\n",
    "        for i in b:\n",
    "            if i > res:\n",
    "                res += 1\n",
    "        return res"
   ]
  },
  {
   "cell_type": "code",
   "execution_count": 3,
   "id": "0a1fd71e-3863-453a-8134-a166033a72f0",
   "metadata": {},
   "outputs": [],
   "source": [
    "sol = Solution()"
   ]
  },
  {
   "cell_type": "code",
   "execution_count": 4,
   "id": "ef2bda8e-3ab9-4893-afb0-5fd953203a51",
   "metadata": {},
   "outputs": [],
   "source": [
    "assert sol.countTestedDevices([1,1,2,1,3]) == 3"
   ]
  },
  {
   "cell_type": "code",
   "execution_count": 5,
   "id": "eeb5ac36-436b-4be5-be2a-811b43408d30",
   "metadata": {},
   "outputs": [],
   "source": [
    "assert sol.countTestedDevices([0,1,2]) == 2"
   ]
  }
 ],
 "metadata": {
  "kernelspec": {
   "display_name": "Python 3 (ipykernel)",
   "language": "python",
   "name": "python3"
  },
  "language_info": {
   "codemirror_mode": {
    "name": "ipython",
    "version": 3
   },
   "file_extension": ".py",
   "mimetype": "text/x-python",
   "name": "python",
   "nbconvert_exporter": "python",
   "pygments_lexer": "ipython3",
   "version": "3.9.7"
  }
 },
 "nbformat": 4,
 "nbformat_minor": 5
}
