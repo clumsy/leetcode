{
 "cells": [
  {
   "cell_type": "markdown",
   "id": "0919b01f-54ac-4414-af6a-fae6b329f77d",
   "metadata": {},
   "source": [
    "[Problem 1550](https://leetcode.com/problems/three-consecutive-odds/description)"
   ]
  },
  {
   "cell_type": "code",
   "execution_count": 1,
   "id": "02b16963-1855-4c52-a068-c8c03b344fcd",
   "metadata": {},
   "outputs": [],
   "source": [
    "from typing import List"
   ]
  },
  {
   "cell_type": "code",
   "execution_count": 2,
   "id": "b963238a-67df-4395-a588-be8891739f7f",
   "metadata": {},
   "outputs": [],
   "source": [
    "class Solution:\n",
    "    def threeConsecutiveOdds(self, arr: List[int]) -> bool:\n",
    "        res, cur = False, 0\n",
    "        for i in arr:\n",
    "            if i & 1 == 0:\n",
    "                cur = 0\n",
    "                continue\n",
    "            cur += 1\n",
    "            if cur == 3:\n",
    "                res = True\n",
    "                break\n",
    "        return res"
   ]
  },
  {
   "cell_type": "code",
   "execution_count": 3,
   "id": "8c231b14-5d98-4391-81e1-edf67e30dd9e",
   "metadata": {},
   "outputs": [],
   "source": [
    "sol = Solution()"
   ]
  },
  {
   "cell_type": "code",
   "execution_count": 4,
   "id": "57621e79-1bc7-4164-ad24-89fab2685b2d",
   "metadata": {},
   "outputs": [],
   "source": [
    "assert not sol.threeConsecutiveOdds([2,6,4,1])"
   ]
  },
  {
   "cell_type": "code",
   "execution_count": 5,
   "id": "fc4e33f9-f8a5-44b3-8a1a-03fc414dfa6e",
   "metadata": {},
   "outputs": [],
   "source": [
    "assert sol.threeConsecutiveOdds([1,2,34,3,4,5,7,23,12])"
   ]
  }
 ],
 "metadata": {
  "kernelspec": {
   "display_name": "Python 3 (ipykernel)",
   "language": "python",
   "name": "python3"
  },
  "language_info": {
   "codemirror_mode": {
    "name": "ipython",
    "version": 3
   },
   "file_extension": ".py",
   "mimetype": "text/x-python",
   "name": "python",
   "nbconvert_exporter": "python",
   "pygments_lexer": "ipython3",
   "version": "3.9.7"
  }
 },
 "nbformat": 4,
 "nbformat_minor": 5
}
