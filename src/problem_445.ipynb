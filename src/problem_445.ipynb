{
 "cells": [
  {
   "cell_type": "markdown",
   "id": "ca64a68f-ecb4-4bb1-ad7e-32fe0c49dcd6",
   "metadata": {},
   "source": [
    "[Problem 445](https://leetcode.com/problems/add-two-numbers-ii/description)"
   ]
  },
  {
   "cell_type": "code",
   "execution_count": 1,
   "id": "2555ed6a-1d66-4488-a2a3-aabe4f798354",
   "metadata": {},
   "outputs": [],
   "source": [
    "from typing import Optional"
   ]
  },
  {
   "cell_type": "code",
   "execution_count": 5,
   "id": "becc3e9c-d001-4751-82b2-efbe52c65e5c",
   "metadata": {},
   "outputs": [],
   "source": [
    "# Definition for singly-linked list.\n",
    "class ListNode:\n",
    "    def __init__(self, val=0, next=None):\n",
    "        self.val = val\n",
    "        self.next = next\n",
    "    def __eq__(self, other):\n",
    "        return self.val == other.val and self.next == other.next"
   ]
  },
  {
   "cell_type": "code",
   "execution_count": 4,
   "id": "5a7d4d85-8520-4e86-bdba-ccaff2f023fe",
   "metadata": {},
   "outputs": [],
   "source": [
    "class Solution:\n",
    "    def addTwoNumbers(self, l1: Optional[ListNode], l2: Optional[ListNode]) -> Optional[ListNode]:\n",
    "        def reverse(lst):\n",
    "            prev, cur = None, lst\n",
    "            while cur is not None:\n",
    "                nxt, cur.next, prev = cur.next, prev, cur\n",
    "                cur = nxt\n",
    "            return prev\n",
    "        l1, l2 = reverse(l1), reverse(l2)\n",
    "        res, carry = l1, 0\n",
    "        while carry or l1 or l2:\n",
    "            carry, l1.val = divmod(l1.val + (l2.val if l2 else 0) + carry, 10)\n",
    "            if not l1.next and ((l2 and l2.next) or carry):\n",
    "                l1.next = ListNode(0)\n",
    "            l1, l2 = l1.next, l2.next if l2 else None\n",
    "        res = reverse(res)\n",
    "        return res"
   ]
  },
  {
   "cell_type": "code",
   "execution_count": 12,
   "id": "d8fd63e6-1946-474a-9ece-a3a3f13431d7",
   "metadata": {},
   "outputs": [],
   "source": [
    "class Solution:\n",
    "    def addTwoNumbers(self, l1: Optional[ListNode], l2: Optional[ListNode]) -> Optional[ListNode]:\n",
    "        def to_stack(lst):\n",
    "            s = []\n",
    "            while lst:\n",
    "                s.append(lst.val)\n",
    "                lst = lst.next\n",
    "            return s\n",
    "        carry, s, l1, l2 = 0, [], to_stack(l1), to_stack(l2)\n",
    "        while carry or l1 or l2:\n",
    "            carry, val = divmod((l1.pop() if l1 else 0) + (l2.pop() if l2 else 0) + carry, 10)\n",
    "            s.append(val)\n",
    "        dummy = cur = ListNode()\n",
    "        while s:\n",
    "            cur.next = ListNode(s.pop())\n",
    "            cur = cur.next\n",
    "        res = dummy.next\n",
    "        return res"
   ]
  },
  {
   "cell_type": "code",
   "execution_count": 13,
   "id": "c0cfba75-7f9a-4464-9981-2baec9b83fba",
   "metadata": {},
   "outputs": [],
   "source": [
    "sol = Solution()"
   ]
  },
  {
   "cell_type": "code",
   "execution_count": 14,
   "id": "4e411b21-2327-4f99-96db-1cee977a0408",
   "metadata": {},
   "outputs": [],
   "source": [
    "def as_list(vals):\n",
    "    head = cur = ListNode()\n",
    "    for i in vals:\n",
    "        cur.next = ListNode(i)\n",
    "        cur = cur.next\n",
    "    return head.next"
   ]
  },
  {
   "cell_type": "code",
   "execution_count": 15,
   "id": "1bad3b25-9cb3-4753-823a-3fbe35057572",
   "metadata": {},
   "outputs": [],
   "source": [
    "assert sol.addTwoNumbers(as_list([7,2,4,3]), as_list([5,6,4])) == as_list([7,8,0,7])"
   ]
  },
  {
   "cell_type": "code",
   "execution_count": 16,
   "id": "d07b89bf-e57d-4365-9627-2572fc705b94",
   "metadata": {},
   "outputs": [],
   "source": [
    "assert sol.addTwoNumbers(as_list([2,4,3]), as_list([5,6,4])) == as_list([8,0,7])"
   ]
  }
 ],
 "metadata": {
  "kernelspec": {
   "display_name": "Python 3 (ipykernel)",
   "language": "python",
   "name": "python3"
  },
  "language_info": {
   "codemirror_mode": {
    "name": "ipython",
    "version": 3
   },
   "file_extension": ".py",
   "mimetype": "text/x-python",
   "name": "python",
   "nbconvert_exporter": "python",
   "pygments_lexer": "ipython3",
   "version": "3.9.7"
  }
 },
 "nbformat": 4,
 "nbformat_minor": 5
}
