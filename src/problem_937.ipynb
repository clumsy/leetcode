{
 "cells": [
  {
   "cell_type": "markdown",
   "id": "0e634ab4-8742-4c41-8d65-8f595ba019f8",
   "metadata": {},
   "source": [
    "[Problem 937](https://leetcode.com/problems/reorder-data-in-log-files/description)"
   ]
  },
  {
   "cell_type": "code",
   "execution_count": 1,
   "id": "25d77456-6ed8-472a-b5fb-208b13cc79a5",
   "metadata": {},
   "outputs": [],
   "source": [
    "from typing import List"
   ]
  },
  {
   "cell_type": "code",
   "execution_count": 2,
   "id": "2610251c-535f-4d9e-9d6d-a584d59d3d07",
   "metadata": {},
   "outputs": [],
   "source": [
    "class Solution:\n",
    "    def reorderLogFiles(self, logs: List[str]) -> List[str]:\n",
    "        def order(log):\n",
    "            id, rest = log.split(\" \", 1)\n",
    "            return (0, rest, id) if rest[0].isalpha() else (1, None, None)\n",
    "        logs.sort(key=order)\n",
    "        res = logs\n",
    "        return res"
   ]
  },
  {
   "cell_type": "code",
   "execution_count": 3,
   "id": "ac90c6f9-90f2-4764-8abd-8b08af178f36",
   "metadata": {},
   "outputs": [],
   "source": [
    "sol = Solution()"
   ]
  },
  {
   "cell_type": "code",
   "execution_count": 4,
   "id": "0c60a4e8-0362-4a45-9078-dd8a9f0a34b5",
   "metadata": {},
   "outputs": [],
   "source": [
    "assert sol.reorderLogFiles([\"dig1 8 1 5 1\",\"let1 art can\",\"dig2 3 6\",\"let2 own kit dig\",\"let3 art zero\"]) == [\"let1 art can\",\"let3 art zero\",\"let2 own kit dig\",\"dig1 8 1 5 1\",\"dig2 3 6\"]"
   ]
  },
  {
   "cell_type": "code",
   "execution_count": 5,
   "id": "165fd131-9917-460a-aed2-264f98d62aa3",
   "metadata": {},
   "outputs": [],
   "source": [
    "assert sol.reorderLogFiles([\"a1 9 2 3 1\",\"g1 act car\",\"zo4 4 7\",\"ab1 off key dog\",\"a8 act zoo\"]) ==  [\"g1 act car\",\"a8 act zoo\",\"ab1 off key dog\",\"a1 9 2 3 1\",\"zo4 4 7\"]"
   ]
  }
 ],
 "metadata": {
  "kernelspec": {
   "display_name": "Python 3 (ipykernel)",
   "language": "python",
   "name": "python3"
  },
  "language_info": {
   "codemirror_mode": {
    "name": "ipython",
    "version": 3
   },
   "file_extension": ".py",
   "mimetype": "text/x-python",
   "name": "python",
   "nbconvert_exporter": "python",
   "pygments_lexer": "ipython3",
   "version": "3.9.7"
  }
 },
 "nbformat": 4,
 "nbformat_minor": 5
}
