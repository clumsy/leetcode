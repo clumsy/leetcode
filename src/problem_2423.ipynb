{
 "cells": [
  {
   "cell_type": "markdown",
   "id": "4c9e404f-a3af-45a9-a3d5-7c147aecdf6e",
   "metadata": {},
   "source": [
    "[Problem 2423](https://leetcode.com/problems/remove-letter-to-equalize-frequency/description)"
   ]
  },
  {
   "cell_type": "code",
   "execution_count": 1,
   "id": "923aaf00-5d5a-4329-9026-7302500d4c97",
   "metadata": {},
   "outputs": [],
   "source": [
    "from collections import Counter"
   ]
  },
  {
   "cell_type": "code",
   "execution_count": 2,
   "id": "0f045fd4-e7dc-47f1-8689-a50e5bc548eb",
   "metadata": {},
   "outputs": [],
   "source": [
    "class Solution:\n",
    "    def equalFrequency(self, word: str) -> bool:\n",
    "        cnt = Counter(word)\n",
    "        most = cnt.most_common()\n",
    "        ma, mi = most[0][0], most[-1][0]\n",
    "        res = (\n",
    "            cnt[ma] == 1 or all(i == ma or cnt[i] == cnt[ma] - 1 for i in cnt) or\n",
    "            (cnt[mi] == 1 and all(i == mi or cnt[i] == cnt[ma] for i in cnt))\n",
    "        )\n",
    "        return res"
   ]
  },
  {
   "cell_type": "code",
   "execution_count": 3,
   "id": "cd4c4ec5-359e-4918-9b35-6e99be18ad53",
   "metadata": {},
   "outputs": [],
   "source": [
    "sol = Solution()"
   ]
  },
  {
   "cell_type": "code",
   "execution_count": 4,
   "id": "f8232d64-f6e8-4b1e-b07c-07ad92052d9c",
   "metadata": {},
   "outputs": [],
   "source": [
    "assert sol.equalFrequency(\"abcc\")"
   ]
  },
  {
   "cell_type": "code",
   "execution_count": 5,
   "id": "49281b3e-73d8-4b67-945b-f62e009ae2f8",
   "metadata": {},
   "outputs": [],
   "source": [
    "assert not sol.equalFrequency(\"aazz\")"
   ]
  }
 ],
 "metadata": {
  "kernelspec": {
   "display_name": "Python 3 (ipykernel)",
   "language": "python",
   "name": "python3"
  },
  "language_info": {
   "codemirror_mode": {
    "name": "ipython",
    "version": 3
   },
   "file_extension": ".py",
   "mimetype": "text/x-python",
   "name": "python",
   "nbconvert_exporter": "python",
   "pygments_lexer": "ipython3",
   "version": "3.9.7"
  }
 },
 "nbformat": 4,
 "nbformat_minor": 5
}
