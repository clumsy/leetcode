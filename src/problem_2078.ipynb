{
 "cells": [
  {
   "cell_type": "markdown",
   "id": "5f6bd421-56f1-4200-ab0c-ec3b8ce8490f",
   "metadata": {},
   "source": [
    "[Problem 2078](https://leetcode.com/problems/two-furthest-houses-with-different-colors/)"
   ]
  },
  {
   "cell_type": "code",
   "execution_count": 3,
   "id": "9b06d5bc-d630-4c5a-b1e0-ce1ec7b979dc",
   "metadata": {},
   "outputs": [],
   "source": [
    "from typing import List"
   ]
  },
  {
   "cell_type": "code",
   "execution_count": 4,
   "id": "fa19db2c-bdec-4e4a-a42f-de6d9231568b",
   "metadata": {},
   "outputs": [],
   "source": [
    "class Solution:\n",
    "    def maxDistance(self, colors: List[int]) -> int:\n",
    "        n = len(colors)\n",
    "        right = n - 1\n",
    "        while right >= 0 and colors[0] == colors[right]:\n",
    "            right -= 1\n",
    "        left = 0\n",
    "        while left < n and colors[left] == colors[n - 1]:\n",
    "            left += 1\n",
    "        return max(right, n - 1 - left)"
   ]
  },
  {
   "cell_type": "code",
   "execution_count": 5,
   "id": "b2e9392d-dc8d-4964-ba02-e6749d2ef546",
   "metadata": {},
   "outputs": [],
   "source": [
    "sol = Solution()"
   ]
  },
  {
   "cell_type": "code",
   "execution_count": 6,
   "id": "911649e6-b5f7-453e-95ae-ef1bb58ed071",
   "metadata": {},
   "outputs": [],
   "source": [
    "assert sol.maxDistance([1,1,1,6,1,1,1]) == 3"
   ]
  },
  {
   "cell_type": "code",
   "execution_count": 7,
   "id": "41b9996d-9e2d-41f0-ac04-a02040171c5b",
   "metadata": {},
   "outputs": [],
   "source": [
    "assert sol.maxDistance([1,8,3,8,3]) == 4"
   ]
  },
  {
   "cell_type": "code",
   "execution_count": 8,
   "id": "b97c736d-8fcb-49ba-b09b-56a54dc2a07b",
   "metadata": {},
   "outputs": [],
   "source": [
    "assert sol.maxDistance([0,1]) == 1"
   ]
  },
  {
   "cell_type": "code",
   "execution_count": 9,
   "id": "ee232d64-5c4e-4461-a704-d6aa0bf6cef9",
   "metadata": {},
   "outputs": [],
   "source": [
    "assert sol.maxDistance([6,6,6,6,6,6,6,6,6,19,19,6,6]) == 10"
   ]
  }
 ],
 "metadata": {
  "kernelspec": {
   "display_name": "Python 3 (ipykernel)",
   "language": "python",
   "name": "python3"
  },
  "language_info": {
   "codemirror_mode": {
    "name": "ipython",
    "version": 3
   },
   "file_extension": ".py",
   "mimetype": "text/x-python",
   "name": "python",
   "nbconvert_exporter": "python",
   "pygments_lexer": "ipython3",
   "version": "3.9.7"
  }
 },
 "nbformat": 4,
 "nbformat_minor": 5
}
