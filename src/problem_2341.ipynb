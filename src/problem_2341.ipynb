{
 "cells": [
  {
   "cell_type": "markdown",
   "id": "4e4a064a-7ba7-465c-a4cc-558532aaff71",
   "metadata": {},
   "source": [
    "[Problem 2341](https://leetcode.com/problems/maximum-number-of-pairs-in-array/description)"
   ]
  },
  {
   "cell_type": "code",
   "execution_count": 1,
   "id": "7a776aab-a24b-43ba-b598-c9e5a4afa785",
   "metadata": {},
   "outputs": [],
   "source": [
    "from typing import List\n",
    "from collections import Counter"
   ]
  },
  {
   "cell_type": "code",
   "execution_count": 2,
   "id": "7a2c4cfc-722c-4402-8de4-2563c0b491a1",
   "metadata": {},
   "outputs": [],
   "source": [
    "class Solution:\n",
    "    def numberOfPairs(self, nums: List[int]) -> List[int]:\n",
    "        pairs = sum(c // 2 for c in Counter(nums).values())\n",
    "        res = [pairs, len(nums) - 2 * pairs]\n",
    "        return res"
   ]
  },
  {
   "cell_type": "code",
   "execution_count": 3,
   "id": "76225451-e907-4eb2-9417-7d5ccc452c25",
   "metadata": {},
   "outputs": [],
   "source": [
    "sol = Solution()"
   ]
  },
  {
   "cell_type": "code",
   "execution_count": 4,
   "id": "dfae831e-bae3-4cc8-b221-ef335eba9050",
   "metadata": {},
   "outputs": [],
   "source": [
    "assert sol.numberOfPairs([1,3,2,1,3,2,2]) == [3,1]"
   ]
  },
  {
   "cell_type": "code",
   "execution_count": 5,
   "id": "4167f8fe-6c10-4272-8067-238d0a4d7189",
   "metadata": {},
   "outputs": [],
   "source": [
    "assert sol.numberOfPairs([1,1]) == [1,0]"
   ]
  },
  {
   "cell_type": "code",
   "execution_count": 6,
   "id": "e0157a87-669c-4d50-84c4-494cdde2e72a",
   "metadata": {},
   "outputs": [],
   "source": [
    "assert sol.numberOfPairs([0]) == [0,1]"
   ]
  }
 ],
 "metadata": {
  "kernelspec": {
   "display_name": "Python 3 (ipykernel)",
   "language": "python",
   "name": "python3"
  },
  "language_info": {
   "codemirror_mode": {
    "name": "ipython",
    "version": 3
   },
   "file_extension": ".py",
   "mimetype": "text/x-python",
   "name": "python",
   "nbconvert_exporter": "python",
   "pygments_lexer": "ipython3",
   "version": "3.9.7"
  }
 },
 "nbformat": 4,
 "nbformat_minor": 5
}
