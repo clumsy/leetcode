{
 "cells": [
  {
   "cell_type": "markdown",
   "id": "d1f2eb93-dcda-4569-9ff0-9caef91b1e7c",
   "metadata": {},
   "source": [
    "[Problem 969](https://leetcode.com/problems/pancake-sorting/description)"
   ]
  },
  {
   "cell_type": "code",
   "execution_count": 1,
   "id": "fdb162c7-934b-4053-a61a-ce25e9d5484f",
   "metadata": {},
   "outputs": [],
   "source": [
    "from typing import List"
   ]
  },
  {
   "cell_type": "code",
   "execution_count": 2,
   "id": "7c13c041-2276-44d7-a91e-3fcc6df0d252",
   "metadata": {},
   "outputs": [],
   "source": [
    "class Solution:\n",
    "    def pancakeSort(self, arr: List[int]) -> List[int]:\n",
    "        k, res = len(arr), []\n",
    "        while k:\n",
    "            i = max(range(k), key=arr.__getitem__)\n",
    "            k -= 1\n",
    "            if i < k:\n",
    "                arr[:i + 1] = arr[i::-1]\n",
    "                res.append(i + 1)\n",
    "                arr[:k + 1] = arr[k::-1]\n",
    "                res.append(k + 1)\n",
    "        return res"
   ]
  },
  {
   "cell_type": "code",
   "execution_count": 3,
   "id": "e1046b43-c3c9-4043-b1c3-33f8a1f86788",
   "metadata": {},
   "outputs": [],
   "source": [
    "sol = Solution()"
   ]
  },
  {
   "cell_type": "code",
   "execution_count": 4,
   "id": "360b2c72-2be8-45df-a48b-e47be4b1d368",
   "metadata": {},
   "outputs": [],
   "source": [
    "assert sol.pancakeSort([3,2,4,1]) == [3,4,2,3,1,2]"
   ]
  },
  {
   "cell_type": "code",
   "execution_count": 5,
   "id": "46e1edb0-7e74-4d1f-9856-f420fbe8b3a6",
   "metadata": {},
   "outputs": [],
   "source": [
    "assert sol.pancakeSort([1,2,3]) == []"
   ]
  }
 ],
 "metadata": {
  "kernelspec": {
   "display_name": "Python 3 (ipykernel)",
   "language": "python",
   "name": "python3"
  },
  "language_info": {
   "codemirror_mode": {
    "name": "ipython",
    "version": 3
   },
   "file_extension": ".py",
   "mimetype": "text/x-python",
   "name": "python",
   "nbconvert_exporter": "python",
   "pygments_lexer": "ipython3",
   "version": "3.9.7"
  }
 },
 "nbformat": 4,
 "nbformat_minor": 5
}
