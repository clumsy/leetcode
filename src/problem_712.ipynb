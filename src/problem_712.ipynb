{
 "cells": [
  {
   "cell_type": "markdown",
   "id": "6b15bcc3-c4cb-4568-a2e7-cc6c21739157",
   "metadata": {},
   "source": [
    "[Problem 712](https://leetcode.com/problems/minimum-ascii-delete-sum-for-two-strings/description)"
   ]
  },
  {
   "cell_type": "code",
   "execution_count": 1,
   "id": "0181970c-90ce-4cff-8362-faeab2f6a5cf",
   "metadata": {},
   "outputs": [],
   "source": [
    "class Solution:\n",
    "    def minimumDeleteSum(self, s1: str, s2: str) -> int:\n",
    "        n1, n2 = len(s1), len(s2)\n",
    "        dp = [[0] * (n2 + 1) for _ in range(n1 + 1)]\n",
    "        for i in range(1, n1 + 1):\n",
    "            dp[i][0] = dp[i - 1][0] + ord(s1[i - 1])\n",
    "        for j in range(1, n2 + 1):\n",
    "            dp[0][j] = dp[0][j - 1] + ord(s2[j - 1])\n",
    "        for i in range(1, n1 + 1):\n",
    "            for j in range(1, n2 + 1):\n",
    "                dp[i][j] = dp[i - 1][j - 1] if s1[i - 1] == s2[j - 1] else min(dp[i - 1][j] + ord(s1[i - 1]), dp[i][j - 1] + ord(s2[j - 1]))\n",
    "        res = dp[-1][-1]\n",
    "        return res"
   ]
  },
  {
   "cell_type": "code",
   "execution_count": 2,
   "id": "02a2b204-2c69-4265-88ae-2de22c58cc1b",
   "metadata": {},
   "outputs": [],
   "source": [
    "sol = Solution()"
   ]
  },
  {
   "cell_type": "code",
   "execution_count": 3,
   "id": "0e2732be-0cde-479a-909a-c2ba94f7ef04",
   "metadata": {},
   "outputs": [],
   "source": [
    "assert sol.minimumDeleteSum(\"sea\", \"eat\") == 231"
   ]
  },
  {
   "cell_type": "code",
   "execution_count": 4,
   "id": "96d52787-d0bf-4afe-9512-a845d04d7b38",
   "metadata": {},
   "outputs": [],
   "source": [
    "assert sol.minimumDeleteSum(\"delete\", \"leet\") == 403"
   ]
  }
 ],
 "metadata": {
  "kernelspec": {
   "display_name": "Python 3 (ipykernel)",
   "language": "python",
   "name": "python3"
  },
  "language_info": {
   "codemirror_mode": {
    "name": "ipython",
    "version": 3
   },
   "file_extension": ".py",
   "mimetype": "text/x-python",
   "name": "python",
   "nbconvert_exporter": "python",
   "pygments_lexer": "ipython3",
   "version": "3.9.7"
  }
 },
 "nbformat": 4,
 "nbformat_minor": 5
}
