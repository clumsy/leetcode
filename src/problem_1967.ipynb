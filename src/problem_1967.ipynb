{
 "cells": [
  {
   "cell_type": "markdown",
   "id": "69d5a7aa-61c0-44c8-a208-1886b8babe48",
   "metadata": {},
   "source": [
    "[Problem 1967](https://leetcode.com/problems/number-of-strings-that-appear-as-substrings-in-word/description)"
   ]
  },
  {
   "cell_type": "code",
   "execution_count": 1,
   "id": "3a8b660a-f543-46b1-acee-8c5b9e4b36f3",
   "metadata": {},
   "outputs": [],
   "source": [
    "from typing import List"
   ]
  },
  {
   "cell_type": "code",
   "execution_count": 2,
   "id": "509afaa2-1b83-41a3-93ae-832306d42d4b",
   "metadata": {},
   "outputs": [],
   "source": [
    "class Solution:\n",
    "    def numOfStrings(self, patterns: List[str], word: str) -> int:\n",
    "        res = sum(p in word for p in patterns)\n",
    "        return res"
   ]
  },
  {
   "cell_type": "code",
   "execution_count": 3,
   "id": "bfb9767c-4c59-4b4b-ad75-e246ff3db9e8",
   "metadata": {},
   "outputs": [],
   "source": [
    "sol = Solution()"
   ]
  },
  {
   "cell_type": "code",
   "execution_count": 4,
   "id": "f8a0bd80-84de-4c8c-a76f-49e3d6e009f7",
   "metadata": {},
   "outputs": [],
   "source": [
    "assert sol.numOfStrings([\"a\",\"abc\",\"bc\",\"d\"], \"abc\") == 3"
   ]
  },
  {
   "cell_type": "code",
   "execution_count": 5,
   "id": "f4637d77-1340-43d0-a0f5-5e5ec39d9263",
   "metadata": {},
   "outputs": [],
   "source": [
    "assert sol.numOfStrings([\"a\",\"b\",\"c\"], \"aaaaabbbbb\") == 2"
   ]
  },
  {
   "cell_type": "code",
   "execution_count": 6,
   "id": "d5a01a0b-b680-4280-80a4-f7a11f945708",
   "metadata": {},
   "outputs": [],
   "source": [
    "assert sol.numOfStrings([\"a\",\"a\",\"a\"], \"ab\") == 3"
   ]
  }
 ],
 "metadata": {
  "kernelspec": {
   "display_name": "Python 3 (ipykernel)",
   "language": "python",
   "name": "python3"
  },
  "language_info": {
   "codemirror_mode": {
    "name": "ipython",
    "version": 3
   },
   "file_extension": ".py",
   "mimetype": "text/x-python",
   "name": "python",
   "nbconvert_exporter": "python",
   "pygments_lexer": "ipython3",
   "version": "3.9.7"
  }
 },
 "nbformat": 4,
 "nbformat_minor": 5
}
