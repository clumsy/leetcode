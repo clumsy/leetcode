{
 "cells": [
  {
   "cell_type": "markdown",
   "id": "488fbd65-a9b1-4bba-9910-193f603e8f0e",
   "metadata": {},
   "source": [
    "[Problem 2855](https://leetcode.com/problems/minimum-right-shifts-to-sort-the-array/description)"
   ]
  },
  {
   "cell_type": "code",
   "execution_count": 1,
   "id": "4160f43f-c9c0-4274-b70d-715944325b56",
   "metadata": {},
   "outputs": [],
   "source": [
    "from typing import List"
   ]
  },
  {
   "cell_type": "code",
   "execution_count": 2,
   "id": "7e83fbc3-b34d-495f-a208-792168fb51e8",
   "metadata": {},
   "outputs": [],
   "source": [
    "class Solution:\n",
    "    def minimumRightShifts(self, nums: List[int]) -> int:\n",
    "        res, mi, n = 0, nums[0], len(nums)\n",
    "        while n - res - 1 >= 0 and nums[n - res - 1] < mi:\n",
    "            mi = nums[n - res - 1]\n",
    "            res += 1\n",
    "        for i in range(1, n - res - 1):\n",
    "            if nums[i] < nums[i - 1]:\n",
    "                res = -1\n",
    "                break\n",
    "        return res"
   ]
  },
  {
   "cell_type": "code",
   "execution_count": 3,
   "id": "00ddad45-4a11-411b-80ef-8e879c3d2a91",
   "metadata": {},
   "outputs": [],
   "source": [
    "sol = Solution()"
   ]
  },
  {
   "cell_type": "code",
   "execution_count": 4,
   "id": "3f887eb6-ac7a-424b-869f-e1d0ec2e9e90",
   "metadata": {},
   "outputs": [],
   "source": [
    "assert sol.minimumRightShifts([3,4,5,1,2]) == 2"
   ]
  },
  {
   "cell_type": "code",
   "execution_count": 5,
   "id": "d1daeb8a-458c-459c-a9c9-9bef6153b29e",
   "metadata": {},
   "outputs": [],
   "source": [
    "assert sol.minimumRightShifts([1,3,5]) == 0"
   ]
  },
  {
   "cell_type": "code",
   "execution_count": 6,
   "id": "a8879ad8-f04f-493d-a87a-0ce3641047e2",
   "metadata": {},
   "outputs": [],
   "source": [
    "assert sol.minimumRightShifts([2,1,4]) == -1"
   ]
  }
 ],
 "metadata": {
  "kernelspec": {
   "display_name": "Python 3 (ipykernel)",
   "language": "python",
   "name": "python3"
  },
  "language_info": {
   "codemirror_mode": {
    "name": "ipython",
    "version": 3
   },
   "file_extension": ".py",
   "mimetype": "text/x-python",
   "name": "python",
   "nbconvert_exporter": "python",
   "pygments_lexer": "ipython3",
   "version": "3.9.7"
  }
 },
 "nbformat": 4,
 "nbformat_minor": 5
}
