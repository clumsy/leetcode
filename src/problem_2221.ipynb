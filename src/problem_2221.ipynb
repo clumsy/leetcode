{
 "cells": [
  {
   "cell_type": "markdown",
   "id": "07edf5fe-e8de-4148-9b7d-03bb8983573b",
   "metadata": {},
   "source": [
    "[Problem 2221](https://leetcode.com/problems/find-triangular-sum-of-an-array/description)"
   ]
  },
  {
   "cell_type": "code",
   "execution_count": 1,
   "id": "ade0cba5-356e-42d5-b6ee-9fff40c0e168",
   "metadata": {},
   "outputs": [],
   "source": [
    "from typing import List"
   ]
  },
  {
   "cell_type": "code",
   "execution_count": 2,
   "id": "9b0b404e-8feb-450c-9a1a-d1c17e5e246f",
   "metadata": {},
   "outputs": [],
   "source": [
    "class Solution:\n",
    "    def triangularSum(self, nums: List[int]) -> int:\n",
    "        res, n, n_k = 0, len(nums), 1\n",
    "        # pascal triangle, count binomial coefficients\n",
    "        # i corresponds to i - 1 th power polynomial\n",
    "        for i in range(n):\n",
    "            res = (res + nums[i] * n_k) % 10\n",
    "            n_k = (n_k * (n - i - 1) // (i + 1))\n",
    "        return res % 10"
   ]
  },
  {
   "cell_type": "code",
   "execution_count": 3,
   "id": "a353032c-613e-4e2f-8ea0-2c89ff99f76e",
   "metadata": {},
   "outputs": [],
   "source": [
    "sol = Solution()"
   ]
  },
  {
   "cell_type": "code",
   "execution_count": 4,
   "id": "d27568f8-8991-46c8-808a-6616a51fb27b",
   "metadata": {},
   "outputs": [],
   "source": [
    "assert sol.triangularSum([1,2,3,4,5]) == 8"
   ]
  },
  {
   "cell_type": "code",
   "execution_count": 5,
   "id": "05688ed2-e06c-40f9-8ebe-b309fdaca994",
   "metadata": {},
   "outputs": [],
   "source": [
    "assert sol.triangularSum([5]) == 5"
   ]
  }
 ],
 "metadata": {
  "kernelspec": {
   "display_name": "Python 3 (ipykernel)",
   "language": "python",
   "name": "python3"
  },
  "language_info": {
   "codemirror_mode": {
    "name": "ipython",
    "version": 3
   },
   "file_extension": ".py",
   "mimetype": "text/x-python",
   "name": "python",
   "nbconvert_exporter": "python",
   "pygments_lexer": "ipython3",
   "version": "3.9.7"
  }
 },
 "nbformat": 4,
 "nbformat_minor": 5
}
