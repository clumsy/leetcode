{
 "cells": [
  {
   "cell_type": "markdown",
   "id": "90be29d0-d79a-4eec-b65f-3a9afb05d320",
   "metadata": {},
   "source": [
    "[Problem 500](https://leetcode.com/problems/keyboard-row/description)"
   ]
  },
  {
   "cell_type": "code",
   "execution_count": 6,
   "id": "40eb4c1c-adca-4b85-8cf3-47adcbeb0252",
   "metadata": {},
   "outputs": [],
   "source": [
    "from typing import List\n",
    "from operator import ior\n",
    "from functools import reduce"
   ]
  },
  {
   "cell_type": "code",
   "execution_count": 7,
   "id": "e212caa8-ccd2-4791-a806-47284b492e5b",
   "metadata": {},
   "outputs": [],
   "source": [
    "class Solution:\n",
    "    def findWords(self, words: List[str]) -> List[str]:\n",
    "        m = {}\n",
    "        for c in \"qwertyuiop\":\n",
    "            m[c] = 1\n",
    "        for c in \"asdfghjkl\":\n",
    "            m[c] = 2\n",
    "        for c in \"zxcvbnm\":\n",
    "            m[c] = 4\n",
    "        res = [w for w in words if reduce(ior, map(m.__getitem__, w.lower())) in [1, 2, 4]]\n",
    "        return res"
   ]
  },
  {
   "cell_type": "code",
   "execution_count": 8,
   "id": "090cc639-0139-4f31-bff3-c884f84cabb7",
   "metadata": {},
   "outputs": [],
   "source": [
    "sol = Solution()"
   ]
  },
  {
   "cell_type": "code",
   "execution_count": 9,
   "id": "f73d4f33-5e90-4bd7-bca6-3068eb2a5647",
   "metadata": {},
   "outputs": [],
   "source": [
    "assert sol.findWords([\"Hello\",\"Alaska\",\"Dad\",\"Peace\"]) == [\"Alaska\",\"Dad\"]"
   ]
  },
  {
   "cell_type": "code",
   "execution_count": 10,
   "id": "add40657-1c3d-4ea3-b315-17e4b83e338e",
   "metadata": {},
   "outputs": [],
   "source": [
    "assert sol.findWords([\"omk\"]) == []"
   ]
  },
  {
   "cell_type": "code",
   "execution_count": 11,
   "id": "97e51a6d-074c-436f-b25d-a31eacdac795",
   "metadata": {},
   "outputs": [],
   "source": [
    "assert sol.findWords([\"adsdf\",\"sfd\"]) == [\"adsdf\",\"sfd\"]"
   ]
  }
 ],
 "metadata": {
  "kernelspec": {
   "display_name": "Python 3 (ipykernel)",
   "language": "python",
   "name": "python3"
  },
  "language_info": {
   "codemirror_mode": {
    "name": "ipython",
    "version": 3
   },
   "file_extension": ".py",
   "mimetype": "text/x-python",
   "name": "python",
   "nbconvert_exporter": "python",
   "pygments_lexer": "ipython3",
   "version": "3.9.7"
  }
 },
 "nbformat": 4,
 "nbformat_minor": 5
}
