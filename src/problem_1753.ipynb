{
 "cells": [
  {
   "cell_type": "markdown",
   "id": "a350f190-487e-4dea-87a4-e7372d983d1c",
   "metadata": {},
   "source": [
    "[Problem 1753](https://leetcode.com/problems/maximum-score-from-removing-stones/description)"
   ]
  },
  {
   "cell_type": "code",
   "execution_count": 1,
   "id": "d45f30d0-7dde-4d81-b135-df4f81623c88",
   "metadata": {},
   "outputs": [],
   "source": [
    "class Solution:\n",
    "    def maximumScore(self, a: int, b: int, c: int) -> int:\n",
    "        a, b, c = sorted([a, b, c])\n",
    "        res = 0\n",
    "        # a = (c - b) + 2*x\n",
    "        x = (a - c + b) // 2\n",
    "        res = 2 * x + (c - b) + b - x if x > 0 else a + min(b, c - a)\n",
    "        return res"
   ]
  },
  {
   "cell_type": "code",
   "execution_count": 2,
   "id": "af3df383-f227-45bd-bc25-3e43cd05ef41",
   "metadata": {},
   "outputs": [],
   "source": [
    "sol = Solution()"
   ]
  },
  {
   "cell_type": "code",
   "execution_count": 3,
   "id": "8422e719-519d-4c51-8c65-088acbbc07e3",
   "metadata": {},
   "outputs": [],
   "source": [
    "assert sol.maximumScore(2, 4, 6) == 6"
   ]
  },
  {
   "cell_type": "code",
   "execution_count": 4,
   "id": "d0bda34f-d298-4079-8af7-da4594a1b7bf",
   "metadata": {},
   "outputs": [],
   "source": [
    "assert sol.maximumScore(4, 4, 6) == 7"
   ]
  },
  {
   "cell_type": "code",
   "execution_count": 5,
   "id": "76d645aa-9e7c-487c-a54d-7c69a5861d19",
   "metadata": {},
   "outputs": [],
   "source": [
    "assert sol.maximumScore(1, 8, 8) == 8"
   ]
  }
 ],
 "metadata": {
  "kernelspec": {
   "display_name": "Python 3 (ipykernel)",
   "language": "python",
   "name": "python3"
  },
  "language_info": {
   "codemirror_mode": {
    "name": "ipython",
    "version": 3
   },
   "file_extension": ".py",
   "mimetype": "text/x-python",
   "name": "python",
   "nbconvert_exporter": "python",
   "pygments_lexer": "ipython3",
   "version": "3.9.7"
  }
 },
 "nbformat": 4,
 "nbformat_minor": 5
}
