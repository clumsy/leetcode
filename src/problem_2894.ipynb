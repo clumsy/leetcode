{
 "cells": [
  {
   "cell_type": "markdown",
   "id": "6c884c73-3971-4498-9966-c93b626ada90",
   "metadata": {},
   "source": [
    "[Problem 2894](https://leetcode.com/problems/divisible-and-non-divisible-sums-difference/description)"
   ]
  },
  {
   "cell_type": "code",
   "execution_count": 1,
   "id": "329c983b-e08d-48e0-8d77-99765a875af2",
   "metadata": {},
   "outputs": [],
   "source": [
    "class Solution:\n",
    "    def differenceOfSums(self, n: int, m: int) -> int:\n",
    "        res = 0\n",
    "        for i in range(1, n + 1):\n",
    "            res += i if i % m != 0 else -i\n",
    "        return res"
   ]
  },
  {
   "cell_type": "code",
   "execution_count": 2,
   "id": "dc94b9ad-d166-49b0-9736-9e15c50159c6",
   "metadata": {},
   "outputs": [],
   "source": [
    "class Solution:\n",
    "    def differenceOfSums(self, n: int, m: int) -> int:\n",
    "        # m + 2m + ... + km = s\n",
    "        # s = (1 + ... + k)m\n",
    "        # num1 - num2 = (S - s) - s\n",
    "        k = n // m\n",
    "        res = (1 + n) * n // 2 - m*(1 + k) * k\n",
    "        return res"
   ]
  },
  {
   "cell_type": "code",
   "execution_count": 3,
   "id": "b83a9d44-e99e-4d95-b6d1-b2cb8c764681",
   "metadata": {},
   "outputs": [],
   "source": [
    "sol = Solution()"
   ]
  },
  {
   "cell_type": "code",
   "execution_count": 4,
   "id": "07506b98-bf3f-4312-a517-0135944120c6",
   "metadata": {},
   "outputs": [],
   "source": [
    "assert sol.differenceOfSums(10, 3) == 19"
   ]
  },
  {
   "cell_type": "code",
   "execution_count": 5,
   "id": "71596f1b-cb5e-4118-841a-d3bac7ca73ae",
   "metadata": {},
   "outputs": [],
   "source": [
    "assert sol.differenceOfSums(5, 6) == 15"
   ]
  },
  {
   "cell_type": "code",
   "execution_count": 6,
   "id": "de4b1421-300a-4a76-b3b8-51640d89080b",
   "metadata": {},
   "outputs": [],
   "source": [
    "assert sol.differenceOfSums(5, 1) == -15"
   ]
  }
 ],
 "metadata": {
  "kernelspec": {
   "display_name": "Python 3 (ipykernel)",
   "language": "python",
   "name": "python3"
  },
  "language_info": {
   "codemirror_mode": {
    "name": "ipython",
    "version": 3
   },
   "file_extension": ".py",
   "mimetype": "text/x-python",
   "name": "python",
   "nbconvert_exporter": "python",
   "pygments_lexer": "ipython3",
   "version": "3.9.7"
  }
 },
 "nbformat": 4,
 "nbformat_minor": 5
}
