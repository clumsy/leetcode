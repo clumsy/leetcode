{
 "cells": [
  {
   "cell_type": "markdown",
   "id": "31e36747-aee5-4375-bc84-e93f35efd2a8",
   "metadata": {},
   "source": [
    "[Problem 1941](https://leetcode.com/problems/check-if-all-characters-have-equal-number-of-occurrences/description)"
   ]
  },
  {
   "cell_type": "code",
   "execution_count": 1,
   "id": "0cca881a-1f32-4bf0-a681-85628efcb7f8",
   "metadata": {},
   "outputs": [],
   "source": [
    "from collections import Counter"
   ]
  },
  {
   "cell_type": "code",
   "execution_count": 2,
   "id": "b73bb843-52f0-411c-b696-cb89be78a4fc",
   "metadata": {},
   "outputs": [],
   "source": [
    "class Solution:\n",
    "    def areOccurrencesEqual(self, s: str) -> bool:\n",
    "        res = len(set(Counter(s).values())) == 1\n",
    "        return res"
   ]
  },
  {
   "cell_type": "code",
   "execution_count": 3,
   "id": "a8d5288f-9278-4a5c-8038-c18043f8ff83",
   "metadata": {},
   "outputs": [],
   "source": [
    "sol = Solution()"
   ]
  },
  {
   "cell_type": "code",
   "execution_count": 4,
   "id": "12553686-28af-4fb8-9872-5a7fa1eb1234",
   "metadata": {},
   "outputs": [],
   "source": [
    "assert sol.areOccurrencesEqual(\"abacbc\")"
   ]
  },
  {
   "cell_type": "code",
   "execution_count": 5,
   "id": "6b596c46-0b59-43be-a299-6e0c3c711d00",
   "metadata": {},
   "outputs": [],
   "source": [
    "assert not sol.areOccurrencesEqual(\"aaabb\")"
   ]
  }
 ],
 "metadata": {
  "kernelspec": {
   "display_name": "Python 3 (ipykernel)",
   "language": "python",
   "name": "python3"
  },
  "language_info": {
   "codemirror_mode": {
    "name": "ipython",
    "version": 3
   },
   "file_extension": ".py",
   "mimetype": "text/x-python",
   "name": "python",
   "nbconvert_exporter": "python",
   "pygments_lexer": "ipython3",
   "version": "3.9.7"
  }
 },
 "nbformat": 4,
 "nbformat_minor": 5
}
