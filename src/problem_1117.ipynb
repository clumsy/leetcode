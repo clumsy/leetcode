{
 "cells": [
  {
   "cell_type": "markdown",
   "id": "8e27ef0f-af41-47db-9c30-989da4c1f56f",
   "metadata": {},
   "source": [
    "[Problem 1117](https://leetcode.com/problems/building-h2o/description)"
   ]
  },
  {
   "cell_type": "code",
   "execution_count": 1,
   "id": "5ab5c60a-c21b-4390-a1b1-bc2ab988b8d9",
   "metadata": {},
   "outputs": [],
   "source": [
    "from queue import Queue\n",
    "\n",
    "\n",
    "class H2O:\n",
    "    def __init__(self):\n",
    "        self.h = Queue(maxsize=2)\n",
    "        self.o = Queue(maxsize=1)\n",
    "\n",
    "    def hydrogen(self, releaseHydrogen: 'Callable[[], None]') -> None:\n",
    "        # releaseHydrogen() outputs \"H\". Do not change or remove this line.\n",
    "        self.h.put(\"H\")\n",
    "        releaseHydrogen()\n",
    "        if self.h.full():\n",
    "            self.o.get()\n",
    "\n",
    "\n",
    "    def oxygen(self, releaseOxygen: 'Callable[[], None]') -> None:\n",
    "        \n",
    "        # releaseOxygen() outputs \"O\". Do not change or remove this line.\n",
    "        self.o.put(\"O\")\n",
    "        releaseOxygen()\n",
    "        self.h.get()\n",
    "        self.h.get()"
   ]
  },
  {
   "cell_type": "code",
   "execution_count": 2,
   "id": "5eb5027c-369d-4db0-a742-56258861d1e0",
   "metadata": {},
   "outputs": [],
   "source": [
    "from threading import Barrier, Semaphore\n",
    "\n",
    "class H2O:\n",
    "    def __init__(self):\n",
    "        self.h = Semaphore(2)\n",
    "        self.o = Semaphore(1)\n",
    "        self.b = Barrier(3)\n",
    "\n",
    "    def hydrogen(self, releaseHydrogen: 'Callable[[], None]') -> None:\n",
    "        # releaseHydrogen() outputs \"H\". Do not change or remove this line.\n",
    "        with self.h:\n",
    "            releaseHydrogen()\n",
    "            self.b.wait()\n",
    "\n",
    "\n",
    "    def oxygen(self, releaseOxygen: 'Callable[[], None]') -> None:\n",
    "        # releaseOxygen() outputs \"O\". Do not change or remove this line.\n",
    "        with self.o:\n",
    "            releaseOxygen()\n",
    "            self.b.wait()"
   ]
  }
 ],
 "metadata": {
  "kernelspec": {
   "display_name": "Python 3 (ipykernel)",
   "language": "python",
   "name": "python3"
  },
  "language_info": {
   "codemirror_mode": {
    "name": "ipython",
    "version": 3
   },
   "file_extension": ".py",
   "mimetype": "text/x-python",
   "name": "python",
   "nbconvert_exporter": "python",
   "pygments_lexer": "ipython3",
   "version": "3.9.7"
  }
 },
 "nbformat": 4,
 "nbformat_minor": 5
}
