{
 "cells": [
  {
   "cell_type": "markdown",
   "id": "3e7b0dfd-aaef-4683-bdac-35be757d3f11",
   "metadata": {},
   "source": [
    "[Problem 833](https://leetcode.com/problems/find-and-replace-in-string/description)"
   ]
  },
  {
   "cell_type": "code",
   "execution_count": 1,
   "id": "03a7aa2f-0829-4856-8908-6e6016e98720",
   "metadata": {},
   "outputs": [],
   "source": [
    "from typing import List"
   ]
  },
  {
   "cell_type": "code",
   "execution_count": 2,
   "id": "4396b5e6-21da-41bf-af75-ffa739222e62",
   "metadata": {},
   "outputs": [],
   "source": [
    "class Solution:\n",
    "    def findReplaceString(self, s: str, indices: List[int], sources: List[str], targets: List[str]) -> str:\n",
    "        n, res, end = len(indices), [], 0\n",
    "        order = sorted(range(n), key=indices.__getitem__)\n",
    "        for i in order:\n",
    "            res.append(s[end:indices[i]])\n",
    "            end = indices[i]\n",
    "            if s.startswith(sources[i], indices[i]):\n",
    "                res.append(targets[i])\n",
    "                end += len(sources[i])\n",
    "        res.append(s[end:])\n",
    "        res = \"\".join(res)\n",
    "        return res"
   ]
  },
  {
   "cell_type": "code",
   "execution_count": 3,
   "id": "ffb4c846-4a06-4862-970b-c33493a9588c",
   "metadata": {},
   "outputs": [],
   "source": [
    "sol = Solution()"
   ]
  },
  {
   "cell_type": "code",
   "execution_count": 4,
   "id": "74223595-e96c-49e0-9013-b8f01f7cb047",
   "metadata": {},
   "outputs": [],
   "source": [
    "assert sol.findReplaceString(\"abcd\", [0, 2], [\"a\", \"cd\"], [\"eee\", \"ffff\"]) == \"eeebffff\""
   ]
  },
  {
   "cell_type": "code",
   "execution_count": 5,
   "id": "67c2eb89-65f4-47fd-9247-0662c9dd280d",
   "metadata": {},
   "outputs": [],
   "source": [
    "assert sol.findReplaceString(\"abcd\", [0, 2], [\"ab\",\"ec\"], [\"eee\",\"ffff\"]) == \"eeecd\""
   ]
  }
 ],
 "metadata": {
  "kernelspec": {
   "display_name": "Python 3 (ipykernel)",
   "language": "python",
   "name": "python3"
  },
  "language_info": {
   "codemirror_mode": {
    "name": "ipython",
    "version": 3
   },
   "file_extension": ".py",
   "mimetype": "text/x-python",
   "name": "python",
   "nbconvert_exporter": "python",
   "pygments_lexer": "ipython3",
   "version": "3.9.7"
  }
 },
 "nbformat": 4,
 "nbformat_minor": 5
}
