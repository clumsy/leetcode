{
 "cells": [
  {
   "cell_type": "markdown",
   "id": "c324f707-4778-4541-9dce-d7b1dae4a7e2",
   "metadata": {},
   "source": [
    "[Problem 401](https://leetcode.com/problems/binary-watch/description)"
   ]
  },
  {
   "cell_type": "code",
   "execution_count": 1,
   "id": "561d50d5-f2da-4487-b577-ac3346d676ce",
   "metadata": {},
   "outputs": [],
   "source": [
    "from typing import List\n",
    "from collections import defaultdict"
   ]
  },
  {
   "cell_type": "code",
   "execution_count": 2,
   "id": "18004086-f39b-4b19-aa6d-4cd82d714ffc",
   "metadata": {},
   "outputs": [],
   "source": [
    "class Solution:\n",
    "    def readBinaryWatch(self, turnedOn: int) -> List[str]:\n",
    "        ms = defaultdict(list)\n",
    "        for m in range(60):\n",
    "            ms[bin(m).count(\"1\")].append(m)\n",
    "        res = []\n",
    "        for h in range(12):\n",
    "            c = bin(h).count(\"1\")\n",
    "            for m in ms[turnedOn - c]:\n",
    "                res.append(f\"{h}:{m:02d}\")\n",
    "        return res"
   ]
  },
  {
   "cell_type": "code",
   "execution_count": 3,
   "id": "f6d4ee94-f669-43b7-8b20-0eef361f0e6c",
   "metadata": {},
   "outputs": [],
   "source": [
    "sol = Solution()"
   ]
  },
  {
   "cell_type": "code",
   "execution_count": 4,
   "id": "345e33e7-6815-4e2c-970c-f590f4cdcfec",
   "metadata": {},
   "outputs": [],
   "source": [
    "assert sol.readBinaryWatch(1) == [\"0:01\",\"0:02\",\"0:04\",\"0:08\",\"0:16\",\"0:32\",\"1:00\",\"2:00\",\"4:00\",\"8:00\"]"
   ]
  },
  {
   "cell_type": "code",
   "execution_count": 5,
   "id": "1959a5e9-d050-46a8-872b-c8bf3ae715fd",
   "metadata": {},
   "outputs": [],
   "source": [
    "assert sol.readBinaryWatch(9) == []"
   ]
  }
 ],
 "metadata": {
  "kernelspec": {
   "display_name": "Python 3 (ipykernel)",
   "language": "python",
   "name": "python3"
  },
  "language_info": {
   "codemirror_mode": {
    "name": "ipython",
    "version": 3
   },
   "file_extension": ".py",
   "mimetype": "text/x-python",
   "name": "python",
   "nbconvert_exporter": "python",
   "pygments_lexer": "ipython3",
   "version": "3.9.7"
  }
 },
 "nbformat": 4,
 "nbformat_minor": 5
}
