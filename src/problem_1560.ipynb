{
 "cells": [
  {
   "cell_type": "markdown",
   "id": "fe8fb9f0-f58f-4600-9cfa-f586c6083b24",
   "metadata": {},
   "source": [
    "[Problem 1560](https://leetcode.com/problems/most-visited-sector-in-a-circular-track/description)"
   ]
  },
  {
   "cell_type": "code",
   "execution_count": 1,
   "id": "c0956941-1655-4954-b531-972d1ad0d44d",
   "metadata": {},
   "outputs": [],
   "source": [
    "from typing import List"
   ]
  },
  {
   "cell_type": "code",
   "execution_count": 2,
   "id": "92242e07-c32b-446f-883b-57b810f035ea",
   "metadata": {},
   "outputs": [],
   "source": [
    "class Solution:\n",
    "    def mostVisited(self, n: int, rounds: List[int]) -> List[int]:\n",
    "        left, right = rounds[0], rounds[-1]\n",
    "        res = [i for i in range(left, right + 1)] if right >= left else [i for i in range(1, right + 1)] + [i for i in range(left, n + 1)]\n",
    "        return res"
   ]
  },
  {
   "cell_type": "code",
   "execution_count": 3,
   "id": "90d0257a-9dbe-47c9-aaa6-37618a84262b",
   "metadata": {},
   "outputs": [],
   "source": [
    "sol = Solution()"
   ]
  },
  {
   "cell_type": "code",
   "execution_count": 4,
   "id": "338bb419-cf45-4c69-bb62-280093b54b01",
   "metadata": {},
   "outputs": [],
   "source": [
    "assert sol.mostVisited(4, [1,3,1,2]) == [1,2]"
   ]
  },
  {
   "cell_type": "code",
   "execution_count": 5,
   "id": "c6982987-1916-422e-8209-71420c2ba4df",
   "metadata": {},
   "outputs": [],
   "source": [
    "assert sol.mostVisited(2, [2,1,2,1,2,1,2,1,2]) == [2]"
   ]
  },
  {
   "cell_type": "code",
   "execution_count": 6,
   "id": "ed429621-31f6-46e5-899c-b43e92f2946e",
   "metadata": {},
   "outputs": [],
   "source": [
    "assert sol.mostVisited(7, [1,3,5,7]) == [1,2,3,4,5,6,7]"
   ]
  }
 ],
 "metadata": {
  "kernelspec": {
   "display_name": "Python 3 (ipykernel)",
   "language": "python",
   "name": "python3"
  },
  "language_info": {
   "codemirror_mode": {
    "name": "ipython",
    "version": 3
   },
   "file_extension": ".py",
   "mimetype": "text/x-python",
   "name": "python",
   "nbconvert_exporter": "python",
   "pygments_lexer": "ipython3",
   "version": "3.9.7"
  }
 },
 "nbformat": 4,
 "nbformat_minor": 5
}
