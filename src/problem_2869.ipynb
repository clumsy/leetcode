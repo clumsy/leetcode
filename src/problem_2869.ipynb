{
 "cells": [
  {
   "cell_type": "markdown",
   "id": "c8805e5c-2392-47f6-8998-530c0360df6b",
   "metadata": {},
   "source": [
    "[Problem 2869](https://leetcode.com/problems/minimum-operations-to-collect-elements/description)"
   ]
  },
  {
   "cell_type": "code",
   "execution_count": 1,
   "id": "9c45e3fb-f745-4605-8ab7-e29086c85426",
   "metadata": {},
   "outputs": [],
   "source": [
    "from typing import List"
   ]
  },
  {
   "cell_type": "code",
   "execution_count": 2,
   "id": "f823e677-ca42-44c5-85e9-3e63305c0eae",
   "metadata": {},
   "outputs": [],
   "source": [
    "class Solution:\n",
    "    def minOperations(self, nums: List[int], k: int) -> int:\n",
    "        last = {}\n",
    "        for i, e in enumerate(nums):\n",
    "            if e <= k:\n",
    "                last[e] = i\n",
    "        res = len(nums) - min(last.values())\n",
    "        return res"
   ]
  },
  {
   "cell_type": "code",
   "execution_count": 3,
   "id": "ba81ee00-2dc9-491f-b1b3-08d6260e57db",
   "metadata": {},
   "outputs": [],
   "source": [
    "class Solution:\n",
    "    def minOperations(self, nums: List[int], k: int) -> int:\n",
    "        vals, i = set(), len(nums) - 1\n",
    "        while len(vals) < k:\n",
    "            if nums[i] <= k:\n",
    "                vals.add(nums[i])\n",
    "            i -= 1\n",
    "        res = len(nums) - 1 - i\n",
    "        return res"
   ]
  },
  {
   "cell_type": "code",
   "execution_count": 4,
   "id": "ec6408f5-122a-47ca-8caa-ccccd68e027b",
   "metadata": {},
   "outputs": [],
   "source": [
    "sol = Solution()"
   ]
  },
  {
   "cell_type": "code",
   "execution_count": 5,
   "id": "67543bdf-1b2c-4f74-b750-7b9b9b6c0a17",
   "metadata": {},
   "outputs": [],
   "source": [
    "assert sol.minOperations([3,1,5,4,2], 2) == 4"
   ]
  },
  {
   "cell_type": "code",
   "execution_count": 6,
   "id": "7b222aa1-8960-4cb9-8037-391943d8a999",
   "metadata": {},
   "outputs": [],
   "source": [
    "assert sol.minOperations([3,1,5,4,2], 5) == 5"
   ]
  },
  {
   "cell_type": "code",
   "execution_count": 7,
   "id": "eb65a4d5-4a45-4516-a0ae-4e4f0e70a00d",
   "metadata": {},
   "outputs": [],
   "source": [
    "assert sol.minOperations([3,2,5,3,1], 3) == 4"
   ]
  }
 ],
 "metadata": {
  "kernelspec": {
   "display_name": "Python 3 (ipykernel)",
   "language": "python",
   "name": "python3"
  },
  "language_info": {
   "codemirror_mode": {
    "name": "ipython",
    "version": 3
   },
   "file_extension": ".py",
   "mimetype": "text/x-python",
   "name": "python",
   "nbconvert_exporter": "python",
   "pygments_lexer": "ipython3",
   "version": "3.9.7"
  }
 },
 "nbformat": 4,
 "nbformat_minor": 5
}
