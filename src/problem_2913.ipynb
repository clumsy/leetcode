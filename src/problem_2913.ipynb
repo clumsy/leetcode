{
 "cells": [
  {
   "cell_type": "markdown",
   "id": "491bf671-b9d3-4700-9e3c-92a2176e82d2",
   "metadata": {},
   "source": [
    "[Problem 2913](https://leetcode.com/problems/subarrays-distinct-element-sum-of-squares-i/description)"
   ]
  },
  {
   "cell_type": "code",
   "execution_count": 1,
   "id": "d4b432ac-6b0b-48f3-ad0d-a9fbbee3771c",
   "metadata": {},
   "outputs": [],
   "source": [
    "from typing import List"
   ]
  },
  {
   "cell_type": "code",
   "execution_count": 2,
   "id": "8d719c8e-7676-4183-8d76-9bc5e9d49446",
   "metadata": {},
   "outputs": [],
   "source": [
    "class Solution:\n",
    "    def sumCounts(self, nums: List[int]) -> int:\n",
    "        res, cnt, n = 0, set(), len(nums)\n",
    "        for i in range(n):\n",
    "            for j in range(i, n):\n",
    "                cnt.add(nums[j])\n",
    "                res += len(cnt) ** 2\n",
    "            cnt.clear()\n",
    "        return res"
   ]
  },
  {
   "cell_type": "code",
   "execution_count": 3,
   "id": "85c7026d-35b8-4fcd-8629-58fad0465744",
   "metadata": {},
   "outputs": [],
   "source": [
    "sol = Solution()"
   ]
  },
  {
   "cell_type": "code",
   "execution_count": 4,
   "id": "120de56d-e915-4536-9ff2-7627585edfa9",
   "metadata": {},
   "outputs": [],
   "source": [
    "assert sol.sumCounts([1,2,1]) == 15"
   ]
  },
  {
   "cell_type": "code",
   "execution_count": 5,
   "id": "40261afe-c5fc-41b1-8041-6c03191db1c3",
   "metadata": {},
   "outputs": [],
   "source": [
    "assert sol.sumCounts([1,1]) == 3"
   ]
  }
 ],
 "metadata": {
  "kernelspec": {
   "display_name": "Python 3 (ipykernel)",
   "language": "python",
   "name": "python3"
  },
  "language_info": {
   "codemirror_mode": {
    "name": "ipython",
    "version": 3
   },
   "file_extension": ".py",
   "mimetype": "text/x-python",
   "name": "python",
   "nbconvert_exporter": "python",
   "pygments_lexer": "ipython3",
   "version": "3.9.7"
  }
 },
 "nbformat": 4,
 "nbformat_minor": 5
}
