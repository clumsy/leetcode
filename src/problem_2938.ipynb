{
 "cells": [
  {
   "cell_type": "markdown",
   "id": "59a3eeac-c212-442e-aae9-6fd7e99f3f34",
   "metadata": {},
   "source": [
    "[Problem 2938](https://leetcode.com/problems/separate-black-and-white-balls/description)"
   ]
  },
  {
   "cell_type": "code",
   "execution_count": 1,
   "id": "209773f6-a174-458f-9bf4-cc1a534b9e28",
   "metadata": {},
   "outputs": [],
   "source": [
    "class Solution:\n",
    "    def minimumSteps(self, s: str) -> int:\n",
    "        res = wht = 0\n",
    "        for i, b in enumerate(s):\n",
    "            if b == \"0\":\n",
    "                res += i - wht\n",
    "                wht += 1\n",
    "        return res"
   ]
  },
  {
   "cell_type": "code",
   "execution_count": 2,
   "id": "51e27a7a-1b87-47e1-ac16-7ed73e3464a5",
   "metadata": {},
   "outputs": [],
   "source": [
    "sol = Solution()"
   ]
  },
  {
   "cell_type": "code",
   "execution_count": 3,
   "id": "fe8c8b3c-56f0-4efa-b26d-f73984a97c3e",
   "metadata": {},
   "outputs": [],
   "source": [
    "assert sol.minimumSteps(\"101\") == 1"
   ]
  },
  {
   "cell_type": "code",
   "execution_count": 4,
   "id": "fcf49299-da71-4ea3-b466-092de35d359e",
   "metadata": {},
   "outputs": [],
   "source": [
    "assert sol.minimumSteps(\"100\") == 2"
   ]
  },
  {
   "cell_type": "code",
   "execution_count": 5,
   "id": "171cf1d4-fb9c-4343-b519-44c9d7769899",
   "metadata": {},
   "outputs": [],
   "source": [
    "assert sol.minimumSteps(\"0111\") == 0"
   ]
  }
 ],
 "metadata": {
  "kernelspec": {
   "display_name": "Python 3 (ipykernel)",
   "language": "python",
   "name": "python3"
  },
  "language_info": {
   "codemirror_mode": {
    "name": "ipython",
    "version": 3
   },
   "file_extension": ".py",
   "mimetype": "text/x-python",
   "name": "python",
   "nbconvert_exporter": "python",
   "pygments_lexer": "ipython3",
   "version": "3.9.7"
  }
 },
 "nbformat": 4,
 "nbformat_minor": 5
}
